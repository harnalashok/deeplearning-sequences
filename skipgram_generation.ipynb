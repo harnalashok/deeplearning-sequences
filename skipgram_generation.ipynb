{
  "cells": [
    {
      "cell_type": "markdown",
      "metadata": {
        "id": "view-in-github",
        "colab_type": "text"
      },
      "source": [
        "<a href=\"https://colab.research.google.com/github/harnalashok/deeplearning-sequences/blob/main/skipgram_generation.ipynb\" target=\"_parent\"><img src=\"https://colab.research.google.com/assets/colab-badge.svg\" alt=\"Open In Colab\"/></a>"
      ]
    },
    {
      "cell_type": "code",
      "execution_count": null,
      "metadata": {
        "id": "Eg_Jjf8nfago"
      },
      "outputs": [],
      "source": [
        "\"\"\"\n",
        "Last amended: 3rd Nov, 2022\n",
        "My folder: C:\\Users\\Ashok\\OneDrive\\Documents\\skipgrams\n",
        "\n",
        "Ref:\n",
        "https://ljvmiranda921.github.io/notebook/2021/12/11/word-vectors/#pairs\n",
        "https://www.kaggle.com/competitions/word2vec-nlp-tutorial/overview/part-2-word-vectors\n",
        "https://www.tensorflow.org/api_docs/python/tf/keras/preprocessing/sequence/skipgrams\n",
        "https://stackoverflow.com/a/1994012\n",
        "\n",
        "Objectives:\n",
        "        i)   To get a skipgram paired sequence\n",
        "\n",
        "\"\"\""
      ]
    },
    {
      "cell_type": "markdown",
      "metadata": {
        "id": "OQ-997yOz5uF"
      },
      "source": [
        "## Install software"
      ]
    },
    {
      "cell_type": "code",
      "source": [
        "! pip install --upgrade gensim "
      ],
      "metadata": {
        "id": "2JjQbiFP_B1_",
        "outputId": "5be33c26-802f-40a7-b1a3-068fb611303a",
        "colab": {
          "base_uri": "https://localhost:8080/"
        }
      },
      "execution_count": 46,
      "outputs": [
        {
          "output_type": "stream",
          "name": "stdout",
          "text": [
            "Looking in indexes: https://pypi.org/simple, https://us-python.pkg.dev/colab-wheels/public/simple/\n",
            "Requirement already satisfied: gensim in /usr/local/lib/python3.7/dist-packages (4.2.0)\n",
            "Requirement already satisfied: smart-open>=1.8.1 in /usr/local/lib/python3.7/dist-packages (from gensim) (5.2.1)\n",
            "Requirement already satisfied: numpy>=1.17.0 in /usr/local/lib/python3.7/dist-packages (from gensim) (1.21.6)\n",
            "Requirement already satisfied: scipy>=0.18.1 in /usr/local/lib/python3.7/dist-packages (from gensim) (1.7.3)\n"
          ]
        }
      ]
    },
    {
      "cell_type": "markdown",
      "source": [
        "## Call libraries"
      ],
      "metadata": {
        "id": "OCeoUb-5Ummo"
      }
    },
    {
      "cell_type": "code",
      "execution_count": 47,
      "metadata": {
        "id": "YSOqIGBOg3O2"
      },
      "outputs": [],
      "source": [
        "# 1.0 Call libraries\n",
        "#%reset -f\n",
        "import pandas as pd\n",
        "import numpy as np\n",
        "\n",
        "# 1.1 Import module imdb & other keras modules\n",
        "import tensorflow as tf\n",
        "\n",
        "\n",
        "# 1.2 API to manipulate sequences of words\n",
        "from tensorflow.keras.preprocessing import sequence\n",
        "from tensorflow.keras.preprocessing.sequence import skipgrams\n",
        "\n",
        "# 1.3\n",
        "import gensim\n",
        "import re\n",
        "from bs4 import BeautifulSoup\n",
        "import nltk\n",
        "from nltk.corpus import stopwords\n",
        "from collections import Counter\n",
        "\n",
        "# 1.4\n",
        "import os\n",
        "from nltk.stem.porter import PorterStemmer\n",
        "from nltk.stem import WordNetLemmatizer\n"
      ]
    },
    {
      "cell_type": "code",
      "source": [
        "# 1.5 Download stopwords from nltk\n",
        "nltk.download('stopwords')\n"
      ],
      "metadata": {
        "id": "Ohr5xPzS_SHH",
        "outputId": "17ed8a28-4bf9-4624-dc03-a44628c69d9c",
        "colab": {
          "base_uri": "https://localhost:8080/"
        }
      },
      "execution_count": 48,
      "outputs": [
        {
          "output_type": "stream",
          "name": "stderr",
          "text": [
            "[nltk_data] Downloading package stopwords to /root/nltk_data...\n",
            "[nltk_data]   Package stopwords is already up-to-date!\n"
          ]
        },
        {
          "output_type": "execute_result",
          "data": {
            "text/plain": [
              "True"
            ]
          },
          "metadata": {},
          "execution_count": 48
        }
      ]
    },
    {
      "cell_type": "code",
      "execution_count": 49,
      "metadata": {
        "id": "iiSHMqm0iCMB"
      },
      "outputs": [],
      "source": [
        "# 1.6 Display multiple commands output from a cell\n",
        "from IPython.core.interactiveshell import InteractiveShell\n",
        "InteractiveShell.ast_node_interactivity = \"all\""
      ]
    },
    {
      "cell_type": "markdown",
      "source": [
        "## Useful functions\n"
      ],
      "metadata": {
        "id": "6zwRKrJ-SoHw"
      }
    },
    {
      "cell_type": "code",
      "source": [
        "# 2.0 Function to clean text (from Kaggle):\n",
        "\n",
        "def review_to_wordlist( review, remove_stopwords=False, stem = False):\n",
        "    # Function to convert a document to a sequence of words,\n",
        "    # optionally removing stop words.  Returns a list of words.\n",
        "    #\n",
        "    # 1. Remove HTML\n",
        "    review_text = BeautifulSoup(review).get_text()\n",
        "    #\n",
        "    # 2. Remove non-letters\n",
        "    review_text = re.sub(\"[^a-zA-Z]\",\" \", review_text)\n",
        "    # 3. Remove new lines\n",
        "    review_text = review_text.replace('\\n', '')\n",
        "    #\n",
        "    # 3. Convert words to lower case and split them\n",
        "    words = review_text.lower().split()\n",
        "    #\n",
        "    # 4. Optionally remove stop words (false by default)\n",
        "    if remove_stopwords:\n",
        "      stops = set(stopwords.words(\"english\"))\n",
        "      words = [w for w in words if not w in stops]\n",
        "    # 5. Optionally perform stemming (false by default)  \n",
        "    if stem:\n",
        "      stemmer = PorterStemmer()\n",
        "      words = [stemmer.stem(w) for w in words ]\n",
        "    # 5. Return a list of words\n",
        "    return(words)\n"
      ],
      "metadata": {
        "id": "Rd7J1O1r_gOv"
      },
      "execution_count": 50,
      "outputs": []
    },
    {
      "cell_type": "markdown",
      "source": [
        "## Read data\n",
        "Upload text file <i>'football.txt'</i> directly to `/content/` folder of colab virtual machine."
      ],
      "metadata": {
        "id": "qf0euAcqS0_H"
      }
    },
    {
      "cell_type": "code",
      "source": [
        "# 3.0 We will upload our text file (football.txt)\n",
        "#      directly to /content/ folder from our laptop:\n",
        "\n",
        "os.chdir(r\"/content/\")"
      ],
      "metadata": {
        "id": "RCJCK1CCJ8wT"
      },
      "execution_count": 51,
      "outputs": []
    },
    {
      "cell_type": "code",
      "source": [
        "# 3.1 Read foortball.txt:\n",
        "\n",
        "tx_data = pd.read_csv(\"combined.txt\", sep = \"\\t\", header = 'infer')\n",
        "tx_data.head()"
      ],
      "metadata": {
        "id": "w5rkqnFUJ08z",
        "outputId": "a3239934-8ac4-4d6f-d240-a0db7aa4d5f0",
        "colab": {
          "base_uri": "https://localhost:8080/",
          "height": 81
        }
      },
      "execution_count": 60,
      "outputs": [
        {
          "output_type": "execute_result",
          "data": {
            "text/plain": [
              "                                                text\n",
              "0  In ordinary language, a crime is an unlawful a..."
            ],
            "text/html": [
              "\n",
              "  <div id=\"df-939bb0bc-e71e-4130-a670-299835c00558\">\n",
              "    <div class=\"colab-df-container\">\n",
              "      <div>\n",
              "<style scoped>\n",
              "    .dataframe tbody tr th:only-of-type {\n",
              "        vertical-align: middle;\n",
              "    }\n",
              "\n",
              "    .dataframe tbody tr th {\n",
              "        vertical-align: top;\n",
              "    }\n",
              "\n",
              "    .dataframe thead th {\n",
              "        text-align: right;\n",
              "    }\n",
              "</style>\n",
              "<table border=\"1\" class=\"dataframe\">\n",
              "  <thead>\n",
              "    <tr style=\"text-align: right;\">\n",
              "      <th></th>\n",
              "      <th>text</th>\n",
              "    </tr>\n",
              "  </thead>\n",
              "  <tbody>\n",
              "    <tr>\n",
              "      <th>0</th>\n",
              "      <td>In ordinary language, a crime is an unlawful a...</td>\n",
              "    </tr>\n",
              "  </tbody>\n",
              "</table>\n",
              "</div>\n",
              "      <button class=\"colab-df-convert\" onclick=\"convertToInteractive('df-939bb0bc-e71e-4130-a670-299835c00558')\"\n",
              "              title=\"Convert this dataframe to an interactive table.\"\n",
              "              style=\"display:none;\">\n",
              "        \n",
              "  <svg xmlns=\"http://www.w3.org/2000/svg\" height=\"24px\"viewBox=\"0 0 24 24\"\n",
              "       width=\"24px\">\n",
              "    <path d=\"M0 0h24v24H0V0z\" fill=\"none\"/>\n",
              "    <path d=\"M18.56 5.44l.94 2.06.94-2.06 2.06-.94-2.06-.94-.94-2.06-.94 2.06-2.06.94zm-11 1L8.5 8.5l.94-2.06 2.06-.94-2.06-.94L8.5 2.5l-.94 2.06-2.06.94zm10 10l.94 2.06.94-2.06 2.06-.94-2.06-.94-.94-2.06-.94 2.06-2.06.94z\"/><path d=\"M17.41 7.96l-1.37-1.37c-.4-.4-.92-.59-1.43-.59-.52 0-1.04.2-1.43.59L10.3 9.45l-7.72 7.72c-.78.78-.78 2.05 0 2.83L4 21.41c.39.39.9.59 1.41.59.51 0 1.02-.2 1.41-.59l7.78-7.78 2.81-2.81c.8-.78.8-2.07 0-2.86zM5.41 20L4 18.59l7.72-7.72 1.47 1.35L5.41 20z\"/>\n",
              "  </svg>\n",
              "      </button>\n",
              "      \n",
              "  <style>\n",
              "    .colab-df-container {\n",
              "      display:flex;\n",
              "      flex-wrap:wrap;\n",
              "      gap: 12px;\n",
              "    }\n",
              "\n",
              "    .colab-df-convert {\n",
              "      background-color: #E8F0FE;\n",
              "      border: none;\n",
              "      border-radius: 50%;\n",
              "      cursor: pointer;\n",
              "      display: none;\n",
              "      fill: #1967D2;\n",
              "      height: 32px;\n",
              "      padding: 0 0 0 0;\n",
              "      width: 32px;\n",
              "    }\n",
              "\n",
              "    .colab-df-convert:hover {\n",
              "      background-color: #E2EBFA;\n",
              "      box-shadow: 0px 1px 2px rgba(60, 64, 67, 0.3), 0px 1px 3px 1px rgba(60, 64, 67, 0.15);\n",
              "      fill: #174EA6;\n",
              "    }\n",
              "\n",
              "    [theme=dark] .colab-df-convert {\n",
              "      background-color: #3B4455;\n",
              "      fill: #D2E3FC;\n",
              "    }\n",
              "\n",
              "    [theme=dark] .colab-df-convert:hover {\n",
              "      background-color: #434B5C;\n",
              "      box-shadow: 0px 1px 3px 1px rgba(0, 0, 0, 0.15);\n",
              "      filter: drop-shadow(0px 1px 2px rgba(0, 0, 0, 0.3));\n",
              "      fill: #FFFFFF;\n",
              "    }\n",
              "  </style>\n",
              "\n",
              "      <script>\n",
              "        const buttonEl =\n",
              "          document.querySelector('#df-939bb0bc-e71e-4130-a670-299835c00558 button.colab-df-convert');\n",
              "        buttonEl.style.display =\n",
              "          google.colab.kernel.accessAllowed ? 'block' : 'none';\n",
              "\n",
              "        async function convertToInteractive(key) {\n",
              "          const element = document.querySelector('#df-939bb0bc-e71e-4130-a670-299835c00558');\n",
              "          const dataTable =\n",
              "            await google.colab.kernel.invokeFunction('convertToInteractive',\n",
              "                                                     [key], {});\n",
              "          if (!dataTable) return;\n",
              "\n",
              "          const docLinkHtml = 'Like what you see? Visit the ' +\n",
              "            '<a target=\"_blank\" href=https://colab.research.google.com/notebooks/data_table.ipynb>data table notebook</a>'\n",
              "            + ' to learn more about interactive tables.';\n",
              "          element.innerHTML = '';\n",
              "          dataTable['output_type'] = 'display_data';\n",
              "          await google.colab.output.renderOutput(dataTable, element);\n",
              "          const docLink = document.createElement('div');\n",
              "          docLink.innerHTML = docLinkHtml;\n",
              "          element.appendChild(docLink);\n",
              "        }\n",
              "      </script>\n",
              "    </div>\n",
              "  </div>\n",
              "  "
            ]
          },
          "metadata": {},
          "execution_count": 60
        }
      ]
    },
    {
      "cell_type": "code",
      "source": [
        "# 3.2 Examine relevant column:\n",
        "tx_data['text']\n"
      ],
      "metadata": {
        "id": "_WDt6aLNMQPw",
        "colab": {
          "base_uri": "https://localhost:8080/"
        },
        "outputId": "9c22224b-3d5a-4dc1-f86a-4fdd94022e1a"
      },
      "execution_count": 61,
      "outputs": [
        {
          "output_type": "execute_result",
          "data": {
            "text/plain": [
              "0    In ordinary language, a crime is an unlawful a...\n",
              "Name: text, dtype: object"
            ]
          },
          "metadata": {},
          "execution_count": 61
        }
      ]
    },
    {
      "cell_type": "code",
      "source": [
        "# 3.3 Get complete text as a list of one string:\n",
        "\n",
        "text = list(tx_data['text'])\n",
        "text"
      ],
      "metadata": {
        "id": "M83260BQMh0I",
        "colab": {
          "base_uri": "https://localhost:8080/"
        },
        "outputId": "8638c256-df76-4c30-a25d-936a9ce8d543"
      },
      "execution_count": 62,
      "outputs": [
        {
          "output_type": "execute_result",
          "data": {
            "text/plain": [
              "['In ordinary language, a crime is an unlawful act punishable by a state or other authority.[1] The term crime does not, in modern criminal law, have any simple and universally accepted definition,[2] though statutory definitions have been provided for certain purposes.[3] The most popular view is that crime is a category created by law; in other words, something is a crime if declared as such by the relevant and applicable law.[2] One proposed definition is that a crime or offence (or criminal offence) is an act harmful not only to some individual but also to a community, society, or the state (\"a public wrong\"). Such acts are forbidden and punishable by law.[1][4] The notion that acts such as murder, rape, and theft are to be prohibited exists worldwide.[5] What precisely is a criminal offence is defined by the criminal law of each relevant jurisdiction. While many have a catalogue of crimes called the criminal code, in some common law nations no such comprehensive statute exists. The state (government) has the power to severely restrict one\\'s liberty for committing a crime. In modern societies, there are procedures to which investigations and trials must adhere. If found guilty, an offender may be sentenced to a form of reparation such as a community sentence, or, depending on the nature of their offence, to undergo imprisonment, life imprisonment or, in some jurisdictions, death. Some jurisdictions sentence individuals to programs to emphasize or provide for their rehabilitation while most jurisdictions sentence individuals with the goal of punishing them or a mix of the aforementioned practices.[citation needed] Usually, to be classified as a crime, the \"act of doing something criminal\" (actus reus) must\\xa0– with certain exceptions\\xa0– be accompanied by the \"intention to do something criminal\" (mens rea).[4] While every crime violates the law, not every violation of the law counts as a crime. Breaches of private law (torts and breaches of contract) are not automatically punished by the state, but can be enforced through civil procedure. When informal relationships prove insufficient to establish and maintain a desired social order, a government or a state may impose more formalized or stricter systems of social control. With institutional and legal machinery at their disposal, agents of the state can compel populations to conform to codes and can opt to punish or attempt to reform those who do not conform. Authorities employ various mechanisms to regulate (encouraging or discouraging) certain behaviors in general. Governing or administering agencies may for example codify rules into laws, police citizens and visitors to ensure that they comply with those laws, and implement other policies and practices that legislators or administrators have prescribed with the aim of discouraging or preventing crime. In addition, authorities provide remedies and sanctions, and collectively these constitute a criminal justice system. Legal sanctions vary widely in their severity; they may include (for example) incarceration of temporary character aimed at reforming the convict. Some jurisdictions have penal codes written to inflict permanent harsh punishments: legal mutilation, capital punishment, or life without parole. Usually, a natural person perpetrates a crime, but legal persons may also commit crimes. Historically, several premodern societies believed that non-human animals were capable of committing crimes, and prosecuted and punished them accordingly.[6] The sociologist Richard Quinney has written about the relationship between society and crime. When Quinney states \"crime is a social phenomenon\" he envisages both how individuals conceive crime and how populations perceive it, based on societal norms.[7] The word crime is derived from the Latin root cernō, meaning \"I decide, I give judgment\". Originally the Latin word crīmen meant \"charge\" or \"cry of distress\".[8] The Ancient Greek word κρίμα, krima, from which the Latin cognate derives, typically referred to an intellectual mistake or an offense against the community, rather than a private or moral wrong.[9] In 13th century English crime meant \"sinfulness\", according to the Online Etymology Dictionary. It was probably brought to England as Old French crimne (12th century form of Modern French crime), from Latin crimen (in the genitive case: criminis). In Latin, crimen could have signified any one of the following: \"charge, indictment, accusation; crime, fault, offense\". The word may derive from the Latin cernere – \"to decide, to sift\" (see crisis, mapped on Kairos and Chronos). But Ernest Klein (citing Karl Brugmann) rejects this and suggests *cri-men, which originally would have meant \"cry of distress\". Thomas G. Tucker suggests a root in \"cry\" words and refers to English plaint, plaintiff, and so on. The meaning \"offense punishable by law\" dates from the late 14th century. The Latin word is glossed in Old English by facen, also \"deceit, fraud, treachery\", [cf. fake]. Crime wave is first attested in 1893 in American English. Whether a given act or omission constitutes a crime does not depend on the nature of that act or omission; it depends on the nature of the legal consequences that may follow it.[10] An act or omission is a crime if it is capable of being followed by what are called criminal proceedings.[11][12] The following definition of crime was provided by the Prevention of Crimes Act 1871, and applied[13] for the purposes of section 10 of the Prevention of Crime Act 1908: The expression \"crime\" means, in England and Ireland, any felony or the offence of uttering false or counterfeit coin, or of possessing counterfeit gold or silver coin, or the offence of obtaining goods or money by false pretences, or the offence of conspiracy to defraud, or any misdemeanour under the fifty-eighth section of the Larceny Act, 1861.For the purpose of section 243 of the Trade Union and Labour Relations (Consolidation) Act 1992, a crime means an offence punishable on indictment, or an offence punishable on summary conviction, and for the commission of which the offender is liable under the statute making the offence punishable to be imprisoned either absolutely or at the discretion of the court as an alternative for some other punishment.[14] A normative definition views crime as deviant behavior that violates prevailing norms\\xa0– cultural standards prescribing how humans ought to behave normally. This approach considers the complex realities surrounding the concept of crime and seeks to understand how changing social, political, psychological, and economic conditions may affect changing definitions of crime and the form of the legal, law-enforcement, and penal responses made by society. These structural realities remain fluid and often contentious. For example: as cultures change and the political environment shifts, societies may criminalise or decriminalise certain behaviours, which directly affects the statistical crime rates, influence the allocation of resources for the enforcement of laws, and (re-)influence the general public opinion. Similarly, changes in the collection and/or calculation of data on crime may affect the public perceptions of the extent of any given \"crime problem\". All such adjustments to crime statistics, allied with the experience of people in their everyday lives, shape attitudes on the extent to which the state should use law or social engineering to enforce or encourage any particular social norm. Behaviour can be controlled and influenced by a society in many ways without having to resort to the criminal justice system. Indeed, in those cases where no clear consensus exists on a given norm, the drafting of criminal law by the group in power to prohibit the behaviour of another group may seem to some observers an improper limitation of the second group\\'s freedom, and the ordinary members of society have less respect for the law or laws in general\\xa0– whether the authorities actually enforce the disputed law or not. Legislatures can pass laws (called mala prohibita) that define crimes against social norms. These laws vary from time to time and from place to place: note variations in gambling laws, for example, and the prohibition or encouragement of duelling in history. Other crimes, called mala in se, count as outlawed in almost all societies, (murder, theft and rape, for example). English criminal law and the related criminal law of Commonwealth countries can define offences that the courts alone have developed over the years, without any actual legislation: common law offences. The courts used the concept of malum in se to develop various common law offences.[15] One can view criminalization as a procedure deployed by society as a preemptive harm-reduction device, using the threat of punishment as a deterrent to anyone proposing to engage in the behavior causing harm. The state becomes involved because governing entities can become convinced that the costs of not criminalizing (through allowing the harms to continue unabated) outweigh the costs of criminalizing it (restricting individual liberty, for example, to minimize harm to others).[citation needed] States control the process of criminalization because: The label of \"crime\" and the accompanying social stigma normally confine their scope to those activities seen as injurious to the general population or to the state, including some that cause serious loss or damage to individuals. Those who apply the labels of \"crime\" or \"criminal\" intend to assert the hegemony of a dominant population, or to reflect a consensus of condemnation for the identified behavior and to justify any punishments prescribed by the state (if standard processing tries and convicts an accused person of a crime). Justifying the state\\'s use of force to coerce compliance with its laws has proven a consistent theoretical problem. One of the earliest justifications involved the theory of natural law. This posits that the nature of the world or of human beings underlies the standards of morality or constructs them. Thomas Aquinas wrote in the 13th century: \"the rule and measure of human acts is the reason, which is the first principle of human acts\".[18] He regarded people as by nature rational beings, concluding that it becomes morally appropriate that they should behave in a way that conforms to their rational nature. Thus, to be valid, any law must conform to natural law and coercing people to conform to that law is morally acceptable. In the 1760s, William Blackstone described the thesis:[19] But John Austin (1790–1859), an early positivist, applied utilitarianism in accepting the calculating nature of human beings and the existence of an objective morality. He denied that the legal validity of a norm depends on whether its content conforms to morality. Thus in Austinian terms, a moral code can objectively determine what people ought to do, the law can embody whatever norms the legislature decrees to achieve social utility, but every individual remains free to choose what to do. Similarly, H.L.A. Hart saw the law as an aspect of sovereignty, with lawmakers able to adopt any law as a means to a moral end.[20] Thus the necessary and sufficient conditions for the truth of a proposition of law simply involved internal logic and consistency, and that the state\\'s agents used state power with responsibility. Ronald Dworkin rejects Hart\\'s theory and proposes that all individuals should expect the equal respect and concern of those who govern them as a fundamental political right. He offers a theory of compliance overlaid by a theory of deference (the citizen\\'s duty to obey the law) and a theory of enforcement, which identifies the legitimate goals of enforcement and punishment. Legislation must conform to a theory of legitimacy, which describes the circumstances under which a particular person or group is entitled to make law, and a theory of legislative justice, which describes the law they are entitled or obliged to make.[21] There are natural-law theorists who have accepted the idea of enforcing the prevailing morality as a primary function of the law.[22] This view entails the problem that it makes any moral criticism of the law impossible: if conformity with natural law forms a necessary condition for legal validity, all valid law must, by definition, count as morally just. Thus, on this line of reasoning, the legal validity of a norm necessarily entails its moral justice.[23] One can solve this problem by granting some degree of moral relativism and accepting that norms may evolve over time and, therefore, one can criticize the continued enforcement of old laws in the light of the current norms. People may find such law acceptable, but the use of state power to coerce citizens to comply with that law lacks moral justification. More recent conceptions of the theory characterise crime as the violation of individual rights. Since society considers so many rights as natural (hence the term right) rather than man-made, what constitutes a crime also counts as natural, in contrast to laws (seen as man-made). Adam Smith illustrates this view, saying that a smuggler would be an excellent citizen, \"...had not the laws of his country made that a crime which nature never meant to be so.\" Natural-law theory therefore distinguishes between \"criminality\" (which derives from human nature) and \"illegality\" (which originates with the interests of those in power). Lawyers sometimes express the two concepts with the phrases malum in se and malum prohibitum respectively. They regard a \"crime malum in se\" as inherently criminal; whereas a \"crime malum prohibitum\" (the argument goes) counts as criminal only because the law has decreed it so. It follows from this view that one can perform an illegal act without committing a crime, while a criminal act could be perfectly legal. Many Enlightenment thinkers (such as Adam Smith and the American Founding Fathers) subscribed to this view to some extent, and it remains influential among so-called classical liberals[citation needed] and libertarians.[citation needed] Some religious communities regard sin as a crime; some may even highlight the crime of sin very early in legendary or mythological accounts of origins\\xa0– note the tale of Adam and Eve and the theory of original sin. What one group considers a crime may cause or ignite war or conflict. However, the earliest known civilizations had codes of law, containing both civil and penal rules mixed together, though not always in recorded form. The Sumerians produced the earliest surviving written codes.[24] Urukagina (reigned c.\\u20092380 BC\\xa0– c.\\u20092360 BC, short chronology) had an early code that has not survived; a later king, Ur-Nammu, left the earliest extant written law system, the Code of Ur-Nammu (c.\\u20092100\\xa0– c.\\u20092050 BC), which prescribed a formal system of penalties for specific cases in 57 articles. The Sumerians later issued other codes, including the \"code of Lipit-Ishtar\". This code, from the 20th century BCE, contains some fifty articles, and scholars have reconstructed it by comparing several sources. The Sumerian was deeply conscious of his personal rights and resented any encroachment on them, whether by his King, his superior, or his equal. No wonder that the Sumerians were the first to compile laws and law codes.Successive legal codes in Babylon, including the code of Hammurabi (c.\\u20091790 BC), reflected Mesopotamian society\\'s belief that law derived from the will of the gods (see Babylonian law).[26][27] Many states at this time functioned as theocracies, with codes of conduct largely religious in origin or reference. In the Sanskrit texts of Dharmaśāstra (c.\\u20091250 BC), issues such as legal and religious duties, code of conduct, penalties and remedies, etc. have been discussed and forms one of the elaborate and earliest source of legal code.[28][29] Sir Henry Maine studied the ancient codes available in his day, and failed to find any criminal law in the \"modern\" sense of the word.[30] While modern systems distinguish between offences against the \"state\" or \"community\", and offences against the \"individual\", the so-called penal law of ancient communities did not deal with \"crimes\" (Latin: crimina), but with \"wrongs\" (Latin: delicta). Thus the Hellenic laws treated all forms of theft, assault, rape, and murder as private wrongs, and left action for enforcement up to the victims or their survivors. The earliest systems seem to have lacked formal courts.[31][32] The Romans systematized law and applied their system across the Roman Empire. Again, the initial rules of Roman law regarded assaults as a matter of private compensation. The most significant Roman law concept involved dominion.[33] The pater familias owned all the family and its property (including slaves); the pater enforced matters involving interference with any property. The Commentaries of Gaius (written between 130 and 180 AD) on the Twelve Tables treated furtum (in modern parlance: \"theft\") as a tort. Similarly, assault and violent robbery involved trespass as to the pater\\'s property (so, for example, the rape of a slave could become the subject of compensation to the pater as having trespassed on his \"property\"), and breach of such laws created a vinculum juris (an obligation of law) that only the payment of monetary compensation (modern \"damages\") could discharge. Similarly, the consolidated Teutonic laws of the Germanic tribes,[34] included a complex system of monetary compensations for what courts would now[update] consider the complete[citation needed] range of criminal offences against the person, from murder down. Even though Rome abandoned its Britannic provinces around 400 AD, the Germanic mercenaries\\xa0– who had largely become instrumental in enforcing Roman rule in Britannia\\xa0– acquired ownership of land there and continued to use a mixture of Roman and Teutonic Law, with much written down under the early Anglo-Saxon kings.[35] But only when a more centralized English monarchy emerged following the Norman invasion, and when the kings of England attempted to assert power over the land and its peoples, did the modern concept emerge, namely of a crime not only as an offence against the \"individual\", but also as a wrong against the \"state\".[36] This idea came from common law, and the earliest conception of a criminal act involved events of such major significance that the \"state\" had to usurp the usual functions of the civil tribunals, and direct a special law or privilegium against the perpetrator. All the earliest English criminal trials involved wholly extraordinary and arbitrary courts without any settled law to apply, whereas the civil (delictual) law operated in a highly developed and consistent manner (except where a king wanted to raise money by selling a new form of writ). The development of the idea that the \"state\" dispenses justice in a court only emerges in parallel with or after the emergence of the concept of sovereignty. In continental Europe, Roman law persisted, but with a stronger influence from the Christian Church.[37] Coupled with the more diffuse political structure based on smaller feudal units, various legal traditions emerged, remaining more strongly rooted in Roman jurisprudence, but modified to meet the prevailing political climate. In Scandinavia the effect of Roman law did not become apparent until the 17th century, and the courts grew out of the things\\xa0– the assemblies of the people. The people decided the cases (usually with largest freeholders dominating). This system later gradually developed into a system with a royal judge nominating a number of the most esteemed men of the parish as his board, fulfilling the function of \"the people\" of yore. From the Hellenic system onwards, the policy rationale for requiring the payment of monetary compensation for wrongs committed has involved the avoidance of feuding between clans and families.[38] If compensation could mollify families\\' feelings, this would help to keep the peace. On the other hand, the institution of oaths also played down the threat of feudal warfare. Both in archaic Greece and in medieval Scandinavia, an accused person walked free if he could get a sufficient number of male relatives to swear him not guilty. (Compare the United Nations Security Council, in which the veto power of the permanent members ensures that the organization does not become involved in crises where it could not enforce its decisions.) These means of restraining private feuds did not always work, and sometimes prevented the fulfillment of justice. But in the earliest times the \"state\" did not always provide an independent policing force. Thus criminal law grew out of what 21st-century lawyers would call torts; and, in real terms, many acts and omissions classified as crimes actually overlap with civil-law concepts. The development of sociological thought from the 19th century onwards prompted some fresh views on crime and criminality, and fostered the beginnings of criminology as a study of crime in society. Nietzsche noted a link between crime and creativity\\xa0– in The Birth of Tragedy he asserted:[needs context] \"The best and brightest that man can acquire he must obtain by crime\". In the 20th century, Michel Foucault in Discipline and Punish made a study of criminalization as a coercive method of state control. The following classes of offences are used, or have been used, as legal terms: Researchers and commentators have classified crimes into the following categories, in addition to those above: One can categorise crimes depending on the related punishment, with sentencing tariffs prescribed in line with the perceived seriousness of the offence. Thus fines and noncustodial sentences may address the crimes seen as least serious, with lengthy imprisonment or (in some jurisdictions) capital punishment reserved for the most serious. Under the common law of England, crimes were classified as either treason, felony or misdemeanour, with treason sometimes being included with the felonies. This system was based on the perceived seriousness of the offence. It is still used in the United States but the distinction between felony and misdemeanour is abolished in England, Wales and Northern Ireland. The following classes of offence are based on mode of trial: In common law countries, crimes may be categorised into common law offences and statutory offences. In the US, Australia and Canada (in particular), they are divided into federal crimes and under state crimes. In the United States since 1930, the FBI has tabulated Uniform Crime Reports (UCR) annually from crime data submitted by law enforcement agencies across the United States.[54] Officials compile this data at the city, county, and state levels into the UCR. They classify violations of laws based on common law as Part I (index) crimes in UCR data. These are further categorized as violent or property crimes. Part I violent crimes include murder and criminal homicide (voluntary manslaughter), forcible rape, aggravated assault, and robbery; while Part I property crimes include burglary, arson, larceny/theft, and motor-vehicle theft. All other crimes count come under Part II. For convenience, such lists usually include infractions although, in the U.S., they may come into the sphere not of the criminal law, but rather of the civil law. Compare tortfeasance. Booking arrests require detention for a time-frame ranging 1 to 24 hours. There are several national and International organizations offering studies and statistics about global and local crime activity, such as United Nations Office on Drugs and Crime, the United States of America Overseas Security Advisory Council (OSAC) safety report or national reports generated by the law-enforcement authorities of EU state member reported to the Europol. In England and Wales, as well as in Hong Kong, the term \"offence\" means the same thing as \"crime\",[11] They are further split into: Many different causes and correlates of crime have been proposed with varying degree of empirical support. They include socioeconomic, psychological, biological, and behavioral factors. Controversial topics include media violence research and effects of gun politics. Emotional state (both chronic and current) have a tremendous impact on individual thought processes and, as a result, can be linked to criminal activities. The positive psychology concept of Broaden and Build posits that cognitive functioning expands when an individual is in a good-feeling emotional state and contracts as emotional state declines.[55] In positive emotional states an individual is able to consider more possible solutions to problems, but in lower emotional states fewer solutions can be ascertained. The narrowed thought-action repertoires can result in the only paths perceptible to an individual being ones they would never use if they saw an alternative, but if they can\\'t conceive of the alternatives that carry less risk they will choose one that they can see. Criminals who commit even the most horrendous of crimes, such as mass murders, did not see another solution.[56] Crimes defined by treaty as crimes against international law include: From the point of view of state-centric law, extraordinary procedures (international courts or national courts operating with universal jurisdiction) may prosecute such crimes. Note the role of the International Criminal Court at The Hague in the Netherlands.[citation needed] Different religious traditions may promote distinct norms of behaviour, and these in turn may clash or harmonise with the perceived interests of a state. Socially accepted or imposed religious morality has influenced secular jurisdictions on issues that may otherwise concern only an individual\\'s conscience. Activities sometimes criminalized on religious grounds include (for example) alcohol consumption (prohibition), abortion and stem-cell research. In various historical and present-day societies, institutionalized religions have established systems of earthly justice that punish crimes against the divine will and against specific devotional, organizational and other rules under specific codes, such as Roman Catholic canon law and Islamic Shariah Law. In the military sphere, authorities can prosecute both regular crimes and specific acts (such as mutiny or desertion) under martial-law codes that either supplant or extend civil codes in times of (for example) war. Many constitutions contain provisions to curtail freedoms and criminalize otherwise tolerated behaviors under a state of emergency in case of war, natural disaster or civil unrest. Undesired activities at such times may include assembly in the streets, violation of curfew, or possession of firearms. Two common types of employee crime exist: embezzlement and wage theft. The complexity and anonymity of computer systems may help criminal employees camouflage their operations. The victims of the most costly scams include banks, brokerage houses, insurance companies, and other large financial institutions.[57] In the United States, it is estimated[by whom?] that $40 billion to $60 billion are lost annually due to all forms of wage theft.[58] This compares to national annual losses of $340 million due to robbery, $4.1 billion due to burglary, $5.3 billion due to larceny, and $3.8 billion due to auto theft in 2012.[59] In Singapore, as in the United States, wage theft was found to be widespread and severe. In a 2014 survey it was found that as many as one-third of low wage male foreign workers in Singapore, or about 130,000, were affected by wage theft from partial to full denial of pay.[60] Football is a family of team sports that involve, to varying degrees, kicking a ball to score a goal.  Unqualified, the word football normally means the form of football that is the most popular where the word is used. Sports commonly called football include association football (known as soccer in North America and Oceania); gridiron football (specifically American football or Canadian football); Australian rules football; rugby union and rugby league; and Gaelic football.[1] These various forms of football share to varying extent common origins and are known as football codes. There are a number of references to traditional, ancient, or prehistoric ball games played in many different parts of the world.[2][3][4] Contemporary codes of football can be traced back to the codification of these games at English public schools during the 19th century.[5][6] The expansion and cultural influence of the British Empire allowed these rules of football to spread to areas of British influence outside the directly controlled Empire.[7]  By the end of the 19th century, distinct regional codes were already developing: Gaelic football, for example, deliberately incorporated the rules of local traditional football games in order to maintain their heritage.[8]  In 1888, The Football League was founded in England, becoming the first of many professional football associations. During the 20th century, several of the various kinds of football grew to become some of the most popular team sports in the world.[9] The various codes of football share certain common elements and can be grouped into two main classes of football: carrying codes like American football, Canadian football, Australian football, rugby union and rugby league, where the ball is moved about the field while being held in the hands or thrown, and kicking codes such as Association football and Gaelic football, where the ball is moved primarily with the feet, and where handling is strictly limited.[10] Common rules among the sports include:[11] In all codes, common skills include passing, tackling, evasion of tackles, catching and kicking.[10] In most codes, there are rules restricting the movement of players offside, and players scoring a goal must put the ball either under or over a crossbar between the goalposts. There are conflicting explanations of the origin of the word \"football\".  It is widely assumed that the word \"football\" (or the phrase \"foot ball\") refers to the action of the foot kicking a ball.[12]  There is an alternative explanation, which is that football originally referred to a variety of games in medieval Europe, which were played on foot. There is no conclusive evidence for either explanation. The Chinese competitive game cuju (蹴鞠) resembles modern association football (soccer),[13] descriptions appear in a military manual dated to the second and third centuries BC.[14]  It existed during the Han dynasty and possibly the Qin dynasty, in the second and third centuries BC.[15]  The Japanese version of cuju is kemari (蹴鞠), and was developed during the Asuka period.[16] This is known to have been played within the Japanese imperial court in Kyoto from about 600\\xa0AD. In kemari several people stand in a circle and kick a ball to each other, trying not to let the ball drop to the ground (much like keepie uppie). The Ancient Greeks and Romans are known to have played many ball games, some of which involved the use of the feet. The Roman game harpastum is believed to have been adapted from a Greek team game known as \"ἐπίσκυρος\" (Episkyros)[17][18] or \"φαινίνδα\" (phaininda),[19] which is mentioned by a Greek playwright, Antiphanes (388–311\\xa0BC) and later referred to by the Christian theologian Clement of Alexandria (c. 150 – c. 215\\xa0AD). These games appear to have resembled rugby football.[20][21][22][23][24] The Roman politician Cicero (106–43\\xa0BC) describes the case of a man who was killed whilst having a shave when a ball was kicked into a barber\\'s shop. Roman ball games already knew the air-filled ball, the follis.[25][26] Episkyros is recognised as an early form of football by FIFA.[27] There are a number of references to traditional, ancient, or prehistoric ball games, played by indigenous peoples in many different parts of the world. For example, in 1586, men from a ship commanded by an English explorer named John Davis, went ashore to play a form of football with Inuit in Greenland.[28] There are later accounts of an Inuit game played on ice, called Aqsaqtuk. Each match began with two teams facing each other in parallel lines, before attempting to kick the ball through each other team\\'s line and then at a goal. In 1610, William Strachey, a colonist at Jamestown, Virginia recorded a game played by Native Americans, called Pahsaheman.[citation needed] Pasuckuakohowog, a game similar to modern-day association football played amongst Amerindians, was also reported as early as the 17th century. Games played in Mesoamerica with rubber balls by indigenous peoples are also well-documented as existing since before this time, but these had more similarities to basketball or volleyball, and no links have been found between such games and modern football sports. Northeastern American Indians, especially the Iroquois Confederation, played a game which made use of net racquets to throw and catch a small ball; however, although it is a ball-goal foot game, lacrosse (as its modern descendant is called) is likewise not usually classed as a form of \"football.\"[citation needed] On the Australian continent several tribes of indigenous people played kicking and catching games with stuffed balls which have been generalised by historians as Marn Grook (Djab Wurrung for \"game ball\"). The earliest historical account is an anecdote from the 1878 book by Robert Brough-Smyth, The Aborigines of Victoria, in which a man called Richard Thomas is quoted as saying, in about 1841 in Victoria, Australia, that he had witnessed Aboriginal people playing the game: \"Mr Thomas describes how the foremost player will drop kick a ball made from the skin of a possum and how other players leap into the air in order to catch it.\" Some historians have theorised that Marn Grook was one of the origins of Australian rules football. The Māori in New Zealand played a game called Ki-o-rahi consisting of teams of seven players play on a circular field divided into zones, and score points by touching the \\'pou\\' (boundary markers) and hitting a central \\'tupu\\' or target.[citation needed] These games and others may well go far back into antiquity. However, the main sources of modern football codes appear to lie in western Europe, especially England. Mahmud al-Kashgari in his Dīwān Lughāt al-Turk, described a game called \"tepuk\" among Turks in Central Asia. In the game, people try to attack each other\\'s castle by kicking a ball made of sheep leather.[29] Ancient Greek athlete balancing a ball on his thigh, Piraeus, 400-375 BC A Song dynasty painting by Su Hanchen (c. 1130-1160), depicting Chinese children playing cuju Paint of a Mesoamerican ballgame player of the Tepantitla murals in Teotihuacan A group of indigenous people playing a ball game in French Guiana An illustration from the 1850s of indigenous Australians playing marn grook A revived version of kemari being played at the Tanzan Shrine, Japan, 2006 The Middle Ages saw a huge rise in popularity of annual Shrovetide football matches throughout Europe, particularly in England. An early reference to a ball game played in Britain comes from the 9th-century Historia Brittonum, attributed to Nennius, which describes \"a party of boys ... playing at ball\".[30] References to a ball game played in northern France known as La Soule or Choule, in which the ball was propelled by hands, feet, and sticks,[31] date from the 12th century.[32] The early forms of football played in England, sometimes referred to as \"mob football\", would be played in towns or between neighbouring villages, involving an unlimited number of players on opposing teams who would clash en masse,[33] struggling to move an item, such as inflated animal\\'s bladder[34] to particular geographical points, such as their opponents\\' church, with play taking place in the open space between neighbouring parishes.[35] The game was played primarily during significant religious festivals, such as Shrovetide, Christmas, or Easter,[34] and Shrovetide games have survived into the modern era in a number of English towns (see below). The first detailed description of what was almost certainly football in England was given by William FitzStephen in about 1174–1183. He described the activities of London youths during the annual festival of Shrove Tuesday: After lunch all the youth of the city go out into the fields to take part in a ball game. The students of each school have their own ball; the workers from each city craft are also carrying their balls. Older citizens, fathers, and wealthy citizens come on horseback to watch their juniors competing, and to relive their own youth vicariously: you can see their inner passions aroused as they watch the action and get caught up in the fun being had by the carefree adolescents.[36]Most of the very early references to the game speak simply of \"ball play\" or \"playing at ball\". This reinforces the idea that the games played at the time did not necessarily involve a ball being kicked. An early reference to a ball game that was probably football comes from 1280 at Ulgham, Northumberland, England:  \"Henry... while playing at ball.. ran against David\".[37]  Football was played in Ireland in 1308, with a documented reference to John McCrocan, a spectator at a \"football game\" at Newcastle, County Down being charged with accidentally stabbing a player named William Bernard.[38]  Another reference to a football game comes in 1321 at Shouldham, Norfolk, England: \"[d]uring the game at ball as he kicked the ball, a lay friend of his... ran against him and wounded himself\".[37] In 1314, Nicholas de Farndone, Lord Mayor of the City of London issued a decree banning football in the French used by the English upper classes at the time. A translation reads: \"[f]orasmuch as there is great noise in the city caused by hustling over large foot balls [rageries de grosses pelotes de pee][39] in the fields of the public from which many evils might arise which God forbid: we command and forbid on behalf of the king, on pain of imprisonment, such game to be used in the city in the future.\" This is the earliest reference to football. In 1363, King Edward III of England issued a proclamation banning \"...handball, football, or hockey; coursing and cock-fighting, or other such idle games\",[40] showing that \"football\" – whatever its exact form in this case – was being differentiated from games involving other parts of the body, such as handball. A game known as \"football\" was played in Scotland as early as the 15th century: it was prohibited by the Football Act 1424 and although the law fell into disuse it was not repealed until 1906. There is evidence for schoolboys playing a \"football\" ball game in Aberdeen in 1633 (some references cite 1636) which is notable as an early allusion to what some have considered to be passing the ball. The word \"pass\" in the most recent translation is derived from \"huc percute\" (strike it here) and later \"repercute pilam\" (strike the ball again) in the original Latin. It is not certain that the ball was being struck between members of the same team. The original word translated as \"goal\" is \"metum\", literally meaning the \"pillar at each end of the circus course\" in a Roman chariot race. There is a reference to \"get hold of the ball before [another player] does\" (Praeripe illi pilam si possis agere) suggesting that handling of the ball was allowed. One sentence states in the original 1930 translation \"Throw yourself against him\" (Age, objice te illi). King Henry IV of England also presented one of the earliest documented uses of the English word \"football\", in 1409, when he issued a proclamation forbidding the levying of money for \"foteball\".[37][41] There is also an account in Latin from the end of the 15th century of football being played at Caunton, Nottinghamshire. This is the first description of a \"kicking game\" and the first description of dribbling: \"[t]he game at which they had met for common recreation is called by some the foot-ball game. It is one in which young men, in country sport, propel a huge ball not by throwing it into the air but by striking it and rolling it along the ground, and that not with their hands but with their feet... kicking in opposite directions.\" The chronicler gives the earliest reference to a football pitch, stating that: \"[t]he boundaries have been marked and the game had started.[37] Other firsts in the medieval and early modern eras: In the 16th century, the city of Florence celebrated the period between Epiphany and Lent by playing a game which today is known as \"calcio storico\" (\"historic kickball\") in the Piazza Santa Croce.[45] The young aristocrats of the city would dress up in fine silk costumes and embroil themselves in a violent form of football. For example, calcio players could punch, shoulder charge, and kick opponents. Blows below the belt were allowed. The game is said to have originated as a military training exercise. In 1580, Count Giovanni de\\' Bardi di Vernio wrote Discorso sopra \\'l giuoco del Calcio Fiorentino. This is sometimes said to be the earliest code of rules for any football game. The game was not played after January 1739 (until it was revived in May 1930). There have been many attempts to ban football, from the middle ages through to the modern day. The first such law was passed in England in 1314; it was followed by more than 30 in England alone between 1314 and 1667.[46]:\\u200a6\\u200a Women were banned from playing at English and Scottish Football League grounds in 1921, a ban that was only lifted in the 1970s. Female footballers still face similar problems in some parts of the world. American football also faced pressures to ban the sport.  The game played in the 19th century resembled mob football that developed in medieval Europe, including a version popular on university campuses known as Old division football, and several municipalities banned its play in the mid-19th century.[47][48] By the 20th century, the game had evolved to a more rugby style game.  In 1905, there were calls to ban American football in the U.S. due to its violence; a meeting that year was hosted by American president Theodore Roosevelt led to sweeping rules changes that caused the sport to diverge significantly from its rugby roots to become more like the sport as it is played today.[49] While football continued to be played in various forms throughout Britain, its public schools (equivalent to private schools in other countries) are widely credited with four key achievements in the creation of modern football codes. First of all, the evidence suggests that they were important in taking football away from its \"mob\" form and turning it into an organised team sport. Second, many early descriptions of football and references to it were recorded by people who had studied at these schools. Third, it was teachers, students, and former students from these schools who first codified football games, to enable matches to be played between schools. Finally, it was at English public schools that the division between \"kicking\" and \"running\" (or \"carrying\") games first became clear. The earliest evidence that games resembling football were being played at English public schools – mainly attended by boys from the upper, upper-middle and professional classes – comes from the Vulgaria by William Herman in 1519. Herman had been headmaster at Eton and Winchester colleges and his Latin textbook includes a translation exercise with the phrase \"We wyll playe with a ball full of wynde\".[50] Richard Mulcaster, a student at Eton College in the early 16th century and later headmaster at other English schools, has been described as \"the greatest sixteenth Century advocate of football\".[51] Among his contributions are the earliest evidence of organised team football. Mulcaster\\'s writings refer to teams (\"sides\" and \"parties\"), positions (\"standings\"), a referee (\"judge over the parties\") and a coach \"(trayning maister)\". Mulcaster\\'s \"footeball\" had evolved from the disordered and violent forms of traditional football: [s]ome smaller number with such overlooking, sorted into sides and standings, not meeting with their bodies so boisterously to trie their strength: nor shouldring or shuffing one an other so barbarously ... may use footeball for as much good to the body, by the chiefe use of the legges.[52]In 1633, David Wedderburn, a teacher from Aberdeen, mentioned elements of modern football games in a short Latin textbook called Vocabula. Wedderburn refers to what has been translated into modern English as \"keeping goal\" and makes an allusion to passing the ball (\"strike it here\"). There is a reference to \"get hold of the ball\", suggesting that some handling was allowed. It is clear that the tackles allowed included the charging and holding of opposing players (\"drive that man back\").[53] A more detailed description of football is given in Francis Willughby\\'s Book of Games, written in about 1660.[54] Willughby, who had studied at Bishop Vesey\\'s Grammar School, Sutton Coldfield, is the first to describe goals and a distinct playing field: \"a close that has a gate at either end. The gates are called Goals.\" His book includes a diagram illustrating a football field. He also mentions tactics (\"leaving some of their best players to guard the goal\"); scoring (\"they that can strike the ball through their opponents\\' goal first win\") and the way teams were selected (\"the players being equally divided according to their strength and nimbleness\"). He is the first to describe a \"law\" of football: \"they must not strike [an opponent\\'s leg] higher than the ball\".[55][56] English public schools were the first to codify football games. In particular, they devised the first offside rules, during the late 18th century.[57] In the earliest manifestations of these rules, players were \"off their side\" if they simply stood between the ball and the goal which was their objective. Players were not allowed to pass the ball forward, either by foot or by hand. They could only dribble with their feet, or advance the ball in a scrum or similar formation. However, offside laws began to diverge and develop differently at each school, as is shown by the rules of football from Winchester, Rugby, Harrow and Cheltenham, during between 1810 and 1850.[57] The first known codes – in the sense of a set of rules – were those of Eton in 1815[58] and Aldenham in 1825.[58]) During the early 19th century, most working-class people in Britain had to work six days a week, often for over twelve hours a day. They had neither the time nor the inclination to engage in sport for recreation and, at the time, many children were part of the labour force. Feast day football played on the streets was in decline. Public school boys, who enjoyed some freedom from work, became the inventors of organised football games with formal codes of rules. Football was adopted by a number of public schools as a way of encouraging competitiveness and keeping youths fit. Each school drafted its own rules, which varied widely between different schools and were changed over time with each new intake of pupils. Two schools of thought developed regarding rules. Some schools favoured a game in which the ball could be carried (as at Rugby, Marlborough and Cheltenham), while others preferred a game where kicking and dribbling the ball was promoted (as at Eton, Harrow, Westminster and Charterhouse). The division into these two camps was partly the result of circumstances in which the games were played. For example, Charterhouse and Westminster at the time had restricted playing areas; the boys were confined to playing their ball game within the school cloisters, making it difficult for them to adopt rough and tumble running games.[citation needed] William Webb Ellis, a pupil at Rugby School, is said to have \"with a fine disregard for the rules of football, as played in his time [emphasis added], first took the ball in his arms and ran with it, thus creating the distinctive feature of the rugby game.\" in 1823. This act is usually said to be the beginning of Rugby football, but there is little evidence that it occurred, and most sports historians believe the story to be apocryphal. The act of \\'taking the ball in his arms\\' is often misinterpreted as \\'picking the ball up\\' as it is widely believed that Webb Ellis\\' \\'crime\\' was handling the ball, as in modern association football, however handling the ball at the time was often permitted and in some cases compulsory,[59] the rule for which Webb Ellis showed disregard was running forward with it as the rules of his time only allowed a player to retreat backwards or kick forwards. The boom in rail transport in Britain during the 1840s meant that people were able to travel further and with less inconvenience than they ever had before. Inter-school sporting competitions became possible. However, it was difficult for schools to play each other at football, as each school played by its own rules. The solution to this problem was usually that the match be divided into two halves, one half played by the rules of the host \"home\" school, and the other half by the visiting \"away\" school. The modern rules of many football codes were formulated during the mid- or late- 19th century. This also applies to other sports such as lawn bowls, lawn tennis, etc. The major impetus for this was the patenting of the world\\'s first lawnmower in 1830. This allowed for the preparation of modern ovals, playing fields, pitches, grass courts, etc.[60] Apart from Rugby football, the public school codes have barely been played beyond the confines of each school\\'s playing fields. However, many of them are still played at the schools which created them (see Surviving UK school games below). Public schools\\' dominance of sports in the UK began to wane after the Factory Act of 1850, which significantly increased the recreation time available to working class children. Before 1850, many British children had to work six days a week, for more than twelve hours a day. From 1850, they could not work before 6\\xa0a.m. (7\\xa0a.m. in winter) or after 6\\xa0p.m. on weekdays (7\\xa0p.m. in winter); on Saturdays they had to cease work at 2\\xa0p.m. These changes meant that working class children had more time for games, including various forms of football. The earliest known matches between public schools are as follows: Sports clubs dedicated to playing football began in the 18th century, for example London\\'s Gymnastic Society which was founded in the mid-18th century and ceased playing matches in 1796.[64][62] The first documented club to bear in the title a reference to being a \\'football club\\' were called \"The Foot-Ball Club\" who were located in Edinburgh, Scotland, during the period 1824–41.[65][66]  The club forbade tripping but allowed pushing and holding and the picking up of the ball.[66] In 1845, three boys at Rugby school were tasked with codifying the rules then being used at the school. These were the first set of written rules (or code) for any form of football.[67] This further assisted the spread of the Rugby game. The earliest known matches involving non-public school clubs or institutions are as follows: One of the longest running football fixture is the Cordner-Eggleston Cup, contested between Melbourne Grammar School and Scotch College, Melbourne every year since 1858. It is believed by many to also be the first match of Australian rules football, although it was played under experimental rules in its first year. The first football trophy tournament was the Caledonian Challenge Cup, donated by the Royal Caledonian Society of Melbourne, played in 1861 under the Melbourne Rules.[79]  The oldest football league is a rugby football competition, the United Hospitals Challenge Cup (1874), while the oldest rugby trophy is the Yorkshire Cup, contested since 1878. The South Australian Football Association (30 April 1877) is the oldest surviving Australian rules football competition. The oldest surviving soccer trophy is the Youdan Cup (1867) and the oldest national football competition is the English FA Cup (1871). The Football League (1888) is recognised as the longest running Association Football league. The first ever international football match took place between sides representing England and Scotland on 5 March 1870 at the Oval under the authority of the FA. The first Rugby international took place in 1871. In Europe, early footballs were made out of animal bladders, more specifically pig\\'s bladders, which were inflated. Later leather coverings were introduced to allow the balls to keep their shape.[80] However, in 1851, Richard Lindon and William Gilbert, both shoemakers from the town of Rugby (near the school), exhibited both round and oval-shaped balls at the Great Exhibition in London. Richard Lindon\\'s wife is said to have died of lung disease caused by blowing up pig\\'s bladders.[81] Lindon also won medals for the invention of the \"Rubber inflatable Bladder\" and the \"Brass Hand Pump\". In 1855, the U.S. inventor Charles Goodyear – who had patented vulcanised rubber – exhibited a spherical football, with an exterior of vulcanised rubber panels, at the Paris Exhibition Universelle. The ball was to prove popular in early forms of football in the U.S.[82] The iconic ball with a regular pattern of hexagons and pentagons (see truncated icosahedron) did not become popular until the 1960s, and was first used in the World Cup in 1970. The earliest reference to a game of football involving players passing the ball and attempting to score past a goalkeeper was written in 1633 by David Wedderburn, a poet and teacher in Aberdeen, Scotland.[83]  Nevertheless, the original text does not state whether the allusion to passing as \\'kick the ball back\\' (\\'Repercute pilam\\') was in a forward or backward direction or between members of the same opposing teams (as was usual at this time)[84] \"Scientific\" football is first recorded in 1839 from Lancashire[85] and in the modern game in Rugby football from 1862[86] and from Sheffield FC as early as 1865.[87][88]  The first side to play a passing combination game was the Royal Engineers AFC in 1869/70[89][90] By 1869 they were \"work[ing] well together\", \"backing up\" and benefiting from \"cooperation\".[91] By 1870 the Engineers were passing the ball: \"Lieut. Creswell, who having brought the ball up the side then kicked it into the middle to another of his side, who kicked it through the posts the minute before time was called\".[92] Passing was a regular feature of their style.[93] By early 1872 the Engineers were the first football team renowned for \"play[ing] beautifully together\".[94] A double pass is first reported from Derby school against Nottingham Forest in March 1872, the first of which is irrefutably a short pass: \"Mr Absey dribbling the ball half the length of the field delivered it to Wallis, who kicking it cleverly in front of the goal, sent it to the captain who drove it at once between the Nottingham posts\".[95] The first side to have perfected the modern formation was Cambridge University AFC[96][97][98] and introduced the 2–3–5 \"pyramid\" formation.[99][100] Rugby football was thought to have been started about 1845 at Rugby School in Rugby, Warwickshire, England although forms of football in which the ball was carried and tossed date to medieval times. In Britain, by 1870, there were 49 clubs playing variations of the Rugby school game.[101] There were also \"rugby\" clubs in Ireland, Australia, Canada and New Zealand. However, there was no generally accepted set of rules for rugby until 1871, when 21 clubs from London came together to form the Rugby Football Union (RFU). The first official RFU rules were adopted in June 1871.[102] These rules allowed passing the ball. They also included the try, where touching the ball over the line allowed an attempt at goal, though drop-goals from marks and general play, and penalty conversions were still the main form of contest. Regardless of any form of football, the first international match between the national team of England and Scotland took place at Raeburn Place on 27 March 1871. Rugby football split into Rugby union, Rugby league, American football, and Canadian football. Tom Wills played Rugby football in England before founding Australian rules football. During the nineteenth century, several codifications of the rules of football were made at the University of Cambridge, in order to enable students from different public schools to play each other.  The Cambridge Rules of 1863 influenced the decision of Football Association to ban Rugby-style carrying of the ball in its own first set of laws.[103] By the late 1850s, many football clubs had been formed throughout the English-speaking world, to play various codes of football. Sheffield Football Club, founded in 1857 in the English city of Sheffield by Nathaniel Creswick and William Prest, was later recognised as the world\\'s oldest club playing association football.[104] However, the club initially played its own code of football: the Sheffield rules. The code was largely independent of the public school rules, the most significant difference being the lack of an offside rule. The code was responsible for many innovations that later spread to association football. These included free kicks, corner kicks, handball, throw-ins and the crossbar.[105] By the 1870s they became the dominant code in the north and midlands of England. At this time a series of rule changes by both the London and Sheffield FAs gradually eroded the differences between the two games until the adoption of a common code in 1877. There is archival evidence of \"foot-ball\" games being played in various parts of Australia throughout the first half of the 19th century. The origins of an organised game of football known today as Australian rules football can be traced back to 1858 in Melbourne, the capital city of Victoria. In July 1858, Tom Wills, an Australian-born cricketer educated at Rugby School in England, wrote a letter to Bell\\'s Life in Victoria & Sporting Chronicle, calling for a \"foot-ball club\" with a \"code of laws\" to keep cricketers fit during winter.[106] This is considered by historians to be a defining moment in the creation of Australian rules football. Through publicity and personal contacts Wills was able to co-ordinate football matches in Melbourne that experimented with various rules,[107] the first of which was played on 31 July 1858. One week later, Wills umpired a schoolboys match between Melbourne Grammar School and Scotch College. Following these matches, organised football in Melbourne rapidly increased in popularity. Wills and others involved in these early matches formed the Melbourne Football Club (the oldest surviving Australian football club) on 14 May 1859. Club members Wills, William Hammersley, J. B. Thompson and Thomas H. Smith met with the intention of forming a set of rules that would be widely adopted by other clubs. The committee debated rules used in English public school games; Wills pushed for various rugby football rules he learnt during his schooling. The first rules share similarities with these games, and were shaped to suit to Australian conditions. H. C. A. Harrison, a seminal figure in Australian football, recalled that his cousin Wills wanted \"a game of our own\".[108] The code was distinctive in the prevalence of the mark, free kick, tackling, lack of an offside rule and that players were specifically penalised for throwing the ball. The Melbourne football rules were widely distributed and gradually adopted by the other Victorian clubs. The rules were updated several times during the 1860s to accommodate the rules of other influential Victorian football clubs. A significant redraft in 1866 by H. C. A. Harrison\\'s committee accommodated the Geelong Football Club\\'s rules, making the game then known as \"Victorian Rules\" increasingly distinct from other codes. It soon adopted cricket fields and an oval ball, used specialised goal and behind posts, and featured bouncing the ball while running and spectacular high marking. The game spread quickly to other Australian colonies. Outside its heartland in southern Australia, the code experienced a significant period of decline following World War I but has since grown throughout Australia and in other parts of the world, and the Australian Football League emerged as the dominant professional competition. During the early 1860s, there were increasing attempts in England to unify and reconcile the various public school games. In 1862, J. C. Thring, who had been one of the driving forces behind the original Cambridge Rules, was a master at Uppingham School and he issued his own rules of what he called \"The Simplest Game\" (these are also known as the Uppingham Rules). In early October 1863 another new revised version of the Cambridge Rules was drawn up by a seven member committee representing former pupils from Harrow, Shrewsbury, Eton, Rugby, Marlborough and Westminster. At the Freemasons\\' Tavern, Great Queen Street, London on the evening of 26 October 1863, representatives of several football clubs in the London Metropolitan area met for the inaugural meeting of The Football Association (FA). The aim of the Association was to establish a single unifying code and regulate the playing of the game among its members. Following the first meeting, the public schools were invited to join the association. All of them declined, except Charterhouse and Uppingham. In total, six meetings of the FA were held between October and December 1863. After the third meeting, a draft set of rules were published. However, at the beginning of the fourth meeting, attention was drawn to the recently published Cambridge Rules of 1863. The Cambridge rules differed from the draft FA rules in two significant areas; namely running with (carrying) the ball and hacking (kicking opposing players in the shins). The two contentious FA rules were as follows: IX. A player shall be entitled to run with the ball towards his adversaries\\' goal if he makes a fair catch, or catches the ball on the first bound; but in case of a fair catch, if he makes his mark he shall not run. X. If any player shall run with the ball towards his adversaries\\' goal, any player on the opposite side shall be at liberty to charge, hold, trip or hack him, or to wrest the ball from him, but no player shall be held and hacked at the same time.[109]At the fifth meeting it was proposed that these two rules be removed. Most of the delegates supported this, but F. M. Campbell, the representative from Blackheath and the first FA treasurer, objected. He said: \"hacking is the true football\". However, the motion to ban running with the ball in hand and hacking was carried and Blackheath withdrew from the FA. After the final meeting on 8 December, the FA published the \"Laws of Football\", the first comprehensive set of rules for the game later known as Association Football. The term \"soccer\", in use since the late 19th century, derives from an Oxford University abbreviation of \"Association\".[110] The first FA rules still contained elements that are no longer part of association football, but which are still recognisable in other games (such as Australian football and rugby football): for instance, a player could make a fair catch and claim a mark, which entitled him to a free kick; and if a player touched the ball behind the opponents\\' goal line, his side was entitled to a free kick at goal, from 15\\xa0yards (13.5\\xa0metres) in front of the goal line. As was the case in Britain, by the early 19th century, North American schools and universities played their own local games, between sides made up of students. For example, students at Dartmouth College in New Hampshire played a game called Old division football, a variant of the association football codes, as early as the 1820s.[48] They remained largely \"mob football\" style games, with huge numbers of players attempting to advance the ball into a goal area, often by any means necessary. Rules were simple, violence and injury were common.[47] The violence of these mob-style games led to widespread protests and a decision to abandon them. Yale University, under pressure from the city of New Haven, banned the play of all forms of football in 1860, while Harvard University followed suit in 1861.[47] In its place, two general types of football evolved: \"kicking\" games and \"running\" (or \"carrying\") games. A hybrid of the two, known as the \"Boston game\", was played by a group known as the Oneida Football Club. The club, considered by some historians as the first formal football club in the United States, was formed in 1862 by schoolboys who played the \"Boston game\" on Boston Common.[47][111] The game began to return to American college campuses by the late 1860s. The universities of Yale, Princeton (then known as the College of New Jersey), Rutgers, and Brown all began playing \"kicking\" games during this time. In 1867, Princeton used rules based on those of the English Football Association.[47] In Canada, the first documented football match was a practice game played on 9 November 1861, at University College, University of Toronto (approximately 400 yards west of Queen\\'s Park). One of the participants in the game involving University of Toronto students was (Sir) William Mulock, later Chancellor of the school.[113]  In 1864, at Trinity College, Toronto, F. Barlow Cumberland, Frederick A. Bethune, and Christopher Gwynn, one of the founders of Milton, Massachusetts, devised rules based on rugby football.[113] A \"running game\", resembling rugby football, was then taken up by the Montreal Football Club in Canada in 1868.[114] On 6 November 1869, Rutgers faced Princeton in a game that was played with a round ball and, like all early games, used improvised rules. It is usually regarded as the first game of American intercollegiate football.[47][115] Modern North American football grew out of a match between McGill University of Montreal and Harvard University in 1874. During the game, the two teams alternated between the rugby-based rules used by McGill and the Boston Game rules used by Harvard.[116][117][118] Within a few years, Harvard had both adopted McGill\\'s rules and persuaded other U.S. university teams to do the same. On 23 November 1876, representatives from Harvard, Yale, Princeton, and Columbia met at the Massasoit Convention in Springfield, Massachusetts, agreeing to adopt most of the Rugby Football Union rules, with some variations.[119] In 1880, Yale coach Walter Camp, who had become a fixture at the Massasoit House conventions where the rules were debated and changed, devised a number of major innovations. Camp\\'s two most important rule changes that diverged the American game from rugby were replacing the scrummage with the line of scrimmage and the establishment of the down-and-distance rules.[119] American football still however remained a violent sport where collisions often led to serious injuries and sometimes even death.[120] This led U.S. President Theodore Roosevelt to hold a meeting with football representatives from Harvard, Yale, and Princeton on 9 October 1905, urging them to make drastic changes.[121] One rule change introduced in 1906, devised to open up the game and reduce injury, was the introduction of the legal forward pass. Though it was underutilised for years, this proved to be one of the most important rule changes in the establishment of the modern game.[122] Over the years, Canada absorbed some of the developments in American football in an effort to distinguish it from a more rugby-oriented game. In 1903, the Ontario Rugby Football Union adopted the Burnside rules, which implemented the line of scrimmage and down-and-distance system from American football, among others.[123] Canadian football then implemented the legal forward pass in 1929.[124] American and Canadian football remain different codes, stemming from rule changes that the American side of the border adopted but the Canadian side has not. In the mid-19th century, various traditional football games, referred to collectively as caid, remained popular in Ireland, especially in County Kerry. One observer, Father W. Ferris, described two main forms of caid during this period: the \"field game\" in which the object was to put the ball through arch-like goals, formed from the boughs of two trees; and the epic \"cross-country game\" which took up most of the daylight hours of a Sunday on which it was played, and was won by one team taking the ball across a parish boundary. \"Wrestling\", \"holding\" opposing players, and carrying the ball were all allowed. By the 1870s, Rugby and Association football had started to become popular in Ireland. Trinity College Dublin was an early stronghold of Rugby (see the Developments in the 1850s section, above). The rules of the English FA were being distributed widely. Traditional forms of caid had begun to give way to a \"rough-and-tumble game\" which allowed tripping. There was no serious attempt to unify and codify Irish varieties of football, until the establishment of the Gaelic Athletic Association (GAA) in 1884. The GAA sought to promote traditional Irish sports, such as hurling and to reject imported games like Rugby and Association football. The first Gaelic football rules were drawn up by Maurice Davin and published in the United Ireland magazine on 7 February 1887.[125] Davin\\'s rules showed the influence of games such as hurling and a desire to formalise a distinctly Irish code of football. The prime example of this differentiation was the lack of an offside rule (an attribute which, for many years, was shared only by other Irish games like hurling, and by Australian rules football). The International Rugby Football Board (IRFB) was founded in 1886,[126] but rifts were beginning to emerge in the code. Professionalism had already begun to creep into the various codes of football. In England, by the 1890s, a long-standing Rugby Football Union ban on professional players was causing regional tensions within rugby football, as many players in northern England were working class and could not afford to take time off to train, travel, play and recover from injuries. This was not very different from what had occurred ten years earlier in soccer in Northern England but the authorities reacted very differently in the RFU, attempting to alienate the working class support in Northern England. In 1895, following a dispute about a player being paid broken time payments, which replaced wages lost as a result of playing rugby, representatives of the northern clubs met in Huddersfield to form the Northern Rugby Football Union (NRFU). The new body initially permitted only various types of player wage replacements. However, within two years, NRFU players could be paid, but they were required to have a job outside sport. The demands of a professional league dictated that rugby had to become a better \"spectator\" sport. Within a few years the NRFU rules had started to diverge from the RFU, most notably with the abolition of the line-out. This was followed by the replacement of the ruck with the \"play-the-ball ruck\", which allowed a two-player ruck contest between the tackler at marker and the player tackled. Mauls were stopped once the ball carrier was held, being replaced by a play-the ball-ruck. The separate Lancashire and Yorkshire competitions of the NRFU merged in 1901, forming the Northern Rugby League, the first time the name rugby league was used officially in England. Over time, the RFU form of rugby, played by clubs which remained members of national federations affiliated to the IRFB, became known as rugby union. The need for a single body to oversee association football had become apparent by the beginning of the 20th century, with the increasing popularity of international fixtures. The English Football Association had chaired many discussions on setting up an international body, but was perceived as making no progress. It fell to associations from seven other European countries: France, Belgium, Denmark, Netherlands, Spain, Sweden, and Switzerland, to form an international association. The Fédération Internationale de Football Association (FIFA) was founded in Paris on 21 May 1904.[127] Its first president was Robert Guérin.[127] The French name and acronym has remained, even outside French-speaking countries. Rugby league rules diverged significantly from rugby union in 1906, with the reduction of the team from 15 to 13 players. In 1907, a New Zealand professional rugby team toured Australia and Britain, receiving an enthusiastic response, and professional rugby leagues were launched in Australia the following year. However, the rules of professional games varied from one country to another, and negotiations between various national bodies were required to fix the exact rules for each international match. This situation endured until 1948, when at the instigation of the French league, the Rugby League International Federation (RLIF) was formed at a meeting in Bordeaux. During the second half of the 20th century, the rules changed further. In 1966, rugby league officials borrowed the American football concept of downs: a team was allowed to retain possession of the ball for four tackles (rugby union retains the original rule that a player who is tackled and brought to the ground must release the ball immediately).  The maximum number of tackles was later increased to six (in 1971), and in rugby league this became known as the six tackle rule. With the advent of full-time professionals in the early 1990s, and the consequent speeding up of the game, the five metre off-side distance between the two teams became 10\\xa0metres, and the replacement rule was superseded by various interchange rules, among other changes. The laws of rugby union also changed during the 20th century, although less significantly than those of rugby league. In particular, goals from marks were abolished, kicks directly into touch from outside the 22 metre line were penalised, new laws were put in place to determine who had possession following an inconclusive ruck or maul, and the lifting of players in line-outs was legalised. In 1995, rugby union became an \"open\" game, that is one which allowed professional players.[128] Although the original dispute between the two codes has now disappeared – and despite the fact that officials from both forms of rugby football have sometimes mentioned the possibility of re-unification – the rules of both codes and their culture have diverged to such an extent that such an event is unlikely in the foreseeable future. The word football, when used in reference to a specific game can mean any one of those described above. Because of this, much controversy has occurred over the term football, primarily because it is used in different ways in different parts of the English-speaking world. Most often, the word \"football\" is used to refer to the code of football that is considered dominant within a particular region (which is association football in most countries). So, effectively, what the word \"football\" means usually depends on where one says it. In each of the United Kingdom, the United States, and Canada, one football code is known solely as \"football\", while the others generally require a qualifier. In New Zealand, \"football\" historically referred to rugby union, but more recently may be used unqualified to refer to association football. The sport meant by the word \"football\" in Australia is either Australian rules football or rugby league, depending on local popularity (which largely conforms to the Barassi Line). In francophone Quebec, where Canadian football is more popular, the Canadian code is known as le football while American football is known as le football américain and association football is known as le soccer.[129] Of the 45 national FIFA (Fédération Internationale de Football Association) affiliates in which English is an official or primary language, most currently use Football in their organisations\\' official names; the FIFA affiliates in Canada and the United States use Soccer in their names. A few FIFA affiliates have recently \"normalised\" to using \"Football\", including: Several of the football codes are the most popular team sports in the world.[9] Globally, association football is played by over 250 million players in over 200 nations,[134] and has the highest television audience in sport,[135] making it the most popular in the world.[136] American football, with 1.1\\xa0million high school football players and nearly 70,000 college football players, is the most popular sport in the United States,[137][138] with the annual Super Bowl game accounting for nine of the top ten of the most watched broadcasts in U.S. television history.[139] The NFL has the highest average attendance (67,591) of any professional sports league in the world and has the highest revenue[140] out of any single professional sports league.[141] Thus, the best association football and American football players are among the highest paid athletes in the world.[142][143][144] Australian rules football has the highest spectator attendance of all sports in Australia.[145][146] Similarly, Gaelic football is the most popular sport in Ireland in terms of match attendance,[147] and the All-Ireland Football Final is the most watched event of that nation\\'s sporting year.[148] Rugby union is the most popular sport in New Zealand, Samoa, Tonga, and Fiji.[149] It is also the fastest growing sport in the U.S.[150][151][152][153] with college rugby being the fastest growing[clarification needed][154][155] college sport in that country.[156][dubious  – discuss] These codes have in common the prohibition of the use of hands (by all players except the goalkeeper, though outfield players can \"throw-in\" the ball when it goes out of play), unlike other codes where carrying or handling the ball by all players is allowed The hockey game bandy has rules partly based on the association football rules and is sometimes nicknamed as \\'winter football\\'. There are also motorsport variations of the game. These codes have in common the ability of players to carry the ball with their hands, and to throw it to teammates, unlike association football where the use of hands during play is prohibited by anyone except the goalkeeper.  They also feature various methods of scoring based upon whether the ball is carried into the goal area, or kicked above the goalposts. These codes have in common the absence of an offside rule, the prohibition of continuous carrying of the ball (requiring a periodic bounce or solo (toe-kick), depending on the code) while running, handpassing by punching or tapping the ball rather than throwing it, and other traditions. Games still played at UK public (independent) schools: Note: although similar to football and volleyball in some aspects, Sepak takraw has ancient origins and cannot be considered a hybrid game. Hockey is a term used to denote various types of both summer and winter team sports which originated on either an outdoor field, sheet of ice, or dry floor such as in a gymnasium. There are many types of hockey. Some games make the use of skates, either wheeled, or bladed while others do not. In order to help make the distinction between these various games, the word \"hockey\" is often preceded by another word i.e. \"field hockey\", \"ice hockey\", \"roller hockey\", \"rink hockey\", or \"floor hockey\". In each of these sports, two teams play against each other by trying to manoeuvre the object of play, either a type of ball or a disk (such as a puck), into the opponent\\'s goal using a hockey stick. Two notable exceptions use a straight stick and an open disk (still referred to as a \"puck\") with a hole in the center instead. The first case is a style of floor hockey whose rules were codified in 1936 during the Great Depression by Canada\\'s Sam Jacks. The second case involves a variant which was later modified in roughly the 1970s to make a related game that would be considered suitable for inclusion as a team sport in the newly emerging Special Olympics. The floor game of gym ringette, though related to floor hockey, is not a true variant due to the fact that it was designed in the 1990s and modelled off of the Canadian ice skating team sport of ringette, which was invented in Canada in 1963. Ringette was also invented by Sam Jacks, the same Canadian who codified the rules for the open disk style of floor hockey 1936. In most of the world, the term hockey by itself refers to field hockey, while in Canada, the United States, Russia and most of Eastern and Northern Europe, the term usually refers to ice hockey.[1] In more recent history, the word \"hockey\" is used in reference to either the summer sport of field hockey, which is a stick and ball game, and the winter ice team skating sports of bandy and ice hockey. This is due to the fact that field hockey and other stick and ball sports and their related variants preceded games which would eventually be played on ice with ice skates, namely bandy and ice hockey, as well as sports involving dry floors such as roller hockey and floor hockey. However, the \"hockey\" referred to in common parlance often depends on locale, geography, and the size and popularity of the sport involved. For example, in Europe, \"hockey\" more typically refers to field hockey, whereas in Canada, it typically refers to ice hockey. In the case of bandy, the game was initially called \"hockey on the ice\" and preceded the organization and development of ice hockey, but was officially changed to \"bandy\" in the early 20th century in order to avoid confusion with ice hockey, a separate sport. The first recorded use of the word hockey is in the 1773 book Juvenile Sports and Pastimes, to Which Are Prefixed, Memoirs of the Author: Including a New Mode of Infant Education by Richard Johnson (Pseud. Master Michel Angelo), whose chapter XI was titled \"New Improvements on the Game of Hockey\".[2] The belief that hockey was mentioned in a 1363 proclamation by King Edward III of England[3] is based on modern translations of the proclamation, which was originally in Latin and explicitly forbade the games \"Pilam Manualem, Pedivam, & Bacularem: & ad Canibucam & Gallorum Pugnam\".[4][5] The English historian and biographer John Strype did not use the word \"hockey\" when he translated the proclamation in 1720, instead translating \"Canibucam\" as \"Cambuck\";[6] this may have referred to either an early form of hockey or a game more similar to golf or croquet.[7] The word hockey itself is of unknown origin. One supposition is that it is a derivative of hoquet, a Middle French word for a shepherd\\'s stave.[8] The curved, or \"hooked\" ends of the sticks used for hockey would indeed have resembled these staves. Another supposition derives from the known use of cork bungs (stoppers), in place of wooden balls to play the game. The stoppers came from barrels containing \"hock\" ale, also called \"hocky\".[9] Games played with curved sticks and a ball can be found in the histories of many cultures. In Egypt, 4000-year-old carvings feature teams with sticks and a projectile, hurling dates to before 1272 BC in Ireland, and there is a depiction from approximately 600 BC in Ancient Greece, where the game may have been called kerētízein or (κερητίζειν) because it was played with a horn or horn-like stick (kéras, κέρας).[10] In Inner Mongolia, the Daur people have been playing beikou, a game similar to modern field hockey, for about 1,000 years.[11] Most evidence of hockey-like games during the Middle Ages is found in legislation concerning sports and games. The Galway Statute enacted in Ireland in 1527 banned certain types of ball games, including games using \"hooked\" (written \"hockie\", similar to \"hooky\") sticks.[12] ...at no tyme to use ne occupye the horlinge of the litill balle with hockie stickes or staves, nor use no hande ball to play withoute walles, but only greate foote balle[13] By the 19th century, the various forms and divisions of historic games began to differentiate and coalesce into the individual sports defined today. Organizations dedicated to the codification of rules and regulations began to form, and national and international bodies sprang up to manage domestic and international competition. Bandy is played with a ball on a football pitch-sized ice arena (bandy rink), typically outdoors, and with many rules similar to association football. It is played professionally in Russia and Sweden. The sport is recognized by the IOC; its international governing body is the Federation of International Bandy. Bandy has its roots in England in the 19th century, was originally called \"hockey on the ice\",[14] and spread from England to other European countries around 1900; a similar Russian sport can also be seen as a predecessor and in Russia, bandy is sometimes called \"Russian hockey\". Bandy World Championships have been played since 1957 and Women\\'s Bandy World Championships since 2004. There are national club championships in many countries and the top clubs in the world play in the Bandy World Cup every year. Field hockey is played on gravel, natural grass, or sand-based or water-based artificial turf, with a small, hard ball approximately 73\\xa0mm (2.9\\xa0in) in diameter. The game is popular among both men and women in many parts of the world, particularly in Europe, Asia, Australia, New Zealand, South Africa, and Argentina. In most countries, the game is played between single-sex sides, although they can be mixed-sex. The governing body is the 126-member International Hockey Federation (FIH). Men\\'s field hockey has been played at each Summer Olympic Games since 1908 except for 1912 and 1924, while women\\'s field hockey has been played at the Summer Olympic Games since 1980. Modern field hockey sticks are constructed of a composite of wood, glass fibre or carbon fibre (sometimes both) and are J-shaped, with a curved hook at the playing end, a flat surface on the playing side and a curved surface on the rear side. All sticks are right-handed – left-handed sticks are not permitted. While field hockey in its current form appeared in mid-18th century England, primarily in schools, it was not until the first half of the 19th century that it became firmly established. The first club was created in 1849 at Blackheath in south-east London. Field hockey is the national sport of Pakistan.[15] It was the national sport of India until the Ministry of Youth Affairs and Sports declared in August 2012 that India has no national sport.[16] Ice hockey is played between two teams of skaters on a large flat area of ice, using a three-inch-diameter (76.2\\xa0mm) vulcanized rubber disc called a puck. This puck is often frozen before high-level games to decrease the amount of bouncing and friction on the ice. The game is played all over North America, Europe and to varying extents in many other countries around the world. It is the most popular sport in Canada, Finland, Latvia, the Czech Republic, and Slovakia. Ice hockey is the national sport of Latvia[17] and the national winter sport of Canada.[18] Ice hockey is played at a number of levels, by all ages. The governing body of international play is the 77-member International Ice Hockey Federation (IIHF). Men\\'s ice hockey has been played at the Winter Olympics since 1924, and was in the 1920 Summer Olympics. Women\\'s ice hockey was added to the Winter Olympics in 1998. North America\\'s National Hockey League (NHL) is the strongest professional ice hockey league, drawing top ice hockey players from around the globe. The NHL rules are slightly different from those used in Olympic ice hockey over many categories. International ice hockey rules were adopted from Canadian rules in the early 1900s.[19] The contemporary sport developed in Canada from European and native influences. These included various stick and ball games similar to field hockey, bandy and other games where two teams push a ball or object back and forth with sticks. These were played outdoors on ice under the name \"hockey\" in England throughout the 19th century, and even earlier under various other names.[20] In Canada, there are 24 reports[21] of hockey-like games in the 19th century before 1875 (five of them using the name \"hockey\"). The first organized and recorded game of ice hockey was played indoors in Montreal, Quebec, Canada, on March 3, 1875, and featured several McGill University students. Ice hockey sticks are long L-shaped sticks made of wood, graphite, or composites with a blade at the bottom that can lie flat on the playing surface when the stick is held upright and can legally curve either way, for left- or right-handed players.[22] Ice sledge hockey, or \"para ice hockey\", is a form of ice hockey designed for players with physical disabilities affecting their lower bodies. Players sit on double-bladed sledges and use two sticks; each stick has a blade at one end and small picks at the other. Players use the sticks to pass, stickhandle and shoot the puck, and to propel their sledges. The rules are very similar to IIHF ice hockey rules.[23] Canada is a recognized international leader in the development of sledge hockey, and much of the equipment for the sport was first developed there, such as sledge hockey sticks laminated with fiberglass, as well as aluminum shafts with hand-carved insert blades and special aluminum sledges with regulation skate blades. Based on ice sledge hockey, inline sledge hockey is played to the same rules as inline puck hockey (essentially ice hockey played off-ice using inline skates). There is no classification point system dictating who can play inline sledge hockey, unlike the situation with other team sports such as wheelchair basketball and wheelchair rugby. Inline sledge hockey is being developed to allow everyone, regardless of whether they have a disability or not, to complete up to world championship level based solely on talent and ability.[citation needed] The first game of organized inline sledge hockey was played at Bisley, England, on December 19, 2009, between the Hull Stingrays and the Grimsby Redwings. Matt Lloyd is credited with inventing inline sledge hockey, and Great Britain is seen as the international leader in the game\\'s development. Though inline hockey is considered a variant of roller hockey a.k.a. \"rink hockey\", it was derived from ice hockey instead and uses a type of hockey puck or a ball. Both roller games use a type of wheeled skate but inline hockey uses inline skates rather than roller skates or \"quads\". The puck-based inline variant is more commonly played in North America than Europe while the ball-based variant is more popular in Europe. Inline hockey puck variant is played by two teams, consisting of four skaters and one goalie, on a dry rink divided into two halves by a center line, with one net at each end of the rink. The game is played in three 15-minute periods with a variation of the ice hockey off-side rule. Icings are also called, but are usually referred to as illegal clearing.[24] The governing body is the International Ice Hockey Federation (IIHF), just as it is for ice hockey, but some leagues and competitions do not follow the IIHF regulations, in particular USA Inline and Canada Inline. Roller hockey, also known as \"quad hockey\", \"international-style ball hockey\", \"rink hockey\" and \"Hoquei em Patins\", is an overarching name for a roller sport that uses quad skates. It has existed long before the invention of inline skates. The sport is played in over sixty countries and has a worldwide following. Roller hockey was a demonstration sport at the 1992 Barcelona Summer Olympics. Also known as road hockey, this is a dry-land variant of ice and roller hockey played year-round on a hard surface (usually asphalt). A ball is usually used instead of a puck, and protective equipment is not usually worn. Other games derived from hockey or its predecessors include the following: Two available styles:inline skates and the traditional roller skate Roller skates Inline hockey skates Antiquity Medieval Early modern Modern Iran India East-Asia Religion is usually defined as a social-cultural system of designated behaviors and practices, morals, beliefs, worldviews, texts, sanctified places, prophecies, ethics, or organizations, that generally relates humanity to supernatural, transcendental, and spiritual elements;[1] however, there is no scholarly consensus over what precisely constitutes a religion.[2][3] Different religions may or may not contain various elements ranging from the divine,[4] sacred things,[5] faith,[6] a supernatural being or supernatural beings[7] or \"some sort of ultimacy and transcendence that will provide norms and power for the rest of life\".[8] Religious practices may include rituals, sermons, commemoration or veneration (of deities and/or saints), sacrifices, festivals, feasts, trances, initiations, funerary services, matrimonial services, meditation, prayer, music, art, dance, public service, or other aspects of human culture. Religions have sacred histories and narratives, which may be preserved in sacred scriptures, and symbols and holy places, that aim mostly to give a meaning to life. Religions may contain symbolic stories, which are sometimes said by followers to be true, that may also attempt to explain the origin of life, the universe, and other phenomena. Traditionally, faith, in addition to reason, has been considered a source of religious beliefs.[9] There are an estimated 10,000 distinct religions worldwide.[10] About 84% of the world\\'s population is affiliated with Christianity, Islam, Hinduism, Buddhism, or some form of folk religion.[11] The religiously unaffiliated demographic includes those who do not identify with any particular religion, atheists, and agnostics. But many of the religiously unaffiliated still have various religious beliefs.[12] A portion of the population mostly located in Africa and Asia are members of new religious movements.[13] The study of religion comprises a wide variety of academic disciplines, including theology, philosophy of religion, comparative religion, and social scientific studies. Theories of religion offer various explanations for the origins and workings of religion, including the ontological foundations of religious being and belief.[14] The term religion comes from both Old French and Anglo Norman (1200s AD) and means respect for sense of right, moral obligation, sanctity, what is sacred, reverence for the gods.[15][16] It is ultimately derived from the Latin word religiō. According to Cicero, religiō comes from relegere: re (meaning \"again\") + lego (meaning \"read\"), where lego is in the sense of \"go over\", \"choose\", or \"consider carefully\". However, some modern scholars such as Tom Harpur and Joseph Campbell have argued that religiō is derived from religare: re (meaning \"again\") + ligare (\"bind\" or \"connect\"), which was made prominent by St. Augustine, following the interpretation given by Lactantius in Divinae institutiones, IV, 28.[17][18] The medieval usage alternates with order in designating bonded communities like those of monastic orders: \"we hear of the \\'religion\\' of the Golden Fleece, of a knight \\'of the religion of Avys\\'\".[19] In classic antiquity, religiō broadly meant conscientiousness, sense of right, moral obligation, or duty to anything.[20] In the ancient and medieval world, the etymological Latin root religiō was understood as an individual virtue of worship in mundane contexts; never as doctrine, practice, or actual source of knowledge.[21][22] In general, religiō referred to broad social obligations towards anything including family, neighbors, rulers, and even towards God.[23] Religiō was most often used by the ancient Romans not in the context of a relation towards gods, but as a range of general emotions such as hesitation, caution, anxiety, fear; feelings of being bound, restricted, inhibited; which arose from heightened attention in any mundane context.[24] The term was also closely related to other terms like scrupulus (which meant \"very precisely\"), and some Roman authors related the term superstitio (which meant too much fear or anxiety or shame) to religiō at times.[24] When religiō came into English around the 1200s as religion, it took the meaning of \"life bound by monastic vows\" or monastic orders.[19][23] The compartmentalized concept of religion, where religious things were separated from worldly things, was not used before the 1500s.[23] The concept of religion was first used in the 1500s to distinguish the domain of the church and the domain of civil authorities; the Peace of Augsburg marks such instance,[23] which has been described as \"the first step on the road toward a European system of sovereign states.\"[25] Julius Caesar used religiō to mean \"obligation of an oath\" when discussing captured soldiers making an oath to their captors.[26] The Roman naturalist Pliny the Elder used the term religiō on elephants in that they venerate the sun and the moon.[27] Cicero used religiō as being related to cultum deorum (worship of the gods).[28] In the ancient Greece, the Greek term threskeia (θρησκεία) was loosely translated into Latin as religiō in late antiquity. Threskeia was sparsely used in classical Greece but became more frequently used in the writings of Josephus in the 1st century AD. It was used in mundane contexts and could mean multiple things from respectful fear to excessive or harmfully distracting practices of others; to cultic practices. It was often contrasted with the Greek word deisidaimonia, which meant too much fear.[29] The modern concept of religion, as an abstraction that entails distinct sets of beliefs or doctrines, is a recent invention in the English language. Such usage began with texts from the 17th century due to events such as the splitting of Christendom during the Protestant Reformation and globalization in the age of exploration, which involved contact with numerous foreign cultures with non-European languages.[21][22][30] Some argue that regardless of its definition, it is not appropriate to apply the term religion to non-Western cultures.[31][32] Others argue that using religion on non-Western cultures distorts what people do and believe.[33] The concept of religion was formed in the 16th and 17th centuries,[34][35] despite the fact that ancient sacred texts like the Bible, the Quran, and others did not have a word or even a concept of religion in the original languages and neither did the people or the cultures in which these sacred texts were written.[36][37] For example, there is no precise equivalent of religion in Hebrew, and Judaism does not distinguish clearly between religious, national, racial, or ethnic identities.[38] One of its central concepts is halakha, meaning the walk or path sometimes translated as law, which guides religious practice and belief and many aspects of daily life.[39] Even though the beliefs and traditions of Judaism are found in the ancient world, ancient Jews saw Jewish identity as being about an ethnic or national identity and did not entail a compulsory belief system or regulated rituals.[40] In the 1st century AD Josephus had used the Greek term ioudaismos (Judaism) as an ethnic term and was not linked to modern abstract concepts of religion or a set of beliefs.[3] The very concept of \"Judaism\" was invented by the Christian Church,[41] and it was in the 19th century that Jews began to see their ancestral culture as a religion analogous to Christianity.[40] The Greek word threskeia, which was used by Greek writers such as Herodotus and Josephus, is found in the New Testament. Threskeia is sometimes translated as \"religion\" in today\\'s translations, however, the term was understood as generic \"worship\" well into the medieval period.[3] In the Quran, the Arabic word din is often translated as religion in modern translations, but up to the mid-1600s translators expressed din as \"law\".[3] The Sanskrit word dharma, sometimes translated as religion,[42] also means law. Throughout classical South Asia, the study of law consisted of concepts such as penance through piety and ceremonial as well as practical traditions. Medieval Japan at first had a similar union between imperial law and universal or Buddha law, but these later became independent sources of power.[43][44] Though traditions, sacred texts, and practices have existed throughout time, most cultures did not align with Western conceptions of religion since they did not separate everyday life from the sacred. In the 18th and 19th centuries, the terms Buddhism, Hinduism, Taoism, Confucianism, and world religions first entered the English language.[45][46][47] Native Americans were also thought of as not having religions and also had no word for religion in their languages either.[46][48] No one self-identified as a Hindu or Buddhist or other similar terms before the 1800s.[49] \"Hindu\" has historically been used as a geographical, cultural, and later religious identifier for people indigenous to the Indian subcontinent.[50][51] Throughout its long history, Japan had no concept of religion since there was no corresponding Japanese word, nor anything close to its meaning, but when American warships appeared off the coast of Japan in 1853 and forced the Japanese government to sign treaties demanding, among other things, freedom of religion, the country had to contend with this idea.[52][53] According to the philologist Max Müller in the 19th century, the root of the English word religion, the Latin religiō, was originally used to mean only reverence for God or the gods, careful pondering of divine things, piety (which Cicero further derived to mean diligence).[54][55] Müller characterized many other cultures around the world, including Egypt, Persia, and India, as having a similar power structure at this point in history. What is called ancient religion today, they would have only called law.[56] Scholars have failed to agree on a definition of religion. There are, however, two general definition systems: the sociological/functional and the phenomenological/philosophical.[57][58][59][60][61] The concept of religion originated in the modern era in the West.[32] Parallel concepts are not found in many current and past cultures; there is no equivalent term for religion in many languages.[3][23] Scholars have found it difficult to develop a consistent definition, with some giving up on the possibility of a definition.[62][63] Others argue that regardless of its definition, it is not appropriate to apply it to non-Western cultures.[31][32] An increasing number of scholars have expressed reservations about ever defining the essence of religion.[64] They observe that the way the concept today is used is a particularly modern construct that would not have been understood through much of history and in many cultures outside the West (or even in the West until after the Peace of Westphalia).[65] The MacMillan Encyclopedia of Religions states: The very attempt to define religion, to find some distinctive or possibly unique essence or set of qualities that distinguish the religious from the remainder of human life, is primarily a Western concern. The attempt is a natural consequence of the Western speculative, intellectualistic, and scientific disposition. It is also the product of the dominant Western religious mode, what is called the Judeo-Christian climate or, more accurately, the theistic inheritance from Judaism, Christianity, and Islam. The theistic form of belief in this tradition, even when downgraded culturally, is formative of the dichotomous Western view of religion. That is, the basic structure of theism is essentially a distinction between a transcendent deity and all else, between the creator and his creation, between God and man.[66]The anthropologist Clifford Geertz defined religion as a […] system of symbols which acts to establish powerful, pervasive, and long-lasting moods and motivations in men by formulating conceptions of a general order of existence and clothing these conceptions with such an aura of factuality that the moods and motivations seem uniquely realistic.\"[67]Alluding perhaps to Tylor\\'s \"deeper motive\", Geertz remarked that […] we have very little idea of how, in empirical terms, this particular miracle is accomplished. We just know that it is done, annually, weekly, daily, for some people almost hourly; and we have an enormous ethnographic literature to demonstrate it.[68]The theologian Antoine Vergote took the term supernatural simply to mean whatever transcends the powers of nature or human agency. He also emphasized the cultural reality of religion, which he defined as […] the entirety of the linguistic expressions, emotions and, actions and signs that refer to a supernatural being or supernatural beings.[7]Peter Mandaville and Paul James intended to get away from the modernist dualisms or dichotomous understandings of immanence/transcendence, spirituality/materialism, and sacredness/secularity. They define religion as […] a relatively-bounded system of beliefs, symbols and practices that addresses the nature of existence, and in which communion with others and Otherness is lived as if it both takes in and spiritually transcends socially-grounded ontologies of time, space, embodiment and knowing.[8]According to the MacMillan Encyclopedia of Religions, there is an experiential aspect to religion which can be found in almost every culture: […] almost every known culture [has] a depth dimension in cultural experiences […] toward some sort of ultimacy and transcendence that will provide norms and power for the rest of life. When more or less distinct patterns of behavior are built around this depth dimension in a culture, this structure constitutes religion in its historically recognizable form. Religion is the organization of life around the depth dimensions of experience—varied in form, completeness, and clarity in accordance with the environing culture.[69]Friedrich Schleiermacher in the late 18th century defined religion as das schlechthinnige Abhängigkeitsgefühl, commonly translated as \"the feeling of absolute dependence\".[70] His contemporary Georg Wilhelm Friedrich Hegel disagreed thoroughly, defining religion as \"the Divine Spirit becoming conscious of Himself through the finite spirit.\"[71] Edward Burnett Tylor defined religion in 1871 as \"the belief in spiritual beings\".[72] He argued that narrowing the definition to mean the belief in a supreme deity or judgment after death or idolatry and so on, would exclude many peoples from the category of religious, and thus \"has the fault of identifying religion rather with particular developments than with the deeper motive which underlies them\". He also argued that the belief in spiritual beings exists in all known societies. In his book The Varieties of Religious Experience, the psychologist William James defined religion as \"the feelings, acts, and experiences of individual men in their solitude, so far as they apprehend themselves to stand in relation to whatever they may consider the divine\".[4] By the term divine James meant \"any object that is godlike, whether it be a concrete deity or not\"[73] to which the individual feels impelled to respond with solemnity and gravity.[74] The sociologist Émile Durkheim, in his seminal book The Elementary Forms of the Religious Life, defined religion as a \"unified system of beliefs and practices relative to sacred things\".[5] By sacred things he meant things \"set apart and forbidden—beliefs and practices which unite into one single moral community called a Church, all those who adhere to them\". Sacred things are not, however, limited to gods or spirits.[note 1] On the contrary, a sacred thing can be \"a rock, a tree, a spring, a pebble, a piece of wood, a house, in a word, anything can be sacred\".[75] Religious beliefs, myths, dogmas and legends are the representations that express the nature of these sacred things, and the virtues and powers which are attributed to them.[76] Echoes of James\\' and Durkheim\\'s definitions are to be found in the writings of, for example, Frederick Ferré who defined religion as \"one\\'s way of valuing most comprehensively and intensively\".[77] Similarly, for the theologian Paul Tillich, faith is \"the state of being ultimately concerned\",[6] which \"is itself religion. Religion is the substance, the ground, and the depth of man\\'s spiritual life.\"[78] When religion is seen in terms of sacred, divine, intensive valuing, or ultimate concern, then it is possible to understand why scientific findings and philosophical criticisms (e.g., those made by Richard Dawkins) do not necessarily disturb its adherents.[79] Traditionally, faith, in addition to reason, has been considered a source of religious beliefs. The interplay between faith and reason, and their use as perceived support for religious beliefs, have been a subject of interest to philosophers and theologians.[9] The origin of religious belief as such is an open question, with possible explanations including awareness of individual death, a sense of community, and dreams.[80] The word myth has several meanings. Ancient polytheistic religions, such as those of Greece, Rome, and Scandinavia, are usually categorized under the heading of mythology. Religions of pre-industrial peoples, or cultures in development, are similarly called myths in the anthropology of religion. The term myth can be used pejoratively by both religious and non-religious people. By defining another person\\'s religious stories and beliefs as mythology, one implies that they are less real or true than one\\'s own religious stories and beliefs. Joseph Campbell remarked, \"Mythology is often thought of as other people\\'s religions, and religion can be defined as mis-interpreted mythology.\"[82] In sociology, however, the term myth has a non-pejorative meaning. There, myth is defined as a story that is important for the group whether or not it is objectively or provably true.[83] Examples include the resurrection of their real-life founder Jesus, which, to Christians, explains the means by which they are freed from sin, is symbolic of the power of life over death, and is also said to be a historical event. But from a mythological outlook, whether or not the event actually occurred is unimportant. Instead, the symbolism of the death of an old life and the start of a new life is what is most significant. Religious believers may or may not accept such symbolic interpretations. The practices of a religion may include rituals, sermons, commemoration or veneration of a deity (god or goddess), sacrifices, festivals, feasts, trances, initiations, funerary services, matrimonial services, meditation, prayer, religious music, religious art, sacred dance, public service, or other aspects of human culture.[84] Religions have a societal basis, either as a living tradition which is carried by lay participants, or with an organized clergy, and a definition of what constitutes adherence or membership. A number of disciplines study the phenomenon of religion: theology, comparative religion, history of religion, evolutionary origin of religions, anthropology of religion, psychology of religion (including neuroscience of religion and evolutionary psychology of religion), law and religion, and sociology of religion. Daniel L. Pals mentions eight classical theories of religion, focusing on various aspects of religion: animism and magic, by E.B. Tylor and J.G. Frazer; the psycho-analytic approach of Sigmund Freud; and further Émile Durkheim, Karl Marx, Max Weber, Mircea Eliade, E.E. Evans-Pritchard, and Clifford Geertz.[85] Michael Stausberg gives an overview of contemporary theories of religion, including cognitive and biological approaches.[86] Sociological and anthropological theories of religion generally attempt to explain the origin and function of religion.[87] These theories define what they present as universal characteristics of religious belief and practice. The origin of religion is uncertain. There are a number of theories regarding the subsequent origins of religious practices. According to anthropologists John Monaghan and Peter Just, \"Many of the great world religions appear to have begun as revitalization movements of some sort, as the vision of a charismatic prophet fires the imaginations of people seeking a more comprehensive answer to their problems than they feel is provided by everyday beliefs. Charismatic individuals have emerged at many times and places in the world. It seems that the key to long-term success—and many movements come and go with little long-term effect—has relatively little to do with the prophets, who appear with surprising regularity, but more to do with the development of a group of supporters who are able to institutionalize the movement.\"[88] The development of religion has taken different forms in different cultures. Some religions place an emphasis on belief, while others emphasize practice. Some religions focus on the subjective experience of the religious individual, while others consider the activities of the religious community to be most important. Some religions claim to be universal, believing their laws and cosmology to be binding for everyone, while others are intended to be practiced only by a closely defined or localized group. In many places, religion has been associated with public institutions such as education, hospitals, the family, government, and political hierarchies.[89] Anthropologists John Monoghan and Peter Just state that, \"it seems apparent that one thing religion or belief helps us do is deal with problems of human life that are significant, persistent, and intolerable. One important way in which religious beliefs accomplish this is by providing a set of ideas about how and why the world is put together that allows people to accommodate anxieties and deal with misfortune.\"[89] While religion is difficult to define, one standard model of religion, used in religious studies courses, was proposed by Clifford Geertz, who simply called it a \"cultural system\".[90] A critique of Geertz\\'s model by Talal Asad categorized religion as \"an anthropological category\".[91] Richard Niebuhr\\'s (1894–1962) five-fold classification of the relationship between Christ and culture, however, indicates that religion and culture can be seen as two separate systems, though with some interplay.[92] One modern academic theory of religion, social constructionism, says that religion is a modern concept that suggests all spiritual practice and worship follows a model similar to the Abrahamic religions as an orientation system that helps to interpret reality and define human beings.[93] Among the main proponents of this theory of religion are Daniel Dubuisson, Timothy Fitzgerald, Talal Asad, and Jason Ānanda Josephson. The social constructionists argue that religion is a modern concept that developed from Christianity and was then applied inappropriately to non-Western cultures. Cognitive science of religion is the study of religious thought and behavior from the perspective of the cognitive and evolutionary sciences.[94] The field employs methods and theories from a very broad range of disciplines, including: cognitive psychology, evolutionary psychology, cognitive anthropology, artificial intelligence, cognitive neuroscience, neurobiology, zoology, and ethology. Scholars in this field seek to explain how human minds acquire, generate, and transmit religious thoughts, practices, and schemas by means of ordinary cognitive capacities. Hallucinations and delusions related to religious content occurs in about 60% of people with schizophrenia. While this number varies across cultures, this had led to theories about a number of influential religious phenomena and possible relation to psychotic disorders. A number of prophetic experiences are consistent with psychotic symptoms, although retrospective diagnoses are practically impossible.[95][96][97] Schizophrenic episodes are also experienced by people who do not have belief in gods.[98] Religious content is also common in temporal lobe epilepsy, and obsessive-compulsive disorder.[99][100] Atheistic content is also found to be common with temporal lobe epilepsy.[101] Comparative religion is the branch of the study of religions concerned with the systematic comparison of the doctrines and practices of the world\\'s religions. In general, the comparative study of religion yields a deeper understanding of the fundamental philosophical concerns of religion such as ethics, metaphysics, and the nature and form of salvation. Studying such material is meant to give one a richer and more sophisticated understanding of human beliefs and practices regarding the sacred, numinous, spiritual and divine.[102] In the field of comparative religion, a common geographical classification[103] of the main world religions includes Middle Eastern religions (including Zoroastrianism and Iranian religions), Indian religions, East Asian religions, African religions, American religions, Oceanic religions, and classical Hellenistic religions.[103] In the 19th and 20th centuries, the academic practice of comparative religion divided religious belief into philosophically defined categories called world religions. Some academics studying the subject have divided religions into three broad categories: Some recent scholarship has argued that not all types of religion are necessarily separated by mutually exclusive philosophies, and furthermore that the utility of ascribing a practice to a certain philosophy, or even calling a given practice religious, rather than cultural, political, or social in nature, is limited.[105][106][107] The current state of psychological study about the nature of religiousness suggests that it is better to refer to religion as a largely invariant phenomenon that should be distinguished from cultural norms (i.e. religions).[108][clarification needed] Some scholars classify religions as either universal religions that seek worldwide acceptance and actively look for new converts, such as Christianity, Islam, Buddhism and Jainism, while ethnic religions are identified with a particular ethnic group and do not seek converts.[109][110] Others reject the distinction, pointing out that all religious practices, whatever their philosophical origin, are ethnic because they come from a particular culture.[111][112][113] The five largest religious groups by world population, estimated to account for 5.8 billion people and 84% of the population, are Christianity, Islam, Buddhism, Hinduism (with the relative numbers for Buddhism and Hinduism dependent on the extent of syncretism) and traditional folk religion. A global poll in 2012 surveyed 57 countries and reported that 59% of the world\\'s population identified as religious, 23% as not religious, 13% as convinced atheists, and also a 9% decrease in identification as religious when compared to the 2005 average from 39 countries.[115] A follow-up poll in 2015 found that 63% of the globe identified as religious, 22% as not religious, and 11% as convinced atheists.[116] On average, women are more religious than men.[117] Some people follow multiple religions or multiple religious principles at the same time, regardless of whether or not the religious principles they follow traditionally allow for syncretism.[118][119][120] A 2017 Pew projection suggests that Islam will overtake Christianity as the plurality religion by 2075. Unaffiliated populations are projected to drop, even when taking disaffiliation rates into account, due to differences in birth rates.[121][122] Abrahamic religions are monotheistic religions which believe they descend from Abraham. Judaism is the oldest Abrahamic religion, originating in the people of ancient Israel and Judea.[123] The Torah is its foundational text, and is part of the larger text known as the Tanakh or Hebrew Bible. It is supplemented by oral tradition, set down in written form in later texts such as the Midrash and the Talmud. Judaism includes a wide corpus of texts, practices, theological positions, and forms of organization. Within Judaism there are a variety of movements, most of which emerged from Rabbinic Judaism, which holds that God revealed his laws and commandments to Moses on Mount Sinai in the form of both the Written and Oral Torah; historically, this assertion was challenged by various groups. The Jewish people were scattered after the destruction of the Temple in Jerusalem in 70 CE. Today there are about 13 million Jews, about 40 per cent living in Israel and 40 per cent in the United States.[124] The largest Jewish religious movements are Orthodox Judaism (Haredi Judaism and Modern Orthodox Judaism), Conservative Judaism and Reform Judaism.[123] Christianity is based on the life and teachings of Jesus of Nazareth (1st century) as presented in the New Testament.[125] The Christian faith is essentially faith in Jesus as the Christ,[125] the Son of God, and as Savior and Lord. Almost all Christians believe in the Trinity, which teaches the unity of Father, Son (Jesus Christ), and Holy Spirit as three persons in one Godhead. Most Christians can describe their faith with the Nicene Creed. As the religion of Byzantine Empire in the first millennium and of Western Europe during the time of colonization, Christianity has been propagated throughout the world via missionary work.[126][127][128] It is the world\\'s largest religion, with about 2.3 billion followers as of 2015.[129] The main divisions of Christianity are, according to the number of adherents:[130] There are also smaller groups, including: Islam is a monotheistic[131] religion based on the Quran,[131] one of the holy books considered by Muslims to be revealed by God, and on the teachings (hadith) of the Islamic prophet Muhammad-a major political and religious figure of the 7th century CE. Islam is based on the unity of all religious philosophies and accepts all of the Abrahamic prophets of Judaism, Christianity and other Abrahamic religions before Muhammad. It is the most widely practiced religion of Southeast Asia, North Africa, Western Asia, and Central Asia, while Muslim-majority countries also exist in parts of South Asia, Sub-Saharan Africa, and Southeast Europe. There are also several Islamic republics, including Iran, Pakistan, Mauritania, and Afghanistan. Other denominations of Islam include Nation of Islam, Ibadi, Sufism, Quranism, Mahdavia, and non-denominational Muslims. Wahhabism is the dominant Muslim schools of thought in the Kingdom of Saudi Arabia. Whilst Judaism, Christianity and Islam are commonly seen as the only three Abrahamic faiths, there are smaller and newer traditions which lay claim to the designation as well.[132] For example, the Baháʼí Faith is a new religious movement that has links to the major Abrahamic religions as well as other religions (e.g. of Eastern philosophy). Founded in 19th-century Iran, it teaches the unity of all religious philosophies[133] and accepts all of the prophets of Judaism, Christianity, and Islam as well as additional prophets (Buddha, Mahavira), including its founder Bahá\\'u\\'lláh. It is an offshoot of Bábism. One of its divisions is the Orthodox Baháʼí Faith.[134]:\\u200a48–49\\u200a Even smaller regional Abrahamic groups also exist, including Samaritanism (primarily in Israel and the West Bank), the Rastafari movement (primarily in Jamaica), and Druze (primarily in Syria, Lebanon, and Israel). The Druze faith originally developed out of Isma\\'ilism, and it has sometimes been considered an Islamic school by some Islamic authorities, but Druze themselves do not identify as Muslims.[135][136][137] Mandaeism, sometimes also known as Sabianism (after the mysterious Sabians mentioned in the Quran, a name historically claimed by several religious groups),[138] is a Gnostic, monotheistic and ethnic religion.[139]:\\u200a4\\u200a[140]:\\u200a1\\u200a Its adherents, the Mandaeans, consider John the Baptist to be their chief prophet.[139] Mandaeans are the last surviving Gnostics from antiquity.[141] East Asian religions (also known as Far Eastern religions or Taoic religions) consist of several religions of East Asia which make use of the concept of Tao (in Chinese), Dō (in Japanese or Korean) or Đạo (in Vietnamese). They include: Indian religions are practiced or were founded in the Indian subcontinent. They are sometimes classified as the dharmic religions, as they all feature dharma, the specific law of reality and duties expected according to the religion.[142] Indigenous religions or folk religions refers to a broad category of traditional religions that can be characterised by shamanism, animism and ancestor worship, where traditional means \"indigenous, that which is aboriginal or foundational, handed down from generation to generation…\".[154] These are religions that are closely associated with a particular group of people, ethnicity or tribe; they often have no formal creeds or sacred texts.[155] Some faiths are syncretic, fusing diverse religious beliefs and practices.[156] Folk religions are often omitted as a category in surveys even in countries where they are widely practiced, e.g. in China.[155] African traditional religion encompasses the traditional religious beliefs of people in Africa. In West Africa, these religions include the Akan religion, Dahomey (Fon) mythology, Efik mythology, Odinani, Serer religion (A ƭat Roog), and Yoruba religion, while Bushongo mythology, Mbuti (Pygmy) mythology, Lugbara mythology, Dinka religion, and Lotuko mythology come from central Africa. Southern African traditions include Akamba mythology, Masai mythology, Malagasy mythology, San religion, Lozi mythology, Tumbuka mythology, and Zulu mythology. Bantu mythology is found throughout central, southeast, and southern Africa. In north Africa, these traditions include Berber and ancient Egyptian. There are also notable African diasporic religions practiced in the Americas, such as Santeria, Candomble, Vodun, Lucumi, Umbanda, and Macumba. Iranian religions are ancient religions whose roots predate the Islamization of Greater Iran. Nowadays these religions are practiced only by minorities. Zoroastrianism is based on the teachings of prophet Zoroaster in the 6th century BCE. Zoroastrians worship the creator Ahura Mazda. In Zoroastrianism, good and evil have distinct sources, with evil trying to destroy the creation of Mazda, and good trying to sustain it. Kurdish religions include the traditional beliefs of the Yazidi,[157][158] Alevi, and Ahl-e Haqq. Sometimes these are labeled Yazdânism. The study of law and religion is a relatively new field, with several thousand scholars involved in law schools, and academic departments including political science, religion, and history since 1980.[170] Scholars in the field are not only focused on strictly legal issues about religious freedom or non-establishment, but also study religions as they are qualified through judicial discourses or legal understanding of religious phenomena. Exponents look at canon law, natural law, and state law, often in a comparative perspective.[171][172] Specialists have explored themes in Western history regarding Christianity and justice and mercy, rule and equity, and discipline and love.[173] Common topics of interest include marriage and the family[174] and human rights.[175] Outside of Christianity, scholars have looked at law and religion links in the Muslim Middle East[176] and pagan Rome.[177] Studies have focused on secularization.[178][179] In particular, the issue of wearing religious symbols in public, such as headscarves that are banned in French schools, have received scholarly attention in the context of human rights and feminism.[180] Science acknowledges reason and empirical evidence; and religions include revelation, faith and sacredness whilst also acknowledging philosophical and metaphysical explanations with regard to the study of the universe. Both science and religion are not monolithic, timeless, or static because both are complex social and cultural endeavors that have changed through time across languages and cultures.[181] The concepts of science and religion are a recent invention: the term religion emerged in the 17th century in the midst of colonization and globalization and the Protestant Reformation.[3][21] The term science emerged in the 19th century out of natural philosophy in the midst of attempts to narrowly define those who studied nature (natural science),[21][182][183] and the phrase religion and science emerged in the 19th century due to the reification of both concepts.[21] It was in the 19th century that the terms Buddhism, Hinduism, Taoism, and Confucianism first emerged.[21] In the ancient and medieval world, the etymological Latin roots of both science (scientia) and religion (religio) were understood as inner qualities of the individual or virtues, never as doctrines, practices, or actual sources of knowledge.[21] In general the scientific method gains knowledge by testing hypotheses to develop theories through elucidation of facts or evaluation by experiments and thus only answers cosmological questions about the universe that can be observed and measured. It develops theories of the world which best fit physically observed evidence. All scientific knowledge is subject to later refinement, or even rejection, in the face of additional evidence. Scientific theories that have an overwhelming preponderance of favorable evidence are often treated as de facto verities in general parlance, such as the theories of general relativity and natural selection to explain respectively the mechanisms of gravity and evolution. Religion does not have a method per se partly because religions emerge through time from diverse cultures and it is an attempt to find meaning in the world, and to explain humanity\\'s place in it and relationship to it and to any posited entities. In terms of Christian theology and ultimate truths, people rely on reason, experience, scripture, and tradition to test and gauge what they experience and what they should believe. Furthermore, religious models, understanding, and metaphors are also revisable, as are scientific models.[184] Regarding religion and science, Albert Einstein states (1940): \"For science can only ascertain what is, but not what should be, and outside of its domain value judgments of all kinds remain necessary.[185] Religion, on the other hand, deals only with evaluations of human thought and action; it cannot justifiably speak of facts and relationships between facts[185]…Now, even though the realms of religion and science in themselves are clearly marked off from each other, nevertheless there exist between the two strong reciprocal relationships and dependencies. Though religion may be that which determine the goals, it has, nevertheless, learned from science, in the broadest sense, what means will contribute to the attainment of the goals it has set up.\"[186] Many religions have value frameworks regarding personal behavior meant to guide adherents in determining between right and wrong. These include the Triple Jems of Jainism, Judaism\\'s Halacha, Islam\\'s Sharia, Catholicism\\'s Canon Law, Buddhism\\'s Eightfold Path, and Zoroastrianism\\'s good thoughts, good words, and good deeds concept, among others.[187] Religion and morality are not synonymous. While it is \"an almost automatic assumption.\"[188] in Christianity, morality can have a secular basis. The study of religion and morality can be contentious due to ethnocentric views on morality, failure to distinguish between in group and out group altruism, and inconsistent definitions of religiosity. Religion has had a significant impact on the political system in many countries.[189] Notably, most Muslim-majority countries adopt various aspects of sharia, the Islamic law.[190] Some countries even define themselves in religious terms, such as The Islamic Republic of Iran. The sharia thus affects up to 23% of the global population, or 1.57\\xa0billion people who are Muslims. However, religion also affects political decisions in many western countries. For instance, in the United States, 51% of voters would be less likely to vote for a presidential candidate who did not believe in God, and only 6% more likely.[191] Christians make up 92% of members of the US Congress, compared with 71% of the general public (as of 2014). At the same time, while 23% of U.S. adults are religiously unaffiliated, only one member of Congress (Kyrsten Sinema, D-Arizona), or 0.2% of that body, claims no religious affiliation.[192] In most European countries, however, religion has a much smaller influence on politics[193] although it used to be much more important. For instance, same-sex marriage and abortion were illegal in many European countries until recently, following Christian (usually Catholic) doctrine. Several European leaders are atheists (e.g. France\\'s former president Francois Hollande or Greece\\'s prime minister Alexis Tsipras). In Asia, the role of religion differs widely between countries. For instance, India is still one of the most religious countries and religion still has a strong impact on politics, given that Hindu nationalists have been targeting minorities like the Muslims and the Christians, who historically[when?] belonged to the lower castes.[194] By contrast, countries such as China or Japan are largely secular and thus religion has a much smaller impact on politics. Secularization is the transformation of the politics of a society from close identification with a particular religion\\'s values and institutions toward nonreligious values and secular institutions. The purpose of this is frequently modernization or protection of the populations religious diversity. One study has found there is a negative correlation between self-defined religiosity and the wealth of nations.[195] In other words, the richer a nation is, the less likely its inhabitants to call themselves religious, whatever this word means to them (Many people identify themselves as part of a religion (not irreligion) but do not self-identify as religious).[195] Sociologist and political economist Max Weber has argued that Protestant Christian countries are wealthier because of their Protestant work ethic.[196] According to a study from 2015, Christians hold the largest amount of wealth (55% of the total world wealth), followed by Muslims (5.8%), Hindus (3.3%) and Jews (1.1%). According to the same study it was found that adherents under the classification Irreligion or other religions hold about 34.8% of the total global wealth (while making up only about 20% of the world population, see section on classification).[197] Mayo Clinic researchers examined the association between religious involvement and spirituality, and physical health, mental health, health-related quality of life, and other health outcomes.[198] The authors reported that: \"Most studies have shown that religious involvement and spirituality are associated with better health outcomes, including greater longevity, coping skills, and health-related quality of life (even during terminal illness) and less anxiety, depression, and suicide.\"[199] The authors of a subsequent study concluded that the influence of religion on health is largely beneficial, based on a review of related literature.[200] According to academic James W. Jones, several studies have discovered \"positive correlations between religious belief and practice and mental and physical health and longevity.\"[201] An analysis of data from the 1998 US General Social Survey, whilst broadly confirming that religious activity was associated with better health and well-being, also suggested that the role of different dimensions of spirituality/religiosity in health is rather more complicated. The results suggested \"that it may not be appropriate to generalize findings about the relationship between spirituality/religiosity and health from one form of spirituality/religiosity to another, across denominations, or to assume effects are uniform for men and women.[202] Critics like Hector Avalos[203] Regina Schwartz,[204] Christopher Hitchens and Richard Dawkins have argued that religions are inherently violent and harmful to society by using violence to promote their goals, in ways that are endorsed and exploited by their leaders.[205][page\\xa0needed][206][page\\xa0needed] Anthropologist Jack David Eller asserts that religion is not inherently violent, arguing \"religion and violence are clearly compatible, but they are not identical.\" He asserts that \"violence is neither essential to nor exclusive to religion\" and that \"virtually every form of religious violence has its nonreligious corollary.\"[207][208] Done by some (but not all) religions, animal sacrifice is the ritual killing and offering of an animal to appease or maintain favour with a deity. It has been banned in India.[209] Greek and Roman pagans, who saw their relations with the gods in political and social terms, scorned the man who constantly trembled with fear at the thought of the gods (deisidaimonia), as a slave might fear a cruel and capricious master. The Romans called such fear of the gods superstitio.[210] Ancient Greek historian Polybius described superstition in ancient Rome as an instrumentum regni, an instrument of maintaining the cohesion of the Empire.[211] Superstition has been described as the non-rational establishment of cause and effect.[212] Religion is more complex and is often composed of social institutions and has a moral aspect. Some religions may include superstitions or make use of magical thinking. Adherents of one religion sometimes think of other religions as superstition.[213][214] Some atheists, deists, and skeptics regard religious belief as superstition. The Roman Catholic Church considers superstition to be sinful in the sense that it denotes a lack of trust in the divine providence of God and, as such, is a violation of the first of the Ten Commandments. The Catechism of the Catholic Church states that superstition \"in some sense represents a perverse excess of religion\" (para. #2110). \"Superstition,\" it says, \"is a deviation of religious feeling and of the practices this feeling imposes. It can even affect the worship we offer the true God, e.g., when one attributes an importance in some way magical to certain practices otherwise lawful or necessary. To attribute the efficacy of prayers or of sacramental signs to their mere external performance, apart from the interior dispositions that they demand is to fall into superstition. Cf. Matthew 23:16–22\" (para. #2111) The terms atheist (lack of belief in any gods) and agnostic (belief in the unknowability of the existence of gods), though specifically contrary to theistic (e.g. Christian, Jewish, and Muslim) religious teachings, do not by definition mean the opposite of religious. There are religions (including Buddhism, Taoism, and Hinduism), in fact, that classify some of their followers as agnostic, atheistic, or nontheistic. The true opposite of religious is the word irreligious. Irreligion describes an absence of any religion; antireligion describes an active opposition or aversion toward religions in general. Because religion continues to be recognized in Western thought as a universal impulse,[215] many religious practitioners[who?][216] have aimed to band together in interfaith dialogue, cooperation, and religious peacebuilding. The first major dialogue was the Parliament of the World\\'s Religions at the 1893 Chicago World\\'s Fair, which affirmed universal values and recognition of the diversity of practices among different cultures.[217] The 20th century has been especially fruitful in use of interfaith dialogue as a means of solving ethnic, political, or even religious conflict, with Christian–Jewish reconciliation representing a complete reverse in the attitudes of many Christian communities towards Jews.[218] Recent interfaith initiatives include A Common Word, launched in 2007 and focused on bringing Muslim and Christian leaders together,[219] the \"C1 World Dialogue\",[220] the Common Ground initiative between Islam and Buddhism,[221] and a United Nations sponsored \"World Interfaith Harmony Week\".[222][223] Culture and religion have usually been seen as closely related.[42] Paul Tillich looked at religion as the soul of culture and culture as the form or framework of religion.[224] In his own words: Religion as ultimate concern is the meaning-giving substance of culture, and culture is the totality of forms in which the basic concern of religion expresses itself. In abbreviation: religion is the substance of culture, culture is the form of religion. Such a consideration definitely prevents the establishment of a dualism of religion and culture. Every religious act, not only in organized religion, but also in the most intimate movement of the soul, is culturally formed.[225]Ernst Troeltsch, similarly, looked at culture as the soil of religion and thought that, therefore, transplanting a religion from its original culture to a foreign culture would actually kill it in the same manner that transplanting a plant from its natural soil to an alien soil would kill it.[226] However, there have been many attempts in the modern pluralistic situation to distinguish culture from religion.[227] Domenic Marbaniang has argued that elements grounded on beliefs of a metaphysical nature (religious) are distinct from elements grounded on nature and the natural (cultural). For instance, language (with its grammar) is a cultural element while sacralization of language in which a particular religious scripture is written is more often a religious practice. The same applies to music and the arts.[228] Criticism of religion is criticism of the ideas, the truth, or the practice of religion, including its political and social implications.[229]']"
            ]
          },
          "metadata": {},
          "execution_count": 62
        }
      ]
    },
    {
      "cell_type": "markdown",
      "source": [
        "## Process text\n",
        "Clean text and create word-to-int index"
      ],
      "metadata": {
        "id": "FOjFXZ_CVkbR"
      }
    },
    {
      "cell_type": "code",
      "source": [
        "# 4.0 Clean the text and get tokens:\n",
        "\n",
        "cleaned_tokens = review_to_wordlist(text[0], remove_stopwords=True)"
      ],
      "metadata": {
        "id": "ikI6LPgy_yRo"
      },
      "execution_count": 63,
      "outputs": []
    },
    {
      "cell_type": "code",
      "source": [
        "# 4.1 Look at tokens and how many total words:\n",
        "cleaned_tokens[:10]\n",
        "print()\n",
        "len(cleaned_tokens)"
      ],
      "metadata": {
        "id": "RpOOca2b_-ZI",
        "colab": {
          "base_uri": "https://localhost:8080/"
        },
        "outputId": "91aabe6b-4133-4bf7-b066-697a1f257001"
      },
      "execution_count": 64,
      "outputs": [
        {
          "output_type": "execute_result",
          "data": {
            "text/plain": [
              "['ordinary',\n",
              " 'language',\n",
              " 'crime',\n",
              " 'unlawful',\n",
              " 'act',\n",
              " 'punishable',\n",
              " 'state',\n",
              " 'authority',\n",
              " 'term',\n",
              " 'crime']"
            ]
          },
          "metadata": {},
          "execution_count": 64
        },
        {
          "output_type": "stream",
          "name": "stdout",
          "text": [
            "\n"
          ]
        },
        {
          "output_type": "execute_result",
          "data": {
            "text/plain": [
              "12956"
            ]
          },
          "metadata": {},
          "execution_count": 64
        }
      ]
    },
    {
      "cell_type": "code",
      "source": [
        "# 4.2 No of unique words:\n",
        "\n",
        "max_vocab = len(set(cleaned_tokens))\n",
        "max_vocab  # 480"
      ],
      "metadata": {
        "id": "-8LTkBLMP3io",
        "colab": {
          "base_uri": "https://localhost:8080/"
        },
        "outputId": "d6bf88f6-6ede-412c-af78-0784c56179fb"
      },
      "execution_count": 65,
      "outputs": [
        {
          "output_type": "execute_result",
          "data": {
            "text/plain": [
              "4044"
            ]
          },
          "metadata": {},
          "execution_count": 65
        }
      ]
    },
    {
      "cell_type": "code",
      "source": [
        "# 5.0 Get a dict of which word occurs\n",
        "#     how many times:\n",
        "\n",
        "freq_of_words = Counter(cleaned_tokens)\n",
        "freq_of_words"
      ],
      "metadata": {
        "id": "FsogaQYKECGR"
      },
      "execution_count": null,
      "outputs": []
    },
    {
      "cell_type": "code",
      "source": [
        "# 5.1 Sort words in order of freq\n",
        "#     Most freq at the top:\n",
        "\n",
        "vocab = sorted(freq_of_words,\n",
        "               key=freq_of_words.get,\n",
        "               reverse=True)\n",
        "\n",
        "# 5.1.1\n",
        "vocab   # Most freq at the top; least at the bottom"
      ],
      "metadata": {
        "id": "hkQRtmCnEy7A"
      },
      "execution_count": null,
      "outputs": []
    },
    {
      "cell_type": "code",
      "source": [
        "# 5.2 Get a dict of word and its int label:\n",
        "#     Most freq word gets transformed to 1:\n",
        "\n",
        "word_index = {word: ii for ii, word in enumerate(vocab, 1)}"
      ],
      "metadata": {
        "id": "TgYbSdDvE8Gy"
      },
      "execution_count": 68,
      "outputs": []
    },
    {
      "cell_type": "code",
      "source": [
        "# 5.3 Here is our word to int index:\n",
        "\n",
        "word_index"
      ],
      "metadata": {
        "id": "m6rVbynCFEOB"
      },
      "execution_count": null,
      "outputs": []
    },
    {
      "cell_type": "markdown",
      "source": [
        "## Get skipgrams\n",
        "Transform text to int sequence and get skipgram pairs"
      ],
      "metadata": {
        "id": "MfL8wVW6WdzT"
      }
    },
    {
      "cell_type": "code",
      "source": [
        "# 6.0 Function to map a word list to integers\n",
        "#     as per mapping in word_index dict:\n",
        "\n",
        "def seq2int(wordList, word_index):\n",
        "    return [word_index[x] for x in wordList]"
      ],
      "metadata": {
        "id": "ddmxfPxJFhpA"
      },
      "execution_count": 70,
      "outputs": []
    },
    {
      "cell_type": "code",
      "source": [
        "# 6.1 Here is our int seq:\n",
        "\n",
        "int_seq = seq2int(cleaned_tokens, word_index)\n",
        "int_seq[:10]"
      ],
      "metadata": {
        "id": "ixftV8-JGmxp",
        "outputId": "240508af-907e-448d-abc2-86f393c60e26",
        "colab": {
          "base_uri": "https://localhost:8080/"
        }
      },
      "execution_count": 71,
      "outputs": [
        {
          "output_type": "execute_result",
          "data": {
            "text/plain": [
              "[753, 362, 16, 1789, 90, 363, 32, 1121, 46, 16]"
            ]
          },
          "metadata": {},
          "execution_count": 71
        }
      ]
    },
    {
      "cell_type": "code",
      "source": [
        "# 6.2 Translate the int_seq to pairs of skipgrams:\n",
        "\n",
        "pairs = skipgrams(\n",
        "                   int_seq,\n",
        "                   vocabulary_size = max_vocab,\n",
        "                   window_size=4,\n",
        "                   negative_samples=1.0,\n",
        "                   shuffle=True,\n",
        "                   categorical=False,\n",
        "                   sampling_table=None,\n",
        "                   seed=None\n",
        "                  )"
      ],
      "metadata": {
        "id": "gGvjFQZJD6DL"
      },
      "execution_count": 72,
      "outputs": []
    },
    {
      "cell_type": "code",
      "source": [
        "# 6.3 Look at pairs:\n",
        "\n",
        "pairs[0]"
      ],
      "metadata": {
        "id": "F9Vu_MAZQQrS"
      },
      "execution_count": null,
      "outputs": []
    },
    {
      "cell_type": "markdown",
      "source": [
        "## Save processed data\n",
        "Save skipgram pairs and word-to-index dict to `/content/` folder of virtual machine"
      ],
      "metadata": {
        "id": "xjhpSBOiXdaj"
      }
    },
    {
      "cell_type": "code",
      "source": [
        "# 7.0 Transform to pandas DataFrame:\n",
        "\n",
        "data = pd.DataFrame(pairs[0], columns = [\"a\", \"b\"])\n",
        "data.to_pickle(\"/content/seq.pkl\")\n",
        "data.head()"
      ],
      "metadata": {
        "id": "RCsE6rmwQZfH"
      },
      "execution_count": null,
      "outputs": []
    },
    {
      "cell_type": "code",
      "source": [
        "# 7.1 Save word_to_index dict to a text file:\n",
        "\n",
        "filehandler = open(\"/content/word_index.txt\", 'wt')\n",
        "data = str(word_index)\n",
        "filehandler.write(data)"
      ],
      "metadata": {
        "colab": {
          "base_uri": "https://localhost:8080/"
        },
        "id": "dysRK-xaYumT",
        "outputId": "89eedb3f-dec7-405f-bbae-fbd0bd85579f"
      },
      "execution_count": 75,
      "outputs": [
        {
          "output_type": "execute_result",
          "data": {
            "text/plain": [
              "69345"
            ]
          },
          "metadata": {},
          "execution_count": 75
        }
      ]
    },
    {
      "cell_type": "markdown",
      "source": [
        "## Read back saved files"
      ],
      "metadata": {
        "id": "_d9JC8u4a4bj"
      }
    },
    {
      "cell_type": "code",
      "source": [
        "# 8.0 Read back pkl file and dictionary:\n",
        "seq = pd.read_pickle(\"/content/seq.pkl\")\n",
        "seq.head()"
      ],
      "metadata": {
        "colab": {
          "base_uri": "https://localhost:8080/",
          "height": 206
        },
        "id": "z58-gFUgZEwV",
        "outputId": "085fbd02-2470-4db1-d500-a9f271e63051"
      },
      "execution_count": 76,
      "outputs": [
        {
          "output_type": "execute_result",
          "data": {
            "text/plain": [
              "     a     b\n",
              "0    5  1554\n",
              "1    7   261\n",
              "2   30  2621\n",
              "3  320    74\n",
              "4    1  3397"
            ],
            "text/html": [
              "\n",
              "  <div id=\"df-18d91f7b-0f06-4459-9dd9-828130c832f8\">\n",
              "    <div class=\"colab-df-container\">\n",
              "      <div>\n",
              "<style scoped>\n",
              "    .dataframe tbody tr th:only-of-type {\n",
              "        vertical-align: middle;\n",
              "    }\n",
              "\n",
              "    .dataframe tbody tr th {\n",
              "        vertical-align: top;\n",
              "    }\n",
              "\n",
              "    .dataframe thead th {\n",
              "        text-align: right;\n",
              "    }\n",
              "</style>\n",
              "<table border=\"1\" class=\"dataframe\">\n",
              "  <thead>\n",
              "    <tr style=\"text-align: right;\">\n",
              "      <th></th>\n",
              "      <th>a</th>\n",
              "      <th>b</th>\n",
              "    </tr>\n",
              "  </thead>\n",
              "  <tbody>\n",
              "    <tr>\n",
              "      <th>0</th>\n",
              "      <td>5</td>\n",
              "      <td>1554</td>\n",
              "    </tr>\n",
              "    <tr>\n",
              "      <th>1</th>\n",
              "      <td>7</td>\n",
              "      <td>261</td>\n",
              "    </tr>\n",
              "    <tr>\n",
              "      <th>2</th>\n",
              "      <td>30</td>\n",
              "      <td>2621</td>\n",
              "    </tr>\n",
              "    <tr>\n",
              "      <th>3</th>\n",
              "      <td>320</td>\n",
              "      <td>74</td>\n",
              "    </tr>\n",
              "    <tr>\n",
              "      <th>4</th>\n",
              "      <td>1</td>\n",
              "      <td>3397</td>\n",
              "    </tr>\n",
              "  </tbody>\n",
              "</table>\n",
              "</div>\n",
              "      <button class=\"colab-df-convert\" onclick=\"convertToInteractive('df-18d91f7b-0f06-4459-9dd9-828130c832f8')\"\n",
              "              title=\"Convert this dataframe to an interactive table.\"\n",
              "              style=\"display:none;\">\n",
              "        \n",
              "  <svg xmlns=\"http://www.w3.org/2000/svg\" height=\"24px\"viewBox=\"0 0 24 24\"\n",
              "       width=\"24px\">\n",
              "    <path d=\"M0 0h24v24H0V0z\" fill=\"none\"/>\n",
              "    <path d=\"M18.56 5.44l.94 2.06.94-2.06 2.06-.94-2.06-.94-.94-2.06-.94 2.06-2.06.94zm-11 1L8.5 8.5l.94-2.06 2.06-.94-2.06-.94L8.5 2.5l-.94 2.06-2.06.94zm10 10l.94 2.06.94-2.06 2.06-.94-2.06-.94-.94-2.06-.94 2.06-2.06.94z\"/><path d=\"M17.41 7.96l-1.37-1.37c-.4-.4-.92-.59-1.43-.59-.52 0-1.04.2-1.43.59L10.3 9.45l-7.72 7.72c-.78.78-.78 2.05 0 2.83L4 21.41c.39.39.9.59 1.41.59.51 0 1.02-.2 1.41-.59l7.78-7.78 2.81-2.81c.8-.78.8-2.07 0-2.86zM5.41 20L4 18.59l7.72-7.72 1.47 1.35L5.41 20z\"/>\n",
              "  </svg>\n",
              "      </button>\n",
              "      \n",
              "  <style>\n",
              "    .colab-df-container {\n",
              "      display:flex;\n",
              "      flex-wrap:wrap;\n",
              "      gap: 12px;\n",
              "    }\n",
              "\n",
              "    .colab-df-convert {\n",
              "      background-color: #E8F0FE;\n",
              "      border: none;\n",
              "      border-radius: 50%;\n",
              "      cursor: pointer;\n",
              "      display: none;\n",
              "      fill: #1967D2;\n",
              "      height: 32px;\n",
              "      padding: 0 0 0 0;\n",
              "      width: 32px;\n",
              "    }\n",
              "\n",
              "    .colab-df-convert:hover {\n",
              "      background-color: #E2EBFA;\n",
              "      box-shadow: 0px 1px 2px rgba(60, 64, 67, 0.3), 0px 1px 3px 1px rgba(60, 64, 67, 0.15);\n",
              "      fill: #174EA6;\n",
              "    }\n",
              "\n",
              "    [theme=dark] .colab-df-convert {\n",
              "      background-color: #3B4455;\n",
              "      fill: #D2E3FC;\n",
              "    }\n",
              "\n",
              "    [theme=dark] .colab-df-convert:hover {\n",
              "      background-color: #434B5C;\n",
              "      box-shadow: 0px 1px 3px 1px rgba(0, 0, 0, 0.15);\n",
              "      filter: drop-shadow(0px 1px 2px rgba(0, 0, 0, 0.3));\n",
              "      fill: #FFFFFF;\n",
              "    }\n",
              "  </style>\n",
              "\n",
              "      <script>\n",
              "        const buttonEl =\n",
              "          document.querySelector('#df-18d91f7b-0f06-4459-9dd9-828130c832f8 button.colab-df-convert');\n",
              "        buttonEl.style.display =\n",
              "          google.colab.kernel.accessAllowed ? 'block' : 'none';\n",
              "\n",
              "        async function convertToInteractive(key) {\n",
              "          const element = document.querySelector('#df-18d91f7b-0f06-4459-9dd9-828130c832f8');\n",
              "          const dataTable =\n",
              "            await google.colab.kernel.invokeFunction('convertToInteractive',\n",
              "                                                     [key], {});\n",
              "          if (!dataTable) return;\n",
              "\n",
              "          const docLinkHtml = 'Like what you see? Visit the ' +\n",
              "            '<a target=\"_blank\" href=https://colab.research.google.com/notebooks/data_table.ipynb>data table notebook</a>'\n",
              "            + ' to learn more about interactive tables.';\n",
              "          element.innerHTML = '';\n",
              "          dataTable['output_type'] = 'display_data';\n",
              "          await google.colab.output.renderOutput(dataTable, element);\n",
              "          const docLink = document.createElement('div');\n",
              "          docLink.innerHTML = docLinkHtml;\n",
              "          element.appendChild(docLink);\n",
              "        }\n",
              "      </script>\n",
              "    </div>\n",
              "  </div>\n",
              "  "
            ]
          },
          "metadata": {},
          "execution_count": 76
        }
      ]
    },
    {
      "cell_type": "code",
      "source": [
        "# 8.1 Read saved dict:\n",
        "\n",
        "filehandler = open(\"/content/word_index.txt\", 'r')\n",
        "filehandler.read()"
      ],
      "metadata": {
        "id": "WcKh2IAnZS7D",
        "outputId": "f4d4b482-4892-410e-b3f5-5f3a9c2fde95",
        "colab": {
          "base_uri": "https://localhost:8080/",
          "height": 177
        }
      },
      "execution_count": 77,
      "outputs": [
        {
          "output_type": "execute_result",
          "data": {
            "text/plain": [
              "\"{'football': 1, 'religion': 2, 'ball': 3, 'hockey': 4, 'rules': 5, 'game': 6, 'law': 7, 'religious': 8, 'played': 9, 'rugby': 10, 'religions': 11, 'first': 12, 'games': 13, 'th': 14, 'century': 15, 'crime': 16, 'one': 17, 'also': 18, 'many': 19, 'world': 20, 'may': 21, 'used': 22, 'ice': 23, 'modern': 24, 'codes': 25, 'word': 26, 'people': 27, 'called': 28, 'england': 29, 'association': 30, 'players': 31, 'state': 32, 'form': 33, 'time': 34, 'known': 35, 'sport': 36, 'english': 37, 'early': 38, 'two': 39, 'various': 40, 'school': 41, 'include': 42, 'use': 43, 'criminal': 44, 'common': 45, 'term': 46, 'public': 47, 'crimes': 48, 'code': 49, 'including': 50, 'however': 51, 'schools': 52, 'playing': 53, 'american': 54, 'countries': 55, 'international': 56, 'field': 57, 'laws': 58, 'sports': 59, 'play': 60, 'states': 61, 'ancient': 62, 'new': 63, 'league': 64, 'culture': 65, 'life': 66, 'practices': 67, 'based': 68, 'goal': 69, 'system': 70, 'even': 71, 'beliefs': 72, 'social': 73, 'example': 74, 'concept': 75, 'often': 76, 'earliest': 77, 'forms': 78, 'sometimes': 79, 'australian': 80, 'legal': 81, 'several': 82, 'latin': 83, 'would': 84, 'later': 85, 'belief': 86, 'united': 87, 'national': 88, 'team': 89, 'act': 90, 'individual': 91, 'nature': 92, 'usually': 93, 'cultures': 94, 'number': 95, 'canada': 96, 'club': 97, 'sacred': 98, 'judaism': 99, 'popular': 100, 'found': 101, 'general': 102, 'natural': 103, 'human': 104, 'union': 105, 'either': 106, 'particular': 107, 'others': 108, 'rule': 109, 'roman': 110, 'study': 111, 'allowed': 112, 'inline': 113, 'mythology': 114, 'defined': 115, 'following': 116, 'means': 117, 'different': 118, 'player': 119, 'christianity': 120, 'offence': 121, 'needed': 122, 'meant': 123, 'could': 124, 'political': 125, 'since': 126, 'like': 127, 'similar': 128, 'western': 129, 'definition': 130, 'though': 131, 'written': 132, 'made': 133, 'group': 134, 'involved': 135, 'terms': 136, 'europe': 137, 'kicking': 138, 'traditional': 139, 'teams': 140, 'sticks': 141, 'bandy': 142, 'religi': 143, 'society': 144, 'meaning': 145, 'related': 146, 'thus': 147, 'line': 148, 'among': 149, 'c': 150, 'reference': 151, 'thought': 152, 'university': 153, 'side': 154, 'set': 155, 'clubs': 156, 'islam': 157, 'science': 158, 'power': 159, 'non': 160, 'men': 161, 'cultural': 162, 'place': 163, 'become': 164, 'theory': 165, 'bc': 166, 'gods': 167, 'christian': 168, 'things': 169, 'still': 170, 'well': 171, 'due': 172, 'professional': 173, 'evidence': 174, 'college': 175, 'practice': 176, 'e': 177, 'faith': 178, 'theories': 179, 'theft': 180, 'citation': 181, 'widely': 182, 'greek': 183, 'referred': 184, 'moral': 185, 'according': 186, 'see': 187, 'whether': 188, 'ireland': 189, 'another': 190, 'developed': 191, 'william': 192, 'much': 193, 'medieval': 194, 'australia': 195, 'city': 196, 'although': 197, 'canadian': 198, 'asia': 199, 'throughout': 200, 'god': 201, 'considered': 202, 'running': 203, 'became': 204, 'fa': 205, 'roller': 206, 'health': 207, 'norms': 208, 'french': 209, 'make': 210, 'original': 211, 'scholars': 212, 'u': 213, 'foot': 214, 'kick': 215, 'match': 216, 'began': 217, 'body': 218, 'meeting': 219, 'melbourne': 220, 'skates': 221, 'puck': 222, 'certain': 223, 'must': 224, 'every': 225, 'civil': 226, 'richard': 227, 'case': 228, 'changes': 229, 'members': 230, 'less': 231, 'define': 232, 'history': 233, 'offences': 234, 'courts': 235, 'years': 236, 'using': 237, 'seen': 238, 'population': 239, 'morality': 240, 'way': 241, 'described': 242, 'goals': 243, 'man': 244, 'origin': 245, 'texts': 246, 'sense': 247, 'significant': 248, 'emerged': 249, 'traditions': 250, 'work': 251, 'northern': 252, 'part': 253, 'distinct': 254, 'divine': 255, 'north': 256, 'parts': 257, 'carrying': 258, 'passing': 259, 'london': 260, 'translated': 261, 'adopted': 262, 'winter': 263, 'africa': 264, 'sledge': 265, 'buddhism': 266, 'view': 267, 'acts': 268, 'order': 269, 'attempt': 270, 'authorities': 271, 'justice': 272, 'derived': 273, 'rather': 274, 'old': 275, 'g': 276, 'refers': 277, 'late': 278, 'given': 279, 'enforcement': 280, 'influence': 281, 'similarly': 282, 'pass': 283, 'beings': 284, 'end': 285, 'concepts': 286, 'largely': 287, 'ad': 288, 'violent': 289, 'around': 290, 'development': 291, 'violence': 292, 'cognitive': 293, 'billion': 294, 'outside': 295, 'primarily': 296, 'within': 297, 'indigenous': 298, 'middle': 299, 'matches': 300, 'britain': 301, 'students': 302, 'today': 303, 'said': 304, 'style': 305, 'year': 306, 'cup': 307, 'oldest': 308, 'scientific': 309, 'wills': 310, 'variant': 311, 'european': 312, 'mean': 313, 'stick': 314, 'ethnic': 315, 'abrahamic': 316, 'superstition': 317, 'community': 318, 'systems': 319, 'historically': 320, 'originally': 321, 'making': 322, 'almost': 323, 'john': 324, 'right': 325, 'describes': 326, 'recent': 327, 'origins': 328, 'together': 329, 'king': 330, 'day': 331, 'distinguish': 332, 'involving': 333, 'church': 334, 'smaller': 335, 'times': 336, 'divided': 337, 'good': 338, 'universal': 339, 'islamic': 340, 'types': 341, 'soccer': 342, 'founded': 343, 'elements': 344, 'main': 345, 'offside': 346, 'balls': 347, 'de': 348, 'ban': 349, 'women': 350, 'important': 351, 'took': 352, 'cambridge': 353, 'formed': 354, 'true': 355, 'long': 356, 'floor': 357, 'comparative': 358, 'argued': 359, 'worship': 360, 'fear': 361, 'language': 362, 'punishable': 363, 'nations': 364, 'societies': 365, 'jurisdictions': 366, 'death': 367, 'individuals': 368, 'private': 369, 'governing': 370, 'punishment': 371, 'person': 372, 'suggests': 373, 'behavior': 374, 'extent': 375, 'experience': 376, 'second': 377, 'activities': 378, 'dominant': 379, 'reason': 380, 'whatever': 381, 'free': 382, 'concern': 383, 'idea': 384, 'country': 385, 'recorded': 386, 'surviving': 387, 'specific': 388, 'across': 389, 'property': 390, 'included': 391, 'consider': 392, 'major': 393, 'hand': 394, 'greece': 395, 'come': 396, 'studies': 397, 'wage': 398, 'institutions': 399, 'gaelic': 400, 'references': 401, 'back': 402, 'hands': 403, 'handling': 404, 'period': 405, 'kicked': 406, 'book': 407, 'zealand': 408, 'central': 409, 'comes': 410, 'open': 411, 'great': 412, 'hold': 413, 'banned': 414, 'mid': 415, 'changed': 416, 'regarding': 417, 'believe': 418, 'half': 419, 'three': 420, 'towards': 421, 'instance': 422, 'harvard': 423, 'west': 424, 'establishment': 425, 'name': 426, 'aspects': 427, 'summer': 428, 'rink': 429, 'east': 430, 'india': 431, 'supernatural': 432, 'spiritual': 433, 'hinduism': 434, 'spirituality': 435, 'adherents': 436, 'christians': 437, 'practiced': 438, 'muslims': 439, 'muslim': 440, 'category': 441, 'words': 442, 'murder': 443, 'rape': 444, 'provide': 445, 'classified': 446, 'conform': 447, 'without': 448, 'thomas': 449, 'constitutes': 450, 'follow': 451, 'followed': 452, 'section': 453, 'data': 454, 'problem': 455, 'note': 456, 'se': 457, 'malum': 458, 'serious': 459, 'identified': 460, 'h': 461, 'saw': 462, 'able': 463, 'necessary': 464, 'simply': 465, 'entitled': 466, 'current': 467, 'rights': 468, 'follows': 469, 'classical': 470, 'formal': 471, 'issued': 472, 'sources': 473, 'action': 474, 'empire': 475, 'compensation': 476, 'family': 477, 'peoples': 478, 'except': 479, 'largest': 480, 'get': 481, 'st': 482, 'classes': 483, 'perceived': 484, 'america': 485, 'member': 486, 'reported': 487, 'politics': 488, 'emotional': 489, 'psychology': 490, 'possible': 491, 'third': 492, 'spread': 493, 'held': 494, 'feet': 495, 'movement': 496, 'appear': 497, 'centuries': 498, 'japanese': 499, 'ground': 500, 'mentioned': 501, 'fifa': 502, 'rubber': 503, 'documented': 504, 'throw': 505, 'catch': 506, 'historians': 507, 'antiquity': 508, 'children': 509, 'japan': 510, 'popularity': 511, 'boys': 512, 'mob': 513, 'opposing': 514, 'taking': 515, 'fields': 516, 'f': 517, 'proclamation': 518, 'scotland': 519, 'strike': 520, 'met': 521, 'led': 522, 'organised': 523, 'eton': 524, 'includes': 525, 'refer': 526, 'sides': 527, 'forward': 528, 'working': 529, 'class': 530, 'six': 531, 'carried': 532, 'feature': 533, 'competition': 534, 'south': 535, 'sheffield': 536, 'rfu': 537, 'regardless': 538, 'lack': 539, 'single': 540, 'shall': 541, 'remained': 542, 'yale': 543, 'princeton': 544, 'ruck': 545, 'federation': 546, 'fact': 547, 'highest': 548, 'instead': 549, 'olympics': 550, 'classification': 551, 'iran': 552, 'explain': 553, 'atheists': 554, 'movements': 555, 'academic': 556, 'languages': 557, 'jews': 558, 'jewish': 559, 'philosophical': 560, 'deity': 561, 'geertz': 562, 'james': 563, 'groups': 564, 'religiosity': 565, 'accepted': 566, 'definitions': 567, 'created': 568, 'proposed': 569, 'wrong': 570, 'exists': 571, 'worldwide': 572, 'government': 573, 'sentence': 574, 'depending': 575, 'imprisonment': 576, 'violation': 577, 'populations': 578, 'citizens': 579, 'prescribed': 580, 'addition': 581, 'penal': 582, 'believed': 583, 'relationship': 584, 'root': 585, 'give': 586, 'charge': 587, 'derives': 588, 'typically': 589, 'depends': 590, 'applied': 591, 'court': 592, 'considers': 593, 'complex': 594, 'norm': 595, 'cases': 596, 'freedom': 597, 'actually': 598, 'variations': 599, 'prohibition': 600, 'count': 601, 'develop': 602, 'apply': 603, 'consistent': 604, 'appropriate': 605, 'existence': 606, 'content': 607, 'l': 608, 'adopt': 609, 'makes': 610, 'necessarily': 611, 'find': 612, 'conceptions': 613, 'never': 614, 'regard': 615, 'communities': 616, 'sin': 617, 'war': 618, 'left': 619, 'source': 620, 'studied': 621, 'romans': 622, 'pater': 623, 'subject': 624, 'obligation': 625, 'rome': 626, 'came': 627, 'structure': 628, 'grew': 629, 'organization': 630, 'independent': 631, 'context': 632, 'best': 633, 'categories': 634, 'distinction': 635, 'us': 636, 'hours': 637, 'global': 638, 'local': 639, 'varying': 640, 'impact': 641, 'result': 642, 'feeling': 643, 'problems': 644, 'secular': 645, 'catholic': 646, 'exist': 647, 'annual': 648, 'million': 649, 'commonly': 650, 'specifically': 651, 'contemporary': 652, 'tackles': 653, 'put': 654, 'explanations': 655, 'version': 656, 'trying': 657, 'drop': 658, 'cicero': 659, 'whilst': 660, 'attempting': 661, 'especially': 662, 'account': 663, 'victoria': 664, 'go': 665, 'ages': 666, 'animal': 667, 'opponents': 668, 'description': 669, 'david': 670, 'translation': 671, 'pilam': 672, 'uses': 673, 'opposite': 674, 'started': 675, 'attempts': 676, 'division': 677, 'president': 678, 'significantly': 679, 'roots': 680, 'creation': 681, 'bodies': 682, 'grammar': 683, 'devised': 684, 'week': 685, 'difficult': 686, 'beginning': 687, 'little': 688, 'occurred': 689, 'march': 690, 'shaped': 691, 'invention': 692, 'generally': 693, 'defining': 694, 'j': 695, 'october': 696, 'representatives': 697, 'area': 698, 'published': 699, 'recently': 700, 'fair': 701, 'boston': 702, 'mcgill': 703, 'object': 704, 'irish': 705, 'hurling': 706, 'nrfu': 707, 'better': 708, 'separate': 709, 'five': 710, 'event': 711, 'dry': 712, 'eastern': 713, 'curved': 714, 'surface': 715, 'handed': 716, 'iihf': 717, 'organized': 718, 'places': 719, 'services': 720, 'symbols': 721, 'folk': 722, 'unaffiliated': 723, 'identify': 724, 'philosophy': 725, 'anything': 726, 'understood': 727, 'knowledge': 728, 'broad': 729, 'closely': 730, 'toward': 731, 'threskeia': 732, 'protestant': 733, 'argue': 734, 'quran': 735, 'indian': 736, 'tradition': 737, 'depth': 738, 'myth': 739, 'jesus': 740, 'evolutionary': 741, 'prophet': 742, 'prophets': 743, 'associated': 744, 'understanding': 745, 'zoroastrianism': 746, 'african': 747, 'israel': 748, 'teachings': 749, 'wealth': 750, 'interfaith': 751, 'dialogue': 752, 'ordinary': 753, 'provided': 754, 'something': 755, 'prohibited': 756, 'precisely': 757, 'comprehensive': 758, 'statute': 759, 'liberty': 760, 'committing': 761, 'counts': 762, 'relationships': 763, 'establish': 764, 'maintain': 765, 'control': 766, 'punish': 767, 'behaviors': 768, 'codify': 769, 'aim': 770, 'capital': 771, 'sociologist': 772, 'phenomenon': 773, 'cry': 774, 'offense': 775, 'brought': 776, 'omission': 777, 'felony': 778, 'money': 779, 'misdemeanour': 780, 'larceny': 781, 'alternative': 782, 'views': 783, 'prevailing': 784, 'normally': 785, 'psychological': 786, 'conditions': 787, 'affect': 788, 'remain': 789, 'contentious': 790, 'directly': 791, 'affects': 792, 'rates': 793, 'everyday': 794, 'enforce': 795, 'behaviour': 796, 'influenced': 797, 'ways': 798, 'clear': 799, 'consensus': 800, 'seem': 801, 'respect': 802, 'actual': 803, 'legislation': 804, 'criminalization': 805, 'harm': 806, 'convinced': 807, 'cause': 808, 'force': 809, 'wrote': 810, 'regarded': 811, 'rational': 812, 'morally': 813, 'conforms': 814, 'validity': 815, 'determine': 816, 'choose': 817, 'aspect': 818, 'function': 819, 'entails': 820, 'criticism': 821, 'therefore': 822, 'continued': 823, 'adam': 824, 'smith': 825, 'inherently': 826, 'whereas': 827, 'illegal': 828, 'influential': 829, 'always': 830, 'sumerians': 831, 'short': 832, 'personal': 833, 'dharma': 834, 'issues': 835, 'etc': 836, 'henry': 837, 'available': 838, 'deal': 839, 'wrongs': 840, 'treated': 841, 'assault': 842, 'twelve': 843, 'parlance': 844, 'robbery': 845, 'monetary': 846, 'complete': 847, 'range': 848, 'land': 849, 'emerge': 850, 'namely': 851, 'special': 852, 'parallel': 853, 'scandinavia': 854, 'effect': 855, 'apparent': 856, 'gradually': 857, 'royal': 858, 'feelings': 859, 'help': 860, 'keep': 861, 'peace': 862, 'real': 863, 'sociological': 864, 'method': 865, 'mode': 866, 'reports': 867, 'ucr': 868, 'annually': 869, 'officials': 870, 'county': 871, 'classify': 872, 'categorized': 873, 'organizations': 874, 'thing': 875, 'empirical': 876, 'support': 877, 'positive': 878, 'lower': 879, 'point': 880, 'role': 881, 'promote': 882, 'otherwise': 883, 'historical': 884, 'canon': 885, 'military': 886, 'regular': 887, 'contain': 888, 'possession': 889, 'large': 890, 'estimated': 891, 'foreign': 892, 'full': 893, 'score': 894, 'share': 895, 'british': 896, 'areas': 897, 'regional': 898, 'already': 899, 'limited': 900, 'scoring': 901, 'phrase': 902, 'variety': 903, 'chinese': 904, 'cuju': 905, 'existed': 906, 'dynasty': 907, 'kemari': 908, 'theologian': 909, 'resembled': 910, 'air': 911, 'recognised': 912, 'native': 913, 'links': 914, 'small': 915, 'marn': 916, 'grook': 917, 'seven': 918, 'far': 919, 'w': 920, 'huge': 921, 'shrovetide': 922, 'particularly': 923, 'france': 924, 'geographical': 925, 'festivals': 926, 'youth': 927, 'inner': 928, 'ran': 929, 'spectator': 930, 'lay': 931, 'upper': 932, 'caused': 933, 'edward': 934, 'handball': 935, 'schoolboys': 936, 'aberdeen': 937, 'notable': 938, 'allusion': 939, 'dribbling': 940, 'recreation': 941, 'throwing': 942, 'calcio': 943, 'originated': 944, 'evolved': 945, 'diverge': 946, 'equivalent': 947, 'four': 948, 'away': 949, 'former': 950, 'codified': 951, 'mulcaster': 952, 'writings': 953, 'wedderburn': 954, 'holding': 955, 'describe': 956, 'close': 957, 'formation': 958, 'harrow': 959, 'neither': 960, 'fit': 961, 'varied': 962, 'westminster': 963, 'charterhouse': 964, 'partly': 965, 'webb': 966, 'ellis': 967, 'distinctive': 968, 'permitted': 969, 'ever': 970, 'sporting': 971, 'competitions': 972, 'apart': 973, 'uk': 974, 'increased': 975, 'p': 976, 'trophy': 977, 'representing': 978, 'oval': 979, 'bladders': 980, 'introduced': 981, 'allow': 982, 'lindon': 983, 'round': 984, 'goalkeeper': 985, 'nevertheless': 986, 'text': 987, 'engineers': 988, 'posts': 989, 'official': 990, 'marks': 991, 'tom': 992, 'speaking': 993, 'initially': 994, 'kicks': 995, 'b': 996, 'committee': 997, 'mark': 998, 'victorian': 999, 'behind': 1000, 'high': 1001, 'southern': 1002, 'increasing': 1003, 'master': 1004, 'uppingham': 1005, 'drawn': 1006, 'total': 1007, 'december': 1008, 'attention': 1009, 'hacking': 1010, 'run': 1011, 'bound': 1012, 'campbell': 1013, 'blackheath': 1014, 'claim': 1015, 'november': 1016, 'toronto': 1017, 'approximately': 1018, 'trinity': 1019, 'montreal': 1020, 'diverged': 1021, 'distance': 1022, 'developments': 1023, 'caid': 1024, 'begun': 1025, 'ten': 1026, 'paid': 1027, 'situation': 1028, 'says': 1029, 'le': 1030, 'affiliates': 1031, 'names': 1032, 'top': 1033, 'average': 1034, 'attendance': 1035, 'nation': 1036, 'unlike': 1037, 'preceded': 1038, 'type': 1039, 'disk': 1040, 'whose': 1041, 'ringette': 1042, 'invented': 1043, 'russia': 1044, 'translations': 1045, 'divisions': 1046, 'recognized': 1047, 'championships': 1048, 'sex': 1049, 'olympic': 1050, 'wood': 1051, 'flat': 1052, 'para': 1053, 'physical': 1054, 'sledges': 1055, 'skate': 1056, 'essentially': 1057, 'sort': 1058, 'transcendence': 1059, 'rituals': 1060, 'music': 1061, 'holy': 1062, 'symbolic': 1063, 'stories': 1064, 'followers': 1065, 'universe': 1066, 'phenomena': 1067, 'traditionally': 1068, 'religiously': 1069, 'disciplines': 1070, 'theology': 1071, 'monastic': 1072, 'mundane': 1073, 'relation': 1074, 'anxiety': 1075, 'authors': 1076, 'domain': 1077, 'josephus': 1078, 'multiple': 1079, 'doctrines': 1080, 'clearly': 1081, 'taoism': 1082, 'self': 1083, 'hindu': 1084, 'max': 1085, 'theistic': 1086, 'clifford': 1087, 'tylor': 1088, 'deeper': 1089, 'reality': 1090, 'peter': 1091, 'paul': 1092, 'relatively': 1093, 'grounded': 1094, 'experiences': 1095, 'spirit': 1096, 'durkheim': 1097, 'substance': 1098, 'ultimate': 1099, 'anthropology': 1100, 'model': 1101, 'christ': 1102, 'seek': 1103, 'philosophies': 1104, 'monotheistic': 1105, 'per': 1106, 'orthodox': 1107, 'unity': 1108, 'southeast': 1109, 'bah': 1110, 'druze': 1111, 'focused': 1112, 'looked': 1113, 'facts': 1114, 'sharia': 1115, 'likely': 1116, 'leaders': 1117, 'values': 1118, 'irreligion': 1119, 'soil': 1120, 'authority': 1121, 'simple': 1122, 'statutory': 1123, 'purposes': 1124, 'declared': 1125, 'relevant': 1126, 'harmful': 1127, 'forbidden': 1128, 'jurisdiction': 1129, 'procedures': 1130, 'trials': 1131, 'adhere': 1132, 'guilty': 1133, 'offender': 1134, 'emphasize': 1135, 'exceptions': 1136, 'intention': 1137, 'violates': 1138, 'breaches': 1139, 'torts': 1140, 'punished': 1141, 'enforced': 1142, 'procedure': 1143, 'prove': 1144, 'agents': 1145, 'reform': 1146, 'mechanisms': 1147, 'regulate': 1148, 'encouraging': 1149, 'discouraging': 1150, 'agencies': 1151, 'comply': 1152, 'remedies': 1153, 'sanctions': 1154, 'collectively': 1155, 'vary': 1156, 'aimed': 1157, 'permanent': 1158, 'punishments': 1159, 'persons': 1160, 'commit': 1161, 'capable': 1162, 'quinney': 1163, 'conceive': 1164, 'societal': 1165, 'decide': 1166, 'judgment': 1167, 'distress': 1168, 'probably': 1169, 'crimen': 1170, 'indictment': 1171, 'fault': 1172, 'karl': 1173, 'rejects': 1174, 'dates': 1175, 'cf': 1176, 'prevention': 1177, 'false': 1178, 'counterfeit': 1179, 'coin': 1180, 'fifty': 1181, 'purpose': 1182, 'labour': 1183, 'relations': 1184, 'standards': 1185, 'ought': 1186, 'behave': 1187, 'approach': 1188, 'realities': 1189, 'understand': 1190, 'changing': 1191, 'change': 1192, 'statistics': 1193, 'shape': 1194, 'attitudes': 1195, 'controlled': 1196, 'indeed': 1197, 'mala': 1198, 'alone': 1199, 'reduction': 1200, 'threat': 1201, 'anyone': 1202, 'engage': 1203, 'causing': 1204, 'becomes': 1205, 'entities': 1206, 'costs': 1207, 'criminalizing': 1208, 'restricting': 1209, 'assert': 1210, 'standard': 1211, 'accused': 1212, 'coerce': 1213, 'compliance': 1214, 'posits': 1215, 'underlies': 1216, 'valid': 1217, 'acceptable': 1218, 'accepting': 1219, 'objective': 1220, 'objectively': 1221, 'utility': 1222, 'remains': 1223, 'hart': 1224, 'sovereignty': 1225, 'sufficient': 1226, 'truth': 1227, 'equal': 1228, 'fundamental': 1229, 'citizen': 1230, 'duty': 1231, 'circumstances': 1232, 'enforcing': 1233, 'primary': 1234, 'impossible': 1235, 'degree': 1236, 'contrast': 1237, 'saying': 1238, 'criminality': 1239, 'interests': 1240, 'lawyers': 1241, 'express': 1242, 'prohibitum': 1243, 'respectively': 1244, 'goes': 1245, 'founding': 1246, 'fathers': 1247, 'mythological': 1248, 'accounts': 1249, 'conflict': 1250, 'containing': 1251, 'mixed': 1252, 'survived': 1253, 'ur': 1254, 'nammu': 1255, 'penalties': 1256, 'articles': 1257, 'bce': 1258, 'conscious': 1259, 'compile': 1260, 'conduct': 1261, 'sanskrit': 1262, 'duties': 1263, 'sir': 1264, 'failed': 1265, 'hellenic': 1266, 'victims': 1267, 'slave': 1268, 'payment': 1269, 'teutonic': 1270, 'germanic': 1271, 'tribes': 1272, 'anglo': 1273, 'kings': 1274, 'norman': 1275, 'events': 1276, 'usual': 1277, 'extraordinary': 1278, 'manner': 1279, 'wanted': 1280, 'feudal': 1281, 'modified': 1282, 'climate': 1283, 'judge': 1284, 'parish': 1285, 'board': 1286, 'onwards': 1287, 'requiring': 1288, 'families': 1289, 'male': 1290, 'compare': 1291, 'security': 1292, 'council': 1293, 'decisions': 1294, 'call': 1295, 'birth': 1296, 'acquire': 1297, 'michel': 1298, 'discipline': 1299, 'researchers': 1300, 'seriousness': 1301, 'treason': 1302, 'abolished': 1303, 'wales': 1304, 'uniform': 1305, 'levels': 1306, 'burglary': 1307, 'sphere': 1308, 'require': 1309, 'ranging': 1310, 'offering': 1311, 'activity': 1312, 'split': 1313, 'biological': 1314, 'topics': 1315, 'research': 1316, 'effects': 1317, 'linked': 1318, 'solutions': 1319, 'carry': 1320, 'solution': 1321, 'prosecute': 1322, 'netherlands': 1323, 'clash': 1324, 'socially': 1325, 'grounds': 1326, 'abortion': 1327, 'present': 1328, 'established': 1329, 'streets': 1330, 'lost': 1331, 'singapore': 1332, 'widespread': 1333, 'survey': 1334, 'workers': 1335, 'involve': 1336, 'unqualified': 1337, 'prehistoric': 1338, 'traced': 1339, 'codification': 1340, 'becoming': 1341, 'associations': 1342, 'kinds': 1343, 'moved': 1344, 'strictly': 1345, 'skills': 1346, 'tackling': 1347, 'catching': 1348, 'crossbar': 1349, 'goalposts': 1350, 'explanation': 1351, 'descriptions': 1352, 'possibly': 1353, 'imperial': 1354, 'stand': 1355, 'episkyros': 1356, 'named': 1357, 'inuit': 1358, 'americans': 1359, 'similarities': 1360, 'basketball': 1361, 'volleyball': 1362, 'net': 1363, 'robert': 1364, 'aboriginal': 1365, 'mr': 1366, 'consisting': 1367, 'points': 1368, 'touching': 1369, 'boundary': 1370, 'lie': 1371, 'al': 1372, 'try': 1373, 'leather': 1374, 'revived': 1375, 'attributed': 1376, 'date': 1377, 'towns': 1378, 'neighbouring': 1379, 'inflated': 1380, 'bladder': 1381, 'space': 1382, 'era': 1383, 'detailed': 1384, 'youths': 1385, 'take': 1386, 'watch': 1387, 'speak': 1388, 'lord': 1389, 'banning': 1390, 'might': 1391, 'forbid': 1392, 'future': 1393, 'iii': 1394, 'exact': 1395, 'fell': 1396, 'repercute': 1397, 'illi': 1398, 'suggesting': 1399, 'age': 1400, 'iv': 1401, 'presented': 1402, 'young': 1403, 'propel': 1404, 'gives': 1405, 'pitch': 1406, 'marked': 1407, 'historic': 1408, 'fine': 1409, 'exercise': 1410, 'face': 1411, 'faced': 1412, 'campuses': 1413, 'theodore': 1414, 'roosevelt': 1415, 'credited': 1416, 'key': 1417, 'enable': 1418, 'resembling': 1419, 'herman': 1420, 'headmaster': 1421, 'winchester': 1422, 'textbook': 1423, 'parties': 1424, 'positions': 1425, 'standings': 1426, 'coach': 1427, 'footeball': 1428, 'strength': 1429, 'teacher': 1430, 'keeping': 1431, 'willughby': 1432, 'mentions': 1433, 'opponent': 1434, 'advance': 1435, 'differently': 1436, 'shown': 1437, 'cheltenham': 1438, 'days': 1439, 'decline': 1440, 'pupils': 1441, 'marlborough': 1442, 'restricted': 1443, 'rough': 1444, 'tumble': 1445, 'disregard': 1446, 'emphasis': 1447, 'added': 1448, 'arms': 1449, 'story': 1450, 'picking': 1451, 'compulsory': 1452, 'showed': 1453, 'travel': 1454, 'halves': 1455, 'applies': 1456, 'lawn': 1457, 'grass': 1458, 'dedicated': 1459, 'located': 1460, 'forbade': 1461, 'tripping': 1462, 'longest': 1463, 'fixture': 1464, 'contested': 1465, 'scotch': 1466, 'caledonian': 1467, 'challenge': 1468, 'hospitals': 1469, 'yorkshire': 1470, 'pig': 1471, 'exhibited': 1472, 'exhibition': 1473, 'vulcanised': 1474, 'paris': 1475, 'past': 1476, 'lancashire': 1477, 'afc': 1478, 'ing': 1479, 'cooperation': 1480, 'minute': 1481, 'double': 1482, 'nottingham': 1483, 'front': 1484, 'contest': 1485, 'decision': 1486, 'innovations': 1487, 'differences': 1488, 'july': 1489, 'calling': 1490, 'forming': 1491, 'debated': 1492, 'suit': 1493, 'harrison': 1494, 'seminal': 1495, 'figure': 1496, 'penalised': 1497, 'distributed': 1498, 'accommodate': 1499, 'featured': 1500, 'bouncing': 1501, 'experienced': 1502, 'unify': 1503, 'queen': 1504, 'draft': 1505, 'adversaries': 1506, 'final': 1507, 'abbreviation': 1508, 'yards': 1509, 'metres': 1510, 'universities': 1511, 'numbers': 1512, 'injury': 1513, 'hybrid': 1514, 'rutgers': 1515, 'participants': 1516, 'frederick': 1517, 'christopher': 1518, 'massachusetts': 1519, 'taken': 1520, 'massasoit': 1521, 'camp': 1522, 'house': 1523, 'scrimmage': 1524, 'injuries': 1525, 'implemented': 1526, 'father': 1527, 'varieties': 1528, 'gaa': 1529, 'reject': 1530, 'davin': 1531, 'prime': 1532, 'attribute': 1533, 'irfb': 1534, 'earlier': 1535, 'dispute': 1536, 'replaced': 1537, 'required': 1538, 'notably': 1539, 'replacement': 1540, 'tackled': 1541, 'officially': 1542, 'affiliated': 1543, 'sweden': 1544, 'ration': 1545, 'internationale': 1546, 'leagues': 1547, 'launched': 1548, 'metre': 1549, 'despite': 1550, 'possibility': 1551, 'kingdom': 1552, 'solely': 1553, 'quebec': 1554, 'television': 1555, 'watched': 1556, 'fastest': 1557, 'growing': 1558, 'clarification': 1559, 'ability': 1560, 'methods': 1561, 'absence': 1562, 'cannot': 1563, 'wheeled': 1564, 'bladed': 1565, 'center': 1566, 'depression': 1567, 'sam': 1568, 'jacks': 1569, 'designed': 1570, 'skating': 1571, 'education': 1572, 'canibucam': 1573, 'historian': 1574, 'supposition': 1575, 'hooked': 1576, 'staves': 1577, 'stoppers': 1578, 'histories': 1579, 'egypt': 1580, 'horn': 1581, 'k': 1582, 'hockie': 1583, 'balle': 1584, 'regulations': 1585, 'outdoors': 1586, 'russian': 1587, 'artificial': 1588, 'hard': 1589, 'mm': 1590, 'diameter': 1591, 'fibre': 1592, 'appeared': 1593, 'pakistan': 1594, 'skaters': 1595, 'level': 1596, 'decrease': 1597, 'amount': 1598, 'latvia': 1599, 'republic': 1600, 'nhl': 1601, 'globe': 1602, 'blade': 1603, 'leader': 1604, 'equipment': 1605, 'aluminum': 1606, 'blades': 1607, 'wheelchair': 1608, 'everyone': 1609, 'quad': 1610, 'road': 1611, 'ethics': 1612, 'humanity': 1613, 'scholarly': 1614, 'ultimacy': 1615, 'rest': 1616, 'sermons': 1617, 'commemoration': 1618, 'veneration': 1619, 'sacrifices': 1620, 'feasts': 1621, 'trances': 1622, 'initiations': 1623, 'funerary': 1624, 'matrimonial': 1625, 'meditation': 1626, 'prayer': 1627, 'art': 1628, 'dance': 1629, 'service': 1630, 'mostly': 1631, 'wide': 1632, 'offer': 1633, 'reverence': 1634, 'ultimately': 1635, 'lego': 1636, 'joseph': 1637, 'usage': 1638, 'orders': 1639, 'broadly': 1640, 'etymological': 1641, 'contexts': 1642, 'doctrine': 1643, 'emotions': 1644, 'superstitio': 1645, 'separated': 1646, 'oath': 1647, 'frequently': 1648, 'deisidaimonia': 1649, 'reformation': 1650, 'globalization': 1651, 'bible': 1652, 'hebrew': 1653, 'path': 1654, 'daily': 1655, 'identity': 1656, 'testament': 1657, 'din': 1658, 'expressed': 1659, 'piety': 1660, 'buddha': 1661, 'confucianism': 1662, 'subcontinent': 1663, 'ller': 1664, 'giving': 1665, 'essence': 1666, 'macmillan': 1667, 'encyclopedia': 1668, 'qualities': 1669, 'culturally': 1670, 'dichotomous': 1671, 'basic': 1672, 'creator': 1673, 'anthropologist': 1674, 'moods': 1675, 'motivations': 1676, 'motive': 1677, 'remarked': 1678, 'done': 1679, 'literature': 1680, 'transcends': 1681, 'powers': 1682, 'signs': 1683, 'intended': 1684, 'sacredness': 1685, 'dimension': 1686, 'dimensions': 1687, 'friedrich': 1688, 'gravity': 1689, 'mile': 1690, 'relative': 1691, 'contrary': 1692, 'myths': 1693, 'virtues': 1694, 'valuing': 1695, 'tillich': 1696, 'concerned': 1697, 'findings': 1698, 'dawkins': 1699, 'interplay': 1700, 'interest': 1701, 'sociology': 1702, 'founder': 1703, 'basis': 1704, 'living': 1705, 'neuroscience': 1706, 'daniel': 1707, 'animism': 1708, 'weber': 1709, 'anthropological': 1710, 'subsequent': 1711, 'anthropologists': 1712, 'charismatic': 1713, 'seems': 1714, 'helps': 1715, 'ideas': 1716, 'talal': 1717, 'asad': 1718, 'perspective': 1719, 'thoughts': 1720, 'psychotic': 1721, 'temporal': 1722, 'lobe': 1723, 'epilepsy': 1724, 'atheistic': 1725, 'studying': 1726, 'richer': 1727, 'iranian': 1728, 'asian': 1729, 'exclusive': 1730, 'furthermore': 1731, 'look': 1732, 'converts': 1733, 'jainism': 1734, 'syncretism': 1735, 'poll': 1736, 'identification': 1737, 'compared': 1738, 'principles': 1739, 'torah': 1740, 'foundational': 1741, 'oral': 1742, 'revealed': 1743, 'commandments': 1744, 'ce': 1745, 'cent': 1746, 'son': 1747, 'teaches': 1748, 'colonization': 1749, 'muhammad': 1750, 'accepts': 1751, 'majority': 1752, 'denominations': 1753, 'faiths': 1754, 'additional': 1755, 'mandaeans': 1756, 'generation': 1757, 'diverse': 1758, 'china': 1759, 'greater': 1760, 'minorities': 1761, 'mazda': 1762, 'evil': 1763, 'marriage': 1764, 'secularization': 1765, 'metaphysical': 1766, 'midst': 1767, 'observed': 1768, 'scripture': 1769, 'models': 1770, 'value': 1771, 'strong': 1772, 'congress': 1773, 'nonreligious': 1774, 'diversity': 1775, 'involvement': 1776, 'mental': 1777, 'quality': 1778, 'outcomes': 1779, 'longevity': 1780, 'suggested': 1781, 'page': 1782, 'asserts': 1783, 'magical': 1784, 'agnostic': 1785, 'soul': 1786, 'transplanting': 1787, 'kill': 1788, 'unlawful': 1789, 'universally': 1790, 'applicable': 1791, 'notion': 1792, 'catalogue': 1793, 'severely': 1794, 'restrict': 1795, 'investigations': 1796, 'sentenced': 1797, 'reparation': 1798, 'undergo': 1799, 'programs': 1800, 'rehabilitation': 1801, 'punishing': 1802, 'mix': 1803, 'aforementioned': 1804, 'actus': 1805, 'reus': 1806, 'accompanied': 1807, 'mens': 1808, 'rea': 1809, 'contract': 1810, 'automatically': 1811, 'informal': 1812, 'insufficient': 1813, 'desired': 1814, 'impose': 1815, 'formalized': 1816, 'stricter': 1817, 'institutional': 1818, 'machinery': 1819, 'disposal': 1820, 'compel': 1821, 'opt': 1822, 'employ': 1823, 'administering': 1824, 'police': 1825, 'visitors': 1826, 'ensure': 1827, 'implement': 1828, 'policies': 1829, 'legislators': 1830, 'administrators': 1831, 'preventing': 1832, 'constitute': 1833, 'severity': 1834, 'incarceration': 1835, 'temporary': 1836, 'character': 1837, 'reforming': 1838, 'convict': 1839, 'inflict': 1840, 'harsh': 1841, 'mutilation': 1842, 'parole': 1843, 'perpetrates': 1844, 'premodern': 1845, 'animals': 1846, 'prosecuted': 1847, 'accordingly': 1848, 'envisages': 1849, 'perceive': 1850, 'cern': 1851, 'cr': 1852, 'krima': 1853, 'cognate': 1854, 'intellectual': 1855, 'mistake': 1856, 'sinfulness': 1857, 'online': 1858, 'etymology': 1859, 'dictionary': 1860, 'crimne': 1861, 'genitive': 1862, 'criminis': 1863, 'signified': 1864, 'accusation': 1865, 'derive': 1866, 'cernere': 1867, 'sift': 1868, 'crisis': 1869, 'mapped': 1870, 'kairos': 1871, 'chronos': 1872, 'ernest': 1873, 'klein': 1874, 'citing': 1875, 'brugmann': 1876, 'cri': 1877, 'tucker': 1878, 'plaint': 1879, 'plaintiff': 1880, 'glossed': 1881, 'facen': 1882, 'deceit': 1883, 'fraud': 1884, 'treachery': 1885, 'fake': 1886, 'wave': 1887, 'attested': 1888, 'depend': 1889, 'consequences': 1890, 'proceedings': 1891, 'expression': 1892, 'uttering': 1893, 'possessing': 1894, 'gold': 1895, 'silver': 1896, 'obtaining': 1897, 'goods': 1898, 'pretences': 1899, 'conspiracy': 1900, 'defraud': 1901, 'eighth': 1902, 'trade': 1903, 'consolidation': 1904, 'summary': 1905, 'conviction': 1906, 'commission': 1907, 'liable': 1908, 'imprisoned': 1909, 'absolutely': 1910, 'discretion': 1911, 'normative': 1912, 'deviant': 1913, 'prescribing': 1914, 'humans': 1915, 'surrounding': 1916, 'seeks': 1917, 'economic': 1918, 'responses': 1919, 'structural': 1920, 'fluid': 1921, 'environment': 1922, 'shifts': 1923, 'criminalise': 1924, 'decriminalise': 1925, 'behaviours': 1926, 'statistical': 1927, 'allocation': 1928, 'resources': 1929, 'opinion': 1930, 'collection': 1931, 'calculation': 1932, 'perceptions': 1933, 'adjustments': 1934, 'allied': 1935, 'lives': 1936, 'engineering': 1937, 'encourage': 1938, 'resort': 1939, 'drafting': 1940, 'prohibit': 1941, 'observers': 1942, 'improper': 1943, 'limitation': 1944, 'disputed': 1945, 'legislatures': 1946, 'prohibita': 1947, 'gambling': 1948, 'encouragement': 1949, 'duelling': 1950, 'outlawed': 1951, 'commonwealth': 1952, 'deployed': 1953, 'preemptive': 1954, 'device': 1955, 'deterrent': 1956, 'proposing': 1957, 'allowing': 1958, 'harms': 1959, 'continue': 1960, 'unabated': 1961, 'outweigh': 1962, 'minimize': 1963, 'process': 1964, 'label': 1965, 'accompanying': 1966, 'stigma': 1967, 'confine': 1968, 'scope': 1969, 'injurious': 1970, 'loss': 1971, 'damage': 1972, 'labels': 1973, 'intend': 1974, 'hegemony': 1975, 'reflect': 1976, 'condemnation': 1977, 'justify': 1978, 'processing': 1979, 'tries': 1980, 'convicts': 1981, 'justifying': 1982, 'proven': 1983, 'theoretical': 1984, 'justifications': 1985, 'constructs': 1986, 'aquinas': 1987, 'measure': 1988, 'principle': 1989, 'concluding': 1990, 'coercing': 1991, 'blackstone': 1992, 'thesis': 1993, 'austin': 1994, 'positivist': 1995, 'utilitarianism': 1996, 'calculating': 1997, 'denied': 1998, 'austinian': 1999, 'embody': 2000, 'legislature': 2001, 'decrees': 2002, 'achieve': 2003, 'lawmakers': 2004, 'proposition': 2005, 'internal': 2006, 'logic': 2007, 'consistency': 2008, 'responsibility': 2009, 'ronald': 2010, 'dworkin': 2011, 'proposes': 2012, 'expect': 2013, 'govern': 2014, 'offers': 2015, 'overlaid': 2016, 'deference': 2017, 'obey': 2018, 'identifies': 2019, 'legitimate': 2020, 'legitimacy': 2021, 'legislative': 2022, 'obliged': 2023, 'theorists': 2024, 'conformity': 2025, 'condition': 2026, 'reasoning': 2027, 'solve': 2028, 'granting': 2029, 'relativism': 2030, 'evolve': 2031, 'criticize': 2032, 'light': 2033, 'lacks': 2034, 'justification': 2035, 'characterise': 2036, 'hence': 2037, 'illustrates': 2038, 'smuggler': 2039, 'excellent': 2040, 'distinguishes': 2041, 'illegality': 2042, 'originates': 2043, 'phrases': 2044, 'argument': 2045, 'decreed': 2046, 'perform': 2047, 'perfectly': 2048, 'enlightenment': 2049, 'thinkers': 2050, 'subscribed': 2051, 'liberals': 2052, 'libertarians': 2053, 'highlight': 2054, 'legendary': 2055, 'tale': 2056, 'eve': 2057, 'ignite': 2058, 'civilizations': 2059, 'produced': 2060, 'urukagina': 2061, 'reigned': 2062, 'chronology': 2063, 'extant': 2064, 'lipit': 2065, 'ishtar': 2066, 'contains': 2067, 'reconstructed': 2068, 'comparing': 2069, 'sumerian': 2070, 'deeply': 2071, 'resented': 2072, 'encroachment': 2073, 'superior': 2074, 'wonder': 2075, 'successive': 2076, 'babylon': 2077, 'hammurabi': 2078, 'reflected': 2079, 'mesopotamian': 2080, 'babylonian': 2081, 'functioned': 2082, 'theocracies': 2083, 'stra': 2084, 'discussed': 2085, 'elaborate': 2086, 'maine': 2087, 'crimina': 2088, 'delicta': 2089, 'survivors': 2090, 'lacked': 2091, 'systematized': 2092, 'initial': 2093, 'assaults': 2094, 'matter': 2095, 'dominion': 2096, 'familias': 2097, 'owned': 2098, 'slaves': 2099, 'matters': 2100, 'interference': 2101, 'commentaries': 2102, 'gaius': 2103, 'tables': 2104, 'furtum': 2105, 'tort': 2106, 'trespass': 2107, 'trespassed': 2108, 'breach': 2109, 'vinculum': 2110, 'juris': 2111, 'damages': 2112, 'discharge': 2113, 'consolidated': 2114, 'compensations': 2115, 'update': 2116, 'abandoned': 2117, 'britannic': 2118, 'provinces': 2119, 'mercenaries': 2120, 'instrumental': 2121, 'britannia': 2122, 'acquired': 2123, 'ownership': 2124, 'mixture': 2125, 'saxon': 2126, 'centralized': 2127, 'monarchy': 2128, 'invasion': 2129, 'attempted': 2130, 'conception': 2131, 'significance': 2132, 'usurp': 2133, 'functions': 2134, 'tribunals': 2135, 'direct': 2136, 'privilegium': 2137, 'perpetrator': 2138, 'wholly': 2139, 'arbitrary': 2140, 'settled': 2141, 'delictual': 2142, 'operated': 2143, 'highly': 2144, 'raise': 2145, 'selling': 2146, 'writ': 2147, 'dispenses': 2148, 'emerges': 2149, 'emergence': 2150, 'continental': 2151, 'persisted': 2152, 'stronger': 2153, 'coupled': 2154, 'diffuse': 2155, 'units': 2156, 'remaining': 2157, 'strongly': 2158, 'rooted': 2159, 'jurisprudence': 2160, 'meet': 2161, 'assemblies': 2162, 'decided': 2163, 'freeholders': 2164, 'dominating': 2165, 'nominating': 2166, 'esteemed': 2167, 'fulfilling': 2168, 'yore': 2169, 'policy': 2170, 'rationale': 2171, 'committed': 2172, 'avoidance': 2173, 'feuding': 2174, 'clans': 2175, 'mollify': 2176, 'institution': 2177, 'oaths': 2178, 'warfare': 2179, 'archaic': 2180, 'walked': 2181, 'relatives': 2182, 'swear': 2183, 'veto': 2184, 'ensures': 2185, 'crises': 2186, 'restraining': 2187, 'feuds': 2188, 'prevented': 2189, 'fulfillment': 2190, 'policing': 2191, 'omissions': 2192, 'overlap': 2193, 'prompted': 2194, 'fresh': 2195, 'fostered': 2196, 'beginnings': 2197, 'criminology': 2198, 'nietzsche': 2199, 'noted': 2200, 'link': 2201, 'creativity': 2202, 'tragedy': 2203, 'asserted': 2204, 'needs': 2205, 'brightest': 2206, 'obtain': 2207, 'foucault': 2208, 'coercive': 2209, 'commentators': 2210, 'categorise': 2211, 'sentencing': 2212, 'tariffs': 2213, 'fines': 2214, 'noncustodial': 2215, 'sentences': 2216, 'address': 2217, 'least': 2218, 'lengthy': 2219, 'reserved': 2220, 'felonies': 2221, 'trial': 2222, 'categorised': 2223, 'federal': 2224, 'fbi': 2225, 'tabulated': 2226, 'submitted': 2227, 'violations': 2228, 'index': 2229, 'homicide': 2230, 'voluntary': 2231, 'manslaughter': 2232, 'forcible': 2233, 'aggravated': 2234, 'arson': 2235, 'motor': 2236, 'vehicle': 2237, 'ii': 2238, 'convenience': 2239, 'lists': 2240, 'infractions': 2241, 'tortfeasance': 2242, 'booking': 2243, 'arrests': 2244, 'detention': 2245, 'frame': 2246, 'office': 2247, 'drugs': 2248, 'overseas': 2249, 'advisory': 2250, 'osac': 2251, 'safety': 2252, 'report': 2253, 'generated': 2254, 'eu': 2255, 'europol': 2256, 'hong': 2257, 'kong': 2258, 'causes': 2259, 'correlates': 2260, 'socioeconomic': 2261, 'behavioral': 2262, 'factors': 2263, 'controversial': 2264, 'media': 2265, 'gun': 2266, 'chronic': 2267, 'tremendous': 2268, 'processes': 2269, 'broaden': 2270, 'build': 2271, 'functioning': 2272, 'expands': 2273, 'contracts': 2274, 'declines': 2275, 'fewer': 2276, 'ascertained': 2277, 'narrowed': 2278, 'repertoires': 2279, 'paths': 2280, 'perceptible': 2281, 'ones': 2282, 'alternatives': 2283, 'risk': 2284, 'criminals': 2285, 'horrendous': 2286, 'mass': 2287, 'murders': 2288, 'treaty': 2289, 'centric': 2290, 'operating': 2291, 'hague': 2292, 'turn': 2293, 'harmonise': 2294, 'imposed': 2295, 'conscience': 2296, 'criminalized': 2297, 'alcohol': 2298, 'consumption': 2299, 'stem': 2300, 'cell': 2301, 'institutionalized': 2302, 'earthly': 2303, 'devotional': 2304, 'organizational': 2305, 'shariah': 2306, 'mutiny': 2307, 'desertion': 2308, 'martial': 2309, 'supplant': 2310, 'extend': 2311, 'constitutions': 2312, 'provisions': 2313, 'curtail': 2314, 'freedoms': 2315, 'criminalize': 2316, 'tolerated': 2317, 'emergency': 2318, 'disaster': 2319, 'unrest': 2320, 'undesired': 2321, 'assembly': 2322, 'curfew': 2323, 'firearms': 2324, 'employee': 2325, 'embezzlement': 2326, 'complexity': 2327, 'anonymity': 2328, 'computer': 2329, 'employees': 2330, 'camouflage': 2331, 'operations': 2332, 'costly': 2333, 'scams': 2334, 'banks': 2335, 'brokerage': 2336, 'houses': 2337, 'insurance': 2338, 'companies': 2339, 'financial': 2340, 'compares': 2341, 'losses': 2342, 'auto': 2343, 'severe': 2344, 'low': 2345, 'affected': 2346, 'partial': 2347, 'denial': 2348, 'pay': 2349, 'degrees': 2350, 'oceania': 2351, 'gridiron': 2352, 'expansion': 2353, 'developing': 2354, 'deliberately': 2355, 'incorporated': 2356, 'heritage': 2357, 'grouped': 2358, 'thrown': 2359, 'evasion': 2360, 'conflicting': 2361, 'assumed': 2362, 'conclusive': 2363, 'competitive': 2364, 'resembles': 2365, 'manual': 2366, 'dated': 2367, 'han': 2368, 'qin': 2369, 'asuka': 2370, 'kyoto': 2371, 'circle': 2372, 'let': 2373, 'keepie': 2374, 'uppie': 2375, 'greeks': 2376, 'harpastum': 2377, 'adapted': 2378, 'phaininda': 2379, 'playwright': 2380, 'antiphanes': 2381, 'clement': 2382, 'alexandria': 2383, 'politician': 2384, 'killed': 2385, 'shave': 2386, 'barber': 2387, 'shop': 2388, 'knew': 2389, 'filled': 2390, 'follis': 2391, 'ship': 2392, 'commanded': 2393, 'explorer': 2394, 'davis': 2395, 'went': 2396, 'ashore': 2397, 'greenland': 2398, 'aqsaqtuk': 2399, 'facing': 2400, 'lines': 2401, 'strachey': 2402, 'colonist': 2403, 'jamestown': 2404, 'virginia': 2405, 'pahsaheman': 2406, 'pasuckuakohowog': 2407, 'amongst': 2408, 'amerindians': 2409, 'mesoamerica': 2410, 'existing': 2411, 'northeastern': 2412, 'indians': 2413, 'iroquois': 2414, 'confederation': 2415, 'racquets': 2416, 'lacrosse': 2417, 'descendant': 2418, 'likewise': 2419, 'classed': 2420, 'continent': 2421, 'stuffed': 2422, 'generalised': 2423, 'djab': 2424, 'wurrung': 2425, 'anecdote': 2426, 'brough': 2427, 'smyth': 2428, 'aborigines': 2429, 'quoted': 2430, 'witnessed': 2431, 'foremost': 2432, 'skin': 2433, 'possum': 2434, 'leap': 2435, 'theorised': 2436, 'ori': 2437, 'ki': 2438, 'rahi': 2439, 'circular': 2440, 'zones': 2441, 'pou': 2442, 'markers': 2443, 'hitting': 2444, 'tupu': 2445, 'target': 2446, 'mahmud': 2447, 'kashgari': 2448, 'n': 2449, 'lugh': 2450, 'turk': 2451, 'tepuk': 2452, 'turks': 2453, 'attack': 2454, 'castle': 2455, 'sheep': 2456, 'athlete': 2457, 'balancing': 2458, 'thigh': 2459, 'piraeus': 2460, 'song': 2461, 'painting': 2462, 'su': 2463, 'hanchen': 2464, 'depicting': 2465, 'paint': 2466, 'mesoamerican': 2467, 'ballgame': 2468, 'tepantitla': 2469, 'murals': 2470, 'teotihuacan': 2471, 'guiana': 2472, 'illustration': 2473, 'australians': 2474, 'tanzan': 2475, 'shrine': 2476, 'rise': 2477, 'historia': 2478, 'brittonum': 2479, 'nennius': 2480, 'party': 2481, 'la': 2482, 'soule': 2483, 'choule': 2484, 'propelled': 2485, 'villages': 2486, 'unlimited': 2487, 'en': 2488, 'masse': 2489, 'struggling': 2490, 'move': 2491, 'item': 2492, 'parishes': 2493, 'christmas': 2494, 'easter': 2495, 'certainly': 2496, 'fitzstephen': 2497, 'festival': 2498, 'shrove': 2499, 'tuesday': 2500, 'lunch': 2501, 'craft': 2502, 'older': 2503, 'wealthy': 2504, 'horseback': 2505, 'juniors': 2506, 'competing': 2507, 'relive': 2508, 'vicariously': 2509, 'passions': 2510, 'aroused': 2511, 'caught': 2512, 'fun': 2513, 'carefree': 2514, 'adolescents': 2515, 'reinforces': 2516, 'ulgham': 2517, 'northumberland': 2518, 'mccrocan': 2519, 'newcastle': 2520, 'charged': 2521, 'accidentally': 2522, 'stabbing': 2523, 'bernard': 2524, 'shouldham': 2525, 'norfolk': 2526, 'uring': 2527, 'friend': 2528, 'wounded': 2529, 'nicholas': 2530, 'farndone': 2531, 'mayor': 2532, 'decree': 2533, 'reads': 2534, 'orasmuch': 2535, 'noise': 2536, 'hustling': 2537, 'rageries': 2538, 'grosses': 2539, 'pelotes': 2540, 'pee': 2541, 'evils': 2542, 'arise': 2543, 'command': 2544, 'behalf': 2545, 'pain': 2546, 'coursing': 2547, 'cock': 2548, 'fighting': 2549, 'idle': 2550, 'showing': 2551, 'differentiated': 2552, 'disuse': 2553, 'repealed': 2554, 'cite': 2555, 'huc': 2556, 'percute': 2557, 'struck': 2558, 'metum': 2559, 'literally': 2560, 'pillar': 2561, 'circus': 2562, 'course': 2563, 'chariot': 2564, 'race': 2565, 'praeripe': 2566, 'si': 2567, 'possis': 2568, 'agere': 2569, 'objice': 2570, 'te': 2571, 'forbidding': 2572, 'levying': 2573, 'foteball': 2574, 'caunton': 2575, 'nottinghamshire': 2576, 'striking': 2577, 'rolling': 2578, 'along': 2579, 'directions': 2580, 'chronicler': 2581, 'stating': 2582, 'boundaries': 2583, 'firsts': 2584, 'eras': 2585, 'florence': 2586, 'celebrated': 2587, 'epiphany': 2588, 'lent': 2589, 'storico': 2590, 'kickball': 2591, 'piazza': 2592, 'santa': 2593, 'croce': 2594, 'aristocrats': 2595, 'dress': 2596, 'silk': 2597, 'costumes': 2598, 'embroil': 2599, 'punch': 2600, 'shoulder': 2601, 'blows': 2602, 'belt': 2603, 'training': 2604, 'giovanni': 2605, 'bardi': 2606, 'di': 2607, 'vernio': 2608, 'discorso': 2609, 'sopra': 2610, 'giuoco': 2611, 'del': 2612, 'fiorentino': 2613, 'january': 2614, 'passed': 2615, 'scottish': 2616, 'lifted': 2617, 'female': 2618, 'footballers': 2619, 'pressures': 2620, 'municipalities': 2621, 'calls': 2622, 'hosted': 2623, 'sweeping': 2624, 'achievements': 2625, 'turning': 2626, 'teachers': 2627, 'finally': 2628, 'mainly': 2629, 'attended': 2630, 'vulgaria': 2631, 'colleges': 2632, 'wyll': 2633, 'playe': 2634, 'wynde': 2635, 'student': 2636, 'greatest': 2637, 'sixteenth': 2638, 'advocate': 2639, 'contributions': 2640, 'referee': 2641, 'trayning': 2642, 'maister': 2643, 'disordered': 2644, 'ome': 2645, 'overlooking': 2646, 'sorted': 2647, 'boisterously': 2648, 'trie': 2649, 'shouldring': 2650, 'shuffing': 2651, 'barbarously': 2652, 'chiefe': 2653, 'legges': 2654, 'vocabula': 2655, 'charging': 2656, 'drive': 2657, 'francis': 2658, 'bishop': 2659, 'vesey': 2660, 'sutton': 2661, 'coldfield': 2662, 'gate': 2663, 'gates': 2664, 'diagram': 2665, 'illustrating': 2666, 'tactics': 2667, 'leaving': 2668, 'guard': 2669, 'win': 2670, 'selected': 2671, 'equally': 2672, 'nimbleness': 2673, 'leg': 2674, 'higher': 2675, 'manifestations': 2676, 'stood': 2677, 'dribble': 2678, 'scrum': 2679, 'aldenham': 2680, 'inclination': 2681, 'feast': 2682, 'enjoyed': 2683, 'inventors': 2684, 'competitiveness': 2685, 'drafted': 2686, 'intake': 2687, 'favoured': 2688, 'preferred': 2689, 'promoted': 2690, 'camps': 2691, 'confined': 2692, 'cloisters': 2693, 'pupil': 2694, 'creating': 2695, 'apocryphal': 2696, 'misinterpreted': 2697, 'retreat': 2698, 'backwards': 2699, 'forwards': 2700, 'boom': 2701, 'rail': 2702, 'transport': 2703, 'inconvenience': 2704, 'inter': 2705, 'host': 2706, 'home': 2707, 'visiting': 2708, 'formulated': 2709, 'bowls': 2710, 'tennis': 2711, 'impetus': 2712, 'patenting': 2713, 'lawnmower': 2714, 'preparation': 2715, 'ovals': 2716, 'pitches': 2717, 'barely': 2718, 'beyond': 2719, 'confines': 2720, 'dominance': 2721, 'wane': 2722, 'factory': 2723, 'weekdays': 2724, 'saturdays': 2725, 'cease': 2726, 'gymnastic': 2727, 'ceased': 2728, 'bear': 2729, 'title': 2730, 'edinburgh': 2731, 'pushing': 2732, 'tasked': 2733, 'codifying': 2734, 'assisted': 2735, 'cordner': 2736, 'eggleston': 2737, 'experimental': 2738, 'tournament': 2739, 'donated': 2740, 'april': 2741, 'youdan': 2742, 'footballs': 2743, 'coverings': 2744, 'gilbert': 2745, 'shoemakers': 2746, 'town': 2747, 'near': 2748, 'wife': 2749, 'died': 2750, 'lung': 2751, 'disease': 2752, 'blowing': 2753, 'medals': 2754, 'inflatable': 2755, 'brass': 2756, 'pump': 2757, 'inventor': 2758, 'charles': 2759, 'goodyear': 2760, 'patented': 2761, 'spherical': 2762, 'exterior': 2763, 'panels': 2764, 'universelle': 2765, 'iconic': 2766, 'pattern': 2767, 'hexagons': 2768, 'pentagons': 2769, 'truncated': 2770, 'icosahedron': 2771, 'poet': 2772, 'backward': 2773, 'direction': 2774, 'fc': 2775, 'combination': 2776, 'backing': 2777, 'benefiting': 2778, 'lieut': 2779, 'creswell': 2780, 'renowned': 2781, 'beautifully': 2782, 'derby': 2783, 'forest': 2784, 'irrefutably': 2785, 'absey': 2786, 'length': 2787, 'delivered': 2788, 'wallis': 2789, 'cleverly': 2790, 'sent': 2791, 'captain': 2792, 'drove': 2793, 'perfected': 2794, 'pyramid': 2795, 'warwickshire': 2796, 'tossed': 2797, 'june': 2798, 'penalty': 2799, 'conversions': 2800, 'raeburn': 2801, 'nineteenth': 2802, 'codifications': 2803, 'nathaniel': 2804, 'creswick': 2805, 'prest': 2806, 'difference': 2807, 'responsible': 2808, 'corner': 2809, 'ins': 2810, 'midlands': 2811, 'series': 2812, 'fas': 2813, 'eroded': 2814, 'adoption': 2815, 'archival': 2816, 'born': 2817, 'cricketer': 2818, 'educated': 2819, 'letter': 2820, 'bell': 2821, 'chronicle': 2822, 'cricketers': 2823, 'moment': 2824, 'publicity': 2825, 'contacts': 2826, 'co': 2827, 'ordinate': 2828, 'experimented': 2829, 'umpired': 2830, 'rapidly': 2831, 'hammersley': 2832, 'thompson': 2833, 'pushed': 2834, 'learnt': 2835, 'schooling': 2836, 'recalled': 2837, 'cousin': 2838, 'prevalence': 2839, 'updated': 2840, 'redraft': 2841, 'accommodated': 2842, 'geelong': 2843, 'increasingly': 2844, 'soon': 2845, 'cricket': 2846, 'specialised': 2847, 'spectacular': 2848, 'marking': 2849, 'quickly': 2850, 'colonies': 2851, 'heartland': 2852, 'grown': 2853, 'reconcile': 2854, 'thring': 2855, 'driving': 2856, 'forces': 2857, 'simplest': 2858, 'revised': 2859, 'shrewsbury': 2860, 'freemasons': 2861, 'tavern': 2862, 'street': 2863, 'evening': 2864, 'metropolitan': 2865, 'inaugural': 2866, 'unifying': 2867, 'invited': 2868, 'join': 2869, 'declined': 2870, 'meetings': 2871, 'fourth': 2872, 'differed': 2873, 'shins': 2874, 'ix': 2875, 'catches': 2876, 'x': 2877, 'trip': 2878, 'hack': 2879, 'wrest': 2880, 'hacked': 2881, 'fifth': 2882, 'removed': 2883, 'delegates': 2884, 'supported': 2885, 'representative': 2886, 'treasurer': 2887, 'objected': 2888, 'motion': 2889, 'withdrew': 2890, 'oxford': 2891, 'contained': 2892, 'longer': 2893, 'recognisable': 2894, 'touched': 2895, 'dartmouth': 2896, 'hampshire': 2897, 'protests': 2898, 'abandon': 2899, 'pressure': 2900, 'oneida': 2901, 'return': 2902, 'jersey': 2903, 'brown': 2904, 'park': 2905, 'mulock': 2906, 'chancellor': 2907, 'barlow': 2908, 'cumberland': 2909, 'bethune': 2910, 'gwynn': 2911, 'founders': 2912, 'milton': 2913, 'improvised': 2914, 'intercollegiate': 2915, 'alternated': 2916, 'persuaded': 2917, 'columbia': 2918, 'convention': 2919, 'springfield': 2920, 'agreeing': 2921, 'walter': 2922, 'conventions': 2923, 'replacing': 2924, 'scrummage': 2925, 'collisions': 2926, 'urging': 2927, 'drastic': 2928, 'reduce': 2929, 'introduction': 2930, 'underutilised': 2931, 'proved': 2932, 'absorbed': 2933, 'effort': 2934, 'oriented': 2935, 'ontario': 2936, 'burnside': 2937, 'stemming': 2938, 'border': 2939, 'kerry': 2940, 'observer': 2941, 'ferris': 2942, 'arch': 2943, 'boughs': 2944, 'trees': 2945, 'epic': 2946, 'cross': 2947, 'daylight': 2948, 'sunday': 2949, 'wrestling': 2950, 'dublin': 2951, 'stronghold': 2952, 'athletic': 2953, 'sought': 2954, 'imported': 2955, 'maurice': 2956, 'magazine': 2957, 'february': 2958, 'desire': 2959, 'formalise': 2960, 'distinctly': 2961, 'differentiation': 2962, 'shared': 2963, 'rifts': 2964, 'professionalism': 2965, 'creep': 2966, 'standing': 2967, 'tensions': 2968, 'afford': 2969, 'train': 2970, 'recover': 2971, 'reacted': 2972, 'alienate': 2973, 'broken': 2974, 'payments': 2975, 'wages': 2976, 'huddersfield': 2977, 'replacements': 2978, 'job': 2979, 'demands': 2980, 'dictated': 2981, 'abolition': 2982, 'tackler': 2983, 'marker': 2984, 'mauls': 2985, 'stopped': 2986, 'carrier': 2987, 'merged': 2988, 'federations': 2989, 'need': 2990, 'oversee': 2991, 'fixtures': 2992, 'chaired': 2993, 'discussions': 2994, 'setting': 2995, 'progress': 2996, 'belgium': 2997, 'denmark': 2998, 'spain': 2999, 'switzerland': 3000, 'gu': 3001, 'rin': 3002, 'acronym': 3003, 'toured': 3004, 'receiving': 3005, 'enthusiastic': 3006, 'response': 3007, 'negotiations': 3008, 'fix': 3009, 'endured': 3010, 'instigation': 3011, 'rlif': 3012, 'bordeaux': 3013, 'borrowed': 3014, 'downs': 3015, 'retain': 3016, 'retains': 3017, 'release': 3018, 'immediately': 3019, 'maximum': 3020, 'tackle': 3021, 'advent': 3022, 'professionals': 3023, 'consequent': 3024, 'speeding': 3025, 'superseded': 3026, 'interchange': 3027, 'touch': 3028, 'inconclusive': 3029, 'maul': 3030, 'lifting': 3031, 'outs': 3032, 'legalised': 3033, 'disappeared': 3034, 'unification': 3035, 'unlikely': 3036, 'foreseeable': 3037, 'controversy': 3038, 'region': 3039, 'effectively': 3040, 'qualifier': 3041, 'barassi': 3042, 'francophone': 3043, 'ricain': 3044, 'currently': 3045, 'organisations': 3046, 'normalised': 3047, 'globally': 3048, 'audience': 3049, 'nearly': 3050, 'super': 3051, 'bowl': 3052, 'accounting': 3053, 'nine': 3054, 'broadcasts': 3055, 'nfl': 3056, 'revenue': 3057, 'athletes': 3058, 'samoa': 3059, 'tonga': 3060, 'fiji': 3061, 'dubious': 3062, 'discuss': 3063, 'outfield': 3064, 'nicknamed': 3065, 'motorsport': 3066, 'teammates': 3067, 'upon': 3068, 'continuous': 3069, 'periodic': 3070, 'bounce': 3071, 'solo': 3072, 'toe': 3073, 'handpassing': 3074, 'punching': 3075, 'tapping': 3076, 'sepak': 3077, 'takraw': 3078, 'denote': 3079, 'outdoor': 3080, 'sheet': 3081, 'gymnasium': 3082, 'manoeuvre': 3083, 'straight': 3084, 'hole': 3085, 'involves': 3086, 'roughly': 3087, 'suitable': 3088, 'inclusion': 3089, 'newly': 3090, 'emerging': 3091, 'gym': 3092, 'modelled': 3093, 'variants': 3094, 'eventually': 3095, 'floors': 3096, 'locale': 3097, 'geography': 3098, 'size': 3099, 'avoid': 3100, 'confusion': 3101, 'juvenile': 3102, 'pastimes': 3103, 'prefixed': 3104, 'memoirs': 3105, 'author': 3106, 'infant': 3107, 'johnson': 3108, 'pseud': 3109, 'angelo': 3110, 'chapter': 3111, 'xi': 3112, 'titled': 3113, 'improvements': 3114, 'explicitly': 3115, 'manualem': 3116, 'pedivam': 3117, 'bacularem': 3118, 'gallorum': 3119, 'pugnam': 3120, 'biographer': 3121, 'strype': 3122, 'translating': 3123, 'cambuck': 3124, 'golf': 3125, 'croquet': 3126, 'unknown': 3127, 'derivative': 3128, 'hoquet': 3129, 'shepherd': 3130, 'stave': 3131, 'ends': 3132, 'cork': 3133, 'bungs': 3134, 'wooden': 3135, 'barrels': 3136, 'hock': 3137, 'ale': 3138, 'hocky': 3139, 'carvings': 3140, 'projectile': 3141, 'depiction': 3142, 'ker': 3143, 'zein': 3144, 'ras': 3145, 'mongolia': 3146, 'daur': 3147, 'beikou': 3148, 'concerning': 3149, 'galway': 3150, 'enacted': 3151, 'hooky': 3152, 'tyme': 3153, 'ne': 3154, 'occupye': 3155, 'horlinge': 3156, 'litill': 3157, 'stickes': 3158, 'hande': 3159, 'withoute': 3160, 'walles': 3161, 'greate': 3162, 'foote': 3163, 'differentiate': 3164, 'coalesce': 3165, 'sprang': 3166, 'manage': 3167, 'domestic': 3168, 'sized': 3169, 'arena': 3170, 'professionally': 3171, 'ioc': 3172, 'predecessor': 3173, 'gravel': 3174, 'sand': 3175, 'water': 3176, 'turf': 3177, 'argentina': 3178, 'fih': 3179, 'constructed': 3180, 'composite': 3181, 'glass': 3182, 'carbon': 3183, 'hook': 3184, 'rear': 3185, 'firmly': 3186, 'ministry': 3187, 'affairs': 3188, 'august': 3189, 'inch': 3190, 'vulcanized': 3191, 'disc': 3192, 'frozen': 3193, 'friction': 3194, 'extents': 3195, 'finland': 3196, 'czech': 3197, 'slovakia': 3198, 'strongest': 3199, 'drawing': 3200, 'slightly': 3201, 'influences': 3202, 'push': 3203, 'forth': 3204, 'indoors': 3205, 'graphite': 3206, 'composites': 3207, 'bottom': 3208, 'upright': 3209, 'legally': 3210, 'curve': 3211, 'disabilities': 3212, 'affecting': 3213, 'sit': 3214, 'picks': 3215, 'stickhandle': 3216, 'shoot': 3217, 'laminated': 3218, 'fiberglass': 3219, 'shafts': 3220, 'carved': 3221, 'insert': 3222, 'regulation': 3223, 'dictating': 3224, 'disability': 3225, 'championship': 3226, 'talent': 3227, 'bisley': 3228, 'hull': 3229, 'stingrays': 3230, 'grimsby': 3231, 'redwings': 3232, 'matt': 3233, 'lloyd': 3234, 'inventing': 3235, 'quads': 3236, 'goalie': 3237, 'periods': 3238, 'variation': 3239, 'icings': 3240, 'clearing': 3241, 'usa': 3242, 'hoquei': 3243, 'em': 3244, 'patins': 3245, 'overarching': 3246, 'sixty': 3247, 'demonstration': 3248, 'barcelona': 3249, 'asphalt': 3250, 'protective': 3251, 'worn': 3252, 'predecessors': 3253, 'styles': 3254, 'designated': 3255, 'morals': 3256, 'worldviews': 3257, 'sanctified': 3258, 'prophecies': 3259, 'relates': 3260, 'transcendental': 3261, 'deities': 3262, 'saints': 3263, 'narratives': 3264, 'preserved': 3265, 'scriptures': 3266, 'demographic': 3267, 'agnostics': 3268, 'portion': 3269, 'comprises': 3270, 'workings': 3271, 'ontological': 3272, 'foundations': 3273, 'sanctity': 3274, 'relegere': 3275, 'read': 3276, 'carefully': 3277, 'harpur': 3278, 'religare': 3279, 'ligare': 3280, 'bind': 3281, 'connect': 3282, 'prominent': 3283, 'augustine': 3284, 'interpretation': 3285, 'lactantius': 3286, 'divinae': 3287, 'institutiones': 3288, 'alternates': 3289, 'designating': 3290, 'bonded': 3291, 'hear': 3292, 'golden': 3293, 'fleece': 3294, 'knight': 3295, 'avys': 3296, 'classic': 3297, 'conscientiousness': 3298, 'virtue': 3299, 'obligations': 3300, 'neighbors': 3301, 'rulers': 3302, 'hesitation': 3303, 'caution': 3304, 'inhibited': 3305, 'arose': 3306, 'heightened': 3307, 'scrupulus': 3308, 'shame': 3309, 'vows': 3310, 'compartmentalized': 3311, 'worldly': 3312, 'augsburg': 3313, 'step': 3314, 'sovereign': 3315, 'julius': 3316, 'caesar': 3317, 'discussing': 3318, 'captured': 3319, 'soldiers': 3320, 'captors': 3321, 'naturalist': 3322, 'pliny': 3323, 'elder': 3324, 'elephants': 3325, 'venerate': 3326, 'sun': 3327, 'moon': 3328, 'cultum': 3329, 'deorum': 3330, 'loosely': 3331, 'sparsely': 3332, 'respectful': 3333, 'excessive': 3334, 'harmfully': 3335, 'distracting': 3336, 'cultic': 3337, 'contrasted': 3338, 'abstraction': 3339, 'sets': 3340, 'splitting': 3341, 'christendom': 3342, 'exploration': 3343, 'contact': 3344, 'numerous': 3345, 'distorts': 3346, 'precise': 3347, 'racial': 3348, 'identities': 3349, 'halakha': 3350, 'walk': 3351, 'guides': 3352, 'entail': 3353, 'regulated': 3354, 'ioudaismos': 3355, 'abstract': 3356, 'ancestral': 3357, 'analogous': 3358, 'writers': 3359, 'herodotus': 3360, 'generic': 3361, 'arabic': 3362, 'translators': 3363, 'consisted': 3364, 'penance': 3365, 'ceremonial': 3366, 'practical': 3367, 'align': 3368, 'entered': 3369, 'buddhist': 3370, 'identifier': 3371, 'corresponding': 3372, 'warships': 3373, 'coast': 3374, 'forced': 3375, 'sign': 3376, 'treaties': 3377, 'demanding': 3378, 'contend': 3379, 'philologist': 3380, 'careful': 3381, 'pondering': 3382, 'diligence': 3383, 'characterized': 3384, 'persia': 3385, 'agree': 3386, 'functional': 3387, 'phenomenological': 3388, 'reservations': 3389, 'observe': 3390, 'construct': 3391, 'westphalia': 3392, 'unique': 3393, 'remainder': 3394, 'consequence': 3395, 'speculative': 3396, 'intellectualistic': 3397, 'disposition': 3398, 'product': 3399, 'judeo': 3400, 'accurately': 3401, 'inheritance': 3402, 'downgraded': 3403, 'formative': 3404, 'theism': 3405, 'transcendent': 3406, 'else': 3407, 'powerful': 3408, 'pervasive': 3409, 'lasting': 3410, 'formulating': 3411, 'clothing': 3412, 'aura': 3413, 'factuality': 3414, 'uniquely': 3415, 'realistic': 3416, 'alluding': 3417, 'perhaps': 3418, 'miracle': 3419, 'accomplished': 3420, 'know': 3421, 'weekly': 3422, 'hourly': 3423, 'enormous': 3424, 'ethnographic': 3425, 'demonstrate': 3426, 'antoine': 3427, 'vergote': 3428, 'agency': 3429, 'emphasized': 3430, 'entirety': 3431, 'linguistic': 3432, 'expressions': 3433, 'actions': 3434, 'mandaville': 3435, 'modernist': 3436, 'dualisms': 3437, 'understandings': 3438, 'immanence': 3439, 'materialism': 3440, 'secularity': 3441, 'bounded': 3442, 'addresses': 3443, 'communion': 3444, 'otherness': 3445, 'lived': 3446, 'takes': 3447, 'spiritually': 3448, 'ontologies': 3449, 'embodiment': 3450, 'knowing': 3451, 'experiential': 3452, 'patterns': 3453, 'built': 3454, 'recognizable': 3455, 'completeness': 3456, 'clarity': 3457, 'accordance': 3458, 'environing': 3459, 'schleiermacher': 3460, 'das': 3461, 'schlechthinnige': 3462, 'abh': 3463, 'ngigkeitsgef': 3464, 'hl': 3465, 'absolute': 3466, 'dependence': 3467, 'georg': 3468, 'wilhelm': 3469, 'hegel': 3470, 'disagreed': 3471, 'thoroughly': 3472, 'finite': 3473, 'burnett': 3474, 'narrowing': 3475, 'supreme': 3476, 'idolatry': 3477, 'exclude': 3478, 'identifying': 3479, 'psychologist': 3480, 'solitude': 3481, 'apprehend': 3482, 'godlike': 3483, 'concrete': 3484, 'feels': 3485, 'impelled': 3486, 'respond': 3487, 'solemnity': 3488, 'elementary': 3489, 'unified': 3490, 'unite': 3491, 'spirits': 3492, 'rock': 3493, 'tree': 3494, 'spring': 3495, 'pebble': 3496, 'piece': 3497, 'dogmas': 3498, 'legends': 3499, 'representations': 3500, 'echoes': 3501, 'ferr': 3502, 'comprehensively': 3503, 'intensively': 3504, 'intensive': 3505, 'criticisms': 3506, 'disturb': 3507, 'philosophers': 3508, 'theologians': 3509, 'question': 3510, 'awareness': 3511, 'dreams': 3512, 'meanings': 3513, 'polytheistic': 3514, 'heading': 3515, 'pre': 3516, 'industrial': 3517, 'pejoratively': 3518, 'implies': 3519, 'mis': 3520, 'interpreted': 3521, 'pejorative': 3522, 'provably': 3523, 'examples': 3524, 'resurrection': 3525, 'explains': 3526, 'freed': 3527, 'outlook': 3528, 'unimportant': 3529, 'symbolism': 3530, 'start': 3531, 'believers': 3532, 'accept': 3533, 'interpretations': 3534, 'goddess': 3535, 'clergy': 3536, 'adherence': 3537, 'membership': 3538, 'pals': 3539, 'eight': 3540, 'focusing': 3541, 'magic': 3542, 'frazer': 3543, 'psycho': 3544, 'analytic': 3545, 'sigmund': 3546, 'freud': 3547, 'marx': 3548, 'mircea': 3549, 'eliade': 3550, 'evans': 3551, 'pritchard': 3552, 'michael': 3553, 'stausberg': 3554, 'overview': 3555, 'approaches': 3556, 'characteristics': 3557, 'uncertain': 3558, 'monaghan': 3559, 'revitalization': 3560, 'vision': 3561, 'fires': 3562, 'imaginations': 3563, 'seeking': 3564, 'answer': 3565, 'feel': 3566, 'success': 3567, 'surprising': 3568, 'regularity': 3569, 'supporters': 3570, 'institutionalize': 3571, 'focus': 3572, 'subjective': 3573, 'believing': 3574, 'cosmology': 3575, 'binding': 3576, 'localized': 3577, 'hierarchies': 3578, 'monoghan': 3579, 'persistent': 3580, 'intolerable': 3581, 'accomplish': 3582, 'providing': 3583, 'allows': 3584, 'anxieties': 3585, 'misfortune': 3586, 'courses': 3587, 'critique': 3588, 'niebuhr': 3589, 'fold': 3590, 'indicates': 3591, 'constructionism': 3592, 'orientation': 3593, 'interpret': 3594, 'proponents': 3595, 'dubuisson': 3596, 'timothy': 3597, 'fitzgerald': 3598, 'jason': 3599, 'nanda': 3600, 'josephson': 3601, 'constructionists': 3602, 'inappropriately': 3603, 'sciences': 3604, 'employs': 3605, 'intelligence': 3606, 'neurobiology': 3607, 'zoology': 3608, 'ethology': 3609, 'minds': 3610, 'generate': 3611, 'transmit': 3612, 'schemas': 3613, 'capacities': 3614, 'hallucinations': 3615, 'delusions': 3616, 'occurs': 3617, 'schizophrenia': 3618, 'varies': 3619, 'disorders': 3620, 'prophetic': 3621, 'symptoms': 3622, 'retrospective': 3623, 'diagnoses': 3624, 'practically': 3625, 'schizophrenic': 3626, 'episodes': 3627, 'obsessive': 3628, 'compulsive': 3629, 'disorder': 3630, 'branch': 3631, 'systematic': 3632, 'comparison': 3633, 'yields': 3634, 'concerns': 3635, 'metaphysics': 3636, 'salvation': 3637, 'material': 3638, 'sophisticated': 3639, 'numinous': 3640, 'oceanic': 3641, 'hellenistic': 3642, 'philosophically': 3643, 'academics': 3644, 'scholarship': 3645, 'mutually': 3646, 'ascribing': 3647, 'religiousness': 3648, 'invariant': 3649, 'distinguished': 3650, 'acceptance': 3651, 'actively': 3652, 'pointing': 3653, 'dependent': 3654, 'surveyed': 3655, 'pew': 3656, 'projection': 3657, 'overtake': 3658, 'plurality': 3659, 'projected': 3660, 'disaffiliation': 3661, 'descend': 3662, 'abraham': 3663, 'originating': 3664, 'judea': 3665, 'larger': 3666, 'tanakh': 3667, 'supplemented': 3668, 'midrash': 3669, 'talmud': 3670, 'corpus': 3671, 'theological': 3672, 'rabbinic': 3673, 'holds': 3674, 'moses': 3675, 'mount': 3676, 'sinai': 3677, 'assertion': 3678, 'challenged': 3679, 'scattered': 3680, 'destruction': 3681, 'temple': 3682, 'jerusalem': 3683, 'haredi': 3684, 'conservative': 3685, 'nazareth': 3686, 'savior': 3687, 'godhead': 3688, 'nicene': 3689, 'creed': 3690, 'byzantine': 3691, 'millennium': 3692, 'propagated': 3693, 'via': 3694, 'missionary': 3695, 'books': 3696, 'hadith': 3697, 'sub': 3698, 'saharan': 3699, 'republics': 3700, 'mauritania': 3701, 'afghanistan': 3702, 'ibadi': 3703, 'sufism': 3704, 'quranism': 3705, 'mahdavia': 3706, 'denominational': 3707, 'wahhabism': 3708, 'saudi': 3709, 'arabia': 3710, 'newer': 3711, 'designation': 3712, 'mahavira': 3713, 'offshoot': 3714, 'bism': 3715, 'samaritanism': 3716, 'bank': 3717, 'rastafari': 3718, 'jamaica': 3719, 'syria': 3720, 'lebanon': 3721, 'isma': 3722, 'ilism': 3723, 'mandaeism': 3724, 'sabianism': 3725, 'mysterious': 3726, 'sabians': 3727, 'claimed': 3728, 'gnostic': 3729, 'baptist': 3730, 'chief': 3731, 'last': 3732, 'gnostics': 3733, 'taoic': 3734, 'consist': 3735, 'tao': 3736, 'korean': 3737, 'vietnamese': 3738, 'dharmic': 3739, 'expected': 3740, 'characterised': 3741, 'shamanism': 3742, 'ancestor': 3743, 'ethnicity': 3744, 'tribe': 3745, 'creeds': 3746, 'syncretic': 3747, 'fusing': 3748, 'omitted': 3749, 'surveys': 3750, 'encompasses': 3751, 'akan': 3752, 'dahomey': 3753, 'fon': 3754, 'efik': 3755, 'odinani': 3756, 'serer': 3757, 'roog': 3758, 'yoruba': 3759, 'bushongo': 3760, 'mbuti': 3761, 'pygmy': 3762, 'lugbara': 3763, 'dinka': 3764, 'lotuko': 3765, 'akamba': 3766, 'masai': 3767, 'malagasy': 3768, 'san': 3769, 'lozi': 3770, 'tumbuka': 3771, 'zulu': 3772, 'bantu': 3773, 'berber': 3774, 'egyptian': 3775, 'diasporic': 3776, 'americas': 3777, 'santeria': 3778, 'candomble': 3779, 'vodun': 3780, 'lucumi': 3781, 'umbanda': 3782, 'macumba': 3783, 'predate': 3784, 'islamization': 3785, 'nowadays': 3786, 'zoroaster': 3787, 'zoroastrians': 3788, 'ahura': 3789, 'destroy': 3790, 'sustain': 3791, 'kurdish': 3792, 'yazidi': 3793, 'alevi': 3794, 'ahl': 3795, 'haqq': 3796, 'labeled': 3797, 'yazd': 3798, 'nism': 3799, 'thousand': 3800, 'departments': 3801, 'qualified': 3802, 'judicial': 3803, 'discourses': 3804, 'exponents': 3805, 'specialists': 3806, 'explored': 3807, 'themes': 3808, 'mercy': 3809, 'equity': 3810, 'love': 3811, 'pagan': 3812, 'issue': 3813, 'wearing': 3814, 'headscarves': 3815, 'received': 3816, 'feminism': 3817, 'acknowledges': 3818, 'revelation': 3819, 'acknowledging': 3820, 'monolithic': 3821, 'timeless': 3822, 'static': 3823, 'endeavors': 3824, 'narrowly': 3825, 'reification': 3826, 'scientia': 3827, 'religio': 3828, 'gains': 3829, 'testing': 3830, 'hypotheses': 3831, 'elucidation': 3832, 'evaluation': 3833, 'experiments': 3834, 'answers': 3835, 'cosmological': 3836, 'questions': 3837, 'measured': 3838, 'develops': 3839, 'physically': 3840, 'refinement': 3841, 'rejection': 3842, 'overwhelming': 3843, 'preponderance': 3844, 'favorable': 3845, 'facto': 3846, 'verities': 3847, 'relativity': 3848, 'selection': 3849, 'evolution': 3850, 'posited': 3851, 'truths': 3852, 'rely': 3853, 'test': 3854, 'gauge': 3855, 'metaphors': 3856, 'revisable': 3857, 'albert': 3858, 'einstein': 3859, 'ascertain': 3860, 'judgments': 3861, 'deals': 3862, 'evaluations': 3863, 'justifiably': 3864, 'realms': 3865, 'reciprocal': 3866, 'dependencies': 3867, 'learned': 3868, 'broadest': 3869, 'contribute': 3870, 'attainment': 3871, 'frameworks': 3872, 'guide': 3873, 'determining': 3874, 'triple': 3875, 'jems': 3876, 'halacha': 3877, 'catholicism': 3878, 'eightfold': 3879, 'deeds': 3880, 'synonymous': 3881, 'automatic': 3882, 'assumption': 3883, 'ethnocentric': 3884, 'failure': 3885, 'altruism': 3886, 'inconsistent': 3887, 'voters': 3888, 'vote': 3889, 'presidential': 3890, 'candidate': 3891, 'adults': 3892, 'kyrsten': 3893, 'sinema': 3894, 'arizona': 3895, 'claims': 3896, 'affiliation': 3897, 'francois': 3898, 'hollande': 3899, 'minister': 3900, 'alexis': 3901, 'tsipras': 3902, 'differs': 3903, 'nationalists': 3904, 'targeting': 3905, 'belonged': 3906, 'castes': 3907, 'transformation': 3908, 'modernization': 3909, 'protection': 3910, 'negative': 3911, 'correlation': 3912, 'inhabitants': 3913, 'economist': 3914, 'wealthier': 3915, 'ethic': 3916, 'hindus': 3917, 'mayo': 3918, 'clinic': 3919, 'examined': 3920, 'coping': 3921, 'terminal': 3922, 'illness': 3923, 'suicide': 3924, 'concluded': 3925, 'beneficial': 3926, 'review': 3927, 'jones': 3928, 'discovered': 3929, 'correlations': 3930, 'analysis': 3931, 'confirming': 3932, 'complicated': 3933, 'results': 3934, 'generalize': 3935, 'assume': 3936, 'critics': 3937, 'hector': 3938, 'avalos': 3939, 'regina': 3940, 'schwartz': 3941, 'hitchens': 3942, 'endorsed': 3943, 'exploited': 3944, 'jack': 3945, 'eller': 3946, 'arguing': 3947, 'compatible': 3948, 'identical': 3949, 'essential': 3950, 'virtually': 3951, 'corollary': 3952, 'sacrifice': 3953, 'ritual': 3954, 'killing': 3955, 'appease': 3956, 'favour': 3957, 'pagans': 3958, 'scorned': 3959, 'constantly': 3960, 'trembled': 3961, 'cruel': 3962, 'capricious': 3963, 'polybius': 3964, 'instrumentum': 3965, 'regni': 3966, 'instrument': 3967, 'maintaining': 3968, 'cohesion': 3969, 'composed': 3970, 'superstitions': 3971, 'thinking': 3972, 'think': 3973, 'deists': 3974, 'skeptics': 3975, 'sinful': 3976, 'denotes': 3977, 'trust': 3978, 'providence': 3979, 'catechism': 3980, 'represents': 3981, 'perverse': 3982, 'excess': 3983, 'deviation': 3984, 'imposes': 3985, 'attributes': 3986, 'importance': 3987, 'lawful': 3988, 'efficacy': 3989, 'prayers': 3990, 'sacramental': 3991, 'mere': 3992, 'external': 3993, 'performance': 3994, 'interior': 3995, 'dispositions': 3996, 'demand': 3997, 'fall': 3998, 'matthew': 3999, 'atheist': 4000, 'unknowability': 4001, 'nontheistic': 4002, 'irreligious': 4003, 'antireligion': 4004, 'active': 4005, 'opposition': 4006, 'aversion': 4007, 'continues': 4008, 'impulse': 4009, 'practitioners': 4010, 'band': 4011, 'peacebuilding': 4012, 'parliament': 4013, 'chicago': 4014, 'affirmed': 4015, 'recognition': 4016, 'fruitful': 4017, 'solving': 4018, 'reconciliation': 4019, 'reverse': 4020, 'initiatives': 4021, 'bringing': 4022, 'initiative': 4023, 'sponsored': 4024, 'harmony': 4025, 'framework': 4026, 'totality': 4027, 'expresses': 4028, 'consideration': 4029, 'definitely': 4030, 'prevents': 4031, 'dualism': 4032, 'intimate': 4033, 'ernst': 4034, 'troeltsch': 4035, 'plant': 4036, 'alien': 4037, 'pluralistic': 4038, 'domenic': 4039, 'marbaniang': 4040, 'element': 4041, 'sacralization': 4042, 'arts': 4043, 'implications': 4044}\""
            ],
            "application/vnd.google.colaboratory.intrinsic+json": {
              "type": "string"
            }
          },
          "metadata": {},
          "execution_count": 77
        }
      ]
    },
    {
      "cell_type": "code",
      "source": [
        "#####################"
      ],
      "metadata": {
        "id": "5Ikk8mkG8ISX"
      },
      "execution_count": null,
      "outputs": []
    },
    {
      "cell_type": "code",
      "source": [
        "\n",
        "%reset -f\n",
        "import bs4\n",
        "import sys\n",
        "import requests\n",
        "import  os\n",
        "pathToStoreFiles = \"/content\"\n",
        "os.chdir(pathToStoreFiles)\n",
        "os.listdir()\n",
        "# Your wikipedia page title:\n",
        "wiki_page = 'Religion'   # Religion, Crime, Hockey, Football\n",
        "# Process text now\n",
        "res = requests.get(f'https://en.wikipedia.org/wiki/{wiki_page}' )\n",
        "res.raise_for_status()\n",
        "wiki = bs4.BeautifulSoup(res.text,\"html.parser\")\n",
        "\n",
        "# open a file named as your wiki page in write mode\n",
        "with open(wiki_page+\".txt\", \"w\", encoding=\"utf-8\") as f:\n",
        "    for i in wiki.select('p'):\n",
        "        # write each paragraph to the file\n",
        "        f.write(i.getText())\n",
        "\n",
        "os.listdir()\n"
      ],
      "metadata": {
        "id": "pq4YtwfLXQRg",
        "outputId": "4bc95945-7e57-4a99-fd2f-feae53f5f070",
        "colab": {
          "base_uri": "https://localhost:8080/"
        }
      },
      "execution_count": 45,
      "outputs": [
        {
          "output_type": "execute_result",
          "data": {
            "text/plain": [
              "['.config',\n",
              " 'seq.pkl',\n",
              " 'football.txt',\n",
              " 'Hockey.txt',\n",
              " 'word_index.txt',\n",
              " 'Crime.txt',\n",
              " 'sample_data']"
            ]
          },
          "metadata": {},
          "execution_count": 45
        },
        {
          "output_type": "execute_result",
          "data": {
            "text/plain": [
              "1"
            ]
          },
          "metadata": {},
          "execution_count": 45
        },
        {
          "output_type": "execute_result",
          "data": {
            "text/plain": [
              "10"
            ]
          },
          "metadata": {},
          "execution_count": 45
        },
        {
          "output_type": "execute_result",
          "data": {
            "text/plain": [
              "9"
            ]
          },
          "metadata": {},
          "execution_count": 45
        },
        {
          "output_type": "execute_result",
          "data": {
            "text/plain": [
              "13"
            ]
          },
          "metadata": {},
          "execution_count": 45
        },
        {
          "output_type": "execute_result",
          "data": {
            "text/plain": [
              "7"
            ]
          },
          "metadata": {},
          "execution_count": 45
        },
        {
          "output_type": "execute_result",
          "data": {
            "text/plain": [
              "5"
            ]
          },
          "metadata": {},
          "execution_count": 45
        },
        {
          "output_type": "execute_result",
          "data": {
            "text/plain": [
              "6"
            ]
          },
          "metadata": {},
          "execution_count": 45
        },
        {
          "output_type": "execute_result",
          "data": {
            "text/plain": [
              "10"
            ]
          },
          "metadata": {},
          "execution_count": 45
        },
        {
          "output_type": "execute_result",
          "data": {
            "text/plain": [
              "1"
            ]
          },
          "metadata": {},
          "execution_count": 45
        },
        {
          "output_type": "execute_result",
          "data": {
            "text/plain": [
              "371"
            ]
          },
          "metadata": {},
          "execution_count": 45
        },
        {
          "output_type": "execute_result",
          "data": {
            "text/plain": [
              "999"
            ]
          },
          "metadata": {},
          "execution_count": 45
        },
        {
          "output_type": "execute_result",
          "data": {
            "text/plain": [
              "515"
            ]
          },
          "metadata": {},
          "execution_count": 45
        },
        {
          "output_type": "execute_result",
          "data": {
            "text/plain": [
              "332"
            ]
          },
          "metadata": {},
          "execution_count": 45
        },
        {
          "output_type": "execute_result",
          "data": {
            "text/plain": [
              "919"
            ]
          },
          "metadata": {},
          "execution_count": 45
        },
        {
          "output_type": "execute_result",
          "data": {
            "text/plain": [
              "1542"
            ]
          },
          "metadata": {},
          "execution_count": 45
        },
        {
          "output_type": "execute_result",
          "data": {
            "text/plain": [
              "331"
            ]
          },
          "metadata": {},
          "execution_count": 45
        },
        {
          "output_type": "execute_result",
          "data": {
            "text/plain": [
              "508"
            ]
          },
          "metadata": {},
          "execution_count": 45
        },
        {
          "output_type": "execute_result",
          "data": {
            "text/plain": [
              "650"
            ]
          },
          "metadata": {},
          "execution_count": 45
        },
        {
          "output_type": "execute_result",
          "data": {
            "text/plain": [
              "1709"
            ]
          },
          "metadata": {},
          "execution_count": 45
        },
        {
          "output_type": "execute_result",
          "data": {
            "text/plain": [
              "385"
            ]
          },
          "metadata": {},
          "execution_count": 45
        },
        {
          "output_type": "execute_result",
          "data": {
            "text/plain": [
              "1095"
            ]
          },
          "metadata": {},
          "execution_count": 45
        },
        {
          "output_type": "execute_result",
          "data": {
            "text/plain": [
              "516"
            ]
          },
          "metadata": {},
          "execution_count": 45
        },
        {
          "output_type": "execute_result",
          "data": {
            "text/plain": [
              "199"
            ]
          },
          "metadata": {},
          "execution_count": 45
        },
        {
          "output_type": "execute_result",
          "data": {
            "text/plain": [
              "452"
            ]
          },
          "metadata": {},
          "execution_count": 45
        },
        {
          "output_type": "execute_result",
          "data": {
            "text/plain": [
              "406"
            ]
          },
          "metadata": {},
          "execution_count": 45
        },
        {
          "output_type": "execute_result",
          "data": {
            "text/plain": [
              "820"
            ]
          },
          "metadata": {},
          "execution_count": 45
        },
        {
          "output_type": "execute_result",
          "data": {
            "text/plain": [
              "57"
            ]
          },
          "metadata": {},
          "execution_count": 45
        },
        {
          "output_type": "execute_result",
          "data": {
            "text/plain": [
              "295"
            ]
          },
          "metadata": {},
          "execution_count": 45
        },
        {
          "output_type": "execute_result",
          "data": {
            "text/plain": [
              "66"
            ]
          },
          "metadata": {},
          "execution_count": 45
        },
        {
          "output_type": "execute_result",
          "data": {
            "text/plain": [
              "254"
            ]
          },
          "metadata": {},
          "execution_count": 45
        },
        {
          "output_type": "execute_result",
          "data": {
            "text/plain": [
              "204"
            ]
          },
          "metadata": {},
          "execution_count": 45
        },
        {
          "output_type": "execute_result",
          "data": {
            "text/plain": [
              "141"
            ]
          },
          "metadata": {},
          "execution_count": 45
        },
        {
          "output_type": "execute_result",
          "data": {
            "text/plain": [
              "216"
            ]
          },
          "metadata": {},
          "execution_count": 45
        },
        {
          "output_type": "execute_result",
          "data": {
            "text/plain": [
              "285"
            ]
          },
          "metadata": {},
          "execution_count": 45
        },
        {
          "output_type": "execute_result",
          "data": {
            "text/plain": [
              "142"
            ]
          },
          "metadata": {},
          "execution_count": 45
        },
        {
          "output_type": "execute_result",
          "data": {
            "text/plain": [
              "528"
            ]
          },
          "metadata": {},
          "execution_count": 45
        },
        {
          "output_type": "execute_result",
          "data": {
            "text/plain": [
              "176"
            ]
          },
          "metadata": {},
          "execution_count": 45
        },
        {
          "output_type": "execute_result",
          "data": {
            "text/plain": [
              "171"
            ]
          },
          "metadata": {},
          "execution_count": 45
        },
        {
          "output_type": "execute_result",
          "data": {
            "text/plain": [
              "488"
            ]
          },
          "metadata": {},
          "execution_count": 45
        },
        {
          "output_type": "execute_result",
          "data": {
            "text/plain": [
              "464"
            ]
          },
          "metadata": {},
          "execution_count": 45
        },
        {
          "output_type": "execute_result",
          "data": {
            "text/plain": [
              "750"
            ]
          },
          "metadata": {},
          "execution_count": 45
        },
        {
          "output_type": "execute_result",
          "data": {
            "text/plain": [
              "407"
            ]
          },
          "metadata": {},
          "execution_count": 45
        },
        {
          "output_type": "execute_result",
          "data": {
            "text/plain": [
              "261"
            ]
          },
          "metadata": {},
          "execution_count": 45
        },
        {
          "output_type": "execute_result",
          "data": {
            "text/plain": [
              "428"
            ]
          },
          "metadata": {},
          "execution_count": 45
        },
        {
          "output_type": "execute_result",
          "data": {
            "text/plain": [
              "36"
            ]
          },
          "metadata": {},
          "execution_count": 45
        },
        {
          "output_type": "execute_result",
          "data": {
            "text/plain": [
              "656"
            ]
          },
          "metadata": {},
          "execution_count": 45
        },
        {
          "output_type": "execute_result",
          "data": {
            "text/plain": [
              "692"
            ]
          },
          "metadata": {},
          "execution_count": 45
        },
        {
          "output_type": "execute_result",
          "data": {
            "text/plain": [
              "330"
            ]
          },
          "metadata": {},
          "execution_count": 45
        },
        {
          "output_type": "execute_result",
          "data": {
            "text/plain": [
              "191"
            ]
          },
          "metadata": {},
          "execution_count": 45
        },
        {
          "output_type": "execute_result",
          "data": {
            "text/plain": [
              "317"
            ]
          },
          "metadata": {},
          "execution_count": 45
        },
        {
          "output_type": "execute_result",
          "data": {
            "text/plain": [
              "312"
            ]
          },
          "metadata": {},
          "execution_count": 45
        },
        {
          "output_type": "execute_result",
          "data": {
            "text/plain": [
              "125"
            ]
          },
          "metadata": {},
          "execution_count": 45
        },
        {
          "output_type": "execute_result",
          "data": {
            "text/plain": [
              "227"
            ]
          },
          "metadata": {},
          "execution_count": 45
        },
        {
          "output_type": "execute_result",
          "data": {
            "text/plain": [
              "125"
            ]
          },
          "metadata": {},
          "execution_count": 45
        },
        {
          "output_type": "execute_result",
          "data": {
            "text/plain": [
              "709"
            ]
          },
          "metadata": {},
          "execution_count": 45
        },
        {
          "output_type": "execute_result",
          "data": {
            "text/plain": [
              "663"
            ]
          },
          "metadata": {},
          "execution_count": 45
        },
        {
          "output_type": "execute_result",
          "data": {
            "text/plain": [
              "420"
            ]
          },
          "metadata": {},
          "execution_count": 45
        },
        {
          "output_type": "execute_result",
          "data": {
            "text/plain": [
              "504"
            ]
          },
          "metadata": {},
          "execution_count": 45
        },
        {
          "output_type": "execute_result",
          "data": {
            "text/plain": [
              "587"
            ]
          },
          "metadata": {},
          "execution_count": 45
        },
        {
          "output_type": "execute_result",
          "data": {
            "text/plain": [
              "566"
            ]
          },
          "metadata": {},
          "execution_count": 45
        },
        {
          "output_type": "execute_result",
          "data": {
            "text/plain": [
              "508"
            ]
          },
          "metadata": {},
          "execution_count": 45
        },
        {
          "output_type": "execute_result",
          "data": {
            "text/plain": [
              "183"
            ]
          },
          "metadata": {},
          "execution_count": 45
        },
        {
          "output_type": "execute_result",
          "data": {
            "text/plain": [
              "536"
            ]
          },
          "metadata": {},
          "execution_count": 45
        },
        {
          "output_type": "execute_result",
          "data": {
            "text/plain": [
              "332"
            ]
          },
          "metadata": {},
          "execution_count": 45
        },
        {
          "output_type": "execute_result",
          "data": {
            "text/plain": [
              "255"
            ]
          },
          "metadata": {},
          "execution_count": 45
        },
        {
          "output_type": "execute_result",
          "data": {
            "text/plain": [
              "586"
            ]
          },
          "metadata": {},
          "execution_count": 45
        },
        {
          "output_type": "execute_result",
          "data": {
            "text/plain": [
              "468"
            ]
          },
          "metadata": {},
          "execution_count": 45
        },
        {
          "output_type": "execute_result",
          "data": {
            "text/plain": [
              "293"
            ]
          },
          "metadata": {},
          "execution_count": 45
        },
        {
          "output_type": "execute_result",
          "data": {
            "text/plain": [
              "921"
            ]
          },
          "metadata": {},
          "execution_count": 45
        },
        {
          "output_type": "execute_result",
          "data": {
            "text/plain": [
              "88"
            ]
          },
          "metadata": {},
          "execution_count": 45
        },
        {
          "output_type": "execute_result",
          "data": {
            "text/plain": [
              "1068"
            ]
          },
          "metadata": {},
          "execution_count": 45
        },
        {
          "output_type": "execute_result",
          "data": {
            "text/plain": [
              "821"
            ]
          },
          "metadata": {},
          "execution_count": 45
        },
        {
          "output_type": "execute_result",
          "data": {
            "text/plain": [
              "42"
            ]
          },
          "metadata": {},
          "execution_count": 45
        },
        {
          "output_type": "execute_result",
          "data": {
            "text/plain": [
              "738"
            ]
          },
          "metadata": {},
          "execution_count": 45
        },
        {
          "output_type": "execute_result",
          "data": {
            "text/plain": [
              "205"
            ]
          },
          "metadata": {},
          "execution_count": 45
        },
        {
          "output_type": "execute_result",
          "data": {
            "text/plain": [
              "181"
            ]
          },
          "metadata": {},
          "execution_count": 45
        },
        {
          "output_type": "execute_result",
          "data": {
            "text/plain": [
              "496"
            ]
          },
          "metadata": {},
          "execution_count": 45
        },
        {
          "output_type": "execute_result",
          "data": {
            "text/plain": [
              "798"
            ]
          },
          "metadata": {},
          "execution_count": 45
        },
        {
          "output_type": "execute_result",
          "data": {
            "text/plain": [
              "236"
            ]
          },
          "metadata": {},
          "execution_count": 45
        },
        {
          "output_type": "execute_result",
          "data": {
            "text/plain": [
              "239"
            ]
          },
          "metadata": {},
          "execution_count": 45
        },
        {
          "output_type": "execute_result",
          "data": {
            "text/plain": [
              "528"
            ]
          },
          "metadata": {},
          "execution_count": 45
        },
        {
          "output_type": "execute_result",
          "data": {
            "text/plain": [
              "129"
            ]
          },
          "metadata": {},
          "execution_count": 45
        },
        {
          "output_type": "execute_result",
          "data": {
            "text/plain": [
              "696"
            ]
          },
          "metadata": {},
          "execution_count": 45
        },
        {
          "output_type": "execute_result",
          "data": {
            "text/plain": [
              "144"
            ]
          },
          "metadata": {},
          "execution_count": 45
        },
        {
          "output_type": "execute_result",
          "data": {
            "text/plain": [
              "153"
            ]
          },
          "metadata": {},
          "execution_count": 45
        },
        {
          "output_type": "execute_result",
          "data": {
            "text/plain": [
              "270"
            ]
          },
          "metadata": {},
          "execution_count": 45
        },
        {
          "output_type": "execute_result",
          "data": {
            "text/plain": [
              "137"
            ]
          },
          "metadata": {},
          "execution_count": 45
        },
        {
          "output_type": "execute_result",
          "data": {
            "text/plain": [
              "900"
            ]
          },
          "metadata": {},
          "execution_count": 45
        },
        {
          "output_type": "execute_result",
          "data": {
            "text/plain": [
              "254"
            ]
          },
          "metadata": {},
          "execution_count": 45
        },
        {
          "output_type": "execute_result",
          "data": {
            "text/plain": [
              "407"
            ]
          },
          "metadata": {},
          "execution_count": 45
        },
        {
          "output_type": "execute_result",
          "data": {
            "text/plain": [
              "827"
            ]
          },
          "metadata": {},
          "execution_count": 45
        },
        {
          "output_type": "execute_result",
          "data": {
            "text/plain": [
              "711"
            ]
          },
          "metadata": {},
          "execution_count": 45
        },
        {
          "output_type": "execute_result",
          "data": {
            "text/plain": [
              "539"
            ]
          },
          "metadata": {},
          "execution_count": 45
        },
        {
          "output_type": "execute_result",
          "data": {
            "text/plain": [
              "764"
            ]
          },
          "metadata": {},
          "execution_count": 45
        },
        {
          "output_type": "execute_result",
          "data": {
            "text/plain": [
              "350"
            ]
          },
          "metadata": {},
          "execution_count": 45
        },
        {
          "output_type": "execute_result",
          "data": {
            "text/plain": [
              "145"
            ]
          },
          "metadata": {},
          "execution_count": 45
        },
        {
          "output_type": "execute_result",
          "data": {
            "text/plain": [
              "202"
            ]
          },
          "metadata": {},
          "execution_count": 45
        },
        {
          "output_type": "execute_result",
          "data": {
            "text/plain": [
              "1798"
            ]
          },
          "metadata": {},
          "execution_count": 45
        },
        {
          "output_type": "execute_result",
          "data": {
            "text/plain": [
              "300"
            ]
          },
          "metadata": {},
          "execution_count": 45
        },
        {
          "output_type": "execute_result",
          "data": {
            "text/plain": [
              "369"
            ]
          },
          "metadata": {},
          "execution_count": 45
        },
        {
          "output_type": "execute_result",
          "data": {
            "text/plain": [
              "570"
            ]
          },
          "metadata": {},
          "execution_count": 45
        },
        {
          "output_type": "execute_result",
          "data": {
            "text/plain": [
              "496"
            ]
          },
          "metadata": {},
          "execution_count": 45
        },
        {
          "output_type": "execute_result",
          "data": {
            "text/plain": [
              "337"
            ]
          },
          "metadata": {},
          "execution_count": 45
        },
        {
          "output_type": "execute_result",
          "data": {
            "text/plain": [
              "556"
            ]
          },
          "metadata": {},
          "execution_count": 45
        },
        {
          "output_type": "execute_result",
          "data": {
            "text/plain": [
              "304"
            ]
          },
          "metadata": {},
          "execution_count": 45
        },
        {
          "output_type": "execute_result",
          "data": {
            "text/plain": [
              "338"
            ]
          },
          "metadata": {},
          "execution_count": 45
        },
        {
          "output_type": "execute_result",
          "data": {
            "text/plain": [
              "181"
            ]
          },
          "metadata": {},
          "execution_count": 45
        },
        {
          "output_type": "execute_result",
          "data": {
            "text/plain": [
              "458"
            ]
          },
          "metadata": {},
          "execution_count": 45
        },
        {
          "output_type": "execute_result",
          "data": {
            "text/plain": [
              "425"
            ]
          },
          "metadata": {},
          "execution_count": 45
        },
        {
          "output_type": "execute_result",
          "data": {
            "text/plain": [
              "828"
            ]
          },
          "metadata": {},
          "execution_count": 45
        },
        {
          "output_type": "execute_result",
          "data": {
            "text/plain": [
              "609"
            ]
          },
          "metadata": {},
          "execution_count": 45
        },
        {
          "output_type": "execute_result",
          "data": {
            "text/plain": [
              "718"
            ]
          },
          "metadata": {},
          "execution_count": 45
        },
        {
          "output_type": "execute_result",
          "data": {
            "text/plain": [
              "304"
            ]
          },
          "metadata": {},
          "execution_count": 45
        },
        {
          "output_type": "execute_result",
          "data": {
            "text/plain": [
              "196"
            ]
          },
          "metadata": {},
          "execution_count": 45
        },
        {
          "output_type": "execute_result",
          "data": {
            "text/plain": [
              "483"
            ]
          },
          "metadata": {},
          "execution_count": 45
        },
        {
          "output_type": "execute_result",
          "data": {
            "text/plain": [
              "822"
            ]
          },
          "metadata": {},
          "execution_count": 45
        },
        {
          "output_type": "execute_result",
          "data": {
            "text/plain": [
              "143"
            ]
          },
          "metadata": {},
          "execution_count": 45
        },
        {
          "output_type": "execute_result",
          "data": {
            "text/plain": [
              "['.config',\n",
              " 'seq.pkl',\n",
              " 'Religion.txt',\n",
              " 'football.txt',\n",
              " 'Hockey.txt',\n",
              " 'word_index.txt',\n",
              " 'Crime.txt',\n",
              " 'sample_data']"
            ]
          },
          "metadata": {},
          "execution_count": 45
        }
      ]
    },
    {
      "cell_type": "code",
      "source": [],
      "metadata": {
        "id": "TnQssHnbXapx"
      },
      "execution_count": null,
      "outputs": []
    }
  ],
  "metadata": {
    "colab": {
      "collapsed_sections": [
        "OQ-997yOz5uF",
        "OCeoUb-5Ummo",
        "6zwRKrJ-SoHw",
        "qf0euAcqS0_H",
        "MfL8wVW6WdzT"
      ],
      "provenance": [],
      "include_colab_link": true
    },
    "kernelspec": {
      "display_name": "Python 3 (ipykernel)",
      "language": "python",
      "name": "python3"
    },
    "language_info": {
      "codemirror_mode": {
        "name": "ipython",
        "version": 3
      },
      "file_extension": ".py",
      "mimetype": "text/x-python",
      "name": "python",
      "nbconvert_exporter": "python",
      "pygments_lexer": "ipython3",
      "version": "3.9.7"
    }
  },
  "nbformat": 4,
  "nbformat_minor": 0
}