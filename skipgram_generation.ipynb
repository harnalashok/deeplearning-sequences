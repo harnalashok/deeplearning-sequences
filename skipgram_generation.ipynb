{
  "cells": [
    {
      "cell_type": "markdown",
      "metadata": {
        "id": "view-in-github",
        "colab_type": "text"
      },
      "source": [
        "<a href=\"https://colab.research.google.com/github/harnalashok/deeplearning-sequences/blob/main/skipgram_generation.ipynb\" target=\"_parent\"><img src=\"https://colab.research.google.com/assets/colab-badge.svg\" alt=\"Open In Colab\"/></a>"
      ]
    },
    {
      "cell_type": "code",
      "execution_count": null,
      "metadata": {
        "id": "Eg_Jjf8nfago"
      },
      "outputs": [],
      "source": [
        "\"\"\"\n",
        "Last amended: 3rd Nov, 2022\n",
        "My folder: C:\\Users\\Ashok\\OneDrive\\Documents\\skipgrams\n",
        "\n",
        "Ref:\n",
        "https://ljvmiranda921.github.io/notebook/2021/12/11/word-vectors/#pairs\n",
        "https://www.kaggle.com/competitions/word2vec-nlp-tutorial/overview/part-2-word-vectors\n",
        "https://www.tensorflow.org/api_docs/python/tf/keras/preprocessing/sequence/skipgrams\n",
        "https://stackoverflow.com/a/1994012\n",
        "\n",
        "Objectives:\n",
        "        i)   To get a skipgram paired sequence\n",
        "\n",
        "\"\"\""
      ]
    },
    {
      "cell_type": "markdown",
      "metadata": {
        "id": "OQ-997yOz5uF"
      },
      "source": [
        "## Install software"
      ]
    },
    {
      "cell_type": "code",
      "source": [
        "! pip install --upgrade gensim "
      ],
      "metadata": {
        "id": "2JjQbiFP_B1_",
        "outputId": "1d8e5c70-14ee-4197-8ba5-e7ba921e1e64",
        "colab": {
          "base_uri": "https://localhost:8080/"
        }
      },
      "execution_count": 6,
      "outputs": [
        {
          "output_type": "stream",
          "name": "stdout",
          "text": [
            "Looking in indexes: https://pypi.org/simple, https://us-python.pkg.dev/colab-wheels/public/simple/\n",
            "Requirement already satisfied: gensim in /usr/local/lib/python3.7/dist-packages (4.2.0)\n",
            "Requirement already satisfied: smart-open>=1.8.1 in /usr/local/lib/python3.7/dist-packages (from gensim) (5.2.1)\n",
            "Requirement already satisfied: scipy>=0.18.1 in /usr/local/lib/python3.7/dist-packages (from gensim) (1.7.3)\n",
            "Requirement already satisfied: numpy>=1.17.0 in /usr/local/lib/python3.7/dist-packages (from gensim) (1.21.6)\n"
          ]
        }
      ]
    },
    {
      "cell_type": "markdown",
      "source": [
        "## Call libraries"
      ],
      "metadata": {
        "id": "OCeoUb-5Ummo"
      }
    },
    {
      "cell_type": "code",
      "execution_count": 7,
      "metadata": {
        "id": "YSOqIGBOg3O2"
      },
      "outputs": [],
      "source": [
        "# 1.0 Call libraries\n",
        "%reset -f\n",
        "import pandas as pd\n",
        "import numpy as np\n",
        "\n",
        "# 1.1 Import module imdb & other keras modules\n",
        "import tensorflow as tf\n",
        "\n",
        "\n",
        "# 1.2 API to manipulate sequences of words\n",
        "from tensorflow.keras.preprocessing import sequence\n",
        "from tensorflow.keras.preprocessing.sequence import skipgrams\n",
        "\n",
        "# 1.3\n",
        "import gensim\n",
        "import re\n",
        "from bs4 import BeautifulSoup\n",
        "import nltk\n",
        "from nltk.corpus import stopwords\n",
        "from collections import Counter\n",
        "\n",
        "# 1.4\n",
        "import os\n",
        "from nltk.stem.porter import PorterStemmer\n",
        "from nltk.stem import WordNetLemmatizer\n"
      ]
    },
    {
      "cell_type": "code",
      "source": [
        "# 1.5 Download stopwords from nltk\n",
        "nltk.download('stopwords')\n"
      ],
      "metadata": {
        "id": "Ohr5xPzS_SHH",
        "outputId": "14301b03-bb6a-4115-845d-14a4bee88a2b",
        "colab": {
          "base_uri": "https://localhost:8080/"
        }
      },
      "execution_count": 8,
      "outputs": [
        {
          "output_type": "stream",
          "name": "stderr",
          "text": [
            "[nltk_data] Downloading package stopwords to /root/nltk_data...\n",
            "[nltk_data]   Package stopwords is already up-to-date!\n"
          ]
        },
        {
          "output_type": "execute_result",
          "data": {
            "text/plain": [
              "True"
            ]
          },
          "metadata": {},
          "execution_count": 8
        }
      ]
    },
    {
      "cell_type": "code",
      "execution_count": 9,
      "metadata": {
        "id": "iiSHMqm0iCMB"
      },
      "outputs": [],
      "source": [
        "# 1.6 Display multiple commands output from a cell\n",
        "from IPython.core.interactiveshell import InteractiveShell\n",
        "InteractiveShell.ast_node_interactivity = \"all\""
      ]
    },
    {
      "cell_type": "markdown",
      "source": [
        "## Useful functions\n"
      ],
      "metadata": {
        "id": "6zwRKrJ-SoHw"
      }
    },
    {
      "cell_type": "code",
      "source": [
        "# 2.0 Function to clean text (from Kaggle):\n",
        "\n",
        "def review_to_wordlist( review, remove_stopwords=False, stem = False):\n",
        "    # Function to convert a document to a sequence of words,\n",
        "    # optionally removing stop words.  Returns a list of words.\n",
        "    #\n",
        "    # 1. Remove HTML\n",
        "    review_text = BeautifulSoup(review).get_text()\n",
        "    #\n",
        "    # 2. Remove non-letters\n",
        "    review_text = re.sub(\"[^a-zA-Z]\",\" \", review_text)\n",
        "    # 3. Remove new lines\n",
        "    review_text = review_text.replace('\\n', '')\n",
        "    #\n",
        "    # 3. Convert words to lower case and split them\n",
        "    words = review_text.lower().split()\n",
        "    #\n",
        "    # 4. Optionally remove stop words (false by default)\n",
        "    if remove_stopwords:\n",
        "      stops = set(stopwords.words(\"english\"))\n",
        "      words = [w for w in words if not w in stops]\n",
        "    # 5. Optionally perform stemming (false by default)  \n",
        "    if stem:\n",
        "      stemmer = PorterStemmer()\n",
        "      words = [stemmer.stem(w) for w in words ]\n",
        "    # 5. Return a list of words\n",
        "    return(words)\n"
      ],
      "metadata": {
        "id": "Rd7J1O1r_gOv"
      },
      "execution_count": 10,
      "outputs": []
    },
    {
      "cell_type": "markdown",
      "source": [
        "## Mount gdrive"
      ],
      "metadata": {
        "id": "xUSDyN2Ho1u9"
      }
    },
    {
      "cell_type": "code",
      "source": [
        "# 2.1\n",
        "\n",
        "from google.colab import drive\n",
        "drive.mount('/gdrive')"
      ],
      "metadata": {
        "colab": {
          "base_uri": "https://localhost:8080/"
        },
        "id": "85-yqOYUo6zD",
        "outputId": "a7c7d151-a017-47bd-b18d-a10914920713"
      },
      "execution_count": 11,
      "outputs": [
        {
          "output_type": "stream",
          "name": "stdout",
          "text": [
            "Mounted at /gdrive\n"
          ]
        }
      ]
    },
    {
      "cell_type": "code",
      "source": [
        "# 3.0 We will upload our text file \n",
        "#      directly from gdrive:\n",
        "\n",
        "pathToFolder = \"/gdrive/MyDrive/Colab_data_files/skipgram/\""
      ],
      "metadata": {
        "id": "-WDXyXMzo6zE"
      },
      "execution_count": 12,
      "outputs": []
    },
    {
      "cell_type": "markdown",
      "source": [
        "## Read data\n",
        "Upload text file <i>'football.txt'</i> directly to `/content/` folder of colab virtual machine."
      ],
      "metadata": {
        "id": "qf0euAcqS0_H"
      }
    },
    {
      "cell_type": "code",
      "source": [
        "# 3.1 Read foortball.txt:\n",
        "\n",
        "tx_data = pd.read_csv(pathToFolder+ \"combined.txt\", sep = \"\\t\", header = 'infer')\n",
        "tx_data.head()"
      ],
      "metadata": {
        "id": "w5rkqnFUJ08z",
        "outputId": "2a4a045f-e262-4b4b-f0be-a835b36d762f",
        "colab": {
          "base_uri": "https://localhost:8080/",
          "height": 81
        }
      },
      "execution_count": 13,
      "outputs": [
        {
          "output_type": "execute_result",
          "data": {
            "text/plain": [
              "                                                text\n",
              "0  In ordinary language, a crime is an unlawful a..."
            ],
            "text/html": [
              "\n",
              "  <div id=\"df-c6ad8824-351a-4536-a7f0-ea9a4d56f969\">\n",
              "    <div class=\"colab-df-container\">\n",
              "      <div>\n",
              "<style scoped>\n",
              "    .dataframe tbody tr th:only-of-type {\n",
              "        vertical-align: middle;\n",
              "    }\n",
              "\n",
              "    .dataframe tbody tr th {\n",
              "        vertical-align: top;\n",
              "    }\n",
              "\n",
              "    .dataframe thead th {\n",
              "        text-align: right;\n",
              "    }\n",
              "</style>\n",
              "<table border=\"1\" class=\"dataframe\">\n",
              "  <thead>\n",
              "    <tr style=\"text-align: right;\">\n",
              "      <th></th>\n",
              "      <th>text</th>\n",
              "    </tr>\n",
              "  </thead>\n",
              "  <tbody>\n",
              "    <tr>\n",
              "      <th>0</th>\n",
              "      <td>In ordinary language, a crime is an unlawful a...</td>\n",
              "    </tr>\n",
              "  </tbody>\n",
              "</table>\n",
              "</div>\n",
              "      <button class=\"colab-df-convert\" onclick=\"convertToInteractive('df-c6ad8824-351a-4536-a7f0-ea9a4d56f969')\"\n",
              "              title=\"Convert this dataframe to an interactive table.\"\n",
              "              style=\"display:none;\">\n",
              "        \n",
              "  <svg xmlns=\"http://www.w3.org/2000/svg\" height=\"24px\"viewBox=\"0 0 24 24\"\n",
              "       width=\"24px\">\n",
              "    <path d=\"M0 0h24v24H0V0z\" fill=\"none\"/>\n",
              "    <path d=\"M18.56 5.44l.94 2.06.94-2.06 2.06-.94-2.06-.94-.94-2.06-.94 2.06-2.06.94zm-11 1L8.5 8.5l.94-2.06 2.06-.94-2.06-.94L8.5 2.5l-.94 2.06-2.06.94zm10 10l.94 2.06.94-2.06 2.06-.94-2.06-.94-.94-2.06-.94 2.06-2.06.94z\"/><path d=\"M17.41 7.96l-1.37-1.37c-.4-.4-.92-.59-1.43-.59-.52 0-1.04.2-1.43.59L10.3 9.45l-7.72 7.72c-.78.78-.78 2.05 0 2.83L4 21.41c.39.39.9.59 1.41.59.51 0 1.02-.2 1.41-.59l7.78-7.78 2.81-2.81c.8-.78.8-2.07 0-2.86zM5.41 20L4 18.59l7.72-7.72 1.47 1.35L5.41 20z\"/>\n",
              "  </svg>\n",
              "      </button>\n",
              "      \n",
              "  <style>\n",
              "    .colab-df-container {\n",
              "      display:flex;\n",
              "      flex-wrap:wrap;\n",
              "      gap: 12px;\n",
              "    }\n",
              "\n",
              "    .colab-df-convert {\n",
              "      background-color: #E8F0FE;\n",
              "      border: none;\n",
              "      border-radius: 50%;\n",
              "      cursor: pointer;\n",
              "      display: none;\n",
              "      fill: #1967D2;\n",
              "      height: 32px;\n",
              "      padding: 0 0 0 0;\n",
              "      width: 32px;\n",
              "    }\n",
              "\n",
              "    .colab-df-convert:hover {\n",
              "      background-color: #E2EBFA;\n",
              "      box-shadow: 0px 1px 2px rgba(60, 64, 67, 0.3), 0px 1px 3px 1px rgba(60, 64, 67, 0.15);\n",
              "      fill: #174EA6;\n",
              "    }\n",
              "\n",
              "    [theme=dark] .colab-df-convert {\n",
              "      background-color: #3B4455;\n",
              "      fill: #D2E3FC;\n",
              "    }\n",
              "\n",
              "    [theme=dark] .colab-df-convert:hover {\n",
              "      background-color: #434B5C;\n",
              "      box-shadow: 0px 1px 3px 1px rgba(0, 0, 0, 0.15);\n",
              "      filter: drop-shadow(0px 1px 2px rgba(0, 0, 0, 0.3));\n",
              "      fill: #FFFFFF;\n",
              "    }\n",
              "  </style>\n",
              "\n",
              "      <script>\n",
              "        const buttonEl =\n",
              "          document.querySelector('#df-c6ad8824-351a-4536-a7f0-ea9a4d56f969 button.colab-df-convert');\n",
              "        buttonEl.style.display =\n",
              "          google.colab.kernel.accessAllowed ? 'block' : 'none';\n",
              "\n",
              "        async function convertToInteractive(key) {\n",
              "          const element = document.querySelector('#df-c6ad8824-351a-4536-a7f0-ea9a4d56f969');\n",
              "          const dataTable =\n",
              "            await google.colab.kernel.invokeFunction('convertToInteractive',\n",
              "                                                     [key], {});\n",
              "          if (!dataTable) return;\n",
              "\n",
              "          const docLinkHtml = 'Like what you see? Visit the ' +\n",
              "            '<a target=\"_blank\" href=https://colab.research.google.com/notebooks/data_table.ipynb>data table notebook</a>'\n",
              "            + ' to learn more about interactive tables.';\n",
              "          element.innerHTML = '';\n",
              "          dataTable['output_type'] = 'display_data';\n",
              "          await google.colab.output.renderOutput(dataTable, element);\n",
              "          const docLink = document.createElement('div');\n",
              "          docLink.innerHTML = docLinkHtml;\n",
              "          element.appendChild(docLink);\n",
              "        }\n",
              "      </script>\n",
              "    </div>\n",
              "  </div>\n",
              "  "
            ]
          },
          "metadata": {},
          "execution_count": 13
        }
      ]
    },
    {
      "cell_type": "code",
      "source": [
        "# 3.2 Examine relevant column:\n",
        "tx_data['text']\n"
      ],
      "metadata": {
        "id": "_WDt6aLNMQPw",
        "colab": {
          "base_uri": "https://localhost:8080/"
        },
        "outputId": "403fe14f-3c91-44c3-821c-9f8e033c6379"
      },
      "execution_count": 14,
      "outputs": [
        {
          "output_type": "execute_result",
          "data": {
            "text/plain": [
              "0    In ordinary language, a crime is an unlawful a...\n",
              "Name: text, dtype: object"
            ]
          },
          "metadata": {},
          "execution_count": 14
        }
      ]
    },
    {
      "cell_type": "code",
      "source": [
        "# 3.3 Get complete text as a list of one string:\n",
        "\n",
        "text = list(tx_data['text'])\n",
        "text"
      ],
      "metadata": {
        "id": "M83260BQMh0I"
      },
      "execution_count": null,
      "outputs": []
    },
    {
      "cell_type": "markdown",
      "source": [
        "## Process text\n",
        "Clean text and create word-to-int index"
      ],
      "metadata": {
        "id": "FOjFXZ_CVkbR"
      }
    },
    {
      "cell_type": "code",
      "source": [
        "# 4.0 Clean the text and get tokens:\n",
        "\n",
        "cleaned_tokens = review_to_wordlist(text[0], remove_stopwords=True)"
      ],
      "metadata": {
        "id": "ikI6LPgy_yRo"
      },
      "execution_count": 16,
      "outputs": []
    },
    {
      "cell_type": "code",
      "source": [
        "# 4.1 Look at tokens and how many total words:\n",
        "cleaned_tokens[:10]\n",
        "print()\n",
        "len(cleaned_tokens)"
      ],
      "metadata": {
        "id": "RpOOca2b_-ZI",
        "colab": {
          "base_uri": "https://localhost:8080/"
        },
        "outputId": "c67dd2a3-401d-476c-f603-a664f728d857"
      },
      "execution_count": 17,
      "outputs": [
        {
          "output_type": "execute_result",
          "data": {
            "text/plain": [
              "['ordinary',\n",
              " 'language',\n",
              " 'crime',\n",
              " 'unlawful',\n",
              " 'act',\n",
              " 'punishable',\n",
              " 'state',\n",
              " 'authority',\n",
              " 'term',\n",
              " 'crime']"
            ]
          },
          "metadata": {},
          "execution_count": 17
        },
        {
          "output_type": "stream",
          "name": "stdout",
          "text": [
            "\n"
          ]
        },
        {
          "output_type": "execute_result",
          "data": {
            "text/plain": [
              "12956"
            ]
          },
          "metadata": {},
          "execution_count": 17
        }
      ]
    },
    {
      "cell_type": "code",
      "source": [
        "# 4.2 No of unique words:\n",
        "\n",
        "max_vocab = len(set(cleaned_tokens))\n",
        "max_vocab  # 4044"
      ],
      "metadata": {
        "id": "-8LTkBLMP3io",
        "colab": {
          "base_uri": "https://localhost:8080/"
        },
        "outputId": "544de456-8b32-44e8-a41f-d312d906aef3"
      },
      "execution_count": 18,
      "outputs": [
        {
          "output_type": "execute_result",
          "data": {
            "text/plain": [
              "4044"
            ]
          },
          "metadata": {},
          "execution_count": 18
        }
      ]
    },
    {
      "cell_type": "code",
      "source": [
        "# 5.0 Get a dict of which word occurs\n",
        "#     how many times:\n",
        "\n",
        "freq_of_words = Counter(cleaned_tokens)\n",
        "freq_of_words"
      ],
      "metadata": {
        "id": "FsogaQYKECGR"
      },
      "execution_count": null,
      "outputs": []
    },
    {
      "cell_type": "code",
      "source": [
        "# 5.1 Sort words in order of freq\n",
        "#     Most freq at the top:\n",
        "\n",
        "vocab = sorted(freq_of_words,\n",
        "               key=freq_of_words.get,\n",
        "               reverse=True)\n",
        "\n",
        "# 5.1.1\n",
        "vocab   # Most freq at the top; least at the bottom"
      ],
      "metadata": {
        "id": "hkQRtmCnEy7A"
      },
      "execution_count": null,
      "outputs": []
    },
    {
      "cell_type": "code",
      "source": [
        "# 5.2 Get a dict of word and its int label:\n",
        "#     Most freq word gets transformed to 1:\n",
        "\n",
        "word_index = {word: ii for ii, word in enumerate(vocab, 1)}"
      ],
      "metadata": {
        "id": "TgYbSdDvE8Gy"
      },
      "execution_count": 21,
      "outputs": []
    },
    {
      "cell_type": "code",
      "source": [
        "# 5.3 Here is our word to int index:\n",
        "\n",
        "word_index"
      ],
      "metadata": {
        "id": "m6rVbynCFEOB"
      },
      "execution_count": null,
      "outputs": []
    },
    {
      "cell_type": "markdown",
      "source": [
        "## Get skipgrams\n",
        "Transform text to int sequence and get skipgram pairs"
      ],
      "metadata": {
        "id": "MfL8wVW6WdzT"
      }
    },
    {
      "cell_type": "code",
      "source": [
        "# 6.0 Function to map a word list to integers\n",
        "#     as per mapping in word_index dict:\n",
        "\n",
        "def seq2int(wordList, word_index):\n",
        "    return [word_index[x] for x in wordList]"
      ],
      "metadata": {
        "id": "ddmxfPxJFhpA"
      },
      "execution_count": 22,
      "outputs": []
    },
    {
      "cell_type": "code",
      "source": [
        "# 6.1 Here is our int seq:\n",
        "\n",
        "int_seq = seq2int(cleaned_tokens, word_index)\n",
        "int_seq[:10]"
      ],
      "metadata": {
        "id": "ixftV8-JGmxp",
        "outputId": "8419900b-e578-4e61-8ffc-c8cd7a9fb6e6",
        "colab": {
          "base_uri": "https://localhost:8080/"
        }
      },
      "execution_count": 23,
      "outputs": [
        {
          "output_type": "execute_result",
          "data": {
            "text/plain": [
              "[753, 362, 16, 1789, 90, 363, 32, 1121, 46, 16]"
            ]
          },
          "metadata": {},
          "execution_count": 23
        }
      ]
    },
    {
      "cell_type": "code",
      "source": [
        "skipgrams = []\n",
        "for i,j in enumerate(int_seq):\n",
        "  if i < len(int_seq)-4:\n",
        "    t = int_seq[i],int_seq[i+1],int_seq[i+2],int_seq[i+3],int_seq[i+4]\n",
        "    skipgrams.append(t)"
      ],
      "metadata": {
        "id": "b5vJEhsd_TZX"
      },
      "execution_count": 24,
      "outputs": []
    },
    {
      "cell_type": "code",
      "source": [
        "skipgrams[:5]"
      ],
      "metadata": {
        "colab": {
          "base_uri": "https://localhost:8080/"
        },
        "id": "jVkx0QmhGjUt",
        "outputId": "31cd4892-c341-4897-9600-a8e639ff5429"
      },
      "execution_count": 25,
      "outputs": [
        {
          "output_type": "execute_result",
          "data": {
            "text/plain": [
              "[(753, 362, 16, 1789, 90),\n",
              " (362, 16, 1789, 90, 363),\n",
              " (16, 1789, 90, 363, 32),\n",
              " (1789, 90, 363, 32, 1121),\n",
              " (90, 363, 32, 1121, 46)]"
            ]
          },
          "metadata": {},
          "execution_count": 25
        }
      ]
    },
    {
      "cell_type": "code",
      "source": [
        "# 6.2 Translate the int_seq to pairs of skipgrams:\n",
        "\n",
        "pairs = skipgrams(\n",
        "                   int_seq,\n",
        "                   vocabulary_size = max_vocab,\n",
        "                   window_size=4,\n",
        "                   negative_samples=1.0,\n",
        "                   shuffle=True,\n",
        "                   categorical=False,\n",
        "                   sampling_table=None,\n",
        "                   seed=None\n",
        "                  )"
      ],
      "metadata": {
        "id": "gGvjFQZJD6DL"
      },
      "execution_count": null,
      "outputs": []
    },
    {
      "cell_type": "code",
      "source": [
        "# 6.3 Look at pairs:\n",
        "\n",
        "pairs[0]"
      ],
      "metadata": {
        "id": "F9Vu_MAZQQrS"
      },
      "execution_count": null,
      "outputs": []
    },
    {
      "cell_type": "markdown",
      "source": [
        "## Save processed data\n",
        "Save skipgram pairs and word-to-index dict to `/content/` folder of virtual machine"
      ],
      "metadata": {
        "id": "xjhpSBOiXdaj"
      }
    },
    {
      "cell_type": "code",
      "source": [
        "# 7.0 Transform to pandas DataFrame:\n",
        "\n",
        "data = pd.DataFrame(skipgrams, columns = [\"a\", \"b\", \"c\",\"d\", \"e\"])\n",
        "data.to_pickle(pathToFolder + \"skipgrams.pkl\")\n",
        "data.head()"
      ],
      "metadata": {
        "colab": {
          "base_uri": "https://localhost:8080/",
          "height": 206
        },
        "id": "iBONuwBaG028",
        "outputId": "cf964b47-851b-4999-8db8-4b442726c082"
      },
      "execution_count": 26,
      "outputs": [
        {
          "output_type": "execute_result",
          "data": {
            "text/plain": [
              "      a     b     c     d     e\n",
              "0   753   362    16  1789    90\n",
              "1   362    16  1789    90   363\n",
              "2    16  1789    90   363    32\n",
              "3  1789    90   363    32  1121\n",
              "4    90   363    32  1121    46"
            ],
            "text/html": [
              "\n",
              "  <div id=\"df-c83fe1b2-3265-4bdb-82ef-01a08c745a0a\">\n",
              "    <div class=\"colab-df-container\">\n",
              "      <div>\n",
              "<style scoped>\n",
              "    .dataframe tbody tr th:only-of-type {\n",
              "        vertical-align: middle;\n",
              "    }\n",
              "\n",
              "    .dataframe tbody tr th {\n",
              "        vertical-align: top;\n",
              "    }\n",
              "\n",
              "    .dataframe thead th {\n",
              "        text-align: right;\n",
              "    }\n",
              "</style>\n",
              "<table border=\"1\" class=\"dataframe\">\n",
              "  <thead>\n",
              "    <tr style=\"text-align: right;\">\n",
              "      <th></th>\n",
              "      <th>a</th>\n",
              "      <th>b</th>\n",
              "      <th>c</th>\n",
              "      <th>d</th>\n",
              "      <th>e</th>\n",
              "    </tr>\n",
              "  </thead>\n",
              "  <tbody>\n",
              "    <tr>\n",
              "      <th>0</th>\n",
              "      <td>753</td>\n",
              "      <td>362</td>\n",
              "      <td>16</td>\n",
              "      <td>1789</td>\n",
              "      <td>90</td>\n",
              "    </tr>\n",
              "    <tr>\n",
              "      <th>1</th>\n",
              "      <td>362</td>\n",
              "      <td>16</td>\n",
              "      <td>1789</td>\n",
              "      <td>90</td>\n",
              "      <td>363</td>\n",
              "    </tr>\n",
              "    <tr>\n",
              "      <th>2</th>\n",
              "      <td>16</td>\n",
              "      <td>1789</td>\n",
              "      <td>90</td>\n",
              "      <td>363</td>\n",
              "      <td>32</td>\n",
              "    </tr>\n",
              "    <tr>\n",
              "      <th>3</th>\n",
              "      <td>1789</td>\n",
              "      <td>90</td>\n",
              "      <td>363</td>\n",
              "      <td>32</td>\n",
              "      <td>1121</td>\n",
              "    </tr>\n",
              "    <tr>\n",
              "      <th>4</th>\n",
              "      <td>90</td>\n",
              "      <td>363</td>\n",
              "      <td>32</td>\n",
              "      <td>1121</td>\n",
              "      <td>46</td>\n",
              "    </tr>\n",
              "  </tbody>\n",
              "</table>\n",
              "</div>\n",
              "      <button class=\"colab-df-convert\" onclick=\"convertToInteractive('df-c83fe1b2-3265-4bdb-82ef-01a08c745a0a')\"\n",
              "              title=\"Convert this dataframe to an interactive table.\"\n",
              "              style=\"display:none;\">\n",
              "        \n",
              "  <svg xmlns=\"http://www.w3.org/2000/svg\" height=\"24px\"viewBox=\"0 0 24 24\"\n",
              "       width=\"24px\">\n",
              "    <path d=\"M0 0h24v24H0V0z\" fill=\"none\"/>\n",
              "    <path d=\"M18.56 5.44l.94 2.06.94-2.06 2.06-.94-2.06-.94-.94-2.06-.94 2.06-2.06.94zm-11 1L8.5 8.5l.94-2.06 2.06-.94-2.06-.94L8.5 2.5l-.94 2.06-2.06.94zm10 10l.94 2.06.94-2.06 2.06-.94-2.06-.94-.94-2.06-.94 2.06-2.06.94z\"/><path d=\"M17.41 7.96l-1.37-1.37c-.4-.4-.92-.59-1.43-.59-.52 0-1.04.2-1.43.59L10.3 9.45l-7.72 7.72c-.78.78-.78 2.05 0 2.83L4 21.41c.39.39.9.59 1.41.59.51 0 1.02-.2 1.41-.59l7.78-7.78 2.81-2.81c.8-.78.8-2.07 0-2.86zM5.41 20L4 18.59l7.72-7.72 1.47 1.35L5.41 20z\"/>\n",
              "  </svg>\n",
              "      </button>\n",
              "      \n",
              "  <style>\n",
              "    .colab-df-container {\n",
              "      display:flex;\n",
              "      flex-wrap:wrap;\n",
              "      gap: 12px;\n",
              "    }\n",
              "\n",
              "    .colab-df-convert {\n",
              "      background-color: #E8F0FE;\n",
              "      border: none;\n",
              "      border-radius: 50%;\n",
              "      cursor: pointer;\n",
              "      display: none;\n",
              "      fill: #1967D2;\n",
              "      height: 32px;\n",
              "      padding: 0 0 0 0;\n",
              "      width: 32px;\n",
              "    }\n",
              "\n",
              "    .colab-df-convert:hover {\n",
              "      background-color: #E2EBFA;\n",
              "      box-shadow: 0px 1px 2px rgba(60, 64, 67, 0.3), 0px 1px 3px 1px rgba(60, 64, 67, 0.15);\n",
              "      fill: #174EA6;\n",
              "    }\n",
              "\n",
              "    [theme=dark] .colab-df-convert {\n",
              "      background-color: #3B4455;\n",
              "      fill: #D2E3FC;\n",
              "    }\n",
              "\n",
              "    [theme=dark] .colab-df-convert:hover {\n",
              "      background-color: #434B5C;\n",
              "      box-shadow: 0px 1px 3px 1px rgba(0, 0, 0, 0.15);\n",
              "      filter: drop-shadow(0px 1px 2px rgba(0, 0, 0, 0.3));\n",
              "      fill: #FFFFFF;\n",
              "    }\n",
              "  </style>\n",
              "\n",
              "      <script>\n",
              "        const buttonEl =\n",
              "          document.querySelector('#df-c83fe1b2-3265-4bdb-82ef-01a08c745a0a button.colab-df-convert');\n",
              "        buttonEl.style.display =\n",
              "          google.colab.kernel.accessAllowed ? 'block' : 'none';\n",
              "\n",
              "        async function convertToInteractive(key) {\n",
              "          const element = document.querySelector('#df-c83fe1b2-3265-4bdb-82ef-01a08c745a0a');\n",
              "          const dataTable =\n",
              "            await google.colab.kernel.invokeFunction('convertToInteractive',\n",
              "                                                     [key], {});\n",
              "          if (!dataTable) return;\n",
              "\n",
              "          const docLinkHtml = 'Like what you see? Visit the ' +\n",
              "            '<a target=\"_blank\" href=https://colab.research.google.com/notebooks/data_table.ipynb>data table notebook</a>'\n",
              "            + ' to learn more about interactive tables.';\n",
              "          element.innerHTML = '';\n",
              "          dataTable['output_type'] = 'display_data';\n",
              "          await google.colab.output.renderOutput(dataTable, element);\n",
              "          const docLink = document.createElement('div');\n",
              "          docLink.innerHTML = docLinkHtml;\n",
              "          element.appendChild(docLink);\n",
              "        }\n",
              "      </script>\n",
              "    </div>\n",
              "  </div>\n",
              "  "
            ]
          },
          "metadata": {},
          "execution_count": 26
        }
      ]
    },
    {
      "cell_type": "code",
      "source": [
        "# 7.0 Transform to pandas DataFrame:\n",
        "\n",
        "data = pd.DataFrame(pairs[0], columns = [\"a\", \"b\"])\n",
        "data.to_pickle(pathToFolder + \"seq.pkl\")\n",
        "data.head()"
      ],
      "metadata": {
        "id": "RCsE6rmwQZfH",
        "colab": {
          "base_uri": "https://localhost:8080/",
          "height": 206
        },
        "outputId": "535944b4-fd77-4da8-823a-308cd38ee69c"
      },
      "execution_count": null,
      "outputs": [
        {
          "output_type": "execute_result",
          "data": {
            "text/plain": [
              "      a     b\n",
              "0   174  2146\n",
              "1  3743  3067\n",
              "2     9   917\n",
              "3    14   759\n",
              "4  1283  1173"
            ],
            "text/html": [
              "\n",
              "  <div id=\"df-70ece5ae-bff8-43ef-953c-aa34bec90c65\">\n",
              "    <div class=\"colab-df-container\">\n",
              "      <div>\n",
              "<style scoped>\n",
              "    .dataframe tbody tr th:only-of-type {\n",
              "        vertical-align: middle;\n",
              "    }\n",
              "\n",
              "    .dataframe tbody tr th {\n",
              "        vertical-align: top;\n",
              "    }\n",
              "\n",
              "    .dataframe thead th {\n",
              "        text-align: right;\n",
              "    }\n",
              "</style>\n",
              "<table border=\"1\" class=\"dataframe\">\n",
              "  <thead>\n",
              "    <tr style=\"text-align: right;\">\n",
              "      <th></th>\n",
              "      <th>a</th>\n",
              "      <th>b</th>\n",
              "    </tr>\n",
              "  </thead>\n",
              "  <tbody>\n",
              "    <tr>\n",
              "      <th>0</th>\n",
              "      <td>174</td>\n",
              "      <td>2146</td>\n",
              "    </tr>\n",
              "    <tr>\n",
              "      <th>1</th>\n",
              "      <td>3743</td>\n",
              "      <td>3067</td>\n",
              "    </tr>\n",
              "    <tr>\n",
              "      <th>2</th>\n",
              "      <td>9</td>\n",
              "      <td>917</td>\n",
              "    </tr>\n",
              "    <tr>\n",
              "      <th>3</th>\n",
              "      <td>14</td>\n",
              "      <td>759</td>\n",
              "    </tr>\n",
              "    <tr>\n",
              "      <th>4</th>\n",
              "      <td>1283</td>\n",
              "      <td>1173</td>\n",
              "    </tr>\n",
              "  </tbody>\n",
              "</table>\n",
              "</div>\n",
              "      <button class=\"colab-df-convert\" onclick=\"convertToInteractive('df-70ece5ae-bff8-43ef-953c-aa34bec90c65')\"\n",
              "              title=\"Convert this dataframe to an interactive table.\"\n",
              "              style=\"display:none;\">\n",
              "        \n",
              "  <svg xmlns=\"http://www.w3.org/2000/svg\" height=\"24px\"viewBox=\"0 0 24 24\"\n",
              "       width=\"24px\">\n",
              "    <path d=\"M0 0h24v24H0V0z\" fill=\"none\"/>\n",
              "    <path d=\"M18.56 5.44l.94 2.06.94-2.06 2.06-.94-2.06-.94-.94-2.06-.94 2.06-2.06.94zm-11 1L8.5 8.5l.94-2.06 2.06-.94-2.06-.94L8.5 2.5l-.94 2.06-2.06.94zm10 10l.94 2.06.94-2.06 2.06-.94-2.06-.94-.94-2.06-.94 2.06-2.06.94z\"/><path d=\"M17.41 7.96l-1.37-1.37c-.4-.4-.92-.59-1.43-.59-.52 0-1.04.2-1.43.59L10.3 9.45l-7.72 7.72c-.78.78-.78 2.05 0 2.83L4 21.41c.39.39.9.59 1.41.59.51 0 1.02-.2 1.41-.59l7.78-7.78 2.81-2.81c.8-.78.8-2.07 0-2.86zM5.41 20L4 18.59l7.72-7.72 1.47 1.35L5.41 20z\"/>\n",
              "  </svg>\n",
              "      </button>\n",
              "      \n",
              "  <style>\n",
              "    .colab-df-container {\n",
              "      display:flex;\n",
              "      flex-wrap:wrap;\n",
              "      gap: 12px;\n",
              "    }\n",
              "\n",
              "    .colab-df-convert {\n",
              "      background-color: #E8F0FE;\n",
              "      border: none;\n",
              "      border-radius: 50%;\n",
              "      cursor: pointer;\n",
              "      display: none;\n",
              "      fill: #1967D2;\n",
              "      height: 32px;\n",
              "      padding: 0 0 0 0;\n",
              "      width: 32px;\n",
              "    }\n",
              "\n",
              "    .colab-df-convert:hover {\n",
              "      background-color: #E2EBFA;\n",
              "      box-shadow: 0px 1px 2px rgba(60, 64, 67, 0.3), 0px 1px 3px 1px rgba(60, 64, 67, 0.15);\n",
              "      fill: #174EA6;\n",
              "    }\n",
              "\n",
              "    [theme=dark] .colab-df-convert {\n",
              "      background-color: #3B4455;\n",
              "      fill: #D2E3FC;\n",
              "    }\n",
              "\n",
              "    [theme=dark] .colab-df-convert:hover {\n",
              "      background-color: #434B5C;\n",
              "      box-shadow: 0px 1px 3px 1px rgba(0, 0, 0, 0.15);\n",
              "      filter: drop-shadow(0px 1px 2px rgba(0, 0, 0, 0.3));\n",
              "      fill: #FFFFFF;\n",
              "    }\n",
              "  </style>\n",
              "\n",
              "      <script>\n",
              "        const buttonEl =\n",
              "          document.querySelector('#df-70ece5ae-bff8-43ef-953c-aa34bec90c65 button.colab-df-convert');\n",
              "        buttonEl.style.display =\n",
              "          google.colab.kernel.accessAllowed ? 'block' : 'none';\n",
              "\n",
              "        async function convertToInteractive(key) {\n",
              "          const element = document.querySelector('#df-70ece5ae-bff8-43ef-953c-aa34bec90c65');\n",
              "          const dataTable =\n",
              "            await google.colab.kernel.invokeFunction('convertToInteractive',\n",
              "                                                     [key], {});\n",
              "          if (!dataTable) return;\n",
              "\n",
              "          const docLinkHtml = 'Like what you see? Visit the ' +\n",
              "            '<a target=\"_blank\" href=https://colab.research.google.com/notebooks/data_table.ipynb>data table notebook</a>'\n",
              "            + ' to learn more about interactive tables.';\n",
              "          element.innerHTML = '';\n",
              "          dataTable['output_type'] = 'display_data';\n",
              "          await google.colab.output.renderOutput(dataTable, element);\n",
              "          const docLink = document.createElement('div');\n",
              "          docLink.innerHTML = docLinkHtml;\n",
              "          element.appendChild(docLink);\n",
              "        }\n",
              "      </script>\n",
              "    </div>\n",
              "  </div>\n",
              "  "
            ]
          },
          "metadata": {},
          "execution_count": 29
        }
      ]
    },
    {
      "cell_type": "code",
      "source": [
        "# 7.1 Save word_to_index dict to a text file:\n",
        "\n",
        "filehandler = open(pathToFolder + \"word_index.txt\", 'wt')\n",
        "data = str(word_index)\n",
        "filehandler.write(data)"
      ],
      "metadata": {
        "colab": {
          "base_uri": "https://localhost:8080/"
        },
        "id": "dysRK-xaYumT",
        "outputId": "12311bc1-1343-4600-9fba-0b34b6f89295"
      },
      "execution_count": 27,
      "outputs": [
        {
          "output_type": "execute_result",
          "data": {
            "text/plain": [
              "69345"
            ]
          },
          "metadata": {},
          "execution_count": 27
        }
      ]
    },
    {
      "cell_type": "markdown",
      "source": [
        "## Read back saved files"
      ],
      "metadata": {
        "id": "_d9JC8u4a4bj"
      }
    },
    {
      "cell_type": "code",
      "source": [
        "# 8.0 Read back pkl file and dictionary:\n",
        "seq = pd.read_pickle(pathToFolder + \"seq.pkl\")\n",
        "seq.head()"
      ],
      "metadata": {
        "id": "z58-gFUgZEwV"
      },
      "execution_count": null,
      "outputs": []
    },
    {
      "cell_type": "code",
      "source": [
        "# 8.0 Read back pkl file and dictionary:\n",
        "skipgrams = pd.read_pickle(pathToFolder + \"skipgrams.pkl\")\n",
        "skipgrams.head()"
      ],
      "metadata": {
        "colab": {
          "base_uri": "https://localhost:8080/",
          "height": 206
        },
        "id": "YRwRs91LHKYb",
        "outputId": "7e7f8f1a-6183-4229-af48-abff19bdb47b"
      },
      "execution_count": 28,
      "outputs": [
        {
          "output_type": "execute_result",
          "data": {
            "text/plain": [
              "      a     b     c     d     e\n",
              "0   753   362    16  1789    90\n",
              "1   362    16  1789    90   363\n",
              "2    16  1789    90   363    32\n",
              "3  1789    90   363    32  1121\n",
              "4    90   363    32  1121    46"
            ],
            "text/html": [
              "\n",
              "  <div id=\"df-1a05907e-498a-47bc-a939-6dc333dad511\">\n",
              "    <div class=\"colab-df-container\">\n",
              "      <div>\n",
              "<style scoped>\n",
              "    .dataframe tbody tr th:only-of-type {\n",
              "        vertical-align: middle;\n",
              "    }\n",
              "\n",
              "    .dataframe tbody tr th {\n",
              "        vertical-align: top;\n",
              "    }\n",
              "\n",
              "    .dataframe thead th {\n",
              "        text-align: right;\n",
              "    }\n",
              "</style>\n",
              "<table border=\"1\" class=\"dataframe\">\n",
              "  <thead>\n",
              "    <tr style=\"text-align: right;\">\n",
              "      <th></th>\n",
              "      <th>a</th>\n",
              "      <th>b</th>\n",
              "      <th>c</th>\n",
              "      <th>d</th>\n",
              "      <th>e</th>\n",
              "    </tr>\n",
              "  </thead>\n",
              "  <tbody>\n",
              "    <tr>\n",
              "      <th>0</th>\n",
              "      <td>753</td>\n",
              "      <td>362</td>\n",
              "      <td>16</td>\n",
              "      <td>1789</td>\n",
              "      <td>90</td>\n",
              "    </tr>\n",
              "    <tr>\n",
              "      <th>1</th>\n",
              "      <td>362</td>\n",
              "      <td>16</td>\n",
              "      <td>1789</td>\n",
              "      <td>90</td>\n",
              "      <td>363</td>\n",
              "    </tr>\n",
              "    <tr>\n",
              "      <th>2</th>\n",
              "      <td>16</td>\n",
              "      <td>1789</td>\n",
              "      <td>90</td>\n",
              "      <td>363</td>\n",
              "      <td>32</td>\n",
              "    </tr>\n",
              "    <tr>\n",
              "      <th>3</th>\n",
              "      <td>1789</td>\n",
              "      <td>90</td>\n",
              "      <td>363</td>\n",
              "      <td>32</td>\n",
              "      <td>1121</td>\n",
              "    </tr>\n",
              "    <tr>\n",
              "      <th>4</th>\n",
              "      <td>90</td>\n",
              "      <td>363</td>\n",
              "      <td>32</td>\n",
              "      <td>1121</td>\n",
              "      <td>46</td>\n",
              "    </tr>\n",
              "  </tbody>\n",
              "</table>\n",
              "</div>\n",
              "      <button class=\"colab-df-convert\" onclick=\"convertToInteractive('df-1a05907e-498a-47bc-a939-6dc333dad511')\"\n",
              "              title=\"Convert this dataframe to an interactive table.\"\n",
              "              style=\"display:none;\">\n",
              "        \n",
              "  <svg xmlns=\"http://www.w3.org/2000/svg\" height=\"24px\"viewBox=\"0 0 24 24\"\n",
              "       width=\"24px\">\n",
              "    <path d=\"M0 0h24v24H0V0z\" fill=\"none\"/>\n",
              "    <path d=\"M18.56 5.44l.94 2.06.94-2.06 2.06-.94-2.06-.94-.94-2.06-.94 2.06-2.06.94zm-11 1L8.5 8.5l.94-2.06 2.06-.94-2.06-.94L8.5 2.5l-.94 2.06-2.06.94zm10 10l.94 2.06.94-2.06 2.06-.94-2.06-.94-.94-2.06-.94 2.06-2.06.94z\"/><path d=\"M17.41 7.96l-1.37-1.37c-.4-.4-.92-.59-1.43-.59-.52 0-1.04.2-1.43.59L10.3 9.45l-7.72 7.72c-.78.78-.78 2.05 0 2.83L4 21.41c.39.39.9.59 1.41.59.51 0 1.02-.2 1.41-.59l7.78-7.78 2.81-2.81c.8-.78.8-2.07 0-2.86zM5.41 20L4 18.59l7.72-7.72 1.47 1.35L5.41 20z\"/>\n",
              "  </svg>\n",
              "      </button>\n",
              "      \n",
              "  <style>\n",
              "    .colab-df-container {\n",
              "      display:flex;\n",
              "      flex-wrap:wrap;\n",
              "      gap: 12px;\n",
              "    }\n",
              "\n",
              "    .colab-df-convert {\n",
              "      background-color: #E8F0FE;\n",
              "      border: none;\n",
              "      border-radius: 50%;\n",
              "      cursor: pointer;\n",
              "      display: none;\n",
              "      fill: #1967D2;\n",
              "      height: 32px;\n",
              "      padding: 0 0 0 0;\n",
              "      width: 32px;\n",
              "    }\n",
              "\n",
              "    .colab-df-convert:hover {\n",
              "      background-color: #E2EBFA;\n",
              "      box-shadow: 0px 1px 2px rgba(60, 64, 67, 0.3), 0px 1px 3px 1px rgba(60, 64, 67, 0.15);\n",
              "      fill: #174EA6;\n",
              "    }\n",
              "\n",
              "    [theme=dark] .colab-df-convert {\n",
              "      background-color: #3B4455;\n",
              "      fill: #D2E3FC;\n",
              "    }\n",
              "\n",
              "    [theme=dark] .colab-df-convert:hover {\n",
              "      background-color: #434B5C;\n",
              "      box-shadow: 0px 1px 3px 1px rgba(0, 0, 0, 0.15);\n",
              "      filter: drop-shadow(0px 1px 2px rgba(0, 0, 0, 0.3));\n",
              "      fill: #FFFFFF;\n",
              "    }\n",
              "  </style>\n",
              "\n",
              "      <script>\n",
              "        const buttonEl =\n",
              "          document.querySelector('#df-1a05907e-498a-47bc-a939-6dc333dad511 button.colab-df-convert');\n",
              "        buttonEl.style.display =\n",
              "          google.colab.kernel.accessAllowed ? 'block' : 'none';\n",
              "\n",
              "        async function convertToInteractive(key) {\n",
              "          const element = document.querySelector('#df-1a05907e-498a-47bc-a939-6dc333dad511');\n",
              "          const dataTable =\n",
              "            await google.colab.kernel.invokeFunction('convertToInteractive',\n",
              "                                                     [key], {});\n",
              "          if (!dataTable) return;\n",
              "\n",
              "          const docLinkHtml = 'Like what you see? Visit the ' +\n",
              "            '<a target=\"_blank\" href=https://colab.research.google.com/notebooks/data_table.ipynb>data table notebook</a>'\n",
              "            + ' to learn more about interactive tables.';\n",
              "          element.innerHTML = '';\n",
              "          dataTable['output_type'] = 'display_data';\n",
              "          await google.colab.output.renderOutput(dataTable, element);\n",
              "          const docLink = document.createElement('div');\n",
              "          docLink.innerHTML = docLinkHtml;\n",
              "          element.appendChild(docLink);\n",
              "        }\n",
              "      </script>\n",
              "    </div>\n",
              "  </div>\n",
              "  "
            ]
          },
          "metadata": {},
          "execution_count": 28
        }
      ]
    },
    {
      "cell_type": "code",
      "source": [
        "# 8.1 Read saved dict:\n",
        "\n",
        "filehandler = open(pathToFolder + \"word_index.txt\", 'r')\n",
        "filehandler.read()"
      ],
      "metadata": {
        "id": "WcKh2IAnZS7D",
        "outputId": "d6675e81-7453-4994-ae2f-a9d886b8fe7c",
        "colab": {
          "base_uri": "https://localhost:8080/",
          "height": 124
        }
      },
      "execution_count": 29,
      "outputs": [
        {
          "output_type": "execute_result",
          "data": {
            "text/plain": [
              "\"{'football': 1, 'religion': 2, 'ball': 3, 'hockey': 4, 'rules': 5, 'game': 6, 'law': 7, 'religious': 8, 'played': 9, 'rugby': 10, 'religions': 11, 'first': 12, 'games': 13, 'th': 14, 'century': 15, 'crime': 16, 'one': 17, 'also': 18, 'many': 19, 'world': 20, 'may': 21, 'used': 22, 'ice': 23, 'modern': 24, 'codes': 25, 'word': 26, 'people': 27, 'called': 28, 'england': 29, 'association': 30, 'players': 31, 'state': 32, 'form': 33, 'time': 34, 'known': 35, 'sport': 36, 'english': 37, 'early': 38, 'two': 39, 'various': 40, 'school': 41, 'include': 42, 'use': 43, 'criminal': 44, 'common': 45, 'term': 46, 'public': 47, 'crimes': 48, 'code': 49, 'including': 50, 'however': 51, 'schools': 52, 'playing': 53, 'american': 54, 'countries': 55, 'international': 56, 'field': 57, 'laws': 58, 'sports': 59, 'play': 60, 'states': 61, 'ancient': 62, 'new': 63, 'league': 64, 'culture': 65, 'life': 66, 'practices': 67, 'based': 68, 'goal': 69, 'system': 70, 'even': 71, 'beliefs': 72, 'social': 73, 'example': 74, 'concept': 75, 'often': 76, 'earliest': 77, 'forms': 78, 'sometimes': 79, 'australian': 80, 'legal': 81, 'several': 82, 'latin': 83, 'would': 84, 'later': 85, 'belief': 86, 'united': 87, 'national': 88, 'team': 89, 'act': 90, 'individual': 91, 'nature': 92, 'usually': 93, 'cultures': 94, 'number': 95, 'canada': 96, 'club': 97, 'sacred': 98, 'judaism': 99, 'popular': 100, 'found': 101, 'general': 102, 'natural': 103, 'human': 104, 'union': 105, 'either': 106, 'particular': 107, 'others': 108, 'rule': 109, 'roman': 110, 'study': 111, 'allowed': 112, 'inline': 113, 'mythology': 114, 'defined': 115, 'following': 116, 'means': 117, 'different': 118, 'player': 119, 'christianity': 120, 'offence': 121, 'needed': 122, 'meant': 123, 'could': 124, 'political': 125, 'since': 126, 'like': 127, 'similar': 128, 'western': 129, 'definition': 130, 'though': 131, 'written': 132, 'made': 133, 'group': 134, 'involved': 135, 'terms': 136, 'europe': 137, 'kicking': 138, 'traditional': 139, 'teams': 140, 'sticks': 141, 'bandy': 142, 'religi': 143, 'society': 144, 'meaning': 145, 'related': 146, 'thus': 147, 'line': 148, 'among': 149, 'c': 150, 'reference': 151, 'thought': 152, 'university': 153, 'side': 154, 'set': 155, 'clubs': 156, 'islam': 157, 'science': 158, 'power': 159, 'non': 160, 'men': 161, 'cultural': 162, 'place': 163, 'become': 164, 'theory': 165, 'bc': 166, 'gods': 167, 'christian': 168, 'things': 169, 'still': 170, 'well': 171, 'due': 172, 'professional': 173, 'evidence': 174, 'college': 175, 'practice': 176, 'e': 177, 'faith': 178, 'theories': 179, 'theft': 180, 'citation': 181, 'widely': 182, 'greek': 183, 'referred': 184, 'moral': 185, 'according': 186, 'see': 187, 'whether': 188, 'ireland': 189, 'another': 190, 'developed': 191, 'william': 192, 'much': 193, 'medieval': 194, 'australia': 195, 'city': 196, 'although': 197, 'canadian': 198, 'asia': 199, 'throughout': 200, 'god': 201, 'considered': 202, 'running': 203, 'became': 204, 'fa': 205, 'roller': 206, 'health': 207, 'norms': 208, 'french': 209, 'make': 210, 'original': 211, 'scholars': 212, 'u': 213, 'foot': 214, 'kick': 215, 'match': 216, 'began': 217, 'body': 218, 'meeting': 219, 'melbourne': 220, 'skates': 221, 'puck': 222, 'certain': 223, 'must': 224, 'every': 225, 'civil': 226, 'richard': 227, 'case': 228, 'changes': 229, 'members': 230, 'less': 231, 'define': 232, 'history': 233, 'offences': 234, 'courts': 235, 'years': 236, 'using': 237, 'seen': 238, 'population': 239, 'morality': 240, 'way': 241, 'described': 242, 'goals': 243, 'man': 244, 'origin': 245, 'texts': 246, 'sense': 247, 'significant': 248, 'emerged': 249, 'traditions': 250, 'work': 251, 'northern': 252, 'part': 253, 'distinct': 254, 'divine': 255, 'north': 256, 'parts': 257, 'carrying': 258, 'passing': 259, 'london': 260, 'translated': 261, 'adopted': 262, 'winter': 263, 'africa': 264, 'sledge': 265, 'buddhism': 266, 'view': 267, 'acts': 268, 'order': 269, 'attempt': 270, 'authorities': 271, 'justice': 272, 'derived': 273, 'rather': 274, 'old': 275, 'g': 276, 'refers': 277, 'late': 278, 'given': 279, 'enforcement': 280, 'influence': 281, 'similarly': 282, 'pass': 283, 'beings': 284, 'end': 285, 'concepts': 286, 'largely': 287, 'ad': 288, 'violent': 289, 'around': 290, 'development': 291, 'violence': 292, 'cognitive': 293, 'billion': 294, 'outside': 295, 'primarily': 296, 'within': 297, 'indigenous': 298, 'middle': 299, 'matches': 300, 'britain': 301, 'students': 302, 'today': 303, 'said': 304, 'style': 305, 'year': 306, 'cup': 307, 'oldest': 308, 'scientific': 309, 'wills': 310, 'variant': 311, 'european': 312, 'mean': 313, 'stick': 314, 'ethnic': 315, 'abrahamic': 316, 'superstition': 317, 'community': 318, 'systems': 319, 'historically': 320, 'originally': 321, 'making': 322, 'almost': 323, 'john': 324, 'right': 325, 'describes': 326, 'recent': 327, 'origins': 328, 'together': 329, 'king': 330, 'day': 331, 'distinguish': 332, 'involving': 333, 'church': 334, 'smaller': 335, 'times': 336, 'divided': 337, 'good': 338, 'universal': 339, 'islamic': 340, 'types': 341, 'soccer': 342, 'founded': 343, 'elements': 344, 'main': 345, 'offside': 346, 'balls': 347, 'de': 348, 'ban': 349, 'women': 350, 'important': 351, 'took': 352, 'cambridge': 353, 'formed': 354, 'true': 355, 'long': 356, 'floor': 357, 'comparative': 358, 'argued': 359, 'worship': 360, 'fear': 361, 'language': 362, 'punishable': 363, 'nations': 364, 'societies': 365, 'jurisdictions': 366, 'death': 367, 'individuals': 368, 'private': 369, 'governing': 370, 'punishment': 371, 'person': 372, 'suggests': 373, 'behavior': 374, 'extent': 375, 'experience': 376, 'second': 377, 'activities': 378, 'dominant': 379, 'reason': 380, 'whatever': 381, 'free': 382, 'concern': 383, 'idea': 384, 'country': 385, 'recorded': 386, 'surviving': 387, 'specific': 388, 'across': 389, 'property': 390, 'included': 391, 'consider': 392, 'major': 393, 'hand': 394, 'greece': 395, 'come': 396, 'studies': 397, 'wage': 398, 'institutions': 399, 'gaelic': 400, 'references': 401, 'back': 402, 'hands': 403, 'handling': 404, 'period': 405, 'kicked': 406, 'book': 407, 'zealand': 408, 'central': 409, 'comes': 410, 'open': 411, 'great': 412, 'hold': 413, 'banned': 414, 'mid': 415, 'changed': 416, 'regarding': 417, 'believe': 418, 'half': 419, 'three': 420, 'towards': 421, 'instance': 422, 'harvard': 423, 'west': 424, 'establishment': 425, 'name': 426, 'aspects': 427, 'summer': 428, 'rink': 429, 'east': 430, 'india': 431, 'supernatural': 432, 'spiritual': 433, 'hinduism': 434, 'spirituality': 435, 'adherents': 436, 'christians': 437, 'practiced': 438, 'muslims': 439, 'muslim': 440, 'category': 441, 'words': 442, 'murder': 443, 'rape': 444, 'provide': 445, 'classified': 446, 'conform': 447, 'without': 448, 'thomas': 449, 'constitutes': 450, 'follow': 451, 'followed': 452, 'section': 453, 'data': 454, 'problem': 455, 'note': 456, 'se': 457, 'malum': 458, 'serious': 459, 'identified': 460, 'h': 461, 'saw': 462, 'able': 463, 'necessary': 464, 'simply': 465, 'entitled': 466, 'current': 467, 'rights': 468, 'follows': 469, 'classical': 470, 'formal': 471, 'issued': 472, 'sources': 473, 'action': 474, 'empire': 475, 'compensation': 476, 'family': 477, 'peoples': 478, 'except': 479, 'largest': 480, 'get': 481, 'st': 482, 'classes': 483, 'perceived': 484, 'america': 485, 'member': 486, 'reported': 487, 'politics': 488, 'emotional': 489, 'psychology': 490, 'possible': 491, 'third': 492, 'spread': 493, 'held': 494, 'feet': 495, 'movement': 496, 'appear': 497, 'centuries': 498, 'japanese': 499, 'ground': 500, 'mentioned': 501, 'fifa': 502, 'rubber': 503, 'documented': 504, 'throw': 505, 'catch': 506, 'historians': 507, 'antiquity': 508, 'children': 509, 'japan': 510, 'popularity': 511, 'boys': 512, 'mob': 513, 'opposing': 514, 'taking': 515, 'fields': 516, 'f': 517, 'proclamation': 518, 'scotland': 519, 'strike': 520, 'met': 521, 'led': 522, 'organised': 523, 'eton': 524, 'includes': 525, 'refer': 526, 'sides': 527, 'forward': 528, 'working': 529, 'class': 530, 'six': 531, 'carried': 532, 'feature': 533, 'competition': 534, 'south': 535, 'sheffield': 536, 'rfu': 537, 'regardless': 538, 'lack': 539, 'single': 540, 'shall': 541, 'remained': 542, 'yale': 543, 'princeton': 544, 'ruck': 545, 'federation': 546, 'fact': 547, 'highest': 548, 'instead': 549, 'olympics': 550, 'classification': 551, 'iran': 552, 'explain': 553, 'atheists': 554, 'movements': 555, 'academic': 556, 'languages': 557, 'jews': 558, 'jewish': 559, 'philosophical': 560, 'deity': 561, 'geertz': 562, 'james': 563, 'groups': 564, 'religiosity': 565, 'accepted': 566, 'definitions': 567, 'created': 568, 'proposed': 569, 'wrong': 570, 'exists': 571, 'worldwide': 572, 'government': 573, 'sentence': 574, 'depending': 575, 'imprisonment': 576, 'violation': 577, 'populations': 578, 'citizens': 579, 'prescribed': 580, 'addition': 581, 'penal': 582, 'believed': 583, 'relationship': 584, 'root': 585, 'give': 586, 'charge': 587, 'derives': 588, 'typically': 589, 'depends': 590, 'applied': 591, 'court': 592, 'considers': 593, 'complex': 594, 'norm': 595, 'cases': 596, 'freedom': 597, 'actually': 598, 'variations': 599, 'prohibition': 600, 'count': 601, 'develop': 602, 'apply': 603, 'consistent': 604, 'appropriate': 605, 'existence': 606, 'content': 607, 'l': 608, 'adopt': 609, 'makes': 610, 'necessarily': 611, 'find': 612, 'conceptions': 613, 'never': 614, 'regard': 615, 'communities': 616, 'sin': 617, 'war': 618, 'left': 619, 'source': 620, 'studied': 621, 'romans': 622, 'pater': 623, 'subject': 624, 'obligation': 625, 'rome': 626, 'came': 627, 'structure': 628, 'grew': 629, 'organization': 630, 'independent': 631, 'context': 632, 'best': 633, 'categories': 634, 'distinction': 635, 'us': 636, 'hours': 637, 'global': 638, 'local': 639, 'varying': 640, 'impact': 641, 'result': 642, 'feeling': 643, 'problems': 644, 'secular': 645, 'catholic': 646, 'exist': 647, 'annual': 648, 'million': 649, 'commonly': 650, 'specifically': 651, 'contemporary': 652, 'tackles': 653, 'put': 654, 'explanations': 655, 'version': 656, 'trying': 657, 'drop': 658, 'cicero': 659, 'whilst': 660, 'attempting': 661, 'especially': 662, 'account': 663, 'victoria': 664, 'go': 665, 'ages': 666, 'animal': 667, 'opponents': 668, 'description': 669, 'david': 670, 'translation': 671, 'pilam': 672, 'uses': 673, 'opposite': 674, 'started': 675, 'attempts': 676, 'division': 677, 'president': 678, 'significantly': 679, 'roots': 680, 'creation': 681, 'bodies': 682, 'grammar': 683, 'devised': 684, 'week': 685, 'difficult': 686, 'beginning': 687, 'little': 688, 'occurred': 689, 'march': 690, 'shaped': 691, 'invention': 692, 'generally': 693, 'defining': 694, 'j': 695, 'october': 696, 'representatives': 697, 'area': 698, 'published': 699, 'recently': 700, 'fair': 701, 'boston': 702, 'mcgill': 703, 'object': 704, 'irish': 705, 'hurling': 706, 'nrfu': 707, 'better': 708, 'separate': 709, 'five': 710, 'event': 711, 'dry': 712, 'eastern': 713, 'curved': 714, 'surface': 715, 'handed': 716, 'iihf': 717, 'organized': 718, 'places': 719, 'services': 720, 'symbols': 721, 'folk': 722, 'unaffiliated': 723, 'identify': 724, 'philosophy': 725, 'anything': 726, 'understood': 727, 'knowledge': 728, 'broad': 729, 'closely': 730, 'toward': 731, 'threskeia': 732, 'protestant': 733, 'argue': 734, 'quran': 735, 'indian': 736, 'tradition': 737, 'depth': 738, 'myth': 739, 'jesus': 740, 'evolutionary': 741, 'prophet': 742, 'prophets': 743, 'associated': 744, 'understanding': 745, 'zoroastrianism': 746, 'african': 747, 'israel': 748, 'teachings': 749, 'wealth': 750, 'interfaith': 751, 'dialogue': 752, 'ordinary': 753, 'provided': 754, 'something': 755, 'prohibited': 756, 'precisely': 757, 'comprehensive': 758, 'statute': 759, 'liberty': 760, 'committing': 761, 'counts': 762, 'relationships': 763, 'establish': 764, 'maintain': 765, 'control': 766, 'punish': 767, 'behaviors': 768, 'codify': 769, 'aim': 770, 'capital': 771, 'sociologist': 772, 'phenomenon': 773, 'cry': 774, 'offense': 775, 'brought': 776, 'omission': 777, 'felony': 778, 'money': 779, 'misdemeanour': 780, 'larceny': 781, 'alternative': 782, 'views': 783, 'prevailing': 784, 'normally': 785, 'psychological': 786, 'conditions': 787, 'affect': 788, 'remain': 789, 'contentious': 790, 'directly': 791, 'affects': 792, 'rates': 793, 'everyday': 794, 'enforce': 795, 'behaviour': 796, 'influenced': 797, 'ways': 798, 'clear': 799, 'consensus': 800, 'seem': 801, 'respect': 802, 'actual': 803, 'legislation': 804, 'criminalization': 805, 'harm': 806, 'convinced': 807, 'cause': 808, 'force': 809, 'wrote': 810, 'regarded': 811, 'rational': 812, 'morally': 813, 'conforms': 814, 'validity': 815, 'determine': 816, 'choose': 817, 'aspect': 818, 'function': 819, 'entails': 820, 'criticism': 821, 'therefore': 822, 'continued': 823, 'adam': 824, 'smith': 825, 'inherently': 826, 'whereas': 827, 'illegal': 828, 'influential': 829, 'always': 830, 'sumerians': 831, 'short': 832, 'personal': 833, 'dharma': 834, 'issues': 835, 'etc': 836, 'henry': 837, 'available': 838, 'deal': 839, 'wrongs': 840, 'treated': 841, 'assault': 842, 'twelve': 843, 'parlance': 844, 'robbery': 845, 'monetary': 846, 'complete': 847, 'range': 848, 'land': 849, 'emerge': 850, 'namely': 851, 'special': 852, 'parallel': 853, 'scandinavia': 854, 'effect': 855, 'apparent': 856, 'gradually': 857, 'royal': 858, 'feelings': 859, 'help': 860, 'keep': 861, 'peace': 862, 'real': 863, 'sociological': 864, 'method': 865, 'mode': 866, 'reports': 867, 'ucr': 868, 'annually': 869, 'officials': 870, 'county': 871, 'classify': 872, 'categorized': 873, 'organizations': 874, 'thing': 875, 'empirical': 876, 'support': 877, 'positive': 878, 'lower': 879, 'point': 880, 'role': 881, 'promote': 882, 'otherwise': 883, 'historical': 884, 'canon': 885, 'military': 886, 'regular': 887, 'contain': 888, 'possession': 889, 'large': 890, 'estimated': 891, 'foreign': 892, 'full': 893, 'score': 894, 'share': 895, 'british': 896, 'areas': 897, 'regional': 898, 'already': 899, 'limited': 900, 'scoring': 901, 'phrase': 902, 'variety': 903, 'chinese': 904, 'cuju': 905, 'existed': 906, 'dynasty': 907, 'kemari': 908, 'theologian': 909, 'resembled': 910, 'air': 911, 'recognised': 912, 'native': 913, 'links': 914, 'small': 915, 'marn': 916, 'grook': 917, 'seven': 918, 'far': 919, 'w': 920, 'huge': 921, 'shrovetide': 922, 'particularly': 923, 'france': 924, 'geographical': 925, 'festivals': 926, 'youth': 927, 'inner': 928, 'ran': 929, 'spectator': 930, 'lay': 931, 'upper': 932, 'caused': 933, 'edward': 934, 'handball': 935, 'schoolboys': 936, 'aberdeen': 937, 'notable': 938, 'allusion': 939, 'dribbling': 940, 'recreation': 941, 'throwing': 942, 'calcio': 943, 'originated': 944, 'evolved': 945, 'diverge': 946, 'equivalent': 947, 'four': 948, 'away': 949, 'former': 950, 'codified': 951, 'mulcaster': 952, 'writings': 953, 'wedderburn': 954, 'holding': 955, 'describe': 956, 'close': 957, 'formation': 958, 'harrow': 959, 'neither': 960, 'fit': 961, 'varied': 962, 'westminster': 963, 'charterhouse': 964, 'partly': 965, 'webb': 966, 'ellis': 967, 'distinctive': 968, 'permitted': 969, 'ever': 970, 'sporting': 971, 'competitions': 972, 'apart': 973, 'uk': 974, 'increased': 975, 'p': 976, 'trophy': 977, 'representing': 978, 'oval': 979, 'bladders': 980, 'introduced': 981, 'allow': 982, 'lindon': 983, 'round': 984, 'goalkeeper': 985, 'nevertheless': 986, 'text': 987, 'engineers': 988, 'posts': 989, 'official': 990, 'marks': 991, 'tom': 992, 'speaking': 993, 'initially': 994, 'kicks': 995, 'b': 996, 'committee': 997, 'mark': 998, 'victorian': 999, 'behind': 1000, 'high': 1001, 'southern': 1002, 'increasing': 1003, 'master': 1004, 'uppingham': 1005, 'drawn': 1006, 'total': 1007, 'december': 1008, 'attention': 1009, 'hacking': 1010, 'run': 1011, 'bound': 1012, 'campbell': 1013, 'blackheath': 1014, 'claim': 1015, 'november': 1016, 'toronto': 1017, 'approximately': 1018, 'trinity': 1019, 'montreal': 1020, 'diverged': 1021, 'distance': 1022, 'developments': 1023, 'caid': 1024, 'begun': 1025, 'ten': 1026, 'paid': 1027, 'situation': 1028, 'says': 1029, 'le': 1030, 'affiliates': 1031, 'names': 1032, 'top': 1033, 'average': 1034, 'attendance': 1035, 'nation': 1036, 'unlike': 1037, 'preceded': 1038, 'type': 1039, 'disk': 1040, 'whose': 1041, 'ringette': 1042, 'invented': 1043, 'russia': 1044, 'translations': 1045, 'divisions': 1046, 'recognized': 1047, 'championships': 1048, 'sex': 1049, 'olympic': 1050, 'wood': 1051, 'flat': 1052, 'para': 1053, 'physical': 1054, 'sledges': 1055, 'skate': 1056, 'essentially': 1057, 'sort': 1058, 'transcendence': 1059, 'rituals': 1060, 'music': 1061, 'holy': 1062, 'symbolic': 1063, 'stories': 1064, 'followers': 1065, 'universe': 1066, 'phenomena': 1067, 'traditionally': 1068, 'religiously': 1069, 'disciplines': 1070, 'theology': 1071, 'monastic': 1072, 'mundane': 1073, 'relation': 1074, 'anxiety': 1075, 'authors': 1076, 'domain': 1077, 'josephus': 1078, 'multiple': 1079, 'doctrines': 1080, 'clearly': 1081, 'taoism': 1082, 'self': 1083, 'hindu': 1084, 'max': 1085, 'theistic': 1086, 'clifford': 1087, 'tylor': 1088, 'deeper': 1089, 'reality': 1090, 'peter': 1091, 'paul': 1092, 'relatively': 1093, 'grounded': 1094, 'experiences': 1095, 'spirit': 1096, 'durkheim': 1097, 'substance': 1098, 'ultimate': 1099, 'anthropology': 1100, 'model': 1101, 'christ': 1102, 'seek': 1103, 'philosophies': 1104, 'monotheistic': 1105, 'per': 1106, 'orthodox': 1107, 'unity': 1108, 'southeast': 1109, 'bah': 1110, 'druze': 1111, 'focused': 1112, 'looked': 1113, 'facts': 1114, 'sharia': 1115, 'likely': 1116, 'leaders': 1117, 'values': 1118, 'irreligion': 1119, 'soil': 1120, 'authority': 1121, 'simple': 1122, 'statutory': 1123, 'purposes': 1124, 'declared': 1125, 'relevant': 1126, 'harmful': 1127, 'forbidden': 1128, 'jurisdiction': 1129, 'procedures': 1130, 'trials': 1131, 'adhere': 1132, 'guilty': 1133, 'offender': 1134, 'emphasize': 1135, 'exceptions': 1136, 'intention': 1137, 'violates': 1138, 'breaches': 1139, 'torts': 1140, 'punished': 1141, 'enforced': 1142, 'procedure': 1143, 'prove': 1144, 'agents': 1145, 'reform': 1146, 'mechanisms': 1147, 'regulate': 1148, 'encouraging': 1149, 'discouraging': 1150, 'agencies': 1151, 'comply': 1152, 'remedies': 1153, 'sanctions': 1154, 'collectively': 1155, 'vary': 1156, 'aimed': 1157, 'permanent': 1158, 'punishments': 1159, 'persons': 1160, 'commit': 1161, 'capable': 1162, 'quinney': 1163, 'conceive': 1164, 'societal': 1165, 'decide': 1166, 'judgment': 1167, 'distress': 1168, 'probably': 1169, 'crimen': 1170, 'indictment': 1171, 'fault': 1172, 'karl': 1173, 'rejects': 1174, 'dates': 1175, 'cf': 1176, 'prevention': 1177, 'false': 1178, 'counterfeit': 1179, 'coin': 1180, 'fifty': 1181, 'purpose': 1182, 'labour': 1183, 'relations': 1184, 'standards': 1185, 'ought': 1186, 'behave': 1187, 'approach': 1188, 'realities': 1189, 'understand': 1190, 'changing': 1191, 'change': 1192, 'statistics': 1193, 'shape': 1194, 'attitudes': 1195, 'controlled': 1196, 'indeed': 1197, 'mala': 1198, 'alone': 1199, 'reduction': 1200, 'threat': 1201, 'anyone': 1202, 'engage': 1203, 'causing': 1204, 'becomes': 1205, 'entities': 1206, 'costs': 1207, 'criminalizing': 1208, 'restricting': 1209, 'assert': 1210, 'standard': 1211, 'accused': 1212, 'coerce': 1213, 'compliance': 1214, 'posits': 1215, 'underlies': 1216, 'valid': 1217, 'acceptable': 1218, 'accepting': 1219, 'objective': 1220, 'objectively': 1221, 'utility': 1222, 'remains': 1223, 'hart': 1224, 'sovereignty': 1225, 'sufficient': 1226, 'truth': 1227, 'equal': 1228, 'fundamental': 1229, 'citizen': 1230, 'duty': 1231, 'circumstances': 1232, 'enforcing': 1233, 'primary': 1234, 'impossible': 1235, 'degree': 1236, 'contrast': 1237, 'saying': 1238, 'criminality': 1239, 'interests': 1240, 'lawyers': 1241, 'express': 1242, 'prohibitum': 1243, 'respectively': 1244, 'goes': 1245, 'founding': 1246, 'fathers': 1247, 'mythological': 1248, 'accounts': 1249, 'conflict': 1250, 'containing': 1251, 'mixed': 1252, 'survived': 1253, 'ur': 1254, 'nammu': 1255, 'penalties': 1256, 'articles': 1257, 'bce': 1258, 'conscious': 1259, 'compile': 1260, 'conduct': 1261, 'sanskrit': 1262, 'duties': 1263, 'sir': 1264, 'failed': 1265, 'hellenic': 1266, 'victims': 1267, 'slave': 1268, 'payment': 1269, 'teutonic': 1270, 'germanic': 1271, 'tribes': 1272, 'anglo': 1273, 'kings': 1274, 'norman': 1275, 'events': 1276, 'usual': 1277, 'extraordinary': 1278, 'manner': 1279, 'wanted': 1280, 'feudal': 1281, 'modified': 1282, 'climate': 1283, 'judge': 1284, 'parish': 1285, 'board': 1286, 'onwards': 1287, 'requiring': 1288, 'families': 1289, 'male': 1290, 'compare': 1291, 'security': 1292, 'council': 1293, 'decisions': 1294, 'call': 1295, 'birth': 1296, 'acquire': 1297, 'michel': 1298, 'discipline': 1299, 'researchers': 1300, 'seriousness': 1301, 'treason': 1302, 'abolished': 1303, 'wales': 1304, 'uniform': 1305, 'levels': 1306, 'burglary': 1307, 'sphere': 1308, 'require': 1309, 'ranging': 1310, 'offering': 1311, 'activity': 1312, 'split': 1313, 'biological': 1314, 'topics': 1315, 'research': 1316, 'effects': 1317, 'linked': 1318, 'solutions': 1319, 'carry': 1320, 'solution': 1321, 'prosecute': 1322, 'netherlands': 1323, 'clash': 1324, 'socially': 1325, 'grounds': 1326, 'abortion': 1327, 'present': 1328, 'established': 1329, 'streets': 1330, 'lost': 1331, 'singapore': 1332, 'widespread': 1333, 'survey': 1334, 'workers': 1335, 'involve': 1336, 'unqualified': 1337, 'prehistoric': 1338, 'traced': 1339, 'codification': 1340, 'becoming': 1341, 'associations': 1342, 'kinds': 1343, 'moved': 1344, 'strictly': 1345, 'skills': 1346, 'tackling': 1347, 'catching': 1348, 'crossbar': 1349, 'goalposts': 1350, 'explanation': 1351, 'descriptions': 1352, 'possibly': 1353, 'imperial': 1354, 'stand': 1355, 'episkyros': 1356, 'named': 1357, 'inuit': 1358, 'americans': 1359, 'similarities': 1360, 'basketball': 1361, 'volleyball': 1362, 'net': 1363, 'robert': 1364, 'aboriginal': 1365, 'mr': 1366, 'consisting': 1367, 'points': 1368, 'touching': 1369, 'boundary': 1370, 'lie': 1371, 'al': 1372, 'try': 1373, 'leather': 1374, 'revived': 1375, 'attributed': 1376, 'date': 1377, 'towns': 1378, 'neighbouring': 1379, 'inflated': 1380, 'bladder': 1381, 'space': 1382, 'era': 1383, 'detailed': 1384, 'youths': 1385, 'take': 1386, 'watch': 1387, 'speak': 1388, 'lord': 1389, 'banning': 1390, 'might': 1391, 'forbid': 1392, 'future': 1393, 'iii': 1394, 'exact': 1395, 'fell': 1396, 'repercute': 1397, 'illi': 1398, 'suggesting': 1399, 'age': 1400, 'iv': 1401, 'presented': 1402, 'young': 1403, 'propel': 1404, 'gives': 1405, 'pitch': 1406, 'marked': 1407, 'historic': 1408, 'fine': 1409, 'exercise': 1410, 'face': 1411, 'faced': 1412, 'campuses': 1413, 'theodore': 1414, 'roosevelt': 1415, 'credited': 1416, 'key': 1417, 'enable': 1418, 'resembling': 1419, 'herman': 1420, 'headmaster': 1421, 'winchester': 1422, 'textbook': 1423, 'parties': 1424, 'positions': 1425, 'standings': 1426, 'coach': 1427, 'footeball': 1428, 'strength': 1429, 'teacher': 1430, 'keeping': 1431, 'willughby': 1432, 'mentions': 1433, 'opponent': 1434, 'advance': 1435, 'differently': 1436, 'shown': 1437, 'cheltenham': 1438, 'days': 1439, 'decline': 1440, 'pupils': 1441, 'marlborough': 1442, 'restricted': 1443, 'rough': 1444, 'tumble': 1445, 'disregard': 1446, 'emphasis': 1447, 'added': 1448, 'arms': 1449, 'story': 1450, 'picking': 1451, 'compulsory': 1452, 'showed': 1453, 'travel': 1454, 'halves': 1455, 'applies': 1456, 'lawn': 1457, 'grass': 1458, 'dedicated': 1459, 'located': 1460, 'forbade': 1461, 'tripping': 1462, 'longest': 1463, 'fixture': 1464, 'contested': 1465, 'scotch': 1466, 'caledonian': 1467, 'challenge': 1468, 'hospitals': 1469, 'yorkshire': 1470, 'pig': 1471, 'exhibited': 1472, 'exhibition': 1473, 'vulcanised': 1474, 'paris': 1475, 'past': 1476, 'lancashire': 1477, 'afc': 1478, 'ing': 1479, 'cooperation': 1480, 'minute': 1481, 'double': 1482, 'nottingham': 1483, 'front': 1484, 'contest': 1485, 'decision': 1486, 'innovations': 1487, 'differences': 1488, 'july': 1489, 'calling': 1490, 'forming': 1491, 'debated': 1492, 'suit': 1493, 'harrison': 1494, 'seminal': 1495, 'figure': 1496, 'penalised': 1497, 'distributed': 1498, 'accommodate': 1499, 'featured': 1500, 'bouncing': 1501, 'experienced': 1502, 'unify': 1503, 'queen': 1504, 'draft': 1505, 'adversaries': 1506, 'final': 1507, 'abbreviation': 1508, 'yards': 1509, 'metres': 1510, 'universities': 1511, 'numbers': 1512, 'injury': 1513, 'hybrid': 1514, 'rutgers': 1515, 'participants': 1516, 'frederick': 1517, 'christopher': 1518, 'massachusetts': 1519, 'taken': 1520, 'massasoit': 1521, 'camp': 1522, 'house': 1523, 'scrimmage': 1524, 'injuries': 1525, 'implemented': 1526, 'father': 1527, 'varieties': 1528, 'gaa': 1529, 'reject': 1530, 'davin': 1531, 'prime': 1532, 'attribute': 1533, 'irfb': 1534, 'earlier': 1535, 'dispute': 1536, 'replaced': 1537, 'required': 1538, 'notably': 1539, 'replacement': 1540, 'tackled': 1541, 'officially': 1542, 'affiliated': 1543, 'sweden': 1544, 'ration': 1545, 'internationale': 1546, 'leagues': 1547, 'launched': 1548, 'metre': 1549, 'despite': 1550, 'possibility': 1551, 'kingdom': 1552, 'solely': 1553, 'quebec': 1554, 'television': 1555, 'watched': 1556, 'fastest': 1557, 'growing': 1558, 'clarification': 1559, 'ability': 1560, 'methods': 1561, 'absence': 1562, 'cannot': 1563, 'wheeled': 1564, 'bladed': 1565, 'center': 1566, 'depression': 1567, 'sam': 1568, 'jacks': 1569, 'designed': 1570, 'skating': 1571, 'education': 1572, 'canibucam': 1573, 'historian': 1574, 'supposition': 1575, 'hooked': 1576, 'staves': 1577, 'stoppers': 1578, 'histories': 1579, 'egypt': 1580, 'horn': 1581, 'k': 1582, 'hockie': 1583, 'balle': 1584, 'regulations': 1585, 'outdoors': 1586, 'russian': 1587, 'artificial': 1588, 'hard': 1589, 'mm': 1590, 'diameter': 1591, 'fibre': 1592, 'appeared': 1593, 'pakistan': 1594, 'skaters': 1595, 'level': 1596, 'decrease': 1597, 'amount': 1598, 'latvia': 1599, 'republic': 1600, 'nhl': 1601, 'globe': 1602, 'blade': 1603, 'leader': 1604, 'equipment': 1605, 'aluminum': 1606, 'blades': 1607, 'wheelchair': 1608, 'everyone': 1609, 'quad': 1610, 'road': 1611, 'ethics': 1612, 'humanity': 1613, 'scholarly': 1614, 'ultimacy': 1615, 'rest': 1616, 'sermons': 1617, 'commemoration': 1618, 'veneration': 1619, 'sacrifices': 1620, 'feasts': 1621, 'trances': 1622, 'initiations': 1623, 'funerary': 1624, 'matrimonial': 1625, 'meditation': 1626, 'prayer': 1627, 'art': 1628, 'dance': 1629, 'service': 1630, 'mostly': 1631, 'wide': 1632, 'offer': 1633, 'reverence': 1634, 'ultimately': 1635, 'lego': 1636, 'joseph': 1637, 'usage': 1638, 'orders': 1639, 'broadly': 1640, 'etymological': 1641, 'contexts': 1642, 'doctrine': 1643, 'emotions': 1644, 'superstitio': 1645, 'separated': 1646, 'oath': 1647, 'frequently': 1648, 'deisidaimonia': 1649, 'reformation': 1650, 'globalization': 1651, 'bible': 1652, 'hebrew': 1653, 'path': 1654, 'daily': 1655, 'identity': 1656, 'testament': 1657, 'din': 1658, 'expressed': 1659, 'piety': 1660, 'buddha': 1661, 'confucianism': 1662, 'subcontinent': 1663, 'ller': 1664, 'giving': 1665, 'essence': 1666, 'macmillan': 1667, 'encyclopedia': 1668, 'qualities': 1669, 'culturally': 1670, 'dichotomous': 1671, 'basic': 1672, 'creator': 1673, 'anthropologist': 1674, 'moods': 1675, 'motivations': 1676, 'motive': 1677, 'remarked': 1678, 'done': 1679, 'literature': 1680, 'transcends': 1681, 'powers': 1682, 'signs': 1683, 'intended': 1684, 'sacredness': 1685, 'dimension': 1686, 'dimensions': 1687, 'friedrich': 1688, 'gravity': 1689, 'mile': 1690, 'relative': 1691, 'contrary': 1692, 'myths': 1693, 'virtues': 1694, 'valuing': 1695, 'tillich': 1696, 'concerned': 1697, 'findings': 1698, 'dawkins': 1699, 'interplay': 1700, 'interest': 1701, 'sociology': 1702, 'founder': 1703, 'basis': 1704, 'living': 1705, 'neuroscience': 1706, 'daniel': 1707, 'animism': 1708, 'weber': 1709, 'anthropological': 1710, 'subsequent': 1711, 'anthropologists': 1712, 'charismatic': 1713, 'seems': 1714, 'helps': 1715, 'ideas': 1716, 'talal': 1717, 'asad': 1718, 'perspective': 1719, 'thoughts': 1720, 'psychotic': 1721, 'temporal': 1722, 'lobe': 1723, 'epilepsy': 1724, 'atheistic': 1725, 'studying': 1726, 'richer': 1727, 'iranian': 1728, 'asian': 1729, 'exclusive': 1730, 'furthermore': 1731, 'look': 1732, 'converts': 1733, 'jainism': 1734, 'syncretism': 1735, 'poll': 1736, 'identification': 1737, 'compared': 1738, 'principles': 1739, 'torah': 1740, 'foundational': 1741, 'oral': 1742, 'revealed': 1743, 'commandments': 1744, 'ce': 1745, 'cent': 1746, 'son': 1747, 'teaches': 1748, 'colonization': 1749, 'muhammad': 1750, 'accepts': 1751, 'majority': 1752, 'denominations': 1753, 'faiths': 1754, 'additional': 1755, 'mandaeans': 1756, 'generation': 1757, 'diverse': 1758, 'china': 1759, 'greater': 1760, 'minorities': 1761, 'mazda': 1762, 'evil': 1763, 'marriage': 1764, 'secularization': 1765, 'metaphysical': 1766, 'midst': 1767, 'observed': 1768, 'scripture': 1769, 'models': 1770, 'value': 1771, 'strong': 1772, 'congress': 1773, 'nonreligious': 1774, 'diversity': 1775, 'involvement': 1776, 'mental': 1777, 'quality': 1778, 'outcomes': 1779, 'longevity': 1780, 'suggested': 1781, 'page': 1782, 'asserts': 1783, 'magical': 1784, 'agnostic': 1785, 'soul': 1786, 'transplanting': 1787, 'kill': 1788, 'unlawful': 1789, 'universally': 1790, 'applicable': 1791, 'notion': 1792, 'catalogue': 1793, 'severely': 1794, 'restrict': 1795, 'investigations': 1796, 'sentenced': 1797, 'reparation': 1798, 'undergo': 1799, 'programs': 1800, 'rehabilitation': 1801, 'punishing': 1802, 'mix': 1803, 'aforementioned': 1804, 'actus': 1805, 'reus': 1806, 'accompanied': 1807, 'mens': 1808, 'rea': 1809, 'contract': 1810, 'automatically': 1811, 'informal': 1812, 'insufficient': 1813, 'desired': 1814, 'impose': 1815, 'formalized': 1816, 'stricter': 1817, 'institutional': 1818, 'machinery': 1819, 'disposal': 1820, 'compel': 1821, 'opt': 1822, 'employ': 1823, 'administering': 1824, 'police': 1825, 'visitors': 1826, 'ensure': 1827, 'implement': 1828, 'policies': 1829, 'legislators': 1830, 'administrators': 1831, 'preventing': 1832, 'constitute': 1833, 'severity': 1834, 'incarceration': 1835, 'temporary': 1836, 'character': 1837, 'reforming': 1838, 'convict': 1839, 'inflict': 1840, 'harsh': 1841, 'mutilation': 1842, 'parole': 1843, 'perpetrates': 1844, 'premodern': 1845, 'animals': 1846, 'prosecuted': 1847, 'accordingly': 1848, 'envisages': 1849, 'perceive': 1850, 'cern': 1851, 'cr': 1852, 'krima': 1853, 'cognate': 1854, 'intellectual': 1855, 'mistake': 1856, 'sinfulness': 1857, 'online': 1858, 'etymology': 1859, 'dictionary': 1860, 'crimne': 1861, 'genitive': 1862, 'criminis': 1863, 'signified': 1864, 'accusation': 1865, 'derive': 1866, 'cernere': 1867, 'sift': 1868, 'crisis': 1869, 'mapped': 1870, 'kairos': 1871, 'chronos': 1872, 'ernest': 1873, 'klein': 1874, 'citing': 1875, 'brugmann': 1876, 'cri': 1877, 'tucker': 1878, 'plaint': 1879, 'plaintiff': 1880, 'glossed': 1881, 'facen': 1882, 'deceit': 1883, 'fraud': 1884, 'treachery': 1885, 'fake': 1886, 'wave': 1887, 'attested': 1888, 'depend': 1889, 'consequences': 1890, 'proceedings': 1891, 'expression': 1892, 'uttering': 1893, 'possessing': 1894, 'gold': 1895, 'silver': 1896, 'obtaining': 1897, 'goods': 1898, 'pretences': 1899, 'conspiracy': 1900, 'defraud': 1901, 'eighth': 1902, 'trade': 1903, 'consolidation': 1904, 'summary': 1905, 'conviction': 1906, 'commission': 1907, 'liable': 1908, 'imprisoned': 1909, 'absolutely': 1910, 'discretion': 1911, 'normative': 1912, 'deviant': 1913, 'prescribing': 1914, 'humans': 1915, 'surrounding': 1916, 'seeks': 1917, 'economic': 1918, 'responses': 1919, 'structural': 1920, 'fluid': 1921, 'environment': 1922, 'shifts': 1923, 'criminalise': 1924, 'decriminalise': 1925, 'behaviours': 1926, 'statistical': 1927, 'allocation': 1928, 'resources': 1929, 'opinion': 1930, 'collection': 1931, 'calculation': 1932, 'perceptions': 1933, 'adjustments': 1934, 'allied': 1935, 'lives': 1936, 'engineering': 1937, 'encourage': 1938, 'resort': 1939, 'drafting': 1940, 'prohibit': 1941, 'observers': 1942, 'improper': 1943, 'limitation': 1944, 'disputed': 1945, 'legislatures': 1946, 'prohibita': 1947, 'gambling': 1948, 'encouragement': 1949, 'duelling': 1950, 'outlawed': 1951, 'commonwealth': 1952, 'deployed': 1953, 'preemptive': 1954, 'device': 1955, 'deterrent': 1956, 'proposing': 1957, 'allowing': 1958, 'harms': 1959, 'continue': 1960, 'unabated': 1961, 'outweigh': 1962, 'minimize': 1963, 'process': 1964, 'label': 1965, 'accompanying': 1966, 'stigma': 1967, 'confine': 1968, 'scope': 1969, 'injurious': 1970, 'loss': 1971, 'damage': 1972, 'labels': 1973, 'intend': 1974, 'hegemony': 1975, 'reflect': 1976, 'condemnation': 1977, 'justify': 1978, 'processing': 1979, 'tries': 1980, 'convicts': 1981, 'justifying': 1982, 'proven': 1983, 'theoretical': 1984, 'justifications': 1985, 'constructs': 1986, 'aquinas': 1987, 'measure': 1988, 'principle': 1989, 'concluding': 1990, 'coercing': 1991, 'blackstone': 1992, 'thesis': 1993, 'austin': 1994, 'positivist': 1995, 'utilitarianism': 1996, 'calculating': 1997, 'denied': 1998, 'austinian': 1999, 'embody': 2000, 'legislature': 2001, 'decrees': 2002, 'achieve': 2003, 'lawmakers': 2004, 'proposition': 2005, 'internal': 2006, 'logic': 2007, 'consistency': 2008, 'responsibility': 2009, 'ronald': 2010, 'dworkin': 2011, 'proposes': 2012, 'expect': 2013, 'govern': 2014, 'offers': 2015, 'overlaid': 2016, 'deference': 2017, 'obey': 2018, 'identifies': 2019, 'legitimate': 2020, 'legitimacy': 2021, 'legislative': 2022, 'obliged': 2023, 'theorists': 2024, 'conformity': 2025, 'condition': 2026, 'reasoning': 2027, 'solve': 2028, 'granting': 2029, 'relativism': 2030, 'evolve': 2031, 'criticize': 2032, 'light': 2033, 'lacks': 2034, 'justification': 2035, 'characterise': 2036, 'hence': 2037, 'illustrates': 2038, 'smuggler': 2039, 'excellent': 2040, 'distinguishes': 2041, 'illegality': 2042, 'originates': 2043, 'phrases': 2044, 'argument': 2045, 'decreed': 2046, 'perform': 2047, 'perfectly': 2048, 'enlightenment': 2049, 'thinkers': 2050, 'subscribed': 2051, 'liberals': 2052, 'libertarians': 2053, 'highlight': 2054, 'legendary': 2055, 'tale': 2056, 'eve': 2057, 'ignite': 2058, 'civilizations': 2059, 'produced': 2060, 'urukagina': 2061, 'reigned': 2062, 'chronology': 2063, 'extant': 2064, 'lipit': 2065, 'ishtar': 2066, 'contains': 2067, 'reconstructed': 2068, 'comparing': 2069, 'sumerian': 2070, 'deeply': 2071, 'resented': 2072, 'encroachment': 2073, 'superior': 2074, 'wonder': 2075, 'successive': 2076, 'babylon': 2077, 'hammurabi': 2078, 'reflected': 2079, 'mesopotamian': 2080, 'babylonian': 2081, 'functioned': 2082, 'theocracies': 2083, 'stra': 2084, 'discussed': 2085, 'elaborate': 2086, 'maine': 2087, 'crimina': 2088, 'delicta': 2089, 'survivors': 2090, 'lacked': 2091, 'systematized': 2092, 'initial': 2093, 'assaults': 2094, 'matter': 2095, 'dominion': 2096, 'familias': 2097, 'owned': 2098, 'slaves': 2099, 'matters': 2100, 'interference': 2101, 'commentaries': 2102, 'gaius': 2103, 'tables': 2104, 'furtum': 2105, 'tort': 2106, 'trespass': 2107, 'trespassed': 2108, 'breach': 2109, 'vinculum': 2110, 'juris': 2111, 'damages': 2112, 'discharge': 2113, 'consolidated': 2114, 'compensations': 2115, 'update': 2116, 'abandoned': 2117, 'britannic': 2118, 'provinces': 2119, 'mercenaries': 2120, 'instrumental': 2121, 'britannia': 2122, 'acquired': 2123, 'ownership': 2124, 'mixture': 2125, 'saxon': 2126, 'centralized': 2127, 'monarchy': 2128, 'invasion': 2129, 'attempted': 2130, 'conception': 2131, 'significance': 2132, 'usurp': 2133, 'functions': 2134, 'tribunals': 2135, 'direct': 2136, 'privilegium': 2137, 'perpetrator': 2138, 'wholly': 2139, 'arbitrary': 2140, 'settled': 2141, 'delictual': 2142, 'operated': 2143, 'highly': 2144, 'raise': 2145, 'selling': 2146, 'writ': 2147, 'dispenses': 2148, 'emerges': 2149, 'emergence': 2150, 'continental': 2151, 'persisted': 2152, 'stronger': 2153, 'coupled': 2154, 'diffuse': 2155, 'units': 2156, 'remaining': 2157, 'strongly': 2158, 'rooted': 2159, 'jurisprudence': 2160, 'meet': 2161, 'assemblies': 2162, 'decided': 2163, 'freeholders': 2164, 'dominating': 2165, 'nominating': 2166, 'esteemed': 2167, 'fulfilling': 2168, 'yore': 2169, 'policy': 2170, 'rationale': 2171, 'committed': 2172, 'avoidance': 2173, 'feuding': 2174, 'clans': 2175, 'mollify': 2176, 'institution': 2177, 'oaths': 2178, 'warfare': 2179, 'archaic': 2180, 'walked': 2181, 'relatives': 2182, 'swear': 2183, 'veto': 2184, 'ensures': 2185, 'crises': 2186, 'restraining': 2187, 'feuds': 2188, 'prevented': 2189, 'fulfillment': 2190, 'policing': 2191, 'omissions': 2192, 'overlap': 2193, 'prompted': 2194, 'fresh': 2195, 'fostered': 2196, 'beginnings': 2197, 'criminology': 2198, 'nietzsche': 2199, 'noted': 2200, 'link': 2201, 'creativity': 2202, 'tragedy': 2203, 'asserted': 2204, 'needs': 2205, 'brightest': 2206, 'obtain': 2207, 'foucault': 2208, 'coercive': 2209, 'commentators': 2210, 'categorise': 2211, 'sentencing': 2212, 'tariffs': 2213, 'fines': 2214, 'noncustodial': 2215, 'sentences': 2216, 'address': 2217, 'least': 2218, 'lengthy': 2219, 'reserved': 2220, 'felonies': 2221, 'trial': 2222, 'categorised': 2223, 'federal': 2224, 'fbi': 2225, 'tabulated': 2226, 'submitted': 2227, 'violations': 2228, 'index': 2229, 'homicide': 2230, 'voluntary': 2231, 'manslaughter': 2232, 'forcible': 2233, 'aggravated': 2234, 'arson': 2235, 'motor': 2236, 'vehicle': 2237, 'ii': 2238, 'convenience': 2239, 'lists': 2240, 'infractions': 2241, 'tortfeasance': 2242, 'booking': 2243, 'arrests': 2244, 'detention': 2245, 'frame': 2246, 'office': 2247, 'drugs': 2248, 'overseas': 2249, 'advisory': 2250, 'osac': 2251, 'safety': 2252, 'report': 2253, 'generated': 2254, 'eu': 2255, 'europol': 2256, 'hong': 2257, 'kong': 2258, 'causes': 2259, 'correlates': 2260, 'socioeconomic': 2261, 'behavioral': 2262, 'factors': 2263, 'controversial': 2264, 'media': 2265, 'gun': 2266, 'chronic': 2267, 'tremendous': 2268, 'processes': 2269, 'broaden': 2270, 'build': 2271, 'functioning': 2272, 'expands': 2273, 'contracts': 2274, 'declines': 2275, 'fewer': 2276, 'ascertained': 2277, 'narrowed': 2278, 'repertoires': 2279, 'paths': 2280, 'perceptible': 2281, 'ones': 2282, 'alternatives': 2283, 'risk': 2284, 'criminals': 2285, 'horrendous': 2286, 'mass': 2287, 'murders': 2288, 'treaty': 2289, 'centric': 2290, 'operating': 2291, 'hague': 2292, 'turn': 2293, 'harmonise': 2294, 'imposed': 2295, 'conscience': 2296, 'criminalized': 2297, 'alcohol': 2298, 'consumption': 2299, 'stem': 2300, 'cell': 2301, 'institutionalized': 2302, 'earthly': 2303, 'devotional': 2304, 'organizational': 2305, 'shariah': 2306, 'mutiny': 2307, 'desertion': 2308, 'martial': 2309, 'supplant': 2310, 'extend': 2311, 'constitutions': 2312, 'provisions': 2313, 'curtail': 2314, 'freedoms': 2315, 'criminalize': 2316, 'tolerated': 2317, 'emergency': 2318, 'disaster': 2319, 'unrest': 2320, 'undesired': 2321, 'assembly': 2322, 'curfew': 2323, 'firearms': 2324, 'employee': 2325, 'embezzlement': 2326, 'complexity': 2327, 'anonymity': 2328, 'computer': 2329, 'employees': 2330, 'camouflage': 2331, 'operations': 2332, 'costly': 2333, 'scams': 2334, 'banks': 2335, 'brokerage': 2336, 'houses': 2337, 'insurance': 2338, 'companies': 2339, 'financial': 2340, 'compares': 2341, 'losses': 2342, 'auto': 2343, 'severe': 2344, 'low': 2345, 'affected': 2346, 'partial': 2347, 'denial': 2348, 'pay': 2349, 'degrees': 2350, 'oceania': 2351, 'gridiron': 2352, 'expansion': 2353, 'developing': 2354, 'deliberately': 2355, 'incorporated': 2356, 'heritage': 2357, 'grouped': 2358, 'thrown': 2359, 'evasion': 2360, 'conflicting': 2361, 'assumed': 2362, 'conclusive': 2363, 'competitive': 2364, 'resembles': 2365, 'manual': 2366, 'dated': 2367, 'han': 2368, 'qin': 2369, 'asuka': 2370, 'kyoto': 2371, 'circle': 2372, 'let': 2373, 'keepie': 2374, 'uppie': 2375, 'greeks': 2376, 'harpastum': 2377, 'adapted': 2378, 'phaininda': 2379, 'playwright': 2380, 'antiphanes': 2381, 'clement': 2382, 'alexandria': 2383, 'politician': 2384, 'killed': 2385, 'shave': 2386, 'barber': 2387, 'shop': 2388, 'knew': 2389, 'filled': 2390, 'follis': 2391, 'ship': 2392, 'commanded': 2393, 'explorer': 2394, 'davis': 2395, 'went': 2396, 'ashore': 2397, 'greenland': 2398, 'aqsaqtuk': 2399, 'facing': 2400, 'lines': 2401, 'strachey': 2402, 'colonist': 2403, 'jamestown': 2404, 'virginia': 2405, 'pahsaheman': 2406, 'pasuckuakohowog': 2407, 'amongst': 2408, 'amerindians': 2409, 'mesoamerica': 2410, 'existing': 2411, 'northeastern': 2412, 'indians': 2413, 'iroquois': 2414, 'confederation': 2415, 'racquets': 2416, 'lacrosse': 2417, 'descendant': 2418, 'likewise': 2419, 'classed': 2420, 'continent': 2421, 'stuffed': 2422, 'generalised': 2423, 'djab': 2424, 'wurrung': 2425, 'anecdote': 2426, 'brough': 2427, 'smyth': 2428, 'aborigines': 2429, 'quoted': 2430, 'witnessed': 2431, 'foremost': 2432, 'skin': 2433, 'possum': 2434, 'leap': 2435, 'theorised': 2436, 'ori': 2437, 'ki': 2438, 'rahi': 2439, 'circular': 2440, 'zones': 2441, 'pou': 2442, 'markers': 2443, 'hitting': 2444, 'tupu': 2445, 'target': 2446, 'mahmud': 2447, 'kashgari': 2448, 'n': 2449, 'lugh': 2450, 'turk': 2451, 'tepuk': 2452, 'turks': 2453, 'attack': 2454, 'castle': 2455, 'sheep': 2456, 'athlete': 2457, 'balancing': 2458, 'thigh': 2459, 'piraeus': 2460, 'song': 2461, 'painting': 2462, 'su': 2463, 'hanchen': 2464, 'depicting': 2465, 'paint': 2466, 'mesoamerican': 2467, 'ballgame': 2468, 'tepantitla': 2469, 'murals': 2470, 'teotihuacan': 2471, 'guiana': 2472, 'illustration': 2473, 'australians': 2474, 'tanzan': 2475, 'shrine': 2476, 'rise': 2477, 'historia': 2478, 'brittonum': 2479, 'nennius': 2480, 'party': 2481, 'la': 2482, 'soule': 2483, 'choule': 2484, 'propelled': 2485, 'villages': 2486, 'unlimited': 2487, 'en': 2488, 'masse': 2489, 'struggling': 2490, 'move': 2491, 'item': 2492, 'parishes': 2493, 'christmas': 2494, 'easter': 2495, 'certainly': 2496, 'fitzstephen': 2497, 'festival': 2498, 'shrove': 2499, 'tuesday': 2500, 'lunch': 2501, 'craft': 2502, 'older': 2503, 'wealthy': 2504, 'horseback': 2505, 'juniors': 2506, 'competing': 2507, 'relive': 2508, 'vicariously': 2509, 'passions': 2510, 'aroused': 2511, 'caught': 2512, 'fun': 2513, 'carefree': 2514, 'adolescents': 2515, 'reinforces': 2516, 'ulgham': 2517, 'northumberland': 2518, 'mccrocan': 2519, 'newcastle': 2520, 'charged': 2521, 'accidentally': 2522, 'stabbing': 2523, 'bernard': 2524, 'shouldham': 2525, 'norfolk': 2526, 'uring': 2527, 'friend': 2528, 'wounded': 2529, 'nicholas': 2530, 'farndone': 2531, 'mayor': 2532, 'decree': 2533, 'reads': 2534, 'orasmuch': 2535, 'noise': 2536, 'hustling': 2537, 'rageries': 2538, 'grosses': 2539, 'pelotes': 2540, 'pee': 2541, 'evils': 2542, 'arise': 2543, 'command': 2544, 'behalf': 2545, 'pain': 2546, 'coursing': 2547, 'cock': 2548, 'fighting': 2549, 'idle': 2550, 'showing': 2551, 'differentiated': 2552, 'disuse': 2553, 'repealed': 2554, 'cite': 2555, 'huc': 2556, 'percute': 2557, 'struck': 2558, 'metum': 2559, 'literally': 2560, 'pillar': 2561, 'circus': 2562, 'course': 2563, 'chariot': 2564, 'race': 2565, 'praeripe': 2566, 'si': 2567, 'possis': 2568, 'agere': 2569, 'objice': 2570, 'te': 2571, 'forbidding': 2572, 'levying': 2573, 'foteball': 2574, 'caunton': 2575, 'nottinghamshire': 2576, 'striking': 2577, 'rolling': 2578, 'along': 2579, 'directions': 2580, 'chronicler': 2581, 'stating': 2582, 'boundaries': 2583, 'firsts': 2584, 'eras': 2585, 'florence': 2586, 'celebrated': 2587, 'epiphany': 2588, 'lent': 2589, 'storico': 2590, 'kickball': 2591, 'piazza': 2592, 'santa': 2593, 'croce': 2594, 'aristocrats': 2595, 'dress': 2596, 'silk': 2597, 'costumes': 2598, 'embroil': 2599, 'punch': 2600, 'shoulder': 2601, 'blows': 2602, 'belt': 2603, 'training': 2604, 'giovanni': 2605, 'bardi': 2606, 'di': 2607, 'vernio': 2608, 'discorso': 2609, 'sopra': 2610, 'giuoco': 2611, 'del': 2612, 'fiorentino': 2613, 'january': 2614, 'passed': 2615, 'scottish': 2616, 'lifted': 2617, 'female': 2618, 'footballers': 2619, 'pressures': 2620, 'municipalities': 2621, 'calls': 2622, 'hosted': 2623, 'sweeping': 2624, 'achievements': 2625, 'turning': 2626, 'teachers': 2627, 'finally': 2628, 'mainly': 2629, 'attended': 2630, 'vulgaria': 2631, 'colleges': 2632, 'wyll': 2633, 'playe': 2634, 'wynde': 2635, 'student': 2636, 'greatest': 2637, 'sixteenth': 2638, 'advocate': 2639, 'contributions': 2640, 'referee': 2641, 'trayning': 2642, 'maister': 2643, 'disordered': 2644, 'ome': 2645, 'overlooking': 2646, 'sorted': 2647, 'boisterously': 2648, 'trie': 2649, 'shouldring': 2650, 'shuffing': 2651, 'barbarously': 2652, 'chiefe': 2653, 'legges': 2654, 'vocabula': 2655, 'charging': 2656, 'drive': 2657, 'francis': 2658, 'bishop': 2659, 'vesey': 2660, 'sutton': 2661, 'coldfield': 2662, 'gate': 2663, 'gates': 2664, 'diagram': 2665, 'illustrating': 2666, 'tactics': 2667, 'leaving': 2668, 'guard': 2669, 'win': 2670, 'selected': 2671, 'equally': 2672, 'nimbleness': 2673, 'leg': 2674, 'higher': 2675, 'manifestations': 2676, 'stood': 2677, 'dribble': 2678, 'scrum': 2679, 'aldenham': 2680, 'inclination': 2681, 'feast': 2682, 'enjoyed': 2683, 'inventors': 2684, 'competitiveness': 2685, 'drafted': 2686, 'intake': 2687, 'favoured': 2688, 'preferred': 2689, 'promoted': 2690, 'camps': 2691, 'confined': 2692, 'cloisters': 2693, 'pupil': 2694, 'creating': 2695, 'apocryphal': 2696, 'misinterpreted': 2697, 'retreat': 2698, 'backwards': 2699, 'forwards': 2700, 'boom': 2701, 'rail': 2702, 'transport': 2703, 'inconvenience': 2704, 'inter': 2705, 'host': 2706, 'home': 2707, 'visiting': 2708, 'formulated': 2709, 'bowls': 2710, 'tennis': 2711, 'impetus': 2712, 'patenting': 2713, 'lawnmower': 2714, 'preparation': 2715, 'ovals': 2716, 'pitches': 2717, 'barely': 2718, 'beyond': 2719, 'confines': 2720, 'dominance': 2721, 'wane': 2722, 'factory': 2723, 'weekdays': 2724, 'saturdays': 2725, 'cease': 2726, 'gymnastic': 2727, 'ceased': 2728, 'bear': 2729, 'title': 2730, 'edinburgh': 2731, 'pushing': 2732, 'tasked': 2733, 'codifying': 2734, 'assisted': 2735, 'cordner': 2736, 'eggleston': 2737, 'experimental': 2738, 'tournament': 2739, 'donated': 2740, 'april': 2741, 'youdan': 2742, 'footballs': 2743, 'coverings': 2744, 'gilbert': 2745, 'shoemakers': 2746, 'town': 2747, 'near': 2748, 'wife': 2749, 'died': 2750, 'lung': 2751, 'disease': 2752, 'blowing': 2753, 'medals': 2754, 'inflatable': 2755, 'brass': 2756, 'pump': 2757, 'inventor': 2758, 'charles': 2759, 'goodyear': 2760, 'patented': 2761, 'spherical': 2762, 'exterior': 2763, 'panels': 2764, 'universelle': 2765, 'iconic': 2766, 'pattern': 2767, 'hexagons': 2768, 'pentagons': 2769, 'truncated': 2770, 'icosahedron': 2771, 'poet': 2772, 'backward': 2773, 'direction': 2774, 'fc': 2775, 'combination': 2776, 'backing': 2777, 'benefiting': 2778, 'lieut': 2779, 'creswell': 2780, 'renowned': 2781, 'beautifully': 2782, 'derby': 2783, 'forest': 2784, 'irrefutably': 2785, 'absey': 2786, 'length': 2787, 'delivered': 2788, 'wallis': 2789, 'cleverly': 2790, 'sent': 2791, 'captain': 2792, 'drove': 2793, 'perfected': 2794, 'pyramid': 2795, 'warwickshire': 2796, 'tossed': 2797, 'june': 2798, 'penalty': 2799, 'conversions': 2800, 'raeburn': 2801, 'nineteenth': 2802, 'codifications': 2803, 'nathaniel': 2804, 'creswick': 2805, 'prest': 2806, 'difference': 2807, 'responsible': 2808, 'corner': 2809, 'ins': 2810, 'midlands': 2811, 'series': 2812, 'fas': 2813, 'eroded': 2814, 'adoption': 2815, 'archival': 2816, 'born': 2817, 'cricketer': 2818, 'educated': 2819, 'letter': 2820, 'bell': 2821, 'chronicle': 2822, 'cricketers': 2823, 'moment': 2824, 'publicity': 2825, 'contacts': 2826, 'co': 2827, 'ordinate': 2828, 'experimented': 2829, 'umpired': 2830, 'rapidly': 2831, 'hammersley': 2832, 'thompson': 2833, 'pushed': 2834, 'learnt': 2835, 'schooling': 2836, 'recalled': 2837, 'cousin': 2838, 'prevalence': 2839, 'updated': 2840, 'redraft': 2841, 'accommodated': 2842, 'geelong': 2843, 'increasingly': 2844, 'soon': 2845, 'cricket': 2846, 'specialised': 2847, 'spectacular': 2848, 'marking': 2849, 'quickly': 2850, 'colonies': 2851, 'heartland': 2852, 'grown': 2853, 'reconcile': 2854, 'thring': 2855, 'driving': 2856, 'forces': 2857, 'simplest': 2858, 'revised': 2859, 'shrewsbury': 2860, 'freemasons': 2861, 'tavern': 2862, 'street': 2863, 'evening': 2864, 'metropolitan': 2865, 'inaugural': 2866, 'unifying': 2867, 'invited': 2868, 'join': 2869, 'declined': 2870, 'meetings': 2871, 'fourth': 2872, 'differed': 2873, 'shins': 2874, 'ix': 2875, 'catches': 2876, 'x': 2877, 'trip': 2878, 'hack': 2879, 'wrest': 2880, 'hacked': 2881, 'fifth': 2882, 'removed': 2883, 'delegates': 2884, 'supported': 2885, 'representative': 2886, 'treasurer': 2887, 'objected': 2888, 'motion': 2889, 'withdrew': 2890, 'oxford': 2891, 'contained': 2892, 'longer': 2893, 'recognisable': 2894, 'touched': 2895, 'dartmouth': 2896, 'hampshire': 2897, 'protests': 2898, 'abandon': 2899, 'pressure': 2900, 'oneida': 2901, 'return': 2902, 'jersey': 2903, 'brown': 2904, 'park': 2905, 'mulock': 2906, 'chancellor': 2907, 'barlow': 2908, 'cumberland': 2909, 'bethune': 2910, 'gwynn': 2911, 'founders': 2912, 'milton': 2913, 'improvised': 2914, 'intercollegiate': 2915, 'alternated': 2916, 'persuaded': 2917, 'columbia': 2918, 'convention': 2919, 'springfield': 2920, 'agreeing': 2921, 'walter': 2922, 'conventions': 2923, 'replacing': 2924, 'scrummage': 2925, 'collisions': 2926, 'urging': 2927, 'drastic': 2928, 'reduce': 2929, 'introduction': 2930, 'underutilised': 2931, 'proved': 2932, 'absorbed': 2933, 'effort': 2934, 'oriented': 2935, 'ontario': 2936, 'burnside': 2937, 'stemming': 2938, 'border': 2939, 'kerry': 2940, 'observer': 2941, 'ferris': 2942, 'arch': 2943, 'boughs': 2944, 'trees': 2945, 'epic': 2946, 'cross': 2947, 'daylight': 2948, 'sunday': 2949, 'wrestling': 2950, 'dublin': 2951, 'stronghold': 2952, 'athletic': 2953, 'sought': 2954, 'imported': 2955, 'maurice': 2956, 'magazine': 2957, 'february': 2958, 'desire': 2959, 'formalise': 2960, 'distinctly': 2961, 'differentiation': 2962, 'shared': 2963, 'rifts': 2964, 'professionalism': 2965, 'creep': 2966, 'standing': 2967, 'tensions': 2968, 'afford': 2969, 'train': 2970, 'recover': 2971, 'reacted': 2972, 'alienate': 2973, 'broken': 2974, 'payments': 2975, 'wages': 2976, 'huddersfield': 2977, 'replacements': 2978, 'job': 2979, 'demands': 2980, 'dictated': 2981, 'abolition': 2982, 'tackler': 2983, 'marker': 2984, 'mauls': 2985, 'stopped': 2986, 'carrier': 2987, 'merged': 2988, 'federations': 2989, 'need': 2990, 'oversee': 2991, 'fixtures': 2992, 'chaired': 2993, 'discussions': 2994, 'setting': 2995, 'progress': 2996, 'belgium': 2997, 'denmark': 2998, 'spain': 2999, 'switzerland': 3000, 'gu': 3001, 'rin': 3002, 'acronym': 3003, 'toured': 3004, 'receiving': 3005, 'enthusiastic': 3006, 'response': 3007, 'negotiations': 3008, 'fix': 3009, 'endured': 3010, 'instigation': 3011, 'rlif': 3012, 'bordeaux': 3013, 'borrowed': 3014, 'downs': 3015, 'retain': 3016, 'retains': 3017, 'release': 3018, 'immediately': 3019, 'maximum': 3020, 'tackle': 3021, 'advent': 3022, 'professionals': 3023, 'consequent': 3024, 'speeding': 3025, 'superseded': 3026, 'interchange': 3027, 'touch': 3028, 'inconclusive': 3029, 'maul': 3030, 'lifting': 3031, 'outs': 3032, 'legalised': 3033, 'disappeared': 3034, 'unification': 3035, 'unlikely': 3036, 'foreseeable': 3037, 'controversy': 3038, 'region': 3039, 'effectively': 3040, 'qualifier': 3041, 'barassi': 3042, 'francophone': 3043, 'ricain': 3044, 'currently': 3045, 'organisations': 3046, 'normalised': 3047, 'globally': 3048, 'audience': 3049, 'nearly': 3050, 'super': 3051, 'bowl': 3052, 'accounting': 3053, 'nine': 3054, 'broadcasts': 3055, 'nfl': 3056, 'revenue': 3057, 'athletes': 3058, 'samoa': 3059, 'tonga': 3060, 'fiji': 3061, 'dubious': 3062, 'discuss': 3063, 'outfield': 3064, 'nicknamed': 3065, 'motorsport': 3066, 'teammates': 3067, 'upon': 3068, 'continuous': 3069, 'periodic': 3070, 'bounce': 3071, 'solo': 3072, 'toe': 3073, 'handpassing': 3074, 'punching': 3075, 'tapping': 3076, 'sepak': 3077, 'takraw': 3078, 'denote': 3079, 'outdoor': 3080, 'sheet': 3081, 'gymnasium': 3082, 'manoeuvre': 3083, 'straight': 3084, 'hole': 3085, 'involves': 3086, 'roughly': 3087, 'suitable': 3088, 'inclusion': 3089, 'newly': 3090, 'emerging': 3091, 'gym': 3092, 'modelled': 3093, 'variants': 3094, 'eventually': 3095, 'floors': 3096, 'locale': 3097, 'geography': 3098, 'size': 3099, 'avoid': 3100, 'confusion': 3101, 'juvenile': 3102, 'pastimes': 3103, 'prefixed': 3104, 'memoirs': 3105, 'author': 3106, 'infant': 3107, 'johnson': 3108, 'pseud': 3109, 'angelo': 3110, 'chapter': 3111, 'xi': 3112, 'titled': 3113, 'improvements': 3114, 'explicitly': 3115, 'manualem': 3116, 'pedivam': 3117, 'bacularem': 3118, 'gallorum': 3119, 'pugnam': 3120, 'biographer': 3121, 'strype': 3122, 'translating': 3123, 'cambuck': 3124, 'golf': 3125, 'croquet': 3126, 'unknown': 3127, 'derivative': 3128, 'hoquet': 3129, 'shepherd': 3130, 'stave': 3131, 'ends': 3132, 'cork': 3133, 'bungs': 3134, 'wooden': 3135, 'barrels': 3136, 'hock': 3137, 'ale': 3138, 'hocky': 3139, 'carvings': 3140, 'projectile': 3141, 'depiction': 3142, 'ker': 3143, 'zein': 3144, 'ras': 3145, 'mongolia': 3146, 'daur': 3147, 'beikou': 3148, 'concerning': 3149, 'galway': 3150, 'enacted': 3151, 'hooky': 3152, 'tyme': 3153, 'ne': 3154, 'occupye': 3155, 'horlinge': 3156, 'litill': 3157, 'stickes': 3158, 'hande': 3159, 'withoute': 3160, 'walles': 3161, 'greate': 3162, 'foote': 3163, 'differentiate': 3164, 'coalesce': 3165, 'sprang': 3166, 'manage': 3167, 'domestic': 3168, 'sized': 3169, 'arena': 3170, 'professionally': 3171, 'ioc': 3172, 'predecessor': 3173, 'gravel': 3174, 'sand': 3175, 'water': 3176, 'turf': 3177, 'argentina': 3178, 'fih': 3179, 'constructed': 3180, 'composite': 3181, 'glass': 3182, 'carbon': 3183, 'hook': 3184, 'rear': 3185, 'firmly': 3186, 'ministry': 3187, 'affairs': 3188, 'august': 3189, 'inch': 3190, 'vulcanized': 3191, 'disc': 3192, 'frozen': 3193, 'friction': 3194, 'extents': 3195, 'finland': 3196, 'czech': 3197, 'slovakia': 3198, 'strongest': 3199, 'drawing': 3200, 'slightly': 3201, 'influences': 3202, 'push': 3203, 'forth': 3204, 'indoors': 3205, 'graphite': 3206, 'composites': 3207, 'bottom': 3208, 'upright': 3209, 'legally': 3210, 'curve': 3211, 'disabilities': 3212, 'affecting': 3213, 'sit': 3214, 'picks': 3215, 'stickhandle': 3216, 'shoot': 3217, 'laminated': 3218, 'fiberglass': 3219, 'shafts': 3220, 'carved': 3221, 'insert': 3222, 'regulation': 3223, 'dictating': 3224, 'disability': 3225, 'championship': 3226, 'talent': 3227, 'bisley': 3228, 'hull': 3229, 'stingrays': 3230, 'grimsby': 3231, 'redwings': 3232, 'matt': 3233, 'lloyd': 3234, 'inventing': 3235, 'quads': 3236, 'goalie': 3237, 'periods': 3238, 'variation': 3239, 'icings': 3240, 'clearing': 3241, 'usa': 3242, 'hoquei': 3243, 'em': 3244, 'patins': 3245, 'overarching': 3246, 'sixty': 3247, 'demonstration': 3248, 'barcelona': 3249, 'asphalt': 3250, 'protective': 3251, 'worn': 3252, 'predecessors': 3253, 'styles': 3254, 'designated': 3255, 'morals': 3256, 'worldviews': 3257, 'sanctified': 3258, 'prophecies': 3259, 'relates': 3260, 'transcendental': 3261, 'deities': 3262, 'saints': 3263, 'narratives': 3264, 'preserved': 3265, 'scriptures': 3266, 'demographic': 3267, 'agnostics': 3268, 'portion': 3269, 'comprises': 3270, 'workings': 3271, 'ontological': 3272, 'foundations': 3273, 'sanctity': 3274, 'relegere': 3275, 'read': 3276, 'carefully': 3277, 'harpur': 3278, 'religare': 3279, 'ligare': 3280, 'bind': 3281, 'connect': 3282, 'prominent': 3283, 'augustine': 3284, 'interpretation': 3285, 'lactantius': 3286, 'divinae': 3287, 'institutiones': 3288, 'alternates': 3289, 'designating': 3290, 'bonded': 3291, 'hear': 3292, 'golden': 3293, 'fleece': 3294, 'knight': 3295, 'avys': 3296, 'classic': 3297, 'conscientiousness': 3298, 'virtue': 3299, 'obligations': 3300, 'neighbors': 3301, 'rulers': 3302, 'hesitation': 3303, 'caution': 3304, 'inhibited': 3305, 'arose': 3306, 'heightened': 3307, 'scrupulus': 3308, 'shame': 3309, 'vows': 3310, 'compartmentalized': 3311, 'worldly': 3312, 'augsburg': 3313, 'step': 3314, 'sovereign': 3315, 'julius': 3316, 'caesar': 3317, 'discussing': 3318, 'captured': 3319, 'soldiers': 3320, 'captors': 3321, 'naturalist': 3322, 'pliny': 3323, 'elder': 3324, 'elephants': 3325, 'venerate': 3326, 'sun': 3327, 'moon': 3328, 'cultum': 3329, 'deorum': 3330, 'loosely': 3331, 'sparsely': 3332, 'respectful': 3333, 'excessive': 3334, 'harmfully': 3335, 'distracting': 3336, 'cultic': 3337, 'contrasted': 3338, 'abstraction': 3339, 'sets': 3340, 'splitting': 3341, 'christendom': 3342, 'exploration': 3343, 'contact': 3344, 'numerous': 3345, 'distorts': 3346, 'precise': 3347, 'racial': 3348, 'identities': 3349, 'halakha': 3350, 'walk': 3351, 'guides': 3352, 'entail': 3353, 'regulated': 3354, 'ioudaismos': 3355, 'abstract': 3356, 'ancestral': 3357, 'analogous': 3358, 'writers': 3359, 'herodotus': 3360, 'generic': 3361, 'arabic': 3362, 'translators': 3363, 'consisted': 3364, 'penance': 3365, 'ceremonial': 3366, 'practical': 3367, 'align': 3368, 'entered': 3369, 'buddhist': 3370, 'identifier': 3371, 'corresponding': 3372, 'warships': 3373, 'coast': 3374, 'forced': 3375, 'sign': 3376, 'treaties': 3377, 'demanding': 3378, 'contend': 3379, 'philologist': 3380, 'careful': 3381, 'pondering': 3382, 'diligence': 3383, 'characterized': 3384, 'persia': 3385, 'agree': 3386, 'functional': 3387, 'phenomenological': 3388, 'reservations': 3389, 'observe': 3390, 'construct': 3391, 'westphalia': 3392, 'unique': 3393, 'remainder': 3394, 'consequence': 3395, 'speculative': 3396, 'intellectualistic': 3397, 'disposition': 3398, 'product': 3399, 'judeo': 3400, 'accurately': 3401, 'inheritance': 3402, 'downgraded': 3403, 'formative': 3404, 'theism': 3405, 'transcendent': 3406, 'else': 3407, 'powerful': 3408, 'pervasive': 3409, 'lasting': 3410, 'formulating': 3411, 'clothing': 3412, 'aura': 3413, 'factuality': 3414, 'uniquely': 3415, 'realistic': 3416, 'alluding': 3417, 'perhaps': 3418, 'miracle': 3419, 'accomplished': 3420, 'know': 3421, 'weekly': 3422, 'hourly': 3423, 'enormous': 3424, 'ethnographic': 3425, 'demonstrate': 3426, 'antoine': 3427, 'vergote': 3428, 'agency': 3429, 'emphasized': 3430, 'entirety': 3431, 'linguistic': 3432, 'expressions': 3433, 'actions': 3434, 'mandaville': 3435, 'modernist': 3436, 'dualisms': 3437, 'understandings': 3438, 'immanence': 3439, 'materialism': 3440, 'secularity': 3441, 'bounded': 3442, 'addresses': 3443, 'communion': 3444, 'otherness': 3445, 'lived': 3446, 'takes': 3447, 'spiritually': 3448, 'ontologies': 3449, 'embodiment': 3450, 'knowing': 3451, 'experiential': 3452, 'patterns': 3453, 'built': 3454, 'recognizable': 3455, 'completeness': 3456, 'clarity': 3457, 'accordance': 3458, 'environing': 3459, 'schleiermacher': 3460, 'das': 3461, 'schlechthinnige': 3462, 'abh': 3463, 'ngigkeitsgef': 3464, 'hl': 3465, 'absolute': 3466, 'dependence': 3467, 'georg': 3468, 'wilhelm': 3469, 'hegel': 3470, 'disagreed': 3471, 'thoroughly': 3472, 'finite': 3473, 'burnett': 3474, 'narrowing': 3475, 'supreme': 3476, 'idolatry': 3477, 'exclude': 3478, 'identifying': 3479, 'psychologist': 3480, 'solitude': 3481, 'apprehend': 3482, 'godlike': 3483, 'concrete': 3484, 'feels': 3485, 'impelled': 3486, 'respond': 3487, 'solemnity': 3488, 'elementary': 3489, 'unified': 3490, 'unite': 3491, 'spirits': 3492, 'rock': 3493, 'tree': 3494, 'spring': 3495, 'pebble': 3496, 'piece': 3497, 'dogmas': 3498, 'legends': 3499, 'representations': 3500, 'echoes': 3501, 'ferr': 3502, 'comprehensively': 3503, 'intensively': 3504, 'intensive': 3505, 'criticisms': 3506, 'disturb': 3507, 'philosophers': 3508, 'theologians': 3509, 'question': 3510, 'awareness': 3511, 'dreams': 3512, 'meanings': 3513, 'polytheistic': 3514, 'heading': 3515, 'pre': 3516, 'industrial': 3517, 'pejoratively': 3518, 'implies': 3519, 'mis': 3520, 'interpreted': 3521, 'pejorative': 3522, 'provably': 3523, 'examples': 3524, 'resurrection': 3525, 'explains': 3526, 'freed': 3527, 'outlook': 3528, 'unimportant': 3529, 'symbolism': 3530, 'start': 3531, 'believers': 3532, 'accept': 3533, 'interpretations': 3534, 'goddess': 3535, 'clergy': 3536, 'adherence': 3537, 'membership': 3538, 'pals': 3539, 'eight': 3540, 'focusing': 3541, 'magic': 3542, 'frazer': 3543, 'psycho': 3544, 'analytic': 3545, 'sigmund': 3546, 'freud': 3547, 'marx': 3548, 'mircea': 3549, 'eliade': 3550, 'evans': 3551, 'pritchard': 3552, 'michael': 3553, 'stausberg': 3554, 'overview': 3555, 'approaches': 3556, 'characteristics': 3557, 'uncertain': 3558, 'monaghan': 3559, 'revitalization': 3560, 'vision': 3561, 'fires': 3562, 'imaginations': 3563, 'seeking': 3564, 'answer': 3565, 'feel': 3566, 'success': 3567, 'surprising': 3568, 'regularity': 3569, 'supporters': 3570, 'institutionalize': 3571, 'focus': 3572, 'subjective': 3573, 'believing': 3574, 'cosmology': 3575, 'binding': 3576, 'localized': 3577, 'hierarchies': 3578, 'monoghan': 3579, 'persistent': 3580, 'intolerable': 3581, 'accomplish': 3582, 'providing': 3583, 'allows': 3584, 'anxieties': 3585, 'misfortune': 3586, 'courses': 3587, 'critique': 3588, 'niebuhr': 3589, 'fold': 3590, 'indicates': 3591, 'constructionism': 3592, 'orientation': 3593, 'interpret': 3594, 'proponents': 3595, 'dubuisson': 3596, 'timothy': 3597, 'fitzgerald': 3598, 'jason': 3599, 'nanda': 3600, 'josephson': 3601, 'constructionists': 3602, 'inappropriately': 3603, 'sciences': 3604, 'employs': 3605, 'intelligence': 3606, 'neurobiology': 3607, 'zoology': 3608, 'ethology': 3609, 'minds': 3610, 'generate': 3611, 'transmit': 3612, 'schemas': 3613, 'capacities': 3614, 'hallucinations': 3615, 'delusions': 3616, 'occurs': 3617, 'schizophrenia': 3618, 'varies': 3619, 'disorders': 3620, 'prophetic': 3621, 'symptoms': 3622, 'retrospective': 3623, 'diagnoses': 3624, 'practically': 3625, 'schizophrenic': 3626, 'episodes': 3627, 'obsessive': 3628, 'compulsive': 3629, 'disorder': 3630, 'branch': 3631, 'systematic': 3632, 'comparison': 3633, 'yields': 3634, 'concerns': 3635, 'metaphysics': 3636, 'salvation': 3637, 'material': 3638, 'sophisticated': 3639, 'numinous': 3640, 'oceanic': 3641, 'hellenistic': 3642, 'philosophically': 3643, 'academics': 3644, 'scholarship': 3645, 'mutually': 3646, 'ascribing': 3647, 'religiousness': 3648, 'invariant': 3649, 'distinguished': 3650, 'acceptance': 3651, 'actively': 3652, 'pointing': 3653, 'dependent': 3654, 'surveyed': 3655, 'pew': 3656, 'projection': 3657, 'overtake': 3658, 'plurality': 3659, 'projected': 3660, 'disaffiliation': 3661, 'descend': 3662, 'abraham': 3663, 'originating': 3664, 'judea': 3665, 'larger': 3666, 'tanakh': 3667, 'supplemented': 3668, 'midrash': 3669, 'talmud': 3670, 'corpus': 3671, 'theological': 3672, 'rabbinic': 3673, 'holds': 3674, 'moses': 3675, 'mount': 3676, 'sinai': 3677, 'assertion': 3678, 'challenged': 3679, 'scattered': 3680, 'destruction': 3681, 'temple': 3682, 'jerusalem': 3683, 'haredi': 3684, 'conservative': 3685, 'nazareth': 3686, 'savior': 3687, 'godhead': 3688, 'nicene': 3689, 'creed': 3690, 'byzantine': 3691, 'millennium': 3692, 'propagated': 3693, 'via': 3694, 'missionary': 3695, 'books': 3696, 'hadith': 3697, 'sub': 3698, 'saharan': 3699, 'republics': 3700, 'mauritania': 3701, 'afghanistan': 3702, 'ibadi': 3703, 'sufism': 3704, 'quranism': 3705, 'mahdavia': 3706, 'denominational': 3707, 'wahhabism': 3708, 'saudi': 3709, 'arabia': 3710, 'newer': 3711, 'designation': 3712, 'mahavira': 3713, 'offshoot': 3714, 'bism': 3715, 'samaritanism': 3716, 'bank': 3717, 'rastafari': 3718, 'jamaica': 3719, 'syria': 3720, 'lebanon': 3721, 'isma': 3722, 'ilism': 3723, 'mandaeism': 3724, 'sabianism': 3725, 'mysterious': 3726, 'sabians': 3727, 'claimed': 3728, 'gnostic': 3729, 'baptist': 3730, 'chief': 3731, 'last': 3732, 'gnostics': 3733, 'taoic': 3734, 'consist': 3735, 'tao': 3736, 'korean': 3737, 'vietnamese': 3738, 'dharmic': 3739, 'expected': 3740, 'characterised': 3741, 'shamanism': 3742, 'ancestor': 3743, 'ethnicity': 3744, 'tribe': 3745, 'creeds': 3746, 'syncretic': 3747, 'fusing': 3748, 'omitted': 3749, 'surveys': 3750, 'encompasses': 3751, 'akan': 3752, 'dahomey': 3753, 'fon': 3754, 'efik': 3755, 'odinani': 3756, 'serer': 3757, 'roog': 3758, 'yoruba': 3759, 'bushongo': 3760, 'mbuti': 3761, 'pygmy': 3762, 'lugbara': 3763, 'dinka': 3764, 'lotuko': 3765, 'akamba': 3766, 'masai': 3767, 'malagasy': 3768, 'san': 3769, 'lozi': 3770, 'tumbuka': 3771, 'zulu': 3772, 'bantu': 3773, 'berber': 3774, 'egyptian': 3775, 'diasporic': 3776, 'americas': 3777, 'santeria': 3778, 'candomble': 3779, 'vodun': 3780, 'lucumi': 3781, 'umbanda': 3782, 'macumba': 3783, 'predate': 3784, 'islamization': 3785, 'nowadays': 3786, 'zoroaster': 3787, 'zoroastrians': 3788, 'ahura': 3789, 'destroy': 3790, 'sustain': 3791, 'kurdish': 3792, 'yazidi': 3793, 'alevi': 3794, 'ahl': 3795, 'haqq': 3796, 'labeled': 3797, 'yazd': 3798, 'nism': 3799, 'thousand': 3800, 'departments': 3801, 'qualified': 3802, 'judicial': 3803, 'discourses': 3804, 'exponents': 3805, 'specialists': 3806, 'explored': 3807, 'themes': 3808, 'mercy': 3809, 'equity': 3810, 'love': 3811, 'pagan': 3812, 'issue': 3813, 'wearing': 3814, 'headscarves': 3815, 'received': 3816, 'feminism': 3817, 'acknowledges': 3818, 'revelation': 3819, 'acknowledging': 3820, 'monolithic': 3821, 'timeless': 3822, 'static': 3823, 'endeavors': 3824, 'narrowly': 3825, 'reification': 3826, 'scientia': 3827, 'religio': 3828, 'gains': 3829, 'testing': 3830, 'hypotheses': 3831, 'elucidation': 3832, 'evaluation': 3833, 'experiments': 3834, 'answers': 3835, 'cosmological': 3836, 'questions': 3837, 'measured': 3838, 'develops': 3839, 'physically': 3840, 'refinement': 3841, 'rejection': 3842, 'overwhelming': 3843, 'preponderance': 3844, 'favorable': 3845, 'facto': 3846, 'verities': 3847, 'relativity': 3848, 'selection': 3849, 'evolution': 3850, 'posited': 3851, 'truths': 3852, 'rely': 3853, 'test': 3854, 'gauge': 3855, 'metaphors': 3856, 'revisable': 3857, 'albert': 3858, 'einstein': 3859, 'ascertain': 3860, 'judgments': 3861, 'deals': 3862, 'evaluations': 3863, 'justifiably': 3864, 'realms': 3865, 'reciprocal': 3866, 'dependencies': 3867, 'learned': 3868, 'broadest': 3869, 'contribute': 3870, 'attainment': 3871, 'frameworks': 3872, 'guide': 3873, 'determining': 3874, 'triple': 3875, 'jems': 3876, 'halacha': 3877, 'catholicism': 3878, 'eightfold': 3879, 'deeds': 3880, 'synonymous': 3881, 'automatic': 3882, 'assumption': 3883, 'ethnocentric': 3884, 'failure': 3885, 'altruism': 3886, 'inconsistent': 3887, 'voters': 3888, 'vote': 3889, 'presidential': 3890, 'candidate': 3891, 'adults': 3892, 'kyrsten': 3893, 'sinema': 3894, 'arizona': 3895, 'claims': 3896, 'affiliation': 3897, 'francois': 3898, 'hollande': 3899, 'minister': 3900, 'alexis': 3901, 'tsipras': 3902, 'differs': 3903, 'nationalists': 3904, 'targeting': 3905, 'belonged': 3906, 'castes': 3907, 'transformation': 3908, 'modernization': 3909, 'protection': 3910, 'negative': 3911, 'correlation': 3912, 'inhabitants': 3913, 'economist': 3914, 'wealthier': 3915, 'ethic': 3916, 'hindus': 3917, 'mayo': 3918, 'clinic': 3919, 'examined': 3920, 'coping': 3921, 'terminal': 3922, 'illness': 3923, 'suicide': 3924, 'concluded': 3925, 'beneficial': 3926, 'review': 3927, 'jones': 3928, 'discovered': 3929, 'correlations': 3930, 'analysis': 3931, 'confirming': 3932, 'complicated': 3933, 'results': 3934, 'generalize': 3935, 'assume': 3936, 'critics': 3937, 'hector': 3938, 'avalos': 3939, 'regina': 3940, 'schwartz': 3941, 'hitchens': 3942, 'endorsed': 3943, 'exploited': 3944, 'jack': 3945, 'eller': 3946, 'arguing': 3947, 'compatible': 3948, 'identical': 3949, 'essential': 3950, 'virtually': 3951, 'corollary': 3952, 'sacrifice': 3953, 'ritual': 3954, 'killing': 3955, 'appease': 3956, 'favour': 3957, 'pagans': 3958, 'scorned': 3959, 'constantly': 3960, 'trembled': 3961, 'cruel': 3962, 'capricious': 3963, 'polybius': 3964, 'instrumentum': 3965, 'regni': 3966, 'instrument': 3967, 'maintaining': 3968, 'cohesion': 3969, 'composed': 3970, 'superstitions': 3971, 'thinking': 3972, 'think': 3973, 'deists': 3974, 'skeptics': 3975, 'sinful': 3976, 'denotes': 3977, 'trust': 3978, 'providence': 3979, 'catechism': 3980, 'represents': 3981, 'perverse': 3982, 'excess': 3983, 'deviation': 3984, 'imposes': 3985, 'attributes': 3986, 'importance': 3987, 'lawful': 3988, 'efficacy': 3989, 'prayers': 3990, 'sacramental': 3991, 'mere': 3992, 'external': 3993, 'performance': 3994, 'interior': 3995, 'dispositions': 3996, 'demand': 3997, 'fall': 3998, 'matthew': 3999, 'atheist': 4000, 'unknowability': 4001, 'nontheistic': 4002, 'irreligious': 4003, 'antireligion': 4004, 'active': 4005, 'opposition': 4006, 'aversion': 4007, 'continues': 4008, 'impulse': 4009, 'practitioners': 4010, 'band': 4011, 'peacebuilding': 4012, 'parliament': 4013, 'chicago': 4014, 'affirmed': 4015, 'recognition': 4016, 'fruitful': 4017, 'solving': 4018, 'reconciliation': 4019, 'reverse': 4020, 'initiatives': 4021, 'bringing': 4022, 'initiative': 4023, 'sponsored': 4024, 'harmony': 4025, 'framework': 4026, 'totality': 4027, 'expresses': 4028, 'consideration': 4029, 'definitely': 4030, 'prevents': 4031, 'dualism': 4032, 'intimate': 4033, 'ernst': 4034, 'troeltsch': 4035, 'plant': 4036, 'alien': 4037, 'pluralistic': 4038, 'domenic': 4039, 'marbaniang': 4040, 'element': 4041, 'sacralization': 4042, 'arts': 4043, 'implications': 4044}\""
            ],
            "application/vnd.google.colaboratory.intrinsic+json": {
              "type": "string"
            }
          },
          "metadata": {},
          "execution_count": 29
        }
      ]
    },
    {
      "cell_type": "code",
      "source": [
        "#####################"
      ],
      "metadata": {
        "id": "5Ikk8mkG8ISX"
      },
      "execution_count": null,
      "outputs": []
    },
    {
      "cell_type": "code",
      "source": [
        "\n",
        "%reset -f\n",
        "import bs4\n",
        "import sys\n",
        "import requests\n",
        "import  os\n",
        "pathToStoreFiles = \"/content\"\n",
        "os.chdir(pathToStoreFiles)\n",
        "os.listdir()\n",
        "# Your wikipedia page title:\n",
        "wiki_page = 'Religion'   # Religion, Crime, Hockey, Football\n",
        "# Process text now\n",
        "res = requests.get(f'https://en.wikipedia.org/wiki/{wiki_page}' )\n",
        "res.raise_for_status()\n",
        "wiki = bs4.BeautifulSoup(res.text,\"html.parser\")\n",
        "\n",
        "# open a file named as your wiki page in write mode\n",
        "with open(wiki_page+\".txt\", \"w\", encoding=\"utf-8\") as f:\n",
        "    for i in wiki.select('p'):\n",
        "        # write each paragraph to the file\n",
        "        f.write(i.getText())\n",
        "\n",
        "os.listdir()\n"
      ],
      "metadata": {
        "id": "pq4YtwfLXQRg",
        "outputId": "4bc95945-7e57-4a99-fd2f-feae53f5f070",
        "colab": {
          "base_uri": "https://localhost:8080/"
        }
      },
      "execution_count": null,
      "outputs": [
        {
          "output_type": "execute_result",
          "data": {
            "text/plain": [
              "['.config',\n",
              " 'seq.pkl',\n",
              " 'football.txt',\n",
              " 'Hockey.txt',\n",
              " 'word_index.txt',\n",
              " 'Crime.txt',\n",
              " 'sample_data']"
            ]
          },
          "metadata": {},
          "execution_count": 45
        },
        {
          "output_type": "execute_result",
          "data": {
            "text/plain": [
              "1"
            ]
          },
          "metadata": {},
          "execution_count": 45
        },
        {
          "output_type": "execute_result",
          "data": {
            "text/plain": [
              "10"
            ]
          },
          "metadata": {},
          "execution_count": 45
        },
        {
          "output_type": "execute_result",
          "data": {
            "text/plain": [
              "9"
            ]
          },
          "metadata": {},
          "execution_count": 45
        },
        {
          "output_type": "execute_result",
          "data": {
            "text/plain": [
              "13"
            ]
          },
          "metadata": {},
          "execution_count": 45
        },
        {
          "output_type": "execute_result",
          "data": {
            "text/plain": [
              "7"
            ]
          },
          "metadata": {},
          "execution_count": 45
        },
        {
          "output_type": "execute_result",
          "data": {
            "text/plain": [
              "5"
            ]
          },
          "metadata": {},
          "execution_count": 45
        },
        {
          "output_type": "execute_result",
          "data": {
            "text/plain": [
              "6"
            ]
          },
          "metadata": {},
          "execution_count": 45
        },
        {
          "output_type": "execute_result",
          "data": {
            "text/plain": [
              "10"
            ]
          },
          "metadata": {},
          "execution_count": 45
        },
        {
          "output_type": "execute_result",
          "data": {
            "text/plain": [
              "1"
            ]
          },
          "metadata": {},
          "execution_count": 45
        },
        {
          "output_type": "execute_result",
          "data": {
            "text/plain": [
              "371"
            ]
          },
          "metadata": {},
          "execution_count": 45
        },
        {
          "output_type": "execute_result",
          "data": {
            "text/plain": [
              "999"
            ]
          },
          "metadata": {},
          "execution_count": 45
        },
        {
          "output_type": "execute_result",
          "data": {
            "text/plain": [
              "515"
            ]
          },
          "metadata": {},
          "execution_count": 45
        },
        {
          "output_type": "execute_result",
          "data": {
            "text/plain": [
              "332"
            ]
          },
          "metadata": {},
          "execution_count": 45
        },
        {
          "output_type": "execute_result",
          "data": {
            "text/plain": [
              "919"
            ]
          },
          "metadata": {},
          "execution_count": 45
        },
        {
          "output_type": "execute_result",
          "data": {
            "text/plain": [
              "1542"
            ]
          },
          "metadata": {},
          "execution_count": 45
        },
        {
          "output_type": "execute_result",
          "data": {
            "text/plain": [
              "331"
            ]
          },
          "metadata": {},
          "execution_count": 45
        },
        {
          "output_type": "execute_result",
          "data": {
            "text/plain": [
              "508"
            ]
          },
          "metadata": {},
          "execution_count": 45
        },
        {
          "output_type": "execute_result",
          "data": {
            "text/plain": [
              "650"
            ]
          },
          "metadata": {},
          "execution_count": 45
        },
        {
          "output_type": "execute_result",
          "data": {
            "text/plain": [
              "1709"
            ]
          },
          "metadata": {},
          "execution_count": 45
        },
        {
          "output_type": "execute_result",
          "data": {
            "text/plain": [
              "385"
            ]
          },
          "metadata": {},
          "execution_count": 45
        },
        {
          "output_type": "execute_result",
          "data": {
            "text/plain": [
              "1095"
            ]
          },
          "metadata": {},
          "execution_count": 45
        },
        {
          "output_type": "execute_result",
          "data": {
            "text/plain": [
              "516"
            ]
          },
          "metadata": {},
          "execution_count": 45
        },
        {
          "output_type": "execute_result",
          "data": {
            "text/plain": [
              "199"
            ]
          },
          "metadata": {},
          "execution_count": 45
        },
        {
          "output_type": "execute_result",
          "data": {
            "text/plain": [
              "452"
            ]
          },
          "metadata": {},
          "execution_count": 45
        },
        {
          "output_type": "execute_result",
          "data": {
            "text/plain": [
              "406"
            ]
          },
          "metadata": {},
          "execution_count": 45
        },
        {
          "output_type": "execute_result",
          "data": {
            "text/plain": [
              "820"
            ]
          },
          "metadata": {},
          "execution_count": 45
        },
        {
          "output_type": "execute_result",
          "data": {
            "text/plain": [
              "57"
            ]
          },
          "metadata": {},
          "execution_count": 45
        },
        {
          "output_type": "execute_result",
          "data": {
            "text/plain": [
              "295"
            ]
          },
          "metadata": {},
          "execution_count": 45
        },
        {
          "output_type": "execute_result",
          "data": {
            "text/plain": [
              "66"
            ]
          },
          "metadata": {},
          "execution_count": 45
        },
        {
          "output_type": "execute_result",
          "data": {
            "text/plain": [
              "254"
            ]
          },
          "metadata": {},
          "execution_count": 45
        },
        {
          "output_type": "execute_result",
          "data": {
            "text/plain": [
              "204"
            ]
          },
          "metadata": {},
          "execution_count": 45
        },
        {
          "output_type": "execute_result",
          "data": {
            "text/plain": [
              "141"
            ]
          },
          "metadata": {},
          "execution_count": 45
        },
        {
          "output_type": "execute_result",
          "data": {
            "text/plain": [
              "216"
            ]
          },
          "metadata": {},
          "execution_count": 45
        },
        {
          "output_type": "execute_result",
          "data": {
            "text/plain": [
              "285"
            ]
          },
          "metadata": {},
          "execution_count": 45
        },
        {
          "output_type": "execute_result",
          "data": {
            "text/plain": [
              "142"
            ]
          },
          "metadata": {},
          "execution_count": 45
        },
        {
          "output_type": "execute_result",
          "data": {
            "text/plain": [
              "528"
            ]
          },
          "metadata": {},
          "execution_count": 45
        },
        {
          "output_type": "execute_result",
          "data": {
            "text/plain": [
              "176"
            ]
          },
          "metadata": {},
          "execution_count": 45
        },
        {
          "output_type": "execute_result",
          "data": {
            "text/plain": [
              "171"
            ]
          },
          "metadata": {},
          "execution_count": 45
        },
        {
          "output_type": "execute_result",
          "data": {
            "text/plain": [
              "488"
            ]
          },
          "metadata": {},
          "execution_count": 45
        },
        {
          "output_type": "execute_result",
          "data": {
            "text/plain": [
              "464"
            ]
          },
          "metadata": {},
          "execution_count": 45
        },
        {
          "output_type": "execute_result",
          "data": {
            "text/plain": [
              "750"
            ]
          },
          "metadata": {},
          "execution_count": 45
        },
        {
          "output_type": "execute_result",
          "data": {
            "text/plain": [
              "407"
            ]
          },
          "metadata": {},
          "execution_count": 45
        },
        {
          "output_type": "execute_result",
          "data": {
            "text/plain": [
              "261"
            ]
          },
          "metadata": {},
          "execution_count": 45
        },
        {
          "output_type": "execute_result",
          "data": {
            "text/plain": [
              "428"
            ]
          },
          "metadata": {},
          "execution_count": 45
        },
        {
          "output_type": "execute_result",
          "data": {
            "text/plain": [
              "36"
            ]
          },
          "metadata": {},
          "execution_count": 45
        },
        {
          "output_type": "execute_result",
          "data": {
            "text/plain": [
              "656"
            ]
          },
          "metadata": {},
          "execution_count": 45
        },
        {
          "output_type": "execute_result",
          "data": {
            "text/plain": [
              "692"
            ]
          },
          "metadata": {},
          "execution_count": 45
        },
        {
          "output_type": "execute_result",
          "data": {
            "text/plain": [
              "330"
            ]
          },
          "metadata": {},
          "execution_count": 45
        },
        {
          "output_type": "execute_result",
          "data": {
            "text/plain": [
              "191"
            ]
          },
          "metadata": {},
          "execution_count": 45
        },
        {
          "output_type": "execute_result",
          "data": {
            "text/plain": [
              "317"
            ]
          },
          "metadata": {},
          "execution_count": 45
        },
        {
          "output_type": "execute_result",
          "data": {
            "text/plain": [
              "312"
            ]
          },
          "metadata": {},
          "execution_count": 45
        },
        {
          "output_type": "execute_result",
          "data": {
            "text/plain": [
              "125"
            ]
          },
          "metadata": {},
          "execution_count": 45
        },
        {
          "output_type": "execute_result",
          "data": {
            "text/plain": [
              "227"
            ]
          },
          "metadata": {},
          "execution_count": 45
        },
        {
          "output_type": "execute_result",
          "data": {
            "text/plain": [
              "125"
            ]
          },
          "metadata": {},
          "execution_count": 45
        },
        {
          "output_type": "execute_result",
          "data": {
            "text/plain": [
              "709"
            ]
          },
          "metadata": {},
          "execution_count": 45
        },
        {
          "output_type": "execute_result",
          "data": {
            "text/plain": [
              "663"
            ]
          },
          "metadata": {},
          "execution_count": 45
        },
        {
          "output_type": "execute_result",
          "data": {
            "text/plain": [
              "420"
            ]
          },
          "metadata": {},
          "execution_count": 45
        },
        {
          "output_type": "execute_result",
          "data": {
            "text/plain": [
              "504"
            ]
          },
          "metadata": {},
          "execution_count": 45
        },
        {
          "output_type": "execute_result",
          "data": {
            "text/plain": [
              "587"
            ]
          },
          "metadata": {},
          "execution_count": 45
        },
        {
          "output_type": "execute_result",
          "data": {
            "text/plain": [
              "566"
            ]
          },
          "metadata": {},
          "execution_count": 45
        },
        {
          "output_type": "execute_result",
          "data": {
            "text/plain": [
              "508"
            ]
          },
          "metadata": {},
          "execution_count": 45
        },
        {
          "output_type": "execute_result",
          "data": {
            "text/plain": [
              "183"
            ]
          },
          "metadata": {},
          "execution_count": 45
        },
        {
          "output_type": "execute_result",
          "data": {
            "text/plain": [
              "536"
            ]
          },
          "metadata": {},
          "execution_count": 45
        },
        {
          "output_type": "execute_result",
          "data": {
            "text/plain": [
              "332"
            ]
          },
          "metadata": {},
          "execution_count": 45
        },
        {
          "output_type": "execute_result",
          "data": {
            "text/plain": [
              "255"
            ]
          },
          "metadata": {},
          "execution_count": 45
        },
        {
          "output_type": "execute_result",
          "data": {
            "text/plain": [
              "586"
            ]
          },
          "metadata": {},
          "execution_count": 45
        },
        {
          "output_type": "execute_result",
          "data": {
            "text/plain": [
              "468"
            ]
          },
          "metadata": {},
          "execution_count": 45
        },
        {
          "output_type": "execute_result",
          "data": {
            "text/plain": [
              "293"
            ]
          },
          "metadata": {},
          "execution_count": 45
        },
        {
          "output_type": "execute_result",
          "data": {
            "text/plain": [
              "921"
            ]
          },
          "metadata": {},
          "execution_count": 45
        },
        {
          "output_type": "execute_result",
          "data": {
            "text/plain": [
              "88"
            ]
          },
          "metadata": {},
          "execution_count": 45
        },
        {
          "output_type": "execute_result",
          "data": {
            "text/plain": [
              "1068"
            ]
          },
          "metadata": {},
          "execution_count": 45
        },
        {
          "output_type": "execute_result",
          "data": {
            "text/plain": [
              "821"
            ]
          },
          "metadata": {},
          "execution_count": 45
        },
        {
          "output_type": "execute_result",
          "data": {
            "text/plain": [
              "42"
            ]
          },
          "metadata": {},
          "execution_count": 45
        },
        {
          "output_type": "execute_result",
          "data": {
            "text/plain": [
              "738"
            ]
          },
          "metadata": {},
          "execution_count": 45
        },
        {
          "output_type": "execute_result",
          "data": {
            "text/plain": [
              "205"
            ]
          },
          "metadata": {},
          "execution_count": 45
        },
        {
          "output_type": "execute_result",
          "data": {
            "text/plain": [
              "181"
            ]
          },
          "metadata": {},
          "execution_count": 45
        },
        {
          "output_type": "execute_result",
          "data": {
            "text/plain": [
              "496"
            ]
          },
          "metadata": {},
          "execution_count": 45
        },
        {
          "output_type": "execute_result",
          "data": {
            "text/plain": [
              "798"
            ]
          },
          "metadata": {},
          "execution_count": 45
        },
        {
          "output_type": "execute_result",
          "data": {
            "text/plain": [
              "236"
            ]
          },
          "metadata": {},
          "execution_count": 45
        },
        {
          "output_type": "execute_result",
          "data": {
            "text/plain": [
              "239"
            ]
          },
          "metadata": {},
          "execution_count": 45
        },
        {
          "output_type": "execute_result",
          "data": {
            "text/plain": [
              "528"
            ]
          },
          "metadata": {},
          "execution_count": 45
        },
        {
          "output_type": "execute_result",
          "data": {
            "text/plain": [
              "129"
            ]
          },
          "metadata": {},
          "execution_count": 45
        },
        {
          "output_type": "execute_result",
          "data": {
            "text/plain": [
              "696"
            ]
          },
          "metadata": {},
          "execution_count": 45
        },
        {
          "output_type": "execute_result",
          "data": {
            "text/plain": [
              "144"
            ]
          },
          "metadata": {},
          "execution_count": 45
        },
        {
          "output_type": "execute_result",
          "data": {
            "text/plain": [
              "153"
            ]
          },
          "metadata": {},
          "execution_count": 45
        },
        {
          "output_type": "execute_result",
          "data": {
            "text/plain": [
              "270"
            ]
          },
          "metadata": {},
          "execution_count": 45
        },
        {
          "output_type": "execute_result",
          "data": {
            "text/plain": [
              "137"
            ]
          },
          "metadata": {},
          "execution_count": 45
        },
        {
          "output_type": "execute_result",
          "data": {
            "text/plain": [
              "900"
            ]
          },
          "metadata": {},
          "execution_count": 45
        },
        {
          "output_type": "execute_result",
          "data": {
            "text/plain": [
              "254"
            ]
          },
          "metadata": {},
          "execution_count": 45
        },
        {
          "output_type": "execute_result",
          "data": {
            "text/plain": [
              "407"
            ]
          },
          "metadata": {},
          "execution_count": 45
        },
        {
          "output_type": "execute_result",
          "data": {
            "text/plain": [
              "827"
            ]
          },
          "metadata": {},
          "execution_count": 45
        },
        {
          "output_type": "execute_result",
          "data": {
            "text/plain": [
              "711"
            ]
          },
          "metadata": {},
          "execution_count": 45
        },
        {
          "output_type": "execute_result",
          "data": {
            "text/plain": [
              "539"
            ]
          },
          "metadata": {},
          "execution_count": 45
        },
        {
          "output_type": "execute_result",
          "data": {
            "text/plain": [
              "764"
            ]
          },
          "metadata": {},
          "execution_count": 45
        },
        {
          "output_type": "execute_result",
          "data": {
            "text/plain": [
              "350"
            ]
          },
          "metadata": {},
          "execution_count": 45
        },
        {
          "output_type": "execute_result",
          "data": {
            "text/plain": [
              "145"
            ]
          },
          "metadata": {},
          "execution_count": 45
        },
        {
          "output_type": "execute_result",
          "data": {
            "text/plain": [
              "202"
            ]
          },
          "metadata": {},
          "execution_count": 45
        },
        {
          "output_type": "execute_result",
          "data": {
            "text/plain": [
              "1798"
            ]
          },
          "metadata": {},
          "execution_count": 45
        },
        {
          "output_type": "execute_result",
          "data": {
            "text/plain": [
              "300"
            ]
          },
          "metadata": {},
          "execution_count": 45
        },
        {
          "output_type": "execute_result",
          "data": {
            "text/plain": [
              "369"
            ]
          },
          "metadata": {},
          "execution_count": 45
        },
        {
          "output_type": "execute_result",
          "data": {
            "text/plain": [
              "570"
            ]
          },
          "metadata": {},
          "execution_count": 45
        },
        {
          "output_type": "execute_result",
          "data": {
            "text/plain": [
              "496"
            ]
          },
          "metadata": {},
          "execution_count": 45
        },
        {
          "output_type": "execute_result",
          "data": {
            "text/plain": [
              "337"
            ]
          },
          "metadata": {},
          "execution_count": 45
        },
        {
          "output_type": "execute_result",
          "data": {
            "text/plain": [
              "556"
            ]
          },
          "metadata": {},
          "execution_count": 45
        },
        {
          "output_type": "execute_result",
          "data": {
            "text/plain": [
              "304"
            ]
          },
          "metadata": {},
          "execution_count": 45
        },
        {
          "output_type": "execute_result",
          "data": {
            "text/plain": [
              "338"
            ]
          },
          "metadata": {},
          "execution_count": 45
        },
        {
          "output_type": "execute_result",
          "data": {
            "text/plain": [
              "181"
            ]
          },
          "metadata": {},
          "execution_count": 45
        },
        {
          "output_type": "execute_result",
          "data": {
            "text/plain": [
              "458"
            ]
          },
          "metadata": {},
          "execution_count": 45
        },
        {
          "output_type": "execute_result",
          "data": {
            "text/plain": [
              "425"
            ]
          },
          "metadata": {},
          "execution_count": 45
        },
        {
          "output_type": "execute_result",
          "data": {
            "text/plain": [
              "828"
            ]
          },
          "metadata": {},
          "execution_count": 45
        },
        {
          "output_type": "execute_result",
          "data": {
            "text/plain": [
              "609"
            ]
          },
          "metadata": {},
          "execution_count": 45
        },
        {
          "output_type": "execute_result",
          "data": {
            "text/plain": [
              "718"
            ]
          },
          "metadata": {},
          "execution_count": 45
        },
        {
          "output_type": "execute_result",
          "data": {
            "text/plain": [
              "304"
            ]
          },
          "metadata": {},
          "execution_count": 45
        },
        {
          "output_type": "execute_result",
          "data": {
            "text/plain": [
              "196"
            ]
          },
          "metadata": {},
          "execution_count": 45
        },
        {
          "output_type": "execute_result",
          "data": {
            "text/plain": [
              "483"
            ]
          },
          "metadata": {},
          "execution_count": 45
        },
        {
          "output_type": "execute_result",
          "data": {
            "text/plain": [
              "822"
            ]
          },
          "metadata": {},
          "execution_count": 45
        },
        {
          "output_type": "execute_result",
          "data": {
            "text/plain": [
              "143"
            ]
          },
          "metadata": {},
          "execution_count": 45
        },
        {
          "output_type": "execute_result",
          "data": {
            "text/plain": [
              "['.config',\n",
              " 'seq.pkl',\n",
              " 'Religion.txt',\n",
              " 'football.txt',\n",
              " 'Hockey.txt',\n",
              " 'word_index.txt',\n",
              " 'Crime.txt',\n",
              " 'sample_data']"
            ]
          },
          "metadata": {},
          "execution_count": 45
        }
      ]
    },
    {
      "cell_type": "code",
      "source": [],
      "metadata": {
        "id": "TnQssHnbXapx"
      },
      "execution_count": null,
      "outputs": []
    }
  ],
  "metadata": {
    "colab": {
      "collapsed_sections": [
        "OQ-997yOz5uF",
        "OCeoUb-5Ummo",
        "6zwRKrJ-SoHw",
        "qf0euAcqS0_H",
        "MfL8wVW6WdzT"
      ],
      "provenance": [],
      "include_colab_link": true
    },
    "kernelspec": {
      "display_name": "Python 3 (ipykernel)",
      "language": "python",
      "name": "python3"
    },
    "language_info": {
      "codemirror_mode": {
        "name": "ipython",
        "version": 3
      },
      "file_extension": ".py",
      "mimetype": "text/x-python",
      "name": "python",
      "nbconvert_exporter": "python",
      "pygments_lexer": "ipython3",
      "version": "3.9.7"
    }
  },
  "nbformat": 4,
  "nbformat_minor": 0
}