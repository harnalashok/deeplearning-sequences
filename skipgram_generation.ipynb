{
  "cells": [
    {
      "cell_type": "markdown",
      "metadata": {
        "id": "view-in-github",
        "colab_type": "text"
      },
      "source": [
        "<a href=\"https://colab.research.google.com/github/harnalashok/deeplearning-sequences/blob/main/skipgram_generation.ipynb\" target=\"_parent\"><img src=\"https://colab.research.google.com/assets/colab-badge.svg\" alt=\"Open In Colab\"/></a>"
      ]
    },
    {
      "cell_type": "code",
      "execution_count": null,
      "metadata": {
        "id": "Eg_Jjf8nfago"
      },
      "outputs": [],
      "source": [
        "\"\"\"\n",
        "Last amended: 21st May, 2023\n",
        "Folders: C:\\Users\\Ashok\\OneDrive\\Documents\\talkingdata\\languagemodeling\n",
        "         C:\\Users\\Ashok\\OneDrive\\Documents\\skipgrams\n",
        "\n",
        "Relevant files:\n",
        "https://github.com/harnalashok/deeplearning-sequences/blob/main/skipgram_generation.ipynb\n",
        "  \n",
        "\n",
        "Ref:\n",
        "https://ljvmiranda921.github.io/notebook/2021/12/11/word-vectors/#pairs\n",
        "https://www.kaggle.com/competitions/word2vec-nlp-tutorial/overview/part-2-word-vectors\n",
        "https://www.tensorflow.org/api_docs/python/tf/keras/preprocessing/sequence/skipgrams\n",
        "https://stackoverflow.com/a/1994012\n",
        "\n",
        "Objectives:\n",
        "        i)   To get a skipgram paired sequence\n",
        "\n",
        "\"\"\""
      ]
    },
    {
      "cell_type": "markdown",
      "metadata": {
        "id": "OQ-997yOz5uF"
      },
      "source": [
        "## Install software"
      ]
    },
    {
      "cell_type": "code",
      "source": [
        "! pip install --upgrade gensim "
      ],
      "metadata": {
        "id": "2JjQbiFP_B1_",
        "outputId": "4aecf334-636c-4a02-d54b-1ba1ac4da5de",
        "colab": {
          "base_uri": "https://localhost:8080/"
        }
      },
      "execution_count": null,
      "outputs": [
        {
          "output_type": "stream",
          "name": "stdout",
          "text": [
            "Looking in indexes: https://pypi.org/simple, https://us-python.pkg.dev/colab-wheels/public/simple/\n",
            "Requirement already satisfied: gensim in /usr/local/lib/python3.10/dist-packages (4.3.1)\n",
            "Requirement already satisfied: numpy>=1.18.5 in /usr/local/lib/python3.10/dist-packages (from gensim) (1.22.4)\n",
            "Requirement already satisfied: scipy>=1.7.0 in /usr/local/lib/python3.10/dist-packages (from gensim) (1.10.1)\n",
            "Requirement already satisfied: smart-open>=1.8.1 in /usr/local/lib/python3.10/dist-packages (from gensim) (6.3.0)\n"
          ]
        }
      ]
    },
    {
      "cell_type": "markdown",
      "source": [
        "## Call libraries"
      ],
      "metadata": {
        "id": "OCeoUb-5Ummo"
      }
    },
    {
      "cell_type": "code",
      "execution_count": null,
      "metadata": {
        "id": "YSOqIGBOg3O2"
      },
      "outputs": [],
      "source": [
        "# 1.0 Call libraries\n",
        "%reset -f\n",
        "import pandas as pd\n",
        "import numpy as np\n",
        "\n",
        "# 1.1 Import module imdb & other keras modules\n",
        "import tensorflow as tf\n",
        "\n",
        "\n",
        "# 1.2 API to manipulate sequences of words\n",
        "from tensorflow.keras.preprocessing import sequence\n",
        "from tensorflow.keras.preprocessing.sequence import skipgrams\n",
        "\n",
        "# 1.3\n",
        "import gensim\n",
        "import re\n",
        "from bs4 import BeautifulSoup\n",
        "import nltk\n",
        "from nltk.corpus import stopwords\n",
        "from collections import Counter\n",
        "\n",
        "# 1.4\n",
        "import os\n",
        "from nltk.stem.porter import PorterStemmer\n",
        "from nltk.stem import WordNetLemmatizer\n"
      ]
    },
    {
      "cell_type": "code",
      "source": [
        "# 1.5 Download stopwords from nltk\n",
        "nltk.download('stopwords')\n"
      ],
      "metadata": {
        "id": "Ohr5xPzS_SHH",
        "outputId": "f4053a83-33fd-4e70-dcf6-be55d418a26d",
        "colab": {
          "base_uri": "https://localhost:8080/"
        }
      },
      "execution_count": null,
      "outputs": [
        {
          "output_type": "stream",
          "name": "stderr",
          "text": [
            "[nltk_data] Downloading package stopwords to /root/nltk_data...\n",
            "[nltk_data]   Unzipping corpora/stopwords.zip.\n"
          ]
        },
        {
          "output_type": "execute_result",
          "data": {
            "text/plain": [
              "True"
            ]
          },
          "metadata": {},
          "execution_count": 4
        }
      ]
    },
    {
      "cell_type": "code",
      "execution_count": null,
      "metadata": {
        "id": "iiSHMqm0iCMB"
      },
      "outputs": [],
      "source": [
        "# 1.6 Display multiple commands output from a cell\n",
        "from IPython.core.interactiveshell import InteractiveShell\n",
        "InteractiveShell.ast_node_interactivity = \"all\""
      ]
    },
    {
      "cell_type": "markdown",
      "source": [
        "## Useful functions\n"
      ],
      "metadata": {
        "id": "6zwRKrJ-SoHw"
      }
    },
    {
      "cell_type": "code",
      "source": [
        "# 2.0 Function to clean text (from Kaggle):\n",
        "def review_to_wordlist( review, remove_stopwords=False, stem = False):\n",
        "    # Function to convert a document to a sequence of words,\n",
        "    # optionally removing stop words.  Returns a list of words.\n",
        "    #\n",
        "    # 1. Remove HTML\n",
        "    review_text = BeautifulSoup(review).get_text()\n",
        "    #\n",
        "    # 2. Remove non-letters\n",
        "    review_text = re.sub(\"[^a-zA-Z]\",\" \", review_text)\n",
        "    # 3. Remove new lines\n",
        "    review_text = review_text.replace('\\n', '')\n",
        "    # 4. Remove words whose length is less than 3\n",
        "    #\n",
        "    # 4. Convert words to lower case and split them\n",
        "    words = review_text.lower().split()\n",
        "    #\n",
        "    # 4. Optionally remove stop words (false by default)\n",
        "    if remove_stopwords:\n",
        "      stops = set(stopwords.words(\"english\"))\n",
        "      words = [w for w in words if not w in stops]\n",
        "    # 5. Optionally perform stemming (false by default)  \n",
        "    if stem:\n",
        "      stemmer = PorterStemmer()\n",
        "      words = [stemmer.stem(w) for w in words ]\n",
        "    # 5. Return a list of words\n",
        "    return(words)\n"
      ],
      "metadata": {
        "id": "Rd7J1O1r_gOv"
      },
      "execution_count": null,
      "outputs": []
    },
    {
      "cell_type": "markdown",
      "source": [
        "## Mount gdrive"
      ],
      "metadata": {
        "id": "xUSDyN2Ho1u9"
      }
    },
    {
      "cell_type": "code",
      "source": [
        "# 2.1\n",
        "\n",
        "from google.colab import drive\n",
        "drive.mount('/gdrive')"
      ],
      "metadata": {
        "colab": {
          "base_uri": "https://localhost:8080/"
        },
        "id": "85-yqOYUo6zD",
        "outputId": "e1957af3-aaec-411a-8e59-46e23d4ceba2"
      },
      "execution_count": null,
      "outputs": [
        {
          "output_type": "stream",
          "name": "stdout",
          "text": [
            "Mounted at /gdrive\n"
          ]
        }
      ]
    },
    {
      "cell_type": "code",
      "source": [
        "# 3.0 We will upload our text file \n",
        "#      directly from gdrive:\n",
        "\n",
        "pathToFolder = \"/gdrive/MyDrive/Colab_data_files/skipgram/\""
      ],
      "metadata": {
        "id": "-WDXyXMzo6zE"
      },
      "execution_count": null,
      "outputs": []
    },
    {
      "cell_type": "markdown",
      "source": [
        "## Read data\n",
        "Upload text file <i>'football.txt'</i> directly to `/content/` folder of colab virtual machine."
      ],
      "metadata": {
        "id": "qf0euAcqS0_H"
      }
    },
    {
      "cell_type": "code",
      "source": [
        "# 3.1 Read foortball.txt:\n",
        "\n",
        "tx_data = pd.read_csv(pathToFolder+ \"combined.txt\", sep = \"\\t\", header = 'infer')\n",
        "tx_data = pd.read_csv(pathToFolder+ \"combinedver1.txt\", sep = \"\\t\", header = 'infer')\n",
        "tx_data.head()"
      ],
      "metadata": {
        "id": "w5rkqnFUJ08z",
        "outputId": "01a2a367-4b35-4166-db8d-3fbd3e3b8b1b",
        "colab": {
          "base_uri": "https://localhost:8080/",
          "height": 249
        }
      },
      "execution_count": null,
      "outputs": [
        {
          "output_type": "execute_result",
          "data": {
            "text/plain": [
              "                                                text\n",
              "0  In ordinary language, a crime is an unlawful a..."
            ],
            "text/html": [
              "\n",
              "  <div id=\"df-36a27dd3-1c4c-48aa-a528-fb1882bf2146\">\n",
              "    <div class=\"colab-df-container\">\n",
              "      <div>\n",
              "<style scoped>\n",
              "    .dataframe tbody tr th:only-of-type {\n",
              "        vertical-align: middle;\n",
              "    }\n",
              "\n",
              "    .dataframe tbody tr th {\n",
              "        vertical-align: top;\n",
              "    }\n",
              "\n",
              "    .dataframe thead th {\n",
              "        text-align: right;\n",
              "    }\n",
              "</style>\n",
              "<table border=\"1\" class=\"dataframe\">\n",
              "  <thead>\n",
              "    <tr style=\"text-align: right;\">\n",
              "      <th></th>\n",
              "      <th>text</th>\n",
              "    </tr>\n",
              "  </thead>\n",
              "  <tbody>\n",
              "    <tr>\n",
              "      <th>0</th>\n",
              "      <td>In ordinary language, a crime is an unlawful a...</td>\n",
              "    </tr>\n",
              "  </tbody>\n",
              "</table>\n",
              "</div>\n",
              "      <button class=\"colab-df-convert\" onclick=\"convertToInteractive('df-36a27dd3-1c4c-48aa-a528-fb1882bf2146')\"\n",
              "              title=\"Convert this dataframe to an interactive table.\"\n",
              "              style=\"display:none;\">\n",
              "        \n",
              "  <svg xmlns=\"http://www.w3.org/2000/svg\" height=\"24px\"viewBox=\"0 0 24 24\"\n",
              "       width=\"24px\">\n",
              "    <path d=\"M0 0h24v24H0V0z\" fill=\"none\"/>\n",
              "    <path d=\"M18.56 5.44l.94 2.06.94-2.06 2.06-.94-2.06-.94-.94-2.06-.94 2.06-2.06.94zm-11 1L8.5 8.5l.94-2.06 2.06-.94-2.06-.94L8.5 2.5l-.94 2.06-2.06.94zm10 10l.94 2.06.94-2.06 2.06-.94-2.06-.94-.94-2.06-.94 2.06-2.06.94z\"/><path d=\"M17.41 7.96l-1.37-1.37c-.4-.4-.92-.59-1.43-.59-.52 0-1.04.2-1.43.59L10.3 9.45l-7.72 7.72c-.78.78-.78 2.05 0 2.83L4 21.41c.39.39.9.59 1.41.59.51 0 1.02-.2 1.41-.59l7.78-7.78 2.81-2.81c.8-.78.8-2.07 0-2.86zM5.41 20L4 18.59l7.72-7.72 1.47 1.35L5.41 20z\"/>\n",
              "  </svg>\n",
              "      </button>\n",
              "      \n",
              "  <style>\n",
              "    .colab-df-container {\n",
              "      display:flex;\n",
              "      flex-wrap:wrap;\n",
              "      gap: 12px;\n",
              "    }\n",
              "\n",
              "    .colab-df-convert {\n",
              "      background-color: #E8F0FE;\n",
              "      border: none;\n",
              "      border-radius: 50%;\n",
              "      cursor: pointer;\n",
              "      display: none;\n",
              "      fill: #1967D2;\n",
              "      height: 32px;\n",
              "      padding: 0 0 0 0;\n",
              "      width: 32px;\n",
              "    }\n",
              "\n",
              "    .colab-df-convert:hover {\n",
              "      background-color: #E2EBFA;\n",
              "      box-shadow: 0px 1px 2px rgba(60, 64, 67, 0.3), 0px 1px 3px 1px rgba(60, 64, 67, 0.15);\n",
              "      fill: #174EA6;\n",
              "    }\n",
              "\n",
              "    [theme=dark] .colab-df-convert {\n",
              "      background-color: #3B4455;\n",
              "      fill: #D2E3FC;\n",
              "    }\n",
              "\n",
              "    [theme=dark] .colab-df-convert:hover {\n",
              "      background-color: #434B5C;\n",
              "      box-shadow: 0px 1px 3px 1px rgba(0, 0, 0, 0.15);\n",
              "      filter: drop-shadow(0px 1px 2px rgba(0, 0, 0, 0.3));\n",
              "      fill: #FFFFFF;\n",
              "    }\n",
              "  </style>\n",
              "\n",
              "      <script>\n",
              "        const buttonEl =\n",
              "          document.querySelector('#df-36a27dd3-1c4c-48aa-a528-fb1882bf2146 button.colab-df-convert');\n",
              "        buttonEl.style.display =\n",
              "          google.colab.kernel.accessAllowed ? 'block' : 'none';\n",
              "\n",
              "        async function convertToInteractive(key) {\n",
              "          const element = document.querySelector('#df-36a27dd3-1c4c-48aa-a528-fb1882bf2146');\n",
              "          const dataTable =\n",
              "            await google.colab.kernel.invokeFunction('convertToInteractive',\n",
              "                                                     [key], {});\n",
              "          if (!dataTable) return;\n",
              "\n",
              "          const docLinkHtml = 'Like what you see? Visit the ' +\n",
              "            '<a target=\"_blank\" href=https://colab.research.google.com/notebooks/data_table.ipynb>data table notebook</a>'\n",
              "            + ' to learn more about interactive tables.';\n",
              "          element.innerHTML = '';\n",
              "          dataTable['output_type'] = 'display_data';\n",
              "          await google.colab.output.renderOutput(dataTable, element);\n",
              "          const docLink = document.createElement('div');\n",
              "          docLink.innerHTML = docLinkHtml;\n",
              "          element.appendChild(docLink);\n",
              "        }\n",
              "      </script>\n",
              "    </div>\n",
              "  </div>\n",
              "  "
            ]
          },
          "metadata": {},
          "execution_count": 8
        }
      ]
    },
    {
      "cell_type": "code",
      "source": [
        "# 3.2 Examine relevant column:\n",
        "tx_data['text']\n"
      ],
      "metadata": {
        "id": "_WDt6aLNMQPw",
        "colab": {
          "base_uri": "https://localhost:8080/"
        },
        "outputId": "62b53338-085d-4f59-e7f5-560075b6046b"
      },
      "execution_count": null,
      "outputs": [
        {
          "output_type": "execute_result",
          "data": {
            "text/plain": [
              "0    In ordinary language, a crime is an unlawful a...\n",
              "Name: text, dtype: object"
            ]
          },
          "metadata": {},
          "execution_count": 9
        }
      ]
    },
    {
      "cell_type": "code",
      "source": [
        "# 3.3 Get complete text as a list of one string:\n",
        "\n",
        "text = list(tx_data['text'])\n",
        "text"
      ],
      "metadata": {
        "id": "M83260BQMh0I",
        "outputId": "6a6175ce-76e2-4067-c12e-0ee3f620dd14",
        "colab": {
          "base_uri": "https://localhost:8080/"
        }
      },
      "execution_count": null,
      "outputs": [
        {
          "output_type": "execute_result",
          "data": {
            "text/plain": [
              "['In ordinary language, a crime is an unlawful act punishable by a state or other authority.[1] The term crime does not, in modern criminal law, have any simple and universally accepted definition,[2] though statutory definitions have been provided for certain purposes.[3] The most popular view is that crime is a category created by law; in other words, something is a crime if declared as such by the relevant and applicable law.[2] One proposed definition is that a crime or offence (or criminal offence) is an act harmful not only to some individual but also to a community, society, or the state (\"a public wrong\"). Such acts are forbidden and punishable by law.[1][4] The notion that acts such as murder, rape, and theft are to be prohibited exists worldwide.[5] What precisely is a criminal offence is defined by the criminal law of each relevant jurisdiction. While many have a catalogue of crimes called the criminal code, in some common law nations no such comprehensive statute exists. The state (government) has the power to severely restrict one\\'s liberty for committing a crime. In modern societies, there are procedures to which investigations and trials must adhere. If found guilty, an offender may be sentenced to a form of reparation such as a community sentence, or, depending on the nature of their offence, to undergo imprisonment, life imprisonment or, in some jurisdictions, death. Some jurisdictions sentence individuals to programs to emphasize or provide for their rehabilitation while most jurisdictions sentence individuals with the goal of punishing them or a mix of the aforementioned practices.[citation needed] Usually, to be classified as a crime, the \"act of doing something criminal\" (actus reus) must\\xa0– with certain exceptions\\xa0– be accompanied by the \"intention to do something criminal\" (mens rea).[4] While every crime violates the law, not every violation of the law counts as a crime. Breaches of private law (torts and breaches of contract) are not automatically punished by the state, but can be enforced through civil procedure. When informal relationships prove insufficient to establish and maintain a desired social order, a government or a state may impose more formalized or stricter systems of social control. With institutional and legal machinery at their disposal, agents of the state can compel populations to conform to codes and can opt to punish or attempt to reform those who do not conform. Authorities employ various mechanisms to regulate (encouraging or discouraging) certain behaviors in general. Governing or administering agencies may for example codify rules into laws, police citizens and visitors to ensure that they comply with those laws, and implement other policies and practices that legislators or administrators have prescribed with the aim of discouraging or preventing crime. In addition, authorities provide remedies and sanctions, and collectively these constitute a criminal justice system. Legal sanctions vary widely in their severity; they may include (for example) incarceration of temporary character aimed at reforming the convict. Some jurisdictions have penal codes written to inflict permanent harsh punishments: legal mutilation, capital punishment, or life without parole. Usually, a natural person perpetrates a crime, but legal persons may also commit crimes. Historically, several premodern societies believed that non-human animals were capable of committing crimes, and prosecuted and punished them accordingly.[6] The sociologist Richard Quinney has written about the relationship between society and crime. When Quinney states \"crime is a social phenomenon\" he envisages both how individuals conceive crime and how populations perceive it, based on societal norms.[7] The word crime is derived from the Latin root cernō, meaning \"I decide, I give judgment\". Originally the Latin word crīmen meant \"charge\" or \"cry of distress\".[8] The Ancient Greek word κρίμα, krima, from which the Latin cognate derives, typically referred to an intellectual mistake or an offense against the community, rather than a private or moral wrong.[9] In 13th century English crime meant \"sinfulness\", according to the Online Etymology Dictionary. It was probably brought to England as Old French crimne (12th century form of Modern French crime), from Latin crimen (in the genitive case: criminis). In Latin, crimen could have signified any one of the following: \"charge, indictment, accusation; crime, fault, offense\". The word may derive from the Latin cernere – \"to decide, to sift\" (see crisis, mapped on Kairos and Chronos). But Ernest Klein (citing Karl Brugmann) rejects this and suggests *cri-men, which originally would have meant \"cry of distress\". Thomas G. Tucker suggests a root in \"cry\" words and refers to English plaint, plaintiff, and so on. The meaning \"offense punishable by law\" dates from the late 14th century. The Latin word is glossed in Old English by facen, also \"deceit, fraud, treachery\", [cf. fake]. Crime wave is first attested in 1893 in American English. Whether a given act or omission constitutes a crime does not depend on the nature of that act or omission; it depends on the nature of the legal consequences that may follow it.[10] An act or omission is a crime if it is capable of being followed by what are called criminal proceedings.[11][12] The following definition of crime was provided by the Prevention of Crimes Act 1871, and applied[13] for the purposes of section 10 of the Prevention of Crime Act 1908: The expression \"crime\" means, in England and Ireland, any felony or the offence of uttering false or counterfeit coin, or of possessing counterfeit gold or silver coin, or the offence of obtaining goods or money by false pretences, or the offence of conspiracy to defraud, or any misdemeanour under the fifty-eighth section of the Larceny Act, 1861.For the purpose of section 243 of the Trade Union and Labour Relations (Consolidation) Act 1992, a crime means an offence punishable on indictment, or an offence punishable on summary conviction, and for the commission of which the offender is liable under the statute making the offence punishable to be imprisoned either absolutely or at the discretion of the court as an alternative for some other punishment.[14] A normative definition views crime as deviant behavior that violates prevailing norms\\xa0– cultural standards prescribing how humans ought to behave normally. This approach considers the complex realities surrounding the concept of crime and seeks to understand how changing social, political, psychological, and economic conditions may affect changing definitions of crime and the form of the legal, law-enforcement, and penal responses made by society. These structural realities remain fluid and often contentious. For example: as cultures change and the political environment shifts, societies may criminalise or decriminalise certain behaviours, which directly affects the statistical crime rates, influence the allocation of resources for the enforcement of laws, and (re-)influence the general public opinion. Similarly, changes in the collection and/or calculation of data on crime may affect the public perceptions of the extent of any given \"crime problem\". All such adjustments to crime statistics, allied with the experience of people in their everyday lives, shape attitudes on the extent to which the state should use law or social engineering to enforce or encourage any particular social norm. Behaviour can be controlled and influenced by a society in many ways without having to resort to the criminal justice system. Indeed, in those cases where no clear consensus exists on a given norm, the drafting of criminal law by the group in power to prohibit the behaviour of another group may seem to some observers an improper limitation of the second group\\'s freedom, and the ordinary members of society have less respect for the law or laws in general\\xa0– whether the authorities actually enforce the disputed law or not. Legislatures can pass laws (called mala prohibita) that define crimes against social norms. These laws vary from time to time and from place to place: note variations in gambling laws, for example, and the prohibition or encouragement of duelling in history. Other crimes, called mala in se, count as outlawed in almost all societies, (murder, theft and rape, for example). English criminal law and the related criminal law of Commonwealth countries can define offences that the courts alone have developed over the years, without any actual legislation: common law offences. The courts used the concept of malum in se to develop various common law offences.[15] One can view criminalization as a procedure deployed by society as a preemptive harm-reduction device, using the threat of punishment as a deterrent to anyone proposing to engage in the behavior causing harm. The state becomes involved because governing entities can become convinced that the costs of not criminalizing (through allowing the harms to continue unabated) outweigh the costs of criminalizing it (restricting individual liberty, for example, to minimize harm to others).[citation needed] States control the process of criminalization because: The label of \"crime\" and the accompanying social stigma normally confine their scope to those activities seen as injurious to the general population or to the state, including some that cause serious loss or damage to individuals. Those who apply the labels of \"crime\" or \"criminal\" intend to assert the hegemony of a dominant population, or to reflect a consensus of condemnation for the identified behavior and to justify any punishments prescribed by the state (if standard processing tries and convicts an accused person of a crime). Justifying the state\\'s use of force to coerce compliance with its laws has proven a consistent theoretical problem. One of the earliest justifications involved the theory of natural law. This posits that the nature of the world or of human beings underlies the standards of morality or constructs them. Thomas Aquinas wrote in the 13th century: \"the rule and measure of human acts is the reason, which is the first principle of human acts\".[18] He regarded people as by nature rational beings, concluding that it becomes morally appropriate that they should behave in a way that conforms to their rational nature. Thus, to be valid, any law must conform to natural law and coercing people to conform to that law is morally acceptable. In the 1760s, William Blackstone described the thesis:[19] But John Austin (1790–1859), an early positivist, applied utilitarianism in accepting the calculating nature of human beings and the existence of an objective morality. He denied that the legal validity of a norm depends on whether its content conforms to morality. Thus in Austinian terms, a moral code can objectively determine what people ought to do, the law can embody whatever norms the legislature decrees to achieve social utility, but every individual remains free to choose what to do. Similarly, H.L.A. Hart saw the law as an aspect of sovereignty, with lawmakers able to adopt any law as a means to a moral end.[20] Thus the necessary and sufficient conditions for the truth of a proposition of law simply involved internal logic and consistency, and that the state\\'s agents used state power with responsibility. Ronald Dworkin rejects Hart\\'s theory and proposes that all individuals should expect the equal respect and concern of those who govern them as a fundamental political right. He offers a theory of compliance overlaid by a theory of deference (the citizen\\'s duty to obey the law) and a theory of enforcement, which identifies the legitimate goals of enforcement and punishment. Legislation must conform to a theory of legitimacy, which describes the circumstances under which a particular person or group is entitled to make law, and a theory of legislative justice, which describes the law they are entitled or obliged to make.[21] There are natural-law theorists who have accepted the idea of enforcing the prevailing morality as a primary function of the law.[22] This view entails the problem that it makes any moral criticism of the law impossible: if conformity with natural law forms a necessary condition for legal validity, all valid law must, by definition, count as morally just. Thus, on this line of reasoning, the legal validity of a norm necessarily entails its moral justice.[23] One can solve this problem by granting some degree of moral relativism and accepting that norms may evolve over time and, therefore, one can criticize the continued enforcement of old laws in the light of the current norms. People may find such law acceptable, but the use of state power to coerce citizens to comply with that law lacks moral justification. More recent conceptions of the theory characterise crime as the violation of individual rights. Since society considers so many rights as natural (hence the term right) rather than man-made, what constitutes a crime also counts as natural, in contrast to laws (seen as man-made). Adam Smith illustrates this view, saying that a smuggler would be an excellent citizen, \"...had not the laws of his country made that a crime which nature never meant to be so.\" Natural-law theory therefore distinguishes between \"criminality\" (which derives from human nature) and \"illegality\" (which originates with the interests of those in power). Lawyers sometimes express the two concepts with the phrases malum in se and malum prohibitum respectively. They regard a \"crime malum in se\" as inherently criminal; whereas a \"crime malum prohibitum\" (the argument goes) counts as criminal only because the law has decreed it so. It follows from this view that one can perform an illegal act without committing a crime, while a criminal act could be perfectly legal. Many Enlightenment thinkers (such as Adam Smith and the American Founding Fathers) subscribed to this view to some extent, and it remains influential among so-called classical liberals[citation needed] and libertarians.[citation needed] Some religious communities regard sin as a crime; some may even highlight the crime of sin very early in legendary or mythological accounts of origins\\xa0– note the tale of Adam and Eve and the theory of original sin. What one group considers a crime may cause or ignite war or conflict. However, the earliest known civilizations had codes of law, containing both civil and penal rules mixed together, though not always in recorded form. The Sumerians produced the earliest surviving written codes.[24] Urukagina (reigned c.\\u20092380 BC\\xa0– c.\\u20092360 BC, short chronology) had an early code that has not survived; a later king, Ur-Nammu, left the earliest extant written law system, the Code of Ur-Nammu (c.\\u20092100\\xa0– c.\\u20092050 BC), which prescribed a formal system of penalties for specific cases in 57 articles. The Sumerians later issued other codes, including the \"code of Lipit-Ishtar\". This code, from the 20th century BCE, contains some fifty articles, and scholars have reconstructed it by comparing several sources. The Sumerian was deeply conscious of his personal rights and resented any encroachment on them, whether by his King, his superior, or his equal. No wonder that the Sumerians were the first to compile laws and law codes.Successive legal codes in Babylon, including the code of Hammurabi (c.\\u20091790 BC), reflected Mesopotamian society\\'s belief that law derived from the will of the gods (see Babylonian law).[26][27] Many states at this time functioned as theocracies, with codes of conduct largely religious in origin or reference. In the Sanskrit texts of Dharmaśāstra (c.\\u20091250 BC), issues such as legal and religious duties, code of conduct, penalties and remedies, etc. have been discussed and forms one of the elaborate and earliest source of legal code.[28][29] Sir Henry Maine studied the ancient codes available in his day, and failed to find any criminal law in the \"modern\" sense of the word.[30] While modern systems distinguish between offences against the \"state\" or \"community\", and offences against the \"individual\", the so-called penal law of ancient communities did not deal with \"crimes\" (Latin: crimina), but with \"wrongs\" (Latin: delicta). Thus the Hellenic laws treated all forms of theft, assault, rape, and murder as private wrongs, and left action for enforcement up to the victims or their survivors. The earliest systems seem to have lacked formal courts.[31][32] The Romans systematized law and applied their system across the Roman Empire. Again, the initial rules of Roman law regarded assaults as a matter of private compensation. The most significant Roman law concept involved dominion.[33] The pater familias owned all the family and its property (including slaves); the pater enforced matters involving interference with any property. The Commentaries of Gaius (written between 130 and 180 AD) on the Twelve Tables treated furtum (in modern parlance: \"theft\") as a tort. Similarly, assault and violent robbery involved trespass as to the pater\\'s property (so, for example, the rape of a slave could become the subject of compensation to the pater as having trespassed on his \"property\"), and breach of such laws created a vinculum juris (an obligation of law) that only the payment of monetary compensation (modern \"damages\") could discharge. Similarly, the consolidated Teutonic laws of the Germanic tribes,[34] included a complex system of monetary compensations for what courts would now[update] consider the complete[citation needed] range of criminal offences against the person, from murder down. Even though Rome abandoned its Britannic provinces around 400 AD, the Germanic mercenaries\\xa0– who had largely become instrumental in enforcing Roman rule in Britannia\\xa0– acquired ownership of land there and continued to use a mixture of Roman and Teutonic Law, with much written down under the early Anglo-Saxon kings.[35] But only when a more centralized English monarchy emerged following the Norman invasion, and when the kings of England attempted to assert power over the land and its peoples, did the modern concept emerge, namely of a crime not only as an offence against the \"individual\", but also as a wrong against the \"state\".[36] This idea came from common law, and the earliest conception of a criminal act involved events of such major significance that the \"state\" had to usurp the usual functions of the civil tribunals, and direct a special law or privilegium against the perpetrator. All the earliest English criminal trials involved wholly extraordinary and arbitrary courts without any settled law to apply, whereas the civil (delictual) law operated in a highly developed and consistent manner (except where a king wanted to raise money by selling a new form of writ). The development of the idea that the \"state\" dispenses justice in a court only emerges in parallel with or after the emergence of the concept of sovereignty. In continental Europe, Roman law persisted, but with a stronger influence from the Christian Church.[37] Coupled with the more diffuse political structure based on smaller feudal units, various legal traditions emerged, remaining more strongly rooted in Roman jurisprudence, but modified to meet the prevailing political climate. In Scandinavia the effect of Roman law did not become apparent until the 17th century, and the courts grew out of the things\\xa0– the assemblies of the people. The people decided the cases (usually with largest freeholders dominating). This system later gradually developed into a system with a royal judge nominating a number of the most esteemed men of the parish as his board, fulfilling the function of \"the people\" of yore. From the Hellenic system onwards, the policy rationale for requiring the payment of monetary compensation for wrongs committed has involved the avoidance of feuding between clans and families.[38] If compensation could mollify families\\' feelings, this would help to keep the peace. On the other hand, the institution of oaths also played down the threat of feudal warfare. Both in archaic Greece and in medieval Scandinavia, an accused person walked free if he could get a sufficient number of male relatives to swear him not guilty. (Compare the United Nations Security Council, in which the veto power of the permanent members ensures that the organization does not become involved in crises where it could not enforce its decisions.) These means of restraining private feuds did not always work, and sometimes prevented the fulfillment of justice. But in the earliest times the \"state\" did not always provide an independent policing force. Thus criminal law grew out of what 21st-century lawyers would call torts; and, in real terms, many acts and omissions classified as crimes actually overlap with civil-law concepts. The development of sociological thought from the 19th century onwards prompted some fresh views on crime and criminality, and fostered the beginnings of criminology as a study of crime in society. Nietzsche noted a link between crime and creativity\\xa0– in The Birth of Tragedy he asserted:[needs context] \"The best and brightest that man can acquire he must obtain by crime\". In the 20th century, Michel Foucault in Discipline and Punish made a study of criminalization as a coercive method of state control. The following classes of offences are used, or have been used, as legal terms: Researchers and commentators have classified crimes into the following categories, in addition to those above: One can categorise crimes depending on the related punishment, with sentencing tariffs prescribed in line with the perceived seriousness of the offence. Thus fines and noncustodial sentences may address the crimes seen as least serious, with lengthy imprisonment or (in some jurisdictions) capital punishment reserved for the most serious. Under the common law of England, crimes were classified as either treason, felony or misdemeanour, with treason sometimes being included with the felonies. This system was based on the perceived seriousness of the offence. It is still used in the United States but the distinction between felony and misdemeanour is abolished in England, Wales and Northern Ireland. The following classes of offence are based on mode of trial: In common law countries, crimes may be categorised into common law offences and statutory offences. In the US, Australia and Canada (in particular), they are divided into federal crimes and under state crimes. In the United States since 1930, the FBI has tabulated Uniform Crime Reports (UCR) annually from crime data submitted by law enforcement agencies across the United States.[54] Officials compile this data at the city, county, and state levels into the UCR. They classify violations of laws based on common law as Part I (index) crimes in UCR data. These are further categorized as violent or property crimes. Part I violent crimes include murder and criminal homicide (voluntary manslaughter), forcible rape, aggravated assault, and robbery; while Part I property crimes include burglary, arson, larceny/theft, and motor-vehicle theft. All other crimes count come under Part II. For convenience, such lists usually include infractions although, in the U.S., they may come into the sphere not of the criminal law, but rather of the civil law. Compare tortfeasance. Booking arrests require detention for a time-frame ranging 1 to 24 hours. There are several national and International organizations offering studies and statistics about global and local crime activity, such as United Nations Office on Drugs and Crime, the United States of America Overseas Security Advisory Council (OSAC) safety report or national reports generated by the law-enforcement authorities of EU state member reported to the Europol. In England and Wales, as well as in Hong Kong, the term \"offence\" means the same thing as \"crime\",[11] They are further split into: Many different causes and correlates of crime have been proposed with varying degree of empirical support. They include socioeconomic, psychological, biological, and behavioral factors. Controversial topics include media violence research and effects of gun politics. Emotional state (both chronic and current) have a tremendous impact on individual thought processes and, as a result, can be linked to criminal activities. The positive psychology concept of Broaden and Build posits that cognitive functioning expands when an individual is in a good-feeling emotional state and contracts as emotional state declines.[55] In positive emotional states an individual is able to consider more possible solutions to problems, but in lower emotional states fewer solutions can be ascertained. The narrowed thought-action repertoires can result in the only paths perceptible to an individual being ones they would never use if they saw an alternative, but if they can\\'t conceive of the alternatives that carry less risk they will choose one that they can see. Criminals who commit even the most horrendous of crimes, such as mass murders, did not see another solution.[56] Crimes defined by treaty as crimes against international law include: From the point of view of state-centric law, extraordinary procedures (international courts or national courts operating with universal jurisdiction) may prosecute such crimes. Note the role of the International Criminal Court at The Hague in the Netherlands.[citation needed] Different religious traditions may promote distinct norms of behaviour, and these in turn may clash or harmonise with the perceived interests of a state. Socially accepted or imposed religious morality has influenced secular jurisdictions on issues that may otherwise concern only an individual\\'s conscience. Activities sometimes criminalized on religious grounds include (for example) alcohol consumption (prohibition), abortion and stem-cell research. In various historical and present-day societies, institutionalized religions have established systems of earthly justice that punish crimes against the divine will and against specific devotional, organizational and other rules under specific codes, such as Roman Catholic canon law and Islamic Shariah Law. In the military sphere, authorities can prosecute both regular crimes and specific acts (such as mutiny or desertion) under martial-law codes that either supplant or extend civil codes in times of (for example) war. Many constitutions contain provisions to curtail freedoms and criminalize otherwise tolerated behaviors under a state of emergency in case of war, natural disaster or civil unrest. Undesired activities at such times may include assembly in the streets, violation of curfew, or possession of firearms. Two common types of employee crime exist: embezzlement and wage theft. The complexity and anonymity of computer systems may help criminal employees camouflage their operations. The victims of the most costly scams include banks, brokerage houses, insurance companies, and other large financial institutions.[57] In the United States, it is estimated[by whom?] that $40 billion to $60 billion are lost annually due to all forms of wage theft.[58] This compares to national annual losses of $340 million due to robbery, $4.1 billion due to burglary, $5.3 billion due to larceny, and $3.8 billion due to auto theft in 2012.[59] In Singapore, as in the United States, wage theft was found to be widespread and severe. In a 2014 survey it was found that as many as one-third of low wage male foreign workers in Singapore, or about 130,000, were affected by wage theft from partial to full denial of pay.[60] Football is a family of team sports that involve, to varying degrees, kicking a ball to score a goal.  Unqualified, the word football normally means the form of football that is the most popular where the word is used. Sports commonly called football include association football (known as soccer in North America and Oceania); gridiron football (specifically American football or Canadian football); Australian rules football; rugby union and rugby league; and Gaelic football.[1] These various forms of football share to varying extent common origins and are known as football codes. There are a number of references to traditional, ancient, or prehistoric ball games played in many different parts of the world.[2][3][4] Contemporary codes of football can be traced back to the codification of these games at English public schools during the 19th century.[5][6] The expansion and cultural influence of the British Empire allowed these rules of football to spread to areas of British influence outside the directly controlled Empire.[7]  By the end of the 19th century, distinct regional codes were already developing: Gaelic football, for example, deliberately incorporated the rules of local traditional football games in order to maintain their heritage.[8]  In 1888, The Football League was founded in England, becoming the first of many professional football associations. During the 20th century, several of the various kinds of football grew to become some of the most popular team sports in the world.[9] The various codes of football share certain common elements and can be grouped into two main classes of football: carrying codes like American football, Canadian football, Australian football, rugby union and rugby league, where the ball is moved about the field while being held in the hands or thrown, and kicking codes such as Association football and Gaelic football, where the ball is moved primarily with the feet, and where handling is strictly limited.[10] Common rules among the sports include:[11] In all codes, common skills include passing, tackling, evasion of tackles, catching and kicking.[10] In most codes, there are rules restricting the movement of players offside, and players scoring a goal must put the ball either under or over a crossbar between the goalposts. There are conflicting explanations of the origin of the word \"football\".  It is widely assumed that the word \"football\" (or the phrase \"foot ball\") refers to the action of the foot kicking a ball.[12]  There is an alternative explanation, which is that football originally referred to a variety of games in medieval Europe, which were played on foot. There is no conclusive evidence for either explanation. The Chinese competitive game cuju (蹴鞠) resembles modern association football (soccer),[13] descriptions appear in a military manual dated to the second and third centuries BC.[14]  It existed during the Han dynasty and possibly the Qin dynasty, in the second and third centuries BC.[15]  The Japanese version of cuju is kemari (蹴鞠), and was developed during the Asuka period.[16] This is known to have been played within the Japanese imperial court in Kyoto from about 600\\xa0AD. In kemari several people stand in a circle and kick a ball to each other, trying not to let the ball drop to the ground (much like keepie uppie). The Ancient Greeks and Romans are known to have played many ball games, some of which involved the use of the feet. The Roman game harpastum is believed to have been adapted from a Greek team game known as \"ἐπίσκυρος\" (Episkyros)[17][18] or \"φαινίνδα\" (phaininda),[19] which is mentioned by a Greek playwright, Antiphanes (388–311\\xa0BC) and later referred to by the Christian theologian Clement of Alexandria (c. 150 – c. 215\\xa0AD). These games appear to have resembled rugby football.[20][21][22][23][24] The Roman politician Cicero (106–43\\xa0BC) describes the case of a man who was killed whilst having a shave when a ball was kicked into a barber\\'s shop. Roman ball games already knew the air-filled ball, the follis.[25][26] Episkyros is recognised as an early form of football by FIFA.[27] There are a number of references to traditional, ancient, or prehistoric ball games, played by indigenous peoples in many different parts of the world. For example, in 1586, men from a ship commanded by an English explorer named John Davis, went ashore to play a form of football with Inuit in Greenland.[28] There are later accounts of an Inuit game played on ice, called Aqsaqtuk. Each match began with two teams facing each other in parallel lines, before attempting to kick the ball through each other team\\'s line and then at a goal. In 1610, William Strachey, a colonist at Jamestown, Virginia recorded a game played by Native Americans, called Pahsaheman.[citation needed] Pasuckuakohowog, a game similar to modern-day association football played amongst Amerindians, was also reported as early as the 17th century. Games played in Mesoamerica with rubber balls by indigenous peoples are also well-documented as existing since before this time, but these had more similarities to basketball or volleyball, and no links have been found between such games and modern football sports. Northeastern American Indians, especially the Iroquois Confederation, played a game which made use of net racquets to throw and catch a small ball; however, although it is a ball-goal foot game, lacrosse (as its modern descendant is called) is likewise not usually classed as a form of \"football.\"[citation needed] On the Australian continent several tribes of indigenous people played kicking and catching games with stuffed balls which have been generalised by historians as Marn Grook (Djab Wurrung for \"game ball\"). The earliest historical account is an anecdote from the 1878 book by Robert Brough-Smyth, The Aborigines of Victoria, in which a man called Richard Thomas is quoted as saying, in about 1841 in Victoria, Australia, that he had witnessed Aboriginal people playing the game: \"Mr Thomas describes how the foremost player will drop kick a ball made from the skin of a possum and how other players leap into the air in order to catch it.\" Some historians have theorised that Marn Grook was one of the origins of Australian rules football. The Māori in New Zealand played a game called Ki-o-rahi consisting of teams of seven players play on a circular field divided into zones, and score points by touching the \\'pou\\' (boundary markers) and hitting a central \\'tupu\\' or target.[citation needed] These games and others may well go far back into antiquity. However, the main sources of modern football codes appear to lie in western Europe, especially England. Mahmud al-Kashgari in his Dīwān Lughāt al-Turk, described a game called \"tepuk\" among Turks in Central Asia. In the game, people try to attack each other\\'s castle by kicking a ball made of sheep leather.[29] Ancient Greek athlete balancing a ball on his thigh, Piraeus, 400-375 BC A Song dynasty painting by Su Hanchen (c. 1130-1160), depicting Chinese children playing cuju Paint of a Mesoamerican ballgame player of the Tepantitla murals in Teotihuacan A group of indigenous people playing a ball game in French Guiana An illustration from the 1850s of indigenous Australians playing marn grook A revived version of kemari being played at the Tanzan Shrine, Japan, 2006 The Middle Ages saw a huge rise in popularity of annual Shrovetide football matches throughout Europe, particularly in England. An early reference to a ball game played in Britain comes from the 9th-century Historia Brittonum, attributed to Nennius, which describes \"a party of boys ... playing at ball\".[30] References to a ball game played in northern France known as La Soule or Choule, in which the ball was propelled by hands, feet, and sticks,[31] date from the 12th century.[32] The early forms of football played in England, sometimes referred to as \"mob football\", would be played in towns or between neighbouring villages, involving an unlimited number of players on opposing teams who would clash en masse,[33] struggling to move an item, such as inflated animal\\'s bladder[34] to particular geographical points, such as their opponents\\' church, with play taking place in the open space between neighbouring parishes.[35] The game was played primarily during significant religious festivals, such as Shrovetide, Christmas, or Easter,[34] and Shrovetide games have survived into the modern era in a number of English towns (see below). The first detailed description of what was almost certainly football in England was given by William FitzStephen in about 1174–1183. He described the activities of London youths during the annual festival of Shrove Tuesday: After lunch all the youth of the city go out into the fields to take part in a ball game. The students of each school have their own ball; the workers from each city craft are also carrying their balls. Older citizens, fathers, and wealthy citizens come on horseback to watch their juniors competing, and to relive their own youth vicariously: you can see their inner passions aroused as they watch the action and get caught up in the fun being had by the carefree adolescents.[36]Most of the very early references to the game speak simply of \"ball play\" or \"playing at ball\". This reinforces the idea that the games played at the time did not necessarily involve a ball being kicked. An early reference to a ball game that was probably football comes from 1280 at Ulgham, Northumberland, England:  \"Henry... while playing at ball.. ran against David\".[37]  Football was played in Ireland in 1308, with a documented reference to John McCrocan, a spectator at a \"football game\" at Newcastle, County Down being charged with accidentally stabbing a player named William Bernard.[38]  Another reference to a football game comes in 1321 at Shouldham, Norfolk, England: \"[d]uring the game at ball as he kicked the ball, a lay friend of his... ran against him and wounded himself\".[37] In 1314, Nicholas de Farndone, Lord Mayor of the City of London issued a decree banning football in the French used by the English upper classes at the time. A translation reads: \"[f]orasmuch as there is great noise in the city caused by hustling over large foot balls [rageries de grosses pelotes de pee][39] in the fields of the public from which many evils might arise which God forbid: we command and forbid on behalf of the king, on pain of imprisonment, such game to be used in the city in the future.\" This is the earliest reference to football. In 1363, King Edward III of England issued a proclamation banning \"...handball, football, or hockey; coursing and cock-fighting, or other such idle games\",[40] showing that \"football\" – whatever its exact form in this case – was being differentiated from games involving other parts of the body, such as handball. A game known as \"football\" was played in Scotland as early as the 15th century: it was prohibited by the Football Act 1424 and although the law fell into disuse it was not repealed until 1906. There is evidence for schoolboys playing a \"football\" ball game in Aberdeen in 1633 (some references cite 1636) which is notable as an early allusion to what some have considered to be passing the ball. The word \"pass\" in the most recent translation is derived from \"huc percute\" (strike it here) and later \"repercute pilam\" (strike the ball again) in the original Latin. It is not certain that the ball was being struck between members of the same team. The original word translated as \"goal\" is \"metum\", literally meaning the \"pillar at each end of the circus course\" in a Roman chariot race. There is a reference to \"get hold of the ball before [another player] does\" (Praeripe illi pilam si possis agere) suggesting that handling of the ball was allowed. One sentence states in the original 1930 translation \"Throw yourself against him\" (Age, objice te illi). King Henry IV of England also presented one of the earliest documented uses of the English word \"football\", in 1409, when he issued a proclamation forbidding the levying of money for \"foteball\".[37][41] There is also an account in Latin from the end of the 15th century of football being played at Caunton, Nottinghamshire. This is the first description of a \"kicking game\" and the first description of dribbling: \"[t]he game at which they had met for common recreation is called by some the foot-ball game. It is one in which young men, in country sport, propel a huge ball not by throwing it into the air but by striking it and rolling it along the ground, and that not with their hands but with their feet... kicking in opposite directions.\" The chronicler gives the earliest reference to a football pitch, stating that: \"[t]he boundaries have been marked and the game had started.[37] Other firsts in the medieval and early modern eras: In the 16th century, the city of Florence celebrated the period between Epiphany and Lent by playing a game which today is known as \"calcio storico\" (\"historic kickball\") in the Piazza Santa Croce.[45] The young aristocrats of the city would dress up in fine silk costumes and embroil themselves in a violent form of football. For example, calcio players could punch, shoulder charge, and kick opponents. Blows below the belt were allowed. The game is said to have originated as a military training exercise. In 1580, Count Giovanni de\\' Bardi di Vernio wrote Discorso sopra \\'l giuoco del Calcio Fiorentino. This is sometimes said to be the earliest code of rules for any football game. The game was not played after January 1739 (until it was revived in May 1930). There have been many attempts to ban football, from the middle ages through to the modern day. The first such law was passed in England in 1314; it was followed by more than 30 in England alone between 1314 and 1667.[46]:\\u200a6\\u200a Women were banned from playing at English and Scottish Football League grounds in 1921, a ban that was only lifted in the 1970s. Female footballers still face similar problems in some parts of the world. American football also faced pressures to ban the sport.  The game played in the 19th century resembled mob football that developed in medieval Europe, including a version popular on university campuses known as Old division football, and several municipalities banned its play in the mid-19th century.[47][48] By the 20th century, the game had evolved to a more rugby style game.  In 1905, there were calls to ban American football in the U.S. due to its violence; a meeting that year was hosted by American president Theodore Roosevelt led to sweeping rules changes that caused the sport to diverge significantly from its rugby roots to become more like the sport as it is played today.[49] While football continued to be played in various forms throughout Britain, its public schools (equivalent to private schools in other countries) are widely credited with four key achievements in the creation of modern football codes. First of all, the evidence suggests that they were important in taking football away from its \"mob\" form and turning it into an organised team sport. Second, many early descriptions of football and references to it were recorded by people who had studied at these schools. Third, it was teachers, students, and former students from these schools who first codified football games, to enable matches to be played between schools. Finally, it was at English public schools that the division between \"kicking\" and \"running\" (or \"carrying\") games first became clear. The earliest evidence that games resembling football were being played at English public schools – mainly attended by boys from the upper, upper-middle and professional classes – comes from the Vulgaria by William Herman in 1519. Herman had been headmaster at Eton and Winchester colleges and his Latin textbook includes a translation exercise with the phrase \"We wyll playe with a ball full of wynde\".[50] Richard Mulcaster, a student at Eton College in the early 16th century and later headmaster at other English schools, has been described as \"the greatest sixteenth Century advocate of football\".[51] Among his contributions are the earliest evidence of organised team football. Mulcaster\\'s writings refer to teams (\"sides\" and \"parties\"), positions (\"standings\"), a referee (\"judge over the parties\") and a coach \"(trayning maister)\". Mulcaster\\'s \"footeball\" had evolved from the disordered and violent forms of traditional football: [s]ome smaller number with such overlooking, sorted into sides and standings, not meeting with their bodies so boisterously to trie their strength: nor shouldring or shuffing one an other so barbarously ... may use footeball for as much good to the body, by the chiefe use of the legges.[52]In 1633, David Wedderburn, a teacher from Aberdeen, mentioned elements of modern football games in a short Latin textbook called Vocabula. Wedderburn refers to what has been translated into modern English as \"keeping goal\" and makes an allusion to passing the ball (\"strike it here\"). There is a reference to \"get hold of the ball\", suggesting that some handling was allowed. It is clear that the tackles allowed included the charging and holding of opposing players (\"drive that man back\").[53] A more detailed description of football is given in Francis Willughby\\'s Book of Games, written in about 1660.[54] Willughby, who had studied at Bishop Vesey\\'s Grammar School, Sutton Coldfield, is the first to describe goals and a distinct playing field: \"a close that has a gate at either end. The gates are called Goals.\" His book includes a diagram illustrating a football field. He also mentions tactics (\"leaving some of their best players to guard the goal\"); scoring (\"they that can strike the ball through their opponents\\' goal first win\") and the way teams were selected (\"the players being equally divided according to their strength and nimbleness\"). He is the first to describe a \"law\" of football: \"they must not strike [an opponent\\'s leg] higher than the ball\".[55][56] English public schools were the first to codify football games. In particular, they devised the first offside rules, during the late 18th century.[57] In the earliest manifestations of these rules, players were \"off their side\" if they simply stood between the ball and the goal which was their objective. Players were not allowed to pass the ball forward, either by foot or by hand. They could only dribble with their feet, or advance the ball in a scrum or similar formation. However, offside laws began to diverge and develop differently at each school, as is shown by the rules of football from Winchester, Rugby, Harrow and Cheltenham, during between 1810 and 1850.[57] The first known codes – in the sense of a set of rules – were those of Eton in 1815[58] and Aldenham in 1825.[58]) During the early 19th century, most working-class people in Britain had to work six days a week, often for over twelve hours a day. They had neither the time nor the inclination to engage in sport for recreation and, at the time, many children were part of the labour force. Feast day football played on the streets was in decline. Public school boys, who enjoyed some freedom from work, became the inventors of organised football games with formal codes of rules. Football was adopted by a number of public schools as a way of encouraging competitiveness and keeping youths fit. Each school drafted its own rules, which varied widely between different schools and were changed over time with each new intake of pupils. Two schools of thought developed regarding rules. Some schools favoured a game in which the ball could be carried (as at Rugby, Marlborough and Cheltenham), while others preferred a game where kicking and dribbling the ball was promoted (as at Eton, Harrow, Westminster and Charterhouse). The division into these two camps was partly the result of circumstances in which the games were played. For example, Charterhouse and Westminster at the time had restricted playing areas; the boys were confined to playing their ball game within the school cloisters, making it difficult for them to adopt rough and tumble running games.[citation needed] William Webb Ellis, a pupil at Rugby School, is said to have \"with a fine disregard for the rules of football, as played in his time [emphasis added], first took the ball in his arms and ran with it, thus creating the distinctive feature of the rugby game.\" in 1823. This act is usually said to be the beginning of Rugby football, but there is little evidence that it occurred, and most sports historians believe the story to be apocryphal. The act of \\'taking the ball in his arms\\' is often misinterpreted as \\'picking the ball up\\' as it is widely believed that Webb Ellis\\' \\'crime\\' was handling the ball, as in modern association football, however handling the ball at the time was often permitted and in some cases compulsory,[59] the rule for which Webb Ellis showed disregard was running forward with it as the rules of his time only allowed a player to retreat backwards or kick forwards. The boom in rail transport in Britain during the 1840s meant that people were able to travel further and with less inconvenience than they ever had before. Inter-school sporting competitions became possible. However, it was difficult for schools to play each other at football, as each school played by its own rules. The solution to this problem was usually that the match be divided into two halves, one half played by the rules of the host \"home\" school, and the other half by the visiting \"away\" school. The modern rules of many football codes were formulated during the mid- or late- 19th century. This also applies to other sports such as lawn bowls, lawn tennis, etc. The major impetus for this was the patenting of the world\\'s first lawnmower in 1830. This allowed for the preparation of modern ovals, playing fields, pitches, grass courts, etc.[60] Apart from Rugby football, the public school codes have barely been played beyond the confines of each school\\'s playing fields. However, many of them are still played at the schools which created them (see Surviving UK school games below). Public schools\\' dominance of sports in the UK began to wane after the Factory Act of 1850, which significantly increased the recreation time available to working class children. Before 1850, many British children had to work six days a week, for more than twelve hours a day. From 1850, they could not work before 6\\xa0a.m. (7\\xa0a.m. in winter) or after 6\\xa0p.m. on weekdays (7\\xa0p.m. in winter); on Saturdays they had to cease work at 2\\xa0p.m. These changes meant that working class children had more time for games, including various forms of football. The earliest known matches between public schools are as follows: Sports clubs dedicated to playing football began in the 18th century, for example London\\'s Gymnastic Society which was founded in the mid-18th century and ceased playing matches in 1796.[64][62] The first documented club to bear in the title a reference to being a \\'football club\\' were called \"The Foot-Ball Club\" who were located in Edinburgh, Scotland, during the period 1824–41.[65][66]  The club forbade tripping but allowed pushing and holding and the picking up of the ball.[66] In 1845, three boys at Rugby school were tasked with codifying the rules then being used at the school. These were the first set of written rules (or code) for any form of football.[67] This further assisted the spread of the Rugby game. The earliest known matches involving non-public school clubs or institutions are as follows: One of the longest running football fixture is the Cordner-Eggleston Cup, contested between Melbourne Grammar School and Scotch College, Melbourne every year since 1858. It is believed by many to also be the first match of Australian rules football, although it was played under experimental rules in its first year. The first football trophy tournament was the Caledonian Challenge Cup, donated by the Royal Caledonian Society of Melbourne, played in 1861 under the Melbourne Rules.[79]  The oldest football league is a rugby football competition, the United Hospitals Challenge Cup (1874), while the oldest rugby trophy is the Yorkshire Cup, contested since 1878. The South Australian Football Association (30 April 1877) is the oldest surviving Australian rules football competition. The oldest surviving soccer trophy is the Youdan Cup (1867) and the oldest national football competition is the English FA Cup (1871). The Football League (1888) is recognised as the longest running Association Football league. The first ever international football match took place between sides representing England and Scotland on 5 March 1870 at the Oval under the authority of the FA. The first Rugby international took place in 1871. In Europe, early footballs were made out of animal bladders, more specifically pig\\'s bladders, which were inflated. Later leather coverings were introduced to allow the balls to keep their shape.[80] However, in 1851, Richard Lindon and William Gilbert, both shoemakers from the town of Rugby (near the school), exhibited both round and oval-shaped balls at the Great Exhibition in London. Richard Lindon\\'s wife is said to have died of lung disease caused by blowing up pig\\'s bladders.[81] Lindon also won medals for the invention of the \"Rubber inflatable Bladder\" and the \"Brass Hand Pump\". In 1855, the U.S. inventor Charles Goodyear – who had patented vulcanised rubber – exhibited a spherical football, with an exterior of vulcanised rubber panels, at the Paris Exhibition Universelle. The ball was to prove popular in early forms of football in the U.S.[82] The iconic ball with a regular pattern of hexagons and pentagons (see truncated icosahedron) did not become popular until the 1960s, and was first used in the World Cup in 1970. The earliest reference to a game of football involving players passing the ball and attempting to score past a goalkeeper was written in 1633 by David Wedderburn, a poet and teacher in Aberdeen, Scotland.[83]  Nevertheless, the original text does not state whether the allusion to passing as \\'kick the ball back\\' (\\'Repercute pilam\\') was in a forward or backward direction or between members of the same opposing teams (as was usual at this time)[84] \"Scientific\" football is first recorded in 1839 from Lancashire[85] and in the modern game in Rugby football from 1862[86] and from Sheffield FC as early as 1865.[87][88]  The first side to play a passing combination game was the Royal Engineers AFC in 1869/70[89][90] By 1869 they were \"work[ing] well together\", \"backing up\" and benefiting from \"cooperation\".[91] By 1870 the Engineers were passing the ball: \"Lieut. Creswell, who having brought the ball up the side then kicked it into the middle to another of his side, who kicked it through the posts the minute before time was called\".[92] Passing was a regular feature of their style.[93] By early 1872 the Engineers were the first football team renowned for \"play[ing] beautifully together\".[94] A double pass is first reported from Derby school against Nottingham Forest in March 1872, the first of which is irrefutably a short pass: \"Mr Absey dribbling the ball half the length of the field delivered it to Wallis, who kicking it cleverly in front of the goal, sent it to the captain who drove it at once between the Nottingham posts\".[95] The first side to have perfected the modern formation was Cambridge University AFC[96][97][98] and introduced the 2–3–5 \"pyramid\" formation.[99][100] Rugby football was thought to have been started about 1845 at Rugby School in Rugby, Warwickshire, England although forms of football in which the ball was carried and tossed date to medieval times. In Britain, by 1870, there were 49 clubs playing variations of the Rugby school game.[101] There were also \"rugby\" clubs in Ireland, Australia, Canada and New Zealand. However, there was no generally accepted set of rules for rugby until 1871, when 21 clubs from London came together to form the Rugby Football Union (RFU). The first official RFU rules were adopted in June 1871.[102] These rules allowed passing the ball. They also included the try, where touching the ball over the line allowed an attempt at goal, though drop-goals from marks and general play, and penalty conversions were still the main form of contest. Regardless of any form of football, the first international match between the national team of England and Scotland took place at Raeburn Place on 27 March 1871. Rugby football split into Rugby union, Rugby league, American football, and Canadian football. Tom Wills played Rugby football in England before founding Australian rules football. During the nineteenth century, several codifications of the rules of football were made at the University of Cambridge, in order to enable students from different public schools to play each other.  The Cambridge Rules of 1863 influenced the decision of Football Association to ban Rugby-style carrying of the ball in its own first set of laws.[103] By the late 1850s, many football clubs had been formed throughout the English-speaking world, to play various codes of football. Sheffield Football Club, founded in 1857 in the English city of Sheffield by Nathaniel Creswick and William Prest, was later recognised as the world\\'s oldest club playing association football.[104] However, the club initially played its own code of football: the Sheffield rules. The code was largely independent of the public school rules, the most significant difference being the lack of an offside rule. The code was responsible for many innovations that later spread to association football. These included free kicks, corner kicks, handball, throw-ins and the crossbar.[105] By the 1870s they became the dominant code in the north and midlands of England. At this time a series of rule changes by both the London and Sheffield FAs gradually eroded the differences between the two games until the adoption of a common code in 1877. There is archival evidence of \"foot-ball\" games being played in various parts of Australia throughout the first half of the 19th century. The origins of an organised game of football known today as Australian rules football can be traced back to 1858 in Melbourne, the capital city of Victoria. In July 1858, Tom Wills, an Australian-born cricketer educated at Rugby School in England, wrote a letter to Bell\\'s Life in Victoria & Sporting Chronicle, calling for a \"foot-ball club\" with a \"code of laws\" to keep cricketers fit during winter.[106] This is considered by historians to be a defining moment in the creation of Australian rules football. Through publicity and personal contacts Wills was able to co-ordinate football matches in Melbourne that experimented with various rules,[107] the first of which was played on 31 July 1858. One week later, Wills umpired a schoolboys match between Melbourne Grammar School and Scotch College. Following these matches, organised football in Melbourne rapidly increased in popularity. Wills and others involved in these early matches formed the Melbourne Football Club (the oldest surviving Australian football club) on 14 May 1859. Club members Wills, William Hammersley, J. B. Thompson and Thomas H. Smith met with the intention of forming a set of rules that would be widely adopted by other clubs. The committee debated rules used in English public school games; Wills pushed for various rugby football rules he learnt during his schooling. The first rules share similarities with these games, and were shaped to suit to Australian conditions. H. C. A. Harrison, a seminal figure in Australian football, recalled that his cousin Wills wanted \"a game of our own\".[108] The code was distinctive in the prevalence of the mark, free kick, tackling, lack of an offside rule and that players were specifically penalised for throwing the ball. The Melbourne football rules were widely distributed and gradually adopted by the other Victorian clubs. The rules were updated several times during the 1860s to accommodate the rules of other influential Victorian football clubs. A significant redraft in 1866 by H. C. A. Harrison\\'s committee accommodated the Geelong Football Club\\'s rules, making the game then known as \"Victorian Rules\" increasingly distinct from other codes. It soon adopted cricket fields and an oval ball, used specialised goal and behind posts, and featured bouncing the ball while running and spectacular high marking. The game spread quickly to other Australian colonies. Outside its heartland in southern Australia, the code experienced a significant period of decline following World War I but has since grown throughout Australia and in other parts of the world, and the Australian Football League emerged as the dominant professional competition. During the early 1860s, there were increasing attempts in England to unify and reconcile the various public school games. In 1862, J. C. Thring, who had been one of the driving forces behind the original Cambridge Rules, was a master at Uppingham School and he issued his own rules of what he called \"The Simplest Game\" (these are also known as the Uppingham Rules). In early October 1863 another new revised version of the Cambridge Rules was drawn up by a seven member committee representing former pupils from Harrow, Shrewsbury, Eton, Rugby, Marlborough and Westminster. At the Freemasons\\' Tavern, Great Queen Street, London on the evening of 26 October 1863, representatives of several football clubs in the London Metropolitan area met for the inaugural meeting of The Football Association (FA). The aim of the Association was to establish a single unifying code and regulate the playing of the game among its members. Following the first meeting, the public schools were invited to join the association. All of them declined, except Charterhouse and Uppingham. In total, six meetings of the FA were held between October and December 1863. After the third meeting, a draft set of rules were published. However, at the beginning of the fourth meeting, attention was drawn to the recently published Cambridge Rules of 1863. The Cambridge rules differed from the draft FA rules in two significant areas; namely running with (carrying) the ball and hacking (kicking opposing players in the shins). The two contentious FA rules were as follows: IX. A player shall be entitled to run with the ball towards his adversaries\\' goal if he makes a fair catch, or catches the ball on the first bound; but in case of a fair catch, if he makes his mark he shall not run. X. If any player shall run with the ball towards his adversaries\\' goal, any player on the opposite side shall be at liberty to charge, hold, trip or hack him, or to wrest the ball from him, but no player shall be held and hacked at the same time.[109]At the fifth meeting it was proposed that these two rules be removed. Most of the delegates supported this, but F. M. Campbell, the representative from Blackheath and the first FA treasurer, objected. He said: \"hacking is the true football\". However, the motion to ban running with the ball in hand and hacking was carried and Blackheath withdrew from the FA. After the final meeting on 8 December, the FA published the \"Laws of Football\", the first comprehensive set of rules for the game later known as Association Football. The term \"soccer\", in use since the late 19th century, derives from an Oxford University abbreviation of \"Association\".[110] The first FA rules still contained elements that are no longer part of association football, but which are still recognisable in other games (such as Australian football and rugby football): for instance, a player could make a fair catch and claim a mark, which entitled him to a free kick; and if a player touched the ball behind the opponents\\' goal line, his side was entitled to a free kick at goal, from 15\\xa0yards (13.5\\xa0metres) in front of the goal line. As was the case in Britain, by the early 19th century, North American schools and universities played their own local games, between sides made up of students. For example, students at Dartmouth College in New Hampshire played a game called Old division football, a variant of the association football codes, as early as the 1820s.[48] They remained largely \"mob football\" style games, with huge numbers of players attempting to advance the ball into a goal area, often by any means necessary. Rules were simple, violence and injury were common.[47] The violence of these mob-style games led to widespread protests and a decision to abandon them. Yale University, under pressure from the city of New Haven, banned the play of all forms of football in 1860, while Harvard University followed suit in 1861.[47] In its place, two general types of football evolved: \"kicking\" games and \"running\" (or \"carrying\") games. A hybrid of the two, known as the \"Boston game\", was played by a group known as the Oneida Football Club. The club, considered by some historians as the first formal football club in the United States, was formed in 1862 by schoolboys who played the \"Boston game\" on Boston Common.[47][111] The game began to return to American college campuses by the late 1860s. The universities of Yale, Princeton (then known as the College of New Jersey), Rutgers, and Brown all began playing \"kicking\" games during this time. In 1867, Princeton used rules based on those of the English Football Association.[47] In Canada, the first documented football match was a practice game played on 9 November 1861, at University College, University of Toronto (approximately 400 yards west of Queen\\'s Park). One of the participants in the game involving University of Toronto students was (Sir) William Mulock, later Chancellor of the school.[113]  In 1864, at Trinity College, Toronto, F. Barlow Cumberland, Frederick A. Bethune, and Christopher Gwynn, one of the founders of Milton, Massachusetts, devised rules based on rugby football.[113] A \"running game\", resembling rugby football, was then taken up by the Montreal Football Club in Canada in 1868.[114] On 6 November 1869, Rutgers faced Princeton in a game that was played with a round ball and, like all early games, used improvised rules. It is usually regarded as the first game of American intercollegiate football.[47][115] Modern North American football grew out of a match between McGill University of Montreal and Harvard University in 1874. During the game, the two teams alternated between the rugby-based rules used by McGill and the Boston Game rules used by Harvard.[116][117][118] Within a few years, Harvard had both adopted McGill\\'s rules and persuaded other U.S. university teams to do the same. On 23 November 1876, representatives from Harvard, Yale, Princeton, and Columbia met at the Massasoit Convention in Springfield, Massachusetts, agreeing to adopt most of the Rugby Football Union rules, with some variations.[119] In 1880, Yale coach Walter Camp, who had become a fixture at the Massasoit House conventions where the rules were debated and changed, devised a number of major innovations. Camp\\'s two most important rule changes that diverged the American game from rugby were replacing the scrummage with the line of scrimmage and the establishment of the down-and-distance rules.[119] American football still however remained a violent sport where collisions often led to serious injuries and sometimes even death.[120] This led U.S. President Theodore Roosevelt to hold a meeting with football representatives from Harvard, Yale, and Princeton on 9 October 1905, urging them to make drastic changes.[121] One rule change introduced in 1906, devised to open up the game and reduce injury, was the introduction of the legal forward pass. Though it was underutilised for years, this proved to be one of the most important rule changes in the establishment of the modern game.[122] Over the years, Canada absorbed some of the developments in American football in an effort to distinguish it from a more rugby-oriented game. In 1903, the Ontario Rugby Football Union adopted the Burnside rules, which implemented the line of scrimmage and down-and-distance system from American football, among others.[123] Canadian football then implemented the legal forward pass in 1929.[124] American and Canadian football remain different codes, stemming from rule changes that the American side of the border adopted but the Canadian side has not. In the mid-19th century, various traditional football games, referred to collectively as caid, remained popular in Ireland, especially in County Kerry. One observer, Father W. Ferris, described two main forms of caid during this period: the \"field game\" in which the object was to put the ball through arch-like goals, formed from the boughs of two trees; and the epic \"cross-country game\" which took up most of the daylight hours of a Sunday on which it was played, and was won by one team taking the ball across a parish boundary. \"Wrestling\", \"holding\" opposing players, and carrying the ball were all allowed. By the 1870s, Rugby and Association football had started to become popular in Ireland. Trinity College Dublin was an early stronghold of Rugby (see the Developments in the 1850s section, above). The rules of the English FA were being distributed widely. Traditional forms of caid had begun to give way to a \"rough-and-tumble game\" which allowed tripping. There was no serious attempt to unify and codify Irish varieties of football, until the establishment of the Gaelic Athletic Association (GAA) in 1884. The GAA sought to promote traditional Irish sports, such as hurling and to reject imported games like Rugby and Association football. The first Gaelic football rules were drawn up by Maurice Davin and published in the United Ireland magazine on 7 February 1887.[125] Davin\\'s rules showed the influence of games such as hurling and a desire to formalise a distinctly Irish code of football. The prime example of this differentiation was the lack of an offside rule (an attribute which, for many years, was shared only by other Irish games like hurling, and by Australian rules football). The International Rugby Football Board (IRFB) was founded in 1886,[126] but rifts were beginning to emerge in the code. Professionalism had already begun to creep into the various codes of football. In England, by the 1890s, a long-standing Rugby Football Union ban on professional players was causing regional tensions within rugby football, as many players in northern England were working class and could not afford to take time off to train, travel, play and recover from injuries. This was not very different from what had occurred ten years earlier in soccer in Northern England but the authorities reacted very differently in the RFU, attempting to alienate the working class support in Northern England. In 1895, following a dispute about a player being paid broken time payments, which replaced wages lost as a result of playing rugby, representatives of the northern clubs met in Huddersfield to form the Northern Rugby Football Union (NRFU). The new body initially permitted only various types of player wage replacements. However, within two years, NRFU players could be paid, but they were required to have a job outside sport. The demands of a professional league dictated that rugby had to become a better \"spectator\" sport. Within a few years the NRFU rules had started to diverge from the RFU, most notably with the abolition of the line-out. This was followed by the replacement of the ruck with the \"play-the-ball ruck\", which allowed a two-player ruck contest between the tackler at marker and the player tackled. Mauls were stopped once the ball carrier was held, being replaced by a play-the ball-ruck. The separate Lancashire and Yorkshire competitions of the NRFU merged in 1901, forming the Northern Rugby League, the first time the name rugby league was used officially in England. Over time, the RFU form of rugby, played by clubs which remained members of national federations affiliated to the IRFB, became known as rugby union. The need for a single body to oversee association football had become apparent by the beginning of the 20th century, with the increasing popularity of international fixtures. The English Football Association had chaired many discussions on setting up an international body, but was perceived as making no progress. It fell to associations from seven other European countries: France, Belgium, Denmark, Netherlands, Spain, Sweden, and Switzerland, to form an international association. The Fédération Internationale de Football Association (FIFA) was founded in Paris on 21 May 1904.[127] Its first president was Robert Guérin.[127] The French name and acronym has remained, even outside French-speaking countries. Rugby league rules diverged significantly from rugby union in 1906, with the reduction of the team from 15 to 13 players. In 1907, a New Zealand professional rugby team toured Australia and Britain, receiving an enthusiastic response, and professional rugby leagues were launched in Australia the following year. However, the rules of professional games varied from one country to another, and negotiations between various national bodies were required to fix the exact rules for each international match. This situation endured until 1948, when at the instigation of the French league, the Rugby League International Federation (RLIF) was formed at a meeting in Bordeaux. During the second half of the 20th century, the rules changed further. In 1966, rugby league officials borrowed the American football concept of downs: a team was allowed to retain possession of the ball for four tackles (rugby union retains the original rule that a player who is tackled and brought to the ground must release the ball immediately).  The maximum number of tackles was later increased to six (in 1971), and in rugby league this became known as the six tackle rule. With the advent of full-time professionals in the early 1990s, and the consequent speeding up of the game, the five metre off-side distance between the two teams became 10\\xa0metres, and the replacement rule was superseded by various interchange rules, among other changes. The laws of rugby union also changed during the 20th century, although less significantly than those of rugby league. In particular, goals from marks were abolished, kicks directly into touch from outside the 22 metre line were penalised, new laws were put in place to determine who had possession following an inconclusive ruck or maul, and the lifting of players in line-outs was legalised. In 1995, rugby union became an \"open\" game, that is one which allowed professional players.[128] Although the original dispute between the two codes has now disappeared – and despite the fact that officials from both forms of rugby football have sometimes mentioned the possibility of re-unification – the rules of both codes and their culture have diverged to such an extent that such an event is unlikely in the foreseeable future. The word football, when used in reference to a specific game can mean any one of those described above. Because of this, much controversy has occurred over the term football, primarily because it is used in different ways in different parts of the English-speaking world. Most often, the word \"football\" is used to refer to the code of football that is considered dominant within a particular region (which is association football in most countries). So, effectively, what the word \"football\" means usually depends on where one says it. In each of the United Kingdom, the United States, and Canada, one football code is known solely as \"football\", while the others generally require a qualifier. In New Zealand, \"football\" historically referred to rugby union, but more recently may be used unqualified to refer to association football. The sport meant by the word \"football\" in Australia is either Australian rules football or rugby league, depending on local popularity (which largely conforms to the Barassi Line). In francophone Quebec, where Canadian football is more popular, the Canadian code is known as le football while American football is known as le football américain and association football is known as le soccer.[129] Of the 45 national FIFA (Fédération Internationale de Football Association) affiliates in which English is an official or primary language, most currently use Football in their organisations\\' official names; the FIFA affiliates in Canada and the United States use Soccer in their names. A few FIFA affiliates have recently \"normalised\" to using \"Football\", including: Several of the football codes are the most popular team sports in the world.[9] Globally, association football is played by over 250 million players in over 200 nations,[134] and has the highest television audience in sport,[135] making it the most popular in the world.[136] American football, with 1.1\\xa0million high school football players and nearly 70,000 college football players, is the most popular sport in the United States,[137][138] with the annual Super Bowl game accounting for nine of the top ten of the most watched broadcasts in U.S. television history.[139] The NFL has the highest average attendance (67,591) of any professional sports league in the world and has the highest revenue[140] out of any single professional sports league.[141] Thus, the best association football and American football players are among the highest paid athletes in the world.[142][143][144] Australian rules football has the highest spectator attendance of all sports in Australia.[145][146] Similarly, Gaelic football is the most popular sport in Ireland in terms of match attendance,[147] and the All-Ireland Football Final is the most watched event of that nation\\'s sporting year.[148] Rugby union is the most popular sport in New Zealand, Samoa, Tonga, and Fiji.[149] It is also the fastest growing sport in the U.S.[150][151][152][153] with college rugby being the fastest growing[clarification needed][154][155] college sport in that country.[156][dubious  – discuss] These codes have in common the prohibition of the use of hands (by all players except the goalkeeper, though outfield players can \"throw-in\" the ball when it goes out of play), unlike other codes where carrying or handling the ball by all players is allowed The hockey game bandy has rules partly based on the association football rules and is sometimes nicknamed as \\'winter football\\'. There are also motorsport variations of the game. These codes have in common the ability of players to carry the ball with their hands, and to throw it to teammates, unlike association football where the use of hands during play is prohibited by anyone except the goalkeeper.  They also feature various methods of scoring based upon whether the ball is carried into the goal area, or kicked above the goalposts. These codes have in common the absence of an offside rule, the prohibition of continuous carrying of the ball (requiring a periodic bounce or solo (toe-kick), depending on the code) while running, handpassing by punching or tapping the ball rather than throwing it, and other traditions. Games still played at UK public (independent) schools: Note: although similar to football and volleyball in some aspects, Sepak takraw has ancient origins and cannot be considered a hybrid game. Hockey is a term used to denote various types of both summer and winter team sports which originated on either an outdoor field, sheet of ice, or dry floor such as in a gymnasium. There are many types of hockey. Some games make the use of skates, either wheeled, or bladed while others do not. In order to help make the distinction between these various games, the word \"hockey\" is often preceded by another word i.e. \"field hockey\", \"ice hockey\", \"roller hockey\", \"rink hockey\", or \"floor hockey\". In each of these sports, two teams play against each other by trying to manoeuvre the object of play, either a type of ball or a disk (such as a puck), into the opponent\\'s goal using a hockey stick. Two notable exceptions use a straight stick and an open disk (still referred to as a \"puck\") with a hole in the center instead. The first case is a style of floor hockey whose rules were codified in 1936 during the Great Depression by Canada\\'s Sam Jacks. The second case involves a variant which was later modified in roughly the 1970s to make a related game that would be considered suitable for inclusion as a team sport in the newly emerging Special Olympics. The floor game of gym ringette, though related to floor hockey, is not a true variant due to the fact that it was designed in the 1990s and modelled off of the Canadian ice skating team sport of ringette, which was invented in Canada in 1963. Ringette was also invented by Sam Jacks, the same Canadian who codified the rules for the open disk style of floor hockey 1936. In most of the world, the term hockey by itself refers to field hockey, while in Canada, the United States, Russia and most of Eastern and Northern Europe, the term usually refers to ice hockey.[1] In more recent history, the word \"hockey\" is used in reference to either the summer sport of field hockey, which is a stick and ball game, and the winter ice team skating sports of bandy and ice hockey. This is due to the fact that field hockey and other stick and ball sports and their related variants preceded games which would eventually be played on ice with ice skates, namely bandy and ice hockey, as well as sports involving dry floors such as roller hockey and floor hockey. However, the \"hockey\" referred to in common parlance often depends on locale, geography, and the size and popularity of the sport involved. For example, in Europe, \"hockey\" more typically refers to field hockey, whereas in Canada, it typically refers to ice hockey. In the case of bandy, the game was initially called \"hockey on the ice\" and preceded the organization and development of ice hockey, but was officially changed to \"bandy\" in the early 20th century in order to avoid confusion with ice hockey, a separate sport. The first recorded use of the word hockey is in the 1773 book Juvenile Sports and Pastimes, to Which Are Prefixed, Memoirs of the Author: Including a New Mode of Infant Education by Richard Johnson (Pseud. Master Michel Angelo), whose chapter XI was titled \"New Improvements on the Game of Hockey\".[2] The belief that hockey was mentioned in a 1363 proclamation by King Edward III of England[3] is based on modern translations of the proclamation, which was originally in Latin and explicitly forbade the games \"Pilam Manualem, Pedivam, & Bacularem: & ad Canibucam & Gallorum Pugnam\".[4][5] The English historian and biographer John Strype did not use the word \"hockey\" when he translated the proclamation in 1720, instead translating \"Canibucam\" as \"Cambuck\";[6] this may have referred to either an early form of hockey or a game more similar to golf or croquet.[7] The word hockey itself is of unknown origin. One supposition is that it is a derivative of hoquet, a Middle French word for a shepherd\\'s stave.[8] The curved, or \"hooked\" ends of the sticks used for hockey would indeed have resembled these staves. Another supposition derives from the known use of cork bungs (stoppers), in place of wooden balls to play the game. The stoppers came from barrels containing \"hock\" ale, also called \"hocky\".[9] Games played with curved sticks and a ball can be found in the histories of many cultures. In Egypt, 4000-year-old carvings feature teams with sticks and a projectile, hurling dates to before 1272 BC in Ireland, and there is a depiction from approximately 600 BC in Ancient Greece, where the game may have been called kerētízein or (κερητίζειν) because it was played with a horn or horn-like stick (kéras, κέρας).[10] In Inner Mongolia, the Daur people have been playing beikou, a game similar to modern field hockey, for about 1,000 years.[11] Most evidence of hockey-like games during the Middle Ages is found in legislation concerning sports and games. The Galway Statute enacted in Ireland in 1527 banned certain types of ball games, including games using \"hooked\" (written \"hockie\", similar to \"hooky\") sticks.[12] ...at no tyme to use ne occupye the horlinge of the litill balle with hockie stickes or staves, nor use no hande ball to play withoute walles, but only greate foote balle[13] By the 19th century, the various forms and divisions of historic games began to differentiate and coalesce into the individual sports defined today. Organizations dedicated to the codification of rules and regulations began to form, and national and international bodies sprang up to manage domestic and international competition. Bandy is played with a ball on a football pitch-sized ice arena (bandy rink), typically outdoors, and with many rules similar to association football. It is played professionally in Russia and Sweden. The sport is recognized by the IOC; its international governing body is the Federation of International Bandy. Bandy has its roots in England in the 19th century, was originally called \"hockey on the ice\",[14] and spread from England to other European countries around 1900; a similar Russian sport can also be seen as a predecessor and in Russia, bandy is sometimes called \"Russian hockey\". Bandy World Championships have been played since 1957 and Women\\'s Bandy World Championships since 2004. There are national club championships in many countries and the top clubs in the world play in the Bandy World Cup every year. Field hockey is played on gravel, natural grass, or sand-based or water-based artificial turf, with a small, hard ball approximately 73\\xa0mm (2.9\\xa0in) in diameter. The game is popular among both men and women in many parts of the world, particularly in Europe, Asia, Australia, New Zealand, South Africa, and Argentina. In most countries, the game is played between single-sex sides, although they can be mixed-sex. The governing body is the 126-member International Hockey Federation (FIH). Men\\'s field hockey has been played at each Summer Olympic Games since 1908 except for 1912 and 1924, while women\\'s field hockey has been played at the Summer Olympic Games since 1980. Modern field hockey sticks are constructed of a composite of wood, glass fibre or carbon fibre (sometimes both) and are J-shaped, with a curved hook at the playing end, a flat surface on the playing side and a curved surface on the rear side. All sticks are right-handed – left-handed sticks are not permitted. While field hockey in its current form appeared in mid-18th century England, primarily in schools, it was not until the first half of the 19th century that it became firmly established. The first club was created in 1849 at Blackheath in south-east London. Field hockey is the national sport of Pakistan.[15] It was the national sport of India until the Ministry of Youth Affairs and Sports declared in August 2012 that India has no national sport.[16] Ice hockey is played between two teams of skaters on a large flat area of ice, using a three-inch-diameter (76.2\\xa0mm) vulcanized rubber disc called a puck. This puck is often frozen before high-level games to decrease the amount of bouncing and friction on the ice. The game is played all over North America, Europe and to varying extents in many other countries around the world. It is the most popular sport in Canada, Finland, Latvia, the Czech Republic, and Slovakia. Ice hockey is the national sport of Latvia[17] and the national winter sport of Canada.[18] Ice hockey is played at a number of levels, by all ages. The governing body of international play is the 77-member International Ice Hockey Federation (IIHF). Men\\'s ice hockey has been played at the Winter Olympics since 1924, and was in the 1920 Summer Olympics. Women\\'s ice hockey was added to the Winter Olympics in 1998. North America\\'s National Hockey League (NHL) is the strongest professional ice hockey league, drawing top ice hockey players from around the globe. The NHL rules are slightly different from those used in Olympic ice hockey over many categories. International ice hockey rules were adopted from Canadian rules in the early 1900s.[19] The contemporary sport developed in Canada from European and native influences. These included various stick and ball games similar to field hockey, bandy and other games where two teams push a ball or object back and forth with sticks. These were played outdoors on ice under the name \"hockey\" in England throughout the 19th century, and even earlier under various other names.[20] In Canada, there are 24 reports[21] of hockey-like games in the 19th century before 1875 (five of them using the name \"hockey\"). The first organized and recorded game of ice hockey was played indoors in Montreal, Quebec, Canada, on March 3, 1875, and featured several McGill University students. Ice hockey sticks are long L-shaped sticks made of wood, graphite, or composites with a blade at the bottom that can lie flat on the playing surface when the stick is held upright and can legally curve either way, for left- or right-handed players.[22] Ice sledge hockey, or \"para ice hockey\", is a form of ice hockey designed for players with physical disabilities affecting their lower bodies. Players sit on double-bladed sledges and use two sticks; each stick has a blade at one end and small picks at the other. Players use the sticks to pass, stickhandle and shoot the puck, and to propel their sledges. The rules are very similar to IIHF ice hockey rules.[23] Canada is a recognized international leader in the development of sledge hockey, and much of the equipment for the sport was first developed there, such as sledge hockey sticks laminated with fiberglass, as well as aluminum shafts with hand-carved insert blades and special aluminum sledges with regulation skate blades. Based on ice sledge hockey, inline sledge hockey is played to the same rules as inline puck hockey (essentially ice hockey played off-ice using inline skates). There is no classification point system dictating who can play inline sledge hockey, unlike the situation with other team sports such as wheelchair basketball and wheelchair rugby. Inline sledge hockey is being developed to allow everyone, regardless of whether they have a disability or not, to complete up to world championship level based solely on talent and ability.[citation needed] The first game of organized inline sledge hockey was played at Bisley, England, on December 19, 2009, between the Hull Stingrays and the Grimsby Redwings. Matt Lloyd is credited with inventing inline sledge hockey, and Great Britain is seen as the international leader in the game\\'s development. Though inline hockey is considered a variant of roller hockey a.k.a. \"rink hockey\", it was derived from ice hockey instead and uses a type of hockey puck or a ball. Both roller games use a type of wheeled skate but inline hockey uses inline skates rather than roller skates or \"quads\". The puck-based inline variant is more commonly played in North America than Europe while the ball-based variant is more popular in Europe. Inline hockey puck variant is played by two teams, consisting of four skaters and one goalie, on a dry rink divided into two halves by a center line, with one net at each end of the rink. The game is played in three 15-minute periods with a variation of the ice hockey off-side rule. Icings are also called, but are usually referred to as illegal clearing.[24] The governing body is the International Ice Hockey Federation (IIHF), just as it is for ice hockey, but some leagues and competitions do not follow the IIHF regulations, in particular USA Inline and Canada Inline. Roller hockey, also known as \"quad hockey\", \"international-style ball hockey\", \"rink hockey\" and \"Hoquei em Patins\", is an overarching name for a roller sport that uses quad skates. It has existed long before the invention of inline skates. The sport is played in over sixty countries and has a worldwide following. Roller hockey was a demonstration sport at the 1992 Barcelona Summer Olympics. Also known as road hockey, this is a dry-land variant of ice and roller hockey played year-round on a hard surface (usually asphalt). A ball is usually used instead of a puck, and protective equipment is not usually worn. Other games derived from hockey or its predecessors include the following: Two available styles:inline skates and the traditional roller skate Roller skates Inline hockey skates Antiquity Medieval Early modern Modern Iran India East-Asia Religion is usually defined as a social-cultural system of designated behaviors and practices, morals, beliefs, worldviews, texts, sanctified places, prophecies, ethics, or organizations, that generally relates humanity to supernatural, transcendental, and spiritual elements;[1] however, there is no scholarly consensus over what precisely constitutes a religion.[2][3] Different religions may or may not contain various elements ranging from the divine,[4] sacred things,[5] faith,[6] a supernatural being or supernatural beings[7] or \"some sort of ultimacy and transcendence that will provide norms and power for the rest of life\".[8] Religious practices may include rituals, sermons, commemoration or veneration (of deities and/or saints), sacrifices, festivals, feasts, trances, initiations, funerary services, matrimonial services, meditation, prayer, music, art, dance, public service, or other aspects of human culture. Religions have sacred histories and narratives, which may be preserved in sacred scriptures, and symbols and holy places, that aim mostly to give a meaning to life. Religions may contain symbolic stories, which are sometimes said by followers to be true, that may also attempt to explain the origin of life, the universe, and other phenomena. Traditionally, faith, in addition to reason, has been considered a source of religious beliefs.[9] There are an estimated 10,000 distinct religions worldwide.[10] About 84% of the world\\'s population is affiliated with Christianity, Islam, Hinduism, Buddhism, or some form of folk religion.[11] The religiously unaffiliated demographic includes those who do not identify with any particular religion, atheists, and agnostics. But many of the religiously unaffiliated still have various religious beliefs.[12] A portion of the population mostly located in Africa and Asia are members of new religious movements.[13] The study of religion comprises a wide variety of academic disciplines, including theology, philosophy of religion, comparative religion, and social scientific studies. Theories of religion offer various explanations for the origins and workings of religion, including the ontological foundations of religious being and belief.[14] The term religion comes from both Old French and Anglo Norman (1200s AD) and means respect for sense of right, moral obligation, sanctity, what is sacred, reverence for the gods.[15][16] It is ultimately derived from the Latin word religiō. According to Cicero, religiō comes from relegere: re (meaning \"again\") + lego (meaning \"read\"), where lego is in the sense of \"go over\", \"choose\", or \"consider carefully\". However, some modern scholars such as Tom Harpur and Joseph Campbell have argued that religiō is derived from religare: re (meaning \"again\") + ligare (\"bind\" or \"connect\"), which was made prominent by St. Augustine, following the interpretation given by Lactantius in Divinae institutiones, IV, 28.[17][18] The medieval usage alternates with order in designating bonded communities like those of monastic orders: \"we hear of the \\'religion\\' of the Golden Fleece, of a knight \\'of the religion of Avys\\'\".[19] In classic antiquity, religiō broadly meant conscientiousness, sense of right, moral obligation, or duty to anything.[20] In the ancient and medieval world, the etymological Latin root religiō was understood as an individual virtue of worship in mundane contexts; never as doctrine, practice, or actual source of knowledge.[21][22] In general, religiō referred to broad social obligations towards anything including family, neighbors, rulers, and even towards God.[23] Religiō was most often used by the ancient Romans not in the context of a relation towards gods, but as a range of general emotions such as hesitation, caution, anxiety, fear; feelings of being bound, restricted, inhibited; which arose from heightened attention in any mundane context.[24] The term was also closely related to other terms like scrupulus (which meant \"very precisely\"), and some Roman authors related the term superstitio (which meant too much fear or anxiety or shame) to religiō at times.[24] When religiō came into English around the 1200s as religion, it took the meaning of \"life bound by monastic vows\" or monastic orders.[19][23] The compartmentalized concept of religion, where religious things were separated from worldly things, was not used before the 1500s.[23] The concept of religion was first used in the 1500s to distinguish the domain of the church and the domain of civil authorities; the Peace of Augsburg marks such instance,[23] which has been described as \"the first step on the road toward a European system of sovereign states.\"[25] Julius Caesar used religiō to mean \"obligation of an oath\" when discussing captured soldiers making an oath to their captors.[26] The Roman naturalist Pliny the Elder used the term religiō on elephants in that they venerate the sun and the moon.[27] Cicero used religiō as being related to cultum deorum (worship of the gods).[28] In the ancient Greece, the Greek term threskeia (θρησκεία) was loosely translated into Latin as religiō in late antiquity. Threskeia was sparsely used in classical Greece but became more frequently used in the writings of Josephus in the 1st century AD. It was used in mundane contexts and could mean multiple things from respectful fear to excessive or harmfully distracting practices of others; to cultic practices. It was often contrasted with the Greek word deisidaimonia, which meant too much fear.[29] The modern concept of religion, as an abstraction that entails distinct sets of beliefs or doctrines, is a recent invention in the English language. Such usage began with texts from the 17th century due to events such as the splitting of Christendom during the Protestant Reformation and globalization in the age of exploration, which involved contact with numerous foreign cultures with non-European languages.[21][22][30] Some argue that regardless of its definition, it is not appropriate to apply the term religion to non-Western cultures.[31][32] Others argue that using religion on non-Western cultures distorts what people do and believe.[33] The concept of religion was formed in the 16th and 17th centuries,[34][35] despite the fact that ancient sacred texts like the Bible, the Quran, and others did not have a word or even a concept of religion in the original languages and neither did the people or the cultures in which these sacred texts were written.[36][37] For example, there is no precise equivalent of religion in Hebrew, and Judaism does not distinguish clearly between religious, national, racial, or ethnic identities.[38] One of its central concepts is halakha, meaning the walk or path sometimes translated as law, which guides religious practice and belief and many aspects of daily life.[39] Even though the beliefs and traditions of Judaism are found in the ancient world, ancient Jews saw Jewish identity as being about an ethnic or national identity and did not entail a compulsory belief system or regulated rituals.[40] In the 1st century AD Josephus had used the Greek term ioudaismos (Judaism) as an ethnic term and was not linked to modern abstract concepts of religion or a set of beliefs.[3] The very concept of \"Judaism\" was invented by the Christian Church,[41] and it was in the 19th century that Jews began to see their ancestral culture as a religion analogous to Christianity.[40] The Greek word threskeia, which was used by Greek writers such as Herodotus and Josephus, is found in the New Testament. Threskeia is sometimes translated as \"religion\" in today\\'s translations, however, the term was understood as generic \"worship\" well into the medieval period.[3] In the Quran, the Arabic word din is often translated as religion in modern translations, but up to the mid-1600s translators expressed din as \"law\".[3] The Sanskrit word dharma, sometimes translated as religion,[42] also means law. Throughout classical South Asia, the study of law consisted of concepts such as penance through piety and ceremonial as well as practical traditions. Medieval Japan at first had a similar union between imperial law and universal or Buddha law, but these later became independent sources of power.[43][44] Though traditions, sacred texts, and practices have existed throughout time, most cultures did not align with Western conceptions of religion since they did not separate everyday life from the sacred. In the 18th and 19th centuries, the terms Buddhism, Hinduism, Taoism, Confucianism, and world religions first entered the English language.[45][46][47] Native Americans were also thought of as not having religions and also had no word for religion in their languages either.[46][48] No one self-identified as a Hindu or Buddhist or other similar terms before the 1800s.[49] \"Hindu\" has historically been used as a geographical, cultural, and later religious identifier for people indigenous to the Indian subcontinent.[50][51] Throughout its long history, Japan had no concept of religion since there was no corresponding Japanese word, nor anything close to its meaning, but when American warships appeared off the coast of Japan in 1853 and forced the Japanese government to sign treaties demanding, among other things, freedom of religion, the country had to contend with this idea.[52][53] According to the philologist Max Müller in the 19th century, the root of the English word religion, the Latin religiō, was originally used to mean only reverence for God or the gods, careful pondering of divine things, piety (which Cicero further derived to mean diligence).[54][55] Müller characterized many other cultures around the world, including Egypt, Persia, and India, as having a similar power structure at this point in history. What is called ancient religion today, they would have only called law.[56] Scholars have failed to agree on a definition of religion. There are, however, two general definition systems: the sociological/functional and the phenomenological/philosophical.[57][58][59][60][61] The concept of religion originated in the modern era in the West.[32] Parallel concepts are not found in many current and past cultures; there is no equivalent term for religion in many languages.[3][23] Scholars have found it difficult to develop a consistent definition, with some giving up on the possibility of a definition.[62][63] Others argue that regardless of its definition, it is not appropriate to apply it to non-Western cultures.[31][32] An increasing number of scholars have expressed reservations about ever defining the essence of religion.[64] They observe that the way the concept today is used is a particularly modern construct that would not have been understood through much of history and in many cultures outside the West (or even in the West until after the Peace of Westphalia).[65] The MacMillan Encyclopedia of Religions states: The very attempt to define religion, to find some distinctive or possibly unique essence or set of qualities that distinguish the religious from the remainder of human life, is primarily a Western concern. The attempt is a natural consequence of the Western speculative, intellectualistic, and scientific disposition. It is also the product of the dominant Western religious mode, what is called the Judeo-Christian climate or, more accurately, the theistic inheritance from Judaism, Christianity, and Islam. The theistic form of belief in this tradition, even when downgraded culturally, is formative of the dichotomous Western view of religion. That is, the basic structure of theism is essentially a distinction between a transcendent deity and all else, between the creator and his creation, between God and man.[66]The anthropologist Clifford Geertz defined religion as a […] system of symbols which acts to establish powerful, pervasive, and long-lasting moods and motivations in men by formulating conceptions of a general order of existence and clothing these conceptions with such an aura of factuality that the moods and motivations seem uniquely realistic.\"[67]Alluding perhaps to Tylor\\'s \"deeper motive\", Geertz remarked that […] we have very little idea of how, in empirical terms, this particular miracle is accomplished. We just know that it is done, annually, weekly, daily, for some people almost hourly; and we have an enormous ethnographic literature to demonstrate it.[68]The theologian Antoine Vergote took the term supernatural simply to mean whatever transcends the powers of nature or human agency. He also emphasized the cultural reality of religion, which he defined as […] the entirety of the linguistic expressions, emotions and, actions and signs that refer to a supernatural being or supernatural beings.[7]Peter Mandaville and Paul James intended to get away from the modernist dualisms or dichotomous understandings of immanence/transcendence, spirituality/materialism, and sacredness/secularity. They define religion as […] a relatively-bounded system of beliefs, symbols and practices that addresses the nature of existence, and in which communion with others and Otherness is lived as if it both takes in and spiritually transcends socially-grounded ontologies of time, space, embodiment and knowing.[8]According to the MacMillan Encyclopedia of Religions, there is an experiential aspect to religion which can be found in almost every culture: […] almost every known culture [has] a depth dimension in cultural experiences […] toward some sort of ultimacy and transcendence that will provide norms and power for the rest of life. When more or less distinct patterns of behavior are built around this depth dimension in a culture, this structure constitutes religion in its historically recognizable form. Religion is the organization of life around the depth dimensions of experience—varied in form, completeness, and clarity in accordance with the environing culture.[69]Friedrich Schleiermacher in the late 18th century defined religion as das schlechthinnige Abhängigkeitsgefühl, commonly translated as \"the feeling of absolute dependence\".[70] His contemporary Georg Wilhelm Friedrich Hegel disagreed thoroughly, defining religion as \"the Divine Spirit becoming conscious of Himself through the finite spirit.\"[71] Edward Burnett Tylor defined religion in 1871 as \"the belief in spiritual beings\".[72] He argued that narrowing the definition to mean the belief in a supreme deity or judgment after death or idolatry and so on, would exclude many peoples from the category of religious, and thus \"has the fault of identifying religion rather with particular developments than with the deeper motive which underlies them\". He also argued that the belief in spiritual beings exists in all known societies. In his book The Varieties of Religious Experience, the psychologist William James defined religion as \"the feelings, acts, and experiences of individual men in their solitude, so far as they apprehend themselves to stand in relation to whatever they may consider the divine\".[4] By the term divine James meant \"any object that is godlike, whether it be a concrete deity or not\"[73] to which the individual feels impelled to respond with solemnity and gravity.[74] The sociologist Émile Durkheim, in his seminal book The Elementary Forms of the Religious Life, defined religion as a \"unified system of beliefs and practices relative to sacred things\".[5] By sacred things he meant things \"set apart and forbidden—beliefs and practices which unite into one single moral community called a Church, all those who adhere to them\". Sacred things are not, however, limited to gods or spirits.[note 1] On the contrary, a sacred thing can be \"a rock, a tree, a spring, a pebble, a piece of wood, a house, in a word, anything can be sacred\".[75] Religious beliefs, myths, dogmas and legends are the representations that express the nature of these sacred things, and the virtues and powers which are attributed to them.[76] Echoes of James\\' and Durkheim\\'s definitions are to be found in the writings of, for example, Frederick Ferré who defined religion as \"one\\'s way of valuing most comprehensively and intensively\".[77] Similarly, for the theologian Paul Tillich, faith is \"the state of being ultimately concerned\",[6] which \"is itself religion. Religion is the substance, the ground, and the depth of man\\'s spiritual life.\"[78] When religion is seen in terms of sacred, divine, intensive valuing, or ultimate concern, then it is possible to understand why scientific findings and philosophical criticisms (e.g., those made by Richard Dawkins) do not necessarily disturb its adherents.[79] Traditionally, faith, in addition to reason, has been considered a source of religious beliefs. The interplay between faith and reason, and their use as perceived support for religious beliefs, have been a subject of interest to philosophers and theologians.[9] The origin of religious belief as such is an open question, with possible explanations including awareness of individual death, a sense of community, and dreams.[80] The word myth has several meanings. Ancient polytheistic religions, such as those of Greece, Rome, and Scandinavia, are usually categorized under the heading of mythology. Religions of pre-industrial peoples, or cultures in development, are similarly called myths in the anthropology of religion. The term myth can be used pejoratively by both religious and non-religious people. By defining another person\\'s religious stories and beliefs as mythology, one implies that they are less real or true than one\\'s own religious stories and beliefs. Joseph Campbell remarked, \"Mythology is often thought of as other people\\'s religions, and religion can be defined as mis-interpreted mythology.\"[82] In sociology, however, the term myth has a non-pejorative meaning. There, myth is defined as a story that is important for the group whether or not it is objectively or provably true.[83] Examples include the resurrection of their real-life founder Jesus, which, to Christians, explains the means by which they are freed from sin, is symbolic of the power of life over death, and is also said to be a historical event. But from a mythological outlook, whether or not the event actually occurred is unimportant. Instead, the symbolism of the death of an old life and the start of a new life is what is most significant. Religious believers may or may not accept such symbolic interpretations. The practices of a religion may include rituals, sermons, commemoration or veneration of a deity (god or goddess), sacrifices, festivals, feasts, trances, initiations, funerary services, matrimonial services, meditation, prayer, religious music, religious art, sacred dance, public service, or other aspects of human culture.[84] Religions have a societal basis, either as a living tradition which is carried by lay participants, or with an organized clergy, and a definition of what constitutes adherence or membership. A number of disciplines study the phenomenon of religion: theology, comparative religion, history of religion, evolutionary origin of religions, anthropology of religion, psychology of religion (including neuroscience of religion and evolutionary psychology of religion), law and religion, and sociology of religion. Daniel L. Pals mentions eight classical theories of religion, focusing on various aspects of religion: animism and magic, by E.B. Tylor and J.G. Frazer; the psycho-analytic approach of Sigmund Freud; and further Émile Durkheim, Karl Marx, Max Weber, Mircea Eliade, E.E. Evans-Pritchard, and Clifford Geertz.[85] Michael Stausberg gives an overview of contemporary theories of religion, including cognitive and biological approaches.[86] Sociological and anthropological theories of religion generally attempt to explain the origin and function of religion.[87] These theories define what they present as universal characteristics of religious belief and practice. The origin of religion is uncertain. There are a number of theories regarding the subsequent origins of religious practices. According to anthropologists John Monaghan and Peter Just, \"Many of the great world religions appear to have begun as revitalization movements of some sort, as the vision of a charismatic prophet fires the imaginations of people seeking a more comprehensive answer to their problems than they feel is provided by everyday beliefs. Charismatic individuals have emerged at many times and places in the world. It seems that the key to long-term success—and many movements come and go with little long-term effect—has relatively little to do with the prophets, who appear with surprising regularity, but more to do with the development of a group of supporters who are able to institutionalize the movement.\"[88] The development of religion has taken different forms in different cultures. Some religions place an emphasis on belief, while others emphasize practice. Some religions focus on the subjective experience of the religious individual, while others consider the activities of the religious community to be most important. Some religions claim to be universal, believing their laws and cosmology to be binding for everyone, while others are intended to be practiced only by a closely defined or localized group. In many places, religion has been associated with public institutions such as education, hospitals, the family, government, and political hierarchies.[89] Anthropologists John Monoghan and Peter Just state that, \"it seems apparent that one thing religion or belief helps us do is deal with problems of human life that are significant, persistent, and intolerable. One important way in which religious beliefs accomplish this is by providing a set of ideas about how and why the world is put together that allows people to accommodate anxieties and deal with misfortune.\"[89] While religion is difficult to define, one standard model of religion, used in religious studies courses, was proposed by Clifford Geertz, who simply called it a \"cultural system\".[90] A critique of Geertz\\'s model by Talal Asad categorized religion as \"an anthropological category\".[91] Richard Niebuhr\\'s (1894–1962) five-fold classification of the relationship between Christ and culture, however, indicates that religion and culture can be seen as two separate systems, though with some interplay.[92] One modern academic theory of religion, social constructionism, says that religion is a modern concept that suggests all spiritual practice and worship follows a model similar to the Abrahamic religions as an orientation system that helps to interpret reality and define human beings.[93] Among the main proponents of this theory of religion are Daniel Dubuisson, Timothy Fitzgerald, Talal Asad, and Jason Ānanda Josephson. The social constructionists argue that religion is a modern concept that developed from Christianity and was then applied inappropriately to non-Western cultures. Cognitive science of religion is the study of religious thought and behavior from the perspective of the cognitive and evolutionary sciences.[94] The field employs methods and theories from a very broad range of disciplines, including: cognitive psychology, evolutionary psychology, cognitive anthropology, artificial intelligence, cognitive neuroscience, neurobiology, zoology, and ethology. Scholars in this field seek to explain how human minds acquire, generate, and transmit religious thoughts, practices, and schemas by means of ordinary cognitive capacities. Hallucinations and delusions related to religious content occurs in about 60% of people with schizophrenia. While this number varies across cultures, this had led to theories about a number of influential religious phenomena and possible relation to psychotic disorders. A number of prophetic experiences are consistent with psychotic symptoms, although retrospective diagnoses are practically impossible.[95][96][97] Schizophrenic episodes are also experienced by people who do not have belief in gods.[98] Religious content is also common in temporal lobe epilepsy, and obsessive-compulsive disorder.[99][100] Atheistic content is also found to be common with temporal lobe epilepsy.[101] Comparative religion is the branch of the study of religions concerned with the systematic comparison of the doctrines and practices of the world\\'s religions. In general, the comparative study of religion yields a deeper understanding of the fundamental philosophical concerns of religion such as ethics, metaphysics, and the nature and form of salvation. Studying such material is meant to give one a richer and more sophisticated understanding of human beliefs and practices regarding the sacred, numinous, spiritual and divine.[102] In the field of comparative religion, a common geographical classification[103] of the main world religions includes Middle Eastern religions (including Zoroastrianism and Iranian religions), Indian religions, East Asian religions, African religions, American religions, Oceanic religions, and classical Hellenistic religions.[103] In the 19th and 20th centuries, the academic practice of comparative religion divided religious belief into philosophically defined categories called world religions. Some academics studying the subject have divided religions into three broad categories: Some recent scholarship has argued that not all types of religion are necessarily separated by mutually exclusive philosophies, and furthermore that the utility of ascribing a practice to a certain philosophy, or even calling a given practice religious, rather than cultural, political, or social in nature, is limited.[105][106][107] The current state of psychological study about the nature of religiousness suggests that it is better to refer to religion as a largely invariant phenomenon that should be distinguished from cultural norms (i.e. religions).[108][clarification needed] Some scholars classify religions as either universal religions that seek worldwide acceptance and actively look for new converts, such as Christianity, Islam, Buddhism and Jainism, while ethnic religions are identified with a particular ethnic group and do not seek converts.[109][110] Others reject the distinction, pointing out that all religious practices, whatever their philosophical origin, are ethnic because they come from a particular culture.[111][112][113] The five largest religious groups by world population, estimated to account for 5.8 billion people and 84% of the population, are Christianity, Islam, Buddhism, Hinduism (with the relative numbers for Buddhism and Hinduism dependent on the extent of syncretism) and traditional folk religion. A global poll in 2012 surveyed 57 countries and reported that 59% of the world\\'s population identified as religious, 23% as not religious, 13% as convinced atheists, and also a 9% decrease in identification as religious when compared to the 2005 average from 39 countries.[115] A follow-up poll in 2015 found that 63% of the globe identified as religious, 22% as not religious, and 11% as convinced atheists.[116] On average, women are more religious than men.[117] Some people follow multiple religions or multiple religious principles at the same time, regardless of whether or not the religious principles they follow traditionally allow for syncretism.[118][119][120] A 2017 Pew projection suggests that Islam will overtake Christianity as the plurality religion by 2075. Unaffiliated populations are projected to drop, even when taking disaffiliation rates into account, due to differences in birth rates.[121][122] Abrahamic religions are monotheistic religions which believe they descend from Abraham. Judaism is the oldest Abrahamic religion, originating in the people of ancient Israel and Judea.[123] The Torah is its foundational text, and is part of the larger text known as the Tanakh or Hebrew Bible. It is supplemented by oral tradition, set down in written form in later texts such as the Midrash and the Talmud. Judaism includes a wide corpus of texts, practices, theological positions, and forms of organization. Within Judaism there are a variety of movements, most of which emerged from Rabbinic Judaism, which holds that God revealed his laws and commandments to Moses on Mount Sinai in the form of both the Written and Oral Torah; historically, this assertion was challenged by various groups. The Jewish people were scattered after the destruction of the Temple in Jerusalem in 70 CE. Today there are about 13 million Jews, about 40 per cent living in Israel and 40 per cent in the United States.[124] The largest Jewish religious movements are Orthodox Judaism (Haredi Judaism and Modern Orthodox Judaism), Conservative Judaism and Reform Judaism.[123] Christianity is based on the life and teachings of Jesus of Nazareth (1st century) as presented in the New Testament.[125] The Christian faith is essentially faith in Jesus as the Christ,[125] the Son of God, and as Savior and Lord. Almost all Christians believe in the Trinity, which teaches the unity of Father, Son (Jesus Christ), and Holy Spirit as three persons in one Godhead. Most Christians can describe their faith with the Nicene Creed. As the religion of Byzantine Empire in the first millennium and of Western Europe during the time of colonization, Christianity has been propagated throughout the world via missionary work.[126][127][128] It is the world\\'s largest religion, with about 2.3 billion followers as of 2015.[129] The main divisions of Christianity are, according to the number of adherents:[130] There are also smaller groups, including: Islam is a monotheistic[131] religion based on the Quran,[131] one of the holy books considered by Muslims to be revealed by God, and on the teachings (hadith) of the Islamic prophet Muhammad-a major political and religious figure of the 7th century CE. Islam is based on the unity of all religious philosophies and accepts all of the Abrahamic prophets of Judaism, Christianity and other Abrahamic religions before Muhammad. It is the most widely practiced religion of Southeast Asia, North Africa, Western Asia, and Central Asia, while Muslim-majority countries also exist in parts of South Asia, Sub-Saharan Africa, and Southeast Europe. There are also several Islamic republics, including Iran, Pakistan, Mauritania, and Afghanistan. Other denominations of Islam include Nation of Islam, Ibadi, Sufism, Quranism, Mahdavia, and non-denominational Muslims. Wahhabism is the dominant Muslim schools of thought in the Kingdom of Saudi Arabia. Whilst Judaism, Christianity and Islam are commonly seen as the only three Abrahamic faiths, there are smaller and newer traditions which lay claim to the designation as well.[132] For example, the Baháʼí Faith is a new religious movement that has links to the major Abrahamic religions as well as other religions (e.g. of Eastern philosophy). Founded in 19th-century Iran, it teaches the unity of all religious philosophies[133] and accepts all of the prophets of Judaism, Christianity, and Islam as well as additional prophets (Buddha, Mahavira), including its founder Bahá\\'u\\'lláh. It is an offshoot of Bábism. One of its divisions is the Orthodox Baháʼí Faith.[134]:\\u200a48–49\\u200a Even smaller regional Abrahamic groups also exist, including Samaritanism (primarily in Israel and the West Bank), the Rastafari movement (primarily in Jamaica), and Druze (primarily in Syria, Lebanon, and Israel). The Druze faith originally developed out of Isma\\'ilism, and it has sometimes been considered an Islamic school by some Islamic authorities, but Druze themselves do not identify as Muslims.[135][136][137] Mandaeism, sometimes also known as Sabianism (after the mysterious Sabians mentioned in the Quran, a name historically claimed by several religious groups),[138] is a Gnostic, monotheistic and ethnic religion.[139]:\\u200a4\\u200a[140]:\\u200a1\\u200a Its adherents, the Mandaeans, consider John the Baptist to be their chief prophet.[139] Mandaeans are the last surviving Gnostics from antiquity.[141] East Asian religions (also known as Far Eastern religions or Taoic religions) consist of several religions of East Asia which make use of the concept of Tao (in Chinese), Dō (in Japanese or Korean) or Đạo (in Vietnamese). They include: Indian religions are practiced or were founded in the Indian subcontinent. They are sometimes classified as the dharmic religions, as they all feature dharma, the specific law of reality and duties expected according to the religion.[142] Indigenous religions or folk religions refers to a broad category of traditional religions that can be characterised by shamanism, animism and ancestor worship, where traditional means \"indigenous, that which is aboriginal or foundational, handed down from generation to generation…\".[154] These are religions that are closely associated with a particular group of people, ethnicity or tribe; they often have no formal creeds or sacred texts.[155] Some faiths are syncretic, fusing diverse religious beliefs and practices.[156] Folk religions are often omitted as a category in surveys even in countries where they are widely practiced, e.g. in China.[155] African traditional religion encompasses the traditional religious beliefs of people in Africa. In West Africa, these religions include the Akan religion, Dahomey (Fon) mythology, Efik mythology, Odinani, Serer religion (A ƭat Roog), and Yoruba religion, while Bushongo mythology, Mbuti (Pygmy) mythology, Lugbara mythology, Dinka religion, and Lotuko mythology come from central Africa. Southern African traditions include Akamba mythology, Masai mythology, Malagasy mythology, San religion, Lozi mythology, Tumbuka mythology, and Zulu mythology. Bantu mythology is found throughout central, southeast, and southern Africa. In north Africa, these traditions include Berber and ancient Egyptian. There are also notable African diasporic religions practiced in the Americas, such as Santeria, Candomble, Vodun, Lucumi, Umbanda, and Macumba. Iranian religions are ancient religions whose roots predate the Islamization of Greater Iran. Nowadays these religions are practiced only by minorities. Zoroastrianism is based on the teachings of prophet Zoroaster in the 6th century BCE. Zoroastrians worship the creator Ahura Mazda. In Zoroastrianism, good and evil have distinct sources, with evil trying to destroy the creation of Mazda, and good trying to sustain it. Kurdish religions include the traditional beliefs of the Yazidi,[157][158] Alevi, and Ahl-e Haqq. Sometimes these are labeled Yazdânism. The study of law and religion is a relatively new field, with several thousand scholars involved in law schools, and academic departments including political science, religion, and history since 1980.[170] Scholars in the field are not only focused on strictly legal issues about religious freedom or non-establishment, but also study religions as they are qualified through judicial discourses or legal understanding of religious phenomena. Exponents look at canon law, natural law, and state law, often in a comparative perspective.[171][172] Specialists have explored themes in Western history regarding Christianity and justice and mercy, rule and equity, and discipline and love.[173] Common topics of interest include marriage and the family[174] and human rights.[175] Outside of Christianity, scholars have looked at law and religion links in the Muslim Middle East[176] and pagan Rome.[177] Studies have focused on secularization.[178][179] In particular, the issue of wearing religious symbols in public, such as headscarves that are banned in French schools, have received scholarly attention in the context of human rights and feminism.[180] Science acknowledges reason and empirical evidence; and religions include revelation, faith and sacredness whilst also acknowledging philosophical and metaphysical explanations with regard to the study of the universe. Both science and religion are not monolithic, timeless, or static because both are complex social and cultural endeavors that have changed through time across languages and cultures.[181] The concepts of science and religion are a recent invention: the term religion emerged in the 17th century in the midst of colonization and globalization and the Protestant Reformation.[3][21] The term science emerged in the 19th century out of natural philosophy in the midst of attempts to narrowly define those who studied nature (natural science),[21][182][183] and the phrase religion and science emerged in the 19th century due to the reification of both concepts.[21] It was in the 19th century that the terms Buddhism, Hinduism, Taoism, and Confucianism first emerged.[21] In the ancient and medieval world, the etymological Latin roots of both science (scientia) and religion (religio) were understood as inner qualities of the individual or virtues, never as doctrines, practices, or actual sources of knowledge.[21] In general the scientific method gains knowledge by testing hypotheses to develop theories through elucidation of facts or evaluation by experiments and thus only answers cosmological questions about the universe that can be observed and measured. It develops theories of the world which best fit physically observed evidence. All scientific knowledge is subject to later refinement, or even rejection, in the face of additional evidence. Scientific theories that have an overwhelming preponderance of favorable evidence are often treated as de facto verities in general parlance, such as the theories of general relativity and natural selection to explain respectively the mechanisms of gravity and evolution. Religion does not have a method per se partly because religions emerge through time from diverse cultures and it is an attempt to find meaning in the world, and to explain humanity\\'s place in it and relationship to it and to any posited entities. In terms of Christian theology and ultimate truths, people rely on reason, experience, scripture, and tradition to test and gauge what they experience and what they should believe. Furthermore, religious models, understanding, and metaphors are also revisable, as are scientific models.[184] Regarding religion and science, Albert Einstein states (1940): \"For science can only ascertain what is, but not what should be, and outside of its domain value judgments of all kinds remain necessary.[185] Religion, on the other hand, deals only with evaluations of human thought and action; it cannot justifiably speak of facts and relationships between facts[185]…Now, even though the realms of religion and science in themselves are clearly marked off from each other, nevertheless there exist between the two strong reciprocal relationships and dependencies. Though religion may be that which determine the goals, it has, nevertheless, learned from science, in the broadest sense, what means will contribute to the attainment of the goals it has set up.\"[186] Many religions have value frameworks regarding personal behavior meant to guide adherents in determining between right and wrong. These include the Triple Jems of Jainism, Judaism\\'s Halacha, Islam\\'s Sharia, Catholicism\\'s Canon Law, Buddhism\\'s Eightfold Path, and Zoroastrianism\\'s good thoughts, good words, and good deeds concept, among others.[187] Religion and morality are not synonymous. While it is \"an almost automatic assumption.\"[188] in Christianity, morality can have a secular basis. The study of religion and morality can be contentious due to ethnocentric views on morality, failure to distinguish between in group and out group altruism, and inconsistent definitions of religiosity. Religion has had a significant impact on the political system in many countries.[189] Notably, most Muslim-majority countries adopt various aspects of sharia, the Islamic law.[190] Some countries even define themselves in religious terms, such as The Islamic Republic of Iran. The sharia thus affects up to 23% of the global population, or 1.57\\xa0billion people who are Muslims. However, religion also affects political decisions in many western countries. For instance, in the United States, 51% of voters would be less likely to vote for a presidential candidate who did not believe in God, and only 6% more likely.[191] Christians make up 92% of members of the US Congress, compared with 71% of the general public (as of 2014). At the same time, while 23% of U.S. adults are religiously unaffiliated, only one member of Congress (Kyrsten Sinema, D-Arizona), or 0.2% of that body, claims no religious affiliation.[192] In most European countries, however, religion has a much smaller influence on politics[193] although it used to be much more important. For instance, same-sex marriage and abortion were illegal in many European countries until recently, following Christian (usually Catholic) doctrine. Several European leaders are atheists (e.g. France\\'s former president Francois Hollande or Greece\\'s prime minister Alexis Tsipras). In Asia, the role of religion differs widely between countries. For instance, India is still one of the most religious countries and religion still has a strong impact on politics, given that Hindu nationalists have been targeting minorities like the Muslims and the Christians, who historically[when?] belonged to the lower castes.[194] By contrast, countries such as China or Japan are largely secular and thus religion has a much smaller impact on politics. Secularization is the transformation of the politics of a society from close identification with a particular religion\\'s values and institutions toward nonreligious values and secular institutions. The purpose of this is frequently modernization or protection of the populations religious diversity. One study has found there is a negative correlation between self-defined religiosity and the wealth of nations.[195] In other words, the richer a nation is, the less likely its inhabitants to call themselves religious, whatever this word means to them (Many people identify themselves as part of a religion (not irreligion) but do not self-identify as religious).[195] Sociologist and political economist Max Weber has argued that Protestant Christian countries are wealthier because of their Protestant work ethic.[196] According to a study from 2015, Christians hold the largest amount of wealth (55% of the total world wealth), followed by Muslims (5.8%), Hindus (3.3%) and Jews (1.1%). According to the same study it was found that adherents under the classification Irreligion or other religions hold about 34.8% of the total global wealth (while making up only about 20% of the world population, see section on classification).[197] Mayo Clinic researchers examined the association between religious involvement and spirituality, and physical health, mental health, health-related quality of life, and other health outcomes.[198] The authors reported that: \"Most studies have shown that religious involvement and spirituality are associated with better health outcomes, including greater longevity, coping skills, and health-related quality of life (even during terminal illness) and less anxiety, depression, and suicide.\"[199] The authors of a subsequent study concluded that the influence of religion on health is largely beneficial, based on a review of related literature.[200] According to academic James W. Jones, several studies have discovered \"positive correlations between religious belief and practice and mental and physical health and longevity.\"[201] An analysis of data from the 1998 US General Social Survey, whilst broadly confirming that religious activity was associated with better health and well-being, also suggested that the role of different dimensions of spirituality/religiosity in health is rather more complicated. The results suggested \"that it may not be appropriate to generalize findings about the relationship between spirituality/religiosity and health from one form of spirituality/religiosity to another, across denominations, or to assume effects are uniform for men and women.[202] Critics like Hector Avalos[203] Regina Schwartz,[204] Christopher Hitchens and Richard Dawkins have argued that religions are inherently violent and harmful to society by using violence to promote their goals, in ways that are endorsed and exploited by their leaders.[205][page\\xa0needed][206][page\\xa0needed] Anthropologist Jack David Eller asserts that religion is not inherently violent, arguing \"religion and violence are clearly compatible, but they are not identical.\" He asserts that \"violence is neither essential to nor exclusive to religion\" and that \"virtually every form of religious violence has its nonreligious corollary.\"[207][208] Done by some (but not all) religions, animal sacrifice is the ritual killing and offering of an animal to appease or maintain favour with a deity. It has been banned in India.[209] Greek and Roman pagans, who saw their relations with the gods in political and social terms, scorned the man who constantly trembled with fear at the thought of the gods (deisidaimonia), as a slave might fear a cruel and capricious master. The Romans called such fear of the gods superstitio.[210] Ancient Greek historian Polybius described superstition in ancient Rome as an instrumentum regni, an instrument of maintaining the cohesion of the Empire.[211] Superstition has been described as the non-rational establishment of cause and effect.[212] Religion is more complex and is often composed of social institutions and has a moral aspect. Some religions may include superstitions or make use of magical thinking. Adherents of one religion sometimes think of other religions as superstition.[213][214] Some atheists, deists, and skeptics regard religious belief as superstition. The Roman Catholic Church considers superstition to be sinful in the sense that it denotes a lack of trust in the divine providence of God and, as such, is a violation of the first of the Ten Commandments. The Catechism of the Catholic Church states that superstition \"in some sense represents a perverse excess of religion\" (para. #2110). \"Superstition,\" it says, \"is a deviation of religious feeling and of the practices this feeling imposes. It can even affect the worship we offer the true God, e.g., when one attributes an importance in some way magical to certain practices otherwise lawful or necessary. To attribute the efficacy of prayers or of sacramental signs to their mere external performance, apart from the interior dispositions that they demand is to fall into superstition. Cf. Matthew 23:16–22\" (para. #2111) The terms atheist (lack of belief in any gods) and agnostic (belief in the unknowability of the existence of gods), though specifically contrary to theistic (e.g. Christian, Jewish, and Muslim) religious teachings, do not by definition mean the opposite of religious. There are religions (including Buddhism, Taoism, and Hinduism), in fact, that classify some of their followers as agnostic, atheistic, or nontheistic. The true opposite of religious is the word irreligious. Irreligion describes an absence of any religion; antireligion describes an active opposition or aversion toward religions in general. Because religion continues to be recognized in Western thought as a universal impulse,[215] many religious practitioners[who?][216] have aimed to band together in interfaith dialogue, cooperation, and religious peacebuilding. The first major dialogue was the Parliament of the World\\'s Religions at the 1893 Chicago World\\'s Fair, which affirmed universal values and recognition of the diversity of practices among different cultures.[217] The 20th century has been especially fruitful in use of interfaith dialogue as a means of solving ethnic, political, or even religious conflict, with Christian–Jewish reconciliation representing a complete reverse in the attitudes of many Christian communities towards Jews.[218] Recent interfaith initiatives include A Common Word, launched in 2007 and focused on bringing Muslim and Christian leaders together,[219] the \"C1 World Dialogue\",[220] the Common Ground initiative between Islam and Buddhism,[221] and a United Nations sponsored \"World Interfaith Harmony Week\".[222][223] Culture and religion have usually been seen as closely related.[42] Paul Tillich looked at religion as the soul of culture and culture as the form or framework of religion.[224] In his own words: Religion as ultimate concern is the meaning-giving substance of culture, and culture is the totality of forms in which the basic concern of religion expresses itself. In abbreviation: religion is the substance of culture, culture is the form of religion. Such a consideration definitely prevents the establishment of a dualism of religion and culture. Every religious act, not only in organized religion, but also in the most intimate movement of the soul, is culturally formed.[225]Ernst Troeltsch, similarly, looked at culture as the soil of religion and thought that, therefore, transplanting a religion from its original culture to a foreign culture would actually kill it in the same manner that transplanting a plant from its natural soil to an alien soil would kill it.[226] However, there have been many attempts in the modern pluralistic situation to distinguish culture from religion.[227] Domenic Marbaniang has argued that elements grounded on beliefs of a metaphysical nature (religious) are distinct from elements grounded on nature and the natural (cultural). For instance, language (with its grammar) is a cultural element while sacralization of language in which a particular religious scripture is written is more often a religious practice. The same applies to music and the arts.[228] Criticism of religion is criticism of the ideas, the truth, or the practice of religion, including its political and social implications.[229]  In botany, a fruit is the seed-bearing structure in flowering plants that is formed from the ovary after flowering. Fruits are the means by which flowering plants (also known as angiosperms) disseminate their seeds. Edible fruits in particular have long propagated using the movements of humans and animals in a symbiotic relationship that is the means for seed dispersal for the one group and nutrition for the other; in fact, humans and many animals have become dependent on fruits as a source of food.[1] Consequently, fruits account for a substantial fraction of the world\\'s agricultural output, and some (such as the apple and the pomegranate) have acquired extensive cultural and symbolic meanings. In common language usage, fruit normally means the seed-associated fleshy structures (or produce) of plants that typically are sweet or sour and edible in the raw state, such as apples, bananas, grapes, lemons, oranges, and strawberries. In botanical usage, the term fruit also includes many structures that are not commonly called \\'fruits\\' in everyday language, such as nuts, bean pods, corn kernels, tomatoes, and wheat grains.[2][3] Many common language terms used for fruit and seeds differ from botanical classifications. For example, in botany, a fruit is a ripened ovary or carpel that contains seeds, e.g., an apple, pomegranate, tomato or a pumpkin. A nut is a type of fruit (and not a seed), and a seed is a ripened ovule.[4] In culinary language, a fruit is the sweet- or not sweet- (even sour-) tasting produce of a specific plant (e.g., a peach, pear or lemon); nuts are hard, oily, non-sweet plant produce in shells (hazelnut, acorn). Vegetables, so called, typically are savory or non-sweet produce (zucchini, lettuce, broccoli, and tomato); but some may be sweet-tasting (sweet potato).[5] Examples of botanically classified fruit that typically are called vegetables include: cucumber, pumpkin, and squash (all are cucurbits); beans, peanuts, and peas (all legumes); corn, eggplant, bell pepper (or sweet pepper), and tomato. The spices chili pepper and allspice are fruits, botanically speaking.[4] In contrast, rhubarb is often called a fruit when used in making pies, but the edible produce of rhubarb is actually the leaf stalk or petiole of the plant.[6] Edible gymnosperm seeds are often given fruit names, e.g., ginkgo nuts and pine nuts. Botanically, a cereal grain, such as corn, rice, or wheat is a kind of fruit (termed a caryopsis). However, the fruit wall is thin and fused to the seed coat, so almost all the edible grain-fruit is actually a seed.[7] The outer layer, often edible, of most fruits is called the pericarp. Typically formed from the ovary, it surrounds the seeds; in some species, however, other structural tissues contribute to or form the edible portion. The pericarp may be described in three layers from outer to inner, i.e., the epicarp, mesocarp and endocarp. Fruit that bears a prominent pointed terminal projection is said to be beaked.[8] A fruit results from the fertilizing and maturing of one or more flowers. The gynoecium, which contains the stigma-style-ovary system, is centered in the flower-head, and it forms all or part of the fruit.[9] Inside the ovary(ies) are one or more ovules. Here begins a complex sequence called double fertilization: a female gametophyte  produces an egg cell for the purpose of fertilization.[10] (A female gametophyte is called a megagametophyte, and also called the embryo sac.) After double fertilization, the ovules will become seeds. Ovules are fertilized in a process that starts with pollination, which is the movement of pollen from the stamens to the stigma-style-ovary system within the flower-head. After pollination, a pollen tube grows from the (deposited) pollen through the stigma down the style into the ovary to the ovule. Two sperm are transferred from the pollen to a megagametophyte. Within the megagametophyte one sperm unites with the egg, forming a zygote, while the second sperm enters the central cell forming the endosperm mother cell, which completes the double fertilization process.[11][12] Later the zygote will give rise to the embryo of the seed, and the endosperm mother cell will give rise to endosperm, a nutritive tissue used by the embryo. As the ovules develop into seeds, the ovary begins to ripen and the ovary wall, the pericarp, may become fleshy (as in berries or drupes), or it may form a hard outer covering (as in nuts). In some multiseeded fruits, the extent to which a fleshy structure develops is proportional to the number of fertilized ovules.[13] The pericarp typically is differentiated into two or three distinct layers; these are called the exocarp (outer layer, also called epicarp), mesocarp (middle layer), and endocarp (inner layer). In some fruits  the sepals, petals, stamens and/or the style of the flower fall away as the fleshy fruit ripens. However, for simple fruits derived from an inferior ovary – i.e., one that lies below the attachment of other floral parts – there are parts (including petals, sepals, and stamens) that fuse with the ovary and ripen with it. For such a case, when floral parts other than the ovary form a significant part of the fruit that develops, it is called an accessory fruit. Examples of accessory fruits include apple, rose hip, strawberry and pineapple. Because several parts of the flower besides the ovary may contribute to the structure of a fruit, it is important to study flower structure to understand how a particular fruit forms.[3] There are three general modes of fruit development: The development sequence of a typical drupe, the nectarine (Prunus persica) over a 7.5 month period, from bud formation in early winter to fruit ripening in midsummer The parts of a flower, showing the stigma-style-ovary system. An apple is a simple fleshy fruit. Key parts are the epicarp, or exocarp, or outer skin (not labelled); and the mezocarp and endocarp (labelled). Insertion point: There are three positions of insertion of the ovary at the base of a flower: I superior; II half-inferior; III inferior. The \\'insertion point\\' is where the androecium parts (a), the petals (p), and the sepals (s) all converge and attach to the receptacle (r). (Ovary=gynoecium (g).) In the noni, flowers are produced in time-sequence along the stem. It is possible to see a progression of flowering, fruit development, and fruit ripening. Twin apples Consistent with the three modes of fruit development plant scientists have classified fruits into three main groups: simple fruits, aggregate fruits, and multiple (or composite) fruits.[14] The groupings reflect how the ovary and other flower organs are arranged and how the fruits develop, but they are not evolutionarily relevant as diverse plant taxa may be in the same group. While the section of a fungus that produces spores is called a fruiting body,[15] fungi are members of the fungi kingdom and not of the plant kingdom. Simple fruits are the result of the ripening-to-fruit of a simple or compound ovary in a single flower with a single pistil. In contrast,   a single flower with numerous pistils typically produces an aggregate fruit; and the merging of several flowers, or a \\'multiple\\' of flowers, results in a \\'multiple\\' fruit.[16] A simple fruit is further classified as to whether it is dry or fleshy. To distribute their seeds, dry fruits may split open and discharge their seeds to the winds, which is called dehiscence.[17] Or the distribution process may rely upon the decay and degradation of the fruit to expose the seeds; or it may rely upon the eating of fruit and excreting of seeds by frugivores – both are called indehiscence. Fleshy fruits do not split open, but they also are indehiscent and they may also rely on frugivores for distribution of their seeds. Typically, the entire outer layer of the ovary wall ripens into a potentially edible pericarp. Types of dry simple fruits, (with examples) include: Fruits in which part or all of the pericarp (fruit wall) is fleshy at maturity are termed fleshy simple fruits. Types of fleshy simple fruits, (with examples) include: Berries are a type of simple fleshy fruit that issue from a single ovary.[19] (The ovary itself may be compound, with several carpels.) The botanical term true berry includes grapes, currants, cucumbers, eggplants (aubergines), tomatoes, chili peppers, and bananas, but excludes certain fruits that are called \"-berry\" by culinary custom or by common usage of the term – such as strawberries and raspberries. Berries may be formed from one or more carpels (i.e., from the simple or compound ovary) from the same, single flower. Seeds typically are embedded in the fleshy interior of the ovary. Examples include: The strawberry, regardless of its appearance, is classified as a dry, not a fleshy fruit. Botanically, it is not a berry; it is an aggregate-accessory fruit, the latter term meaning the fleshy part is derived not from the plant\\'s ovaries but from the receptacle that holds the ovaries.[22] Numerous dry achenes are attached to the outside of the fruit-flesh; they appear to be seeds but each is actually an ovary of a flower, with a seed inside.[22] Schizocarps are dry fruits, though some appear to be fleshy. They originate from syncarpous ovaries but do not actually dehisce; rather, they split into segments with one or more seeds. They include a number of different forms from a wide range of families, including carrot, parsnip, parsley, cumin.[14] An aggregate fruit is also called an aggregation, or etaerio; it develops from a single flower that presents numerous simple pistils.[16] Each pistil contains one carpel; together they form a fruitlet. The ultimate (fruiting) development of the aggregation of pistils is called an aggregate fruit, etaerio fruit, or simply an etaerio. Different types of aggregate fruits can produce different etaerios, such as achenes, drupelets, follicles, and berries. Some other broadly recognized species and their etaerios (or aggregations) are: The pistils of the raspberry are called drupelets because each pistil is like a small drupe attached to the receptacle. In some bramble fruits such as blackberry the receptacle, an accessory part, elongates and then develops as part of the fruit, making the blackberry an aggregate-accessory fruit.[25] The strawberry is also an aggregate-accessory fruit, of which the seeds are contained in the achenes.[26] Notably in all these examples, the fruit develops from a single flower, with numerous pistils. A multiple fruit is formed from a cluster of flowers, (a \\'multiple\\' of flowers) – also called an inflorescence. Each (\\'smallish\\') flower produces a single fruitlet, which, as all develop, all merge into one mass of fruit.[27] Examples include pineapple, fig, mulberry, Osage orange, breadfruit. An inflorescence (a cluster) of white flowers, called a head, is produced first. After fertilization, each flower in the cluster develops into a drupe; as the drupes expand, they develop as a connate organ, merging into a multiple fleshy fruit called a syncarp. Progressive stages of multiple flowering and fruit development can be observed on a single branch of the Indian mulberry, or noni. During the sequence of development, a progression of second, third, and more inflorescences are initiated in turn at the head of the branch or stem. Fruits may incorporate tissues derived from other floral parts besides the ovary, including the receptacle, hypanthium, petals, or sepals. Accessory fruits occur in all three classes of fruit development – simple, aggregate, and multiple. Accessory fruits are frequently designated by the hyphenated term showing both characters. For example, a pineapple is a multiple-accessory fruit. a blackberry is an aggregate-accessory fruit, and an apple is a simple-accessory fruit. Seedlessness is an important feature of some fruits of commerce. Commercial cultivars of bananas and pineapples are examples of seedless fruits. Some cultivars of citrus fruits (especially grapefruit, mandarin oranges, navel oranges), satsumas, table grapes, and of watermelons are valued for their seedlessness. In some species, seedlessness is the result of parthenocarpy, where fruits set without fertilization. Parthenocarpic fruit-set may (or may not) require pollination, but most seedless citrus fruits require a stimulus from pollination to produce fruit.[28] Seedless bananas and grapes are triploids, and seedlessness results from the abortion of the embryonic plant that is produced by fertilization, a phenomenon known as stenospermocarpy, which requires normal pollination and fertilization.[29] Variations in fruit structures largely depend on the modes of dispersal applied to their seeds. Dispersal is achieved by wind or water, by explosive dehiscence, and by interactions with animals.[30] Some fruits present their outer skins or shells coated with spikes or hooked burrs; these evolved either to deter would-be foragers from feeding on them, or to serve to attach  themselves to the hair, feathers, legs, or clothing of animals, thereby using them as dispersal agents. These plants are termed zoochorous; common examples include cocklebur, unicorn plant, and beggarticks (or Spanish needle).[31][32] By developments of mutual evolution the fleshy produce of fruits typically appeals to hungry animals, such that the seeds contained within are taken in, carried away and later deposited (i.e., defecated) at a distance from the parent plant. Likewise, the nutritious, oily kernels of nuts typically motivate birds and squirrels to hoard them, burying them in soil to retrieve later during the winter of scarcity; thereby, uneaten seeds are sown effectively under natural conditions to germinate and grow a new plant some distance away from the parent.[4] Other fruits have evolved flattened and elongated wings or helicopter-like blades, e.g., elm, maple, and tuliptree. This mechanism increases dispersal distance away from the parent via wind. Other wind-dispersed fruit have tiny \"parachutes\", e.g., dandelion, milkweed, salsify.[30] Coconut fruits can float thousands of miles in the ocean, thereby spreading their seeds. Other fruits that can disperse via water are nipa palm and screw pine.[30] Some fruits have evolved propulsive mechanisms that fling seeds substantial distances –(perhaps up to 100\\xa0m (330\\xa0ft) in the case of the sandbox tree) – via explosive dehiscence or other such mechanisms (see impatiens and squirting cucumber).[33]  A cornucopia of fruits – fleshy (simple) fruits from apples to berries to watermelon; dry (simple) fruits including beans and rice and coconuts; aggregate fruits including strawberries, raspberries, blackberries, pawpaw; multiple fruits such as pineapple, fig, mulberries – are commercially valuable as human food. They are eaten both fresh and as jams, marmalade and other fruit preserves. They are used extensively in manufactured and processed foods (cakes, cookies, baked goods, flavorings, ice cream, yogurt, canned vegetables, frozen vegetables and meals) and beverages such as fruit juices and alcoholic beverages (brandy, fruit beer, wine).[34] Spices like vanilla, black pepper, paprika, and allspice are derived from berries. Olive fruit is pressed for olive oil and similar processing is applied to other oil bearing fruits/vegetables.[35] Fruits are also used for socializing and gift-giving in the form of fruit baskets and fruit bouquets.[36][37] Typically, many botanical fruits – \"vegetables\" in culinary parlance – (including tomato, green beans, leaf greens, bell pepper, cucumber, eggplant, okra, pumpkin, squash, zucchini) are bought and sold daily in fresh produce markets and greengroceries and carried back to kitchens, at home or restaurant, for preparation of meals.[38] All fruits benefit from proper post harvest care, and in many fruits, the plant hormone ethylene causes ripening. Therefore, maintaining most fruits in an efficient cold chain is optimal for post harvest storage, with the aim of extending and ensuring shelf life.[39] Various culinary fruits provide significant amounts of fiber and water, and many are generally high in vitamin C.[40] An overview of numerous studies showed that fruits (e.g., whole apples or whole oranges) are satisfying (filling) by simply eating and chewing them.[41] The dietary fiber consumed in eating fruit promotes satiety, and may help to control body weight and aid reduction of blood cholesterol, a risk factor for cardiovascular diseases.[42] Fruit consumption is under preliminary research for the potential to improve nutrition and affect chronic diseases.[43][44] Regular consumption of fruit is generally associated with reduced risks of several diseases and functional declines associated with aging.[45][46][47] For food safety, the CDC recommends proper fruit handling and preparation to reduce the risk of food contamination and foodborne illness. Fresh fruits and vegetables should be carefully selected; at the store, they should not be damaged or bruised; and precut pieces should be refrigerated or surrounded by ice. All fruits and vegetables should be rinsed before eating. This recommendation also applies to produce with rinds or skins that are not eaten. It should be done just before preparing or eating to avoid premature spoilage. Fruits and vegetables should be kept separate from raw foods like meat, poultry, and seafood, as well as from utensils that have come in contact with raw foods. Fruits and vegetables that are not going to be cooked should be thrown away if they have touched raw meat, poultry, seafood, or eggs. All cut, peeled, or cooked fruits and vegetables should be refrigerated within two hours. After a certain time, harmful bacteria may grow on them and increase the risk of foodborne illness.[48] Fruit allergies make up about 10 percent of all food related allergies.[49][50] Because fruits have been such a major part of the human diet, various cultures have developed many different uses for fruits they do not depend on for food. For example:  Quantum mechanics is a fundamental theory in physics that provides a description of the physical properties of nature at the scale of atoms and subatomic particles.[2]:\\u200a1.1\\u200a It is the foundation of all quantum physics including quantum chemistry, quantum field theory, quantum technology, and quantum information science. Classical physics, the collection of theories that existed before the advent of quantum mechanics, describes many aspects of nature at an ordinary (macroscopic) scale, but is not sufficient for describing them at small (atomic and subatomic) scales. Most theories in classical physics can be derived from quantum mechanics as an approximation valid at large (macroscopic) scale.[3] Quantum mechanics differs from classical physics in that energy, momentum, angular momentum, and other quantities of a bound system are restricted to discrete values (quantization); objects have characteristics of both particles and waves (wave–particle duality); and there are limits to how accurately the value of a physical quantity can be predicted prior to its measurement, given a complete set of initial conditions (the uncertainty principle). Quantum mechanics arose gradually from theories to explain observations that could not be reconciled with classical physics, such as Max Planck\\'s solution in 1900 to the black-body radiation problem, and the correspondence between energy and frequency in Albert Einstein\\'s 1905 paper, which explained the photoelectric effect. These early attempts to understand microscopic phenomena, now known as the \"old quantum theory\", led to the full development of quantum mechanics in the mid-1920s by Niels Bohr, Erwin Schrödinger, Werner Heisenberg, Max Born, Paul Dirac and others. The modern theory is formulated in various specially developed mathematical formalisms. In one of them, a mathematical entity called the wave function provides information, in the form of probability amplitudes, about what measurements of a particle\\'s energy, momentum, and other physical properties may yield. Quantum mechanics allows the calculation of properties and behaviour of physical systems. It is typically applied to microscopic systems: molecules, atoms and sub-atomic particles. It has been demonstrated to hold for complex molecules with thousands of atoms,[4] but its application to human beings raises philosophical problems, such as Wigner\\'s friend, and its application to the universe as a whole remains speculative.[5] Predictions of quantum mechanics have been verified experimentally to an extremely high degree of accuracy.[note 1] A fundamental feature of the theory is that it usually cannot predict with certainty what will happen, but only give probabilities. Mathematically, a probability is found by taking the square of the absolute value of a complex number, known as a probability amplitude. This is known as the Born rule, named after physicist Max Born. For example, a quantum particle like an electron can be described by a wave function, which associates to each point in space a probability amplitude. Applying the Born rule to these amplitudes gives a probability density function for the position that the electron will be found to have when an experiment is performed to measure it. This is the best the theory can do; it cannot say for certain where the electron will be found. The Schrödinger equation relates the collection of probability amplitudes that pertain to one moment of time to the collection of probability amplitudes that pertain to another. One consequence of the mathematical rules of quantum mechanics is a tradeoff in predictability between different measurable quantities. The most famous form of this uncertainty principle says that no matter how a quantum particle is prepared or how carefully experiments upon it are arranged, it is impossible to have a precise prediction for a measurement of its position and also at the same time for a measurement of its momentum. Another consequence of the mathematical rules of quantum mechanics is the phenomenon of quantum interference, which is often illustrated with the double-slit experiment. In the basic version of this experiment, a coherent light source, such as a laser beam, illuminates a plate pierced by two parallel slits, and the light passing through the slits is observed on a screen behind the plate.[6]:\\u200a102–111\\u200a[2]:\\u200a1.1–1.8\\u200a The wave nature of light causes the light waves passing through the two slits to interfere, producing bright and dark bands on the screen – a result that would not be expected if light consisted of classical particles.[6] However, the light is always found to be absorbed at the screen at discrete points, as individual particles rather than waves; the interference pattern appears via the varying density of these particle hits on the screen. Furthermore, versions of the experiment that include detectors at the slits find that each detected photon passes through one slit (as would a classical particle), and not through both slits (as would a wave).[6]:\\u200a109\\u200a[7][8] However, such experiments demonstrate that particles do not form the interference pattern if one detects which slit they pass through. Other atomic-scale entities, such as electrons, are found to exhibit the same behavior when fired towards a double slit.[2] This behavior is known as wave–particle duality. Another counter-intuitive phenomenon predicted by quantum mechanics is quantum tunnelling: a particle that goes up against a potential barrier can cross it, even if its kinetic energy is smaller than the maximum of the potential.[9] In classical mechanics this particle would be trapped. Quantum tunnelling has several important consequences, enabling radioactive decay, nuclear fusion in stars, and applications such as scanning tunnelling microscopy and the tunnel diode.[10] When quantum systems interact, the result can be the creation of quantum entanglement: their properties become so intertwined that a description of the whole solely in terms of the individual parts is no longer possible. Erwin Schrödinger called entanglement \"...the characteristic trait of quantum mechanics, the one that enforces its entire departure from classical lines of thought\".[11] Quantum entanglement enables the counter-intuitive properties of quantum pseudo-telepathy, and can be a valuable resource in communication protocols, such as quantum key distribution and superdense coding.[12] Contrary to popular misconception, entanglement does not allow sending signals faster than light, as demonstrated by the no-communication theorem.[12] Another possibility opened by entanglement is testing for \"hidden variables\", hypothetical properties more fundamental than the quantities addressed in quantum theory itself, knowledge of which would allow more exact predictions than quantum theory can provide. A collection of results, most significantly Bell\\'s theorem, have demonstrated that broad classes of such hidden-variable theories are in fact incompatible with quantum physics. According to Bell\\'s theorem, if nature actually operates in accord with any theory of local hidden variables, then the results of a Bell test will be constrained in a particular, quantifiable way. Many Bell tests have been performed, using entangled particles, and they have shown results incompatible with the constraints imposed by local hidden variables.[13][14] It is not possible to present these concepts in more than a superficial way without introducing the actual mathematics involved; understanding quantum mechanics requires not only manipulating complex numbers, but also linear algebra, differential equations, group theory, and other more advanced subjects.[note 2] Accordingly, this article will present a mathematical formulation of quantum mechanics and survey its application to some useful and oft-studied examples. In the mathematically rigorous formulation of quantum mechanics, the state of a quantum mechanical system is a vector   ']"
            ]
          },
          "metadata": {},
          "execution_count": 10
        }
      ]
    },
    {
      "cell_type": "markdown",
      "source": [
        "## Process text\n",
        "Clean text and create word-to-int index"
      ],
      "metadata": {
        "id": "FOjFXZ_CVkbR"
      }
    },
    {
      "cell_type": "code",
      "source": [
        "# 4.0 Clean the text and get tokens:\n",
        "\n",
        "cleaned_tokens = review_to_wordlist(text[0], remove_stopwords=True)"
      ],
      "metadata": {
        "id": "ikI6LPgy_yRo"
      },
      "execution_count": null,
      "outputs": []
    },
    {
      "cell_type": "code",
      "source": [
        "# 4.1 Look at tokens and how many total words:\n",
        "cleaned_tokens[:10]\n",
        "print()\n",
        "len(cleaned_tokens)"
      ],
      "metadata": {
        "id": "RpOOca2b_-ZI",
        "colab": {
          "base_uri": "https://localhost:8080/"
        },
        "outputId": "43019f6d-3683-416e-cef0-7d722d386c20"
      },
      "execution_count": null,
      "outputs": [
        {
          "output_type": "execute_result",
          "data": {
            "text/plain": [
              "['ordinary',\n",
              " 'language',\n",
              " 'crime',\n",
              " 'unlawful',\n",
              " 'act',\n",
              " 'punishable',\n",
              " 'state',\n",
              " 'authority',\n",
              " 'term',\n",
              " 'crime']"
            ]
          },
          "metadata": {},
          "execution_count": 91
        },
        {
          "output_type": "stream",
          "name": "stdout",
          "text": [
            "\n"
          ]
        },
        {
          "output_type": "execute_result",
          "data": {
            "text/plain": [
              "15343"
            ]
          },
          "metadata": {},
          "execution_count": 91
        }
      ]
    },
    {
      "cell_type": "code",
      "source": [
        "# 4.2 No of unique words:\n",
        "\n",
        "max_vocab = len(set(cleaned_tokens))\n",
        "max_vocab  # 4044, 4727"
      ],
      "metadata": {
        "id": "-8LTkBLMP3io",
        "colab": {
          "base_uri": "https://localhost:8080/"
        },
        "outputId": "db840e02-afc7-4d9e-edf0-cd51fcccc0e7"
      },
      "execution_count": null,
      "outputs": [
        {
          "output_type": "execute_result",
          "data": {
            "text/plain": [
              "4727"
            ]
          },
          "metadata": {},
          "execution_count": 92
        }
      ]
    },
    {
      "cell_type": "code",
      "source": [
        "# 5.0 Get a dict of which word occurs\n",
        "#     how many times:\n",
        "\n",
        "freq_of_words = Counter(cleaned_tokens)\n",
        "freq_of_words"
      ],
      "metadata": {
        "id": "FsogaQYKECGR"
      },
      "execution_count": null,
      "outputs": []
    },
    {
      "cell_type": "code",
      "source": [
        "# 5.1 Sort words in order of freq\n",
        "#     Most freq at the top:\n",
        "\n",
        "vocab = sorted(freq_of_words,\n",
        "               key=freq_of_words.get,\n",
        "               reverse=True)\n",
        "\n",
        "# 5.1.1\n",
        "len(vocab)\n",
        "print(\"\\n=====\\n\")\n",
        "vocab   # Most freq at the top; least at the bottom\n"
      ],
      "metadata": {
        "id": "hkQRtmCnEy7A",
        "outputId": "6ad6a4c2-7c49-4caa-fb8f-23c2eff5e7c4",
        "colab": {
          "base_uri": "https://localhost:8080/"
        }
      },
      "execution_count": null,
      "outputs": [
        {
          "output_type": "execute_result",
          "data": {
            "text/plain": [
              "4727"
            ]
          },
          "metadata": {},
          "execution_count": 25
        },
        {
          "output_type": "execute_result",
          "data": {
            "text/plain": [
              "['football',\n",
              " 'religion',\n",
              " 'ball',\n",
              " 'rules',\n",
              " 'hockey',\n",
              " 'game',\n",
              " 'law',\n",
              " 'religious',\n",
              " 'played',\n",
              " 'rugby',\n",
              " 'one',\n",
              " 'religions',\n",
              " 'also',\n",
              " 'fruit',\n",
              " 'first',\n",
              " 'games',\n",
              " 'may',\n",
              " 'many',\n",
              " 'fruits',\n",
              " 'called',\n",
              " 'th',\n",
              " 'century',\n",
              " 'crime',\n",
              " 'world',\n",
              " 'used',\n",
              " 'ice',\n",
              " 'modern',\n",
              " 'form',\n",
              " 'known',\n",
              " 'codes',\n",
              " 'word',\n",
              " 'time',\n",
              " 'include',\n",
              " 'two',\n",
              " 'state',\n",
              " 'people',\n",
              " 'england',\n",
              " 'association',\n",
              " 'players',\n",
              " 'quantum',\n",
              " 'various',\n",
              " 'early',\n",
              " 'sport',\n",
              " 'including',\n",
              " 'english',\n",
              " 'term',\n",
              " 'common',\n",
              " 'however',\n",
              " 'school',\n",
              " 'use',\n",
              " 'criminal',\n",
              " 'public',\n",
              " 'crimes',\n",
              " 'code',\n",
              " 'system',\n",
              " 'schools',\n",
              " 'field',\n",
              " 'playing',\n",
              " 'would',\n",
              " 'american',\n",
              " 'countries',\n",
              " 'international',\n",
              " 'ovary',\n",
              " 'example',\n",
              " 'laws',\n",
              " 'several',\n",
              " 'often',\n",
              " 'new',\n",
              " 'sports',\n",
              " 'play',\n",
              " 'life',\n",
              " 'states',\n",
              " 'ancient',\n",
              " 'forms',\n",
              " 'even',\n",
              " 'league',\n",
              " 'culture',\n",
              " 'found',\n",
              " 'nature',\n",
              " 'practices',\n",
              " 'based',\n",
              " 'theory',\n",
              " 'later',\n",
              " 'e',\n",
              " 'goal',\n",
              " 'number',\n",
              " 'different',\n",
              " 'beliefs',\n",
              " 'seeds',\n",
              " 'individual',\n",
              " 'social',\n",
              " 'human',\n",
              " 'concept',\n",
              " 'particular',\n",
              " 'earliest',\n",
              " 'sometimes',\n",
              " 'australian',\n",
              " 'like',\n",
              " 'usually',\n",
              " 'legal',\n",
              " 'latin',\n",
              " 'means',\n",
              " 'cultures',\n",
              " 'rule',\n",
              " 'belief',\n",
              " 'united',\n",
              " 'national',\n",
              " 'team',\n",
              " 'act',\n",
              " 'simple',\n",
              " 'popular',\n",
              " 'general',\n",
              " 'natural',\n",
              " 'either',\n",
              " 'others',\n",
              " 'study',\n",
              " 'canada',\n",
              " 'parts',\n",
              " 'club',\n",
              " 'sacred',\n",
              " 'judaism',\n",
              " 'fleshy',\n",
              " 'union',\n",
              " 'group',\n",
              " 'roman',\n",
              " 'development',\n",
              " 'allowed',\n",
              " 'inline',\n",
              " 'mythology',\n",
              " 'defined',\n",
              " 'typically',\n",
              " 'could',\n",
              " 'following',\n",
              " 'become',\n",
              " 'terms',\n",
              " 'part',\n",
              " 'similar',\n",
              " 'player',\n",
              " 'set',\n",
              " 'christianity',\n",
              " 'theories',\n",
              " 'flower',\n",
              " 'mechanics',\n",
              " 'though',\n",
              " 'offence',\n",
              " 'needed',\n",
              " 'meant',\n",
              " 'g',\n",
              " 'political',\n",
              " 'another',\n",
              " 'involved',\n",
              " 'since',\n",
              " 'western',\n",
              " 'definition',\n",
              " 'written',\n",
              " 'non',\n",
              " 'meaning',\n",
              " 'made',\n",
              " 'related',\n",
              " 'c',\n",
              " 'europe',\n",
              " 'thought',\n",
              " 'kicking',\n",
              " 'traditional',\n",
              " 'teams',\n",
              " 'sticks',\n",
              " 'single',\n",
              " 'bandy',\n",
              " 'religi',\n",
              " 'science',\n",
              " 'society',\n",
              " 'derived',\n",
              " 'see',\n",
              " 'cultural',\n",
              " 'developed',\n",
              " 'thus',\n",
              " 'line',\n",
              " 'among',\n",
              " 'classical',\n",
              " 'reference',\n",
              " 'well',\n",
              " 'body',\n",
              " 'university',\n",
              " 'style',\n",
              " 'side',\n",
              " 'clubs',\n",
              " 'three',\n",
              " 'islam',\n",
              " 'multiple',\n",
              " 'plant',\n",
              " 'certain',\n",
              " 'power',\n",
              " 'men',\n",
              " 'according',\n",
              " 'whether',\n",
              " 'place',\n",
              " 'using',\n",
              " 'bc',\n",
              " 'gods',\n",
              " 'christian',\n",
              " 'things',\n",
              " 'still',\n",
              " 'due',\n",
              " 'professional',\n",
              " 'evidence',\n",
              " 'within',\n",
              " 'college',\n",
              " 'practice',\n",
              " 'faith',\n",
              " 'theft',\n",
              " 'citation',\n",
              " 'widely',\n",
              " 'greek',\n",
              " 'referred',\n",
              " 'moral',\n",
              " 'case',\n",
              " 'ireland',\n",
              " 'way',\n",
              " 'william',\n",
              " 'described',\n",
              " 'make',\n",
              " 'significant',\n",
              " 'much',\n",
              " 'medieval',\n",
              " 'australia',\n",
              " 'city',\n",
              " 'although',\n",
              " 'canadian',\n",
              " 'passing',\n",
              " 'asia',\n",
              " 'throughout',\n",
              " 'god',\n",
              " 'considered',\n",
              " 'running',\n",
              " 'became',\n",
              " 'winter',\n",
              " 'fa',\n",
              " 'formed',\n",
              " 'dry',\n",
              " 'roller',\n",
              " 'examples',\n",
              " 'health',\n",
              " 'vegetables',\n",
              " 'accessory',\n",
              " 'aggregate',\n",
              " 'language',\n",
              " 'systems',\n",
              " 'norms',\n",
              " 'rather',\n",
              " 'french',\n",
              " 'given',\n",
              " 'members',\n",
              " 'original',\n",
              " 'scholars',\n",
              " 'u',\n",
              " 'distinct',\n",
              " 'types',\n",
              " 'foot',\n",
              " 'kick',\n",
              " 'match',\n",
              " 'began',\n",
              " 'meeting',\n",
              " 'important',\n",
              " 'melbourne',\n",
              " 'skates',\n",
              " 'puck',\n",
              " 'produce',\n",
              " 'must',\n",
              " 'classified',\n",
              " 'every',\n",
              " 'civil',\n",
              " 'richard',\n",
              " 'old',\n",
              " 'making',\n",
              " 'changes',\n",
              " 'less',\n",
              " 'actually',\n",
              " 'pass',\n",
              " 'define',\n",
              " 'history',\n",
              " 'offences',\n",
              " 'courts',\n",
              " 'years',\n",
              " 'seen',\n",
              " 'population',\n",
              " 'beings',\n",
              " 'morality',\n",
              " 'goals',\n",
              " 'man',\n",
              " 'concepts',\n",
              " 'largely',\n",
              " 'origin',\n",
              " 'texts',\n",
              " 'sense',\n",
              " 'emerged',\n",
              " 'traditions',\n",
              " 'work',\n",
              " 'northern',\n",
              " 'divine',\n",
              " 'north',\n",
              " 'outside',\n",
              " 'carrying',\n",
              " 'middle',\n",
              " 'london',\n",
              " 'translated',\n",
              " 'said',\n",
              " 'adopted',\n",
              " 'africa',\n",
              " 'sledge',\n",
              " 'buddhism',\n",
              " 'seed',\n",
              " 'particle',\n",
              " 'view',\n",
              " 'acts',\n",
              " 'order',\n",
              " 'attempt',\n",
              " 'authorities',\n",
              " 'justice',\n",
              " 'refers',\n",
              " 'late',\n",
              " 'behavior',\n",
              " 'complex',\n",
              " 'enforcement',\n",
              " 'influence',\n",
              " 'similarly',\n",
              " 'second',\n",
              " 'almost',\n",
              " 'develop',\n",
              " 'end',\n",
              " 'describes',\n",
              " 'light',\n",
              " 'together',\n",
              " 'ad',\n",
              " 'violent',\n",
              " 'around',\n",
              " 'structure',\n",
              " 'smaller',\n",
              " 'violence',\n",
              " 'result',\n",
              " 'cognitive',\n",
              " 'possible',\n",
              " 'billion',\n",
              " 'main',\n",
              " 'primarily',\n",
              " 'indigenous',\n",
              " 'matches',\n",
              " 'britain',\n",
              " 'open',\n",
              " 'students',\n",
              " 'today',\n",
              " 'year',\n",
              " 'away',\n",
              " 'cup',\n",
              " 'oldest',\n",
              " 'scientific',\n",
              " 'wills',\n",
              " 'true',\n",
              " 'variant',\n",
              " 'long',\n",
              " 'european',\n",
              " 'mean',\n",
              " 'stick',\n",
              " 'ethnic',\n",
              " 'abrahamic',\n",
              " 'superstition',\n",
              " 'edible',\n",
              " 'sweet',\n",
              " 'fertilization',\n",
              " 'community',\n",
              " 'provide',\n",
              " 'without',\n",
              " 'historically',\n",
              " 'give',\n",
              " 'originally',\n",
              " 'wave',\n",
              " 'applied',\n",
              " 'extent',\n",
              " 'note',\n",
              " 'john',\n",
              " 'simply',\n",
              " 'right',\n",
              " 'recent',\n",
              " 'origins',\n",
              " 'king',\n",
              " 'specific',\n",
              " 'day',\n",
              " 'distinguish',\n",
              " 'involving',\n",
              " 'major',\n",
              " 'church',\n",
              " 'times',\n",
              " 'classes',\n",
              " 'divided',\n",
              " 'come',\n",
              " 'studies',\n",
              " 'good',\n",
              " 'universal',\n",
              " 'islamic',\n",
              " 'soccer',\n",
              " 'back',\n",
              " 'founded',\n",
              " 'elements',\n",
              " 'handling',\n",
              " 'offside',\n",
              " 'appear',\n",
              " 'period',\n",
              " 'balls',\n",
              " 'central',\n",
              " 'de',\n",
              " 'hold',\n",
              " 'ban',\n",
              " 'women',\n",
              " 'mid',\n",
              " 'includes',\n",
              " 'carried',\n",
              " 'took',\n",
              " 'feature',\n",
              " 'half',\n",
              " 'double',\n",
              " 'cambridge',\n",
              " 'bell',\n",
              " 'towards',\n",
              " 'fact',\n",
              " 'aspects',\n",
              " 'floor',\n",
              " 'physical',\n",
              " 'comparative',\n",
              " 'argued',\n",
              " 'worship',\n",
              " 'fear',\n",
              " 'associated',\n",
              " 'develops',\n",
              " 'results',\n",
              " 'outer',\n",
              " 'flowers',\n",
              " 'physics',\n",
              " 'particles',\n",
              " 'probability',\n",
              " 'punishable',\n",
              " 'nations',\n",
              " 'societies',\n",
              " 'jurisdictions',\n",
              " 'death',\n",
              " 'individuals',\n",
              " 'private',\n",
              " 'governing',\n",
              " 'punishment',\n",
              " 'person',\n",
              " 'animals',\n",
              " 'phenomenon',\n",
              " 'suggests',\n",
              " 'section',\n",
              " 'problem',\n",
              " 'experience',\n",
              " 'activities',\n",
              " 'dominant',\n",
              " 'reason',\n",
              " 'whatever',\n",
              " 'free',\n",
              " 'concern',\n",
              " 'idea',\n",
              " 'function',\n",
              " 'country',\n",
              " 'recorded',\n",
              " 'surviving',\n",
              " 'source',\n",
              " 'across',\n",
              " 'property',\n",
              " 'included',\n",
              " 'consider',\n",
              " 'hand',\n",
              " 'greece',\n",
              " 'local',\n",
              " 'point',\n",
              " 'wage',\n",
              " 'institutions',\n",
              " 'third',\n",
              " 'gaelic',\n",
              " 'references',\n",
              " 'hands',\n",
              " 'movement',\n",
              " 'kicked',\n",
              " 'book',\n",
              " 'zealand',\n",
              " 'comes',\n",
              " 'taking',\n",
              " 'description',\n",
              " 'great',\n",
              " 'banned',\n",
              " 'evolved',\n",
              " 'led',\n",
              " 'changed',\n",
              " 'regarding',\n",
              " 'believe',\n",
              " 'generally',\n",
              " 'regardless',\n",
              " 'instance',\n",
              " 'harvard',\n",
              " 'west',\n",
              " 'establishment',\n",
              " 'distance',\n",
              " 'name',\n",
              " 'summer',\n",
              " 'rink',\n",
              " 'east',\n",
              " 'india',\n",
              " 'supernatural',\n",
              " 'spiritual',\n",
              " 'explain',\n",
              " 'hinduism',\n",
              " 'movements',\n",
              " 'numerous',\n",
              " 'max',\n",
              " 'philosophical',\n",
              " 'spirituality',\n",
              " 'adherents',\n",
              " 'christians',\n",
              " 'practiced',\n",
              " 'groups',\n",
              " 'muslims',\n",
              " 'muslim',\n",
              " 'food',\n",
              " 'nuts',\n",
              " 'pericarp',\n",
              " 'berries',\n",
              " 'properties',\n",
              " 'category',\n",
              " 'words',\n",
              " 'murder',\n",
              " 'rape',\n",
              " 'conform',\n",
              " 'relationship',\n",
              " 'thomas',\n",
              " 'constitutes',\n",
              " 'follow',\n",
              " 'followed',\n",
              " 'conditions',\n",
              " 'collection',\n",
              " 'data',\n",
              " 'variations',\n",
              " 'se',\n",
              " 'malum',\n",
              " 'stigma',\n",
              " 'serious',\n",
              " 'identified',\n",
              " 'consistent',\n",
              " 'h',\n",
              " 'saw',\n",
              " 'able',\n",
              " 'necessary',\n",
              " 'fundamental',\n",
              " 'entitled',\n",
              " 'current',\n",
              " 'find',\n",
              " 'rights',\n",
              " 'follows',\n",
              " 'formal',\n",
              " 'issued',\n",
              " 'sources',\n",
              " 'studied',\n",
              " 'action',\n",
              " 'empire',\n",
              " 'compensation',\n",
              " 'family',\n",
              " 'peoples',\n",
              " 'except',\n",
              " 'largest',\n",
              " 'get',\n",
              " 'st',\n",
              " 'best',\n",
              " 'perceived',\n",
              " 'hours',\n",
              " 'america',\n",
              " 'member',\n",
              " 'reported',\n",
              " 'split',\n",
              " 'varying',\n",
              " 'politics',\n",
              " 'emotional',\n",
              " 'psychology',\n",
              " 'problems',\n",
              " 'cell',\n",
              " 'present',\n",
              " 'commonly',\n",
              " 'spread',\n",
              " 'held',\n",
              " 'feet',\n",
              " 'centuries',\n",
              " 'japanese',\n",
              " 'version',\n",
              " 'ground',\n",
              " 'mentioned',\n",
              " 'fifa',\n",
              " 'rubber',\n",
              " 'documented',\n",
              " 'especially',\n",
              " 'throw',\n",
              " 'catch',\n",
              " 'small',\n",
              " 'historians',\n",
              " 'account',\n",
              " 'antiquity',\n",
              " 'children',\n",
              " 'japan',\n",
              " 'popularity',\n",
              " 'boys',\n",
              " 'mob',\n",
              " 'opposing',\n",
              " 'fields',\n",
              " 'inner',\n",
              " 'f',\n",
              " 'proclamation',\n",
              " 'scotland',\n",
              " 'strike',\n",
              " 'uses',\n",
              " 'met',\n",
              " 'attempts',\n",
              " 'significantly',\n",
              " 'creation',\n",
              " 'organised',\n",
              " 'eton',\n",
              " 'refer',\n",
              " 'sides',\n",
              " 'forward',\n",
              " 'working',\n",
              " 'class',\n",
              " 'six',\n",
              " 'competition',\n",
              " 'south',\n",
              " 'allow',\n",
              " 'sheffield',\n",
              " 'rfu',\n",
              " 'lack',\n",
              " 'born',\n",
              " 'high',\n",
              " 'shall',\n",
              " 'remained',\n",
              " 'yale',\n",
              " 'princeton',\n",
              " 'ruck',\n",
              " 'separate',\n",
              " 'federation',\n",
              " 'highest',\n",
              " 'type',\n",
              " 'instead',\n",
              " 'olympics',\n",
              " 'classification',\n",
              " 'iran',\n",
              " 'atheists',\n",
              " 'academic',\n",
              " 'usage',\n",
              " 'knowledge',\n",
              " 'broad',\n",
              " 'languages',\n",
              " 'jews',\n",
              " 'jewish',\n",
              " 'indian',\n",
              " 'deity',\n",
              " 'geertz',\n",
              " 'james',\n",
              " 'understanding',\n",
              " 'via',\n",
              " 'religiosity',\n",
              " 'flowering',\n",
              " 'dispersal',\n",
              " 'apple',\n",
              " 'pepper',\n",
              " 'layer',\n",
              " 'ovules',\n",
              " 'pollination',\n",
              " 'receptacle',\n",
              " 'pistils',\n",
              " 'eating',\n",
              " 'mathematical',\n",
              " 'slits',\n",
              " 'entanglement',\n",
              " 'ordinary',\n",
              " 'accepted',\n",
              " 'definitions',\n",
              " 'created',\n",
              " 'proposed',\n",
              " 'wrong',\n",
              " 'exists',\n",
              " 'worldwide',\n",
              " 'government',\n",
              " 'sentence',\n",
              " 'depending',\n",
              " 'imprisonment',\n",
              " 'violation',\n",
              " 'control',\n",
              " 'populations',\n",
              " 'mechanisms',\n",
              " 'citizens',\n",
              " 'prescribed',\n",
              " 'aim',\n",
              " 'addition',\n",
              " 'penal',\n",
              " 'believed',\n",
              " 'root',\n",
              " 'charge',\n",
              " 'derives',\n",
              " 'depends',\n",
              " 'court',\n",
              " 'normally',\n",
              " 'considers',\n",
              " 'understand',\n",
              " 'affect',\n",
              " 'everyday',\n",
              " 'norm',\n",
              " 'behaviour',\n",
              " 'cases',\n",
              " 'freedom',\n",
              " 'prohibition',\n",
              " 'count',\n",
              " 'actual',\n",
              " 'process',\n",
              " 'apply',\n",
              " 'appropriate',\n",
              " 'existence',\n",
              " 'content',\n",
              " 'l',\n",
              " 'adopt',\n",
              " 'makes',\n",
              " 'necessarily',\n",
              " 'therefore',\n",
              " 'conceptions',\n",
              " 'contrast',\n",
              " 'never',\n",
              " 'regard',\n",
              " 'communities',\n",
              " 'sin',\n",
              " 'war',\n",
              " 'always',\n",
              " 'produced',\n",
              " 'left',\n",
              " 'contains',\n",
              " 'romans',\n",
              " 'pater',\n",
              " 'interference',\n",
              " 'parlance',\n",
              " 'subject',\n",
              " 'obligation',\n",
              " 'complete',\n",
              " 'range',\n",
              " 'rome',\n",
              " 'came',\n",
              " 'parallel',\n",
              " 'effect',\n",
              " 'grew',\n",
              " 'gradually',\n",
              " 'help',\n",
              " 'organization',\n",
              " 'independent',\n",
              " 'fresh',\n",
              " 'context',\n",
              " 'categories',\n",
              " 'distinction',\n",
              " 'us',\n",
              " 'require',\n",
              " 'global',\n",
              " 'impact',\n",
              " 'feeling',\n",
              " 'risk',\n",
              " 'secular',\n",
              " 'catholic',\n",
              " 'regular',\n",
              " 'exist',\n",
              " 'large',\n",
              " 'annual',\n",
              " 'million',\n",
              " 'full',\n",
              " 'specifically',\n",
              " 'contemporary',\n",
              " 'tackles',\n",
              " 'put',\n",
              " 'explanations',\n",
              " 'existed',\n",
              " 'trying',\n",
              " 'drop',\n",
              " 'cicero',\n",
              " 'whilst',\n",
              " 'attempting',\n",
              " 'victoria',\n",
              " 'go',\n",
              " 'ages',\n",
              " 'animal',\n",
              " 'opponents',\n",
              " 'david',\n",
              " 'translation',\n",
              " 'pilam',\n",
              " 'opposite',\n",
              " 'started',\n",
              " 'division',\n",
              " 'president',\n",
              " 'roots',\n",
              " 'key',\n",
              " 'bodies',\n",
              " 'grammar',\n",
              " 'devised',\n",
              " 'formation',\n",
              " 'week',\n",
              " 'difficult',\n",
              " 'beginning',\n",
              " 'little',\n",
              " 'occurred',\n",
              " 'p',\n",
              " 'march',\n",
              " 'shaped',\n",
              " 'invention',\n",
              " 'speaking',\n",
              " 'defining',\n",
              " 'j',\n",
              " 'forming',\n",
              " 'behind',\n",
              " 'october',\n",
              " 'representatives',\n",
              " 'area',\n",
              " 'published',\n",
              " 'recently',\n",
              " 'fair',\n",
              " 'bound',\n",
              " 'boston',\n",
              " 'mcgill',\n",
              " 'developments',\n",
              " 'object',\n",
              " 'irish',\n",
              " 'hurling',\n",
              " 'nrfu',\n",
              " 'better',\n",
              " 'five',\n",
              " 'event',\n",
              " 'says',\n",
              " 'kingdom',\n",
              " 'names',\n",
              " 'upon',\n",
              " 'cannot',\n",
              " 'eastern',\n",
              " 'curved',\n",
              " 'recognized',\n",
              " 'water',\n",
              " 'hard',\n",
              " 'surface',\n",
              " 'handed',\n",
              " 'iihf',\n",
              " 'organized',\n",
              " 'places',\n",
              " 'services',\n",
              " 'symbols',\n",
              " 'symbolic',\n",
              " 'universe',\n",
              " 'phenomena',\n",
              " 'folk',\n",
              " 'unaffiliated',\n",
              " 'identify',\n",
              " 'philosophy',\n",
              " 'anything',\n",
              " 'understood',\n",
              " 'closely',\n",
              " 'toward',\n",
              " 'threskeia',\n",
              " 'protestant',\n",
              " 'argue',\n",
              " 'quran',\n",
              " 'tradition',\n",
              " 'paul',\n",
              " 'depth',\n",
              " 'ultimate',\n",
              " 'myth',\n",
              " 'jesus',\n",
              " 'evolutionary',\n",
              " 'prophet',\n",
              " 'prophets',\n",
              " 'zoroastrianism',\n",
              " 'african',\n",
              " 'israel',\n",
              " 'teachings',\n",
              " 'observed',\n",
              " 'rely',\n",
              " 'value',\n",
              " 'values',\n",
              " 'wealth',\n",
              " 'interfaith',\n",
              " 'dialogue',\n",
              " 'soil',\n",
              " 'plants',\n",
              " 'raw',\n",
              " 'apples',\n",
              " 'bananas',\n",
              " 'grapes',\n",
              " 'oranges',\n",
              " 'botanical',\n",
              " 'tomato',\n",
              " 'culinary',\n",
              " 'botanically',\n",
              " 'wall',\n",
              " 'head',\n",
              " 'sequence',\n",
              " 'produces',\n",
              " 'pollen',\n",
              " 'sepals',\n",
              " 'petals',\n",
              " 'pineapple',\n",
              " 'ripening',\n",
              " 'seedlessness',\n",
              " 'whole',\n",
              " 'scale',\n",
              " 'energy',\n",
              " 'momentum',\n",
              " 'amplitudes',\n",
              " 'experiment',\n",
              " 'slit',\n",
              " 'screen',\n",
              " 'hidden',\n",
              " 'provided',\n",
              " 'something',\n",
              " 'relevant',\n",
              " 'harmful',\n",
              " 'prohibited',\n",
              " 'precisely',\n",
              " 'comprehensive',\n",
              " 'statute',\n",
              " 'liberty',\n",
              " 'committing',\n",
              " 'counts',\n",
              " 'relationships',\n",
              " 'establish',\n",
              " 'maintain',\n",
              " 'agents',\n",
              " 'punish',\n",
              " 'behaviors',\n",
              " 'codify',\n",
              " 'capital',\n",
              " 'sociologist',\n",
              " 'cry',\n",
              " 'offense',\n",
              " 'brought',\n",
              " 'omission',\n",
              " 'depend',\n",
              " 'felony',\n",
              " 'money',\n",
              " 'misdemeanour',\n",
              " 'larceny',\n",
              " 'purpose',\n",
              " 'alternative',\n",
              " 'views',\n",
              " 'prevailing',\n",
              " 'humans',\n",
              " 'psychological',\n",
              " 'remain',\n",
              " 'contentious',\n",
              " 'directly',\n",
              " 'affects',\n",
              " 'rates',\n",
              " 'enforce',\n",
              " 'influenced',\n",
              " 'ways',\n",
              " 'clear',\n",
              " 'consensus',\n",
              " 'seem',\n",
              " 'respect',\n",
              " 'legislation',\n",
              " 'criminalization',\n",
              " 'harm',\n",
              " 'reduction',\n",
              " 'entities',\n",
              " 'convinced',\n",
              " 'cause',\n",
              " 'force',\n",
              " 'wrote',\n",
              " 'principle',\n",
              " 'regarded',\n",
              " 'rational',\n",
              " 'morally',\n",
              " 'conforms',\n",
              " 'valid',\n",
              " 'validity',\n",
              " 'determine',\n",
              " 'remains',\n",
              " 'choose',\n",
              " 'aspect',\n",
              " 'sufficient',\n",
              " 'entails',\n",
              " 'criticism',\n",
              " 'impossible',\n",
              " 'degree',\n",
              " 'continued',\n",
              " 'adam',\n",
              " 'smith',\n",
              " 'inherently',\n",
              " 'whereas',\n",
              " 'goes',\n",
              " 'illegal',\n",
              " 'influential',\n",
              " 'sumerians',\n",
              " 'short',\n",
              " 'personal',\n",
              " 'dharma',\n",
              " 'issues',\n",
              " 'etc',\n",
              " 'henry',\n",
              " ...]"
            ]
          },
          "metadata": {},
          "execution_count": 25
        }
      ]
    },
    {
      "cell_type": "code",
      "source": [
        "# 5.2 Get a dict of word and its int label:\n",
        "#     Most freq word gets transformed to 1:\n",
        "\n",
        "word_index = {word: ii for ii, word in enumerate(vocab, 1)}"
      ],
      "metadata": {
        "id": "TgYbSdDvE8Gy"
      },
      "execution_count": null,
      "outputs": []
    },
    {
      "cell_type": "code",
      "source": [
        "# 5.3 Here is our word to int index:\n",
        "\n",
        "word_index"
      ],
      "metadata": {
        "id": "m6rVbynCFEOB"
      },
      "execution_count": null,
      "outputs": []
    },
    {
      "cell_type": "markdown",
      "source": [
        "## Get skipgrams\n",
        "Transform text to int sequence and get skipgram pairs"
      ],
      "metadata": {
        "id": "MfL8wVW6WdzT"
      }
    },
    {
      "cell_type": "code",
      "source": [
        "# 6.0 Function to map a word list to integers\n",
        "#     as per mapping in word_index dict:\n",
        "\n",
        "def seq2int(wordList, word_index):\n",
        "    return [word_index[x] for x in wordList]"
      ],
      "metadata": {
        "id": "ddmxfPxJFhpA"
      },
      "execution_count": null,
      "outputs": []
    },
    {
      "cell_type": "code",
      "source": [
        "# 6.1 Here is our int seq:\n",
        "\n",
        "int_seq = seq2int(cleaned_tokens, word_index)\n",
        "int_seq[:10]"
      ],
      "metadata": {
        "id": "ixftV8-JGmxp",
        "outputId": "add0cc3a-e6fd-4d59-9012-3ecc22be1f7a",
        "colab": {
          "base_uri": "https://localhost:8080/"
        }
      },
      "execution_count": null,
      "outputs": [
        {
          "output_type": "execute_result",
          "data": {
            "text/plain": [
              "[677, 246, 23, 2142, 109, 439, 35, 1344, 46, 23]"
            ]
          },
          "metadata": {},
          "execution_count": 18
        }
      ]
    },
    {
      "cell_type": "code",
      "source": [
        "skipgrams = []\n",
        "for i,j in enumerate(int_seq):\n",
        "  if i < len(int_seq)-9:\n",
        "    t = int_seq[i],int_seq[i+1],int_seq[i+2],int_seq[i+3],int_seq[i+4],int_seq[i+5],int_seq[i+6], int_seq[i+7],int_seq[i+8],int_seq[i+9]\n",
        "    skipgrams.append(t)"
      ],
      "metadata": {
        "id": "b5vJEhsd_TZX"
      },
      "execution_count": null,
      "outputs": []
    },
    {
      "cell_type": "code",
      "source": [
        "skipgrams[:5]"
      ],
      "metadata": {
        "colab": {
          "base_uri": "https://localhost:8080/"
        },
        "id": "jVkx0QmhGjUt",
        "outputId": "3b2b6e22-d6cf-4b61-c5ca-976bb279eb7c"
      },
      "execution_count": null,
      "outputs": [
        {
          "output_type": "execute_result",
          "data": {
            "text/plain": [
              "[(677, 246, 23, 2142, 109, 439, 35, 1344, 46, 23),\n",
              " (246, 23, 2142, 109, 439, 35, 1344, 46, 23, 27),\n",
              " (23, 2142, 109, 439, 35, 1344, 46, 23, 27, 51),\n",
              " (2142, 109, 439, 35, 1344, 46, 23, 27, 51, 7),\n",
              " (109, 439, 35, 1344, 46, 23, 27, 51, 7, 110)]"
            ]
          },
          "metadata": {},
          "execution_count": 100
        }
      ]
    },
    {
      "cell_type": "code",
      "source": [
        "# 6.2 Translate the int_seq to pairs of skipgrams:\n",
        "\n",
        "from tensorflow.keras.preprocessing.sequence import skipgrams\n",
        "pairs = skipgrams(\n",
        "                   int_seq,\n",
        "                   vocabulary_size = max_vocab,\n",
        "                   window_size=4,\n",
        "                   negative_samples=1.0,\n",
        "                   shuffle=True,\n",
        "                   categorical=False,\n",
        "                   sampling_table=None,\n",
        "                   seed=None\n",
        "                  )"
      ],
      "metadata": {
        "id": "gGvjFQZJD6DL"
      },
      "execution_count": null,
      "outputs": []
    },
    {
      "cell_type": "code",
      "source": [
        "# 6.3 Look at pairs:\n",
        "\n",
        "pairs[0]"
      ],
      "metadata": {
        "id": "F9Vu_MAZQQrS"
      },
      "execution_count": null,
      "outputs": []
    },
    {
      "cell_type": "markdown",
      "source": [
        "## Save processed data\n",
        "Save skipgram pairs and word-to-index dict to `/content/` folder of virtual machine"
      ],
      "metadata": {
        "id": "xjhpSBOiXdaj"
      }
    },
    {
      "cell_type": "code",
      "source": [
        "# 7.0 Transform to pandas DataFrame:\n",
        "\n",
        "data = pd.DataFrame(skipgrams, columns = [\"a\", \"b\", \"c\",\"d\", \"e\", \"f\", \"g\", \"h\", \"i\", \"j\"])\n",
        "data.to_pickle(pathToFolder + \"skipgrams.pkl\")\n",
        "data.head()"
      ],
      "metadata": {
        "colab": {
          "base_uri": "https://localhost:8080/",
          "height": 206
        },
        "id": "iBONuwBaG028",
        "outputId": "7475608a-da2e-4854-ffad-b667a641aaee"
      },
      "execution_count": null,
      "outputs": [
        {
          "output_type": "execute_result",
          "data": {
            "text/plain": [
              "      a     b     c     d     e     f     g     h   i    j\n",
              "0   677   246    23  2142   109   439    35  1344  46   23\n",
              "1   246    23  2142   109   439    35  1344    46  23   27\n",
              "2    23  2142   109   439    35  1344    46    23  27   51\n",
              "3  2142   109   439    35  1344    46    23    27  51    7\n",
              "4   109   439    35  1344    46    23    27    51   7  110"
            ],
            "text/html": [
              "\n",
              "  <div id=\"df-8b8a2312-55fc-4628-8e2d-aedf33764c2f\">\n",
              "    <div class=\"colab-df-container\">\n",
              "      <div>\n",
              "<style scoped>\n",
              "    .dataframe tbody tr th:only-of-type {\n",
              "        vertical-align: middle;\n",
              "    }\n",
              "\n",
              "    .dataframe tbody tr th {\n",
              "        vertical-align: top;\n",
              "    }\n",
              "\n",
              "    .dataframe thead th {\n",
              "        text-align: right;\n",
              "    }\n",
              "</style>\n",
              "<table border=\"1\" class=\"dataframe\">\n",
              "  <thead>\n",
              "    <tr style=\"text-align: right;\">\n",
              "      <th></th>\n",
              "      <th>a</th>\n",
              "      <th>b</th>\n",
              "      <th>c</th>\n",
              "      <th>d</th>\n",
              "      <th>e</th>\n",
              "      <th>f</th>\n",
              "      <th>g</th>\n",
              "      <th>h</th>\n",
              "      <th>i</th>\n",
              "      <th>j</th>\n",
              "    </tr>\n",
              "  </thead>\n",
              "  <tbody>\n",
              "    <tr>\n",
              "      <th>0</th>\n",
              "      <td>677</td>\n",
              "      <td>246</td>\n",
              "      <td>23</td>\n",
              "      <td>2142</td>\n",
              "      <td>109</td>\n",
              "      <td>439</td>\n",
              "      <td>35</td>\n",
              "      <td>1344</td>\n",
              "      <td>46</td>\n",
              "      <td>23</td>\n",
              "    </tr>\n",
              "    <tr>\n",
              "      <th>1</th>\n",
              "      <td>246</td>\n",
              "      <td>23</td>\n",
              "      <td>2142</td>\n",
              "      <td>109</td>\n",
              "      <td>439</td>\n",
              "      <td>35</td>\n",
              "      <td>1344</td>\n",
              "      <td>46</td>\n",
              "      <td>23</td>\n",
              "      <td>27</td>\n",
              "    </tr>\n",
              "    <tr>\n",
              "      <th>2</th>\n",
              "      <td>23</td>\n",
              "      <td>2142</td>\n",
              "      <td>109</td>\n",
              "      <td>439</td>\n",
              "      <td>35</td>\n",
              "      <td>1344</td>\n",
              "      <td>46</td>\n",
              "      <td>23</td>\n",
              "      <td>27</td>\n",
              "      <td>51</td>\n",
              "    </tr>\n",
              "    <tr>\n",
              "      <th>3</th>\n",
              "      <td>2142</td>\n",
              "      <td>109</td>\n",
              "      <td>439</td>\n",
              "      <td>35</td>\n",
              "      <td>1344</td>\n",
              "      <td>46</td>\n",
              "      <td>23</td>\n",
              "      <td>27</td>\n",
              "      <td>51</td>\n",
              "      <td>7</td>\n",
              "    </tr>\n",
              "    <tr>\n",
              "      <th>4</th>\n",
              "      <td>109</td>\n",
              "      <td>439</td>\n",
              "      <td>35</td>\n",
              "      <td>1344</td>\n",
              "      <td>46</td>\n",
              "      <td>23</td>\n",
              "      <td>27</td>\n",
              "      <td>51</td>\n",
              "      <td>7</td>\n",
              "      <td>110</td>\n",
              "    </tr>\n",
              "  </tbody>\n",
              "</table>\n",
              "</div>\n",
              "      <button class=\"colab-df-convert\" onclick=\"convertToInteractive('df-8b8a2312-55fc-4628-8e2d-aedf33764c2f')\"\n",
              "              title=\"Convert this dataframe to an interactive table.\"\n",
              "              style=\"display:none;\">\n",
              "        \n",
              "  <svg xmlns=\"http://www.w3.org/2000/svg\" height=\"24px\"viewBox=\"0 0 24 24\"\n",
              "       width=\"24px\">\n",
              "    <path d=\"M0 0h24v24H0V0z\" fill=\"none\"/>\n",
              "    <path d=\"M18.56 5.44l.94 2.06.94-2.06 2.06-.94-2.06-.94-.94-2.06-.94 2.06-2.06.94zm-11 1L8.5 8.5l.94-2.06 2.06-.94-2.06-.94L8.5 2.5l-.94 2.06-2.06.94zm10 10l.94 2.06.94-2.06 2.06-.94-2.06-.94-.94-2.06-.94 2.06-2.06.94z\"/><path d=\"M17.41 7.96l-1.37-1.37c-.4-.4-.92-.59-1.43-.59-.52 0-1.04.2-1.43.59L10.3 9.45l-7.72 7.72c-.78.78-.78 2.05 0 2.83L4 21.41c.39.39.9.59 1.41.59.51 0 1.02-.2 1.41-.59l7.78-7.78 2.81-2.81c.8-.78.8-2.07 0-2.86zM5.41 20L4 18.59l7.72-7.72 1.47 1.35L5.41 20z\"/>\n",
              "  </svg>\n",
              "      </button>\n",
              "      \n",
              "  <style>\n",
              "    .colab-df-container {\n",
              "      display:flex;\n",
              "      flex-wrap:wrap;\n",
              "      gap: 12px;\n",
              "    }\n",
              "\n",
              "    .colab-df-convert {\n",
              "      background-color: #E8F0FE;\n",
              "      border: none;\n",
              "      border-radius: 50%;\n",
              "      cursor: pointer;\n",
              "      display: none;\n",
              "      fill: #1967D2;\n",
              "      height: 32px;\n",
              "      padding: 0 0 0 0;\n",
              "      width: 32px;\n",
              "    }\n",
              "\n",
              "    .colab-df-convert:hover {\n",
              "      background-color: #E2EBFA;\n",
              "      box-shadow: 0px 1px 2px rgba(60, 64, 67, 0.3), 0px 1px 3px 1px rgba(60, 64, 67, 0.15);\n",
              "      fill: #174EA6;\n",
              "    }\n",
              "\n",
              "    [theme=dark] .colab-df-convert {\n",
              "      background-color: #3B4455;\n",
              "      fill: #D2E3FC;\n",
              "    }\n",
              "\n",
              "    [theme=dark] .colab-df-convert:hover {\n",
              "      background-color: #434B5C;\n",
              "      box-shadow: 0px 1px 3px 1px rgba(0, 0, 0, 0.15);\n",
              "      filter: drop-shadow(0px 1px 2px rgba(0, 0, 0, 0.3));\n",
              "      fill: #FFFFFF;\n",
              "    }\n",
              "  </style>\n",
              "\n",
              "      <script>\n",
              "        const buttonEl =\n",
              "          document.querySelector('#df-8b8a2312-55fc-4628-8e2d-aedf33764c2f button.colab-df-convert');\n",
              "        buttonEl.style.display =\n",
              "          google.colab.kernel.accessAllowed ? 'block' : 'none';\n",
              "\n",
              "        async function convertToInteractive(key) {\n",
              "          const element = document.querySelector('#df-8b8a2312-55fc-4628-8e2d-aedf33764c2f');\n",
              "          const dataTable =\n",
              "            await google.colab.kernel.invokeFunction('convertToInteractive',\n",
              "                                                     [key], {});\n",
              "          if (!dataTable) return;\n",
              "\n",
              "          const docLinkHtml = 'Like what you see? Visit the ' +\n",
              "            '<a target=\"_blank\" href=https://colab.research.google.com/notebooks/data_table.ipynb>data table notebook</a>'\n",
              "            + ' to learn more about interactive tables.';\n",
              "          element.innerHTML = '';\n",
              "          dataTable['output_type'] = 'display_data';\n",
              "          await google.colab.output.renderOutput(dataTable, element);\n",
              "          const docLink = document.createElement('div');\n",
              "          docLink.innerHTML = docLinkHtml;\n",
              "          element.appendChild(docLink);\n",
              "        }\n",
              "      </script>\n",
              "    </div>\n",
              "  </div>\n",
              "  "
            ]
          },
          "metadata": {},
          "execution_count": 20
        }
      ]
    },
    {
      "cell_type": "code",
      "source": [
        "for i in list(data.columns):\n",
        "  print(i,data[i].nunique())"
      ],
      "metadata": {
        "id": "_GwV2TvHyErP",
        "outputId": "12322b61-fcd6-4948-c264-2c731478de7c",
        "colab": {
          "base_uri": "https://localhost:8080/"
        }
      },
      "execution_count": null,
      "outputs": [
        {
          "output_type": "stream",
          "name": "stdout",
          "text": [
            "a 4724\n",
            "b 4725\n",
            "c 4725\n",
            "d 4725\n",
            "e 4724\n",
            "f 4724\n",
            "g 4724\n",
            "h 4725\n",
            "i 4725\n",
            "j 4726\n"
          ]
        }
      ]
    },
    {
      "cell_type": "code",
      "source": [
        "# 7.0 Transform to pandas DataFrame:\n",
        "\n",
        "data = pd.DataFrame(pairs[0], columns = [\"a\", \"b\"])\n",
        "data.to_pickle(pathToFolder + \"seq.pkl\")\n",
        "data.head()"
      ],
      "metadata": {
        "id": "RCsE6rmwQZfH"
      },
      "execution_count": null,
      "outputs": []
    },
    {
      "cell_type": "code",
      "source": [
        "# 7.1 Save word_to_index dict to a text file:\n",
        "\n",
        "filehandler = open(pathToFolder + \"word_index.txt\", 'wt')\n",
        "data = str(word_index)\n",
        "filehandler.write(data)"
      ],
      "metadata": {
        "colab": {
          "base_uri": "https://localhost:8080/"
        },
        "id": "dysRK-xaYumT",
        "outputId": "3721a7af-28fe-4b1a-a117-6f3573ec1261"
      },
      "execution_count": null,
      "outputs": [
        {
          "output_type": "execute_result",
          "data": {
            "text/plain": [
              "81320"
            ]
          },
          "metadata": {},
          "execution_count": 102
        }
      ]
    },
    {
      "cell_type": "markdown",
      "source": [
        "## Read back saved files"
      ],
      "metadata": {
        "id": "_d9JC8u4a4bj"
      }
    },
    {
      "cell_type": "code",
      "source": [
        "# 8.0 Read back pkl file and dictionary:\n",
        "seq = pd.read_pickle(pathToFolder + \"seq.pkl\")\n",
        "seq.head()"
      ],
      "metadata": {
        "id": "z58-gFUgZEwV",
        "outputId": "e90cbe99-98bd-4b9e-8e79-de822dffa663",
        "colab": {
          "base_uri": "https://localhost:8080/",
          "height": 206
        }
      },
      "execution_count": null,
      "outputs": [
        {
          "output_type": "execute_result",
          "data": {
            "text/plain": [
              "     a     b\n",
              "0  931  1754\n",
              "1  534  3492\n",
              "2  342    30\n",
              "3  796  3348\n",
              "4  701   998"
            ],
            "text/html": [
              "\n",
              "  <div id=\"df-214472f8-15e0-4980-ab4e-61723b772059\">\n",
              "    <div class=\"colab-df-container\">\n",
              "      <div>\n",
              "<style scoped>\n",
              "    .dataframe tbody tr th:only-of-type {\n",
              "        vertical-align: middle;\n",
              "    }\n",
              "\n",
              "    .dataframe tbody tr th {\n",
              "        vertical-align: top;\n",
              "    }\n",
              "\n",
              "    .dataframe thead th {\n",
              "        text-align: right;\n",
              "    }\n",
              "</style>\n",
              "<table border=\"1\" class=\"dataframe\">\n",
              "  <thead>\n",
              "    <tr style=\"text-align: right;\">\n",
              "      <th></th>\n",
              "      <th>a</th>\n",
              "      <th>b</th>\n",
              "    </tr>\n",
              "  </thead>\n",
              "  <tbody>\n",
              "    <tr>\n",
              "      <th>0</th>\n",
              "      <td>931</td>\n",
              "      <td>1754</td>\n",
              "    </tr>\n",
              "    <tr>\n",
              "      <th>1</th>\n",
              "      <td>534</td>\n",
              "      <td>3492</td>\n",
              "    </tr>\n",
              "    <tr>\n",
              "      <th>2</th>\n",
              "      <td>342</td>\n",
              "      <td>30</td>\n",
              "    </tr>\n",
              "    <tr>\n",
              "      <th>3</th>\n",
              "      <td>796</td>\n",
              "      <td>3348</td>\n",
              "    </tr>\n",
              "    <tr>\n",
              "      <th>4</th>\n",
              "      <td>701</td>\n",
              "      <td>998</td>\n",
              "    </tr>\n",
              "  </tbody>\n",
              "</table>\n",
              "</div>\n",
              "      <button class=\"colab-df-convert\" onclick=\"convertToInteractive('df-214472f8-15e0-4980-ab4e-61723b772059')\"\n",
              "              title=\"Convert this dataframe to an interactive table.\"\n",
              "              style=\"display:none;\">\n",
              "        \n",
              "  <svg xmlns=\"http://www.w3.org/2000/svg\" height=\"24px\"viewBox=\"0 0 24 24\"\n",
              "       width=\"24px\">\n",
              "    <path d=\"M0 0h24v24H0V0z\" fill=\"none\"/>\n",
              "    <path d=\"M18.56 5.44l.94 2.06.94-2.06 2.06-.94-2.06-.94-.94-2.06-.94 2.06-2.06.94zm-11 1L8.5 8.5l.94-2.06 2.06-.94-2.06-.94L8.5 2.5l-.94 2.06-2.06.94zm10 10l.94 2.06.94-2.06 2.06-.94-2.06-.94-.94-2.06-.94 2.06-2.06.94z\"/><path d=\"M17.41 7.96l-1.37-1.37c-.4-.4-.92-.59-1.43-.59-.52 0-1.04.2-1.43.59L10.3 9.45l-7.72 7.72c-.78.78-.78 2.05 0 2.83L4 21.41c.39.39.9.59 1.41.59.51 0 1.02-.2 1.41-.59l7.78-7.78 2.81-2.81c.8-.78.8-2.07 0-2.86zM5.41 20L4 18.59l7.72-7.72 1.47 1.35L5.41 20z\"/>\n",
              "  </svg>\n",
              "      </button>\n",
              "      \n",
              "  <style>\n",
              "    .colab-df-container {\n",
              "      display:flex;\n",
              "      flex-wrap:wrap;\n",
              "      gap: 12px;\n",
              "    }\n",
              "\n",
              "    .colab-df-convert {\n",
              "      background-color: #E8F0FE;\n",
              "      border: none;\n",
              "      border-radius: 50%;\n",
              "      cursor: pointer;\n",
              "      display: none;\n",
              "      fill: #1967D2;\n",
              "      height: 32px;\n",
              "      padding: 0 0 0 0;\n",
              "      width: 32px;\n",
              "    }\n",
              "\n",
              "    .colab-df-convert:hover {\n",
              "      background-color: #E2EBFA;\n",
              "      box-shadow: 0px 1px 2px rgba(60, 64, 67, 0.3), 0px 1px 3px 1px rgba(60, 64, 67, 0.15);\n",
              "      fill: #174EA6;\n",
              "    }\n",
              "\n",
              "    [theme=dark] .colab-df-convert {\n",
              "      background-color: #3B4455;\n",
              "      fill: #D2E3FC;\n",
              "    }\n",
              "\n",
              "    [theme=dark] .colab-df-convert:hover {\n",
              "      background-color: #434B5C;\n",
              "      box-shadow: 0px 1px 3px 1px rgba(0, 0, 0, 0.15);\n",
              "      filter: drop-shadow(0px 1px 2px rgba(0, 0, 0, 0.3));\n",
              "      fill: #FFFFFF;\n",
              "    }\n",
              "  </style>\n",
              "\n",
              "      <script>\n",
              "        const buttonEl =\n",
              "          document.querySelector('#df-214472f8-15e0-4980-ab4e-61723b772059 button.colab-df-convert');\n",
              "        buttonEl.style.display =\n",
              "          google.colab.kernel.accessAllowed ? 'block' : 'none';\n",
              "\n",
              "        async function convertToInteractive(key) {\n",
              "          const element = document.querySelector('#df-214472f8-15e0-4980-ab4e-61723b772059');\n",
              "          const dataTable =\n",
              "            await google.colab.kernel.invokeFunction('convertToInteractive',\n",
              "                                                     [key], {});\n",
              "          if (!dataTable) return;\n",
              "\n",
              "          const docLinkHtml = 'Like what you see? Visit the ' +\n",
              "            '<a target=\"_blank\" href=https://colab.research.google.com/notebooks/data_table.ipynb>data table notebook</a>'\n",
              "            + ' to learn more about interactive tables.';\n",
              "          element.innerHTML = '';\n",
              "          dataTable['output_type'] = 'display_data';\n",
              "          await google.colab.output.renderOutput(dataTable, element);\n",
              "          const docLink = document.createElement('div');\n",
              "          docLink.innerHTML = docLinkHtml;\n",
              "          element.appendChild(docLink);\n",
              "        }\n",
              "      </script>\n",
              "    </div>\n",
              "  </div>\n",
              "  "
            ]
          },
          "metadata": {},
          "execution_count": 40
        }
      ]
    },
    {
      "cell_type": "code",
      "source": [
        "# 8.0 Read back pkl file and dictionary:\n",
        "skipgrams = pd.read_pickle(pathToFolder + \"skipgrams.pkl\")\n",
        "skipgrams.head()"
      ],
      "metadata": {
        "colab": {
          "base_uri": "https://localhost:8080/",
          "height": 206
        },
        "id": "YRwRs91LHKYb",
        "outputId": "712323ce-7064-40b1-a0f3-cd3aac587d7c"
      },
      "execution_count": null,
      "outputs": [
        {
          "output_type": "execute_result",
          "data": {
            "text/plain": [
              "      a     b     c     d     e     f     g     h   i    j\n",
              "0   677   246    23  2142   109   439    35  1344  46   23\n",
              "1   246    23  2142   109   439    35  1344    46  23   27\n",
              "2    23  2142   109   439    35  1344    46    23  27   51\n",
              "3  2142   109   439    35  1344    46    23    27  51    7\n",
              "4   109   439    35  1344    46    23    27    51   7  110"
            ],
            "text/html": [
              "\n",
              "  <div id=\"df-e59a4c1a-ee7d-4926-ae3b-6dae0fb40efe\">\n",
              "    <div class=\"colab-df-container\">\n",
              "      <div>\n",
              "<style scoped>\n",
              "    .dataframe tbody tr th:only-of-type {\n",
              "        vertical-align: middle;\n",
              "    }\n",
              "\n",
              "    .dataframe tbody tr th {\n",
              "        vertical-align: top;\n",
              "    }\n",
              "\n",
              "    .dataframe thead th {\n",
              "        text-align: right;\n",
              "    }\n",
              "</style>\n",
              "<table border=\"1\" class=\"dataframe\">\n",
              "  <thead>\n",
              "    <tr style=\"text-align: right;\">\n",
              "      <th></th>\n",
              "      <th>a</th>\n",
              "      <th>b</th>\n",
              "      <th>c</th>\n",
              "      <th>d</th>\n",
              "      <th>e</th>\n",
              "      <th>f</th>\n",
              "      <th>g</th>\n",
              "      <th>h</th>\n",
              "      <th>i</th>\n",
              "      <th>j</th>\n",
              "    </tr>\n",
              "  </thead>\n",
              "  <tbody>\n",
              "    <tr>\n",
              "      <th>0</th>\n",
              "      <td>677</td>\n",
              "      <td>246</td>\n",
              "      <td>23</td>\n",
              "      <td>2142</td>\n",
              "      <td>109</td>\n",
              "      <td>439</td>\n",
              "      <td>35</td>\n",
              "      <td>1344</td>\n",
              "      <td>46</td>\n",
              "      <td>23</td>\n",
              "    </tr>\n",
              "    <tr>\n",
              "      <th>1</th>\n",
              "      <td>246</td>\n",
              "      <td>23</td>\n",
              "      <td>2142</td>\n",
              "      <td>109</td>\n",
              "      <td>439</td>\n",
              "      <td>35</td>\n",
              "      <td>1344</td>\n",
              "      <td>46</td>\n",
              "      <td>23</td>\n",
              "      <td>27</td>\n",
              "    </tr>\n",
              "    <tr>\n",
              "      <th>2</th>\n",
              "      <td>23</td>\n",
              "      <td>2142</td>\n",
              "      <td>109</td>\n",
              "      <td>439</td>\n",
              "      <td>35</td>\n",
              "      <td>1344</td>\n",
              "      <td>46</td>\n",
              "      <td>23</td>\n",
              "      <td>27</td>\n",
              "      <td>51</td>\n",
              "    </tr>\n",
              "    <tr>\n",
              "      <th>3</th>\n",
              "      <td>2142</td>\n",
              "      <td>109</td>\n",
              "      <td>439</td>\n",
              "      <td>35</td>\n",
              "      <td>1344</td>\n",
              "      <td>46</td>\n",
              "      <td>23</td>\n",
              "      <td>27</td>\n",
              "      <td>51</td>\n",
              "      <td>7</td>\n",
              "    </tr>\n",
              "    <tr>\n",
              "      <th>4</th>\n",
              "      <td>109</td>\n",
              "      <td>439</td>\n",
              "      <td>35</td>\n",
              "      <td>1344</td>\n",
              "      <td>46</td>\n",
              "      <td>23</td>\n",
              "      <td>27</td>\n",
              "      <td>51</td>\n",
              "      <td>7</td>\n",
              "      <td>110</td>\n",
              "    </tr>\n",
              "  </tbody>\n",
              "</table>\n",
              "</div>\n",
              "      <button class=\"colab-df-convert\" onclick=\"convertToInteractive('df-e59a4c1a-ee7d-4926-ae3b-6dae0fb40efe')\"\n",
              "              title=\"Convert this dataframe to an interactive table.\"\n",
              "              style=\"display:none;\">\n",
              "        \n",
              "  <svg xmlns=\"http://www.w3.org/2000/svg\" height=\"24px\"viewBox=\"0 0 24 24\"\n",
              "       width=\"24px\">\n",
              "    <path d=\"M0 0h24v24H0V0z\" fill=\"none\"/>\n",
              "    <path d=\"M18.56 5.44l.94 2.06.94-2.06 2.06-.94-2.06-.94-.94-2.06-.94 2.06-2.06.94zm-11 1L8.5 8.5l.94-2.06 2.06-.94-2.06-.94L8.5 2.5l-.94 2.06-2.06.94zm10 10l.94 2.06.94-2.06 2.06-.94-2.06-.94-.94-2.06-.94 2.06-2.06.94z\"/><path d=\"M17.41 7.96l-1.37-1.37c-.4-.4-.92-.59-1.43-.59-.52 0-1.04.2-1.43.59L10.3 9.45l-7.72 7.72c-.78.78-.78 2.05 0 2.83L4 21.41c.39.39.9.59 1.41.59.51 0 1.02-.2 1.41-.59l7.78-7.78 2.81-2.81c.8-.78.8-2.07 0-2.86zM5.41 20L4 18.59l7.72-7.72 1.47 1.35L5.41 20z\"/>\n",
              "  </svg>\n",
              "      </button>\n",
              "      \n",
              "  <style>\n",
              "    .colab-df-container {\n",
              "      display:flex;\n",
              "      flex-wrap:wrap;\n",
              "      gap: 12px;\n",
              "    }\n",
              "\n",
              "    .colab-df-convert {\n",
              "      background-color: #E8F0FE;\n",
              "      border: none;\n",
              "      border-radius: 50%;\n",
              "      cursor: pointer;\n",
              "      display: none;\n",
              "      fill: #1967D2;\n",
              "      height: 32px;\n",
              "      padding: 0 0 0 0;\n",
              "      width: 32px;\n",
              "    }\n",
              "\n",
              "    .colab-df-convert:hover {\n",
              "      background-color: #E2EBFA;\n",
              "      box-shadow: 0px 1px 2px rgba(60, 64, 67, 0.3), 0px 1px 3px 1px rgba(60, 64, 67, 0.15);\n",
              "      fill: #174EA6;\n",
              "    }\n",
              "\n",
              "    [theme=dark] .colab-df-convert {\n",
              "      background-color: #3B4455;\n",
              "      fill: #D2E3FC;\n",
              "    }\n",
              "\n",
              "    [theme=dark] .colab-df-convert:hover {\n",
              "      background-color: #434B5C;\n",
              "      box-shadow: 0px 1px 3px 1px rgba(0, 0, 0, 0.15);\n",
              "      filter: drop-shadow(0px 1px 2px rgba(0, 0, 0, 0.3));\n",
              "      fill: #FFFFFF;\n",
              "    }\n",
              "  </style>\n",
              "\n",
              "      <script>\n",
              "        const buttonEl =\n",
              "          document.querySelector('#df-e59a4c1a-ee7d-4926-ae3b-6dae0fb40efe button.colab-df-convert');\n",
              "        buttonEl.style.display =\n",
              "          google.colab.kernel.accessAllowed ? 'block' : 'none';\n",
              "\n",
              "        async function convertToInteractive(key) {\n",
              "          const element = document.querySelector('#df-e59a4c1a-ee7d-4926-ae3b-6dae0fb40efe');\n",
              "          const dataTable =\n",
              "            await google.colab.kernel.invokeFunction('convertToInteractive',\n",
              "                                                     [key], {});\n",
              "          if (!dataTable) return;\n",
              "\n",
              "          const docLinkHtml = 'Like what you see? Visit the ' +\n",
              "            '<a target=\"_blank\" href=https://colab.research.google.com/notebooks/data_table.ipynb>data table notebook</a>'\n",
              "            + ' to learn more about interactive tables.';\n",
              "          element.innerHTML = '';\n",
              "          dataTable['output_type'] = 'display_data';\n",
              "          await google.colab.output.renderOutput(dataTable, element);\n",
              "          const docLink = document.createElement('div');\n",
              "          docLink.innerHTML = docLinkHtml;\n",
              "          element.appendChild(docLink);\n",
              "        }\n",
              "      </script>\n",
              "    </div>\n",
              "  </div>\n",
              "  "
            ]
          },
          "metadata": {},
          "execution_count": 103
        }
      ]
    },
    {
      "cell_type": "code",
      "source": [
        "skipgrams.tail()"
      ],
      "metadata": {
        "id": "APPDGIcOCd2b",
        "outputId": "2fe6d5ef-04ff-4171-aad5-419f6a17f4a9",
        "colab": {
          "base_uri": "https://localhost:8080/",
          "height": 206
        }
      },
      "execution_count": null,
      "outputs": [
        {
          "output_type": "execute_result",
          "data": {
            "text/plain": [
              "          a     b     c     d     e     f     g     h     i     j\n",
              "15329  4723  4724   560   241  2130  4725  2141    40   143    35\n",
              "15330  4724   560   241  2130  4725  2141    40   143    35    40\n",
              "15331   560   241  2130  4725  2141    40   143    35    40  4726\n",
              "15332   241  2130  4725  2141    40   143    35    40  4726    55\n",
              "15333  2130  4725  2141    40   143    35    40  4726    55  4727"
            ],
            "text/html": [
              "\n",
              "  <div id=\"df-87581c43-445f-436b-869e-d595919bbcb4\">\n",
              "    <div class=\"colab-df-container\">\n",
              "      <div>\n",
              "<style scoped>\n",
              "    .dataframe tbody tr th:only-of-type {\n",
              "        vertical-align: middle;\n",
              "    }\n",
              "\n",
              "    .dataframe tbody tr th {\n",
              "        vertical-align: top;\n",
              "    }\n",
              "\n",
              "    .dataframe thead th {\n",
              "        text-align: right;\n",
              "    }\n",
              "</style>\n",
              "<table border=\"1\" class=\"dataframe\">\n",
              "  <thead>\n",
              "    <tr style=\"text-align: right;\">\n",
              "      <th></th>\n",
              "      <th>a</th>\n",
              "      <th>b</th>\n",
              "      <th>c</th>\n",
              "      <th>d</th>\n",
              "      <th>e</th>\n",
              "      <th>f</th>\n",
              "      <th>g</th>\n",
              "      <th>h</th>\n",
              "      <th>i</th>\n",
              "      <th>j</th>\n",
              "    </tr>\n",
              "  </thead>\n",
              "  <tbody>\n",
              "    <tr>\n",
              "      <th>15329</th>\n",
              "      <td>4723</td>\n",
              "      <td>4724</td>\n",
              "      <td>560</td>\n",
              "      <td>241</td>\n",
              "      <td>2130</td>\n",
              "      <td>4725</td>\n",
              "      <td>2141</td>\n",
              "      <td>40</td>\n",
              "      <td>143</td>\n",
              "      <td>35</td>\n",
              "    </tr>\n",
              "    <tr>\n",
              "      <th>15330</th>\n",
              "      <td>4724</td>\n",
              "      <td>560</td>\n",
              "      <td>241</td>\n",
              "      <td>2130</td>\n",
              "      <td>4725</td>\n",
              "      <td>2141</td>\n",
              "      <td>40</td>\n",
              "      <td>143</td>\n",
              "      <td>35</td>\n",
              "      <td>40</td>\n",
              "    </tr>\n",
              "    <tr>\n",
              "      <th>15331</th>\n",
              "      <td>560</td>\n",
              "      <td>241</td>\n",
              "      <td>2130</td>\n",
              "      <td>4725</td>\n",
              "      <td>2141</td>\n",
              "      <td>40</td>\n",
              "      <td>143</td>\n",
              "      <td>35</td>\n",
              "      <td>40</td>\n",
              "      <td>4726</td>\n",
              "    </tr>\n",
              "    <tr>\n",
              "      <th>15332</th>\n",
              "      <td>241</td>\n",
              "      <td>2130</td>\n",
              "      <td>4725</td>\n",
              "      <td>2141</td>\n",
              "      <td>40</td>\n",
              "      <td>143</td>\n",
              "      <td>35</td>\n",
              "      <td>40</td>\n",
              "      <td>4726</td>\n",
              "      <td>55</td>\n",
              "    </tr>\n",
              "    <tr>\n",
              "      <th>15333</th>\n",
              "      <td>2130</td>\n",
              "      <td>4725</td>\n",
              "      <td>2141</td>\n",
              "      <td>40</td>\n",
              "      <td>143</td>\n",
              "      <td>35</td>\n",
              "      <td>40</td>\n",
              "      <td>4726</td>\n",
              "      <td>55</td>\n",
              "      <td>4727</td>\n",
              "    </tr>\n",
              "  </tbody>\n",
              "</table>\n",
              "</div>\n",
              "      <button class=\"colab-df-convert\" onclick=\"convertToInteractive('df-87581c43-445f-436b-869e-d595919bbcb4')\"\n",
              "              title=\"Convert this dataframe to an interactive table.\"\n",
              "              style=\"display:none;\">\n",
              "        \n",
              "  <svg xmlns=\"http://www.w3.org/2000/svg\" height=\"24px\"viewBox=\"0 0 24 24\"\n",
              "       width=\"24px\">\n",
              "    <path d=\"M0 0h24v24H0V0z\" fill=\"none\"/>\n",
              "    <path d=\"M18.56 5.44l.94 2.06.94-2.06 2.06-.94-2.06-.94-.94-2.06-.94 2.06-2.06.94zm-11 1L8.5 8.5l.94-2.06 2.06-.94-2.06-.94L8.5 2.5l-.94 2.06-2.06.94zm10 10l.94 2.06.94-2.06 2.06-.94-2.06-.94-.94-2.06-.94 2.06-2.06.94z\"/><path d=\"M17.41 7.96l-1.37-1.37c-.4-.4-.92-.59-1.43-.59-.52 0-1.04.2-1.43.59L10.3 9.45l-7.72 7.72c-.78.78-.78 2.05 0 2.83L4 21.41c.39.39.9.59 1.41.59.51 0 1.02-.2 1.41-.59l7.78-7.78 2.81-2.81c.8-.78.8-2.07 0-2.86zM5.41 20L4 18.59l7.72-7.72 1.47 1.35L5.41 20z\"/>\n",
              "  </svg>\n",
              "      </button>\n",
              "      \n",
              "  <style>\n",
              "    .colab-df-container {\n",
              "      display:flex;\n",
              "      flex-wrap:wrap;\n",
              "      gap: 12px;\n",
              "    }\n",
              "\n",
              "    .colab-df-convert {\n",
              "      background-color: #E8F0FE;\n",
              "      border: none;\n",
              "      border-radius: 50%;\n",
              "      cursor: pointer;\n",
              "      display: none;\n",
              "      fill: #1967D2;\n",
              "      height: 32px;\n",
              "      padding: 0 0 0 0;\n",
              "      width: 32px;\n",
              "    }\n",
              "\n",
              "    .colab-df-convert:hover {\n",
              "      background-color: #E2EBFA;\n",
              "      box-shadow: 0px 1px 2px rgba(60, 64, 67, 0.3), 0px 1px 3px 1px rgba(60, 64, 67, 0.15);\n",
              "      fill: #174EA6;\n",
              "    }\n",
              "\n",
              "    [theme=dark] .colab-df-convert {\n",
              "      background-color: #3B4455;\n",
              "      fill: #D2E3FC;\n",
              "    }\n",
              "\n",
              "    [theme=dark] .colab-df-convert:hover {\n",
              "      background-color: #434B5C;\n",
              "      box-shadow: 0px 1px 3px 1px rgba(0, 0, 0, 0.15);\n",
              "      filter: drop-shadow(0px 1px 2px rgba(0, 0, 0, 0.3));\n",
              "      fill: #FFFFFF;\n",
              "    }\n",
              "  </style>\n",
              "\n",
              "      <script>\n",
              "        const buttonEl =\n",
              "          document.querySelector('#df-87581c43-445f-436b-869e-d595919bbcb4 button.colab-df-convert');\n",
              "        buttonEl.style.display =\n",
              "          google.colab.kernel.accessAllowed ? 'block' : 'none';\n",
              "\n",
              "        async function convertToInteractive(key) {\n",
              "          const element = document.querySelector('#df-87581c43-445f-436b-869e-d595919bbcb4');\n",
              "          const dataTable =\n",
              "            await google.colab.kernel.invokeFunction('convertToInteractive',\n",
              "                                                     [key], {});\n",
              "          if (!dataTable) return;\n",
              "\n",
              "          const docLinkHtml = 'Like what you see? Visit the ' +\n",
              "            '<a target=\"_blank\" href=https://colab.research.google.com/notebooks/data_table.ipynb>data table notebook</a>'\n",
              "            + ' to learn more about interactive tables.';\n",
              "          element.innerHTML = '';\n",
              "          dataTable['output_type'] = 'display_data';\n",
              "          await google.colab.output.renderOutput(dataTable, element);\n",
              "          const docLink = document.createElement('div');\n",
              "          docLink.innerHTML = docLinkHtml;\n",
              "          element.appendChild(docLink);\n",
              "        }\n",
              "      </script>\n",
              "    </div>\n",
              "  </div>\n",
              "  "
            ]
          },
          "metadata": {},
          "execution_count": 104
        }
      ]
    },
    {
      "cell_type": "code",
      "source": [
        "# 8.1 Read saved dict:\n",
        "\n",
        "filehandler = open(pathToFolder + \"word_index.txt\", 'r')\n",
        "filehandler.read()"
      ],
      "metadata": {
        "id": "WcKh2IAnZS7D",
        "outputId": "57532948-0f27-4bd6-c84e-9f18d0fb033e",
        "colab": {
          "base_uri": "https://localhost:8080/",
          "height": 124
        }
      },
      "execution_count": null,
      "outputs": [
        {
          "output_type": "execute_result",
          "data": {
            "text/plain": [
              "\"{'football': 1, 'religion': 2, 'ball': 3, 'rules': 4, 'hockey': 5, 'game': 6, 'law': 7, 'religious': 8, 'played': 9, 'rugby': 10, 'one': 11, 'religions': 12, 'also': 13, 'fruit': 14, 'first': 15, 'games': 16, 'may': 17, 'many': 18, 'fruits': 19, 'called': 20, 'th': 21, 'century': 22, 'crime': 23, 'world': 24, 'used': 25, 'ice': 26, 'modern': 27, 'form': 28, 'known': 29, 'codes': 30, 'word': 31, 'time': 32, 'include': 33, 'two': 34, 'state': 35, 'people': 36, 'england': 37, 'association': 38, 'players': 39, 'quantum': 40, 'various': 41, 'early': 42, 'sport': 43, 'including': 44, 'english': 45, 'term': 46, 'common': 47, 'however': 48, 'school': 49, 'use': 50, 'criminal': 51, 'public': 52, 'crimes': 53, 'code': 54, 'system': 55, 'schools': 56, 'field': 57, 'playing': 58, 'would': 59, 'american': 60, 'countries': 61, 'international': 62, 'ovary': 63, 'example': 64, 'laws': 65, 'several': 66, 'often': 67, 'new': 68, 'sports': 69, 'play': 70, 'life': 71, 'states': 72, 'ancient': 73, 'forms': 74, 'even': 75, 'league': 76, 'culture': 77, 'found': 78, 'nature': 79, 'practices': 80, 'based': 81, 'theory': 82, 'later': 83, 'e': 84, 'goal': 85, 'number': 86, 'different': 87, 'beliefs': 88, 'seeds': 89, 'individual': 90, 'social': 91, 'human': 92, 'concept': 93, 'particular': 94, 'earliest': 95, 'sometimes': 96, 'australian': 97, 'like': 98, 'usually': 99, 'legal': 100, 'latin': 101, 'means': 102, 'cultures': 103, 'rule': 104, 'belief': 105, 'united': 106, 'national': 107, 'team': 108, 'act': 109, 'simple': 110, 'popular': 111, 'general': 112, 'natural': 113, 'either': 114, 'others': 115, 'study': 116, 'canada': 117, 'parts': 118, 'club': 119, 'sacred': 120, 'judaism': 121, 'fleshy': 122, 'union': 123, 'group': 124, 'roman': 125, 'development': 126, 'allowed': 127, 'inline': 128, 'mythology': 129, 'defined': 130, 'typically': 131, 'could': 132, 'following': 133, 'become': 134, 'terms': 135, 'part': 136, 'similar': 137, 'player': 138, 'set': 139, 'christianity': 140, 'theories': 141, 'flower': 142, 'mechanics': 143, 'though': 144, 'offence': 145, 'needed': 146, 'meant': 147, 'g': 148, 'political': 149, 'another': 150, 'involved': 151, 'since': 152, 'western': 153, 'definition': 154, 'written': 155, 'non': 156, 'meaning': 157, 'made': 158, 'related': 159, 'c': 160, 'europe': 161, 'thought': 162, 'kicking': 163, 'traditional': 164, 'teams': 165, 'sticks': 166, 'single': 167, 'bandy': 168, 'religi': 169, 'science': 170, 'society': 171, 'derived': 172, 'see': 173, 'cultural': 174, 'developed': 175, 'thus': 176, 'line': 177, 'among': 178, 'classical': 179, 'reference': 180, 'well': 181, 'body': 182, 'university': 183, 'style': 184, 'side': 185, 'clubs': 186, 'three': 187, 'islam': 188, 'multiple': 189, 'plant': 190, 'certain': 191, 'power': 192, 'men': 193, 'according': 194, 'whether': 195, 'place': 196, 'using': 197, 'bc': 198, 'gods': 199, 'christian': 200, 'things': 201, 'still': 202, 'due': 203, 'professional': 204, 'evidence': 205, 'within': 206, 'college': 207, 'practice': 208, 'faith': 209, 'theft': 210, 'citation': 211, 'widely': 212, 'greek': 213, 'referred': 214, 'moral': 215, 'case': 216, 'ireland': 217, 'way': 218, 'william': 219, 'described': 220, 'make': 221, 'significant': 222, 'much': 223, 'medieval': 224, 'australia': 225, 'city': 226, 'although': 227, 'canadian': 228, 'passing': 229, 'asia': 230, 'throughout': 231, 'god': 232, 'considered': 233, 'running': 234, 'became': 235, 'winter': 236, 'fa': 237, 'formed': 238, 'dry': 239, 'roller': 240, 'examples': 241, 'health': 242, 'vegetables': 243, 'accessory': 244, 'aggregate': 245, 'language': 246, 'systems': 247, 'norms': 248, 'rather': 249, 'french': 250, 'given': 251, 'members': 252, 'original': 253, 'scholars': 254, 'u': 255, 'distinct': 256, 'types': 257, 'foot': 258, 'kick': 259, 'match': 260, 'began': 261, 'meeting': 262, 'important': 263, 'melbourne': 264, 'skates': 265, 'puck': 266, 'produce': 267, 'must': 268, 'classified': 269, 'every': 270, 'civil': 271, 'richard': 272, 'old': 273, 'making': 274, 'changes': 275, 'less': 276, 'actually': 277, 'pass': 278, 'define': 279, 'history': 280, 'offences': 281, 'courts': 282, 'years': 283, 'seen': 284, 'population': 285, 'beings': 286, 'morality': 287, 'goals': 288, 'man': 289, 'concepts': 290, 'largely': 291, 'origin': 292, 'texts': 293, 'sense': 294, 'emerged': 295, 'traditions': 296, 'work': 297, 'northern': 298, 'divine': 299, 'north': 300, 'outside': 301, 'carrying': 302, 'middle': 303, 'london': 304, 'translated': 305, 'said': 306, 'adopted': 307, 'africa': 308, 'sledge': 309, 'buddhism': 310, 'seed': 311, 'particle': 312, 'view': 313, 'acts': 314, 'order': 315, 'attempt': 316, 'authorities': 317, 'justice': 318, 'refers': 319, 'late': 320, 'behavior': 321, 'complex': 322, 'enforcement': 323, 'influence': 324, 'similarly': 325, 'second': 326, 'almost': 327, 'develop': 328, 'end': 329, 'describes': 330, 'light': 331, 'together': 332, 'ad': 333, 'violent': 334, 'around': 335, 'structure': 336, 'smaller': 337, 'violence': 338, 'result': 339, 'cognitive': 340, 'possible': 341, 'billion': 342, 'main': 343, 'primarily': 344, 'indigenous': 345, 'matches': 346, 'britain': 347, 'open': 348, 'students': 349, 'today': 350, 'year': 351, 'away': 352, 'cup': 353, 'oldest': 354, 'scientific': 355, 'wills': 356, 'true': 357, 'variant': 358, 'long': 359, 'european': 360, 'mean': 361, 'stick': 362, 'ethnic': 363, 'abrahamic': 364, 'superstition': 365, 'edible': 366, 'sweet': 367, 'fertilization': 368, 'community': 369, 'provide': 370, 'without': 371, 'historically': 372, 'give': 373, 'originally': 374, 'wave': 375, 'applied': 376, 'extent': 377, 'note': 378, 'john': 379, 'simply': 380, 'right': 381, 'recent': 382, 'origins': 383, 'king': 384, 'specific': 385, 'day': 386, 'distinguish': 387, 'involving': 388, 'major': 389, 'church': 390, 'times': 391, 'classes': 392, 'divided': 393, 'come': 394, 'studies': 395, 'good': 396, 'universal': 397, 'islamic': 398, 'soccer': 399, 'back': 400, 'founded': 401, 'elements': 402, 'handling': 403, 'offside': 404, 'appear': 405, 'period': 406, 'balls': 407, 'central': 408, 'de': 409, 'hold': 410, 'ban': 411, 'women': 412, 'mid': 413, 'includes': 414, 'carried': 415, 'took': 416, 'feature': 417, 'half': 418, 'double': 419, 'cambridge': 420, 'bell': 421, 'towards': 422, 'fact': 423, 'aspects': 424, 'floor': 425, 'physical': 426, 'comparative': 427, 'argued': 428, 'worship': 429, 'fear': 430, 'associated': 431, 'develops': 432, 'results': 433, 'outer': 434, 'flowers': 435, 'physics': 436, 'particles': 437, 'probability': 438, 'punishable': 439, 'nations': 440, 'societies': 441, 'jurisdictions': 442, 'death': 443, 'individuals': 444, 'private': 445, 'governing': 446, 'punishment': 447, 'person': 448, 'animals': 449, 'phenomenon': 450, 'suggests': 451, 'section': 452, 'problem': 453, 'experience': 454, 'activities': 455, 'dominant': 456, 'reason': 457, 'whatever': 458, 'free': 459, 'concern': 460, 'idea': 461, 'function': 462, 'country': 463, 'recorded': 464, 'surviving': 465, 'source': 466, 'across': 467, 'property': 468, 'included': 469, 'consider': 470, 'hand': 471, 'greece': 472, 'local': 473, 'point': 474, 'wage': 475, 'institutions': 476, 'third': 477, 'gaelic': 478, 'references': 479, 'hands': 480, 'movement': 481, 'kicked': 482, 'book': 483, 'zealand': 484, 'comes': 485, 'taking': 486, 'description': 487, 'great': 488, 'banned': 489, 'evolved': 490, 'led': 491, 'changed': 492, 'regarding': 493, 'believe': 494, 'generally': 495, 'regardless': 496, 'instance': 497, 'harvard': 498, 'west': 499, 'establishment': 500, 'distance': 501, 'name': 502, 'summer': 503, 'rink': 504, 'east': 505, 'india': 506, 'supernatural': 507, 'spiritual': 508, 'explain': 509, 'hinduism': 510, 'movements': 511, 'numerous': 512, 'max': 513, 'philosophical': 514, 'spirituality': 515, 'adherents': 516, 'christians': 517, 'practiced': 518, 'groups': 519, 'muslims': 520, 'muslim': 521, 'food': 522, 'nuts': 523, 'pericarp': 524, 'berries': 525, 'properties': 526, 'category': 527, 'words': 528, 'murder': 529, 'rape': 530, 'conform': 531, 'relationship': 532, 'thomas': 533, 'constitutes': 534, 'follow': 535, 'followed': 536, 'conditions': 537, 'collection': 538, 'data': 539, 'variations': 540, 'se': 541, 'malum': 542, 'stigma': 543, 'serious': 544, 'identified': 545, 'consistent': 546, 'h': 547, 'saw': 548, 'able': 549, 'necessary': 550, 'fundamental': 551, 'entitled': 552, 'current': 553, 'find': 554, 'rights': 555, 'follows': 556, 'formal': 557, 'issued': 558, 'sources': 559, 'studied': 560, 'action': 561, 'empire': 562, 'compensation': 563, 'family': 564, 'peoples': 565, 'except': 566, 'largest': 567, 'get': 568, 'st': 569, 'best': 570, 'perceived': 571, 'hours': 572, 'america': 573, 'member': 574, 'reported': 575, 'split': 576, 'varying': 577, 'politics': 578, 'emotional': 579, 'psychology': 580, 'problems': 581, 'cell': 582, 'present': 583, 'commonly': 584, 'spread': 585, 'held': 586, 'feet': 587, 'centuries': 588, 'japanese': 589, 'version': 590, 'ground': 591, 'mentioned': 592, 'fifa': 593, 'rubber': 594, 'documented': 595, 'especially': 596, 'throw': 597, 'catch': 598, 'small': 599, 'historians': 600, 'account': 601, 'antiquity': 602, 'children': 603, 'japan': 604, 'popularity': 605, 'boys': 606, 'mob': 607, 'opposing': 608, 'fields': 609, 'inner': 610, 'f': 611, 'proclamation': 612, 'scotland': 613, 'strike': 614, 'uses': 615, 'met': 616, 'attempts': 617, 'significantly': 618, 'creation': 619, 'organised': 620, 'eton': 621, 'refer': 622, 'sides': 623, 'forward': 624, 'working': 625, 'class': 626, 'six': 627, 'competition': 628, 'south': 629, 'allow': 630, 'sheffield': 631, 'rfu': 632, 'lack': 633, 'born': 634, 'high': 635, 'shall': 636, 'remained': 637, 'yale': 638, 'princeton': 639, 'ruck': 640, 'separate': 641, 'federation': 642, 'highest': 643, 'type': 644, 'instead': 645, 'olympics': 646, 'classification': 647, 'iran': 648, 'atheists': 649, 'academic': 650, 'usage': 651, 'knowledge': 652, 'broad': 653, 'languages': 654, 'jews': 655, 'jewish': 656, 'indian': 657, 'deity': 658, 'geertz': 659, 'james': 660, 'understanding': 661, 'via': 662, 'religiosity': 663, 'flowering': 664, 'dispersal': 665, 'apple': 666, 'pepper': 667, 'layer': 668, 'ovules': 669, 'pollination': 670, 'receptacle': 671, 'pistils': 672, 'eating': 673, 'mathematical': 674, 'slits': 675, 'entanglement': 676, 'ordinary': 677, 'accepted': 678, 'definitions': 679, 'created': 680, 'proposed': 681, 'wrong': 682, 'exists': 683, 'worldwide': 684, 'government': 685, 'sentence': 686, 'depending': 687, 'imprisonment': 688, 'violation': 689, 'control': 690, 'populations': 691, 'mechanisms': 692, 'citizens': 693, 'prescribed': 694, 'aim': 695, 'addition': 696, 'penal': 697, 'believed': 698, 'root': 699, 'charge': 700, 'derives': 701, 'depends': 702, 'court': 703, 'normally': 704, 'considers': 705, 'understand': 706, 'affect': 707, 'everyday': 708, 'norm': 709, 'behaviour': 710, 'cases': 711, 'freedom': 712, 'prohibition': 713, 'count': 714, 'actual': 715, 'process': 716, 'apply': 717, 'appropriate': 718, 'existence': 719, 'content': 720, 'l': 721, 'adopt': 722, 'makes': 723, 'necessarily': 724, 'therefore': 725, 'conceptions': 726, 'contrast': 727, 'never': 728, 'regard': 729, 'communities': 730, 'sin': 731, 'war': 732, 'always': 733, 'produced': 734, 'left': 735, 'contains': 736, 'romans': 737, 'pater': 738, 'interference': 739, 'parlance': 740, 'subject': 741, 'obligation': 742, 'complete': 743, 'range': 744, 'rome': 745, 'came': 746, 'parallel': 747, 'effect': 748, 'grew': 749, 'gradually': 750, 'help': 751, 'organization': 752, 'independent': 753, 'fresh': 754, 'context': 755, 'categories': 756, 'distinction': 757, 'us': 758, 'require': 759, 'global': 760, 'impact': 761, 'feeling': 762, 'risk': 763, 'secular': 764, 'catholic': 765, 'regular': 766, 'exist': 767, 'large': 768, 'annual': 769, 'million': 770, 'full': 771, 'specifically': 772, 'contemporary': 773, 'tackles': 774, 'put': 775, 'explanations': 776, 'existed': 777, 'trying': 778, 'drop': 779, 'cicero': 780, 'whilst': 781, 'attempting': 782, 'victoria': 783, 'go': 784, 'ages': 785, 'animal': 786, 'opponents': 787, 'david': 788, 'translation': 789, 'pilam': 790, 'opposite': 791, 'started': 792, 'division': 793, 'president': 794, 'roots': 795, 'key': 796, 'bodies': 797, 'grammar': 798, 'devised': 799, 'formation': 800, 'week': 801, 'difficult': 802, 'beginning': 803, 'little': 804, 'occurred': 805, 'p': 806, 'march': 807, 'shaped': 808, 'invention': 809, 'speaking': 810, 'defining': 811, 'j': 812, 'forming': 813, 'behind': 814, 'october': 815, 'representatives': 816, 'area': 817, 'published': 818, 'recently': 819, 'fair': 820, 'bound': 821, 'boston': 822, 'mcgill': 823, 'developments': 824, 'object': 825, 'irish': 826, 'hurling': 827, 'nrfu': 828, 'better': 829, 'five': 830, 'event': 831, 'says': 832, 'kingdom': 833, 'names': 834, 'upon': 835, 'cannot': 836, 'eastern': 837, 'curved': 838, 'recognized': 839, 'water': 840, 'hard': 841, 'surface': 842, 'handed': 843, 'iihf': 844, 'organized': 845, 'places': 846, 'services': 847, 'symbols': 848, 'symbolic': 849, 'universe': 850, 'phenomena': 851, 'folk': 852, 'unaffiliated': 853, 'identify': 854, 'philosophy': 855, 'anything': 856, 'understood': 857, 'closely': 858, 'toward': 859, 'threskeia': 860, 'protestant': 861, 'argue': 862, 'quran': 863, 'tradition': 864, 'paul': 865, 'depth': 866, 'ultimate': 867, 'myth': 868, 'jesus': 869, 'evolutionary': 870, 'prophet': 871, 'prophets': 872, 'zoroastrianism': 873, 'african': 874, 'israel': 875, 'teachings': 876, 'observed': 877, 'rely': 878, 'value': 879, 'values': 880, 'wealth': 881, 'interfaith': 882, 'dialogue': 883, 'soil': 884, 'plants': 885, 'raw': 886, 'apples': 887, 'bananas': 888, 'grapes': 889, 'oranges': 890, 'botanical': 891, 'tomato': 892, 'culinary': 893, 'botanically': 894, 'wall': 895, 'head': 896, 'sequence': 897, 'produces': 898, 'pollen': 899, 'sepals': 900, 'petals': 901, 'pineapple': 902, 'ripening': 903, 'seedlessness': 904, 'whole': 905, 'scale': 906, 'energy': 907, 'momentum': 908, 'amplitudes': 909, 'experiment': 910, 'slit': 911, 'screen': 912, 'hidden': 913, 'provided': 914, 'something': 915, 'relevant': 916, 'harmful': 917, 'prohibited': 918, 'precisely': 919, 'comprehensive': 920, 'statute': 921, 'liberty': 922, 'committing': 923, 'counts': 924, 'relationships': 925, 'establish': 926, 'maintain': 927, 'agents': 928, 'punish': 929, 'behaviors': 930, 'codify': 931, 'capital': 932, 'sociologist': 933, 'cry': 934, 'offense': 935, 'brought': 936, 'omission': 937, 'depend': 938, 'felony': 939, 'money': 940, 'misdemeanour': 941, 'larceny': 942, 'purpose': 943, 'alternative': 944, 'views': 945, 'prevailing': 946, 'humans': 947, 'psychological': 948, 'remain': 949, 'contentious': 950, 'directly': 951, 'affects': 952, 'rates': 953, 'enforce': 954, 'influenced': 955, 'ways': 956, 'clear': 957, 'consensus': 958, 'seem': 959, 'respect': 960, 'legislation': 961, 'criminalization': 962, 'harm': 963, 'reduction': 964, 'entities': 965, 'convinced': 966, 'cause': 967, 'force': 968, 'wrote': 969, 'principle': 970, 'regarded': 971, 'rational': 972, 'morally': 973, 'conforms': 974, 'valid': 975, 'validity': 976, 'determine': 977, 'remains': 978, 'choose': 979, 'aspect': 980, 'sufficient': 981, 'entails': 982, 'criticism': 983, 'impossible': 984, 'degree': 985, 'continued': 986, 'adam': 987, 'smith': 988, 'inherently': 989, 'whereas': 990, 'goes': 991, 'illegal': 992, 'influential': 993, 'sumerians': 994, 'short': 995, 'personal': 996, 'dharma': 997, 'issues': 998, 'etc': 999, 'henry': 1000, 'available': 1001, 'deal': 1002, 'wrongs': 1003, 'treated': 1004, 'assault': 1005, 'twelve': 1006, 'robbery': 1007, 'monetary': 1008, 'land': 1009, 'emerge': 1010, 'namely': 1011, 'special': 1012, 'scandinavia': 1013, 'apparent': 1014, 'royal': 1015, 'families': 1016, 'feelings': 1017, 'keep': 1018, 'peace': 1019, 'real': 1020, 'sociological': 1021, 'method': 1022, 'mode': 1023, 'reports': 1024, 'ucr': 1025, 'annually': 1026, 'officials': 1027, 'county': 1028, 'classify': 1029, 'categorized': 1030, 'organizations': 1031, 'thing': 1032, 'causes': 1033, 'empirical': 1034, 'support': 1035, 'research': 1036, 'positive': 1037, 'lower': 1038, 'solution': 1039, 'role': 1040, 'promote': 1041, 'otherwise': 1042, 'consumption': 1043, 'abortion': 1044, 'stem': 1045, 'historical': 1046, 'canon': 1047, 'military': 1048, 'contain': 1049, 'possession': 1050, 'estimated': 1051, 'survey': 1052, 'foreign': 1053, 'score': 1054, 'share': 1055, 'british': 1056, 'areas': 1057, 'regional': 1058, 'already': 1059, 'limited': 1060, 'scoring': 1061, 'phrase': 1062, 'variety': 1063, 'chinese': 1064, 'cuju': 1065, 'dynasty': 1066, 'kemari': 1067, 'theologian': 1068, 'resembled': 1069, 'air': 1070, 'recognised': 1071, 'named': 1072, 'native': 1073, 'links': 1074, 'marn': 1075, 'grook': 1076, 'seven': 1077, 'points': 1078, 'far': 1079, 'w': 1080, 'huge': 1081, 'rise': 1082, 'shrovetide': 1083, 'particularly': 1084, 'france': 1085, 'geographical': 1086, 'space': 1087, 'festivals': 1088, 'youth': 1089, 'ran': 1090, 'spectator': 1091, 'lay': 1092, 'upper': 1093, 'caused': 1094, 'edward': 1095, 'iii': 1096, 'handball': 1097, 'showing': 1098, 'exact': 1099, 'schoolboys': 1100, 'aberdeen': 1101, 'notable': 1102, 'allusion': 1103, 'dribbling': 1104, 'recreation': 1105, 'throwing': 1106, 'gives': 1107, 'calcio': 1108, 'originated': 1109, 'female': 1110, 'diverge': 1111, 'equivalent': 1112, 'four': 1113, 'former': 1114, 'codified': 1115, 'mulcaster': 1116, 'writings': 1117, 'positions': 1118, 'wedderburn': 1119, 'holding': 1120, 'describe': 1121, 'close': 1122, 'shown': 1123, 'harrow': 1124, 'neither': 1125, 'fit': 1126, 'varied': 1127, 'westminster': 1128, 'charterhouse': 1129, 'partly': 1130, 'restricted': 1131, 'webb': 1132, 'ellis': 1133, 'distinctive': 1134, 'permitted': 1135, 'showed': 1136, 'ever': 1137, 'sporting': 1138, 'competitions': 1139, 'applies': 1140, 'preparation': 1141, 'apart': 1142, 'uk': 1143, 'increased': 1144, 'trophy': 1145, 'representing': 1146, 'oval': 1147, 'bladders': 1148, 'introduced': 1149, 'lindon': 1150, 'round': 1151, 'pattern': 1152, 'goalkeeper': 1153, 'nevertheless': 1154, 'text': 1155, 'engineers': 1156, 'posts': 1157, 'official': 1158, 'marks': 1159, 'tom': 1160, 'initially': 1161, 'kicks': 1162, 'b': 1163, 'committee': 1164, 'mark': 1165, 'victorian': 1166, 'southern': 1167, 'increasing': 1168, 'master': 1169, 'uppingham': 1170, 'drawn': 1171, 'total': 1172, 'december': 1173, 'attention': 1174, 'hacking': 1175, 'run': 1176, 'campbell': 1177, 'blackheath': 1178, 'contained': 1179, 'claim': 1180, 'numbers': 1181, 'november': 1182, 'toronto': 1183, 'approximately': 1184, 'trinity': 1185, 'taken': 1186, 'montreal': 1187, 'diverged': 1188, 'caid': 1189, 'begun': 1190, 'ten': 1191, 'paid': 1192, 'notably': 1193, 'situation': 1194, 'possibility': 1195, 'solely': 1196, 'le': 1197, 'affiliates': 1198, 'top': 1199, 'average': 1200, 'attendance': 1201, 'nation': 1202, 'unlike': 1203, 'preceded': 1204, 'disk': 1205, 'whose': 1206, 'ringette': 1207, 'invented': 1208, 'russia': 1209, 'translations': 1210, 'hooked': 1211, 'divisions': 1212, 'championships': 1213, 'sex': 1214, 'olympic': 1215, 'wood': 1216, 'flat': 1217, 'para': 1218, 'sledges': 1219, 'blades': 1220, 'skate': 1221, 'essentially': 1222, 'sort': 1223, 'transcendence': 1224, 'rituals': 1225, 'music': 1226, 'holy': 1227, 'stories': 1228, 'followers': 1229, 'traditionally': 1230, 'religiously': 1231, 'wide': 1232, 'disciplines': 1233, 'theology': 1234, 'carefully': 1235, 'monastic': 1236, 'broadly': 1237, 'mundane': 1238, 'relation': 1239, 'anxiety': 1240, 'authors': 1241, 'domain': 1242, 'frequently': 1243, 'josephus': 1244, 'doctrines': 1245, 'clearly': 1246, 'daily': 1247, 'taoism': 1248, 'self': 1249, 'hindu': 1250, 'giving': 1251, 'consequence': 1252, 'theistic': 1253, 'basic': 1254, 'clifford': 1255, 'tylor': 1256, 'deeper': 1257, 'done': 1258, 'reality': 1259, 'peter': 1260, 'relatively': 1261, 'grounded': 1262, 'experiences': 1263, 'spirit': 1264, 'durkheim': 1265, 'contrary': 1266, 'substance': 1267, 'anthropology': 1268, 'model': 1269, 'christ': 1270, 'seek': 1271, 'branch': 1272, 'philosophies': 1273, 'furthermore': 1274, 'monotheistic': 1275, 'per': 1276, 'orthodox': 1277, 'unity': 1278, 'southeast': 1279, 'bah': 1280, 'druze': 1281, 'diverse': 1282, 'focused': 1283, 'looked': 1284, 'facts': 1285, 'experiments': 1286, 'contribute': 1287, 'sharia': 1288, 'likely': 1289, 'leaders': 1290, 'irreligion': 1291, 'illness': 1292, 'structures': 1293, 'strawberries': 1294, 'corn': 1295, 'pumpkin': 1296, 'cucumber': 1297, 'beans': 1298, 'termed': 1299, 'species': 1300, 'epicarp': 1301, 'endocarp': 1302, 'megagametophyte': 1303, 'embryo': 1304, 'stamens': 1305, 'sperm': 1306, 'endosperm': 1307, 'inferior': 1308, 'floral': 1309, 'strawberry': 1310, 'modes': 1311, 'drupe': 1312, 'insertion': 1313, 'compound': 1314, 'pistil': 1315, 'dehiscence': 1316, 'distribution': 1317, 'berry': 1318, 'ovaries': 1319, 'achenes': 1320, 'etaerio': 1321, 'blackberry': 1322, 'cluster': 1323, 'seedless': 1324, 'wind': 1325, 'thereby': 1326, 'parent': 1327, 'foods': 1328, 'diseases': 1329, 'potential': 1330, 'atoms': 1331, 'atomic': 1332, 'quantities': 1333, 'waves': 1334, 'measurement': 1335, 'schr': 1336, 'dinger': 1337, 'demonstrated': 1338, 'application': 1339, 'electron': 1340, 'tunnelling': 1341, 'theorem': 1342, 'variables': 1343, 'authority': 1344, 'statutory': 1345, 'purposes': 1346, 'declared': 1347, 'forbidden': 1348, 'jurisdiction': 1349, 'procedures': 1350, 'trials': 1351, 'adhere': 1352, 'guilty': 1353, 'offender': 1354, 'emphasize': 1355, 'exceptions': 1356, 'intention': 1357, 'violates': 1358, 'breaches': 1359, 'torts': 1360, 'punished': 1361, 'enforced': 1362, 'procedure': 1363, 'prove': 1364, 'reform': 1365, 'regulate': 1366, 'encouraging': 1367, 'discouraging': 1368, 'agencies': 1369, 'comply': 1370, 'remedies': 1371, 'sanctions': 1372, 'collectively': 1373, 'vary': 1374, 'aimed': 1375, 'permanent': 1376, 'punishments': 1377, 'persons': 1378, 'commit': 1379, 'capable': 1380, 'accordingly': 1381, 'quinney': 1382, 'conceive': 1383, 'societal': 1384, 'decide': 1385, 'judgment': 1386, 'distress': 1387, 'probably': 1388, 'crimen': 1389, 'indictment': 1390, 'fault': 1391, 'karl': 1392, 'rejects': 1393, 'dates': 1394, 'cf': 1395, 'consequences': 1396, 'prevention': 1397, 'false': 1398, 'counterfeit': 1399, 'coin': 1400, 'goods': 1401, 'fifty': 1402, 'labour': 1403, 'relations': 1404, 'standards': 1405, 'ought': 1406, 'behave': 1407, 'approach': 1408, 'realities': 1409, 'changing': 1410, 'structural': 1411, 'change': 1412, 'calculation': 1413, 'statistics': 1414, 'shape': 1415, 'attitudes': 1416, 'controlled': 1417, 'indeed': 1418, 'mala': 1419, 'alone': 1420, 'threat': 1421, 'anyone': 1422, 'engage': 1423, 'causing': 1424, 'becomes': 1425, 'costs': 1426, 'criminalizing': 1427, 'restricting': 1428, 'assert': 1429, 'reflect': 1430, 'standard': 1431, 'processing': 1432, 'accused': 1433, 'coerce': 1434, 'compliance': 1435, 'posits': 1436, 'underlies': 1437, 'measure': 1438, 'acceptable': 1439, 'accepting': 1440, 'objective': 1441, 'objectively': 1442, 'utility': 1443, 'hart': 1444, 'sovereignty': 1445, 'truth': 1446, 'equal': 1447, 'citizen': 1448, 'duty': 1449, 'circumstances': 1450, 'enforcing': 1451, 'primary': 1452, 'saying': 1453, 'criminality': 1454, 'interests': 1455, 'lawyers': 1456, 'express': 1457, 'prohibitum': 1458, 'respectively': 1459, 'founding': 1460, 'fathers': 1461, 'mythological': 1462, 'accounts': 1463, 'conflict': 1464, 'containing': 1465, 'mixed': 1466, 'survived': 1467, 'ur': 1468, 'nammu': 1469, 'penalties': 1470, 'articles': 1471, 'bce': 1472, 'conscious': 1473, 'superior': 1474, 'compile': 1475, 'conduct': 1476, 'sanskrit': 1477, 'duties': 1478, 'sir': 1479, 'failed': 1480, 'hellenic': 1481, 'victims': 1482, 'initial': 1483, 'matter': 1484, 'slave': 1485, 'payment': 1486, 'discharge': 1487, 'teutonic': 1488, 'germanic': 1489, 'tribes': 1490, 'acquired': 1491, 'anglo': 1492, 'kings': 1493, 'norman': 1494, 'events': 1495, 'usual': 1496, 'extraordinary': 1497, 'manner': 1498, 'wanted': 1499, 'feudal': 1500, 'modified': 1501, 'climate': 1502, 'judge': 1503, 'parish': 1504, 'board': 1505, 'onwards': 1506, 'requiring': 1507, 'male': 1508, 'compare': 1509, 'security': 1510, 'council': 1511, 'decisions': 1512, 'call': 1513, 'birth': 1514, 'acquire': 1515, 'michel': 1516, 'discipline': 1517, 'researchers': 1518, 'seriousness': 1519, 'treason': 1520, 'abolished': 1521, 'wales': 1522, 'uniform': 1523, 'levels': 1524, 'burglary': 1525, 'ii': 1526, 'sphere': 1527, 'ranging': 1528, 'offering': 1529, 'activity': 1530, 'safety': 1531, 'biological': 1532, 'topics': 1533, 'effects': 1534, 'chronic': 1535, 'linked': 1536, 'declines': 1537, 'solutions': 1538, 'carry': 1539, 'mass': 1540, 'prosecute': 1541, 'netherlands': 1542, 'turn': 1543, 'clash': 1544, 'socially': 1545, 'imposed': 1546, 'grounds': 1547, 'established': 1548, 'streets': 1549, 'lost': 1550, 'singapore': 1551, 'widespread': 1552, 'workers': 1553, 'involve': 1554, 'unqualified': 1555, 'prehistoric': 1556, 'traced': 1557, 'codification': 1558, 'becoming': 1559, 'associations': 1560, 'kinds': 1561, 'moved': 1562, 'thrown': 1563, 'strictly': 1564, 'skills': 1565, 'tackling': 1566, 'catching': 1567, 'crossbar': 1568, 'goalposts': 1569, 'explanation': 1570, 'descriptions': 1571, 'possibly': 1572, 'imperial': 1573, 'stand': 1574, 'episkyros': 1575, 'inuit': 1576, 'lines': 1577, 'americans': 1578, 'similarities': 1579, 'basketball': 1580, 'volleyball': 1581, 'net': 1582, 'likewise': 1583, 'robert': 1584, 'aboriginal': 1585, 'mr': 1586, 'skin': 1587, 'consisting': 1588, 'touching': 1589, 'boundary': 1590, 'lie': 1591, 'al': 1592, 'try': 1593, 'leather': 1594, 'revived': 1595, 'attributed': 1596, 'date': 1597, 'towns': 1598, 'neighbouring': 1599, 'inflated': 1600, 'bladder': 1601, 'era': 1602, 'detailed': 1603, 'youths': 1604, 'take': 1605, 'watch': 1606, 'speak': 1607, 'friend': 1608, 'lord': 1609, 'banning': 1610, 'might': 1611, 'forbid': 1612, 'future': 1613, 'differentiated': 1614, 'fell': 1615, 'repercute': 1616, 'illi': 1617, 'suggesting': 1618, 'age': 1619, 'iv': 1620, 'presented': 1621, 'young': 1622, 'propel': 1623, 'along': 1624, 'pitch': 1625, 'marked': 1626, 'historic': 1627, 'fine': 1628, 'exercise': 1629, 'face': 1630, 'faced': 1631, 'campuses': 1632, 'theodore': 1633, 'roosevelt': 1634, 'credited': 1635, 'enable': 1636, 'resembling': 1637, 'herman': 1638, 'headmaster': 1639, 'winchester': 1640, 'textbook': 1641, 'parties': 1642, 'standings': 1643, 'coach': 1644, 'footeball': 1645, 'strength': 1646, 'teacher': 1647, 'keeping': 1648, 'willughby': 1649, 'mentions': 1650, 'selected': 1651, 'opponent': 1652, 'advance': 1653, 'differently': 1654, 'cheltenham': 1655, 'days': 1656, 'decline': 1657, 'pupils': 1658, 'marlborough': 1659, 'rough': 1660, 'tumble': 1661, 'disregard': 1662, 'emphasis': 1663, 'added': 1664, 'arms': 1665, 'story': 1666, 'picking': 1667, 'compulsory': 1668, 'travel': 1669, 'halves': 1670, 'home': 1671, 'formulated': 1672, 'lawn': 1673, 'grass': 1674, 'dedicated': 1675, 'located': 1676, 'forbade': 1677, 'tripping': 1678, 'longest': 1679, 'fixture': 1680, 'contested': 1681, 'scotch': 1682, 'caledonian': 1683, 'challenge': 1684, 'hospitals': 1685, 'yorkshire': 1686, 'pig': 1687, 'exhibited': 1688, 'exhibition': 1689, 'vulcanised': 1690, 'paris': 1691, 'past': 1692, 'lancashire': 1693, 'afc': 1694, 'ing': 1695, 'cooperation': 1696, 'minute': 1697, 'nottingham': 1698, 'front': 1699, 'contest': 1700, 'decision': 1701, 'innovations': 1702, 'differences': 1703, 'july': 1704, 'calling': 1705, 'moment': 1706, 'debated': 1707, 'suit': 1708, 'harrison': 1709, 'seminal': 1710, 'figure': 1711, 'penalised': 1712, 'distributed': 1713, 'accommodate': 1714, 'featured': 1715, 'bouncing': 1716, 'experienced': 1717, 'unify': 1718, 'queen': 1719, 'draft': 1720, 'adversaries': 1721, 'final': 1722, 'abbreviation': 1723, 'longer': 1724, 'touched': 1725, 'yards': 1726, 'metres': 1727, 'universities': 1728, 'injury': 1729, 'hybrid': 1730, 'rutgers': 1731, 'participants': 1732, 'frederick': 1733, 'christopher': 1734, 'massachusetts': 1735, 'massasoit': 1736, 'camp': 1737, 'house': 1738, 'scrimmage': 1739, 'injuries': 1740, 'reduce': 1741, 'absorbed': 1742, 'implemented': 1743, 'father': 1744, 'cross': 1745, 'varieties': 1746, 'gaa': 1747, 'reject': 1748, 'davin': 1749, 'prime': 1750, 'attribute': 1751, 'irfb': 1752, 'earlier': 1753, 'dispute': 1754, 'replaced': 1755, 'required': 1756, 'replacement': 1757, 'tackled': 1758, 'officially': 1759, 'affiliated': 1760, 'sweden': 1761, 'ration': 1762, 'internationale': 1763, 'leagues': 1764, 'launched': 1765, 'maximum': 1766, 'advent': 1767, 'metre': 1768, 'despite': 1769, 'effectively': 1770, 'quebec': 1771, 'television': 1772, 'watched': 1773, 'fastest': 1774, 'growing': 1775, 'clarification': 1776, 'ability': 1777, 'methods': 1778, 'absence': 1779, 'wheeled': 1780, 'bladed': 1781, 'center': 1782, 'depression': 1783, 'sam': 1784, 'jacks': 1785, 'designed': 1786, 'skating': 1787, 'avoid': 1788, 'education': 1789, 'canibucam': 1790, 'historian': 1791, 'supposition': 1792, 'staves': 1793, 'stoppers': 1794, 'histories': 1795, 'egypt': 1796, 'horn': 1797, 'k': 1798, 'hockie': 1799, 'balle': 1800, 'regulations': 1801, 'outdoors': 1802, 'russian': 1803, 'artificial': 1804, 'mm': 1805, 'diameter': 1806, 'composite': 1807, 'fibre': 1808, 'appeared': 1809, 'pakistan': 1810, 'skaters': 1811, 'frozen': 1812, 'level': 1813, 'decrease': 1814, 'amount': 1815, 'latvia': 1816, 'republic': 1817, 'nhl': 1818, 'globe': 1819, 'blade': 1820, 'leader': 1821, 'equipment': 1822, 'aluminum': 1823, 'wheelchair': 1824, 'everyone': 1825, 'quad': 1826, 'road': 1827, 'designated': 1828, 'ethics': 1829, 'relates': 1830, 'humanity': 1831, 'scholarly': 1832, 'ultimacy': 1833, 'rest': 1834, 'sermons': 1835, 'commemoration': 1836, 'veneration': 1837, 'sacrifices': 1838, 'feasts': 1839, 'trances': 1840, 'initiations': 1841, 'funerary': 1842, 'matrimonial': 1843, 'meditation': 1844, 'prayer': 1845, 'art': 1846, 'dance': 1847, 'service': 1848, 'mostly': 1849, 'portion': 1850, 'offer': 1851, 'reverence': 1852, 'ultimately': 1853, 'lego': 1854, 'joseph': 1855, 'prominent': 1856, 'orders': 1857, 'etymological': 1858, 'contexts': 1859, 'doctrine': 1860, 'emotions': 1861, 'arose': 1862, 'superstitio': 1863, 'separated': 1864, 'oath': 1865, 'deisidaimonia': 1866, 'reformation': 1867, 'globalization': 1868, 'contact': 1869, 'bible': 1870, 'precise': 1871, 'hebrew': 1872, 'path': 1873, 'identity': 1874, 'testament': 1875, 'din': 1876, 'expressed': 1877, 'consisted': 1878, 'piety': 1879, 'buddha': 1880, 'confucianism': 1881, 'subcontinent': 1882, 'ller': 1883, 'functional': 1884, 'essence': 1885, 'macmillan': 1886, 'encyclopedia': 1887, 'qualities': 1888, 'speculative': 1889, 'accurately': 1890, 'culturally': 1891, 'dichotomous': 1892, 'creator': 1893, 'anthropologist': 1894, 'moods': 1895, 'motivations': 1896, 'clothing': 1897, 'perhaps': 1898, 'motive': 1899, 'remarked': 1900, 'literature': 1901, 'demonstrate': 1902, 'transcends': 1903, 'powers': 1904, 'signs': 1905, 'intended': 1906, 'sacredness': 1907, 'dimension': 1908, 'dimensions': 1909, 'friedrich': 1910, 'absolute': 1911, 'gravity': 1912, 'mile': 1913, 'relative': 1914, 'tree': 1915, 'myths': 1916, 'virtues': 1917, 'valuing': 1918, 'tillich': 1919, 'concerned': 1920, 'findings': 1921, 'dawkins': 1922, 'interplay': 1923, 'interest': 1924, 'meanings': 1925, 'sociology': 1926, 'founder': 1927, 'basis': 1928, 'living': 1929, 'neuroscience': 1930, 'daniel': 1931, 'animism': 1932, 'weber': 1933, 'overview': 1934, 'anthropological': 1935, 'characteristics': 1936, 'subsequent': 1937, 'anthropologists': 1938, 'charismatic': 1939, 'seems': 1940, 'helps': 1941, 'ideas': 1942, 'allows': 1943, 'talal': 1944, 'asad': 1945, 'perspective': 1946, 'thoughts': 1947, 'psychotic': 1948, 'temporal': 1949, 'lobe': 1950, 'epilepsy': 1951, 'atheistic': 1952, 'studying': 1953, 'richer': 1954, 'iranian': 1955, 'asian': 1956, 'exclusive': 1957, 'look': 1958, 'converts': 1959, 'jainism': 1960, 'dependent': 1961, 'syncretism': 1962, 'poll': 1963, 'identification': 1964, 'compared': 1965, 'principles': 1966, 'projection': 1967, 'torah': 1968, 'foundational': 1969, 'oral': 1970, 'holds': 1971, 'revealed': 1972, 'commandments': 1973, 'ce': 1974, 'cent': 1975, 'son': 1976, 'teaches': 1977, 'colonization': 1978, 'propagated': 1979, 'muhammad': 1980, 'accepts': 1981, 'majority': 1982, 'sub': 1983, 'denominations': 1984, 'faiths': 1985, 'additional': 1986, 'mandaeans': 1987, 'expected': 1988, 'generation': 1989, 'china': 1990, 'greater': 1991, 'minorities': 1992, 'mazda': 1993, 'evil': 1994, 'marriage': 1995, 'secularization': 1996, 'issue': 1997, 'metaphysical': 1998, 'midst': 1999, 'testing': 2000, 'evolution': 2001, 'scripture': 2002, 'test': 2003, 'models': 2004, 'albert': 2005, 'einstein': 2006, 'strong': 2007, 'congress': 2008, 'differs': 2009, 'nonreligious': 2010, 'diversity': 2011, 'involvement': 2012, 'mental': 2013, 'quality': 2014, 'outcomes': 2015, 'longevity': 2016, 'terminal': 2017, 'suggested': 2018, 'page': 2019, 'asserts': 2020, 'maintaining': 2021, 'magical': 2022, 'interior': 2023, 'fall': 2024, 'agnostic': 2025, 'soul': 2026, 'transplanting': 2027, 'kill': 2028, 'botany': 2029, 'bearing': 2030, 'nutrition': 2031, 'substantial': 2032, 'pomegranate': 2033, 'sour': 2034, 'kernels': 2035, 'tomatoes': 2036, 'wheat': 2037, 'ripened': 2038, 'carpel': 2039, 'ovule': 2040, 'tasting': 2041, 'oily': 2042, 'shells': 2043, 'zucchini': 2044, 'squash': 2045, 'eggplant': 2046, 'spices': 2047, 'chili': 2048, 'allspice': 2049, 'rhubarb': 2050, 'leaf': 2051, 'pine': 2052, 'grain': 2053, 'rice': 2054, 'tissues': 2055, 'layers': 2056, 'mesocarp': 2057, 'gynoecium': 2058, 'inside': 2059, 'begins': 2060, 'gametophyte': 2061, 'egg': 2062, 'fertilized': 2063, 'deposited': 2064, 'zygote': 2065, 'mother': 2066, 'ripen': 2067, 'drupes': 2068, 'exocarp': 2069, 'ripens': 2070, 'besides': 2071, 'labelled': 2072, 'attach': 2073, 'noni': 2074, 'progression': 2075, 'arranged': 2076, 'fruiting': 2077, 'fungi': 2078, 'merging': 2079, 'decay': 2080, 'frugivores': 2081, 'entire': 2082, 'carpels': 2083, 'raspberries': 2084, 'attached': 2085, 'aggregation': 2086, 'fruitlet': 2087, 'etaerios': 2088, 'drupelets': 2089, 'inflorescence': 2090, 'fig': 2091, 'mulberry': 2092, 'cultivars': 2093, 'citrus': 2094, 'requires': 2095, 'explosive': 2096, 'skins': 2097, 'grow': 2098, 'thousands': 2099, 'valuable': 2100, 'eaten': 2101, 'meals': 2102, 'beverages': 2103, 'black': 2104, 'olive': 2105, 'oil': 2106, 'proper': 2107, 'post': 2108, 'harvest': 2109, 'fiber': 2110, 'foodborne': 2111, 'refrigerated': 2112, 'meat': 2113, 'poultry': 2114, 'seafood': 2115, 'cooked': 2116, 'allergies': 2117, 'provides': 2118, 'subatomic': 2119, 'information': 2120, 'macroscopic': 2121, 'discrete': 2122, 'duality': 2123, 'predicted': 2124, 'uncertainty': 2125, 'microscopic': 2126, 'erwin': 2127, 'molecules': 2128, 'predictions': 2129, 'mathematically': 2130, 'amplitude': 2131, 'density': 2132, 'position': 2133, 'performed': 2134, 'pertain': 2135, 'plate': 2136, 'counter': 2137, 'intuitive': 2138, 'communication': 2139, 'incompatible': 2140, 'formulation': 2141, 'unlawful': 2142, 'universally': 2143, 'applicable': 2144, 'notion': 2145, 'catalogue': 2146, 'severely': 2147, 'restrict': 2148, 'investigations': 2149, 'sentenced': 2150, 'reparation': 2151, 'undergo': 2152, 'programs': 2153, 'rehabilitation': 2154, 'punishing': 2155, 'mix': 2156, 'aforementioned': 2157, 'actus': 2158, 'reus': 2159, 'accompanied': 2160, 'mens': 2161, 'rea': 2162, 'contract': 2163, 'automatically': 2164, 'informal': 2165, 'insufficient': 2166, 'desired': 2167, 'impose': 2168, 'formalized': 2169, 'stricter': 2170, 'institutional': 2171, 'machinery': 2172, 'disposal': 2173, 'compel': 2174, 'opt': 2175, 'employ': 2176, 'administering': 2177, 'police': 2178, 'visitors': 2179, 'ensure': 2180, 'implement': 2181, 'policies': 2182, 'legislators': 2183, 'administrators': 2184, 'preventing': 2185, 'constitute': 2186, 'severity': 2187, 'incarceration': 2188, 'temporary': 2189, 'character': 2190, 'reforming': 2191, 'convict': 2192, 'inflict': 2193, 'harsh': 2194, 'mutilation': 2195, 'parole': 2196, 'perpetrates': 2197, 'premodern': 2198, 'prosecuted': 2199, 'envisages': 2200, 'perceive': 2201, 'cern': 2202, 'cr': 2203, 'krima': 2204, 'cognate': 2205, 'intellectual': 2206, 'mistake': 2207, 'sinfulness': 2208, 'online': 2209, 'etymology': 2210, 'dictionary': 2211, 'crimne': 2212, 'genitive': 2213, 'criminis': 2214, 'signified': 2215, 'accusation': 2216, 'derive': 2217, 'cernere': 2218, 'sift': 2219, 'crisis': 2220, 'mapped': 2221, 'kairos': 2222, 'chronos': 2223, 'ernest': 2224, 'klein': 2225, 'citing': 2226, 'brugmann': 2227, 'cri': 2228, 'tucker': 2229, 'plaint': 2230, 'plaintiff': 2231, 'glossed': 2232, 'facen': 2233, 'deceit': 2234, 'fraud': 2235, 'treachery': 2236, 'fake': 2237, 'attested': 2238, 'proceedings': 2239, 'expression': 2240, 'uttering': 2241, 'possessing': 2242, 'gold': 2243, 'silver': 2244, 'obtaining': 2245, 'pretences': 2246, 'conspiracy': 2247, 'defraud': 2248, 'eighth': 2249, 'trade': 2250, 'consolidation': 2251, 'summary': 2252, 'conviction': 2253, 'commission': 2254, 'liable': 2255, 'imprisoned': 2256, 'absolutely': 2257, 'discretion': 2258, 'normative': 2259, 'deviant': 2260, 'prescribing': 2261, 'surrounding': 2262, 'seeks': 2263, 'economic': 2264, 'responses': 2265, 'fluid': 2266, 'environment': 2267, 'shifts': 2268, 'criminalise': 2269, 'decriminalise': 2270, 'behaviours': 2271, 'statistical': 2272, 'allocation': 2273, 'resources': 2274, 'opinion': 2275, 'perceptions': 2276, 'adjustments': 2277, 'allied': 2278, 'lives': 2279, 'engineering': 2280, 'encourage': 2281, 'resort': 2282, 'drafting': 2283, 'prohibit': 2284, 'observers': 2285, 'improper': 2286, 'limitation': 2287, 'disputed': 2288, 'legislatures': 2289, 'prohibita': 2290, 'gambling': 2291, 'encouragement': 2292, 'duelling': 2293, 'outlawed': 2294, 'commonwealth': 2295, 'deployed': 2296, 'preemptive': 2297, 'device': 2298, 'deterrent': 2299, 'proposing': 2300, 'allowing': 2301, 'harms': 2302, 'continue': 2303, 'unabated': 2304, 'outweigh': 2305, 'minimize': 2306, 'label': 2307, 'accompanying': 2308, 'confine': 2309, 'scope': 2310, 'injurious': 2311, 'loss': 2312, 'damage': 2313, 'labels': 2314, 'intend': 2315, 'hegemony': 2316, 'condemnation': 2317, 'justify': 2318, 'tries': 2319, 'convicts': 2320, 'justifying': 2321, 'proven': 2322, 'theoretical': 2323, 'justifications': 2324, 'constructs': 2325, 'aquinas': 2326, 'concluding': 2327, 'coercing': 2328, 'blackstone': 2329, 'thesis': 2330, 'austin': 2331, 'positivist': 2332, 'utilitarianism': 2333, 'calculating': 2334, 'denied': 2335, 'austinian': 2336, 'embody': 2337, 'legislature': 2338, 'decrees': 2339, 'achieve': 2340, 'lawmakers': 2341, 'proposition': 2342, 'internal': 2343, 'logic': 2344, 'consistency': 2345, 'responsibility': 2346, 'ronald': 2347, 'dworkin': 2348, 'proposes': 2349, 'expect': 2350, 'govern': 2351, 'offers': 2352, 'overlaid': 2353, 'deference': 2354, 'obey': 2355, 'identifies': 2356, 'legitimate': 2357, 'legitimacy': 2358, 'legislative': 2359, 'obliged': 2360, 'theorists': 2361, 'conformity': 2362, 'condition': 2363, 'reasoning': 2364, 'solve': 2365, 'granting': 2366, 'relativism': 2367, 'evolve': 2368, 'criticize': 2369, 'lacks': 2370, 'justification': 2371, 'characterise': 2372, 'hence': 2373, 'illustrates': 2374, 'smuggler': 2375, 'excellent': 2376, 'distinguishes': 2377, 'illegality': 2378, 'originates': 2379, 'phrases': 2380, 'argument': 2381, 'decreed': 2382, 'perform': 2383, 'perfectly': 2384, 'enlightenment': 2385, 'thinkers': 2386, 'subscribed': 2387, 'liberals': 2388, 'libertarians': 2389, 'highlight': 2390, 'legendary': 2391, 'tale': 2392, 'eve': 2393, 'ignite': 2394, 'civilizations': 2395, 'urukagina': 2396, 'reigned': 2397, 'chronology': 2398, 'extant': 2399, 'lipit': 2400, 'ishtar': 2401, 'reconstructed': 2402, 'comparing': 2403, 'sumerian': 2404, 'deeply': 2405, 'resented': 2406, 'encroachment': 2407, 'wonder': 2408, 'successive': 2409, 'babylon': 2410, 'hammurabi': 2411, 'reflected': 2412, 'mesopotamian': 2413, 'babylonian': 2414, 'functioned': 2415, 'theocracies': 2416, 'stra': 2417, 'discussed': 2418, 'elaborate': 2419, 'maine': 2420, 'crimina': 2421, 'delicta': 2422, 'survivors': 2423, 'lacked': 2424, 'systematized': 2425, 'assaults': 2426, 'dominion': 2427, 'familias': 2428, 'owned': 2429, 'slaves': 2430, 'matters': 2431, 'commentaries': 2432, 'gaius': 2433, 'tables': 2434, 'furtum': 2435, 'tort': 2436, 'trespass': 2437, 'trespassed': 2438, 'breach': 2439, 'vinculum': 2440, 'juris': 2441, 'damages': 2442, 'consolidated': 2443, 'compensations': 2444, 'update': 2445, 'abandoned': 2446, 'britannic': 2447, 'provinces': 2448, 'mercenaries': 2449, 'instrumental': 2450, 'britannia': 2451, 'ownership': 2452, 'mixture': 2453, 'saxon': 2454, 'centralized': 2455, 'monarchy': 2456, 'invasion': 2457, 'attempted': 2458, 'conception': 2459, 'significance': 2460, 'usurp': 2461, 'functions': 2462, 'tribunals': 2463, 'direct': 2464, 'privilegium': 2465, 'perpetrator': 2466, 'wholly': 2467, 'arbitrary': 2468, 'settled': 2469, 'delictual': 2470, 'operated': 2471, 'highly': 2472, 'raise': 2473, 'selling': 2474, 'writ': 2475, 'dispenses': 2476, 'emerges': 2477, 'emergence': 2478, 'continental': 2479, 'persisted': 2480, 'stronger': 2481, 'coupled': 2482, 'diffuse': 2483, 'units': 2484, 'remaining': 2485, 'strongly': 2486, 'rooted': 2487, 'jurisprudence': 2488, 'meet': 2489, 'assemblies': 2490, 'decided': 2491, 'freeholders': 2492, 'dominating': 2493, 'nominating': 2494, 'esteemed': 2495, 'fulfilling': 2496, 'yore': 2497, 'policy': 2498, 'rationale': 2499, 'committed': 2500, 'avoidance': 2501, 'feuding': 2502, 'clans': 2503, 'mollify': 2504, 'institution': 2505, 'oaths': 2506, 'warfare': 2507, 'archaic': 2508, 'walked': 2509, 'relatives': 2510, 'swear': 2511, 'veto': 2512, 'ensures': 2513, 'crises': 2514, 'restraining': 2515, 'feuds': 2516, 'prevented': 2517, 'fulfillment': 2518, 'policing': 2519, 'omissions': 2520, 'overlap': 2521, 'prompted': 2522, 'fostered': 2523, 'beginnings': 2524, 'criminology': 2525, 'nietzsche': 2526, 'noted': 2527, 'link': 2528, 'creativity': 2529, 'tragedy': 2530, 'asserted': 2531, 'needs': 2532, 'brightest': 2533, 'obtain': 2534, 'foucault': 2535, 'coercive': 2536, 'commentators': 2537, 'categorise': 2538, 'sentencing': 2539, 'tariffs': 2540, 'fines': 2541, 'noncustodial': 2542, 'sentences': 2543, 'address': 2544, 'least': 2545, 'lengthy': 2546, 'reserved': 2547, 'felonies': 2548, 'trial': 2549, 'categorised': 2550, 'federal': 2551, 'fbi': 2552, 'tabulated': 2553, 'submitted': 2554, 'violations': 2555, 'index': 2556, 'homicide': 2557, 'voluntary': 2558, 'manslaughter': 2559, 'forcible': 2560, 'aggravated': 2561, 'arson': 2562, 'motor': 2563, 'vehicle': 2564, 'convenience': 2565, 'lists': 2566, 'infractions': 2567, 'tortfeasance': 2568, 'booking': 2569, 'arrests': 2570, 'detention': 2571, 'frame': 2572, 'office': 2573, 'drugs': 2574, 'overseas': 2575, 'advisory': 2576, 'osac': 2577, 'report': 2578, 'generated': 2579, 'eu': 2580, 'europol': 2581, 'hong': 2582, 'kong': 2583, 'correlates': 2584, 'socioeconomic': 2585, 'behavioral': 2586, 'factors': 2587, 'controversial': 2588, 'media': 2589, 'gun': 2590, 'tremendous': 2591, 'processes': 2592, 'broaden': 2593, 'build': 2594, 'functioning': 2595, 'expands': 2596, 'contracts': 2597, 'fewer': 2598, 'ascertained': 2599, 'narrowed': 2600, 'repertoires': 2601, 'paths': 2602, 'perceptible': 2603, 'ones': 2604, 'alternatives': 2605, 'criminals': 2606, 'horrendous': 2607, 'murders': 2608, 'treaty': 2609, 'centric': 2610, 'operating': 2611, 'hague': 2612, 'harmonise': 2613, 'conscience': 2614, 'criminalized': 2615, 'alcohol': 2616, 'institutionalized': 2617, 'earthly': 2618, 'devotional': 2619, 'organizational': 2620, 'shariah': 2621, 'mutiny': 2622, 'desertion': 2623, 'martial': 2624, 'supplant': 2625, 'extend': 2626, 'constitutions': 2627, 'provisions': 2628, 'curtail': 2629, 'freedoms': 2630, 'criminalize': 2631, 'tolerated': 2632, 'emergency': 2633, 'disaster': 2634, 'unrest': 2635, 'undesired': 2636, 'assembly': 2637, 'curfew': 2638, 'firearms': 2639, 'employee': 2640, 'embezzlement': 2641, 'complexity': 2642, 'anonymity': 2643, 'computer': 2644, 'employees': 2645, 'camouflage': 2646, 'operations': 2647, 'costly': 2648, 'scams': 2649, 'banks': 2650, 'brokerage': 2651, 'houses': 2652, 'insurance': 2653, 'companies': 2654, 'financial': 2655, 'compares': 2656, 'losses': 2657, 'auto': 2658, 'severe': 2659, 'low': 2660, 'affected': 2661, 'partial': 2662, 'denial': 2663, 'pay': 2664, 'degrees': 2665, 'oceania': 2666, 'gridiron': 2667, 'expansion': 2668, 'developing': 2669, 'deliberately': 2670, 'incorporated': 2671, 'heritage': 2672, 'grouped': 2673, 'evasion': 2674, 'conflicting': 2675, 'assumed': 2676, 'conclusive': 2677, 'competitive': 2678, 'resembles': 2679, 'manual': 2680, 'dated': 2681, 'han': 2682, 'qin': 2683, 'asuka': 2684, 'kyoto': 2685, 'circle': 2686, 'let': 2687, 'keepie': 2688, 'uppie': 2689, 'greeks': 2690, 'harpastum': 2691, 'adapted': 2692, 'phaininda': 2693, 'playwright': 2694, 'antiphanes': 2695, 'clement': 2696, 'alexandria': 2697, 'politician': 2698, 'killed': 2699, 'shave': 2700, 'barber': 2701, 'shop': 2702, 'knew': 2703, 'filled': 2704, 'follis': 2705, 'ship': 2706, 'commanded': 2707, 'explorer': 2708, 'davis': 2709, 'went': 2710, 'ashore': 2711, 'greenland': 2712, 'aqsaqtuk': 2713, 'facing': 2714, 'strachey': 2715, 'colonist': 2716, 'jamestown': 2717, 'virginia': 2718, 'pahsaheman': 2719, 'pasuckuakohowog': 2720, 'amongst': 2721, 'amerindians': 2722, 'mesoamerica': 2723, 'existing': 2724, 'northeastern': 2725, 'indians': 2726, 'iroquois': 2727, 'confederation': 2728, 'racquets': 2729, 'lacrosse': 2730, 'descendant': 2731, 'classed': 2732, 'continent': 2733, 'stuffed': 2734, 'generalised': 2735, 'djab': 2736, 'wurrung': 2737, 'anecdote': 2738, 'brough': 2739, 'smyth': 2740, 'aborigines': 2741, 'quoted': 2742, 'witnessed': 2743, 'foremost': 2744, 'possum': 2745, 'leap': 2746, 'theorised': 2747, 'ori': 2748, 'ki': 2749, 'rahi': 2750, 'circular': 2751, 'zones': 2752, 'pou': 2753, 'markers': 2754, 'hitting': 2755, 'tupu': 2756, 'target': 2757, 'mahmud': 2758, 'kashgari': 2759, 'n': 2760, 'lugh': 2761, 'turk': 2762, 'tepuk': 2763, 'turks': 2764, 'attack': 2765, 'castle': 2766, 'sheep': 2767, 'athlete': 2768, 'balancing': 2769, 'thigh': 2770, 'piraeus': 2771, 'song': 2772, 'painting': 2773, 'su': 2774, 'hanchen': 2775, 'depicting': 2776, 'paint': 2777, 'mesoamerican': 2778, 'ballgame': 2779, 'tepantitla': 2780, 'murals': 2781, 'teotihuacan': 2782, 'guiana': 2783, 'illustration': 2784, 'australians': 2785, 'tanzan': 2786, 'shrine': 2787, 'historia': 2788, 'brittonum': 2789, 'nennius': 2790, 'party': 2791, 'la': 2792, 'soule': 2793, 'choule': 2794, 'propelled': 2795, 'villages': 2796, 'unlimited': 2797, 'en': 2798, 'masse': 2799, 'struggling': 2800, 'move': 2801, 'item': 2802, 'parishes': 2803, 'christmas': 2804, 'easter': 2805, 'certainly': 2806, 'fitzstephen': 2807, 'festival': 2808, 'shrove': 2809, 'tuesday': 2810, 'lunch': 2811, 'craft': 2812, 'older': 2813, 'wealthy': 2814, 'horseback': 2815, 'juniors': 2816, 'competing': 2817, 'relive': 2818, 'vicariously': 2819, 'passions': 2820, 'aroused': 2821, 'caught': 2822, 'fun': 2823, 'carefree': 2824, 'adolescents': 2825, 'reinforces': 2826, 'ulgham': 2827, 'northumberland': 2828, 'mccrocan': 2829, 'newcastle': 2830, 'charged': 2831, 'accidentally': 2832, 'stabbing': 2833, 'bernard': 2834, 'shouldham': 2835, 'norfolk': 2836, 'uring': 2837, 'wounded': 2838, 'nicholas': 2839, 'farndone': 2840, 'mayor': 2841, 'decree': 2842, 'reads': 2843, 'orasmuch': 2844, 'noise': 2845, 'hustling': 2846, 'rageries': 2847, 'grosses': 2848, 'pelotes': 2849, 'pee': 2850, 'evils': 2851, 'arise': 2852, 'command': 2853, 'behalf': 2854, 'pain': 2855, 'coursing': 2856, 'cock': 2857, 'fighting': 2858, 'idle': 2859, 'disuse': 2860, 'repealed': 2861, 'cite': 2862, 'huc': 2863, 'percute': 2864, 'struck': 2865, 'metum': 2866, 'literally': 2867, 'pillar': 2868, 'circus': 2869, 'course': 2870, 'chariot': 2871, 'race': 2872, 'praeripe': 2873, 'si': 2874, 'possis': 2875, 'agere': 2876, 'objice': 2877, 'te': 2878, 'forbidding': 2879, 'levying': 2880, 'foteball': 2881, 'caunton': 2882, 'nottinghamshire': 2883, 'striking': 2884, 'rolling': 2885, 'directions': 2886, 'chronicler': 2887, 'stating': 2888, 'boundaries': 2889, 'firsts': 2890, 'eras': 2891, 'florence': 2892, 'celebrated': 2893, 'epiphany': 2894, 'lent': 2895, 'storico': 2896, 'kickball': 2897, 'piazza': 2898, 'santa': 2899, 'croce': 2900, 'aristocrats': 2901, 'dress': 2902, 'silk': 2903, 'costumes': 2904, 'embroil': 2905, 'punch': 2906, 'shoulder': 2907, 'blows': 2908, 'belt': 2909, 'training': 2910, 'giovanni': 2911, 'bardi': 2912, 'di': 2913, 'vernio': 2914, 'discorso': 2915, 'sopra': 2916, 'giuoco': 2917, 'del': 2918, 'fiorentino': 2919, 'january': 2920, 'passed': 2921, 'scottish': 2922, 'lifted': 2923, 'footballers': 2924, 'pressures': 2925, 'municipalities': 2926, 'calls': 2927, 'hosted': 2928, 'sweeping': 2929, 'achievements': 2930, 'turning': 2931, 'teachers': 2932, 'finally': 2933, 'mainly': 2934, 'attended': 2935, 'vulgaria': 2936, 'colleges': 2937, 'wyll': 2938, 'playe': 2939, 'wynde': 2940, 'student': 2941, 'greatest': 2942, 'sixteenth': 2943, 'advocate': 2944, 'contributions': 2945, 'referee': 2946, 'trayning': 2947, 'maister': 2948, 'disordered': 2949, 'ome': 2950, 'overlooking': 2951, 'sorted': 2952, 'boisterously': 2953, 'trie': 2954, 'shouldring': 2955, 'shuffing': 2956, 'barbarously': 2957, 'chiefe': 2958, 'legges': 2959, 'vocabula': 2960, 'charging': 2961, 'drive': 2962, 'francis': 2963, 'bishop': 2964, 'vesey': 2965, 'sutton': 2966, 'coldfield': 2967, 'gate': 2968, 'gates': 2969, 'diagram': 2970, 'illustrating': 2971, 'tactics': 2972, 'leaving': 2973, 'guard': 2974, 'win': 2975, 'equally': 2976, 'nimbleness': 2977, 'leg': 2978, 'higher': 2979, 'manifestations': 2980, 'stood': 2981, 'dribble': 2982, 'scrum': 2983, 'aldenham': 2984, 'inclination': 2985, 'feast': 2986, 'enjoyed': 2987, 'inventors': 2988, 'competitiveness': 2989, 'drafted': 2990, 'intake': 2991, 'favoured': 2992, 'preferred': 2993, 'promoted': 2994, 'camps': 2995, 'confined': 2996, 'cloisters': 2997, 'pupil': 2998, 'creating': 2999, 'apocryphal': 3000, 'misinterpreted': 3001, 'retreat': 3002, 'backwards': 3003, 'forwards': 3004, 'boom': 3005, 'rail': 3006, 'transport': 3007, 'inconvenience': 3008, 'inter': 3009, 'host': 3010, 'visiting': 3011, 'bowls': 3012, 'tennis': 3013, 'impetus': 3014, 'patenting': 3015, 'lawnmower': 3016, 'ovals': 3017, 'pitches': 3018, 'barely': 3019, 'beyond': 3020, 'confines': 3021, 'dominance': 3022, 'wane': 3023, 'factory': 3024, 'weekdays': 3025, 'saturdays': 3026, 'cease': 3027, 'gymnastic': 3028, 'ceased': 3029, 'bear': 3030, 'title': 3031, 'edinburgh': 3032, 'pushing': 3033, 'tasked': 3034, 'codifying': 3035, 'assisted': 3036, 'cordner': 3037, 'eggleston': 3038, 'experimental': 3039, 'tournament': 3040, 'donated': 3041, 'april': 3042, 'youdan': 3043, 'footballs': 3044, 'coverings': 3045, 'gilbert': 3046, 'shoemakers': 3047, 'town': 3048, 'near': 3049, 'wife': 3050, 'died': 3051, 'lung': 3052, 'disease': 3053, 'blowing': 3054, 'medals': 3055, 'inflatable': 3056, 'brass': 3057, 'pump': 3058, 'inventor': 3059, 'charles': 3060, 'goodyear': 3061, 'patented': 3062, 'spherical': 3063, 'exterior': 3064, 'panels': 3065, 'universelle': 3066, 'iconic': 3067, 'hexagons': 3068, 'pentagons': 3069, 'truncated': 3070, 'icosahedron': 3071, 'poet': 3072, 'backward': 3073, 'direction': 3074, 'fc': 3075, 'combination': 3076, 'backing': 3077, 'benefiting': 3078, 'lieut': 3079, 'creswell': 3080, 'renowned': 3081, 'beautifully': 3082, 'derby': 3083, 'forest': 3084, 'irrefutably': 3085, 'absey': 3086, 'length': 3087, 'delivered': 3088, 'wallis': 3089, 'cleverly': 3090, 'sent': 3091, 'captain': 3092, 'drove': 3093, 'perfected': 3094, 'pyramid': 3095, 'warwickshire': 3096, 'tossed': 3097, 'june': 3098, 'penalty': 3099, 'conversions': 3100, 'raeburn': 3101, 'nineteenth': 3102, 'codifications': 3103, 'nathaniel': 3104, 'creswick': 3105, 'prest': 3106, 'difference': 3107, 'responsible': 3108, 'corner': 3109, 'ins': 3110, 'midlands': 3111, 'series': 3112, 'fas': 3113, 'eroded': 3114, 'adoption': 3115, 'archival': 3116, 'cricketer': 3117, 'educated': 3118, 'letter': 3119, 'chronicle': 3120, 'cricketers': 3121, 'publicity': 3122, 'contacts': 3123, 'co': 3124, 'ordinate': 3125, 'experimented': 3126, 'umpired': 3127, 'rapidly': 3128, 'hammersley': 3129, 'thompson': 3130, 'pushed': 3131, 'learnt': 3132, 'schooling': 3133, 'recalled': 3134, 'cousin': 3135, 'prevalence': 3136, 'updated': 3137, 'redraft': 3138, 'accommodated': 3139, 'geelong': 3140, 'increasingly': 3141, 'soon': 3142, 'cricket': 3143, 'specialised': 3144, 'spectacular': 3145, 'marking': 3146, 'quickly': 3147, 'colonies': 3148, 'heartland': 3149, 'grown': 3150, 'reconcile': 3151, 'thring': 3152, 'driving': 3153, 'forces': 3154, 'simplest': 3155, 'revised': 3156, 'shrewsbury': 3157, 'freemasons': 3158, 'tavern': 3159, 'street': 3160, 'evening': 3161, 'metropolitan': 3162, 'inaugural': 3163, 'unifying': 3164, 'invited': 3165, 'join': 3166, 'declined': 3167, 'meetings': 3168, 'fourth': 3169, 'differed': 3170, 'shins': 3171, 'ix': 3172, 'catches': 3173, 'x': 3174, 'trip': 3175, 'hack': 3176, 'wrest': 3177, 'hacked': 3178, 'fifth': 3179, 'removed': 3180, 'delegates': 3181, 'supported': 3182, 'representative': 3183, 'treasurer': 3184, 'objected': 3185, 'motion': 3186, 'withdrew': 3187, 'oxford': 3188, 'recognisable': 3189, 'dartmouth': 3190, 'hampshire': 3191, 'protests': 3192, 'abandon': 3193, 'pressure': 3194, 'oneida': 3195, 'return': 3196, 'jersey': 3197, 'brown': 3198, 'park': 3199, 'mulock': 3200, 'chancellor': 3201, 'barlow': 3202, 'cumberland': 3203, 'bethune': 3204, 'gwynn': 3205, 'founders': 3206, 'milton': 3207, 'improvised': 3208, 'intercollegiate': 3209, 'alternated': 3210, 'persuaded': 3211, 'columbia': 3212, 'convention': 3213, 'springfield': 3214, 'agreeing': 3215, 'walter': 3216, 'conventions': 3217, 'replacing': 3218, 'scrummage': 3219, 'collisions': 3220, 'urging': 3221, 'drastic': 3222, 'introduction': 3223, 'underutilised': 3224, 'proved': 3225, 'effort': 3226, 'oriented': 3227, 'ontario': 3228, 'burnside': 3229, 'stemming': 3230, 'border': 3231, 'kerry': 3232, 'observer': 3233, 'ferris': 3234, 'arch': 3235, 'boughs': 3236, 'trees': 3237, 'epic': 3238, 'daylight': 3239, 'sunday': 3240, 'wrestling': 3241, 'dublin': 3242, 'stronghold': 3243, 'athletic': 3244, 'sought': 3245, 'imported': 3246, 'maurice': 3247, 'magazine': 3248, 'february': 3249, 'desire': 3250, 'formalise': 3251, 'distinctly': 3252, 'differentiation': 3253, 'shared': 3254, 'rifts': 3255, 'professionalism': 3256, 'creep': 3257, 'standing': 3258, 'tensions': 3259, 'afford': 3260, 'train': 3261, 'recover': 3262, 'reacted': 3263, 'alienate': 3264, 'broken': 3265, 'payments': 3266, 'wages': 3267, 'huddersfield': 3268, 'replacements': 3269, 'job': 3270, 'demands': 3271, 'dictated': 3272, 'abolition': 3273, 'tackler': 3274, 'marker': 3275, 'mauls': 3276, 'stopped': 3277, 'carrier': 3278, 'merged': 3279, 'federations': 3280, 'need': 3281, 'oversee': 3282, 'fixtures': 3283, 'chaired': 3284, 'discussions': 3285, 'setting': 3286, 'progress': 3287, 'belgium': 3288, 'denmark': 3289, 'spain': 3290, 'switzerland': 3291, 'gu': 3292, 'rin': 3293, 'acronym': 3294, 'toured': 3295, 'receiving': 3296, 'enthusiastic': 3297, 'response': 3298, 'negotiations': 3299, 'fix': 3300, 'endured': 3301, 'instigation': 3302, 'rlif': 3303, 'bordeaux': 3304, 'borrowed': 3305, 'downs': 3306, 'retain': 3307, 'retains': 3308, 'release': 3309, 'immediately': 3310, 'tackle': 3311, 'professionals': 3312, 'consequent': 3313, 'speeding': 3314, 'superseded': 3315, 'interchange': 3316, 'touch': 3317, 'inconclusive': 3318, 'maul': 3319, 'lifting': 3320, 'outs': 3321, 'legalised': 3322, 'disappeared': 3323, 'unification': 3324, 'unlikely': 3325, 'foreseeable': 3326, 'controversy': 3327, 'region': 3328, 'qualifier': 3329, 'barassi': 3330, 'francophone': 3331, 'ricain': 3332, 'currently': 3333, 'organisations': 3334, 'normalised': 3335, 'globally': 3336, 'audience': 3337, 'nearly': 3338, 'super': 3339, 'bowl': 3340, 'accounting': 3341, 'nine': 3342, 'broadcasts': 3343, 'nfl': 3344, 'revenue': 3345, 'athletes': 3346, 'samoa': 3347, 'tonga': 3348, 'fiji': 3349, 'dubious': 3350, 'discuss': 3351, 'outfield': 3352, 'nicknamed': 3353, 'motorsport': 3354, 'teammates': 3355, 'continuous': 3356, 'periodic': 3357, 'bounce': 3358, 'solo': 3359, 'toe': 3360, 'handpassing': 3361, 'punching': 3362, 'tapping': 3363, 'sepak': 3364, 'takraw': 3365, 'denote': 3366, 'outdoor': 3367, 'sheet': 3368, 'gymnasium': 3369, 'manoeuvre': 3370, 'straight': 3371, 'hole': 3372, 'involves': 3373, 'roughly': 3374, 'suitable': 3375, 'inclusion': 3376, 'newly': 3377, 'emerging': 3378, 'gym': 3379, 'modelled': 3380, 'variants': 3381, 'eventually': 3382, 'floors': 3383, 'locale': 3384, 'geography': 3385, 'size': 3386, 'confusion': 3387, 'juvenile': 3388, 'pastimes': 3389, 'prefixed': 3390, 'memoirs': 3391, 'author': 3392, 'infant': 3393, 'johnson': 3394, 'pseud': 3395, 'angelo': 3396, 'chapter': 3397, 'xi': 3398, 'titled': 3399, 'improvements': 3400, 'explicitly': 3401, 'manualem': 3402, 'pedivam': 3403, 'bacularem': 3404, 'gallorum': 3405, 'pugnam': 3406, 'biographer': 3407, 'strype': 3408, 'translating': 3409, 'cambuck': 3410, 'golf': 3411, 'croquet': 3412, 'unknown': 3413, 'derivative': 3414, 'hoquet': 3415, 'shepherd': 3416, 'stave': 3417, 'ends': 3418, 'cork': 3419, 'bungs': 3420, 'wooden': 3421, 'barrels': 3422, 'hock': 3423, 'ale': 3424, 'hocky': 3425, 'carvings': 3426, 'projectile': 3427, 'depiction': 3428, 'ker': 3429, 'zein': 3430, 'ras': 3431, 'mongolia': 3432, 'daur': 3433, 'beikou': 3434, 'concerning': 3435, 'galway': 3436, 'enacted': 3437, 'hooky': 3438, 'tyme': 3439, 'ne': 3440, 'occupye': 3441, 'horlinge': 3442, 'litill': 3443, 'stickes': 3444, 'hande': 3445, 'withoute': 3446, 'walles': 3447, 'greate': 3448, 'foote': 3449, 'differentiate': 3450, 'coalesce': 3451, 'sprang': 3452, 'manage': 3453, 'domestic': 3454, 'sized': 3455, 'arena': 3456, 'professionally': 3457, 'ioc': 3458, 'predecessor': 3459, 'gravel': 3460, 'sand': 3461, 'turf': 3462, 'argentina': 3463, 'fih': 3464, 'constructed': 3465, 'glass': 3466, 'carbon': 3467, 'hook': 3468, 'rear': 3469, 'firmly': 3470, 'ministry': 3471, 'affairs': 3472, 'august': 3473, 'inch': 3474, 'vulcanized': 3475, 'disc': 3476, 'friction': 3477, 'extents': 3478, 'finland': 3479, 'czech': 3480, 'slovakia': 3481, 'strongest': 3482, 'drawing': 3483, 'slightly': 3484, 'influences': 3485, 'push': 3486, 'forth': 3487, 'indoors': 3488, 'graphite': 3489, 'composites': 3490, 'bottom': 3491, 'upright': 3492, 'legally': 3493, 'curve': 3494, 'disabilities': 3495, 'affecting': 3496, 'sit': 3497, 'picks': 3498, 'stickhandle': 3499, 'shoot': 3500, 'laminated': 3501, 'fiberglass': 3502, 'shafts': 3503, 'carved': 3504, 'insert': 3505, 'regulation': 3506, 'dictating': 3507, 'disability': 3508, 'championship': 3509, 'talent': 3510, 'bisley': 3511, 'hull': 3512, 'stingrays': 3513, 'grimsby': 3514, 'redwings': 3515, 'matt': 3516, 'lloyd': 3517, 'inventing': 3518, 'quads': 3519, 'goalie': 3520, 'periods': 3521, 'variation': 3522, 'icings': 3523, 'clearing': 3524, 'usa': 3525, 'hoquei': 3526, 'em': 3527, 'patins': 3528, 'overarching': 3529, 'sixty': 3530, 'demonstration': 3531, 'barcelona': 3532, 'asphalt': 3533, 'protective': 3534, 'worn': 3535, 'predecessors': 3536, 'styles': 3537, 'morals': 3538, 'worldviews': 3539, 'sanctified': 3540, 'prophecies': 3541, 'transcendental': 3542, 'deities': 3543, 'saints': 3544, 'narratives': 3545, 'preserved': 3546, 'scriptures': 3547, 'demographic': 3548, 'agnostics': 3549, 'comprises': 3550, 'workings': 3551, 'ontological': 3552, 'foundations': 3553, 'sanctity': 3554, 'relegere': 3555, 'read': 3556, 'harpur': 3557, 'religare': 3558, 'ligare': 3559, 'bind': 3560, 'connect': 3561, 'augustine': 3562, 'interpretation': 3563, 'lactantius': 3564, 'divinae': 3565, 'institutiones': 3566, 'alternates': 3567, 'designating': 3568, 'bonded': 3569, 'hear': 3570, 'golden': 3571, 'fleece': 3572, 'knight': 3573, 'avys': 3574, 'classic': 3575, 'conscientiousness': 3576, 'virtue': 3577, 'obligations': 3578, 'neighbors': 3579, 'rulers': 3580, 'hesitation': 3581, 'caution': 3582, 'inhibited': 3583, 'heightened': 3584, 'scrupulus': 3585, 'shame': 3586, 'vows': 3587, 'compartmentalized': 3588, 'worldly': 3589, 'augsburg': 3590, 'step': 3591, 'sovereign': 3592, 'julius': 3593, 'caesar': 3594, 'discussing': 3595, 'captured': 3596, 'soldiers': 3597, 'captors': 3598, 'naturalist': 3599, 'pliny': 3600, 'elder': 3601, 'elephants': 3602, 'venerate': 3603, 'sun': 3604, 'moon': 3605, 'cultum': 3606, 'deorum': 3607, 'loosely': 3608, 'sparsely': 3609, 'respectful': 3610, 'excessive': 3611, 'harmfully': 3612, 'distracting': 3613, 'cultic': 3614, 'contrasted': 3615, 'abstraction': 3616, 'sets': 3617, 'splitting': 3618, 'christendom': 3619, 'exploration': 3620, 'distorts': 3621, 'racial': 3622, 'identities': 3623, 'halakha': 3624, 'walk': 3625, 'guides': 3626, 'entail': 3627, 'regulated': 3628, 'ioudaismos': 3629, 'abstract': 3630, 'ancestral': 3631, 'analogous': 3632, 'writers': 3633, 'herodotus': 3634, 'generic': 3635, 'arabic': 3636, 'translators': 3637, 'penance': 3638, 'ceremonial': 3639, 'practical': 3640, 'align': 3641, 'entered': 3642, 'buddhist': 3643, 'identifier': 3644, 'corresponding': 3645, 'warships': 3646, 'coast': 3647, 'forced': 3648, 'sign': 3649, 'treaties': 3650, 'demanding': 3651, 'contend': 3652, 'philologist': 3653, 'careful': 3654, 'pondering': 3655, 'diligence': 3656, 'characterized': 3657, 'persia': 3658, 'agree': 3659, 'phenomenological': 3660, 'reservations': 3661, 'observe': 3662, 'construct': 3663, 'westphalia': 3664, 'unique': 3665, 'remainder': 3666, 'intellectualistic': 3667, 'disposition': 3668, 'product': 3669, 'judeo': 3670, 'inheritance': 3671, 'downgraded': 3672, 'formative': 3673, 'theism': 3674, 'transcendent': 3675, 'else': 3676, 'powerful': 3677, 'pervasive': 3678, 'lasting': 3679, 'formulating': 3680, 'aura': 3681, 'factuality': 3682, 'uniquely': 3683, 'realistic': 3684, 'alluding': 3685, 'miracle': 3686, 'accomplished': 3687, 'know': 3688, 'weekly': 3689, 'hourly': 3690, 'enormous': 3691, 'ethnographic': 3692, 'antoine': 3693, 'vergote': 3694, 'agency': 3695, 'emphasized': 3696, 'entirety': 3697, 'linguistic': 3698, 'expressions': 3699, 'actions': 3700, 'mandaville': 3701, 'modernist': 3702, 'dualisms': 3703, 'understandings': 3704, 'immanence': 3705, 'materialism': 3706, 'secularity': 3707, 'bounded': 3708, 'addresses': 3709, 'communion': 3710, 'otherness': 3711, 'lived': 3712, 'takes': 3713, 'spiritually': 3714, 'ontologies': 3715, 'embodiment': 3716, 'knowing': 3717, 'experiential': 3718, 'patterns': 3719, 'built': 3720, 'recognizable': 3721, 'completeness': 3722, 'clarity': 3723, 'accordance': 3724, 'environing': 3725, 'schleiermacher': 3726, 'das': 3727, 'schlechthinnige': 3728, 'abh': 3729, 'ngigkeitsgef': 3730, 'hl': 3731, 'dependence': 3732, 'georg': 3733, 'wilhelm': 3734, 'hegel': 3735, 'disagreed': 3736, 'thoroughly': 3737, 'finite': 3738, 'burnett': 3739, 'narrowing': 3740, 'supreme': 3741, 'idolatry': 3742, 'exclude': 3743, 'identifying': 3744, 'psychologist': 3745, 'solitude': 3746, 'apprehend': 3747, 'godlike': 3748, 'concrete': 3749, 'feels': 3750, 'impelled': 3751, 'respond': 3752, 'solemnity': 3753, 'elementary': 3754, 'unified': 3755, 'unite': 3756, 'spirits': 3757, 'rock': 3758, 'spring': 3759, 'pebble': 3760, 'piece': 3761, 'dogmas': 3762, 'legends': 3763, 'representations': 3764, 'echoes': 3765, 'ferr': 3766, 'comprehensively': 3767, 'intensively': 3768, 'intensive': 3769, 'criticisms': 3770, 'disturb': 3771, 'philosophers': 3772, 'theologians': 3773, 'question': 3774, 'awareness': 3775, 'dreams': 3776, 'polytheistic': 3777, 'heading': 3778, 'pre': 3779, 'industrial': 3780, 'pejoratively': 3781, 'implies': 3782, 'mis': 3783, 'interpreted': 3784, 'pejorative': 3785, 'provably': 3786, 'resurrection': 3787, 'explains': 3788, 'freed': 3789, 'outlook': 3790, 'unimportant': 3791, 'symbolism': 3792, 'start': 3793, 'believers': 3794, 'accept': 3795, 'interpretations': 3796, 'goddess': 3797, 'clergy': 3798, 'adherence': 3799, 'membership': 3800, 'pals': 3801, 'eight': 3802, 'focusing': 3803, 'magic': 3804, 'frazer': 3805, 'psycho': 3806, 'analytic': 3807, 'sigmund': 3808, 'freud': 3809, 'marx': 3810, 'mircea': 3811, 'eliade': 3812, 'evans': 3813, 'pritchard': 3814, 'michael': 3815, 'stausberg': 3816, 'approaches': 3817, 'uncertain': 3818, 'monaghan': 3819, 'revitalization': 3820, 'vision': 3821, 'fires': 3822, 'imaginations': 3823, 'seeking': 3824, 'answer': 3825, 'feel': 3826, 'success': 3827, 'surprising': 3828, 'regularity': 3829, 'supporters': 3830, 'institutionalize': 3831, 'focus': 3832, 'subjective': 3833, 'believing': 3834, 'cosmology': 3835, 'binding': 3836, 'localized': 3837, 'hierarchies': 3838, 'monoghan': 3839, 'persistent': 3840, 'intolerable': 3841, 'accomplish': 3842, 'providing': 3843, 'anxieties': 3844, 'misfortune': 3845, 'courses': 3846, 'critique': 3847, 'niebuhr': 3848, 'fold': 3849, 'indicates': 3850, 'constructionism': 3851, 'orientation': 3852, 'interpret': 3853, 'proponents': 3854, 'dubuisson': 3855, 'timothy': 3856, 'fitzgerald': 3857, 'jason': 3858, 'nanda': 3859, 'josephson': 3860, 'constructionists': 3861, 'inappropriately': 3862, 'sciences': 3863, 'employs': 3864, 'intelligence': 3865, 'neurobiology': 3866, 'zoology': 3867, 'ethology': 3868, 'minds': 3869, 'generate': 3870, 'transmit': 3871, 'schemas': 3872, 'capacities': 3873, 'hallucinations': 3874, 'delusions': 3875, 'occurs': 3876, 'schizophrenia': 3877, 'varies': 3878, 'disorders': 3879, 'prophetic': 3880, 'symptoms': 3881, 'retrospective': 3882, 'diagnoses': 3883, 'practically': 3884, 'schizophrenic': 3885, 'episodes': 3886, 'obsessive': 3887, 'compulsive': 3888, 'disorder': 3889, 'systematic': 3890, 'comparison': 3891, 'yields': 3892, 'concerns': 3893, 'metaphysics': 3894, 'salvation': 3895, 'material': 3896, 'sophisticated': 3897, 'numinous': 3898, 'oceanic': 3899, 'hellenistic': 3900, 'philosophically': 3901, 'academics': 3902, 'scholarship': 3903, 'mutually': 3904, 'ascribing': 3905, 'religiousness': 3906, 'invariant': 3907, 'distinguished': 3908, 'acceptance': 3909, 'actively': 3910, 'pointing': 3911, 'surveyed': 3912, 'pew': 3913, 'overtake': 3914, 'plurality': 3915, 'projected': 3916, 'disaffiliation': 3917, 'descend': 3918, 'abraham': 3919, 'originating': 3920, 'judea': 3921, 'larger': 3922, 'tanakh': 3923, 'supplemented': 3924, 'midrash': 3925, 'talmud': 3926, 'corpus': 3927, 'theological': 3928, 'rabbinic': 3929, 'moses': 3930, 'mount': 3931, 'sinai': 3932, 'assertion': 3933, 'challenged': 3934, 'scattered': 3935, 'destruction': 3936, 'temple': 3937, 'jerusalem': 3938, 'haredi': 3939, 'conservative': 3940, 'nazareth': 3941, 'savior': 3942, 'godhead': 3943, 'nicene': 3944, 'creed': 3945, 'byzantine': 3946, 'millennium': 3947, 'missionary': 3948, 'books': 3949, 'hadith': 3950, 'saharan': 3951, 'republics': 3952, 'mauritania': 3953, 'afghanistan': 3954, 'ibadi': 3955, 'sufism': 3956, 'quranism': 3957, 'mahdavia': 3958, 'denominational': 3959, 'wahhabism': 3960, 'saudi': 3961, 'arabia': 3962, 'newer': 3963, 'designation': 3964, 'mahavira': 3965, 'offshoot': 3966, 'bism': 3967, 'samaritanism': 3968, 'bank': 3969, 'rastafari': 3970, 'jamaica': 3971, 'syria': 3972, 'lebanon': 3973, 'isma': 3974, 'ilism': 3975, 'mandaeism': 3976, 'sabianism': 3977, 'mysterious': 3978, 'sabians': 3979, 'claimed': 3980, 'gnostic': 3981, 'baptist': 3982, 'chief': 3983, 'last': 3984, 'gnostics': 3985, 'taoic': 3986, 'consist': 3987, 'tao': 3988, 'korean': 3989, 'vietnamese': 3990, 'dharmic': 3991, 'characterised': 3992, 'shamanism': 3993, 'ancestor': 3994, 'ethnicity': 3995, 'tribe': 3996, 'creeds': 3997, 'syncretic': 3998, 'fusing': 3999, 'omitted': 4000, 'surveys': 4001, 'encompasses': 4002, 'akan': 4003, 'dahomey': 4004, 'fon': 4005, 'efik': 4006, 'odinani': 4007, 'serer': 4008, 'roog': 4009, 'yoruba': 4010, 'bushongo': 4011, 'mbuti': 4012, 'pygmy': 4013, 'lugbara': 4014, 'dinka': 4015, 'lotuko': 4016, 'akamba': 4017, 'masai': 4018, 'malagasy': 4019, 'san': 4020, 'lozi': 4021, 'tumbuka': 4022, 'zulu': 4023, 'bantu': 4024, 'berber': 4025, 'egyptian': 4026, 'diasporic': 4027, 'americas': 4028, 'santeria': 4029, 'candomble': 4030, 'vodun': 4031, 'lucumi': 4032, 'umbanda': 4033, 'macumba': 4034, 'predate': 4035, 'islamization': 4036, 'nowadays': 4037, 'zoroaster': 4038, 'zoroastrians': 4039, 'ahura': 4040, 'destroy': 4041, 'sustain': 4042, 'kurdish': 4043, 'yazidi': 4044, 'alevi': 4045, 'ahl': 4046, 'haqq': 4047, 'labeled': 4048, 'yazd': 4049, 'nism': 4050, 'thousand': 4051, 'departments': 4052, 'qualified': 4053, 'judicial': 4054, 'discourses': 4055, 'exponents': 4056, 'specialists': 4057, 'explored': 4058, 'themes': 4059, 'mercy': 4060, 'equity': 4061, 'love': 4062, 'pagan': 4063, 'wearing': 4064, 'headscarves': 4065, 'received': 4066, 'feminism': 4067, 'acknowledges': 4068, 'revelation': 4069, 'acknowledging': 4070, 'monolithic': 4071, 'timeless': 4072, 'static': 4073, 'endeavors': 4074, 'narrowly': 4075, 'reification': 4076, 'scientia': 4077, 'religio': 4078, 'gains': 4079, 'hypotheses': 4080, 'elucidation': 4081, 'evaluation': 4082, 'answers': 4083, 'cosmological': 4084, 'questions': 4085, 'measured': 4086, 'physically': 4087, 'refinement': 4088, 'rejection': 4089, 'overwhelming': 4090, 'preponderance': 4091, 'favorable': 4092, 'facto': 4093, 'verities': 4094, 'relativity': 4095, 'selection': 4096, 'posited': 4097, 'truths': 4098, 'gauge': 4099, 'metaphors': 4100, 'revisable': 4101, 'ascertain': 4102, 'judgments': 4103, 'deals': 4104, 'evaluations': 4105, 'justifiably': 4106, 'realms': 4107, 'reciprocal': 4108, 'dependencies': 4109, 'learned': 4110, 'broadest': 4111, 'attainment': 4112, 'frameworks': 4113, 'guide': 4114, 'determining': 4115, 'triple': 4116, 'jems': 4117, 'halacha': 4118, 'catholicism': 4119, 'eightfold': 4120, 'deeds': 4121, 'synonymous': 4122, 'automatic': 4123, 'assumption': 4124, 'ethnocentric': 4125, 'failure': 4126, 'altruism': 4127, 'inconsistent': 4128, 'voters': 4129, 'vote': 4130, 'presidential': 4131, 'candidate': 4132, 'adults': 4133, 'kyrsten': 4134, 'sinema': 4135, 'arizona': 4136, 'claims': 4137, 'affiliation': 4138, 'francois': 4139, 'hollande': 4140, 'minister': 4141, 'alexis': 4142, 'tsipras': 4143, 'nationalists': 4144, 'targeting': 4145, 'belonged': 4146, 'castes': 4147, 'transformation': 4148, 'modernization': 4149, 'protection': 4150, 'negative': 4151, 'correlation': 4152, 'inhabitants': 4153, 'economist': 4154, 'wealthier': 4155, 'ethic': 4156, 'hindus': 4157, 'mayo': 4158, 'clinic': 4159, 'examined': 4160, 'coping': 4161, 'suicide': 4162, 'concluded': 4163, 'beneficial': 4164, 'review': 4165, 'jones': 4166, 'discovered': 4167, 'correlations': 4168, 'analysis': 4169, 'confirming': 4170, 'complicated': 4171, 'generalize': 4172, 'assume': 4173, 'critics': 4174, 'hector': 4175, 'avalos': 4176, 'regina': 4177, 'schwartz': 4178, 'hitchens': 4179, 'endorsed': 4180, 'exploited': 4181, 'jack': 4182, 'eller': 4183, 'arguing': 4184, 'compatible': 4185, 'identical': 4186, 'essential': 4187, 'virtually': 4188, 'corollary': 4189, 'sacrifice': 4190, 'ritual': 4191, 'killing': 4192, 'appease': 4193, 'favour': 4194, 'pagans': 4195, 'scorned': 4196, 'constantly': 4197, 'trembled': 4198, 'cruel': 4199, 'capricious': 4200, 'polybius': 4201, 'instrumentum': 4202, 'regni': 4203, 'instrument': 4204, 'cohesion': 4205, 'composed': 4206, 'superstitions': 4207, 'thinking': 4208, 'think': 4209, 'deists': 4210, 'skeptics': 4211, 'sinful': 4212, 'denotes': 4213, 'trust': 4214, 'providence': 4215, 'catechism': 4216, 'represents': 4217, 'perverse': 4218, 'excess': 4219, 'deviation': 4220, 'imposes': 4221, 'attributes': 4222, 'importance': 4223, 'lawful': 4224, 'efficacy': 4225, 'prayers': 4226, 'sacramental': 4227, 'mere': 4228, 'external': 4229, 'performance': 4230, 'dispositions': 4231, 'demand': 4232, 'matthew': 4233, 'atheist': 4234, 'unknowability': 4235, 'nontheistic': 4236, 'irreligious': 4237, 'antireligion': 4238, 'active': 4239, 'opposition': 4240, 'aversion': 4241, 'continues': 4242, 'impulse': 4243, 'practitioners': 4244, 'band': 4245, 'peacebuilding': 4246, 'parliament': 4247, 'chicago': 4248, 'affirmed': 4249, 'recognition': 4250, 'fruitful': 4251, 'solving': 4252, 'reconciliation': 4253, 'reverse': 4254, 'initiatives': 4255, 'bringing': 4256, 'initiative': 4257, 'sponsored': 4258, 'harmony': 4259, 'framework': 4260, 'totality': 4261, 'expresses': 4262, 'consideration': 4263, 'definitely': 4264, 'prevents': 4265, 'dualism': 4266, 'intimate': 4267, 'ernst': 4268, 'troeltsch': 4269, 'alien': 4270, 'pluralistic': 4271, 'domenic': 4272, 'marbaniang': 4273, 'element': 4274, 'sacralization': 4275, 'arts': 4276, 'implications': 4277, 'angiosperms': 4278, 'disseminate': 4279, 'symbiotic': 4280, 'consequently': 4281, 'fraction': 4282, 'agricultural': 4283, 'output': 4284, 'extensive': 4285, 'lemons': 4286, 'bean': 4287, 'pods': 4288, 'grains': 4289, 'differ': 4290, 'classifications': 4291, 'nut': 4292, 'peach': 4293, 'pear': 4294, 'lemon': 4295, 'hazelnut': 4296, 'acorn': 4297, 'savory': 4298, 'lettuce': 4299, 'broccoli': 4300, 'potato': 4301, 'cucurbits': 4302, 'peanuts': 4303, 'peas': 4304, 'legumes': 4305, 'pies': 4306, 'stalk': 4307, 'petiole': 4308, 'gymnosperm': 4309, 'ginkgo': 4310, 'cereal': 4311, 'kind': 4312, 'caryopsis': 4313, 'thin': 4314, 'fused': 4315, 'coat': 4316, 'surrounds': 4317, 'bears': 4318, 'pointed': 4319, 'beaked': 4320, 'fertilizing': 4321, 'maturing': 4322, 'centered': 4323, 'ies': 4324, 'sac': 4325, 'starts': 4326, 'tube': 4327, 'grows': 4328, 'transferred': 4329, 'unites': 4330, 'enters': 4331, 'completes': 4332, 'nutritive': 4333, 'tissue': 4334, 'covering': 4335, 'multiseeded': 4336, 'proportional': 4337, 'lies': 4338, 'attachment': 4339, 'fuse': 4340, 'rose': 4341, 'hip': 4342, 'typical': 4343, 'nectarine': 4344, 'prunus': 4345, 'persica': 4346, 'month': 4347, 'bud': 4348, 'midsummer': 4349, 'mezocarp': 4350, 'base': 4351, 'androecium': 4352, 'converge': 4353, 'r': 4354, 'twin': 4355, 'scientists': 4356, 'groupings': 4357, 'organs': 4358, 'evolutionarily': 4359, 'taxa': 4360, 'fungus': 4361, 'spores': 4362, 'distribute': 4363, 'winds': 4364, 'degradation': 4365, 'expose': 4366, 'excreting': 4367, 'indehiscence': 4368, 'indehiscent': 4369, 'potentially': 4370, 'maturity': 4371, 'currants': 4372, 'cucumbers': 4373, 'eggplants': 4374, 'aubergines': 4375, 'peppers': 4376, 'excludes': 4377, 'custom': 4378, 'embedded': 4379, 'appearance': 4380, 'latter': 4381, 'flesh': 4382, 'schizocarps': 4383, 'originate': 4384, 'syncarpous': 4385, 'dehisce': 4386, 'segments': 4387, 'carrot': 4388, 'parsnip': 4389, 'parsley': 4390, 'cumin': 4391, 'presents': 4392, 'follicles': 4393, 'aggregations': 4394, 'raspberry': 4395, 'bramble': 4396, 'elongates': 4397, 'smallish': 4398, 'merge': 4399, 'osage': 4400, 'orange': 4401, 'breadfruit': 4402, 'white': 4403, 'expand': 4404, 'connate': 4405, 'organ': 4406, 'syncarp': 4407, 'progressive': 4408, 'stages': 4409, 'inflorescences': 4410, 'initiated': 4411, 'incorporate': 4412, 'hypanthium': 4413, 'occur': 4414, 'hyphenated': 4415, 'characters': 4416, 'commerce': 4417, 'commercial': 4418, 'pineapples': 4419, 'grapefruit': 4420, 'mandarin': 4421, 'navel': 4422, 'satsumas': 4423, 'table': 4424, 'watermelons': 4425, 'valued': 4426, 'parthenocarpy': 4427, 'parthenocarpic': 4428, 'stimulus': 4429, 'triploids': 4430, 'embryonic': 4431, 'stenospermocarpy': 4432, 'normal': 4433, 'achieved': 4434, 'interactions': 4435, 'coated': 4436, 'spikes': 4437, 'burrs': 4438, 'deter': 4439, 'foragers': 4440, 'feeding': 4441, 'serve': 4442, 'hair': 4443, 'feathers': 4444, 'legs': 4445, 'zoochorous': 4446, 'cocklebur': 4447, 'unicorn': 4448, 'beggarticks': 4449, 'spanish': 4450, 'needle': 4451, 'mutual': 4452, 'appeals': 4453, 'hungry': 4454, 'defecated': 4455, 'nutritious': 4456, 'motivate': 4457, 'birds': 4458, 'squirrels': 4459, 'hoard': 4460, 'burying': 4461, 'retrieve': 4462, 'scarcity': 4463, 'uneaten': 4464, 'sown': 4465, 'germinate': 4466, 'flattened': 4467, 'elongated': 4468, 'wings': 4469, 'helicopter': 4470, 'elm': 4471, 'maple': 4472, 'tuliptree': 4473, 'mechanism': 4474, 'increases': 4475, 'dispersed': 4476, 'tiny': 4477, 'parachutes': 4478, 'dandelion': 4479, 'milkweed': 4480, 'salsify': 4481, 'coconut': 4482, 'float': 4483, 'miles': 4484, 'ocean': 4485, 'spreading': 4486, 'disperse': 4487, 'nipa': 4488, 'palm': 4489, 'screw': 4490, 'propulsive': 4491, 'fling': 4492, 'distances': 4493, 'ft': 4494, 'sandbox': 4495, 'impatiens': 4496, 'squirting': 4497, 'cornucopia': 4498, 'watermelon': 4499, 'coconuts': 4500, 'blackberries': 4501, 'pawpaw': 4502, 'mulberries': 4503, 'commercially': 4504, 'jams': 4505, 'marmalade': 4506, 'preserves': 4507, 'extensively': 4508, 'manufactured': 4509, 'processed': 4510, 'cakes': 4511, 'cookies': 4512, 'baked': 4513, 'flavorings': 4514, 'cream': 4515, 'yogurt': 4516, 'canned': 4517, 'juices': 4518, 'alcoholic': 4519, 'brandy': 4520, 'beer': 4521, 'wine': 4522, 'vanilla': 4523, 'paprika': 4524, 'pressed': 4525, 'socializing': 4526, 'gift': 4527, 'baskets': 4528, 'bouquets': 4529, 'green': 4530, 'greens': 4531, 'okra': 4532, 'bought': 4533, 'sold': 4534, 'markets': 4535, 'greengroceries': 4536, 'kitchens': 4537, 'restaurant': 4538, 'benefit': 4539, 'care': 4540, 'hormone': 4541, 'ethylene': 4542, 'efficient': 4543, 'cold': 4544, 'chain': 4545, 'optimal': 4546, 'storage': 4547, 'extending': 4548, 'ensuring': 4549, 'shelf': 4550, 'amounts': 4551, 'vitamin': 4552, 'satisfying': 4553, 'filling': 4554, 'chewing': 4555, 'dietary': 4556, 'consumed': 4557, 'promotes': 4558, 'satiety': 4559, 'weight': 4560, 'aid': 4561, 'blood': 4562, 'cholesterol': 4563, 'factor': 4564, 'cardiovascular': 4565, 'preliminary': 4566, 'improve': 4567, 'reduced': 4568, 'risks': 4569, 'aging': 4570, 'cdc': 4571, 'recommends': 4572, 'contamination': 4573, 'store': 4574, 'damaged': 4575, 'bruised': 4576, 'precut': 4577, 'pieces': 4578, 'surrounded': 4579, 'rinsed': 4580, 'recommendation': 4581, 'rinds': 4582, 'preparing': 4583, 'premature': 4584, 'spoilage': 4585, 'kept': 4586, 'utensils': 4587, 'going': 4588, 'eggs': 4589, 'cut': 4590, 'peeled': 4591, 'bacteria': 4592, 'increase': 4593, 'percent': 4594, 'diet': 4595, 'foundation': 4596, 'chemistry': 4597, 'technology': 4598, 'describing': 4599, 'scales': 4600, 'approximation': 4601, 'angular': 4602, 'quantization': 4603, 'objects': 4604, 'limits': 4605, 'quantity': 4606, 'prior': 4607, 'observations': 4608, 'reconciled': 4609, 'planck': 4610, 'radiation': 4611, 'correspondence': 4612, 'frequency': 4613, 'paper': 4614, 'explained': 4615, 'photoelectric': 4616, 'niels': 4617, 'bohr': 4618, 'werner': 4619, 'heisenberg': 4620, 'dirac': 4621, 'specially': 4622, 'formalisms': 4623, 'entity': 4624, 'measurements': 4625, 'yield': 4626, 'raises': 4627, 'wigner': 4628, 'verified': 4629, 'experimentally': 4630, 'extremely': 4631, 'accuracy': 4632, 'predict': 4633, 'certainty': 4634, 'happen': 4635, 'probabilities': 4636, 'square': 4637, 'physicist': 4638, 'associates': 4639, 'applying': 4640, 'say': 4641, 'equation': 4642, 'tradeoff': 4643, 'predictability': 4644, 'measurable': 4645, 'famous': 4646, 'prepared': 4647, 'prediction': 4648, 'illustrated': 4649, 'coherent': 4650, 'laser': 4651, 'beam': 4652, 'illuminates': 4653, 'pierced': 4654, 'interfere': 4655, 'producing': 4656, 'bright': 4657, 'dark': 4658, 'bands': 4659, 'appears': 4660, 'hits': 4661, 'versions': 4662, 'detectors': 4663, 'detected': 4664, 'photon': 4665, 'passes': 4666, 'detects': 4667, 'electrons': 4668, 'exhibit': 4669, 'fired': 4670, 'barrier': 4671, 'kinetic': 4672, 'trapped': 4673, 'enabling': 4674, 'radioactive': 4675, 'nuclear': 4676, 'fusion': 4677, 'stars': 4678, 'applications': 4679, 'scanning': 4680, 'microscopy': 4681, 'tunnel': 4682, 'diode': 4683, 'interact': 4684, 'intertwined': 4685, 'characteristic': 4686, 'trait': 4687, 'enforces': 4688, 'departure': 4689, 'enables': 4690, 'pseudo': 4691, 'telepathy': 4692, 'resource': 4693, 'protocols': 4694, 'superdense': 4695, 'coding': 4696, 'misconception': 4697, 'sending': 4698, 'signals': 4699, 'faster': 4700, 'opened': 4701, 'hypothetical': 4702, 'addressed': 4703, 'variable': 4704, 'operates': 4705, 'accord': 4706, 'constrained': 4707, 'quantifiable': 4708, 'tests': 4709, 'entangled': 4710, 'constraints': 4711, 'superficial': 4712, 'introducing': 4713, 'mathematics': 4714, 'manipulating': 4715, 'linear': 4716, 'algebra': 4717, 'differential': 4718, 'equations': 4719, 'advanced': 4720, 'subjects': 4721, 'article': 4722, 'useful': 4723, 'oft': 4724, 'rigorous': 4725, 'mechanical': 4726, 'vector': 4727}\""
            ],
            "application/vnd.google.colaboratory.intrinsic+json": {
              "type": "string"
            }
          },
          "metadata": {},
          "execution_count": 105
        }
      ]
    },
    {
      "cell_type": "code",
      "source": [
        "#####################"
      ],
      "metadata": {
        "id": "5Ikk8mkG8ISX"
      },
      "execution_count": null,
      "outputs": []
    },
    {
      "cell_type": "code",
      "source": [
        "\n",
        "%reset -f\n",
        "import bs4\n",
        "import sys\n",
        "import requests\n",
        "import  os\n",
        "pathToStoreFiles = \"/content\"\n",
        "os.chdir(pathToStoreFiles)\n",
        "os.listdir()\n",
        "# Your wikipedia page title:\n",
        "wiki_page = 'Religion'   # Religion, Crime, Hockey, Football\n",
        "# Process text now\n",
        "res = requests.get(f'https://en.wikipedia.org/wiki/{wiki_page}' )\n",
        "res.raise_for_status()\n",
        "wiki = bs4.BeautifulSoup(res.text,\"html.parser\")\n",
        "\n",
        "# open a file named as your wiki page in write mode\n",
        "with open(wiki_page+\".txt\", \"w\", encoding=\"utf-8\") as f:\n",
        "    for i in wiki.select('p'):\n",
        "        # write each paragraph to the file\n",
        "        f.write(i.getText())\n",
        "\n",
        "os.listdir()\n"
      ],
      "metadata": {
        "id": "pq4YtwfLXQRg",
        "outputId": "4bc95945-7e57-4a99-fd2f-feae53f5f070",
        "colab": {
          "base_uri": "https://localhost:8080/"
        }
      },
      "execution_count": null,
      "outputs": [
        {
          "output_type": "execute_result",
          "data": {
            "text/plain": [
              "['.config',\n",
              " 'seq.pkl',\n",
              " 'football.txt',\n",
              " 'Hockey.txt',\n",
              " 'word_index.txt',\n",
              " 'Crime.txt',\n",
              " 'sample_data']"
            ]
          },
          "metadata": {},
          "execution_count": 45
        },
        {
          "output_type": "execute_result",
          "data": {
            "text/plain": [
              "1"
            ]
          },
          "metadata": {},
          "execution_count": 45
        },
        {
          "output_type": "execute_result",
          "data": {
            "text/plain": [
              "10"
            ]
          },
          "metadata": {},
          "execution_count": 45
        },
        {
          "output_type": "execute_result",
          "data": {
            "text/plain": [
              "9"
            ]
          },
          "metadata": {},
          "execution_count": 45
        },
        {
          "output_type": "execute_result",
          "data": {
            "text/plain": [
              "13"
            ]
          },
          "metadata": {},
          "execution_count": 45
        },
        {
          "output_type": "execute_result",
          "data": {
            "text/plain": [
              "7"
            ]
          },
          "metadata": {},
          "execution_count": 45
        },
        {
          "output_type": "execute_result",
          "data": {
            "text/plain": [
              "5"
            ]
          },
          "metadata": {},
          "execution_count": 45
        },
        {
          "output_type": "execute_result",
          "data": {
            "text/plain": [
              "6"
            ]
          },
          "metadata": {},
          "execution_count": 45
        },
        {
          "output_type": "execute_result",
          "data": {
            "text/plain": [
              "10"
            ]
          },
          "metadata": {},
          "execution_count": 45
        },
        {
          "output_type": "execute_result",
          "data": {
            "text/plain": [
              "1"
            ]
          },
          "metadata": {},
          "execution_count": 45
        },
        {
          "output_type": "execute_result",
          "data": {
            "text/plain": [
              "371"
            ]
          },
          "metadata": {},
          "execution_count": 45
        },
        {
          "output_type": "execute_result",
          "data": {
            "text/plain": [
              "999"
            ]
          },
          "metadata": {},
          "execution_count": 45
        },
        {
          "output_type": "execute_result",
          "data": {
            "text/plain": [
              "515"
            ]
          },
          "metadata": {},
          "execution_count": 45
        },
        {
          "output_type": "execute_result",
          "data": {
            "text/plain": [
              "332"
            ]
          },
          "metadata": {},
          "execution_count": 45
        },
        {
          "output_type": "execute_result",
          "data": {
            "text/plain": [
              "919"
            ]
          },
          "metadata": {},
          "execution_count": 45
        },
        {
          "output_type": "execute_result",
          "data": {
            "text/plain": [
              "1542"
            ]
          },
          "metadata": {},
          "execution_count": 45
        },
        {
          "output_type": "execute_result",
          "data": {
            "text/plain": [
              "331"
            ]
          },
          "metadata": {},
          "execution_count": 45
        },
        {
          "output_type": "execute_result",
          "data": {
            "text/plain": [
              "508"
            ]
          },
          "metadata": {},
          "execution_count": 45
        },
        {
          "output_type": "execute_result",
          "data": {
            "text/plain": [
              "650"
            ]
          },
          "metadata": {},
          "execution_count": 45
        },
        {
          "output_type": "execute_result",
          "data": {
            "text/plain": [
              "1709"
            ]
          },
          "metadata": {},
          "execution_count": 45
        },
        {
          "output_type": "execute_result",
          "data": {
            "text/plain": [
              "385"
            ]
          },
          "metadata": {},
          "execution_count": 45
        },
        {
          "output_type": "execute_result",
          "data": {
            "text/plain": [
              "1095"
            ]
          },
          "metadata": {},
          "execution_count": 45
        },
        {
          "output_type": "execute_result",
          "data": {
            "text/plain": [
              "516"
            ]
          },
          "metadata": {},
          "execution_count": 45
        },
        {
          "output_type": "execute_result",
          "data": {
            "text/plain": [
              "199"
            ]
          },
          "metadata": {},
          "execution_count": 45
        },
        {
          "output_type": "execute_result",
          "data": {
            "text/plain": [
              "452"
            ]
          },
          "metadata": {},
          "execution_count": 45
        },
        {
          "output_type": "execute_result",
          "data": {
            "text/plain": [
              "406"
            ]
          },
          "metadata": {},
          "execution_count": 45
        },
        {
          "output_type": "execute_result",
          "data": {
            "text/plain": [
              "820"
            ]
          },
          "metadata": {},
          "execution_count": 45
        },
        {
          "output_type": "execute_result",
          "data": {
            "text/plain": [
              "57"
            ]
          },
          "metadata": {},
          "execution_count": 45
        },
        {
          "output_type": "execute_result",
          "data": {
            "text/plain": [
              "295"
            ]
          },
          "metadata": {},
          "execution_count": 45
        },
        {
          "output_type": "execute_result",
          "data": {
            "text/plain": [
              "66"
            ]
          },
          "metadata": {},
          "execution_count": 45
        },
        {
          "output_type": "execute_result",
          "data": {
            "text/plain": [
              "254"
            ]
          },
          "metadata": {},
          "execution_count": 45
        },
        {
          "output_type": "execute_result",
          "data": {
            "text/plain": [
              "204"
            ]
          },
          "metadata": {},
          "execution_count": 45
        },
        {
          "output_type": "execute_result",
          "data": {
            "text/plain": [
              "141"
            ]
          },
          "metadata": {},
          "execution_count": 45
        },
        {
          "output_type": "execute_result",
          "data": {
            "text/plain": [
              "216"
            ]
          },
          "metadata": {},
          "execution_count": 45
        },
        {
          "output_type": "execute_result",
          "data": {
            "text/plain": [
              "285"
            ]
          },
          "metadata": {},
          "execution_count": 45
        },
        {
          "output_type": "execute_result",
          "data": {
            "text/plain": [
              "142"
            ]
          },
          "metadata": {},
          "execution_count": 45
        },
        {
          "output_type": "execute_result",
          "data": {
            "text/plain": [
              "528"
            ]
          },
          "metadata": {},
          "execution_count": 45
        },
        {
          "output_type": "execute_result",
          "data": {
            "text/plain": [
              "176"
            ]
          },
          "metadata": {},
          "execution_count": 45
        },
        {
          "output_type": "execute_result",
          "data": {
            "text/plain": [
              "171"
            ]
          },
          "metadata": {},
          "execution_count": 45
        },
        {
          "output_type": "execute_result",
          "data": {
            "text/plain": [
              "488"
            ]
          },
          "metadata": {},
          "execution_count": 45
        },
        {
          "output_type": "execute_result",
          "data": {
            "text/plain": [
              "464"
            ]
          },
          "metadata": {},
          "execution_count": 45
        },
        {
          "output_type": "execute_result",
          "data": {
            "text/plain": [
              "750"
            ]
          },
          "metadata": {},
          "execution_count": 45
        },
        {
          "output_type": "execute_result",
          "data": {
            "text/plain": [
              "407"
            ]
          },
          "metadata": {},
          "execution_count": 45
        },
        {
          "output_type": "execute_result",
          "data": {
            "text/plain": [
              "261"
            ]
          },
          "metadata": {},
          "execution_count": 45
        },
        {
          "output_type": "execute_result",
          "data": {
            "text/plain": [
              "428"
            ]
          },
          "metadata": {},
          "execution_count": 45
        },
        {
          "output_type": "execute_result",
          "data": {
            "text/plain": [
              "36"
            ]
          },
          "metadata": {},
          "execution_count": 45
        },
        {
          "output_type": "execute_result",
          "data": {
            "text/plain": [
              "656"
            ]
          },
          "metadata": {},
          "execution_count": 45
        },
        {
          "output_type": "execute_result",
          "data": {
            "text/plain": [
              "692"
            ]
          },
          "metadata": {},
          "execution_count": 45
        },
        {
          "output_type": "execute_result",
          "data": {
            "text/plain": [
              "330"
            ]
          },
          "metadata": {},
          "execution_count": 45
        },
        {
          "output_type": "execute_result",
          "data": {
            "text/plain": [
              "191"
            ]
          },
          "metadata": {},
          "execution_count": 45
        },
        {
          "output_type": "execute_result",
          "data": {
            "text/plain": [
              "317"
            ]
          },
          "metadata": {},
          "execution_count": 45
        },
        {
          "output_type": "execute_result",
          "data": {
            "text/plain": [
              "312"
            ]
          },
          "metadata": {},
          "execution_count": 45
        },
        {
          "output_type": "execute_result",
          "data": {
            "text/plain": [
              "125"
            ]
          },
          "metadata": {},
          "execution_count": 45
        },
        {
          "output_type": "execute_result",
          "data": {
            "text/plain": [
              "227"
            ]
          },
          "metadata": {},
          "execution_count": 45
        },
        {
          "output_type": "execute_result",
          "data": {
            "text/plain": [
              "125"
            ]
          },
          "metadata": {},
          "execution_count": 45
        },
        {
          "output_type": "execute_result",
          "data": {
            "text/plain": [
              "709"
            ]
          },
          "metadata": {},
          "execution_count": 45
        },
        {
          "output_type": "execute_result",
          "data": {
            "text/plain": [
              "663"
            ]
          },
          "metadata": {},
          "execution_count": 45
        },
        {
          "output_type": "execute_result",
          "data": {
            "text/plain": [
              "420"
            ]
          },
          "metadata": {},
          "execution_count": 45
        },
        {
          "output_type": "execute_result",
          "data": {
            "text/plain": [
              "504"
            ]
          },
          "metadata": {},
          "execution_count": 45
        },
        {
          "output_type": "execute_result",
          "data": {
            "text/plain": [
              "587"
            ]
          },
          "metadata": {},
          "execution_count": 45
        },
        {
          "output_type": "execute_result",
          "data": {
            "text/plain": [
              "566"
            ]
          },
          "metadata": {},
          "execution_count": 45
        },
        {
          "output_type": "execute_result",
          "data": {
            "text/plain": [
              "508"
            ]
          },
          "metadata": {},
          "execution_count": 45
        },
        {
          "output_type": "execute_result",
          "data": {
            "text/plain": [
              "183"
            ]
          },
          "metadata": {},
          "execution_count": 45
        },
        {
          "output_type": "execute_result",
          "data": {
            "text/plain": [
              "536"
            ]
          },
          "metadata": {},
          "execution_count": 45
        },
        {
          "output_type": "execute_result",
          "data": {
            "text/plain": [
              "332"
            ]
          },
          "metadata": {},
          "execution_count": 45
        },
        {
          "output_type": "execute_result",
          "data": {
            "text/plain": [
              "255"
            ]
          },
          "metadata": {},
          "execution_count": 45
        },
        {
          "output_type": "execute_result",
          "data": {
            "text/plain": [
              "586"
            ]
          },
          "metadata": {},
          "execution_count": 45
        },
        {
          "output_type": "execute_result",
          "data": {
            "text/plain": [
              "468"
            ]
          },
          "metadata": {},
          "execution_count": 45
        },
        {
          "output_type": "execute_result",
          "data": {
            "text/plain": [
              "293"
            ]
          },
          "metadata": {},
          "execution_count": 45
        },
        {
          "output_type": "execute_result",
          "data": {
            "text/plain": [
              "921"
            ]
          },
          "metadata": {},
          "execution_count": 45
        },
        {
          "output_type": "execute_result",
          "data": {
            "text/plain": [
              "88"
            ]
          },
          "metadata": {},
          "execution_count": 45
        },
        {
          "output_type": "execute_result",
          "data": {
            "text/plain": [
              "1068"
            ]
          },
          "metadata": {},
          "execution_count": 45
        },
        {
          "output_type": "execute_result",
          "data": {
            "text/plain": [
              "821"
            ]
          },
          "metadata": {},
          "execution_count": 45
        },
        {
          "output_type": "execute_result",
          "data": {
            "text/plain": [
              "42"
            ]
          },
          "metadata": {},
          "execution_count": 45
        },
        {
          "output_type": "execute_result",
          "data": {
            "text/plain": [
              "738"
            ]
          },
          "metadata": {},
          "execution_count": 45
        },
        {
          "output_type": "execute_result",
          "data": {
            "text/plain": [
              "205"
            ]
          },
          "metadata": {},
          "execution_count": 45
        },
        {
          "output_type": "execute_result",
          "data": {
            "text/plain": [
              "181"
            ]
          },
          "metadata": {},
          "execution_count": 45
        },
        {
          "output_type": "execute_result",
          "data": {
            "text/plain": [
              "496"
            ]
          },
          "metadata": {},
          "execution_count": 45
        },
        {
          "output_type": "execute_result",
          "data": {
            "text/plain": [
              "798"
            ]
          },
          "metadata": {},
          "execution_count": 45
        },
        {
          "output_type": "execute_result",
          "data": {
            "text/plain": [
              "236"
            ]
          },
          "metadata": {},
          "execution_count": 45
        },
        {
          "output_type": "execute_result",
          "data": {
            "text/plain": [
              "239"
            ]
          },
          "metadata": {},
          "execution_count": 45
        },
        {
          "output_type": "execute_result",
          "data": {
            "text/plain": [
              "528"
            ]
          },
          "metadata": {},
          "execution_count": 45
        },
        {
          "output_type": "execute_result",
          "data": {
            "text/plain": [
              "129"
            ]
          },
          "metadata": {},
          "execution_count": 45
        },
        {
          "output_type": "execute_result",
          "data": {
            "text/plain": [
              "696"
            ]
          },
          "metadata": {},
          "execution_count": 45
        },
        {
          "output_type": "execute_result",
          "data": {
            "text/plain": [
              "144"
            ]
          },
          "metadata": {},
          "execution_count": 45
        },
        {
          "output_type": "execute_result",
          "data": {
            "text/plain": [
              "153"
            ]
          },
          "metadata": {},
          "execution_count": 45
        },
        {
          "output_type": "execute_result",
          "data": {
            "text/plain": [
              "270"
            ]
          },
          "metadata": {},
          "execution_count": 45
        },
        {
          "output_type": "execute_result",
          "data": {
            "text/plain": [
              "137"
            ]
          },
          "metadata": {},
          "execution_count": 45
        },
        {
          "output_type": "execute_result",
          "data": {
            "text/plain": [
              "900"
            ]
          },
          "metadata": {},
          "execution_count": 45
        },
        {
          "output_type": "execute_result",
          "data": {
            "text/plain": [
              "254"
            ]
          },
          "metadata": {},
          "execution_count": 45
        },
        {
          "output_type": "execute_result",
          "data": {
            "text/plain": [
              "407"
            ]
          },
          "metadata": {},
          "execution_count": 45
        },
        {
          "output_type": "execute_result",
          "data": {
            "text/plain": [
              "827"
            ]
          },
          "metadata": {},
          "execution_count": 45
        },
        {
          "output_type": "execute_result",
          "data": {
            "text/plain": [
              "711"
            ]
          },
          "metadata": {},
          "execution_count": 45
        },
        {
          "output_type": "execute_result",
          "data": {
            "text/plain": [
              "539"
            ]
          },
          "metadata": {},
          "execution_count": 45
        },
        {
          "output_type": "execute_result",
          "data": {
            "text/plain": [
              "764"
            ]
          },
          "metadata": {},
          "execution_count": 45
        },
        {
          "output_type": "execute_result",
          "data": {
            "text/plain": [
              "350"
            ]
          },
          "metadata": {},
          "execution_count": 45
        },
        {
          "output_type": "execute_result",
          "data": {
            "text/plain": [
              "145"
            ]
          },
          "metadata": {},
          "execution_count": 45
        },
        {
          "output_type": "execute_result",
          "data": {
            "text/plain": [
              "202"
            ]
          },
          "metadata": {},
          "execution_count": 45
        },
        {
          "output_type": "execute_result",
          "data": {
            "text/plain": [
              "1798"
            ]
          },
          "metadata": {},
          "execution_count": 45
        },
        {
          "output_type": "execute_result",
          "data": {
            "text/plain": [
              "300"
            ]
          },
          "metadata": {},
          "execution_count": 45
        },
        {
          "output_type": "execute_result",
          "data": {
            "text/plain": [
              "369"
            ]
          },
          "metadata": {},
          "execution_count": 45
        },
        {
          "output_type": "execute_result",
          "data": {
            "text/plain": [
              "570"
            ]
          },
          "metadata": {},
          "execution_count": 45
        },
        {
          "output_type": "execute_result",
          "data": {
            "text/plain": [
              "496"
            ]
          },
          "metadata": {},
          "execution_count": 45
        },
        {
          "output_type": "execute_result",
          "data": {
            "text/plain": [
              "337"
            ]
          },
          "metadata": {},
          "execution_count": 45
        },
        {
          "output_type": "execute_result",
          "data": {
            "text/plain": [
              "556"
            ]
          },
          "metadata": {},
          "execution_count": 45
        },
        {
          "output_type": "execute_result",
          "data": {
            "text/plain": [
              "304"
            ]
          },
          "metadata": {},
          "execution_count": 45
        },
        {
          "output_type": "execute_result",
          "data": {
            "text/plain": [
              "338"
            ]
          },
          "metadata": {},
          "execution_count": 45
        },
        {
          "output_type": "execute_result",
          "data": {
            "text/plain": [
              "181"
            ]
          },
          "metadata": {},
          "execution_count": 45
        },
        {
          "output_type": "execute_result",
          "data": {
            "text/plain": [
              "458"
            ]
          },
          "metadata": {},
          "execution_count": 45
        },
        {
          "output_type": "execute_result",
          "data": {
            "text/plain": [
              "425"
            ]
          },
          "metadata": {},
          "execution_count": 45
        },
        {
          "output_type": "execute_result",
          "data": {
            "text/plain": [
              "828"
            ]
          },
          "metadata": {},
          "execution_count": 45
        },
        {
          "output_type": "execute_result",
          "data": {
            "text/plain": [
              "609"
            ]
          },
          "metadata": {},
          "execution_count": 45
        },
        {
          "output_type": "execute_result",
          "data": {
            "text/plain": [
              "718"
            ]
          },
          "metadata": {},
          "execution_count": 45
        },
        {
          "output_type": "execute_result",
          "data": {
            "text/plain": [
              "304"
            ]
          },
          "metadata": {},
          "execution_count": 45
        },
        {
          "output_type": "execute_result",
          "data": {
            "text/plain": [
              "196"
            ]
          },
          "metadata": {},
          "execution_count": 45
        },
        {
          "output_type": "execute_result",
          "data": {
            "text/plain": [
              "483"
            ]
          },
          "metadata": {},
          "execution_count": 45
        },
        {
          "output_type": "execute_result",
          "data": {
            "text/plain": [
              "822"
            ]
          },
          "metadata": {},
          "execution_count": 45
        },
        {
          "output_type": "execute_result",
          "data": {
            "text/plain": [
              "143"
            ]
          },
          "metadata": {},
          "execution_count": 45
        },
        {
          "output_type": "execute_result",
          "data": {
            "text/plain": [
              "['.config',\n",
              " 'seq.pkl',\n",
              " 'Religion.txt',\n",
              " 'football.txt',\n",
              " 'Hockey.txt',\n",
              " 'word_index.txt',\n",
              " 'Crime.txt',\n",
              " 'sample_data']"
            ]
          },
          "metadata": {},
          "execution_count": 45
        }
      ]
    },
    {
      "cell_type": "code",
      "source": [],
      "metadata": {
        "id": "TnQssHnbXapx"
      },
      "execution_count": null,
      "outputs": []
    }
  ],
  "metadata": {
    "colab": {
      "collapsed_sections": [
        "OQ-997yOz5uF",
        "OCeoUb-5Ummo",
        "6zwRKrJ-SoHw",
        "qf0euAcqS0_H",
        "MfL8wVW6WdzT"
      ],
      "provenance": [],
      "include_colab_link": true
    },
    "kernelspec": {
      "display_name": "Python 3 (ipykernel)",
      "language": "python",
      "name": "python3"
    },
    "language_info": {
      "codemirror_mode": {
        "name": "ipython",
        "version": 3
      },
      "file_extension": ".py",
      "mimetype": "text/x-python",
      "name": "python",
      "nbconvert_exporter": "python",
      "pygments_lexer": "ipython3",
      "version": "3.9.7"
    }
  },
  "nbformat": 4,
  "nbformat_minor": 0
}