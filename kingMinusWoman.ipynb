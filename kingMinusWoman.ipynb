{
  "nbformat": 4,
  "nbformat_minor": 0,
  "metadata": {
    "colab": {
      "name": "kingMinuswoman.ipynb",
      "provenance": [],
      "collapsed_sections": [],
      "include_colab_link": true
    },
    "kernelspec": {
      "name": "python3",
      "display_name": "Python 3"
    }
  },
  "cells": [
    {
      "cell_type": "markdown",
      "metadata": {
        "id": "view-in-github",
        "colab_type": "text"
      },
      "source": [
        "<a href=\"https://colab.research.google.com/github/harnalashok/deeplearning-sequences/blob/main/kingMinusWoman.ipynb\" target=\"_parent\"><img src=\"https://colab.research.google.com/assets/colab-badge.svg\" alt=\"Open In Colab\"/></a>"
      ]
    },
    {
      "cell_type": "code",
      "metadata": {
        "id": "dO2ZOygCxMQp"
      },
      "source": [
        "\"\"\"\n",
        "Last amended: 14th March, 2021\n",
        "Folder: C:\\Users\\ashok\\OneDrive\\Documents\\bagOfWordsMeetsBagofPopcorn\\smallexpt\n",
        "\t    \t/home/ashok/Documents/9.word2vec\n",
        "\n",
        "Google word2vec slim\n",
        "        https://github.com/eyaler/word2vec-slim\n",
        "\n",
        "\n",
        "Kaggle:\n",
        "    https://www.kaggle.com/c/word2vec-nlp-tutorial/details/part-2-word-vectors\n",
        "Analytics Vidhya:    \n",
        "    https://www.analyticsvidhya.com/blog/2017/06/word-embeddings-count-word2veec/\n",
        "    \n",
        "Objective:\n",
        "    Experimentation with pre-created word2vec file\n",
        "    Works with gensim 3.8.3\n",
        "    \n",
        "\"\"\""
      ],
      "execution_count": null,
      "outputs": []
    },
    {
      "cell_type": "code",
      "metadata": {
        "colab": {
          "base_uri": "https://localhost:8080/",
          "height": 348
        },
        "id": "Am37gEEHJptm",
        "outputId": "ffe97e2a-af78-40f0-b567-49b4638eb212"
      },
      "source": [
        "! pip install gensim==4.1.0 \n",
        "! pip install numpy==1.20.1"
      ],
      "execution_count": 4,
      "outputs": [
        {
          "output_type": "stream",
          "name": "stdout",
          "text": [
            "Collecting gensim==4.1.0\n",
            "  Using cached gensim-4.1.0-cp37-cp37m-manylinux_2_12_x86_64.manylinux2010_x86_64.whl (24.0 MB)\n",
            "Requirement already satisfied: smart-open>=1.8.1 in /usr/local/lib/python3.7/dist-packages (from gensim==4.1.0) (5.1.0)\n",
            "Requirement already satisfied: scipy>=0.18.1 in /usr/local/lib/python3.7/dist-packages (from gensim==4.1.0) (1.4.1)\n",
            "Requirement already satisfied: numpy>=1.17.0 in /usr/local/lib/python3.7/dist-packages (from gensim==4.1.0) (1.20.1)\n",
            "Installing collected packages: gensim\n",
            "  Attempting uninstall: gensim\n",
            "    Found existing installation: gensim 4.0.1\n",
            "    Uninstalling gensim-4.0.1:\n",
            "      Successfully uninstalled gensim-4.0.1\n",
            "Successfully installed gensim-4.1.0\n"
          ]
        },
        {
          "output_type": "display_data",
          "data": {
            "application/vnd.colab-display-data+json": {
              "pip_warning": {
                "packages": [
                  "gensim"
                ]
              }
            }
          },
          "metadata": {}
        },
        {
          "output_type": "stream",
          "name": "stdout",
          "text": [
            "Requirement already satisfied: numpy==1.20.1 in /usr/local/lib/python3.7/dist-packages (1.20.1)\n"
          ]
        }
      ]
    },
    {
      "cell_type": "code",
      "metadata": {
        "id": "3nAjcZstvywH",
        "colab": {
          "base_uri": "https://localhost:8080/",
          "height": 36
        },
        "outputId": "0feb43c4-1cfd-4c25-88f1-5c6d80c1e8ac"
      },
      "source": [
        "\n",
        "# 1. Reset variables. Import module to manipulate word2vec files\n",
        "%reset -f\n",
        "# pip upgrade gensim\n",
        "# conda install -c anaconda gensim\n",
        "import gensim\n",
        "from gensim.models.keyedvectors import KeyedVectors\n",
        "import os\n",
        "gensim.__version__   # 3.8.3"
      ],
      "execution_count": 1,
      "outputs": [
        {
          "output_type": "execute_result",
          "data": {
            "application/vnd.google.colaboratory.intrinsic+json": {
              "type": "string"
            },
            "text/plain": [
              "'4.1.0'"
            ]
          },
          "metadata": {},
          "execution_count": 1
        }
      ]
    },
    {
      "cell_type": "code",
      "metadata": {
        "colab": {
          "base_uri": "https://localhost:8080/"
        },
        "id": "x117ntNyMGEz",
        "outputId": "9dffaad8-7e30-4c17-ea06-330b97b2ec08"
      },
      "source": [
        "from google.colab import drive\n",
        "drive.mount('/content/drive')"
      ],
      "execution_count": 2,
      "outputs": [
        {
          "output_type": "stream",
          "name": "stdout",
          "text": [
            "Mounted at /content/drive\n"
          ]
        }
      ]
    },
    {
      "cell_type": "code",
      "metadata": {
        "id": "bo7BUO6wxYwV"
      },
      "source": [
        "# 1.1 Download vector model. Takes time\n",
        "#     But even if part is downloaded, it will work\n",
        "#     Downloaded model is in memory NOT on disk\n",
        "\n",
        "model = api.load('word2vec-google-news-300')"
      ],
      "execution_count": null,
      "outputs": []
    },
    {
      "cell_type": "code",
      "metadata": {
        "id": "I3LEENyHNtZe"
      },
      "source": [
        "# 2. Else, mount gdrive and set path \n",
        "#    to Google word2vec (slim) file \n",
        "#    This slim file is available at:\n",
        "#    https://github.com/eyaler/word2vec-slim/blob/master/GoogleNews-vectors-negative300-SLIM.bin.gz\n",
        "\n"
      ],
      "execution_count": null,
      "outputs": []
    },
    {
      "cell_type": "code",
      "metadata": {
        "id": "94owlhWXOFkp"
      },
      "source": [
        "# 3. Set path to Kaggle's word2vec file folder\n",
        "#    In your gdrive (bagofpopcorn):\n",
        "os.chdir(\"/content/drive/MyDrive/Colab_data_files/word2vec/\")"
      ],
      "execution_count": 3,
      "outputs": []
    },
    {
      "cell_type": "code",
      "metadata": {
        "id": "oW0OcNpzOkB4"
      },
      "source": [
        "# 4. Load the word2vec file\n",
        "#    (takes time)\n",
        "#     Refer bagofpopcorn.py. This file was created by Ashok K Harnal\n",
        "#      File size is around 59MB\n",
        "model =   KeyedVectors.load('300features_40minwords_10context.gz', mmap = None)\n"
      ],
      "execution_count": 4,
      "outputs": []
    },
    {
      "cell_type": "code",
      "metadata": {
        "id": "3AgCt85Y557U",
        "colab": {
          "base_uri": "https://localhost:8080/",
          "height": 36
        },
        "outputId": "134d077c-97e3-4edb-d71c-90bc36b48378"
      },
      "source": [
        "# 2.0\n",
        "model.wv.doesnt_match(\"man woman child kitchen\".split())   # 'kitchen'"
      ],
      "execution_count": 6,
      "outputs": [
        {
          "output_type": "execute_result",
          "data": {
            "application/vnd.google.colaboratory.intrinsic+json": {
              "type": "string"
            },
            "text/plain": [
              "'kitchen'"
            ]
          },
          "metadata": {},
          "execution_count": 6
        }
      ]
    },
    {
      "cell_type": "code",
      "metadata": {
        "id": "SU4YiLc46g5w",
        "colab": {
          "base_uri": "https://localhost:8080/",
          "height": 36
        },
        "outputId": "12ccfddb-af5f-4a16-af91-7616c60ffdbb"
      },
      "source": [
        "# 2.1\n",
        "model.wv.doesnt_match(\"man woman child cow\".split())   # cow\n"
      ],
      "execution_count": 7,
      "outputs": [
        {
          "output_type": "execute_result",
          "data": {
            "application/vnd.google.colaboratory.intrinsic+json": {
              "type": "string"
            },
            "text/plain": [
              "'cow'"
            ]
          },
          "metadata": {},
          "execution_count": 7
        }
      ]
    },
    {
      "cell_type": "code",
      "metadata": {
        "id": "HBaVt7UZ6jyJ",
        "colab": {
          "base_uri": "https://localhost:8080/",
          "height": 36
        },
        "outputId": "79b6d154-22b4-4260-cefe-c4307949c199"
      },
      "source": [
        "# 2.2\n",
        "model.wv.doesnt_match(\"france england germany berlin\".split())   # berlin\n"
      ],
      "execution_count": 9,
      "outputs": [
        {
          "output_type": "execute_result",
          "data": {
            "application/vnd.google.colaboratory.intrinsic+json": {
              "type": "string"
            },
            "text/plain": [
              "'berlin'"
            ]
          },
          "metadata": {},
          "execution_count": 9
        }
      ]
    },
    {
      "cell_type": "code",
      "metadata": {
        "id": "0pBkf1hp6lCb",
        "colab": {
          "base_uri": "https://localhost:8080/",
          "height": 36
        },
        "outputId": "41b957ec-f9f7-45a3-dadb-ac586ef3bc90"
      },
      "source": [
        "# 2.3\n",
        "model.wv.doesnt_match(\"paris berlin london austria\".split())   # austria\n"
      ],
      "execution_count": 10,
      "outputs": [
        {
          "output_type": "execute_result",
          "data": {
            "application/vnd.google.colaboratory.intrinsic+json": {
              "type": "string"
            },
            "text/plain": [
              "'paris'"
            ]
          },
          "metadata": {},
          "execution_count": 10
        }
      ]
    },
    {
      "cell_type": "code",
      "metadata": {
        "id": "iZ_-YZnr6qVg",
        "colab": {
          "base_uri": "https://localhost:8080/"
        },
        "outputId": "a76cabe3-65b2-443a-d0f3-07b37287d184"
      },
      "source": [
        "# 3.0\n",
        "model.wv.most_similar(\"man\")  \n"
      ],
      "execution_count": 11,
      "outputs": [
        {
          "output_type": "execute_result",
          "data": {
            "text/plain": [
              "[('woman', 0.6254014372825623),\n",
              " ('lad', 0.5897815227508545),\n",
              " ('lady', 0.5896257162094116),\n",
              " ('soldier', 0.5538835525512695),\n",
              " ('guy', 0.5263450741767883),\n",
              " ('men', 0.5252613425254822),\n",
              " ('person', 0.5234428644180298),\n",
              " ('businessman', 0.5173948407173157),\n",
              " ('monk', 0.5137553811073303),\n",
              " ('loner', 0.5119930505752563)]"
            ]
          },
          "metadata": {},
          "execution_count": 11
        }
      ]
    },
    {
      "cell_type": "code",
      "metadata": {
        "id": "sOS6W9P66s7p",
        "colab": {
          "base_uri": "https://localhost:8080/"
        },
        "outputId": "507eb27a-b744-426c-8b21-377585bbaf12"
      },
      "source": [
        "# 3.1\n",
        "model.wv.most_similar(\"queen\")\n"
      ],
      "execution_count": 12,
      "outputs": [
        {
          "output_type": "execute_result",
          "data": {
            "text/plain": [
              "[('princess', 0.6680407524108887),\n",
              " ('bride', 0.6045001149177551),\n",
              " ('stepmother', 0.5974058508872986),\n",
              " ('victoria', 0.5969752073287964),\n",
              " ('dame', 0.5853109359741211),\n",
              " ('showgirl', 0.5819121599197388),\n",
              " ('maria', 0.5809970498085022),\n",
              " ('latifah', 0.5800352692604065),\n",
              " ('eva', 0.5745376944541931),\n",
              " ('anita', 0.5699288845062256)]"
            ]
          },
          "metadata": {},
          "execution_count": 12
        }
      ]
    },
    {
      "cell_type": "code",
      "metadata": {
        "id": "iWlkwXt06v17",
        "colab": {
          "base_uri": "https://localhost:8080/"
        },
        "outputId": "1693815b-ae34-419a-9631-e9acd6363c4f"
      },
      "source": [
        "# 3.2\n",
        "model.wv.most_similar(\"awful\")\n"
      ],
      "execution_count": 13,
      "outputs": [
        {
          "output_type": "execute_result",
          "data": {
            "text/plain": [
              "[('terrible', 0.773497462272644),\n",
              " ('atrocious', 0.726247251033783),\n",
              " ('dreadful', 0.7210407853126526),\n",
              " ('horrible', 0.7197018265724182),\n",
              " ('abysmal', 0.7099337577819824),\n",
              " ('horrendous', 0.6860306859016418),\n",
              " ('horrid', 0.6697106957435608),\n",
              " ('appalling', 0.6539225578308105),\n",
              " ('amateurish', 0.6097128987312317),\n",
              " ('lousy', 0.6085333824157715)]"
            ]
          },
          "metadata": {},
          "execution_count": 13
        }
      ]
    },
    {
      "cell_type": "code",
      "metadata": {
        "id": "aXVv6Nmo5eMZ",
        "colab": {
          "base_uri": "https://localhost:8080/"
        },
        "outputId": "db96b2df-b784-479f-d492-ca33eca620d1"
      },
      "source": [
        "# 3.3\n",
        "model.wv.most_similar(\"bank\")     # 'bank' has two meanings. River bank. Finance bank.\n"
      ],
      "execution_count": 14,
      "outputs": [
        {
          "output_type": "execute_result",
          "data": {
            "text/plain": [
              "[('robbery', 0.6693954467773438),\n",
              " ('ranch', 0.6567532420158386),\n",
              " ('loan', 0.6546927690505981),\n",
              " ('robbers', 0.6538708806037903),\n",
              " ('cattle', 0.6504669785499573),\n",
              " ('security', 0.6486033201217651),\n",
              " ('loot', 0.6473209857940674),\n",
              " ('factory', 0.6468525528907776),\n",
              " ('robber', 0.6461599469184875),\n",
              " ('nearby', 0.6442009806632996)]"
            ]
          },
          "metadata": {},
          "execution_count": 14
        }
      ]
    },
    {
      "cell_type": "markdown",
      "metadata": {
        "id": "ZRjxCAgl7BLy"
      },
      "source": [
        "#### Maths with word2vec model. Two vectors get added and one subtracted.\n",
        "King – Man + Woman = ?"
      ]
    },
    {
      "cell_type": "code",
      "metadata": {
        "id": "y0_NqJG_vzug"
      },
      "source": [
        "# 4.0 Get vectors of few words\n",
        "vec_king = model.wv['king']\n",
        "vec_man = model.wv['man']\n",
        "vec_woman = model.wv['woman']\n",
        "vec_queen = model.wv['queen']"
      ],
      "execution_count": 18,
      "outputs": []
    },
    {
      "cell_type": "code",
      "metadata": {
        "colab": {
          "base_uri": "https://localhost:8080/"
        },
        "id": "pxqLL9fmyBXU",
        "outputId": "a22dcd1d-7914-455a-89bf-dc7289401971"
      },
      "source": [
        "# 4.1\n",
        "result = model.wv.most_similar(positive=['woman', 'king'], negative=['man'], topn=1)\n",
        "print(result)"
      ],
      "execution_count": 19,
      "outputs": [
        {
          "output_type": "stream",
          "name": "stdout",
          "text": [
            "[('queen', 0.5817553997039795)]\n"
          ]
        }
      ]
    },
    {
      "cell_type": "code",
      "metadata": {
        "id": "4Xcx0Z4Uyl_3",
        "colab": {
          "base_uri": "https://localhost:8080/"
        },
        "outputId": "c1730c81-573a-4f47-8c78-4ed35f0b7481"
      },
      "source": [
        "# 4.2\n",
        "result = model.wv.most_similar(positive=['woman', 'king'], negative=['man'], topn=3)\n",
        "print(result)"
      ],
      "execution_count": 20,
      "outputs": [
        {
          "output_type": "stream",
          "name": "stdout",
          "text": [
            "[('queen', 0.5817553997039795), ('princess', 0.5068495273590088), ('prince', 0.4993061423301697)]\n"
          ]
        }
      ]
    },
    {
      "cell_type": "code",
      "metadata": {
        "id": "OmvZYOLg67Pg",
        "colab": {
          "base_uri": "https://localhost:8080/"
        },
        "outputId": "e0c41460-d480-4822-d266-bcafaae9990e"
      },
      "source": [
        "# 4.3\n",
        "model.wv.most_similar(positive=[ 'king'], negative=['woman'])"
      ],
      "execution_count": 21,
      "outputs": [
        {
          "output_type": "execute_result",
          "data": {
            "text/plain": [
              "[('stephen', 0.44891202449798584),\n",
              " ('iii', 0.43700486421585083),\n",
              " ('hong', 0.41367438435554504),\n",
              " ('kings', 0.4029046893119812),\n",
              " ('conan', 0.4006439447402954),\n",
              " ('doyle', 0.4003871977329254),\n",
              " ('solomon', 0.39914470911026),\n",
              " ('lotr', 0.3912689685821533),\n",
              " ('luther', 0.3862456679344177),\n",
              " ('fleischer', 0.38413700461387634)]"
            ]
          },
          "metadata": {},
          "execution_count": 21
        }
      ]
    },
    {
      "cell_type": "code",
      "metadata": {
        "colab": {
          "base_uri": "https://localhost:8080/"
        },
        "id": "3lrbV7m1zFRN",
        "outputId": "2299c399-1676-4460-f7e6-b69306aa5780"
      },
      "source": [
        "# 4.4\n",
        "result = model.wv.most_similar(positive=['woman', 'uncle'], negative=['man'], topn=1)\n",
        "print(result)"
      ],
      "execution_count": 22,
      "outputs": [
        {
          "output_type": "stream",
          "name": "stdout",
          "text": [
            "[('aunt', 0.7528471350669861)]\n"
          ]
        }
      ]
    },
    {
      "cell_type": "code",
      "metadata": {
        "id": "MRvWqQ2t7y1R"
      },
      "source": [
        "#################### I am done #####################"
      ],
      "execution_count": null,
      "outputs": []
    }
  ]
}