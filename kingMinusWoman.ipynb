{
  "nbformat": 4,
  "nbformat_minor": 0,
  "metadata": {
    "colab": {
      "name": "kingMinuswoman.ipynb",
      "provenance": [],
      "collapsed_sections": [],
      "include_colab_link": true
    },
    "kernelspec": {
      "name": "python3",
      "display_name": "Python 3"
    }
  },
  "cells": [
    {
      "cell_type": "markdown",
      "metadata": {
        "id": "view-in-github",
        "colab_type": "text"
      },
      "source": [
        "<a href=\"https://colab.research.google.com/github/harnalashok/deeplearning-sequences/blob/main/kingMinusWoman.ipynb\" target=\"_parent\"><img src=\"https://colab.research.google.com/assets/colab-badge.svg\" alt=\"Open In Colab\"/></a>"
      ]
    },
    {
      "cell_type": "code",
      "metadata": {
        "id": "dO2ZOygCxMQp"
      },
      "source": [
        "\"\"\"\r\n",
        "Last amended: 14th March, 2021\r\n",
        "Folder: C:\\Users\\ashok\\OneDrive\\Documents\\bagOfWordsMeetsBagofPopcorn\\smallexpt\r\n",
        "\t    \t/home/ashok/Documents/9.word2vec\r\n",
        "\r\n",
        "Kaggle:\r\n",
        "    https://www.kaggle.com/c/word2vec-nlp-tutorial/details/part-2-word-vectors\r\n",
        "Analytics Vidhya:    \r\n",
        "    https://www.analyticsvidhya.com/blog/2017/06/word-embeddings-count-word2veec/\r\n",
        "    \r\n",
        "Objective:\r\n",
        "    Experimentation with pre-created word2vec file\r\n",
        "    Works with gensim 3.8.3\r\n",
        "    \r\n",
        "\"\"\""
      ],
      "execution_count": null,
      "outputs": []
    },
    {
      "cell_type": "code",
      "metadata": {
        "id": "3nAjcZstvywH"
      },
      "source": [
        "# 1. Reset variables. Import module to manipulate word2vec files\r\n",
        "#%reset -f\r\n",
        "import gensim\r\n",
        "import gensim.downloader as api\r\n",
        "gensim.__version__   # 3.8.3"
      ],
      "execution_count": null,
      "outputs": []
    },
    {
      "cell_type": "code",
      "metadata": {
        "id": "bo7BUO6wxYwV"
      },
      "source": [
        "# 1.1 Download vector model. Takes time\r\n",
        "#     But even if part is downloaded, it will work\r\n",
        "#     Downloaded model is in memory NOT on disk\r\n",
        "\r\n",
        "model = api.load('word2vec-google-news-300')"
      ],
      "execution_count": 24,
      "outputs": []
    },
    {
      "cell_type": "code",
      "metadata": {
        "id": "3AgCt85Y557U",
        "outputId": "8ba63733-2150-4c22-b391-120a5e5796c3",
        "colab": {
          "base_uri": "https://localhost:8080/",
          "height": 93
        }
      },
      "source": [
        "# 2.0\r\n",
        "model.doesnt_match(\"man woman child kitchen\".split())   # 'kitchen'"
      ],
      "execution_count": 25,
      "outputs": [
        {
          "output_type": "stream",
          "text": [
            "/root/.local/lib/python3.7/site-packages/gensim/models/keyedvectors.py:877: FutureWarning: arrays to stack must be passed as a \"sequence\" type such as list or tuple. Support for non-sequence iterables such as generators is deprecated as of NumPy 1.16 and will raise an error in the future.\n",
            "  vectors = vstack(self.word_vec(word, use_norm=True) for word in used_words).astype(REAL)\n"
          ],
          "name": "stderr"
        },
        {
          "output_type": "execute_result",
          "data": {
            "application/vnd.google.colaboratory.intrinsic+json": {
              "type": "string"
            },
            "text/plain": [
              "'kitchen'"
            ]
          },
          "metadata": {
            "tags": []
          },
          "execution_count": 25
        }
      ]
    },
    {
      "cell_type": "code",
      "metadata": {
        "id": "SU4YiLc46g5w",
        "outputId": "62b0dbcb-35f7-4431-9d0c-7b36c514893d",
        "colab": {
          "base_uri": "https://localhost:8080/",
          "height": 93
        }
      },
      "source": [
        "# 2.1\r\n",
        "model.doesnt_match(\"man woman child cow\".split())   # cow\r\n"
      ],
      "execution_count": 26,
      "outputs": [
        {
          "output_type": "stream",
          "text": [
            "/root/.local/lib/python3.7/site-packages/gensim/models/keyedvectors.py:877: FutureWarning: arrays to stack must be passed as a \"sequence\" type such as list or tuple. Support for non-sequence iterables such as generators is deprecated as of NumPy 1.16 and will raise an error in the future.\n",
            "  vectors = vstack(self.word_vec(word, use_norm=True) for word in used_words).astype(REAL)\n"
          ],
          "name": "stderr"
        },
        {
          "output_type": "execute_result",
          "data": {
            "application/vnd.google.colaboratory.intrinsic+json": {
              "type": "string"
            },
            "text/plain": [
              "'cow'"
            ]
          },
          "metadata": {
            "tags": []
          },
          "execution_count": 26
        }
      ]
    },
    {
      "cell_type": "code",
      "metadata": {
        "id": "HBaVt7UZ6jyJ",
        "outputId": "c3b5a658-3a4d-4015-c641-ef6f85f7cc8d",
        "colab": {
          "base_uri": "https://localhost:8080/",
          "height": 93
        }
      },
      "source": [
        "# 2.2\r\n",
        "model.doesnt_match(\"france england germany berlin\".split())   # berlin\r\n"
      ],
      "execution_count": 27,
      "outputs": [
        {
          "output_type": "stream",
          "text": [
            "/root/.local/lib/python3.7/site-packages/gensim/models/keyedvectors.py:877: FutureWarning: arrays to stack must be passed as a \"sequence\" type such as list or tuple. Support for non-sequence iterables such as generators is deprecated as of NumPy 1.16 and will raise an error in the future.\n",
            "  vectors = vstack(self.word_vec(word, use_norm=True) for word in used_words).astype(REAL)\n"
          ],
          "name": "stderr"
        },
        {
          "output_type": "execute_result",
          "data": {
            "application/vnd.google.colaboratory.intrinsic+json": {
              "type": "string"
            },
            "text/plain": [
              "'berlin'"
            ]
          },
          "metadata": {
            "tags": []
          },
          "execution_count": 27
        }
      ]
    },
    {
      "cell_type": "code",
      "metadata": {
        "id": "0pBkf1hp6lCb",
        "outputId": "21c93739-205a-40c6-855c-d0110317b95c",
        "colab": {
          "base_uri": "https://localhost:8080/",
          "height": 93
        }
      },
      "source": [
        "# 2.3\r\n",
        "model.doesnt_match(\"paris berlin london austria\".split())   # austria\r\n"
      ],
      "execution_count": 28,
      "outputs": [
        {
          "output_type": "stream",
          "text": [
            "/root/.local/lib/python3.7/site-packages/gensim/models/keyedvectors.py:877: FutureWarning: arrays to stack must be passed as a \"sequence\" type such as list or tuple. Support for non-sequence iterables such as generators is deprecated as of NumPy 1.16 and will raise an error in the future.\n",
            "  vectors = vstack(self.word_vec(word, use_norm=True) for word in used_words).astype(REAL)\n"
          ],
          "name": "stderr"
        },
        {
          "output_type": "execute_result",
          "data": {
            "application/vnd.google.colaboratory.intrinsic+json": {
              "type": "string"
            },
            "text/plain": [
              "'austria'"
            ]
          },
          "metadata": {
            "tags": []
          },
          "execution_count": 28
        }
      ]
    },
    {
      "cell_type": "code",
      "metadata": {
        "id": "iZ_-YZnr6qVg",
        "outputId": "5c3faf33-4992-4bb5-a30b-95e57440ddb0",
        "colab": {
          "base_uri": "https://localhost:8080/"
        }
      },
      "source": [
        "# 3.0\r\n",
        "model.most_similar(\"man\")  \r\n"
      ],
      "execution_count": 29,
      "outputs": [
        {
          "output_type": "execute_result",
          "data": {
            "text/plain": [
              "[('woman', 0.7664012908935547),\n",
              " ('boy', 0.6824870109558105),\n",
              " ('teenager', 0.6586930155754089),\n",
              " ('teenage_girl', 0.6147903800010681),\n",
              " ('girl', 0.5921714305877686),\n",
              " ('suspected_purse_snatcher', 0.5716364979743958),\n",
              " ('robber', 0.5585119128227234),\n",
              " ('Robbery_suspect', 0.5584409236907959),\n",
              " ('teen_ager', 0.5549196600914001),\n",
              " ('men', 0.5489763021469116)]"
            ]
          },
          "metadata": {
            "tags": []
          },
          "execution_count": 29
        }
      ]
    },
    {
      "cell_type": "code",
      "metadata": {
        "id": "sOS6W9P66s7p",
        "outputId": "d65d4c56-3714-4808-8abc-e7d6de27aa24",
        "colab": {
          "base_uri": "https://localhost:8080/"
        }
      },
      "source": [
        "# 3.1\r\n",
        "model.most_similar(\"queen\")\r\n"
      ],
      "execution_count": 30,
      "outputs": [
        {
          "output_type": "execute_result",
          "data": {
            "text/plain": [
              "[('queens', 0.739944338798523),\n",
              " ('princess', 0.7070531845092773),\n",
              " ('king', 0.6510956883430481),\n",
              " ('monarch', 0.6383601427078247),\n",
              " ('very_pampered_McElhatton', 0.6357026100158691),\n",
              " ('Queen', 0.6163407564163208),\n",
              " ('NYC_anglophiles_aflutter', 0.6060680150985718),\n",
              " ('Queen_Consort', 0.592379629611969),\n",
              " ('princesses', 0.5908075571060181),\n",
              " ('royal', 0.5637185573577881)]"
            ]
          },
          "metadata": {
            "tags": []
          },
          "execution_count": 30
        }
      ]
    },
    {
      "cell_type": "code",
      "metadata": {
        "id": "iWlkwXt06v17",
        "outputId": "573258e6-7fcf-4296-9c22-f90bfcf55529",
        "colab": {
          "base_uri": "https://localhost:8080/"
        }
      },
      "source": [
        "# 3.2\r\n",
        "model.most_similar(\"awful\")\r\n"
      ],
      "execution_count": 31,
      "outputs": [
        {
          "output_type": "execute_result",
          "data": {
            "text/plain": [
              "[('horrible', 0.7597668170928955),\n",
              " ('terrible', 0.7478911876678467),\n",
              " ('dreadful', 0.7218177318572998),\n",
              " ('horrendous', 0.6970030069351196),\n",
              " ('horrid', 0.6720177531242371),\n",
              " ('atrocious', 0.6626646518707275),\n",
              " ('ugly', 0.6236302852630615),\n",
              " ('lousy', 0.6135216951370239),\n",
              " ('god_awful', 0.6096222400665283),\n",
              " ('abysmal', 0.6076565980911255)]"
            ]
          },
          "metadata": {
            "tags": []
          },
          "execution_count": 31
        }
      ]
    },
    {
      "cell_type": "code",
      "metadata": {
        "id": "aXVv6Nmo5eMZ",
        "outputId": "06c74601-8ab6-4ee6-e25e-4fda11303b22",
        "colab": {
          "base_uri": "https://localhost:8080/"
        }
      },
      "source": [
        "# 3.3\r\n",
        "model.most_similar(\"bank\")     # 'bank' has two meanings. River bank. Finance bank.\r\n"
      ],
      "execution_count": 32,
      "outputs": [
        {
          "output_type": "execute_result",
          "data": {
            "text/plain": [
              "[('banks', 0.7440759539604187),\n",
              " ('banking', 0.690161406993866),\n",
              " ('Bank', 0.6698698997497559),\n",
              " ('lender', 0.6342284679412842),\n",
              " ('banker', 0.6092953681945801),\n",
              " ('depositors', 0.6031531691551208),\n",
              " ('mortgage_lender', 0.5797975659370422),\n",
              " ('depositor', 0.5716428160667419),\n",
              " ('BofA', 0.5714625120162964),\n",
              " ('Citibank', 0.5589520335197449)]"
            ]
          },
          "metadata": {
            "tags": []
          },
          "execution_count": 32
        }
      ]
    },
    {
      "cell_type": "markdown",
      "metadata": {
        "id": "ZRjxCAgl7BLy"
      },
      "source": [
        "#### Maths with word2vec model. Two vectors get added and one subtracted.\r\n",
        "King – Man + Woman = ?"
      ]
    },
    {
      "cell_type": "code",
      "metadata": {
        "id": "y0_NqJG_vzug"
      },
      "source": [
        "# 4.0 Get vectors of few words\r\n",
        "vec_king = model['king']\r\n",
        "vec_man = model['man']\r\n",
        "vec_woman = model['woman']\r\n",
        "vec_queen = model['queen']"
      ],
      "execution_count": 33,
      "outputs": []
    },
    {
      "cell_type": "code",
      "metadata": {
        "colab": {
          "base_uri": "https://localhost:8080/"
        },
        "id": "pxqLL9fmyBXU",
        "outputId": "afae7b01-c594-48a7-8384-0607eb85c9f7"
      },
      "source": [
        "# 4.1\r\n",
        "result = model.most_similar(positive=['woman', 'king'], negative=['man'], topn=1)\r\n",
        "print(result)"
      ],
      "execution_count": 34,
      "outputs": [
        {
          "output_type": "stream",
          "text": [
            "[('queen', 0.7118192911148071)]\n"
          ],
          "name": "stdout"
        }
      ]
    },
    {
      "cell_type": "code",
      "metadata": {
        "id": "4Xcx0Z4Uyl_3",
        "outputId": "7972fc5d-7251-40e9-adf9-748d25b4ffb3",
        "colab": {
          "base_uri": "https://localhost:8080/"
        }
      },
      "source": [
        "# 4.2\r\n",
        "result = model.most_similar(positive=['woman', 'king'], negative=['man'], topn=3)\r\n",
        "print(result)"
      ],
      "execution_count": 36,
      "outputs": [
        {
          "output_type": "stream",
          "text": [
            "[('queen', 0.7118192911148071), ('monarch', 0.6189674139022827), ('princess', 0.5902431011199951)]\n"
          ],
          "name": "stdout"
        }
      ]
    },
    {
      "cell_type": "code",
      "metadata": {
        "id": "OmvZYOLg67Pg",
        "outputId": "b442d010-36a2-4ce1-f1f3-7bcf31a1a43d",
        "colab": {
          "base_uri": "https://localhost:8080/"
        }
      },
      "source": [
        "# 4.3\r\n",
        "model.most_similar(positive=[ 'king'], negative=['woman'])"
      ],
      "execution_count": 37,
      "outputs": [
        {
          "output_type": "execute_result",
          "data": {
            "text/plain": [
              "[('kings', 0.49835190176963806),\n",
              " ('undisputed_king', 0.3618259131908417),\n",
              " ('Critics_derisively_nicknamed', 0.358887255191803),\n",
              " ('Pansy_Ho_Chiu', 0.351207435131073),\n",
              " ('princes', 0.34939202666282654),\n",
              " ('kingdom', 0.34681668877601624),\n",
              " ('King', 0.34251007437705994),\n",
              " ('Savory_aromas_wafted', 0.34103357791900635),\n",
              " ('Zog', 0.3379712700843811),\n",
              " ('Rama_VII', 0.3353980779647827)]"
            ]
          },
          "metadata": {
            "tags": []
          },
          "execution_count": 37
        }
      ]
    },
    {
      "cell_type": "code",
      "metadata": {
        "colab": {
          "base_uri": "https://localhost:8080/"
        },
        "id": "3lrbV7m1zFRN",
        "outputId": "9367967a-beca-4e2b-eb07-9ca2b633f61f"
      },
      "source": [
        "# 4.4\r\n",
        "result = model.most_similar(positive=['woman', 'uncle'], negative=['man'], topn=1)\r\n",
        "print(result)"
      ],
      "execution_count": 38,
      "outputs": [
        {
          "output_type": "stream",
          "text": [
            "[('aunt', 0.8022665977478027)]\n"
          ],
          "name": "stdout"
        }
      ]
    },
    {
      "cell_type": "code",
      "metadata": {
        "id": "MRvWqQ2t7y1R"
      },
      "source": [
        "#################### I am done #####################"
      ],
      "execution_count": null,
      "outputs": []
    }
  ]
}