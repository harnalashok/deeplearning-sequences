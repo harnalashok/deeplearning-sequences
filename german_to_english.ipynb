{
  "nbformat": 4,
  "nbformat_minor": 0,
  "metadata": {
    "kernelspec": {
      "display_name": "Python 3",
      "language": "python",
      "name": "python3"
    },
    "language_info": {
      "codemirror_mode": {
        "name": "ipython",
        "version": 3
      },
      "file_extension": ".py",
      "mimetype": "text/x-python",
      "name": "python",
      "nbconvert_exporter": "python",
      "pygments_lexer": "ipython3",
      "version": "3.8.8"
    },
    "colab": {
      "name": "german_to_english.ipynb",
      "provenance": [],
      "collapsed_sections": [],
      "include_colab_link": true
    }
  },
  "cells": [
    {
      "cell_type": "markdown",
      "metadata": {
        "id": "view-in-github",
        "colab_type": "text"
      },
      "source": [
        "<a href=\"https://colab.research.google.com/github/harnalashok/deeplearning-sequences/blob/main/german_to_english.ipynb\" target=\"_parent\"><img src=\"https://colab.research.google.com/assets/colab-badge.svg\" alt=\"Open In Colab\"/></a>"
      ]
    },
    {
      "cell_type": "code",
      "metadata": {
        "id": "ARWTUCYLnXRa"
      },
      "source": [
        "# Last amended: 16th August, 2019\n",
        "# Myfolder: /home/ashok/Documents/germanToenglish\n",
        "# VM: lubuntu_deeplearning_II.vdi"
      ],
      "execution_count": null,
      "outputs": []
    },
    {
      "cell_type": "markdown",
      "metadata": {
        "id": "CKceCvP-nXRj"
      },
      "source": [
        "## Import Required Libraries"
      ]
    },
    {
      "cell_type": "code",
      "metadata": {
        "id": "Qhi43CqcnXRl"
      },
      "source": [
        "# https://medium.com/analytics-vidhya/a-must-read-nlp-tutorial-on-neural-machine-translation-the-technique-powering-google-translate-c5c8d97d7587\n",
        "# Use of Sparse Categorical Cross-entropy:\n",
        "#     https://www.dlology.com/blog/how-to-use-keras-sparse_categorical_crossentropy/?t=156531526256#rating-57  \n",
        "# Tab-delimited Bilingual Sentence Pairs \n",
        "#  Hindi--English:   http://www.manythings.org/anki/\n",
        "\n",
        "## Call libraries\n",
        "# 1.0 For data manipulation\n",
        "import numpy as np\n",
        "import pandas as pd\n",
        "\n",
        "# 1.1 For text cleaning\n",
        "import string\n",
        "import re\n",
        "\n",
        "# 1.2 For NN model building\n",
        "from tensorflow.keras.models import Sequential\n",
        "from tensorflow.keras.layers import Dense, LSTM, Embedding, RepeatVector, TimeDistributed\n",
        "from tensorflow.keras.callbacks import ModelCheckpoint\n",
        "from tensorflow.keras import optimizers\n",
        "\n",
        "# 1.3 For text processing\n",
        "from tensorflow.keras.preprocessing.text import Tokenizer\n",
        "from tensorflow.keras.preprocessing.sequence import pad_sequences\n",
        "\n",
        "# 1.4 For loading model\n",
        "from tensorflow.keras.models import load_model\n",
        "\n",
        "# 1.5 Misc & for plotting model\n",
        "import os, time\n",
        "import matplotlib.pyplot as plt\n",
        "\n",
        "# 2.0 Set some options\n",
        "# 2.1 Display graphs inline\n",
        "%matplotlib inline\n",
        "# 2.2 Display full pandas column\n",
        "pd.set_option('display.max_colwidth', 200)"
      ],
      "execution_count": 1,
      "outputs": []
    },
    {
      "cell_type": "code",
      "metadata": {
        "id": "T49Do0fvpiZY"
      },
      "source": [
        "from IPython.core.interactiveshell import InteractiveShell\n",
        "InteractiveShell.ast_node_interactivity = \"all\"\n"
      ],
      "execution_count": 2,
      "outputs": []
    },
    {
      "cell_type": "markdown",
      "metadata": {
        "id": "lFCsWvq3nXRm"
      },
      "source": [
        "__Download__ first the text file that contains English sentences and coresponding German sentence separated by tab (ie pairs of sentences. One pair per line) from [here](http://www.manythings.org/anki/deu-eng.zip). and extract this file \"deu.txt\" in your working directory."
      ]
    },
    {
      "cell_type": "markdown",
      "metadata": {
        "id": "U57HROgJnXRn"
      },
      "source": [
        "## Define functions to read data"
      ]
    },
    {
      "cell_type": "markdown",
      "metadata": {
        "id": "JYlpTbIknXRo"
      },
      "source": [
        "Our data is a text file of English-German sentence pairs. First we will read the file using the function defined below."
      ]
    },
    {
      "cell_type": "code",
      "metadata": {
        "id": "Bqqp_-n1nXRp"
      },
      "source": [
        "# 3.0 Define function to read raw text file\n",
        "#     and return full file as ONE string\n",
        "def read_text(filename):\n",
        "    # 3.1 Open the file, read only ('r') and text ('t') modes\n",
        "    file = open(filename, mode='rt', encoding='utf-8')\n",
        "    # 3.2 Read all text as one string\n",
        "    #     newlines are substituted by \\n \n",
        "    #     and tabs by \\t\n",
        "    text = file.read()\n",
        "    file.close()\n",
        "    return text"
      ],
      "execution_count": 3,
      "outputs": []
    },
    {
      "cell_type": "markdown",
      "metadata": {
        "id": "_hGtXOjInXRq"
      },
      "source": [
        "Now let's define a function to split the text into English-German pairs. Each pair is a list. So we have a list of lists. <br> Each pair is separated by '\\n'. So we first split on '\\n'. And then split each pair into English sentences and German sentences by splitting on '\\t'."
      ]
    },
    {
      "cell_type": "code",
      "metadata": {
        "id": "q_b6nurhnXRr"
      },
      "source": [
        "# 4. \n",
        "#    i) Split a string into multiple strings \n",
        "#       at newline, we get list of strings.\n",
        "#    ii) Then, split each string on tab and put \n",
        "#        both parts of split in a list.\n",
        "#\n",
        "#    Example text = 'Hi.\\tHallo!\\nHi.\\tGrüß Gott!\\nRun!\\tLauf!\\n'\n",
        "def to_lines(text):\n",
        "    # 4.1 Ist remove leading and trailing spaces strip()\n",
        "    #     then split it at newline\n",
        "    #     'Hi.\\tHallo!\\nHi.\\tGrüß Gott!\\nRun!\\tLauf!\\n' transforms to\n",
        "    #     ['Hi.\\tHallo!', 'Hi.\\tGrüß Gott!','Run!\\tLauf!']\n",
        "    sentences = text.strip().split('\\n')\n",
        "    # 4.2 Next split over tab to create two words. \n",
        "    #     This splitting creates an inner list\n",
        "    #     [['Hi.', 'Hallo!'], ['Hi.','Grüß Gott!]',['Run!','Lauf!']]\n",
        "    sentences = [i.split('\\t') for i in sentences]\n",
        "    return sentences "
      ],
      "execution_count": 4,
      "outputs": []
    },
    {
      "cell_type": "markdown",
      "metadata": {
        "id": "zsbT-3P1ocPp"
      },
      "source": [
        "## Mount gdrive"
      ]
    },
    {
      "cell_type": "code",
      "metadata": {
        "colab": {
          "base_uri": "https://localhost:8080/"
        },
        "id": "8UuJpvWCogiI",
        "outputId": "5478a936-1e29-429b-e33f-32777a3d71df"
      },
      "source": [
        "from google.colab import drive\n",
        "drive.mount('/gdrive')"
      ],
      "execution_count": 6,
      "outputs": [
        {
          "output_type": "stream",
          "name": "stdout",
          "text": [
            "Drive already mounted at /gdrive; to attempt to forcibly remount, call drive.mount(\"/gdrive\", force_remount=True).\n"
          ]
        }
      ]
    },
    {
      "cell_type": "code",
      "metadata": {
        "id": "oGOFDRgKovZo"
      },
      "source": [
        "# Path to data folder:\n",
        "pathToFolder = \"/gdrive/MyDrive/Colab_data_files/germantoenglish\""
      ],
      "execution_count": 7,
      "outputs": []
    },
    {
      "cell_type": "markdown",
      "metadata": {
        "id": "hJqFetvgnXRs"
      },
      "source": [
        "#### Read Data<br>\n",
        "Let us now read and look at the sentences"
      ]
    },
    {
      "cell_type": "code",
      "metadata": {
        "id": "G33vHuLdnXRs"
      },
      "source": [
        "# 5.0 Where is our file 'deu.txt'\n",
        "os.chdir(pathToFolder)\n",
        "# 5.1 Read it as a string\n",
        "#     It contains, line by line:\n",
        "#     english    german  pairs\n",
        "\n",
        "data = read_text(\"deu.txt\")"
      ],
      "execution_count": 8,
      "outputs": []
    },
    {
      "cell_type": "code",
      "metadata": {
        "colab": {
          "base_uri": "https://localhost:8080/"
        },
        "id": "TdWANvLPpHpZ",
        "outputId": "afa1a1b7-04d0-4eec-ef77-6a1a0842b204"
      },
      "source": [
        "# 5.2 Check\n",
        "print(type(data))        # Data is one very long string\n",
        "print(len(data))         # 12724556 characters\n",
        "print(data[:50])         # First 50 characters"
      ],
      "execution_count": 9,
      "outputs": [
        {
          "output_type": "stream",
          "name": "stdout",
          "text": [
            "<class 'str'>\n",
            "12724556\n",
            "Hi.\tHallo!\n",
            "Hi.\tGrüß Gott!\n",
            "Run!\tLauf!\n",
            "Wow!\tPotzdonn\n"
          ]
        }
      ]
    },
    {
      "cell_type": "code",
      "metadata": {
        "id": "AJobWjG5pyEH"
      },
      "source": [
        "# 6. Transform read file to a list of lists.\n",
        "#    Each inner list has [english  german] pair\n",
        "deu_eng = to_lines(data)\n"
      ],
      "execution_count": 10,
      "outputs": []
    },
    {
      "cell_type": "code",
      "metadata": {
        "colab": {
          "base_uri": "https://localhost:8080/"
        },
        "id": "xySh607xp1lI",
        "outputId": "81415c57-151a-4035-b0eb-7717734a133b"
      },
      "source": [
        "# 6.1 Check\n",
        "print(type(deu_eng))     # List\n",
        "print(len(deu_eng))      # Elements in the list: 176692\n"
      ],
      "execution_count": 13,
      "outputs": [
        {
          "output_type": "stream",
          "name": "stdout",
          "text": [
            "<class 'list'>\n",
            "176692\n",
            "[['Hi.', 'Hallo!'], ['Hi.', 'Grüß Gott!'], ['Run!', 'Lauf!'], ['Wow!', 'Potzdonner!'], ['Wow!', 'Donnerwetter!']]\n",
            "[['Tom lied.', 'Tom log.'], ['Tom lies.', 'Tom lügt.'], ['Tom lost.', 'Tom hat verloren.'], ['Tom paid.', 'Tom hat gezahlt.'], ['Tom quit.', 'Tom hat aufgehört.'], ['Tom swam.', 'Tom schwamm.'], ['Tom swam.', 'Tom ist geschwommen.'], ['Tom wept.', 'Tom weinte.'], [\"Tom's up.\", 'Tom ist auf.'], ['Too late.', 'Zu spät.']]\n"
          ]
        }
      ]
    },
    {
      "cell_type": "code",
      "metadata": {
        "id": "Ze4YePjnAeqA"
      },
      "source": [
        "print(deu_eng[:5])       # List of 5 elements or pairs\n",
        "print(deu_eng[400:410])  # List of lists"
      ],
      "execution_count": null,
      "outputs": []
    },
    {
      "cell_type": "code",
      "metadata": {
        "colab": {
          "base_uri": "https://localhost:8080/"
        },
        "id": "f0QelcjpnXRt",
        "outputId": "992a30f1-e5cd-47cb-c8be-58160a51b021"
      },
      "source": [
        "# 6.2 Convert the list to a numpy array \n",
        "#      We now have an array with feature \n",
        "#      [0] for english and feature [1] for german\n",
        "\n",
        "deu_eng = np.array(deu_eng)\n",
        "print(deu_eng.shape)     # (176692, 2)\n",
        "print(deu_eng[500,:])"
      ],
      "execution_count": 18,
      "outputs": [
        {
          "output_type": "stream",
          "name": "stdout",
          "text": [
            "(176692, 2)\n",
            "['Go for it.' 'Tue es.']\n"
          ]
        }
      ]
    },
    {
      "cell_type": "code",
      "metadata": {
        "colab": {
          "base_uri": "https://localhost:8080/"
        },
        "id": "gIE7n6Jpq1G4",
        "outputId": "cb786d80-1e0e-428b-f776-df2bfa05746a"
      },
      "source": [
        "# 6.2.1\n",
        "deu_eng[410:415]\n",
        "print(\"\\n---\")\n",
        "print(deu_eng[410:415, 0])     # List of english sentences\n",
        "print(\"\\n---\")\n",
        "print(deu_eng[410:415, 1])     # Corresponding list of german sentences"
      ],
      "execution_count": 21,
      "outputs": [
        {
          "output_type": "execute_result",
          "data": {
            "text/plain": [
              "array([['Trust me.', 'Vertraue mir.'],\n",
              "       ['Trust me.', 'Vertraut mir!'],\n",
              "       ['Trust me.', 'Vertrauen Sie mir!'],\n",
              "       ['Try hard.', 'Versuch es richtig!'],\n",
              "       ['Use this.', 'Nimm das hier!']], dtype='<U380')"
            ]
          },
          "metadata": {},
          "execution_count": 21
        },
        {
          "output_type": "stream",
          "name": "stdout",
          "text": [
            "\n",
            "---\n",
            "['Trust me.' 'Trust me.' 'Trust me.' 'Try hard.' 'Use this.']\n",
            "\n",
            "---\n",
            "['Vertraue mir.' 'Vertraut mir!' 'Vertrauen Sie mir!'\n",
            " 'Versuch es richtig!' 'Nimm das hier!']\n"
          ]
        }
      ]
    },
    {
      "cell_type": "markdown",
      "metadata": {
        "id": "0eYPCADOnXRu"
      },
      "source": [
        "The actual data contains over 150,000 sentence-pairs. However, we will use the first 50,000 sentence pairs only to reduce the training time of the model. You can change this number as per you system computation power."
      ]
    },
    {
      "cell_type": "code",
      "metadata": {
        "id": "7MbhANqNnXRu"
      },
      "source": [
        "# 6.3\n",
        "deu_eng = deu_eng[:50000,:]     # Our RAM and time is limited. Take less pairs"
      ],
      "execution_count": 22,
      "outputs": []
    },
    {
      "cell_type": "markdown",
      "metadata": {
        "id": "_dPZ7V0-nXRu"
      },
      "source": [
        "### Text Pre-Processing"
      ]
    },
    {
      "cell_type": "markdown",
      "metadata": {
        "id": "CwJEQ0xSnXRv"
      },
      "source": [
        "#### Text Cleaning\n",
        "\n",
        "Let's take a look at our data, then we will decide which pre-processing steps to adopt."
      ]
    },
    {
      "cell_type": "code",
      "metadata": {
        "scrolled": true,
        "colab": {
          "base_uri": "https://localhost:8080/"
        },
        "id": "0xvLZO-mnXRv",
        "outputId": "de31376b-fd84-42ec-cabb-b34be7829518"
      },
      "source": [
        "# 6.4\n",
        "deu_eng"
      ],
      "execution_count": 23,
      "outputs": [
        {
          "output_type": "execute_result",
          "data": {
            "text/plain": [
              "array([['Hi.', 'Hallo!'],\n",
              "       ['Hi.', 'Grüß Gott!'],\n",
              "       ['Run!', 'Lauf!'],\n",
              "       ...,\n",
              "       ['Mary has very long hair.', 'Maria hat sehr langes Haar.'],\n",
              "       [\"Mary is Tom's secretary.\", 'Maria ist Toms Sekretärin.'],\n",
              "       ['Mary is a married woman.', 'Maria ist eine verheiratete Frau.']],\n",
              "      dtype='<U380')"
            ]
          },
          "metadata": {},
          "execution_count": 23
        }
      ]
    },
    {
      "cell_type": "markdown",
      "metadata": {
        "id": "vXaRqrDcBf_q"
      },
      "source": [
        "#### Remove punctuation"
      ]
    },
    {
      "cell_type": "markdown",
      "metadata": {
        "id": "0HgNKL39nXRw"
      },
      "source": [
        "We will get rid of the punctuation marks, and then convert the text to lower case."
      ]
    },
    {
      "cell_type": "code",
      "metadata": {
        "id": "h3vCDIZ_rs64",
        "colab": {
          "base_uri": "https://localhost:8080/",
          "height": 110
        },
        "outputId": "d988c94d-1a9f-4e2a-b32e-2f5657cd1ac7"
      },
      "source": [
        "# 7.0 Remove punctuation\n",
        "# Ref: https://www.geeksforgeeks.org/python-maketrans-translate-functions/\n",
        "\"\"\"\n",
        "    Syntax : maketrans(str1, str2, str3)\n",
        "\n",
        "    Parameters :\n",
        "    str1 : Specifies the list of characters that need to be replaced.\n",
        "    str2 : Specifies the list of characters with which the characters need to be replaced.\n",
        "    str3 : Specifies the list of characters that needs to be deleted.\n",
        "\n",
        "    Returns : Returns the translation table which specifies the conversions that can be used by translate()\n",
        "              It returns a dictionary mapping Unicode integers to Unicode ordinals, strings or None.\n",
        "\n",
        "\"\"\"\n"
      ],
      "execution_count": 24,
      "outputs": [
        {
          "output_type": "execute_result",
          "data": {
            "application/vnd.google.colaboratory.intrinsic+json": {
              "type": "string"
            },
            "text/plain": [
              "'\\n    Syntax : maketrans(str1, str2, str3)\\n\\n    Parameters :\\n    str1 : Specifies the list of characters that need to be replaced.\\n    str2 : Specifies the list of characters with which the characters need to be replaced.\\n    str3 : Specifies the list of characters that needs to be deleted.\\n\\n    Returns : Returns the translation table which specifies the conversions that can be used by translate()\\n              It returns a dictionary mapping Unicode integers to Unicode ordinals, strings or None.\\n\\n'"
            ]
          },
          "metadata": {},
          "execution_count": 24
        }
      ]
    },
    {
      "cell_type": "code",
      "metadata": {
        "id": "wAfdvfYHzDeF",
        "colab": {
          "base_uri": "https://localhost:8080/"
        },
        "outputId": "c73dde0e-dcdb-48f9-cece-4ee2539557f2"
      },
      "source": [
        "s = \"this is a good book!\"\n",
        "str.maketrans('ig', 'wj', \"o\")"
      ],
      "execution_count": 25,
      "outputs": [
        {
          "output_type": "execute_result",
          "data": {
            "text/plain": [
              "{103: 106, 105: 119, 111: None}"
            ]
          },
          "metadata": {},
          "execution_count": 25
        }
      ]
    },
    {
      "cell_type": "code",
      "metadata": {
        "id": "TSIW1BNyzGS2",
        "colab": {
          "base_uri": "https://localhost:8080/",
          "height": 36
        },
        "outputId": "ce911272-b0e8-4eb7-e7de-eaa64ee31c4f"
      },
      "source": [
        "s.translate({103: 106, 105: 119, 111:None})"
      ],
      "execution_count": 26,
      "outputs": [
        {
          "output_type": "execute_result",
          "data": {
            "application/vnd.google.colaboratory.intrinsic+json": {
              "type": "string"
            },
            "text/plain": [
              "'thws ws a jd bk!'"
            ]
          },
          "metadata": {},
          "execution_count": 26
        }
      ]
    },
    {
      "cell_type": "code",
      "metadata": {
        "colab": {
          "base_uri": "https://localhost:8080/",
          "height": 54
        },
        "id": "mz8Z82yOzVd-",
        "outputId": "b2f97405-05bb-4f94-c958-bdfefd2f0ad9"
      },
      "source": [
        "print(string.punctuation)\n",
        "s = \"this , is ; a good book!\"\n",
        "s.translate(str.maketrans('', '', string.punctuation))"
      ],
      "execution_count": 27,
      "outputs": [
        {
          "output_type": "stream",
          "name": "stdout",
          "text": [
            "!\"#$%&'()*+,-./:;<=>?@[\\]^_`{|}~\n"
          ]
        },
        {
          "output_type": "execute_result",
          "data": {
            "application/vnd.google.colaboratory.intrinsic+json": {
              "type": "string"
            },
            "text/plain": [
              "'this  is  a good book'"
            ]
          },
          "metadata": {},
          "execution_count": 27
        }
      ]
    },
    {
      "cell_type": "code",
      "metadata": {
        "id": "YgrtKMC-nXRw"
      },
      "source": [
        "# 7.1  string.punctuation is python constant\n",
        "#conv_table = str.maketrans('', '', string.punctuation)    # Outputs  a dictinoary\n",
        "#conv_table    # Maps all unicode punctuation characters to None"
      ],
      "execution_count": null,
      "outputs": []
    },
    {
      "cell_type": "code",
      "metadata": {
        "id": "JG5ZqQO7sCF3"
      },
      "source": [
        "# 7.2 Clear English column\n",
        "\n",
        "#     From every element (string) of 1D array deu_eng[:,0], remove punctuation and collect\n",
        "#      all elements (strings) back into a list. Convert that list to 1D array\n",
        "\n",
        "deu_eng[:,0] = np.array([s.translate(str.maketrans('', '', string.punctuation)) for s in deu_eng[:,0]])"
      ],
      "execution_count": 28,
      "outputs": []
    },
    {
      "cell_type": "code",
      "metadata": {
        "colab": {
          "base_uri": "https://localhost:8080/"
        },
        "id": "YqcB0c7-nXRx",
        "outputId": "c0857d55-956a-4e4b-e516-7d5ee030b92f"
      },
      "source": [
        "# 7.3 Similarly for German column:\n",
        "\n",
        "deu_eng[:,1] = np.array([s.translate(str.maketrans('', '', string.punctuation)) for s in deu_eng[:,1]])\n",
        "\n",
        "# 7.4\n",
        "deu_eng[:4, :]"
      ],
      "execution_count": 29,
      "outputs": [
        {
          "output_type": "execute_result",
          "data": {
            "text/plain": [
              "array([['Hi', 'Hallo'],\n",
              "       ['Hi', 'Grüß Gott'],\n",
              "       ['Run', 'Lauf'],\n",
              "       ['Wow', 'Potzdonner']], dtype='<U380')"
            ]
          },
          "metadata": {},
          "execution_count": 29
        }
      ]
    },
    {
      "cell_type": "markdown",
      "metadata": {
        "id": "Y-qwsUflCtGW"
      },
      "source": [
        "#### Lowercase conversion"
      ]
    },
    {
      "cell_type": "code",
      "metadata": {
        "scrolled": true,
        "id": "L_KNO_ETnXRx"
      },
      "source": [
        "# 7.5 Convert both to lowercase:\n",
        "for i in range(len(deu_eng)):\n",
        "    deu_eng[i,0] = deu_eng[i,0].lower()\n",
        "    deu_eng[i,1] = deu_eng[i,1].lower()"
      ],
      "execution_count": 30,
      "outputs": []
    },
    {
      "cell_type": "code",
      "metadata": {
        "colab": {
          "base_uri": "https://localhost:8080/"
        },
        "id": "oJ6G-pM3nXRx",
        "outputId": "409bcb6f-5dd4-4419-c789-7a1265497e49"
      },
      "source": [
        "# 7.6\n",
        "print(deu_eng[:4, 0])     # Column with index 0, 1D array of English sentences\n",
        "print(deu_eng[:4, 1])     # Column with index 1, 1D array of German sentences"
      ],
      "execution_count": 31,
      "outputs": [
        {
          "output_type": "stream",
          "name": "stdout",
          "text": [
            "['hi' 'hi' 'run' 'wow']\n",
            "['hallo' 'grüß gott' 'lauf' 'potzdonner']\n"
          ]
        }
      ]
    },
    {
      "cell_type": "markdown",
      "metadata": {
        "id": "zWfsoqZJnXRy"
      },
      "source": [
        "#### Text to Sequence Conversion\n",
        "\n",
        "To feed our data in a Seq2Seq model, we will have to convert both the input and the output sentences into integer sequences of fixed length. Before that, let's visualise the length of the sentences. We will capture the lengths of all the sentences in two separate lists for English and German, respectively."
      ]
    },
    {
      "cell_type": "markdown",
      "metadata": {
        "id": "5NSBIfRtDLC3"
      },
      "source": [
        "##### What is our sentence length?"
      ]
    },
    {
      "cell_type": "code",
      "metadata": {
        "id": "dYycZezKnXRy"
      },
      "source": [
        "# 8.0 Empty lists to store sequence length in each column\n",
        "eng_l = []       # For english sentences\n",
        "deu_l = []       # For german sentences\n",
        "\n",
        "# 8.1 Populate the lists with sentence lengths\n",
        "#     English column\n",
        "for i in deu_eng[:,0]:\n",
        "    eng_l.append(len(i.split()))\n",
        "    \n",
        "# 8.2 German column\n",
        "for i in deu_eng[:,1]:\n",
        "    deu_l.append(len(i.split()))"
      ],
      "execution_count": null,
      "outputs": []
    },
    {
      "cell_type": "code",
      "metadata": {
        "colab": {
          "base_uri": "https://localhost:8080/",
          "height": 206
        },
        "id": "BHowIdaXnXRy",
        "outputId": "0b25ff57-2e47-4bce-b3f6-e09e2ac9fcf8"
      },
      "source": [
        "# 8.3 Create a dataframe of these length\n",
        "length_df = pd.DataFrame({'eng':eng_l, 'deu':deu_l})\n",
        "length_df.head()"
      ],
      "execution_count": null,
      "outputs": [
        {
          "output_type": "execute_result",
          "data": {
            "text/html": [
              "<div>\n",
              "<style scoped>\n",
              "    .dataframe tbody tr th:only-of-type {\n",
              "        vertical-align: middle;\n",
              "    }\n",
              "\n",
              "    .dataframe tbody tr th {\n",
              "        vertical-align: top;\n",
              "    }\n",
              "\n",
              "    .dataframe thead th {\n",
              "        text-align: right;\n",
              "    }\n",
              "</style>\n",
              "<table border=\"1\" class=\"dataframe\">\n",
              "  <thead>\n",
              "    <tr style=\"text-align: right;\">\n",
              "      <th></th>\n",
              "      <th>eng</th>\n",
              "      <th>deu</th>\n",
              "    </tr>\n",
              "  </thead>\n",
              "  <tbody>\n",
              "    <tr>\n",
              "      <th>0</th>\n",
              "      <td>1</td>\n",
              "      <td>1</td>\n",
              "    </tr>\n",
              "    <tr>\n",
              "      <th>1</th>\n",
              "      <td>1</td>\n",
              "      <td>2</td>\n",
              "    </tr>\n",
              "    <tr>\n",
              "      <th>2</th>\n",
              "      <td>1</td>\n",
              "      <td>1</td>\n",
              "    </tr>\n",
              "    <tr>\n",
              "      <th>3</th>\n",
              "      <td>1</td>\n",
              "      <td>1</td>\n",
              "    </tr>\n",
              "    <tr>\n",
              "      <th>4</th>\n",
              "      <td>1</td>\n",
              "      <td>1</td>\n",
              "    </tr>\n",
              "  </tbody>\n",
              "</table>\n",
              "</div>"
            ],
            "text/plain": [
              "   eng  deu\n",
              "0    1    1\n",
              "1    1    2\n",
              "2    1    1\n",
              "3    1    1\n",
              "4    1    1"
            ]
          },
          "metadata": {},
          "execution_count": 34
        }
      ]
    },
    {
      "cell_type": "code",
      "metadata": {
        "colab": {
          "base_uri": "https://localhost:8080/",
          "height": 336
        },
        "id": "320DTRxfnXRz",
        "outputId": "49edd1ed-592f-4153-ec41-369d723e331a"
      },
      "source": [
        "# 8.4 Let us look at the overall distribution of lengths\n",
        "#     in the two languages. We can then decide cut-off length\n",
        "length_df.hist(bins = 30)\n",
        "plt.show()"
      ],
      "execution_count": null,
      "outputs": [
        {
          "output_type": "execute_result",
          "data": {
            "text/plain": [
              "array([[<matplotlib.axes._subplots.AxesSubplot object at 0x7fa92463f450>,\n",
              "        <matplotlib.axes._subplots.AxesSubplot object at 0x7fa92474fa90>]],\n",
              "      dtype=object)"
            ]
          },
          "metadata": {},
          "execution_count": 35
        },
        {
          "output_type": "display_data",
          "data": {
            "image/png": "[encoded data removed]",
            "text/plain": [
              "<Figure size 432x288 with 2 Axes>"
            ]
          },
          "metadata": {
            "needs_background": "light"
          }
        }
      ]
    },
    {
      "cell_type": "markdown",
      "metadata": {
        "id": "JJtFXmbonXR0"
      },
      "source": [
        "The maximum length of the German sentences is 11 and that of the English phrases is 8. We will keep both as 8."
      ]
    },
    {
      "cell_type": "markdown",
      "metadata": {
        "id": "nnwUn4VmDSMe"
      },
      "source": [
        "##### Vectorize now"
      ]
    },
    {
      "cell_type": "markdown",
      "metadata": {
        "id": "a_HDCe19nXR0"
      },
      "source": [
        "Let's vectorize our text data by using Keras's Tokenizer() class. It will turn our sentences into sequences of integers. Then we will pad those sequences with zeros to make all the sequences of same length."
      ]
    },
    {
      "cell_type": "markdown",
      "metadata": {
        "id": "qZ5_BHbkE5rh"
      },
      "source": [
        "By default, all punctuation is removed, turning the texts into space-separated sequences of words (words maybe include the ' character). These sequences are then split into lists of tokens. They will then be indexed or vectorized. \n",
        "\n",
        "0 is a reserved index that won't be assigned to any word."
      ]
    },
    {
      "cell_type": "code",
      "metadata": {
        "id": "xJoDP2zMsUY_"
      },
      "source": [
        "\"\"\"\n",
        "Ref: https://www.tensorflow.org/api_docs/python/tf/keras/preprocessing/text/Tokenizer\n",
        "Tokenizer(\n",
        "          num_words=None,                                     # the maximum number of words to\n",
        "                                                              #   keep, based on word frequency. \n",
        "                                                              #     Only the most common num_words-1 \n",
        "                                                              #       words will be kept. \n",
        "          filters='!\"#$%&()*+,-./:;<=>?@[\\\\]^_`{|}~\\t\\n',     # a string where each element is a char \n",
        "                                                              #  that will be filtered from the texts.\n",
        "                                                              #    The default is all punctuation, plus\n",
        "                                                              #      tabs and line breaks, minus the ' char\n",
        "          lower=True,                                         # Convert text to lowercase\n",
        "          split=' ',                                          # Separator for word splitting\n",
        "          char_level=False,                                   # If True, every char will be treated as token\n",
        "          oov_token=None,                                     # if given, it will be added to word_index and \n",
        "                                                              #   used to replace out-of-vocabulary words \n",
        "                                                              #     during text_to_sequence calls \n",
        "          document_count=0\n",
        "          )\n",
        "\n",
        "\"\"\""
      ],
      "execution_count": null,
      "outputs": []
    },
    {
      "cell_type": "code",
      "metadata": {
        "id": "saKJzfB942Ym",
        "colab": {
          "base_uri": "https://localhost:8080/"
        },
        "outputId": "bb5b70c2-5ca2-4264-9417-8f7affaf927d"
      },
      "source": [
        "# 6.3 Train tokenizer\n",
        "#     https://www.tensorflow.org/api_docs/python/tf/keras/preprocessing/text/Tokenizer\n",
        "#     Tokenizer filters punctuation, tabs and line-breaks\n",
        "#\n",
        "%%time\n",
        "\n",
        "tok_eng = Tokenizer()                # Create Tokenizer() object\n",
        "tok_eng.fit_on_texts(deu_eng[:, 1])  # Just training. No transformation as yet\n"
      ],
      "execution_count": 32,
      "outputs": [
        {
          "output_type": "stream",
          "name": "stdout",
          "text": [
            "CPU times: user 649 ms, sys: 0 ns, total: 649 ms\n",
            "Wall time: 653 ms\n"
          ]
        }
      ]
    },
    {
      "cell_type": "code",
      "metadata": {
        "colab": {
          "base_uri": "https://localhost:8080/"
        },
        "id": "9AauCfgiGekx",
        "outputId": "2cd5b3dd-6a0b-4b25-8e51-fa3380a7741f"
      },
      "source": [
        "# 6.3.1\n",
        "\n",
        "%%time\n",
        "\n",
        "tok_ger = Tokenizer()                # Create Tokenizer() object\n",
        "tok_ger.fit_on_texts(deu_eng[:, 1])  # Just training. No transformation as yet\n"
      ],
      "execution_count": 33,
      "outputs": [
        {
          "output_type": "stream",
          "name": "stdout",
          "text": [
            "CPU times: user 647 ms, sys: 0 ns, total: 647 ms\n",
            "Wall time: 650 ms\n"
          ]
        }
      ]
    },
    {
      "cell_type": "code",
      "metadata": {
        "id": "AS27MmZPJOC5"
      },
      "source": [
        "# Decide max length of sequences:\n",
        "\n",
        "eng_length = 8\n",
        "deu_length = 8      # Could have been 11"
      ],
      "execution_count": 34,
      "outputs": []
    },
    {
      "cell_type": "code",
      "metadata": {
        "id": "kpGaX-P-sb9f",
        "colab": {
          "base_uri": "https://localhost:8080/"
        },
        "outputId": "494f7cb0-819c-4f24-a0a4-ce3f383f5e4d"
      },
      "source": [
        "# 10.1 Let us look at some attributes of eng_tokenizer object. \n",
        "#      Most of them are dictioanries.\n",
        "\n",
        "print(tok_eng)                      # Output:  <keras_preprocessing.text.Tokenizer at 0x7fe5954012e8>\n",
        "print(tok_eng.document_count)       # How many documents trained on: 50000\n",
        "print(tok_eng.word_index)           # A dictionary \n",
        "\n",
        "#list(tok_eng.word_counts.items())[:4] # Count of each word during fit [('hi', 20),('run', 93),('wow', 8),('fire', 49)]\n",
        "#list(tok_eng.word_index.items())[:10] #  Index/ranking of each word [('tom', 1),('i', 2),('you', 3),...\n",
        "#list(tok_eng.word_docs.items())[:3]   # Word appeared in how many documents? [('hi', 20),('run', 93),('wow', 8)]"
      ],
      "execution_count": 36,
      "outputs": [
        {
          "output_type": "stream",
          "name": "stdout",
          "text": [
            "<keras_preprocessing.text.Tokenizer object at 0x7f2b608a0410>\n",
            "50000\n",
            "{'ich': 1, 'tom': 2, 'ist': 3, 'das': 4, 'sie': 5, 'nicht': 6, 'es': 7, 'du': 8, 'er': 9, 'hat': 10, 'wir': 11, 'ein': 12, 'zu': 13, 'habe': 14, 'mir': 15, 'die': 16, 'bin': 17, 'mich': 18, 'sind': 19, 'war': 20, 'was': 21, 'ihr': 22, 'auf': 23, 'kann': 24, 'dich': 25, 'eine': 26, 'wie': 27, 'sich': 28, 'haben': 29, 'in': 30, 'hier': 31, 'der': 32, 'uns': 33, 'an': 34, 'einen': 35, 'aus': 36, 'bist': 37, 'hast': 38, 'sein': 39, 'dir': 40, 'sehr': 41, 'mit': 42, 'den': 43, 'gut': 44, 'dass': 45, 'werde': 46, 'mein': 47, 'gehen': 48, 'meine': 49, 'wird': 50, 'noch': 51, 'für': 52, 'warum': 53, 'ihn': 54, 'nach': 55, 'so': 56, 'wo': 57, 'bitte': 58, 'mag': 59, 'euch': 60, 'will': 61, 'weiß': 62, 'muss': 63, 'wer': 64, 'jetzt': 65, 'da': 66, 'kein': 67, 'keine': 68, 'können': 69, 'hause': 70, 'um': 71, 'tun': 72, 'geht': 73, 'machen': 74, 'maria': 75, 'wurde': 76, 'werden': 77, 'deine': 78, 'etwas': 79, 'von': 80, 'im': 81, 'nichts': 82, 'alle': 83, 'dem': 84, 'dein': 85, 'mal': 86, 'kannst': 87, 'schon': 88, 'lass': 89, 'gerne': 90, 'sehen': 91, 'viel': 92, 'gerade': 93, 'buch': 94, 'gesehen': 95, 'und': 96, 'auto': 97, 'helfen': 98, 'möchte': 99, 'heute': 100, 'hatte': 101, 'ihnen': 102, 'ihm': 103, 'habt': 104, 'nie': 105, 'gemacht': 106, 'immer': 107, 'sieht': 108, 'niemand': 109, 'vor': 110, 'einfach': 111, 'toms': 112, 'diese': 113, 'nur': 114, 'macht': 115, 'mehr': 116, 'kommen': 117, 'seid': 118, 'geld': 119, 'dieses': 120, 'alles': 121, 'liebe': 122, 'wieder': 123, 'dort': 124, 'hund': 125, 'ihre': 126, 'zeit': 127, 'glücklich': 128, 'gehört': 129, 'wirklich': 130, 'meinen': 131, 'kommt': 132, 'weg': 133, 'auch': 134, 'arbeit': 135, 'seine': 136, 'mach': 137, 'komm': 138, 'leben': 139, 'brauche': 140, 'gesagt': 141, 'zum': 142, 'ab': 143, 'ging': 144, 'bei': 145, 'willst': 146, 'müssen': 147, 'wann': 148, 'essen': 149, 'recht': 150, 'dieser': 151, 'keinen': 152, 'sah': 153, 'zurück': 154, 'würde': 155, 'getan': 156, 'lassen': 157, 'wissen': 158, 'allein': 159, 'sagen': 160, 'schnell': 161, 'darf': 162, 'gib': 163, 'vater': 164, 'man': 165, 'kam': 166, 'gehe': 167, 'französisch': 168, 'beschäftigt': 169, 'als': 170, 'boston': 171, 'könnte': 172, 'glaube': 173, 'gern': 174, 'sei': 175, 'uhr': 176, 'tag': 177, 'verloren': 178, 'zimmer': 179, 'geh': 180, 'angst': 181, 'mann': 182, 'gefunden': 183, 'am': 184, 'waren': 185, 'sicher': 186, 'scheint': 187, 'denke': 188, 'lasst': 189, 'mary': 190, 'bleiben': 191, 'wollen': 192, 'tür': 193, 'tut': 194, 'wirst': 195, 'müde': 196, 'komme': 197, 'ganz': 198, 'vielleicht': 199, 'haus': 200, 'gekommen': 201, 'einmal': 202, 'gefällt': 203, 'sprechen': 204, 'schule': 205, 'gegangen': 206, 'gefallen': 207, 'brauchen': 208, 'gibt': 209, 'musst': 210, 'hilfe': 211, 'zur': 212, 'gab': 213, 'besser': 214, 'wollte': 215, 'hör': 216, 'nehmen': 217, 'alt': 218, 'guter': 219, 'doch': 220, 'sagte': 221, 'wäre': 222, 'hin': 223, 'geben': 224, 'hätte': 225, 'liebt': 226, 'morgen': 227, 'mache': 228, 'kenne': 229, 'bald': 230, 'einer': 231, 'über': 232, 'spät': 233, 'gute': 234, 'mutter': 235, 'groß': 236, 'krank': 237, 'danke': 238, 'fertig': 239, 'davon': 240, 'gekauft': 241, 'katze': 242, 'warten': 243, 'wusste': 244, 'wahr': 245, 'siehst': 246, 'fahren': 247, 'lange': 248, 'weiter': 249, 'ins': 250, 'freund': 251, 'augen': 252, 'spaß': 253, 'kinder': 254, 'diesen': 255, 'deinen': 256, 'schön': 257, 'hoffe': 258, 'selbst': 259, 'los': 260, 'hören': 261, 'kalt': 262, 'braucht': 263, 'ziemlich': 264, 'sollte': 265, 'sag': 266, 'sagt': 267, 'schau': 268, 'damit': 269, 'schwimmen': 270, 'jemand': 271, 'dies': 272, 'ja': 273, 'heiß': 274, 'hasse': 275, 'mögen': 276, 'weh': 277, 'seinen': 278, 'magst': 279, 'drei': 280, 'zwei': 281, 'reich': 282, 'mädchen': 283, 'konnte': 284, 'reden': 285, 'junge': 286, 'wasser': 287, 'oft': 288, 'frau': 289, 'eure': 290, 'spielen': 291, 'nimm': 292, 'her': 293, 'bett': 294, 'wagen': 295, 'einem': 296, 'gegessen': 297, 'bekommen': 298, 'arbeiten': 299, 'könnt': 300, 'lesen': 301, 'familie': 302, 'steht': 303, 'draußen': 304, 'weißt': 305, 'jeder': 306, 'bruder': 307, 'arbeitet': 308, 'treffen': 309, 'gegeben': 310, 'bücher': 311, 'weinen': 312, 'meinem': 313, 'getroffen': 314, 'versuchen': 315, 'problem': 316, 'bus': 317, 'neues': 318, 'fast': 319, 'zusammen': 320, 'schlüssel': 321, 'unsere': 322, 'verrückt': 323, 'oder': 324, 'schuld': 325, 'kaffee': 326, 'bisschen': 327, 'idee': 328, 'passiert': 329, 'bier': 330, 'keiner': 331, 'viele': 332, 'singen': 333, 'fahrrad': 334, 'schlecht': 335, 'fragen': 336, 'finden': 337, 'sehe': 338, 'geschichte': 339, 'fühle': 340, 'hörte': 341, 'daran': 342, 'soll': 343, 'darüber': 344, 'wenn': 345, 'leid': 346, 'dazu': 347, 'lernen': 348, 'hut': 349, 'gestern': 350, 'vergessen': 351, 'isst': 352, 'machte': 353, 'englisch': 354, 'frage': 355, 'halte': 356, 'große': 357, 'leicht': 358, 'gleich': 359, 'hunger': 360, 'freunde': 361, 'raus': 362, 'wütend': 363, 'kennt': 364, 'ernst': 365, 'angerufen': 366, 'fehler': 367, 'spricht': 368, 'falsch': 369, 'plan': 370, 'überhaupt': 371, 'ordnung': 372, 'versucht': 373, 'tu': 374, 'jeden': 375, 'nacht': 376, 'dafür': 377, 'großartig': 378, 'kaum': 379, 'unser': 380, 'sollten': 381, 'nahm': 382, 'sterben': 383, 'bereit': 384, 'stimme': 385, 'nehme': 386, 'schwer': 387, 'kind': 388, 'glauben': 389, 'denn': 390, 'verstehe': 391, 'frei': 392, 'bring': 393, 'beide': 394, 'stimmt': 395, 'unter': 396, 'liegt': 397, 'abend': 398, 'schien': 399, 'später': 400, 'euer': 401, 'ließ': 402, 'dachte': 403, 'sohn': 404, 'ihren': 405, 'gewonnen': 406, 'neu': 407, 'verlassen': 408, 'still': 409, 'hungrig': 410, 'hört': 411, 'haare': 412, 'nett': 413, 'schlafen': 414, 'ruhig': 415, 'tee': 416, 'kennen': 417, 'vorbei': 418, 'sonst': 419, 'solltest': 420, 'wort': 421, 'namen': 422, 'wohl': 423, 'setzen': 424, 'aufhören': 425, 'zufrieden': 426, 'worden': 427, 'leute': 428, 'mitgebracht': 429, 'hände': 430, 'böse': 431, 'lebt': 432, 'lustig': 433, 'lieben': 434, 'kuchen': 435, 'freude': 436, 'fühlte': 437, 'genug': 438, 'fing': 439, 'schwester': 440, 'hab': 441, 'vom': 442, 'langsam': 443, 'verletzt': 444, 'jung': 445, 'geworden': 446, 'welche': 447, 'wohnt': 448, 'schuhe': 449, 'gestorben': 450, 'glück': 451, 'holen': 452, 'dorthin': 453, 'antwort': 454, 'fenster': 455, 'läuft': 456, 'dabei': 457, 'gar': 458, 'okay': 459, 'tot': 460, 'kommst': 461, 'gehst': 462, 'freue': 463, 'laufen': 464, 'hierher': 465, 'gewinnen': 466, 'verärgert': 467, 'weit': 468, 'mensch': 469, 'milch': 470, 'kennst': 471, 'trinken': 472, 'arzt': 473, 'lehrer': 474, 'wem': 475, 'großer': 476, 'wünschte': 477, 'früh': 478, 'lieber': 479, 'entscheidung': 480, 'wessen': 481, 'rannte': 482, 'blieb': 483, 'richtig': 484, 'katzen': 485, 'fisch': 486, 'witz': 487, 'geschrieben': 488, 'aufhalten': 489, 'woche': 490, 'wach': 491, 'bis': 492, 'froh': 493, 'esse': 494, 'sollen': 495, 'warst': 496, 'platz': 497, 'warte': 498, 'süß': 499, 'stehen': 500, 'hunde': 501, 'rein': 502, 'kochen': 503, 'fuß': 504, 'betrunken': 505, 'höre': 506, 'kaufen': 507, 'sage': 508, 'sorgen': 509, 'genau': 510, 'machst': 511, 'spiel': 512, 'brauchst': 513, 'beim': 514, 'brief': 515, 'arm': 516, 'seien': 517, 'traurig': 518, 'nein': 519, 'sofort': 520, 'rauchen': 521, 'völlig': 522, 'hoffnung': 523, 'hasst': 524, 'enttäuscht': 525, 'tasche': 526, 'nervös': 527, 'darum': 528, 'fern': 529, 'klingt': 530, 'nachricht': 531, 'vertrauen': 532, 'schreiben': 533, 'fehlt': 534, 'bleib': 535, 'vorsichtig': 536, 'eins': 537, 'hatten': 538, 'gesicht': 539, 'gutes': 540, 'film': 541, 'rufen': 542, 'zuhause': 543, 'ruhe': 544, 'anfangen': 545, 'stand': 546, 'tanzen': 547, 'verwirrt': 548, 'schuldig': 549, 'wahrheit': 550, 'lied': 551, 'herein': 552, 'finde': 553, 'hart': 554, 'sieh': 555, 'wichtig': 556, 'lachen': 557, 'arbeite': 558, 'hand': 559, 'musik': 560, 'spiele': 561, 'verstehen': 562, 'gebracht': 563, 'zug': 564, 'spielt': 565, 'schlechte': 566, 'kopf': 567, 'wette': 568, 'hielt': 569, 'schläft': 570, 'gefragt': 571, 'unrecht': 572, 'bringen': 573, 'meiner': 574, 'öffnen': 575, 'würdest': 576, 'trägt': 577, 'jahre': 578, 'echt': 579, 'starb': 580, 'fährt': 581, 'montag': 582, 'witze': 583, 'klein': 584, 'hinter': 585, 'pferd': 586, 'nähe': 587, 'geheimnis': 588, 'vermisst': 589, 'eltern': 590, 'fiel': 591, 'geholfen': 592, 'stadt': 593, 'schaut': 594, 'bezahlen': 595, 'vermissen': 596, 'benutzen': 597, 'taxi': 598, 'möchtest': 599, 'schlechter': 600, 'niemals': 601, 'hallo': 602, 'einverstanden': 603, 'kurz': 604, 'hoch': 605, 'sprach': 606, 'setz': 607, 'fernseher': 608, 'gesprochen': 609, 'versuchte': 610, 'funktioniert': 611, 'lang': 612, 'alter': 613, 'kaputt': 614, 'rot': 615, 'verändert': 616, 'zeig': 617, 'verdient': 618, 'meinung': 619, 'dumm': 620, 'abendessen': 621, 'zog': 622, 'ehrlich': 623, 'haar': 624, 'name': 625, 'könnten': 626, 'müsst': 627, 'geboren': 628, 'ganze': 629, 'bat': 630, 'bezahlt': 631, 'ruf': 632, 'rufe': 633, 'halten': 634, 'wen': 635, 'ohne': 636, 'kanadier': 637, 'ganzen': 638, 'großen': 639, 'neue': 640, 'bescheid': 641, 'dunkel': 642, 'fahre': 643, 'lügen': 644, 'gerettet': 645, 'drin': 646, 'neuen': 647, 'liest': 648, 'gefahr': 649, 'sechs': 650, 'apfel': 651, 'anders': 652, 'seinem': 653, 'erst': 654, 'frag': 655, 'hol': 656, 'tue': 657, 'warm': 658, 'aber': 659, 'suchen': 660, 'dreißig': 661, 'seite': 662, 'verheiratet': 663, 'schmeckt': 664, 'zehn': 665, 'schlief': 666, 'lese': 667, 'pizza': 668, 'mühe': 669, 'gehören': 670, 'darauf': 671, 'lerne': 672, 'deiner': 673, 'offen': 674, 'wohin': 675, 'fort': 676, 'tief': 677, 'geschlagen': 678, 'setzte': 679, 'alleine': 680, 'lügner': 681, 'stark': 682, 'spreche': 683, 'mittagessen': 684, 'heißt': 685, 'laut': 686, 'hey': 687, 'geschlafen': 688, 'pause': 689, 'geküsst': 690, 'nase': 691, 'brille': 692, 'gegen': 693, 'gelogen': 694, 'langweilig': 695, 'besorgt': 696, 'sache': 697, 'dran': 698, 'fleisch': 699, 'musste': 700, 'bereits': 701, 'tisch': 702, 'schulde': 703, 'wert': 704, 'preis': 705, 'selten': 706, 'verpasst': 707, 'telefon': 708, 'schauen': 709, 'bleibt': 710, 'verlieren': 711, 'rechnung': 712, 'tat': 713, 'schaffen': 714, 'lebe': 715, 'darfst': 716, 'versprechen': 717, 'saß': 718, 'sachen': 719, 'begann': 720, 'gestohlen': 721, 'bestimmt': 722, 'hemd': 723, 'gehts': 724, 'zieh': 725, 'lächelte': 726, 'sprich': 727, 'versuch': 728, 'vermisse': 729, 'genommen': 730, 'anrufen': 731, 'kannte': 732, 'dann': 733, 'geliebt': 734, 'eingeladen': 735, 'zeigen': 736, 'wenig': 737, 'menge': 738, 'drüben': 739, 'ändern': 740, 'traum': 741, 'erklären': 742, 'beine': 743, 'bloß': 744, 'stolz': 745, 'lief': 746, 'schüchtern': 747, 'lügt': 748, 'schwimmt': 749, 'männer': 750, 'bekam': 751, 'laune': 752, 'sauber': 753, 'ziehen': 754, 'rede': 755, 'jungen': 756, 'bestes': 757, 'leiden': 758, 'mantel': 759, 'paar': 760, 'erkältung': 761, 'tennis': 762, 'drinnen': 763, 'wieso': 764, 'gebrochen': 765, 'versuche': 766, 'überrascht': 767, 'messer': 768, 'bank': 769, 'gott': 770, 'küssen': 771, 'halt': 772, 'fürchte': 773, 'sauer': 774, 'wein': 775, 'schaute': 776, 'nun': 777, 'eifersüchtig': 778, 'oben': 779, 'möglich': 780, 'rief': 781, 'krieg': 782, 'trinke': 783, 'frauen': 784, 'singt': 785, 'füße': 786, 'fernsehen': 787, 'angekommen': 788, 'zählen': 789, 'deinem': 790, 'herz': 791, 'lässt': 792, 'fußball': 793, 'voll': 794, 'teuer': 795, 'perfekt': 796, 'entschuldigen': 797, 'dollar': 798, 'geschafft': 799, 'bestürzt': 800, 'fuhr': 801, 'job': 802, 'legte': 803, 'liebte': 804, 'grund': 805, 'verliebt': 806, 'schwarz': 807, 'stelle': 808, 'allen': 809, 'verkauft': 810, 'fehlen': 811, 'student': 812, 'brachte': 813, 'reise': 814, 'könntest': 815, 'besuchen': 816, 'woher': 817, 'wollt': 818, 'wahl': 819, 'chance': 820, 'denkst': 821, 'hilft': 822, 'schrecklich': 823, 'suche': 824, 'geschickt': 825, 'einsam': 826, 'trinkt': 827, 'schmerzen': 828, 'kocht': 829, 'waffe': 830, 'fallen': 831, 'leer': 832, 'hassen': 833, 'schmutzig': 834, 'wussten': 835, 'äpfel': 836, 'ende': 837, 'reicht': 838, 'liebst': 839, 'trug': 840, 'rat': 841, 'glaubt': 842, 'kleid': 843, 'marias': 844, 'bild': 845, 'verstanden': 846, 'weise': 847, 'dick': 848, 'willkommen': 849, 'fass': 850, 'legen': 851, 'schreibt': 852, 'halb': 853, 'sieben': 854, 'freundlich': 855, 'klug': 856, 'erinnere': 857, 'ausgegangen': 858, 'komisch': 859, 'gearbeitet': 860, 'faul': 861, 'dürfen': 862, 'neugierig': 863, 'gesund': 864, 'regnet': 865, 'entkommen': 866, 'hingehen': 867, 'fest': 868, 'schrieb': 869, 'niemandem': 870, 'entlassen': 871, 'riecht': 872, 'gelesen': 873, 'getrunken': 874, 'mund': 875, 'normal': 876, 'denken': 877, 'straße': 878, 'herausbekommen': 879, 'diesem': 880, 'öffnete': 881, 'wohnen': 882, 'schreibtisch': 883, 'des': 884, 'wär’s': 885, 'andere': 886, 'feuer': 887, 'hilf': 888, 'ruft': 889, 'stehe': 890, 'vertraut': 891, 'toll': 892, 'rennen': 893, 'meins': 894, 'fall': 895, 'unten': 896, 'eis': 897, 'heraus': 898, 'brot': 899, 'gefangen': 900, 'welt': 901, 'gingen': 902, 'versteht': 903, 'zuerst': 904, 'niemanden': 905, 'brach': 906, 'ausruhen': 907, 'angelogen': 908, 'menschen': 909, 'jemanden': 910, 'gewesen': 911, 'wart': 912, 'geburtstag': 913, 'gebeten': 914, 'mittag': 915, 'redet': 916, 'schwierigkeiten': 917, 'sinn': 918, 'ob': 919, 'zustimmen': 920, 'brüder': 921, 'früher': 922, 'gitarre': 923, 'freundin': 924, 'großes': 925, 'weinte': 926, 'reparieren': 927, 'stimmen': 928, 'gebe': 929, 'stoppen': 930, 'pass': 931, 'folgen': 932, 'trat': 933, 'koch': 934, 'schließen': 935, 'fand': 936, 'dagegen': 937, 'regnen': 938, 'eier': 939, 'beeilen': 940, 'unglaublich': 941, 'erzählt': 942, 'liste': 943, 'aufgeregt': 944, 'kaufte': 945, 'leisten': 946, 'auge': 947, 'lächeln': 948, 'wartet': 949, 'schwach': 950, 'retten': 951, 'aufgehört': 952, 'lachte': 953, 'blau': 954, 'eines': 955, 'moment': 956, 'durst': 957, 'kümmern': 958, 'gebt': 959, 'endlich': 960, 'verlor': 961, 'typ': 962, 'geheiratet': 963, 'chef': 964, 'letzte': 965, 'ziehe': 966, 'höflich': 967, 'licht': 968, 'werdet': 969, 'brauchte': 970, 'vollkommen': 971, 'neben': 972, 'einzige': 973, 'tochter': 974, 'klar': 975, 'vertraue': 976, 'gelassen': 977, 'nochmal': 978, 'verbindung': 979, 'schneit': 980, 'bringt': 981, 'lag': 982, 'mutig': 983, 'angefangen': 984, 'beeindruckt': 985, 'geschenk': 986, 'jahr': 987, 'kostet': 988, 'passt': 989, 'schöne': 990, 'tod': 991, 'sagst': 992, 'australien': 993, 'alte': 994, 'kiste': 995, 'bleistift': 996, 'nachrichten': 997, 'gelernt': 998, 'angebot': 999, 'zahlen': 1000, 'nächste': 1001, 'hässlich': 1002, 'antworten': 1003, 'entschuldigung': 1004, 'gemeint': 1005, 'luft': 1006, 'sicherheit': 1007, 'schreien': 1008, 'karte': 1009, 'klavier': 1010, 'scherz': 1011, 'dinge': 1012, 'ihrer': 1013, 'reizend': 1014, 'aufgeben': 1015, 'studiert': 1016, 'lernt': 1017, 'beliebt': 1018, 'wünsche': 1019, 'möchten': 1020, 'lautet': 1021, 'stieg': 1022, 'bestellt': 1023, 'himmel': 1024, '230': 1025, 'wahrscheinlich': 1026, 'land': 1027, 'foto': 1028, 'geweint': 1029, 'aß': 1030, 'erzählen': 1031, 'fangen': 1032, 'vergiss': 1033, 'lies': 1034, 'durch': 1035, 'vergeben': 1036, 'reis': 1037, 'wohne': 1038, 'geirrt': 1039, 'blöd': 1040, 'studieren': 1041, 'spazieren': 1042, 'entschieden': 1043, 'kämpfen': 1044, 'kümmere': 1045, 'guten': 1046, 'sucht': 1047, 'beste': 1048, 'herunter': 1049, 'beobachtet': 1050, 'kopfschmerzen': 1051, 'suppe': 1052, 'baum': 1053, 'tasse': 1054, 'solltet': 1055, 'beiden': 1056, 'hörst': 1057, 'park': 1058, 'ihrem': 1059, 'wegen': 1060, 'sommer': 1061, 'radio': 1062, 'getötet': 1063, 'gewarnt': 1064, 'glaubst': 1065, 'raum': 1066, 'schlaf': 1067, 'stift': 1068, 'geändert': 1069, 'feind': 1070, 'farbe': 1071, 'seiner': 1072, 'darin': 1073, 'gefängnis': 1074, 'traf': 1075, 'büro': 1076, 'wurden': 1077, 'tust': 1078, 'sprichst': 1079, 'unmöglich': 1080, 'tapfer': 1081, 'runter': 1082, 'erzähl': 1083, 'gewusst': 1084, 'warnen': 1085, 'fliegen': 1086, 'lüge': 1087, 'fünf': 1088, 'seltsam': 1089, 'knapp': 1090, 'behalten': 1091, 'sitzen': 1092, 'gewählt': 1093, 'schreibe': 1094, 'boden': 1095, 'bewegen': 1096, 'panik': 1097, 'mama': 1098, 'leise': 1099, 'stimmte': 1100, 'wartete': 1101, 'mochte': 1102, 'mitnehmen': 1103, 'unhöflich': 1104, 'unzuverlässig': 1105, 'älter': 1106, 'geweckt': 1107, 'bringe': 1108, 'bewundere': 1109, 'egal': 1110, 'feigling': 1111, 'unschuldig': 1112, 'stellen': 1113, 'benutzt': 1114, 'geantwortet': 1115, 'schüler': 1116, 'geschäft': 1117, 'risiko': 1118, 'bitten': 1119, 'hält': 1120, 'bekannt': 1121, 'geglaubt': 1122, 'sonne': 1123, 'entschuldige': 1124, 'fühlt': 1125, 'ball': 1126, 'kamera': 1127, 'furchtbar': 1128, 'anwalt': 1129, 'schöner': 1130, 'schönes': 1131, 'verstehst': 1132, 'wisst': 1133, 'schlug': 1134, 'ungefähr': 1135, 'schiff': 1136, 'garten': 1137, 'heim': 1138, 'nehmt': 1139, 'leg': 1140, 'lauter': 1141, 'seht': 1142, 'gemein': 1143, 'held': 1144, 'berühmt': 1145, 'nass': 1146, 'größer': 1147, 'schnee': 1148, 'gesetz': 1149, 'unglücklich': 1150, 'dank': 1151, 'unterrichtet': 1152, 'schloss': 1153, 'studiere': 1154, 'träume': 1155, 'antwortete': 1156, 'japaner': 1157, 'schwierig': 1158, 'baby': 1159, 'erfolg': 1160, 'fressen': 1161, 'schönen': 1162, 'verraten': 1163, 'glas': 1164, 'danken': 1165, 'denkt': 1166, 'studenten': 1167, 'wofür': 1168, 'arbeitest': 1169, 'dauern': 1170, 'etwa': 1171, 'deswegen': 1172, 'herum': 1173, 'kennengelernt': 1174, 'anderen': 1175, 'oktober': 1176, 'manchmal': 1177, 'schließ': 1178, 'folge': 1179, 'schießen': 1180, 'blind': 1181, 'probieren': 1182, 'na': 1183, 'unterschreiben': 1184, 'acht': 1185, 'schlau': 1186, 'grün': 1187, 'schrie': 1188, 'geduldig': 1189, 'nutzlos': 1190, 'schaue': 1191, 'schneller': 1192, 'beweise': 1193, 'schläfrig': 1194, 'erwartet': 1195, 'paris': 1196, 'lachten': 1197, 'verstecken': 1198, 'vogel': 1199, 'blumen': 1200, 'bekomme': 1201, 'eingeschlafen': 1202, 'pferde': 1203, 'hinein': 1204, 'ansehen': 1205, 'zurückgekommen': 1206, 'japan': 1207, 'verließ': 1208, 'welches': 1209, 'gewinnt': 1210, 'golf': 1211, 'sang': 1212, 'ausland': 1213, 'bein': 1214, 'weihnachten': 1215, 'wirf': 1216, 'umgebracht': 1217, 'ohren': 1218, 'danach': 1219, 'fleißig': 1220, 'genauso': 1221, 'see': 1222, 'wind': 1223, 'regeln': 1224, 'prüfung': 1225, 'küche': 1226, 'computer': 1227, 'gefährlich': 1228, 'angelegenheit': 1229, 'schwarze': 1230, 'japanisch': 1231, 'frühstück': 1232, 'überall': 1233, 'handeln': 1234, 'einander': 1235, 'näher': 1236, 'haltet': 1237, 'beobachten': 1238, 'vögel': 1239, 'vier': 1240, 'idiot': 1241, 'bord': 1242, 'holz': 1243, 'gedanken': 1244, 'fragte': 1245, 'benötige': 1246, 'brav': 1247, 'erinnern': 1248, 'reihe': 1249, 'hole': 1250, 'erschöpft': 1251, 'fürs': 1252, 'interessiert': 1253, 'dahin': 1254, 'erschossen': 1255, 'geschlossen': 1256, 'verziehen': 1257, 'sport': 1258, 'las': 1259, 'zumute': 1260, 'künstler': 1261, 'fach': 1262, 'einige': 1263, 'fische': 1264, 'nötig': 1265, 'hübsch': 1266, 'fieber': 1267, 'kekse': 1268, 'köstlich': 1269, 'offensichtlich': 1270, 'hätten': 1271, 'krawatte': 1272, 'bekommt': 1273, 'eile': 1274, 'pünktlich': 1275, 'fluss': 1276, 'anzug': 1277, 'zieht': 1278, 'erneut': 1279, 'je': 1280, 'tagebuch': 1281, 'armbanduhr': 1282, 'hose': 1283, 'schneien': 1284, 'kompliziert': 1285, 'papier': 1286, 'euren': 1287, 'adresse': 1288, 'blaue': 1289, 'regenschirm': 1290, 'deshalb': 1291, 'weint': 1292, 'amüsiert': 1293, 'beginnen': 1294, 'cool': 1295, 'cd': 1296, 'deins': 1297, 'arbeitete': 1298, 'ding': 1299, 'obst': 1300, 'schulden': 1301, 'abgeschlossen': 1302, 'kamen': 1303, 'schluss': 1304, 'erwarten': 1305, 'trank': 1306, 'erledigen': 1307, 'verblüfft': 1308, 'lügst': 1309, 'töten': 1310, 'trink': 1311, 'erkältet': 1312, 'gefiel': 1313, 'seil': 1314, 'aufgestanden': 1315, 'zeige': 1316, 'falle': 1317, 'befindet': 1318, 'aufgabe': 1319, 'versteckt': 1320, 'regen': 1321, 'tragen': 1322, 'onkel': 1323, 'urlaub': 1324, 'talent': 1325, 'zucker': 1326, 'boot': 1327, 'ziel': 1328, 'loch': 1329, 'tanzt': 1330, 'nieder': 1331, 'passieren': 1332, 'rote': 1333, 'polizei': 1334, 'gefahren': 1335, 'he': 1336, 'fühlen': 1337, 'verstand': 1338, 'gleiche': 1339, 'hotel': 1340, 'geheimnisse': 1341, 'begeistert': 1342, 'blick': 1343, 'möglicherweise': 1344, 'nennen': 1345, 'hattest': 1346, 'hausaufgaben': 1347, 'führt': 1348, 'gestellt': 1349, 'amerika': 1350, 'bedeutet': 1351, 'jemandem': 1352, 'person': 1353, 'strand': 1354, 'gewaschen': 1355, 'finger': 1356, 'krankenhaus': 1357, 'brücke': 1358, 'besonders': 1359, 'begleiten': 1360, 'zeitung': 1361, 'verschwinde': 1362, 'half': 1363, 'rasiert': 1364, 'benutze': 1365, 'fang': 1366, 'aufgegeben': 1367, 'pleite': 1368, 'geöffnet': 1369, 'probier': 1370, 'pflicht': 1371, 'iss': 1372, 'gehabt': 1373, 'unseren': 1374, 'vernünftig': 1375, 'koche': 1376, 'mathe': 1377, 'mathematik': 1378, 'diät': 1379, 'durstig': 1380, 'frühling': 1381, 'denk': 1382, 'betrogen': 1383, 'bemerkt': 1384, 'aufmerksam': 1385, 'erwachsen': 1386, 'nackt': 1387, 'gedacht': 1388, 'genie': 1389, 'kannten': 1390, 'funktionieren': 1391, 'geraten': 1392, 'erfolgreich': 1393, 'fängt': 1394, 'zahn': 1395, 'küsste': 1396, 'geschossen': 1397, 'ausstehen': 1398, 'krebs': 1399, 'umbringen': 1400, 'unterwegs': 1401, 'rücken': 1402, 'öffne': 1403, 'bleibe': 1404, 'nummer': 1405, 'verlobt': 1406, 'feinde': 1407, 'geschehen': 1408, 'niedergeschlagen': 1409, 'hältst': 1410, 'angeln': 1411, 'fürchtet': 1412, 'rad': 1413, 'gebacken': 1414, 'polizist': 1415, 'pläne': 1416, 'anderes': 1417, 'freut': 1418, 'besten': 1419, 'lärm': 1420, 'zweimal': 1421, 'könntet': 1422, 'fühlst': 1423, 'interessant': 1424, 'chinesisch': 1425, 'bestellen': 1426, 'klang': 1427, 'spielte': 1428, 'bestanden': 1429, 'handschuhe': 1430, 'cousin': 1431, 'trinkst': 1432, 'rechner': 1433, 'waschen': 1434, 'sofa': 1435, 'leiser': 1436, 'nennt': 1437, 'terminkalender': 1438, 'jede': 1439, 'kurze': 1440, 'hob': 1441, 'altes': 1442, 'allzu': 1443, 'wahre': 1444, 'irgendwie': 1445, 'nächsten': 1446, 'verkaufen': 1447, 'dessen': 1448, 'beispiel': 1449, 'stunden': 1450, 'toilette': 1451, 'tränen': 1452, 'fragt': 1453, 'ungerecht': 1454, 'fair': 1455, 'fliege': 1456, 'wiedersehen': 1457, 'schlagen': 1458, 'ohnmächtig': 1459, 'schlimm': 1460, 'neun': 1461, 'verlasse': 1462, 'sahen': 1463, 'überprüfen': 1464, 'gucken': 1465, 'gewann': 1466, 'windig': 1467, 'vorne': 1468, 'gebissen': 1469, 'raucht': 1470, 'geblieben': 1471, 'pech': 1472, 'aufstehen': 1473, 'ungewöhnlich': 1474, 'ihres': 1475, 'stell': 1476, 'abgelehnt': 1477, 'ei': 1478, 'mut': 1479, 'hinaus': 1480, 'engel': 1481, 'beleidigt': 1482, 'schlafe': 1483, 'irrt': 1484, 'jungs': 1485, 'wahnsinnig': 1486, 'bewusstsein': 1487, 'hinauf': 1488, 'blass': 1489, 'weitermachen': 1490, 'schlechtes': 1491, 'befehle': 1492, 'filme': 1493, 'beinahe': 1494, 'freiwillig': 1495, 'beweisen': 1496, 'lehrerin': 1497, 'hängt': 1498, 'heiße': 1499, 'mannschaft': 1500, 'puppe': 1501, 'scheinen': 1502, 'london': 1503, 'schwestern': 1504, 'tiere': 1505, 'eilig': 1506, 'preise': 1507, 'angezogen': 1508, 'fällt': 1509, 'lacht': 1510, 'entschlossen': 1511, 'welcher': 1512, 'würden': 1513, 'parken': 1514, 'salz': 1515, 'handelt': 1516, 'erwähnt': 1517, 'jedes': 1518, 'worauf': 1519, 'karten': 1520, 'neuigkeiten': 1521, 'kaninchen': 1522, 'drehte': 1523, 'ungeduldig': 1524, 'mögt': 1525, 'treppe': 1526, 'schirm': 1527, 'stunde': 1528, 'alkohol': 1529, 'schätze': 1530, 'fotoapparat': 1531, 'portemonnaie': 1532, 'beschützen': 1533, 'unterricht': 1534, 'party': 1535, 'lächerlich': 1536, 'geredet': 1537, 'starke': 1538, 'ermordet': 1539, 'vergiftet': 1540, 'gewohnt': 1541, 'kleine': 1542, 'echter': 1543, 'heiraten': 1544, 'unfall': 1545, 'findest': 1546, 'gebrauchen': 1547, 'hättest': 1548, 'flug': 1549, 'kerl': 1550, 'hunden': 1551, 'wochenende': 1552, 'aussehen': 1553, 'knopf': 1554, 'findet': 1555, 'satt': 1556, 'wozu': 1557, 'ski': 1558, 'gelangweilt': 1559, 'stück': 1560, 'drauf': 1561, 'dünn': 1562, 'kümmert': 1563, 'brennt': 1564, 'zugehört': 1565, 'versprochen': 1566, 'augenblick': 1567, 'guck': 1568, 'verlaufen': 1569, 'verlass': 1570, 'gehasst': 1571, 'gefeuert': 1572, 'leichtgläubig': 1573, 'aufrichtig': 1574, 'weggelaufen': 1575, 'außer': 1576, 'stört': 1577, 'singe': 1578, 'zurückkommen': 1579, 'lieb': 1580, 'ohr': 1581, 'gerücht': 1582, 'gelacht': 1583, 'erledigt': 1584, 'rate': 1585, 'gebaut': 1586, 'mitkommen': 1587, 'papa': 1588, 'ertrunken': 1589, 'anderer': 1590, 'schach': 1591, 'besucht': 1592, 'überaus': 1593, 'reinkommen': 1594, 'kopfweh': 1595, 'irren': 1596, 'frieden': 1597, 'überleben': 1598, 'cousins': 1599, 'hineingehen': 1600, 'scheinst': 1601, 'anfassen': 1602, 'selber': 1603, 'leugnen': 1604, 'steigen': 1605, 'amerikaner': 1606, 'bananen': 1607, 'zerstört': 1608, '30': 1609, 'aufgebracht': 1610, 'überlasse': 1611, 'besitzt': 1612, 'lernst': 1613, 'rasen': 1614, 'haut': 1615, 'geräusch': 1616, 'abstreiten': 1617, 'genossen': 1618, 'wetter': 1619, 'kleiner': 1620, 'brunnen': 1621, 'verängstigt': 1622, 'leihen': 1623, 'wohnst': 1624, 'sprecht': 1625, 'klasse': 1626, 'schmerz': 1627, 'verliert': 1628, 'warf': 1629, 'bad': 1630, 'genannt': 1631, 'jacke': 1632, 'wörterbuch': 1633, 'nette': 1634, 'richtige': 1635, 'scheck': 1636, 'woraus': 1637, 'socken': 1638, 'deutsch': 1639, 'stein': 1640, 'gibt’s': 1641, 'hau': 1642, 'scher': 1643, 'rennt': 1644, 'helft': 1645, 'gewartet': 1646, 'schmerzt': 1647, 'log': 1648, 'wunderbar': 1649, 'schreib': 1650, 'soweit': 1651, 'irre': 1652, 'folgt': 1653, 'grausam': 1654, 'beneide': 1655, 'fehlst': 1656, 'ruiniert': 1657, 'gas': 1658, 'nickte': 1659, 'entscheiden': 1660, 'besuch': 1661, 'naiv': 1662, 'kaufe': 1663, 'klarkommen': 1664, 'lügnerin': 1665, 'wohlhabend': 1666, 'yen': 1667, 'regel': 1668, 'vielen': 1669, 'lehnte': 1670, 'wählen': 1671, 'nahe': 1672, 'durcheinander': 1673, 'gerecht': 1674, 'gesungen': 1675, 'schäme': 1676, 'zerbrochen': 1677, 'geschnitten': 1678, 'meines': 1679, 'überlass': 1680, 'hörten': 1681, 'sogar': 1682, 'sangen': 1683, 'kuss': 1684, 'autos': 1685, 'süßigkeiten': 1686, 'arabisch': 1687, 'heiratete': 1688, 'zuhören': 1689, 'überzeugt': 1690, 'beschädigt': 1691, 'tatsächlich': 1692, 'schaden': 1693, 'knie': 1694, 'schicken': 1695, 'aktiv': 1696, 'lasse': 1697, 'fragst': 1698, 'bescheiden': 1699, 'du’s': 1700, 'kauf': 1701, 'schriftsteller': 1702, 'glaubte': 1703, 'stuhl': 1704, 'wiederkommen': 1705, 'tokio': 1706, 'absicht': 1707, 'unserer': 1708, 'neuer': 1709, 'verbrechen': 1710, 'konnten': 1711, 'test': 1712, 'benommen': 1713, 'verzweifelt': 1714, 'schockiert': 1715, 'gebraucht': 1716, 'stellte': 1717, 'ehemann': 1718, 'hinterher': 1719, 'unverheiratet': 1720, 'wirkt': 1721, 'vierzig': 1722, 'gekostet': 1723, 'spinnen': 1724, 'heimweh': 1725, 'nachdenken': 1726, 'glücklicher': 1727, 'bewahren': 1728, 'führte': 1729, 'meer': 1730, 'sonntag': 1731, 'gesellschaft': 1732, 'großzügig': 1733, 'sprang': 1734, 'abgenommen': 1735, 'erschreckt': 1736, 'erfreut': 1737, 'wiederhaben': 1738, 'steckt': 1739, 'ertragen': 1740, 'mütze': 1741, 'rechte': 1742, 'bestellte': 1743, 'verzeihen': 1744, 'verrichten': 1745, 'kerze': 1746, 'schlimmer': 1747, 'nimmt': 1748, 'verwandt': 1749, 'atmen': 1750, 'ort': 1751, 'waffen': 1752, 'tage': 1753, 'äußerst': 1754, 'vorwurf': 1755, 'aufs': 1756, 'gekannt': 1757, 'vorschlag': 1758, 'hereinkommen': 1759, 'hobby': 1760, 'unterhalten': 1761, 'klappe': 1762, 'voller': 1763, 'handtasche': 1764, 'eigentlich': 1765, 'kleidung': 1766, 'gedächtnis': 1767, 'phantasie': 1768, 'schwimme': 1769, 'pack': 1770, 'schließe': 1771, 'zurecht': 1772, 'fange': 1773, 'lage': 1774, 'meinst': 1775, 'geschneit': 1776, 'behalte': 1777, 'tritt': 1778, 'ok': 1779, 'bewegte': 1780, 'antwortet': 1781, '18': 1782, 'sing': 1783, 'kaputtgemacht': 1784, 'meint': 1785, 'überlebt': 1786, 'kommentar': 1787, 'nächstes': 1788, 'schuldest': 1789, 'sorge': 1790, 'verbrannt': 1791, 'helfe': 1792, 'dringend': 1793, 'springen': 1794, 'teilen': 1795, 'biss': 1796, 'führe': 1797, 'treten': 1798, 'fahr': 1799, 'ehrgeizig': 1800, 'lippen': 1801, 'übel': 1802, 'zweifel': 1803, 'reisen': 1804, 'verklagen': 1805, 'taub': 1806, 'verhungern': 1807, 'träumen': 1808, 'gaben': 1809, 'gold': 1810, 'ausgehen': 1811, 'fürchten': 1812, 'erbaut': 1813, 'esst': 1814, 'dieb': 1815, 'winter': 1816, 'ring': 1817, 'löffel': 1818, 'meinte': 1819, 'eilte': 1820, 'diesmal': 1821, 'minute': 1822, 'füller': 1823, 'tor': 1824, 'schick': 1825, 'hasste': 1826, 'handtuch': 1827, 'söhne': 1828, 'bart': 1829, 'eindruck': 1830, 'zähle': 1831, 'folgte': 1832, 'kirche': 1833, 'karotten': 1834, 'trage': 1835, 'ruhestand': 1836, 'geschieht': 1837, 'entschuldigt': 1838, 'laufenden': 1839, 'zeug': 1840, 'blut': 1841, 'erwischt': 1842, 'ausgeraubt': 1843, 'rosen': 1844, 'schritt': 1845, 'hilfreich': 1846, 'sitzt': 1847, 'blutet': 1848, 'begegnet': 1849, 'dankbar': 1850, 'langweile': 1851, 'vorbereitet': 1852, 'pfeifen': 1853, 'nachhause': 1854, 'zugestimmt': 1855, 'möchtet': 1856, 'starrte': 1857, 'lebte': 1858, 'treffe': 1859, 'erlaubt': 1860, 'billig': 1861, 'abkürzung': 1862, 'denen': 1863, 'beitrag': 1864, 'geleistet': 1865, 'unsicher': 1866, 'singst': 1867, 'ans': 1868, 'zähne': 1869, 'lebst': 1870, 'benzin': 1871, 'getränk': 1872, 'zurückgekehrt': 1873, 'gewalt': 1874, 'keins': 1875, 'phantastisch': 1876, 'springt': 1877, 'dauert': 1878, 'kampf': 1879, 'italien': 1880, 'ablehnen': 1881, 'ängstlich': 1882, 'blatt': 1883, 'wirkte': 1884, 'nachts': 1885, 'wunsch': 1886, 'stich': 1887, 'letztes': 1888, 'schachtel': 1889, 'erwarte': 1890, 'thema': 1891, 'teil': 1892, 'lege': 1893, 'schicksal': 1894, 'kehrte': 1895, 'großartiger': 1896, 'bestätigen': 1897, 'schulter': 1898, 'dusche': 1899, 'ständig': 1900, 'jahren': 1901, 'antun': 1902, 'schreibst': 1903, 'bereuen': 1904, 'facebook': 1905, 'bericht': 1906, 'zufällig': 1907, 'pullover': 1908, 'solche': 1909, 'kennenlernen': 1910, 'erklärung': 1911, 'lauf': 1912, 'umarmen': 1913, 'fett': 1914, 'fassen': 1915, 'beeil': 1916, 'glatze': 1917, 'klappt': 1918, 'vorsicht': 1919, 'geschwommen': 1920, 'ohnmacht': 1921, 'spring': 1922, 'natürlich': 1923, 'übernehmen': 1924, 'antworte': 1925, 'hustete': 1926, 'verliere': 1927, 'beten': 1928, 'gehorchen': 1929, 'entlang': 1930, 'daheim': 1931, 'besoffen': 1932, 'länger': 1933, 'vorbeigekommen': 1934, 'wehgetan': 1935, 'deprimiert': 1936, 'verirrt': 1937, 'bezahlte': 1938, 'entspannt': 1939, 'schalte': 1940, 'melden': 1941, 'drum': 1942, 'gerufen': 1943, 'steh': 1944, 'zahlt': 1945, 'sushi': 1946, 'umarmte': 1947, 'drückte': 1948, 'china': 1949, 'erfunden': 1950, 'beweis': 1951, 'geschieden': 1952, 'verschwunden': 1953, 'erstaunt': 1954, 'traue': 1955, 'fachmann': 1956, 'scherze': 1957, 'laufe': 1958, 'abendbrot': 1959, 'rausgehen': 1960, 'briefmarken': 1961, 'geige': 1962, 'maus': 1963, 'flugzeug': 1964, 'vertraute': 1965, 'zulassen': 1966, 'eben': 1967, 'mitternacht': 1968, 'öffnet': 1969, 'zeichen': 1970, 'rannten': 1971, 'weggehen': 1972, 'unfreundlich': 1973, 'adoptiert': 1974, 'befreundet': 1975, 'übrig': 1976, 'voreingenommen': 1977, 'kleinen': 1978, 'behilflich': 1979, 'schneiden': 1980, 'miteinander': 1981, 'rätsel': 1982, 'gehalten': 1983, 'nachtisch': 1984, '5': 1985, 'normalerweise': 1986, 'rache': 1987, 'kündigen': 1988, 'musiker': 1989, 'netter': 1990, 'gefangene': 1991, 'kyōto': 1992, 'dummkopf': 1993, 'wohnung': 1994, 'korrekt': 1995, 'unsinn': 1996, 'trafen': 1997, 'dienst': 1998, 'derjenige': 1999, 'schreit': 2000, 'mager': 2001, 'aufmachen': 2002, 'fallenlassen': 2003, 'mitleid': 2004, 'zunge': 2005, 'erhalten': 2006, 'gabel': 2007, 'beharrlich': 2008, 'flasche': 2009, 'hierhin': 2010, 'benahm': 2011, 'angegriffen': 2012, 'gefühl': 2013, 'husten': 2014, 'sänger': 2015, 'fröhlich': 2016, 'schock': 2017, 'einkaufen': 2018, 'hinunter': 2019, 'fotos': 2020, 'fasziniert': 2021, 'worum': 2022, 'erlauben': 2023, 'graben': 2024, 'jemals': 2025, 'spielst': 2026, 'linie': 2027, 'aufgefallen': 2028, 'langes': 2029, 'erreichen': 2030, 'zeigte': 2031, 'hoffen': 2032, 'fahrer': 2033, 'unzufrieden': 2034, 'puls': 2035, 'erfahren': 2036, 'verspätung': 2037, 'ergibt': 2038, 'umgehen': 2039, 'zwillinge': 2040, 'achten': 2041, 'marys': 2042, 'vergesslich': 2043, '230\\xa0uhr': 2044, 'angesehen': 2045, 'voraus': 2046, 'endet': 2047, 'irgendwo': 2048, 'gewöhnlich': 2049, 'also': 2050, 'gefrühstückt': 2051, 'bedroht': 2052, 'gibst': 2053, 'lust': 2054, 'dürft': 2055, 'nimmst': 2056, 'rechtzeitig': 2057, 'gemocht': 2058, 'anlügen': 2059, 'kleines': 2060, 'autoschlüssel': 2061, 'monat': 2062, 'bilder': 2063, 'bibliothek': 2064, 'koffer': 2065, 'cousine': 2066, 'haaren': 2067, 'schickte': 2068, 'benötigen': 2069, 'körper': 2070, 'versteckte': 2071, 'irgendetwas': 2072, 'spukt': 2073, 'ewig': 2074, 'ankommen': 2075, 'beginnt': 2076, 'acker': 2077, 'umarmt': 2078, 'drücken': 2079, 'küsst': 2080, 'habs': 2081, 'beobachte': 2082, 'gesundheit': 2083, 'legt': 2084, 'kicherte': 2085, 'wachte': 2086, 'gehöre': 2087, 'viertel': 2088, 'schuss': 2089, 'einig': 2090, 'schlag': 2091, 'probleme': 2092, 'hebe': 2093, 'gelächelt': 2094, 'standen': 2095, 'schnarcht': 2096, 'zwinkerte': 2097, 'geschrien': 2098, 'rechts': 2099, 'diskret': 2100, 'nochmals': 2101, 'merkwürdig': 2102, 'hab’s': 2103, 'verschlafen': 2104, 'erholt': 2105, 'rieche': 2106, 'eingestellt': 2107, 'brechen': 2108, 'entspannen': 2109, 'genauer': 2110, 'langsamer': 2111, 'küssten': 2112, 'atmete': 2113, 'wähle': 2114, 'wecke': 2115, 'fbi': 2116, 'trotzdem': 2117, 'sie’s': 2118, 'nerven': 2119, 'laufpass': 2120, 'getreten': 2121, 'verwundet': 2122, 'käse': 2123, 'hingegangen': 2124, 'begonnen': 2125, 'schoss': 2126, 'heißen': 2127, 'sagten': 2128, 'gierig': 2129, 'scherzen': 2130, 'scherzt': 2131, 'irgendwelche': 2132, 'mitmachen': 2133, 'zeichne': 2134, 'belogen': 2135, 'rechtsanwalt': 2136, 'gewissen': 2137, 'süßes': 2138, 'rettete': 2139, 'meldete': 2140, 'gefiele': 2141, 'übergewichtig': 2142, 'versichert': 2143, 'ernstes': 2144, 'latein': 2145, 'samstag': 2146, 'befehl': 2147, 'kontrollieren': 2148, 'heißer': 2149, 'türe': 2150, 'unfair': 2151, 'schneide': 2152, 'tiger': 2153, 'führen': 2154, 'schauspieler': 2155, 'aufgeschlossen': 2156, 'tier': 2157, 'frühaufsteher': 2158, 'spinat': 2159, 'lastwagen': 2160, 'unterrichte': 2161, 'reicher': 2162, 'üben': 2163, 'gesetzt': 2164, 'sprache': 2165, 'riechen': 2166, 'beißt': 2167, 'löwe': 2168, 'anwesend': 2169, 'egoistisch': 2170, 'ähnlich': 2171, 'bleich': 2172, 'geführt': 2173, 'bewusstlos': 2174, 'bauch': 2175, 'passen': 2176, 'ignoriert': 2177, 'würdet': 2178, 'größte': 2179, 'zuleide': 2180, 'böses': 2181, 'konzentrieren': 2182, 'gestimmt': 2183, 'beschämt': 2184, 'atmet': 2185, 'ärztin': 2186, 'frisch': 2187, 'hinterlassen': 2188, 'feiern': 2189, 'hübsche': 2190, 'wählerisch': 2191, 'weiße': 2192, 'mond': 2193, 'seife': 2194, 'beunruhigt': 2195, 'verdienen': 2196, 'verhaftet': 2197, 'studierst': 2198, 'irgendwas': 2199, 'blieben': 2200, 'erklärt': 2201, 'buk': 2202, 'verhalten': 2203, 'erfüllt': 2204, 'angelt': 2205, 'orangen': 2206, 'chemie': 2207, 'zukunft': 2208, 'sprachen': 2209, 'suchte': 2210, 'erste': 2211, 'weigerte': 2212, 'bereue': 2213, 'wusch': 2214, 'freuen': 2215, 'salat': 2216, 'lade': 2217, 'juckt': 2218, 'größe': 2219, 'sturm': 2220, 'entdeckt': 2221, 'nachlässig': 2222, 'praktisch': 2223, 'suspendiert': 2224, 'unheimlich': 2225, 'vorn': 2226, 'aufgeräumt': 2227, 'betrübt': 2228, 'klingelte': 2229, 'fingen': 2230, 'wollten': 2231, 'alptraum': 2232, 'rotes': 2233, 'regnete': 2234, 'räum': 2235, 'werfen': 2236, 'butter': 2237, 'lehrt': 2238, 'sonnenbrille': 2239, 'verdanke': 2240, 'hügel': 2241, 'unterschrieb': 2242, 'besuchte': 2243, 'atem': 2244, 'tolle': 2245, 'quatsch': 2246, 'kerzen': 2247, 'packen': 2248, 'endete': 2249, 'geliehen': 2250, 'plötzlich': 2251, 'schuldet': 2252, 'verlangt': 2253, 'machten': 2254, 'großartige': 2255, 'hauptfach': 2256, 'schwein': 2257, 'überprüft': 2258, 'könig': 2259, 'eigenes': 2260, 'letzten': 2261, 'ideen': 2262, 'nachgedacht': 2263, 'weht': 2264, 'worte': 2265, 'ausgesprochen': 2266, 'ignorieren': 2267, 'verschwenden': 2268, 'welchen': 2269, 'angeschrien': 2270, 'klettern': 2271, 'ticket': 2272, 'schaffe': 2273, 'fuji': 2274, 'bester': 2275, 'seltsame': 2276, 'freunden': 2277, 'tennisspieler': 2278, 'arbeitsstelle': 2279, 'wies': 2280, 'gedicht': 2281, 'begabt': 2282, 'wünschen': 2283, 'berühren': 2284, 'massage': 2285, 'all': 2286, 'wasserhahn': 2287, 'wovor': 2288, 'bewegung': 2289, 'drück': 2290, 'stürzte': 2291, 'versuch’s': 2292, 'entspann': 2293, 'verdufte': 2294, 'leine': 2295, 'repariere': 2296, 'ernsthaft': 2297, 'verboten': 2298, 'losgehen': 2299, 'schwamm': 2300, 'beruhige': 2301, 'weine': 2302, 'fantastisch': 2303, 'verspreche': 2304, 'kühl': 2305, 'dreh': 2306, 'siegen': 2307, 'nützlich': 2308, 'bewegt': 2309, 'such': 2310, 'kunst': 2311, 'zurückgetreten': 2312, 'kostenlos': 2313, 'wachsam': 2314, 'schmecken': 2315, 'gehauen': 2316, 'heulen': 2317, 'form': 2318, 'kreativ': 2319, 'fischen': 2320, 'sand': 2321, 'gerührt': 2322, 'nachsehen': 2323, 'krankenschwester': 2324, 'legal': 2325, 'eures': 2326, 'nebel': 2327, 'bewölkt': 2328, 'versuchs': 2329, 'wirs': 2330, 'probiert': 2331, 'entkam': 2332, 'blickte': 2333, 'eingebildet': 2334, 'angehalten': 2335, 'bewaffnet': 2336, 'woran': 2337, 'objektiv': 2338, 'geht’s': 2339, 'gefehlt': 2340, 'kater': 2341, 'heiliger': 2342, 'voran': 2343, 'hammer': 2344, 'süße': 2345, 'kontrolle': 2346, 'liegen': 2347, 'launisch': 2348, 'clever': 2349, 'angefahren': 2350, 'langweilen': 2351, 'sicherheitsdienst': 2352, 'engländer': 2353, '1000': 2354, 'aufregend': 2355, 'amerikanerin': 2356, 'zusehen': 2357, 'gefüttert': 2358, 'ahnung': 2359, 'gemeldet': 2360, 'erlaube': 2361, 'tatverdächtiger': 2362, 'tourist': 2363, 'perücke': 2364, 'trifft': 2365, 'nervt': 2366, 'wunderschön': 2367, 'unwahrscheinlich': 2368, 'kontakt': 2369, 'fortgehen': 2370, 'zurückgehen': 2371, 'niedlich': 2372, 'tatsache': 2373, 'besteht': 2374, 'braun': 2375, 'abschluss': 2376, 'reingelegt': 2377, 'hinkt': 2378, 'passierte': 2379, 'summt': 2380, 'irrst': 2381, 'verdorben': 2382, 'kühe': 2383, 'motor': 2384, 'sagtest': 2385, 'spieler': 2386, 'eurem': 2387, 'banane': 2388, 'nietenhose': 2389, 'lkw': 2390, 'harvard': 2391, 'tante': 2392, 'optimistisch': 2393, 'optimist': 2394, 'arbeitslos': 2395, 'überlassen': 2396, 'blond': 2397, 'hinsetzen': 2398, 'gestiegen': 2399, 'erzähle': 2400, 'wären': 2401, 'huhn': 2402, 'dach': 2403, 'idioten': 2404, 'überlegt': 2405, 'geschnappt': 2406, 'ford': 2407, 'pingelig': 2408, 'sympathisch': 2409, 'gewalttätig': 2410, 'erinnerte': 2411, 'gelaunt': 2412, 'furchtlos': 2413, 'mussten': 2414, 'weggenommen': 2415, 'verletzen': 2416, 'geist': 2417, 'zählt': 2418, 'erinnerst': 2419, 'taschen': 2420, 'träumt': 2421, 'fahrt': 2422, 'sprachlos': 2423, 'reserviert': 2424, 'riskieren': 2425, 'kälte': 2426, 'theorie': 2427, 'gegend': 2428, 'baseball': 2429, 'rom': 2430, 'rasieren': 2431, 'gespielt': 2432, 'spanisch': 2433, 'gedemütigt': 2434, 'skeptisch': 2435, 'bar': 2436, 'gutaussehend': 2437, 'zuverlässig': 2438, 'rolle': 2439, 'wechselgeld': 2440, 'aufgegangen': 2441, 'sängerin': 2442, 'hase': 2443, 'bezahlung': 2444, 'trocken': 2445, 'ums': 2446, 'redete': 2447, 'gefolgt': 2448, 'verrückter': 2449, 'hoffnungsloser': 2450, 'unreif': 2451, 'rücksichtslos': 2452, 'zündete': 2453, 'nahmen': 2454, 'brachten': 2455, 'beiträge': 2456, 'wusstest': 2457, 'kartoffeln': 2458, 'aufgehalten': 2459, 'frankreich': 2460, 'brieftasche': 2461, 'hüte': 2462, 'akzeptiere': 2463, 'wenige': 2464, 'stifte': 2465, 'schokolade': 2466, 'mitglied': 2467, 'deines': 2468, 'droge': 2469, 'johannes': 2470, 'schlägt': 2471, 'o': 2472, 'reifen': 2473, 'artikel': 2474, 'scheiden': 2475, 'besetzt': 2476, 'verschlossen': 2477, 'dienstag': 2478, '2013': 2479, 'akzeptieren': 2480, 'stellt': 2481, 'angewiesen': 2482, 'begraben': 2483, 'wovon': 2484, 'hinzu': 2485, 'aufgewachsen': 2486, 'ausleihen': 2487, 'saft': 2488, 'rose': 2489, 'persönlich': 2490, 'gentleman': 2491, 'inkompetent': 2492, 'beging': 2493, 'kyoto': 2494, 'stahl': 2495, 'hinwegkommen': 2496, 'eurer': 2497, 'platten': 2498, 'lösung': 2499, 'farben': 2500, 'leiter': 2501, 'erzählte': 2502, 'geträumt': 2503, 'beeindruckend': 2504, 'geplant': 2505, 'notfall': 2506, 'stil': 2507, 'reichen': 2508, 'schultern': 2509, 'schweigen': 2510, 'herzen': 2511, 'gewehr': 2512, 'betrifft': 2513, 'möhren': 2514, 'reist': 2515, 'kalte': 2516, 'alten': 2517, 'helm': 2518, 'einzelkind': 2519, 'reiten': 2520, 'vorstellen': 2521, 'zahnschmerzen': 2522, 'weglaufen': 2523, 'liebsten': 2524, 'reiste': 2525, 'zugenommen': 2526, 'schliefen': 2527, 'kuh': 2528, 'beigebracht': 2529, 'zufall': 2530, 'anziehen': 2531, 'bekommst': 2532, 'wärst': 2533, 'wenigstens': 2534, 'bremsen': 2535, 'verdiene': 2536, 'dauerte': 2537, 'echte': 2538, 'eigene': 2539, 'art': 2540, 'abgefahren': 2541, 'halbbruder': 2542, 'jünger': 2543, 'drink': 2544, 'gebäude': 2545, 'halsschmerzen': 2546, 'anzurufen': 2547, 'gewöhnt': 2548, 'kosten': 2549, 'tagen': 2550, 'täte': 2551, 'entsetzlich': 2552, 'alpträume': 2553, 'tänzer': 2554, 'halfen': 2555, 'gegenseitig': 2556, 'hättet': 2557, 'wunder': 2558, 'deutschland': 2559, 'konntest': 2560, 'ärger': 2561, 'keller': 2562, 'volleyball': 2563, 'rohe': 2564, 'vermutlich': 2565, 'probiere': 2566, 'verzieh': 2567, 'verkrümele': 2568, 'troll': 2569, 'zisch': 2570, '’ne': 2571, 'schwirr': 2572, 'sause': 2573, 'bins': 2574, 'gerannt': 2575, 'handschellen': 2576, 'deckung': 2577, 'beruhigen': 2578, 'geschummelt': 2579, 'gewinne': 2580, 'locker': 2581, 'winkte': 2582, 'stinkt': 2583, 'liege': 2584, 'geriet': 2585, 'übergeben': 2586, 'verstecke': 2587, 'jesus': 2588, 'stieß': 2589, 'tanzte': 2590, 'kämpfte': 2591, 'stöhnte': 2592, 'seufzte': 2593, 'teile': 2594, 'jazz': 2595, 'rock': 2596, 'bargeld': 2597, 'sterbe': 2598, 'nichtsnutz': 2599, 'gescheitert': 2600, 'wärs': 2601, 'fünfzig': 2602, 'schade': 2603, 'pflanzen': 2604, 'lächelten': 2605, 'betrog': 2606, 'drein': 2607, 'leidet': 2608, 'dachschaden': 2609, 'leitung': 2610, 'stolperte': 2611, 'zäh': 2612, 'setzten': 2613, 'schwindlig': 2614, 'auszugehen': 2615, 'herauf': 2616, 'unterschrieben': 2617, 'tu’s': 2618, 'nerv': 2619, 'frohe': 2620, 'stritt': 2621, 'dichter': 2622, 'super': 2623, 'töricht': 2624, 'unterstütze': 2625, 'romantisch': 2626, 'schwindelig': 2627, 'erschüttert': 2628, 'stecke': 2629, 'stau': 2630, 'unverletzt': 2631, 'schieße': 2632, 'frucht': 2633, 'unmoralisch': 2634, 'pfeife': 2635, 'zeig’s': 2636, 'aufhört': 2637, 'unterbrechen': 2638, 'beeilt': 2639, 'summen': 2640, 'pfiff': 2641, 'raten': 2642, 'gestanden': 2643, 'schauten': 2644, 'saßen': 2645, 'trauen': 2646, 'amüsieren': 2647, 'werd': 2648, 'japanerin': 2649, 'grippe': 2650, 'visum': 2651, 'natur': 2652, 'weckte': 2653, 'gedichte': 2654, 'verhindern': 2655, 'motiviert': 2656, 'geruch': 2657, 'gelaufen': 2658, 'eintreten': 2659, 'rückenschmerzen': 2660, 'eulen': 2661, 'zuversichtlich': 2662, 'landkarte': 2663, 'betet': 2664, 'narr': 2665, 'erinnert': 2666, 'genervt': 2667, 'fußboden': 2668, 'verspäten': 2669, 'ärzte': 2670, 'zugetragen': 2671, 'post': 2672, 'schaust': 2673, 'schläfst': 2674, 'versuchung': 2675, 'genieße': 2676, 'steige': 2677, 'getäuscht': 2678, 'rasch': 2679, 'bremse': 2680, 'geschenke': 2681, 'durchgefallen': 2682, 'briefmarke': 2683, 'verabschiedete': 2684, 'nannte': 2685, 'gehaltserhöhung': 2686, 'einladen': 2687, 'freier': 2688, 'gefangener': 2689, 'überarbeitet': 2690, 'hellwach': 2691, 'lächelt': 2692, 'verkauf': 2693, 'schneite': 2694, 'überlasst': 2695, 'anschließen': 2696, 'vorüber': 2697, 'satz': 2698, 'erreicht': 2699, 'aufzustehen': 2700, 'wich': 2701, 'anruf': 2702, 'überfallen': 2703, 'amüsant': 2704, 'wache': 2705, 'sanft': 2706, 'skifahren': 2707, 'eifrig': 2708, 'bezaubernd': 2709, 'wasch': 2710, 'fürchterlich': 2711, 'partner': 2712, 'gedanke': 2713, 'nützt': 2714, 'trinkgeld': 2715, 'scharf': 2716, 'wirds': 2717, 'vertraust': 2718, 'gönne': 2719, 'schlauer': 2720, 'surfen': 2721, 'schätzen': 2722, 'orange': 2723, 'erleichtert': 2724, 'wiedergesehen': 2725, 'armee': 2726, 'eimer': 2727, 'kooperieren': 2728, 'zimmermann': 2729, 'dicke': 2730, 'versalzen': 2731, 'notwendig': 2732, 'schmeckte': 2733, 'süßen': 2734, 'überraschung': 2735, 'glocke': 2736, 'betrachte': 2737, 'unvermeidlich': 2738, 'grau': 2739, 'angenehm': 2740, 'ändert': 2741, 'setze': 2742, 'heben': 2743, 'unterlasse': 2744, 'pfeffer': 2745, 'feucht': 2746, 'soldat': 2747, 'fuhren': 2748, 'dreckig': 2749, 'handelte': 2750, 'genießt': 2751, 'fütterte': 2752, 'gewisser': 2753, 'prinz': 2754, 'glaubwürdig': 2755, 'flexibel': 2756, 'talentiert': 2757, 'dreizehn': 2758, 'rechthaberisch': 2759, 'möge': 2760, 'bären': 2761, 'rühren': 2762, 'neffe': 2763, 'aufzuhalten': 2764, 'zehen': 2765, 'nachbarn': 2766, 'zoo': 2767, 'achtung': 2768, 'polizisten': 2769, 'bestellung': 2770, 'spiegel': 2771, 'schließt': 2772, 'täuschen': 2773, 'erwischen': 2774, 'verpetzt': 2775, 'mahlzeiten': 2776, 'erkläre': 2777, 'aggressiv': 2778, 'freigesprochen': 2779, 'kluger': 2780, 'intelligent': 2781, 'schwitzen': 2782, 'backen': 2783, 'gezogen': 2784, 'schlimme': 2785, 'quittung': 2786, 'zwanzig': 2787, 'übung': 2788, 'roman': 2789, 'kochte': 2790, 'band': 2791, 'erkannte': 2792, 'hierbleiben': 2793, 'bestraft': 2794, 'abnehmen': 2795, 'ersetzen': 2796, 'dachboden': 2797, 'euro': 2798, 'deren': 2799, 'bauchschmerzen': 2800, 'spielzeug': 2801, 'kennenzulernen': 2802, 'behutsam': 2803, 'trockenes': 2804, 'befördert': 2805, 'vorhang': 2806, 'alibi': 2807, 'steuer': 2808, 'entsetzt': 2809, 'total': 2810, 'begriff': 2811, 'kauft': 2812, 'schüsse': 2813, 'klassenkameraden': 2814, 'aussicht': 2815, 'lustiger': 2816, 'festgenommen': 2817, 'dame': 2818, 'schlechten': 2819, 'krankenwagen': 2820, 'lohnt': 2821, 'hierhergekommen': 2822, 'wiederholen': 2823, 'stock': 2824, 'ergriff': 2825, 'braune': 2826, 'grüne': 2827, 'selbstmord': 2828, 'hals': 2829, 'beiseite': 2830, 'geklaut': 2831, 'daneben': 2832, 'gleichen': 2833, 'bade': 2834, 'schließlich': 2835, 'wrack': 2836, 'hälfte': 2837, 'direkt': 2838, 'kunden': 2839, 'reines': 2840, '20': 2841, 'aufzuhören': 2842, 'rechten': 2843, 'aufbrechen': 2844, 'unternehmen': 2845, 'sterne': 2846, 'erkenne': 2847, 'belästigen': 2848, 'aspirin': 2849, 'herr': 2850, 'verlust': 2851, 'ersten': 2852, 'pistole': 2853, 'arme': 2854, 'unflexibel': 2855, 'misstrauisch': 2856, 'miete': 2857, 'frische': 2858, 'kleider': 2859, 'hattet': 2860, 'einladung': 2861, 'stecken': 2862, 'mieten': 2863, 'blödsinn': 2864, 'tinte': 2865, 'schilde': 2866, 'gepäck': 2867, 'roten': 2868, 'datei': 2869, 'email': 2870, 'anstellung': 2871, 'türen': 2872, 'per': 2873, 'decke': 2874, 'eingehen': 2875, 'furcht': 2876, 'blöde': 2877, 'kühlschrank': 2878, 'erstes': 2879, 'europa': 2880, 'endgültig': 2881, 'wünscht': 2882, 'text': 2883, 'tauchte': 2884, 'maske': 2885, 'hinweis': 2886, 'hübsches': 2887, 'krähe': 2888, 'gelöst': 2889, 'liefen': 2890, 'aushalten': 2891, 'instinkt': 2892, 'langer': 2893, 'seltsamer': 2894, 'worin': 2895, 'stehst': 2896, 'erfahrung': 2897, 'abholen': 2898, 'jederzeit': 2899, 'wettbewerb': 2900, 'gedrückt': 2901, 'kochst': 2902, 'albern': 2903, 'gemüse': 2904, 'berg': 2905, 'jenem': 2906, 'geschah': 2907, 'firma': 2908, 'angeboten': 2909, 'ausgezogen': 2910, 'zerriss': 2911, 'damals': 2912, 'wiedergutmachen': 2913, 'englischen': 2914, 'elf': 2915, 'zimmernummer': 2916, 'schenkte': 2917, 'menschenverstand': 2918, 'bluse': 2919, 'reißverschluss': 2920, 'handstand': 2921, 'tapferer': 2922, 'gefasst': 2923, 'unserem': 2924, 'duschen': 2925, 'klingst': 2926, 'schaff': 2927, 'gehör': 2928, 'töchter': 2929, 'ausgedacht': 2930, 'bügelte': 2931, 'duscht': 2932, 'lache': 2933, 'bessere': 2934, 'leichte': 2935, 'beurteilt': 2936, 'unterschätzt': 2937, 'allergisch': 2938, 'aufzug': 2939, 'bäume': 2940, 'münze': 2941, 'tänzerin': 2942, 'weich': 2943, 'hereingekommen': 2944, 'neigt': 2945, 'badezimmer': 2946, 'nachprüfen': 2947, 'verdienst': 2948, 'stets': 2949, 'zurückzutreten': 2950, 'wiederzusehen': 2951, 'ganzes': 2952, 'seines': 2953, 'stärker': 2954, 'dunkelheit': 2955, 'hergekommen': 2956, 'französischen': 2957, 'bedient': 2958, 'wüsste': 2959, 'schrecklicher': 2960, 'verwirrend': 2961, 'tages': 2962, 'kindern': 2963, 'eigenen': 2964, 'lautete': 2965, 'gewöhnen': 2966, 'suchst': 2967, 'gekündigt': 2968, 'krankheit': 2969, 'a': 2970, 'ausgeschlossen': 2971, 'schlage': 2972, 'drückt': 2973, 'vergnügen': 2974, 'feier': 2975, 'weigere': 2976, 'rasierte': 2977, 'seins': 2978, 'gezahlt': 2979, 'stirb': 2980, 'träge': 2981, 'kasse': 2982, 'nüchtern': 2983, 'verbrannte': 2984, 'geklappt': 2985, 'sitz': 2986, 'machs': 2987, 'warteten': 2988, 'fährst': 2989, 'ignorier': 2990, 'ach': 2991, 'genügen': 2992, 'versagt': 2993, 'schnappte': 2994, 'gesprungen': 2995, 'gehorcht': 2996, 'gebetet': 2997, 'streng': 2998, 'strengt': 2999, 'quitt': 3000, 'setzt': 3001, 'lach': 3002, 'davongekommen': 3003, 'blödmann': 3004, 'online': 3005, 'rindfleisch': 3006, 'sollst': 3007, 'ufo': 3008, 'langweilte': 3009, 'verwenden': 3010, 'siebzehn': 3011, 'tanze': 3012, 'summe': 3013, 'rente': 3014, 'erschrocken': 3015, 'fassungslos': 3016, 'zweck': 3017, 'klatschte': 3018, 'ertrank': 3019, 'kniete': 3020, 'aussteigen': 3021, 'witzig': 3022, 'drehe': 3023, 'zubereiten': 3024, 'stirbt': 3025, 'gibts': 3026, 'einzuwenden': 3027, 'geister': 3028, 'fröhliche': 3029, 'läufer': 3030, 'einfältig': 3031, 'unterstützen': 3032, 'zeichnen': 3033, 'lebendig': 3034, 'joggen': 3035, 'kuli': 3036, 'angestrengt': 3037, 'kriege': 3038, 'jäger': 3039, 'süchtig': 3040, 'ertrinken': 3041, 'achtzehn': 3042, 'spinne': 3043, 'schweine': 3044, 'taten': 3045, 'fuchs': 3046, 'verklagt': 3047, 'hielten': 3048, 'merken': 3049, 'nahrung': 3050, 'ekelhaft': 3051, 'treu': 3052, 'gruselig': 3053, 'vage': 3054, 'gewitzt': 3055, 'ausgebrochen': 3056, 'thomas': 3057, 'zuckte': 3058, 'verschwand': 3059, 'keinem': 3060, 'nutze': 3061, 'niete': 3062, 'ausreichend': 3063, 'vergingen': 3064, 'dämlich': 3065, 'langweilt': 3066, 'schlittschuh': 3067, 'erblindete': 3068, 'lästig': 3069, 'tokyo': 3070, 'hieressen': 3071, 'verspätet': 3072, 'diabetiker': 3073, 'übertrieben': 3074, 'leide': 3075, 'zwiebeln': 3076, 'züge': 3077, 'herbst': 3078, 'pandas': 3079, 'faust': 3080, 'gekocht': 3081, 'zubereitet': 3082, 'spaziergang': 3083, 'schwimmbecken': 3084, 'waisenkind': 3085, 'hoffnungslos': 3086, 'verbessert': 3087, 'zahle': 3088, 'kontrolliert': 3089, 'behalt': 3090, 'gefressen': 3091, 'nacken': 3092, 'oh': 3093, 'rühr': 3094, 'verschieden': 3095, 'kopie': 3096, 'mochten': 3097, 'wahnsinn': 3098, 'beifall': 3099, 'gestand': 3100, 'trainiert': 3101, 'poet': 3102, 'packt': 3103, 'prima': 3104, 'angestellt': 3105, 'fastet': 3106, 'wirkst': 3107, 'verlierst': 3108, 'benimm': 3109, 'bereiten': 3110, 'abgeschnitten': 3111, 'genießen': 3112, 'steigt': 3113, 'herzlichen': 3114, 'glückwunsch': 3115, 'drachen': 3116, 'zwölf': 3117, 'faulpelz': 3118, 'vergeht': 3119, 'breit': 3120, 'insekten': 3121, 'geschichten': 3122, 'jagen': 3123, 'unterstützung': 3124, 'operiert': 3125, '100': 3126, 'bezahle': 3127, 'gründlich': 3128, 'popcorn': 3129, 'anfänger': 3130, 'verkäufer': 3131, 'ferien': 3132, 'untalentiert': 3133, 'angeschossen': 3134, 'eigenartig': 3135, 'starben': 3136, 'schickt': 3137, 'wild': 3138, 'ärgerte': 3139, 'schwanger': 3140, 'tratschen': 3141, 'erfordert': 3142, 'fix': 3143, 'turm': 3144, 'logisch': 3145, 'unverschämt': 3146, 'leckt': 3147, 'überlegen': 3148, 'rüber': 3149, 'ignorierte': 3150, 'hinterhältig': 3151, 'konzentriert': 3152, 'klüger': 3153, 'besonderes': 3154, 'grüßen': 3155, 'anscheinend': 3156, 'gestochen': 3157, 'notizen': 3158, 'risiken': 3159, 'unordentlich': 3160, 'beißen': 3161, 'harmlos': 3162, 'obdachlos': 3163, 'boss': 3164, 'wasche': 3165, 'streit': 3166, 'anhalten': 3167, 'hilflos': 3168, 'beschwert': 3169, 'führung': 3170, 'riechst': 3171, 'neidisch': 3172, 'bienen': 3173, 'doof': 3174, 'reagiert': 3175, 'wunde': 3176, 'hintergangen': 3177, 'gärtner': 3178, 'fotogen': 3179, 'patsche': 3180, 'rauch': 3181, 'zurückkehren': 3182, 'kontaktiert': 3183, '300': 3184, '10': 3185, 'andauernd': 3186, 'niesen': 3187, 'typen': 3188, 'rotwein': 3189, 'unbedingt': 3190, 'brauch': 3191, 'schüttelte': 3192, 'roch': 3193, 'speck': 3194, 'verteidigen': 3195, 'bestelle': 3196, 'beschwipst': 3197, 'flehe': 3198, 'eigener': 3199, 'ersetzbar': 3200, 'peinlich': 3201, 'kämpft': 3202, 'positiv': 3203, 'herrschte': 3204, 'frost': 3205, 'erschreckend': 3206, 'pfund': 3207, 'rest': 3208, 'entscheide': 3209, 'anprobieren': 3210, 'ohrfeige': 3211, 'aufgeweckt': 3212, 'tabletten': 3213, 'kindisch': 3214, 'knurrte': 3215, 'stank': 3216, 'jene': 3217, 'jedem': 3218, 'verfolgte': 3219, 'leistete': 3220, 'gezeigt': 3221, 'unbehaglich': 3222, 'arrogant': 3223, 'zögert': 3224, 'empört': 3225, 'angewidert': 3226, 'unruhig': 3227, 'verhungert': 3228, 'stur': 3229, 'verschwender': 3230, 'verschwenderisch': 3231, 'streichholz': 3232, 'angespannt': 3233, 'wandte': 3234, 'schämte': 3235, 'fliehen': 3236, 'streiten': 3237, 'herausfinden': 3238, 'verantwortlich': 3239, 'getrennt': 3240, 'motivation': 3241, 'erholen': 3242, 'wusstet': 3243, 'leidtun': 3244, 'weniger': 3245, 'zauberer': 3246, 'aufpassen': 3247, 'putzen': 3248, 'zwinge': 3249, 'reiß': 3250, 'kanntest': 3251, 'weinst': 3252, 'gemerkt': 3253, 'flog': 3254, 'schrei': 3255, 'heimgekommen': 3256, 'belog': 3257, 'sonntags': 3258, 'erwachsener': 3259, 'historiker': 3260, 'pferden': 3261, 'freitag': 3262, 'sonderbar': 3263, 'auswärts': 3264, 'eingefangen': 3265, 'comics': 3266, 'keines': 3267, 'machtlos': 3268, 'anweisungen': 3269, 'achte': 3270, 'wald': 3271, 'begangen': 3272, 'rieb': 3273, 'heimgehen': 3274, 'verspätete': 3275, 'allem': 3276, '24': 3277, 'journalist': 3278, 'händen': 3279, 'ansteckend': 3280, 'trick': 3281, 'nenn': 3282, 'links': 3283, 'poker': 3284, 'zurücktreten': 3285, 'wenden': 3286, 'beschweren': 3287, 'angeschaut': 3288, 'überraschte': 3289, 'belügen': 3290, 'duftet': 3291, 'verräter': 3292, 'gewachsen': 3293, 'brötchen': 3294, 'gewechselt': 3295, 'erhielt': 3296, 'süden': 3297, 'sirenen': 3298, 'kompetent': 3299, 'emotional': 3300, 'ausgezeichnet': 3301, 'impulsiv': 3302, 'unaufrichtig': 3303, 'führer': 3304, 'sarkastisch': 3305, 'pfeift': 3306, 'packte': 3307, 'veränderung': 3308, 'ebenfalls': 3309, 'nah': 3310, 'sieg': 3311, 'umzingelt': 3312, 'welch': 3313, 'benachrichtigt': 3314, 'entfernt': 3315, 'therapie': 3316, 'bürgermeister': 3317, 'bauen': 3318, 'fakten': 3319, 'haustier': 3320, 'männern': 3321, 'vase': 3322, 'kurzes': 3323, 'mutiger': 3324, 'wissenschaftler': 3325, 'russisch': 3326, 'aufenthalt': 3327, 'chopin': 3328, 'verlange': 3329, 'pool': 3330, 'umsonst': 3331, 'rosa': 3332, 'modell': 3333, 'video': 3334, 'teller': 3335, 'arbeitszeit': 3336, 'zahnarzt': 3337, 'verheirateter': 3338, 'vermute': 3339, 'geregnet': 3340, 'wächst': 3341, 'fettig': 3342, 'möglichkeit': 3343, 'pfanne': 3344, 'strohhalme': 3345, 'personalausweis': 3346, 'vorhersage': 3347, 'brett': 3348, 'zeitverschwendung': 3349, 'vergeude': 3350, 'entschied': 3351, 'hinzugehen': 3352, 'ausgesehen': 3353, 'wäsche': 3354, 'hiervon': 3355, 'medizin': 3356, 'doktor': 3357, 'schwerer': 3358, 'einstellung': 3359, 'deckel': 3360, 'tranken': 3361, 'mörder': 3362, 'wundervoll': 3363, 'schafft': 3364, 'änderte': 3365, 'sonnenbrand': 3366, '7': 3367, 'falschen': 3368, 'gelegt': 3369, 'unentschlossen': 3370, 'marmelade': 3371, 'putzte': 3372, 'übers': 3373, 'wechselte': 3374, 'geklungen': 3375, 'drohte': 3376, 'wochen': 3377, 'ausschau': 3378, 'bittet': 3379, 'hergestellt': 3380, 'wurdest': 3381, 'umwerfend': 3382, 'überdrüssig': 3383, 'bedankt': 3384, 'nachgeprüft': 3385, 'mozart': 3386, 'zwing': 3387, 'langen': 3388, 'abenteuer': 3389, 'aufmerksamkeit': 3390, 'berührte': 3391, 'kilo': 3392, 'ich’s': 3393, 'pro': 3394, 'bezweifele': 3395, 'reichte': 3396, 'festen': 3397, 'geschwister': 3398, 'kriegen': 3399, 'kameras': 3400, 'häufig': 3401, 'neulich': 3402, 'stecker': 3403, 'zuzuhören': 3404, 'anzufangen': 3405, 'doppelt': 3406, 'geladen': 3407, 'lecker': 3408, 'dumme': 3409, 'verzichten': 3410, 'marie': 3411, 'feiertag': 3412, 'holt': 3413, 'müll': 3414, 'spielsachen': 3415, 'kraft': 3416, 'luftpost': 3417, 'anzuschreien': 3418, 'überraschend': 3419, 'hübscher': 3420, 'trottel': 3421, 'nervig': 3422, 'scheune': 3423, 'ampel': 3424, 'zugefroren': 3425, 'hemden': 3426, 'soldaten': 3427, 'löste': 3428, 'leichter': 3429, 'ausgelacht': 3430, 'cousinen': 3431, 'diebstahl': 3432, 'schraube': 3433, 'schnarchen': 3434, 'esser': 3435, 'wahrer': 3436, 'new': 3437, 'guckt': 3438, 'abgelegt': 3439, 'fahne': 3440, 'wehte': 3441, 'geschmeckt': 3442, 'vertrag': 3443, 'amüsierten': 3444, 'trieb': 3445, 'hingelegt': 3446, 'hingestellt': 3447, 'hingetan': 3448, 'hereingelassen': 3449, 'rausschmeißen': 3450, 'besseres': 3451, 'zunichte': 3452, 'plätze': 3453, 'wage': 3454, 'missbraucht': 3455, 'laute': 3456, 'wäscht': 3457, 'erreichte': 3458, 'anfangs': 3459, 'bedingungen': 3460, 'schwimmer': 3461, 'bleistifte': 3462, 'räumte': 3463, 'aufgehoben': 3464, 'kartoffelsalat': 3465, 'beherrschung': 3466, 'geputzt': 3467, 'antrag': 3468, 'gesandt': 3469, 'steak': 3470, 'einzelheiten': 3471, 'konzert': 3472, 'assistent': 3473, 'vorm': 3474, 'vollen': 3475, 'japanisches': 3476, 'prophezeiung': 3477, 'kinderspiel': 3478, 'ziele': 3479, 'weitere': 3480, 'zeugen': 3481, 'schublade': 3482, 'sammelt': 3483, 'unwiderstehlich': 3484, 'scharfes': 3485, 'käfig': 3486, 'zeh': 3487, 'schwierige': 3488, 'richtung': 3489, 'wievielte': 3490, 'vergesse': 3491, 'karton': 3492, 'kanadierin': 3493, 'kanadierinnen': 3494, 'fahrkarte': 3495, 'katalanisch': 3496, 'redest': 3497, 'fertiggestellt': 3498, 'vermessen': 3499, 'ausgemessen': 3500, 'angenommen': 3501, 'tanz': 3502, 'atemzug': 3503, 'einkommen': 3504, 'fauler': 3505, 'zufriedenzustellen': 3506, 'durchaus': 3507, 'herausgefunden': 3508, 'verzeihung': 3509, 'gesucht': 3510, 'male': 3511, 'theater': 3512, 'seele': 3513, 'mode': 3514, 'repariert': 3515, 'gepasst': 3516, 'schreckliche': 3517, 'absichtlich': 3518, 'frühstücken': 3519, 'linke': 3520, 'oberhalb': 3521, 'laden': 3522, 'schlafzimmer': 3523, 'gespräch': 3524, 'extrem': 3525, 'uninteressant': 3526, 'verlässlich': 3527, 'schaltete': 3528, 'weiterhin': 3529, 'diagnose': 3530, 'annehmen': 3531, 'bevor': 3532, 'lieder': 3533, 'piano': 3534, 'apfelsinen': 3535, 'schauspielerin': 3536, 'afrika': 3537, 'einziger': 3538, 'gezählt': 3539, 'klingen': 3540, 'sonderlich': 3541, 'solle': 3542, 'großmutter': 3543, 'traurige': 3544, 'überstürzen': 3545, 'überlaufen': 3546, 'flughafen': 3547, 'austern': 3548, 'kratzte': 3549, 'pochi': 3550, 'nannten': 3551, 'beibringen': 3552, 'hilfst': 3553, 'unterschätze': 3554, 'dutzend': 3555, 'baseballspieler': 3556, 'lösen': 3557, 'asyl': 3558, 'angelegenheiten': 3559, 'schweren': 3560, 'festhalten': 3561, 'knoten': 3562, 'grüß': 3563, 'zahlte': 3564, '19': 3565, 'verpiss': 3566, 'tschüss': 3567, 'nachlassen': 3568, 'schnarche': 3569, 'zeigs': 3570, 'maul': 3571, 'wachen': 3572, 'läufst': 3573, 'fasst': 3574, 'reg': 3575, 'hervorragend': 3576, 'versuchten': 3577, 'bellen': 3578, 'fühl': 3579, 'dj': 3580, 'willen': 3581, 'brannte': 3582, 'behaltet': 3583, 'beweg': 3584, 'hinten': 3585, 'selbstverständlich': 3586, 'unterschreibe': 3587, 'übernimm': 3588, 'verneigte': 3589, 'wählte': 3590, 'stimmten': 3591, 'herrlich': 3592, 'tatsachen': 3593, 'trag': 3594, 'prüfe': 3595, 'volltanken': 3596, 'vergib': 3597, 'existiert': 3598, 'schaffte': 3599, 'elegant': 3600, 'absurd': 3601, 'geb': 3602, 'abgesagt': 3603, 'überlebte': 3604, 'verwende': 3605, 'beruhigt': 3606, 'riech': 3607, 'rülpste': 3608, 'betrügt': 3609, 'schummelt': 3610, 'inne': 3611, 'telefonierte': 3612, 'geraucht': 3613, 'punkt': 3614, 'zähl': 3615, 'betrüge': 3616, 'zwilling': 3617, 'netz': 3618, 'zögerte': 3619, 'fliegende': 3620, 'untertasse': 3621, 'gesorgt': 3622, 'teilnehmen': 3623, 'fälschung': 3624, 'geheim': 3625, 'sies': 3626, 'loslegen': 3627, 'wachsen': 3628, 'schießt': 3629, 'enorm': 3630, 'umarmten': 3631, 'mist': 3632, 'blinzelte': 3633, 'jubelte': 3634, 'ordentlich': 3635, 'aufgeblasen': 3636, 'rutschte': 3637, 'bescheuert': 3638, 'nächster': 3639, 'melde': 3640, 'meldet': 3641, 'seh': 3642, 'mach’s': 3643, 'sitzenlassen': 3644, 'erbärmlich': 3645, 'chinese': 3646, 'blendend': 3647, 'sputen': 3648, 'versagen': 3649, 'nachschauen': 3650, 'eisen': 3651, 'pflanze': 3652, 'niedrig': 3653, 'renn': 3654, 'red': 3655, 'kiefer': 3656, 'schäm': 3657, 'erschoss': 3658, 'weilchen': 3659, 'kommando': 3660, 'nimms': 3661, 'schnitt': 3662, 'grimassen': 3663, 'verzog': 3664, 'bestand': 3665, 'spion': 3666, 'widersprach': 3667, 'erhob': 3668, 'ratet': 3669, 'gebrauch': 3670, 'abwarten': 3671, 'weck': 3672, 'blickten': 3673, 'vorurteile': 3674, 'amüsierst': 3675, 'bleibst': 3676, 'stirbst': 3677, 'scharfsinnig': 3678, 'fan': 3679, 'langweilst': 3680, 'abreißen': 3681, 'vati': 3682, 'töte': 3683, 'kreis': 3684, 'füttere': 3685, 'ruhen': 3686, 'erster': 3687, 'rollschuh': 3688, 'hereingelegt': 3689, 'bedienen': 3690, 'moslem': 3691, 'kioto': 3692, 'manches': 3693, 'französische': 3694, 'kanns': 3695, 'übernehme': 3696, 'studentin': 3697, 'geschmeichelt': 3698, 'unversichert': 3699, 'bullen': 3700, 'kontrollier': 3701, 'fortfahren': 3702, 'mutti': 3703, 'tresor': 3704, 'verändern': 3705, 'würfel': 3706, 'deutlich': 3707, 'rührt': 3708, 'anzugeben': 3709, 'misch': 3710, 'liebten': 3711, 'sportler': 3712, 'sparsam': 3713, 'stürmte': 3714, 'beängstigend': 3715, 'westen': 3716, 'erstaunlich': 3717, 'verunsichert': 3718, 'humpelt': 3719, 'einziehen': 3720, 'verschwinden': 3721, 'cola': 3722, 'geeignet': 3723, 'junggeselle': 3724, 'untergehen': 3725, 'gras': 3726, 'hälften': 3727, 'erledige': 3728, 'schnurren': 3729, 'ihr’s': 3730, 'ärgere': 3731, 'vorführung': 3732, 'entledigen': 3733, 'ran': 3734, 'küss': 3735, 'respektiert': 3736, 'gelähmt': 3737, 'versteck': 3738, 'schüchterner': 3739, 'hundemüde': 3740, 'befinde': 3741, 'deinetwegen': 3742, 'verachtet': 3743, 'glücksspiel': 3744, 'ehefrau': 3745, 'universität': 3746, 'zigarette': 3747, 'besitze': 3748, 'bog': 3749, 'gefoltert': 3750, 'brillenträger': 3751, 'mitbringen': 3752, 'umziehen': 3753, 'älteste': 3754, 'bär': 3755, 'bestens': 3756, 'kenntnis': 3757, 'unterlassen': 3758, 'wissenschaft': 3759, 'hinreißend': 3760, 'illegal': 3761, 'haken': 3762, 'hassten': 3763, 'defekt': 3764, 'ärgert': 3765, 'näherte': 3766, 'schwänzt': 3767, 'baut': 3768, 'verlierer': 3769, 'minderjährig': 3770, 'pilot': 3771, 'intensiv': 3772, 'liebenswert': 3773, 'geizig': 3774, 'zittert': 3775, 'verwöhnt': 3776, 'berührt': 3777, 'unbeeindruckt': 3778, 'gepflegt': 3779, 'gescheit': 3780, 'thunfisch': 3781, 'innen': 3782, 'heulte': 3783, 'zweiter': 3784, 'empfindlich': 3785, 'verhandeln': 3786, 'vertrauten': 3787, 'widerst': 3788, 'schaffst': 3789, 'fit': 3790, 'gewinnst': 3791, 'honig': 3792, 'bürste': 3793, 'auslassen': 3794, 'dus': 3795, 'lüg': 3796, 'vertrau': 3797, 'gönnen': 3798, 'morgengrauen': 3799, 'lernte': 3800, 'linkshänder': 3801, 'hellte': 3802, 'ausweis': 3803, 'dreiviertel': 3804, 'verabscheue': 3805, 'spanien': 3806, 'tode': 3807, 'politik': 3808, 'teppich': 3809, 'grad': 3810, 'türkisch': 3811, 'eingeschätzt': 3812, 'internet': 3813, 'empfehle': 3814, 'schwedisch': 3815, 'toyota': 3816, 'zeuge': 3817, 'umhören': 3818, 'nachschlagen': 3819, 'benachrichtigen': 3820, 'jackson': 3821, 'tischler': 3822, 'detektiv': 3823, 'ingenieur': 3824, 'kanada': 3825, 'todernst': 3826, 'geschmack': 3827, 'gedauert': 3828, 'gelohnt': 3829, 'sackgasse': 3830, 'annehmbar': 3831, 'belang': 3832, 'zauberei': 3833, 'verpack': 3834, 'blei': 3835, 'metall': 3836, 'bewundern': 3837, 'benötigt': 3838, 'drogen': 3839, 'schicke': 3840, 'bewunderte': 3841, 'ohrfeigte': 3842, 'erstochen': 3843, 'zeigt': 3844, '17': 3845, 'neuigkeit': 3846, 'glatt': 3847, 'zweifelhaft': 3848, 'blätter': 3849, 'strom': 3850, 'vettern': 3851, 'zeiten': 3852, 'backte': 3853, 'malen': 3854, 'verursacht': 3855, 'entworfen': 3856, 'rührte': 3857, 'narren': 3858, 'gekämpft': 3859, 'geärgert': 3860, 'erregt': 3861, 'wahnsinniger': 3862, 'raucher': 3863, 'komischer': 3864, 'barfuß': 3865, 'charmant': 3866, 'verrichtet': 3867, 'unvoreingenommen': 3868, 'erschien': 3869, 'beugte': 3870, 'ergeben': 3871, 'genial': 3872, 'gähnen': 3873, 'schalten': 3874, 'wandern': 3875, 'umgezogen': 3876, 'toller': 3877, 'schlips': 3878, 'beruflich': 3879, 'kamm': 3880, 'wärest': 3881, 'versteckst': 3882, 'dahinter': 3883, 'träumst': 3884, 'bellt': 3885, 'flexibler': 3886, 'sag’s': 3887, 'angefasst': 3888, 'solch': 3889, 'störe': 3890, 'täusche': 3891, 'täuscht': 3892, 'erfüllung': 3893, 'welchem': 3894, 'jagt': 3895, 'hisste': 3896, 'gespannt': 3897, 'hieß': 3898, 'brasilien': 3899, 'verbeugte': 3900, 'sammle': 3901, 'fremd': 3902, 'pest': 3903, 'vornamen': 3904, 'hereinzukommen': 3905, 'moskau': 3906, 'spaghetti': 3907, 'sprit': 3908, 'insel': 3909, 'bürger': 3910, 'schlimmeres': 3911, 'zappenduster': 3912, 'gruppe': 3913, 'handy': 3914, 'verrückte': 3915, 'gefroren': 3916, 'regnerisch': 3917, 'unnötig': 3918, 'bitter': 3919, 'verrichte': 3920, 'kühlen': 3921, 'zünde': 3922, 'mars': 3923, 'planet': 3924, 'dose': 3925, 'geldbeutel': 3926, 'schweiß': 3927, 'hebt': 3928, 'griff': 3929, '1960': 3930, 'beleidigte': 3931, 'hartnäckig': 3932, 'kamel': 3933, 'wir’s': 3934, 'hauen': 3935, 'stehengeblieben': 3936, 'ungeschickt': 3937, 'ärgerlich': 3938, '„nein“': 3939, 'beendet': 3940, 'rau': 3941, 'klingel': 3942, 'cds': 3943, 'verfolgen': 3944, 'ereignen': 3945, 'korrigierte': 3946, 'kleidet': 3947, 'ehrgeiz': 3948, 'böser': 3949, 'lastwagenfahrer': 3950, 'lasterfahrer': 3951, 'selbstbewusst': 3952, 'engagiert': 3953, 'verpflichtet': 3954, 'woanders': 3955, 'urkomisch': 3956, 'unausstehlich': 3957, 'ledig': 3958, 'aufgeführt': 3959, 'schob': 3960, 'hockey': 3961, 'scheußlich': 3962, 'studierte': 3963, 'bauer': 3964, 'prahlte': 3965, 'hingerichtet': 3966, 'freigelassen': 3967, 'hysterisch': 3968, 'biegen': 3969, 'lauft': 3970, 'verlangen': 3971, 'armen': 3972, 'schwere': 3973, 'sitzplatz': 3974, 'gesperrt': 3975, 'leistest': 3976, 'zitieren': 3977, 'wart’s': 3978, 'fügen': 3979, 'nachvollziehen': 3980, 'zweisprachig': 3981, 'beschäftigten': 3982, 'beabsichtigt': 3983, 'stimmst': 3984, 'enttäuschen': 3985, 'menschenseele': 3986, 'fehle': 3987, 'werft': 3988, 'erde': 3989, 'geradeaus': 3990, 'abgegeben': 3991, 'lebensunterhalt': 3992, 'steckte': 3993, 'blondes': 3994, 'braunes': 3995, 'osaka': 3996, 'ehre': 3997, 'augenlicht': 3998, 'offenbar': 3999, 'meilen': 4000, 'verdrehte': 4001, 'vertrauensselig': 4002, 'nägel': 4003, 'england': 4004, 'ertrage': 4005, 'streite': 4006, 'bedauere': 4007, 'schal': 4008, 'selbstvertrauen': 4009, 'privatsphäre': 4010, 'zugezogen': 4011, 'empfohlen': 4012, 'fremder': 4013, 'zurückgelassen': 4014, 'aufgewacht': 4015, 'überraschen': 4016, 'lediglich': 4017, 'ungeheuer': 4018, 'künstlerin': 4019, 'bedrückend': 4020, 'chaos': 4021, 'verwirren': 4022, 'anfang': 4023, 'angenehmer': 4024, 'ausflug': 4025, 'meisten': 4026, 'widerstehen': 4027, 'wettet': 4028, 'überleg': 4029, 'packe': 4030, 'badewanne': 4031, 'stehlen': 4032, 'wetten': 4033, 'erlosch': 4034, 'klemmt': 4035, 'stumpf': 4036, 'funktionierte': 4037, 'schlimmste': 4038, 'füchse': 4039, 'ihrs': 4040, 'brennen': 4041, 'sinnlos': 4042, 'haltestelle': 4043, 'frühstückte': 4044, 'rückzieher': 4045, 'gewicht': 4046, 'dunkle': 4047, 'widerlich': 4048, 'gesellig': 4049, 'bemerkenswert': 4050, 'anführer': 4051, 'hoffnungsvoll': 4052, 'verdutzt': 4053, 'geschockt': 4054, 'geduld': 4055, 'missverstanden': 4056, 'klamotten': 4057, 'läutete': 4058, 'spürte': 4059, 'servierte': 4060, 'schief': 4061, 'davor': 4062, 'gassi': 4063, 'sturzbetrunken': 4064, 'ließen': 4065, 'steuern': 4066, 'wirken': 4067, 'wehrlos': 4068, 'losfahren': 4069, 'einfall': 4070, 'angehabt': 4071, 'sowas': 4072, 'kamst': 4073, 'verfehlen': 4074, 'europäisch': 4075, 'ausgelassen': 4076, 'sinnen': 4077, 'stress': 4078, 'bringst': 4079, 'verwirre': 4080, 'befinden': 4081, 'vegetarier': 4082, 'koffein': 4083, '110': 4084, 'bestochen': 4085, 'mitfahrgelegenheit': 4086, 'verlegenheit': 4087, 'zwingen': 4088, 'gönnerhaft': 4089, 'einzigartig': 4090, 'verschwindet': 4091, 'erkundigt': 4092, 'spitze': 4093, 'zwang': 4094, 'verreist': 4095, 'müsste': 4096, 'dreckiger': 4097, 'wohlhabender': 4098, 'ausschließen': 4099, 'hereinlassen': 4100, 'haufen': 4101, 'blaues': 4102, 'grünes': 4103, 'videospiele': 4104, 'mähte': 4105, 'eingesteckt': 4106, 'psychologie': 4107, 'glaub': 4108, 'wüsstest': 4109, 'aufhörst': 4110, 'heidenangst': 4111, 'wiege': 4112, 'nagasaki': 4113, 'bauernhof': 4114, 'juli': 4115, 'verkaufe': 4116, 'kompliment': 4117, 'eichhörnchen': 4118, 'schwarzes': 4119, 'beseitigen': 4120, 'messing': 4121, 'lektion': 4122, 'weshalb': 4123, 'anschauen': 4124, 'dürfte': 4125, 'fehl': 4126, 'postkarte': 4127, 'wecker': 4128, 'geklingelt': 4129, '„ja“': 4130, 'hell': 4131, 'teich': 4132, 'wörter': 4133, 'harte': 4134, 'kerle': 4135, 'gatte': 4136, 'schnürsenkel': 4137, 'fraß': 4138, 'schweinefleisch': 4139, 'forelle': 4140, 'sondern': 4141, 'leistet': 4142, 'heuchler': 4143, 'nachbar': 4144, 'bewusst': 4145, 'bereitete': 4146, 'betreibt': 4147, 'zurückrufen': 4148, 'alarm': 4149, 'sekunde': 4150, 'überein': 4151, 'hindurch': 4152, 'einhalt': 4153, 'gebieten': 4154, 'weile': 4155, 'konservativ': 4156, 'flitterwochen': 4157, 'bücherei': 4158, 'angetrieben': 4159, 'hochzeit': 4160, 'stiefel': 4161, 'museum': 4162, 'zornig': 4163, 'salzig': 4164, 'friseur': 4165, 'feiglinge': 4166, 'prinzessin': 4167, 'bekleidet': 4168, 'kalter': 4169, 'ratschläge': 4170, 'serviert': 4171, 'erworben': 4172, 'irgendwer': 4173, 'sarkasmus': 4174, 'kaugummis': 4175, 'englische': 4176, 'bowling': 4177, 'beängstigt': 4178, 'klettert': 4179, 'rage': 4180, 'traust': 4181, 'klatschten': 4182, 'freiheit': 4183, 'minuten': 4184, 'halbe': 4185, 'nasenbluten': 4186, 'ehrlicher': 4187, 'nebenan': 4188, 'besiegen': 4189, 'verfassung': 4190, 'arg': 4191, 'mochtest': 4192, 'auserwählte': 4193, 'einschlafen': 4194, 'helle': 4195, 'nachgesehen': 4196, 'gelang': 4197, 'leichten': 4198, 'blitz': 4199, 'freimütigkeit': 4200, 'ruhiges': 4201, 'verreisen': 4202, 'ginge': 4203, 'vorlesen': 4204, 'sags': 4205, 'assistentin': 4206, 'verheiratete': 4207, 'rechne': 4208, 'maßen': 4209, 'stimmung': 4210, 'geschäftsführer': 4211, '11': 4212, 'verhandelbar': 4213, 'kino': 4214, 'ausprobieren': 4215, 'geringste': 4216, 'leuten': 4217, 'getanzt': 4218, 'gereist': 4219, 'schafe': 4220, 'jenes': 4221, 'unerwartet': 4222, 'tolles': 4223, 'eher': 4224, 'reif': 4225, 'angerichtet': 4226, 'bedeuten': 4227, 'lauten': 4228, 'arbeitswütig': 4229, 'verschwendet': 4230, 'hohen': 4231, 'eintrittskarten': 4232, 'gegenüber': 4233, 'losgelegt': 4234, 'york': 4235, 'dachten': 4236, 'fremden': 4237, 'güte': 4238, 'aufsatz': 4239, 'einfälle': 4240, 'ohrring': 4241, 'joystick': 4242, 'streitsüchtig': 4243, 'verwirrst': 4244, 'überbringen': 4245, 'erraten': 4246, 'hundert': 4247, 'tätowierung': 4248, 'haustiere': 4249, 'decken': 4250, 'plätzchen': 4251, 'doll': 4252, 'rühre': 4253, 'unbeholfenheit': 4254, 'apparat': 4255, 'besorg': 4256, 'entschloss': 4257, '50': 4258, 'japanischer': 4259, 'wege': 4260, 'tauchen': 4261, 'bäckt': 4262, 'backt': 4263, 'einfaches': 4264, 'ausrede': 4265, 'hosen': 4266, 'notiz': 4267, 'smoking': 4268, 'amateur': 4269, 'baue': 4270, 'mauer': 4271, 'wische': 4272, 'wegzugehen': 4273, 'überquerte': 4274, 'interessiere': 4275, 'abschiede': 4276, 'besseren': 4277, 'halbschwester': 4278, 'leichtes': 4279, 'wunden': 4280, 'naschkatze': 4281, 'absolute': 4282, 'auswendig': 4283, 'widerstrebend': 4284, 'seiest': 4285, 'biene': 4286, 'botschaft': 4287, 'lesens': 4288, 'entschluss': 4289, 'öl': 4290, 'klingeln': 4291, 'zwecklos': 4292, 'unterschrift': 4293, 'aufgehen': 4294, 'bushaltestelle': 4295, 'alternative': 4296, 'gate': 4297, 'geistern': 4298, 'flammen': 4299, 'bettlaken': 4300, 'heilt': 4301, 'unterschied': 4302, 'seide': 4303, 'glückstag': 4304, 'hinhauen': 4305, 'häuser': 4306, 'flehte': 4307, 'system': 4308, 'mangelt': 4309, 'herzlich': 4310, 'volksmusik': 4311, 'senkte': 4312, 'goss': 4313, 'holte': 4314, 'verschüttet': 4315, 'mobiltelefon': 4316, 'gemeinsam': 4317, 'vorsitzenden': 4318, 'glückliche': 4319, 'pflichten': 4320, 'analyse': 4321, 'spitzname': 4322, 'bahnhof': 4323, 'blutest': 4324, 'segen': 4325, 'unterschätzen': 4326, 'willensstärke': 4327, 'anwälte': 4328, 'triffst': 4329, 'ausschalten': 4330, 'budweiser': 4331, 'website': 4332, 'dinosaurier': 4333, 'aftershave': 4334, 'erwartungen': 4335, 'bekannte': 4336, 'tiefen': 4337, 'deutscher': 4338, 'geburt': 4339, 'perfektionist': 4340, 'verdacht': 4341, 'erfolges': 4342, '60': 4343, 'geschäftlich': 4344, 'schwarzen': 4345, 'konntet': 4346, 'melkt': 4347, 'tapferkeit': 4348, 'verabschieden': 4349, 'hitze': 4350, 'mitbekommen': 4351, 'nirgends': 4352, 'verknallt': 4353, 'erinnerungsvermögen': 4354, 'wecken': 4355, 'sekretärin': 4356, 'bezug': 4357, 'island': 4358, 'hauses': 4359, 'explodiert': 4360, 'anspringen': 4361, 'bluten': 4362, 'ermutigte': 4363, 'entgeht': 4364, 'umzubringen': 4365, 'nähen': 4366, 'wiederkomme': 4367, 'tropfen': 4368, 'daten': 4369, 'desto': 4370, 'unerträglich': 4371, '1954': 4372, 'gelbe': 4373, 'brachen': 4374, 'chinesischer': 4375, 'lehrbuch': 4376, 'knöpfte': 4377, 'explosion': 4378, 'wuchs': 4379, 'hörer': 4380, 'sichtlich': 4381, 'dunkeln': 4382, 'steuerbehörde': 4383, 'streckte': 4384, 'strategie': 4385, 'offengelassen': 4386, 'rohen': 4387, 'schuhgröße': 4388, 'derzeit': 4389, 'fürchtest': 4390, 'geparkt': 4391, 'orgel': 4392, 'tote': 4393, 'wolltest': 4394, 'rasierst': 4395, 'bulgarisch': 4396, 'ruhm': 4397, 'frist': 4398, 'versäumt': 4399, 'armer': 4400, 'richtiger': 4401, 'handschrift': 4402, 'nachmittag': 4403, 'optimismus': 4404, 'bärenhunger': 4405, 'knöchel': 4406, 'seist': 4407, 'einfache': 4408, 'anstrengende': 4409, 'glücklicherweise': 4410, 'ereignet': 4411, 'beantragte': 4412, 'weißes': 4413, 'ausgeholfen': 4414, 'widerwillig': 4415, 'john': 4416, 'verstaucht': 4417, 'verübeln': 4418, 'sake': 4419, 'herausgesprungen': 4420, 'show': 4421, 'lieblingsdj': 4422, 'freinehmen': 4423, 'wegschließen': 4424, 'erheben': 4425, 'fotografieren': 4426, 'gefühle': 4427, 'angesprochen': 4428, 'ersatzschlüssel': 4429, 'anbruch': 4430, 'geldes': 4431, 'zerlegen': 4432, 'übrigens': 4433, 'potzdonner': 4434, 'stopp': 4435, 'stehenbleiben': 4436, 'kapiert': 4437, 'umarme': 4438, 'gestürzt': 4439, 'schlagt': 4440, 'beheben': 4441, 'hinlegen': 4442, 'dageblieben': 4443, 'eintritt': 4444, 'küsse': 4445, 'heirate': 4446, 'rette': 4447, 'sagenhaft': 4448, 'fangt': 4449, 'daraus': 4450, 'knicken': 4451, 'füge': 4452, 'beachte': 4453, 'beachten': 4454, '745': 4455, 'fünfundvierzig': 4456, '830': 4457, '„ah“': 4458, 'wars': 4459, 'fielen': 4460, 'schwammen': 4461, 'fängst': 4462, 'stinkst': 4463, 'prüfen': 4464, 'frühzeitig': 4465, 'untersuchen': 4466, '„ausreichend“': 4467, 'liebenswürdig': 4468, 'schweizer': 4469, 'menschlich': 4470, 'sieger': 4471, 'vernommen': 4472, 'erbrochen': 4473, 'beeile': 4474, '„bitte“': 4475, 'betrügen': 4476, 'hat’s': 4477, 'versagte': 4478, 'vergaß': 4479, 'dummen': 4480, 'ächzte': 4481, 'malt': 4482, 'telefoniert': 4483, 'betete': 4484, 'rauchte': 4485, 'gähnte': 4486, 'strengen': 4487, 'tolerant': 4488, 'tröstet': 4489, 'streitet': 4490, 'ausbrechen': 4491, 'mumm': 4492, 'verhasst': 4493, 'lenkte': 4494, 'stockbesoffen': 4495, 'mönch': 4496, 'dösen': 4497, 'single': 4498, 'dreihundert': 4499, 'beides': 4500, 'jazzmusik': 4501, 'bares': 4502, 'eigenbrötler': 4503, 'verschuldet': 4504, 'neblig': 4505, 'zugelassen': 4506, 'real': 4507, 'eilt': 4508, 'drüber': 4509, 'angriff': 4510, 'verabschiedet': 4511, '„auf': 4512, 'wiedersehen“': 4513, 'geil': 4514, 'tanzten': 4515, 'schummelte': 4516, 'runzelte': 4517, 'stirn': 4518, 'finster': 4519, 'freute': 4520, 'grinste': 4521, 'schallplattenunterhalter': 4522, 'friert': 4523, 'gütig': 4524, 'eitel': 4525, 'ausgerutscht': 4526, 'nieste': 4527, 'schwitzte': 4528, 'gestolpert': 4529, 'wählt': 4530, 'gehörst': 4531, 'realistisch': 4532, 'tretet': 4533, 'funktioniert’s': 4534, 'sachte': 4535, 'ostern': 4536, 'meidet': 4537, 'schneidet': 4538, 'franzose': 4539, 'heldenhaft': 4540, 'soeben': 4541, 'treuherzig': 4542, 'mädels': 4543, 'unterstützt': 4544, 'ehrlichkeit': 4545, 'barbarisch': 4546, 'chinesin': 4547, 'bete': 4548, 'entschuldigte': 4549, 'improvisierte': 4550, 'improvisiert': 4551, 'umarmung': 4552, 'stern': 4553, 'zurechtkommen': 4554, 'vorbeikommen': 4555, 'purist': 4556, 'verfallen': 4557, 'ertrinke': 4558, 'kämpfe': 4559, 'verkatert': 4560, 'untröstlich': 4561, 'fluch': 4562, 'skurril': 4563, 'bewege': 4564, 'filmen': 4565, 'glotzen': 4566, 'starren': 4567, 'entkamen': 4568, 'weigerten': 4569, 'unseres': 4570, 'schimpfte': 4571, 'veteran': 4572, 'ex': 4573, 'pfiffig': 4574, 'stottert': 4575, 'heult': 4576, 'null': 4577, 'daumen': 4578, 'beängstigst': 4579, 'artig': 4580, 'skaten': 4581, 'reinigen': 4582, 'weggegangen': 4583, 'beachtet': 4584, 'blühen': 4585, 'schinken': 4586, 'hosenträger': 4587, 'bemüht': 4588, 'bekifft': 4589, 'erblindet': 4590, 'miesepeter': 4591, 'blutete': 4592, 'niese': 4593, 'spüren': 4594, 'spüre': 4595, 'verabredung': 4596, 'knoblauch': 4597, 'lachs': 4598, 'veranlasst': 4599, 'kredit': 4600, 'zugesehen': 4601, 'rotschopf': 4602, 'schülerin': 4603, 'gang': 4604, 'wahrhaben': 4605, 'rechtens': 4606, 'üblen': 4607, 'wehtun': 4608, 'abends': 4609, 'erleichterung': 4610, 'ofen': 4611, 'sterblich': 4612, 'feger': 4613, 'würfle': 4614, 'würfele': 4615, 'würfeln': 4616, 'abserviert': 4617, 'falsche': 4618, 'fuchsteufelswild': 4619, 'wut': 4620, 'richte': 4621, 'zerbrach': 4622, 'gewannen': 4623, 'verschwanden': 4624, 'gutgehen': 4625, 'asiaten': 4626, 'dvd': 4627, 'applaudiert': 4628, 'beichtete': 4629, 'verrucht': 4630, 'wankte': 4631, 'angeschrieben': 4632, 'erblasste': 4633, 'erstickt': 4634, 'werkzeug': 4635, 'fasten': 4636, 'freundinnen': 4637, 'gewinner': 4638, 'zirkus': 4639, 'scheitern': 4640, 'beliebst': 4641, 'belieben': 4642, 'reinige': 4643, 'leugnest': 4644, 'recyceln': 4645, 'ärgern': 4646, 'kümmer': 4647, 'konsequenzen': 4648, 'steig': 4649, 'leih': 4650, 'glückliches': 4651, 'fanatiker': 4652, 'jasager': 4653, 'gesetzloser': 4654, 'schlichtweg': 4655, 'höhe': 4656, 'entgegen': 4657, 'geheult': 4658, 'statt': 4659, 'treibe': 4660, 'tomaten': 4661, 'schlaganfall': 4662, 'absolut': 4663, 'bügeln': 4664, 'karaoke': 4665, 'pickup': 4666, 'laster': 4667, 'nudeln': 4668, 'kobe': 4669, 'ipod': 4670, 'partys': 4671, 'schluckauf': 4672, 'züchte': 4673, 'rauskommt': 4674, 'köchin': 4675, 'koreanisch': 4676, 'französischunterricht': 4677, 'ventilator': 4678, 'erschießen': 4679, 'strafgefangener': 4680, 'teenager': 4681, 'leider': 4682, 'atheist': 4683, 'todmüde': 4684, 'analphabet': 4685, 'bereite': 4686, 'meditiere': 4687, 'eintopf': 4688, 'abgemacht': 4689, 'klassiker': 4690, '3': 4691, 'riskant': 4692, 'schlicht': 4693, 'feuchtes': 4694, 'handgelenk': 4695, 'melodie': 4696, 'heran': 4697, 'robben': 4698, 'ernähren': 4699, 'verehrt': 4700, 'erwürgt': 4701, 'unbeholfen': 4702, 'selbstverständlichkeit': 4703, 'gerechtigkeit': 4704, 'typisch': 4705, 'blicke': 4706, 'applaudierten': 4707, 'spendeten': 4708, 'gestritten': 4709, 'tüchtig': 4710, 'wird’s': 4711, 'zusammengebrochen': 4712, 'zeichnet': 4713, 'grub': 4714, 'ratten': 4715, 'eingeschritten': 4716, 'wachmann': 4717, 'schämt': 4718, 'hingebungsvoll': 4719, 'durchgedreht': 4720, 'abscheulich': 4721, 'ungezogen': 4722, 'keucht': 4723, 'ruht': 4724, 'unversehrt': 4725, 'nüsse': 4726, 'umgeschrieben': 4727, 'netten': 4728, 'gerochen': 4729, 'gestoppt': 4730, 'abwesend': 4731, 'trauert': 4732, 'behandle': 4733, 'bauchgefühl': 4734, 'soße': 4735, 'charme': 4736, 'zogen': 4737, 'vermählt': 4738, 'mordsspaß': 4739, 'gäste': 4740, 'respektieren': 4741, 'ausgetrickst': 4742, 'sternhagelvoll': 4743, 'geldautomaten': 4744, 'verstört': 4745, 'summst': 4746, 'getränke': 4747, 'guckst': 4748, 'rund': 4749, 'benehmen': 4750, 'tüte': 4751, 'mäuse': 4752, 'kartons': 4753, 'grunde': 4754, 'krähen': 4755, 'liebtest': 4756, 'grabe': 4757, 'ansicht': 4758, 'snob': 4759, 'beleidige': 4760, 'übertreib’s': 4761, 'schaf': 4762, 'frösche': 4763, 'erfüllte': 4764, 'maler': 4765, 'übersinnliche': 4766, 'fußballfreund': 4767, 'wellenreiten': 4768, 'enden': 4769, 'fiebrig': 4770, 'einzukaufen': 4771, 'trockene': 4772, 'trommel': 4773, 'ellbogen': 4774, 'eingezogen': 4775, 'geduscht': 4776, 'interesse': 4777, 'zufügen': 4778, 'eventuell': 4779, 'taschentuch': 4780, 'rechnungen': 4781, 'aufgesetzt': 4782, 'geahnt': 4783, 'unterstützte': 4784, 'duschbad': 4785, 'dasselbe': 4786, 'zuschauen': 4787, 'aufgeschrieben': 4788, 'mitarbeiten': 4789, 'gast': 4790, 'nichte': 4791, 'rivale': 4792, 'chauffeur': 4793, 'hausfrau': 4794, 'nachteule': 4795, 'nachtmensch': 4796, 'nachtschwärmer': 4797, 'türkei': 4798, 'gucke': 4799, 'autistisch': 4800, 'blufft': 4801, 'kaputtgegangen': 4802, 'spaßig': 4803, 'akzeptabel': 4804, 'spottbillig': 4805, 'irrelevant': 4806, 'belanglos': 4807, 'ignoriere': 4808, 'übe': 4809, 'knete': 4810, 'teig': 4811, 'hinterlasse': 4812, 'zitronen': 4813, 'betrinken': 4814, 'quietschen': 4815, 'erkennen': 4816, 'lest': 4817, 'mächtig': 4818, 'gekniffen': 4819, 'langgeht': 4820, 'aufrecht': 4821, 'verbreitet': 4822, 'kostete': 4823, 'bezweifeln': 4824, 'gewiss': 4825, 'erstarb': 4826, 'melonen': 4827, 'russen': 4828, 'beschleunigte': 4829, 'bestritten': 4830, 'gejagt': 4831, 'verstummte': 4832, 'buckel': 4833, 'mehrere': 4834, 'möglichkeiten': 4835, 'durchhaltevermögen': 4836, 'oper': 4837, 'vorschriften': 4838, 'inspiriert': 4839, 'einsiedler': 4840, 'priester': 4841, 'rassist': 4842, 'schneider': 4843, 'künstlerisch': 4844, 'sorglos': 4845, 'ahnungslos': 4846, 'ausschlaggebend': 4847, 'geistesgestört': 4848, 'untreu': 4849, 'entsprechend': 4850, 'ertrinkt': 4851, 'überzeugend': 4852, 'unbeweglich': 4853, 'kniet': 4854, 'gehorsam': 4855, 'kontaktfreudig': 4856, 'mittellos': 4857, 'starrköpfig': 4858, 'selbstmordgefährdet': 4859, 'schwitzt': 4860, 'taff': 4861, 'guckte': 4862, 'bohnen': 4863, 'rugby': 4864, 'aufgenommen': 4865, 'schlückchen': 4866, 'stach': 4867, 'bewahrte': 4868, 'ergab': 4869, 'beleidigend': 4870, 'alarmiert': 4871, 'niedergeschmettert': 4872, 'bedenken': 4873, 'unartig': 4874, 'charmeur': 4875, 'experte': 4876, 'schaltet': 4877, 'lager': 4878, 'schiefgelaufen': 4879, 'knabe': 4880, 'fragten': 4881, 'nervst': 4882, 'täuschst': 4883, 'katholisch': 4884, 'sportlich': 4885, 'atlantis': 4886, 'putzt': 4887, 'bekennen': 4888, 'fordere': 4889, 'bedacht': 4890, 'beherrsche': 4891, 'riemen': 4892, 'besitzen': 4893, 'lärme': 4894, 'treib': 4895, 'füll': 4896, 'weiche': 4897, 'muffins': 4898, 'kurzem': 4899, 'graues': 4900, 'bub': 4901, 'ungesellig': 4902, 'tierlieb': 4903, 'fischt': 4904, 'gemalt': 4905, 'flagge': 4906, 'schlafanzug': 4907, 'geschichtswissenschaftler': 4908, 'knauserig': 4909, 'professor': 4910, 'professorin': 4911, 'hexe': 4912, 'scheiß': 4913, 'behaupten': 4914, 'zurückhalten': 4915, '6': 4916, 'geholt': 4917, '630\\xa0uhr': 4918, 'gründe': 4919, 'heuchelei': 4920, 'heuschnupfen': 4921, 'sodbrennen': 4922, 'erlaubte': 4923, 'vieles': 4924, 'eiscreme': 4925, 'angefertigt': 4926, 'klempner': 4927, 'überlistet': 4928, 'erkannt': 4929, 'ausgegeben': 4930, 'selbstgespräche': 4931, 'siegreich': 4932, 'vierundzwanzig': 4933, 'vereinigten': 4934, 'staaten': 4935, 'übersetzerin': 4936, 'übersetzer': 4937, 'beidhänder': 4938, 'ehemaliger': 4939, 'high': 4940, 'dicht': 4941, 'verfügbar': 4942, 'erreichbar': 4943, 'eignet': 4944, 'blume': 4945, 'verkäuflich': 4946, 'bissig': 4947, 'stockfinster': 4948, 'stockdunkel': 4949, 'erscheint': 4950, 'warmer': 4951, 'sonnenblume': 4952, 'bequem': 4953, 'waschtag': 4954, 'bedauerlich': 4955, 'asien': 4956, 'nenne': 4957, 'sende': 4958, 'triff': 4959, 'nachher': 4960, 'deutsches': 4961, 'fleiß': 4962, 'gehorche': 4963, 'erbarmen': 4964, 'tuberkulose': 4965, 'eigensinnig': 4966, 'abgekommen': 4967, 'wucht': 4968, 'starte': 4969, 'unterlass': 4970, 'hingehauen': 4971, 'vermeiden': 4972, 'lachhaft': 4973, 'weder': 4974, 'schädel': 4975, 'batterie': 4976, 'mikrophon': 4977, 'fete': 4978, 'schalter': 4979, 'grab': 4980, '839': 4981, 'kritisch': 4982, 'pathetisch': 4983, 'pathos': 4984, 'bewundert': 4985, 'letzter': 4986, 'schluchzen': 4987, 'hervor': 4988, 'angerannt': 4989, 'eindeutig': 4990, 'kletterte': 4991, 'erschaffen': 4992, 'einwände': 4993, 'behandelt': 4994, 'verzeiht': 4995, 'tätowieren': 4996, 'hühner': 4997, 'immunität': 4998, 'hochstapler': 4999, 'schlagzeuger': 5000, 'hellseher': 5001, 'lkwfahrer': 5002, 'zuvorkommend': 5003, 'delirium': 5004, 'anspruchsvoll': 5005, 'gestört': 5006, 'exzentrisch': 5007, 'effektiv': 5008, 'effizient': 5009, 'überschwänglich': 5010, 'unparteiisch': 5011, 'fortschritte': 5012, 'miserabel': 5013, 'widerspenstig': 5014, 'organisiert': 5015, 'freimütig': 5016, 'überglücklich': 5017, 'perplex': 5018, 'geheimnisvoll': 5019, 'sensibel': 5020, 'gesprächig': 5021, 'alleinstehend': 5022, 'schwächer': 5023, 'arbeitsplatz': 5024, 'tulpen': 5025, 'druck': 5026, 'achtet': 5027, 'schalt': 5028, 'gutzugehen': 5029, 'schlurfte': 5030, 'yoga': 5031, 'landwirt': 5032, 'eingeäschert': 5033, 'besiegt': 5034, 'eingesperrt': 5035, 'ausgewählt': 5036, 'beobachtete': 5037, 'verbessern': 5038, 'trophäe': 5039, 'innovativ': 5040, 'verabscheuen': 5041, 'nachfolgen': 5042, 'meditieren': 5043, 'furchtsam': 5044, 'ausprobiert': 5045, 'schütze': 5046, 'albtraum': 5047, 'kluges': 5048, 'ausgang': 5049, 'hergebracht': 5050, 'hamlet': 5051, 'gelb': 5052, 'heftig': 5053, 'umgang': 5054, 'warnung': 5055, 'verschieben': 5056, 'verhandlung': 5057, 'vertagt': 5058, 'rausgeworfen': 5059, 'wohnten': 5060, 'maisgrütze': 5061, 'verkaufst': 5062, 'relevant': 5063, 'enttäusch': 5064, 'busse': 5065, 'schrien': 5066, 'apfelsine': 5067, 'heu': 5068, 'erpresste': 5069, 'erpresst': 5070, 'neigte': 5071, 'aufgetaucht': 5072, 'erfroren': 5073, 'tipp': 5074, 'erholte': 5075, 'genas': 5076, 'hängte': 5077, 'geborener': 5078, 'unrettbar': 5079, 'vertrauenswürdig': 5080, 'momentan': 5081, 'sms': 5082, 'verstoßen': 5083, 'knast': 5084, 'geländer': 5085, 'imbiss': 5086, 'wende': 5087, 'bürstete': 5088, 'klausur': 5089, 'ausweg': 5090, 'eingefallen': 5091, 'nichten': 5092, 'unterbrach': 5093, 'sauerkraut': 5094, 'komfortabel': 5095, 'album': 5096, 'photo': 5097, 'kalender': 5098, 'treibstoff': 5099, 'sonnenaufgang': 5100, 'käfer': 5101, '58': 5102, 'schüchternes': 5103, 'entmutigt': 5104, 'lotto': 5105, 'ausführen': 5106, 'opa': 5107, 'geduldiger': 5108, 'völliges': 5109, 'baff': 5110, 'springe': 5111, 'monster': 5112, 'patient': 5113, 'altmodisch': 5114, 'schwebe': 5115, 'siebten': 5116, 'stücke': 5117, 'deprimierend': 5118, 'ungeplant': 5119, 'wolkig': 5120, 'kälter': 5121, 'lebens': 5122, 'schlafenszeit': 5123, 'inakzeptabel': 5124, 'merke': 5125, 'entwischen': 5126, 'beschleunigen': 5127, 'entzünden': 5128, 'lebhaft': 5129, 'schulterschmerzen': 5130, 'sicht': 5131, 'bemerkte': 5132, 'einpacken': 5133, 'leck': 5134, 'mir’s': 5135, 'schürze': 5136, 'fluchte': 5137, 'treibt': 5138, 'frühaufsteherin': 5139, 'attraktiv': 5140, 'einunddreißig': 5141, 'französin': 5142, 'rausgeschmissen': 5143, 'löse': 5144, 'netze': 5145, 'weben': 5146, 'ratschlag': 5147, 'nachfrage': 5148, 'akte': 5149, 'gürtel': 5150, 'frisst': 5151, 'dreht': 5152, 'markt': 5153, 'konferenz': 5154, 'abgestürzt': 5155, 'taktik': 5156, 'gernhaben': 5157, 'undicht': 5158, 'sonnabend': 5159, 'donnerstag': 5160, 'zugegeben': 5161, 'keks': 5162, 'betracht': 5163, 'verlangte': 5164, 'widerstand': 5165, 'trinker': 5166, 'gefärbt': 5167, 'bewertet': 5168, 'allergien': 5169, 'bücherwurm': 5170, 'braves': 5171, 'pfarrer': 5172, 'halbes': 5173, 'kriegsheld': 5174, 'indiskret': 5175, 'meditiert': 5176, 'sorgfältig': 5177, 'bewegungslos': 5178, 'flucht': 5179, 'photogen': 5180, 'besitzergreifend': 5181, 'nachdenklich': 5182, 'betroffen': 5183, 'unbegabt': 5184, 'verletzlich': 5185, 'heiratsantrag': 5186, 'kroch': 5187, 'klopfte': 5188, 'geklopft': 5189, 'gewichte': 5190, 'hummer': 5191, 'wohnte': 5192, 'kandidierte': 5193, 'reagierte': 5194, 'mietete': 5195, 'erwiderte': 5196, '\\u200b\\u200bund': 5197, 'freien': 5198, 'hockte': 5199, 'steif': 5200, 'spuckte': 5201, 'hineingegangen': 5202, 'respekt': 5203, 'ergebnisse': 5204, 'koma': 5205, 'zitterte': 5206, 'abschied': 5207, 'fantasievoll': 5208, 'zahltag': 5209, 'wechsle': 5210, 'schieß': 5211, 'stiegen': 5212, 'lernten': 5213, 'suchten': 5214, 'wahrlich': 5215, 'kanu': 5216, 'schutzlos': 5217, 'trauer': 5218, 'weitergehen': 5219, 'behauptet': 5220, 'solcher': 5221, 'beantworten': 5222, 'rufst': 5223, 'steckst': 5224, 'erzählst': 5225, 'expertin': 5226, 'aufstand': 5227, 'verging': 5228, 'inbegriffen': 5229, 'buddhist': 5230, 'krimineller': 5231, 'spinnt': 5232, 'enthält': 5233, 'kissen': 5234, 'schläger': 5235, 'beherrschen': 5236, 'rechtsanwältin': 5237, 'genäht': 5238, 'ehepartner': 5239, 'erkälte': 5240, 'versteh': 5241, 'paranoid': 5242, 'mucks': 5243, 'steine': 5244, 'leere': 5245, 'leeren': 5246, 'rückseite': 5247, 'gerieten': 5248, 'wichtigste': 5249, 'vergangen': 5250, 'schwert': 5251, 'stufen': 5252, 'besen': 5253, 'fernbedienung': 5254, 'seemann': 5255, 'meile': 5256, 'alzheimer': 5257, 'autofahrer': 5258, 'busfahrer': 5259, 'einfacher': 5260, 'arbeitstier': 5261, 'arbeitskollege': 5262, 'kollege': 5263, 'handkuss': 5264, 'liebend': 5265, 'fließend': 5266, 'gefälschten': 5267, '„ipad\\xa04“': 5268, 'vergeltung': 5269, 'wiegt': 5270, 'anmarsch': 5271, 'anschrift': 5272, 'schritte': 5273, 'bewerkstelligt': 5274, 'wirtschaftslage': 5275, 'berate': 5276, 'meter': 5277, 'vorausgesehen': 5278, 'magie': 5279, 'vertrage': 5280, 'code': 5281, 'befürchtete': 5282, 'heftigen': 5283, 'abhauen': 5284, 'fotoapparate': 5285, 'kreischen': 5286, 'un': 5287, 'kerzenlicht': 5288, 'yokohama': 5289, 'armut': 5290, 'verlegt': 5291, 'schmetterlinge': 5292, 'versprechungen': 5293, 'verfehlt': 5294, 'freiwilligen': 5295, 'briefumschlag': 5296, 'dahinterkommen': 5297, 'dableiben': 5298, '1979': 5299, '1988': 5300, 'verneint': 5301, 'kürze': 5302, 'abwasch': 5303, 'verlobte': 5304, 'ihretwegen': 5305, 'sklave': 5306, 'balkon': 5307, 'schuldige': 5308, 'christ': 5309, 'feiert': 5310, 'echtes': 5311, 'schmerzhaft': 5312, 'vorzüglich': 5313, 'faszinierend': 5314, 'persönliches': 5315, 'zigarre': 5316, 'tippfehler': 5317, 'jenseits': 5318, 'gefertigt': 5319, 'unvergesslich': 5320, 'beunruhigend': 5321, 'griechenland': 5322, 'urteile': 5323, 'not': 5324, 'kellnerin': 5325, 'dir’s': 5326, 'raste': 5327, 'magen': 5328, 'achtete': 5329, 'offiziell': 5330, 'projekt': 5331, 'misslang': 5332, 'spar': 5333, 'schulen': 5334, 'manieren': 5335, 'stammt': 5336, 'antiquitäten': 5337, 'pflückte': 5338, 'besprechung': 5339, 'klassenkameradin': 5340, 'kommilitonin': 5341, 'anzustarren': 5342, 'kitzelt': 5343, 'liebling': 5344, 'auslöser': 5345, 'weggeflogen': 5346, 'eingestürzt': 5347, 'schmilzt': 5348, 'ozean': 5349, 'manipuliert': 5350, 'server': 5351, 'ausgefallen': 5352, 'umgefallen': 5353, 'umher': 5354, 'ergebnis': 5355, 'ali': 5356, 'empfinde': 5357, 'binde': 5358, 'erwischte': 5359, 'abgestritten': 5360, 'verhungerte': 5361, 'hungers': 5362, 'schnallt': 5363, 'erhängt': 5364, 'pfadfinder': 5365, 'züchtet': 5366, 'geborene': 5367, 'fröhlicher': 5368, 'angestellter': 5369, 'kooperiert': 5370, 'superschnell': 5371, 'splitterfasernackt': 5372, 'innenstadt': 5373, 'unterrichten': 5374, 'besitzer': 5375, 'beruhigte': 5376, 'gestresst': 5377, 'schrecken': 5378, 'ton': 5379, 'spass': 5380, 'mieteten': 5381, 'lebend': 5382, 'weizen': 5383, 'einstellen': 5384, 'getätigt': 5385, 'hüten': 5386, 'johannsens': 5387, 'gleichaltrig': 5388, 'alters': 5389, 'wale': 5390, 'säugetiere': 5391, 'ah': 5392, 'schreckliches': 5393, 'nützen': 5394, 'hierbei': 5395, 'besprochen': 5396, 'ziehst': 5397, 'beteiligt': 5398, 'überdreht': 5399, 'jagst': 5400, 'starten': 5401, 'ablauf': 5402, 'legten': 5403, 'entfernen': 5404, 'durchschaubar': 5405, 'träumer': 5406, 'schwäne': 5407, 'unabhängig': 5408, 'spionierst': 5409, 'angewohnheiten': 5410, 'überlebenskünstler': 5411, 'kontaktieren': 5412, 'aufnehmen': 5413, 'tempel': 5414, 'zerstöre': 5415, 'empfindliche': 5416, 'irgendjemanden': 5417, 'dagelassen': 5418, 'solange': 5419, 'schlangen': 5420, 'b': 5421, 'führst': 5422, 'erkennst': 5423, 'trägst': 5424, 'brillenträgerin': 5425, 'quere': 5426, 'anzufassen': 5427, 'erröten': 5428, 'stärke': 5429, 'gereizt': 5430, 'flöte': 5431, 'übereinander': 5432, 'gegenteil': 5433, 'meister': 5434, 'begrüßt': 5435, 'lieh': 5436, 'pesos': 5437, 'bemerkung': 5438, 'helfer': 5439, 'fluchen': 5440, 'warteschlange': 5441, 'goldmedaille': 5442, 'labor': 5443, 'kardiologe': 5444, 'kettenraucher': 5445, 'flink': 5446, 'spätzünder': 5447, 'partylöwe': 5448, 'heimreise': 5449, 'verkaufte': 5450, 'indien': 5451, 'schäle': 5452, 'ausnahmsweise': 5453, 'hastig': 5454, 'lehren': 5455, 'erdnüsse': 5456, 'hinweg': 5457, 'nirgendwohin': 5458, 'identifizieren': 5459, 'empfangen': 5460, 'blinddarmentzündung': 5461, 'funkioniert': 5462, 'liebesgeschichten': 5463, 'vortrag': 5464, 'abgebogen': 5465, 'hineinzukommen': 5466, 'überzeugen': 5467, 'schmerzmittel': 5468, 'passwort': 5469, 'zaun': 5470, 'beeilte': 5471, 'machbar': 5472, 'kreuz': 5473, 'angemacht': 5474, 'fürchtete': 5475, 'tshirt': 5476, 'werds': 5477, 'bejaht': 5478, 'stadtplan': 5479, 'arbeitszimmer': 5480, 'leibwächter': 5481, 'zuhörer': 5482, 'tennisspielerin': 5483, 'ratgeber': 5484, 'baskisch': 5485, 'arrest': 5486, 'spatzen': 5487, 'eiskalt': 5488, 'sonnenenergie': 5489, 'geschäftige': 5490, 'kompromiss': 5491, 'steinhart': 5492, 'eng': 5493, 'unverzeihlich': 5494, 'freies': 5495, 'riesenfehler': 5496, 'störung': 5497, 'chic': 5498, 'hirngespinst': 5499, 'vorübergehend': 5500, 'portion': 5501, 'pommes': 5502, 'überreagieren': 5503, 'nachbarin': 5504, 'notizbuch': 5505, 'klingelt': 5506, 'traut': 5507, 'lüfte': 5508, 'lüftet': 5509, 'lüften': 5510, 'korrigieren': 5511, 'nuschele': 5512, 'wünsch': 5513, 'blinker': 5514, 'armband': 5515, 'rambo': 5516, 'älteren': 5517, 'wange': 5518, 'reservierte': 5519, 'gästebuch': 5520, 'irgendjemand': 5521, 'kritisieren': 5522, 'einiges': 5523, 'ausgezeichnete': 5524, 'zitronenbaum': 5525, 'ausnahme': 5526, 'gesunden': 5527, 'beschämend': 5528, 'läutet': 5529, 'sprung': 5530, 'schuh': 5531, 'trauben': 5532, 'lichter': 5533, 'zart': 5534, 'affe': 5535, 'aller': 5536, 'fror': 5537, 'narbe': 5538, 'verheilt': 5539, 'angeschlagen': 5540, 'bauern': 5541, 'eröffneten': 5542, 'untergrundbahn': 5543, 'unzertrennlich': 5544, 'kanne': 5545, 'tōkyō': 5546, 'gestoßen': 5547, 'vorhin': 5548, 'ölstand': 5549, 'enttäuschte': 5550, '630': 5551, 'schnurrbart': 5552, 'vergangenheit': 5553, 'verletzte': 5554, 'geizhals': 5555, 'schwachkopf': 5556, 'vertut': 5557, 'elendsviertel': 5558, 'slum': 5559, 'schweigend': 5560, 'geldschrank': 5561, 'schälte': 5562, 'startete': 5563, 'gesteckt': 5564, 'erwachte': 5565, 'fahrkarten': 5566, 'mangel': 5567, 'hoffentlich': 5568, 'bilden': 5569, 'team': 5570, 'wüssten': 5571, 'täten': 5572, 'klub': 5573, 'schlägst': 5574, 'dient': 5575, 'geldbörse': 5576, 'villa': 5577, 'bibel': 5578, 'kasten': 5579, 'lügenbold': 5580, 'ausborgen': 5581, 'erkälten': 5582, 'lustiges': 5583, 'arbeitshai': 5584, 'süßeste': 5585, 'hilfsbereit': 5586, 'vergeudest': 5587, 'munition': 5588, 'verschwendest': 5589, 'fügt': 5590, 'jedenfalls': 5591, 'affen': 5592, 'nonne': 5593, 'erwünscht': 5594, 'anmachen': 5595, 'c': 5596, 'programmieren': 5597, 'baumwolle': 5598, 'brokkoli': 5599, 'schwimmst': 5600, 'negativ': 5601, 'fordern': 5602, 'genieß': 5603, 'gemessen': 5604, 'begehen': 5605, 'katholik': 5606, 'verschlang': 5607, 'einziges': 5608, 'kräftige': 5609, 'sechzig': 5610, 'energie': 5611, 'unhöfliche': 5612, 'portugiesisch': 5613, 'geübt': 5614, 'ecke': 5615, 'vollständig': 5616, 'nervenbündel': 5617, 'nervliches': 5618, 'scheut': 5619, 'lungenkrebs': 5620, 'klassenclown': 5621, 'immerzu': 5622, 'verlache': 5623, 'schrecklichen': 5624, 'verschwende': 5625, 'beantragt': 5626, 'apfelkuchen': 5627, 'abgekauft': 5628, 'fingerkuppe': 5629, 'gegenübertreten': 5630, 'beschloss': 5631, 'seltene': 5632, 'münzen': 5633, 'liegestütze': 5634, 'herzanfall': 5635, 'eifersüchtige': 5636, 'stiefbruder': 5637, 'schimmer': 5638, 'hinauswillst': 5639, 'dunklen': 5640, 'ohrringe': 5641, 'wirtschaftswissenschaft': 5642, 'kochkünste': 5643, 'ablassen': 5644, 'bedenkzeit': 5645, 'gelebt': 5646, 'fünfzigtausend': 5647, 'reut': 5648, 'mischte': 5649, 'zuhörst': 5650, 'wär’': 5651, 'wahrnehmen': 5652, 'stiefvater': 5653, 'blondine': 5654, 'katzenallergie': 5655, 'abhalten': 5656, 'diamant': 5657, 'bescheuerte': 5658, 'kopfhaut': 5659, 'volle': 5660, 'kochend': 5661, 'speisekarte': 5662, 'vorhersehbar': 5663, 'schweig': 5664, 'diskutieren': 5665, 'verschnaufen': 5666, 'lenken': 5667, 'grenzen': 5668, 'alleinerziehende': 5669, 'zittern': 5670, 'burg': 5671, 'sohnes': 5672, 'ganzer': 5673, 'netztagebuch': 5674, 'schlimmes': 5675, 'aufgebraucht': 5676, 'ehe': 5677, 'versprich': 5678, 'teeservice': 5679, 'erschienen': 5680, 'stille': 5681, 'forderte': 5682, 'befunden': 5683, 'picknick': 5684, 'gelenkig': 5685, 'strumpfhosen': 5686, 'smog': 5687, 'behoben': 5688, 'günstiger': 5689, 'kluge': 5690, 'spezialität': 5691, 'säugling': 5692, 'gericht': 5693, 'heimgesucht': 5694, 'gerüchte': 5695, 'temperatur': 5696, 'handtücher': 5697, 'kapitän': 5698, 'großartiges': 5699, 'essbar': 5700, 'zerbrechlich': 5701, 'wand': 5702, 'vorerst': 5703, 'riesige': 5704, 'zögern': 5705, 'schluckte': 5706, 'landete': 5707, 'tiefe': 5708, 'grammophon': 5709, 'nettes': 5710, 'übergeschnappt': 5711, 'gebügelt': 5712, 'drogenabhängig': 5713, 'arbeiter': 5714, 'belästigt': 5715, 'gießt': 5716, 'vorname': 5717, 'strafe': 5718, 'schilt': 5719, 'fax': 5720, 'disziplin': 5721, 'schutz': 5722, 'warteliste': 5723, 'neige': 5724, 'benannte': 5725, 'schatten': 5726, 'eingeschaltet': 5727, 'benutzte': 5728, 'einrad': 5729, 'lebendigem': 5730, 'populär': 5731, 'sehenswürdigkeiten': 5732, 'jeans': 5733, 'besucher': 5734, 'reflektiert': 5735, 'schützen': 5736, 'flussabwärts': 5737, 'falsches': 5738, 'wählten': 5739, 'pünktlichkeit': 5740, 'alkoholisiert': 5741, 'perfekte': 5742, 'plus': 5743, 'gedenkst': 5744, 'benutzername': 5745, 'hintun': 5746, 'klo': 5747, 'eingang': 5748, 'sekretär': 5749, 'gehalt': 5750, 'lachst': 5751, 'bedeutest': 5752, 'lungenentzündung': 5753, 'außergewöhnlich': 5754, 'tatverdächtige': 5755, 'schwanz': 5756, 'verfolgt': 5757, 'gesamte': 5758, 'taxifahrer': 5759, 'verbreiten': 5760, 'taschendieben': 5761, 'studentenausweis': 5762, 'putz': 5763, 'vormittag': 5764, 'massieren': 5765, 'verpassen': 5766, 'light': 5767, 'feuerzeug': 5768, 'färbt': 5769, 'nägeln': 5770, 'verlier': 5771, 'korn': 5772, 'gering': 5773, 'erschuf': 5774, 'linken': 5775, 'gelächter': 5776, 'abzuholen': 5777, 'räusperte': 5778, 'zehntausend': 5779, 'angesteckt': 5780, 'zuletzt': 5781, 'perfekten': 5782, 'seltsamen': 5783, 'dolmetschte': 5784, 'gebürtiger': 5785, 'heroinabhängig': 5786, 'verzogenes': 5787, 'munter': 5788, 'gesundem': 5789, 'beraubte': 5790, 'schnarchte': 5791, 'älterer': 5792, 'details': 5793, 'dahintergekommen': 5794, 'ernte': 5795, 'zugemacht': 5796, 'rasiere': 5797, 'briefe': 5798, 'erklärte': 5799, 'zwillingsbruder': 5800, 'spielschulden': 5801, 'lebensversicherung': 5802, 'geldprobleme': 5803, 'füttern': 5804, 'seiet': 5805, 'liebeslied': 5806, 'animes': 5807, 'inspiration': 5808, 'zurückzahlen': 5809, 'veranstaltung': 5810, 'wiedererkannt': 5811, 'tennisspielen': 5812, 'morgens': 5813, 'raffiniert': 5814, 'weggeworfen': 5815, 'türgriff': 5816, 'zusammensein': 5817, 'korea': 5818, 'zweifellos': 5819, 'ködern': 5820, 'golffan': 5821, 'romantiker': 5822, 'fürchterlicher': 5823, 'beeinflussen': 5824, 'handwerk': 5825, 'verbittert': 5826, 'unwohl': 5827, 'mittagspause': 5828, 'krankenhäuser': 5829, 'ersticke': 5830, 'bestiegen': 5831, 'dresscode': 5832, 'kleiderordnung': 5833, 'schulbus': 5834, 'gänsehaut': 5835, 'angemessen': 5836, 'gemeinsame': 5837, 'riesenerfolg': 5838, 'lieblingslied': 5839, 'haltbar': 5840, 'klopfe': 5841, 'herumführen': 5842, 'mai': 5843, 'angeschwollen': 5844, 'graue': 5845, 'linker': 5846, 'weisheitszahn': 5847, 'erhitze': 5848, 'klartext': 5849, 'doppelkinn': 5850, 'figur': 5851, 'russischen': 5852, 'getauft': 5853, 'jätete': 5854, 'unkraut': 5855, 'reisepass': 5856, 'skizzen': 5857, 'gange': 5858, 'vielversprechend': 5859, 'wasserleitung': 5860, 'detail': 5861, 'experiment': 5862, 'tropft': 5863, 'verschlechterte': 5864, 'becken': 5865, 'straßen': 5866, 'operation': 5867, 'bestellungen': 5868, 'mäusespeck': 5869, 'grüße': 5870, 'tellerrand': 5871, 'stoff': 5872, 'verschoben': 5873, 'unangemessen': 5874, 'rathaus': 5875, 'striegelte': 5876, 'vogelhaus': 5877, 'ballte': 5878, 'hektische': 5879, 'magenschmerzen': 5880, 'drückeberger': 5881, 'gutaussehender': 5882, 'unruhestifter': 5883, 'ungewöhnliches': 5884, 'großvater': 5885, 'angetrunken': 5886, 'geschwätzig': 5887, 'makeup': 5888, 'strich': 5889, 'ergriffen': 5890, 'gekümmert': 5891, 'aufgedreht': 5892, 'unterzogen': 5893, 'dritte': 5894, 'amerikanische': 5895, 'schmutzige': 5896, 'trocknet': 5897, 'frühstücksspeck': 5898, 'vorteil': 5899, 'zusammenarbeiten': 5900, 'kindheit': 5901, 'nachdem': 5902, 'abreisen': 5903, 'heimweg': 5904, 'nachspioniert': 5905, 'wundervolle': 5906, 'aufregendes': 5907, 'spannendes': 5908, 'angetan': 5909, 'nennst': 5910, 'beschlossen': 5911, 'schrank': 5912, 'nachname': 5913, 'präsident': 5914, 'irgendwann': 5915, 'geborgen': 5916, 'müsstest': 5917, 'beobachtungsgabe': 5918, 'konto': 5919, 'steife': 5920, 'wolf': 5921, 'richtigen': 5922, 'seismologe': 5923, 'seismologin': 5924, 'ernste': 5925, 'hinfällst': 5926, 'zeitschriften': 5927, 'papiertüte': 5928, 'kopfstand': 5929, 'schlagzeug': 5930, 'zwischen': 5931, 'ufos': 5932, 'grünen': 5933, 'spitznamen': 5934, 'tortellini': 5935, 'mastercard': 5936, 'opfer': 5937, 'beschuldige': 5938, 'trockener': 5939, 'abschiedskuss': 5940, 'eisenkugel': 5941, 'hänge': 5942, 'niederlage': 5943, 'leichtigkeit': 5944, 'kleidete': 5945, 'färbte': 5946, 'anfertigen': 5947, 'fähiger': 5948, 'intelligenter': 5949, 'dürstet': 5950, 'reiches': 5951, 'spitzte': 5952, 'raubte': 5953, 'musikant': 5954, 'usbürger': 5955, 'telefonnummer': 5956, 'benimmt': 5957, 'überraschten': 5958, 'automotoren': 5959, 'zurücklassen': 5960, 'dummheit': 5961, 'dummes': 5962, 'chefin': 5963, 'käme': 5964, 'weiteren': 5965, 'abgehen': 5966, 'kriegst': 5967, 'geguckt': 5968, 'streiche': 5969, 'zuvor': 5970, 'verdanken': 5971, 'weitgehend': 5972, 'ausgemacht': 5973, 'freundschaft': 5974, 'hebräisch': 5975, 'gegner': 5976, 'hinsicht': 5977, 'riesenspaß': 5978, 'sitzung': 5979, 'laktoseintoleranz': 5980, 'aktuelles': 5981, 'kollegmappe': 5982, 'konferenzmappe': 5983, 'moral': 5984, 'ähnelt': 5985, 'kräftig': 5986, 'mutige': 5987, 'weiser': 5988, 'dreckige': 5989, 'situation': 5990, 'einfallen': 5991, 'strömen': 5992, 'tierisch': 5993, 'pfoten': 5994, 'burger': 5995, 'ablegen': 5996, 'aufgehängt': 5997, 'vaters': 5998, 'wasserdicht': 5999, 'hasen': 6000, 'durchschneiden': 6001, 'verriet': 6002, 'studium': 6003, 'tüten': 6004, 'vorbeischauen': 6005, 'reiner': 6006, 'ansatz': 6007, 'beträchtliches': 6008, 'knietief': 6009, 'schimmlig': 6010, 'erwärmt': 6011, 'einschalten': 6012, 'ungesund': 6013, 'hervorragender': 6014, 'völliger': 6015, 'anblick': 6016, 'detailliert': 6017, 'ausführlich': 6018, 'anwortete': 6019, 'betrat': 6020, 'träumte': 6021, 'ketchup': 6022, 'dankte': 6023, 'drogenproblem': 6024, 'radfahrer': 6025, 'beeindrucken': 6026, 'mäht': 6027, 'pflückt': 6028, 'vernachlässigte': 6029, 'kehle': 6030, 'harrte': 6031, 'gutem': 6032, 'angefreundet': 6033, 'trösteten': 6034, 'hausarbeit': 6035, 'asphalt': 6036, 'hundes': 6037, 'blutgruppe': 6038, 'klapprechner': 6039, 'wartest': 6040, 'hypnotisieren': 6041, 'gelegenheit': 6042, 'klargemacht': 6043, 'os': 6044, 'as': 6045, 'seiten': 6046, 'hingezogen': 6047, 'einfacheres': 6048, 'telefonieren': 6049, 'geheißen': 6050, 'liedtexte': 6051, 'schwimm': 6052, 'klebstoff': 6053, 'zweite': 6054, 'verlief': 6055, 'vernachlässigt': 6056, 'versprach': 6057, 'weiteres': 6058, 'absichten': 6059, 'verehrten': 6060, 'hinbekommen': 6061, 'inwiefern': 6062, 'aussehe': 6063, 'begegnung': 6064, 'klopfen': 6065, 'benötigte': 6066, 'mitgefühl': 6067, 'geburtstagsfeiern': 6068, 'umstände': 6069, 'politisches': 6070, 'mitarbeit': 6071, 'besuche': 6072, 'teilweise': 6073, 'ausreden': 6074, 'zweifelte': 6075, 'schiffes': 6076, 'wärmer': 6077, 'fleischwunde': 6078, 'donnerwetter': 6079, 'hülf': 6080, 'aha': 6081, 'hingefallen': 6082, 'keinster': 6083, 'halts': 6084, 'behebe': 6085, 'greif': 6086, 'runden': 6087, 'trete': 6088, 'glatzköpfig': 6089, 'zutritt': 6090, 'rettet': 6091, 'warne': 6092, 'ausgeschieden': 6093, 'zielen': 6094, 'hols': 6095, 'plattenaufleger': 6096, 'versprechs': 6097, '915\\xa0uhr': 6098, 'unsers': 6099, 'behalt’s': 6100, 'lieg': 6101, 'rutsch': 6102, 'siehe': 6103, 'unterschreib': 6104, 'harre': 6105, 'übernehmt': 6106, 'stürzten': 6107, 'döste': 6108, 'strickt': 6109, 'kümmert’s': 6110, 'stinken': 6111, 'hasts': 6112, 'obacht': 6113, 'aufgelegt': 6114, 'fies': 6115, 'tragisch': 6116, 'gefällst': 6117, 'gekotzt': 6118, 'ruppig': 6119, 'reingehen': 6120, 'blutarmut': 6121, 'modeerscheinung': 6122, 'vorübergehende': 6123, 'sperrig': 6124, 'unhandlich': 6125, 'lasset': 6126, 'vorausschauend': 6127, 'draus': 6128, 'beginne': 6129, 'schmeck': 6130, 'betrüblich': 6131, 'mogeln': 6132, 'schummeln': 6133, 'abgestimmt': 6134, 'mogelt': 6135, 'japste': 6136, 'gehorchte': 6137, 'fügte': 6138, 'gefügt': 6139, 'abbiegen': 6140, 'war’s': 6141, 'bestimmst': 6142, 'tröste': 6143, 'trösten': 6144, 'vergebt': 6145, 'stinkreich': 6146, 'stockbetrunken': 6147, 'stehts': 6148, 'gezögert': 6149, '„hör': 6150, 'auf“': 6151, 'ergebe': 6152, 'gelegen': 6153, 'einsteigen': 6154, 'bäcker': 6155, 'tollpatsch': 6156, 'faste': 6157, 'pappsatt': 6158, 'gesetzlich': 6159, 'schmeckts': 6160, 'gift': 6161, 'dringlich': 6162, 'hinüber': 6163, 'hochgehen': 6164, 'präg': 6165, 'prägt': 6166, 'prägen': 6167, 'regiert': 6168, 'timing': 6169, 'verabschiede': 6170, 'errötete': 6171, 'beiß': 6172, 'gratis': 6173, 'brannten': 6174, 'riefen': 6175, 'drückten': 6176, 'veränderte': 6177, 'hämisch': 6178, 'zwängen': 6179, 'zwangserkrankung': 6180, 'eingeatmet': 6181, 'kahl': 6182, 'hammertyp': 6183, 'rüpel': 6184, 'entspannte': 6185, 'geschwitzt': 6186, 'cnn': 6187, 'hölle': 6188, 'zeitig': 6189, 'gemogelt': 6190, 'beschreibe': 6191, 'rauchst': 6192, 'tut’s': 6193, 'merkt': 6194, 'gräme': 6195, 'porzellankiste': 6196, 'existieren': 6197, 'händige': 6198, 'pummelig': 6199, 'unleidlich': 6200, 'stinkig': 6201, 'speist': 6202, 'religiöser': 6203, 'eiferer': 6204, 'berührend': 6205, 'kaviar': 6206, 'rülpse': 6207, 'nesselsucht': 6208, 'löwen': 6209, '99\\u202f': 6210, 'einigermaßen': 6211, 'friere': 6212, 'perth': 6213, 'aufständischer': 6214, 'aufständische': 6215, 'heilige': 6216, 'verhungere': 6217, 'kohldampf': 6218, 'kitzlig': 6219, 'hirsch': 6220, 'schnäppchen': 6221, 'hagelt': 6222, 'rauskommst': 6223, 'zeigt’s': 6224, 'dazwischengehen': 6225, 'hüfte': 6226, 'interessiert’s': 6227, 'enspannt': 6228, 'enspann': 6229, 'fassung': 6230, 'träum': 6231, 'jubelten': 6232, 'entspannten': 6233, 'erholten': 6234, 'schwitzten': 6235, 'mitkriegen': 6236, 'grauslich': 6237, 'klappen': 6238, 'billigt': 6239, 'eingebrochen': 6240, 'gluckste': 6241, 'anwerben': 6242, 'verirrte': 6243, 'grimassierte': 6244, 'murrte': 6245, 'maulte': 6246, 'motzte': 6247, 'beharrte': 6248, 'brutal': 6249, 'beglückt': 6250, 'bedürftig': 6251, 'fettleibig': 6252, 'einspruch': 6253, 'eingelenkt': 6254, 'nachgegeben': 6255, 'achseln': 6256, 'geblinzelt': 6257, 'araber': 6258, 'bereiteten': 6259, 'greifen': 6260, 'angreifen': 6261, 'schande': 6262, 'dankst': 6263, 'erhitzt': 6264, 'beängstigen': 6265, 'liegst': 6266, 'eklig': 6267, 'durchtrieben': 6268, 'drückst': 6269, 'untergliedere': 6270, 'detailliere': 6271, 'buchstabier': 6272, 'verspäte': 6273, 'reagier': 6274, 'hetz': 6275, 'spül': 6276, 'füttert': 6277, 'spiegelei': 6278, 'segne': 6279, 'augenblickchen': 6280, 'skateboard': 6281, 'skatet': 6282, 'vorzeitig': 6283, 'fortgeschickt': 6284, 'gesteinigt': 6285, 'österreicher': 6286, 'nörgler': 6287, 'meckerfritze': 6288, 'jesuit': 6289, 'autist': 6290, 'bedien': 6291, 'huste': 6292, 'herbeigeführt': 6293, 'beigetragen': 6294, 'hingesehen': 6295, 'flau': 6296, 'ausgeflippt': 6297, 'ausgerastet': 6298, 'schnupfen': 6299, 'gesündigt': 6300, 'uhren': 6301, 'spielfilme': 6302, 'aufgegossen': 6303, 'wehren': 6304, 'ankämpfen': 6305, 'zurückgetan': 6306, 'bedankte': 6307, 'krone': 6308, 'geohrfeigt': 6309, 'pferdchen': 6310, 'ausrufen': 6311, 'krüppel': 6312, 'süchtiger': 6313, 'schreie': 6314, 'fledermaus': 6315, 'auseinander': 6316, 'frostig': 6317, '14': 6318, 'pilz': 6319, 'unmenschlich': 6320, 'veraltet': 6321, 'schiech': 6322, 'entsperrt': 6323, 'freigeschaltet': 6324, 'kontrolliers': 6325, 'kontrollierts': 6326, 'beschäftige': 6327, 'trab': 6328, 'paddel': 6329, 'paddeln': 6330, 'belassen': 6331, 'kreischte': 6332, 'nackenschmerzen': 6333, 'bademantel': 6334, 'schinden': 6335, 'bückte': 6336, 'verabscheute': 6337, 'hoffnungen': 6338, 'vorgemacht': 6339, 'hörig': 6340, 'blauäugig': 6341, 'zusammenbleiben': 6342, 'feg': 6343, 'geschmäcker': 6344, 'saturn': 6345, 'faktum': 6346, 'mythos': 6347, 'siegten': 6348, 'gesiegt': 6349, 'kündigten': 6350, 'dummköpfe': 6351, 'spione': 6352, 'wortspiel': 6353, 'himmelt': 6354, 'applaudierte': 6355, 'spendete': 6356, 'geklatscht': 6357, 'gespendet': 6358, 'ertüchtigte': 6359, 'ertüchtigt': 6360, 'hochschule': 6361, 'geknuddelt': 6362, 'chaot': 6363, 'weichei': 6364, 'parteiisch': 6365, 'döst': 6366, 'schlummert': 6367, 'witzelt': 6368, 'liebevoll': 6369, 'protestierte': 6370, 'aufgezogen': 6371, 'gen': 6372, 'durchfallen': 6373, 'würgen': 6374, 'füßen': 6375, 'geschnarcht': 6376, 'rückendeckung': 6377, 'bohnere': 6378, 'habens': 6379, 'werdens': 6380, 'rechtsanwälte': 6381, 'übriggeblieben': 6382, 'schreib’s': 6383, 'aussichtslos': 6384, 'befangen': 6385, 'bezahlst': 6386, 'niederträchtig': 6387, 'gestatten': 6388, 'boote': 6389, 'gesellen': 6390, 'mitten': 6391, 'halbiere': 6392, 'entzwei': 6393, 'sagtet': 6394, 'recycelst': 6395, 'recycelt': 6396, 'beschwer': 6397, 'bezahlten': 6398, 'federn': 6399, 'entledige': 6400, 'helfende': 6401, 'frohes': 6402, 'feiertage': 6403, 'kandidiert': 6404, 'zierlich': 6405, 'fleischhauer': 6406, 'samurai': 6407, 'autor': 6408, 'exknacki': 6409, 'pantoffelheld': 6410, 'ungar': 6411, 'ungarin': 6412, 'leihe': 6413, 'kapier': 6414, 'montage': 6415, 'camion': 6416, 'schlösser': 6417, 'angle': 6418, 'mahjong': 6419, 'mahjongg': 6420, 'saschimi': 6421, 'unterhalte': 6422, 'angel': 6423, 'schildkröten': 6424, 'lasagne': 6425, 'hickse': 6426, 'bekenne': 6427, 'vieh': 6428, '„nimm“': 6429, 'diene': 6430, 'hundewelpen': 6431, 'angeheuert': 6432, 'anzeigen': 6433, 'runterkommen': 6434, 'hinfahren': 6435, 'schimpfen': 6436, 'anstrengen': 6437, 'anfängerin': 6438, 'diabetikerin': 6439, 'musikerin': 6440, 'pazifist': 6441, 'pazifistin': 6442, 'strafgefangene': 6443, 'handelvertreter': 6444, 'vertreter': 6445, 'offizier': 6446, 'amüsiere': 6447, 'analphabetin': 6448, 'aufgibt': 6449, 'wink': 6450, 'becher': 6451, 'gebühr': 6452, 'mittwoch': 6453, 'bewundernswert': 6454, 'überfall': 6455, 'hinterhalt': 6456, 'beleidigung': 6457, 'brandneu': 6458, 'inkorrekt': 6459, 'überflüssig': 6460, 'hauptverkehrszeit': 6461, 'hauptgeschäftszeit': 6462, 'stoßzeit': 6463, 'knaben': 6464, 'vorangehen': 6465, 'dazusetzen': 6466, 'doofköpfe': 6467, 'gelenke': 6468, '»tom«': 6469, 'begreifst': 6470, 'begreift': 6471, 'begreifen': 6472, 'schmoll': 6473, 'entferne': 6474, 'schwärmt': 6475, 'genarrt': 6476, 'krankenpflegerin': 6477, 'bach': 6478, 'tippt': 6479, 'schädlich': 6480, 'murren': 6481, 'schnüffeln': 6482, 'zauberhaft': 6483, 'trost': 6484, 'bissiger': 6485, 'haarsträubend': 6486, 'zusammengeschlagen': 6487, 'radelte': 6488, 'notruf': 6489, 'unterbrochen': 6490, '112': 6491, 'gegraben': 6492, 'mühelos': 6493, 'dicker': 6494, 'züchtete': 6495, 'dr': 6496, 'phil': 6497, 'asthma': 6498, 'skorbut': 6499, 'beachtete': 6500, 'zwerg': 6501, 'wächter': 6502, 'rabbi': 6503, 'durchschnittlich': 6504, 'ungelenk': 6505, 'gefühllos': 6506, 'vielschichtig': 6507, 'zynisch': 6508, 'fragwürdig': 6509, 'staubt': 6510, 'schnappt': 6511, 'griesgram': 6512, 'idol': 6513, 'neutral': 6514, 'nickt': 6515, 'obszön': 6516, 'präzise': 6517, 'übersinnlich': 6518, 'radikal': 6519, 'oberflächlich': 6520, 'schluchzt': 6521, 'vollgegessen': 6522, 'taktvoll': 6523, 'neckisch': 6524, 'unbewegt': 6525, 'bösartig': 6526, 'jammert': 6527, 'willig': 6528, 'gähnt': 6529, 'pistolen': 6530, 'überblick': 6531, 'weggezogen': 6532, 'gezwickt': 6533, 'scheint’s': 6534, 'verschlief': 6535, 'gestarted': 6536, 'tatenlos': 6537, 'hintergrund': 6538, 'zurückgehalten': 6539, 'hinters': 6540, 'flennte': 6541, 'mürrisch': 6542, 'spießer': 6543, 'grinsen': 6544, 'behandele': 6545, 'süßigkeit': 6546, 'helden': 6547, 'kapitulierten': 6548, 'meldeten': 6549, 'anmalen': 6550, 'beisammen': 6551, 'widern': 6552, 'schmeichelst': 6553, 'selbstsüchtig': 6554, 'nichtsnutze': 6555, 'fünfzehn': 6556, 'kenterte': 6557, 'stattdessen': 6558, 'bälle': 6559, 'benehmt': 6560, 'anschaffen': 6561, 'beteiligen': 6562, 'klapp': 6563, 'hol’s': 6564, 'protestiert': 6565, 'gemundet': 6566, 'meintest': 6567, 'meinten': 6568, 'tiefes': 6569, 'rap': 6570, 'knausrig': 6571, 'flipp': 6572, 'betrink': 6573, 'beleidigen': 6574, 'unterbrich': 6575, 'widersetze': 6576, 'streu': 6577, 'erschieße': 6578, 'necke': 6579, 'sichs': 6580, 'beteten': 6581, 'werkzeugkiste': 6582, 'gönnt': 6583, 'fackelt': 6584, 'strebsam': 6585, 'reizt': 6586, 'äthiopier': 6587, 'unmöglicher': 6588, 'medium': 6589, 'geisteskräfte': 6590, 'kräfte': 6591, 'vertreibt': 6592, 'radios': 6593, 'whisky': 6594, 'zugewinkt': 6595, 'komödiant': 6596, 'studentenverbindung': 6597, 'verbindungsstudent': 6598, 'unsozial': 6599, 'querschnittsgelähmt': 6600, 'helium': 6601, 'heiterer': 6602, 'getürkt': 6603, 'hisst': 6604, 'segel': 6605, 'gewagt': 6606, 'totmüde': 6607, 'einzudösen': 6608, 'sitze': 6609, 'entkleide': 6610, 'gerülpst': 6611, 'verleugnen': 6612, 'ungeschehen': 6613, 'beriet': 6614, 'schippe': 6615, 'isoliert': 6616, 'übergangen': 6617, 'außen': 6618, 'gefühlt': 6619, 'beerdigungen': 6620, 'waschbären': 6621, 'reptilien': 6622, 'kriechtiere': 6623, 'gespieben': 6624, 'cartoons': 6625, 'zeichentrickfilme': 6626, 'broccoli': 6627, 'komödien': 6628, 'feiere': 6629, 'hochzeiten': 6630, 'western': 6631, 'bevorzuge': 6632, 'ausgelesen': 6633, 'ahnte': 6634, 'giraffe': 6635, 'spanischlehrer': 6636, 'spanischlehrerin': 6637, 'spanischunterricht': 6638, 'duschte': 6639, 'bbc': 6640, 'gingest': 6641, 'einlenken': 6642, 'mailand': 6643, 'notiert': 6644, 'limonade': 6645, 'bliebe': 6646, 'begleite': 6647, 'informieren': 6648, 'erwähnen': 6649, 'tvsüchtig': 6650, 'fernsehsüchtig': 6651, 'schreiner': 6652, 'stadtmädchen': 6653, 'kommunistin': 6654, 'risikofreudig': 6655, 'abenteuerlustig': 6656, 'optimistin': 6657, 'farbenblind': 6658, 'farbenfehlsichtig': 6659, 'portugal': 6660, 'kurzsichtig': 6661, 'bereich': 6662, 'engländerin': 6663, 'schlitzohr': 6664, 'unbewaffnet': 6665, 'vierunddreißig': 6666, 'faxen': 6667, 'reicht’s': 6668, 'plappert': 6669, 'infiziert': 6670, 'zebra': 6671, 'café': 6672, 'fluß': 6673, 'umgehauen': 6674, 'erscheinen': 6675, 'schmerzlos': 6676, 'ne': 6677, 'arge': 6678, 'fasan': 6679, 'verdientes': 6680, 'unpassend': 6681, 'irreführend': 6682, 'langt': 6683, 'übt': 6684, 'vortritt': 6685, 'saufen': 6686, 'gießen': 6687, 'improvisieren': 6688, 'zuckerschlecken': 6689, 'ponyhof': 6690, 'verkleinere': 6691, 'verwitwet': 6692, '„nie“': 6693, 'drücke': 6694, 'druckknopf': 6695, 'puzzlespielen': 6696, 'zurückweisung': 6697, 'heb': 6698, 'donut': 6699, 'hinauswill': 6700, 'haie': 6701, 'vergab': 6702, 'läuferin': 6703, 'botengänge': 6704, 'sturkopf': 6705, 'erstach': 6706, 'fesselte': 6707, 'gefesselt': 6708, 'durchsetzungsvermögen': 6709, 'verbreite': 6710, 'wimmern': 6711, 'geschichtchen': 6712, 'freiheraus': 6713, 'pagode': 6714, 'betrug': 6715, 'zeugs': 6716, 'erötete': 6717, 'keinerlei': 6718, 'piloten': 6719, 'scheren': 6720, 'vermissten': 6721, 'fehlte': 6722, 'besuchten': 6723, 'lagen': 6724, 'praktikanten': 6725, 'assistenzärzte': 6726, 'stumpfsinnig': 6727, 'unnütz': 6728, 'beschleunigt': 6729, 'betrunkener': 6730, 'dazugegeben': 6731, 'genehmigt': 6732, 'lippe': 6733, 'ausgecheckt': 6734, 'hinterging': 6735, 'ekelt': 6736, 'duckte': 6737, 'übertrieb': 6738, 'übertreibt': 6739, 'ungutes': 6740, 'wehrte': 6741, 'flippte': 6742, 'panisch': 6743, 'hicks': 6744, 'ausgesorgt': 6745, 'eremit': 6746, 'legende': 6747, 'pirat': 6748, 'rapper': 6749, 'einsteiger': 6750, 'wellenreiter': 6751, 'kauz': 6752, 'schräger': 6753, 'agnostisch': 6754, 'magersüchtig': 6755, 'athletisch': 6756, 'hustet': 6757, 'kultiviert': 6758, 'umständen': 6759, 'unschlüssig': 6760, 'durchnässt': 6761, 'gebildet': 6762, 'beredt': 6763, 'flieht': 6764, 'ausgehungert': 6765, 'kraftvoll': 6766, 'kichert': 6767, 'grinst': 6768, 'stöhnt': 6769, 'beinen': 6770, 'heimwehkrank': 6771, 'humorvoll': 6772, 'involviert': 6773, 'klopft': 6774, 'verwaltet': 6775, 'barmherzig': 6776, 'neurotisch': 6777, 'pervers': 6778, 'rational': 6779, 'reformiert': 6780, 'rastlos': 6781, 'einkäufe': 6782, 'übermütig': 6783, 'aufgekratzt': 6784, 'niest': 6785, 'temperamentvoll': 6786, 'taktlos': 6787, 'endstadium': 6788, 'kitzelig': 6789, 'unermüdlich': 6790, 'entnervt': 6791, 'labil': 6792, 'kleinlich': 6793, 'smart': 6794, 'freilassung': 6795, 'kaution': 6796, 'gerichtsverhandlung': 6797, 'weitergegessen': 6798, 'weiterbewegt': 6799, 'stumm': 6800, 'weiterversucht': 6801, 'tötete': 6802, 'kaltem': 6803, 'verfroren': 6804, 'flott': 6805, 'festgefahren': 6806, 'chili': 6807, 'aussagen': 6808, 'verschied': 6809, 'bereitwillig': 6810, 'stoisch': 6811, 'tenor': 6812, 'bremste': 6813, 'dressiert': 6814, 'unnachgiebig': 6815, 'geblendet': 6816, 'gemobbt': 6817, 'trotzig': 6818, 'betagt': 6819, 'ausweichend': 6820, 'nachsichtig': 6821, 'keuchte': 6822, 'schluchzte': 6823, 'niedergestochen': 6824, 'taser': 6825, 'beschossen': 6826, 'begleitete': 6827, 'empfängt': 6828, 'benützen': 6829, 'einwendungen': 6830, 'sank': 6831, 'gesunken': 6832, 'gebeichtet': 6833, 'saukomisch': 6834, 'wände': 6835, 'hintrittst': 6836, 'verhafteten': 6837, 'picknicks': 6838, 'waffeln': 6839, 'fachleute': 6840, 'duschten': 6841, 'zurückhaben': 6842, 'aufschlagen': 6843, 'kampieren': 6844, 'kooperativ': 6845, 'hinkommen': 6846, 'stammen': 6847, 'optimisten': 6848, 'gefürchtet': 6849, 'riesiger': 6850, 'grober': 6851, 'wieviel': 6852, 'kumpel': 6853, 'ruder': 6854, 'beschimpft': 6855, 'betreffende': 6856, 'schönheit': 6857, 'sexist': 6858, 'störst': 6859, 'enervierend': 6860, 'betrügst': 6861, 'schummelst': 6862, 'partnerin': 6863, 'bemitleidenswert': 6864, '8': 6865, 'wegs': 6866, 'sicherung': 6867, 'durchgebrannt': 6868, 'unsichtbar': 6869, 'veranlagt': 6870, 'interessierts': 6871, 'flügel': 6872, 'zügele': 6873, 'buchstabieren': 6874, 'kirschen': 6875, 'konzentriere': 6876, 'grabt': 6877, 'reiss': 6878, 'überquere': 6879, 'gedrängt': 6880, 'gebellt': 6881, 'lehnst': 6882, 'ruhst': 6883, 'tōfu': 6884, 'unbesorgt': 6885, 'stör': 6886, 'rase': 6887, 'belästige': 6888, 'weitermachst': 6889, 'spielchen': 6890, 'bescheiß': 6891, 'verpetz': 6892, 'verpetzen': 6893, 'sprangen': 6894, 'merkten': 6895, 'hats': 6896, 'tank': 6897, 'beende': 6898, 'wunderbaren': 6899, 'aufgegessen': 6900, 'verstieß': 6901, 'fremdgegangen': 6902, 'mittags': 6903, 'rückwärts': 6904, 'reparierte': 6905, 'picasso': 6906, 'verabscheut': 6907, 'höflicher': 6908, 'italiener': 6909, 'diesbezüglich': 6910, 'geschüttelt': 6911, 'wendete': 6912, 'rettungsschwimmer': 6913, 'nichtraucher': 6914, 'senil': 6915, 'plädieren': 6916, 'ungemein': 6917, 'verkühlung': 6918, 'katarrh': 6919, 'pflichte': 6920, 'runtergehauen': 6921, 'ausländer': 6922, 'masochist': 6923, 'norwegen': 6924, 'brate': 6925, 'erretten': 6926, 'bunt': 6927, 'entgegengetreten': 6928, 'erwägung': 6929, 'pizzalieferant': 6930, 'pizzalieferantin': 6931, 'allesesser': 6932, 'gebauchpinselt': 6933, 'beschützt': 6934, 'erquickt': 6935, 'beruf': 6936, 'impfen': 6937, 'granate': 6938, 'roller': 6939, 'mühsam': 6940, 'samstage': 6941, 'astrologie': 6942, 'popmusik': 6943, 'astronomie': 6944, 'sternenkunde': 6945, 'gartenarbeit': 6946, 'afroamerikanische': 6947, '„seelennahrung“': 6948, 'passte': 6949, '„times“': 6950, 'etikett': 6951, 'maui': 6952, '„bleib': 6953, 'zurück“': 6954, 'scheidung': 6955, 'i': 6956, 'martini': 6957, 'aufessen': 6958, 'frustiert': 6959, 'erniedrigt': 6960, 'bestrafen': 6961, 'fünfundzwanzig': 6962, 'mentor': 6963, 'groggy': 6964, 'langschläfer': 6965, 'fotonarr': 6966, 'hobbyfotograf': 6967, 'verdrossen': 6968, 'beidhänderin': 6969, 'gleichermaßen': 6970, 'marinesoldat': 6971, 'vermeide': 6972, 'übertreibe': 6973, 'kroatien': 6974, 'quicklebendig': 6975, 'überdrehe': 6976, 'vorurteilsfrei': 6977, 'ausfindig': 6978, 'selbstsicher': 6979, '2231374': 6980, 'interessierte': 6981, 'bedeutung': 6982, 'angewohnheit': 6983, 'messe': 6984, 'vollmond': 6985, 'sonniger': 6986, 'windiger': 6987, 'illusion': 6988, 'mild': 6989, 'bitterkalt': 6990, 'denkbar': 6991, 'hergeholt': 6992, 'reine': 6993, 'glückssache': 6994, 'affenfleisch': 6995, 'gesetzeswidrig': 6996, 'transparent': 6997, 'klebrig': 6998, 'schwül': 6999, 'stickig': 7000, 'entzündete': 7001, 'werk': 7002, 'steck': 7003, 'senke': 7004, 'senken': 7005, 'wildfang': 7006, 'verpasste': 7007, 'deutschen': 7008, 'entzündet': 7009, 'zuckt': 7010, 'goldfisch': 7011, 'winzig': 7012, 'posteingang': 7013, 'langweilige': 7014, 'interessieren': 7015, 'unterrichtete': 7016, 'nix': 7017, 'pumpen': 7018, 'pump': 7019, 'begrabbeln': 7020, 'wirklichkeit': 7021, 'respektiere': 7022, 'bezwungen': 7023, 'bezwang': 7024, 'verachtete': 7025, 'bmw': 7026, 'vergötterte': 7027, 'vergöttert': 7028, 'pianistin': 7029, 'zurückgewiesen': 7030, 'geritten': 7031, 'ritt': 7032, 'lebewohl': 7033, 'angelächelt': 7034, 'erschreckte': 7035, 'häuschen': 7036, 'meckern': 7037, 'beklagen': 7038, 'tagträumerei': 7039, 'einzumischen': 7040, 'anzulügen': 7041, 'erschrecken': 7042, 'prahlen': 7043, 'sekkieren': 7044, 'vorkehrungen': 7045, 'vorsichtsmaßnahmen': 7046, 'trefft': 7047, 'sicherheitsvorkehrungen': 7048, 'überfragt': 7049, 'freudige': 7050, 'irrsinnig': 7051, 'eitles': 7052, 'geschwätz': 7053, 'zweiundvierzig': 7054, 'gequietscht': 7055, 'gilt': 7056, 'untergegangen': 7057, 'vereist': 7058, 'stürmisch': 7059, 'ertönte': 7060, 'verheilte': 7061, 'ausgehoben': 7062, 'ignorierten': 7063, 'gedankt': 7064, 'wiederkehren': 7065, 'klatschnass': 7066, 'schwachsinn': 7067, 'sabotage': 7068, 'stoppte': 7069, 'ausgefragt': 7070, 'tagesanbruch': 7071, 'berichtigte': 7072, 'verbesserte': 7073, 'dekoriert': 7074, 'h': 7075, '2009': 7076, 'weiteten': 7077, 'verliebte': 7078, 'vergibt': 7079, 'briet': 7080, 'vision': 7081, 'hausdiener': 7082, 'geschwür': 7083, 'charisma': 7084, 'fertiggemacht': 7085, 'sommersprossen': 7086, 'schlafstörungen': 7087, 'trunkenheit': 7088, 'belangt': 7089, 'oliven': 7090, 'summte': 7091, 'beeindruckte': 7092, 'schlagzeugspieler': 7093, 'faschist': 7094, 'turner': 7095, 'installateur': 7096, 'realist': 7097, 'makler': 7098, 'immobilienmakler': 7099, 'flüchtling': 7100, 'anpassungsfähig': 7101, 'abkömmlich': 7102, 'bartlos': 7103, 'bilingual': 7104, 'hinterlistig': 7105, 'betrügerisch': 7106, 'defensiv': 7107, 'unehrlich': 7108, 'energisch': 7109, 'fanatisch': 7110, 'tollkühn': 7111, 'grotesk': 7112, 'murrt': 7113, 'ehrenhaft': 7114, 'hitzköpfig': 7115, 'unlogisch': 7116, 'teilnahmslos': 7117, 'erfinderisch': 7118, 'lüstern': 7119, 'legendär': 7120, 'gnadenlos': 7121, 'murmelt': 7122, 'obsessiv': 7123, 'besessen': 7124, 'bedauert': 7125, 'zurückhaltend': 7126, 'seriös': 7127, 'belastbar': 7128, 'schamlos': 7129, 'hemdlos': 7130, 'skizziert': 7131, 'hockt': 7132, 'unentschieden': 7133, 'unbeliebt': 7134, 'wacht': 7135, 'jude': 7136, 'langweiler': 7137, 'familienmitglied': 7138, 'stabil': 7139, 'drogeneinfluss': 7140, 'nocht': 7141, 'geniest': 7142, 'zugeschaut': 7143, 'wühlte': 7144, 'weitergesungen': 7145, 'textete': 7146, 'menschenkenntnis': 7147, 'ponys': 7148, 'reggae': 7149, 'geistreich': 7150, 'wackelig': 7151, 'anmerken': 7152, 'genickt': 7153, 'belauscht': 7154, 'zwickte': 7155, 'vorhergesagt': 7156, 'baumstamm': 7157, 'punktete': 7158, 'herrisch': 7159, 'widerstandsfähig': 7160, 'stiehlt': 7161, 'erstarrt': 7162, 'vorgeschlagen': 7163, 'yogaunterricht': 7164, 'kitzelte': 7165, 'quälte': 7166, 'plapperte': 7167, 'bluffte': 7168, 'aufmunternd': 7169, 'deportiert': 7170, 'treulos': 7171, 'ekstatisch': 7172, 'begnadigt': 7173, 'hungerte': 7174, 'unrasiert': 7175, 'jogging': 7176, 'bemerken': 7177, 'zusagen': 7178, 'einwilligen': 7179, 'erbleichte': 7180, 'folter': 7181, 'auszubrechen': 7182, 'heizung': 7183, 'seelenverwandte': 7184, 'störten': 7185, 'vernahmen': 7186, 'irrten': 7187, 'davongetragen': 7188, 'osten': 7189, 'analphabeten': 7190, 'seelenverwandt': 7191, 'kerlchen': 7192, 'besagt': 7193, 'zoll': 7194, 'mami': 7195, 'weggeräumt': 7196, 'eigelbe': 7197, 'schienst': 7198, 'starrsinnig': 7199, 'schreist': 7200, 'versicherung': 7201, 'hosenstall': 7202, 'heftiger': 7203, 'ammoniak': 7204, 'lauge': 7205, 'bettwanzen': 7206, 'vampire': 7207, 'vampir': 7208, 'schutzmann': 7209, 'meide': 7210, 'nester': 7211, 'bissen': 7212, 'springschnurspringen': 7213, 'schleife': 7214, 'binden': 7215, 'champagner': 7216, 'kokain': 7217, 'vergleiche': 7218, 'verteidigt': 7219, 'gezeichnet': 7220, 'wohntest': 7221, 'wohntet': 7222, 'ameisen': 7223, 'zuliebe': 7224, 'sahne': 7225, 'gewogen': 7226, 'palme': 7227, 'erwähne': 7228, 'wiederhol': 7229, 'droh': 7230, 'mamma': 7231, 'krischen': 7232, 'überlebten': 7233, 'brat': 7234, 'bratet': 7235, 'braten': 7236, 'bettfertig': 7237, '—': 7238, 'damen': 7239, 'geläutet': 7240, 'wohlbehalten': 7241, 'rasend': 7242, 'blockierte': 7243, 'verstorben': 7244, 'abgekratzt': 7245, 'lotus': 7246, 'ermüdete': 7247, 'erhängte': 7248, 'blonde': 7249, 'reue': 7250, 'dramatiker': 7251, 'physiker': 7252, 'unfähig': 7253, 'einflussreich': 7254, 'aufgeblieben': 7255, 'vitamine': 7256, 'freigenommen': 7257, 'übte': 7258, 'verrat': 7259, 'übertreten': 7260, 'rastete': 7261, 'studienanfänger': 7262, 'anfangssemestern': 7263, 'hochverschuldet': 7264, 'georgia': 7265, 'georgien': 7266, 'sahnt': 7267, 'bitteschön': 7268, 'schatz': 7269, 'pflichtete': 7270, 'backe': 7271, 'ecuador': 7272, 'hochzufrieden': 7273, 'vwbus': 7274, 'bulli': 7275, 'hybridauto': 7276, 'einordnen': 7277, 'umentschieden': 7278, 'gekriegt': 7279, 'rückvergütung': 7280, 'universitätsabschluss': 7281, 'steuererklärung': 7282, 'werfe': 7283, 'porsche': 7284, 'durchgefahren': 7285, 'letztendlich': 7286, 'note': 7287, 'reifenpanne': 7288, 'blauen': 7289, 'interviews': 7290, 'regnerische': 7291, 'regentage': 7292, 'wüste': 7293, 'rosafarbenes': 7294, 'ohrenschmerzen': 7295, 'mundgeruch': 7296, 'vorstehende': 7297, 'hierhergezogen': 7298, 'fliegt': 7299, 'herausforderungen': 7300, 'volkslieder': 7301, 'rockmusik': 7302, 'kalifornien': 7303, 'hamburger': 7304, 'feilsche': 7305, 'hingerissen': 7306, 'serie': 7307, 'football': 7308, 'zerrung': 7309, 'geschaut': 7310, 'formular': 7311, 'verschluckt': 7312, 'erdkundelehrer': 7313, 'erdkundelehrerin': 7314, 'deucht': 7315, 'highway': 7316, 'fernstraße': 7317, 'gerächt': 7318, 'wasserbett': 7319, 'dämmerte': 7320, 'überwältigt': 7321, 'herumgeschäkert': 7322, 'besorge': 7323, 'zurückgeben': 7324, 'freilassen': 7325, 'verständigen': 7326, 'normales': 7327, 'gewissenhaft': 7328, 'fanatikerin': 7329, 'spielerin': 7330, 'hellsehen': 7331, 'marionette': 7332, 'dienstmädchen': 7333, 'wolke': 7334, 'twitter': 7335, 'mitbewohner': 7336, 'mitbewohnerin': 7337, 'vertrieben': 7338, 'ausgangsperre': 7339, 'sperrstunde': 7340, 'belohnung': 7341, 'tödlich': 7342, 'zerfiel': 7343, 'angegossen': 7344, 'richtungen': 7345, 'abgekühlt': 7346, 'notlüge': 7347, 'sonnig': 7348, 'ägyptisch': 7349, 'pausenlos': 7350, 'ununterbrochen': 7351, 'reinste': 7352, 'bißchen': 7353, 'wacklig': 7354, 'frachtschiff': 7355, 'frachter': 7356, 'bewölkter': 7357, 'immerhin': 7358, 'holder': 7359, 'blödes': 7360, 'vertraulich': 7361, 'ausgabe': 7362, 'unverkäuflich': 7363, 'heia': 7364, 'leg’s': 7365, 'weiterraten': 7366, 'drängeln': 7367, 'hebamme': 7368, 'segnen': 7369, 'gebunden': 7370, 'entlaufen': 7371, 'hirn': 7372, 'leergefegt': 7373, 'schweinestall': 7374, 'sichtweite': 7375, 'beschwerte': 7376, 'überredet': 7377, 'gegensätze': 7378, 'bezahl': 7379, 'beschuldigten': 7380, 'informiere': 7381, 'verhalte': 7382, 'tauschen': 7383, 'dichte': 7384, 'bind': 7385, 'duften': 7386, 'lautstark': 7387, 'faszinierte': 7388, 'umgeschaut': 7389, 'drängte': 7390, 'schmiss': 7391, 'depressionen': 7392, 'depressiv': 7393, 'modebewusst': 7394, 'argument': 7395, 'überaktiv': 7396, 'faultiere': 7397, 'dazwischengekommen': 7398, 'quälen': 7399, 'nachzulaufen': 7400, 'unterbrechungen': 7401, 'augenblicklich': 7402, 'gefangenen': 7403, 'termiten': 7404, 'unverzichtbar': 7405, 'essentiell': 7406, 'prächtig': 7407, 'wundert': 7408, 'armselig': 7409, 'ideal': 7410, 'tanne': 7411, 'tannenbaum': 7412, 'gürtellinie': 7413, 'supereinfach': 7414, 'schreckenerregend': 7415, 'düsten': 7416, 'geplatzt': 7417, 'knarrte': 7418, 'spalt': 7419, 'kicherten': 7420, 'ladehemmung': 7421, 'heimmannschaft': 7422, 'zitrone': 7423, 'augenlid': 7424, 'liebenden': 7425, 'meeting': 7426, 'erschütterte': 7427, 'strahlt': 7428, 'urteil': 7429, 'überstanden': 7430, 'götter': 7431, 'glaubten': 7432, 'erröteten': 7433, 'schoben': 7434, 'folgten': 7435, 'jagten': 7436, 'gekidnappt': 7437, 'folterten': 7438, 'keuchten': 7439, 'kannibalen': 7440, 'mitgenommen': 7441, 'ihrige': 7442, 'kokosnuss': 7443, 'adverb': 7444, 'berechtigt': 7445, 'gerechtfertigt': 7446, 'unbezahlbar': 7447, 'silber': 7448, 'zurückgeantwortet': 7449, 'keuchen': 7450, 'gezwinkert': 7451, 'errötet': 7452, 'ausgeborgt': 7453, 'zuzusehen': 7454, 'gesichtsfarbe': 7455, 'gehustet': 7456, 'verschmäht': 7457, 'gelitten': 7458, 'kürzlich': 7459, 'starker': 7460, 'hilfslos': 7461, 'zurückgestoßen': 7462, 'abgestoßen': 7463, 'anfall': 7464, 'windows': 7465, 'iphone': 7466, 'arthritis': 7467, 'hautfarbe': 7468, 'plattfüße': 7469, 'unentschuldigt': 7470, 'potenzial': 7471, 'joggt': 7472, 'artiges': 7473, 'braver': 7474, 'mechaniker': 7475, 'sträfling': 7476, 'reporter': 7477, 'großgewachsener': 7478, 'hochgewachsener': 7479, 'telepath': 7480, 'schwächling': 7481, 'dilettant': 7482, 'analytisch': 7483, 'redegewandt': 7484, 'großkopfig': 7485, 'schielt': 7486, 'wahnhafte': 7487, 'störungen': 7488, 'mutlos': 7489, 'diplomatisch': 7490, 'abgelenkt': 7491, 'unbekümmert': 7492, 'entbehrlich': 7493, 'frustriert': 7494, 'hitzkopf': 7495, 'unfehlbar': 7496, 'einsichtig': 7497, 'aufschlussreich': 7498, 'intolerant': 7499, 'methodisch': 7500, 'akribisch': 7501, 'tomás': 7502, 'stiefpapa': 7503, 'mysteriös': 7504, 'kunde': 7505, 'empörend': 7506, 'leidenschaftlich': 7507, 'dickköpfig': 7508, 'produktiv': 7509, 'unerbittlich': 7510, 'reumütig': 7511, 'respektvoll': 7512, 'unschlagbar': 7513, 'ungeschlagen': 7514, 'unbeirrt': 7515, 'entkleidet': 7516, 'umbarmherzig': 7517, 'unangenehm': 7518, 'unvorbereitet': 7519, 'offenherzig': 7520, 'bergmann': 7521, 'bergarbeiter': 7522, 'behält': 7523, 'einfühlungsvermögen': 7524, 'blondhaarige': 7525, 'blondinen': 7526, 'zeltet': 7527, 'landwirtschaft': 7528, 'wurst': 7529, 'meeresfrüchte': 7530, 'eislaufen': 7531, 'surft': 7532, 'schuldbewusst': 7533, 'mutet': 7534, 'ausgezehrt': 7535, 'zappelig': 7536, 'dünner': 7537, 'angelte': 7538, 'risotto': 7539, 'rituale': 7540, 'sonnenuntergänge': 7541, 'pfannkuchen': 7542, 'missverstand': 7543, 'agiert': 7544, 'ausgezahlt': 7545, 'spähte': 7546, 'bürgermeisteramt': 7547, 'kandidat': 7548, 'verpfiffen': 7549, '65': 7550, 'fünfundsechzig': 7551, 'rettung': 7552, 'schmerze': 7553, 'bestrebt': 7554, 'hierhergeschickt': 7555, 'deckte': 7556, 'gänge': 7557, 'gangart': 7558, 'geschwänzt': 7559, 'ausfallen': 7560, 'ausgeführt': 7561, 'angebissen': 7562, 'umgedreht': 7563, 'videoband': 7564, 'aufgezeichnet': 7565, 'erbrach': 7566, 'lösungen': 7567, 'sinnt': 7568, 'updates': 7569, 'trachtet': 7570, 'durchsetzungsstark': 7571, 'brillant': 7572, 'bekümmert': 7573, 'hocherfreut': 7574, 'unbeschwert': 7575, 'elend': 7576, 'gestehen': 7577, 'reagieren': 7578, 'kanal': 7579, 'biege': 7580, 'acrylfarbe': 7581, 'nutzst': 7582, 'rastet': 7583, 'rostet': 7584, 'venus': 7585, 'verabredet': 7586, 'nicken': 7587, 'voreinander': 7588, 'sehnen': 7589, 'parks': 7590, 'gemietet': 7591, 'streben': 7592, 'schlacht': 7593, 'journalisten': 7594, 'abgelaufen': 7595, 'ausdauernd': 7596, 'bestohlen': 7597, '0': 7598, 'warme': 7599, 'depp': 7600, 'herrlicher': 7601, 'bastelt': 7602, 'fleck': 7603, 'stellst': 7604, '105': 7605, 'flugsteig': 7606, 'brandy': 7607, 'rückerstattung': 7608, 'mona': 7609, 'lisa': 7610, 'verantwortung': 7611, '„befriedigend“': 7612, 'mitzumachen': 7613, 'entzündlich': 7614, 'brennbar': 7615, 'verneinen': 7616, 'feuern': 7617, 'fabelhaft': 7618, 'erleichert': 7619, 'atemberaubend': 7620, 'sahst': 7621, 'zauberst': 7622, 'klatsche': 7623, 'widerwärtig': 7624, 'ekelerregend': 7625, 'ungebildet': 7626, 'veralberst': 7627, 'sicherer': 7628, 'ferkel': 7629, 'fachfrau': 7630, 'gekratzt': 7631, 'unwetter': 7632, 'weiterer': 7633, 'inkludiert': 7634, 'gläubig': 7635, 'gewaffnet': 7636, 'verwendest': 7637, 'vegetarierin': 7638, 'hopfen': 7639, 'aufheben': 7640, 'weiterlaufen': 7641, 'kaltes': 7642, 'beherrscht': 7643, 'lohnen': 7644, 'befasse': 7645, 'klinge': 7646, 'irgendeinen': 7647, 'kabukitheater': 7648, 'kabuki': 7649, 'wagner': 7650, 'happen': 7651, 'zahnfleischbluten': 7652, 'angsthase': 7653, 'abhängig': 7654, 'gekränkt': 7655, 'szene': 7656, 'zwingt': 7657, 'verpass': 7658, 'spare': 7659, 'leutseliges': 7660, 'dummheiten': 7661, 'zerronnen': 7662, 'drehten': 7663, 'zögerten': 7664, 'täglich': 7665, 'felder': 7666, 'füllt': 7667, 'lücken': 7668, 'füllen': 7669, 'formularfelder': 7670, 'bedanke': 7671, 'gib\\xa0mir': 7672, 'erschieß': 7673, 'fröhliches': 7674, 'erntedankfest': 7675, 'erlitten': 7676, 'riet': 7677, 'säuft': 7678, 'radfahren': 7679, 'überholt': 7680, 'fettiges': 7681, 'fußschritte': 7682, 'kriegswaise': 7683, 'klassenkamerad': 7684, 'kommilitone': 7685, 'scharfen': 7686, 'herzlos': 7687, 'urteilsvermögen': 7688, 'luxus': 7689, 'temperament': 7690, 'durchgegangen': 7691, 'schwatzen': 7692, 'nutzte': 7693, 'zuneigung': 7694, 'allmählich': 7695, 'siebzig': 7696, 'kreationist': 7697, 'phantomschreiber': 7698, 'abstinenzler': 7699, 'vollkommenes': 7700, 'morgenaktiver': 7701, 'bodenständig': 7702, 'kartenspiel': 7703, 'selbständig': 7704, 'zerrissen': 7705, 'ruß': 7706, 'hi': 7707, 'besiegelt': 7708, 'erkaltet': 7709, 'verwirklichen': 7710, 'umsetzen': 7711, 'standet': 7712, 'eheleben': 7713, 'grille': 7714, 'prophet': 7715, '183': 7716, 'm': 7717, 'dreiundachtzig': 7718, 'aushelfen': 7719, 'radel': 7720, 'sünde': 7721, 'geknackt': 7722, 'gelöscht': 7723, 'scheinheiligkeit': 7724, 'wodka': 7725, 'elendiglich': 7726, 'hundekalt': 7727, 'hinreißen': 7728, 'unanständige': 7729, 'fernzusehen': 7730, 'aquarium': 7731, 'glasauge': 7732, 'zahnweh': 7733, 'fettige': 7734, 'feinmachen': 7735, 'proben': 7736, 'explosionen': 7737, 'jogge': 7738, 'te': 7739, 'acabo': 7740, 'de': 7741, 'enviar': 7742, 'correo': 7743, 'electrónico': 7744, 'umgelegt': 7745, 'witwe': 7746, 'weiss': 7747, 'vorstellungsvermögen': 7748, 'unverschlossen': 7749, 'la': 7750, 'diskomusik': 7751, 'pferderennen': 7752, 'himbeeren': 7753, 'sehne': 7754, 'koreanisches': 7755, 'apfelwein': 7756, 'bärtige': 7757, 'sommerregen': 7758, 'oftmals': 7759, 'tätigen': 7760, 'moneten': 7761, 'mauspad': 7762, 'mausunterlage': 7763, 'stoppuhr': 7764, 'körperlotion': 7765, 'handcreme': 7766, 'comichefte': 7767, 'unlängst': 7768, 'pedes': 7769, 'unversucht': 7770, 'fernsehers': 7771, 'streicheltiger': 7772, 'dableibst': 7773, 'dableibt': 7774, 'dickliches': 7775, '1972': 7776, '1982': 7777, 'gezwungen': 7778, '130': 7779, 'herbringen': 7780, 'küchenchef': 7781, 'ess': 7782, 'gieße': 7783, 'überlege': 7784, 'vormund': 7785, 'städter': 7786, 'lausiger': 7787, 'fotograf': 7788, 'lastwagenfahrerin': 7789, 'lasterfahrerin': 7790, 'blute': 7791, 'singapur': 7792, 'zustimmst': 7793, 'wanne': 7794, 'urlaubsreisender': 7795, 'tschechisch': 7796, 'puffmais': 7797, 'socke': 7798, 'kriminelle': 7799, 'überwunden': 7800, 'verdaut': 7801, 'geldmangel': 7802, 'unwissenheit': 7803, 'seligkeit': 7804, 'angekettet': 7805, 'milchmann': 7806, 'nimmer': 7807, 'streich': 7808, 'hoax': 7809, 'vergleichbares': 7810, 'pochis': 7811, 'futter': 7812, 'großem': 7813, 'nutzen': 7814, 'eimern': 7815, 'schüttet': 7816, 'wegschaffen': 7817, 'tagelang': 7818, 'traumjob': 7819, 'handgefertigt': 7820, 'hypnotisierend': 7821, 'verhindert': 7822, 'profil': 7823, 'kubanische': 7824, 'französisches': 7825, 'grausame': 7826, 'regelung': 7827, 'bewiesene': 7828, 'ablenkungsmanöver': 7829, 'druckfehler': 7830, 'vernunft': 7831, 'unpersönlich': 7832, 'überfüllt': 7833, 'weitem': 7834, 'konfitüre': 7835, 'betreten': 7836, 'rasens': 7837, 'gesetze': 7838, 'empor': 7839, 'gewendet': 7840, 'widmet': 7841, 'glasierte': 7842, 'vergelte': 7843, 'vergelten': 7844, 'nahrhaft': 7845, 'akku': 7846, 'krabbeln': 7847, 'versiegelt': 7848, 'ists': 7849, 'angeles': 7850, 'gehorch': 7851, 'lehrern': 7852, 'sprunghaft': 7853, 'verband': 7854, 'senden': 7855, 'schütteln': 7856, 'rasur': 7857, 'vermasselt': 7858, 'hühnerfleich': 7859, 'zauberin': 7860, 'abgereist': 7861, 'star': 7862, 'gedroht': 7863, 'strahlte': 7864, 'reize': 7865, 'sexy': 7866, 'pfiffiges': 7867, 'intelligentes': 7868, 'alkoholikerin': 7869, 'patentante': 7870, 'patin': 7871, 'dreiunddreißig': 7872, 'auszubessern': 7873, 'versagern': 7874, 'herumzualbern': 7875, 'anzuschauen': 7876, 'atme': 7877, 'op': 7878, 'mittel': 7879, 'anwälten': 7880, 'wär': 7881, 'männerarbeit': 7882, 'totale': 7883, 'achse': 7884, 'altbacken': 7885, 'panne': 7886, 'fortgeflogen': 7887, 'dannen': 7888, 'disko': 7889, 'hechelt': 7890, 'wirtschaft': 7891, 'flamme': 7892, 'gelichtet': 7893, 'geschmolzen': 7894, 'taut': 7895, 'is': 7896, 'papagei': 7897, 'fels': 7898, 'signal': 7899, 'lichtete': 7900, 'feuerten': 7901, 'wellen': 7902, 'verfault': 7903, 'adoptierten': 7904, 'ringer': 7905, 'hergebeten': 7906, 'krochen': 7907, 'fanden': 7908, 'alleingelassen': 7909, 'heimlich': 7910, 'umhergelaufen': 7911, 'nelken': 7912, 'zottelig': 7913, 'spiels': 7914, 'alis': 7915, 'straßenkarte': 7916, 'meiste': 7917, 'geistigen': 7918, 'eigentums': 7919, 'misslich': 7920, 'ordinär': 7921, 'erdboden': 7922, 'stoßen': 7923, 'drehen': 7924, 'tröstete': 7925, 'riss': 7926, 'stapel': 7927, 'fleckfieber': 7928, 'verwendet': 7929, 'floh': 7930, 'rang': 7931, 'wacker': 7932, 'kappe': 7933, 'beraten': 7934, 'besorgte': 7935, 'coolen': 7936, 'wampe': 7937, 'lockiges': 7938, 'rücklagen': 7939, 'schreiten': 7940, 'zielscheibe': 7941, 'barkeeper': 7942, 'imker': 7943, 'bienenzüchter': 7944, 'biologe': 7945, 'wackerer': 7946, 'kommunist': 7947, 'landei': 7948, 'hinterwäldler': 7949, 'bibliothekar': 7950, 'nerd': 7951, 'sozialist': 7952, 'zweiten': 7953, 'studienjahr': 7954, 'terrorist': 7955, 'zäher': 7956, 'frauenheld': 7957, 'schürzenjäger': 7958, 'zoowärter': 7959, 'yorker': 7960, 'hyperaktiv': 7961, 'unsensibel': 7962, 'launenhaft': 7963, 'schwächlich': 7964, 'stalkt': 7965, 'splitternackt': 7966, 'begriffsstutzig': 7967, 'übergibt': 7968, 'lacrosse': 7969, 'rothaarige': 7970, '93': 7971, '97': 7972, 'veranlasste': 7973, 'melkte': 7974, 'theaters': 7975, 'lüftete': 7976, 'orchideen': 7977, 'nachgelaufen': 7978, 'empfehlung': 7979, 'wohltätigkeitsorganisation': 7980, 'charity': 7981, 'beleibt': 7982, 'salzte': 7983, 'anspannung': 7984, 'rudern': 7985, 'schwingt': 7986, 'versetzte': 7987, 'feuerrot': 7988, 'aufgefunden': 7989, 'ausgestoßen': 7990, 'geächtet': 7991, 'geschubst': 7992, 'ulkig': 7993, 'verspürte': 7994, 'schwenkte': 7995, 'anwenden': 7996, 'zugezwinkert': 7997, 'brüllte': 7998, 'brummte': 7999, 'niedrigen': 8000, 'lautstärke': 8001, 'australier': 8002, 'fertigwerden': 8003, 'haltmachen': 8004, 'kilometerweit': 8005, 'nahrungsmittel': 8006, 'beenden': 8007, 'unterbinden': 8008, 'arretieren': 8009, 'anzukommen': 8010, 'ausfahrt': 8011, 'abfahrt': 8012, 'achtsam': 8013, 'zelt': 8014, 'begannen': 8015, 'überdrehen': 8016, 'cia': 8017, 'usa': 8018, 'wurdet': 8019, 'kürbis': 8020, 'niederträchtiger': 8021, 'absonderlicher': 8022, 'zeitgenosse': 8023, 'hornochse': 8024, 'dienen': 8025, 'sauwetter': 8026, 'erwartest': 8027, 'widerliches': 8028, 'ekelhaftes': 8029, 'backst': 8030, 'stärken': 8031, 'stachelschwein': 8032, 'laus': 8033, 'leber': 8034, 'uniform': 8035, 'bäckerei': 8036, 'aufgestellt': 8037, 'eigner': 8038, 'schiffs': 8039, 'eid': 8040, 'tollen': 8041, 'schreck': 8042, 'eingejagt': 8043, 'blaß': 8044, 'legtest': 8045, 'begegnest': 8046, 'loslassen': 8047, 'gefährdet': 8048, 'gemahlin': 8049, 'schlaumeier': 8050, 'rassisten': 8051, 'meidest': 8052, 'meiden': 8053, 'kooperierst': 8054, 'belügst': 8055, 'übernimmst': 8056, '„wen': 8057, 'kümmert’s“\\xa0–': 8058, '„mich“': 8059, 'schläfchen': 8060, 'bruch': 8061, 'rundum': 8062, 'umtausch': 8063, 'aluminium': 8064, 'beantworte': 8065, 'mitfahren': 8066, 'überlebende': 8067, 'versuchst': 8068, 'überwachst': 8069, 'entenküken': 8070, 'löwenjunge': 8071, 'abzulegen': 8072, 'schwermütig': 8073, 'überbewertet': 8074, 'badeanzug': 8075, 'anmelden': 8076, 'scheuern': 8077, 'ritterlichkeit': 8078, 'räumt': 8079, 'räumen': 8080, 'kontaktiere': 8081, 'virus': 8082, 'zypern': 8083, 'unausweichlich': 8084, 'lösche': 8085, 'löscht': 8086, 'löschen': 8087, 'empfindlichen': 8088, 'gebadet': 8089, 'fluche': 8090, 'vernehme': 8091, 'übereinstimmung': 8092, 'motto': 8093, 'kompaktdisks': 8094, 'surfst': 8095, 'erkennt': 8096, 'wärt': 8097, 'kletter': 8098, 'zweifle': 8099, 'untersteh': 8100, 'schmeißen': 8101, 'verzapf': 8102, 'schmarren': 8103, 'frierst': 8104, 'krise': 8105, 'sichere': 8106, 'pianist': 8107, 'fingerhut': 8108, 'einbrecher': 8109, 'bestieg': 8110, 'genua': 8111, 'wales': 8112, 'entkräftete': 8113, 'gewiesen': 8114, 'traurigen': 8115, 'todes': 8116, 'ferrari': 8117, 'verfehlte': 8118, 'ehrenwort': 8119, 'begrüßte': 8120, 'amüsierte': 8121, 'lustigen': 8122, 'rundes': 8123, 'zweitarbeit': 8124, 'gehandelt': 8125, 'picassos': 8126, 'flugreisen': 8127, 'hoffte': 8128, 'fischhändler': 8129, 'eifersüchtiger': 8130, 'gelehrter': 8131, 'gemeiner': 8132, 'ungezogener': 8133, 'unhöflicher': 8134, 'frauenhasser': 8135, 'statur': 8136, 'buße': 8137, 'streut': 8138, 'asche': 8139, 'haupt': 8140, 'gutherzig': 8141, 'warzenmelonen': 8142, 'cantaloupemelonen': 8143, 'komfortables': 8144, 'außerhalb': 8145, 'verdächtig': 8146, 'nachtlokale': 8147, 'witzige': 8148, 'käfige': 8149, 'kofferraum': 8150, 'stubste': 8151, 'schuhgeschäft': 8152, 'irrte': 8153, 'wienerte': 8154, 'unterzeichnete': 8155, 'verblieb': 8156, 'behandelte': 8157, 'christentum': 8158, 'ohio': 8159, 'bedauern': 8160, 'überstunden': 8161, 'nachgeben': 8162, 'kehrt': 8163, 'spätentwickler': 8164, 'eingerostet': 8165, 'angeheitert': 8166, 'unberechenbar': 8167, 'drehbuchautor': 8168, 'kondition': 8169, 'physischer': 8170, 'ausgezeichneter': 8171, 'körperlicher': 8172, 'opernliebhaber': 8173, 'opernfan': 8174, 'klemme': 8175, 'bedrängnis': 8176, 'wachdienst': 8177, 'tetris': 8178, 'greift': 8179, 'wangen': 8180, 'abweisend': 8181, 'großfamilie': 8182, 'halfter': 8183, 'verdirbt': 8184, 'revanche': 8185, 'magnete': 8186, 'buchstabiert': 8187, 'elektriker': 8188, 'bohre': 8189, 'erstarke': 8190, 'arbeitsfrei': 8191, 'pflücke': 8192, 'kurznachricht': 8193, 'gespenster': 8194, 'kostüm': 8195, 'schälen': 8196, 'hinnehmen': 8197, 'hühnchen': 8198, 'missachten': 8199, 'kann’s': 8200, 'postkarten': 8201, 'saitama': 8202, 'zählte': 8203, '200': 8204, 'date': 8205, 'geländewagen': 8206, 'banken': 8207, 'müsli': 8208, 'deplatziert': 8209, 'heimgezahlt': 8210, 'abgerechnet': 8211, 'vorahnung': 8212, 'festnehmen': 8213, 'raushängen': 8214, 'hass': 8215, 'behinderung': 8216, 'laufende': 8217, 'gästezimmer': 8218, 'bohrenden': 8219, 'tennisarm': 8220, 'aufregen': 8221, 'french': 8222, 'toast': 8223, 'käsepizza': 8224, 'drachenfrüchte': 8225, 'hacke': 8226, 'sperrte': 8227, 'chinesisches': 8228, 'brombeeren': 8229, 'erdbeeren': 8230, 'pulli': 8231, 'club': 8232, 'gesessen': 8233, 'tuch': 8234, 'papiertaschentuch': 8235, 'kleiderbügel': 8236, 'kennwort': 8237, 'wiedergutmachung': 8238, 'streitereien': 8239, 'befolge': 8240, 'öfters': 8241, '3000': 8242, 'gestrichen': 8243, 'bonus': 8244, 'vorige': 8245, 'kunstgeschichte': 8246, 'unterdrückte': 8247, 'daraufgesetzt': 8248, 'verrissen': 8249, 'hinzusehen': 8250, 'geschehe': 8251, 'besaufen': 8252, 'vermögenden': 8253, 'bauklötze': 8254, 'gestaunt': 8255, 'bange': 8256, 'badete': 8257, 'freuden': 8258, 'kapierte': 8259, 'hörtest': 8260, 'zugesagt': 8261, 'hierherkommen': 8262, 'daiquiri': 8263, 'magermilch': 8264, 'vereinfache': 8265, 'überdenken': 8266, 'überleg’s': 8267, 'aktualisieren': 8268, 'leibwächterin': 8269, 'zuhörerin': 8270, 'tattookünstlerin': 8271, 'diensten': 8272, 'abgeholt': 8273, 'entwerfe': 8274, 'verdurste': 8275, 'apartment': 8276, 'berühmtheit': 8277, 'wissenschaftlerin': 8278, 'beschwere': 8279, 'mische': 8280, 'eingeschüchtert': 8281, 'judo': 8282, 'vertan': 8283, 'weihnachtsmann': 8284, 'uboot': 8285, 'kneipe': 8286, 'kanonen': 8287, 'kanonenfeuer': 8288, 'spatzenbekämpfung': 8289, 'schneeweiß': 8290, 'schmiert': 8291, 'nutzt': 8292, 'stockdunkle': 8293, 'fabelhafte': 8294, 'törichte': 8295, 'verdammt': 8296, 'günstig': 8297, 'unentschuldbar': 8298, 'spanisches': 8299, 'knobelaufgabe': 8300, 'trostloser': 8301, 'hohe': 8302, 'betrag': 8303, '\\u200b\\u200bgroß': 8304, 'insiderwitz': 8305, 'eingeweihte': 8306, 'älteres': 8307, 'außerordentlich': 8308, 'bricht': 8309, 'modisch': 8310, 'bloßes': 8311, 'placebo': 8312, 'unbekannt': 8313, 'kratzer': 8314, 'zeitaufwendig': 8315, 'wirksam': 8316, 'frites': 8317, 'feierabend': 8318, 'bierchen': 8319, 'obergeschoss': 8320, 'merlin': 8321, '1791': 8322, 'tierarzt': 8323, 'katzenminze': 8324, 'geschwollen': 8325, 'inder': 8326, 'indianer': 8327, 'bescheidene': 8328, 'steckenpferd': 8329, 'notebook': 8330, 'zimmerschlüssel': 8331, 'rachen': 8332, 'smith': 8333, 'aufschlag': 8334, 'gewohnheiten': 8335, 'abzuschütteln': 8336, 'verbündeten': 8337, 'begrenzt': 8338, 'pfirsiche': 8339, 'volk': 8340, 'schlafanzüge': 8341, 'bekleide': 8342, 'schriftlich': 8343, 'demnächst': 8344, 'übermorgen': 8345, '2000': 8346, 'klatschbase': 8347, 'gutmütig': 8348, 'geachtet': 8349, 'fräulein': 8350, 'strotzt': 8351, 'wohlbefinden': 8352, 'quatschte': 8353, 'schnürte': 8354, 'bass': 8355, 'buchte': 8356, 'gebucht': 8357, 'weitergearbeitet': 8358, 'modernes': 8359, 'freches': 8360, 'freche': 8361, 'einigen': 8362, 'gefällt’s': 8363, 'dazwischen': 8364, 'kritik': 8365, 'blödeln': 8366, 'herumzuspielen': 8367, 'herumzuhacken': 8368, 'herzumzublödeln': 8369, 'thailand': 8370, 'information': 8371, 'paletot': 8372, 'fachgebiet': 8373, 'ordentlicher': 8374, 'marke': 8375, 'rekord': 8376, 'entspricht': 8377, 'entmutigend': 8378, 'blödsinnig': 8379, 'hinzunehmen': 8380, 'unannehmbar': 8381, 'unangebracht': 8382, 'ebendarum': 8383, 'erwärmte': 8384, 'auktion': 8385, 'meinige': 8386, 'busch': 8387, 'ranzig': 8388, 'putzig': 8389, 'tische': 8390, 'bänke': 8391, 'drastisch': 8392, 'getreide': 8393, 'feueralarm': 8394, 'erscholl': 8395, 'lebensmittel': 8396, 'brüllt': 8397, 'endlos': 8398, 'lumpen': 8399, 'schockierte': 8400, 'sau': 8401, 'saal': 8402, 'rappelvoll': 8403, 'sinkt': 8404, 'verdunkelte': 8405, 'trüb': 8406, 'netzpräsenz': 8407, 'nachgelassen': 8408, 'zweie': 8409, 'bedingung': 8410, 'schuhen': 8411, 'christen': 8412, 'schlachtfeld': 8413, 'chor': 8414, 'brave': 8415, 'verspotten': 8416, 'normale': 8417, 'landwirte': 8418, 'geortet': 8419, 'goldmine': 8420, 'handel': 8421, 'enormer': 8422, 'gewaltiger': 8423, 'makabrer': 8424, 'eiswürfel': 8425, 'inderin': 8426, 'rumpelkammer': 8427, 'ohrwurm': 8428, 'herren': 8429, 'missbrauchte': 8430, 'fertiggericht': 8431, 'tiefkühlgericht': 8432, 'netzkamera': 8433, 'überprüfte': 8434, 'konfrontierte': 8435, 'teilte': 8436, 'lausige': 8437, 'trocknete': 8438, 'datsun': 8439, 'zwickmühle': 8440, 'täuschte': 8441, 'tauben': 8442, 'verschränkte': 8443, 'klitschnass': 8444, 'bösen': 8445, 'kapuzenpulli': 8446, 'kahle': 8447, 'lippenspalte': 8448, 'knieschmerzen': 8449, 'angina': 8450, 'mandelentzündung': 8451, 'erhitzte': 8452, 'verbarg': 8453, 'tiefpunkt': 8454, 'angelangt': 8455, 'hupte': 8456, 'hupe': 8457, 'biochemiker': 8458, 'labertasche': 8459, 'tagträumer': 8460, 'familienmensch': 8461, 'feuerschlucker': 8462, 'normaler': 8463, 'politiker': 8464, 'programmierer': 8465, 'psychopath': 8466, 'wagehals': 8467, 'waghalsiger': 8468, 'wagemutiger': 8469, 'steinmetz': 8470, 'hütet': 8471, 'hüpft': 8472, 'verlässt': 8473, 'rechtshänder': 8474, 'vergeudet': 8475, 'brünette': 8476, 'curry': 8477, 'armenviertel': 8478, 'verwirrten': 8479, 'würdevoll': 8480, 'sandwich': 8481, 'siebensachen': 8482, 'weigert': 8483, 'bereute': 8484, 'schwieg': 8485, 'lockerer': 8486, 'gelehrt': 8487, 'bedrohte': 8488, 'türknauf': 8489, 'pflegte': 8490, 'streitlustig': 8491, 'verschollen': 8492, 'verscholl': 8493, 'ersticken': 8494, 'abgewiesen': 8495, 'wischte': 8496, 'schutzhelm': 8497, 'einzelhandel': 8498, 'unaufgeräumt': 8499, 'ausstellen': 8500, 'kaffees': 8501, 'regenschirme': 8502, 'nebenkosten': 8503, 'erleidet': 8504, 'mannschaften': 8505, 'vereinbarung': 8506, 'mündliche': 8507, 'einkauf': 8508, 'dampfschiff': 8509, 'eisenstange': 8510, 'freigehalten': 8511, 'würzen': 8512, 'heimat': 8513, 'umkehren': 8514, 'redeten': 8515, 'wüsstet': 8516, 'reisten': 8517, 'wuschen': 8518, 'häftlinge': 8519, 'jagd': 8520, 'zeitplan': 8521, 'einzuhalten': 8522, 'bizarre': 8523, 'herrliches': 8524, 'absurde': 8525, 'optionen': 8526, 'fertigst': 8527, 'bastelst': 8528, 'krieges': 8529, 'nachgeschlagen': 8530, 'buchstabe': 8531, 'krach': 8532, 'punktestand': 8533, 'bewandert': 8534, 'hindert': 8535, 'busfahrschein': 8536, 'datum': 8537, 'heutige': 8538, 'menü': 8539, 'pension': 8540, 'brichst': 8541, 'gingt': 8542, 'rotstift': 8543, 'weißbrot': 8544, 'verfasst': 8545, 'verfasste': 8546, 'humpelst': 8547, 'schmollst': 8548, 'zögerst': 8549, 'puh': 8550, 'kurzen': 8551, 'überlegst': 8552, 'bezwingen': 8553, 'liebhabe': 8554, 'spielhebel': 8555, 'aufwachen': 8556, 'erwachen': 8557, 'überfahren': 8558, 'duftest': 8559, 'superhübsch': 8560, 'unüberlegt': 8561, 'überreagierst': 8562, 'vergeuden': 8563, 'emsig': 8564, 'zucchini': 8565, '„hallo“': 8566, 'kalmar': 8567, 'tentakel': 8568, 'füg': 8569, 'strauß': 8570, 'brillen': 8571, 'maschine': 8572, 'ängstigst': 8573, 'ängstigen': 8574, 'drehst': 8575, 'geisteskrankheit': 8576, 'flugfertig': 8577, 'flugbereit': 8578, 'spionieren': 8579, 'fälschungen': 8580, 'blas': 8581, 'blast': 8582, 'vollversion': 8583, 'verlängern': 8584, 'ausrichten': 8585, 'anschalten': 8586, 'empfinden': 8587, 'zulegen': 8588, 'liefern': 8589, 'reichst': 8590, 'rinder': 8591, 'veränderungen': 8592, 'erkältungen': 8593, 'kontext': 8594, 'kopieren': 8595, 'wechseln': 8596, 'beglichen': 8597, 'überbring': 8598, 'diamanten': 8599, 'erbeten': 8600, 'kauftest': 8601, 'katzenfutter': 8602, 'öfter': 8603, 'färbst': 8604, 'ißt': 8605, 'tattoo': 8606, 'tesafilm': 8607, 'klebeband': 8608, 'brezeln': 8609, 'suaheli': 8610, 'anglistik': 8611, 'kimono': 8612, 'delphine': 8613, 'verzage': 8614, 'brich': 8615, 'friss': 8616, 'rege': 8617, 'steigere': 8618, 'steigern': 8619, 'bohr': 8620, 'zupf': 8621, 'ärmel': 8622, 'verschütten': 8623, 'ungeschicklichkeit': 8624, 'unterschiede': 8625, 'grenzt': 8626, 'gönn': 8627, 'beschuldigt': 8628, 'zielte': 8629, 'unternahm': 8630, 'selbstmordversuch': 8631, 'genf': 8632, 'anmut': 8633, 'mahlzeit': 8634, 'verkehrt': 8635, 'leerte': 8636, 'beschwerde': 8637, 'doktortitel': 8638, 'hungrigen': 8639, 'jegliche': 8640, 'dunkles': 8641, 'ausländisches': 8642, 'aussprache': 8643, 'behaarte': 8644, 'brust': 8645, 'angenehme': 8646, 'sonderbare': 8647, 'vorstellungen': 8648, 'versehen': 8649, 'athlet': 8650, 'redner': 8651, 'scharfer': 8652, 'kritiker': 8653, 'abgebrüht': 8654, 'zweiundfünfzig': 8655, 'besserung': 8656, 'indisch': 8657, 'schweres': 8658, 'unverschämte': 8659, 'nackig': 8660, 'rausgerannt': 8661, 'verspottet': 8662, 'zeichnete': 8663, 'zugesteckt': 8664, 'erkrankte': 8665, 'bänderriss': 8666, 'augenklappe': 8667, 'hilfskellner': 8668, 'abräumer': 8669, 'bedienungsgehilfe': 8670, 'billigen': 8671, 'waschechter': 8672, 'spanier': 8673, 'mitzuhelfen': 8674, 'behandlung': 8675, 'beschützend': 8676, 'unlauter': 8677, 'allerseits': 8678, 'ergangen': 8679, 'stoppt': 8680, 'personen': 8681, 'heilig': 8682, 'abbitte': 8683, 'unternehmer': 8684, 'fußballbegeisterter': 8685, 'kleide': 8686, 'ähnele': 8687, 'melke': 8688, 'ziege': 8689, 'vertue': 8690, 'inständig': 8691, 'dazubleiben': 8692, 'lampe': 8693, 'frisches': 8694, 'aschenbecher': 8695, 'konsultiert': 8696, 'überquert': 8697, 'paarmal': 8698, 'informiert': 8699, 'durchgelesen': 8700, 'großstädte': 8701, 'angeschwindelt': 8702, 'nachtragend': 8703, 'geheuer': 8704, 'scheitere': 8705, 'wohltätigkeit': 8706, 'almosen': 8707, 'poesie': 8708, 'spende': 8709, 'höhle': 8710, 'bisweilen': 8711, 'gehemmt': 8712, 'missgeschick': 8713, 'stummfilme': 8714, 'schlimmen': 8715, 'kreditkarte': 8716, 'halsweh': 8717, 'bauchweh': 8718, 'zwillingsschwester': 8719, 'rückenprobleme': 8720, 'sehvermögen': 8721, 'verkannt': 8722, 'verwendung': 8723, 'voranmachen': 8724, 'gelangen': 8725, 'prioritäten': 8726, 'gebärdensprache': 8727, 'dosen': 8728, 'dosenobst': 8729, 'angebraten': 8730, 'kasachstan': 8731, 'paprika': 8732, 'technischen': 8733, 'spielereien': 8734, 'papierflugzeug': 8735, 'papierflieger': 8736, 'gebastelt': 8737, 'soziologie': 8738, 'ebensogut': 8739, 'respektlos': 8740, 'riesenmist': 8741, 'mittagszeit': 8742, 'dampf': 8743, 'größere': 8744, 'schale': 8745, 'sauberes': 8746, 'übersetzung': 8747, 'notizblock': 8748, 'erlaubnis': 8749, 'genehmigung': 8750, 'autorisiert': 8751, 'bettdecken': 8752, 'anleitung': 8753, 'bezweifelt': 8754, 'eistee': 8755, 'zweihundert': 8756, 'spannte': 8757, '„lass': 8758, 'sein“': 8759, 'ewigkeit': 8760, 'schlafenden': 8761, 'angeschnitten': 8762, 'eröffnet': 8763, 'kenn': 8764, 'fotografiert': 8765, 'hahn': 8766, 'zugedreht': 8767, 'hinaufgegangen': 8768, 'mp3player': 8769, 'mp3spieler': 8770, 'befürchtet': 8771, 'einzelgänger': 8772, 'einzelgängerin': 8773, 'todlangweilig': 8774, 'russland': 8775, 'bürgen': 8776, 'wünscht’': 8777, 'vögelein': 8778, 'bieten': 8779, 'manhattan': 8780, 'bittest': 8781, 'rächen': 8782, 'sozialhilfe': 8783, 'dazusein': 8784, 'französischer': 8785, 'französischlehrer': 8786, 'krebspatient': 8787, 'polizeibeamter': 8788, 'privatperson': 8789, 'flugangst': 8790, 'gesetzesentwurf': 8791, 'maisallergie': 8792, 'mais': 8793, 'hundeallergie': 8794, 'stauballergie': 8795, 'achtklässler': 8796, 'verfügung': 8797, 'verzehre': 8798, 'frühstücke': 8799, 'freust': 8800, 'demselben': 8801, 'ultramüde': 8802, 'reinemachen': 8803, 'vergewissere': 8804, 'essbarem': 8805, 'anzeige': 8806, 'erstatten': 8807, 'schreibens': 8808, '12': 8809, 'vorgeladen': 8810, 'abgebrochen': 8811, 'verrückten': 8812, 'herzschrittmacher': 8813, 'lausigen': 8814, 'betrachtet': 8815, '23': 8816, 'taxifahrerin': 8817, 'geständnis': 8818, 'stundenplan': 8819, 'ausderhaut': 8820, 'nieseln': 8821, 'tröpfeln': 8822, 'gekennzeichnet': 8823, 'kindische': 8824, 'handlung': 8825, 'wertvoll': 8826, 'ente': 8827, 'höflichkeit': 8828, 'fehlalarm': 8829, 'blöder': 8830, 'höherer': 8831, 'zeitlang': 8832, 'familiengeheimnis': 8833, 'erkrankung': 8834, 'undankbare': 8835, 'böhmische': 8836, 'dörfer': 8837, 'extremfall': 8838, 'vorstellbar': 8839, 'leder': 8840, 'aufzuwachen': 8841, 'befriedigend': 8842, 'zufriedenstellend': 8843, 'vermögen': 8844, 'halbinsel': 8845, 'kämm': 8846, 'lämmer': 8847, 'lämmchen': 8848, 'handfläche': 8849, 'lincoln': 8850, '1865': 8851, 'wägen': 8852, 'umgestürzt': 8853, 'feilte': 8854, 'gesichtshaut': 8855, 'straffen': 8856, 'fetengängerin': 8857, 'snobistisch': 8858, 'versnobt': 8859, 'gnädige': 8860, 'eingangshalle': 8861, 'geteiltes': 8862, 'nikon': 8863, 'reparatur': 8864, 'pochen': 8865, 'lieblingsbeschäftigung': 8866, 'einkaufsbummel': 8867, 'shoppen': 8868, 'idiotin': 8869, 'lila': 8870, 'furchteinflößend': 8871, 'angsteinflößend': 8872, 'entrinnt': 8873, 'unwichtig': 8874, 'verletz': 8875, 'anwesenheit': 8876, 'irritieren': 8877, 'verschließe': 8878, 'verschone': 8879, 'umblättern': 8880, 'schubfach': 8881, 'doppelter': 8882, 'ausführung': 8883, 'botin': 8884, 'miniröcke': 8885, 'stopfte': 8886, 'vermisste': 8887, 'knallte': 8888, 'anzuhalten': 8889, 'bauchtänzerin': 8890, 'religiös': 8891, 'ausgeht': 8892, 'gehüllt': 8893, 'bedeckt': 8894, 'bedeckte': 8895, 'manche': 8896, 'erspare': 8897, 'aktienkurse': 8898, 'sumatra': 8899, 'einzelne': 8900, 'hühnchenfleisch': 8901, 'erlebnis': 8902, 'vorherzusehen': 8903, 'phantastische': 8904, 'günstiges': 8905, 'brosche': 8906, 'frauenarbeit': 8907, 'verwundbare': 8908, 'schwachstelle': 8909, 'ratsam': 8910, 'anzuraten': 8911, 'pseudowissenschaft': 8912, 'purer': 8913, 'haupttor': 8914, 'krabbelt': 8915, 'grenze': 8916, 'kabinett': 8917, 'miauen': 8918, 'tickt': 8919, 'zugehen': 8920, 'seen': 8921, 'beleuchtung': 8922, 'postsendung': 8923, 'übergekocht': 8924, 'löst': 8925, 'speisekammer': 8926, 'reinfall': 8927, 'taube': 8928, 'gurrt': 8929, 'trivial': 8930, 'ufer': 8931, 'unwahr': 8932, 'unsterblich': 8933, 'sprecher': 8934, 'bleicht': 8935, '4': 8936, 'nachmittags': 8937, 'tumor': 8938, 'gutartig': 8939, 'verdreckt': 8940, 'ausnahmen': 8941, 'gegengift': 8942, 'heißes': 8943, 'hauptmann': 8944, 'bekämpften': 8945, 'angebaut': 8946, 'lebten': 8947, 'ernannt': 8948, 'tägliche': 8949, 'pflege': 8950, 'blicken': 8951, 'zahlten': 8952, 'schienen': 8953, 'ubahn': 8954, 'treppauf': 8955, 'touristen': 8956, 'unschuldige': 8957, 'bedrohung': 8958, 'freudentränen': 8959, 'losgegangen': 8960, 'kläffer': 8961, 'zustimmung': 8962, 'kanarienvogel': 8963, 'spind': 8964, 'zauberstab': 8965, 'leihwagen': 8966, 'mietwagen': 8967, 'selbstgemachte': 8968, 'traumberuf': 8969, 'brechend': 8970, 'verzehr': 8971, 'beengt': 8972, 'sweatshirt': 8973, 'zeitplanung': 8974, '2': 8975, 'januar': 8976, 'gnade': 8977, 'rühmte': 8978, 'bilanzen': 8979, 'gefälscht': 8980, 'hingekriegt': 8981, 'gepfuscht': 8982, 'schlampig': 8983, 'schludrige': 8984, 'durchgehalten': 8985, 'liefert': 8986, 'schlampige': 8987, 'beklagt': 8988, 'spatz': 8989, 'vögelchen': 8990, 'ertrug': 8991, 'benebelt': 8992, 'hergeschafft': 8993, 'einsen': 8994, '9\\xa0uhr': 8995, '17\\xa0uhr': 8996, 'bierbauch': 8997, 'gebrochenen': 8998, 'platzt': 8999, 'hutschnur': 9000, 'seidenschal': 9001, 'steifen': 9002, 'wutprobleme': 9003, 'ruhiggestellt': 9004, 'talente': 9005, 'autorität': 9006, 'vetter': 9007, 'bodybuilder': 9008, 'vielbeschäftigte': 9009, 'verbreiteter': 9010, 'berühmter': 9011, 'farmarbeiter': 9012, 'feuerwehrmann': 9013, 'pingeliger': 9014, 'glasbläser': 9015, 'frauentyp': 9016, 'millionär': 9017, 'neurologe': 9018, 'nervenarzt': 9019, 'parkwächter': 9020, 'dürres': 9021, 'gemächlicher': 9022, 'fußgänger': 9023, 'synchronsprecher': 9024, 'buchhalter': 9025, 'kunstkritiker': 9026, 'kunsthändler': 9027, 'aufrichtiger': 9028, 'unsportlich': 9029, 'hirnschaden': 9030, 'hackt': 9031, 'rauschgift': 9032, 'brät': 9033, 'kartenspielen': 9034, 'grillt': 9035, 'schlank': 9036, 'engstirnig': 9037, 'bußgeld': 9038, 'schizophren': 9039, 'schimpft': 9040, 'egozentriker': 9041, 'versendet': 9042, 'faxt': 9043, 'erkrankt': 9044, 'stärkste': 9045, 'gleichgewicht': 9046, 'gebricht': 9047, 'antrieb': 9048, 'wortspiele': 9049, 'haust': 9050, 'belud': 9051, 'versteinert': 9052, 'gehörsinn': 9053, 'schauspiel': 9054, 'mauszeiger': 9055, 'situiert': 9056, 'pink': 9057, 'übermannte': 9058, 'überwältigte': 9059, 'kassierer': 9060, 'löschte': 9061, 'empfahl': 9062, 'lockerte': 9063, 'sträubte': 9064, 'spulte': 9065, 'spülte': 9066, 'schnellsten': 9067, 'couch': 9068, 'kanapee': 9069, 'tam': 9070, 'chaiselongue': 9071, 'erzielte': 9072, 'punkte': 9073, 'dreimal': 9074, 'nippte': 9075, 'friedlich': 9076, 'verschüttete': 9077, 'zertrat': 9078, 'insekt': 9079, 'kichern': 9080, 'trommeln': 9081, 'trägheit': 9082, 'ellenbogen': 9083, 'zahnstocher': 9084, 'bang': 9085, 'nervosität': 9086, 'auspacken': 9087, 'holzfäller': 9088, 'leibe': 9089, 'geisel': 9090, 'hauslehrer': 9091, 'kabine': 9092, 'führerhaus': 9093, 'kajüte': 9094, 'hütte': 9095, 'selbstmordkandidat': 9096, 'skrupellos': 9097, 'safari': 9098, 'klapperte': 9099, 'nikolausmütze': 9100, 'strohhut': 9101, 'zusammengearbeitet': 9102, 'zurückschlagen': 9103, 'karriere': 9104, 'trockenen': 9105, 'instinkten': 9106, 'intuition': 9107, 'sauce': 9108, 'arbeitslosigkeit': 9109, 'strenge': 9110, 'anstellen': 9111, 'spiegelt': 9112, 'wider': 9113, 'geschnitzt': 9114, 'klären': 9115, 'davonlaufen': 9116, 'paddelten': 9117, 'zuschulden': 9118, 'bürgermeisterin': 9119, 'vollendeten': 9120, 'flugzeuge': 9121, 'zeitnehmer': 9122, 'brauchten': 9123, 'losfuhr': 9124, 'apfelsinensaft': 9125, 'orangensaft': 9126, 'fabrik': 9127, 'intim': 9128, 'nähern': 9129, 'dritter': 9130, 'terroristen': 9131, 'säen': 9132, 'samen': 9133, 'eigentümer': 9134, 'unterschiedlich': 9135, 'würdevoller': 9136, 'selbstsüchtige': 9137, 'egoistische': 9138, 'gattin': 9139, 'zeichnest': 9140, 'wünschst': 9141, 'bell': 9142, 'galileo': 9143, 'zugestoßen': 9144, 'widerfahren': 9145, 'denkfabrik': 9146, 'weiterzumachen': 9147, 'motiv': 9148, 'bereitest': 9149, 'dekorierst': 9150, 'beobachtest': 9151, 'tumult': 9152, 'vorgefallen': 9153, 'aufgetragen': 9154, 'messgeräte': 9155, 'parkuhren': 9156, 'botschaftsgebäude': 9157, 'briefkasten': 9158, 'aktentasche': 9159, 'apotheke': 9160, 'gepflanzt': 9161, 'wes': 9162, 'schlaft': 9163, 'herzurichten': 9164, 'funkeln': 9165, 'antwortest': 9166, 'brüllst': 9167, 'änderm': 9168, 'beeindruckst': 9169, 'imponierst': 9170, 'einbildungskraft': 9171, 'stimmts': 9172, 'überschätzt': 9173, 'weichst': 9174, 'weichen': 9175, 'parkst': 9176, 'zitterst': 9177, 'hasenfuß': 9178, '’n': 9179, 'knall': 9180, 'forderst': 9181, 'fordert': 9182, 'sündenbock': 9183, 'einfallslos': 9184, 'phantasielos': 9185, 'gebessert': 9186, '„wer': 9187, 'das“\\xa0—': 9188, '„ich': 9189, 'das“': 9190, 'delfin': 9191, 'säugetier': 9192, 'dächern': 9193, 'dingen': 9194, 'unfälle': 9195, 'gesamtes': 9196, 'bilde': 9197, 'verläuft': 9198, 'ermüdest': 9199, 'tierkinder': 9200, 'barcelona': 9201, 'hinuntergehst': 9202, 'scharfe': 9203, 'milchflaschen': 9204, 'behauptungen': 9205, 'brad': 9206, 'pitt': 9207, 'geschäfte': 9208, 'abschreiben': 9209, 'anbieten': 9210, 'vorspielen': 9211, 'ausmachen': 9212, 'rangehen': 9213, 'geheimis': 9214, 'wandel': 9215, 'wandels': 9216, 'erwachsene': 9217, 'kompasse': 9218, 'norden': 9219, 'schlaue': 9220, 'haareschneider': 9221, 'haarschneider': 9222, 'salzen': 9223, 'umsteigen': 9224, 'lightt': 9225, 'konfektionsgröße': 9226, 'schweinelende': 9227, 'wurzelbier': 9228, 'batterien': 9229, 'albanisch': 9230, 'rasierwasser': 9231, 'bettle': 9232, 'hinausgehen': 9233, 'nickerchen': 9234, 'vergraben': 9235, 'knochen': 9236, 'mauerblümchen': 9237, 'kau': 9238, 'seifenblase': 9239, 'platzen': 9240, 'alkoholeinfluss': 9241, 'trau': 9242, 'halbem': 9243, 'halber': 9244, 'strecke': 9245, 'zögere': 9246, 'ursache': 9247, 'rüttle': 9248, 'plaudere': 9249, 'starre': 9250, 'kontinent': 9251, 'blindes': 9252, 'schätzt': 9253, 'unerwartete': 9254, 'schnallen': 9255, 'anschnallen': 9256, 'hold': 9257, 'pelzmäntel': 9258, 'sonderangebot': 9259, 'wohnzimmer': 9260, 'geschellt': 9261, 'adoptierte': 9262, 'rächte': 9263, 'scham': 9264, 'königin': 9265, 'mehrmals': 9266, 'möbeln': 9267, 'besiegte': 9268, 'vergoss': 9269, 'träne': 9270, 'arbeitsüberlastung': 9271, 'überanstrengung': 9272, 'ausgerenkt': 9273, 'abschleppwagen': 9274, 'heruntergefallen': 9275, 'üble': 9276, 'angehängt': 9277, 'hohes': 9278, 'starkes': 9279, 'medikamentenallergie': 9280, 'vernunftsmann': 9281, 'selfmademan': 9282, 'scharfschütze': 9283, 'erhaben': 9284, 'fidel': 9285, 'heiter': 9286, 'allzeit': 9287, 'armeeoffizier': 9288, 'eh': 9289, 'diebstahls': 9290, 'intimfreund': 9291, 'gewöhnlicher': 9292, 'angeber': 9293, 'sieges': 9294, 'unverwandt': 9295, 'italienisches': 9296, 'öffentlichen': 9297, 'versorgungsnetzen': 9298, 'zuzustimmen': 9299, 'lustige': 9300, 'erwürgen': 9301, 'zugedrückt': 9302, 'ipad': 9303, 'mini': 9304, 'rugbyspieler': 9305, 'begierig': 9306, 'exkommuniziert': 9307, 'geräuschvoll': 9308, 'stierte': 9309, 'bronzemedaille': 9310, 'silbermedaille': 9311, 'wettlauf': 9312, 'einzelgängerisch': 9313, 'meereskundler': 9314, 'meeresforscher': 9315, 'ozeanograph': 9316, 'geschäftsreise': 9317, 'durchgeknallt': 9318, 'veralbert': 9319, 'zahnfleisch': 9320, 'verdächtiger': 9321, 'heizen': 9322, 'bediene': 9323, 'räder': 9324, 'wittern': 9325, 'schnitte': 9326, 'schnittwunden': 9327, 'biwasee': 9328, 'entgangen': 9329, 'stadtmitte': 9330, 'prüfst': 9331, 'gegenwärtig': 9332, 'mathetest': 9333, 'mathearbeit': 9334, 'matheprüfung': 9335, 'matheklausur': 9336, 'bürojob': 9337, 'zwinkere': 9338, 'speiübel': 9339, 'heize': 9340, 'klassenzimmer': 9341, 'bügele': 9342, 'bahnhofs': 9343, 'erwartete': 9344, 'glasvase': 9345, 'gebrauchten': 9346, 'zaubertricks': 9347, 'bezeugen': 9348, 'fällte': 9349, 'durchquerte': 9350, 'illegales': 9351, 'rechtswidriges': 9352, 'rechnete': 9353, 'erteilt': 9354, 'oboe': 9355, 'cabrio': 9356, 'verlängerte': 9357, 'neugeboren': 9358, 'amöbe': 9359, 'erdbeben': 9360, 'verbiete': 9361, 'vorgefunden': 9362, 'geschichtsunterricht': 9363, 'tropfenden': 9364, 'studentenvisum': 9365, 'touristenvisum': 9366, 'gewisse': 9367, 'ausweichplan': 9368, 'fönen': 9369, 'einlegen': 9370, 'läuten': 9371, 'gutgeht': 9372, 'eule': 9373, 'opossum': 9374, 'wűrdest': 9375, 'aussieht': 9376, 'wurscht': 9377, 'japanerinnen': 9378, 'koreanische': 9379, 'herangehensweise': 9380, 'titellied': 9381, 'färbe': 9382, 'offenheit': 9383, 'freimut': 9384, 'find’s': 9385, 'anzusehen': 9386, 'anrufe': 9387, 'häppchen': 9388, 'eilen': 9389, 'kleiderschrank': 9390, 'sonnenöl': 9391, 'sonnencreme': 9392, 'biologie': 9393, 'rohrzucker': 9394, 'halbtags': 9395, 'hunderttausend': 9396, 'öcken': 9397, 'vollgestopft': 9398, 'verschob': 9399, 'kenntest': 9400, 'gutgehe': 9401, 'gedreht': 9402, 'vorstellungskraft': 9403, 'mango': 9404, 'bereisen': 9405, 'gesundes': 9406, 'angeklagt': 9407, 'kontaktlinsen': 9408, 'irrtest': 9409, 'fortging': 9410, 'mcdonalds': 9411, 'riete': 9412, 'verwetten': 9413, 'nachkontrollieren': 9414, 'gläser': 9415, 'golfanhänger': 9416, 'golfliebhaber': 9417, 'golfsportbegeisterter': 9418, 'college': 9419, 'landjunge': 9420, 'höhenangst': 9421, 'akrophobie': 9422, 'restaurant': 9423, 'beeinflussbar': 9424, 'keineswegs': 9425, 'hinsehen': 9426, 'geldsack': 9427, 'hierauf': 9428, 'schlaftrunken': 9429, 'festes': 9430, 'videospiel': 9431, 'spitäler': 9432, 'arbeitssuche': 9433, 'entsetzlicher': 9434, 'schachspieler': 9435, 'inzwischen': 9436, 'einkaufszentrum': 9437, 'fudschi': 9438, 'hab’': 9439, 'heimgekehrt': 9440, 'entdeckung': 9441, 'okayama': 9442, 'direktflug': 9443, 'actionfilm': 9444, 'geläufiger': 9445, 'weitverbreiteter': 9446, 'parfüm': 9447, 'irgendein': 9448, 'biologisch': 9449, 'abbaubar': 9450, 'material': 9451, 'kopfschmerz': 9452, 'frustrierend': 9453, 'natürliche': 9454, 'bestätigt': 9455, 'unanständig': 9456, 'geringen': 9457, 'geringem': 9458, 'erweisen': 9459, 'stinkt’s': 9460, 'liebhaberei': 9461, 'tango': 9462, 'samstagabend': 9463, 'anstrengung': 9464, 'magischer': 9465, 'furchtbarer': 9466, 'klärt': 9467, 'vorkommen': 9468, 'zweites': 9469, 'claudine': 9470, 'investition': 9471, 'notwendiges': 9472, 'fesselnde': 9473, 'rutschiger': 9474, 'abhang': 9475, 'klarer': 9476, 'geldverschwendung': 9477, 'schwieriges': 9478, 'beschreiben': 9479, 'komplex': 9480, 'formalität': 9481, 'lieblingsessen': 9482, 'ungleicher': 9483, 'leiste': 9484, 'holzauge': 9485, 'hereinkommst': 9486, 'sätze': 9487, 'schlafende': 9488, 'erbauen': 9489, 'austeigen': 9490, 'unvorhersehbar': 9491, 'stamm': 9492, 'sungen': 9493, 'zwitschern': 9494, 'holzfällen': 9495, 'markieren': 9496, 'model': 9497, 'exfrau': 9498, 'hulatänzerin': 9499, 'hula': 9500, 'onkologin': 9501, 'stiefmutter': 9502, 'stiefschwester': 9503, 'spärlich': 9504, 'wolle': 9505, 'rüberkommen': 9506, 'april': 9507, 'andermal': 9508, 'getrogen': 9509, '„itschi“': 9510, 'vibriert': 9511, 'darunter': 9512, 'abgetragen': 9513, 'einkaufstasche': 9514, 'faulenzt': 9515, 'unterhose': 9516, 'nachgehen': 9517, 'bestärkte': 9518, 'leugnet': 9519, 'ermutigt': 9520, 'experten': 9521, 'währt': 9522, 'kernenergie': 9523, 'phase': 9524, 'herüber': 9525, 'tötet': 9526, 'urteilt': 9527, 'urteilen': 9528, 'bügle': 9529, 'zündet': 9530, 'zähler': 9531, 'legs': 9532, 'vermehren': 9533, 'rollschuhlaufen': 9534, 'katalog': 9535, 'theaterstück': 9536, 'totgeschlagen': 9537, '1996': 9538, 'lispelt': 9539, 'schmale': 9540, 'taille': 9541, 'schwimmerin': 9542, 'kyūshū': 9543, 'näht': 9544, 'mashūsee': 9545, 'pop': 9546, 'basketball': 9547, 'ausgeschlagen': 9548, 'gejätet': 9549, 'hundertzwanzig': 9550, 'hübschen': 9551, 'wackelte': 9552, 'dickköpfiges': 9553, 'ältere': 9554, 'unmündig': 9555, 'einfachheit': 9556, 'trumpf': 9557, 'lehn': 9558, 'hautpflege': 9559, 'manchen': 9560, 'verspäteten': 9561, 'vergiftete': 9562, 'zuweilen': 9563, 'verirren': 9564, 'schlechtzumachen': 9565, 'quälgeist': 9566, 'vorwürfe': 9567, 'anzubaggern': 9568, 'anzumachen': 9569, 'kaulquappen': 9570, 'traten': 9571, 'benötigst': 9572, 'gespenstergeschichte': 9573, 'umgekommen': 9574, 'update': 9575, 'bandit': 9576, 'halunke': 9577, 'direkter': 9578, 'unerhebliches': 9579, 'hauptsache': 9580, 'verständlich': 9581, 'vollkommener': 9582, 'ebendahin': 9583, 'jacksons': 9584, 'antilope': 9585, 'buchhandlung': 9586, 'fauchte': 9587, 'frieren': 9588, 'entzückt': 9589, 'gefäß': 9590, 'knarrend': 9591, 'brummt': 9592, 'misserfolg': 9593, 'scheiterte': 9594, 'dateien': 9595, 'lichten': 9596, 'weinten': 9597, 'muskel': 9598, 'brand': 9599, 'menschenleer': 9600, 'zustand': 9601, 'patienten': 9602, 'meinerseits': 9603, 'spann': 9604, 'leuchten': 9605, 'station': 9606, 'unterhaltsam': 9607, 'taifun': 9608, '1945': 9609, 'neunzehnhundertvierundfünfzig': 9610, 'lauwarm': 9611, 'überholte': 9612, 'dritt': 9613, 'fettfleck': 9614, 'kostenloses': 9615, 'kauften': 9616, 'schweden': 9617, 'tauschten': 9618, 'veranlassten': 9619, 'verpassten': 9620, 'zurückgeblieben': 9621, 'verachteten': 9622, 'teilten': 9623, 'untereinander': 9624, 'unterhielten': 9625, 'stundenlang': 9626, 'wahrheitsserum': 9627, 'vortäuschungen': 9628, 'fähige': 9629, 'matheunterricht': 9630, 'kriminellen': 9631, 'spielkarten': 9632, 'hinausschauen': 9633, 'riesig': 9634, 'alarmanlage': 9635, 'currygericht': 9636, 'fächer': 9637, 'geschäftsauto': 9638, 'firmenwagen': 9639, 'muster': 9640, 'holzkamm': 9641, 'heldenroman': 9642, 'birne': 9643, 'vips': 9644, 'wichtige': 9645, 'persönlichkeiten': 9646, 'vermieten': 9647, 'anordnungen': 9648, 'schmeißt': 9649, 'elfte': 9650, 'kleinkind': 9651, 'minister': 9652, 'zäumte': 9653, 'baute': 9654, 'durchgesehen': 9655, 'verstrickt': 9656, 'scheunendrescher': 9657, 'flirtete': 9658, 'geschenkt': 9659, 'mädchenhaft': 9660, 'ungeschoren': 9661, 'schätzte': 9662, 'hirntumor': 9663, 'blendende': 9664, 'privatjet': 9665, 'privatflugzeug': 9666, 'reiskocher': 9667, 'stichfestes': 9668, 'verwiesen': 9669, 'ausgehalten': 9670, 'reflexe': 9671, 'prinzipien': 9672, 'felsen': 9673, 'büschen': 9674, 'gebüsch': 9675, 'verkroch': 9676, 'stiefsohn': 9677, 'verlogener': 9678, 'autoverkäufer': 9679, 'konservativer': 9680, 'wunderheiler': 9681, 'drummer': 9682, 'chirurg': 9683, 'hausmann': 9684, 'freundlicher': 9685, 'kleptomane': 9686, 'mächtiger': 9687, 'psychiater': 9688, 'psychologe': 9689, 'medizinmann': 9690, 'schamane': 9691, 'verhält': 9692, 'unterhalter': 9693, 'gräbt': 9694, 'spendet': 9695, 'schi': 9696, 'gesundheitszustand': 9697, 'gesundheitlich': 9698, 'bügelt': 9699, 'waffel': 9700, 'dienstfrei': 9701, 'lotse': 9702, 'ältester': 9703, 'höchstens': 9704, 'distanz': 9705, 'flexibilität': 9706, 'laufenlassen': 9707, 'angelassen': 9708, 'indisches': 9709, 'tschaikowski': 9710, 'mohrrüben': 9711, 'betrachtete': 9712, '30\\xa0kg': 9713, 'kilogramm': 9714, 'superdoll': 9715, 'dämpfte': 9716, 'pilgerfahrt': 9717, 'strengte': 9718, 'russische': 9719, 'lebenslauf': 9720, 'aufgebauscht': 9721, 'pulle': 9722, 'loszulassen': 9723, 'schrubbte': 9724, 'intelligenten': 9725, 'papiere': 9726, 'bewundernd': 9727, 'gespart': 9728, 'erschlug': 9729, 'unterweist': 9730, 'waschlappen': 9731, 'schluck': 9732, 'kümmerte': 9733, 'übernahm': 9734, 'erpresser': 9735, 'liebeskummer': 9736, 'getragen': 9737, 'aufgepasst': 9738, 'donner': 9739, 'entenjagd': 9740, 'gedulden': 9741, 'triathlon': 9742, 'seidenhemd': 9743, 'indische': 9744, 'ghanaische': 9745, 'feuchte': 9746, 'stühle': 9747, '1939': 9748, '1941': 9749, 'kalorien': 9750, 'stören': 9751, 'fußballer': 9752, 'flinte': 9753, 'veränderten': 9754, 'änderten': 9755, 'bezwangen': 9756, 'verlustes': 9757, 'aßen': 9758, 'beschwerden': 9759, 'übriggelassen': 9760, 'großstadt': 9761, 'sandburg': 9762, 'sommerlager': 9763, 'mimi': 9764, 'posierten': 9765, 'ruhten': 9766, 'verbracht': 9767, 'abheben': 9768, 'ausblick': 9769, 'scheußliche': 9770, 'großzügiges': 9771, 'glücksfall': 9772, 'wasserverschwendung': 9773, 'symptome': 9774, 'unterstellen': 9775, 'hobbys': 9776, 'bezeichnest': 9777, 'bezieht': 9778, 'außerdem': 9779, 'nützte': 9780, 'dahinterkommt': 9781, 'gings': 9782, 'kisten': 9783, 'wichtiger': 9784, 'vollständiger': 9785, 'nachnamen': 9786, 'fähre': 9787, 'lift': 9788, 'mikrofon': 9789, 'telefonbuch': 9790, 'radium': 9791, 'dynamit': 9792, 'taufpatin': 9793, 'ausbildung': 9794, 'zurückgewichen': 9795, 'zurückgezogen': 9796, 'aufziehen': 9797, 'aufklaren': 9798, 'begleitest': 9799, 'weisheit': 9800, 'begründen': 9801, 'gemeine': 9802, 'eingeloggt': 9803, 'willensstark': 9804, '500': 9805, 'anschreien': 9806, 'ängstigt': 9807, 'runtergefallen': 9808, 'armseliger': 9809, 'freak': 9810, 'erfüllen': 9811, 'säet': 9812, 'erntet': 9813, 'saat': 9814, 'enttäuschst': 9815, 'schämen': 9816, 'landen': 9817, 'naive': 9818, 'naivling': 9819, 'vergisst': 9820, 'umgehend': 9821, 'unbesiegbar': 9822, 'schmunzelst': 9823, 'vielseitig': 9824, 'haarschnitt': 9825, 'methode': 9826, 'wildtiere': 9827, 'brise': 9828, 'saugt': 9829, 'gezähmt': 9830, 'ausgebucht': 9831, 'ebenhier': 9832, 'schlauen': 9833, 'lautsprecher': 9834, 'verjagen': 9835, 'babys': 9836, 'dachse': 9837, 'löcher': 9838, 'aussuchen': 9839, 'zumachen': 9840, 'omelett': 9841, 'buchhaltung': 9842, 'nächstenliebe': 9843, 'kostspielig': 9844, 'probier’s': 9845, 'gekonnt': 9846, 'verplappern': 9847, 'klicken': 9848, 'kanntet': 9849, 'wolltet': 9850, 'gleichzeitig': 9851, 'spenden': 9852, 'wohltätige': 9853, 'zwecke': 9854, 'schuhanzieher': 9855, 'schuhlöffel': 9856, 'weißwein': 9857, 'treibst': 9858, 'irgendwelchen': 9859, 'betreibst': 9860, 'sportarten': 9861, 'aufhöre': 9862, 'tätowiert': 9863, 'treue': 9864, 'quietschespielzeug': 9865, 'spielverderber': 9866, 'änder': 9867, 'jage': 9868, 'übereilt': 9869, 'begib': 9870, 'begebt': 9871, 'begeben': 9872, 'herannahen': 9873, 'anzünden': 9874, 'renne': 9875, 'versenden': 9876, 'verhätschel': 9877, 'nichts\\xa0–': 9878, 'absorbiert': 9879, 'osterfest': 9880, 'bildung': 9881, 'elfen': 9882, 'ermutige': 9883, 'puppen': 9884, 'marionetten': 9885, 'position': 9886, 'posten': 9887, 'erhältlich': 9888, '123': 9889, 'weltberühmt': 9890, 'bettelte': 9891, 'blies': 9892, 'croûtons': 9893, 'anbrennen': 9894, 'schallendes': 9895, 'hangzhou': 9896, 'äußern': 9897, 'abzugeben': 9898, 'zeitungen': 9899, 'undenkbare': 9900, 'lohn': 9901, 'angewurzelt': 9902, 'amputiert': 9903, 'dunkelbraune': 9904, 'strahlende': 9905, 'fastball': 9906, 'goldenes': 9907, 'sauklaue': 9908, 'testament': 9909, 'großbritannien': 9910, 'britain': 9911, 'bestimmtes': 9912, 'violinist': 9913, 'staub': 9914, 'aktiver': 9915, 'büroangestellter': 9916, 'taugenichts': 9917, 'holzkopf': 9918, 'hektisches': 9919, 'schlichtes': 9920, 'herab': 9921, 'playboy': 9922, 'zurückgezahlt': 9923, 'hellhörig': 9924, 'erwiesen': 9925, 'fristlos': 9926, 'spart': 9927, 'tönen': 9928, 'abseits': 9929, 'purzelbaum': 9930, 'trunkenbold': 9931, 'säufer': 9932, 'wunderbarer': 9933, 'streichelte': 9934, 'haaresbreite': 9935, 'ballkönig': 9936, 'brillengläser': 9937, 'dritten': 9938, 'besessener': 9939, 'ergebener': 9940, 'wortes': 9941, 'gesangslehrer': 9942, 'talentierter': 9943, 'schreibtalent': 9944, 'pfiffiger': 9945, 'willensschwacher': 9946, 'rauschgiftsüchtig': 9947, 'drogensüchtig': 9948, 'asiatischer': 9949, 'abstammung': 9950, 'sowohl': 9951, 'grillen': 9952, 'dichten': 9953, 'auszuspionieren': 9954, 'bespitzeln': 9955, 'stützt': 9956, 'arbeitsuchend': 9957, 'zusammenspiels': 9958, 'würdig': 9959, 'schwager': 9960, 'schindet': 9961, 'schnieke': 9962, 'verworfen': 9963, 'wiederholt': 9964, 'einfluss': 9965, 'motorhaube': 9966, 'jagdsaison': 9967, 'gespenst': 9968, 'trauriger': 9969, 'putze': 9970, 'bekanntschaft': 9971, 'räume': 9972, 'billige': 9973, 'anzuschließen': 9974, 'rendezvous': 9975, 'montiere': 9976, 'versehentlich': 9977, 'gewaltiges': 9978, 'beerdigung': 9979, 'schongarer': 9980, 'hintereingang': 9981, 'gitarrenspiel': 9982, 'weiterzugehen': 9983, 'abstände': 9984, 'alleinlassen': 9985, 'abwenden': 9986, 'behälter': 9987, 'frisur': 9988, 'zugelegt': 9989, 'zerstörte': 9990, 'unrechtmäßiges': 9991, 'gewußt': 9992, 'traute': 9993, 'pfennig': 9994, 'mark': 9995, 'heller': 9996, 'überraschungen': 9997, 'erinnerung': 9998, 'kunstverständnis': 9999, 'beben': 10000, 'freigegeben': 10001, 'sooft': 10002, '„eins“': 10003, '„sehr': 10004, 'gut“': 10005, 'anonymen': 10006, '40': 10007, 'spezielles': 10008, 'asthmaanfall': 10009, 'streichen': 10010, 'strippe': 10011, 'komisches': 10012, 'appetit': 10013, 'teilzeitstelle': 10014, 'großartigen': 10015, '5000': 10016, 'verbergen': 10017, 'anzuziehen': 10018, 'forderung': 10019, 'zumindest': 10020, 'bürsten': 10021, 'kämmen': 10022, 'hacken': 10023, 'ausgepackt': 10024, 'hilfeschrei': 10025, 'wiederkämest': 10026, 'wiederkämet': 10027, 'wiederkämen': 10028, 'kämest': 10029, 'kämet': 10030, 'kürzeren': 10031, 'anhört': 10032, 'wagens': 10033, 'obama': 10034, 'klassische': 10035, 'dunkelrot': 10036, 'kaue': 10037, 'tabak': 10038, 'ländlichen': 10039, 'gebiet': 10040, 'weihnachtslieder': 10041, 'bärten': 10042, 'leidenschaft': 10043, 'tapiokapudding': 10044, 'jakitori': 10045, 'überreagiert': 10046, 'mathias': 10047, 'amerikanisches': 10048, 'usbkabel': 10049, 'farbstifte': 10050, 'vorbereiten': 10051, 'skier': 10052, 'selters': 10053, 'alleinarbeit': 10054, 'weiterzusagen': 10055, 'erwies': 10056, 'romane': 10057, 'inge': 10058, 'zuzwinkerte': 10059, 'erblickte': 10060, 'entferntes': 10061, 'bezweifle': 10062, 'liebest': 10063, 'kamillentee': 10064, 'direkte': 10065, 'vergnügt': 10066, 'vergnügst': 10067, 'kennenlernst': 10068, 'ansiehst': 10069, 'anseht': 10070, 'lehrling': 10071, 'imstande': 10072, 'abzulehnen': 10073, 'gefreut': 10074, 'angefressen': 10075, 'fürchterliche': 10076, 'bergen': 10077, 'phantasiert': 10078, 'sichergehen': 10079, 'necken': 10080, 'gescholten': 10081, 'zurfrieden': 10082, 'befand': 10083, 'unmittelbar': 10084, 'vergangenen': 10085, 'jener': 10086, 'überrumpelt': 10087, 'wärme': 10088, 'ferngesehen': 10089, 'sowieso': 10090, 'netzauftritt': 10091, 'ganzem': 10092, 'rückhaltlos': 10093, 'vorsichtiger': 10094, 'erpressen': 10095, 'einschüchtern': 10096, 'entrinnen': 10097, 'bloody': 10098, 'doppelzimmer': 10099, 'schlüge': 10100, 'vorschlagen': 10101, 'fungieren': 10102, 'hinterkopf': 10103, 'wechsele': 10104, 'laken': 10105, 'sehstärke': 10106, 'falls': 10107, 'entschädigen': 10108, 'ausdenken': 10109, 'kochkunst': 10110, 'japanischstudent': 10111, 'japanischlehrer': 10112, 'japanischlehrerin': 10113, 'japanische': 10114, 'gestatte': 10115, 'bewerbe': 10116, 'körpers': 10117, 'zurzeit': 10118, 'seinetwegen': 10119, 'sehnsucht': 10120, 'faszinieren': 10121, 'sprudele': 10122, 'ständiger': 10123, 'ausgesetzt': 10124, 'tennisclub': 10125, 'bestreite': 10126, 'verblödet': 10127, 'antibiotika': 10128, 'jüngste': 10129, 'spüle': 10130, 'nachgeguckt': 10131, 'getraut': 10132, 'komma': 10133, 'ausgelatscht': 10134, 'nützliches': 10135, 'bietet': 10136, 'gebote': 10137, 'wohlauf': 10138, 'pkw': 10139, 'vorspeise': 10140, 'kanadisches': 10141, 'trinkwasser': 10142, 'sekundenschnelle': 10143, 'vorher': 10144, 'moralische': 10145, 'gleichgültig': 10146, 'jerusalem': 10147, 'gemachte': 10148, 'katz': 10149, 'vergebens': 10150, 'vergeblich': 10151, 'anfängerglück': 10152, 'grauenhaft': 10153, 'wahres': 10154, 'chinesische': 10155, 'errungenschaft': 10156, 'familienerbstück': 10157, 'persönliche': 10158, 'ermüdende': 10159, 'beunruhigende': 10160, 'besorgnis': 10161, 'erregende': 10162, 'besorgniserregende': 10163, 'straßenseite': 10164, 'moralisch': 10165, 'vereinbaren': 10166, 'verstößt': 10167, 'regelwidrig': 10168, 'machtmissbrauch': 10169, 'klischee': 10170, 'einstürzen': 10171, 'zusammenbrechen': 10172, 'kirre': 10173, 'höchste': 10174, 'qual': 10175, 'hochzeitstag': 10176, 'heimkommst': 10177, 'heimkommt': 10178, 'unverrückbar': 10179, 'furchterregend': 10180, 'wahrhaftig': 10181, 'karin': 10182, 'kendō': 10183, 'kampfkunst': 10184, 'ausgeben': 10185, 'kriegsbeil': 10186, 'themenwechsel': 10187, 'anständig': 10188, 'akkurat': 10189, 'schnappen': 10190, 'bewenden': 10191, 'kommenden': 10192, 'abstimmung': 10193, 'schleunigst': 10194, 'teepause': 10195, 'tafel': 10196, 'schein': 10197, 'trügt': 10198, 'landmädchen': 10199, 'ölte': 10200, 'ehemännchen': 10201, 'mopsig': 10202, 'beantragen': 10203, 'ausziehen': 10204, 'davonbegeben': 10205, 'fremde': 10206, 'kram': 10207, 'vorgekommen': 10208, 'fernsehgerät': 10209, 'quittiert': 10210, 'herrscht': 10211, 'pc': 10212, 'zahnspange': 10213, 'bestreiten': 10214, 'unersetzlich': 10215, 'gebranntes': 10216, 'meinungen': 10217, 'stubenrein': 10218, 'abgebrannt': 10219, 'reiche': 10220, 'zuviel': 10221, 'belüge': 10222, 'buzzer': 10223, 'rapide': 10224, 'regenzeit': 10225, '330\\xa0uhr': 10226, 'mitte': 10227, 'mittendurch': 10228, 'halbieren': 10229, 'mageres': 10230, 'erkältete': 10231, 'massierte': 10232, 'ermüdet': 10233, 'vollkommenen': 10234, 'weiches': 10235, 'berühmte': 10236, 'begabte': 10237, 'wohlhabende': 10238, 'strickte': 10239, 'gesunder': 10240, 'hausverstand': 10241, 'röcke': 10242, 'neunzig': 10243, 'gepflückt': 10244, 'unvermittelt': 10245, 'drittes': 10246, 'gekleidet': 10247, 'mächtige': 10248, 'individualistin': 10249, 'zähnen': 10250, 'oberstufe': 10251, 'seidenraupen': 10252, 'kokons': 10253, 'bespitzelt': 10254, 'gelegentlich': 10255, 'spucken': 10256, 'verteile': 10257, 'gleichmäßig': 10258, 'kauen': 10259, 'vorzumachen': 10260, 'nachzudenken': 10261, 'verdrehen': 10262, 'visiere': 10263, 'schnapp': 10264, 'minus': 10265, 'gleichfalls': 10266, 'ledergürtel': 10267, 'konkrete': 10268, 'riesengroß': 10269, 'schmutziger': 10270, 'gebraten': 10271, 'zusätzlich': 10272, 'widerspruch': 10273, 'reaktion': 10274, 'banaler': 10275, 'höchst': 10276, 'übertreibung': 10277, 'ziemliches': 10278, 'beruhigend': 10279, 'umsichtig': 10280, 'hingehe': 10281, 'publikum': 10282, 'hintertür': 10283, 'scheunentor': 10284, 'funktionierten': 10285, 'versagten': 10286, 'ruinierte': 10287, 'anklage': 10288, 'ebene': 10289, 'kurs': 10290, 'aufstieg': 10291, 'verblasst': 10292, 'wolken': 10293, 'verdeckten': 10294, 'schreckte': 10295, 'sperrangelweit': 10296, 'pult': 10297, 'vorlesung': 10298, 'sumpf': 10299, 'schnurrbärte': 10300, 'nation': 10301, 'ohrenbetäubend': 10302, 'schimmelig': 10303, 'enthalten': 10304, 'inklusive': 10305, 'drucker': 10306, 'bewahrheitete': 10307, 'beleuchtet': 10308, 'blüte': 10309, 'schiffe': 10310, 'erreichten': 10311, 'hafen': 10312, 'schlager': 10313, 'statue': 10314, 'durchgebraten': 10315, 'maßgeschneidert': 10316, 'maßanfertigung': 10317, 'spezialanfertigung': 10318, 'geschwindigkeit': 10319, 'entgleiste': 10320, 'gröbsten': 10321, 'gewinn': 10322, 'entfallen': 10323, 'faktoren': 10324, 'umkehr': 10325, 'tödliches': 10326, 'totenstille': 10327, 'geschwindigkeitsbegrenzung': 10328, 'perlen': 10329, 'schere': 10330, 'krawatten': 10331, 'schlipse': 10332, 'himmeln': 10333, 'einigten': 10334, 'reizbar': 10335, 'plaudern': 10336, 'sonnenbad': 10337, 'aalten': 10338, 'beurteilen': 10339, 'scheiterten': 10340, 'begrüßten': 10341, 'versteckten': 10342, 'verbargen': 10343, 'kommune': 10344, 'gütergemeinschaft': 10345, 'griffen': 10346, 'ballon': 10347, 'aufsteigen': 10348, 'leib': 10349, 'abgezogen': 10350, 'hegten': 10351, 'entluden': 10352, 'löschten': 10353, 'protektion': 10354, 'ausverkauft': 10355, 'nachgeschmissen': 10356, 'inbetriebnahme': 10357, 'mundwerks': 10358, 'unwiderruflich': 10359, 'verschlüsselt': 10360, 'öffentlicher': 10361, 'holzhaus': 10362, 'verbesserung': 10363, 'ansteigende': 10364, 'bergauf': 10365, 'hohem': 10366, 'maße': 10367, 'effizienter': 10368, 'lauterer': 10369, 'schlägts': 10370, 'kostenlose': 10371, 'fehlerlos': 10372, 'muffig': 10373, 'ergötzt': 10374, 'gestank': 10375, 'widert': 10376, 'dünne': 10377, 'überfordert': 10378, 'russe': 10379, '1': 10380, 'september': 10381, 'augenbraue': 10382, 'käsemakkaroni': 10383, 'sicherte': 10384, 'geprügelt': 10385, 'jagte': 10386, 'braut': 10387, 'bezeichnete': 10388, 'abfahren': 10389, 'verträgt': 10390, 'fäuste': 10391, 'hervorragende': 10392, 'erben': 10393, 'anzüge': 10394, 'weggedöst': 10395, 'gelandet': 10396, 'muskeln': 10397, 'beweismittel': 10398, 'knuffte': 10399, 'verkehrsunfall': 10400, 'herzinfarkt': 10401, 'termin': 10402, 'herzprobleme': 10403, 'gereicht': 10404, 'taschenuhr': 10405, 'dietrich': 10406, 'hauptschlüssel': 10407, 'fußpilz': 10408, 'buschige': 10409, 'augenbrauen': 10410, 'cerebrale': 10411, 'kinderlähmung': 10412, 'littlesche': 10413, 'infantile': 10414, 'cerebralparese': 10415, 'schonmal': 10416, 'herzbeschwerden': 10417, 'anwältin': 10418, 'aufgebrochen': 10419, 'exfrauen': 10420, 'vernahm': 10421, 'zweig': 10422, 'vorgestellt': 10423, 'enkel': 10424, 'krieger': 10425, 'wunderkind': 10426, 'kontrollwahn': 10427, 'begabter': 10428, 'kämpfer': 10429, 'hypochonder': 10430, 'musterschüler': 10431, 'musiklehrer': 10432, 'plage': 10433, 'nervensäge': 10434, 'landplage': 10435, 'vomtellerwäscherzummillionärtyp': 10436, 'redekünstler': 10437, 'bequatschen': 10438, 'verwöhntes': 10439, 'miserabler': 10440, 'totalen': 10441, 'spitzentyp': 10442, 'leidenschaftlicher': 10443, 'passionierter': 10444, 'hochbegabt': 10445, 'überflieger': 10446, 'definitiv': 10447, 'erklettert': 10448, 'bekloppt': 10449, 'provoziert': 10450, 'fächert': 10451, 'befächert': 10452, 'heiratet': 10453, 'schwerhörig': 10454, 'schwebt': 10455, 'dreißigern': 10456, 'stemmt': 10457, 'melken': 10458, 'exfreund': 10459, 'zufriedener': 10460, 'künstlich': 10461, 'wortgewandt': 10462, 'faules': 10463, 'alkoholiker': 10464, 'unwillkommen': 10465, 'entschlusskraft': 10466, 'mexikanisch': 10467, 'hausschlüssel': 10468, 'auszeichnung': 10469, 'belügt': 10470, 'rohes': 10471, 'rohkost': 10472, 'paffte': 10473, 'pumpte': 10474, 'aufgepumpt': 10475, 'füllte': 10476, 'betankte': 10477, 'pyjama': 10478, 'davongerannt': 10479, 'drangekriegt': 10480, 'aufzugeben': 10481, 'ordner': 10482, 'ruhte': 10483, 'spuren': 10484, 'wäret': 10485, 'durchschaute': 10486, 'selfie': 10487, 'überflog': 10488, 'hängematte': 10489, 'schlitzte': 10490, 'aufgeschlitzt': 10491, 'schlange': 10492, 'vollgelabert': 10493, 'offenbart': 10494, 'anprobiert': 10495, 'erwartung': 10496, 'erwartungsvoll': 10497, 'ungeduld': 10498, 'musterinsasse': 10499, 'börsenmakler': 10500, 'störenfried': 10501, 'frühchen': 10502, 'schwarm': 10503, 'bemerkenswerter': 10504, 'schüchternheit': 10505, 'leibesvisitation': 10506, 'gefangengenommen': 10507, 'türsteher': 10508, 'rausschmeißer': 10509, 'sägewerk': 10510, 'systematisch': 10511, 'kreditkarten': 10512, 'handelten': 10513, 'bezüglich': 10514, 'punktes': 10515, 'schweben': 10516, 'größter': 10517, 'könnens': 10518, 'herumsitzen': 10519, 'könntes': 10520, 'stoß': 10521, 'verirrten': 10522, 'verliefen': 10523, 'verbrachten': 10524, 'reichlich': 10525, 'speditiv': 10526, 'schlamm': 10527, 'vorstadt': 10528, 'white': 10529, 'dolmetscher': 10530, 'spielten': 10531, 'schalteten': 10532, 'shampoo': 10533, 'schrieben': 10534, '15': 10535, 'facebookfreunde': 10536, 'unvorsichtig': 10537, 'selben': 10538, 'hängen': 10539, 'rum': 10540, 'hochzeitsreise': 10541, 'lernwillig': 10542, 'gewillt': 10543, 'berücksichtigt': 10544, 'supermarkt': 10545, 'reizendes': 10546, 'energieverschwendung': 10547, 'beweggründe': 10548, 'worüber': 10549, 'initialen': 10550, 'sinnesänderung': 10551, 'bewogen': 10552, 'uno': 10553, 'schiefgehen': 10554, 'wackelpeter': 10555, 'schicht': 10556, 'wonach': 10557, 'familienname': 10558, 'schieberei': 10559, 'philosophie': 10560, 'giraffen': 10561, 'hinstellen': 10562, 'apfelsaft': 10563, 'zahnpasta': 10564, 'glotzt': 10565, 'zeche': 10566, 'hindern': 10567, 'lieblingsschallplattenunterhalter': 10568, 'lieblingsaufleger': 10569, 'liedtext': 10570, 'laptop': 10571, 'streitest': 10572, 'flüsterst': 10573, 'flüstert': 10574, 'misstraust': 10575, 'startest': 10576, 'legst': 10577, 'heimfahren': 10578, 'beitreten': 10579, 'fördert': 10580, 'verdauung': 10581, 'eignen': 10582, 'bildest': 10583, 'hängenlassen': 10584, 'zähmen': 10585, 'mußtest': 10586, 'musstest': 10587, 'komische': 10588, 'photoapparat': 10589, 'pavian': 10590, 'früchte': 10591, 'angelegt': 10592, 'auslachen': 10593, 'befindest': 10594, 'spur': 10595, 'sammelwütig': 10596, 'scharfsichtig': 10597, 'standpunkt': 10598, 'tadellos': 10599, 'verschiedene': 10600, 'interjektion': 10601, '„sei': 10602, 'still“': 10603, 'flüsterte': 10604, 'schlachter': 10605, 'sechseck': 10606, 'quadrat': 10607, 'furchtbare': 10608, 'vanilleextrakt': 10609, 'hinzufügen': 10610, 'alkoholismus': 10611, 'unheilbar': 10612, 'schlugen': 10613, 'fehlgeschlagen': 10614, 'besatzung': 10615, 'belegt': 10616, 'tratscht': 10617, 'amputation': 10618, 'langeweile': 10619, 'tassen': 10620, 'beziehst': 10621, 'eingekauft': 10622, 'atome': 10623, 'österreich': 10624, 'verbündete': 10625, 'elefantenjungen': 10626, 'bakterien': 10627, 'geburtstage': 10628, 'unglück': 10629, 'schnalle': 10630, 'leihst': 10631, 'traktor': 10632, 'hierlassen': 10633, 'weinkarte': 10634, 'herfahren': 10635, 'instand': 10636, 'fünfhundert': 10637, 'anheben': 10638, 'hochheben': 10639, 'runtergehen': 10640, 'kratzen': 10641, 'entwirren': 10642, 'riesiges': 10643, 'korrigiert': 10644, 'korrigier': 10645, 'borgen': 10646, 'tests': 10647, 'benotet': 10648, 'verständigt': 10649, 'gesichter': 10650, 'visakarten': 10651, 'akzeptierst': 10652, 'fahrplan': 10653, 'tätowierungen': 10654, 'herrn': 10655, 'obstsalat': 10656, 'porträt': 10657, 'formelle': 10658, 'übersetzt': 10659, 'übersetzen': 10660, 'fruchtsaft': 10661, 'verlang': 10662, 'pessimistisch': 10663, 'bemühen': 10664, 'klettere': 10665, 'überqueren': 10666, 'missachte': 10667, 'voreiliges': 10668, 'vergesst': 10669, 'gesichtsausdruck': 10670, 'brüsken': 10671, 'bewegungen': 10672, 'streichhölzern': 10673, 'zündhölzern': 10674, 'weiher': 10675, 'verausgabe': 10676, 'wag': 10677, 'wagt': 10678, 'spürst': 10679, 'spürt': 10680, 'siebentausend': 10681, 'elefanten': 10682, 'aufgebrachten': 10683, 'käuflich': 10684, 'unterlaufen': 10685, 'boten': 10686, 'verhandelt': 10687, 'pumpe': 10688, 'bezinpreise': 10689, 'besorgen': 10690, 'inseln': 10691, 'klima': 10692, 'heruntergegangen': 10693, 'angenehmen': 10694, 'arbeitstag': 10695, 'ausgesucht': 10696, 'getrocknet': 10697, 'falken': 10698, 'greifvögel': 10699, 'akzeptierte': 10700, 'willigte': 10701, 'vermehrte': 10702, 'ersparnisse': 10703, 'skilaufen': 10704, 'einbruch': 10705, 'konzentrierte': 10706, 'zügelte': 10707, 'alkoholkonsum': 10708, 'beförderung': 10709, 'zugetan': 10710, 'zuge': 10711, 'kindergarten': 10712, 'verdiente': 10713, 'humor': 10714, 'hokkaido': 10715, 'hilferuf': 10716, 'feige': 10717, 'verlässlicher': 10718, 'medizinstudent': 10719, 'loyal': 10720, 'überhöflich': 10721, 'mühselige': 10722, 'beachtung': 10723, 'langte': 10724, 'bettlektüre': 10725, 'hotels': 10726, 'wahren': 10727, 'platt': 10728, 'ferngehalten': 10729, 'arroganz': 10730, 'ausgenutzt': 10731, 'entkleidete': 10732, 'dienstreise': 10733, 'zwirbelte': 10734, 'schmeicheln': 10735, 'hagerer': 10736, 'liedchen': 10737, 'mords': 10738, 'sinoamerikaner': 10739, 'herkunft': 10740, 'betrüger': 10741, 'gemeindeleiter': 10742, 'vertrauenswürdiger': 10743, 'linguist': 10744, 'reinigt': 10745, 'jedermanns': 10746, 'schöpft': 10747, 'rechnen': 10748, 'jüngerer': 10749, 'tanzfläche': 10750, 'würstchen': 10751, 'verständnisvoll': 10752, 'halli': 10753, 'versetzen': 10754, 'auseinanderzunehmen': 10755, 'allerbesten': 10756, 'lobte': 10757, 'gelobt': 10758, 'emailadresse': 10759, 'rückfahrkarte': 10760, 'pflegerin': 10761, 'runde': 10762, 'steht’s': 10763, 'gemanagt': 10764, 'erhalte': 10765, 'kostenerstattung': 10766, 'erklärst': 10767, 'weintrauben': 10768, 'duschst': 10769, 'universum': 10770, 'übersehen': 10771, 'herausforderung': 10772, 'italienisch': 10773, 'realistischer': 10774, 'englischlehrer': 10775, 'englischlehrerin': 10776, 'pocken': 10777, 'immun': 10778, 'garage': 10779, 'regale': 10780, 'borde': 10781, 'beantwortete': 10782, 'zeitschrift': 10783, 'vergangenes': 10784, 'hierherbegeben': 10785, 'knacken': 10786, 'rauskriegen': 10787, 'untätig': 10788, 'nichtbeachtung': 10789, 'strafen': 10790, 'auseinanderhalten': 10791, 'frischer': 10792, 'ertappt': 10793, 'durchgetanzt': 10794, 'erledigte': 10795, 'ähnliches': 10796, 'gesetzen': 10797, 'zuwidergehandelt': 10798, 'angerührt': 10799, 'arbeitsspeicher': 10800, 'städte': 10801, 'fritierten': 10802, 'finnland': 10803, 'grippeimpfung': 10804, 'sterbt': 10805, 'montags': 10806, 'außenseiter': 10807, 'kotzen': 10808, 'vollends': 10809, 'bedauernswerten': 10810, 'zitterten': 10811, 'befolgte': 10812, 'goldene': 10813, 'arithmetik': 10814, 'üblich': 10815, 'vermutet': 10816, 'wintertage': 10817, 'entscheidungen': 10818, 'schwiegermutter': 10819, 'besonderen': 10820, 'ohrenentzündung': 10821, 'doppelte': 10822, 'staatsbürgerschaft': 10823, 'cholesterinspiegel': 10824, 'kreuzass': 10825, 'aufräumen': 10826, 'medikamente': 10827, 'seit': 10828, 'habest': 10829, 'habet': 10830, 'verirre': 10831, 'lud': 10832, 'ansonsten': 10833, 'dachtest': 10834, 'beschreibung': 10835, 'violett': 10836, 'brücken': 10837, 'erzählung': 10838, 'einöde': 10839, 'vordertür': 10840, 'wertvolles': 10841, 'medaillon': 10842, 'holundersaft': 10843, 'hartgekochte': 10844, 'geschichtsstudium': 10845, 'überraschungspartys': 10846, 'fotografiere': 10847, 'anfängerfehler': 10848, 'freundete': 10849, 'befreundete': 10850, 'gespräche': 10851, '7uhrzug': 10852, 'bahn': 10853, 'kätzchen': 10854, 'tama': 10855, 'essbares': 10856, 'freiwillige': 10857, 'freibekommen': 10858, 'chicago': 10859, 'breche': 10860, 'ausgleichssport': 10861, 'einzigen': 10862, 'namentlich': 10863, 'möbel': 10864, 'tausend': 10865, 'angestrichen': 10866, 'aufgeschnappt': 10867, 'instinktiv': 10868, 'werke': 10869, 'würdigen': 10870, 'anschaute': 10871, 'merkwürdiges': 10872, 'untersucht': 10873, 'denk’': 10874, 'werd’': 10875, 'geworfen': 10876, 'fasste': 10877, 'geschirr': 10878, 'bonbon': 10879, 'skischuhe': 10880, 'skistiefel': 10881, 'loswerden': 10882, 'seattle': 10883, 'tampa': 10884, 'kickern': 10885, 'bedanken': 10886, 'vulkan': 10887, 'vorgesetzten': 10888, 'herkommst': 10889, 'ohrfeigen': 10890, 'verkehr': 10891, '„youtube“': 10892, 'golfklub': 10893, 'sprächest': 10894, 'herumkommandieren': 10895, 'hinging': 10896, 'blumenladen': 10897, 'empfehlen': 10898, 'kaffe': 10899, 'hineinsehen': 10900, 'kehre': 10901, 'befassen': 10902, 'soviel': 10903, 'entgegensehen': 10904, 'fasse': 10905, 'sushiessen': 10906, 'hoffnungslose': 10907, 'romantikerin': 10908, 'volleyballspielerin': 10909, 'volleyballspieler': 10910, 'möhrenallergie': 10911, 'karottenallergie': 10912, 'dreist': 10913, 'amerikanischer': 10914, 'staatsbürger': 10915, 'hiltonhotel': 10916, 'stationiert': 10917, 'weil': 10918, 'ostküste': 10919, 'westküste': 10920, 'fragtest': 10921, 'fragtet': 10922, 'interessen': 10923, 'kritisiere': 10924, 'verberge': 10925, 'laufbursche': 10926, 'stockwerk': 10927, 'etage': 10928, 'ausreißen': 10929, 'anregungen': 10930, 'gezweifelt': 10931, 'grob': 10932, 'weggeht': 10933, 'backgammon': 10934, 'krankgeschrieben': 10935, 'zurechtmachen': 10936, 'geschäftigen': 10937, 'fürchterlichen': 10938, 'flaschenöffner': 10939, 'sterlingsilber': 10940, 'roter': 10941, 'buntstift': 10942, 'it': 10943, 'manuskript': 10944, 'zufällige': 10945, 'zufälliges': 10946, 'gefährliche': 10947, 'grauenhafter': 10948, 'sommertag': 10949, 'massiver': 10950, 'goldbarren': 10951, 'schmerzte': 10952, 'kühler': 10953, 'einschüchternd': 10954, 'heikles': 10955, 'golden': 10956, 'retriever': 10957, 'berechtigte': 10958, 'entsetzliches': 10959, 'einzigartige': 10960, 'entstehen': 10961, 'begriffen': 10962, 'einerlei': 10963, 'gehüpft': 10964, 'aufgeklärt': 10965, 'ehrliche': 10966, 'komplett': 10967, 'sichtbar': 10968, 'ausdrucksweise': 10969, 'klagen': 10970, 'fingern': 10971, 'abzählen': 10972, 'hexenwerk': 10973, 'beiße': 10974, 'regnets': 10975, 'übliche': 10976, 'vorgehensweise': 10977, 'schwör’s': 10978, 'unbequem': 10979, 'wachsames': 10980, 'bewahre': 10981, 'lagern': 10982, 'absenden': 10983, 'betrachten': 10984, 'nahem': 10985, 'flaschen': 10986, 'mysterium': 10987, 'themse': 10988, 'käseherstellung': 10989, 'pferdeliebhaber': 10990, 'seeleute': 10991, 'garnierte': 10992, 'torte': 10993, 'geburts': 10994, 'kindes': 10995, 'wimpern': 10996, 'selbstwertgefühl': 10997}\n"
          ]
        }
      ]
    },
    {
      "cell_type": "code",
      "metadata": {
        "colab": {
          "base_uri": "https://localhost:8080/"
        },
        "id": "Ej1UQmC7nXR1",
        "outputId": "153f81f4-b83d-43f4-9e20-ca696e4301a8"
      },
      "source": [
        "# 10.4 Get english vocabulary size\n",
        "eng_vocab_size = len(tok_eng.word_index) + 1\n",
        "eng_vocab_size"
      ],
      "execution_count": 37,
      "outputs": [
        {
          "output_type": "execute_result",
          "data": {
            "text/plain": [
              "10998"
            ]
          },
          "metadata": {},
          "execution_count": 37
        }
      ]
    },
    {
      "cell_type": "code",
      "metadata": {
        "colab": {
          "base_uri": "https://localhost:8080/"
        },
        "id": "FPjan6OvnXR1",
        "outputId": "33d00df8-e518-41f8-90eb-4fa8bbeef3f6"
      },
      "source": [
        "# 11.0 Similarly Prepare Deutch tokenizer\n",
        "deu_vocab_size = len(tok_ger.word_index) + 1\n",
        "deu_vocab_size"
      ],
      "execution_count": 38,
      "outputs": [
        {
          "output_type": "execute_result",
          "data": {
            "text/plain": [
              "10998"
            ]
          },
          "metadata": {},
          "execution_count": 38
        }
      ]
    },
    {
      "cell_type": "markdown",
      "metadata": {
        "id": "gu4L_3vznXR2"
      },
      "source": [
        "Given below is a function to prepare the sequences. It will also perform sequence padding to a maximum sentence length as mentioned above. "
      ]
    },
    {
      "cell_type": "markdown",
      "metadata": {
        "id": "FHlR1yl3nXR2"
      },
      "source": [
        "### Model Building"
      ]
    },
    {
      "cell_type": "markdown",
      "metadata": {
        "id": "YyY1YxXPnXR2"
      },
      "source": [
        "We will now split the data into train and test set for model training and evaluation, respectively."
      ]
    },
    {
      "cell_type": "code",
      "metadata": {
        "id": "ZF-pJ6uJnXR2"
      },
      "source": [
        "# 13 Split \n",
        "from sklearn.model_selection import train_test_split\n",
        "train, test = train_test_split(\n",
        "                                deu_eng,\n",
        "                                test_size=0.2,\n",
        "                                random_state = 12\n",
        "                               )"
      ],
      "execution_count": 39,
      "outputs": []
    },
    {
      "cell_type": "code",
      "metadata": {
        "id": "8xg8RDkGnXR3",
        "colab": {
          "base_uri": "https://localhost:8080/"
        },
        "outputId": "e96ce4f8-75c5-45e8-8898-bf8129fc9bce"
      },
      "source": [
        "# 13.1\n",
        "train.shape         # (40000,2)\n",
        "test.shape          # (10000,2)"
      ],
      "execution_count": 40,
      "outputs": [
        {
          "output_type": "execute_result",
          "data": {
            "text/plain": [
              "(40000, 2)"
            ]
          },
          "metadata": {},
          "execution_count": 40
        },
        {
          "output_type": "execute_result",
          "data": {
            "text/plain": [
              "(10000, 2)"
            ]
          },
          "metadata": {},
          "execution_count": 40
        }
      ]
    },
    {
      "cell_type": "markdown",
      "metadata": {
        "id": "Wy3QVpqrnXR3"
      },
      "source": [
        "It's time to encode the sentences. We will encode German sentences as the input sequences and English sentences as the target sequences. It will be done for both train and test datasets."
      ]
    },
    {
      "cell_type": "markdown",
      "metadata": {
        "id": "J8EHkcM2JlGq"
      },
      "source": [
        "#### pad_sequences"
      ]
    },
    {
      "cell_type": "markdown",
      "metadata": {
        "id": "5KtUiFDDJYzz"
      },
      "source": [
        "This function transforms a list (of length `num_samples`) of sequences (lists of integers) into a 2D Numpy array of shape (`num_samples, num_timesteps`). `num_timesteps` is either the `maxlen` argument if provided, or the length of the longest sequence in the list.\n",
        "\n",
        "Sequences that are shorter than `num_timesteps` are padded with value until they are `num_timesteps` long.\n",
        "\n",
        "Sequences longer than `num_timesteps` are truncated so that they fit the desired length.\n",
        "\n",
        "The position where padding or truncation happens is determined by the arguments `padding` and `truncating`, respectively. Pre-padding or removing values from the beginning of the sequence is the default."
      ]
    },
    {
      "cell_type": "code",
      "metadata": {
        "id": "0yscnucTI9kc"
      },
      "source": [
        "# pad_sequences syntax:\n",
        "\n",
        "tf.keras.preprocessing.sequence.pad_sequences(\n",
        "                                              sequences,\n",
        "                                              maxlen=None,\n",
        "                                              dtype='int32',\n",
        "                                              padding='pre',\n",
        "                                              truncating='pre',\n",
        "                                              value=0.0\n",
        "                                              )\n"
      ],
      "execution_count": null,
      "outputs": []
    },
    {
      "cell_type": "code",
      "metadata": {
        "id": "Dh3vj-lgNrl-"
      },
      "source": [
        "train_eng_seq = tok_eng.texts_to_sequences(train[:, 0])\n",
        "train_eng_seq = pad_sequences(train_eng_seq, maxlen=eng_length, padding='post')"
      ],
      "execution_count": 43,
      "outputs": []
    },
    {
      "cell_type": "code",
      "metadata": {
        "id": "PGX8aHyoOAdO"
      },
      "source": [
        "test_eng_seq = tok_eng.texts_to_sequences(test[:, 0])\n",
        "test_eng_seq = pad_sequences(test_eng_seq, maxlen=eng_length, padding='post')"
      ],
      "execution_count": 44,
      "outputs": []
    },
    {
      "cell_type": "code",
      "metadata": {
        "id": "bQeGcws_KdwD"
      },
      "source": [
        "train_ger_seq = tok_eng.texts_to_sequences(train[:, 0])\n",
        "train_ger_seq = pad_sequences(train_ger_seq, maxlen=eng_length, padding='post')"
      ],
      "execution_count": 45,
      "outputs": []
    },
    {
      "cell_type": "code",
      "metadata": {
        "id": "FbqykZAfKdfT"
      },
      "source": [
        "test_ger_seq = tok_eng.texts_to_sequences(test[:, 0])\n",
        "test_ger_seq = pad_sequences(test_ger_seq, maxlen=eng_length, padding='post')"
      ],
      "execution_count": 46,
      "outputs": []
    },
    {
      "cell_type": "code",
      "metadata": {
        "id": "4fuLriyInXR3",
        "colab": {
          "base_uri": "https://localhost:8080/"
        },
        "outputId": "96ff8cb0-5604-47bc-faca-eed80b219029"
      },
      "source": [
        "print(train_eng_seq.shape)      # German sequence: Each sentence is coded into 8 numbers  (40000, 8)\n",
        "print(train_ger_seq.shape)      # English sequence: Each sentence is coded into 8 numbers  (40000, 8)\n",
        "print(train_eng_seq[:4])        # Note that trainY is not OHE\n",
        "print(train_ger_seq[:4])"
      ],
      "execution_count": 50,
      "outputs": [
        {
          "output_type": "stream",
          "name": "stdout",
          "text": [
            "(40000, 8)\n",
            "(40000, 8)\n",
            "[[    0     0     0     0     0     0     0     0]\n",
            " [ 6956     0     0     0     0     0     0     0]\n",
            " [ 7896     0     0     0     0     0     0     0]\n",
            " [10943  2286     0     0     0     0     0     0]]\n",
            "[[    0     0     0     0     0     0     0     0]\n",
            " [ 6956     0     0     0     0     0     0     0]\n",
            " [ 7896     0     0     0     0     0     0     0]\n",
            " [10943  2286     0     0     0     0     0     0]]\n"
          ]
        }
      ]
    },
    {
      "cell_type": "markdown",
      "metadata": {
        "id": "lyb9DSAknXR4"
      },
      "source": [
        "Now comes the exciting part! Let us define our Seq2Seq model architecture. We are using an Embedding layer and an LSTM layer as our encoder and another LSTM layer followed by a Dense layer as the decoder.  "
      ]
    },
    {
      "cell_type": "code",
      "metadata": {
        "id": "OZMfvElFnXR4",
        "colab": {
          "base_uri": "https://localhost:8080/",
          "height": 110
        },
        "outputId": "08730821-143a-4288-a5b6-8c8aff3fadf5"
      },
      "source": [
        "# 15. JUMP THIS STEP AND GOTO 18 IF MODELS WERE EARLIER PREPARED. Build NMT model. \n",
        "# Ref:\n",
        "#    1. Return sequence vs Return state\n",
        "#      https://machinelearningmastery.com/return-sequences-and-return-states-for-lstms-in-keras/\n",
        "#      https://keras.io/layers/recurrent/\n",
        "#    2. Colah's blog:\n",
        "#      https://colah.github.io/posts/2015-08-Understanding-LSTMs/\n",
        "#    3. Repeat vectors\n",
        "#      https://stackoverflow.com/a/51757012\n",
        "\"\"\"\n",
        "mask_zero = True\n",
        "    Whether or not the input value 0 is a special \"padding\" value\n",
        "    that should be masked out. This is useful when using recurrent layers\n",
        "    which may take variable length input. If this is True then all subsequent\n",
        "    layers in the model need to support masking or an exception will be raised.\n",
        "    If mask_zero is set to True, as a consequence, index 0 cannot be used in the\n",
        "    vocabulary (input_dim should equal size of vocabulary + 1).\n",
        "\"\"\"\n",
        "# See Model architecture here: https://stackoverflow.com/a/51757012\n",
        "\n",
        "def build_model1(in_vocab, out_vocab, in_timesteps, out_timesteps, word2vec_space_size):\n",
        "    model = Sequential()\n",
        "    # 15.1 Encoder ---------\n",
        "    model.add(Embedding(in_vocab,             # Decides OneHotEncoder size & no of neurons at input layer\n",
        "                        word2vec_space_size,  # Decides size of hidden layer\n",
        "                        input_length=in_timesteps, # Decides how many LSTMs or how many times looping of RNN\n",
        "                        mask_zero=True         # Decides if digit zero is a part of vocabulary or not \n",
        "                       )         \n",
        "             )\n",
        "    \n",
        "    model.add(LSTM(word2vec_space_size,        # Decides size of BOTH state-vector as also output-vector\n",
        "                   return_sequences=False,     # Whether to return the LAST output in the output sequence,\n",
        "                                               #  or the full sequence ie output of each LSTM. Here only\n",
        "                                               #    the output of LAST LSTM returned\n",
        "                                               #      It is 'ht' in Colah's blog\n",
        "                   return_state = False        # Default. Do not return hidden state. ct of colah's blog\n",
        "                  )\n",
        "             )\n",
        "    \n",
        "    # 15.2 Decoder ------------\n",
        "    model.add(RepeatVector(\n",
        "                           out_timesteps      # How many times earlier input will be repeated\n",
        "                          )\n",
        "             )\n",
        "    \n",
        "    model.add(LSTM(word2vec_space_size,       # Decides size of BOTH state-vector as also output-vector\n",
        "                   return_sequences=True      # Decides: Return output vector for each LSTM\n",
        "                  )\n",
        "             )\n",
        "    \n",
        "    # 15.3 Classifier (sort of)\n",
        "    model.add(Dense(out_vocab,\n",
        "                    activation='softmax'      # Takes input of EACH LSTM (return sequences = True)\n",
        "                                              #   and returns one word each. Output is in OHE form\n",
        "                                              #     and not word2-vetor form\n",
        "                                              # So there will be as many of these Dense layers, in\n",
        "                                              #  parallel, as no of return_sequences \n",
        "                   )\n",
        "             )\n",
        "    \n",
        "    return model"
      ],
      "execution_count": 51,
      "outputs": [
        {
          "output_type": "execute_result",
          "data": {
            "application/vnd.google.colaboratory.intrinsic+json": {
              "type": "string"
            },
            "text/plain": [
              "'\\nmask_zero = True\\n    Whether or not the input value 0 is a special \"padding\" value\\n    that should be masked out. This is useful when using recurrent layers\\n    which may take variable length input. If this is True then all subsequent\\n    layers in the model need to support masking or an exception will be raised.\\n    If mask_zero is set to True, as a consequence, index 0 cannot be used in the\\n    vocabulary (input_dim should equal size of vocabulary + 1).\\n'"
            ]
          },
          "metadata": {},
          "execution_count": 51
        }
      ]
    },
    {
      "cell_type": "code",
      "metadata": {
        "id": "pLT533m9nXR5"
      },
      "source": [
        "# 15.4  Model_simple. It is a simpler model\n",
        "# See Model architecture here: https://stackoverflow.com/a/51757012\n",
        "def build_model_simple(in_vocab, out_vocab, in_timesteps, out_timesteps, word2vec_space_size):\n",
        "    model = Sequential()\n",
        "    model.add(Embedding(in_vocab, word2vec_space_size, input_length=in_timesteps, mask_zero=True))\n",
        "    model.add(LSTM(word2vec_space_size, return_sequences = True))\n",
        "    model.add(LSTM(word2vec_space_size, return_sequences=True))\n",
        "    model.add(TimeDistributed(Dense(out_vocab,           # Each dense layer outputs one word\n",
        "                                    activation='softmax'  # One softmax layer with each Dense layer\n",
        "                                   )\n",
        "                              )\n",
        "              )\n",
        "    #model.add(Dense(out_vocab, activation='softmax'))\n",
        "    return model"
      ],
      "execution_count": 52,
      "outputs": []
    },
    {
      "cell_type": "markdown",
      "metadata": {
        "id": "4g6nDA64nXR5"
      },
      "source": [
        "We are using RMSprop optimizer in this model as it is usually a good choice for recurrent neural networks."
      ]
    },
    {
      "cell_type": "code",
      "metadata": {
        "colab": {
          "base_uri": "https://localhost:8080/"
        },
        "id": "_zqYhk_fnXR5",
        "outputId": "7a2fc675-88f2-4f7f-e32f-0fde32800c7c"
      },
      "source": [
        "# 16.1 Create 1st model\n",
        "model1 = build_model1(deu_vocab_size,       # in_vocab (german)\n",
        "                      eng_vocab_size,       # out_vocab (english)\n",
        "                      deu_length,           # in_timesteps (german)\n",
        "                      eng_length,           # out_timesteps (english)\n",
        "                      512                   # word2vec_space_size\n",
        "                     )\n",
        "\n",
        "model1.summary()\n",
        "\n",
        "# 16.2 Create IInd model\n",
        "model_simple = build_model_simple(deu_vocab_size, eng_vocab_size, deu_length, eng_length, 512)\n",
        "model_simple.summary()"
      ],
      "execution_count": 53,
      "outputs": [
        {
          "output_type": "stream",
          "name": "stdout",
          "text": [
            "Model: \"sequential\"\n",
            "_________________________________________________________________\n",
            " Layer (type)                Output Shape              Param #   \n",
            "=================================================================\n",
            " embedding (Embedding)       (None, 8, 512)            5630976   \n",
            "                                                                 \n",
            " lstm (LSTM)                 (None, 512)               2099200   \n",
            "                                                                 \n",
            " repeat_vector (RepeatVector  (None, 8, 512)           0         \n",
            " )                                                               \n",
            "                                                                 \n",
            " lstm_1 (LSTM)               (None, 8, 512)            2099200   \n",
            "                                                                 \n",
            " dense (Dense)               (None, 8, 10998)          5641974   \n",
            "                                                                 \n",
            "=================================================================\n",
            "Total params: 15,471,350\n",
            "Trainable params: 15,471,350\n",
            "Non-trainable params: 0\n",
            "_________________________________________________________________\n",
            "Model: \"sequential_1\"\n",
            "_________________________________________________________________\n",
            " Layer (type)                Output Shape              Param #   \n",
            "=================================================================\n",
            " embedding_1 (Embedding)     (None, 8, 512)            5630976   \n",
            "                                                                 \n",
            " lstm_2 (LSTM)               (None, 8, 512)            2099200   \n",
            "                                                                 \n",
            " lstm_3 (LSTM)               (None, 8, 512)            2099200   \n",
            "                                                                 \n",
            " time_distributed (TimeDistr  (None, 8, 10998)         5641974   \n",
            " ibuted)                                                         \n",
            "                                                                 \n",
            "=================================================================\n",
            "Total params: 15,471,350\n",
            "Trainable params: 15,471,350\n",
            "Non-trainable params: 0\n",
            "_________________________________________________________________\n"
          ]
        }
      ]
    },
    {
      "cell_type": "code",
      "metadata": {
        "colab": {
          "base_uri": "https://localhost:8080/"
        },
        "id": "wXePZelQnXR6",
        "outputId": "77df8506-e238-4960-845b-8216dad57080"
      },
      "source": [
        "# 16.3 Compile 1st model\n",
        "rms = optimizers.RMSprop(lr=0.001)\n",
        "model1.compile(\n",
        "               optimizer=rms,\n",
        "               loss='sparse_categorical_crossentropy'\n",
        "              )\n",
        "\n",
        "# 16.4 Compile IInd simpler model\n",
        "rms = optimizers.RMSprop(lr=0.001)\n",
        "model_simple.compile(optimizer=rms,\n",
        "                     loss='sparse_categorical_crossentropy'\n",
        "                    )"
      ],
      "execution_count": 54,
      "outputs": [
        {
          "output_type": "stream",
          "name": "stderr",
          "text": [
            "/usr/local/lib/python3.7/dist-packages/keras/optimizer_v2/rmsprop.py:130: UserWarning: The `lr` argument is deprecated, use `learning_rate` instead.\n",
            "  super(RMSprop, self).__init__(name, **kwargs)\n"
          ]
        }
      ]
    },
    {
      "cell_type": "markdown",
      "metadata": {
        "id": "IDSTuy5lnXR6"
      },
      "source": [
        "## About sparse_categorical_crossentropy and categorical_crossentropy\n",
        "Please note that we have used __'sparse_categorical_crossentropy'__ as the loss function instead of __categorical_crossentropy__. When target is categorical (this is so in our case; targets are 'words' coded as integers). Output layer in our NN model is softmax. So normally we should be converting our trainY to OHE form and calculating error.<br>\n",
        "But this conversion to OHE would occupy a huge memory because OHE length would depend on vocabulary size (may be many thousands). SO we will have an array of (Many thosands X Many thousands). <br>\n",
        "'sparse_categorical_crossentropy' allows us to keep our target sequence as integers instead of one hot encoded format.See this [reference](https://www.dlology.com/blog/how-to-use-keras-sparse_categorical_crossentropy/?t=156531526256#rating-57). But if our loss function were categorical_crossentropy then OHE format for trainY is a must.<br>\n",
        "Incidentally the sparse part doesn't refer to the sparsity of the data but the format of the labels."
      ]
    },
    {
      "cell_type": "markdown",
      "metadata": {
        "id": "Mzw27WSvnXR7"
      },
      "source": [
        "We are now all set to start training our model. We will train it for 30 epochs and with a batch size of 512. You may change and play these hyperparameters. We will also be using __ModelCheckpoint()__ to save the best model with lowest validation loss. Alternative to this is early stopping."
      ]
    },
    {
      "cell_type": "code",
      "metadata": {
        "colab": {
          "base_uri": "https://localhost:8080/"
        },
        "id": "JOFMe-L8MLIh",
        "outputId": "73116939-22c7-4a6c-a043-48740fd401ba"
      },
      "source": [
        "train_eng_seq.shape      # (40000, 8)\n",
        "train_eng_seq[:2]        # Look at first two sequences\n"
      ],
      "execution_count": 56,
      "outputs": [
        {
          "output_type": "execute_result",
          "data": {
            "text/plain": [
              "(40000, 8)"
            ]
          },
          "metadata": {},
          "execution_count": 56
        },
        {
          "output_type": "execute_result",
          "data": {
            "text/plain": [
              "array([[   0,    0,    0,    0,    0,    0,    0,    0],\n",
              "       [6956,    0,    0,    0,    0,    0,    0,    0]], dtype=int32)"
            ]
          },
          "metadata": {},
          "execution_count": 56
        }
      ]
    },
    {
      "cell_type": "code",
      "metadata": {
        "colab": {
          "base_uri": "https://localhost:8080/"
        },
        "id": "8cjn-sccnXR7",
        "outputId": "e837090b-c9e2-43f1-8e18-169cabffa6a6"
      },
      "source": [
        "# 16.5 We will be reshaping trainY, as follows:\n",
        "#      This is the corresponding German-to-English translation\n",
        "#      we would expect at each one of the softmax-layer output.\n",
        "\n",
        "\n",
        "# 16.6 Now reshape and add third axis\n",
        "#      Such transformation is desireable as trainY will serve as desired output of softmax layer\n",
        "#      For every sequence or sentence of length 8, softmax outputs are two dimensional (8 X vocab_size).\n",
        "#      Therefore, for each senetence corresponding trainY output will also be two dimensional: 8 X 1.\n",
        "\n",
        "train_eng_seq =train_eng_seq.reshape(train_eng_seq.shape[0], train_eng_seq.shape[1], 1)  # (40000, 8, 1)\n",
        "train_eng_seq[:2]\n",
        "train_eng_seq.shape"
      ],
      "execution_count": 57,
      "outputs": [
        {
          "output_type": "execute_result",
          "data": {
            "text/plain": [
              "array([[[   0],\n",
              "        [   0],\n",
              "        [   0],\n",
              "        [   0],\n",
              "        [   0],\n",
              "        [   0],\n",
              "        [   0],\n",
              "        [   0]],\n",
              "\n",
              "       [[6956],\n",
              "        [   0],\n",
              "        [   0],\n",
              "        [   0],\n",
              "        [   0],\n",
              "        [   0],\n",
              "        [   0],\n",
              "        [   0]]], dtype=int32)"
            ]
          },
          "metadata": {},
          "execution_count": 57
        },
        {
          "output_type": "execute_result",
          "data": {
            "text/plain": [
              "(40000, 8, 1)"
            ]
          },
          "metadata": {},
          "execution_count": 57
        }
      ]
    },
    {
      "cell_type": "code",
      "metadata": {
        "scrolled": true,
        "colab": {
          "base_uri": "https://localhost:8080/"
        },
        "id": "TmGfyBponXR8",
        "outputId": "129aa60a-abee-4420-e5b3-36669e0ddd58"
      },
      "source": [
        "# 17.0 Fit complex of the two models:  model1\n",
        "\n",
        "%%time\n",
        "\n",
        "filename = '/content/model'\n",
        "start = time.time()\n",
        "callbacks_list = [ModelCheckpoint(filename,\n",
        "                                  monitor='val_loss',\n",
        "                                  verbose=1,\n",
        "                                  save_best_only=True,\n",
        "                                  mode='min'\n",
        "                                 ) \n",
        "                 ]\n",
        "\n",
        "history1 =  model1.fit(train_ger_seq,\n",
        "                      train_eng_seq,        # (40000, 8, 1) THIS IS NOT ONE-HOT-ENCODED\n",
        "                                     # EVEN THOUGH OUR MODEL HAS softmax OUTPUT LAYER\n",
        "                      epochs=10,\n",
        "                      batch_size=512,\n",
        "                      validation_split = 0.2,\n",
        "                      callbacks=callbacks_list,\n",
        "                      verbose=1\n",
        "                     )\n",
        "\n",
        "end = time.time()\n",
        "print ((end- start)/60)  # 170 minutes"
      ],
      "execution_count": 59,
      "outputs": [
        {
          "output_type": "stream",
          "name": "stdout",
          "text": [
            "Epoch 1/10\n",
            "63/63 [==============================] - ETA: 0s - loss: 1.9941\n",
            "Epoch 00001: val_loss improved from inf to 1.02120, saving model to /content/model\n"
          ]
        },
        {
          "output_type": "stream",
          "name": "stderr",
          "text": [
            "WARNING:absl:Found untraced functions such as lstm_cell_layer_call_fn, lstm_cell_layer_call_and_return_conditional_losses, lstm_cell_1_layer_call_fn, lstm_cell_1_layer_call_and_return_conditional_losses, lstm_cell_layer_call_fn while saving (showing 5 of 10). These functions will not be directly callable after loading.\n"
          ]
        },
        {
          "output_type": "stream",
          "name": "stdout",
          "text": [
            "INFO:tensorflow:Assets written to: /content/model/assets\n"
          ]
        },
        {
          "output_type": "stream",
          "name": "stderr",
          "text": [
            "INFO:tensorflow:Assets written to: /content/model/assets\n",
            "WARNING:absl:<keras.layers.recurrent.LSTMCell object at 0x7f2aea726a10> has the same name 'LSTMCell' as a built-in Keras object. Consider renaming <class 'keras.layers.recurrent.LSTMCell'> to avoid naming conflicts when loading with `tf.keras.models.load_model`. If renaming is not possible, pass the object in the `custom_objects` parameter of the load function.\n",
            "WARNING:absl:<keras.layers.recurrent.LSTMCell object at 0x7f2ae96d12d0> has the same name 'LSTMCell' as a built-in Keras object. Consider renaming <class 'keras.layers.recurrent.LSTMCell'> to avoid naming conflicts when loading with `tf.keras.models.load_model`. If renaming is not possible, pass the object in the `custom_objects` parameter of the load function.\n"
          ]
        },
        {
          "output_type": "stream",
          "name": "stdout",
          "text": [
            "\b\b\b\b\b\b\b\b\b\b\b\b\b\b\b\b\b\b\b\b\b\b\b\b\b\b\b\b\b\b\b\b\b\b\b\b\b\b\b\b\b\b\b\b\b\b\b\b\b\b\b\b\b\b\b\b\b\b\b\b\b\b\b\r63/63 [==============================] - 323s 5s/step - loss: 1.9941 - val_loss: 1.0212\n",
            "Epoch 2/10\n",
            "63/63 [==============================] - ETA: 0s - loss: 0.7956\n",
            "Epoch 00002: val_loss improved from 1.02120 to 0.67860, saving model to /content/model\n"
          ]
        },
        {
          "output_type": "stream",
          "name": "stderr",
          "text": [
            "WARNING:absl:Found untraced functions such as lstm_cell_layer_call_fn, lstm_cell_layer_call_and_return_conditional_losses, lstm_cell_1_layer_call_fn, lstm_cell_1_layer_call_and_return_conditional_losses, lstm_cell_layer_call_fn while saving (showing 5 of 10). These functions will not be directly callable after loading.\n"
          ]
        },
        {
          "output_type": "stream",
          "name": "stdout",
          "text": [
            "INFO:tensorflow:Assets written to: /content/model/assets\n"
          ]
        },
        {
          "output_type": "stream",
          "name": "stderr",
          "text": [
            "INFO:tensorflow:Assets written to: /content/model/assets\n",
            "WARNING:absl:<keras.layers.recurrent.LSTMCell object at 0x7f2aea726a10> has the same name 'LSTMCell' as a built-in Keras object. Consider renaming <class 'keras.layers.recurrent.LSTMCell'> to avoid naming conflicts when loading with `tf.keras.models.load_model`. If renaming is not possible, pass the object in the `custom_objects` parameter of the load function.\n",
            "WARNING:absl:<keras.layers.recurrent.LSTMCell object at 0x7f2ae96d12d0> has the same name 'LSTMCell' as a built-in Keras object. Consider renaming <class 'keras.layers.recurrent.LSTMCell'> to avoid naming conflicts when loading with `tf.keras.models.load_model`. If renaming is not possible, pass the object in the `custom_objects` parameter of the load function.\n"
          ]
        },
        {
          "output_type": "stream",
          "name": "stdout",
          "text": [
            "\b\b\b\b\b\b\b\b\b\b\b\b\b\b\b\b\b\b\b\b\b\b\b\b\b\b\b\b\b\b\b\b\b\b\b\b\b\b\b\b\b\b\b\b\b\b\b\b\b\b\b\b\b\b\b\b\b\b\b\b\b\b\b\r63/63 [==============================] - 321s 5s/step - loss: 0.7956 - val_loss: 0.6786\n",
            "Epoch 3/10\n",
            "63/63 [==============================] - ETA: 0s - loss: 0.5753\n",
            "Epoch 00003: val_loss improved from 0.67860 to 0.50856, saving model to /content/model\n"
          ]
        },
        {
          "output_type": "stream",
          "name": "stderr",
          "text": [
            "WARNING:absl:Found untraced functions such as lstm_cell_layer_call_fn, lstm_cell_layer_call_and_return_conditional_losses, lstm_cell_1_layer_call_fn, lstm_cell_1_layer_call_and_return_conditional_losses, lstm_cell_layer_call_fn while saving (showing 5 of 10). These functions will not be directly callable after loading.\n"
          ]
        },
        {
          "output_type": "stream",
          "name": "stdout",
          "text": [
            "INFO:tensorflow:Assets written to: /content/model/assets\n"
          ]
        },
        {
          "output_type": "stream",
          "name": "stderr",
          "text": [
            "INFO:tensorflow:Assets written to: /content/model/assets\n",
            "WARNING:absl:<keras.layers.recurrent.LSTMCell object at 0x7f2aea726a10> has the same name 'LSTMCell' as a built-in Keras object. Consider renaming <class 'keras.layers.recurrent.LSTMCell'> to avoid naming conflicts when loading with `tf.keras.models.load_model`. If renaming is not possible, pass the object in the `custom_objects` parameter of the load function.\n",
            "WARNING:absl:<keras.layers.recurrent.LSTMCell object at 0x7f2ae96d12d0> has the same name 'LSTMCell' as a built-in Keras object. Consider renaming <class 'keras.layers.recurrent.LSTMCell'> to avoid naming conflicts when loading with `tf.keras.models.load_model`. If renaming is not possible, pass the object in the `custom_objects` parameter of the load function.\n"
          ]
        },
        {
          "output_type": "stream",
          "name": "stdout",
          "text": [
            "\b\b\b\b\b\b\b\b\b\b\b\b\b\b\b\b\b\b\b\b\b\b\b\b\b\b\b\b\b\b\b\b\b\b\b\b\b\b\b\b\b\b\b\b\b\b\b\b\b\b\b\b\b\b\b\b\b\b\b\b\b\b\b\r63/63 [==============================] - 317s 5s/step - loss: 0.5753 - val_loss: 0.5086\n",
            "Epoch 4/10\n",
            "63/63 [==============================] - ETA: 0s - loss: 0.4140\n",
            "Epoch 00004: val_loss improved from 0.50856 to 0.36386, saving model to /content/model\n"
          ]
        },
        {
          "output_type": "stream",
          "name": "stderr",
          "text": [
            "WARNING:absl:Found untraced functions such as lstm_cell_layer_call_fn, lstm_cell_layer_call_and_return_conditional_losses, lstm_cell_1_layer_call_fn, lstm_cell_1_layer_call_and_return_conditional_losses, lstm_cell_layer_call_fn while saving (showing 5 of 10). These functions will not be directly callable after loading.\n"
          ]
        },
        {
          "output_type": "stream",
          "name": "stdout",
          "text": [
            "INFO:tensorflow:Assets written to: /content/model/assets\n"
          ]
        },
        {
          "output_type": "stream",
          "name": "stderr",
          "text": [
            "INFO:tensorflow:Assets written to: /content/model/assets\n",
            "WARNING:absl:<keras.layers.recurrent.LSTMCell object at 0x7f2aea726a10> has the same name 'LSTMCell' as a built-in Keras object. Consider renaming <class 'keras.layers.recurrent.LSTMCell'> to avoid naming conflicts when loading with `tf.keras.models.load_model`. If renaming is not possible, pass the object in the `custom_objects` parameter of the load function.\n",
            "WARNING:absl:<keras.layers.recurrent.LSTMCell object at 0x7f2ae96d12d0> has the same name 'LSTMCell' as a built-in Keras object. Consider renaming <class 'keras.layers.recurrent.LSTMCell'> to avoid naming conflicts when loading with `tf.keras.models.load_model`. If renaming is not possible, pass the object in the `custom_objects` parameter of the load function.\n"
          ]
        },
        {
          "output_type": "stream",
          "name": "stdout",
          "text": [
            "\b\b\b\b\b\b\b\b\b\b\b\b\b\b\b\b\b\b\b\b\b\b\b\b\b\b\b\b\b\b\b\b\b\b\b\b\b\b\b\b\b\b\b\b\b\b\b\b\b\b\b\b\b\b\b\b\b\b\b\b\b\b\b\r63/63 [==============================] - 316s 5s/step - loss: 0.4140 - val_loss: 0.3639\n",
            "Epoch 5/10\n",
            "63/63 [==============================] - ETA: 0s - loss: 0.2687\n",
            "Epoch 00005: val_loss improved from 0.36386 to 0.22732, saving model to /content/model\n"
          ]
        },
        {
          "output_type": "stream",
          "name": "stderr",
          "text": [
            "WARNING:absl:Found untraced functions such as lstm_cell_layer_call_fn, lstm_cell_layer_call_and_return_conditional_losses, lstm_cell_1_layer_call_fn, lstm_cell_1_layer_call_and_return_conditional_losses, lstm_cell_layer_call_fn while saving (showing 5 of 10). These functions will not be directly callable after loading.\n"
          ]
        },
        {
          "output_type": "stream",
          "name": "stdout",
          "text": [
            "INFO:tensorflow:Assets written to: /content/model/assets\n"
          ]
        },
        {
          "output_type": "stream",
          "name": "stderr",
          "text": [
            "INFO:tensorflow:Assets written to: /content/model/assets\n",
            "WARNING:absl:<keras.layers.recurrent.LSTMCell object at 0x7f2aea726a10> has the same name 'LSTMCell' as a built-in Keras object. Consider renaming <class 'keras.layers.recurrent.LSTMCell'> to avoid naming conflicts when loading with `tf.keras.models.load_model`. If renaming is not possible, pass the object in the `custom_objects` parameter of the load function.\n",
            "WARNING:absl:<keras.layers.recurrent.LSTMCell object at 0x7f2ae96d12d0> has the same name 'LSTMCell' as a built-in Keras object. Consider renaming <class 'keras.layers.recurrent.LSTMCell'> to avoid naming conflicts when loading with `tf.keras.models.load_model`. If renaming is not possible, pass the object in the `custom_objects` parameter of the load function.\n"
          ]
        },
        {
          "output_type": "stream",
          "name": "stdout",
          "text": [
            "\b\b\b\b\b\b\b\b\b\b\b\b\b\b\b\b\b\b\b\b\b\b\b\b\b\b\b\b\b\b\b\b\b\b\b\b\b\b\b\b\b\b\b\b\b\b\b\b\b\b\b\b\b\b\b\b\b\b\b\b\b\b\b\r63/63 [==============================] - 317s 5s/step - loss: 0.2687 - val_loss: 0.2273\n",
            "Epoch 6/10\n",
            "63/63 [==============================] - ETA: 0s - loss: 0.1631\n",
            "Epoch 00006: val_loss improved from 0.22732 to 0.15406, saving model to /content/model\n"
          ]
        },
        {
          "output_type": "stream",
          "name": "stderr",
          "text": [
            "WARNING:absl:Found untraced functions such as lstm_cell_layer_call_fn, lstm_cell_layer_call_and_return_conditional_losses, lstm_cell_1_layer_call_fn, lstm_cell_1_layer_call_and_return_conditional_losses, lstm_cell_layer_call_fn while saving (showing 5 of 10). These functions will not be directly callable after loading.\n"
          ]
        },
        {
          "output_type": "stream",
          "name": "stdout",
          "text": [
            "INFO:tensorflow:Assets written to: /content/model/assets\n"
          ]
        },
        {
          "output_type": "stream",
          "name": "stderr",
          "text": [
            "INFO:tensorflow:Assets written to: /content/model/assets\n",
            "WARNING:absl:<keras.layers.recurrent.LSTMCell object at 0x7f2aea726a10> has the same name 'LSTMCell' as a built-in Keras object. Consider renaming <class 'keras.layers.recurrent.LSTMCell'> to avoid naming conflicts when loading with `tf.keras.models.load_model`. If renaming is not possible, pass the object in the `custom_objects` parameter of the load function.\n",
            "WARNING:absl:<keras.layers.recurrent.LSTMCell object at 0x7f2ae96d12d0> has the same name 'LSTMCell' as a built-in Keras object. Consider renaming <class 'keras.layers.recurrent.LSTMCell'> to avoid naming conflicts when loading with `tf.keras.models.load_model`. If renaming is not possible, pass the object in the `custom_objects` parameter of the load function.\n"
          ]
        },
        {
          "output_type": "stream",
          "name": "stdout",
          "text": [
            "\b\b\b\b\b\b\b\b\b\b\b\b\b\b\b\b\b\b\b\b\b\b\b\b\b\b\b\b\b\b\b\b\b\b\b\b\b\b\b\b\b\b\b\b\b\b\b\b\b\b\b\b\b\b\b\b\b\b\b\b\b\b\b\r63/63 [==============================] - 317s 5s/step - loss: 0.1631 - val_loss: 0.1541\n",
            "Epoch 7/10\n",
            "63/63 [==============================] - ETA: 0s - loss: 0.1159\n",
            "Epoch 00007: val_loss improved from 0.15406 to 0.12192, saving model to /content/model\n"
          ]
        },
        {
          "output_type": "stream",
          "name": "stderr",
          "text": [
            "WARNING:absl:Found untraced functions such as lstm_cell_layer_call_fn, lstm_cell_layer_call_and_return_conditional_losses, lstm_cell_1_layer_call_fn, lstm_cell_1_layer_call_and_return_conditional_losses, lstm_cell_layer_call_fn while saving (showing 5 of 10). These functions will not be directly callable after loading.\n"
          ]
        },
        {
          "output_type": "stream",
          "name": "stdout",
          "text": [
            "INFO:tensorflow:Assets written to: /content/model/assets\n"
          ]
        },
        {
          "output_type": "stream",
          "name": "stderr",
          "text": [
            "INFO:tensorflow:Assets written to: /content/model/assets\n",
            "WARNING:absl:<keras.layers.recurrent.LSTMCell object at 0x7f2aea726a10> has the same name 'LSTMCell' as a built-in Keras object. Consider renaming <class 'keras.layers.recurrent.LSTMCell'> to avoid naming conflicts when loading with `tf.keras.models.load_model`. If renaming is not possible, pass the object in the `custom_objects` parameter of the load function.\n",
            "WARNING:absl:<keras.layers.recurrent.LSTMCell object at 0x7f2ae96d12d0> has the same name 'LSTMCell' as a built-in Keras object. Consider renaming <class 'keras.layers.recurrent.LSTMCell'> to avoid naming conflicts when loading with `tf.keras.models.load_model`. If renaming is not possible, pass the object in the `custom_objects` parameter of the load function.\n"
          ]
        },
        {
          "output_type": "stream",
          "name": "stdout",
          "text": [
            "\b\b\b\b\b\b\b\b\b\b\b\b\b\b\b\b\b\b\b\b\b\b\b\b\b\b\b\b\b\b\b\b\b\b\b\b\b\b\b\b\b\b\b\b\b\b\b\b\b\b\b\b\b\b\b\b\b\b\b\b\b\b\b\r63/63 [==============================] - 317s 5s/step - loss: 0.1159 - val_loss: 0.1219\n",
            "Epoch 8/10\n",
            "63/63 [==============================] - ETA: 0s - loss: 0.0912\n",
            "Epoch 00008: val_loss improved from 0.12192 to 0.09901, saving model to /content/model\n"
          ]
        },
        {
          "output_type": "stream",
          "name": "stderr",
          "text": [
            "WARNING:absl:Found untraced functions such as lstm_cell_layer_call_fn, lstm_cell_layer_call_and_return_conditional_losses, lstm_cell_1_layer_call_fn, lstm_cell_1_layer_call_and_return_conditional_losses, lstm_cell_layer_call_fn while saving (showing 5 of 10). These functions will not be directly callable after loading.\n"
          ]
        },
        {
          "output_type": "stream",
          "name": "stdout",
          "text": [
            "INFO:tensorflow:Assets written to: /content/model/assets\n"
          ]
        },
        {
          "output_type": "stream",
          "name": "stderr",
          "text": [
            "INFO:tensorflow:Assets written to: /content/model/assets\n",
            "WARNING:absl:<keras.layers.recurrent.LSTMCell object at 0x7f2aea726a10> has the same name 'LSTMCell' as a built-in Keras object. Consider renaming <class 'keras.layers.recurrent.LSTMCell'> to avoid naming conflicts when loading with `tf.keras.models.load_model`. If renaming is not possible, pass the object in the `custom_objects` parameter of the load function.\n",
            "WARNING:absl:<keras.layers.recurrent.LSTMCell object at 0x7f2ae96d12d0> has the same name 'LSTMCell' as a built-in Keras object. Consider renaming <class 'keras.layers.recurrent.LSTMCell'> to avoid naming conflicts when loading with `tf.keras.models.load_model`. If renaming is not possible, pass the object in the `custom_objects` parameter of the load function.\n"
          ]
        },
        {
          "output_type": "stream",
          "name": "stdout",
          "text": [
            "\b\b\b\b\b\b\b\b\b\b\b\b\b\b\b\b\b\b\b\b\b\b\b\b\b\b\b\b\b\b\b\b\b\b\b\b\b\b\b\b\b\b\b\b\b\b\b\b\b\b\b\b\b\b\b\b\b\b\b\b\b\b\b\r63/63 [==============================] - 317s 5s/step - loss: 0.0912 - val_loss: 0.0990\n",
            "Epoch 9/10\n",
            "63/63 [==============================] - ETA: 0s - loss: 0.0753\n",
            "Epoch 00009: val_loss improved from 0.09901 to 0.08688, saving model to /content/model\n"
          ]
        },
        {
          "output_type": "stream",
          "name": "stderr",
          "text": [
            "WARNING:absl:Found untraced functions such as lstm_cell_layer_call_fn, lstm_cell_layer_call_and_return_conditional_losses, lstm_cell_1_layer_call_fn, lstm_cell_1_layer_call_and_return_conditional_losses, lstm_cell_layer_call_fn while saving (showing 5 of 10). These functions will not be directly callable after loading.\n"
          ]
        },
        {
          "output_type": "stream",
          "name": "stdout",
          "text": [
            "INFO:tensorflow:Assets written to: /content/model/assets\n"
          ]
        },
        {
          "output_type": "stream",
          "name": "stderr",
          "text": [
            "INFO:tensorflow:Assets written to: /content/model/assets\n",
            "WARNING:absl:<keras.layers.recurrent.LSTMCell object at 0x7f2aea726a10> has the same name 'LSTMCell' as a built-in Keras object. Consider renaming <class 'keras.layers.recurrent.LSTMCell'> to avoid naming conflicts when loading with `tf.keras.models.load_model`. If renaming is not possible, pass the object in the `custom_objects` parameter of the load function.\n",
            "WARNING:absl:<keras.layers.recurrent.LSTMCell object at 0x7f2ae96d12d0> has the same name 'LSTMCell' as a built-in Keras object. Consider renaming <class 'keras.layers.recurrent.LSTMCell'> to avoid naming conflicts when loading with `tf.keras.models.load_model`. If renaming is not possible, pass the object in the `custom_objects` parameter of the load function.\n"
          ]
        },
        {
          "output_type": "stream",
          "name": "stdout",
          "text": [
            "\b\b\b\b\b\b\b\b\b\b\b\b\b\b\b\b\b\b\b\b\b\b\b\b\b\b\b\b\b\b\b\b\b\b\b\b\b\b\b\b\b\b\b\b\b\b\b\b\b\b\b\b\b\b\b\b\b\b\b\b\b\b\b\r63/63 [==============================] - 319s 5s/step - loss: 0.0753 - val_loss: 0.0869\n",
            "Epoch 10/10\n",
            "63/63 [==============================] - ETA: 0s - loss: 0.0589\n",
            "Epoch 00010: val_loss improved from 0.08688 to 0.07233, saving model to /content/model\n"
          ]
        },
        {
          "output_type": "stream",
          "name": "stderr",
          "text": [
            "WARNING:absl:Found untraced functions such as lstm_cell_layer_call_fn, lstm_cell_layer_call_and_return_conditional_losses, lstm_cell_1_layer_call_fn, lstm_cell_1_layer_call_and_return_conditional_losses, lstm_cell_layer_call_fn while saving (showing 5 of 10). These functions will not be directly callable after loading.\n"
          ]
        },
        {
          "output_type": "stream",
          "name": "stdout",
          "text": [
            "INFO:tensorflow:Assets written to: /content/model/assets\n"
          ]
        },
        {
          "output_type": "stream",
          "name": "stderr",
          "text": [
            "INFO:tensorflow:Assets written to: /content/model/assets\n",
            "WARNING:absl:<keras.layers.recurrent.LSTMCell object at 0x7f2aea726a10> has the same name 'LSTMCell' as a built-in Keras object. Consider renaming <class 'keras.layers.recurrent.LSTMCell'> to avoid naming conflicts when loading with `tf.keras.models.load_model`. If renaming is not possible, pass the object in the `custom_objects` parameter of the load function.\n",
            "WARNING:absl:<keras.layers.recurrent.LSTMCell object at 0x7f2ae96d12d0> has the same name 'LSTMCell' as a built-in Keras object. Consider renaming <class 'keras.layers.recurrent.LSTMCell'> to avoid naming conflicts when loading with `tf.keras.models.load_model`. If renaming is not possible, pass the object in the `custom_objects` parameter of the load function.\n"
          ]
        },
        {
          "output_type": "stream",
          "name": "stdout",
          "text": [
            "\b\b\b\b\b\b\b\b\b\b\b\b\b\b\b\b\b\b\b\b\b\b\b\b\b\b\b\b\b\b\b\b\b\b\b\b\b\b\b\b\b\b\b\b\b\b\b\b\b\b\b\b\b\b\b\b\b\b\b\b\b\b\b\r63/63 [==============================] - 318s 5s/step - loss: 0.0589 - val_loss: 0.0723\n",
            "53.45419596831004\n",
            "CPU times: user 1h 40min 3s, sys: 58.4 s, total: 1h 41min 1s\n",
            "Wall time: 53min 27s\n"
          ]
        }
      ]
    },
    {
      "cell_type": "code",
      "metadata": {
        "id": "U0vmc2F1ZuwW"
      },
      "source": [
        "! mkdir -p /gdrive/MyDrive/Colab_data_files/germantoenglish/mymodel"
      ],
      "execution_count": 60,
      "outputs": []
    },
    {
      "cell_type": "code",
      "metadata": {
        "id": "F52qdhehY1UT"
      },
      "source": [
        "! cp -R /content/model /gdrive/MyDrive/Colab_data_files/germantoenglish/mymodel"
      ],
      "execution_count": 61,
      "outputs": []
    },
    {
      "cell_type": "code",
      "metadata": {
        "id": "uHymHqpSnXR8"
      },
      "source": [
        "# 17.1 Fit simpler model: model_simple\n",
        "filename = 'model_simple.h1.02_july_19'\n",
        "\n",
        "start = time.time()\n",
        "\n",
        "callbacks_list = [ModelCheckpoint(filename,\n",
        "                                  monitor='val_loss',\n",
        "                                  verbose=1,\n",
        "                                  save_best_only=True,\n",
        "                                  mode='min'\n",
        "                                 ) \n",
        "                 ]\n",
        "\n",
        "\n",
        "history_simple = model_simple.fit(trainX,\n",
        "                                  trainY, \n",
        "                                  epochs=40,\n",
        "                                  batch_size=512, \n",
        "                                  validation_split = 0.2,\n",
        "                                  callbacks=callbacks_list,\n",
        "                                  verbose=1\n",
        "                                 )\n",
        "\n",
        "end = time.time()\n",
        "print ((end- start)/60)  # 170 minutes"
      ],
      "execution_count": null,
      "outputs": []
    },
    {
      "cell_type": "markdown",
      "metadata": {
        "id": "9cOtigD6nXR9"
      },
      "source": [
        "Let's compare the training loss and the validation loss."
      ]
    },
    {
      "cell_type": "code",
      "metadata": {
        "id": "2MlawYGNnXR-"
      },
      "source": [
        "# 17.2 Plot learning curve: model1\n",
        "plt.plot(history1.history['loss'])\n",
        "plt.plot(history1.history['val_loss'])\n",
        "plt.legend(['train','validation'])\n",
        "plt.show()"
      ],
      "execution_count": null,
      "outputs": []
    },
    {
      "cell_type": "code",
      "metadata": {
        "id": "bEJG_lNCnXR-"
      },
      "source": [
        "# 17.3 Plot learning curve: model2\n",
        "plt.plot(history_simple.history['loss'])\n",
        "plt.plot(history_simple.history['val_loss'])\n",
        "plt.legend(['train','validation'])\n",
        "plt.show()"
      ],
      "execution_count": null,
      "outputs": []
    },
    {
      "cell_type": "markdown",
      "metadata": {
        "id": "tL0HIj5jnXR-"
      },
      "source": [
        "### Make Predictions"
      ]
    },
    {
      "cell_type": "markdown",
      "metadata": {
        "id": "7ALQYmy3nXR-"
      },
      "source": [
        "Let's load the saved model to make predictions."
      ]
    },
    {
      "cell_type": "code",
      "metadata": {
        "id": "rW-_lQDhnXR-"
      },
      "source": [
        "# 18.0\n",
        "testX\n",
        "testX.shape"
      ],
      "execution_count": null,
      "outputs": []
    },
    {
      "cell_type": "code",
      "metadata": {
        "id": "jdxdT1l5nXR-"
      },
      "source": [
        "# 18.1\n",
        "#testX.reshape((testX.shape[0],testX.shape[1]))\n",
        "#testX.reshape((testX.shape[0],testX.shape[1])).shape"
      ],
      "execution_count": null,
      "outputs": []
    },
    {
      "cell_type": "code",
      "metadata": {
        "id": "X_QQWhIpnXR-"
      },
      "source": [
        "# 19.1\n",
        "del model1    # Delete the earlier model\n",
        "model1 = load_model('model1.h1.02_july_19')\n",
        "# 19.2\n",
        "start = time.time()\n",
        "preds1 = model1.predict_classes(testX)\n",
        "end = time.time()\n",
        "(end-start)/60"
      ],
      "execution_count": null,
      "outputs": []
    },
    {
      "cell_type": "code",
      "metadata": {
        "id": "1D2ifg6gnXSA"
      },
      "source": [
        "# 19.3\n",
        "del model_simple  # Delete the earlier model\n",
        "model_simple = load_model('model_simple.h1.02_july_19')   \n",
        "# 19.4\n",
        "start = time.time()\n",
        "preds_simple = model_simple.predict_classes(testX)\n",
        "#preds2 = model2.predict_classes(testX.reshape((testX.shape[0],testX.shape[1])))\n",
        "end = time.time()\n",
        "(end-start)/60         # 1 minute"
      ],
      "execution_count": null,
      "outputs": []
    },
    {
      "cell_type": "code",
      "metadata": {
        "id": "Y7ndNygRnXSA"
      },
      "source": [
        "# 19.5 Just have a look\n",
        "preds1\n",
        "#preds_simple"
      ],
      "execution_count": null,
      "outputs": []
    },
    {
      "cell_type": "code",
      "metadata": {
        "id": "Ei0s23LfnXSA"
      },
      "source": [
        "# 20. Define a function to get word, given integer-index\n",
        "def get_word(n, tokenizer):\n",
        "    for word, value in tokenizer.word_index.items():\n",
        "        if value == n:\n",
        "            return word\n",
        "    return None"
      ],
      "execution_count": null,
      "outputs": []
    },
    {
      "cell_type": "code",
      "metadata": {
        "id": "JQNVA5nYnXSA"
      },
      "source": [
        "# 21. Make one choice\n",
        "#     Which one of the following two, \n",
        "#     you want to evaluate\n",
        "preds = preds1           # Model1\n",
        "#preds = preds_simple      # Model simple\n",
        "preds       # Predicted english sequence\n",
        "testX       # Actual german sequence"
      ],
      "execution_count": null,
      "outputs": []
    },
    {
      "cell_type": "code",
      "metadata": {
        "id": "DV1saJZbnXSB"
      },
      "source": [
        "# 22 Convert sequence predictions to english text\n",
        "#    We use word\n",
        "start = time.time()\n",
        "preds_text = []\n",
        "for i in preds:       # For 'i'th row\n",
        "    temp = []\n",
        "    for j in range(len(i)):     # For every integer in 'i'th row\n",
        "        t = get_word(i[j], eng_tokenizer)  # For integer at i[j], get_word()\n",
        "        if j > 0:     # If j is not 0\n",
        "            # 22.1 if it is a repeat (sequence) word or no word at all, write \"\"\n",
        "            if (t == get_word(i[j-1], eng_tokenizer)) or (t == None):\n",
        "                temp.append('')\n",
        "            else:\n",
        "                # 22.2 Take action normally\n",
        "                temp.append(t)\n",
        "             \n",
        "        else:  # 22.3 if j is 0 \n",
        "            if(t == None):\n",
        "                temp.append('')\n",
        "            else:\n",
        "                temp.append(t)            \n",
        "    # 22.4 Append the word to list    \n",
        "    preds_text.append(' '.join(temp))\n",
        "    \n",
        "end = time.time()\n",
        "(end-start)/60           # 3 minutes"
      ],
      "execution_count": null,
      "outputs": []
    },
    {
      "cell_type": "code",
      "metadata": {
        "id": "ss7MqJcsnXSB"
      },
      "source": [
        "# 22.5 Fill a dataframe with german, actual english and predicted english sentences\n",
        "pred_df = pd.DataFrame(\n",
        "                        {\n",
        "                        'actual_german'  : test[:, 1],         # It is test not testX\n",
        "                        'actual_english' : test[:, 0],         # Actual english. \n",
        "                        'predicted' :      preds_text         # Predicted english\n",
        "                        }   \n",
        "                      )"
      ],
      "execution_count": null,
      "outputs": []
    },
    {
      "cell_type": "code",
      "metadata": {
        "id": "Df3mXWpvnXSB"
      },
      "source": [
        "# 22.6 Results\n",
        "#      Observe that while translation may not be exact\n",
        "#      i) words do make some sense,\n",
        "# and,ii) grammatically most sentences seem correct\n",
        "pred_df.head(15)"
      ],
      "execution_count": null,
      "outputs": []
    },
    {
      "cell_type": "code",
      "metadata": {
        "id": "_OMftmAEnXSB"
      },
      "source": [
        "# 22.7 Results\n",
        "pred_df.tail(15)"
      ],
      "execution_count": null,
      "outputs": []
    },
    {
      "cell_type": "code",
      "metadata": {
        "id": "lTJOtOnanXSB"
      },
      "source": [
        "# 22.8 Show any 15 samples\n",
        "pred_df.sample(15)"
      ],
      "execution_count": null,
      "outputs": []
    }
  ]
}