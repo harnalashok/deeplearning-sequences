{
  "nbformat": 4,
  "nbformat_minor": 0,
  "metadata": {
    "colab": {
      "name": "kingMinuswoman.ipynb",
      "provenance": [],
      "collapsed_sections": [],
      "authorship_tag": "ABX9TyORSS13tcG69Yt7cjDS/epi",
      "include_colab_link": true
    },
    "kernelspec": {
      "name": "python3",
      "display_name": "Python 3"
    }
  },
  "cells": [
    {
      "cell_type": "markdown",
      "metadata": {
        "id": "view-in-github",
        "colab_type": "text"
      },
      "source": [
        "<a href=\"https://colab.research.google.com/github/harnalashok/deeplearning-sequences/blob/main/kingMinuswoman.ipynb\" target=\"_parent\"><img src=\"https://colab.research.google.com/assets/colab-badge.svg\" alt=\"Open In Colab\"/></a>"
      ]
    },
    {
      "cell_type": "code",
      "metadata": {
        "id": "3nAjcZstvywH"
      },
      "source": [
        "import gensim.downloader as api\r\n",
        "\r\n",
        "wv = api.load('word2vec-google-news-300')"
      ],
      "execution_count": 47,
      "outputs": []
    },
    {
      "cell_type": "code",
      "metadata": {
        "id": "y0_NqJG_vzug"
      },
      "source": [
        "vec_king = wv['king']\r\n",
        "vec_man = wv['man']\r\n",
        "vec_woman = wv['woman']\r\n",
        "vec_queen = wv['queen']"
      ],
      "execution_count": 54,
      "outputs": []
    },
    {
      "cell_type": "code",
      "metadata": {
        "colab": {
          "base_uri": "https://localhost:8080/"
        },
        "id": "pxqLL9fmyBXU",
        "outputId": "9cf52060-e2da-4dfe-dc59-0d7738c3a5b3"
      },
      "source": [
        "result = wv.most_similar(positive=['woman', 'king'], negative=['man'], topn=1)\r\n",
        "print(result)"
      ],
      "execution_count": 59,
      "outputs": [
        {
          "output_type": "stream",
          "text": [
            "[('queen', 0.7118192911148071)]\n"
          ],
          "name": "stdout"
        }
      ]
    },
    {
      "cell_type": "code",
      "metadata": {
        "id": "4Xcx0Z4Uyl_3"
      },
      "source": [
        "result = wv.most_similar(positive=['woman', 'king'], negative=['man'], topn=1)\r\n",
        "print(result)"
      ],
      "execution_count": null,
      "outputs": []
    },
    {
      "cell_type": "code",
      "metadata": {
        "colab": {
          "base_uri": "https://localhost:8080/"
        },
        "id": "3lrbV7m1zFRN",
        "outputId": "fa9d3ef8-ba6a-48f5-952a-ff5b61b1a24f"
      },
      "source": [
        "result = wv.most_similar(positive=['woman', 'uncle'], negative=['man'], topn=1)\r\n",
        "print(result)"
      ],
      "execution_count": 60,
      "outputs": [
        {
          "output_type": "stream",
          "text": [
            "[('aunt', 0.8022665977478027)]\n"
          ],
          "name": "stdout"
        }
      ]
    },
    {
      "cell_type": "code",
      "metadata": {
        "id": "YJREPNd4zLLq"
      },
      "source": [
        ""
      ],
      "execution_count": null,
      "outputs": []
    }
  ]
}