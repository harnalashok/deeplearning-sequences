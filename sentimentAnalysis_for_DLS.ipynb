{
  "nbformat": 4,
  "nbformat_minor": 0,
  "metadata": {
    "colab": {
      "provenance": [],
      "authorship_tag": "ABX9TyNdlEbTS5C6IRP8jIhE8Psf",
      "include_colab_link": true
    },
    "kernelspec": {
      "name": "python3",
      "display_name": "Python 3"
    },
    "language_info": {
      "name": "python"
    }
  },
  "cells": [
    {
      "cell_type": "markdown",
      "metadata": {
        "id": "view-in-github",
        "colab_type": "text"
      },
      "source": [
        "<a href=\"https://colab.research.google.com/github/harnalashok/deeplearning-sequences/blob/main/sentimentAnalysis_for_DLS.ipynb\" target=\"_parent\"><img src=\"https://colab.research.google.com/assets/colab-badge.svg\" alt=\"Open In Colab\"/></a>"
      ]
    },
    {
      "cell_type": "code",
      "source": [
        "# LAst amended: 04th Jan, 2024\n",
        "# Objective: To prepare csv file from tweets data\n",
        "#            for experimenting in deeplearning studio (DLS)\n",
        "#\n",
        "# My Github reference:\n",
        "#    https://github.com/harnalashok/deeplearning-sequences/blob/main/sentimentAnalysis_for_DLS.ipynb\n",
        "#\n",
        "# Ref: https://community.deepcognition.ai/t/text-processing-and-tutorial-video-for-uploading-text-dataset/238"
      ],
      "metadata": {
        "id": "lG7mU8DcB1z9"
      },
      "execution_count": null,
      "outputs": []
    },
    {
      "cell_type": "markdown",
      "source": [
        "## How to?<br>\n",
        "> 1.0 Your csv file must have at the least two columns. If there are more columns, no problem.<br>\n",
        "> 2.0 The tweets or text column must have the header name as <b>'text'</b> and the class column should have the header name as <b>'label'</b>  \n",
        "> 3.0 Upload csv file in your gdrive<br>\n",
        "> 4.0 After the process is complete, the saved file will be in the folder '/content'. You can download the processed file directly from this folder. Right click on it and click <b>Download</b>."
      ],
      "metadata": {
        "id": "shpDqymnHFC4"
      }
    },
    {
      "cell_type": "code",
      "source": [
        "# 1.0\n",
        "import tensorflow\n",
        "import pandas as pd\n",
        "from tensorflow.keras.preprocessing.text import Tokenizer\n",
        "from tensorflow.keras.preprocessing.sequence import pad_sequences\n",
        "import csv"
      ],
      "metadata": {
        "id": "19Z7avAmvHTG"
      },
      "execution_count": 1,
      "outputs": []
    },
    {
      "cell_type": "code",
      "source": [
        "# 1.1\n",
        "from google.colab import drive\n",
        "drive.mount('/gdrive')"
      ],
      "metadata": {
        "colab": {
          "base_uri": "https://localhost:8080/"
        },
        "id": "UViwejc5y55l",
        "outputId": "caf1dcbd-30d4-4680-989a-8816c239688d"
      },
      "execution_count": 2,
      "outputs": [
        {
          "output_type": "stream",
          "name": "stdout",
          "text": [
            "Mounted at /gdrive\n"
          ]
        }
      ]
    },
    {
      "cell_type": "markdown",
      "source": [
        "## Read data\n",
        "Change here your csv file location appropriately."
      ],
      "metadata": {
        "id": "30l_U9sjG_ss"
      }
    },
    {
      "cell_type": "code",
      "source": [
        "# 2.0 Change this path as per your file location in gdrive:\n",
        "#datapath = \"/gdrive/MyDrive/sentiment/combined.csv\"\n",
        "datapath = \"/gdrive/MyDrive/Colab_data_files/disaster_tweets/socialmedia_relevant_cols.csv\""
      ],
      "metadata": {
        "id": "cB4zljghzYIl"
      },
      "execution_count": 10,
      "outputs": []
    },
    {
      "cell_type": "code",
      "source": [
        "# 2.1 If problem in reading try different encodings\n",
        "#      For other encodings, see: https://stackoverflow.com/a/18172249/3282777#\n",
        "\n",
        "data = pd.read_csv(datapath, encoding = \"ISO-8859-1\")\n",
        "data.head()"
      ],
      "metadata": {
        "colab": {
          "base_uri": "https://localhost:8080/",
          "height": 206
        },
        "id": "esn4BOfOzew_",
        "outputId": "0183e75e-326c-4cb7-d40f-72091e311df6"
      },
      "execution_count": 12,
      "outputs": [
        {
          "output_type": "execute_result",
          "data": {
            "text/plain": [
              "                                                text choose_one  class_label\n",
              "0                 Just happened a terrible car crash   Relevant            1\n",
              "1  Our Deeds are the Reason of this #earthquake M...   Relevant            1\n",
              "2  Heard about #earthquake is different cities, s...   Relevant            1\n",
              "3  there is a forest fire at spot pond, geese are...   Relevant            1\n",
              "4             Forest fire near La Ronge Sask. Canada   Relevant            1"
            ],
            "text/html": [
              "\n",
              "  <div id=\"df-e601eda7-7dcf-4d03-ab85-a9e3c2f9eadf\" class=\"colab-df-container\">\n",
              "    <div>\n",
              "<style scoped>\n",
              "    .dataframe tbody tr th:only-of-type {\n",
              "        vertical-align: middle;\n",
              "    }\n",
              "\n",
              "    .dataframe tbody tr th {\n",
              "        vertical-align: top;\n",
              "    }\n",
              "\n",
              "    .dataframe thead th {\n",
              "        text-align: right;\n",
              "    }\n",
              "</style>\n",
              "<table border=\"1\" class=\"dataframe\">\n",
              "  <thead>\n",
              "    <tr style=\"text-align: right;\">\n",
              "      <th></th>\n",
              "      <th>text</th>\n",
              "      <th>choose_one</th>\n",
              "      <th>class_label</th>\n",
              "    </tr>\n",
              "  </thead>\n",
              "  <tbody>\n",
              "    <tr>\n",
              "      <th>0</th>\n",
              "      <td>Just happened a terrible car crash</td>\n",
              "      <td>Relevant</td>\n",
              "      <td>1</td>\n",
              "    </tr>\n",
              "    <tr>\n",
              "      <th>1</th>\n",
              "      <td>Our Deeds are the Reason of this #earthquake M...</td>\n",
              "      <td>Relevant</td>\n",
              "      <td>1</td>\n",
              "    </tr>\n",
              "    <tr>\n",
              "      <th>2</th>\n",
              "      <td>Heard about #earthquake is different cities, s...</td>\n",
              "      <td>Relevant</td>\n",
              "      <td>1</td>\n",
              "    </tr>\n",
              "    <tr>\n",
              "      <th>3</th>\n",
              "      <td>there is a forest fire at spot pond, geese are...</td>\n",
              "      <td>Relevant</td>\n",
              "      <td>1</td>\n",
              "    </tr>\n",
              "    <tr>\n",
              "      <th>4</th>\n",
              "      <td>Forest fire near La Ronge Sask. Canada</td>\n",
              "      <td>Relevant</td>\n",
              "      <td>1</td>\n",
              "    </tr>\n",
              "  </tbody>\n",
              "</table>\n",
              "</div>\n",
              "    <div class=\"colab-df-buttons\">\n",
              "\n",
              "  <div class=\"colab-df-container\">\n",
              "    <button class=\"colab-df-convert\" onclick=\"convertToInteractive('df-e601eda7-7dcf-4d03-ab85-a9e3c2f9eadf')\"\n",
              "            title=\"Convert this dataframe to an interactive table.\"\n",
              "            style=\"display:none;\">\n",
              "\n",
              "  <svg xmlns=\"http://www.w3.org/2000/svg\" height=\"24px\" viewBox=\"0 -960 960 960\">\n",
              "    <path d=\"M120-120v-720h720v720H120Zm60-500h600v-160H180v160Zm220 220h160v-160H400v160Zm0 220h160v-160H400v160ZM180-400h160v-160H180v160Zm440 0h160v-160H620v160ZM180-180h160v-160H180v160Zm440 0h160v-160H620v160Z\"/>\n",
              "  </svg>\n",
              "    </button>\n",
              "\n",
              "  <style>\n",
              "    .colab-df-container {\n",
              "      display:flex;\n",
              "      gap: 12px;\n",
              "    }\n",
              "\n",
              "    .colab-df-convert {\n",
              "      background-color: #E8F0FE;\n",
              "      border: none;\n",
              "      border-radius: 50%;\n",
              "      cursor: pointer;\n",
              "      display: none;\n",
              "      fill: #1967D2;\n",
              "      height: 32px;\n",
              "      padding: 0 0 0 0;\n",
              "      width: 32px;\n",
              "    }\n",
              "\n",
              "    .colab-df-convert:hover {\n",
              "      background-color: #E2EBFA;\n",
              "      box-shadow: 0px 1px 2px rgba(60, 64, 67, 0.3), 0px 1px 3px 1px rgba(60, 64, 67, 0.15);\n",
              "      fill: #174EA6;\n",
              "    }\n",
              "\n",
              "    .colab-df-buttons div {\n",
              "      margin-bottom: 4px;\n",
              "    }\n",
              "\n",
              "    [theme=dark] .colab-df-convert {\n",
              "      background-color: #3B4455;\n",
              "      fill: #D2E3FC;\n",
              "    }\n",
              "\n",
              "    [theme=dark] .colab-df-convert:hover {\n",
              "      background-color: #434B5C;\n",
              "      box-shadow: 0px 1px 3px 1px rgba(0, 0, 0, 0.15);\n",
              "      filter: drop-shadow(0px 1px 2px rgba(0, 0, 0, 0.3));\n",
              "      fill: #FFFFFF;\n",
              "    }\n",
              "  </style>\n",
              "\n",
              "    <script>\n",
              "      const buttonEl =\n",
              "        document.querySelector('#df-e601eda7-7dcf-4d03-ab85-a9e3c2f9eadf button.colab-df-convert');\n",
              "      buttonEl.style.display =\n",
              "        google.colab.kernel.accessAllowed ? 'block' : 'none';\n",
              "\n",
              "      async function convertToInteractive(key) {\n",
              "        const element = document.querySelector('#df-e601eda7-7dcf-4d03-ab85-a9e3c2f9eadf');\n",
              "        const dataTable =\n",
              "          await google.colab.kernel.invokeFunction('convertToInteractive',\n",
              "                                                    [key], {});\n",
              "        if (!dataTable) return;\n",
              "\n",
              "        const docLinkHtml = 'Like what you see? Visit the ' +\n",
              "          '<a target=\"_blank\" href=https://colab.research.google.com/notebooks/data_table.ipynb>data table notebook</a>'\n",
              "          + ' to learn more about interactive tables.';\n",
              "        element.innerHTML = '';\n",
              "        dataTable['output_type'] = 'display_data';\n",
              "        await google.colab.output.renderOutput(dataTable, element);\n",
              "        const docLink = document.createElement('div');\n",
              "        docLink.innerHTML = docLinkHtml;\n",
              "        element.appendChild(docLink);\n",
              "      }\n",
              "    </script>\n",
              "  </div>\n",
              "\n",
              "\n",
              "<div id=\"df-5f9a9d86-be89-45bb-b028-d2a3e134f3b8\">\n",
              "  <button class=\"colab-df-quickchart\" onclick=\"quickchart('df-5f9a9d86-be89-45bb-b028-d2a3e134f3b8')\"\n",
              "            title=\"Suggest charts\"\n",
              "            style=\"display:none;\">\n",
              "\n",
              "<svg xmlns=\"http://www.w3.org/2000/svg\" height=\"24px\"viewBox=\"0 0 24 24\"\n",
              "     width=\"24px\">\n",
              "    <g>\n",
              "        <path d=\"M19 3H5c-1.1 0-2 .9-2 2v14c0 1.1.9 2 2 2h14c1.1 0 2-.9 2-2V5c0-1.1-.9-2-2-2zM9 17H7v-7h2v7zm4 0h-2V7h2v10zm4 0h-2v-4h2v4z\"/>\n",
              "    </g>\n",
              "</svg>\n",
              "  </button>\n",
              "\n",
              "<style>\n",
              "  .colab-df-quickchart {\n",
              "      --bg-color: #E8F0FE;\n",
              "      --fill-color: #1967D2;\n",
              "      --hover-bg-color: #E2EBFA;\n",
              "      --hover-fill-color: #174EA6;\n",
              "      --disabled-fill-color: #AAA;\n",
              "      --disabled-bg-color: #DDD;\n",
              "  }\n",
              "\n",
              "  [theme=dark] .colab-df-quickchart {\n",
              "      --bg-color: #3B4455;\n",
              "      --fill-color: #D2E3FC;\n",
              "      --hover-bg-color: #434B5C;\n",
              "      --hover-fill-color: #FFFFFF;\n",
              "      --disabled-bg-color: #3B4455;\n",
              "      --disabled-fill-color: #666;\n",
              "  }\n",
              "\n",
              "  .colab-df-quickchart {\n",
              "    background-color: var(--bg-color);\n",
              "    border: none;\n",
              "    border-radius: 50%;\n",
              "    cursor: pointer;\n",
              "    display: none;\n",
              "    fill: var(--fill-color);\n",
              "    height: 32px;\n",
              "    padding: 0;\n",
              "    width: 32px;\n",
              "  }\n",
              "\n",
              "  .colab-df-quickchart:hover {\n",
              "    background-color: var(--hover-bg-color);\n",
              "    box-shadow: 0 1px 2px rgba(60, 64, 67, 0.3), 0 1px 3px 1px rgba(60, 64, 67, 0.15);\n",
              "    fill: var(--button-hover-fill-color);\n",
              "  }\n",
              "\n",
              "  .colab-df-quickchart-complete:disabled,\n",
              "  .colab-df-quickchart-complete:disabled:hover {\n",
              "    background-color: var(--disabled-bg-color);\n",
              "    fill: var(--disabled-fill-color);\n",
              "    box-shadow: none;\n",
              "  }\n",
              "\n",
              "  .colab-df-spinner {\n",
              "    border: 2px solid var(--fill-color);\n",
              "    border-color: transparent;\n",
              "    border-bottom-color: var(--fill-color);\n",
              "    animation:\n",
              "      spin 1s steps(1) infinite;\n",
              "  }\n",
              "\n",
              "  @keyframes spin {\n",
              "    0% {\n",
              "      border-color: transparent;\n",
              "      border-bottom-color: var(--fill-color);\n",
              "      border-left-color: var(--fill-color);\n",
              "    }\n",
              "    20% {\n",
              "      border-color: transparent;\n",
              "      border-left-color: var(--fill-color);\n",
              "      border-top-color: var(--fill-color);\n",
              "    }\n",
              "    30% {\n",
              "      border-color: transparent;\n",
              "      border-left-color: var(--fill-color);\n",
              "      border-top-color: var(--fill-color);\n",
              "      border-right-color: var(--fill-color);\n",
              "    }\n",
              "    40% {\n",
              "      border-color: transparent;\n",
              "      border-right-color: var(--fill-color);\n",
              "      border-top-color: var(--fill-color);\n",
              "    }\n",
              "    60% {\n",
              "      border-color: transparent;\n",
              "      border-right-color: var(--fill-color);\n",
              "    }\n",
              "    80% {\n",
              "      border-color: transparent;\n",
              "      border-right-color: var(--fill-color);\n",
              "      border-bottom-color: var(--fill-color);\n",
              "    }\n",
              "    90% {\n",
              "      border-color: transparent;\n",
              "      border-bottom-color: var(--fill-color);\n",
              "    }\n",
              "  }\n",
              "</style>\n",
              "\n",
              "  <script>\n",
              "    async function quickchart(key) {\n",
              "      const quickchartButtonEl =\n",
              "        document.querySelector('#' + key + ' button');\n",
              "      quickchartButtonEl.disabled = true;  // To prevent multiple clicks.\n",
              "      quickchartButtonEl.classList.add('colab-df-spinner');\n",
              "      try {\n",
              "        const charts = await google.colab.kernel.invokeFunction(\n",
              "            'suggestCharts', [key], {});\n",
              "      } catch (error) {\n",
              "        console.error('Error during call to suggestCharts:', error);\n",
              "      }\n",
              "      quickchartButtonEl.classList.remove('colab-df-spinner');\n",
              "      quickchartButtonEl.classList.add('colab-df-quickchart-complete');\n",
              "    }\n",
              "    (() => {\n",
              "      let quickchartButtonEl =\n",
              "        document.querySelector('#df-5f9a9d86-be89-45bb-b028-d2a3e134f3b8 button');\n",
              "      quickchartButtonEl.style.display =\n",
              "        google.colab.kernel.accessAllowed ? 'block' : 'none';\n",
              "    })();\n",
              "  </script>\n",
              "</div>\n",
              "    </div>\n",
              "  </div>\n"
            ]
          },
          "metadata": {},
          "execution_count": 12
        }
      ]
    },
    {
      "cell_type": "code",
      "source": [
        "# 2.2 Read the text column:\n",
        "\n",
        "lines = data['text']"
      ],
      "metadata": {
        "id": "l1nFLLQe0ApS"
      },
      "execution_count": 13,
      "outputs": []
    },
    {
      "cell_type": "code",
      "source": [
        "#text_file = open(\"reviews.txt\", \"r\")\n",
        "#lines = text_file.readlines()"
      ],
      "metadata": {
        "id": "vpEjwe2YvLRc"
      },
      "execution_count": null,
      "outputs": []
    },
    {
      "cell_type": "code",
      "source": [
        "# 2.3 Select relevant parameters:\n",
        "\n",
        "maxlen = 500                  # Maximum length of reviews. A review greater than maxlen\n",
        "                              #  will be truncated\n",
        "max_words = 10000             # We will only consider the top max_words in the dataset"
      ],
      "metadata": {
        "id": "y2Jis4Bl0FUL"
      },
      "execution_count": 14,
      "outputs": []
    },
    {
      "cell_type": "code",
      "source": [
        "# 3.0 Instantiate Tokenizer class\n",
        "tokenizer = Tokenizer(num_words=max_words)"
      ],
      "metadata": {
        "id": "pPyRHiAC0Lee"
      },
      "execution_count": 15,
      "outputs": []
    },
    {
      "cell_type": "code",
      "source": [
        "# 3.1 Fit it on text\n",
        "\n",
        "tokenizer.fit_on_texts(lines)"
      ],
      "metadata": {
        "id": "xfcZervj0NQP"
      },
      "execution_count": 16,
      "outputs": []
    },
    {
      "cell_type": "code",
      "source": [
        "# 3.2 Transform text, tweet by tweet, as a list of numbers:\n",
        "\n",
        "sequences = tokenizer.texts_to_sequences(lines)\n",
        "print(sequences[:3])  # Print top 3-comments/tweets"
      ],
      "metadata": {
        "id": "1bnpcFjU0PxZ",
        "colab": {
          "base_uri": "https://localhost:8080/"
        },
        "outputId": "49fbff72-3d1e-4ade-fdfa-0e13adad09bd"
      },
      "execution_count": 33,
      "outputs": [
        {
          "output_type": "stream",
          "name": "stdout",
          "text": [
            "[[34, 816, 5, 1518, 133, 98], [116, 5938, 25, 4, 878, 8, 22, 255, 154, 1821, 3836, 90, 43], [381, 56, 255, 11, 1317, 1822, 660, 1519, 275]]\n"
          ]
        }
      ]
    },
    {
      "cell_type": "code",
      "source": [
        "# 3.3 How many tweets have been read:\n",
        "\n",
        "len(sequences)\n"
      ],
      "metadata": {
        "colab": {
          "base_uri": "https://localhost:8080/"
        },
        "id": "wbE3fzAG_o0H",
        "outputId": "c7b3d57d-02e1-4ed3-a44c-58e2ee2964b1"
      },
      "execution_count": 35,
      "outputs": [
        {
          "output_type": "execute_result",
          "data": {
            "text/plain": [
              "10875"
            ]
          },
          "metadata": {},
          "execution_count": 35
        }
      ]
    },
    {
      "cell_type": "markdown",
      "source": [
        "## Pad all sequences to same length"
      ],
      "metadata": {
        "id": "hsGP1VoKPytk"
      }
    },
    {
      "cell_type": "code",
      "source": [
        "# 4.0 Trasnform sequences to sameLengthSequences :\n",
        "sameLengthSequences = pad_sequences(sequences, maxlen=maxlen)"
      ],
      "metadata": {
        "id": "m5GnFqcr0SFT"
      },
      "execution_count": 22,
      "outputs": []
    },
    {
      "cell_type": "code",
      "source": [
        "# 4.1 Join every number in a sequence using semicolon:\n",
        "#     The three sequences: [[0,0,23,45], [89,76,33,44],[49,98,34,22]]\n",
        "#     become:              [[0;0;23;45], [89;76;33;44],[49;98;34;22]]\n",
        "\n",
        "sequencesToStrings = []\n",
        "for row in sameLengthSequences:\n",
        "    sequencesToStrings.append(';'.join(str(col) for col in row))"
      ],
      "metadata": {
        "id": "G4Wl_LTE0VZ-"
      },
      "execution_count": 23,
      "outputs": []
    },
    {
      "cell_type": "markdown",
      "source": [
        "## Save file"
      ],
      "metadata": {
        "id": "IPdCa5JNTAUU"
      }
    },
    {
      "cell_type": "code",
      "execution_count": 24,
      "metadata": {
        "id": "u1dqfPURo3RF"
      },
      "outputs": [],
      "source": [
        "# 4.2 Our csv file:\n",
        "\n",
        "csvfile = \"processed.csv\""
      ]
    },
    {
      "cell_type": "code",
      "source": [
        "#with open(csvfile, \"w\") as output:\n",
        "#    writer = csv.writer(output, lineterminator='\\n')\n",
        "#    for val in sequencesToStrings:\n",
        "#        writer.writerow([val])"
      ],
      "metadata": {
        "id": "-FxESG8X0lLY"
      },
      "execution_count": 25,
      "outputs": []
    },
    {
      "cell_type": "code",
      "source": [
        "# 4.3 Create a blank dataframe\n",
        "s = pd.DataFrame()"
      ],
      "metadata": {
        "id": "QvWeZFEN0nQC"
      },
      "execution_count": 26,
      "outputs": []
    },
    {
      "cell_type": "code",
      "source": [
        "# 4.4 One column is text column\n",
        "s['text'] = sequencesToStrings"
      ],
      "metadata": {
        "id": "L-dPSBzn0qP5"
      },
      "execution_count": 27,
      "outputs": []
    },
    {
      "cell_type": "code",
      "source": [
        "# 4.5 The other is label column:\n",
        "s['label'] = data['class_label']\n",
        "s.head()"
      ],
      "metadata": {
        "id": "LkzM9frl1Rjn"
      },
      "execution_count": 29,
      "outputs": []
    },
    {
      "cell_type": "code",
      "source": [
        "# 4.6 Save the file appropriately:\n",
        "#     It is saved to /content folder:\n",
        "\n",
        "s.to_csv(csvfile, index = False)"
      ],
      "metadata": {
        "id": "CPXZBESF1egG"
      },
      "execution_count": 32,
      "outputs": []
    },
    {
      "cell_type": "markdown",
      "source": [
        "## Steps to take now:"
      ],
      "metadata": {
        "id": "tc8PwPCpCIss"
      }
    },
    {
      "cell_type": "markdown",
      "source": [
        "DLS for tabular data\n",
        "====================\n",
        " USe Chrome Browser\n",
        "\n",
        " Steps:<br>\n",
        " 1.0 Rename your processed .csv file as 'train.csv'  \n",
        " 2.0 Place your train.csv in an empty folder  \n",
        " 3.0 Name of this folder will be the name of your dataset in the DLS. So rename the folder, if needed.  \n",
        " 4.0 zip the folder  \n",
        " 5.0 Upload the zipped folder in DLS with  DLS Native\n",
        "     While uploading select DLS Native dataset option\n",
        " 6.0 Create a project and develop model as usual. To start with you can use the same model as in DLS for IMDB dataset.IMDB dataset is very large (15000 training samples) as ours of just 2000 samples. Try to make this sample alsolarge.\n",
        "\n",
        "\n"
      ],
      "metadata": {
        "id": "dWfXkfs7CfCv"
      }
    },
    {
      "cell_type": "code",
      "source": [
        "########## DONE ############"
      ],
      "metadata": {
        "id": "JkO6igAFCLZz"
      },
      "execution_count": null,
      "outputs": []
    }
  ]
}