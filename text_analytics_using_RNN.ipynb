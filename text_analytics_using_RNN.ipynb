{
  "nbformat": 4,
  "nbformat_minor": 0,
  "metadata": {
    "colab": {
      "provenance": [],
      "collapsed_sections": [],
      "authorship_tag": "ABX9TyNf8bg5YYnN7NzYdSg8TTnO",
      "include_colab_link": true
    },
    "kernelspec": {
      "name": "python3",
      "display_name": "Python 3"
    },
    "language_info": {
      "name": "python"
    }
  },
  "cells": [
    {
      "cell_type": "markdown",
      "metadata": {
        "id": "view-in-github",
        "colab_type": "text"
      },
      "source": [
        "<a href=\"https://colab.research.google.com/github/harnalashok/deeplearning-sequences/blob/main/text_analytics_using_RNN.ipynb\" target=\"_parent\"><img src=\"https://colab.research.google.com/assets/colab-badge.svg\" alt=\"Open In Colab\"/></a>"
      ]
    },
    {
      "cell_type": "code",
      "execution_count": null,
      "metadata": {
        "id": "U6QdDla8ybXG"
      },
      "outputs": [],
      "source": [
        "# https://www.tensorflow.org/text/tutorials/text_classification_rnn\n",
        "# Text classification with an RNN\n",
        "# List of tensorflow datasets is here:\n",
        "#  https://www.tensorflow.org/datasets/catalog/overview#all_datasets"
      ]
    },
    {
      "cell_type": "code",
      "source": [
        "import tensorflow as tf\n",
        "import pathlib\n",
        "import tensorflow_datasets as tfds\n"
      ],
      "metadata": {
        "id": "2A9OOAQL1FZr"
      },
      "execution_count": 54,
      "outputs": []
    },
    {
      "cell_type": "code",
      "source": [
        "from IPython.core.interactiveshell import InteractiveShell\n",
        "InteractiveShell.ast_node_interactivity = \"all\"\n"
      ],
      "metadata": {
        "id": "WqGaKIWSVBfL"
      },
      "execution_count": 55,
      "outputs": []
    },
    {
      "cell_type": "markdown",
      "source": [
        "## Load the dataset"
      ],
      "metadata": {
        "id": "suBjhwc4oQV7"
      }
    },
    {
      "cell_type": "markdown",
      "source": [
        "[tfds.load](https://www.tensorflow.org/datasets/api_docs/python/tfds/load)\n",
        "\n",
        "The easiest way of loading a dataset is tfds.load. It will:\n",
        "\n",
        "    Download the data and save it as tfrecord files.\n",
        "    Load the tfrecord and create the tf.data.Dataset.\n",
        "\n",
        "It returns, `tf.data.Dataset`, the dataset requested.\n",
        "    \n"
      ],
      "metadata": {
        "id": "RrRnELM3TUsA"
      }
    },
    {
      "cell_type": "markdown",
      "source": [
        "List of available tfs datasets is [here](https://www.tensorflow.org/datasets/catalog/overview#all_datasets)"
      ],
      "metadata": {
        "id": "Zs6aTGhUdshY"
      }
    },
    {
      "cell_type": "code",
      "source": [
        "# Load imdb reviews dataset:\n",
        "\n",
        "dataset = tfds.load(\"imdb_reviews\",\n",
        "                    split = None,          # If None, will return all \n",
        "                                           #   splits in a Dict format\n",
        "                    data_dir = \"/content/\", # Dir where to cache data\n",
        "                    as_supervised = True    # The returned tf.data.Dataset \n",
        "                                            #   will have a 2-tuple structure \n",
        "                                            #    (input, label) \n",
        "                    )\n"
      ],
      "metadata": {
        "id": "dCqhSTA6P4Xf"
      },
      "execution_count": 56,
      "outputs": []
    },
    {
      "cell_type": "code",
      "source": [
        "dataset.keys()"
      ],
      "metadata": {
        "colab": {
          "base_uri": "https://localhost:8080/"
        },
        "id": "ec5Yayv5U2iq",
        "outputId": "5be62d55-b586-4fcf-ca5e-da5c5835ce94"
      },
      "execution_count": 57,
      "outputs": [
        {
          "output_type": "execute_result",
          "data": {
            "text/plain": [
              "dict_keys(['train', 'test', 'unsupervised'])"
            ]
          },
          "metadata": {},
          "execution_count": 57
        }
      ]
    },
    {
      "cell_type": "code",
      "source": [
        "train = dataset[\"train\"] ; test = dataset[\"test\"]"
      ],
      "metadata": {
        "id": "5e6sFquC1aAq"
      },
      "execution_count": 58,
      "outputs": []
    },
    {
      "cell_type": "code",
      "source": [
        "# What are the types of train and test?\n",
        "\n",
        "type(train)\n",
        "print()\n",
        "type(test)"
      ],
      "metadata": {
        "colab": {
          "base_uri": "https://localhost:8080/"
        },
        "id": "nRr-2xAFZJ-g",
        "outputId": "60728ca4-7065-4b2d-9ac4-3120f8f3b886"
      },
      "execution_count": 59,
      "outputs": [
        {
          "output_type": "execute_result",
          "data": {
            "text/plain": [
              "tensorflow.python.data.ops.dataset_ops.PrefetchDataset"
            ]
          },
          "metadata": {},
          "execution_count": 59
        },
        {
          "output_type": "stream",
          "name": "stdout",
          "text": [
            "\n"
          ]
        },
        {
          "output_type": "execute_result",
          "data": {
            "text/plain": [
              "tensorflow.python.data.ops.dataset_ops.PrefetchDataset"
            ]
          },
          "metadata": {},
          "execution_count": 59
        }
      ]
    },
    {
      "cell_type": "code",
      "source": [
        "# Look at one element of train\n",
        "train.element_spec"
      ],
      "metadata": {
        "colab": {
          "base_uri": "https://localhost:8080/"
        },
        "id": "PbvkVDbtZgzR",
        "outputId": "8ed3e195-10eb-45cd-d206-bab817c1b98c"
      },
      "execution_count": 60,
      "outputs": [
        {
          "output_type": "execute_result",
          "data": {
            "text/plain": [
              "(TensorSpec(shape=(), dtype=tf.string, name=None),\n",
              " TensorSpec(shape=(), dtype=tf.int64, name=None))"
            ]
          },
          "metadata": {},
          "execution_count": 60
        }
      ]
    },
    {
      "cell_type": "code",
      "source": [
        "for i, j in train.take(2):\n",
        "  print(i, i.numpy())\n",
        "  print(j, j.numpy())"
      ],
      "metadata": {
        "colab": {
          "base_uri": "https://localhost:8080/"
        },
        "id": "pyTI1UP8ZmZA",
        "outputId": "1b3d8a36-52a6-41ad-ac6d-a6dde89a267c"
      },
      "execution_count": 61,
      "outputs": [
        {
          "output_type": "stream",
          "name": "stdout",
          "text": [
            "tf.Tensor(b\"This was an absolutely terrible movie. Don't be lured in by Christopher Walken or Michael Ironside. Both are great actors, but this must simply be their worst role in history. Even their great acting could not redeem this movie's ridiculous storyline. This movie is an early nineties US propaganda piece. The most pathetic scenes were those when the Columbian rebels were making their cases for revolutions. Maria Conchita Alonso appeared phony, and her pseudo-love affair with Walken was nothing but a pathetic emotional plug in a movie that was devoid of any real meaning. I am disappointed that there are movies like this, ruining actor's like Christopher Walken's good name. I could barely sit through it.\", shape=(), dtype=string) b\"This was an absolutely terrible movie. Don't be lured in by Christopher Walken or Michael Ironside. Both are great actors, but this must simply be their worst role in history. Even their great acting could not redeem this movie's ridiculous storyline. This movie is an early nineties US propaganda piece. The most pathetic scenes were those when the Columbian rebels were making their cases for revolutions. Maria Conchita Alonso appeared phony, and her pseudo-love affair with Walken was nothing but a pathetic emotional plug in a movie that was devoid of any real meaning. I am disappointed that there are movies like this, ruining actor's like Christopher Walken's good name. I could barely sit through it.\"\n",
            "tf.Tensor(0, shape=(), dtype=int64) 0\n",
            "tf.Tensor(b'I have been known to fall asleep during films, but this is usually due to a combination of things including, really tired, being warm and comfortable on the sette and having just eaten a lot. However on this occasion I fell asleep because the film was rubbish. The plot development was constant. Constantly slow and boring. Things seemed to happen, but with no explanation of what was causing them or why. I admit, I may have missed part of the film, but i watched the majority of it and everything just seemed to happen of its own accord without any real concern for anything else. I cant recommend this film at all.', shape=(), dtype=string) b'I have been known to fall asleep during films, but this is usually due to a combination of things including, really tired, being warm and comfortable on the sette and having just eaten a lot. However on this occasion I fell asleep because the film was rubbish. The plot development was constant. Constantly slow and boring. Things seemed to happen, but with no explanation of what was causing them or why. I admit, I may have missed part of the film, but i watched the majority of it and everything just seemed to happen of its own accord without any real concern for anything else. I cant recommend this film at all.'\n",
            "tf.Tensor(0, shape=(), dtype=int64) 0\n"
          ]
        }
      ]
    },
    {
      "cell_type": "code",
      "source": [
        "next(iter(train))"
      ],
      "metadata": {
        "colab": {
          "base_uri": "https://localhost:8080/"
        },
        "id": "q_QvhaZeelUn",
        "outputId": "d7d40623-ee08-468a-99b6-65c77c3b1017"
      },
      "execution_count": 62,
      "outputs": [
        {
          "output_type": "execute_result",
          "data": {
            "text/plain": [
              "(<tf.Tensor: shape=(), dtype=string, numpy=b\"This was an absolutely terrible movie. Don't be lured in by Christopher Walken or Michael Ironside. Both are great actors, but this must simply be their worst role in history. Even their great acting could not redeem this movie's ridiculous storyline. This movie is an early nineties US propaganda piece. The most pathetic scenes were those when the Columbian rebels were making their cases for revolutions. Maria Conchita Alonso appeared phony, and her pseudo-love affair with Walken was nothing but a pathetic emotional plug in a movie that was devoid of any real meaning. I am disappointed that there are movies like this, ruining actor's like Christopher Walken's good name. I could barely sit through it.\">,\n",
              " <tf.Tensor: shape=(), dtype=int64, numpy=0>)"
            ]
          },
          "metadata": {},
          "execution_count": 62
        }
      ]
    },
    {
      "cell_type": "code",
      "source": [
        "# Cons\n",
        "VOCAB_SIZE = 5000"
      ],
      "metadata": {
        "id": "gBOHjie2y9OC"
      },
      "execution_count": 64,
      "outputs": []
    },
    {
      "cell_type": "markdown",
      "source": [
        "[tf.keras.layers.TextVectorization<br>](https://www.tensorflow.org/api_docs/python/tf/keras/layers/TextVectorization)\n",
        "A preprocessing layer which maps text features to integer sequences."
      ],
      "metadata": {
        "id": "vxopEjYW3tUo"
      }
    },
    {
      "cell_type": "code",
      "source": [
        "# Create layer object:\n",
        "tv = tf.keras.layers.TextVectorization(\n",
        "                                       max_tokens= VOCAB_SIZE,\n",
        "                                       standardize='lower_and_strip_punctuation',\n",
        "                                       split='whitespace',\n",
        "                                       ngrams=None,\n",
        "                                       output_mode='int',\n",
        "                                       output_sequence_length=200,\n",
        "                                       pad_to_max_tokens=False,\n",
        "                                       vocabulary=None,\n",
        "                                       idf_weights=None,\n",
        "                                       sparse=False,\n",
        "                                       ragged=False,\n",
        "                                      )\n"
      ],
      "metadata": {
        "id": "OSljxcjF1r1C"
      },
      "execution_count": 70,
      "outputs": []
    },
    {
      "cell_type": "code",
      "source": [
        "tv.adapt(train.map(lambda text, label: text))\n"
      ],
      "metadata": {
        "id": "H6Rdqq3z7CzM"
      },
      "execution_count": 73,
      "outputs": []
    },
    {
      "cell_type": "code",
      "source": [
        "tv.get_vocabulary()[:10]"
      ],
      "metadata": {
        "colab": {
          "base_uri": "https://localhost:8080/"
        },
        "id": "2aBb7kQ_7QlM",
        "outputId": "9ff379ed-eb91-4066-98ce-eef4f676ef48"
      },
      "execution_count": 75,
      "outputs": [
        {
          "output_type": "execute_result",
          "data": {
            "text/plain": [
              "['', '[UNK]', 'the', 'and', 'a', 'of', 'to', 'is', 'in', 'it']"
            ]
          },
          "metadata": {},
          "execution_count": 75
        }
      ]
    },
    {
      "cell_type": "markdown",
      "source": [
        "Once the vocabulary is set, the layer can encode text into indices. The tensors of indices are 0-padded to the longest sequence in the batch (unless you set a fixed output_sequence_length):"
      ],
      "metadata": {
        "id": "83cUHm--7jbN"
      }
    },
    {
      "cell_type": "code",
      "source": [
        "tv([[\"This is good\"], [\"This is not good\"]])"
      ],
      "metadata": {
        "colab": {
          "base_uri": "https://localhost:8080/"
        },
        "id": "gBSOUmjn7k68",
        "outputId": "cc3f58db-ee7e-4ccf-bca6-c0835659e8f0"
      },
      "execution_count": 78,
      "outputs": [
        {
          "output_type": "execute_result",
          "data": {
            "text/plain": [
              "<tf.Tensor: shape=(2, 200), dtype=int64, numpy=\n",
              "array([[11,  7, 50,  0,  0,  0,  0,  0,  0,  0,  0,  0,  0,  0,  0,  0,\n",
              "         0,  0,  0,  0,  0,  0,  0,  0,  0,  0,  0,  0,  0,  0,  0,  0,\n",
              "         0,  0,  0,  0,  0,  0,  0,  0,  0,  0,  0,  0,  0,  0,  0,  0,\n",
              "         0,  0,  0,  0,  0,  0,  0,  0,  0,  0,  0,  0,  0,  0,  0,  0,\n",
              "         0,  0,  0,  0,  0,  0,  0,  0,  0,  0,  0,  0,  0,  0,  0,  0,\n",
              "         0,  0,  0,  0,  0,  0,  0,  0,  0,  0,  0,  0,  0,  0,  0,  0,\n",
              "         0,  0,  0,  0,  0,  0,  0,  0,  0,  0,  0,  0,  0,  0,  0,  0,\n",
              "         0,  0,  0,  0,  0,  0,  0,  0,  0,  0,  0,  0,  0,  0,  0,  0,\n",
              "         0,  0,  0,  0,  0,  0,  0,  0,  0,  0,  0,  0,  0,  0,  0,  0,\n",
              "         0,  0,  0,  0,  0,  0,  0,  0,  0,  0,  0,  0,  0,  0,  0,  0,\n",
              "         0,  0,  0,  0,  0,  0,  0,  0,  0,  0,  0,  0,  0,  0,  0,  0,\n",
              "         0,  0,  0,  0,  0,  0,  0,  0,  0,  0,  0,  0,  0,  0,  0,  0,\n",
              "         0,  0,  0,  0,  0,  0,  0,  0],\n",
              "       [11,  7, 22, 50,  0,  0,  0,  0,  0,  0,  0,  0,  0,  0,  0,  0,\n",
              "         0,  0,  0,  0,  0,  0,  0,  0,  0,  0,  0,  0,  0,  0,  0,  0,\n",
              "         0,  0,  0,  0,  0,  0,  0,  0,  0,  0,  0,  0,  0,  0,  0,  0,\n",
              "         0,  0,  0,  0,  0,  0,  0,  0,  0,  0,  0,  0,  0,  0,  0,  0,\n",
              "         0,  0,  0,  0,  0,  0,  0,  0,  0,  0,  0,  0,  0,  0,  0,  0,\n",
              "         0,  0,  0,  0,  0,  0,  0,  0,  0,  0,  0,  0,  0,  0,  0,  0,\n",
              "         0,  0,  0,  0,  0,  0,  0,  0,  0,  0,  0,  0,  0,  0,  0,  0,\n",
              "         0,  0,  0,  0,  0,  0,  0,  0,  0,  0,  0,  0,  0,  0,  0,  0,\n",
              "         0,  0,  0,  0,  0,  0,  0,  0,  0,  0,  0,  0,  0,  0,  0,  0,\n",
              "         0,  0,  0,  0,  0,  0,  0,  0,  0,  0,  0,  0,  0,  0,  0,  0,\n",
              "         0,  0,  0,  0,  0,  0,  0,  0,  0,  0,  0,  0,  0,  0,  0,  0,\n",
              "         0,  0,  0,  0,  0,  0,  0,  0,  0,  0,  0,  0,  0,  0,  0,  0,\n",
              "         0,  0,  0,  0,  0,  0,  0,  0]])>"
            ]
          },
          "metadata": {},
          "execution_count": 78
        }
      ]
    },
    {
      "cell_type": "code",
      "source": [
        "tv()"
      ],
      "metadata": {
        "id": "KXvsEMb48J7F"
      },
      "execution_count": null,
      "outputs": []
    },
    {
      "cell_type": "markdown",
      "source": [
        "### Labeling each example"
      ],
      "metadata": {
        "id": "hgy9d9Nn9E8w"
      }
    },
    {
      "cell_type": "code",
      "source": [
        "# tf.cast casts a tensor to a new datatype:\n",
        "#  tf.int32, tf.int64, tf.float64 etc\n",
        "\n",
        "tf.cast(1, tf.int64)\n",
        "tf.cast(1.2, tf.float64)"
      ],
      "metadata": {
        "colab": {
          "base_uri": "https://localhost:8080/"
        },
        "id": "7PvfglDaUaZQ",
        "outputId": "92559602-5683-4447-dc2f-01e8774af215"
      },
      "execution_count": null,
      "outputs": [
        {
          "output_type": "execute_result",
          "data": {
            "text/plain": [
              "<tf.Tensor: shape=(), dtype=float64, numpy=1.2000000476837158>"
            ]
          },
          "metadata": {},
          "execution_count": 8
        }
      ]
    },
    {
      "cell_type": "code",
      "source": [
        "# Define a labeler function:\n",
        "#  example is a tf.data.Dataset\n",
        "#    having many examples:\n",
        "#     Label each one with 'index' after\n",
        "#      it is cast to integer (tensorflow):\n",
        "\n",
        "def labeler(example, index):\n",
        "  return example, tf.cast(index, tf.int64)\n"
      ],
      "metadata": {
        "id": "mjOxNXfM2QAb"
      },
      "execution_count": null,
      "outputs": []
    },
    {
      "cell_type": "markdown",
      "source": [
        "#### An example"
      ],
      "metadata": {
        "id": "K5Kiq6g-Ax_S"
      }
    },
    {
      "cell_type": "code",
      "source": [
        "# Create two tf.data.Datsets\n",
        "\n",
        "d1 = tf.data.Dataset.from_tensor_slices([1,2,3,4])\n",
        "d2 = tf.data.Dataset.from_tensor_slices([6,7,8,9])\n"
      ],
      "metadata": {
        "id": "Y0UHW_Fc27xe"
      },
      "execution_count": null,
      "outputs": []
    },
    {
      "cell_type": "code",
      "source": [
        "d1\n",
        "d2"
      ],
      "metadata": {
        "colab": {
          "base_uri": "https://localhost:8080/"
        },
        "id": "_Rt6miGx_lq5",
        "outputId": "f10f50a9-fc4e-4408-d02b-a9c899600d32"
      },
      "execution_count": null,
      "outputs": [
        {
          "output_type": "execute_result",
          "data": {
            "text/plain": [
              "<TensorSliceDataset element_spec=TensorSpec(shape=(), dtype=tf.int32, name=None)>"
            ]
          },
          "metadata": {},
          "execution_count": 13
        },
        {
          "output_type": "execute_result",
          "data": {
            "text/plain": [
              "<TensorSliceDataset element_spec=TensorSpec(shape=(), dtype=tf.int32, name=None)>"
            ]
          },
          "metadata": {},
          "execution_count": 13
        }
      ]
    },
    {
      "cell_type": "code",
      "source": [
        "# Print one element at a time:\n",
        "\n",
        "for i in d1.take(2):\n",
        "  print(i)"
      ],
      "metadata": {
        "colab": {
          "base_uri": "https://localhost:8080/"
        },
        "id": "hevC2twF-Qct",
        "outputId": "5cf72d34-d6c2-453e-9880-6305f9370d6e"
      },
      "execution_count": null,
      "outputs": [
        {
          "output_type": "stream",
          "name": "stdout",
          "text": [
            "tf.Tensor(1, shape=(), dtype=int32)\n",
            "tf.Tensor(2, shape=(), dtype=int32)\n"
          ]
        }
      ]
    },
    {
      "cell_type": "code",
      "source": [
        "# Use as_numpy_iterator():\n",
        "#  as_numpy_iterator() returns an iterator through which you can convert\n",
        "#   all elements of the dataset to numpy.\n",
        "\n",
        "list(d1.as_numpy_iterator())\n",
        "print(\"\\n======\\n\")\n",
        "for i in d1.as_numpy_iterator():\n",
        "  print(i)"
      ],
      "metadata": {
        "colab": {
          "base_uri": "https://localhost:8080/"
        },
        "id": "39MJLzCP95KT",
        "outputId": "d47d2586-8191-4bfb-b929-f0a73db40e49"
      },
      "execution_count": null,
      "outputs": [
        {
          "output_type": "execute_result",
          "data": {
            "text/plain": [
              "[1, 2, 3, 4]"
            ]
          },
          "metadata": {},
          "execution_count": 16
        },
        {
          "output_type": "stream",
          "name": "stdout",
          "text": [
            "\n",
            "======\n",
            "\n",
            "1\n",
            "2\n",
            "3\n",
            "4\n"
          ]
        }
      ]
    },
    {
      "cell_type": "markdown",
      "source": [
        "map() function:<br>\n",
        "See [here](https://www.tensorflow.org/api_docs/python/tf/data/Dataset#map) examples of map() usage<br>\n",
        "`map()` transformation applies `map_func` to each element of this dataset, and returns a new dataset containing the transformed elements, in the same order as they appeared in the input. `map_func` can be used to change both the values **and the structure** of a dataset's elements."
      ],
      "metadata": {
        "id": "uKU3FcLoBcb3"
      }
    },
    {
      "cell_type": "code",
      "source": [
        "# Apply labeler function:\n",
        "\n",
        "t = []\n",
        "for i,j in enumerate([d1,d2]):\n",
        "  t.append(j.map(lambda x: labeler(x,i)))"
      ],
      "metadata": {
        "id": "DiGtMAgR3QwE"
      },
      "execution_count": null,
      "outputs": []
    },
    {
      "cell_type": "code",
      "source": [
        "# Examine each labeled Dataset:\n",
        "\n",
        "for x in t:\n",
        "  print(list(x.as_numpy_iterator()))\n",
        "  print(type(x))"
      ],
      "metadata": {
        "colab": {
          "base_uri": "https://localhost:8080/"
        },
        "id": "aM-5ubxa4BV5",
        "outputId": "410054db-06f5-427d-89f6-a2b900b6708c"
      },
      "execution_count": null,
      "outputs": [
        {
          "output_type": "stream",
          "name": "stdout",
          "text": [
            "[(1, 0), (2, 0), (3, 0), (4, 0)]\n",
            "<class 'tensorflow.python.data.ops.dataset_ops.MapDataset'>\n",
            "[(6, 1), (7, 1), (8, 1), (9, 1)]\n",
            "<class 'tensorflow.python.data.ops.dataset_ops.MapDataset'>\n"
          ]
        }
      ]
    },
    {
      "cell_type": "code",
      "source": [
        "t = []\n",
        "for j in [d1,d2]:\n",
        "  t.append(j.map(lambda x: x+10))\n",
        "\n",
        "\n"
      ],
      "metadata": {
        "id": "vYQ1VwmMWSMa"
      },
      "execution_count": null,
      "outputs": []
    },
    {
      "cell_type": "code",
      "source": [
        "for j in t[0].as_numpy_iterator():\n",
        "  print(j)"
      ],
      "metadata": {
        "colab": {
          "base_uri": "https://localhost:8080/"
        },
        "id": "NM4vKIvTX4Cv",
        "outputId": "bb2ef519-fde4-4682-9df8-a1bdd3138b41"
      },
      "execution_count": null,
      "outputs": [
        {
          "output_type": "stream",
          "name": "stdout",
          "text": [
            "11\n",
            "12\n",
            "13\n",
            "14\n"
          ]
        }
      ]
    },
    {
      "cell_type": "markdown",
      "source": [
        "## Next, with our data"
      ],
      "metadata": {
        "id": "8kC1YKC0YJHp"
      }
    },
    {
      "cell_type": "code",
      "source": [
        "FILE_NAMES = ['cowper.txt', 'derby.txt', 'butler.txt']"
      ],
      "metadata": {
        "id": "TVL73tb9Ci23"
      },
      "execution_count": null,
      "outputs": []
    },
    {
      "cell_type": "code",
      "source": [
        "labeled_data_sets = []\n",
        "\n",
        "for i, file_name in enumerate(FILE_NAMES):\n",
        "  lines_dataset = tf.data.TextLineDataset(str(data_path / file_name))\n",
        "  labeled_dataset = lines_dataset.map(lambda ex: labeler(ex, i))\n",
        "  labeled_data_sets.append(labeled_dataset)"
      ],
      "metadata": {
        "id": "EQqlHqOY4m-8"
      },
      "execution_count": null,
      "outputs": []
    },
    {
      "cell_type": "code",
      "source": [
        "for text,label in labeled_data_sets[0].take(5):\n",
        "  print(text)\n",
        "  print(text.numpy())\n",
        "  print(label)\n",
        "  print(label.numpy())\n",
        "  print(\"\\n====\\n\")"
      ],
      "metadata": {
        "colab": {
          "base_uri": "https://localhost:8080/"
        },
        "id": "kDfZr9bg5CS4",
        "outputId": "1ec720fe-9698-41a3-8c05-790b6f088e52"
      },
      "execution_count": null,
      "outputs": [
        {
          "output_type": "stream",
          "name": "stdout",
          "text": [
            "tf.Tensor(b\"\\xef\\xbb\\xbfAchilles sing, O Goddess! Peleus' son;\", shape=(), dtype=string)\n",
            "b\"\\xef\\xbb\\xbfAchilles sing, O Goddess! Peleus' son;\"\n",
            "tf.Tensor(0, shape=(), dtype=int64)\n",
            "0\n",
            "tf.Tensor(b'His wrath pernicious, who ten thousand woes', shape=(), dtype=string)\n",
            "b'His wrath pernicious, who ten thousand woes'\n",
            "tf.Tensor(0, shape=(), dtype=int64)\n",
            "0\n",
            "tf.Tensor(b\"Caused to Achaia's host, sent many a soul\", shape=(), dtype=string)\n",
            "b\"Caused to Achaia's host, sent many a soul\"\n",
            "tf.Tensor(0, shape=(), dtype=int64)\n",
            "0\n",
            "tf.Tensor(b'Illustrious into Ades premature,', shape=(), dtype=string)\n",
            "b'Illustrious into Ades premature,'\n",
            "tf.Tensor(0, shape=(), dtype=int64)\n",
            "0\n",
            "tf.Tensor(b'And Heroes gave (so stood the will of Jove)', shape=(), dtype=string)\n",
            "b'And Heroes gave (so stood the will of Jove)'\n",
            "tf.Tensor(0, shape=(), dtype=int64)\n",
            "0\n"
          ]
        }
      ]
    },
    {
      "cell_type": "code",
      "source": [],
      "metadata": {
        "id": "MoeIqfA0E_yn"
      },
      "execution_count": null,
      "outputs": []
    },
    {
      "cell_type": "markdown",
      "source": [
        "## Prepare the dataset for training"
      ],
      "metadata": {
        "id": "qJwm3QMHY5OY"
      }
    },
    {
      "cell_type": "code",
      "source": [],
      "metadata": {
        "id": "9ysd2xObY54P"
      },
      "execution_count": null,
      "outputs": []
    }
  ]
}