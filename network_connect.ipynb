{
  "nbformat": 4,
  "nbformat_minor": 0,
  "metadata": {
    "colab": {
      "provenance": [],
      "collapsed_sections": [],
      "authorship_tag": "ABX9TyNZN5bO3aPixDKccQUCXOD6",
      "include_colab_link": true
    },
    "kernelspec": {
      "name": "python3",
      "display_name": "Python 3"
    },
    "language_info": {
      "name": "python"
    }
  },
  "cells": [
    {
      "cell_type": "markdown",
      "metadata": {
        "id": "view-in-github",
        "colab_type": "text"
      },
      "source": [
        "<a href=\"https://colab.research.google.com/github/harnalashok/deeplearning-sequences/blob/main/network_connect.ipynb\" target=\"_parent\"><img src=\"https://colab.research.google.com/assets/colab-badge.svg\" alt=\"Open In Colab\"/></a>"
      ]
    },
    {
      "cell_type": "code",
      "execution_count": null,
      "metadata": {
        "id": "u-_bbAbthq-e"
      },
      "outputs": [],
      "source": [
        "!pip install cdlib"
      ]
    },
    {
      "cell_type": "code",
      "source": [
        "from google.colab import drive\n",
        "drive.mount('/gdrive')"
      ],
      "metadata": {
        "colab": {
          "base_uri": "https://localhost:8080/"
        },
        "id": "w9i13zSOiEPI",
        "outputId": "16222344-d8f9-4362-d6fb-8d55e02811a8"
      },
      "execution_count": 2,
      "outputs": [
        {
          "output_type": "stream",
          "name": "stdout",
          "text": [
            "Mounted at /gdrive\n"
          ]
        }
      ]
    },
    {
      "cell_type": "code",
      "source": [
        "#%reset -f\n",
        "\n",
        "# 1.0 Call libraries\n",
        "import pandas as pd\n",
        "import numpy as np\n",
        "import networkx as nx\n",
        "\n",
        "# 1.01\n",
        "import joblib\n",
        "from collections import defaultdict\n",
        "\n",
        "# 1.02\n",
        "from sklearn.preprocessing import StandardScaler\n",
        "from sklearn.impute import SimpleImputer\n",
        "\n",
        "# 1.08 Misc\n",
        "import os,gc , time,  glob\n",
        "from os.path import exists\n",
        "import feather\n",
        "import re\n",
        "import ast\n"
      ],
      "metadata": {
        "id": "ODA6VbNOiozx"
      },
      "execution_count": 3,
      "outputs": []
    },
    {
      "cell_type": "code",
      "source": [
        "# Paths:\n",
        "modulePath = \"/gdrive/MyDrive/Colab_data_files/talkingData/03112022/\"\n",
        "dataPath = \"/gdrive/MyDrive/Colab_data_files/skipgram/\"\n",
        "modelsPath = \"/gdrive/MyDrive/Colab_data_files/skipgram/modelspath/\"\n",
        "pathToStoreProgress = \"/gdrive/MyDrive/Colab_data_files/skipgram/pathToStoreProgress/\"\n",
        "mapdictPath = \"/gdrive/MyDrive/Colab_data_files/skipgram/mapdictpath/\""
      ],
      "metadata": {
        "id": "F9OEHf3tk4b_"
      },
      "execution_count": 54,
      "outputs": []
    },
    {
      "cell_type": "code",
      "source": [
        "# 1.09 Home made modules\n",
        "os.chdir(modulePath)\n",
        "import network_features\n",
        "from network_features import *\n",
        "import utils\n",
        "from utils import *\n",
        "\n",
        "import importlib; importlib.reload(network_features)\n",
        "import importlib; importlib.reload(utils)"
      ],
      "metadata": {
        "colab": {
          "base_uri": "https://localhost:8080/"
        },
        "id": "J2f6c-HPi7aC",
        "outputId": "b0c4cfc0-4da1-4a77-9cc9-f1a271a192ae"
      },
      "execution_count": 55,
      "outputs": [
        {
          "output_type": "execute_result",
          "data": {
            "text/plain": [
              "<module 'utils' from '/gdrive/MyDrive/Colab_data_files/talkingData/03112022/utils.py'>"
            ]
          },
          "metadata": {},
          "execution_count": 55
        }
      ]
    },
    {
      "cell_type": "code",
      "source": [
        "# Cleaning up\n",
        "!rm -r -f /gdrive/MyDrive/Colab_data_files/skipgram/modelspath/\n",
        "!rm -r -f /gdrive/MyDrive/Colab_data_files/skipgram/pathToStoreProgress/\n",
        "!rm -r -f /gdrive/MyDrive/Colab_data_files/skipgram/mapdictpath/"
      ],
      "metadata": {
        "id": "K0SQjlyU7AFR"
      },
      "execution_count": 56,
      "outputs": []
    },
    {
      "cell_type": "code",
      "source": [
        "!rm -r -f /gdrive/MyDrive/Colab_data_files/skipgram/vectors.tsv\n",
        "!rm -r -f /gdrive/MyDrive/Colab_data_files/skipgram/metadata.tsv"
      ],
      "metadata": {
        "id": "6nLfB9QUwj7q"
      },
      "execution_count": 57,
      "outputs": []
    },
    {
      "cell_type": "code",
      "source": [
        "\n",
        "!mkdir /gdrive/MyDrive/Colab_data_files/skipgram/modelspath/\n",
        "!mkdir /gdrive/MyDrive/Colab_data_files/skipgram/pathToStoreProgress/\n",
        "!mkdir /gdrive/MyDrive/Colab_data_files/skipgram/mapdictpath/"
      ],
      "metadata": {
        "id": "3IR6J6Wqwhlt"
      },
      "execution_count": 58,
      "outputs": []
    },
    {
      "cell_type": "code",
      "source": [
        "# 8.0 Read back pkl file and dictionary:\n",
        "os.chdir(dataPath)\n",
        "train = pd.read_pickle(\"seq.pkl\")\n",
        "train.head()"
      ],
      "metadata": {
        "id": "WKA1JkstkqSz"
      },
      "execution_count": null,
      "outputs": []
    },
    {
      "cell_type": "code",
      "source": [
        "# Read dictionary\n",
        "os.chdir(dataPath)\n",
        "filehandler = open(\"word_index.txt\", 'r')\n",
        "word2index = filehandler.read()\n",
        "word2index"
      ],
      "metadata": {
        "id": "i4FjdGVtm1ms"
      },
      "execution_count": null,
      "outputs": []
    },
    {
      "cell_type": "code",
      "source": [
        "org_columns = train.columns\n",
        "cat_cols = ['a', 'b']"
      ],
      "metadata": {
        "id": "cC64egz8nEas"
      },
      "execution_count": 61,
      "outputs": []
    },
    {
      "cell_type": "code",
      "source": [
        "# 6.1 Create new columns (combinations of columns) in train\n",
        "train = utils.create_cat_pairwise_cols(train , cat_cols)"
      ],
      "metadata": {
        "id": "3LGMc_Rdn2sz"
      },
      "execution_count": 62,
      "outputs": []
    },
    {
      "cell_type": "code",
      "source": [
        "train.head()"
      ],
      "metadata": {
        "id": "nuOSCcrzn8Fr"
      },
      "execution_count": null,
      "outputs": []
    },
    {
      "cell_type": "code",
      "source": [
        "# 6.11 The train columns are:\n",
        "current_train_columns = train.columns\n",
        "# 6.12 New columns created. These columns must be latter dropped\n",
        "new_cols = list(set(current_train_columns).difference(set(org_columns)))\n",
        "# 6.13 Revised cat cols (ie excluding hour etc)\n",
        "cat_cols.extend(new_cols)\n",
        "len(cat_cols)   # 15\n",
        "cat_cols"
      ],
      "metadata": {
        "colab": {
          "base_uri": "https://localhost:8080/"
        },
        "id": "So7yOgyqn9zb",
        "outputId": "0918a8c7-9405-4983-d590-5a588af49af8"
      },
      "execution_count": 64,
      "outputs": [
        {
          "output_type": "execute_result",
          "data": {
            "text/plain": [
              "['a', 'b', 'a_p_b']"
            ]
          },
          "metadata": {},
          "execution_count": 64
        }
      ]
    },
    {
      "cell_type": "code",
      "source": [
        "# 8.1 Get all possibe permutation of our columns\n",
        "#     Also decide which all centrality measures to cal\n",
        "deg = 1    # Calculate degree centrality\n",
        "eig = 1    # Calculate eigenvector centrality\n",
        "pr =  1    # Calculate pagerank centrality\n",
        "clu = 0    # Clustering coeff centrality\n",
        "nf = None # nx.katz_centrality_numpy\n",
        "cMeasures = [deg,eig,pr,clu, nf]"
      ],
      "metadata": {
        "id": "5G7WEE8LoJF8"
      },
      "execution_count": 65,
      "outputs": []
    },
    {
      "cell_type": "code",
      "source": [
        "single_permute_list = utils.permute_colList(cat_cols,cMeasures)\n",
        "single_permute_list"
      ],
      "metadata": {
        "colab": {
          "base_uri": "https://localhost:8080/"
        },
        "id": "XQ-o1X9DoOKU",
        "outputId": "f06242ab-83eb-4d2f-a117-4cf5fbc78d40"
      },
      "execution_count": 66,
      "outputs": [
        {
          "output_type": "execute_result",
          "data": {
            "text/plain": [
              "[('a', 'b', [1, 1, 1, 0, None]),\n",
              " ('a', 'a_p_b', [1, 1, 1, 0, None]),\n",
              " ('b', 'a', [1, 1, 1, 0, None]),\n",
              " ('b', 'a_p_b', [1, 1, 1, 0, None]),\n",
              " ('a_p_b', 'a', [1, 1, 1, 0, None]),\n",
              " ('a_p_b', 'b', [1, 1, 1, 0, None])]"
            ]
          },
          "metadata": {},
          "execution_count": 66
        }
      ]
    },
    {
      "cell_type": "code",
      "source": [
        "len(single_permute_list)   # 6"
      ],
      "metadata": {
        "colab": {
          "base_uri": "https://localhost:8080/"
        },
        "id": "r3IruoUzoUFV",
        "outputId": "c3e5c1e6-5285-4a9a-b8b1-f21dae1f2c44"
      },
      "execution_count": 67,
      "outputs": [
        {
          "output_type": "execute_result",
          "data": {
            "text/plain": [
              "6"
            ]
          },
          "metadata": {},
          "execution_count": 67
        }
      ]
    },
    {
      "cell_type": "code",
      "source": [
        "spl = pd.DataFrame(single_permute_list, columns = [\"colToProject\", \"intermediaryCol\", \"cMeasures?\"])\n",
        "spl.shape   # (210, 4)\n",
        "spl"
      ],
      "metadata": {
        "id": "2H70LdI4oZs9"
      },
      "execution_count": null,
      "outputs": []
    },
    {
      "cell_type": "code",
      "source": [
        "X = train"
      ],
      "metadata": {
        "id": "ii0U0SZvvrSl"
      },
      "execution_count": 69,
      "outputs": []
    },
    {
      "cell_type": "code",
      "source": [
        "utils.ulevelsPerThreshold(X,'a_p_b', threshold_list = [0.00001, 0.0001, 0.0002, 0.000485,0.0005, 0.001, 0.01, 0.1, 0.15, 0.2])"
      ],
      "metadata": {
        "colab": {
          "base_uri": "https://localhost:8080/",
          "height": 394
        },
        "id": "_QrwLJTCvmEW",
        "outputId": "8a0fc14c-003a-4f70-b051-3d05a205339c"
      },
      "execution_count": 70,
      "outputs": [
        {
          "output_type": "execute_result",
          "data": {
            "text/plain": [
              "    apply %threshold  remaining_levels\n",
              "0           0.000000            184797\n",
              "1           0.000010            184798\n",
              "2           0.000100            184798\n",
              "3           0.000200            184798\n",
              "4           0.000485             13948\n",
              "5           0.000500             13948\n",
              "6           0.001000              3400\n",
              "7           0.010000                33\n",
              "8           0.100000                 1\n",
              "9           0.150000                 1\n",
              "10          0.200000                 1"
            ],
            "text/html": [
              "\n",
              "  <div id=\"df-b23df798-928b-45e8-bbe3-1bf663411f7f\">\n",
              "    <div class=\"colab-df-container\">\n",
              "      <div>\n",
              "<style scoped>\n",
              "    .dataframe tbody tr th:only-of-type {\n",
              "        vertical-align: middle;\n",
              "    }\n",
              "\n",
              "    .dataframe tbody tr th {\n",
              "        vertical-align: top;\n",
              "    }\n",
              "\n",
              "    .dataframe thead th {\n",
              "        text-align: right;\n",
              "    }\n",
              "</style>\n",
              "<table border=\"1\" class=\"dataframe\">\n",
              "  <thead>\n",
              "    <tr style=\"text-align: right;\">\n",
              "      <th></th>\n",
              "      <th>apply %threshold</th>\n",
              "      <th>remaining_levels</th>\n",
              "    </tr>\n",
              "  </thead>\n",
              "  <tbody>\n",
              "    <tr>\n",
              "      <th>0</th>\n",
              "      <td>0.000000</td>\n",
              "      <td>184797</td>\n",
              "    </tr>\n",
              "    <tr>\n",
              "      <th>1</th>\n",
              "      <td>0.000010</td>\n",
              "      <td>184798</td>\n",
              "    </tr>\n",
              "    <tr>\n",
              "      <th>2</th>\n",
              "      <td>0.000100</td>\n",
              "      <td>184798</td>\n",
              "    </tr>\n",
              "    <tr>\n",
              "      <th>3</th>\n",
              "      <td>0.000200</td>\n",
              "      <td>184798</td>\n",
              "    </tr>\n",
              "    <tr>\n",
              "      <th>4</th>\n",
              "      <td>0.000485</td>\n",
              "      <td>13948</td>\n",
              "    </tr>\n",
              "    <tr>\n",
              "      <th>5</th>\n",
              "      <td>0.000500</td>\n",
              "      <td>13948</td>\n",
              "    </tr>\n",
              "    <tr>\n",
              "      <th>6</th>\n",
              "      <td>0.001000</td>\n",
              "      <td>3400</td>\n",
              "    </tr>\n",
              "    <tr>\n",
              "      <th>7</th>\n",
              "      <td>0.010000</td>\n",
              "      <td>33</td>\n",
              "    </tr>\n",
              "    <tr>\n",
              "      <th>8</th>\n",
              "      <td>0.100000</td>\n",
              "      <td>1</td>\n",
              "    </tr>\n",
              "    <tr>\n",
              "      <th>9</th>\n",
              "      <td>0.150000</td>\n",
              "      <td>1</td>\n",
              "    </tr>\n",
              "    <tr>\n",
              "      <th>10</th>\n",
              "      <td>0.200000</td>\n",
              "      <td>1</td>\n",
              "    </tr>\n",
              "  </tbody>\n",
              "</table>\n",
              "</div>\n",
              "      <button class=\"colab-df-convert\" onclick=\"convertToInteractive('df-b23df798-928b-45e8-bbe3-1bf663411f7f')\"\n",
              "              title=\"Convert this dataframe to an interactive table.\"\n",
              "              style=\"display:none;\">\n",
              "        \n",
              "  <svg xmlns=\"http://www.w3.org/2000/svg\" height=\"24px\"viewBox=\"0 0 24 24\"\n",
              "       width=\"24px\">\n",
              "    <path d=\"M0 0h24v24H0V0z\" fill=\"none\"/>\n",
              "    <path d=\"M18.56 5.44l.94 2.06.94-2.06 2.06-.94-2.06-.94-.94-2.06-.94 2.06-2.06.94zm-11 1L8.5 8.5l.94-2.06 2.06-.94-2.06-.94L8.5 2.5l-.94 2.06-2.06.94zm10 10l.94 2.06.94-2.06 2.06-.94-2.06-.94-.94-2.06-.94 2.06-2.06.94z\"/><path d=\"M17.41 7.96l-1.37-1.37c-.4-.4-.92-.59-1.43-.59-.52 0-1.04.2-1.43.59L10.3 9.45l-7.72 7.72c-.78.78-.78 2.05 0 2.83L4 21.41c.39.39.9.59 1.41.59.51 0 1.02-.2 1.41-.59l7.78-7.78 2.81-2.81c.8-.78.8-2.07 0-2.86zM5.41 20L4 18.59l7.72-7.72 1.47 1.35L5.41 20z\"/>\n",
              "  </svg>\n",
              "      </button>\n",
              "      \n",
              "  <style>\n",
              "    .colab-df-container {\n",
              "      display:flex;\n",
              "      flex-wrap:wrap;\n",
              "      gap: 12px;\n",
              "    }\n",
              "\n",
              "    .colab-df-convert {\n",
              "      background-color: #E8F0FE;\n",
              "      border: none;\n",
              "      border-radius: 50%;\n",
              "      cursor: pointer;\n",
              "      display: none;\n",
              "      fill: #1967D2;\n",
              "      height: 32px;\n",
              "      padding: 0 0 0 0;\n",
              "      width: 32px;\n",
              "    }\n",
              "\n",
              "    .colab-df-convert:hover {\n",
              "      background-color: #E2EBFA;\n",
              "      box-shadow: 0px 1px 2px rgba(60, 64, 67, 0.3), 0px 1px 3px 1px rgba(60, 64, 67, 0.15);\n",
              "      fill: #174EA6;\n",
              "    }\n",
              "\n",
              "    [theme=dark] .colab-df-convert {\n",
              "      background-color: #3B4455;\n",
              "      fill: #D2E3FC;\n",
              "    }\n",
              "\n",
              "    [theme=dark] .colab-df-convert:hover {\n",
              "      background-color: #434B5C;\n",
              "      box-shadow: 0px 1px 3px 1px rgba(0, 0, 0, 0.15);\n",
              "      filter: drop-shadow(0px 1px 2px rgba(0, 0, 0, 0.3));\n",
              "      fill: #FFFFFF;\n",
              "    }\n",
              "  </style>\n",
              "\n",
              "      <script>\n",
              "        const buttonEl =\n",
              "          document.querySelector('#df-b23df798-928b-45e8-bbe3-1bf663411f7f button.colab-df-convert');\n",
              "        buttonEl.style.display =\n",
              "          google.colab.kernel.accessAllowed ? 'block' : 'none';\n",
              "\n",
              "        async function convertToInteractive(key) {\n",
              "          const element = document.querySelector('#df-b23df798-928b-45e8-bbe3-1bf663411f7f');\n",
              "          const dataTable =\n",
              "            await google.colab.kernel.invokeFunction('convertToInteractive',\n",
              "                                                     [key], {});\n",
              "          if (!dataTable) return;\n",
              "\n",
              "          const docLinkHtml = 'Like what you see? Visit the ' +\n",
              "            '<a target=\"_blank\" href=https://colab.research.google.com/notebooks/data_table.ipynb>data table notebook</a>'\n",
              "            + ' to learn more about interactive tables.';\n",
              "          element.innerHTML = '';\n",
              "          dataTable['output_type'] = 'display_data';\n",
              "          await google.colab.output.renderOutput(dataTable, element);\n",
              "          const docLink = document.createElement('div');\n",
              "          docLink.innerHTML = docLinkHtml;\n",
              "          element.appendChild(docLink);\n",
              "        }\n",
              "      </script>\n",
              "    </div>\n",
              "  </div>\n",
              "  "
            ]
          },
          "metadata": {},
          "execution_count": 70
        }
      ]
    },
    {
      "cell_type": "code",
      "source": [
        "mergethreshold = 0.00050  # 0.0020\n",
        "X =  utils.levelsTransformer(X, 'a_p_b',mergethreshold, mapdictPath)"
      ],
      "metadata": {
        "colab": {
          "base_uri": "https://localhost:8080/"
        },
        "id": "lo9vUYREv-du",
        "outputId": "69db3bf8-90ae-4783-f655-98588343a298"
      },
      "execution_count": 71,
      "outputs": [
        {
          "output_type": "stream",
          "name": "stdout",
          "text": [
            "No saved dictionary exists as yet.\n"
          ]
        }
      ]
    },
    {
      "cell_type": "code",
      "source": [
        "record_sets = list(spl.to_records(index = False))\n",
        "record_sets"
      ],
      "metadata": {
        "id": "uXvVpSGrofZ5",
        "colab": {
          "base_uri": "https://localhost:8080/"
        },
        "outputId": "7558bbf4-dece-4745-d65b-e981e9200354"
      },
      "execution_count": 72,
      "outputs": [
        {
          "output_type": "execute_result",
          "data": {
            "text/plain": [
              "[('a', 'b', list([1, 1, 1, 0, None])),\n",
              " ('a', 'a_p_b', list([1, 1, 1, 0, None])),\n",
              " ('b', 'a', list([1, 1, 1, 0, None])),\n",
              " ('b', 'a_p_b', list([1, 1, 1, 0, None])),\n",
              " ('a_p_b', 'a', list([1, 1, 1, 0, None])),\n",
              " ('a_p_b', 'b', list([1, 1, 1, 0, None]))]"
            ]
          },
          "metadata": {},
          "execution_count": 72
        }
      ]
    },
    {
      "cell_type": "code",
      "source": [
        "fulllist = [record_sets]"
      ],
      "metadata": {
        "id": "UIb5x7e8or8m"
      },
      "execution_count": 73,
      "outputs": []
    },
    {
      "cell_type": "code",
      "source": [
        "m = 1\n",
        "for k,j in enumerate(fulllist):\n",
        "  print(\"Record set no is {} of {}th fulllist \".format(k+1,m+1))\n",
        "  print(\"Set of records is: \", j)\n",
        "  # Each outer loop creates a new sets of models\n",
        "  fulllist_repeat_no = m + 1\n",
        "  transYesNo = False  # True implies transformation\n",
        "  X1_train, X1_test = network_features.get_store_features(X,j, transYesNo, None, fulllist_repeat_no , modelsPath, pathToStoreProgress)\n",
        "  print(\"\\nList done. X1_train shape \", X1_train.shape)\n",
        "  del X1_train\n",
        "  gc.collect()"
      ],
      "metadata": {
        "id": "TwORnajho3DA",
        "colab": {
          "base_uri": "https://localhost:8080/"
        },
        "outputId": "ca31e463-cd98-44da-d4b9-e57038ebf415"
      },
      "execution_count": 74,
      "outputs": [
        {
          "metadata": {
            "tags": null
          },
          "name": "stdout",
          "output_type": "stream",
          "text": [
            "Record set no is 1 of 2th fulllist \n",
            "Set of records is:  [('a', 'b', list([1, 1, 1, 0, None])), ('a', 'a_p_b', list([1, 1, 1, 0, None])), ('b', 'a', list([1, 1, 1, 0, None])), ('b', 'a_p_b', list([1, 1, 1, 0, None])), ('a_p_b', 'a', list([1, 1, 1, 0, None])), ('a_p_b', 'b', list([1, 1, 1, 0, None]))]\n",
            "('a', 'b', list([1, 1, 1, 0, None]))\n",
            "\n",
            "Next:  1 a b\n",
            "========================\n",
            "No of unique values in  a  are:  4044\n",
            "Bipartite Network created. Time taken:  0.020483533541361492 minutes\n",
            "Bipartite Network projected. Time taken:  0.3488311012585958 minutes\n",
            "Model extracted. Time taken:  0.4066798408826192 minutes\n",
            "Model stored to disk\n",
            "train columns:  3\n",
            "No test data\n",
            "Done with a b\n",
            "Time taken:  0.7940009872118632\n",
            "Entry made in file progress.csv\n",
            "('a', 'a_p_b', list([1, 1, 1, 0, None]))\n",
            "\n",
            "Next:  2 a a_p_b\n",
            "========================\n",
            "No of unique values in  a  are:  4044\n",
            "Bipartite Network created. Time taken:  0.0066285371780395504 minutes\n",
            "Bipartite Network projected. Time taken:  0.8190141002337138 minutes\n",
            "Model extracted. Time taken:  1.1533069849014281 minutes\n",
            "Model stored to disk\n",
            "train columns:  3\n",
            "No test data\n",
            "Done with a a_p_b\n",
            "Time taken:  2.0446580211321512\n",
            "Entry made in file progress.csv\n",
            "('b', 'a', list([1, 1, 1, 0, None]))\n",
            "\n",
            "Next:  3 b a\n",
            "========================\n",
            "No of unique values in  b  are:  4044\n",
            "Bipartite Network created. Time taken:  0.018962053457895915 minutes\n",
            "Bipartite Network projected. Time taken:  0.9840033173561096 minutes\n",
            "Model extracted. Time taken:  1.1498075405756631 minutes\n",
            "Model stored to disk\n",
            "train columns:  3\n",
            "No test data\n",
            "Done with b a\n",
            "Time taken:  2.2064372817675273\n",
            "Entry made in file progress.csv\n",
            "('b', 'a_p_b', list([1, 1, 1, 0, None]))\n",
            "\n",
            "Next:  4 b a_p_b\n",
            "========================\n",
            "No of unique values in  b  are:  4044\n",
            "Bipartite Network created. Time taken:  0.006830330689748128 minutes\n",
            "Bipartite Network projected. Time taken:  0.8673020720481872 minutes\n",
            "Model extracted. Time taken:  1.1187562823295594 minutes\n",
            "Model stored to disk\n",
            "train columns:  3\n",
            "No test data\n",
            "Done with b a_p_b\n",
            "Time taken:  2.0554179231325787\n",
            "Entry made in file progress.csv\n",
            "('a_p_b', 'a', list([1, 1, 1, 0, None]))\n",
            "\n",
            "Next:  5 a_p_b a\n",
            "========================\n",
            "No of unique values in  a_p_b  are:  13948\n",
            "Bipartite Network created. Time taken:  0.008613979816436768 minutes\n",
            "Bipartite Network projected. Time taken:  0.05392755270004272 minutes\n",
            "Model extracted. Time taken:  0.08997956514358521 minutes\n",
            "Model stored to disk\n",
            "train columns:  3\n",
            "No test data\n",
            "Done with a_p_b a\n",
            "Time taken:  0.17365241050720215\n",
            "Entry made in file progress.csv\n",
            "('a_p_b', 'b', list([1, 1, 1, 0, None]))\n",
            "\n",
            "Next:  6 a_p_b b\n",
            "========================\n",
            "No of unique values in  a_p_b  are:  13948\n",
            "Bipartite Network created. Time taken:  0.009202961126963298 minutes\n",
            "Bipartite Network projected. Time taken:  0.01907947063446045 minutes\n",
            "Model extracted. Time taken:  0.03163140614827474 minutes\n",
            "Model stored to disk\n",
            "train columns:  3\n",
            "No test data\n",
            "Done with a_p_b b\n",
            "Time taken:  0.07557422320048014\n",
            "Entry made in file progress.csv\n",
            "\n",
            "List done. X1_train shape  (207256, 3)\n"
          ]
        }
      ]
    },
    {
      "cell_type": "code",
      "source": [
        "# Update levels or merge rarely occurring levels\n",
        "#  into one. Dictionaries for performing this mapping\n",
        "#   are in folder: mapdictpath\n",
        "X = utils.updateLevels(X,\n",
        "                        mapdictPath,\n",
        "                        cat_cols\n",
        "                        )"
      ],
      "metadata": {
        "id": "d3gRXebf9O_q"
      },
      "execution_count": 75,
      "outputs": []
    },
    {
      "cell_type": "code",
      "source": [
        "def readStoredModels(pathToReadFrom, fileList):\n",
        "  model_dfs = []\n",
        "  os.chdir(pathToReadFrom)\n",
        "  for file in fileList:\n",
        "    df = pd.read_pickle(file)\n",
        "    model_dfs.append(df)\n",
        "  return model_dfs\n"
      ],
      "metadata": {
        "id": "bM7Gp42Ys6G2"
      },
      "execution_count": 76,
      "outputs": []
    },
    {
      "cell_type": "code",
      "source": [
        "os.chdir(modelsPath)\n",
        "files = os.listdir()\n",
        "file_list = [file for file in files if (\"deg_a_ck\" in file) or (\"eig_a_ck\" in file) or (\"pr_a_ck\" in file) ]\n"
      ],
      "metadata": {
        "id": "5FZPFj7MwsxE"
      },
      "execution_count": 77,
      "outputs": []
    },
    {
      "cell_type": "code",
      "source": [
        "models = readStoredModels(modelsPath, file_list)"
      ],
      "metadata": {
        "id": "xMbQfdtCrhNP"
      },
      "execution_count": 78,
      "outputs": []
    },
    {
      "cell_type": "code",
      "source": [
        "# Merge models\n",
        "for i, model in enumerate(models):\n",
        "  if i == 0:\n",
        "    df = model\n",
        "  else:\n",
        "    df = pd.merge(df, model, left_index=True, right_index=True)  "
      ],
      "metadata": {
        "id": "zLLRmc1Sv08r"
      },
      "execution_count": 79,
      "outputs": []
    },
    {
      "cell_type": "code",
      "source": [
        "df"
      ],
      "metadata": {
        "id": "ODtWMYTWsnBb",
        "colab": {
          "base_uri": "https://localhost:8080/",
          "height": 455
        },
        "outputId": "df60df66-ec71-49c3-8dcd-f9b6aa78592d"
      },
      "execution_count": 80,
      "outputs": [
        {
          "output_type": "execute_result",
          "data": {
            "text/plain": [
              "        deg_a_ck_b  eig_a_ck_b  pr_a_ck_b  deg_a_ck_a_p_b  eig_a_ck_a_p_b  \\\n",
              "a                                                                           \n",
              "1.0       1.000000    0.033805   0.000691             1.0        0.015725   \n",
              "2.0       1.000000    0.033805   0.000691             1.0        0.015725   \n",
              "3.0       0.998269    0.033769   0.000690             1.0        0.015725   \n",
              "4.0       0.995795    0.033714   0.000688             1.0        0.015725   \n",
              "5.0       0.998516    0.033774   0.000690             1.0        0.015725   \n",
              "...            ...         ...        ...             ...             ...   \n",
              "4040.0    0.260945    0.012081   0.000198             1.0        0.015725   \n",
              "4041.0    0.209251    0.009841   0.000167             1.0        0.015725   \n",
              "4042.0    0.228296    0.010619   0.000179             1.0        0.015725   \n",
              "4043.0    0.297304    0.013635   0.000221             1.0        0.015725   \n",
              "4044.0    0.248825    0.011470   0.000191             1.0        0.015725   \n",
              "\n",
              "        pr_a_ck_a_p_b  \n",
              "a                      \n",
              "1.0          0.000247  \n",
              "2.0          0.000247  \n",
              "3.0          0.000247  \n",
              "4.0          0.000247  \n",
              "5.0          0.000247  \n",
              "...               ...  \n",
              "4040.0       0.000247  \n",
              "4041.0       0.000247  \n",
              "4042.0       0.000247  \n",
              "4043.0       0.000247  \n",
              "4044.0       0.000247  \n",
              "\n",
              "[4044 rows x 6 columns]"
            ],
            "text/html": [
              "\n",
              "  <div id=\"df-818af5f6-d729-4c2d-80fd-2ac12999c308\">\n",
              "    <div class=\"colab-df-container\">\n",
              "      <div>\n",
              "<style scoped>\n",
              "    .dataframe tbody tr th:only-of-type {\n",
              "        vertical-align: middle;\n",
              "    }\n",
              "\n",
              "    .dataframe tbody tr th {\n",
              "        vertical-align: top;\n",
              "    }\n",
              "\n",
              "    .dataframe thead th {\n",
              "        text-align: right;\n",
              "    }\n",
              "</style>\n",
              "<table border=\"1\" class=\"dataframe\">\n",
              "  <thead>\n",
              "    <tr style=\"text-align: right;\">\n",
              "      <th></th>\n",
              "      <th>deg_a_ck_b</th>\n",
              "      <th>eig_a_ck_b</th>\n",
              "      <th>pr_a_ck_b</th>\n",
              "      <th>deg_a_ck_a_p_b</th>\n",
              "      <th>eig_a_ck_a_p_b</th>\n",
              "      <th>pr_a_ck_a_p_b</th>\n",
              "    </tr>\n",
              "    <tr>\n",
              "      <th>a</th>\n",
              "      <th></th>\n",
              "      <th></th>\n",
              "      <th></th>\n",
              "      <th></th>\n",
              "      <th></th>\n",
              "      <th></th>\n",
              "    </tr>\n",
              "  </thead>\n",
              "  <tbody>\n",
              "    <tr>\n",
              "      <th>1.0</th>\n",
              "      <td>1.000000</td>\n",
              "      <td>0.033805</td>\n",
              "      <td>0.000691</td>\n",
              "      <td>1.0</td>\n",
              "      <td>0.015725</td>\n",
              "      <td>0.000247</td>\n",
              "    </tr>\n",
              "    <tr>\n",
              "      <th>2.0</th>\n",
              "      <td>1.000000</td>\n",
              "      <td>0.033805</td>\n",
              "      <td>0.000691</td>\n",
              "      <td>1.0</td>\n",
              "      <td>0.015725</td>\n",
              "      <td>0.000247</td>\n",
              "    </tr>\n",
              "    <tr>\n",
              "      <th>3.0</th>\n",
              "      <td>0.998269</td>\n",
              "      <td>0.033769</td>\n",
              "      <td>0.000690</td>\n",
              "      <td>1.0</td>\n",
              "      <td>0.015725</td>\n",
              "      <td>0.000247</td>\n",
              "    </tr>\n",
              "    <tr>\n",
              "      <th>4.0</th>\n",
              "      <td>0.995795</td>\n",
              "      <td>0.033714</td>\n",
              "      <td>0.000688</td>\n",
              "      <td>1.0</td>\n",
              "      <td>0.015725</td>\n",
              "      <td>0.000247</td>\n",
              "    </tr>\n",
              "    <tr>\n",
              "      <th>5.0</th>\n",
              "      <td>0.998516</td>\n",
              "      <td>0.033774</td>\n",
              "      <td>0.000690</td>\n",
              "      <td>1.0</td>\n",
              "      <td>0.015725</td>\n",
              "      <td>0.000247</td>\n",
              "    </tr>\n",
              "    <tr>\n",
              "      <th>...</th>\n",
              "      <td>...</td>\n",
              "      <td>...</td>\n",
              "      <td>...</td>\n",
              "      <td>...</td>\n",
              "      <td>...</td>\n",
              "      <td>...</td>\n",
              "    </tr>\n",
              "    <tr>\n",
              "      <th>4040.0</th>\n",
              "      <td>0.260945</td>\n",
              "      <td>0.012081</td>\n",
              "      <td>0.000198</td>\n",
              "      <td>1.0</td>\n",
              "      <td>0.015725</td>\n",
              "      <td>0.000247</td>\n",
              "    </tr>\n",
              "    <tr>\n",
              "      <th>4041.0</th>\n",
              "      <td>0.209251</td>\n",
              "      <td>0.009841</td>\n",
              "      <td>0.000167</td>\n",
              "      <td>1.0</td>\n",
              "      <td>0.015725</td>\n",
              "      <td>0.000247</td>\n",
              "    </tr>\n",
              "    <tr>\n",
              "      <th>4042.0</th>\n",
              "      <td>0.228296</td>\n",
              "      <td>0.010619</td>\n",
              "      <td>0.000179</td>\n",
              "      <td>1.0</td>\n",
              "      <td>0.015725</td>\n",
              "      <td>0.000247</td>\n",
              "    </tr>\n",
              "    <tr>\n",
              "      <th>4043.0</th>\n",
              "      <td>0.297304</td>\n",
              "      <td>0.013635</td>\n",
              "      <td>0.000221</td>\n",
              "      <td>1.0</td>\n",
              "      <td>0.015725</td>\n",
              "      <td>0.000247</td>\n",
              "    </tr>\n",
              "    <tr>\n",
              "      <th>4044.0</th>\n",
              "      <td>0.248825</td>\n",
              "      <td>0.011470</td>\n",
              "      <td>0.000191</td>\n",
              "      <td>1.0</td>\n",
              "      <td>0.015725</td>\n",
              "      <td>0.000247</td>\n",
              "    </tr>\n",
              "  </tbody>\n",
              "</table>\n",
              "<p>4044 rows × 6 columns</p>\n",
              "</div>\n",
              "      <button class=\"colab-df-convert\" onclick=\"convertToInteractive('df-818af5f6-d729-4c2d-80fd-2ac12999c308')\"\n",
              "              title=\"Convert this dataframe to an interactive table.\"\n",
              "              style=\"display:none;\">\n",
              "        \n",
              "  <svg xmlns=\"http://www.w3.org/2000/svg\" height=\"24px\"viewBox=\"0 0 24 24\"\n",
              "       width=\"24px\">\n",
              "    <path d=\"M0 0h24v24H0V0z\" fill=\"none\"/>\n",
              "    <path d=\"M18.56 5.44l.94 2.06.94-2.06 2.06-.94-2.06-.94-.94-2.06-.94 2.06-2.06.94zm-11 1L8.5 8.5l.94-2.06 2.06-.94-2.06-.94L8.5 2.5l-.94 2.06-2.06.94zm10 10l.94 2.06.94-2.06 2.06-.94-2.06-.94-.94-2.06-.94 2.06-2.06.94z\"/><path d=\"M17.41 7.96l-1.37-1.37c-.4-.4-.92-.59-1.43-.59-.52 0-1.04.2-1.43.59L10.3 9.45l-7.72 7.72c-.78.78-.78 2.05 0 2.83L4 21.41c.39.39.9.59 1.41.59.51 0 1.02-.2 1.41-.59l7.78-7.78 2.81-2.81c.8-.78.8-2.07 0-2.86zM5.41 20L4 18.59l7.72-7.72 1.47 1.35L5.41 20z\"/>\n",
              "  </svg>\n",
              "      </button>\n",
              "      \n",
              "  <style>\n",
              "    .colab-df-container {\n",
              "      display:flex;\n",
              "      flex-wrap:wrap;\n",
              "      gap: 12px;\n",
              "    }\n",
              "\n",
              "    .colab-df-convert {\n",
              "      background-color: #E8F0FE;\n",
              "      border: none;\n",
              "      border-radius: 50%;\n",
              "      cursor: pointer;\n",
              "      display: none;\n",
              "      fill: #1967D2;\n",
              "      height: 32px;\n",
              "      padding: 0 0 0 0;\n",
              "      width: 32px;\n",
              "    }\n",
              "\n",
              "    .colab-df-convert:hover {\n",
              "      background-color: #E2EBFA;\n",
              "      box-shadow: 0px 1px 2px rgba(60, 64, 67, 0.3), 0px 1px 3px 1px rgba(60, 64, 67, 0.15);\n",
              "      fill: #174EA6;\n",
              "    }\n",
              "\n",
              "    [theme=dark] .colab-df-convert {\n",
              "      background-color: #3B4455;\n",
              "      fill: #D2E3FC;\n",
              "    }\n",
              "\n",
              "    [theme=dark] .colab-df-convert:hover {\n",
              "      background-color: #434B5C;\n",
              "      box-shadow: 0px 1px 3px 1px rgba(0, 0, 0, 0.15);\n",
              "      filter: drop-shadow(0px 1px 2px rgba(0, 0, 0, 0.3));\n",
              "      fill: #FFFFFF;\n",
              "    }\n",
              "  </style>\n",
              "\n",
              "      <script>\n",
              "        const buttonEl =\n",
              "          document.querySelector('#df-818af5f6-d729-4c2d-80fd-2ac12999c308 button.colab-df-convert');\n",
              "        buttonEl.style.display =\n",
              "          google.colab.kernel.accessAllowed ? 'block' : 'none';\n",
              "\n",
              "        async function convertToInteractive(key) {\n",
              "          const element = document.querySelector('#df-818af5f6-d729-4c2d-80fd-2ac12999c308');\n",
              "          const dataTable =\n",
              "            await google.colab.kernel.invokeFunction('convertToInteractive',\n",
              "                                                     [key], {});\n",
              "          if (!dataTable) return;\n",
              "\n",
              "          const docLinkHtml = 'Like what you see? Visit the ' +\n",
              "            '<a target=\"_blank\" href=https://colab.research.google.com/notebooks/data_table.ipynb>data table notebook</a>'\n",
              "            + ' to learn more about interactive tables.';\n",
              "          element.innerHTML = '';\n",
              "          dataTable['output_type'] = 'display_data';\n",
              "          await google.colab.output.renderOutput(dataTable, element);\n",
              "          const docLink = document.createElement('div');\n",
              "          docLink.innerHTML = docLinkHtml;\n",
              "          element.appendChild(docLink);\n",
              "        }\n",
              "      </script>\n",
              "    </div>\n",
              "  </div>\n",
              "  "
            ]
          },
          "metadata": {},
          "execution_count": 80
        }
      ]
    },
    {
      "cell_type": "code",
      "source": [
        "# Save dataframe:\n",
        "os.chdir(dataPath)\n",
        "df.to_pickle(\"word2vec.pkl\")\n"
      ],
      "metadata": {
        "id": "87hVqIMzvqx1"
      },
      "execution_count": 81,
      "outputs": []
    },
    {
      "cell_type": "code",
      "source": [
        "# Load word2vec\n",
        "os.chdir(dataPath)\n",
        "df_word= pd.read_pickle(\"word2vec.pkl\")\n",
        "df_word.head()"
      ],
      "metadata": {
        "colab": {
          "base_uri": "https://localhost:8080/",
          "height": 237
        },
        "id": "R4fl9iuZyXi0",
        "outputId": "43302289-13f5-4751-bf1e-7fd5e0a64716"
      },
      "execution_count": 82,
      "outputs": [
        {
          "output_type": "execute_result",
          "data": {
            "text/plain": [
              "     deg_a_ck_b  eig_a_ck_b  pr_a_ck_b  deg_a_ck_a_p_b  eig_a_ck_a_p_b  \\\n",
              "a                                                                        \n",
              "1.0    1.000000    0.033805   0.000691             1.0        0.015725   \n",
              "2.0    1.000000    0.033805   0.000691             1.0        0.015725   \n",
              "3.0    0.998269    0.033769   0.000690             1.0        0.015725   \n",
              "4.0    0.995795    0.033714   0.000688             1.0        0.015725   \n",
              "5.0    0.998516    0.033774   0.000690             1.0        0.015725   \n",
              "\n",
              "     pr_a_ck_a_p_b  \n",
              "a                   \n",
              "1.0       0.000247  \n",
              "2.0       0.000247  \n",
              "3.0       0.000247  \n",
              "4.0       0.000247  \n",
              "5.0       0.000247  "
            ],
            "text/html": [
              "\n",
              "  <div id=\"df-7ab935eb-3bb6-4047-99e4-ddf47af9f82d\">\n",
              "    <div class=\"colab-df-container\">\n",
              "      <div>\n",
              "<style scoped>\n",
              "    .dataframe tbody tr th:only-of-type {\n",
              "        vertical-align: middle;\n",
              "    }\n",
              "\n",
              "    .dataframe tbody tr th {\n",
              "        vertical-align: top;\n",
              "    }\n",
              "\n",
              "    .dataframe thead th {\n",
              "        text-align: right;\n",
              "    }\n",
              "</style>\n",
              "<table border=\"1\" class=\"dataframe\">\n",
              "  <thead>\n",
              "    <tr style=\"text-align: right;\">\n",
              "      <th></th>\n",
              "      <th>deg_a_ck_b</th>\n",
              "      <th>eig_a_ck_b</th>\n",
              "      <th>pr_a_ck_b</th>\n",
              "      <th>deg_a_ck_a_p_b</th>\n",
              "      <th>eig_a_ck_a_p_b</th>\n",
              "      <th>pr_a_ck_a_p_b</th>\n",
              "    </tr>\n",
              "    <tr>\n",
              "      <th>a</th>\n",
              "      <th></th>\n",
              "      <th></th>\n",
              "      <th></th>\n",
              "      <th></th>\n",
              "      <th></th>\n",
              "      <th></th>\n",
              "    </tr>\n",
              "  </thead>\n",
              "  <tbody>\n",
              "    <tr>\n",
              "      <th>1.0</th>\n",
              "      <td>1.000000</td>\n",
              "      <td>0.033805</td>\n",
              "      <td>0.000691</td>\n",
              "      <td>1.0</td>\n",
              "      <td>0.015725</td>\n",
              "      <td>0.000247</td>\n",
              "    </tr>\n",
              "    <tr>\n",
              "      <th>2.0</th>\n",
              "      <td>1.000000</td>\n",
              "      <td>0.033805</td>\n",
              "      <td>0.000691</td>\n",
              "      <td>1.0</td>\n",
              "      <td>0.015725</td>\n",
              "      <td>0.000247</td>\n",
              "    </tr>\n",
              "    <tr>\n",
              "      <th>3.0</th>\n",
              "      <td>0.998269</td>\n",
              "      <td>0.033769</td>\n",
              "      <td>0.000690</td>\n",
              "      <td>1.0</td>\n",
              "      <td>0.015725</td>\n",
              "      <td>0.000247</td>\n",
              "    </tr>\n",
              "    <tr>\n",
              "      <th>4.0</th>\n",
              "      <td>0.995795</td>\n",
              "      <td>0.033714</td>\n",
              "      <td>0.000688</td>\n",
              "      <td>1.0</td>\n",
              "      <td>0.015725</td>\n",
              "      <td>0.000247</td>\n",
              "    </tr>\n",
              "    <tr>\n",
              "      <th>5.0</th>\n",
              "      <td>0.998516</td>\n",
              "      <td>0.033774</td>\n",
              "      <td>0.000690</td>\n",
              "      <td>1.0</td>\n",
              "      <td>0.015725</td>\n",
              "      <td>0.000247</td>\n",
              "    </tr>\n",
              "  </tbody>\n",
              "</table>\n",
              "</div>\n",
              "      <button class=\"colab-df-convert\" onclick=\"convertToInteractive('df-7ab935eb-3bb6-4047-99e4-ddf47af9f82d')\"\n",
              "              title=\"Convert this dataframe to an interactive table.\"\n",
              "              style=\"display:none;\">\n",
              "        \n",
              "  <svg xmlns=\"http://www.w3.org/2000/svg\" height=\"24px\"viewBox=\"0 0 24 24\"\n",
              "       width=\"24px\">\n",
              "    <path d=\"M0 0h24v24H0V0z\" fill=\"none\"/>\n",
              "    <path d=\"M18.56 5.44l.94 2.06.94-2.06 2.06-.94-2.06-.94-.94-2.06-.94 2.06-2.06.94zm-11 1L8.5 8.5l.94-2.06 2.06-.94-2.06-.94L8.5 2.5l-.94 2.06-2.06.94zm10 10l.94 2.06.94-2.06 2.06-.94-2.06-.94-.94-2.06-.94 2.06-2.06.94z\"/><path d=\"M17.41 7.96l-1.37-1.37c-.4-.4-.92-.59-1.43-.59-.52 0-1.04.2-1.43.59L10.3 9.45l-7.72 7.72c-.78.78-.78 2.05 0 2.83L4 21.41c.39.39.9.59 1.41.59.51 0 1.02-.2 1.41-.59l7.78-7.78 2.81-2.81c.8-.78.8-2.07 0-2.86zM5.41 20L4 18.59l7.72-7.72 1.47 1.35L5.41 20z\"/>\n",
              "  </svg>\n",
              "      </button>\n",
              "      \n",
              "  <style>\n",
              "    .colab-df-container {\n",
              "      display:flex;\n",
              "      flex-wrap:wrap;\n",
              "      gap: 12px;\n",
              "    }\n",
              "\n",
              "    .colab-df-convert {\n",
              "      background-color: #E8F0FE;\n",
              "      border: none;\n",
              "      border-radius: 50%;\n",
              "      cursor: pointer;\n",
              "      display: none;\n",
              "      fill: #1967D2;\n",
              "      height: 32px;\n",
              "      padding: 0 0 0 0;\n",
              "      width: 32px;\n",
              "    }\n",
              "\n",
              "    .colab-df-convert:hover {\n",
              "      background-color: #E2EBFA;\n",
              "      box-shadow: 0px 1px 2px rgba(60, 64, 67, 0.3), 0px 1px 3px 1px rgba(60, 64, 67, 0.15);\n",
              "      fill: #174EA6;\n",
              "    }\n",
              "\n",
              "    [theme=dark] .colab-df-convert {\n",
              "      background-color: #3B4455;\n",
              "      fill: #D2E3FC;\n",
              "    }\n",
              "\n",
              "    [theme=dark] .colab-df-convert:hover {\n",
              "      background-color: #434B5C;\n",
              "      box-shadow: 0px 1px 3px 1px rgba(0, 0, 0, 0.15);\n",
              "      filter: drop-shadow(0px 1px 2px rgba(0, 0, 0, 0.3));\n",
              "      fill: #FFFFFF;\n",
              "    }\n",
              "  </style>\n",
              "\n",
              "      <script>\n",
              "        const buttonEl =\n",
              "          document.querySelector('#df-7ab935eb-3bb6-4047-99e4-ddf47af9f82d button.colab-df-convert');\n",
              "        buttonEl.style.display =\n",
              "          google.colab.kernel.accessAllowed ? 'block' : 'none';\n",
              "\n",
              "        async function convertToInteractive(key) {\n",
              "          const element = document.querySelector('#df-7ab935eb-3bb6-4047-99e4-ddf47af9f82d');\n",
              "          const dataTable =\n",
              "            await google.colab.kernel.invokeFunction('convertToInteractive',\n",
              "                                                     [key], {});\n",
              "          if (!dataTable) return;\n",
              "\n",
              "          const docLinkHtml = 'Like what you see? Visit the ' +\n",
              "            '<a target=\"_blank\" href=https://colab.research.google.com/notebooks/data_table.ipynb>data table notebook</a>'\n",
              "            + ' to learn more about interactive tables.';\n",
              "          element.innerHTML = '';\n",
              "          dataTable['output_type'] = 'display_data';\n",
              "          await google.colab.output.renderOutput(dataTable, element);\n",
              "          const docLink = document.createElement('div');\n",
              "          docLink.innerHTML = docLinkHtml;\n",
              "          element.appendChild(docLink);\n",
              "        }\n",
              "      </script>\n",
              "    </div>\n",
              "  </div>\n",
              "  "
            ]
          },
          "metadata": {},
          "execution_count": 82
        }
      ]
    },
    {
      "cell_type": "code",
      "source": [
        "os.chdir(dataPath)\n",
        "df_word.to_csv('vectors.tsv', sep=\"\\t\", index = False, header = False)"
      ],
      "metadata": {
        "id": "7hWxNU77DrAk"
      },
      "execution_count": 83,
      "outputs": []
    },
    {
      "cell_type": "code",
      "source": [
        "metadata = ast.literal_eval(re.search('({.+})', word2index).group(0))"
      ],
      "metadata": {
        "id": "6Z3U_oGuyr_w"
      },
      "execution_count": 84,
      "outputs": []
    },
    {
      "cell_type": "code",
      "source": [
        "str_list = list(metadata.keys())\n",
        "str_list"
      ],
      "metadata": {
        "id": "a1XaTQ0H7Cm9"
      },
      "execution_count": null,
      "outputs": []
    },
    {
      "cell_type": "code",
      "source": [
        "import sys\n",
        "orig_stdout = sys.stdout\n",
        "f = open('metadata.tsv', 'w')\n",
        "sys.stdout = f\n",
        "\n",
        "print(' \\n'.join(str_list))\n",
        "\n",
        "sys.stdout = orig_stdout\n",
        "f.close()\n",
        "sys.stdout = orig_stdout"
      ],
      "metadata": {
        "id": "3NHN99QGA9sn"
      },
      "execution_count": 86,
      "outputs": []
    },
    {
      "cell_type": "code",
      "source": [
        "######## I am done ################3"
      ],
      "metadata": {
        "id": "2-aUsRLC3dkT"
      },
      "execution_count": null,
      "outputs": []
    }
  ]
}