{
  "nbformat": 4,
  "nbformat_minor": 0,
  "metadata": {
    "colab": {
      "provenance": [],
      "collapsed_sections": [],
      "authorship_tag": "ABX9TyNJBiwoAR0e3ykAlOrmLACq",
      "include_colab_link": true
    },
    "kernelspec": {
      "name": "python3",
      "display_name": "Python 3"
    },
    "language_info": {
      "name": "python"
    }
  },
  "cells": [
    {
      "cell_type": "markdown",
      "metadata": {
        "id": "view-in-github",
        "colab_type": "text"
      },
      "source": [
        "<a href=\"https://colab.research.google.com/github/harnalashok/deeplearning-sequences/blob/main/network_connect.ipynb\" target=\"_parent\"><img src=\"https://colab.research.google.com/assets/colab-badge.svg\" alt=\"Open In Colab\"/></a>"
      ]
    },
    {
      "cell_type": "code",
      "execution_count": null,
      "metadata": {
        "id": "u-_bbAbthq-e"
      },
      "outputs": [],
      "source": [
        "!pip install cdlib"
      ]
    },
    {
      "cell_type": "code",
      "source": [
        "from google.colab import drive\n",
        "drive.mount('/gdrive')"
      ],
      "metadata": {
        "colab": {
          "base_uri": "https://localhost:8080/"
        },
        "id": "w9i13zSOiEPI",
        "outputId": "8a8cb557-3120-4eee-ee23-81eaa25c9102"
      },
      "execution_count": 10,
      "outputs": [
        {
          "output_type": "stream",
          "name": "stdout",
          "text": [
            "Drive already mounted at /gdrive; to attempt to forcibly remount, call drive.mount(\"/gdrive\", force_remount=True).\n"
          ]
        }
      ]
    },
    {
      "cell_type": "code",
      "source": [
        "#%reset -f\n",
        "\n",
        "# 1.0 Call libraries\n",
        "import pandas as pd\n",
        "import numpy as np\n",
        "import networkx as nx\n",
        "\n",
        "# 1.01\n",
        "import joblib\n",
        "from collections import defaultdict\n",
        "\n",
        "# 1.02\n",
        "from sklearn.preprocessing import StandardScaler\n",
        "from sklearn.impute import SimpleImputer\n",
        "\n",
        "# 1.08 Misc\n",
        "import os,gc , time,  glob\n",
        "from os.path import exists\n",
        "import feather"
      ],
      "metadata": {
        "id": "ODA6VbNOiozx"
      },
      "execution_count": 11,
      "outputs": []
    },
    {
      "cell_type": "code",
      "source": [
        "# Paths:\n",
        "modulePath = \"/gdrive/MyDrive/Colab_data_files/talkingData/03112022/\"\n",
        "dataPath = \"/gdrive/MyDrive/Colab_data_files/skipgram/\"\n",
        "modelsPath = \"/gdrive/MyDrive/Colab_data_files/skipgram/modelspath/\"\n",
        "pathToStoreProgress = \"/gdrive/MyDrive/Colab_data_files/skipgram/pathToStoreProgress/\""
      ],
      "metadata": {
        "id": "F9OEHf3tk4b_"
      },
      "execution_count": 43,
      "outputs": []
    },
    {
      "cell_type": "code",
      "source": [
        "# 1.09 Home made modules\n",
        "os.chdir(modulePath)\n",
        "import network_features\n",
        "from network_features import *\n",
        "import utils\n",
        "from utils import *\n",
        "\n",
        "import importlib; importlib.reload(network_features)\n",
        "import importlib; importlib.reload(utils)"
      ],
      "metadata": {
        "colab": {
          "base_uri": "https://localhost:8080/"
        },
        "id": "J2f6c-HPi7aC",
        "outputId": "7fb9989c-582d-4617-c631-fef354c7c4e1"
      },
      "execution_count": 13,
      "outputs": [
        {
          "output_type": "execute_result",
          "data": {
            "text/plain": [
              "<module 'utils' from '/gdrive/MyDrive/Colab_data_files/talkingData/03112022/utils.py'>"
            ]
          },
          "metadata": {},
          "execution_count": 13
        }
      ]
    },
    {
      "cell_type": "code",
      "source": [
        "# 8.0 Read back pkl file and dictionary:\n",
        "os.chdir(dataPath)\n",
        "train = pd.read_pickle(\"seq.pkl\")\n",
        "train.head()"
      ],
      "metadata": {
        "colab": {
          "base_uri": "https://localhost:8080/",
          "height": 206
        },
        "id": "WKA1JkstkqSz",
        "outputId": "b656cbbe-f55e-4886-acf7-221c87ad0c37"
      },
      "execution_count": 31,
      "outputs": [
        {
          "output_type": "execute_result",
          "data": {
            "text/plain": [
              "     a    b\n",
              "0  455  213\n",
              "1   61  265\n",
              "2  180  181\n",
              "3  426  357\n",
              "4  455  453"
            ],
            "text/html": [
              "\n",
              "  <div id=\"df-3154cd3c-9476-48b9-a5b0-f44fff893f35\">\n",
              "    <div class=\"colab-df-container\">\n",
              "      <div>\n",
              "<style scoped>\n",
              "    .dataframe tbody tr th:only-of-type {\n",
              "        vertical-align: middle;\n",
              "    }\n",
              "\n",
              "    .dataframe tbody tr th {\n",
              "        vertical-align: top;\n",
              "    }\n",
              "\n",
              "    .dataframe thead th {\n",
              "        text-align: right;\n",
              "    }\n",
              "</style>\n",
              "<table border=\"1\" class=\"dataframe\">\n",
              "  <thead>\n",
              "    <tr style=\"text-align: right;\">\n",
              "      <th></th>\n",
              "      <th>a</th>\n",
              "      <th>b</th>\n",
              "    </tr>\n",
              "  </thead>\n",
              "  <tbody>\n",
              "    <tr>\n",
              "      <th>0</th>\n",
              "      <td>455</td>\n",
              "      <td>213</td>\n",
              "    </tr>\n",
              "    <tr>\n",
              "      <th>1</th>\n",
              "      <td>61</td>\n",
              "      <td>265</td>\n",
              "    </tr>\n",
              "    <tr>\n",
              "      <th>2</th>\n",
              "      <td>180</td>\n",
              "      <td>181</td>\n",
              "    </tr>\n",
              "    <tr>\n",
              "      <th>3</th>\n",
              "      <td>426</td>\n",
              "      <td>357</td>\n",
              "    </tr>\n",
              "    <tr>\n",
              "      <th>4</th>\n",
              "      <td>455</td>\n",
              "      <td>453</td>\n",
              "    </tr>\n",
              "  </tbody>\n",
              "</table>\n",
              "</div>\n",
              "      <button class=\"colab-df-convert\" onclick=\"convertToInteractive('df-3154cd3c-9476-48b9-a5b0-f44fff893f35')\"\n",
              "              title=\"Convert this dataframe to an interactive table.\"\n",
              "              style=\"display:none;\">\n",
              "        \n",
              "  <svg xmlns=\"http://www.w3.org/2000/svg\" height=\"24px\"viewBox=\"0 0 24 24\"\n",
              "       width=\"24px\">\n",
              "    <path d=\"M0 0h24v24H0V0z\" fill=\"none\"/>\n",
              "    <path d=\"M18.56 5.44l.94 2.06.94-2.06 2.06-.94-2.06-.94-.94-2.06-.94 2.06-2.06.94zm-11 1L8.5 8.5l.94-2.06 2.06-.94-2.06-.94L8.5 2.5l-.94 2.06-2.06.94zm10 10l.94 2.06.94-2.06 2.06-.94-2.06-.94-.94-2.06-.94 2.06-2.06.94z\"/><path d=\"M17.41 7.96l-1.37-1.37c-.4-.4-.92-.59-1.43-.59-.52 0-1.04.2-1.43.59L10.3 9.45l-7.72 7.72c-.78.78-.78 2.05 0 2.83L4 21.41c.39.39.9.59 1.41.59.51 0 1.02-.2 1.41-.59l7.78-7.78 2.81-2.81c.8-.78.8-2.07 0-2.86zM5.41 20L4 18.59l7.72-7.72 1.47 1.35L5.41 20z\"/>\n",
              "  </svg>\n",
              "      </button>\n",
              "      \n",
              "  <style>\n",
              "    .colab-df-container {\n",
              "      display:flex;\n",
              "      flex-wrap:wrap;\n",
              "      gap: 12px;\n",
              "    }\n",
              "\n",
              "    .colab-df-convert {\n",
              "      background-color: #E8F0FE;\n",
              "      border: none;\n",
              "      border-radius: 50%;\n",
              "      cursor: pointer;\n",
              "      display: none;\n",
              "      fill: #1967D2;\n",
              "      height: 32px;\n",
              "      padding: 0 0 0 0;\n",
              "      width: 32px;\n",
              "    }\n",
              "\n",
              "    .colab-df-convert:hover {\n",
              "      background-color: #E2EBFA;\n",
              "      box-shadow: 0px 1px 2px rgba(60, 64, 67, 0.3), 0px 1px 3px 1px rgba(60, 64, 67, 0.15);\n",
              "      fill: #174EA6;\n",
              "    }\n",
              "\n",
              "    [theme=dark] .colab-df-convert {\n",
              "      background-color: #3B4455;\n",
              "      fill: #D2E3FC;\n",
              "    }\n",
              "\n",
              "    [theme=dark] .colab-df-convert:hover {\n",
              "      background-color: #434B5C;\n",
              "      box-shadow: 0px 1px 3px 1px rgba(0, 0, 0, 0.15);\n",
              "      filter: drop-shadow(0px 1px 2px rgba(0, 0, 0, 0.3));\n",
              "      fill: #FFFFFF;\n",
              "    }\n",
              "  </style>\n",
              "\n",
              "      <script>\n",
              "        const buttonEl =\n",
              "          document.querySelector('#df-3154cd3c-9476-48b9-a5b0-f44fff893f35 button.colab-df-convert');\n",
              "        buttonEl.style.display =\n",
              "          google.colab.kernel.accessAllowed ? 'block' : 'none';\n",
              "\n",
              "        async function convertToInteractive(key) {\n",
              "          const element = document.querySelector('#df-3154cd3c-9476-48b9-a5b0-f44fff893f35');\n",
              "          const dataTable =\n",
              "            await google.colab.kernel.invokeFunction('convertToInteractive',\n",
              "                                                     [key], {});\n",
              "          if (!dataTable) return;\n",
              "\n",
              "          const docLinkHtml = 'Like what you see? Visit the ' +\n",
              "            '<a target=\"_blank\" href=https://colab.research.google.com/notebooks/data_table.ipynb>data table notebook</a>'\n",
              "            + ' to learn more about interactive tables.';\n",
              "          element.innerHTML = '';\n",
              "          dataTable['output_type'] = 'display_data';\n",
              "          await google.colab.output.renderOutput(dataTable, element);\n",
              "          const docLink = document.createElement('div');\n",
              "          docLink.innerHTML = docLinkHtml;\n",
              "          element.appendChild(docLink);\n",
              "        }\n",
              "      </script>\n",
              "    </div>\n",
              "  </div>\n",
              "  "
            ]
          },
          "metadata": {},
          "execution_count": 31
        }
      ]
    },
    {
      "cell_type": "code",
      "source": [
        "# Read dictionary\n",
        "filehandler = open(\"word_index.txt\", 'r')\n",
        "word2index = filehandler.read()\n",
        "word2index"
      ],
      "metadata": {
        "colab": {
          "base_uri": "https://localhost:8080/",
          "height": 159
        },
        "id": "i4FjdGVtm1ms",
        "outputId": "77c5ee2b-9abd-4289-ca07-240254253a0f"
      },
      "execution_count": 30,
      "outputs": [
        {
          "output_type": "execute_result",
          "data": {
            "text/plain": [
              "\"{'football': 1, 'ball': 2, 'symptoms': 3, 'religion': 4, 'codes': 5, 'include': 6, 'various': 7, 'covid': 8, 'may': 9, 'people': 10, 'develop': 11, 'players': 12, 'rules': 13, 'virus': 14, 'religious': 15, 'team': 16, 'sports': 17, 'kicking': 18, 'goal': 19, 'word': 20, 'rugby': 21, 'common': 22, 'games': 23, 'disease': 24, 'religions': 25, 'popular': 26, 'known': 27, 'league': 28, 'gaelic': 29, 'many': 30, 'public': 31, 'th': 32, 'century': 33, 'spread': 34, 'elements': 35, 'two': 36, 'also': 37, 'either': 38, 'foot': 39, 'severe': 40, 'risk': 41, 'contaminated': 42, 'transcription': 43, 'social': 44, 'beliefs': 45, 'supernatural': 46, 'sacred': 47, 'life': 48, 'varying': 49, 'form': 50, 'association': 51, 'american': 52, 'canadian': 53, 'australian': 54, 'union': 55, 'share': 56, 'origins': 57, 'traditional': 58, 'played': 59, 'different': 60, 'world': 61, 'cultural': 62, 'influence': 63, 'british': 64, 'empire': 65, 'end': 66, 'distinct': 67, 'developing': 68, 'first': 69, 'several': 70, 'moved': 71, 'field': 72, 'hands': 73, 'teams': 74, 'usually': 75, 'defined': 76, 'area': 77, 'scoring': 78, 'goals': 79, 'points': 80, 'opposing': 81, 'line': 82, 'resulting': 83, 'goalposts': 84, 'explanations': 85, 'origin': 86, 'explanation': 87, 'variety': 88, 'coronavirus': 89, 'contagious': 90, 'respiratory': 91, 'worldwide': 92, 'breathing': 93, 'loss': 94, 'days': 95, 'noticeable': 96, 'mild': 97, 'effects': 98, 'long': 99, 'studies': 100, 'underway': 101, 'transmission': 102, 'reverse': 103, 'mediated': 104, 'amplification': 105, 'measures': 106, 'face': 107, 'treatment': 108, 'practices': 109, 'places': 110, 'contain': 111, 'faith': 112, 'services': 113, 'mostly': 114, 'population': 115, 'religiously': 116, 'unaffiliated': 117, 'including': 118, 'family': 119, 'involve': 120, 'degrees': 121, 'score': 122, 'unqualified': 123, 'normally': 124, 'means': 125, 'used': 126, 'commonly': 127, 'called': 128, 'soccer': 129, 'north': 130, 'america': 131, 'oceania': 132, 'gridiron': 133, 'specifically': 134, 'forms': 135, 'extent': 136, 'number': 137, 'references': 138, 'ancient': 139, 'prehistoric': 140, 'parts': 141, 'contemporary': 142, 'traced': 143, 'back': 144, 'codification': 145, 'english': 146, 'schools': 147, 'expansion': 148, 'allowed': 149, 'areas': 150, 'outside': 151, 'directly': 152, 'controlled': 153, 'regional': 154, 'already': 155, 'example': 156, 'deliberately': 157, 'incorporated': 158, 'local': 159, 'order': 160, 'maintain': 161, 'heritage': 162, 'founded': 163, 'england': 164, 'becoming': 165, 'professional': 166, 'associations': 167, 'kinds': 168, 'grew': 169, 'become': 170, 'certain': 171, 'grouped': 172, 'main': 173, 'classes': 174, 'carrying': 175, 'like': 176, 'held': 177, 'thrown': 178, 'primarily': 179, 'feet': 180, 'handling': 181, 'strictly': 182, 'limited': 183, 'among': 184, 'variations': 185, 'fewer': 186, 'five': 187, 'per': 188, 'clearly': 189, 'play': 190, 'game': 191, 'moving': 192, 'putting': 193, 'defended': 194, 'using': 195, 'body': 196, 'move': 197, 'skills': 198, 'passing': 199, 'tackling': 200, 'evasion': 201, 'tackles': 202, 'catching': 203, 'restricting': 204, 'movement': 205, 'offside': 206, 'must': 207, 'put': 208, 'crossbar': 209, 'conflicting': 210, 'widely': 211, 'assumed': 212, 'phrase': 213, 'refers': 214, 'action': 215, 'alternative': 216, 'originally': 217, 'referred': 218, 'medieval': 219, 'europe': 220, 'conclusive': 221, 'evidence': 222, 'caused': 223, 'acute': 224, 'syndrome': 225, 'sars': 226, 'cov': 227, 'case': 228, 'identified': 229, 'wuhan': 230, 'china': 231, 'december': 232, 'quickly': 233, 'pandemic': 234, 'variable': 235, 'often': 236, 'fever': 237, 'cough': 238, 'headache': 239, 'fatigue': 240, 'difficulties': 241, 'smell': 242, 'taste': 243, 'begin': 244, 'one': 245, 'fourteen': 246, 'exposure': 247, 'least': 248, 'third': 249, 'infected': 250, 'enough': 251, 'classed': 252, 'patients': 253, 'moderate': 254, 'pneumonia': 255, 'dyspnoea': 256, 'hypoxia': 257, 'lung': 258, 'involvement': 259, 'imaging': 260, 'critical': 261, 'failure': 262, 'shock': 263, 'multiorgan': 264, 'dysfunction': 265, 'older': 266, 'higher': 267, 'continue': 268, 'experience': 269, 'range': 270, 'months': 271, 'recovery': 272, 'damage': 273, 'organs': 274, 'observed': 275, 'multi': 276, 'year': 277, 'investigate': 278, 'term': 279, 'transmits': 280, 'breathe': 281, 'air': 282, 'droplets': 283, 'small': 284, 'airborne': 285, 'particles': 286, 'containing': 287, 'highest': 288, 'close': 289, 'proximity': 290, 'inhaled': 291, 'longer': 292, 'distances': 293, 'particularly': 294, 'indoors': 295, 'occur': 296, 'splashed': 297, 'sprayed': 298, 'fluids': 299, 'eyes': 300, 'nose': 301, 'mouth': 302, 'rarely': 303, 'via': 304, 'surfaces': 305, 'remain': 306, 'even': 307, 'testing': 308, 'methods': 309, 'detect': 310, 'viruss': 311, 'nucleic': 312, 'acid': 313, 'real': 314, 'time': 315, 'polymerase': 316, 'chain': 317, 'reaction': 318, 'rrt': 319, 'pcr': 320, 'loop': 321, 'isothermal': 322, 'rt': 323, 'lamp': 324, 'nasopharyngeal': 325, 'swab': 326, 'vaccines': 327, 'approved': 328, 'distributed': 329, 'countries': 330, 'initiated': 331, 'mass': 332, 'vaccination': 333, 'campaigns': 334, 'preventive': 335, 'physical': 336, 'distancing': 337, 'quarantining': 338, 'ventilation': 339, 'indoor': 340, 'spaces': 341, 'covering': 342, 'coughs': 343, 'sneezes': 344, 'hand': 345, 'washing': 346, 'keeping': 347, 'unwashed': 348, 'away': 349, 'use': 350, 'masks': 351, 'coverings': 352, 'recommended': 353, 'settings': 354, 'minimise': 355, 'work': 356, 'drugs': 357, 'inhibit': 358, 'primary': 359, 'symptomatic': 360, 'management': 361, 'involves': 362, 'supportive': 363, 'care': 364, 'isolation': 365, 'experimental': 366, 'system': 367, 'designated': 368, 'behaviors': 369, 'morals': 370, 'worldviews': 371, 'texts': 372, 'sanctified': 373, 'prophecies': 374, 'ethics': 375, 'organizations': 376, 'generally': 377, 'relates': 378, 'humanity': 379, 'transcendental': 380, 'spiritual': 381, 'however': 382, 'scholarly': 383, 'consensus': 384, 'precisely': 385, 'constitutes': 386, 'ranging': 387, 'divine': 388, 'things': 389, 'beings': 390, 'sort': 391, 'ultimacy': 392, 'transcendence': 393, 'provide': 394, 'norms': 395, 'power': 396, 'rest': 397, 'rituals': 398, 'sermons': 399, 'commemoration': 400, 'veneration': 401, 'deities': 402, 'saints': 403, 'sacrifices': 404, 'festivals': 405, 'feasts': 406, 'trances': 407, 'initiations': 408, 'funerary': 409, 'matrimonial': 410, 'meditation': 411, 'prayer': 412, 'music': 413, 'art': 414, 'dance': 415, 'service': 416, 'aspects': 417, 'human': 418, 'culture': 419, 'histories': 420, 'narratives': 421, 'preserved': 422, 'scriptures': 423, 'symbols': 424, 'holy': 425, 'aim': 426, 'give': 427, 'meaning': 428, 'symbolic': 429, 'stories': 430, 'sometimes': 431, 'said': 432, 'followers': 433, 'true': 434, 'attempt': 435, 'explain': 436, 'universe': 437, 'phenomena': 438, 'traditionally': 439, 'addition': 440, 'reason': 441, 'considered': 442, 'source': 443, 'estimated': 444, 'worlds': 445, 'affiliated': 446, 'christianity': 447, 'islam': 448, 'hinduism': 449, 'buddhism': 450, 'folk': 451, 'demographic': 452, 'includes': 453, 'identify': 454, 'particular': 455, 'atheists': 456, 'agnostics': 457, 'still': 458, 'portion': 459, 'located': 460, 'africa': 461, 'asia': 462, 'members': 463, 'new': 464, 'movements': 465, 'study': 466, 'comprises': 467, 'wide': 468, 'academic': 469, 'disciplines': 470, 'theology': 471, 'philosophy': 472, 'comparative': 473, 'scientific': 474, 'theories': 475, 'offer': 476, 'workings': 477, 'ontological': 478, 'foundations': 479, 'belief': 480}\""
            ],
            "application/vnd.google.colaboratory.intrinsic+json": {
              "type": "string"
            }
          },
          "metadata": {},
          "execution_count": 30
        }
      ]
    },
    {
      "cell_type": "code",
      "source": [
        "org_columns = train.columns\n",
        "cat_cols = ['a', 'b']"
      ],
      "metadata": {
        "id": "cC64egz8nEas"
      },
      "execution_count": 32,
      "outputs": []
    },
    {
      "cell_type": "code",
      "source": [
        "# 6.1 Create new columns (combinations of columns) in train\n",
        "train = utils.create_cat_pairwise_cols(train , cat_cols)"
      ],
      "metadata": {
        "id": "3LGMc_Rdn2sz"
      },
      "execution_count": 33,
      "outputs": []
    },
    {
      "cell_type": "code",
      "source": [
        "train.head()"
      ],
      "metadata": {
        "colab": {
          "base_uri": "https://localhost:8080/",
          "height": 206
        },
        "id": "nuOSCcrzn8Fr",
        "outputId": "f0e5c947-d9a4-462c-c23d-a51ca094f6a2"
      },
      "execution_count": 34,
      "outputs": [
        {
          "output_type": "execute_result",
          "data": {
            "text/plain": [
              "     a    b    a_p_b\n",
              "0  455  213  455_213\n",
              "1   61  265   61_265\n",
              "2  180  181  180_181\n",
              "3  426  357  426_357\n",
              "4  455  453  455_453"
            ],
            "text/html": [
              "\n",
              "  <div id=\"df-fc84f140-6d71-42ea-afec-b9fc4491651e\">\n",
              "    <div class=\"colab-df-container\">\n",
              "      <div>\n",
              "<style scoped>\n",
              "    .dataframe tbody tr th:only-of-type {\n",
              "        vertical-align: middle;\n",
              "    }\n",
              "\n",
              "    .dataframe tbody tr th {\n",
              "        vertical-align: top;\n",
              "    }\n",
              "\n",
              "    .dataframe thead th {\n",
              "        text-align: right;\n",
              "    }\n",
              "</style>\n",
              "<table border=\"1\" class=\"dataframe\">\n",
              "  <thead>\n",
              "    <tr style=\"text-align: right;\">\n",
              "      <th></th>\n",
              "      <th>a</th>\n",
              "      <th>b</th>\n",
              "      <th>a_p_b</th>\n",
              "    </tr>\n",
              "  </thead>\n",
              "  <tbody>\n",
              "    <tr>\n",
              "      <th>0</th>\n",
              "      <td>455</td>\n",
              "      <td>213</td>\n",
              "      <td>455_213</td>\n",
              "    </tr>\n",
              "    <tr>\n",
              "      <th>1</th>\n",
              "      <td>61</td>\n",
              "      <td>265</td>\n",
              "      <td>61_265</td>\n",
              "    </tr>\n",
              "    <tr>\n",
              "      <th>2</th>\n",
              "      <td>180</td>\n",
              "      <td>181</td>\n",
              "      <td>180_181</td>\n",
              "    </tr>\n",
              "    <tr>\n",
              "      <th>3</th>\n",
              "      <td>426</td>\n",
              "      <td>357</td>\n",
              "      <td>426_357</td>\n",
              "    </tr>\n",
              "    <tr>\n",
              "      <th>4</th>\n",
              "      <td>455</td>\n",
              "      <td>453</td>\n",
              "      <td>455_453</td>\n",
              "    </tr>\n",
              "  </tbody>\n",
              "</table>\n",
              "</div>\n",
              "      <button class=\"colab-df-convert\" onclick=\"convertToInteractive('df-fc84f140-6d71-42ea-afec-b9fc4491651e')\"\n",
              "              title=\"Convert this dataframe to an interactive table.\"\n",
              "              style=\"display:none;\">\n",
              "        \n",
              "  <svg xmlns=\"http://www.w3.org/2000/svg\" height=\"24px\"viewBox=\"0 0 24 24\"\n",
              "       width=\"24px\">\n",
              "    <path d=\"M0 0h24v24H0V0z\" fill=\"none\"/>\n",
              "    <path d=\"M18.56 5.44l.94 2.06.94-2.06 2.06-.94-2.06-.94-.94-2.06-.94 2.06-2.06.94zm-11 1L8.5 8.5l.94-2.06 2.06-.94-2.06-.94L8.5 2.5l-.94 2.06-2.06.94zm10 10l.94 2.06.94-2.06 2.06-.94-2.06-.94-.94-2.06-.94 2.06-2.06.94z\"/><path d=\"M17.41 7.96l-1.37-1.37c-.4-.4-.92-.59-1.43-.59-.52 0-1.04.2-1.43.59L10.3 9.45l-7.72 7.72c-.78.78-.78 2.05 0 2.83L4 21.41c.39.39.9.59 1.41.59.51 0 1.02-.2 1.41-.59l7.78-7.78 2.81-2.81c.8-.78.8-2.07 0-2.86zM5.41 20L4 18.59l7.72-7.72 1.47 1.35L5.41 20z\"/>\n",
              "  </svg>\n",
              "      </button>\n",
              "      \n",
              "  <style>\n",
              "    .colab-df-container {\n",
              "      display:flex;\n",
              "      flex-wrap:wrap;\n",
              "      gap: 12px;\n",
              "    }\n",
              "\n",
              "    .colab-df-convert {\n",
              "      background-color: #E8F0FE;\n",
              "      border: none;\n",
              "      border-radius: 50%;\n",
              "      cursor: pointer;\n",
              "      display: none;\n",
              "      fill: #1967D2;\n",
              "      height: 32px;\n",
              "      padding: 0 0 0 0;\n",
              "      width: 32px;\n",
              "    }\n",
              "\n",
              "    .colab-df-convert:hover {\n",
              "      background-color: #E2EBFA;\n",
              "      box-shadow: 0px 1px 2px rgba(60, 64, 67, 0.3), 0px 1px 3px 1px rgba(60, 64, 67, 0.15);\n",
              "      fill: #174EA6;\n",
              "    }\n",
              "\n",
              "    [theme=dark] .colab-df-convert {\n",
              "      background-color: #3B4455;\n",
              "      fill: #D2E3FC;\n",
              "    }\n",
              "\n",
              "    [theme=dark] .colab-df-convert:hover {\n",
              "      background-color: #434B5C;\n",
              "      box-shadow: 0px 1px 3px 1px rgba(0, 0, 0, 0.15);\n",
              "      filter: drop-shadow(0px 1px 2px rgba(0, 0, 0, 0.3));\n",
              "      fill: #FFFFFF;\n",
              "    }\n",
              "  </style>\n",
              "\n",
              "      <script>\n",
              "        const buttonEl =\n",
              "          document.querySelector('#df-fc84f140-6d71-42ea-afec-b9fc4491651e button.colab-df-convert');\n",
              "        buttonEl.style.display =\n",
              "          google.colab.kernel.accessAllowed ? 'block' : 'none';\n",
              "\n",
              "        async function convertToInteractive(key) {\n",
              "          const element = document.querySelector('#df-fc84f140-6d71-42ea-afec-b9fc4491651e');\n",
              "          const dataTable =\n",
              "            await google.colab.kernel.invokeFunction('convertToInteractive',\n",
              "                                                     [key], {});\n",
              "          if (!dataTable) return;\n",
              "\n",
              "          const docLinkHtml = 'Like what you see? Visit the ' +\n",
              "            '<a target=\"_blank\" href=https://colab.research.google.com/notebooks/data_table.ipynb>data table notebook</a>'\n",
              "            + ' to learn more about interactive tables.';\n",
              "          element.innerHTML = '';\n",
              "          dataTable['output_type'] = 'display_data';\n",
              "          await google.colab.output.renderOutput(dataTable, element);\n",
              "          const docLink = document.createElement('div');\n",
              "          docLink.innerHTML = docLinkHtml;\n",
              "          element.appendChild(docLink);\n",
              "        }\n",
              "      </script>\n",
              "    </div>\n",
              "  </div>\n",
              "  "
            ]
          },
          "metadata": {},
          "execution_count": 34
        }
      ]
    },
    {
      "cell_type": "code",
      "source": [
        "# 6.11 The train columns are:\n",
        "current_train_columns = train.columns\n",
        "# 6.12 New columns created. These columns must be latter dropped\n",
        "new_cols = list(set(current_train_columns).difference(set(org_columns)))\n",
        "# 6.13 Revised cat cols (ie excluding hour etc)\n",
        "cat_cols.extend(new_cols)\n",
        "len(cat_cols)   # 15\n",
        "cat_cols"
      ],
      "metadata": {
        "colab": {
          "base_uri": "https://localhost:8080/"
        },
        "id": "So7yOgyqn9zb",
        "outputId": "d1d00f52-8fe8-45cc-a8f5-8640f6119ae2"
      },
      "execution_count": 35,
      "outputs": [
        {
          "output_type": "execute_result",
          "data": {
            "text/plain": [
              "['a', 'b', 'a_p_b']"
            ]
          },
          "metadata": {},
          "execution_count": 35
        }
      ]
    },
    {
      "cell_type": "code",
      "source": [
        "# 8.1 Get all possibe permutation of our columns\n",
        "#     Also decide which all centrality measures to cal\n",
        "deg = 1    # Calculate degree centrality\n",
        "eig = 1    # Calculate eigenvector centrality\n",
        "pr =  1    # Calculate pagerank centrality\n",
        "clu = 0    # Clustering coeff centrality\n",
        "nf = None # nx.katz_centrality_numpy\n",
        "cMeasures = [deg,eig,pr,clu, nf]"
      ],
      "metadata": {
        "id": "5G7WEE8LoJF8"
      },
      "execution_count": 36,
      "outputs": []
    },
    {
      "cell_type": "code",
      "source": [
        "single_permute_list = utils.permute_colList(cat_cols,cMeasures)\n",
        "single_permute_list"
      ],
      "metadata": {
        "colab": {
          "base_uri": "https://localhost:8080/"
        },
        "id": "XQ-o1X9DoOKU",
        "outputId": "c854fb29-a986-4418-b6c7-0b0ce7a43816"
      },
      "execution_count": 37,
      "outputs": [
        {
          "output_type": "execute_result",
          "data": {
            "text/plain": [
              "[('a', 'b', [1, 1, 1, 0, None]),\n",
              " ('a', 'a_p_b', [1, 1, 1, 0, None]),\n",
              " ('b', 'a', [1, 1, 1, 0, None]),\n",
              " ('b', 'a_p_b', [1, 1, 1, 0, None]),\n",
              " ('a_p_b', 'a', [1, 1, 1, 0, None]),\n",
              " ('a_p_b', 'b', [1, 1, 1, 0, None])]"
            ]
          },
          "metadata": {},
          "execution_count": 37
        }
      ]
    },
    {
      "cell_type": "code",
      "source": [
        "len(single_permute_list)   # 210"
      ],
      "metadata": {
        "colab": {
          "base_uri": "https://localhost:8080/"
        },
        "id": "r3IruoUzoUFV",
        "outputId": "56f192be-1105-44fd-9000-4160c14bfebf"
      },
      "execution_count": 38,
      "outputs": [
        {
          "output_type": "execute_result",
          "data": {
            "text/plain": [
              "6"
            ]
          },
          "metadata": {},
          "execution_count": 38
        }
      ]
    },
    {
      "cell_type": "code",
      "source": [
        "spl = pd.DataFrame(single_permute_list, columns = [\"colToProject\", \"intermediaryCol\", \"cMeasures?\"])\n",
        "spl.shape   # (210, 4)\n",
        "spl"
      ],
      "metadata": {
        "colab": {
          "base_uri": "https://localhost:8080/",
          "height": 237
        },
        "id": "2H70LdI4oZs9",
        "outputId": "e67b79b5-8412-45f4-85bb-d6a57e46c0fc"
      },
      "execution_count": 39,
      "outputs": [
        {
          "output_type": "execute_result",
          "data": {
            "text/plain": [
              "  colToProject intermediaryCol          cMeasures?\n",
              "0            a               b  [1, 1, 1, 0, None]\n",
              "1            a           a_p_b  [1, 1, 1, 0, None]\n",
              "2            b               a  [1, 1, 1, 0, None]\n",
              "3            b           a_p_b  [1, 1, 1, 0, None]\n",
              "4        a_p_b               a  [1, 1, 1, 0, None]\n",
              "5        a_p_b               b  [1, 1, 1, 0, None]"
            ],
            "text/html": [
              "\n",
              "  <div id=\"df-4cc9976e-9203-4787-b5ba-257866504aef\">\n",
              "    <div class=\"colab-df-container\">\n",
              "      <div>\n",
              "<style scoped>\n",
              "    .dataframe tbody tr th:only-of-type {\n",
              "        vertical-align: middle;\n",
              "    }\n",
              "\n",
              "    .dataframe tbody tr th {\n",
              "        vertical-align: top;\n",
              "    }\n",
              "\n",
              "    .dataframe thead th {\n",
              "        text-align: right;\n",
              "    }\n",
              "</style>\n",
              "<table border=\"1\" class=\"dataframe\">\n",
              "  <thead>\n",
              "    <tr style=\"text-align: right;\">\n",
              "      <th></th>\n",
              "      <th>colToProject</th>\n",
              "      <th>intermediaryCol</th>\n",
              "      <th>cMeasures?</th>\n",
              "    </tr>\n",
              "  </thead>\n",
              "  <tbody>\n",
              "    <tr>\n",
              "      <th>0</th>\n",
              "      <td>a</td>\n",
              "      <td>b</td>\n",
              "      <td>[1, 1, 1, 0, None]</td>\n",
              "    </tr>\n",
              "    <tr>\n",
              "      <th>1</th>\n",
              "      <td>a</td>\n",
              "      <td>a_p_b</td>\n",
              "      <td>[1, 1, 1, 0, None]</td>\n",
              "    </tr>\n",
              "    <tr>\n",
              "      <th>2</th>\n",
              "      <td>b</td>\n",
              "      <td>a</td>\n",
              "      <td>[1, 1, 1, 0, None]</td>\n",
              "    </tr>\n",
              "    <tr>\n",
              "      <th>3</th>\n",
              "      <td>b</td>\n",
              "      <td>a_p_b</td>\n",
              "      <td>[1, 1, 1, 0, None]</td>\n",
              "    </tr>\n",
              "    <tr>\n",
              "      <th>4</th>\n",
              "      <td>a_p_b</td>\n",
              "      <td>a</td>\n",
              "      <td>[1, 1, 1, 0, None]</td>\n",
              "    </tr>\n",
              "    <tr>\n",
              "      <th>5</th>\n",
              "      <td>a_p_b</td>\n",
              "      <td>b</td>\n",
              "      <td>[1, 1, 1, 0, None]</td>\n",
              "    </tr>\n",
              "  </tbody>\n",
              "</table>\n",
              "</div>\n",
              "      <button class=\"colab-df-convert\" onclick=\"convertToInteractive('df-4cc9976e-9203-4787-b5ba-257866504aef')\"\n",
              "              title=\"Convert this dataframe to an interactive table.\"\n",
              "              style=\"display:none;\">\n",
              "        \n",
              "  <svg xmlns=\"http://www.w3.org/2000/svg\" height=\"24px\"viewBox=\"0 0 24 24\"\n",
              "       width=\"24px\">\n",
              "    <path d=\"M0 0h24v24H0V0z\" fill=\"none\"/>\n",
              "    <path d=\"M18.56 5.44l.94 2.06.94-2.06 2.06-.94-2.06-.94-.94-2.06-.94 2.06-2.06.94zm-11 1L8.5 8.5l.94-2.06 2.06-.94-2.06-.94L8.5 2.5l-.94 2.06-2.06.94zm10 10l.94 2.06.94-2.06 2.06-.94-2.06-.94-.94-2.06-.94 2.06-2.06.94z\"/><path d=\"M17.41 7.96l-1.37-1.37c-.4-.4-.92-.59-1.43-.59-.52 0-1.04.2-1.43.59L10.3 9.45l-7.72 7.72c-.78.78-.78 2.05 0 2.83L4 21.41c.39.39.9.59 1.41.59.51 0 1.02-.2 1.41-.59l7.78-7.78 2.81-2.81c.8-.78.8-2.07 0-2.86zM5.41 20L4 18.59l7.72-7.72 1.47 1.35L5.41 20z\"/>\n",
              "  </svg>\n",
              "      </button>\n",
              "      \n",
              "  <style>\n",
              "    .colab-df-container {\n",
              "      display:flex;\n",
              "      flex-wrap:wrap;\n",
              "      gap: 12px;\n",
              "    }\n",
              "\n",
              "    .colab-df-convert {\n",
              "      background-color: #E8F0FE;\n",
              "      border: none;\n",
              "      border-radius: 50%;\n",
              "      cursor: pointer;\n",
              "      display: none;\n",
              "      fill: #1967D2;\n",
              "      height: 32px;\n",
              "      padding: 0 0 0 0;\n",
              "      width: 32px;\n",
              "    }\n",
              "\n",
              "    .colab-df-convert:hover {\n",
              "      background-color: #E2EBFA;\n",
              "      box-shadow: 0px 1px 2px rgba(60, 64, 67, 0.3), 0px 1px 3px 1px rgba(60, 64, 67, 0.15);\n",
              "      fill: #174EA6;\n",
              "    }\n",
              "\n",
              "    [theme=dark] .colab-df-convert {\n",
              "      background-color: #3B4455;\n",
              "      fill: #D2E3FC;\n",
              "    }\n",
              "\n",
              "    [theme=dark] .colab-df-convert:hover {\n",
              "      background-color: #434B5C;\n",
              "      box-shadow: 0px 1px 3px 1px rgba(0, 0, 0, 0.15);\n",
              "      filter: drop-shadow(0px 1px 2px rgba(0, 0, 0, 0.3));\n",
              "      fill: #FFFFFF;\n",
              "    }\n",
              "  </style>\n",
              "\n",
              "      <script>\n",
              "        const buttonEl =\n",
              "          document.querySelector('#df-4cc9976e-9203-4787-b5ba-257866504aef button.colab-df-convert');\n",
              "        buttonEl.style.display =\n",
              "          google.colab.kernel.accessAllowed ? 'block' : 'none';\n",
              "\n",
              "        async function convertToInteractive(key) {\n",
              "          const element = document.querySelector('#df-4cc9976e-9203-4787-b5ba-257866504aef');\n",
              "          const dataTable =\n",
              "            await google.colab.kernel.invokeFunction('convertToInteractive',\n",
              "                                                     [key], {});\n",
              "          if (!dataTable) return;\n",
              "\n",
              "          const docLinkHtml = 'Like what you see? Visit the ' +\n",
              "            '<a target=\"_blank\" href=https://colab.research.google.com/notebooks/data_table.ipynb>data table notebook</a>'\n",
              "            + ' to learn more about interactive tables.';\n",
              "          element.innerHTML = '';\n",
              "          dataTable['output_type'] = 'display_data';\n",
              "          await google.colab.output.renderOutput(dataTable, element);\n",
              "          const docLink = document.createElement('div');\n",
              "          docLink.innerHTML = docLinkHtml;\n",
              "          element.appendChild(docLink);\n",
              "        }\n",
              "      </script>\n",
              "    </div>\n",
              "  </div>\n",
              "  "
            ]
          },
          "metadata": {},
          "execution_count": 39
        }
      ]
    },
    {
      "cell_type": "code",
      "source": [
        "record_sets = list(spl.to_records(index = False))"
      ],
      "metadata": {
        "id": "uXvVpSGrofZ5"
      },
      "execution_count": 40,
      "outputs": []
    },
    {
      "cell_type": "code",
      "source": [
        "record_sets"
      ],
      "metadata": {
        "colab": {
          "base_uri": "https://localhost:8080/"
        },
        "id": "ZilaVDfKoqYH",
        "outputId": "d3ec8719-de98-4fce-a3ee-72ff7a826a1f"
      },
      "execution_count": 41,
      "outputs": [
        {
          "output_type": "execute_result",
          "data": {
            "text/plain": [
              "[('a', 'b', list([1, 1, 1, 0, None])),\n",
              " ('a', 'a_p_b', list([1, 1, 1, 0, None])),\n",
              " ('b', 'a', list([1, 1, 1, 0, None])),\n",
              " ('b', 'a_p_b', list([1, 1, 1, 0, None])),\n",
              " ('a_p_b', 'a', list([1, 1, 1, 0, None])),\n",
              " ('a_p_b', 'b', list([1, 1, 1, 0, None]))]"
            ]
          },
          "metadata": {},
          "execution_count": 41
        }
      ]
    },
    {
      "cell_type": "code",
      "source": [
        "fulllist = [record_sets]"
      ],
      "metadata": {
        "id": "UIb5x7e8or8m"
      },
      "execution_count": 42,
      "outputs": []
    },
    {
      "cell_type": "code",
      "source": [
        "X = train\n",
        "m = 1\n",
        "for k,j in enumerate(fulllist):\n",
        "  print(\"Record set no is {} of {}th fulllist \".format(k+1,m+1))\n",
        "  print(\"Set of records is: \", j)\n",
        "  # Each outer loop creates a new sets of models\n",
        "  fulllist_repeat_no = m + 1\n",
        "  transYesNo = False  # True implies transformation\n",
        "  X1_train, X1_test = network_features.get_store_features(X,j, transYesNo, None, fulllist_repeat_no , modelsPath, pathToStoreProgress)\n",
        "  print(\"\\nList done. X1_train shape \", X1_train.shape)\n",
        "  del X1_train\n",
        "  gc.collect()"
      ],
      "metadata": {
        "colab": {
          "base_uri": "https://localhost:8080/"
        },
        "id": "TwORnajho3DA",
        "outputId": "ae842bdf-789a-410f-dc57-f36033b48c42"
      },
      "execution_count": 45,
      "outputs": [
        {
          "output_type": "stream",
          "name": "stdout",
          "text": [
            "Record set no is 1 of 2th fulllist \n",
            "Set of records is:  [('a', 'b', list([1, 1, 1, 0, None])), ('a', 'a_p_b', list([1, 1, 1, 0, None])), ('b', 'a', list([1, 1, 1, 0, None])), ('b', 'a_p_b', list([1, 1, 1, 0, None])), ('a_p_b', 'a', list([1, 1, 1, 0, None])), ('a_p_b', 'b', list([1, 1, 1, 0, None]))]\n",
            "('a', 'b', list([1, 1, 1, 0, None]))\n",
            "\n",
            "Next:  1 a b\n",
            "========================\n",
            "No of unique values in  a  are:  480\n",
            "Bipartite Network created. Time taken:  0.0007027904192606608 minutes\n",
            "Bipartite Network projected. Time taken:  0.0034075021743774415 minutes\n",
            "Model extracted. Time taken:  0.009365785121917724 minutes\n",
            "Model stored to disk\n",
            "train columns:  3\n",
            "No test data\n",
            "Done with a b\n",
            "Time taken:  0.014222860336303711\n",
            "Entry made in file progress.csv\n",
            "('a', 'a_p_b', list([1, 1, 1, 0, None]))\n",
            "\n",
            "Next:  2 a a_p_b\n",
            "========================\n",
            "No of unique values in  a  are:  480\n",
            "Bipartite Network created. Time taken:  0.0008696317672729492 minutes\n",
            "Bipartite Network projected. Time taken:  0.00033295551935831705 minutes\n",
            "Model extracted. Time taken:  0.0016080617904663086 minutes\n",
            "Model stored to disk\n",
            "train columns:  3\n",
            "No test data\n",
            "Done with a a_p_b\n",
            "Time taken:  0.003644708792368571\n",
            "Entry made in file progress.csv\n",
            "('b', 'a', list([1, 1, 1, 0, None]))\n",
            "\n",
            "Next:  3 b a\n",
            "========================\n",
            "No of unique values in  b  are:  480\n",
            "Bipartite Network created. Time taken:  0.0006151477495829265 minutes\n",
            "Bipartite Network projected. Time taken:  0.0037505586942036947 minutes\n",
            "Model extracted. Time taken:  0.006672906875610352 minutes\n",
            "Model stored to disk\n",
            "train columns:  3\n",
            "No test data\n",
            "Done with b a\n",
            "Time taken:  0.011785046259562174\n",
            "Entry made in file progress.csv\n",
            "('b', 'a_p_b', list([1, 1, 1, 0, None]))\n",
            "\n",
            "Next:  4 b a_p_b\n",
            "========================\n",
            "No of unique values in  b  are:  480\n",
            "Bipartite Network created. Time taken:  0.0006290872891743978 minutes\n",
            "Bipartite Network projected. Time taken:  0.0003036578496297201 minutes\n",
            "Model extracted. Time taken:  0.0016763130823771158 minutes\n",
            "Model stored to disk\n",
            "train columns:  3\n",
            "No test data\n",
            "Done with b a_p_b\n",
            "Time taken:  0.003318301836649577\n",
            "Entry made in file progress.csv\n",
            "('a_p_b', 'a', list([1, 1, 1, 0, None]))\n",
            "\n",
            "Next:  5 a_p_b a\n",
            "========================\n",
            "No of unique values in  a_p_b  are:  5582\n",
            "Bipartite Network created. Time taken:  0.0009086966514587402 minutes\n",
            "Bipartite Network projected. Time taken:  0.00525433619817098 minutes\n",
            "Model extracted. Time taken:  0.010124027729034424 minutes\n",
            "Model stored to disk\n",
            "train columns:  3\n",
            "No test data\n",
            "Done with a_p_b a\n",
            "Time taken:  0.02265532414118449\n",
            "Entry made in file progress.csv\n",
            "('a_p_b', 'b', list([1, 1, 1, 0, None]))\n",
            "\n",
            "Next:  6 a_p_b b\n",
            "========================\n",
            "No of unique values in  a_p_b  are:  5582\n",
            "Bipartite Network created. Time taken:  0.0007270614306131999 minutes\n",
            "Bipartite Network projected. Time taken:  0.004017452398935954 minutes\n",
            "Model extracted. Time taken:  0.00695714553197225 minutes\n",
            "Model stored to disk\n",
            "train columns:  3\n",
            "No test data\n",
            "Done with a_p_b b\n",
            "Time taken:  0.018456542491912843\n",
            "Entry made in file progress.csv\n",
            "\n",
            "List done. X1_train shape  (5908, 3)\n"
          ]
        }
      ]
    },
    {
      "cell_type": "code",
      "source": [
        "def readStoredModels(pathToReadFrom, fileList):\n",
        "  model_dfs = []\n",
        "  os.chdir(pathToReadFrom)\n",
        "  for file in fileList:\n",
        "    df = pd.read_pickle(file)\n",
        "    model_dfs.append(df)\n",
        "  return model_dfs\n"
      ],
      "metadata": {
        "id": "bM7Gp42Ys6G2"
      },
      "execution_count": 80,
      "outputs": []
    },
    {
      "cell_type": "code",
      "source": [
        "os.chdir(modelsPath)\n",
        "files = os.listdir()\n",
        "file_list = [file for file in files if (\"deg_a_ck\" in file) or (\"eig_a_ck\" in file) or (\"pr_a_ck\" in file) ]\n"
      ],
      "metadata": {
        "id": "5FZPFj7MwsxE"
      },
      "execution_count": 81,
      "outputs": []
    },
    {
      "cell_type": "code",
      "source": [
        "models = readStoredModels(modelsPath, file_list)"
      ],
      "metadata": {
        "id": "xMbQfdtCrhNP"
      },
      "execution_count": 83,
      "outputs": []
    },
    {
      "cell_type": "code",
      "source": [
        "# Merge models\n",
        "for i, model in enumerate(models):\n",
        "  if i == 0:\n",
        "    df = model\n",
        "  else:\n",
        "    df = pd.merge(df, model, left_index=True, right_index=True)  \n",
        "\n",
        "\n",
        "\n"
      ],
      "metadata": {
        "id": "zLLRmc1Sv08r"
      },
      "execution_count": 84,
      "outputs": []
    },
    {
      "cell_type": "code",
      "source": [
        "df"
      ],
      "metadata": {
        "colab": {
          "base_uri": "https://localhost:8080/",
          "height": 649
        },
        "id": "ODtWMYTWsnBb",
        "outputId": "446f3c9b-538b-421b-d994-9260f0ebcc72"
      },
      "execution_count": 85,
      "outputs": [
        {
          "output_type": "execute_result",
          "data": {
            "text/plain": [
              "       deg_a_ck_b  eig_a_ck_b  pr_a_ck_b  deg_a_ck_a_p_b  eig_a_ck_a_p_b  \\\n",
              "a                                                                          \n",
              "1.0      0.943633    0.136821   0.007628             0.0        0.043262   \n",
              "2.0      0.787056    0.120828   0.006361             0.0        0.077953   \n",
              "3.0      0.787056    0.117384   0.006390             0.0       -0.052496   \n",
              "4.0      0.736952    0.111466   0.005999             0.0       -0.075497   \n",
              "5.0      0.716075    0.112652   0.005796             0.0       -0.021041   \n",
              "...           ...         ...        ...             ...             ...   \n",
              "476.0    0.212944    0.038622   0.001909             0.0        0.054573   \n",
              "477.0    0.187891    0.032655   0.001733             0.0       -0.071345   \n",
              "478.0    0.219207    0.035809   0.001989             0.0        0.067491   \n",
              "479.0    0.152401    0.025139   0.001487             0.0        0.079582   \n",
              "480.0    0.098121    0.017929   0.001052             0.0        0.026449   \n",
              "\n",
              "       pr_a_ck_a_p_b  \n",
              "a                     \n",
              "1.0         0.002083  \n",
              "2.0         0.002083  \n",
              "3.0         0.002083  \n",
              "4.0         0.002083  \n",
              "5.0         0.002083  \n",
              "...              ...  \n",
              "476.0       0.002083  \n",
              "477.0       0.002083  \n",
              "478.0       0.002083  \n",
              "479.0       0.002083  \n",
              "480.0       0.002083  \n",
              "\n",
              "[480 rows x 6 columns]"
            ],
            "text/html": [
              "\n",
              "  <div id=\"df-3d7f2dcf-ffce-4adf-913b-90dffafc9d7d\">\n",
              "    <div class=\"colab-df-container\">\n",
              "      <div>\n",
              "<style scoped>\n",
              "    .dataframe tbody tr th:only-of-type {\n",
              "        vertical-align: middle;\n",
              "    }\n",
              "\n",
              "    .dataframe tbody tr th {\n",
              "        vertical-align: top;\n",
              "    }\n",
              "\n",
              "    .dataframe thead th {\n",
              "        text-align: right;\n",
              "    }\n",
              "</style>\n",
              "<table border=\"1\" class=\"dataframe\">\n",
              "  <thead>\n",
              "    <tr style=\"text-align: right;\">\n",
              "      <th></th>\n",
              "      <th>deg_a_ck_b</th>\n",
              "      <th>eig_a_ck_b</th>\n",
              "      <th>pr_a_ck_b</th>\n",
              "      <th>deg_a_ck_a_p_b</th>\n",
              "      <th>eig_a_ck_a_p_b</th>\n",
              "      <th>pr_a_ck_a_p_b</th>\n",
              "    </tr>\n",
              "    <tr>\n",
              "      <th>a</th>\n",
              "      <th></th>\n",
              "      <th></th>\n",
              "      <th></th>\n",
              "      <th></th>\n",
              "      <th></th>\n",
              "      <th></th>\n",
              "    </tr>\n",
              "  </thead>\n",
              "  <tbody>\n",
              "    <tr>\n",
              "      <th>1.0</th>\n",
              "      <td>0.943633</td>\n",
              "      <td>0.136821</td>\n",
              "      <td>0.007628</td>\n",
              "      <td>0.0</td>\n",
              "      <td>0.043262</td>\n",
              "      <td>0.002083</td>\n",
              "    </tr>\n",
              "    <tr>\n",
              "      <th>2.0</th>\n",
              "      <td>0.787056</td>\n",
              "      <td>0.120828</td>\n",
              "      <td>0.006361</td>\n",
              "      <td>0.0</td>\n",
              "      <td>0.077953</td>\n",
              "      <td>0.002083</td>\n",
              "    </tr>\n",
              "    <tr>\n",
              "      <th>3.0</th>\n",
              "      <td>0.787056</td>\n",
              "      <td>0.117384</td>\n",
              "      <td>0.006390</td>\n",
              "      <td>0.0</td>\n",
              "      <td>-0.052496</td>\n",
              "      <td>0.002083</td>\n",
              "    </tr>\n",
              "    <tr>\n",
              "      <th>4.0</th>\n",
              "      <td>0.736952</td>\n",
              "      <td>0.111466</td>\n",
              "      <td>0.005999</td>\n",
              "      <td>0.0</td>\n",
              "      <td>-0.075497</td>\n",
              "      <td>0.002083</td>\n",
              "    </tr>\n",
              "    <tr>\n",
              "      <th>5.0</th>\n",
              "      <td>0.716075</td>\n",
              "      <td>0.112652</td>\n",
              "      <td>0.005796</td>\n",
              "      <td>0.0</td>\n",
              "      <td>-0.021041</td>\n",
              "      <td>0.002083</td>\n",
              "    </tr>\n",
              "    <tr>\n",
              "      <th>...</th>\n",
              "      <td>...</td>\n",
              "      <td>...</td>\n",
              "      <td>...</td>\n",
              "      <td>...</td>\n",
              "      <td>...</td>\n",
              "      <td>...</td>\n",
              "    </tr>\n",
              "    <tr>\n",
              "      <th>476.0</th>\n",
              "      <td>0.212944</td>\n",
              "      <td>0.038622</td>\n",
              "      <td>0.001909</td>\n",
              "      <td>0.0</td>\n",
              "      <td>0.054573</td>\n",
              "      <td>0.002083</td>\n",
              "    </tr>\n",
              "    <tr>\n",
              "      <th>477.0</th>\n",
              "      <td>0.187891</td>\n",
              "      <td>0.032655</td>\n",
              "      <td>0.001733</td>\n",
              "      <td>0.0</td>\n",
              "      <td>-0.071345</td>\n",
              "      <td>0.002083</td>\n",
              "    </tr>\n",
              "    <tr>\n",
              "      <th>478.0</th>\n",
              "      <td>0.219207</td>\n",
              "      <td>0.035809</td>\n",
              "      <td>0.001989</td>\n",
              "      <td>0.0</td>\n",
              "      <td>0.067491</td>\n",
              "      <td>0.002083</td>\n",
              "    </tr>\n",
              "    <tr>\n",
              "      <th>479.0</th>\n",
              "      <td>0.152401</td>\n",
              "      <td>0.025139</td>\n",
              "      <td>0.001487</td>\n",
              "      <td>0.0</td>\n",
              "      <td>0.079582</td>\n",
              "      <td>0.002083</td>\n",
              "    </tr>\n",
              "    <tr>\n",
              "      <th>480.0</th>\n",
              "      <td>0.098121</td>\n",
              "      <td>0.017929</td>\n",
              "      <td>0.001052</td>\n",
              "      <td>0.0</td>\n",
              "      <td>0.026449</td>\n",
              "      <td>0.002083</td>\n",
              "    </tr>\n",
              "  </tbody>\n",
              "</table>\n",
              "<p>480 rows × 6 columns</p>\n",
              "</div>\n",
              "      <button class=\"colab-df-convert\" onclick=\"convertToInteractive('df-3d7f2dcf-ffce-4adf-913b-90dffafc9d7d')\"\n",
              "              title=\"Convert this dataframe to an interactive table.\"\n",
              "              style=\"display:none;\">\n",
              "        \n",
              "  <svg xmlns=\"http://www.w3.org/2000/svg\" height=\"24px\"viewBox=\"0 0 24 24\"\n",
              "       width=\"24px\">\n",
              "    <path d=\"M0 0h24v24H0V0z\" fill=\"none\"/>\n",
              "    <path d=\"M18.56 5.44l.94 2.06.94-2.06 2.06-.94-2.06-.94-.94-2.06-.94 2.06-2.06.94zm-11 1L8.5 8.5l.94-2.06 2.06-.94-2.06-.94L8.5 2.5l-.94 2.06-2.06.94zm10 10l.94 2.06.94-2.06 2.06-.94-2.06-.94-.94-2.06-.94 2.06-2.06.94z\"/><path d=\"M17.41 7.96l-1.37-1.37c-.4-.4-.92-.59-1.43-.59-.52 0-1.04.2-1.43.59L10.3 9.45l-7.72 7.72c-.78.78-.78 2.05 0 2.83L4 21.41c.39.39.9.59 1.41.59.51 0 1.02-.2 1.41-.59l7.78-7.78 2.81-2.81c.8-.78.8-2.07 0-2.86zM5.41 20L4 18.59l7.72-7.72 1.47 1.35L5.41 20z\"/>\n",
              "  </svg>\n",
              "      </button>\n",
              "      \n",
              "  <style>\n",
              "    .colab-df-container {\n",
              "      display:flex;\n",
              "      flex-wrap:wrap;\n",
              "      gap: 12px;\n",
              "    }\n",
              "\n",
              "    .colab-df-convert {\n",
              "      background-color: #E8F0FE;\n",
              "      border: none;\n",
              "      border-radius: 50%;\n",
              "      cursor: pointer;\n",
              "      display: none;\n",
              "      fill: #1967D2;\n",
              "      height: 32px;\n",
              "      padding: 0 0 0 0;\n",
              "      width: 32px;\n",
              "    }\n",
              "\n",
              "    .colab-df-convert:hover {\n",
              "      background-color: #E2EBFA;\n",
              "      box-shadow: 0px 1px 2px rgba(60, 64, 67, 0.3), 0px 1px 3px 1px rgba(60, 64, 67, 0.15);\n",
              "      fill: #174EA6;\n",
              "    }\n",
              "\n",
              "    [theme=dark] .colab-df-convert {\n",
              "      background-color: #3B4455;\n",
              "      fill: #D2E3FC;\n",
              "    }\n",
              "\n",
              "    [theme=dark] .colab-df-convert:hover {\n",
              "      background-color: #434B5C;\n",
              "      box-shadow: 0px 1px 3px 1px rgba(0, 0, 0, 0.15);\n",
              "      filter: drop-shadow(0px 1px 2px rgba(0, 0, 0, 0.3));\n",
              "      fill: #FFFFFF;\n",
              "    }\n",
              "  </style>\n",
              "\n",
              "      <script>\n",
              "        const buttonEl =\n",
              "          document.querySelector('#df-3d7f2dcf-ffce-4adf-913b-90dffafc9d7d button.colab-df-convert');\n",
              "        buttonEl.style.display =\n",
              "          google.colab.kernel.accessAllowed ? 'block' : 'none';\n",
              "\n",
              "        async function convertToInteractive(key) {\n",
              "          const element = document.querySelector('#df-3d7f2dcf-ffce-4adf-913b-90dffafc9d7d');\n",
              "          const dataTable =\n",
              "            await google.colab.kernel.invokeFunction('convertToInteractive',\n",
              "                                                     [key], {});\n",
              "          if (!dataTable) return;\n",
              "\n",
              "          const docLinkHtml = 'Like what you see? Visit the ' +\n",
              "            '<a target=\"_blank\" href=https://colab.research.google.com/notebooks/data_table.ipynb>data table notebook</a>'\n",
              "            + ' to learn more about interactive tables.';\n",
              "          element.innerHTML = '';\n",
              "          dataTable['output_type'] = 'display_data';\n",
              "          await google.colab.output.renderOutput(dataTable, element);\n",
              "          const docLink = document.createElement('div');\n",
              "          docLink.innerHTML = docLinkHtml;\n",
              "          element.appendChild(docLink);\n",
              "        }\n",
              "      </script>\n",
              "    </div>\n",
              "  </div>\n",
              "  "
            ]
          },
          "metadata": {},
          "execution_count": 85
        }
      ]
    },
    {
      "cell_type": "code",
      "source": [
        "# Save dataframe:\n",
        "os.chdir(dataPath)\n",
        "df.to_pickle(\"word2vec.pkl\")\n"
      ],
      "metadata": {
        "id": "87hVqIMzvqx1"
      },
      "execution_count": 86,
      "outputs": []
    },
    {
      "cell_type": "code",
      "source": [
        "# Load word2vec\n",
        "os.chdir(dataPath)\n",
        "pd.read_pickle(\"word2vec.pkl\")"
      ],
      "metadata": {
        "colab": {
          "base_uri": "https://localhost:8080/",
          "height": 455
        },
        "id": "R4fl9iuZyXi0",
        "outputId": "98edf9dd-8c95-4ae6-8c55-630e707cab5e"
      },
      "execution_count": 88,
      "outputs": [
        {
          "output_type": "execute_result",
          "data": {
            "text/plain": [
              "       deg_a_ck_b  eig_a_ck_b  pr_a_ck_b  deg_a_ck_a_p_b  eig_a_ck_a_p_b  \\\n",
              "a                                                                          \n",
              "1.0      0.943633    0.136821   0.007628             0.0        0.043262   \n",
              "2.0      0.787056    0.120828   0.006361             0.0        0.077953   \n",
              "3.0      0.787056    0.117384   0.006390             0.0       -0.052496   \n",
              "4.0      0.736952    0.111466   0.005999             0.0       -0.075497   \n",
              "5.0      0.716075    0.112652   0.005796             0.0       -0.021041   \n",
              "...           ...         ...        ...             ...             ...   \n",
              "476.0    0.212944    0.038622   0.001909             0.0        0.054573   \n",
              "477.0    0.187891    0.032655   0.001733             0.0       -0.071345   \n",
              "478.0    0.219207    0.035809   0.001989             0.0        0.067491   \n",
              "479.0    0.152401    0.025139   0.001487             0.0        0.079582   \n",
              "480.0    0.098121    0.017929   0.001052             0.0        0.026449   \n",
              "\n",
              "       pr_a_ck_a_p_b  \n",
              "a                     \n",
              "1.0         0.002083  \n",
              "2.0         0.002083  \n",
              "3.0         0.002083  \n",
              "4.0         0.002083  \n",
              "5.0         0.002083  \n",
              "...              ...  \n",
              "476.0       0.002083  \n",
              "477.0       0.002083  \n",
              "478.0       0.002083  \n",
              "479.0       0.002083  \n",
              "480.0       0.002083  \n",
              "\n",
              "[480 rows x 6 columns]"
            ],
            "text/html": [
              "\n",
              "  <div id=\"df-c10da6c5-6564-4a6f-8413-b6aa1265e1c0\">\n",
              "    <div class=\"colab-df-container\">\n",
              "      <div>\n",
              "<style scoped>\n",
              "    .dataframe tbody tr th:only-of-type {\n",
              "        vertical-align: middle;\n",
              "    }\n",
              "\n",
              "    .dataframe tbody tr th {\n",
              "        vertical-align: top;\n",
              "    }\n",
              "\n",
              "    .dataframe thead th {\n",
              "        text-align: right;\n",
              "    }\n",
              "</style>\n",
              "<table border=\"1\" class=\"dataframe\">\n",
              "  <thead>\n",
              "    <tr style=\"text-align: right;\">\n",
              "      <th></th>\n",
              "      <th>deg_a_ck_b</th>\n",
              "      <th>eig_a_ck_b</th>\n",
              "      <th>pr_a_ck_b</th>\n",
              "      <th>deg_a_ck_a_p_b</th>\n",
              "      <th>eig_a_ck_a_p_b</th>\n",
              "      <th>pr_a_ck_a_p_b</th>\n",
              "    </tr>\n",
              "    <tr>\n",
              "      <th>a</th>\n",
              "      <th></th>\n",
              "      <th></th>\n",
              "      <th></th>\n",
              "      <th></th>\n",
              "      <th></th>\n",
              "      <th></th>\n",
              "    </tr>\n",
              "  </thead>\n",
              "  <tbody>\n",
              "    <tr>\n",
              "      <th>1.0</th>\n",
              "      <td>0.943633</td>\n",
              "      <td>0.136821</td>\n",
              "      <td>0.007628</td>\n",
              "      <td>0.0</td>\n",
              "      <td>0.043262</td>\n",
              "      <td>0.002083</td>\n",
              "    </tr>\n",
              "    <tr>\n",
              "      <th>2.0</th>\n",
              "      <td>0.787056</td>\n",
              "      <td>0.120828</td>\n",
              "      <td>0.006361</td>\n",
              "      <td>0.0</td>\n",
              "      <td>0.077953</td>\n",
              "      <td>0.002083</td>\n",
              "    </tr>\n",
              "    <tr>\n",
              "      <th>3.0</th>\n",
              "      <td>0.787056</td>\n",
              "      <td>0.117384</td>\n",
              "      <td>0.006390</td>\n",
              "      <td>0.0</td>\n",
              "      <td>-0.052496</td>\n",
              "      <td>0.002083</td>\n",
              "    </tr>\n",
              "    <tr>\n",
              "      <th>4.0</th>\n",
              "      <td>0.736952</td>\n",
              "      <td>0.111466</td>\n",
              "      <td>0.005999</td>\n",
              "      <td>0.0</td>\n",
              "      <td>-0.075497</td>\n",
              "      <td>0.002083</td>\n",
              "    </tr>\n",
              "    <tr>\n",
              "      <th>5.0</th>\n",
              "      <td>0.716075</td>\n",
              "      <td>0.112652</td>\n",
              "      <td>0.005796</td>\n",
              "      <td>0.0</td>\n",
              "      <td>-0.021041</td>\n",
              "      <td>0.002083</td>\n",
              "    </tr>\n",
              "    <tr>\n",
              "      <th>...</th>\n",
              "      <td>...</td>\n",
              "      <td>...</td>\n",
              "      <td>...</td>\n",
              "      <td>...</td>\n",
              "      <td>...</td>\n",
              "      <td>...</td>\n",
              "    </tr>\n",
              "    <tr>\n",
              "      <th>476.0</th>\n",
              "      <td>0.212944</td>\n",
              "      <td>0.038622</td>\n",
              "      <td>0.001909</td>\n",
              "      <td>0.0</td>\n",
              "      <td>0.054573</td>\n",
              "      <td>0.002083</td>\n",
              "    </tr>\n",
              "    <tr>\n",
              "      <th>477.0</th>\n",
              "      <td>0.187891</td>\n",
              "      <td>0.032655</td>\n",
              "      <td>0.001733</td>\n",
              "      <td>0.0</td>\n",
              "      <td>-0.071345</td>\n",
              "      <td>0.002083</td>\n",
              "    </tr>\n",
              "    <tr>\n",
              "      <th>478.0</th>\n",
              "      <td>0.219207</td>\n",
              "      <td>0.035809</td>\n",
              "      <td>0.001989</td>\n",
              "      <td>0.0</td>\n",
              "      <td>0.067491</td>\n",
              "      <td>0.002083</td>\n",
              "    </tr>\n",
              "    <tr>\n",
              "      <th>479.0</th>\n",
              "      <td>0.152401</td>\n",
              "      <td>0.025139</td>\n",
              "      <td>0.001487</td>\n",
              "      <td>0.0</td>\n",
              "      <td>0.079582</td>\n",
              "      <td>0.002083</td>\n",
              "    </tr>\n",
              "    <tr>\n",
              "      <th>480.0</th>\n",
              "      <td>0.098121</td>\n",
              "      <td>0.017929</td>\n",
              "      <td>0.001052</td>\n",
              "      <td>0.0</td>\n",
              "      <td>0.026449</td>\n",
              "      <td>0.002083</td>\n",
              "    </tr>\n",
              "  </tbody>\n",
              "</table>\n",
              "<p>480 rows × 6 columns</p>\n",
              "</div>\n",
              "      <button class=\"colab-df-convert\" onclick=\"convertToInteractive('df-c10da6c5-6564-4a6f-8413-b6aa1265e1c0')\"\n",
              "              title=\"Convert this dataframe to an interactive table.\"\n",
              "              style=\"display:none;\">\n",
              "        \n",
              "  <svg xmlns=\"http://www.w3.org/2000/svg\" height=\"24px\"viewBox=\"0 0 24 24\"\n",
              "       width=\"24px\">\n",
              "    <path d=\"M0 0h24v24H0V0z\" fill=\"none\"/>\n",
              "    <path d=\"M18.56 5.44l.94 2.06.94-2.06 2.06-.94-2.06-.94-.94-2.06-.94 2.06-2.06.94zm-11 1L8.5 8.5l.94-2.06 2.06-.94-2.06-.94L8.5 2.5l-.94 2.06-2.06.94zm10 10l.94 2.06.94-2.06 2.06-.94-2.06-.94-.94-2.06-.94 2.06-2.06.94z\"/><path d=\"M17.41 7.96l-1.37-1.37c-.4-.4-.92-.59-1.43-.59-.52 0-1.04.2-1.43.59L10.3 9.45l-7.72 7.72c-.78.78-.78 2.05 0 2.83L4 21.41c.39.39.9.59 1.41.59.51 0 1.02-.2 1.41-.59l7.78-7.78 2.81-2.81c.8-.78.8-2.07 0-2.86zM5.41 20L4 18.59l7.72-7.72 1.47 1.35L5.41 20z\"/>\n",
              "  </svg>\n",
              "      </button>\n",
              "      \n",
              "  <style>\n",
              "    .colab-df-container {\n",
              "      display:flex;\n",
              "      flex-wrap:wrap;\n",
              "      gap: 12px;\n",
              "    }\n",
              "\n",
              "    .colab-df-convert {\n",
              "      background-color: #E8F0FE;\n",
              "      border: none;\n",
              "      border-radius: 50%;\n",
              "      cursor: pointer;\n",
              "      display: none;\n",
              "      fill: #1967D2;\n",
              "      height: 32px;\n",
              "      padding: 0 0 0 0;\n",
              "      width: 32px;\n",
              "    }\n",
              "\n",
              "    .colab-df-convert:hover {\n",
              "      background-color: #E2EBFA;\n",
              "      box-shadow: 0px 1px 2px rgba(60, 64, 67, 0.3), 0px 1px 3px 1px rgba(60, 64, 67, 0.15);\n",
              "      fill: #174EA6;\n",
              "    }\n",
              "\n",
              "    [theme=dark] .colab-df-convert {\n",
              "      background-color: #3B4455;\n",
              "      fill: #D2E3FC;\n",
              "    }\n",
              "\n",
              "    [theme=dark] .colab-df-convert:hover {\n",
              "      background-color: #434B5C;\n",
              "      box-shadow: 0px 1px 3px 1px rgba(0, 0, 0, 0.15);\n",
              "      filter: drop-shadow(0px 1px 2px rgba(0, 0, 0, 0.3));\n",
              "      fill: #FFFFFF;\n",
              "    }\n",
              "  </style>\n",
              "\n",
              "      <script>\n",
              "        const buttonEl =\n",
              "          document.querySelector('#df-c10da6c5-6564-4a6f-8413-b6aa1265e1c0 button.colab-df-convert');\n",
              "        buttonEl.style.display =\n",
              "          google.colab.kernel.accessAllowed ? 'block' : 'none';\n",
              "\n",
              "        async function convertToInteractive(key) {\n",
              "          const element = document.querySelector('#df-c10da6c5-6564-4a6f-8413-b6aa1265e1c0');\n",
              "          const dataTable =\n",
              "            await google.colab.kernel.invokeFunction('convertToInteractive',\n",
              "                                                     [key], {});\n",
              "          if (!dataTable) return;\n",
              "\n",
              "          const docLinkHtml = 'Like what you see? Visit the ' +\n",
              "            '<a target=\"_blank\" href=https://colab.research.google.com/notebooks/data_table.ipynb>data table notebook</a>'\n",
              "            + ' to learn more about interactive tables.';\n",
              "          element.innerHTML = '';\n",
              "          dataTable['output_type'] = 'display_data';\n",
              "          await google.colab.output.renderOutput(dataTable, element);\n",
              "          const docLink = document.createElement('div');\n",
              "          docLink.innerHTML = docLinkHtml;\n",
              "          element.appendChild(docLink);\n",
              "        }\n",
              "      </script>\n",
              "    </div>\n",
              "  </div>\n",
              "  "
            ]
          },
          "metadata": {},
          "execution_count": 88
        }
      ]
    },
    {
      "cell_type": "code",
      "source": [
        "# Read dicionary\n",
        "word2index"
      ],
      "metadata": {
        "colab": {
          "base_uri": "https://localhost:8080/",
          "height": 159
        },
        "id": "bKkUT6kKygh3",
        "outputId": "abfb3676-dd74-42ac-c8bf-3f68bad49418"
      },
      "execution_count": 89,
      "outputs": [
        {
          "output_type": "execute_result",
          "data": {
            "text/plain": [
              "\"{'football': 1, 'ball': 2, 'symptoms': 3, 'religion': 4, 'codes': 5, 'include': 6, 'various': 7, 'covid': 8, 'may': 9, 'people': 10, 'develop': 11, 'players': 12, 'rules': 13, 'virus': 14, 'religious': 15, 'team': 16, 'sports': 17, 'kicking': 18, 'goal': 19, 'word': 20, 'rugby': 21, 'common': 22, 'games': 23, 'disease': 24, 'religions': 25, 'popular': 26, 'known': 27, 'league': 28, 'gaelic': 29, 'many': 30, 'public': 31, 'th': 32, 'century': 33, 'spread': 34, 'elements': 35, 'two': 36, 'also': 37, 'either': 38, 'foot': 39, 'severe': 40, 'risk': 41, 'contaminated': 42, 'transcription': 43, 'social': 44, 'beliefs': 45, 'supernatural': 46, 'sacred': 47, 'life': 48, 'varying': 49, 'form': 50, 'association': 51, 'american': 52, 'canadian': 53, 'australian': 54, 'union': 55, 'share': 56, 'origins': 57, 'traditional': 58, 'played': 59, 'different': 60, 'world': 61, 'cultural': 62, 'influence': 63, 'british': 64, 'empire': 65, 'end': 66, 'distinct': 67, 'developing': 68, 'first': 69, 'several': 70, 'moved': 71, 'field': 72, 'hands': 73, 'teams': 74, 'usually': 75, 'defined': 76, 'area': 77, 'scoring': 78, 'goals': 79, 'points': 80, 'opposing': 81, 'line': 82, 'resulting': 83, 'goalposts': 84, 'explanations': 85, 'origin': 86, 'explanation': 87, 'variety': 88, 'coronavirus': 89, 'contagious': 90, 'respiratory': 91, 'worldwide': 92, 'breathing': 93, 'loss': 94, 'days': 95, 'noticeable': 96, 'mild': 97, 'effects': 98, 'long': 99, 'studies': 100, 'underway': 101, 'transmission': 102, 'reverse': 103, 'mediated': 104, 'amplification': 105, 'measures': 106, 'face': 107, 'treatment': 108, 'practices': 109, 'places': 110, 'contain': 111, 'faith': 112, 'services': 113, 'mostly': 114, 'population': 115, 'religiously': 116, 'unaffiliated': 117, 'including': 118, 'family': 119, 'involve': 120, 'degrees': 121, 'score': 122, 'unqualified': 123, 'normally': 124, 'means': 125, 'used': 126, 'commonly': 127, 'called': 128, 'soccer': 129, 'north': 130, 'america': 131, 'oceania': 132, 'gridiron': 133, 'specifically': 134, 'forms': 135, 'extent': 136, 'number': 137, 'references': 138, 'ancient': 139, 'prehistoric': 140, 'parts': 141, 'contemporary': 142, 'traced': 143, 'back': 144, 'codification': 145, 'english': 146, 'schools': 147, 'expansion': 148, 'allowed': 149, 'areas': 150, 'outside': 151, 'directly': 152, 'controlled': 153, 'regional': 154, 'already': 155, 'example': 156, 'deliberately': 157, 'incorporated': 158, 'local': 159, 'order': 160, 'maintain': 161, 'heritage': 162, 'founded': 163, 'england': 164, 'becoming': 165, 'professional': 166, 'associations': 167, 'kinds': 168, 'grew': 169, 'become': 170, 'certain': 171, 'grouped': 172, 'main': 173, 'classes': 174, 'carrying': 175, 'like': 176, 'held': 177, 'thrown': 178, 'primarily': 179, 'feet': 180, 'handling': 181, 'strictly': 182, 'limited': 183, 'among': 184, 'variations': 185, 'fewer': 186, 'five': 187, 'per': 188, 'clearly': 189, 'play': 190, 'game': 191, 'moving': 192, 'putting': 193, 'defended': 194, 'using': 195, 'body': 196, 'move': 197, 'skills': 198, 'passing': 199, 'tackling': 200, 'evasion': 201, 'tackles': 202, 'catching': 203, 'restricting': 204, 'movement': 205, 'offside': 206, 'must': 207, 'put': 208, 'crossbar': 209, 'conflicting': 210, 'widely': 211, 'assumed': 212, 'phrase': 213, 'refers': 214, 'action': 215, 'alternative': 216, 'originally': 217, 'referred': 218, 'medieval': 219, 'europe': 220, 'conclusive': 221, 'evidence': 222, 'caused': 223, 'acute': 224, 'syndrome': 225, 'sars': 226, 'cov': 227, 'case': 228, 'identified': 229, 'wuhan': 230, 'china': 231, 'december': 232, 'quickly': 233, 'pandemic': 234, 'variable': 235, 'often': 236, 'fever': 237, 'cough': 238, 'headache': 239, 'fatigue': 240, 'difficulties': 241, 'smell': 242, 'taste': 243, 'begin': 244, 'one': 245, 'fourteen': 246, 'exposure': 247, 'least': 248, 'third': 249, 'infected': 250, 'enough': 251, 'classed': 252, 'patients': 253, 'moderate': 254, 'pneumonia': 255, 'dyspnoea': 256, 'hypoxia': 257, 'lung': 258, 'involvement': 259, 'imaging': 260, 'critical': 261, 'failure': 262, 'shock': 263, 'multiorgan': 264, 'dysfunction': 265, 'older': 266, 'higher': 267, 'continue': 268, 'experience': 269, 'range': 270, 'months': 271, 'recovery': 272, 'damage': 273, 'organs': 274, 'observed': 275, 'multi': 276, 'year': 277, 'investigate': 278, 'term': 279, 'transmits': 280, 'breathe': 281, 'air': 282, 'droplets': 283, 'small': 284, 'airborne': 285, 'particles': 286, 'containing': 287, 'highest': 288, 'close': 289, 'proximity': 290, 'inhaled': 291, 'longer': 292, 'distances': 293, 'particularly': 294, 'indoors': 295, 'occur': 296, 'splashed': 297, 'sprayed': 298, 'fluids': 299, 'eyes': 300, 'nose': 301, 'mouth': 302, 'rarely': 303, 'via': 304, 'surfaces': 305, 'remain': 306, 'even': 307, 'testing': 308, 'methods': 309, 'detect': 310, 'viruss': 311, 'nucleic': 312, 'acid': 313, 'real': 314, 'time': 315, 'polymerase': 316, 'chain': 317, 'reaction': 318, 'rrt': 319, 'pcr': 320, 'loop': 321, 'isothermal': 322, 'rt': 323, 'lamp': 324, 'nasopharyngeal': 325, 'swab': 326, 'vaccines': 327, 'approved': 328, 'distributed': 329, 'countries': 330, 'initiated': 331, 'mass': 332, 'vaccination': 333, 'campaigns': 334, 'preventive': 335, 'physical': 336, 'distancing': 337, 'quarantining': 338, 'ventilation': 339, 'indoor': 340, 'spaces': 341, 'covering': 342, 'coughs': 343, 'sneezes': 344, 'hand': 345, 'washing': 346, 'keeping': 347, 'unwashed': 348, 'away': 349, 'use': 350, 'masks': 351, 'coverings': 352, 'recommended': 353, 'settings': 354, 'minimise': 355, 'work': 356, 'drugs': 357, 'inhibit': 358, 'primary': 359, 'symptomatic': 360, 'management': 361, 'involves': 362, 'supportive': 363, 'care': 364, 'isolation': 365, 'experimental': 366, 'system': 367, 'designated': 368, 'behaviors': 369, 'morals': 370, 'worldviews': 371, 'texts': 372, 'sanctified': 373, 'prophecies': 374, 'ethics': 375, 'organizations': 376, 'generally': 377, 'relates': 378, 'humanity': 379, 'transcendental': 380, 'spiritual': 381, 'however': 382, 'scholarly': 383, 'consensus': 384, 'precisely': 385, 'constitutes': 386, 'ranging': 387, 'divine': 388, 'things': 389, 'beings': 390, 'sort': 391, 'ultimacy': 392, 'transcendence': 393, 'provide': 394, 'norms': 395, 'power': 396, 'rest': 397, 'rituals': 398, 'sermons': 399, 'commemoration': 400, 'veneration': 401, 'deities': 402, 'saints': 403, 'sacrifices': 404, 'festivals': 405, 'feasts': 406, 'trances': 407, 'initiations': 408, 'funerary': 409, 'matrimonial': 410, 'meditation': 411, 'prayer': 412, 'music': 413, 'art': 414, 'dance': 415, 'service': 416, 'aspects': 417, 'human': 418, 'culture': 419, 'histories': 420, 'narratives': 421, 'preserved': 422, 'scriptures': 423, 'symbols': 424, 'holy': 425, 'aim': 426, 'give': 427, 'meaning': 428, 'symbolic': 429, 'stories': 430, 'sometimes': 431, 'said': 432, 'followers': 433, 'true': 434, 'attempt': 435, 'explain': 436, 'universe': 437, 'phenomena': 438, 'traditionally': 439, 'addition': 440, 'reason': 441, 'considered': 442, 'source': 443, 'estimated': 444, 'worlds': 445, 'affiliated': 446, 'christianity': 447, 'islam': 448, 'hinduism': 449, 'buddhism': 450, 'folk': 451, 'demographic': 452, 'includes': 453, 'identify': 454, 'particular': 455, 'atheists': 456, 'agnostics': 457, 'still': 458, 'portion': 459, 'located': 460, 'africa': 461, 'asia': 462, 'members': 463, 'new': 464, 'movements': 465, 'study': 466, 'comprises': 467, 'wide': 468, 'academic': 469, 'disciplines': 470, 'theology': 471, 'philosophy': 472, 'comparative': 473, 'scientific': 474, 'theories': 475, 'offer': 476, 'workings': 477, 'ontological': 478, 'foundations': 479, 'belief': 480}\""
            ],
            "application/vnd.google.colaboratory.intrinsic+json": {
              "type": "string"
            }
          },
          "metadata": {},
          "execution_count": 89
        }
      ]
    },
    {
      "cell_type": "code",
      "source": [
        "# Convert them to tsv files in proper format\n",
        "# as vector.tsv and as meta,tsv"
      ],
      "metadata": {
        "id": "6Z3U_oGuyr_w"
      },
      "execution_count": null,
      "outputs": []
    }
  ]
}