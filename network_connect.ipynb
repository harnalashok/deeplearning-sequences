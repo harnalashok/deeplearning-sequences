{
  "nbformat": 4,
  "nbformat_minor": 0,
  "metadata": {
    "colab": {
      "provenance": [],
      "collapsed_sections": [],
      "authorship_tag": "ABX9TyMOGjowm3gZ+jRT3O8uyMcz",
      "include_colab_link": true
    },
    "kernelspec": {
      "name": "python3",
      "display_name": "Python 3"
    },
    "language_info": {
      "name": "python"
    }
  },
  "cells": [
    {
      "cell_type": "markdown",
      "metadata": {
        "id": "view-in-github",
        "colab_type": "text"
      },
      "source": [
        "<a href=\"https://colab.research.google.com/github/harnalashok/deeplearning-sequences/blob/main/network_connect.ipynb\" target=\"_parent\"><img src=\"https://colab.research.google.com/assets/colab-badge.svg\" alt=\"Open In Colab\"/></a>"
      ]
    },
    {
      "cell_type": "code",
      "execution_count": null,
      "metadata": {
        "id": "u-_bbAbthq-e"
      },
      "outputs": [],
      "source": [
        "!pip install cdlib"
      ]
    },
    {
      "cell_type": "code",
      "source": [
        "from google.colab import drive\n",
        "drive.mount('/gdrive')"
      ],
      "metadata": {
        "colab": {
          "base_uri": "https://localhost:8080/"
        },
        "id": "w9i13zSOiEPI",
        "outputId": "16222344-d8f9-4362-d6fb-8d55e02811a8"
      },
      "execution_count": 2,
      "outputs": [
        {
          "output_type": "stream",
          "name": "stdout",
          "text": [
            "Mounted at /gdrive\n"
          ]
        }
      ]
    },
    {
      "cell_type": "code",
      "source": [
        "#%reset -f\n",
        "\n",
        "# 1.0 Call libraries\n",
        "import pandas as pd\n",
        "import numpy as np\n",
        "import networkx as nx\n",
        "\n",
        "# 1.01\n",
        "import joblib\n",
        "from collections import defaultdict\n",
        "\n",
        "# 1.02\n",
        "from sklearn.preprocessing import StandardScaler\n",
        "from sklearn.impute import SimpleImputer\n",
        "\n",
        "# 1.08 Misc\n",
        "import os,gc , time,  glob\n",
        "from os.path import exists\n",
        "import feather\n",
        "import re\n",
        "import ast\n"
      ],
      "metadata": {
        "id": "ODA6VbNOiozx"
      },
      "execution_count": 3,
      "outputs": []
    },
    {
      "cell_type": "code",
      "source": [
        "# Paths:\n",
        "modulePath = \"/gdrive/MyDrive/Colab_data_files/talkingData/03112022/\"\n",
        "dataPath = \"/gdrive/MyDrive/Colab_data_files/skipgram/\"\n",
        "modelsPath = \"/gdrive/MyDrive/Colab_data_files/skipgram/modelspath/\"\n",
        "pathToStoreProgress = \"/gdrive/MyDrive/Colab_data_files/skipgram/pathToStoreProgress/\"\n",
        "mapdictPath = \"/gdrive/MyDrive/Colab_data_files/skipgram/mapdictpath/\""
      ],
      "metadata": {
        "id": "F9OEHf3tk4b_"
      },
      "execution_count": 19,
      "outputs": []
    },
    {
      "cell_type": "code",
      "source": [
        "# 1.09 Home made modules\n",
        "os.chdir(modulePath)\n",
        "import network_features\n",
        "from network_features import *\n",
        "import utils\n",
        "from utils import *\n",
        "\n",
        "import importlib; importlib.reload(network_features)\n",
        "import importlib; importlib.reload(utils)"
      ],
      "metadata": {
        "colab": {
          "base_uri": "https://localhost:8080/"
        },
        "id": "J2f6c-HPi7aC",
        "outputId": "14b763db-cde0-47b4-de31-f09b937ccd4c"
      },
      "execution_count": 5,
      "outputs": [
        {
          "output_type": "stream",
          "name": "stdout",
          "text": [
            "Note: to be able to use all crisp methods, you need to install some additional packages:  {'infomap', 'wurlitzer', 'karateclub', 'leidenalg', 'graph_tool'}\n",
            "Note: to be able to use all overlapping methods, you need to install some additional packages:  {'karateclub', 'ASLPAw'}\n",
            "Note: to be able to use all bipartite methods, you need to install some additional packages:  {'infomap', 'wurlitzer', 'leidenalg'}\n"
          ]
        },
        {
          "output_type": "execute_result",
          "data": {
            "text/plain": [
              "<module 'utils' from '/gdrive/MyDrive/Colab_data_files/talkingData/03112022/utils.py'>"
            ]
          },
          "metadata": {},
          "execution_count": 5
        }
      ]
    },
    {
      "cell_type": "code",
      "source": [
        "# Cleaning up\n",
        "!rm -r -f /gdrive/MyDrive/Colab_data_files/skipgram/modelspath/\n",
        "!rm -r -f /gdrive/MyDrive/Colab_data_files/skipgram/pathToStoreProgress/\n",
        "!rm -r -f /gdrive/MyDrive/Colab_data_files/skipgram/mapdictpath/"
      ],
      "metadata": {
        "id": "K0SQjlyU7AFR"
      },
      "execution_count": 32,
      "outputs": []
    },
    {
      "cell_type": "code",
      "source": [
        "!rm -r -f /gdrive/MyDrive/Colab_data_files/skipgram/vectors.tsv\n",
        "!rm -r -f /gdrive/MyDrive/Colab_data_files/skipgram/metadata.tsv"
      ],
      "metadata": {
        "id": "6nLfB9QUwj7q"
      },
      "execution_count": 33,
      "outputs": []
    },
    {
      "cell_type": "code",
      "source": [
        "\n",
        "!mkdir /gdrive/MyDrive/Colab_data_files/skipgram/modelspath/\n",
        "!mkdir /gdrive/MyDrive/Colab_data_files/skipgram/pathToStoreProgress/\n",
        "!mkdir /gdrive/MyDrive/Colab_data_files/skipgram/mapdictpath/"
      ],
      "metadata": {
        "id": "3IR6J6Wqwhlt"
      },
      "execution_count": 34,
      "outputs": []
    },
    {
      "cell_type": "code",
      "source": [
        "# 8.0 Read back pkl file and dictionary:\n",
        "os.chdir(dataPath)\n",
        "train = pd.read_pickle(\"seq.pkl\")\n",
        "train.head()"
      ],
      "metadata": {
        "id": "WKA1JkstkqSz"
      },
      "execution_count": null,
      "outputs": []
    },
    {
      "cell_type": "code",
      "source": [
        "# Read dictionary\n",
        "os.chdir(dataPath)\n",
        "filehandler = open(\"word_index.txt\", 'r')\n",
        "word2index = filehandler.read()\n",
        "word2index"
      ],
      "metadata": {
        "id": "i4FjdGVtm1ms"
      },
      "execution_count": null,
      "outputs": []
    },
    {
      "cell_type": "code",
      "source": [
        "org_columns = train.columns\n",
        "cat_cols = ['a', 'b']"
      ],
      "metadata": {
        "id": "cC64egz8nEas"
      },
      "execution_count": 37,
      "outputs": []
    },
    {
      "cell_type": "code",
      "source": [
        "# 6.1 Create new columns (combinations of columns) in train\n",
        "train = utils.create_cat_pairwise_cols(train , cat_cols)"
      ],
      "metadata": {
        "id": "3LGMc_Rdn2sz"
      },
      "execution_count": 38,
      "outputs": []
    },
    {
      "cell_type": "code",
      "source": [
        "train.head()"
      ],
      "metadata": {
        "colab": {
          "base_uri": "https://localhost:8080/",
          "height": 206
        },
        "id": "nuOSCcrzn8Fr",
        "outputId": "18ff7574-c454-4fb3-fceb-92619f934535"
      },
      "execution_count": 39,
      "outputs": [
        {
          "output_type": "execute_result",
          "data": {
            "text/plain": [
              "     a     b    a_p_b\n",
              "0    5  1554   5_1554\n",
              "1    7   261    7_261\n",
              "2   30  2621  30_2621\n",
              "3  320    74   320_74\n",
              "4    1  3397   1_3397"
            ],
            "text/html": [
              "\n",
              "  <div id=\"df-45413ef0-e748-4990-bf2b-cdb7fec93156\">\n",
              "    <div class=\"colab-df-container\">\n",
              "      <div>\n",
              "<style scoped>\n",
              "    .dataframe tbody tr th:only-of-type {\n",
              "        vertical-align: middle;\n",
              "    }\n",
              "\n",
              "    .dataframe tbody tr th {\n",
              "        vertical-align: top;\n",
              "    }\n",
              "\n",
              "    .dataframe thead th {\n",
              "        text-align: right;\n",
              "    }\n",
              "</style>\n",
              "<table border=\"1\" class=\"dataframe\">\n",
              "  <thead>\n",
              "    <tr style=\"text-align: right;\">\n",
              "      <th></th>\n",
              "      <th>a</th>\n",
              "      <th>b</th>\n",
              "      <th>a_p_b</th>\n",
              "    </tr>\n",
              "  </thead>\n",
              "  <tbody>\n",
              "    <tr>\n",
              "      <th>0</th>\n",
              "      <td>5</td>\n",
              "      <td>1554</td>\n",
              "      <td>5_1554</td>\n",
              "    </tr>\n",
              "    <tr>\n",
              "      <th>1</th>\n",
              "      <td>7</td>\n",
              "      <td>261</td>\n",
              "      <td>7_261</td>\n",
              "    </tr>\n",
              "    <tr>\n",
              "      <th>2</th>\n",
              "      <td>30</td>\n",
              "      <td>2621</td>\n",
              "      <td>30_2621</td>\n",
              "    </tr>\n",
              "    <tr>\n",
              "      <th>3</th>\n",
              "      <td>320</td>\n",
              "      <td>74</td>\n",
              "      <td>320_74</td>\n",
              "    </tr>\n",
              "    <tr>\n",
              "      <th>4</th>\n",
              "      <td>1</td>\n",
              "      <td>3397</td>\n",
              "      <td>1_3397</td>\n",
              "    </tr>\n",
              "  </tbody>\n",
              "</table>\n",
              "</div>\n",
              "      <button class=\"colab-df-convert\" onclick=\"convertToInteractive('df-45413ef0-e748-4990-bf2b-cdb7fec93156')\"\n",
              "              title=\"Convert this dataframe to an interactive table.\"\n",
              "              style=\"display:none;\">\n",
              "        \n",
              "  <svg xmlns=\"http://www.w3.org/2000/svg\" height=\"24px\"viewBox=\"0 0 24 24\"\n",
              "       width=\"24px\">\n",
              "    <path d=\"M0 0h24v24H0V0z\" fill=\"none\"/>\n",
              "    <path d=\"M18.56 5.44l.94 2.06.94-2.06 2.06-.94-2.06-.94-.94-2.06-.94 2.06-2.06.94zm-11 1L8.5 8.5l.94-2.06 2.06-.94-2.06-.94L8.5 2.5l-.94 2.06-2.06.94zm10 10l.94 2.06.94-2.06 2.06-.94-2.06-.94-.94-2.06-.94 2.06-2.06.94z\"/><path d=\"M17.41 7.96l-1.37-1.37c-.4-.4-.92-.59-1.43-.59-.52 0-1.04.2-1.43.59L10.3 9.45l-7.72 7.72c-.78.78-.78 2.05 0 2.83L4 21.41c.39.39.9.59 1.41.59.51 0 1.02-.2 1.41-.59l7.78-7.78 2.81-2.81c.8-.78.8-2.07 0-2.86zM5.41 20L4 18.59l7.72-7.72 1.47 1.35L5.41 20z\"/>\n",
              "  </svg>\n",
              "      </button>\n",
              "      \n",
              "  <style>\n",
              "    .colab-df-container {\n",
              "      display:flex;\n",
              "      flex-wrap:wrap;\n",
              "      gap: 12px;\n",
              "    }\n",
              "\n",
              "    .colab-df-convert {\n",
              "      background-color: #E8F0FE;\n",
              "      border: none;\n",
              "      border-radius: 50%;\n",
              "      cursor: pointer;\n",
              "      display: none;\n",
              "      fill: #1967D2;\n",
              "      height: 32px;\n",
              "      padding: 0 0 0 0;\n",
              "      width: 32px;\n",
              "    }\n",
              "\n",
              "    .colab-df-convert:hover {\n",
              "      background-color: #E2EBFA;\n",
              "      box-shadow: 0px 1px 2px rgba(60, 64, 67, 0.3), 0px 1px 3px 1px rgba(60, 64, 67, 0.15);\n",
              "      fill: #174EA6;\n",
              "    }\n",
              "\n",
              "    [theme=dark] .colab-df-convert {\n",
              "      background-color: #3B4455;\n",
              "      fill: #D2E3FC;\n",
              "    }\n",
              "\n",
              "    [theme=dark] .colab-df-convert:hover {\n",
              "      background-color: #434B5C;\n",
              "      box-shadow: 0px 1px 3px 1px rgba(0, 0, 0, 0.15);\n",
              "      filter: drop-shadow(0px 1px 2px rgba(0, 0, 0, 0.3));\n",
              "      fill: #FFFFFF;\n",
              "    }\n",
              "  </style>\n",
              "\n",
              "      <script>\n",
              "        const buttonEl =\n",
              "          document.querySelector('#df-45413ef0-e748-4990-bf2b-cdb7fec93156 button.colab-df-convert');\n",
              "        buttonEl.style.display =\n",
              "          google.colab.kernel.accessAllowed ? 'block' : 'none';\n",
              "\n",
              "        async function convertToInteractive(key) {\n",
              "          const element = document.querySelector('#df-45413ef0-e748-4990-bf2b-cdb7fec93156');\n",
              "          const dataTable =\n",
              "            await google.colab.kernel.invokeFunction('convertToInteractive',\n",
              "                                                     [key], {});\n",
              "          if (!dataTable) return;\n",
              "\n",
              "          const docLinkHtml = 'Like what you see? Visit the ' +\n",
              "            '<a target=\"_blank\" href=https://colab.research.google.com/notebooks/data_table.ipynb>data table notebook</a>'\n",
              "            + ' to learn more about interactive tables.';\n",
              "          element.innerHTML = '';\n",
              "          dataTable['output_type'] = 'display_data';\n",
              "          await google.colab.output.renderOutput(dataTable, element);\n",
              "          const docLink = document.createElement('div');\n",
              "          docLink.innerHTML = docLinkHtml;\n",
              "          element.appendChild(docLink);\n",
              "        }\n",
              "      </script>\n",
              "    </div>\n",
              "  </div>\n",
              "  "
            ]
          },
          "metadata": {},
          "execution_count": 39
        }
      ]
    },
    {
      "cell_type": "code",
      "source": [
        "# 6.11 The train columns are:\n",
        "current_train_columns = train.columns\n",
        "# 6.12 New columns created. These columns must be latter dropped\n",
        "new_cols = list(set(current_train_columns).difference(set(org_columns)))\n",
        "# 6.13 Revised cat cols (ie excluding hour etc)\n",
        "cat_cols.extend(new_cols)\n",
        "len(cat_cols)   # 15\n",
        "cat_cols"
      ],
      "metadata": {
        "colab": {
          "base_uri": "https://localhost:8080/"
        },
        "id": "So7yOgyqn9zb",
        "outputId": "f11cd57b-568e-441e-d776-17b14abe768e"
      },
      "execution_count": 40,
      "outputs": [
        {
          "output_type": "execute_result",
          "data": {
            "text/plain": [
              "['a', 'b', 'a_p_b']"
            ]
          },
          "metadata": {},
          "execution_count": 40
        }
      ]
    },
    {
      "cell_type": "code",
      "source": [
        "# 8.1 Get all possibe permutation of our columns\n",
        "#     Also decide which all centrality measures to cal\n",
        "deg = 1    # Calculate degree centrality\n",
        "eig = 1    # Calculate eigenvector centrality\n",
        "pr =  1    # Calculate pagerank centrality\n",
        "clu = 0    # Clustering coeff centrality\n",
        "nf = None # nx.katz_centrality_numpy\n",
        "cMeasures = [deg,eig,pr,clu, nf]"
      ],
      "metadata": {
        "id": "5G7WEE8LoJF8"
      },
      "execution_count": 41,
      "outputs": []
    },
    {
      "cell_type": "code",
      "source": [
        "single_permute_list = utils.permute_colList(cat_cols,cMeasures)\n",
        "single_permute_list"
      ],
      "metadata": {
        "colab": {
          "base_uri": "https://localhost:8080/"
        },
        "id": "XQ-o1X9DoOKU",
        "outputId": "73445282-2bb4-4551-a8e6-017f28af6fbf"
      },
      "execution_count": 42,
      "outputs": [
        {
          "output_type": "execute_result",
          "data": {
            "text/plain": [
              "[('a', 'b', [1, 1, 1, 0, None]),\n",
              " ('a', 'a_p_b', [1, 1, 1, 0, None]),\n",
              " ('b', 'a', [1, 1, 1, 0, None]),\n",
              " ('b', 'a_p_b', [1, 1, 1, 0, None]),\n",
              " ('a_p_b', 'a', [1, 1, 1, 0, None]),\n",
              " ('a_p_b', 'b', [1, 1, 1, 0, None])]"
            ]
          },
          "metadata": {},
          "execution_count": 42
        }
      ]
    },
    {
      "cell_type": "code",
      "source": [
        "len(single_permute_list)   # 6"
      ],
      "metadata": {
        "colab": {
          "base_uri": "https://localhost:8080/"
        },
        "id": "r3IruoUzoUFV",
        "outputId": "3a9336ab-a931-40e0-f334-c30842c579e9"
      },
      "execution_count": 43,
      "outputs": [
        {
          "output_type": "execute_result",
          "data": {
            "text/plain": [
              "6"
            ]
          },
          "metadata": {},
          "execution_count": 43
        }
      ]
    },
    {
      "cell_type": "code",
      "source": [
        "spl = pd.DataFrame(single_permute_list, columns = [\"colToProject\", \"intermediaryCol\", \"cMeasures?\"])\n",
        "spl.shape   # (210, 4)\n",
        "spl"
      ],
      "metadata": {
        "colab": {
          "base_uri": "https://localhost:8080/",
          "height": 237
        },
        "id": "2H70LdI4oZs9",
        "outputId": "1797d8fc-f614-4e3f-a942-7acbbcf0a5ad"
      },
      "execution_count": 44,
      "outputs": [
        {
          "output_type": "execute_result",
          "data": {
            "text/plain": [
              "  colToProject intermediaryCol          cMeasures?\n",
              "0            a               b  [1, 1, 1, 0, None]\n",
              "1            a           a_p_b  [1, 1, 1, 0, None]\n",
              "2            b               a  [1, 1, 1, 0, None]\n",
              "3            b           a_p_b  [1, 1, 1, 0, None]\n",
              "4        a_p_b               a  [1, 1, 1, 0, None]\n",
              "5        a_p_b               b  [1, 1, 1, 0, None]"
            ],
            "text/html": [
              "\n",
              "  <div id=\"df-51247cab-db56-481e-a300-227b6491a41b\">\n",
              "    <div class=\"colab-df-container\">\n",
              "      <div>\n",
              "<style scoped>\n",
              "    .dataframe tbody tr th:only-of-type {\n",
              "        vertical-align: middle;\n",
              "    }\n",
              "\n",
              "    .dataframe tbody tr th {\n",
              "        vertical-align: top;\n",
              "    }\n",
              "\n",
              "    .dataframe thead th {\n",
              "        text-align: right;\n",
              "    }\n",
              "</style>\n",
              "<table border=\"1\" class=\"dataframe\">\n",
              "  <thead>\n",
              "    <tr style=\"text-align: right;\">\n",
              "      <th></th>\n",
              "      <th>colToProject</th>\n",
              "      <th>intermediaryCol</th>\n",
              "      <th>cMeasures?</th>\n",
              "    </tr>\n",
              "  </thead>\n",
              "  <tbody>\n",
              "    <tr>\n",
              "      <th>0</th>\n",
              "      <td>a</td>\n",
              "      <td>b</td>\n",
              "      <td>[1, 1, 1, 0, None]</td>\n",
              "    </tr>\n",
              "    <tr>\n",
              "      <th>1</th>\n",
              "      <td>a</td>\n",
              "      <td>a_p_b</td>\n",
              "      <td>[1, 1, 1, 0, None]</td>\n",
              "    </tr>\n",
              "    <tr>\n",
              "      <th>2</th>\n",
              "      <td>b</td>\n",
              "      <td>a</td>\n",
              "      <td>[1, 1, 1, 0, None]</td>\n",
              "    </tr>\n",
              "    <tr>\n",
              "      <th>3</th>\n",
              "      <td>b</td>\n",
              "      <td>a_p_b</td>\n",
              "      <td>[1, 1, 1, 0, None]</td>\n",
              "    </tr>\n",
              "    <tr>\n",
              "      <th>4</th>\n",
              "      <td>a_p_b</td>\n",
              "      <td>a</td>\n",
              "      <td>[1, 1, 1, 0, None]</td>\n",
              "    </tr>\n",
              "    <tr>\n",
              "      <th>5</th>\n",
              "      <td>a_p_b</td>\n",
              "      <td>b</td>\n",
              "      <td>[1, 1, 1, 0, None]</td>\n",
              "    </tr>\n",
              "  </tbody>\n",
              "</table>\n",
              "</div>\n",
              "      <button class=\"colab-df-convert\" onclick=\"convertToInteractive('df-51247cab-db56-481e-a300-227b6491a41b')\"\n",
              "              title=\"Convert this dataframe to an interactive table.\"\n",
              "              style=\"display:none;\">\n",
              "        \n",
              "  <svg xmlns=\"http://www.w3.org/2000/svg\" height=\"24px\"viewBox=\"0 0 24 24\"\n",
              "       width=\"24px\">\n",
              "    <path d=\"M0 0h24v24H0V0z\" fill=\"none\"/>\n",
              "    <path d=\"M18.56 5.44l.94 2.06.94-2.06 2.06-.94-2.06-.94-.94-2.06-.94 2.06-2.06.94zm-11 1L8.5 8.5l.94-2.06 2.06-.94-2.06-.94L8.5 2.5l-.94 2.06-2.06.94zm10 10l.94 2.06.94-2.06 2.06-.94-2.06-.94-.94-2.06-.94 2.06-2.06.94z\"/><path d=\"M17.41 7.96l-1.37-1.37c-.4-.4-.92-.59-1.43-.59-.52 0-1.04.2-1.43.59L10.3 9.45l-7.72 7.72c-.78.78-.78 2.05 0 2.83L4 21.41c.39.39.9.59 1.41.59.51 0 1.02-.2 1.41-.59l7.78-7.78 2.81-2.81c.8-.78.8-2.07 0-2.86zM5.41 20L4 18.59l7.72-7.72 1.47 1.35L5.41 20z\"/>\n",
              "  </svg>\n",
              "      </button>\n",
              "      \n",
              "  <style>\n",
              "    .colab-df-container {\n",
              "      display:flex;\n",
              "      flex-wrap:wrap;\n",
              "      gap: 12px;\n",
              "    }\n",
              "\n",
              "    .colab-df-convert {\n",
              "      background-color: #E8F0FE;\n",
              "      border: none;\n",
              "      border-radius: 50%;\n",
              "      cursor: pointer;\n",
              "      display: none;\n",
              "      fill: #1967D2;\n",
              "      height: 32px;\n",
              "      padding: 0 0 0 0;\n",
              "      width: 32px;\n",
              "    }\n",
              "\n",
              "    .colab-df-convert:hover {\n",
              "      background-color: #E2EBFA;\n",
              "      box-shadow: 0px 1px 2px rgba(60, 64, 67, 0.3), 0px 1px 3px 1px rgba(60, 64, 67, 0.15);\n",
              "      fill: #174EA6;\n",
              "    }\n",
              "\n",
              "    [theme=dark] .colab-df-convert {\n",
              "      background-color: #3B4455;\n",
              "      fill: #D2E3FC;\n",
              "    }\n",
              "\n",
              "    [theme=dark] .colab-df-convert:hover {\n",
              "      background-color: #434B5C;\n",
              "      box-shadow: 0px 1px 3px 1px rgba(0, 0, 0, 0.15);\n",
              "      filter: drop-shadow(0px 1px 2px rgba(0, 0, 0, 0.3));\n",
              "      fill: #FFFFFF;\n",
              "    }\n",
              "  </style>\n",
              "\n",
              "      <script>\n",
              "        const buttonEl =\n",
              "          document.querySelector('#df-51247cab-db56-481e-a300-227b6491a41b button.colab-df-convert');\n",
              "        buttonEl.style.display =\n",
              "          google.colab.kernel.accessAllowed ? 'block' : 'none';\n",
              "\n",
              "        async function convertToInteractive(key) {\n",
              "          const element = document.querySelector('#df-51247cab-db56-481e-a300-227b6491a41b');\n",
              "          const dataTable =\n",
              "            await google.colab.kernel.invokeFunction('convertToInteractive',\n",
              "                                                     [key], {});\n",
              "          if (!dataTable) return;\n",
              "\n",
              "          const docLinkHtml = 'Like what you see? Visit the ' +\n",
              "            '<a target=\"_blank\" href=https://colab.research.google.com/notebooks/data_table.ipynb>data table notebook</a>'\n",
              "            + ' to learn more about interactive tables.';\n",
              "          element.innerHTML = '';\n",
              "          dataTable['output_type'] = 'display_data';\n",
              "          await google.colab.output.renderOutput(dataTable, element);\n",
              "          const docLink = document.createElement('div');\n",
              "          docLink.innerHTML = docLinkHtml;\n",
              "          element.appendChild(docLink);\n",
              "        }\n",
              "      </script>\n",
              "    </div>\n",
              "  </div>\n",
              "  "
            ]
          },
          "metadata": {},
          "execution_count": 44
        }
      ]
    },
    {
      "cell_type": "code",
      "source": [
        "X = train"
      ],
      "metadata": {
        "id": "ii0U0SZvvrSl"
      },
      "execution_count": 45,
      "outputs": []
    },
    {
      "cell_type": "code",
      "source": [
        "utils.ulevelsPerThreshold(X,'a_p_b', threshold_list = [0.00001, 0.0001, 0.0002, 0.000485,0.0005, 0.001, 0.01, 0.1, 0.15, 0.2])"
      ],
      "metadata": {
        "colab": {
          "base_uri": "https://localhost:8080/",
          "height": 394
        },
        "id": "_QrwLJTCvmEW",
        "outputId": "c077f27e-c755-419a-d43a-194ff2ff830b"
      },
      "execution_count": 46,
      "outputs": [
        {
          "output_type": "execute_result",
          "data": {
            "text/plain": [
              "    apply %threshold  remaining_levels\n",
              "0           0.000000            184797\n",
              "1           0.000010            184798\n",
              "2           0.000100            184798\n",
              "3           0.000200            184798\n",
              "4           0.000485             13948\n",
              "5           0.000500             13948\n",
              "6           0.001000              3400\n",
              "7           0.010000                33\n",
              "8           0.100000                 1\n",
              "9           0.150000                 1\n",
              "10          0.200000                 1"
            ],
            "text/html": [
              "\n",
              "  <div id=\"df-257c46a1-e802-4f87-8302-54cc47131bfa\">\n",
              "    <div class=\"colab-df-container\">\n",
              "      <div>\n",
              "<style scoped>\n",
              "    .dataframe tbody tr th:only-of-type {\n",
              "        vertical-align: middle;\n",
              "    }\n",
              "\n",
              "    .dataframe tbody tr th {\n",
              "        vertical-align: top;\n",
              "    }\n",
              "\n",
              "    .dataframe thead th {\n",
              "        text-align: right;\n",
              "    }\n",
              "</style>\n",
              "<table border=\"1\" class=\"dataframe\">\n",
              "  <thead>\n",
              "    <tr style=\"text-align: right;\">\n",
              "      <th></th>\n",
              "      <th>apply %threshold</th>\n",
              "      <th>remaining_levels</th>\n",
              "    </tr>\n",
              "  </thead>\n",
              "  <tbody>\n",
              "    <tr>\n",
              "      <th>0</th>\n",
              "      <td>0.000000</td>\n",
              "      <td>184797</td>\n",
              "    </tr>\n",
              "    <tr>\n",
              "      <th>1</th>\n",
              "      <td>0.000010</td>\n",
              "      <td>184798</td>\n",
              "    </tr>\n",
              "    <tr>\n",
              "      <th>2</th>\n",
              "      <td>0.000100</td>\n",
              "      <td>184798</td>\n",
              "    </tr>\n",
              "    <tr>\n",
              "      <th>3</th>\n",
              "      <td>0.000200</td>\n",
              "      <td>184798</td>\n",
              "    </tr>\n",
              "    <tr>\n",
              "      <th>4</th>\n",
              "      <td>0.000485</td>\n",
              "      <td>13948</td>\n",
              "    </tr>\n",
              "    <tr>\n",
              "      <th>5</th>\n",
              "      <td>0.000500</td>\n",
              "      <td>13948</td>\n",
              "    </tr>\n",
              "    <tr>\n",
              "      <th>6</th>\n",
              "      <td>0.001000</td>\n",
              "      <td>3400</td>\n",
              "    </tr>\n",
              "    <tr>\n",
              "      <th>7</th>\n",
              "      <td>0.010000</td>\n",
              "      <td>33</td>\n",
              "    </tr>\n",
              "    <tr>\n",
              "      <th>8</th>\n",
              "      <td>0.100000</td>\n",
              "      <td>1</td>\n",
              "    </tr>\n",
              "    <tr>\n",
              "      <th>9</th>\n",
              "      <td>0.150000</td>\n",
              "      <td>1</td>\n",
              "    </tr>\n",
              "    <tr>\n",
              "      <th>10</th>\n",
              "      <td>0.200000</td>\n",
              "      <td>1</td>\n",
              "    </tr>\n",
              "  </tbody>\n",
              "</table>\n",
              "</div>\n",
              "      <button class=\"colab-df-convert\" onclick=\"convertToInteractive('df-257c46a1-e802-4f87-8302-54cc47131bfa')\"\n",
              "              title=\"Convert this dataframe to an interactive table.\"\n",
              "              style=\"display:none;\">\n",
              "        \n",
              "  <svg xmlns=\"http://www.w3.org/2000/svg\" height=\"24px\"viewBox=\"0 0 24 24\"\n",
              "       width=\"24px\">\n",
              "    <path d=\"M0 0h24v24H0V0z\" fill=\"none\"/>\n",
              "    <path d=\"M18.56 5.44l.94 2.06.94-2.06 2.06-.94-2.06-.94-.94-2.06-.94 2.06-2.06.94zm-11 1L8.5 8.5l.94-2.06 2.06-.94-2.06-.94L8.5 2.5l-.94 2.06-2.06.94zm10 10l.94 2.06.94-2.06 2.06-.94-2.06-.94-.94-2.06-.94 2.06-2.06.94z\"/><path d=\"M17.41 7.96l-1.37-1.37c-.4-.4-.92-.59-1.43-.59-.52 0-1.04.2-1.43.59L10.3 9.45l-7.72 7.72c-.78.78-.78 2.05 0 2.83L4 21.41c.39.39.9.59 1.41.59.51 0 1.02-.2 1.41-.59l7.78-7.78 2.81-2.81c.8-.78.8-2.07 0-2.86zM5.41 20L4 18.59l7.72-7.72 1.47 1.35L5.41 20z\"/>\n",
              "  </svg>\n",
              "      </button>\n",
              "      \n",
              "  <style>\n",
              "    .colab-df-container {\n",
              "      display:flex;\n",
              "      flex-wrap:wrap;\n",
              "      gap: 12px;\n",
              "    }\n",
              "\n",
              "    .colab-df-convert {\n",
              "      background-color: #E8F0FE;\n",
              "      border: none;\n",
              "      border-radius: 50%;\n",
              "      cursor: pointer;\n",
              "      display: none;\n",
              "      fill: #1967D2;\n",
              "      height: 32px;\n",
              "      padding: 0 0 0 0;\n",
              "      width: 32px;\n",
              "    }\n",
              "\n",
              "    .colab-df-convert:hover {\n",
              "      background-color: #E2EBFA;\n",
              "      box-shadow: 0px 1px 2px rgba(60, 64, 67, 0.3), 0px 1px 3px 1px rgba(60, 64, 67, 0.15);\n",
              "      fill: #174EA6;\n",
              "    }\n",
              "\n",
              "    [theme=dark] .colab-df-convert {\n",
              "      background-color: #3B4455;\n",
              "      fill: #D2E3FC;\n",
              "    }\n",
              "\n",
              "    [theme=dark] .colab-df-convert:hover {\n",
              "      background-color: #434B5C;\n",
              "      box-shadow: 0px 1px 3px 1px rgba(0, 0, 0, 0.15);\n",
              "      filter: drop-shadow(0px 1px 2px rgba(0, 0, 0, 0.3));\n",
              "      fill: #FFFFFF;\n",
              "    }\n",
              "  </style>\n",
              "\n",
              "      <script>\n",
              "        const buttonEl =\n",
              "          document.querySelector('#df-257c46a1-e802-4f87-8302-54cc47131bfa button.colab-df-convert');\n",
              "        buttonEl.style.display =\n",
              "          google.colab.kernel.accessAllowed ? 'block' : 'none';\n",
              "\n",
              "        async function convertToInteractive(key) {\n",
              "          const element = document.querySelector('#df-257c46a1-e802-4f87-8302-54cc47131bfa');\n",
              "          const dataTable =\n",
              "            await google.colab.kernel.invokeFunction('convertToInteractive',\n",
              "                                                     [key], {});\n",
              "          if (!dataTable) return;\n",
              "\n",
              "          const docLinkHtml = 'Like what you see? Visit the ' +\n",
              "            '<a target=\"_blank\" href=https://colab.research.google.com/notebooks/data_table.ipynb>data table notebook</a>'\n",
              "            + ' to learn more about interactive tables.';\n",
              "          element.innerHTML = '';\n",
              "          dataTable['output_type'] = 'display_data';\n",
              "          await google.colab.output.renderOutput(dataTable, element);\n",
              "          const docLink = document.createElement('div');\n",
              "          docLink.innerHTML = docLinkHtml;\n",
              "          element.appendChild(docLink);\n",
              "        }\n",
              "      </script>\n",
              "    </div>\n",
              "  </div>\n",
              "  "
            ]
          },
          "metadata": {},
          "execution_count": 46
        }
      ]
    },
    {
      "cell_type": "code",
      "source": [
        "mergethreshold = 0.00050  # 0.0020\n",
        "X =  utils.levelsTransformer(X, 'a_p_b',mergethreshold, mapdictPath)"
      ],
      "metadata": {
        "colab": {
          "base_uri": "https://localhost:8080/"
        },
        "id": "lo9vUYREv-du",
        "outputId": "49e5134a-b31c-4d57-cbb6-c42947cb0931"
      },
      "execution_count": 47,
      "outputs": [
        {
          "output_type": "stream",
          "name": "stdout",
          "text": [
            "No saved dictionary exists as yet.\n"
          ]
        }
      ]
    },
    {
      "cell_type": "code",
      "source": [
        "record_sets = list(spl.to_records(index = False))\n",
        "record_sets"
      ],
      "metadata": {
        "id": "uXvVpSGrofZ5",
        "colab": {
          "base_uri": "https://localhost:8080/"
        },
        "outputId": "7ef61daf-bd25-42bb-f785-8f189d5a9501"
      },
      "execution_count": 50,
      "outputs": [
        {
          "output_type": "execute_result",
          "data": {
            "text/plain": [
              "[('a', 'b', list([1, 1, 1, 0, None])),\n",
              " ('a', 'a_p_b', list([1, 1, 1, 0, None])),\n",
              " ('b', 'a', list([1, 1, 1, 0, None])),\n",
              " ('b', 'a_p_b', list([1, 1, 1, 0, None])),\n",
              " ('a_p_b', 'a', list([1, 1, 1, 0, None])),\n",
              " ('a_p_b', 'b', list([1, 1, 1, 0, None]))]"
            ]
          },
          "metadata": {},
          "execution_count": 50
        }
      ]
    },
    {
      "cell_type": "code",
      "source": [
        "fulllist = [record_sets]"
      ],
      "metadata": {
        "id": "UIb5x7e8or8m"
      },
      "execution_count": 51,
      "outputs": []
    },
    {
      "cell_type": "code",
      "source": [
        "# Reduce no of unique values in a_p_b"
      ],
      "metadata": {
        "id": "B9q7gcLldiTp"
      },
      "execution_count": null,
      "outputs": []
    },
    {
      "cell_type": "code",
      "source": [
        "m = 1\n",
        "for k,j in enumerate(fulllist):\n",
        "  print(\"Record set no is {} of {}th fulllist \".format(k+1,m+1))\n",
        "  print(\"Set of records is: \", j)\n",
        "  # Each outer loop creates a new sets of models\n",
        "  fulllist_repeat_no = m + 1\n",
        "  transYesNo = False  # True implies transformation\n",
        "  X1_train, X1_test = network_features.get_store_features(X,j, transYesNo, None, fulllist_repeat_no , modelsPath, pathToStoreProgress)\n",
        "  print(\"\\nList done. X1_train shape \", X1_train.shape)\n",
        "  del X1_train\n",
        "  gc.collect()"
      ],
      "metadata": {
        "id": "TwORnajho3DA",
        "colab": {
          "base_uri": "https://localhost:8080/"
        },
        "outputId": "34d64683-d7d5-4859-c06d-e49241ef58d4"
      },
      "execution_count": 52,
      "outputs": [
        {
          "output_type": "stream",
          "name": "stdout",
          "text": [
            "Record set no is 1 of 2th fulllist \n",
            "Set of records is:  [('a', 'b', list([1, 1, 1, 0, None])), ('a', 'a_p_b', list([1, 1, 1, 0, None])), ('b', 'a', list([1, 1, 1, 0, None])), ('b', 'a_p_b', list([1, 1, 1, 0, None])), ('a_p_b', 'a', list([1, 1, 1, 0, None])), ('a_p_b', 'b', list([1, 1, 1, 0, None]))]\n",
            "('a', 'b', list([1, 1, 1, 0, None]))\n",
            "\n",
            "Next:  1 a b\n",
            "========================\n",
            "No of unique values in  a  are:  4044\n",
            "Bipartite Network created. Time taken:  0.01978335777918498 minutes\n",
            "Bipartite Network projected. Time taken:  0.34839026133219403 minutes\n",
            "Model extracted. Time taken:  0.4221627672513326 minutes\n",
            "Model stored to disk\n",
            "train columns:  3\n",
            "No test data\n",
            "Done with a b\n",
            "Time taken:  0.8099716424942016\n",
            "Entry made in file progress.csv\n",
            "('a', 'a_p_b', list([1, 1, 1, 0, None]))\n",
            "\n",
            "Next:  2 a a_p_b\n",
            "========================\n",
            "No of unique values in  a  are:  4044\n",
            "Bipartite Network created. Time taken:  0.007215933005015055 minutes\n",
            "Bipartite Network projected. Time taken:  0.9191853086153666 minutes\n",
            "Model extracted. Time taken:  1.1277132352193198 minutes\n",
            "Model stored to disk\n",
            "train columns:  3\n",
            "No test data\n",
            "Done with a a_p_b\n",
            "Time taken:  2.119488271077474\n",
            "Entry made in file progress.csv\n",
            "('b', 'a', list([1, 1, 1, 0, None]))\n",
            "\n",
            "Next:  3 b a\n",
            "========================\n",
            "No of unique values in  b  are:  4044\n",
            "Bipartite Network created. Time taken:  0.020373594760894776 minutes\n",
            "Bipartite Network projected. Time taken:  0.9842800458272298 minutes\n",
            "Model extracted. Time taken:  1.0719831665356954 minutes\n",
            "Model stored to disk\n",
            "train columns:  3\n",
            "No test data\n",
            "Done with b a\n",
            "Time taken:  2.1313077410062156\n",
            "Entry made in file progress.csv\n",
            "('b', 'a_p_b', list([1, 1, 1, 0, None]))\n",
            "\n",
            "Next:  4 b a_p_b\n",
            "========================\n",
            "No of unique values in  b  are:  4044\n",
            "Bipartite Network created. Time taken:  0.007282348473866781 minutes\n",
            "Bipartite Network projected. Time taken:  0.8259591102600098 minutes\n",
            "Model extracted. Time taken:  1.1474838455518086 minutes\n",
            "Model stored to disk\n",
            "train columns:  3\n",
            "No test data\n",
            "Done with b a_p_b\n",
            "Time taken:  2.043168083826701\n",
            "Entry made in file progress.csv\n",
            "('a_p_b', 'a', list([1, 1, 1, 0, None]))\n",
            "\n",
            "Next:  5 a_p_b a\n",
            "========================\n",
            "No of unique values in  a_p_b  are:  13948\n",
            "Bipartite Network created. Time taken:  0.009194771448771158 minutes\n",
            "Bipartite Network projected. Time taken:  0.05875931978225708 minutes\n",
            "Model extracted. Time taken:  0.09288245439529419 minutes\n",
            "Model stored to disk\n",
            "train columns:  3\n",
            "No test data\n",
            "Done with a_p_b a\n",
            "Time taken:  0.18287220001220703\n",
            "Entry made in file progress.csv\n",
            "('a_p_b', 'b', list([1, 1, 1, 0, None]))\n",
            "\n",
            "Next:  6 a_p_b b\n",
            "========================\n",
            "No of unique values in  a_p_b  are:  13948\n",
            "Bipartite Network created. Time taken:  0.009701053301493326 minutes\n",
            "Bipartite Network projected. Time taken:  0.021032559871673583 minutes\n",
            "Model extracted. Time taken:  0.03314270575841268 minutes\n",
            "Model stored to disk\n",
            "train columns:  3\n",
            "No test data\n",
            "Done with a_p_b b\n",
            "Time taken:  0.08110334475835164\n",
            "Entry made in file progress.csv\n",
            "\n",
            "List done. X1_train shape  (207256, 3)\n"
          ]
        }
      ]
    },
    {
      "cell_type": "code",
      "source": [
        "# Update levels or merge rarely occurring levels\n",
        "#  into one. Dictionaries for performing this mapping\n",
        "#   are in folder: mapdictpath\n",
        "X = utils.updateLevels(X,\n",
        "                        mapdictPath,\n",
        "                        cat_cols\n",
        "                        )"
      ],
      "metadata": {
        "id": "d3gRXebf9O_q"
      },
      "execution_count": null,
      "outputs": []
    },
    {
      "cell_type": "code",
      "source": [
        "def readStoredModels(pathToReadFrom, fileList):\n",
        "  model_dfs = []\n",
        "  os.chdir(pathToReadFrom)\n",
        "  for file in fileList:\n",
        "    df = pd.read_pickle(file)\n",
        "    model_dfs.append(df)\n",
        "  return model_dfs\n"
      ],
      "metadata": {
        "id": "bM7Gp42Ys6G2"
      },
      "execution_count": null,
      "outputs": []
    },
    {
      "cell_type": "code",
      "source": [
        "os.chdir(modelsPath)\n",
        "files = os.listdir()\n",
        "file_list = [file for file in files if (\"deg_a_ck\" in file) or (\"eig_a_ck\" in file) or (\"pr_a_ck\" in file) ]\n"
      ],
      "metadata": {
        "id": "5FZPFj7MwsxE"
      },
      "execution_count": null,
      "outputs": []
    },
    {
      "cell_type": "code",
      "source": [
        "models = readStoredModels(modelsPath, file_list)"
      ],
      "metadata": {
        "id": "xMbQfdtCrhNP"
      },
      "execution_count": null,
      "outputs": []
    },
    {
      "cell_type": "code",
      "source": [
        "# Merge models\n",
        "for i, model in enumerate(models):\n",
        "  if i == 0:\n",
        "    df = model\n",
        "  else:\n",
        "    df = pd.merge(df, model, left_index=True, right_index=True)  "
      ],
      "metadata": {
        "id": "zLLRmc1Sv08r"
      },
      "execution_count": null,
      "outputs": []
    },
    {
      "cell_type": "code",
      "source": [
        "df"
      ],
      "metadata": {
        "id": "ODtWMYTWsnBb"
      },
      "execution_count": null,
      "outputs": []
    },
    {
      "cell_type": "code",
      "source": [
        "# Save dataframe:\n",
        "os.chdir(dataPath)\n",
        "df.to_pickle(\"word2vec.pkl\")\n"
      ],
      "metadata": {
        "id": "87hVqIMzvqx1"
      },
      "execution_count": null,
      "outputs": []
    },
    {
      "cell_type": "code",
      "source": [
        "# Load word2vec\n",
        "os.chdir(dataPath)\n",
        "df_word= pd.read_pickle(\"word2vec.pkl\")\n",
        "df_word.head()"
      ],
      "metadata": {
        "colab": {
          "base_uri": "https://localhost:8080/",
          "height": 301
        },
        "id": "R4fl9iuZyXi0",
        "outputId": "7eee6e07-c3e1-418a-967e-4eb682c4090b"
      },
      "execution_count": null,
      "outputs": [
        {
          "output_type": "execute_result",
          "data": {
            "text/plain": [
              "     deg_a_ck_b  eig_a_ck_b  pr_a_ck_b  deg_a_ck_a_p_b  eig_a_ck_a_p_b  \\\n",
              "a                                                                        \n",
              "1.0    1.000000    0.075681   0.003534             0.0       -0.059685   \n",
              "2.0    0.987474    0.074952   0.003492             0.0        0.077926   \n",
              "3.0    0.983299    0.074591   0.003479             0.0        0.010066   \n",
              "4.0    0.974948    0.074072   0.003452             0.0        0.007677   \n",
              "5.0    0.991649    0.075158   0.003507             0.0        0.061111   \n",
              "\n",
              "     pr_a_ck_a_p_b  \n",
              "a                   \n",
              "1.0       0.002083  \n",
              "2.0       0.002083  \n",
              "3.0       0.002083  \n",
              "4.0       0.002083  \n",
              "5.0       0.002083  "
            ],
            "text/html": [
              "\n",
              "  <div id=\"df-3c3c6b68-2084-43a4-9902-67dc0ebe39fc\">\n",
              "    <div class=\"colab-df-container\">\n",
              "      <div>\n",
              "<style scoped>\n",
              "    .dataframe tbody tr th:only-of-type {\n",
              "        vertical-align: middle;\n",
              "    }\n",
              "\n",
              "    .dataframe tbody tr th {\n",
              "        vertical-align: top;\n",
              "    }\n",
              "\n",
              "    .dataframe thead th {\n",
              "        text-align: right;\n",
              "    }\n",
              "</style>\n",
              "<table border=\"1\" class=\"dataframe\">\n",
              "  <thead>\n",
              "    <tr style=\"text-align: right;\">\n",
              "      <th></th>\n",
              "      <th>deg_a_ck_b</th>\n",
              "      <th>eig_a_ck_b</th>\n",
              "      <th>pr_a_ck_b</th>\n",
              "      <th>deg_a_ck_a_p_b</th>\n",
              "      <th>eig_a_ck_a_p_b</th>\n",
              "      <th>pr_a_ck_a_p_b</th>\n",
              "    </tr>\n",
              "    <tr>\n",
              "      <th>a</th>\n",
              "      <th></th>\n",
              "      <th></th>\n",
              "      <th></th>\n",
              "      <th></th>\n",
              "      <th></th>\n",
              "      <th></th>\n",
              "    </tr>\n",
              "  </thead>\n",
              "  <tbody>\n",
              "    <tr>\n",
              "      <th>1.0</th>\n",
              "      <td>1.000000</td>\n",
              "      <td>0.075681</td>\n",
              "      <td>0.003534</td>\n",
              "      <td>0.0</td>\n",
              "      <td>-0.059685</td>\n",
              "      <td>0.002083</td>\n",
              "    </tr>\n",
              "    <tr>\n",
              "      <th>2.0</th>\n",
              "      <td>0.987474</td>\n",
              "      <td>0.074952</td>\n",
              "      <td>0.003492</td>\n",
              "      <td>0.0</td>\n",
              "      <td>0.077926</td>\n",
              "      <td>0.002083</td>\n",
              "    </tr>\n",
              "    <tr>\n",
              "      <th>3.0</th>\n",
              "      <td>0.983299</td>\n",
              "      <td>0.074591</td>\n",
              "      <td>0.003479</td>\n",
              "      <td>0.0</td>\n",
              "      <td>0.010066</td>\n",
              "      <td>0.002083</td>\n",
              "    </tr>\n",
              "    <tr>\n",
              "      <th>4.0</th>\n",
              "      <td>0.974948</td>\n",
              "      <td>0.074072</td>\n",
              "      <td>0.003452</td>\n",
              "      <td>0.0</td>\n",
              "      <td>0.007677</td>\n",
              "      <td>0.002083</td>\n",
              "    </tr>\n",
              "    <tr>\n",
              "      <th>5.0</th>\n",
              "      <td>0.991649</td>\n",
              "      <td>0.075158</td>\n",
              "      <td>0.003507</td>\n",
              "      <td>0.0</td>\n",
              "      <td>0.061111</td>\n",
              "      <td>0.002083</td>\n",
              "    </tr>\n",
              "  </tbody>\n",
              "</table>\n",
              "</div>\n",
              "      <button class=\"colab-df-convert\" onclick=\"convertToInteractive('df-3c3c6b68-2084-43a4-9902-67dc0ebe39fc')\"\n",
              "              title=\"Convert this dataframe to an interactive table.\"\n",
              "              style=\"display:none;\">\n",
              "        \n",
              "  <svg xmlns=\"http://www.w3.org/2000/svg\" height=\"24px\"viewBox=\"0 0 24 24\"\n",
              "       width=\"24px\">\n",
              "    <path d=\"M0 0h24v24H0V0z\" fill=\"none\"/>\n",
              "    <path d=\"M18.56 5.44l.94 2.06.94-2.06 2.06-.94-2.06-.94-.94-2.06-.94 2.06-2.06.94zm-11 1L8.5 8.5l.94-2.06 2.06-.94-2.06-.94L8.5 2.5l-.94 2.06-2.06.94zm10 10l.94 2.06.94-2.06 2.06-.94-2.06-.94-.94-2.06-.94 2.06-2.06.94z\"/><path d=\"M17.41 7.96l-1.37-1.37c-.4-.4-.92-.59-1.43-.59-.52 0-1.04.2-1.43.59L10.3 9.45l-7.72 7.72c-.78.78-.78 2.05 0 2.83L4 21.41c.39.39.9.59 1.41.59.51 0 1.02-.2 1.41-.59l7.78-7.78 2.81-2.81c.8-.78.8-2.07 0-2.86zM5.41 20L4 18.59l7.72-7.72 1.47 1.35L5.41 20z\"/>\n",
              "  </svg>\n",
              "      </button>\n",
              "      \n",
              "  <style>\n",
              "    .colab-df-container {\n",
              "      display:flex;\n",
              "      flex-wrap:wrap;\n",
              "      gap: 12px;\n",
              "    }\n",
              "\n",
              "    .colab-df-convert {\n",
              "      background-color: #E8F0FE;\n",
              "      border: none;\n",
              "      border-radius: 50%;\n",
              "      cursor: pointer;\n",
              "      display: none;\n",
              "      fill: #1967D2;\n",
              "      height: 32px;\n",
              "      padding: 0 0 0 0;\n",
              "      width: 32px;\n",
              "    }\n",
              "\n",
              "    .colab-df-convert:hover {\n",
              "      background-color: #E2EBFA;\n",
              "      box-shadow: 0px 1px 2px rgba(60, 64, 67, 0.3), 0px 1px 3px 1px rgba(60, 64, 67, 0.15);\n",
              "      fill: #174EA6;\n",
              "    }\n",
              "\n",
              "    [theme=dark] .colab-df-convert {\n",
              "      background-color: #3B4455;\n",
              "      fill: #D2E3FC;\n",
              "    }\n",
              "\n",
              "    [theme=dark] .colab-df-convert:hover {\n",
              "      background-color: #434B5C;\n",
              "      box-shadow: 0px 1px 3px 1px rgba(0, 0, 0, 0.15);\n",
              "      filter: drop-shadow(0px 1px 2px rgba(0, 0, 0, 0.3));\n",
              "      fill: #FFFFFF;\n",
              "    }\n",
              "  </style>\n",
              "\n",
              "      <script>\n",
              "        const buttonEl =\n",
              "          document.querySelector('#df-3c3c6b68-2084-43a4-9902-67dc0ebe39fc button.colab-df-convert');\n",
              "        buttonEl.style.display =\n",
              "          google.colab.kernel.accessAllowed ? 'block' : 'none';\n",
              "\n",
              "        async function convertToInteractive(key) {\n",
              "          const element = document.querySelector('#df-3c3c6b68-2084-43a4-9902-67dc0ebe39fc');\n",
              "          const dataTable =\n",
              "            await google.colab.kernel.invokeFunction('convertToInteractive',\n",
              "                                                     [key], {});\n",
              "          if (!dataTable) return;\n",
              "\n",
              "          const docLinkHtml = 'Like what you see? Visit the ' +\n",
              "            '<a target=\"_blank\" href=https://colab.research.google.com/notebooks/data_table.ipynb>data table notebook</a>'\n",
              "            + ' to learn more about interactive tables.';\n",
              "          element.innerHTML = '';\n",
              "          dataTable['output_type'] = 'display_data';\n",
              "          await google.colab.output.renderOutput(dataTable, element);\n",
              "          const docLink = document.createElement('div');\n",
              "          docLink.innerHTML = docLinkHtml;\n",
              "          element.appendChild(docLink);\n",
              "        }\n",
              "      </script>\n",
              "    </div>\n",
              "  </div>\n",
              "  "
            ]
          },
          "metadata": {},
          "execution_count": 66
        }
      ]
    },
    {
      "cell_type": "code",
      "source": [
        "os.chdir(dataPath)\n",
        "df_word.to_csv('vectors.tsv', sep=\"\\t\", index = False, header = False)"
      ],
      "metadata": {
        "id": "7hWxNU77DrAk"
      },
      "execution_count": null,
      "outputs": []
    },
    {
      "cell_type": "code",
      "source": [
        "metadata = ast.literal_eval(re.search('({.+})', word2index).group(0))"
      ],
      "metadata": {
        "id": "6Z3U_oGuyr_w"
      },
      "execution_count": null,
      "outputs": []
    },
    {
      "cell_type": "code",
      "source": [
        "str_list = list(metadata.keys())\n",
        "str_list"
      ],
      "metadata": {
        "id": "a1XaTQ0H7Cm9"
      },
      "execution_count": null,
      "outputs": []
    },
    {
      "cell_type": "code",
      "source": [
        "import sys\n",
        "orig_stdout = sys.stdout\n",
        "f = open('metadata.tsv', 'w')\n",
        "sys.stdout = f\n",
        "\n",
        "print(' \\n'.join(str_list))\n",
        "\n",
        "sys.stdout = orig_stdout\n",
        "f.close()\n",
        "sys.stdout = orig_stdout"
      ],
      "metadata": {
        "id": "3NHN99QGA9sn"
      },
      "execution_count": null,
      "outputs": []
    },
    {
      "cell_type": "code",
      "source": [],
      "metadata": {
        "id": "2-aUsRLC3dkT"
      },
      "execution_count": null,
      "outputs": []
    }
  ]
}