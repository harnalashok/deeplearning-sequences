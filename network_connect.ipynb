{
  "nbformat": 4,
  "nbformat_minor": 0,
  "metadata": {
    "colab": {
      "provenance": [],
      "collapsed_sections": [],
      "authorship_tag": "ABX9TyNR/xgaZKtkDBMvLv9UBAAz",
      "include_colab_link": true
    },
    "kernelspec": {
      "name": "python3",
      "display_name": "Python 3"
    },
    "language_info": {
      "name": "python"
    }
  },
  "cells": [
    {
      "cell_type": "markdown",
      "metadata": {
        "id": "view-in-github",
        "colab_type": "text"
      },
      "source": [
        "<a href=\"https://colab.research.google.com/github/harnalashok/deeplearning-sequences/blob/main/network_connect.ipynb\" target=\"_parent\"><img src=\"https://colab.research.google.com/assets/colab-badge.svg\" alt=\"Open In Colab\"/></a>"
      ]
    },
    {
      "cell_type": "code",
      "execution_count": 1,
      "metadata": {
        "id": "u-_bbAbthq-e",
        "outputId": "8db01070-446e-4a4d-845f-fb3cd04b4685",
        "colab": {
          "base_uri": "https://localhost:8080/"
        }
      },
      "outputs": [
        {
          "output_type": "stream",
          "name": "stdout",
          "text": [
            "Looking in indexes: https://pypi.org/simple, https://us-python.pkg.dev/colab-wheels/public/simple/\n",
            "Collecting cdlib\n",
            "  Downloading cdlib-0.2.6-py3-none-any.whl (228 kB)\n",
            "\u001b[K     |████████████████████████████████| 228 kB 4.9 MB/s \n",
            "\u001b[?25hCollecting thresholdclustering\n",
            "  Downloading thresholdclustering-1.1-py3-none-any.whl (5.3 kB)\n",
            "Collecting nf1\n",
            "  Downloading nf1-0.0.4-py3-none-any.whl (18 kB)\n",
            "Collecting pulp\n",
            "  Downloading PuLP-2.7.0-py3-none-any.whl (14.3 MB)\n",
            "\u001b[K     |████████████████████████████████| 14.3 MB 5.0 MB/s \n",
            "\u001b[?25hCollecting angel-cd\n",
            "  Downloading angel_cd-1.0.3-py3-none-any.whl (10 kB)\n",
            "Collecting chinese-whispers\n",
            "  Downloading chinese_whispers-0.8.0-py3-none-any.whl (7.7 kB)\n",
            "Requirement already satisfied: matplotlib in /usr/local/lib/python3.7/dist-packages (from cdlib) (3.2.2)\n",
            "Collecting pyclustering\n",
            "  Downloading pyclustering-0.10.1.2.tar.gz (2.6 MB)\n",
            "\u001b[K     |████████████████████████████████| 2.6 MB 33.3 MB/s \n",
            "\u001b[?25hRequirement already satisfied: cython in /usr/local/lib/python3.7/dist-packages (from cdlib) (0.29.32)\n",
            "Requirement already satisfied: networkx>=2.4 in /usr/local/lib/python3.7/dist-packages (from cdlib) (2.6.3)\n",
            "Collecting bimlpa\n",
            "  Downloading bimlpa-0.1.2-py3-none-any.whl (7.0 kB)\n",
            "Collecting python-Levenshtein\n",
            "  Downloading python_Levenshtein-0.20.8-py3-none-any.whl (9.4 kB)\n",
            "Requirement already satisfied: scipy in /usr/local/lib/python3.7/dist-packages (from cdlib) (1.7.3)\n",
            "Requirement already satisfied: pandas in /usr/local/lib/python3.7/dist-packages (from cdlib) (1.3.5)\n",
            "Collecting markov-clustering\n",
            "  Downloading markov_clustering-0.0.6.dev0-py3-none-any.whl (6.3 kB)\n",
            "Collecting python-igraph\n",
            "  Downloading python-igraph-0.10.2.tar.gz (9.5 kB)\n",
            "Collecting eva-lcd\n",
            "  Downloading eva_lcd-0.1.1-py3-none-any.whl (9.2 kB)\n",
            "Requirement already satisfied: numpy in /usr/local/lib/python3.7/dist-packages (from cdlib) (1.21.6)\n",
            "Requirement already satisfied: tqdm in /usr/local/lib/python3.7/dist-packages (from cdlib) (4.64.1)\n",
            "Requirement already satisfied: scikit-learn in /usr/local/lib/python3.7/dist-packages (from cdlib) (1.0.2)\n",
            "Requirement already satisfied: python-louvain>=0.16 in /usr/local/lib/python3.7/dist-packages (from cdlib) (0.16)\n",
            "Collecting demon\n",
            "  Downloading demon-2.0.6-py3-none-any.whl (7.3 kB)\n",
            "Requirement already satisfied: pooch in /usr/local/lib/python3.7/dist-packages (from cdlib) (1.6.0)\n",
            "Requirement already satisfied: future in /usr/local/lib/python3.7/dist-packages (from cdlib) (0.16.0)\n",
            "Collecting dynetx\n",
            "  Downloading dynetx-0.3.1-py3-none-any.whl (39 kB)\n",
            "Requirement already satisfied: seaborn in /usr/local/lib/python3.7/dist-packages (from cdlib) (0.11.2)\n",
            "Requirement already satisfied: decorator in /usr/local/lib/python3.7/dist-packages (from dynetx->cdlib) (4.4.2)\n",
            "Requirement already satisfied: python-dateutil>=2.1 in /usr/local/lib/python3.7/dist-packages (from matplotlib->cdlib) (2.8.2)\n",
            "Requirement already satisfied: kiwisolver>=1.0.1 in /usr/local/lib/python3.7/dist-packages (from matplotlib->cdlib) (1.4.4)\n",
            "Requirement already satisfied: pyparsing!=2.0.4,!=2.1.2,!=2.1.6,>=2.0.1 in /usr/local/lib/python3.7/dist-packages (from matplotlib->cdlib) (3.0.9)\n",
            "Requirement already satisfied: cycler>=0.10 in /usr/local/lib/python3.7/dist-packages (from matplotlib->cdlib) (0.11.0)\n",
            "Requirement already satisfied: typing-extensions in /usr/local/lib/python3.7/dist-packages (from kiwisolver>=1.0.1->matplotlib->cdlib) (4.1.1)\n",
            "Requirement already satisfied: six>=1.5 in /usr/local/lib/python3.7/dist-packages (from python-dateutil>=2.1->matplotlib->cdlib) (1.15.0)\n",
            "Requirement already satisfied: pytz>=2017.3 in /usr/local/lib/python3.7/dist-packages (from pandas->cdlib) (2022.5)\n",
            "Requirement already satisfied: requests>=2.19.0 in /usr/local/lib/python3.7/dist-packages (from pooch->cdlib) (2.23.0)\n",
            "Requirement already satisfied: appdirs>=1.3.0 in /usr/local/lib/python3.7/dist-packages (from pooch->cdlib) (1.4.4)\n",
            "Requirement already satisfied: packaging>=20.0 in /usr/local/lib/python3.7/dist-packages (from pooch->cdlib) (21.3)\n",
            "Requirement already satisfied: urllib3!=1.25.0,!=1.25.1,<1.26,>=1.21.1 in /usr/local/lib/python3.7/dist-packages (from requests>=2.19.0->pooch->cdlib) (1.24.3)\n",
            "Requirement already satisfied: certifi>=2017.4.17 in /usr/local/lib/python3.7/dist-packages (from requests>=2.19.0->pooch->cdlib) (2022.9.24)\n",
            "Requirement already satisfied: idna<3,>=2.5 in /usr/local/lib/python3.7/dist-packages (from requests>=2.19.0->pooch->cdlib) (2.10)\n",
            "Requirement already satisfied: chardet<4,>=3.0.2 in /usr/local/lib/python3.7/dist-packages (from requests>=2.19.0->pooch->cdlib) (3.0.4)\n",
            "Requirement already satisfied: Pillow>=5.2.0 in /usr/local/lib/python3.7/dist-packages (from pyclustering->cdlib) (7.1.2)\n",
            "Collecting igraph==0.10.2\n",
            "  Downloading igraph-0.10.2-cp37-cp37m-manylinux_2_17_x86_64.manylinux2014_x86_64.whl (3.2 MB)\n",
            "\u001b[K     |████████████████████████████████| 3.2 MB 36.8 MB/s \n",
            "\u001b[?25hCollecting texttable>=1.6.2\n",
            "  Downloading texttable-1.6.4-py2.py3-none-any.whl (10 kB)\n",
            "Collecting Levenshtein==0.20.8\n",
            "  Downloading Levenshtein-0.20.8-cp37-cp37m-manylinux_2_17_x86_64.manylinux2014_x86_64.whl (175 kB)\n",
            "\u001b[K     |████████████████████████████████| 175 kB 19.4 MB/s \n",
            "\u001b[?25hCollecting rapidfuzz<3.0.0,>=2.3.0\n",
            "  Downloading rapidfuzz-2.13.1-cp37-cp37m-manylinux_2_17_x86_64.manylinux2014_x86_64.whl (2.2 MB)\n",
            "\u001b[K     |████████████████████████████████| 2.2 MB 14.0 MB/s \n",
            "\u001b[?25hRequirement already satisfied: threadpoolctl>=2.0.0 in /usr/local/lib/python3.7/dist-packages (from scikit-learn->cdlib) (3.1.0)\n",
            "Requirement already satisfied: joblib>=0.11 in /usr/local/lib/python3.7/dist-packages (from scikit-learn->cdlib) (1.2.0)\n",
            "Building wheels for collected packages: pyclustering, python-igraph\n",
            "  Building wheel for pyclustering (setup.py) ... \u001b[?25l\u001b[?25hdone\n",
            "  Created wheel for pyclustering: filename=pyclustering-0.10.1.2-py3-none-any.whl size=2395122 sha256=137145755b6e702292ab47b4683b1a82c555aca6c646f2f99ea17534f28d02b0\n",
            "  Stored in directory: /root/.cache/pip/wheels/ea/87/6b/1e0568b5ba9dc6518a25338bae90bd8392f35206bb90bb10f1\n",
            "  Building wheel for python-igraph (setup.py) ... \u001b[?25l\u001b[?25hdone\n",
            "  Created wheel for python-igraph: filename=python_igraph-0.10.2-py3-none-any.whl size=9074 sha256=4af8b91a02a450b20239c0a5ca7000917da777e0313f0470d12562b39a8fcc7e\n",
            "  Stored in directory: /root/.cache/pip/wheels/74/1d/33/83ec153aa37c92957b2edb888f4f42fdea9b7ac89f4b919391\n",
            "Successfully built pyclustering python-igraph\n",
            "Installing collected packages: texttable, rapidfuzz, igraph, python-igraph, Levenshtein, thresholdclustering, python-Levenshtein, pyclustering, pulp, nf1, markov-clustering, eva-lcd, dynetx, demon, chinese-whispers, bimlpa, angel-cd, cdlib\n",
            "Successfully installed Levenshtein-0.20.8 angel-cd-1.0.3 bimlpa-0.1.2 cdlib-0.2.6 chinese-whispers-0.8.0 demon-2.0.6 dynetx-0.3.1 eva-lcd-0.1.1 igraph-0.10.2 markov-clustering-0.0.6.dev0 nf1-0.0.4 pulp-2.7.0 pyclustering-0.10.1.2 python-Levenshtein-0.20.8 python-igraph-0.10.2 rapidfuzz-2.13.1 texttable-1.6.4 thresholdclustering-1.1\n"
          ]
        }
      ],
      "source": [
        "!pip install cdlib"
      ]
    },
    {
      "cell_type": "code",
      "source": [
        "from google.colab import drive\n",
        "drive.mount('/gdrive')"
      ],
      "metadata": {
        "colab": {
          "base_uri": "https://localhost:8080/"
        },
        "id": "w9i13zSOiEPI",
        "outputId": "6d384b5d-d281-4d1f-a2e4-367682bada5e"
      },
      "execution_count": 2,
      "outputs": [
        {
          "output_type": "stream",
          "name": "stdout",
          "text": [
            "Mounted at /gdrive\n"
          ]
        }
      ]
    },
    {
      "cell_type": "code",
      "source": [
        "%reset -f\n",
        "\n",
        "# 1.0 Call libraries\n",
        "import pandas as pd\n",
        "import numpy as np\n",
        "import networkx as nx\n",
        "\n",
        "# 1.01\n",
        "import joblib\n",
        "from collections import defaultdict\n",
        "\n",
        "# 1.02\n",
        "from sklearn.preprocessing import StandardScaler\n",
        "from sklearn.impute import SimpleImputer\n",
        "\n",
        "# 1.08 Misc\n",
        "import os,gc , time,  glob\n",
        "from os.path import exists\n",
        "import feather\n",
        "import re\n",
        "import ast\n"
      ],
      "metadata": {
        "id": "ODA6VbNOiozx"
      },
      "execution_count": 31,
      "outputs": []
    },
    {
      "cell_type": "code",
      "source": [
        "# Paths:\n",
        "modulePath = \"/gdrive/MyDrive/Colab_data_files/talkingData/03112022/\"\n",
        "dataPath = \"/gdrive/MyDrive/Colab_data_files/skipgram/\"\n",
        "modelsPath = \"/gdrive/MyDrive/Colab_data_files/skipgram/modelspath/\"\n",
        "pathToStoreProgress = \"/gdrive/MyDrive/Colab_data_files/skipgram/pathToStoreProgress/\"\n",
        "mapdictPath = \"/gdrive/MyDrive/Colab_data_files/skipgram/mapdictpath/\""
      ],
      "metadata": {
        "id": "F9OEHf3tk4b_"
      },
      "execution_count": 32,
      "outputs": []
    },
    {
      "cell_type": "code",
      "source": [
        "# 1.09 Home made modules\n",
        "os.chdir(modulePath)\n",
        "import network_features\n",
        "from network_features import *\n",
        "import utils\n",
        "from utils import *\n",
        "\n",
        "import importlib; importlib.reload(network_features)\n",
        "import importlib; importlib.reload(utils)"
      ],
      "metadata": {
        "colab": {
          "base_uri": "https://localhost:8080/"
        },
        "id": "J2f6c-HPi7aC",
        "outputId": "92973b31-7e19-4b66-ec14-a90e4057e430"
      },
      "execution_count": 33,
      "outputs": [
        {
          "output_type": "execute_result",
          "data": {
            "text/plain": [
              "<module 'utils' from '/gdrive/MyDrive/Colab_data_files/talkingData/03112022/utils.py'>"
            ]
          },
          "metadata": {},
          "execution_count": 33
        }
      ]
    },
    {
      "cell_type": "code",
      "source": [
        "# Cleaning up\n",
        "!rm -r -f /gdrive/MyDrive/Colab_data_files/skipgram/modelspath/\n",
        "!rm -r -f /gdrive/MyDrive/Colab_data_files/skipgram/pathToStoreProgress/\n",
        "!rm -r -f /gdrive/MyDrive/Colab_data_files/skipgram/mapdictpath/"
      ],
      "metadata": {
        "id": "K0SQjlyU7AFR"
      },
      "execution_count": 34,
      "outputs": []
    },
    {
      "cell_type": "code",
      "source": [
        "!rm -r -f /gdrive/MyDrive/Colab_data_files/skipgram/vectors.tsv\n",
        "!rm -r -f /gdrive/MyDrive/Colab_data_files/skipgram/metadata.tsv"
      ],
      "metadata": {
        "id": "6nLfB9QUwj7q"
      },
      "execution_count": 7,
      "outputs": []
    },
    {
      "cell_type": "code",
      "source": [
        "\n",
        "!mkdir /gdrive/MyDrive/Colab_data_files/skipgram/modelspath/\n",
        "!mkdir /gdrive/MyDrive/Colab_data_files/skipgram/pathToStoreProgress/\n",
        "!mkdir /gdrive/MyDrive/Colab_data_files/skipgram/mapdictpath/"
      ],
      "metadata": {
        "id": "3IR6J6Wqwhlt"
      },
      "execution_count": 35,
      "outputs": []
    },
    {
      "cell_type": "code",
      "source": [
        "# 8.0 Read back pkl file and dictionary:\n",
        "os.chdir(dataPath)\n",
        "train = pd.read_pickle(\"seq.pkl\")\n",
        "train.head()"
      ],
      "metadata": {
        "id": "WKA1JkstkqSz",
        "outputId": "7a2ac5d3-11df-4292-e18d-e36ab003f794",
        "colab": {
          "base_uri": "https://localhost:8080/",
          "height": 206
        }
      },
      "execution_count": 36,
      "outputs": [
        {
          "output_type": "execute_result",
          "data": {
            "text/plain": [
              "      a     b\n",
              "0   174  2146\n",
              "1  3743  3067\n",
              "2     9   917\n",
              "3    14   759\n",
              "4  1283  1173"
            ],
            "text/html": [
              "\n",
              "  <div id=\"df-3897ab54-b6e1-4160-a333-ee367f1b97c1\">\n",
              "    <div class=\"colab-df-container\">\n",
              "      <div>\n",
              "<style scoped>\n",
              "    .dataframe tbody tr th:only-of-type {\n",
              "        vertical-align: middle;\n",
              "    }\n",
              "\n",
              "    .dataframe tbody tr th {\n",
              "        vertical-align: top;\n",
              "    }\n",
              "\n",
              "    .dataframe thead th {\n",
              "        text-align: right;\n",
              "    }\n",
              "</style>\n",
              "<table border=\"1\" class=\"dataframe\">\n",
              "  <thead>\n",
              "    <tr style=\"text-align: right;\">\n",
              "      <th></th>\n",
              "      <th>a</th>\n",
              "      <th>b</th>\n",
              "    </tr>\n",
              "  </thead>\n",
              "  <tbody>\n",
              "    <tr>\n",
              "      <th>0</th>\n",
              "      <td>174</td>\n",
              "      <td>2146</td>\n",
              "    </tr>\n",
              "    <tr>\n",
              "      <th>1</th>\n",
              "      <td>3743</td>\n",
              "      <td>3067</td>\n",
              "    </tr>\n",
              "    <tr>\n",
              "      <th>2</th>\n",
              "      <td>9</td>\n",
              "      <td>917</td>\n",
              "    </tr>\n",
              "    <tr>\n",
              "      <th>3</th>\n",
              "      <td>14</td>\n",
              "      <td>759</td>\n",
              "    </tr>\n",
              "    <tr>\n",
              "      <th>4</th>\n",
              "      <td>1283</td>\n",
              "      <td>1173</td>\n",
              "    </tr>\n",
              "  </tbody>\n",
              "</table>\n",
              "</div>\n",
              "      <button class=\"colab-df-convert\" onclick=\"convertToInteractive('df-3897ab54-b6e1-4160-a333-ee367f1b97c1')\"\n",
              "              title=\"Convert this dataframe to an interactive table.\"\n",
              "              style=\"display:none;\">\n",
              "        \n",
              "  <svg xmlns=\"http://www.w3.org/2000/svg\" height=\"24px\"viewBox=\"0 0 24 24\"\n",
              "       width=\"24px\">\n",
              "    <path d=\"M0 0h24v24H0V0z\" fill=\"none\"/>\n",
              "    <path d=\"M18.56 5.44l.94 2.06.94-2.06 2.06-.94-2.06-.94-.94-2.06-.94 2.06-2.06.94zm-11 1L8.5 8.5l.94-2.06 2.06-.94-2.06-.94L8.5 2.5l-.94 2.06-2.06.94zm10 10l.94 2.06.94-2.06 2.06-.94-2.06-.94-.94-2.06-.94 2.06-2.06.94z\"/><path d=\"M17.41 7.96l-1.37-1.37c-.4-.4-.92-.59-1.43-.59-.52 0-1.04.2-1.43.59L10.3 9.45l-7.72 7.72c-.78.78-.78 2.05 0 2.83L4 21.41c.39.39.9.59 1.41.59.51 0 1.02-.2 1.41-.59l7.78-7.78 2.81-2.81c.8-.78.8-2.07 0-2.86zM5.41 20L4 18.59l7.72-7.72 1.47 1.35L5.41 20z\"/>\n",
              "  </svg>\n",
              "      </button>\n",
              "      \n",
              "  <style>\n",
              "    .colab-df-container {\n",
              "      display:flex;\n",
              "      flex-wrap:wrap;\n",
              "      gap: 12px;\n",
              "    }\n",
              "\n",
              "    .colab-df-convert {\n",
              "      background-color: #E8F0FE;\n",
              "      border: none;\n",
              "      border-radius: 50%;\n",
              "      cursor: pointer;\n",
              "      display: none;\n",
              "      fill: #1967D2;\n",
              "      height: 32px;\n",
              "      padding: 0 0 0 0;\n",
              "      width: 32px;\n",
              "    }\n",
              "\n",
              "    .colab-df-convert:hover {\n",
              "      background-color: #E2EBFA;\n",
              "      box-shadow: 0px 1px 2px rgba(60, 64, 67, 0.3), 0px 1px 3px 1px rgba(60, 64, 67, 0.15);\n",
              "      fill: #174EA6;\n",
              "    }\n",
              "\n",
              "    [theme=dark] .colab-df-convert {\n",
              "      background-color: #3B4455;\n",
              "      fill: #D2E3FC;\n",
              "    }\n",
              "\n",
              "    [theme=dark] .colab-df-convert:hover {\n",
              "      background-color: #434B5C;\n",
              "      box-shadow: 0px 1px 3px 1px rgba(0, 0, 0, 0.15);\n",
              "      filter: drop-shadow(0px 1px 2px rgba(0, 0, 0, 0.3));\n",
              "      fill: #FFFFFF;\n",
              "    }\n",
              "  </style>\n",
              "\n",
              "      <script>\n",
              "        const buttonEl =\n",
              "          document.querySelector('#df-3897ab54-b6e1-4160-a333-ee367f1b97c1 button.colab-df-convert');\n",
              "        buttonEl.style.display =\n",
              "          google.colab.kernel.accessAllowed ? 'block' : 'none';\n",
              "\n",
              "        async function convertToInteractive(key) {\n",
              "          const element = document.querySelector('#df-3897ab54-b6e1-4160-a333-ee367f1b97c1');\n",
              "          const dataTable =\n",
              "            await google.colab.kernel.invokeFunction('convertToInteractive',\n",
              "                                                     [key], {});\n",
              "          if (!dataTable) return;\n",
              "\n",
              "          const docLinkHtml = 'Like what you see? Visit the ' +\n",
              "            '<a target=\"_blank\" href=https://colab.research.google.com/notebooks/data_table.ipynb>data table notebook</a>'\n",
              "            + ' to learn more about interactive tables.';\n",
              "          element.innerHTML = '';\n",
              "          dataTable['output_type'] = 'display_data';\n",
              "          await google.colab.output.renderOutput(dataTable, element);\n",
              "          const docLink = document.createElement('div');\n",
              "          docLink.innerHTML = docLinkHtml;\n",
              "          element.appendChild(docLink);\n",
              "        }\n",
              "      </script>\n",
              "    </div>\n",
              "  </div>\n",
              "  "
            ]
          },
          "metadata": {},
          "execution_count": 36
        }
      ]
    },
    {
      "cell_type": "code",
      "source": [
        "# Read dictionary\n",
        "os.chdir(dataPath)\n",
        "filehandler = open(\"word_index.txt\", 'r')\n",
        "word2index = filehandler.read()\n",
        "word2index"
      ],
      "metadata": {
        "id": "i4FjdGVtm1ms"
      },
      "execution_count": null,
      "outputs": []
    },
    {
      "cell_type": "code",
      "source": [
        "org_columns = train.columns\n",
        "cat_cols = ['a', 'b']"
      ],
      "metadata": {
        "id": "cC64egz8nEas"
      },
      "execution_count": 38,
      "outputs": []
    },
    {
      "cell_type": "code",
      "source": [
        "# 6.1 Create new columns (combinations of columns) in train\n",
        "train = utils.create_cat_pairwise_cols(train , cat_cols)"
      ],
      "metadata": {
        "id": "3LGMc_Rdn2sz"
      },
      "execution_count": 39,
      "outputs": []
    },
    {
      "cell_type": "code",
      "source": [
        "train.head()"
      ],
      "metadata": {
        "id": "nuOSCcrzn8Fr",
        "outputId": "bec0dbd8-f99c-4f08-ff37-c65098b197f3",
        "colab": {
          "base_uri": "https://localhost:8080/",
          "height": 206
        }
      },
      "execution_count": 40,
      "outputs": [
        {
          "output_type": "execute_result",
          "data": {
            "text/plain": [
              "      a     b      a_p_b\n",
              "0   174  2146   174_2146\n",
              "1  3743  3067  3743_3067\n",
              "2     9   917      9_917\n",
              "3    14   759     14_759\n",
              "4  1283  1173  1283_1173"
            ],
            "text/html": [
              "\n",
              "  <div id=\"df-8f460c02-2b53-4478-a2b4-96bbed4d835a\">\n",
              "    <div class=\"colab-df-container\">\n",
              "      <div>\n",
              "<style scoped>\n",
              "    .dataframe tbody tr th:only-of-type {\n",
              "        vertical-align: middle;\n",
              "    }\n",
              "\n",
              "    .dataframe tbody tr th {\n",
              "        vertical-align: top;\n",
              "    }\n",
              "\n",
              "    .dataframe thead th {\n",
              "        text-align: right;\n",
              "    }\n",
              "</style>\n",
              "<table border=\"1\" class=\"dataframe\">\n",
              "  <thead>\n",
              "    <tr style=\"text-align: right;\">\n",
              "      <th></th>\n",
              "      <th>a</th>\n",
              "      <th>b</th>\n",
              "      <th>a_p_b</th>\n",
              "    </tr>\n",
              "  </thead>\n",
              "  <tbody>\n",
              "    <tr>\n",
              "      <th>0</th>\n",
              "      <td>174</td>\n",
              "      <td>2146</td>\n",
              "      <td>174_2146</td>\n",
              "    </tr>\n",
              "    <tr>\n",
              "      <th>1</th>\n",
              "      <td>3743</td>\n",
              "      <td>3067</td>\n",
              "      <td>3743_3067</td>\n",
              "    </tr>\n",
              "    <tr>\n",
              "      <th>2</th>\n",
              "      <td>9</td>\n",
              "      <td>917</td>\n",
              "      <td>9_917</td>\n",
              "    </tr>\n",
              "    <tr>\n",
              "      <th>3</th>\n",
              "      <td>14</td>\n",
              "      <td>759</td>\n",
              "      <td>14_759</td>\n",
              "    </tr>\n",
              "    <tr>\n",
              "      <th>4</th>\n",
              "      <td>1283</td>\n",
              "      <td>1173</td>\n",
              "      <td>1283_1173</td>\n",
              "    </tr>\n",
              "  </tbody>\n",
              "</table>\n",
              "</div>\n",
              "      <button class=\"colab-df-convert\" onclick=\"convertToInteractive('df-8f460c02-2b53-4478-a2b4-96bbed4d835a')\"\n",
              "              title=\"Convert this dataframe to an interactive table.\"\n",
              "              style=\"display:none;\">\n",
              "        \n",
              "  <svg xmlns=\"http://www.w3.org/2000/svg\" height=\"24px\"viewBox=\"0 0 24 24\"\n",
              "       width=\"24px\">\n",
              "    <path d=\"M0 0h24v24H0V0z\" fill=\"none\"/>\n",
              "    <path d=\"M18.56 5.44l.94 2.06.94-2.06 2.06-.94-2.06-.94-.94-2.06-.94 2.06-2.06.94zm-11 1L8.5 8.5l.94-2.06 2.06-.94-2.06-.94L8.5 2.5l-.94 2.06-2.06.94zm10 10l.94 2.06.94-2.06 2.06-.94-2.06-.94-.94-2.06-.94 2.06-2.06.94z\"/><path d=\"M17.41 7.96l-1.37-1.37c-.4-.4-.92-.59-1.43-.59-.52 0-1.04.2-1.43.59L10.3 9.45l-7.72 7.72c-.78.78-.78 2.05 0 2.83L4 21.41c.39.39.9.59 1.41.59.51 0 1.02-.2 1.41-.59l7.78-7.78 2.81-2.81c.8-.78.8-2.07 0-2.86zM5.41 20L4 18.59l7.72-7.72 1.47 1.35L5.41 20z\"/>\n",
              "  </svg>\n",
              "      </button>\n",
              "      \n",
              "  <style>\n",
              "    .colab-df-container {\n",
              "      display:flex;\n",
              "      flex-wrap:wrap;\n",
              "      gap: 12px;\n",
              "    }\n",
              "\n",
              "    .colab-df-convert {\n",
              "      background-color: #E8F0FE;\n",
              "      border: none;\n",
              "      border-radius: 50%;\n",
              "      cursor: pointer;\n",
              "      display: none;\n",
              "      fill: #1967D2;\n",
              "      height: 32px;\n",
              "      padding: 0 0 0 0;\n",
              "      width: 32px;\n",
              "    }\n",
              "\n",
              "    .colab-df-convert:hover {\n",
              "      background-color: #E2EBFA;\n",
              "      box-shadow: 0px 1px 2px rgba(60, 64, 67, 0.3), 0px 1px 3px 1px rgba(60, 64, 67, 0.15);\n",
              "      fill: #174EA6;\n",
              "    }\n",
              "\n",
              "    [theme=dark] .colab-df-convert {\n",
              "      background-color: #3B4455;\n",
              "      fill: #D2E3FC;\n",
              "    }\n",
              "\n",
              "    [theme=dark] .colab-df-convert:hover {\n",
              "      background-color: #434B5C;\n",
              "      box-shadow: 0px 1px 3px 1px rgba(0, 0, 0, 0.15);\n",
              "      filter: drop-shadow(0px 1px 2px rgba(0, 0, 0, 0.3));\n",
              "      fill: #FFFFFF;\n",
              "    }\n",
              "  </style>\n",
              "\n",
              "      <script>\n",
              "        const buttonEl =\n",
              "          document.querySelector('#df-8f460c02-2b53-4478-a2b4-96bbed4d835a button.colab-df-convert');\n",
              "        buttonEl.style.display =\n",
              "          google.colab.kernel.accessAllowed ? 'block' : 'none';\n",
              "\n",
              "        async function convertToInteractive(key) {\n",
              "          const element = document.querySelector('#df-8f460c02-2b53-4478-a2b4-96bbed4d835a');\n",
              "          const dataTable =\n",
              "            await google.colab.kernel.invokeFunction('convertToInteractive',\n",
              "                                                     [key], {});\n",
              "          if (!dataTable) return;\n",
              "\n",
              "          const docLinkHtml = 'Like what you see? Visit the ' +\n",
              "            '<a target=\"_blank\" href=https://colab.research.google.com/notebooks/data_table.ipynb>data table notebook</a>'\n",
              "            + ' to learn more about interactive tables.';\n",
              "          element.innerHTML = '';\n",
              "          dataTable['output_type'] = 'display_data';\n",
              "          await google.colab.output.renderOutput(dataTable, element);\n",
              "          const docLink = document.createElement('div');\n",
              "          docLink.innerHTML = docLinkHtml;\n",
              "          element.appendChild(docLink);\n",
              "        }\n",
              "      </script>\n",
              "    </div>\n",
              "  </div>\n",
              "  "
            ]
          },
          "metadata": {},
          "execution_count": 40
        }
      ]
    },
    {
      "cell_type": "code",
      "source": [
        "# 6.11 The train columns are:\n",
        "current_train_columns = train.columns\n",
        "# 6.12 New columns created. These columns must be latter dropped\n",
        "new_cols = list(set(current_train_columns).difference(set(org_columns)))\n",
        "# 6.13 Revised cat cols (ie excluding hour etc)\n",
        "cat_cols.extend(new_cols)\n",
        "len(cat_cols)   # 15\n",
        "cat_cols"
      ],
      "metadata": {
        "id": "So7yOgyqn9zb"
      },
      "execution_count": null,
      "outputs": []
    },
    {
      "cell_type": "code",
      "source": [
        "# 8.1 Get all possibe permutation of our columns\n",
        "#     Also decide which all centrality measures to cal\n",
        "deg = 1    # Calculate degree centrality\n",
        "eig = 1    # Calculate eigenvector centrality\n",
        "pr =  1    # Calculate pagerank centrality\n",
        "clu = 1    # Clustering coeff centrality\n",
        "nf = nx.katz_centrality_numpy # nx.katz_centrality_numpy\n",
        "cMeasures = [deg,eig,pr,clu, nf]"
      ],
      "metadata": {
        "id": "5G7WEE8LoJF8"
      },
      "execution_count": 42,
      "outputs": []
    },
    {
      "cell_type": "code",
      "source": [
        "single_permute_list = utils.permute_colList(cat_cols,cMeasures)\n",
        "single_permute_list"
      ],
      "metadata": {
        "id": "XQ-o1X9DoOKU"
      },
      "execution_count": null,
      "outputs": []
    },
    {
      "cell_type": "code",
      "source": [
        "len(single_permute_list)   # 6"
      ],
      "metadata": {
        "colab": {
          "base_uri": "https://localhost:8080/"
        },
        "id": "r3IruoUzoUFV",
        "outputId": "2eefeee2-5f76-4019-d2ff-0df2fd6e54a1"
      },
      "execution_count": 44,
      "outputs": [
        {
          "output_type": "execute_result",
          "data": {
            "text/plain": [
              "6"
            ]
          },
          "metadata": {},
          "execution_count": 44
        }
      ]
    },
    {
      "cell_type": "code",
      "source": [
        "spl = pd.DataFrame(single_permute_list, columns = [\"colToProject\", \"intermediaryCol\", \"cMeasures?\"])\n",
        "spl.shape   # (210, 4)\n",
        "spl"
      ],
      "metadata": {
        "id": "2H70LdI4oZs9"
      },
      "execution_count": null,
      "outputs": []
    },
    {
      "cell_type": "code",
      "source": [
        "X = train"
      ],
      "metadata": {
        "id": "ii0U0SZvvrSl"
      },
      "execution_count": 46,
      "outputs": []
    },
    {
      "cell_type": "code",
      "source": [
        "utils.ulevelsPerThreshold(X,'a_p_b', threshold_list = [0.00001, 0.0001, 0.0002, 0.000485,0.0005, 0.001, 0.01, 0.1, 0.15, 0.2])"
      ],
      "metadata": {
        "id": "_QrwLJTCvmEW"
      },
      "execution_count": null,
      "outputs": []
    },
    {
      "cell_type": "code",
      "source": [
        "mergethreshold = 0.00050  # 0.0020\n",
        "X =  utils.levelsTransformer(X, 'a_p_b',mergethreshold, mapdictPath)"
      ],
      "metadata": {
        "colab": {
          "base_uri": "https://localhost:8080/"
        },
        "id": "lo9vUYREv-du",
        "outputId": "69db3bf8-90ae-4783-f655-98588343a298"
      },
      "execution_count": null,
      "outputs": [
        {
          "output_type": "stream",
          "name": "stdout",
          "text": [
            "No saved dictionary exists as yet.\n"
          ]
        }
      ]
    },
    {
      "cell_type": "code",
      "source": [
        "record_sets = list(spl.to_records(index = False))\n",
        "record_sets"
      ],
      "metadata": {
        "id": "uXvVpSGrofZ5",
        "colab": {
          "base_uri": "https://localhost:8080/"
        },
        "outputId": "84c6cd94-9895-4abc-e71b-dbfdf963e88f"
      },
      "execution_count": 48,
      "outputs": [
        {
          "output_type": "execute_result",
          "data": {
            "text/plain": [
              "[('a', 'b', list([1, 1, 1, 1, <function katz_centrality_numpy at 0x7ff0bb6b5440>])),\n",
              " ('a', 'a_p_b', list([1, 1, 1, 1, <function katz_centrality_numpy at 0x7ff0bb6b5440>])),\n",
              " ('b', 'a', list([1, 1, 1, 1, <function katz_centrality_numpy at 0x7ff0bb6b5440>])),\n",
              " ('b', 'a_p_b', list([1, 1, 1, 1, <function katz_centrality_numpy at 0x7ff0bb6b5440>])),\n",
              " ('a_p_b', 'a', list([1, 1, 1, 1, <function katz_centrality_numpy at 0x7ff0bb6b5440>])),\n",
              " ('a_p_b', 'b', list([1, 1, 1, 1, <function katz_centrality_numpy at 0x7ff0bb6b5440>]))]"
            ]
          },
          "metadata": {},
          "execution_count": 48
        }
      ]
    },
    {
      "cell_type": "code",
      "source": [
        "record_sets = record_sets[:4]"
      ],
      "metadata": {
        "id": "YE8LjRv1rOl-"
      },
      "execution_count": 49,
      "outputs": []
    },
    {
      "cell_type": "code",
      "source": [
        "fulllist = [record_sets]"
      ],
      "metadata": {
        "id": "UIb5x7e8or8m"
      },
      "execution_count": 50,
      "outputs": []
    },
    {
      "cell_type": "code",
      "source": [
        "m = 1\n",
        "for k,j in enumerate(fulllist):\n",
        "  print(\"Record set no is {} of {}th fulllist \".format(k+1,m+1))\n",
        "  print(\"Set of records is: \", j)\n",
        "  # Each outer loop creates a new sets of models\n",
        "  fulllist_repeat_no = m + 1\n",
        "  transYesNo = False  # True implies transformation\n",
        "  X1_train, X1_test = network_features.get_store_features(X,j, transYesNo, None, fulllist_repeat_no , modelsPath, pathToStoreProgress)\n",
        "  print(\"\\nList done. X1_train shape \", X1_train.shape)\n",
        "  del X1_train\n",
        "  gc.collect()"
      ],
      "metadata": {
        "id": "TwORnajho3DA",
        "colab": {
          "base_uri": "https://localhost:8080/"
        },
        "outputId": "22f996e0-4781-4fa0-d3ba-ff38e75d5739"
      },
      "execution_count": 51,
      "outputs": [
        {
          "output_type": "stream",
          "name": "stdout",
          "text": [
            "Record set no is 1 of 2th fulllist \n",
            "Set of records is:  [('a', 'b', list([1, 1, 1, 1, <function katz_centrality_numpy at 0x7ff0bb6b5440>])), ('a', 'a_p_b', list([1, 1, 1, 1, <function katz_centrality_numpy at 0x7ff0bb6b5440>])), ('b', 'a', list([1, 1, 1, 1, <function katz_centrality_numpy at 0x7ff0bb6b5440>])), ('b', 'a_p_b', list([1, 1, 1, 1, <function katz_centrality_numpy at 0x7ff0bb6b5440>]))]\n",
            "('a', 'b', list([1, 1, 1, 1, <function katz_centrality_numpy at 0x7ff0bb6b5440>]))\n",
            "\n",
            "Next:  1 a b\n",
            "========================\n",
            "No of unique values in  a  are:  4044\n",
            "Bipartite Network created. Time taken:  0.023650991916656493 minutes\n",
            "Bipartite Network projected. Time taken:  0.3831348816553752 minutes\n",
            "Model extracted. Time taken:  0.642585571606954 minutes\n",
            "Model stored to disk\n",
            "train columns:  3\n",
            "No test data\n",
            "Done with a b\n",
            "Time taken:  1.0690585494041442\n",
            "Entry made in file progress.csv\n",
            "('a', 'a_p_b', list([1, 1, 1, 1, <function katz_centrality_numpy at 0x7ff0bb6b5440>]))\n",
            "\n",
            "Next:  2 a a_p_b\n",
            "========================\n",
            "No of unique values in  a  are:  4044\n",
            "Bipartite Network created. Time taken:  0.053565200169881186 minutes\n",
            "Bipartite Network projected. Time taken:  0.021129155158996583 minutes\n",
            "Model extracted. Time taken:  0.046461049715677896 minutes\n",
            "Model stored to disk\n",
            "train columns:  3\n",
            "No test data\n",
            "Done with a a_p_b\n",
            "Time taken:  0.12437686522801718\n",
            "Entry made in file progress.csv\n",
            "('b', 'a', list([1, 1, 1, 1, <function katz_centrality_numpy at 0x7ff0bb6b5440>]))\n",
            "\n",
            "Next:  3 b a\n",
            "========================\n",
            "No of unique values in  b  are:  4044\n",
            "Bipartite Network created. Time taken:  0.03307348092397054 minutes\n",
            "Bipartite Network projected. Time taken:  1.0421927014986674 minutes\n",
            "Model extracted. Time taken:  1.7342106342315673 minutes\n",
            "Model stored to disk\n",
            "train columns:  3\n",
            "No test data\n",
            "Done with b a\n",
            "Time taken:  2.869731871287028\n",
            "Entry made in file progress.csv\n",
            "('b', 'a_p_b', list([1, 1, 1, 1, <function katz_centrality_numpy at 0x7ff0bb6b5440>]))\n",
            "\n",
            "Next:  4 b a_p_b\n",
            "========================\n",
            "No of unique values in  b  are:  4044\n",
            "Bipartite Network created. Time taken:  0.039119279384613036 minutes\n",
            "Bipartite Network projected. Time taken:  0.011904144287109375 minutes\n",
            "Model extracted. Time taken:  0.03628306786219279 minutes\n",
            "Model stored to disk\n",
            "train columns:  3\n",
            "No test data\n",
            "Done with b a_p_b\n",
            "Time taken:  0.09043445587158203\n",
            "Entry made in file progress.csv\n",
            "\n",
            "List done. X1_train shape  (207256, 3)\n"
          ]
        }
      ]
    },
    {
      "cell_type": "code",
      "source": [
        "# Update levels or merge rarely occurring levels\n",
        "#  into one. Dictionaries for performing this mapping\n",
        "#   are in folder: mapdictpath\n",
        "X = utils.updateLevels(X,\n",
        "                        mapdictPath,\n",
        "                        cat_cols\n",
        "                        )"
      ],
      "metadata": {
        "id": "d3gRXebf9O_q"
      },
      "execution_count": null,
      "outputs": []
    },
    {
      "cell_type": "code",
      "source": [
        "def readStoredModels(pathToReadFrom, fileList):\n",
        "  model_dfs = []\n",
        "  os.chdir(pathToReadFrom)\n",
        "  for file in fileList:\n",
        "    df = pd.read_pickle(file)\n",
        "    model_dfs.append(df)\n",
        "  return model_dfs\n"
      ],
      "metadata": {
        "id": "bM7Gp42Ys6G2"
      },
      "execution_count": 52,
      "outputs": []
    },
    {
      "cell_type": "code",
      "source": [
        "os.chdir(modelsPath)\n",
        "files = os.listdir()\n",
        "file_list = [file for file in files if (\"deg_a_ck\" in file) or (\"eig_a_ck\" in file) or (\"pr_a_ck\" in file) or (\"nf_a_ck\" in file)]\n"
      ],
      "metadata": {
        "id": "5FZPFj7MwsxE"
      },
      "execution_count": 54,
      "outputs": []
    },
    {
      "cell_type": "code",
      "source": [
        "models = readStoredModels(modelsPath, file_list)"
      ],
      "metadata": {
        "id": "xMbQfdtCrhNP"
      },
      "execution_count": 55,
      "outputs": []
    },
    {
      "cell_type": "code",
      "source": [
        "# Merge models\n",
        "for i, model in enumerate(models):\n",
        "  if i == 0:\n",
        "    df = model\n",
        "  else:\n",
        "    df = pd.merge(df, model, left_index=True, right_index=True)  "
      ],
      "metadata": {
        "id": "zLLRmc1Sv08r"
      },
      "execution_count": 56,
      "outputs": []
    },
    {
      "cell_type": "code",
      "source": [
        "df"
      ],
      "metadata": {
        "id": "ODtWMYTWsnBb",
        "colab": {
          "base_uri": "https://localhost:8080/",
          "height": 455
        },
        "outputId": "0b1e6e79-015d-4d51-84a8-2f45a0fe8ace"
      },
      "execution_count": 57,
      "outputs": [
        {
          "output_type": "execute_result",
          "data": {
            "text/plain": [
              "        deg_a_ck_b  eig_a_ck_b  pr_a_ck_b  nf_a_ck_b  deg_a_ck_a_p_b  \\\n",
              "a                                                                      \n",
              "1.0       1.000000    0.033797   0.000691   0.006367             0.0   \n",
              "2.0       0.999753    0.033792   0.000691   0.007228             0.0   \n",
              "3.0       0.999505    0.033788   0.000691   0.005311             0.0   \n",
              "4.0       0.997774    0.033758   0.000689   0.001668             0.0   \n",
              "5.0       0.997032    0.033736   0.000689   0.005279             0.0   \n",
              "...            ...         ...        ...        ...             ...   \n",
              "4040.0    0.269849    0.012466   0.000204   0.003587             0.0   \n",
              "4041.0    0.232501    0.010928   0.000181  -0.033325             0.0   \n",
              "4042.0    0.225822    0.010539   0.000177  -0.016581             0.0   \n",
              "4043.0    0.301014    0.013894   0.000223   0.012386             0.0   \n",
              "4044.0    0.253525    0.011675   0.000194  -0.023265             0.0   \n",
              "\n",
              "        eig_a_ck_a_p_b  pr_a_ck_a_p_b  nf_a_ck_a_p_b  \n",
              "a                                                     \n",
              "1.0           0.009168       0.000247       0.015725  \n",
              "2.0           0.023903       0.000247       0.015725  \n",
              "3.0           0.018677       0.000247       0.015725  \n",
              "4.0           0.019403       0.000247       0.015725  \n",
              "5.0           0.022181       0.000247       0.015725  \n",
              "...                ...            ...            ...  \n",
              "4040.0       -0.008227       0.000247       0.015725  \n",
              "4041.0       -0.023879       0.000247       0.015725  \n",
              "4042.0        0.011236       0.000247       0.015725  \n",
              "4043.0       -0.021934       0.000247       0.015725  \n",
              "4044.0       -0.007537       0.000247       0.015725  \n",
              "\n",
              "[4044 rows x 8 columns]"
            ],
            "text/html": [
              "\n",
              "  <div id=\"df-9b724356-2239-4d42-85a7-916c41e714fc\">\n",
              "    <div class=\"colab-df-container\">\n",
              "      <div>\n",
              "<style scoped>\n",
              "    .dataframe tbody tr th:only-of-type {\n",
              "        vertical-align: middle;\n",
              "    }\n",
              "\n",
              "    .dataframe tbody tr th {\n",
              "        vertical-align: top;\n",
              "    }\n",
              "\n",
              "    .dataframe thead th {\n",
              "        text-align: right;\n",
              "    }\n",
              "</style>\n",
              "<table border=\"1\" class=\"dataframe\">\n",
              "  <thead>\n",
              "    <tr style=\"text-align: right;\">\n",
              "      <th></th>\n",
              "      <th>deg_a_ck_b</th>\n",
              "      <th>eig_a_ck_b</th>\n",
              "      <th>pr_a_ck_b</th>\n",
              "      <th>nf_a_ck_b</th>\n",
              "      <th>deg_a_ck_a_p_b</th>\n",
              "      <th>eig_a_ck_a_p_b</th>\n",
              "      <th>pr_a_ck_a_p_b</th>\n",
              "      <th>nf_a_ck_a_p_b</th>\n",
              "    </tr>\n",
              "    <tr>\n",
              "      <th>a</th>\n",
              "      <th></th>\n",
              "      <th></th>\n",
              "      <th></th>\n",
              "      <th></th>\n",
              "      <th></th>\n",
              "      <th></th>\n",
              "      <th></th>\n",
              "      <th></th>\n",
              "    </tr>\n",
              "  </thead>\n",
              "  <tbody>\n",
              "    <tr>\n",
              "      <th>1.0</th>\n",
              "      <td>1.000000</td>\n",
              "      <td>0.033797</td>\n",
              "      <td>0.000691</td>\n",
              "      <td>0.006367</td>\n",
              "      <td>0.0</td>\n",
              "      <td>0.009168</td>\n",
              "      <td>0.000247</td>\n",
              "      <td>0.015725</td>\n",
              "    </tr>\n",
              "    <tr>\n",
              "      <th>2.0</th>\n",
              "      <td>0.999753</td>\n",
              "      <td>0.033792</td>\n",
              "      <td>0.000691</td>\n",
              "      <td>0.007228</td>\n",
              "      <td>0.0</td>\n",
              "      <td>0.023903</td>\n",
              "      <td>0.000247</td>\n",
              "      <td>0.015725</td>\n",
              "    </tr>\n",
              "    <tr>\n",
              "      <th>3.0</th>\n",
              "      <td>0.999505</td>\n",
              "      <td>0.033788</td>\n",
              "      <td>0.000691</td>\n",
              "      <td>0.005311</td>\n",
              "      <td>0.0</td>\n",
              "      <td>0.018677</td>\n",
              "      <td>0.000247</td>\n",
              "      <td>0.015725</td>\n",
              "    </tr>\n",
              "    <tr>\n",
              "      <th>4.0</th>\n",
              "      <td>0.997774</td>\n",
              "      <td>0.033758</td>\n",
              "      <td>0.000689</td>\n",
              "      <td>0.001668</td>\n",
              "      <td>0.0</td>\n",
              "      <td>0.019403</td>\n",
              "      <td>0.000247</td>\n",
              "      <td>0.015725</td>\n",
              "    </tr>\n",
              "    <tr>\n",
              "      <th>5.0</th>\n",
              "      <td>0.997032</td>\n",
              "      <td>0.033736</td>\n",
              "      <td>0.000689</td>\n",
              "      <td>0.005279</td>\n",
              "      <td>0.0</td>\n",
              "      <td>0.022181</td>\n",
              "      <td>0.000247</td>\n",
              "      <td>0.015725</td>\n",
              "    </tr>\n",
              "    <tr>\n",
              "      <th>...</th>\n",
              "      <td>...</td>\n",
              "      <td>...</td>\n",
              "      <td>...</td>\n",
              "      <td>...</td>\n",
              "      <td>...</td>\n",
              "      <td>...</td>\n",
              "      <td>...</td>\n",
              "      <td>...</td>\n",
              "    </tr>\n",
              "    <tr>\n",
              "      <th>4040.0</th>\n",
              "      <td>0.269849</td>\n",
              "      <td>0.012466</td>\n",
              "      <td>0.000204</td>\n",
              "      <td>0.003587</td>\n",
              "      <td>0.0</td>\n",
              "      <td>-0.008227</td>\n",
              "      <td>0.000247</td>\n",
              "      <td>0.015725</td>\n",
              "    </tr>\n",
              "    <tr>\n",
              "      <th>4041.0</th>\n",
              "      <td>0.232501</td>\n",
              "      <td>0.010928</td>\n",
              "      <td>0.000181</td>\n",
              "      <td>-0.033325</td>\n",
              "      <td>0.0</td>\n",
              "      <td>-0.023879</td>\n",
              "      <td>0.000247</td>\n",
              "      <td>0.015725</td>\n",
              "    </tr>\n",
              "    <tr>\n",
              "      <th>4042.0</th>\n",
              "      <td>0.225822</td>\n",
              "      <td>0.010539</td>\n",
              "      <td>0.000177</td>\n",
              "      <td>-0.016581</td>\n",
              "      <td>0.0</td>\n",
              "      <td>0.011236</td>\n",
              "      <td>0.000247</td>\n",
              "      <td>0.015725</td>\n",
              "    </tr>\n",
              "    <tr>\n",
              "      <th>4043.0</th>\n",
              "      <td>0.301014</td>\n",
              "      <td>0.013894</td>\n",
              "      <td>0.000223</td>\n",
              "      <td>0.012386</td>\n",
              "      <td>0.0</td>\n",
              "      <td>-0.021934</td>\n",
              "      <td>0.000247</td>\n",
              "      <td>0.015725</td>\n",
              "    </tr>\n",
              "    <tr>\n",
              "      <th>4044.0</th>\n",
              "      <td>0.253525</td>\n",
              "      <td>0.011675</td>\n",
              "      <td>0.000194</td>\n",
              "      <td>-0.023265</td>\n",
              "      <td>0.0</td>\n",
              "      <td>-0.007537</td>\n",
              "      <td>0.000247</td>\n",
              "      <td>0.015725</td>\n",
              "    </tr>\n",
              "  </tbody>\n",
              "</table>\n",
              "<p>4044 rows × 8 columns</p>\n",
              "</div>\n",
              "      <button class=\"colab-df-convert\" onclick=\"convertToInteractive('df-9b724356-2239-4d42-85a7-916c41e714fc')\"\n",
              "              title=\"Convert this dataframe to an interactive table.\"\n",
              "              style=\"display:none;\">\n",
              "        \n",
              "  <svg xmlns=\"http://www.w3.org/2000/svg\" height=\"24px\"viewBox=\"0 0 24 24\"\n",
              "       width=\"24px\">\n",
              "    <path d=\"M0 0h24v24H0V0z\" fill=\"none\"/>\n",
              "    <path d=\"M18.56 5.44l.94 2.06.94-2.06 2.06-.94-2.06-.94-.94-2.06-.94 2.06-2.06.94zm-11 1L8.5 8.5l.94-2.06 2.06-.94-2.06-.94L8.5 2.5l-.94 2.06-2.06.94zm10 10l.94 2.06.94-2.06 2.06-.94-2.06-.94-.94-2.06-.94 2.06-2.06.94z\"/><path d=\"M17.41 7.96l-1.37-1.37c-.4-.4-.92-.59-1.43-.59-.52 0-1.04.2-1.43.59L10.3 9.45l-7.72 7.72c-.78.78-.78 2.05 0 2.83L4 21.41c.39.39.9.59 1.41.59.51 0 1.02-.2 1.41-.59l7.78-7.78 2.81-2.81c.8-.78.8-2.07 0-2.86zM5.41 20L4 18.59l7.72-7.72 1.47 1.35L5.41 20z\"/>\n",
              "  </svg>\n",
              "      </button>\n",
              "      \n",
              "  <style>\n",
              "    .colab-df-container {\n",
              "      display:flex;\n",
              "      flex-wrap:wrap;\n",
              "      gap: 12px;\n",
              "    }\n",
              "\n",
              "    .colab-df-convert {\n",
              "      background-color: #E8F0FE;\n",
              "      border: none;\n",
              "      border-radius: 50%;\n",
              "      cursor: pointer;\n",
              "      display: none;\n",
              "      fill: #1967D2;\n",
              "      height: 32px;\n",
              "      padding: 0 0 0 0;\n",
              "      width: 32px;\n",
              "    }\n",
              "\n",
              "    .colab-df-convert:hover {\n",
              "      background-color: #E2EBFA;\n",
              "      box-shadow: 0px 1px 2px rgba(60, 64, 67, 0.3), 0px 1px 3px 1px rgba(60, 64, 67, 0.15);\n",
              "      fill: #174EA6;\n",
              "    }\n",
              "\n",
              "    [theme=dark] .colab-df-convert {\n",
              "      background-color: #3B4455;\n",
              "      fill: #D2E3FC;\n",
              "    }\n",
              "\n",
              "    [theme=dark] .colab-df-convert:hover {\n",
              "      background-color: #434B5C;\n",
              "      box-shadow: 0px 1px 3px 1px rgba(0, 0, 0, 0.15);\n",
              "      filter: drop-shadow(0px 1px 2px rgba(0, 0, 0, 0.3));\n",
              "      fill: #FFFFFF;\n",
              "    }\n",
              "  </style>\n",
              "\n",
              "      <script>\n",
              "        const buttonEl =\n",
              "          document.querySelector('#df-9b724356-2239-4d42-85a7-916c41e714fc button.colab-df-convert');\n",
              "        buttonEl.style.display =\n",
              "          google.colab.kernel.accessAllowed ? 'block' : 'none';\n",
              "\n",
              "        async function convertToInteractive(key) {\n",
              "          const element = document.querySelector('#df-9b724356-2239-4d42-85a7-916c41e714fc');\n",
              "          const dataTable =\n",
              "            await google.colab.kernel.invokeFunction('convertToInteractive',\n",
              "                                                     [key], {});\n",
              "          if (!dataTable) return;\n",
              "\n",
              "          const docLinkHtml = 'Like what you see? Visit the ' +\n",
              "            '<a target=\"_blank\" href=https://colab.research.google.com/notebooks/data_table.ipynb>data table notebook</a>'\n",
              "            + ' to learn more about interactive tables.';\n",
              "          element.innerHTML = '';\n",
              "          dataTable['output_type'] = 'display_data';\n",
              "          await google.colab.output.renderOutput(dataTable, element);\n",
              "          const docLink = document.createElement('div');\n",
              "          docLink.innerHTML = docLinkHtml;\n",
              "          element.appendChild(docLink);\n",
              "        }\n",
              "      </script>\n",
              "    </div>\n",
              "  </div>\n",
              "  "
            ]
          },
          "metadata": {},
          "execution_count": 57
        }
      ]
    },
    {
      "cell_type": "code",
      "source": [
        "# Remove constant columns\n",
        "df = df.loc[:, (df != df.iloc[0]).any()]\n",
        "df.head() "
      ],
      "metadata": {
        "id": "MUAc-Edp0oxj"
      },
      "execution_count": 59,
      "outputs": []
    },
    {
      "cell_type": "code",
      "source": [
        "# Save dataframe:\n",
        "os.chdir(dataPath)\n",
        "df.to_pickle(\"word2vec.pkl\")\n"
      ],
      "metadata": {
        "id": "87hVqIMzvqx1"
      },
      "execution_count": 60,
      "outputs": []
    },
    {
      "cell_type": "code",
      "source": [
        "# Load word2vec\n",
        "os.chdir(dataPath)\n",
        "df_word= pd.read_pickle(\"word2vec.pkl\")\n",
        "df_word.head()\n",
        "df_word.tail()"
      ],
      "metadata": {
        "colab": {
          "base_uri": "https://localhost:8080/",
          "height": 237
        },
        "id": "R4fl9iuZyXi0",
        "outputId": "7ba34d37-adac-4ba4-d588-4fca91804ee7"
      },
      "execution_count": 61,
      "outputs": [
        {
          "output_type": "execute_result",
          "data": {
            "text/plain": [
              "     deg_a_ck_b  eig_a_ck_b  pr_a_ck_b  nf_a_ck_b  eig_a_ck_a_p_b\n",
              "a                                                                \n",
              "1.0    1.000000    0.033797   0.000691   0.006367        0.009168\n",
              "2.0    0.999753    0.033792   0.000691   0.007228        0.023903\n",
              "3.0    0.999505    0.033788   0.000691   0.005311        0.018677\n",
              "4.0    0.997774    0.033758   0.000689   0.001668        0.019403\n",
              "5.0    0.997032    0.033736   0.000689   0.005279        0.022181"
            ],
            "text/html": [
              "\n",
              "  <div id=\"df-c1fd66a9-d4ed-4dcb-bace-16cac6093474\">\n",
              "    <div class=\"colab-df-container\">\n",
              "      <div>\n",
              "<style scoped>\n",
              "    .dataframe tbody tr th:only-of-type {\n",
              "        vertical-align: middle;\n",
              "    }\n",
              "\n",
              "    .dataframe tbody tr th {\n",
              "        vertical-align: top;\n",
              "    }\n",
              "\n",
              "    .dataframe thead th {\n",
              "        text-align: right;\n",
              "    }\n",
              "</style>\n",
              "<table border=\"1\" class=\"dataframe\">\n",
              "  <thead>\n",
              "    <tr style=\"text-align: right;\">\n",
              "      <th></th>\n",
              "      <th>deg_a_ck_b</th>\n",
              "      <th>eig_a_ck_b</th>\n",
              "      <th>pr_a_ck_b</th>\n",
              "      <th>nf_a_ck_b</th>\n",
              "      <th>eig_a_ck_a_p_b</th>\n",
              "    </tr>\n",
              "    <tr>\n",
              "      <th>a</th>\n",
              "      <th></th>\n",
              "      <th></th>\n",
              "      <th></th>\n",
              "      <th></th>\n",
              "      <th></th>\n",
              "    </tr>\n",
              "  </thead>\n",
              "  <tbody>\n",
              "    <tr>\n",
              "      <th>1.0</th>\n",
              "      <td>1.000000</td>\n",
              "      <td>0.033797</td>\n",
              "      <td>0.000691</td>\n",
              "      <td>0.006367</td>\n",
              "      <td>0.009168</td>\n",
              "    </tr>\n",
              "    <tr>\n",
              "      <th>2.0</th>\n",
              "      <td>0.999753</td>\n",
              "      <td>0.033792</td>\n",
              "      <td>0.000691</td>\n",
              "      <td>0.007228</td>\n",
              "      <td>0.023903</td>\n",
              "    </tr>\n",
              "    <tr>\n",
              "      <th>3.0</th>\n",
              "      <td>0.999505</td>\n",
              "      <td>0.033788</td>\n",
              "      <td>0.000691</td>\n",
              "      <td>0.005311</td>\n",
              "      <td>0.018677</td>\n",
              "    </tr>\n",
              "    <tr>\n",
              "      <th>4.0</th>\n",
              "      <td>0.997774</td>\n",
              "      <td>0.033758</td>\n",
              "      <td>0.000689</td>\n",
              "      <td>0.001668</td>\n",
              "      <td>0.019403</td>\n",
              "    </tr>\n",
              "    <tr>\n",
              "      <th>5.0</th>\n",
              "      <td>0.997032</td>\n",
              "      <td>0.033736</td>\n",
              "      <td>0.000689</td>\n",
              "      <td>0.005279</td>\n",
              "      <td>0.022181</td>\n",
              "    </tr>\n",
              "  </tbody>\n",
              "</table>\n",
              "</div>\n",
              "      <button class=\"colab-df-convert\" onclick=\"convertToInteractive('df-c1fd66a9-d4ed-4dcb-bace-16cac6093474')\"\n",
              "              title=\"Convert this dataframe to an interactive table.\"\n",
              "              style=\"display:none;\">\n",
              "        \n",
              "  <svg xmlns=\"http://www.w3.org/2000/svg\" height=\"24px\"viewBox=\"0 0 24 24\"\n",
              "       width=\"24px\">\n",
              "    <path d=\"M0 0h24v24H0V0z\" fill=\"none\"/>\n",
              "    <path d=\"M18.56 5.44l.94 2.06.94-2.06 2.06-.94-2.06-.94-.94-2.06-.94 2.06-2.06.94zm-11 1L8.5 8.5l.94-2.06 2.06-.94-2.06-.94L8.5 2.5l-.94 2.06-2.06.94zm10 10l.94 2.06.94-2.06 2.06-.94-2.06-.94-.94-2.06-.94 2.06-2.06.94z\"/><path d=\"M17.41 7.96l-1.37-1.37c-.4-.4-.92-.59-1.43-.59-.52 0-1.04.2-1.43.59L10.3 9.45l-7.72 7.72c-.78.78-.78 2.05 0 2.83L4 21.41c.39.39.9.59 1.41.59.51 0 1.02-.2 1.41-.59l7.78-7.78 2.81-2.81c.8-.78.8-2.07 0-2.86zM5.41 20L4 18.59l7.72-7.72 1.47 1.35L5.41 20z\"/>\n",
              "  </svg>\n",
              "      </button>\n",
              "      \n",
              "  <style>\n",
              "    .colab-df-container {\n",
              "      display:flex;\n",
              "      flex-wrap:wrap;\n",
              "      gap: 12px;\n",
              "    }\n",
              "\n",
              "    .colab-df-convert {\n",
              "      background-color: #E8F0FE;\n",
              "      border: none;\n",
              "      border-radius: 50%;\n",
              "      cursor: pointer;\n",
              "      display: none;\n",
              "      fill: #1967D2;\n",
              "      height: 32px;\n",
              "      padding: 0 0 0 0;\n",
              "      width: 32px;\n",
              "    }\n",
              "\n",
              "    .colab-df-convert:hover {\n",
              "      background-color: #E2EBFA;\n",
              "      box-shadow: 0px 1px 2px rgba(60, 64, 67, 0.3), 0px 1px 3px 1px rgba(60, 64, 67, 0.15);\n",
              "      fill: #174EA6;\n",
              "    }\n",
              "\n",
              "    [theme=dark] .colab-df-convert {\n",
              "      background-color: #3B4455;\n",
              "      fill: #D2E3FC;\n",
              "    }\n",
              "\n",
              "    [theme=dark] .colab-df-convert:hover {\n",
              "      background-color: #434B5C;\n",
              "      box-shadow: 0px 1px 3px 1px rgba(0, 0, 0, 0.15);\n",
              "      filter: drop-shadow(0px 1px 2px rgba(0, 0, 0, 0.3));\n",
              "      fill: #FFFFFF;\n",
              "    }\n",
              "  </style>\n",
              "\n",
              "      <script>\n",
              "        const buttonEl =\n",
              "          document.querySelector('#df-c1fd66a9-d4ed-4dcb-bace-16cac6093474 button.colab-df-convert');\n",
              "        buttonEl.style.display =\n",
              "          google.colab.kernel.accessAllowed ? 'block' : 'none';\n",
              "\n",
              "        async function convertToInteractive(key) {\n",
              "          const element = document.querySelector('#df-c1fd66a9-d4ed-4dcb-bace-16cac6093474');\n",
              "          const dataTable =\n",
              "            await google.colab.kernel.invokeFunction('convertToInteractive',\n",
              "                                                     [key], {});\n",
              "          if (!dataTable) return;\n",
              "\n",
              "          const docLinkHtml = 'Like what you see? Visit the ' +\n",
              "            '<a target=\"_blank\" href=https://colab.research.google.com/notebooks/data_table.ipynb>data table notebook</a>'\n",
              "            + ' to learn more about interactive tables.';\n",
              "          element.innerHTML = '';\n",
              "          dataTable['output_type'] = 'display_data';\n",
              "          await google.colab.output.renderOutput(dataTable, element);\n",
              "          const docLink = document.createElement('div');\n",
              "          docLink.innerHTML = docLinkHtml;\n",
              "          element.appendChild(docLink);\n",
              "        }\n",
              "      </script>\n",
              "    </div>\n",
              "  </div>\n",
              "  "
            ]
          },
          "metadata": {},
          "execution_count": 61
        }
      ]
    },
    {
      "cell_type": "code",
      "source": [
        "os.chdir(dataPath)\n",
        "df_word.to_csv('vectors.tsv', sep=\"\\t\", index = False, header = False)"
      ],
      "metadata": {
        "id": "7hWxNU77DrAk"
      },
      "execution_count": 63,
      "outputs": []
    },
    {
      "cell_type": "code",
      "source": [
        "metadata = ast.literal_eval(re.search('({.+})', word2index).group(0))"
      ],
      "metadata": {
        "id": "6Z3U_oGuyr_w"
      },
      "execution_count": 64,
      "outputs": []
    },
    {
      "cell_type": "code",
      "source": [
        "str_list = list(metadata.keys())\n",
        "str_list"
      ],
      "metadata": {
        "id": "a1XaTQ0H7Cm9"
      },
      "execution_count": null,
      "outputs": []
    },
    {
      "cell_type": "code",
      "source": [
        "import sys\n",
        "orig_stdout = sys.stdout\n",
        "f = open('metadata.tsv', 'w')\n",
        "sys.stdout = f\n",
        "\n",
        "print(' \\n'.join(str_list))\n",
        "\n",
        "sys.stdout = orig_stdout\n",
        "f.close()\n",
        "sys.stdout = orig_stdout"
      ],
      "metadata": {
        "id": "3NHN99QGA9sn"
      },
      "execution_count": 66,
      "outputs": []
    },
    {
      "cell_type": "code",
      "source": [
        "######## I am done ################3"
      ],
      "metadata": {
        "id": "2-aUsRLC3dkT"
      },
      "execution_count": null,
      "outputs": []
    }
  ]
}