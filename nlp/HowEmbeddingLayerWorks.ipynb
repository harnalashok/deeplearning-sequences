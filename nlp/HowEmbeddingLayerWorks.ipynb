{
  "nbformat": 4,
  "nbformat_minor": 0,
  "metadata": {
    "colab": {
      "name": "HowEmbeddingLayerWorks.ipynb",
      "provenance": [],
      "authorship_tag": "ABX9TyM/wO/ZDdtgPN/R7MrCxmdx",
      "include_colab_link": true
    },
    "kernelspec": {
      "name": "python3",
      "display_name": "Python 3"
    },
    "language_info": {
      "name": "python"
    }
  },
  "cells": [
    {
      "cell_type": "markdown",
      "metadata": {
        "id": "view-in-github",
        "colab_type": "text"
      },
      "source": [
        "<a href=\"https://colab.research.google.com/github/harnalashok/deeplearning-sequences/blob/main/HowEmbeddingLayerWorks.ipynb\" target=\"_parent\"><img src=\"https://colab.research.google.com/assets/colab-badge.svg\" alt=\"Open In Colab\"/></a>"
      ]
    },
    {
      "cell_type": "code",
      "metadata": {
        "id": "zew-9zniU8C0"
      },
      "source": [
        "# https://stats.stackexchange.com/a/305032"
      ],
      "execution_count": null,
      "outputs": []
    },
    {
      "cell_type": "code",
      "metadata": {
        "id": "eQKyklgHR4f-"
      },
      "source": [
        "import numpy as np\n",
        "from keras.models import Sequential\n",
        "from keras.layers import Embedding\n",
        "\n",
        "model = Sequential()\n",
        "model.add(Embedding(7, 2, input_length=5))\n",
        "\n",
        "input_array = np.random.randint(7, size=(2, 5))\n",
        "\n",
        "model.compile('rmsprop', 'mse')\n",
        "output_array = model.predict(input_array)"
      ],
      "execution_count": 6,
      "outputs": []
    },
    {
      "cell_type": "code",
      "metadata": {
        "colab": {
          "base_uri": "https://localhost:8080/"
        },
        "id": "jYS3BWqwR9ZL",
        "outputId": "daf76651-e3fc-4f45-f525-977625d149b3"
      },
      "source": [
        "input_array"
      ],
      "execution_count": 7,
      "outputs": [
        {
          "output_type": "execute_result",
          "data": {
            "text/plain": [
              "array([[6, 2, 3, 0, 1],\n",
              "       [4, 2, 1, 0, 2]])"
            ]
          },
          "metadata": {},
          "execution_count": 7
        }
      ]
    },
    {
      "cell_type": "code",
      "metadata": {
        "colab": {
          "base_uri": "https://localhost:8080/"
        },
        "id": "LC5__o__SQmK",
        "outputId": "e68ecf12-c341-4a1a-cf53-647f7cb93b6e"
      },
      "source": [
        "output_array"
      ],
      "execution_count": 8,
      "outputs": [
        {
          "output_type": "execute_result",
          "data": {
            "text/plain": [
              "array([[[ 0.00416415,  0.01854544],\n",
              "        [-0.02089431,  0.04552184],\n",
              "        [ 0.00669876,  0.04176715],\n",
              "        [-0.04395717,  0.00482895],\n",
              "        [ 0.0155027 ,  0.00186891]],\n",
              "\n",
              "       [[-0.00500295, -0.02095238],\n",
              "        [-0.02089431,  0.04552184],\n",
              "        [ 0.0155027 ,  0.00186891],\n",
              "        [-0.04395717,  0.00482895],\n",
              "        [-0.02089431,  0.04552184]]], dtype=float32)"
            ]
          },
          "metadata": {},
          "execution_count": 8
        }
      ]
    },
    {
      "cell_type": "code",
      "metadata": {
        "id": "Jgnc1uL7SEmH"
      },
      "source": [
        ""
      ],
      "execution_count": null,
      "outputs": []
    }
  ]
}