{
 "cells": [
  {
   "cell_type": "markdown",
   "metadata": {
    "colab_type": "text",
    "id": "view-in-github"
   },
   "source": [
    "<a href=\"https://colab.research.google.com/github/harnalashok/deeplearning-sequences/blob/main/text_analytics_using_RNN.ipynb\" target=\"_parent\"><img src=\"https://colab.research.google.com/assets/colab-badge.svg\" alt=\"Open In Colab\"/></a>"
   ]
  },
  {
   "cell_type": "code",
   "execution_count": null,
   "metadata": {
    "id": "U6QdDla8ybXG"
   },
   "outputs": [],
   "source": [
    "# Last amended: 18th October, 2022\n",
    "\n",
    "# Objectives:\n",
    "#             1. Text classification with an RNN\n",
    "#             2. Learning how embedding layer works\n",
    "#             3. Learning how RNN works"
   ]
  },
  {
   "cell_type": "markdown",
   "metadata": {
    "id": "kVe27qLGuS66"
   },
   "source": [
    "#Text classification with RNN\n",
    "We will work with *IMDB reviews*. To know more about this dataset, refer [here](https://www.tensorflow.org/datasets/catalog/imdb_reviews)<br>\n",
    "IMDB Ratings, Reviews site is [here](https://www.imdb.com/)<br>\n",
    "For reference code, see [here](https://www.tensorflow.org/text/tutorials/text_classification_rnn)"
   ]
  },
  {
   "cell_type": "markdown",
   "metadata": {
    "id": "KdBvmL1kvIoy"
   },
   "source": [
    "## Call libraries"
   ]
  },
  {
   "cell_type": "code",
   "execution_count": 1,
   "metadata": {
    "id": "2A9OOAQL1FZr"
   },
   "outputs": [],
   "source": [
    "# 1.0\n",
    "import tensorflow as tf\n",
    "import pathlib\n",
    "import tensorflow_datasets as tfds\n"
   ]
  },
  {
   "cell_type": "code",
   "execution_count": 2,
   "metadata": {
    "id": "WqGaKIWSVBfL"
   },
   "outputs": [],
   "source": [
    "# 1.1\n",
    "from IPython.core.interactiveshell import InteractiveShell\n",
    "InteractiveShell.ast_node_interactivity = \"all\"\n"
   ]
  },
  {
   "cell_type": "markdown",
   "metadata": {
    "id": "suBjhwc4oQV7"
   },
   "source": [
    "## Load the dataset\n",
    "List of tensorflow datasets is [here](https://www.tensorflow.org/datasets/catalog/overview#all_datasets)"
   ]
  },
  {
   "cell_type": "markdown",
   "metadata": {
    "id": "RrRnELM3TUsA"
   },
   "source": [
    "[tfds.load](https://www.tensorflow.org/datasets/api_docs/python/tfds/load)\n",
    "\n",
    "The easiest way of loading a dataset is tfds.load. It will:\n",
    "\n",
    "    Download the data and save it as tfrecord files.\n",
    "    Load the tfrecord and create the tf.data.Dataset.\n",
    "\n",
    "It returns, `tf.data.Dataset`, the dataset requested.\n",
    "    \n"
   ]
  },
  {
   "cell_type": "markdown",
   "metadata": {
    "id": "Zs6aTGhUdshY"
   },
   "source": [
    "List of available tfs datasets is [here](https://www.tensorflow.org/datasets/catalog/overview#all_datasets)"
   ]
  },
  {
   "cell_type": "code",
   "execution_count": 20,
   "metadata": {
    "id": "dCqhSTA6P4Xf"
   },
   "outputs": [],
   "source": [
    "# 2.0 Load imdb reviews dataset:\n",
    "\n",
    "dataset = tfds.load(\"imdb_reviews\",        # Dataset name\n",
    "                    split = None,          # Which split of the data to load?\n",
    "                                           #  (e.g. 'train', 'test', ['train', 'test'],\n",
    "                                           #    If None, will return all \n",
    "                                           #      splits in a Dict format\n",
    "                    data_dir = \"/content/\", # Dir where to cache data\n",
    "                    as_supervised = True    # The returned tf.data.Dataset \n",
    "                                            #   will have a 2-tuple structure \n",
    "                                            #    (input, label) \n",
    "                    )\n"
   ]
  },
  {
   "cell_type": "code",
   "execution_count": 4,
   "metadata": {
    "colab": {
     "base_uri": "https://localhost:8080/"
    },
    "id": "ec5Yayv5U2iq",
    "outputId": "70fc2e23-5a80-4fd2-ee52-6c3fec516880"
   },
   "outputs": [
    {
     "data": {
      "text/plain": [
       "dict_keys([Split('train'), Split('test'), Split('unsupervised')])"
      ]
     },
     "execution_count": 4,
     "metadata": {},
     "output_type": "execute_result"
    }
   ],
   "source": [
    "# 2.1 As dataset is a dict, let us see its keys:\n",
    "\n",
    "dataset.keys()"
   ]
  },
  {
   "cell_type": "code",
   "execution_count": 21,
   "metadata": {
    "id": "5e6sFquC1aAq"
   },
   "outputs": [],
   "source": [
    "# 2.2 Extract train/test datasets:\n",
    "#     Both are tf.data.Dataset type objects:\n",
    "\n",
    "train = dataset[\"train\"]\n",
    "test = dataset[\"test\"]"
   ]
  },
  {
   "cell_type": "code",
   "execution_count": 6,
   "metadata": {
    "colab": {
     "base_uri": "https://localhost:8080/"
    },
    "id": "nRr-2xAFZJ-g",
    "outputId": "96232174-bf08-4529-cc40-d5fb100316c2"
   },
   "outputs": [
    {
     "data": {
      "text/plain": [
       "tensorflow.python.data.ops.dataset_ops.PrefetchDataset"
      ]
     },
     "execution_count": 6,
     "metadata": {},
     "output_type": "execute_result"
    },
    {
     "name": "stdout",
     "output_type": "stream",
     "text": [
      "\n"
     ]
    },
    {
     "data": {
      "text/plain": [
       "tensorflow.python.data.ops.dataset_ops.PrefetchDataset"
      ]
     },
     "execution_count": 6,
     "metadata": {},
     "output_type": "execute_result"
    }
   ],
   "source": [
    "# 2.3 What are the types of train and test?\n",
    "#     Both are tf.data.Dataset type objects:\n",
    "\n",
    "type(train)\n",
    "print()\n",
    "type(test)"
   ]
  },
  {
   "cell_type": "code",
   "execution_count": 7,
   "metadata": {
    "colab": {
     "base_uri": "https://localhost:8080/"
    },
    "id": "PbvkVDbtZgzR",
    "outputId": "46669945-ad4b-467e-f01e-40590679b298"
   },
   "outputs": [
    {
     "data": {
      "text/plain": [
       "(TensorSpec(shape=(), dtype=tf.string, name=None),\n",
       " TensorSpec(shape=(), dtype=tf.int64, name=None))"
      ]
     },
     "execution_count": 7,
     "metadata": {},
     "output_type": "execute_result"
    }
   ],
   "source": [
    "# 2.4 Look at the structure of one element of train:\n",
    "\n",
    "train.element_spec"
   ]
  },
  {
   "cell_type": "code",
   "execution_count": 8,
   "metadata": {
    "colab": {
     "base_uri": "https://localhost:8080/"
    },
    "id": "pyTI1UP8ZmZA",
    "outputId": "6dfeb578-719e-4bf4-c021-3505955282bf"
   },
   "outputs": [
    {
     "name": "stdout",
     "output_type": "stream",
     "text": [
      "Example:  b\"This was an absolutely terrible movie. Don't be lured in by Christopher Walken or Michael Ironside. Both are great actors, but this must simply be their worst role in history. Even their great acting could not redeem this movie's ridiculous storyline. This movie is an early nineties US propaganda piece. The most pathetic scenes were those when the Columbian rebels were making their cases for revolutions. Maria Conchita Alonso appeared phony, and her pseudo-love affair with Walken was nothing but a pathetic emotional plug in a movie that was devoid of any real meaning. I am disappointed that there are movies like this, ruining actor's like Christopher Walken's good name. I could barely sit through it.\"\n",
      "Label:  0\n",
      "Example:  b'I have been known to fall asleep during films, but this is usually due to a combination of things including, really tired, being warm and comfortable on the sette and having just eaten a lot. However on this occasion I fell asleep because the film was rubbish. The plot development was constant. Constantly slow and boring. Things seemed to happen, but with no explanation of what was causing them or why. I admit, I may have missed part of the film, but i watched the majority of it and everything just seemed to happen of its own accord without any real concern for anything else. I cant recommend this film at all.'\n",
      "Label:  0\n"
     ]
    }
   ],
   "source": [
    "# 2.5 You can 'take' out two elements (tuples)\n",
    "#       of train, as:\n",
    "\n",
    "for example, label in train.take(2):\n",
    "  print(\"Example: \", example.numpy())\n",
    "  print(\"Label: \", label.numpy())"
   ]
  },
  {
   "cell_type": "code",
   "execution_count": null,
   "metadata": {
    "id": "q_QvhaZeelUn"
   },
   "outputs": [],
   "source": [
    "# 2.6 Extraction is also possible \n",
    "#      using iter() and next function as\n",
    "#       tf.data.Dataset behaves like an iterator:\n",
    "\n",
    "next(iter(train))    # next(train.__iter__())"
   ]
  },
  {
   "cell_type": "markdown",
   "metadata": {
    "id": "_ulN8AKu0rrp"
   },
   "source": [
    "## Text cleaning and tokenization"
   ]
  },
  {
   "cell_type": "markdown",
   "metadata": {
    "id": "15dbZ9kBRqKq"
   },
   "source": [
    "Next shuffle the data for training and create batches of these (text, label) pairs:<br>\n",
    "To understand `shuffle` and `batch` please see StackOverflow Question [here](https://stackoverflow.com/q/53514495)."
   ]
  },
  {
   "cell_type": "code",
   "execution_count": 9,
   "metadata": {
    "id": "lYS8eDgLK0b_"
   },
   "outputs": [],
   "source": [
    "# 3.0 Define some contants:\n",
    "\n",
    "BUFFER_SIZE = 10000    # buffer needed for shuffling\n",
    "BATCH_SIZE = 32        # Batch size of dataset after shuffling is done\n",
    "\n",
    "# 3.0.1 Vocabulary size\n",
    "VOCAB_SIZE = 5000\n",
    "\n"
   ]
  },
  {
   "cell_type": "code",
   "execution_count": 22,
   "metadata": {
    "id": "Se4y25IOFlYI"
   },
   "outputs": [],
   "source": [
    "# 3.1 Shuffle train data and turn it into batches:\n",
    "#      No need to shuffle test data\n",
    "\n",
    "train = train.shuffle(BUFFER_SIZE).batch(BATCH_SIZE).prefetch(tf.data.AUTOTUNE)\n",
    "test = test.batch(BATCH_SIZE).prefetch(tf.data.AUTOTUNE)\n"
   ]
  },
  {
   "cell_type": "markdown",
   "metadata": {
    "id": "4oL4cRNNUv16"
   },
   "source": [
    "### How to find out `tf.data.Dataset` shape"
   ]
  },
  {
   "cell_type": "markdown",
   "metadata": {
    "id": "s6JOn3uPUzfx"
   },
   "source": [
    "See this [question](https://stackoverflow.com/q/56218014) in StackOverflow"
   ]
  },
  {
   "cell_type": "markdown",
   "metadata": {
    "id": "vxopEjYW3tUo"
   },
   "source": [
    "[tf.keras.layers.TextVectorization<br>](https://www.tensorflow.org/api_docs/python/tf/keras/layers/TextVectorization)\n",
    "A preprocessing layer which maps text features to integer sequences."
   ]
  },
  {
   "cell_type": "code",
   "execution_count": 24,
   "metadata": {
    "id": "OSljxcjF1r1C"
   },
   "outputs": [],
   "source": [
    "# 4.0 Create layer object:\n",
    "\n",
    "encoder = tf.keras.layers.TextVectorization(\n",
    "                                       max_tokens= VOCAB_SIZE,\n",
    "                                       standardize='lower_and_strip_punctuation',\n",
    "                                       split='whitespace',\n",
    "                                       ngrams=None,\n",
    "                                       output_mode='int',\n",
    "                                       output_sequence_length=None,\n",
    "                                       pad_to_max_tokens=  False,\n",
    "                                       vocabulary=None,\n",
    "                                       idf_weights=None,\n",
    "                                       sparse=False,\n",
    "                                       ragged=False,\n",
    "                                      )\n"
   ]
  },
  {
   "cell_type": "markdown",
   "metadata": {
    "id": "goX1WsZJJQIC"
   },
   "source": [
    "map() function:<br>\n",
    "See [here](https://www.tensorflow.org/api_docs/python/tf/data/Dataset#map) examples of map() usage<br>\n",
    "`map()` transformation applies `map_func` to each element of this dataset, and returns a new dataset containing the transformed elements, in the same order as they appeared in the input. `map_func` can be used to change both the values **and the structure** of a dataset's elements."
   ]
  },
  {
   "cell_type": "code",
   "execution_count": 25,
   "metadata": {
    "id": "H6Rdqq3z7CzM"
   },
   "outputs": [],
   "source": [
    "# 4.1 \n",
    "\n",
    "encoder.adapt(train.map(lambda text, label: text))\n"
   ]
  },
  {
   "cell_type": "code",
   "execution_count": 26,
   "metadata": {
    "colab": {
     "base_uri": "https://localhost:8080/"
    },
    "id": "2aBb7kQ_7QlM",
    "outputId": "a5a114b3-ae49-4132-cd55-d5b3d6683204"
   },
   "outputs": [
    {
     "data": {
      "text/plain": [
       "['', '[UNK]', 'the', 'and', 'a', 'of', 'to', 'is', 'in', 'it']"
      ]
     },
     "execution_count": 26,
     "metadata": {},
     "output_type": "execute_result"
    }
   ],
   "source": [
    "# 4.2\n",
    "\n",
    "encoder.get_vocabulary()[:10]"
   ]
  },
  {
   "cell_type": "markdown",
   "metadata": {
    "id": "83cUHm--7jbN"
   },
   "source": [
    "Once the vocabulary is set, the layer can encode text into indices. The tensors of indices are 0-padded to the longest sequence in the batch (unless you set a fixed output_sequence_length):"
   ]
  },
  {
   "cell_type": "code",
   "execution_count": 27,
   "metadata": {
    "colab": {
     "base_uri": "https://localhost:8080/"
    },
    "id": "gBSOUmjn7k68",
    "outputId": "b831a61f-c2ad-4f14-8f08-a4e34b14c8ac"
   },
   "outputs": [
    {
     "data": {
      "text/plain": [
       "<tf.Tensor: shape=(2, 8), dtype=int64, numpy=\n",
       "array([[11,  7, 50,  0,  0,  0,  0,  0],\n",
       "       [11,  7, 22, 31, 32, 50,  1,  1]])>"
      ]
     },
     "execution_count": 27,
     "metadata": {},
     "output_type": "execute_result"
    }
   ],
   "source": [
    "# 4.3 Translate senetences to vectors of integers:\n",
    "#       Note that XYYZ and JOOX and not part of any vocabulary\n",
    "#        They have been assigned token 1. It is called OOV token\n",
    "#         or, Out of Vocabulary token. Integer '0' has been used for\n",
    "#          padding sequences to equal length.\n",
    "\n",
    "encoder([\n",
    "          [\"This is good\"],\n",
    "          [\"This is not at all good XYYZ JOOX\"]\n",
    "         ]\n",
    "        )"
   ]
  },
  {
   "cell_type": "markdown",
   "metadata": {
    "id": "fxcir1h44hmo"
   },
   "source": [
    "## Create model"
   ]
  },
  {
   "cell_type": "markdown",
   "metadata": {
    "id": "VsP80NZB4pw_"
   },
   "source": [
    "![image.png](data:image/png;base64,iVBORw0KGgoAAAANSUhEUgAAAgIAAAIfCAYAAAACDbSJAAAgAElEQVR4XuxdCdhN1ft9hSgqlXlWMiZzhswqypgxQ2YiZQyZp4oUimTMVGYRUgpFGRKiyZSpkoypqB9l+N+169z//T73fnc69wz7rv08HnzfOXvvd619zrv2u9+9T7JrniIsRIAIEAEiQASIQFwikIxCIC55p9FEgAgQASJABBQCFAIcCESACBABIkAE4hgBCoE4Jp+mEwEiQASIABGgEOAYIAJEgAgQASIQxwhQCMQx+TSdCBABIkAEiACFAMcAESACRIAIEIE4RoBCII7Jp+lEgAgQASJABCgEOAaIABEgAkSACMQxAhQCcUw+TScCRIAIEAEiQCHAMUAEiAARIAJEII4RoBCIY/JpOhEgAkSACBABCgGOASJABIgAESACcYwAhUAck0/TiQARIAJEgAhQCHAMEAEiQASIABGIYwQoBOKYfJpOBIgAESACREB7IZAnb345eugAmSYCRIAImI7AjTfeKBcvXpRkyZKZXjcrJAJWIaC9EMADuuvH81bhyXaIABGIIwRK5LpVrly5QiEQR5zraCqFgI6s0iYiQAQsQYBCwBKY2UiMEaAQiDHArJ4IEAF9EaAQ0JfbeLKMQiCe2KatRIAImIoAhYCpcLIymxCgELAJeDZLBIiA+xGgEHA/h7RAhEKAo4AIEAEiECECFAIRAsfbHIUAhYCj6GBniAARcBMCFAJuYot9DYQAhQDHBhEgAkQgQgQoBCIEjrc5CgEKAUfRwc4QASLgJgQoBNzEFvvKiADHABEgAkTAZAQoBEwGlNXZggAjArbAzkaJABHQAQEKAR1YpA0UAhwDRIAIEIEIEaAQiBA43uYoBCgEHEUHO0MEiICbEKAQcBNb7CtzBDgGiAARIAImI0AhYDKgrM4WBBgRsAV2NkoEiIAOCFAI6MAibaAQ4BggAkSACESIAIVAhMDxNkchQCHgKDrYGSJABNyEAIWAm9hiX5kjwDFABIgAETAZAQoBkwFldbYgwIiALbCzUSJABHRAgEJABxZpA4UAxwARIAJEIEIEKAQiBI63OQoBCgFH0cHOEAEi4CYErBICBw8elM2bN0vRokWlWLFiboKIfXUBAhQCLiCJXSQCRMCZCFglBObOnStt2rSRIUOGyNChQyVZsmS2AnLx4kV58cUXpXDhwtKkSRPb+2MrGBo0TiFgEokbPlotn3y4KmBtw8dOkfEvDJIqD9eS4qXLhd3qX3/+Kb+dOytZs+cM+17eQASCIXD00AHJfXe+YJfZ/vtZk8dLsVJlI3qGYtH5eBUCGzZskGrVqsnMmTOldevWFAKxGFwW1kkhYBLYO7Z+Jjs/36Rq27/na8H/W7Tv6q39yZ79pVb5wtK51wCp06hF2K12bdVAatZtGNG9YTfGG+IKgfXvr5CFc6bK9EXvO95uCgFnRAQoBBz/qITVQQqBsOAK7eJVS+fJlHEvyuot3yW4wRACVR6uLT8dPeSZgeWXm9OkSXDN2dMn5fhPP0rWHDnlzgyZvL/r2PRRqdu4hWOEwG+/nvXYcFgyZskqmbJkS2CD8bvcefPJLbfeFhpoNlx15fJlOeKZCePvPJ6+3pgqtQ29SLpJYHnyl58lb/5CkjxFiusuxkw+Y+Zs3nGE648f+8Hv2Pr70kU5cvCAqiePZ/Zv1IfxunLJPNOEAMbwmVMnvX0+/8fvnjH9g18bDu7fIyk8/YkmGgEMLns4BEZWFzsjAmPGjJFdu3bJiBEj1HLB1q1bFZYPPvig+lmGDBkUHLt375ZevXrJ8OHDZfny5bJq1b+RyypVqsiAAQMkT548Xtgwy0cewrhx4xLM8nH/L7/8IvPnz5ePPvpI+vfvr9ouUKCAZM6cWT7++GNGBawefCa2RyFgIphGVUkJgaw5cqmXMRzkqRM/y8tT3pbylR8UhP77dHlCDnlejAj/I6pQsfojMvr1WWpJYeHsqeplX7dxS+k58HnTez2oR0dJd/ud8uzQ0arudg0flpvSpJVJc5ep/w/t3Vk5/A7P9JGB3TvKru1blfPc8/WXUqx0eZkwc7FyLCP6PS1bNqyTHLnvUr9r+1RvdY/TymcffyjD+3RVNsFBwtmOnjRbceGU8sKAHvL+8oVyt8fBnf/9d7ly5bJ07NZXicFa5e9VGG/b9ImUKldROfGXhjwrq5ctlPyF75P9330tXfsMkaatOylzls6bKZNeHqHuOetx0pcuXZIp81fK/zzjrlu7xmr8pc+QUd7b/G3EL3Q4xUcfayqff/aJwjRH7rulVoOmMnPSONV3jK85766XW29LJ998uV0GesZcqlSpPH256Pk7tbw8ea5HAOeSmmULyqiJM6VMhaqq7xhrz7RuIOu/PCzPtGnksb+5wgACoFfH5pI8eXJ1HcTAuOnzPeMyv2UU2ikE2rVrpxx76tSplUOGY9+0aZOsW7dOKlSoIJ9++qni0pi9Z8qUSdKlSyddu3aV3z3j6bXXXlPYffHFF5IjRw6FGf5fqVKl6xw7BMKRI0fk0KFDsmXLFpUf8MEHH6h28ubNq5YI7M5bsIx0DRuiEIgBqUkJAbwcJ8xarGafeHH/6JlVw9m+NW2CrH3/XZm19CPlUDHbrlupqKzZtk85q1hHBD5c9Y6KYiz/ZKdyCjXL5Fcv70+/Oab682DJvKqfB/Z+o17si9ZsVjZg9lejTAHV73R33CmPVSup7oFowct+tMfGuZ6Xv7/ZbAygD7lK2NN/5Fip/mg9dQ8EzMlfjnuFT8gVxehC5Jw837+7whmRISw1YQyMGDclgRDAWMKMe8vGdYq/uSs+VtfDSbaoXUlmeniBc61aPI/MXb5OCt1XQvW4c/O6Ssj1G/GKmBURgFOEkx4+drKnT3/II2ULSIVqNeWFV6d5nP3f0rB6KenhEbEPPlJPalcoIk08IqVtl56qPxA9e77eJW+v2iBjRwzw5MOckZHjpynn8sLAnp6ozT8yZPRE6dSstlcItKxTRe5/oLJ0e26Yp4ZkMnX8KNm8ca3MWb7eMqdktxCYPXv2dQmEdevWVbP+48ePS5YsWbxCIFeuXPL111/LLbfcojBHpOD++++XVq1ayfTp0xVmoQiBG264wVsncwRi9AKwuFoKgRgAnpQQ6Nitn9R/vJVqFdfBqcL5oiBE/ddff6plgwN7vpXhfbuq5QVECGItBOD8qxbLLSs/3S17v9ntCRW/rSIXA198Vc3WEK2AKDH6iRml6qdHGLw8rJ9nJrZAzUQhIDCTq1G3kZR5oIoSB04twPvkiePKaSI0DlHjlHVyRGBuuTWdN0IDDFvUriyPt+nkFQKIDhhjqXvbxiqC06hFOy/cE14aKpU8USVEZGAryvFjP8rRw98r0ZA3f0GP055iqhCYPG+FdyZf+4F7BbkxRk5Mp8drKSee+6580q5xDdn03c+SKvVNql+IyDziiQR8tP2Ah4dT0t7ze0QA4JwQIXh1xiK5r+T9YtRRsmxFQf0QC8bS1CkPl4hs4b7b70xvybBzghD44YcfvDN6GI2w/rPPPivr16+XqlWrep02lhJ69+6dQCQ9/PDDsn37djl79qzAwVMIWDJsHNcIhUAMKAmWI2C8GH2vgzNCyF3lDnhmasU94fa5U1+zTAgABswSEcrFzAxrtli/Tf9fngJmnVg2gCMZ1L2DWrpAyLqwZ4a5ZuVST1j3LRWixj2zPZndCA9jl8ODj9b3zAinOy4igKSzGRNeUrNntf6ePIXqr1OEALjA7hI4UqP4ikEsDWDmDcxR8Dusy6fP+P95Jfh5+SoPqVk3ok8Qd1mz51K8IeIUCyEwdcF7Urp8JdWnQEIgS7acnqWmLp5liG8SOCU41VWbvpFsnggGZvvN23XxRJbSymujhsqyj7eraw0hgDrw75JlK1z3BGNZIX3GzDF4sq+v0glC4MqVKwlwNLYaJhYCxv99rejWrZu8/vrrYogJCgFLho3jGqEQiAElkQiBXh2bqVC74TQxQ3+gYGZZsnabclSxjggABqwjIwSN9eXxMxZ48hX2qmxy9KV7/+GeMGwVNeM650lIG+9Zi0V/MdMsXzCLCqkj1HzowF51HQqWBjq3qCMjxk71huBjAHfYVUKsNH6ojCz8YLOKYqC88cpItRbtFCGAvBAk2L085S2vfXUrFfPkCPTxRgR8hQAiAlh2MnI8cBO4xLIAOHmua2uPM93hmT1nV/U993RbtT5vdkQgFCGQr2ARafZoBfnsu+OSJm1a1R9w0uThst7Z/KI501T+A0qREvd7lxAMIYBcjodK3eMVDrgOYvWbXdullEccWJX46XYhgCTAV199Va39I2mQQiDs14kWN1AIxIDGSIQAtgcigRDJgUi0enn4c7L07TeVY8KsD0KgSPHS0qpTt5iF2xGebeBZ47/p5rSybudB9WLFWjrW+9ftOKhm9X06P6FyBxABQJn66iiZPmGMTF2wSu5In1GFr2d4+lykRGn1cm9dv5pMmbdK/d8pJbEQwP+f9uCPRDqnCAH0CVgijwGzXog0RIh8cwR8hQCSHwd2a+8RZMsV1hABGFMQaBfO/+GJNrX3CgHkE/Tp3FJFayAE3l++SCaMHqpsBwaRFjjFUIQAImKY8ecrdK8858lRwDLTIE80TOSavOpJOsXMH7sf6lUu5kkA/EdWbNztneEbQgB1dGlRzzNWb5Zhr0xWCXOjh/aR/d9+rfIMrEpcc5MQWLx4sTRs2DABNg0aNFBJf396xD6WBm677TYpUaLEdcmCyCU4ffq0EgzMEYj0CXHufRQCMeAG+7LnvTlJZr7zUYLakYmPswWMBDXf6zB7HuJZF0Z4GoKgccv26mWOXQK4/t2Fc2Xc8wOkao3a6uUdqwLnga1lxswSM03MKpFUhoIlDIgBiAas/6N/cFoQK1ifhsPC+jPW2xF2b9e1lyfE+1SsuhtxvXB8izzRDmSyYyZd05PTgOjHvFUbHbOMAYc9641xKuQP3rdt2uDNEcBY6jnwhQQCC9jP8IgycIN18849B6gcAkRthj7bRdauflftDEAUBMsOGF+vzVqiuMJSBLYdfvD5PpXVH0nBUsCoCTOliGctH6V9oxqKe2O8P/dMO3nIkyiI/2OJCQmCmPVjWeahWvXl2SGjE4jcEc89I397TrAzkgZRZ39PHUg2RB3o9+ghfeTTdR8ocVrKkzcw4IXxkjPP3ZF0P6J73CQEatWqJStXrvQKgWPHjkm+fPkEP4dIgHjC/69duyYHDhy47jrsOqAQiGiYOP4mCgHHU8QOxiMCcNKYyeMkShQ48wc9ofCXJs3yLr3EIy5Os9lNQgAOvnv37tK+fXu1o6Bnz55qSyC2DxYpUkRB26lTJ5kxY4baSYATA0+dOiWDBw9WZwikT5/eKwTw7QOIhpIlS0qLFi3UtbfffrvT6GF/QkSAQiBEoHgZEbASASO/AmcBILLyyYfvqTMmkNfgtK2YVuLitLbcJATg5JEwCCeOgv3/06ZNUzsLjHLixAklAtauXat+hCUX7DT4+eef1e4DIyKA3zVv3lwWLlyoIgg4W6BcufCPTncan/HaHwqBeGWedjseASQvYv3eOJwHhwM5+aRGxwMagw5aJQSi6brvccCYve/fv185eAiBQAWC4OjRo3LvvfdK2v8SOv1de+bMGXWQE04XZHEvAhQC7uWOPScCRMBmBNwmBPiBIJsHjEObpxBwKDHsFhEgAs5HgELA+Ryxh8ERoBAIjhGvIAJEgAj4RcANQmDfvn2CUwXbtm0rFSv+ewAVCxHwRYBCgOOBCBABIhAhAm4QAhGaxtviCAEKgTgim6YSASJgLgIUAubiydrsQYBCwB7c2SoRIAIaIEAhoAGJNEEoBDgIiAARIAIRIkAhECFwvM1RCFAIOIoOdoYIEAE3IUAh4Ca22NdACFAIcGwQASJABCJEgEIgQuB4m6MQoBBwFB3sDBEgAm5CgELATWyxr4wIcAwQASJABExGgELAZEBZnS0IMCJgC+xslAgQAR0QoBDQgUXaQCHAMUAEiAARiBABCoEIgeNtjkKAQsBRdLAzRIAIuAkBCgE3scW+MkeAY4AIEAEiYDICFAImA8rqbEGAEQFbYGejRIAI6IAAhYAOLNIGCgGOASJABIhAhAhQCEQIHG9zFAIUAo6ig50hAkTATQhQCLiJLfaVOQIcA0SACBABkxGgEDAZUFZnCwKMCNgCOxslAkRABwQoBHRgkTZoLwSSJ08uV69eJdNEgAgQAdMRuOGGG+Ty5cuSLFky0+tmhUTAKgS0FwJWAWm0gxfCtWvXrG7WsvZon2VQx6QhOK4rV65o67h0ty8mg4KVxj0CFAImDwE6SpMBtbg63fnT3VHqbp/FjwObixMEKARMJlp3R0L7TB4wFlenu6PU3T6LhwubixMEKARMJpqO0mRALa5Od/50d5S622fx48Dm4gQBCgGTidbdkdA+kweMxdXp7ih1t8/i4cLm4gQBCgGTiaajNBlQi6vTnT/dHaXu9ln8OLC5OEGAQsBkonV3JLTP5AFjcXW6O0rd7bN4uLC5OEGAQsBkoukoTQbU4up05093R6m7fRY/DmwuThCgEDCZaN0dCe0zecBYXJ3ujlJ3+yweLmwuThCgEDCZaDpKkwG1uDrd+dPdUepun8WPA5uLEwQoBEwmWndHQvtMHjAWV6e7o9TdPouHC5uLEwQoBEwmmo7SZEAtrk53/nR3lLrbZ/HjwObiBAEKAZOJ1t2R0D6TB4zF1enuKHW3z+LhwubiBAEKAZOJpqM0GVCLq9OdP90dpe72Wfw4sLk4QYBCwGSidXcktM/kAWNxdbo7St3ts3i4sLk4QYBCwGSi6ShNBtTi6nTnT3dHqbt9Fj8ObC5OEKAQMJlo3R0J7TN5wFhcne6OUnf7LB4ubC5OEKAQMIHogwcPSv78+eXq1auqtlSpUsmFCxckRYoUJtRufxW0z34OoukB+CtQoIBcuXLFOz7Pnz8vKVOmjKZax9yru32OAZod0RYBCgGTqK1Xr56sXLlSkidPLpUrV5b169ebVLMzqqF9zuAh0l7ozl/9+vVlxYoV3udv3bp1gugVCxEgAsERoBAIjlFIV2BWUqhQIcmaNat06dJF+vXrF9J9brmI9rmFKf/9BH+FCxeWLFmyaDs+fe3r27cvhYC7hyx7byECFAImgl2qVCnZuXOnbN26VcqWLWtizc6oivY5g4dIe6E7f6VLl5YdO3bIli1bpFy5cpHCxPuIQNwhQCFgIuWbNm2S2rVry5kzZ7TJD/CFh/aZOFhsqMrg7/Tp09rkByQen3Xq1JFTp05paZ8NQ4ZNxgkCFAImE71o0SJp2rSpybU6pzra5xwuIukJ+YsENd5DBPRGQHshUDB/Htl34Ki2LN54Y0r5++9/aJ9LESB/LiXuv25jN8aePXuYj+BuGuO+99oLAbXv/Y8d2hKd7NZStM/F7OrO3w23lZYrv32hraNU9nm2ZXKHgosfQnZdKARcPgh0dyS0z90DlELA3fyx9/GBAIWAy3mmo3Q3gbrzRyHg7vHJ3scHAhQCLudZd0dC+9w9QCkE3M0fex8fCFAIuJxnOkp3E6g7fxQC7h6f7H18IEAh4HKedXcktM/dA5RCwN38sffxgQCFgMt5pqN0N4G680ch4O7xyd7HBwIUAi7nWXdHQvvcPUApBNzNH3sfHwhQCLicZzpKdxOoO38UAu4en+x9fCBAIeBynnV3JLTP3QOUQsDd/LH38YEAhYDLeaajdDeBuvNHIeDu8cnexwcCFAIu51l3R0L73D1AKQTczR97Hx8IUAi4nGc6SncTqDt/FALuHp/sfXwgQCHgcp51dyS0z90DlELA3fyx9/GBAIWAy3mmo3Q3gbrzRyHg7vHJ3scHAhQCLudZd0dC+9w9QCkE3M0fex8fCFAIuJxnOkp3E6g7fxQC7h6f7H18IEAh4HKedXcktM/dA5RCwN38sffxgQCFgMt5pqN0N4G680ch4O7xyd7HBwIUAi7nWXdHQvvcPUApBNzNH3sfHwhQCLicZzpKdxOoO38UAtGPz02bNsmhQ4dCqqhVq1aSLFmykK4N96L169fLsWPH5NFHH5UMGTIEvH3fvn2ybds2eeCBByRv3rzhNmP59R999JGcP39eGjRoEDPsEhuFNn/55ReJJV/hAEkhEA5aAa7d/fUB+erbA9f9tkb1cpI5050mtBC4CiscyeXLV+SdFevl8+3fSurUN0qtGhWkQrliMbXLqNwq++Yt/kB2fLnHw1d6aVivmhTIl9t19q1YvVH1uV6tygn6Dv4WLfvIY99eSZEiuVSpWFJx6FsMjjdt3S3p70wnLZo+InnvyhE1BrEQAgcP/+QZjx/LsZ9PSrH78kuLJo+ocWmUixf/VvYmLnfnyW76uFX2XbkSUwfSrl07mT17tly7di0oH+jLDTfcEPS6UC44evSo9OrVS8aOHSt58uSRN954Q55++ml58cUXpV+/fgFtbtKkibz77rty8OBByZkzZyhNhXTNxYsXVduFCxcWtGGW4KlevbocPnxYiS2zsPM1CMKoW7dusmbNGm/9aPOTTz6Ry5cvx6TNkAD1uYhCIFzE/FzfrN0AWbj0+hfPJ6unqpduLIsVjrJxq37y3prPpH7tKoKX7LvvbZDRw5+Rfj1bx9I0VXes7YM9D9V7SvYdOCo1HywvZ87+Jus2bJO3p4+Upg0fdo19cOCPNOgmz3ZrKUP7d/L2+8Kff8lDdbsq+2rXrCiXr1xW/OHfC2a+qIQBCjhe98kX6udHfzzuEX3fyPIFY6V2IsEQLiBmC4EP12+Vx5o/KyWLFVRCZc26LUq4fLpmutye7lbVPQjzEhVbXOc427SoIzPfGGKaA0FbVggBOJITJ054of/qq6+kZ8+eajbZunXrBPZUqVIlXIoCXj9ixAgZNmyYcuh33XWXnDlzRnLlyiX58uWTL7/80i+OxjWVKlWS999/31SsN2zYINWqVZOZM2deZ3c0Rs+dO1fOnTunnLVZ4sK3P4aQ83X6aPPIkSMyZIi54zFSHCgEIkXO574iZZsqJ/Ly891NqC28KmLtKNdv+EIerPuUvLfkVe8s8oWXZ8qwUVPlp73vuz7iMWnaYnl20Kuya9N8bxTgmWfHyMJ3PpLTR9aFR0YEV5vB35z578nTvccInP4wjwjwFQIvjZ+juPr680Vyz38z/A2f7ZSqtZ6UhbNeVGIHkYT6zXrL9o1zpVTxQsqKtl2GC647sGuZpEyZIgLL/r3FbCGQr3gDKVm8gMx/8wX10j5x8qzgZwP7tPMK0zfnrpBn+oyR349tjKrvoRhthRBI3A/DIcKJDB06NCbOC20mFgL4WfPmzWXhwoWyc+dOKV68+HUQGVGDxYsXS8OGDU3tW6yEQCg8R3ONPyEQTX2xuJdCIEpUMaO8KWN5WfrWGBVStrqY4UiS6jOcTJvOw+T8L59K2jQ3q0sNR/LZhzNMD7Um7kus7Vv94SY1W+79TEtv04bNEDrZs2WMKaXR2tfzuXEyZeZSjwB4Uqa8+Y60aVE7gRDoP+x1NcPH7N+3ZLzrQenasYm6FtGAYz+fkq3rZ3kv+XdW3VzWr5oqVStFHtUyUwhA6Iyd8LbUqlnBK1jQ4fIPtpP89+TyzPbhFEV69R8vn23ZJV9smGOqI/I3EJwmBC5cuCATJkyQpUuXqllu+vTp1ez5ySef9IiilMoEhPt37dqlwuzlypXzmjVu3Dh57733ZMCAAWo2j/A+Zq1ly5ZVf/B7rG0/8sgj0rdvXxk1atR1+N5///3y008/yQ8//CA33vjvcs38+fNlxowZqq7UqVPLgw8+qGbCifMMvv32WxkzZoxs3bpVhczvvfde1Rf0Ee0+99xzqt8FChSQzJkzq3qzZMmiroUAgUDBunvatGmlRo0aMnDgQLn99tu99iEc/8QTT6i+zZkzR7Jly6bqGD9+vLoP/z558qQSO4GWYYx2IUJ/++031S5wOn36tGoHfevdu7egLVwDrI1+Va5cWYkn4IhrYAvyLozlCERTYD+WEJCzgLZatGiRgDtEhvCzV155ReEEXMFz7ty51XIN7I4kqkEhEOVrfseuPVK6ciuZ8fpgT0hyv2dW9j/PS6qgtG9VP8G6ZZTNBLw9WkcSrF9Yjy1YqpE8P/gpNePCWnLHZ55XSwVwlL5rs8HqiuT3sbYvcZ8g7Oo07eF5yC+oGXKsS7T2Ya28aJF7VJj8riJ1pXXzhELAX//Bab7ij8n0iYM947SeFPLwW9mzhDV5fH/v5eD5xjvLyvjRvaR7l2YRw2CmEPDXCYjSh+t3VSKgpSevAaVSzY6SK0cWubfQ3UrkpbvtFmUn/m92cZIQgAhAIh8cBJzFPffcI1hWmDdvnkqEW7JkiXIS+BkcNhwhQvw33XSTICERYXc4kpUrV8rLL7+sHBicFWb2pUuXVs4f9999993y999/K4fqu6aOerF+36dPH69IgCMfPXq0ShxE3b///ru8+eabkiZNGvniiy+UI0dB++g7fg7hcsstt6jrICogAiBiIFzgJI0kRDhNOHrct27dOqlbt65ytEhohKNHPzdu3CgZM/4r5pMnTy4lSpSQ3bt3S7FixdRyy/79+6VOnTreHIFff/1V2ZlYCOAe/KlXr54sW7ZM2V+mTBk5cOCAtG/fXoka4I924ZjRLgQMcISz/v7775VdBQsWVPVDDPnmCKDPsOvUqVOKuxw5cqiES9gL7iBSIKyQtwG7wAfwb9q0qcpRAcdGuxUrVgxbDFAIRPlmmDpzmXTu8aIKkWN5ALMWrMGWLV1E1q54QwtHidDx4237qxcqHATKB8smJJiVRQmjbULHt2GssUPYoWB2bEayXDBcohUCvvWHIgTA3yMNn1EOEssFt3s4zVnoUWn/RP0EkQTUe0fOah4R8Ph1Pw9mk+/vYyUEkCsweMRk2e7hq0Pr+jJtwiAVDUC5NWtl+Z8nsQzPI/IHkD+BqMjy+eYqlrsAACAASURBVK+oHAgzi5OEgBHKh9OAgzBmhka43vfnxs/glDCTLFq0qHJ+EAbGTN3f0gCwM36O2WzVqlW9cBpOHzP7QoUKKcdZsmRJadasmbz11lve/kAw4OeNGzeWWbNmqZ+j/ePHjwvyH7JmzarqhKOGsEBdcKyffvrpdTkChh2Jl0k+/vhjeeihh1QEwGgDQuDq1atqFo5+w4GmSJFCzd6TShZEf+H0kfi4efNmufXWW1WeQocOHa7LV8DvkR8xePBg77KNv6WBxMmCcP4LFixQggZ9M7iDXc8//7wSRW3atFHOH0IA4gbLMwZWEA3ly5eXjh07qihFuEmPFAJRvhXwQnrvg89k1PCnrwudW5FQZ6Yj8QcFZo9YT4ZTbNn0USUEXpnwlhI+EAPGckGUMDpCCEDUIcz4iif8nDbtTYKlD4ifWBYz+QsmBCBSsfa/Zu1WWbtykhKr/zrOSmppxDe3AD+/q0g9T4ShliOFAJIZ93//g0pqxJLI+NG9pcdTzZQQH+BZDqlepYx39wSiPNVqd5YjP/wsP+5ZbWregJOEABzmP//8o2apvuFhjOk777xTOVHMZo3fYQb9wQcfSIUKFdSMHM4Ts0mjBBICmL0iabBt27Yyffp0VR/agINCUiHqwc8gMhDCNoSB73OErH8sQyC8DicMh48ESMygffuOvACE+kuVKiX+cgRg0/bt21VI/+ab/126NApC8RA2Z8+eVbNpCIH77rtPOVBfR5mUEIAYwUz9r7/+UjN0YxcE+o0kSixfYLnDKEZUxFeABBMCECe33XabdwnEt2/YKQHujOWRH3/8UeH8zDPPqCUNX6xgH9qFSKEQSPTWBlDX/tgRy3e537qLV2gumTOmV84ylsVMR+Kvn1g//nbPIfnGM3s0MsyxnozlgkF928d850Cs7fNnM+y7p3h9Twb+EzJyUJdY0mfqroikhACS6pBtj5nxkrkvJcjtwH3YLpjYVji5oc91dKQQ8CWl7+DXZPyk+XLq8FrvzoHEpGF76BMdh8hXWxZIkcLm7W13khDAyx8OBWHvxOXzzz9X68h79uzxOg84OThGrG9jPX3kyJEJHEsgIYC6jSWIn3/+WTngDz/8UOUOIBses1u8d3ENQttwyImLsRMCW/YQNse9wXYD+BMCxuwYM/HEzg+7AF5//XXvrgc4SiwDLF++PIGdgYQAQv34HTBDFAHLKb4FThrLFliKQcgeNkH0QBRhGcCIRAQTAoZz9yeE0B6iEVgyAFbGtb4RB6NPFAJJvKpjLQTgNOAgE58XULFGB7UsgOWBWJZYO8o899ZVWyBnTR6awAxECRB2hVOJZYm1fYh4IMqR+NyAQHabbauZ9gUSAlgGwLIHxuOqxeOvW/LAWEVSpG9C4W+/n1dLAwtmvhDVNkozlwYws9/9zX4pViR/giU37Gx5qF5X2fjBNCleNL/aSZA9a6YE12B5C0JIdyGAEDvWsf0ljKVLly7BFjk4LwgBJKbhnsQOMikhgMhCo0aNVIQB98L5I7pgCAM8J5itYx08qZ0NcNaIIGCZIFIhgFm6EYVIIBD/i0gY2x8NR2k4aONaf0IAzhy5EbBp0aJFUr9+/QSYIiqCnAeIhOzZsyvxhegAkgURKcHWznCFQP/+/a8TY+gjIhJYNqEQiOLtG2shgD3oePFgxmwUvERzFKglPbo2c9WM0h/McPhwlAiTGwX/z1OkjtSvVUUmvtI3CnaC32qmo/TXGhzkiVNn1PZBt/PnTwhgbJbwRKfu9iztQAT4W+oY/PxkmT1vlRz+epUnbP7vuQJIQmz8RF/5wRNKz5E9U3CiAlxhphBAZOq+co/L3GnD1TKVUbBFcvDIN+TnA2vky6/2KdHz/juvqRwBo2Anway3V8pxzzU33ZQqYnsS3+ikiMAdd9yhwsZIwkssBBDKhhD4/2f4snLUSAaEE582bZr6g8Q3496khABmw1gewLo0ogDIcIcDnDhxovd+OMO3335brfUbCXtG+8iQx44GlB07dqjZtr+DijDjRsQAs2qE5hOfI4BcA8ySsTSQOCKAJDtk9GNmj6hFOELAiCYEOjzJsG3FihVSu3Ztr80QHfnz50+QmxAsIoBlB0RyHnvsMcG2y8R2ZMqUSS1JwH5GBCJ8dGMtBIw92M/1aqPC5IgQdOk5SjDThDjArDmWJdaOEg6hkcchYBkA280uXrokOEfg7UXvy/YNb8UkE9sXr1jbh+2DtRv3UPZhnRz89ew/Vp3CB/6cvn3QFyt/QgCHXS19d706ACrxWCx6bz7PyXz51Fgt8UALafH4v8sDiCA08SwJYSdB4m2H4Y5lM4UA2sYOgW++OyiL54xWIf4P121Vu1iwtPHGuP4qAQxiAYlvODwI18xbtEadK/Di0Kelt+fAJTMP4HWSEMC6O7YNJt7jj6Q9ZMvj90hIwzsRGffYjoeththaiPAzHO7XX3+tThFESUoI4PfYGjdlyhS1He6pp566rl0kJ7Zs2fI6B4/ZNnICEO6GA8caOXYwwNklXr+Ho8d1SJKDwMHseNKkSarPsMNIUMR2R9+tc5ixwyHDbiQawrmGKgRgz7PPPiudOnWSyZMn+42uYLljy5YtcsnzPvR13Ma9vhEB1IOdA4YgAXaJkwWNfIbvvvsuwWmMiLggWmLsxDCSBbk0EOabKNZCAN3BASbPDZ2oTqVDQRIWQulWHFMba0cJe7CvfpBnxgUniQK7XvdEAqpXSbhmFiY1IV1ulX3gD7NnFByqM33iIOUkY13MtA8h/kb1qyfY7odtgv/88+9Oj8QFEStjayCSXjs8PdLLMerBGI42GdRsIYBn7Kleo2T5qg0qUoX+Pf1kExnhETAp/zslEcLmqV6jZe3H25TJiIIM7OMReiaLANTtJCGA9WnM0LEFD4lk2PuPLHw4EWzDgyMtUqSIyubHDBxO1QipGz+D40V2PrbrQST06NFDhbmRgY/99b6RBrSHpQUksyH/IHEkAg4f7XzzzTcqBwGh9j///FMJAyQKQoxgPz3qNNpCG927d/e2j6OVjUgFlh0QhYBzRxQD6/AQflgOwXY+nGsAh4pkSdgMYYO1fWTxo4QiBJC1j3wFRDCQM2GcveD77CDSgJ0WEEEQIoiiQBBAjAwaNEglbGLXBiIlEAmwFz+HWEJiJn6XePsgxMrDDz+ski2RMIklBvAA/MEneESfjO2DFAJhvpmtEAJGl5CIhRdTrKMAvhCY6UiCQRsoHyLYfdH83kr7dOcvFB7AMXZMmLVbwmwhYNiA3QEQBcgFMJJYE9uHJTr8yZ3z3+1osShOEgKwD2F2OBxk0hsFTgUhezgfzEqNQ398Z/+41ogA4G84bszW4UThULGsgOz7xGFrCA8ky2HmbMzSfXHGEgD6gxA9HKQSZp66UL8hAozrIQawVc44nAfXIb8AwsAQIMbJhoj4wHmifwjHow04cWP/P9bsMTvHkcvGvaEIAbSPY5WT+q4D1uqxDIO+IBnSuBY7G2AD+gsbcEYBdiugf4gAIKwPLjDrh7BK/K0BLIPA8e/du9cLIfIvIOqMKA2FQIRPsZVCIMIuRnWblY4yqo5GeDPtixA4h9wWKyHgEPNsiQiEYjvW5eGAMFNHMls0BWF2bOHzzTEItz4IEPQHW+3wRULs3/dXEEVA9j3+htP03ZpnXA9xgd8jLyGx6DBsTvy7cPsb6vXAGc4ZOAdrE9chLwJYJlWAN/7A/mgwD9UGXMdzBMJBy4HX0lE6kJQwuqQ7fxQCYQwGXkoEbEKAQsAm4M1qVndHQvvMGin21EMhYA/ubJUIhIMAhUA4aDnwWjpKB5ISRpd0549CIIzBwEuJgE0IUAjYBLxZzeruSGifWSPFnnooBOzBna0SgXAQoBAIBy0HXktH6UBSwuiS7vxRCIQxGHgpEbAJAQoBm4A3q1ndHQntM2uk2FMPhYA9uLNVIhAOAhQC4aDlwGvpKB1IShhd0p0/CoEwBgMvJQI2IUAhYBPwZjWruyOhfWaNFHvqoRCwB3e2SgTCQYBCIBy0HHgtHaUDSQmjS7rzRyEQxmDgpUTAJgQoBGwC3qxmdXcktM+skWJPPRQC9uDOVolAOAhQCISDlgOvpaN0IClhdEl3/igEwhgMvJQI2IQAhYBNwJvVrO6OhPaZNVLsqYdCwB7c2SoRCAcBCoFw0HLgtXSUDiQljC7pzh+FQBiDgZcSAZsQoBCwCXizmtXdkdA+s0aKPfVQCNiDO1slAuEgQCEQDloOvJaO0oGkhNEl3fmjEAhjMPBSImATAhQCNgFvVrO6OxLaZ9ZIsaceCgF7cGerRCAcBCgEwkHLgdfSUTqQlDC6pDt/FAJhDAZeSgRsQoBCwCbgzWpWd0dC+8waKfbUQyFgD+5slQiEgwCFQDhoOfBaOkoHkhJGl3Tnj0IgjMHAS4mATQhQCNgEvFnN6u5IaJ9ZI8WeeigE7MGdrRKBcBDQXghkyZJFTpw4EQ4mrrr2hhtukKtXr7qqz+F0lvaFg5bzrtWdv8yZM8vx48clWbJkzgOfPSICISKgvRAIEQfTLsML4dq1a6bV57SKaJ/TGAmvP3DMV65c0dZx6W5feGzzaiIQGgIUAqHhFPJVdJQhQ+XIC3XnT3dHqbt9jnxo2CnXI0AhYDKFujsS2mfygLG4Ot0dpe72WTxc2FycIEAhYDLRdJQmA2pxdbrzp7uj1N0+ix8HNhcnCFAImEy07o6E9pk8YCyuTndHqbt9Fg8XNhcnCFAImEw0HaXJgFpcne786e4odbfP4seBzcUJAhQCJhOtuyOhfSYPGIur091R6m6fxcOFzcUJAhQCJhNNR2kyoBZXpzt/ujtK3e2z+HFgc3GCAIWAyUTr7khon8kDxuLqdHeUuttn8XBhc3GCAIWAyUTTUZoMqMXV6c6f7o5Sd/ssfhzYXJwgQCFgMtG6OxLaZ/KAsbg63R2l7vZZPFzYXJwgQCFgMtF0lCYDanF1uvOnu6PU3T6LHwc2FycIUAiYTLTujoT2mTxgLK5Od0epu30WDxc2FycIUAiYTDQdpcmAWlyd7vzp7ih1t8/ix4HNxQkCFAImE627I6F9Jg8Yi6vT3VHqbp/Fw4XNxQkCFAImE01HaTKgFlenO3+6O0rd7bP4cWBzcYIAhYDJROvuSGifyQPG4up0d5S622fxcGFzcYIAhYAJRB88eFDy588vV69eVbWlSpVKLly4IClSpDChdvuroH32cxBND8BfgQIF5MqVK97xef78eUmZMmU01TrmXt3tcwzQ7Ii2CFAImERtvXr1ZOXKlZI8eXKpXLmyrF+/3qSanVEN7XMGD5H2Qnf+6tevLytWrPA+f+vWrRNEr1iIABEIjgCFQHCMQroCs5JChQpJ1qxZpUuXLtKvX7+Q7nPLRbTPLUz57yf4K1y4sGTJkkXb8elrX9++fSkE3D1k2XsLEaAQMBHsUqVKyc6dO2Xr1q1StmxZE2t2RlW0zxk8RNoL3fkrXbq07NixQ7Zs2SLlypWLFCbeRwTiDgEKARMp37Rpk9SuXVvOnDmjTX6ALzy0z8TBYkNVBn+nT5/WJj8g8fisU6eOnDp1Skv7bBgybDJOEKAQMJnoRYsWSdOmTU2u1TnV0T7ncBFJT8hfJKjxHiKgNwLaC4G7890lh78/oi2LKW9MKf/8/Q/tcykC5M+lxP3XbezG2LNnD/MR3E1j3PdeeyGAzOH9p77Rluj8GYvQPhezqzt/BTLdJ3tPfKWto4R92JbJHQoufgjZdaEQcPkg0N2R0D53D1AKAXfzx97HBwIUAi7nmY7S3QTqzh+FgLvHJ3sfHwhQCLicZ90dCe1z9wClEHA3f+x9fCBAIeBynuko3U2g7vxRCLh7fLL38YEAhYDLedbdkdA+dw9QCgF388fexwcCFAIu55mO0t0E6s4fhYC7xyd7Hx8IUAi4nGfdHQntc/cApRBwN3/sfXwgQCHgcp7pKN1NoO78UQi4e3yy9/GBAIWAy3nW3ZHQPncPUAoBd/PH3scHAhQCLueZjtLdBOrOH4WAu8cnex8fCFAIuJxn3R0J7XP3AKUQcDd/7H18IEAh4HKe6SjdTaDu/FEIuHt8svfxgQCFgMt51t2R0D53D1AKAXfzx97HBwIUAi7nmY7S3QTqzh+FgLvHJ3sfHwhQCLicZ90dCe1z9wClEHA3f+x9fCBAIeBynuko3U2g7vxRCLh7fLL38YEAhYDLedbdkdA+dw9QCgF388fexwcCFAIu55mO0t0E6s4fhYC7xyd7Hx8IUAi4nGfdHQntc/cApRBwN3/sfXwgQCHgcp7pKN1NoO78UQiYMz43bdokhw4dClpZgwYN5JZbbgl6XbALli1bJmnSpJEaNWoEuzTq3xttPfzww5IsWbKA9e3evVu++uorMWw8ePCgbN68WXBflixZou5HPFdAIeBy9nV3JLTP3QOUQsAc/tq1ayezZ8+Wa9euJVnh4cOHJU+ePFE3evfdd0vOnDnl448/TtI5R92Qp4JQ2xoxYoQMGzZMIADuuusumTt3rrRp00bWr18vVapUiXk/zbDVqXVQCDiVmRD7RUcZIlAOvUx3/igEzBl4hhAYN26cFCtWLGClZcuWldSpU0fdaKjOOeqGohACiBCsXLlSnnjiCVPEjxm2uLUOCoEQmXvisXbyxebt1109euLz8ljTelKtZA25cuWKDHi+n9So/ZA88kBduXTxkvf6fsOflZPHT8rUCW9KqlQ3ysc7Pwyx5aQvM8uRhGNfxaoPyHPdBstXO7+Sy5evSIPH60nvQT1k7rS3tbGv15N95Zvd3ymuOnXrII+3bmy7fa+/PFkmvvzGdQPi/gdKy1vLZ0r/boNk3QcfS8VqFWTc1DHe6/o81V/KVy6rxinKmVNnFH97v92n/l/Gc/+oCSM9tqaSH478KN3b95Y/fv9DUqVOJc+PGyYly5SQ5nVby/d7v5fWnZ6Qp/t0CXnsRiMEcK+/GfD6HWvk+E/HpWOzp+TODHfIvJVz5Pix4zK493C5+L+LcnOam2XUayOlSPF7VT9fHj5OPlj5/89bsVJFpc+QXtKyXhv55fgJ+ejz1ZI9Z7aQbfK9EH3Ec59USDuiihPdZAgBzH6rVq1qRpVJ1uEGIRBzEOKoAQqBEMmGo4TDM16miW+DEHjr3VmSLUdW9TJt5bl+/qq53stuvyOdekFBTDzneWE7UQiEah8c/pZPP5dJs1+TS5cuSe1Kj8kLr46QchXLaGHfsD4jlV2jJjwv534957GvgXK0d92Tx1b7IAR+/uln1S9/BUIgW45sXkeNvg/t87xHHKyXF8YP947dQb2GSYrkyWXYy4PlikfIdXi8s0colJOOz7STto07eoTsw0r4bP1smwx9doS8v2mFpEiZQtA+ipVCYO+Jr/w6WTxHE1+ZLHOXvSlXr1yVysUfkjGTXpTylcrKhrWfytjnx8vKDcvUvY9VbyLd+z0t9xTMq/oPcZc+Y3r17+qlasocTx26CYEPP/xQXnrpJZk6dapMnjxZVq1apex98MEHZcyYMXLy5EkZMGCAbN++XdKmTSvt27eX7t27e7E2hEC/fv3kxRdflJ9++kmyZ88uXbt2laZNmybg5OLFi4JIxdKlS+XcuXOSLl06ad26tbo2ZcqU3qF6+fJlmTZtmlriOH36tBQoUEAQ7kd9uXLlSrAM8fnnn6t+7tq1S/XvySeflLNnz8rw4cO9SwMfffSRjB49WsaOHSvFixcXRAh69eql7N6yZYu8+eabcv78ecmdO7cMHDhQqlevnqDfWPbA/d9//723DeRXzJkzR+bNmxdXeQcUAjEQAh++t1ZWLnlPXn5jlPz151/elw6a0kEIjH3+VWXX4FEDFHptG3WUxi0byqP1a2phH2bKt99xu2TOmknZB6Ez3OM0MTO2k79whUDnlk9L0ZL3yeHvjySICCycs8QTNXhAiVaU10a/Lqc9UYK+Q3tLuUKVZOehrd7wco2ytWXslJfk3mKFHS0EPvtks1R5qJKyB/y1btBetu3fpERCibvKyqdfr5cL5y94bTYee12FgLF+nj9/fsVl7dq1ZceOHbJmzRqpWbOmcpoVKlRQzhhO78iRI/LWW29JixYtlLOEEPjjjz/kwoULyqnnyJFDVqxYoYTDxIkTlZPHdRABSNbbunWrcuhFihSRb7/9VhYtWiR169aVBQsWeMVAp06dZMaMGcoho21cB8GCqE+pUqW8QgCJkdWqVZNMmTKp/iDiAqeOiNWJEydU0qS/HIGNGzequu+77z51HfqDe2EfBAF+X758eUU9EhQff/xxJUBw3Z9//qnaQIKkbxshugfXX0YhECKFiAjkypPT4wyKJ7gDywCY6ftGBPBiXbbwXUnumXWd/+O852VcVCa8OdbxEYFQ7fvZE5bt1r6XcowQBCc8Sx462WcQjJnlsoUrPLPmyx77xknyFMltFwKIxDRu2SDBGCxxf3E1NhNHBDDbR5/xcywf+Itmgb/61RpL78E9JFv2rIpXhN6NUPcTDdpJk+YNpU6jWrYIgRdfG5FgFpfBM5Ov4Fma8o0IGH2FvfNmLpDFb78jbZ58Qhq1aKBEQYu6bSRTloxqrKJA2JQqW1L9221CoGjRomrG7a/Awfft21fhZQgBOMb333/f64wLFSoke/fulaFDh6o/uPbYsWMqMRDZ+EuWLPEKASQe+ooDzOgrVaqkZuk//PCDZMyYUUULBg0aJDNnzlSCweAC/+/QoYPqB5z5d999J+h7s2bNVJ3GdUYCYOXKlb1CoEyZMoK2sUMga9Z/xeq+ffukZMmS8tdffwUVAujXzp07vfdi5v/QQw9Jly5dlIhBtA9C59Zbb5Vt27apv1Egjh544IEEbYToHlx/GYVAiBRCCOBFkytPjgR39B3WW80efYXA8kWeUGryFOrliUHXucXTUvDeAoJr7ZxRJmVqOPatX/OJvDJyvDRr3cSzlnxeVr/7gVomsDt0bpZ9Rj2wc+83+2Tl0vfUmjtmxXbyh4gA+pJYjMLhQZQlFgKGHYGEABxjh8e7qFkyoleGbYmFQANPbgFEhB1LA481rZuA1rvuuUstYfgTAhiL77+7Ri1bYVlk+oI3PLkEvwiex6ef7aJyHhANmTZhhlfsuE0IYJYcKBmwUaNGKpzuKwQSO2gj1wBLAxkyZPBiC4eL6IGxSwCO8oYbbpADBw4kEGKYSaMdw8HDOWM5ALN0XG8UiAb0FTNwJPSNHDlSZfzD8ZYuXdp7HSIOuO7+++9XbUNgoG3DafvmXrRq1UrefvvtgLsGjIhAz5495eWXX07Qb0zKkFQ4a9YsWbt2rTzyyCMyadIkteTg20bz5s1l4cKF3jZCdA+uv4xCIEQKw8kRSFwlXkSYWWKd2U5HEsxRhpojgFD5s4N7ekOx0yfOVDMvOEsd7EuMExzggX0HVdTDTvvCXRpISgggqvNki64qN6CfZ0kAkQMsIbRt0lE2fLk2QUSgjSdBsHrNqrYIgVByBPwl6j1aoZ7KC6hR56EEdELMF85WXNZt/0DlBbhNCISaLOi7tc43udAQAnDUvo4boXbfdXo4Yzjn+fPnJ3CUmJkjqjBkyBAVUYAoufnmm/3uZMA6f+bMmZVIQHQAuQFYSrjxxhsTcFK4cGEVXYAQgDPHsgByCZC34MstRM5zzz0XVAgMHjzYG+0wGvIVAogK9OjRQ9atW6cSL33bSLxFMUT34PrLKARCpDAcIYBkM0QDMEtDQXLdjm27bHckZgmBh8vUUtnkCDejYJa1Ye1GmfL267Y6SrPswwy6qSfaUcyzvo4y8405snPblzJpzmu22meWEIAIaF6nlbR/qo206tTSCxuiV/ffU0E+2fWh3HHnHSoChpyBxWsWSO67cjpWCPx49CcZOWCUTJk7USU1ojSq0UzadWmtbDjmSbDs0rOT+jl2TCCx8AtP/kCatGkoBP5j358QwDIAIgq+jvLo0aNqxm442xQpUki+fPmuSyA0BhWWMbp166acOoRAYgGC6xA1wPq/rxBIHMlQz+F/yw2BzhEwIgLBhMD48ePl2WefpRDweWFSCIQhBPytoefMnUM5fN+lAcyQ172/XiXT/XbuNxnYc6i8PGmUcpx2ziiDOcpQ7Zs8fpp89vFmGTCyr1r66O/Zitaj/zOOTxYM1T6DP2TVnz19VvE3euILtu+KgBDwlyMAXhG6D3VpwFgG8s01MMYxROyvv/4mPZ57WhbOXaKiBDMW/rtbwI6lgcQ5AugHtq+iX8auAWNnQIWq5VVewKqlq2XJvHfUrgFsK0Ti4IixQ+Vuz7LCGM9Wwpy5s8ugF/srB8eIwL9vBX9CALN0ZN/7CgHkGyDx0JixY8aPZYUvv/zyut0dZ86ckfTp/92dgWz+V199Va31Qzj4FiwNIMoAIYC8ACw39O/fXy0n+LaNXQ7I8o9WCGAHRf369f1GHYyIidFGiO7B9ZdRCIRIIZzD4e8PX3c1RABePr5CABcZs2QkEj7eqrF39uxUIRCpfQi5YceAkbGti31IOvvko09VgmezNk2UCECx0z7kLEBg+ivYUhhICCydt0zy5M3tjVDhusTFGMeYQU+b+KayE3kt2CoIDOwQAgO6D/Z7jkDHZ9qrmb2vEEBOwOTx09USVb4CeT15BO29uz4QzZk3c6HKZ6nk2S3Rol0ztRSCQiEQWAgcP35c5Qhgx4BRsE5vrKEjwdBYt8dRv+XKlfNeB4eP5MA6deqoBEQjYc9YUjAc/IYNG9RSgG+yIJYosHyABENjGQGRBCwhoD/Bdg0Eiwhg8pItWzYlftBvow0kTaLPv/76q7eNEN2D6y+jEDCJwsRCIFC1djqSaEylff+i52T+AgmBaHj3vdfqiEBS/faXLBiJnW4TAjj7H7PwQAUz2ooVKyY4fjfSHAEIAezBRygdZwgg7+CVV15RoX78DM4cDh+5BNh2N2rUKLUtcP/+/dKnNc6FeQAAIABJREFUTx+1P//TTz/1CgRsM/zkk0/UTL9hw4by9ddfyzPPPKPOFMB9RqIi8hJatmyptiUaUQGs3WPr4z///BO1EEC/jWUG7FDAbgdsH3zttdfkl19+UcsXhtiIZEy58R4KAZNYS3yyoL9qnXzyXjAYaN+/uR5OPRkS/AU6WTAYt6H83o6TBYMJAd+TBbNkC+wc/dWDLa8tPKcluu1kwWDfGkBWPBwbtugZ5/BHKgSwdo9kQOyvR7v4d+/evVUinu9BQTif4KmnnlJnDBglb968aqsehIsx+8cOAZwlgIOH4NCRX4ADi+D4Ex8oBEeNxECIBBQcnYyjlXFAUrRLA0Z/Fi9erIQN+g1xhQOVEIXAuQPoK5Ig46VQCLicabOOGHYqDLTPqcyE1q9ojhgOrQV7r7LqiGE7rcRaP5IEcfgQTvkLVHAQD5w0ogiIIAQqRn0QC4HORMC9mJnj0CFcgzrNKti5gGUAtJ+4YPvgu+++q4SA764Ks9p2aj0UAk5lJsR+0VGGCJRDL9OdPwoBhw68OO4WhAgSFNu2bSvTp0/3RiwgZJCHUKJECXXiIYWARoMEYaD9p77RyKKEpujuSGifu4cuhYC7+dO19zhFETP/Jk2aSMGCBVUEwDiKGGc1IO8hngojAi5nm47S3QTqzh+FgLvHp669x7LDhAkTVL4CEgSRr4A8BGxRhDCIt0Ih4HLGdXcktM/dA5RCwN38sffxgQCFgMt5pqN0N4G680ch4O7xyd7HBwIUAi7nWXdHQvvcPUApBNzNH3sfHwhQCLicZzpKdxOoO38UAu4en+x9fCBAIeBynnV3JLTP3QOUQsDd/LH38YEAhYDLeaajdDeBuvNHIeDu8cnexwcCFAIu51l3R0L73D1AKQTczR97Hx8IUAi4nGc6SncTqDt/FALuHp/sfXwgQCHgcp51dyS0z90DlELA3fyx9/GBAIWAy3mmo3Q3gbrzRyHg7vHJ3scHAhQCLudZd0dC+9w9QCkE3M0fex8fCFAIuJxnOkp3E6g7fxQC7h6f7H18IEAh4HKedXcktM/dA5RCwN38sffxgQCFgMt5pqN0N4G680ch4O7xyd7HBwIUAi7nWXdHQvvcPUApBNzNH3sfHwhQCLicZzpKdxOoO38UAu4en+x9fCBAIeBynnV3JLTP3QOUQsDd/LH38YGA9kIgS5YscuLECW3ZvOGGG+Tq1au0z6UIkD+XEvdftzNnzizHjx+XZMmSudsQ9j6uEdBeCFjJ7sGDB6VQoULy5Zdfyr333mtl05a0RfssgTlmjYC/woULy44dO6RIkSIxa8euinW3zy5c2a7+CFAImMjxhg0bpFmzZjJs2DB58sknTazZGVXRPmfwEGkv4oG/5s2by5AhQ6Rz586RwsT7iEDcIUAhYCLl8+bNk4kTJ0rBggVl1qxZJtbsjKponzN4iLQX8cTfzJkzGa6PdKDwvrhDgELARMrHjh0r3377rWzatEm+//57E2t2RlW0zxk8RNoLX/4OHDignaPU3b5Ieed9RCAYAhQCwRAK4/d9+vSR9OnTy+jRo2Xv3r2CRCKdCu1zN5u+/O3Zs0eQSKtT6du3r9x5553y0ksvyXfffaedfTpxRVuchQCFgIl8tG3bVqpUqSJLly6VDh06SL169Uys3f6qaJ/9HETTA935a9eunVSuXFnb5y8a7nkvEUgKAQoBE8dH1apVZejQobJt2za1ZXH8+PEm1m5/VbTPfg6i6YHu/FWrVk0GDx4sX3zxhXr+xo0bp93yRzT8814iEAgBCgETxwaSBJcvX65eQv3795etW7eaWLv9VdE++zmIpgfY2rps2TJtxyfse+edd+TkyZMyYMAA2bx5M4VANAOG98YNAhQCJlJ9++23y5EjRyR16tSCf587d079W5dC+9zN5B133CGHDh2Sm266SfDvs2fPqn/rUnS3TxeeaIfzEKAQMImTixcvyi233CL//POPqrFcuXIyatQolTOgQ6F97mYR/N16661y6dIlNUvWcXz62le+fHl54YUXBMshLESACCSNAIWASSPk6NGj6qWDiABKz5491a6Bfv36mdSCvdXQPnvxj7Z1g7/Dhw8rIaDj+ESOACIesK9Xr16SKVMmwU4CHv8b7ejh/bojQCFgEsM4OwB5AZ999pmqccWKFTJjxgxZtWqVSS3YWw3tsxf/aFvXnT+cmogTBTdu3Kgcv/H8rVy5kkIg2sHD+7VHgELAJIqRpLRw4UJZsmSJqhEJg0iuQ56ADoX2uZtFf/whuQ55AjrMmA37Fi9erOzB86eTfe4efey90xGgEDCJoUmTJsm+ffvUEcNGueeee9QuAh0+QET7TBooNlXjj798+fKpXQQ6jc8JEyZ4hQ3sg0DQ8QNLNg0jNqspAhQCJhGL/cspUqRQ5wgYBQe4lC1bVosPENE+kwaKTdXozh+WBZInT66WB4wIBw4YKlOmjBbPn03Dhs3GCQIUAiYRbZza1rp1a2+NU6dOlc8//1yLDxDRPpMGik3V6M6fcaqgv+ePHyCyadCxWdcgQCFgElWPPPKI9OjRQ2rUqOGtER8geuyxx7T4ABHtM2mg2FRNUvzp8AGihx9+WHr37n3d89egQQPZv3+/FnkQNg0dNhsHCFAImERy8eLF1cy/WLFiCWrEITw6fICI9rn7A1IlSpQQzIwTj08cwqPDB3pg35tvvikYp75FF/tMek2xGiLgFwEKAZMGBr7ktmvXruu+OFinTh0tPkBE+9z9AamsWbPKzp07r/siny7jM5B9devWlfbt22v3ATCTXlushggoBCgETBoISFC6du3adbXhk6g6fICI9rn7A1I33HCDXLly5boQuS7jM5B9Y8aMkV9++YUfIDLpPcdq9ESAQsAEXnFqW8WKFeWnn366rjYcdOL2DxDRPnd/QMrg78cff7xOCOgyPitVqiQ//PCDX/v4ASITXnKsQmsEKARMoHfHjh3SpUsX2b59+3W14Yx3t3+AiPa5+wNSwfhz+weIsDOnW7du6vPfiQ9HwvPndvtMeEWxCiKQJAIUAiYMkNWrV8uUKVMCHifs9g+80D53f0AqXvgLdJwwP0BkwkuOVWiNAIWACfQiWxmzkunTp/utzfcDL5cvX1bX4PAhtxTa9/8fkCJ/zhu1xvicNm2a322Cvh8gQp6E254/5yHOHumGAIWACYwOHz5c1eJ7qqBRLRzHuHHjZPbs2ZIjRw75+uuvVfKSmwrtiy/+jh8/7qp998HG5/jx49XWXuP5c5t9bnpXsK/uRIBCwATeOnbsKKVKlbruKFMkaWFfM9YtMRP566+/1JHDxhcKTWjakipon778Yf89iu/4/PTTT10lBDp16qSOEsY2Qd+C508H+yx5yNlIXCNAIWAC/Tg9sE2bNn73KmN71uTJk1VG8y233KJeVpihuKnQPr35w4eyfv75Z9eOz6TOCsD2QXyIyNc+ROh0+OKim94h7KuzEaAQMIEfJAPCuWO276/g2OEvv/xSsEzw+uuvS4sWLUxo1boqaJ/+/OGwIUQF3Dg+kQw4duxYwTj1V2rWrCnYOQH7IHpatmxp3cPDloiACxCgEDCBpDx58sgnn3wiuXPn9lvbmTNn5L777hP8DUHgts++0j5383fXXXfJxx9/nOT4xJj89ddf1emDbvtsL+xbv369YJz6K3ju3GyfCa8oVkEEkkSAQsCEAYIw4z///JPkToBNmzbJo48+Kn/88YcJLVpbBe0TcTN/OHXv0qVLkjJlyoADx7Dv999/d13YPNCpgr7Gwr5atWrJb7/95jr7rH3a2Vo8IkAhECXrOD4YM6jTp08HrQmzlurVqwe9zkkX0L7/Z8Ot/CEadfLkyaAO0K32ISEQOQDB1v3daJ+T3gXsi74IUAgE4TZfvnyO/oxwgQIF1NcNIy20L1LkzLkvWv7y588v+IywUwvs27NnT1AnHaj/utvnVN7Yr/hCgEIgCN+YZZw7dy7gVRs3bpRXX31Vli9fbsvIwfHF/j52FGpnaJ+7+UNY/OzZswEdrd3jE8f7+vvYUajjM1T7li1bFrHYCLUv/q6L1r5o2ua9RMAsBCgEohQCCxYsUOvHkyZNMouTsOqJtRCgfWHREfbF0fIXzFHazV+0jjJU+7DbIdjSQNjkhHBDtPaF0AQvIQIxR4BCIEohgG1LFy5c8HuqYMzZ8zQQrSMJFhGgfbFlMVr+gjlKu/mL1lGGYh8+LDRw4MDYEhWg9mjts6XTbJQIJEKAQiBKIdC3b1/B9qXOnTvbMriidSTBhADtiy2t0fIXzFHazV+0jjKYff369ZN77rlHOnToEFuiKARswZeNWoMAhUCUQgAnBWJbUoMGDaxhLFEr0TqSYEKA9sWW1mj5C+Yo7eYv1kKgbdu2UqdOHduev2jti+3oYu1EIDQEKASiFAJ4CWFWUqFChdAQN/mqaB1JMCFA+0wmzGQhF0wI2M1ftI4ymH04XhhRD7uev2jti+3oYu1EIDQEKASiFAJFixaVVatWSc6cOUND3OSrYi0EaJ/JhFksBIoVKyYrV660bXxG6yiDCQHYt2LFCsmVK1dsieLSgC34slFrEKAQiFIIZM6cWQ4dOiRp0qSxhjGTHUmwiADtiy2t0Qq5YI4yS5Ys6hyMtGnTxtaQGDnKUOw7cuSIpE6d2pX22dJpNkoEEiFAIRCFEMBxrIULF5Zjx47ZNrCidSRJCQHaF3tao+UvKUcJ/nDG/o8//mjL1jqgF8uIAOxDRODw4cOutS/2I4wtEIHgCFAIRCEE8AJq3Lix+lCLXSVaR5KUEKB9sWc1Wv6SEgIGf/jynh177GMtBBDpaNasmWzfvt219sV+hLEFIhAcAQqBKIQADhJ66aWXVI6AXSVaR5KUEKB9sWc1Wv6SEgJO4C+WEQHDPuRAuFXoxH6EsQUiEBwBCoEohMCSJUtk3bp1MnXq1OBIx+iKaB1JUkKA9sWINJ9qo+UvKSHgBP5iKQRwauKGDRtkypQpFAKxH6psQWMEKASiEAI41vT48ePy4osv2jZEonUkSQkB2hd7WqPlLykh4AT+YikEYN+pU6dk+PDhFAKxH6psQWMEKASiEAJDhgxRyVA9evSwbYhE60iSEgK0L/a0RstfUkLACfzFUggMHTpUMmTIIE8//XTsiQrQQrT22dZxNkwEfBCgEIhCCHTt2lUdZIKEJbtKtI4kKSFA+2LParT8JSUEnMBftI4yKftwrHflypVtff6itS/2I4wtEIHgCFAIRCEE7D61DV2P1pEkJQRoX/AHKNorouUvKUfpBP6idZRJ2Wf3qYLgPlr7oh0/vJ8ImIEAhUAUQuD++++XefPmqY+e2FVCdST4Qpu/Q1eSEgK0L/asRstfUo7SCfyF6igDjc+k7CtVqpTMnz9f8uXLF3uiuDRgG8ZsOPYIUAhEIQRy586tzhC48847Y89UgBZCdSTp0qWTAQMGSLdu3RIIgqSEAO2LPa2h8ofr+vfvfx1/STnKPHnyqD326dOnj70hUTrKSO3btWuXYGzbVUIVOnb1j+0SgVAQoBCIUAhcunRJsmfPLqdPnw4F55hdE6ojgcNPnjy5pEqVSlq2bCn4Tj2OnQ0kBGhfzChLUHGo/MHh409i/gIJAfCXI0cOOXnypG0Z9eGEzhPb98orr8gtt9yibD579ux1NsA+CFXs2rHrDIFw7LNmNLEVIhAZAhQCEQoBHNuKNdivvvoqMuRNuguOJJySMWNGteUKfy9atEiqVq0q586du64K2hcOqpFfawZ/v/7663XO0OBv9+7dtjvKa9euhQyQ7/hcuHChVK9e3a8QgH3IEUBEwG4h0KJFC6lZs6bUqFHD1uhLyCDzQiKQCAEKgQiFwOeff672L3/wwQe2DqpQZ5R4WRYsWFC9rKpUqaKyrRFSDRQRoH3W0Boqf5gZFyhQ4Dr+As2YncJfqKHzcO3DqYIvvPCCvP/++7YLgWnTpsnq1asFfZo+fbrUr1/fmsHDVoiASQhQCEQoBHCs6bJly2T27NkmURFZNaE6kt9++83vWmogIUD7IuMj3Lui5S+QEHAKf6EKgUDjM5B9ePZg46xZs2wXAleuXFF92Ldvnzz66KPSrl07GThwoK39Cncc8vr4RoBCIEIhMGPGDNmzZ4+MGzfO1hEUqiMJ1MlAQoD2WUNrtPwFcpRO4S9UIRAI7aTsO3DggPrWh91LA4YQgA0nTpyQBg0aSP78+WXmzJm29s2aEcxWdECAQiBCIYCwZIoUKaRfv362joNoHUkgIUD7rKE1Wv4COUqn8BcrIQD7sB22d+/e1hAVoBV/9l24cEGqVaumIgNPPvkkxYCtDLHxUBCgEIhQCDjh1DZ0PVpHEkgI0L5QHp/or4mWv0BCwCn8xUoI4FjhBx54wNZTBcF+IPsOHjwolSpVkvXr16vcHBYi4GQEKAQiFAKNGjWSLl26qKxmO0u0jiSQEKB91rAaLX+BhIBT+IuVEED4vXv37irp1c6SlH1YGsCHkTZv3iw33XSTnd1k20QgSQQoBCIUAlD7kyZNkiJFitg6xKJ1JIGEAO2zhtZo+QskBJzCX6yEAKIBkydPlvvuu88aosJYGvC9tEmTJnL33XerL5TamctgK0hs3PEIUAhEKASQDPTJJ59I1qxZbSU5WkcSSAjQPmtojZa/QEIAWw0//vhj28dnrIQA7Nu4caNkypTJGqIiFAJIHixUqJB89913kiVLFlv7ysaJQCAEKAQiFAJ4gfs7iMfqoRatIwkkBGifNUxGy18gIQAH7O9EPmus+v9WYiUE3GRfr169BIcqYYcRowJWj0C2FwoCFAIRCAGcavbII48olW93idaR+BMCtM86VqPlz58QMPj79ttvbXc8sRACTjlVEKMkFPsYFbDueWJLkSFAIRCBEMCxpti2hNCr3SVaR+JPCNA+61iNlj9/QsBJ/IXiKJNC2599O3bsUB/Q+vDDD10jdBgVsO6ZYkvhI0AhEIEQ+Oijj9RhITgL3e4SrSPxJwRon3WsRsufP0fpJP5iIQRwrPDcuXNlwYIFrhECRlTghx9+UB9TYiECTkKAQiACIfDWW28JznLHrgG7S7SOxJ8QoH3WsRotf/6EgJP4i4UQgH2ICrz66quuEQIYUdjyWK9ePWnVqpXt/bZuhLMlNyBAIRCBEMCxpih2nyqIPkTrSPwJAdpn3aMbLX/+hICT+IuFEHCrfStWrFCTBycsaVg3wtmSGxCgEIhACOAgk2LFiknbtm1t5zhaR+JPCNA+62iNlj9/QsBJ/MVCCPTo0UNKliwpTzzxhHVEBWgpHPsuXrwoOXPmlJ07d0qOHDls7zs7QAQMBCgEIhACLVu2lObNm6svjdldonUk/oQA7bOO1Wj58ycEnMRfOI7SH+r+7GvWrJkS4Q8//LB1RJkgBFBFp06d1AeJkDzIrYS208cO/IcAhUAEQuChhx6SUaNGSalSpWwfSNE6En9CgPZZR2u0/PlzlE7iLxZCAMd6jx49WkqXLm0dUSYJgU2bNkm3bt1UVIBCwHb62AEKgdDGgD9HWbRoUVm1apUK89ldonUktM9eBqPlz58QwLLVypUrHTE+YyEEYB/W23PlymUveZ7WI7EPp5Hi+wN58uSxvf/sABEAAowIRBARwMv79OnT6jPEdpdoHYk/IUD7rGM1Wv78CQE4p5MnT0rKlCmtM8SkGXPiagLZ54RTE9HXSIQAPk+MjyVx94Dtw5MdYEQgtDGA88GxB9ipJXPmzPLLL79E3D3aFzF0ptwYLX+YXUbDvylGJFEJ7Dt+/HjEYXAd7cMZCPhOCc4i4fJArEcg6w8FAUYEQkHJ5xoc24pkpW+++SbMO91xOe1zB0+Bemnw9/XXX2vpZHbv3i2YUbt5jf3o0aNSrVo1OXToUMgcYcuhvwlJ+vTppUyZMoK/fcvBgwfV8kONGjUEYixQuXDhgixbtkx9xRFLLij4f5o0adS9dhfkVAAnJ0RPgOmWLVsEOTi6fUCKQiDMkb5+/XqVqLR27dow73TH5bTPHTwF6qXu/MEhvvLKK4LTE908m77rrrvUeQL33HNPSAMOwgFRBH8FS5Q402TkyJFeTBB1aNOmjWA8VK1aNWAbECXoy5AhQ2To0KHqfnw2GflPOELdSozRF+ymGDt2rDd/AqJv9uzZcvnyZcEykZ3FwHTdunUKUyuxibXdFAJhIjxnzhzZsGGDzJo1K8w73XE57XMHT4F6GS/8uT2sDgeHmTy2E4biUAwhgGOVfWf4yJXAAUvbt29XCcy1a9dWQwOREySM4qyFpJIS/QmBCRMmyG233Wb5LHzEiBEybNgwwcwb4gQFNuDbGRAqoeAUy6eXQiCW6Lqs7hdeeEEQTsP2QR0L7XM3q7rzN3z4cDU7hNOw2zFEM1IgZD777LOQ8wQMIXD48OHrHPu+ffukUKFC6vhihPXDwcWfEIjGrmju9ScEoqnP7HspBMxG1MX1PfPMM5I3b17B6W06FtrnblZ15w978HEgT9euXV1NFL6V8NRTT8m2bdtCctxJCQGcWHjzzTdLrVq11AwaQgDLDogUIMxevHhxhRWuGzNmjCxdulTOnz+vzkFBH3Aug+/SAA5Ly5Qpk4wbN07VZXw5sUqVKtK/f3+VP4DfVaxYUU2KEEFAnefOnVO5Cq1bt5Ynn3zyul0r+FgUvg/x/fffS+rUqQX1oV2st6ONd999V44cOSJly5ZVf9DGyy+/LGvWrFFLHIbAQZv4nWFHunTppEWLFuqdbOyUQT4F7Ojbt6/gQ09vvvmm2umFaAqua9q0aQLckYsAOxB9gNBMmzatypHAkkuGDBkUfhQCrn7kzO08EgXr16+vBpKOhfa5m1Xd+WvSpIl69ho2bOhqon777TcV/g51G2RSQuDFF1+UQYMGyfz5870Ozl+OAE5iRG4TnCZyE+D88PE0OFbkBwTKEUDbcNBwrvfee68gioAcDdSB01W3bt3qrRPRiXnz5qkPLC1ZssTrbOHwn3/+ebUcAsECu+Gcs2XLphLwpk+frr7mCkcMbnFYFJx4+/btE+QIALcHHnhADhw4oNrEsgfaXLRokfo5BMONN96o+ohcB0RKjh07pnDBVx+xdAZBgGUU9APiAlGURo0aSeHChVVUBWICuEBMVapUSeVKID+BQsDVj5y5nUeSCB4YqFkdC+1zN6u684cXM5YHkkqAcwuD2BqJ3Q+hZKAbQgAzZcymjYL1dDg6X0fuO3s1kgUNZ+c788d1yMZ/++23k0wWNNrG7Lx3795y5coVdYaKEcr3FSCo84033pCnn35aFi9erJw6ZuSI4iDbfvny5d5Zu9EnRClQL5IdE+cIJE4WROQAUYXEbaKO5557TkU8UBfahBC49dZbFcZGzgFEAxx+nTp1VF8gBPD/v/76S7766it1vVEQEYBwOnPmjDovgkLALU9WjPoJxYxQEQoUKLJ3c+fOHaPWrK+W9lmPuZkt+vKHFx5mMLqOT9gH56bDqXxwsAMGDJAHH3ww6HDwJwTgoPAHM3UsV8JRlStXTtWVOCKAMDlm3JhR+zo7I78gqV0DRtu///57gnvz5csnyZMnlz179iQIs2MJ4s477/Q6/vHjx8uzzz4rGzduVMsJvgVLGdi6iPHqL0cgsRBABAFOGU7bdxcBwvk4aTJjxozK8f/4449KCDRu3FiQYOmbN4HrjHGEOiCmcH+BAgUS9A0RCexQMZIXKQSCDlO9L0CYCetsiAKsXr1a7RooX768NkbTPndTCf5KlCihTqvTdXwa9sFxIJSMELPbi5HvgHX6YAl+SS0NIMRft25d5ZQRMsdplYmFwP33369C4kg2TNwW7hs8eHCSSwNY18cs29f54j6ICuP8AV8+EFqHc//uu++kc+fOMmPGDO/MOhBvwYTAH3/8oQQGdkJg11ZiO4ARlin+/PNPrxBAToPvtkq0bWyPhKA07MEzhLG1d+9etayAHA6ILBScYwDhQCHg9ifOhP4/8sgjKkyEwYewGJJpoBSdcMywCeYJ7TMDRfvq8McfXt5OOGbYDFSwFm2cHWA8f263D8lpWHs3kvKSwikpIYD7jNmrEY5/6623EpwjgLXy//3vfxELAfQTDjGxEMBsHuvq/oQMkvggdox1fkSukNQYqRA4deqUyilISghgkobZvRER8BU4RruJhQB4QMQCwgY5EPiDREoczjV16lRGBMx4gHWp45133pEOHTqo0BoSWZBognU5XQrtczeT8cBfx44dVWa6Ls9fOEcNBxMCRjIe6kQSXWIhgIgBJjII7yOZzihwzjgzIFhEwJ8QwH0QGIjQJBYCeE9CCKBg+QOHsOFsAwgH3wIRhPwBCL1QcgTQJqJD/g47wlr/1atXVRQiVCGA468hDNAvJAdi2cEoOOMBkQwuDbj73Whq76EyEXL7+++/1QDfv3+/d6Cb2pBNldE+m4A3qVnwh5fYpUuX1LjE2i/Gqy5FR/swe0U43HdrXCC+khICcLpYqkRYG0sDyOZPvDRgJPAZQsFw3NOmTVOh+2A5Av6EAHZwYAsf1uSNLYroP8LqWIrA77E+D6eNRMHEiYpwsBABXbp0kYkTJ4YkBLAb4b333lOzdeQoGAXLI1gag1icPHmyN1kwWEQAZzkA28RLCBBI+MosllK4NKDLW8QkO7A/FttUMGh0igYY8NA+kwaKTdXozh+OzEXCmy7PXyRCANvcjMRlDDMk5uHIW6xn42wFOFQ4+cRCANfBOcOhI3kPCYoQIH369FFRllC2DyZeGoAzhgDBuQKoEzsakMSHOn/66Sf54osvpEiRIuppwNZFJFnjIDZEUzETx5kXuA73YA0eIfoePXqob0kgHwuRjcTbBxFVgMNHUiB2MSA/AUmIGBPXrl1T31dAXcb2wWBCAMsNiAigPhzyhCRU7MJAFAOnNQI39A8RA+YI2PRic1qzeBAQlkLSjBH2clofo+kP7YtoTzMFAAAgAElEQVQGPfvvBX8lS5ZUL3udogEGsrrZh6gNZrgIZYeaLJh4lOE9hDVtOEwIQaMef+cIYHcBtgsa30nBNkQ4cCQrRhIRQF+QFIg8ADhNoyD7HhEI3y2emGHjOmxV/Oeff9SluA7O19jpAAeM2TlyP2AXzhrAcmzibw2gTfQZZw4YBYciIRJgfLshVCGAnAdsY0Q7EEQoEFo4EKlChQpq++OkSZPU/43lFn5rwP53ne09gIrX9QwBgEv7bB9iUXWA/EUFn6U3R/IVQjM6CEEApwtH7BtdiKZu1IlQP3YKZM+ePWBVWMbAdTiBMNAWV/QN/Qo22TLahB2Jv74Yri1YeoIwQ8FWTN+zGsKty43Xa//RIawjQWE6tWAQY20v0kL7IkXOnPvigb/E+8TDQQ5rwFi3dmoBf9HYF41d4Z4uGE1bvJcIJIWA9kIAoTIj5OPEoYAQLta2Ii20L1LkzLlPd/6QgIiT5IKFrgOhidBrqMfomsNIeLVEa194rV1/NfCJBt9o2+f9RAAIUAjYPA50dyS0L+kB5nQhF62jpBBImn8KAZtfwGxeIUAhYPNAoKN0t6PUnT8Kgdi9ILA0kDNnTrW3P9KIS+x6x5rjCQEKAZvZ1t2R0D53Cx0Kgdi9ILD9DnvtQ9k1ELtesGYiwIiA7WOAjtLdjlJ3/igEYveKwEl2Y8eOVSfaMSIQO5xZc3AEGBEIjlFMr9DdkdA+dwsdCoHYPf7YQ4+T7fA3hUDscGbNwRGgEAiOUUyvoKN0t6PUnT8Kgdg9/jheGDuGcJgPhUDscGbNwRGgEAiOUUyv0N2R0D53Cx0Kgdg9/jhK94EHHlBH6lIIxA5n1hwcAQqB4BjF9Ao6Snc7St35oxCI3eOP8/d79eolNWvWjF0jrJkIhIAAhUAIIMXyEt0dCe1zt9ChEIjd0w9ssWMgS5YssWuENROBEBCgEAgBpFheQkfpbkepO38UArF5+vEVvebNm3PrYGzgZa1hIkAhECZgZl+uuyOhfe4WOhQCZj/x/9aHT+7iGyP4Sh/zA2KDMWsNHQEKgdCxismVdJTudpS680chEJPHXn1+uGnTpuoPCxGwGwEKAZsZ0N2R0D53Cx0KAfNfEPjkbcaMGWX//v2SIUMG8xtgjUQgTAQoBMIEzOzL6Sjd7Sh1549CwOwnXmTTpk3SrVs32blzJ5cFzIeXNUaAAIVABKCZeYvujoT2uVvoUAiY+bT/W9dTTz0luXLlkr59+1IImA8va4wAAQqBCEAz85ZAjvLChQuSNm3aoE05/TO2tE9PIRDq+ORniBPyD9zwxUFuGwz6auMFFiJAIWAh2P6aSuwo161bJ8OGDZOvvvpKzp8/H7R3bhMCtC8hpU7nL3FEwJe/P/74I+iMlkIgId/Tpk2TtWvXyuLFi4NiF/Th5wVEwCQEKARMAjLSaiAETp8+Lf3795clS5YIXq44fxzF+Dupup3uSGif+yMCJ0+elAEDBlw3Pq9evRrUmVEIJOT//vvvF3xjgKcJRvrG5H2xQMD1QgAZuPv27VMZuDik4+jRo3Ls2DFBCO7MmTPq/+fOnYsFdlHXeenSJcmcObOkSZNG/vzzT0mdOrVcvHgx7HppX9iQmXJDPPCHU+9uvvnmqMbnr7/+GlQwmEJIBJVEmwMRTpM7duyQJk2ayKFDhxyLRzj28Fp9EHCdEPjtt99k48aNsmHDBkGY8uDBg5I3b14pUKCAlCpVSrJnzy7ZsmVT6+vp06eXPHnyOFYIYBgZM+Zt27YpIbN+/XrZvn27EjI6RQRon/+XhtMjOnCUiAh88cUX141PRgTCcwQ4O6By5cpqxwAPEQoPO14dWwRcIQSw3WbFihXK8WOGX6VKFfUHD9W9994rKVKkCIiS01+0gZLpEM2AkAlWaF8whGL7e935CzRjDnV8cmng3/GHd1irVq1UkuBNN90U20HJ2olAmAg4VgjgwXnnnXdk6dKlyiE2atRIqlevLmXLlg3LRLc6ylCNpH2hIhWb63TfHhlt6JxC4N9xV758eenUqZO0bt2a0YDYPIqsNQoEHCUEEPZ/88035dVXX/U6fxzBidB/pIWOMlLkzLlPd0epu30UAtE/B5jQvPDCCzxAKHooWUOMEHCEEMA6/6RJk2T27NlSu3Zt6d69u1rvN6NQCJiBYuR16O4odbePQiDysY87kcxcqFAhmTp1qlStWjW6yng3EYgRArYKAawz9unTR9asWSNt2rRRAgBZ9GYWCgEz0Qy/Lt0dpe72UQiEP+Z97xgyZIjs2rVLVq5cySWB6KDk3TFEwDYhgCWAQYMGKQEwcODAkE7RiwQHCoFIUDPvHt0dpe72UQhE/ix8/vnn6iuDOByMHxeKHEfeGXsELBcCJ06ckMaNGyvLJk+erLL+Y1koBGKJbvC6dXeUuttHIRB8jPu7Att/77vvPpkwYYJa7mQhAk5GwFIhABGAdbIOHTpI7969LcGFQsASmAM2oruj1N0+CoHInp927dpJqlSp5I033uCSQGQQ8i4LEbBMCBgioHPnzioXwKpCIWAV0v7b0d1R6m4fhUD4z8+8efNk+PDhapfALbfcEn4FvIMIWIyAZUKgY8eOKhFw5MiRlppIIWAp3Nc1pruj1N0+CoHwnh8jL2D16tVSvHjx8G7m1UTAJgQsEQI4Px9nlu/du9f0XQHBcKMQCIZQbH+vu6PU3T4KgdCfD3zjBAcHYTmAeQGh48Yr7UfAEiEAdTxlyhRZtWqV5RZTCFgOeYIGdXeUuttHIRDa84PkQIgA5AZg6ZPfEggNN17lDAQsEQL46haWBrCf1upCIWA14gnb091R6m4fhUDw5weHBtWtW1dy5crF5MDgcPEKByJgiRDAg4L1smHDhknDhg0thYFCwFK4mSMQJtxOH58UAkkTindb8+bN1ZdC58+fLylTpgxzBPByImA/ApYIAZiJqECdOnXk9ddft1QMOP1Fq/uMkvYl/ZA7fXxSCATmjyLAfgfGHpiDgGVCAN3dvXu3EgNIpBk1apSkS5fOHCuSqMXpL1o6Snc7St35oxDwPz4pAmL+6mYDFiJgqRCAXfjCIL4v8O6776qDhWLxfQFf/CgELBxNfprS3VHqbh+FwPWDmiLA3ncKWzcfAcuFgGGC7xcHa9asqURB5cqVJUWKFKZaSSFgKpxhV6a7o9TdPgqBhEMeExkkBmbKlIk5AWG/DXiDUxGwTQgYgODBwklcCxculH379qllg/r160uNGjUkderUUeOG8wtwqqFTCw5Z+uWXXyLuHu2LGDpTbowH/o4fPx7xdrisWbNGNb5NISmJSsBfqPYdPXpUHn30UalVq5aMGTMmYkxibRPrJwLhImC7EPDtMA7keOedd+S9994TnNBVtmxZefDBB1WkoFSpUqZHC8IFi9cTASIQnwgg2RlfEuzbt6907dqVIiA+h4G2VjtKCPiijAM6Nm/eLOvWrVN/sJRQpUoVJQ4gCsqUKWNJsqG2zNMwIkAEQkJgxYoV0qVLF3VGAKKVLERANwQcKwQSA40lhI0bN6pIAdQ5/s6ePbsSBRAHRYsWVZ80tmIngm6DgPYQASLgH4ERI0bI9OnTZdmyZVK6dGnCRAS0RMA1QsAf+t9++61s27ZNbUuEOMD/06dPL8WKFVOiACIhf/78UqBAAS3Jo1FEgAjEBgFEJDt16iRHjhxRIgC5OCxEQFcEXC0E/JGCJYTvvvvOKwyQgIgkn7x58ypBgD8QCRAI+FnatGl15ZZ2EQEiEAECyFXCzgBEGadNm8bTAiPAkLe4CwHthIA/+PH1QwiCQ4cOqagB/m38QQQB4gCiIHfu3Orvu+++myLBXeOYvSUCpiCAJccmTZpIt27dpHfv3kwKNAVVVuJ0BOJCCCRFAtT//v37VTJi4j/INzAEAkSC8QcfF8G/zT7zwOmDhf0jAjojMGfOHOnZs6c6HwBnm7AQgXhBIO6FQFJE4/wBiIMffvhBLS8Yf/Az/BvJioY4MP6Nv7Nly6Z+h2gDCxEgAs5HYMiQIbJgwQJZuXKlFCxY0PkdZg+JgIkIUAhEAaYhDCAUEFmAcMDfxh8kHEEQGH8gGnCACf6Pk8nwN/7PQgSIgD0I4Blt166dOvQISYEZMmSwpyNslQjYiACFQAzBx5nkhij4+eefE4gEQzhATPgKBAgDQyzgbwgG42cx7CqrJgJxhwCEO/IBsNQ3c+ZMJgXG3QigwQYCFAIOGAuJxcKZM2e8EQb824g0GBEELDlAHEBA4N/4Y0QYkNfAJQkHkMouOBoBJAvjpMCGDRsKzgrAN0lYiEC8IkAh4CLmIQggDPAHyxGGSMDfiCwYv8N1viLBiCgYogGC4rbbblOCAf9m0qOLBgG7GjUC2DmEbwYMGDBAOnfuHHV9rIAIuB0BCgG3Mxig/8bSw9mzZ70RBZzOaIgH/BuCAX8gBAxRYEQUIB7wb/yN36VJk0aJC5y7wIiDpoMmDszatGmTOiMA5wM0atQoDiymiUQgOAIUAsEx0v4KI5cBIuH3339XyxIQCviDSAMSqozlCkNMIJIAUWAIBfwbQgFfjPQVD77XaQ8kDXQ0AhAByAmYO3eu+pgZCxEgAv8iQCHAkRARAogkGFGFkydPCg5tgmjA38bvjN9DSEBcIJIAwQBxAMFgiARjycL4XapUqbzXcFdFRPTwpkQIGCJg0aJFUrFiReJDBIiADwIUAhwOliFgRBYQXcC/sZMCfycWDolFBZYojGUKQ0BgOQMRCBTjcCec34CfG3kP+JuFCFAEcAwQgaQRoBDgCHE8AoZwgGCASICAwHIGIhDGskagvw1hYAgG/G0IBUQbICyMSAXEBpIojeUN33sdDxI76BeB1atXS8eOHYWRAA4QIhAYAQoBjo7/a+9MoHWq3j/+3J+hiEqERAMyZogUDZpLI5WyKhpoUWo1p5aKVmlYGjStBqWBSqRBiuYoqZA0USFF0TyhkfzXd/ff73q9Lve89573fc97zuesddd1793n2c/+PNva3/PsZ5831gS8QNAgJRx06cSFLm1X6O9eaPi6CJ+5SL/Xi4d00SDh4EVDutCQwND2hs9kpLeJNeyIDY5MQMQCgjuRJYAQiGxocCxKBLxo8FkJFVVKOPiaiHSh4dtkCov0DMPGshISEKqXqF27dkpoICaymw06Iti1a1cbP348hYHZoaN1AgkgBBIYdIZcGALpGQYvLHyh5YayEj474QWHFwT+GKf/7rMP6QWZlSpVSuSRTzHr0KGD6fMDevfuXZhg0ysEiogAQqCIgoWrEPCCwAuEVatWua0Nn33wgkJCQ2313bf1IiH9fRDpxzu1paEsRLG/aGrQoEG2YMEC99kBvDGQ/zMQKJsAQqBsRrSAQCwIeJGgWgkvIPw7IzLfE6E2/qRG+mdf+Ndb6/38/o2Vahela6uttrL333/fGjVqFCW38AUCkSWAEIhsaHAMAoUlkP7K6vRXWqd/yqb+rct/DoayDZkfye0zEPkYjbIfbdu2tUWLFpENyAdw+ogFAYRALMLIICBQOAL+hVH+EzaVTfAfpOX/rdoGCYKmTZumvjdv3tz9HMZLo7QNomLMt99+232s8KeffooQKNyUoOciI4AQKLKA4S4EipGAMgcSBcos6PvChQtNnwCo7xISLVq0cF8777yz+2rXrp3LLAS9lL1o2bKle0X28OHD7eyzz+bDtILCo13iCSAEEj8FAACBwhJQoaMEwccff2w69ieBMHv2bFfs2L59+9TX7rvv7sSCv7T4p38Alt7dsHbtWqtatarVrVvXZQWqVKlS2MHROwSKgABCoAiChIsQSCIBLfQq+ps7d677Utpf2YPzzjvPfXLgnnvuaU899ZR16dLF4WnSpIl9/vnn7nufPn3c8UFODSRx5jDmbAkgBLIlRnsIQKBgBJQ5uOaaa9wnCGqRr169uuldDNWqVbPjjjvOJkyY4I5A6vhgrVq1CuYnHUOgmAggBIopWvgKAQi4rIAW+7///tvR2GOPPUyvEx41apT179/fZQKGDh1KNoC5AoGABBACAUHRDAIQiA6BadOm2eWXX+62C/TGxhEjRri3COoUwuLFi8kGRCdUeFIEBBACRRAkXIQABEon4LcKJk+e7OoI9L1fv37gggAEsiCAEMgCFk0hAIHsCLRq1tjmL1ic3U1F1FqnGObNm8c2RBHFDFfXJ4AQYFZAAAI5I/C///3P/l46K7YLZZWGu9qaNWtiO76cTQwMR4oAQiBS4cAZCMSLAEIgXvFkNPEkgBCIZ1wZFQQiQQAhEIkw4AQENkoAIcAEgQAEckYAIZAztBiGQGgEEAKhocQQBCCQSQAhwJyAQPQJIASiHyM8hEDREkAIFG3ocDxBBBACCQo2Q4VAvgkgBPJNnP4gkD0BhED2zLgDAhAISAAhEBAUzSBQQAIIgQLCp2sIxJ0AQiDuEWZ8cSCAEIhDFBkDBCJKACEQ0cDgFgTSCCAEmA4QgEDOCCAEcoYWwxAIjQBCIDSUGIIABDIJIASYExCIPgGEQPRjhIcQKFoCCIGiDR2OJ4gAQiBBwWaoEMg3AYRAvonTHwSyJ4AQyJ4Zd0AAAgEJIAQCgqIZBApIACFQQPh0DYG4E0AIxD3CjC8OBBACcYgiY4BARAkgBCIaGNyCQBoBhADTAQIQyBkBhEDO0GIYAqERQAiEhhJDEIBAJgGEAHMCAtEngBCIfozwEAJFSwAhULShw/EEEUAIJCjYDBUC+SaAEAiH+PTp023RokXrGdtyyy2tXbt2tsMOO4TTEVYSSQAhkMiwM2gI5IcAQiAczn379rUHH3zQ1q5dW6rBfffd10aOHGk77bRTOB1iJVEEEAKJCjeDhUB+CSAEwuHthcCjjz5q9evXTxldtWqVTZgwwR566CGrV6+ezZw50xo1ahROp1hJDAGEQGJCzUAhkH8CCIFwmHshoO2BHXfccT2jw4cPt0svvdROPvlke+CBB6ykpCScjrGSCAIIgUSEmUFCoDAEEALhcC9LCKiXtm3b2oIFC+y7776zmjVruo5Xr17ttgwefvhhW758udWoUcOOPfZYu/DCC1Nt1G7//fd3IkL33XrrrbZ06VJT/UG/fv3srLPOSgkL2bvzzjvtsccec/Y23XRT07bEoEGD1hMoo0ePtvvuu8/ZUr+HHHKIXXbZZVarVq1woGAlNAIIgdBQYggCEMgkgBAIZ04EEQJajG+88UabPHmydevWzXV8/PHHu62Do446yrp06WJffPGF20bo2LGjvfjii1atWjXXrlKlStaqVStbuHChnXTSSbb11lvbuHHjbPHixXb77benxMA555xjd999t5144onWpk0b++qrr2zUqFG2xRZb2Lx581Lion///k4EHHzwwbb33nvbN9984/rddtttbcaMGYiBcKZFaFYQAqGhxBAEIIAQyM0cCCIE9KR+9tln2/3332+nnHKKjR071nr37m1DhgyxoUOHpp7qX3jhBTv00EPtqquuck/o2kaQEJBomzNnjlvgdWnxbtasmTVv3tzVHqidFnwt7uPHj0/ZU38XXXSRqX5BT/0vvfSSEyISA3fddVeqnU4+KPMwcOBAGzFiBNsXuZkq5bKKECgXNm6CAASCECAjEIRS2W2CCAGl4k899dSUEOjevbtblH/88UerXr36Op1oG0EnED744IOUENhtt93c03p6fcEee+zhtgBUm6BY6on+33//dXUI2hLQ1kDm5X2VkKhbt+46f5YQmD9/vn399dfOHlc0CCAEohEHvIBALAkgBMIJaxAhoCf8K6+80j2Z9+rVy5o0aeIW8c6dO6/nxNy5c23lypX2119/uQVZGYE+ffqsV2iohVvbA14ISGycfvrp9s8//7h9/7322sskOFR3oO0EXV27drU33njDCYXM65NPPnGZBomTrbbaKhw4WKkwAYRAhRFiAAIQ2BABhEA4cyOIEFAdwKRJk9xTvtL7jRs3dgu2Cv42dIpA2wZ+ayCIENBoVGcgsfHss8/arFmzXEGiCgtVc9CpUyf3gqMlS5bYueeeu8F+VWtA0WA4cyMMKwiBMChiAwIQKJUAQiCciVGWENBTthZ+pe4/++wztwAr1a+neZ0iyBQCv/zyi1u8/RU0I/Dnn3+6hV/ZAF3KKihLoNqEww47zAmRjW1JZPYbDh2sVJQAQqCiBLkfAhDYIAGEQDiTY2NCQIursgFKx48ZM8ZV/Wvh19P+sGHDXGGfUvdeDPzwww+uCFBbB74IMIgQkMDQyQKdTrjuuuvWOVJYu3ZtUz2BTizolMF5553njhkOGDAg1U6iQYWHVatWTW01hEMHKxUlgBCoKEHuhwAEEAI5foGPFwJa0P3TuKBrUZ86dap7Mtd5fy3C6Qu+igJXrFjhFm5V8uu4nxZypfT19H7EEUe42AURAhJ1Wux1r+wdfvjhrsbgtttuc68/9qcV9LZDZSP0TgPfTjUBgwcPXk+s8F8nGgQQAtGIA15AIJYEyAiEE9YNfdaAXjfcvn17VwfQs2fP9TrTewF0XE+nB/zVsGFDt0D7zEE2QkBbEPJlypQpKXvaYrjkkkvclxchaqd+n3766dTnI9SpU8f1u7GahXBoYSVbAgiBbInRHgIQCEwAIRAYVU4bKnMgUaDFuGnTphXuS9sRsqfshOxVrly5VJtB21XYIQxUiABCoEL4uBkCENgYAYQA8wMC0SeAEIh+jPAQAkVLACFQtKHD8QQRQAgkKNgMFQL5JoAQyDdx+oNA9gQQAtkz4w4IQCAgAYRAQFA0g0ABCSAECgifriEQdwIIgbhHmPHFgQBCIA5RZAwQiCgBhEBEA4NbEEgjgBBgOkAAAjkjgBDIGVoMQyA0AgiB0FBiCAIQyCSAEGBOQCD6BBAC0Y8RHkKgaAkgBIo2dDieIAIIgQQFm6FCIN8EEAL5Jk5/EMieAEIge2bcAQEIBCSAEAgIimYQKCABhEAB4dM1BOJOACEQ9wgzvjgQQAjEIYqMAQIRJYAQiGhgcAsCaQQQAkwHCEAgZwQQAjlDi2EIhEYAIRAaSgxBAAKZBBACzAkIRJ8AQiD6McJDCBQtAYRA0YYOxxNEACGQoGAzVAjkmwBCIN/E6Q8C2RNACGTPjDsgAIGABBACAUHRDAIFJIAQKCB8uoZA3AkgBOIeYcYXBwIIgThEkTFAIKIEEAIRDQxuQSCNAEKA6QABCOSMQIMGDWz58uU5s19ow/Xr17dly5ZZSUlJoV2hfwiUmwBCoNzouBECEIgaAWUg1qxZw8IctcDgT6QJIAQiHR6cgwAEsiGAEMiGFm0h8B8BhAAzAQIQiA0BhEBsQslA8kgAIZBH2HQFAQjklgBCILd8sR5PAgiBeMaVUUEgkQQQAokMO4OuIAGEQAUBcjsEIBAdAgiB6MQCT4qHAEKgeGKFpxCAQBkEEAJMEQhkTwAhkD0z7oAABCJKACEQ0cDgVqQJIAQiHR6cgwAEsiGAEMiGFm0h8B8BhAAzAQIQiA0BhEBsQslA8kgAIZBH2HQFAQjklgBCILd8sR5PAgiBeMaVUUEgkQQQAokMO4OuIAGEQAUBcjsEIBAdAgiB6MQCT4qHAEKgeGKFpxCAQBkEEAJMEQhkTwAhkD0z7oAABCJKACEQ0cDgVqQJIAQiHR6cgwAEsiGAEMiGFm0h8B8BhAAzAQIQiA0BhEBsQslA8kgAIZBH2HQFAQiET2DhwoXWokULW7NmjTO+ySab2IoVK6xKlSrhd4ZFCMSQAEIghkFlSBBIGoEePXrYxIkTrVKlSrbPPvvYyy+/bCUlJUnDwHghUC4CCIFyYeMmCEAgSgSUFWjdurVts802duaZZ9qgQYMQAlEKEL5EmgBCINLhwTkIQCAogU6dOtns2bNtxowZ1qVLl6C30Q4CiSeAEEj8FAAABOJBYPr06XbkkUfad999R31APELKKPJEACGQJ9B0AwEI5J7AuHHjrFevXrnviB4gECMCCIEYBZOhQCBqBFo1a2zzFyyOmluh+aPTCvPmzaMeITSiGCoEAYRAIajTJwQSQkDn+v9eOiu2C2WVhru6Y4ucUEjIhI7pMBECMQ0sw4JAFAggBKIQBXyAwMYJIASYIRCAQM4IIARyhhbDEAiNAEIgNJQYggAEMgkgBJgTEIg+AYRA9GOEhxAoWgIIgaINHY4niABCIEHBZqgQyDcBhEC+idMfBLIngBDInhl3QAACAQkgBAKCohkECkgAIVBA+HQNgbgTQAjEPcKMLw4EEAJxiCJjgEBECSAEIhoY3IJAGgGEANMBAhDIGQGEQM7QYhgCoRFACISGEkMQgEAmAYQAcwIC0SeAEIh+jPAQAkVLACFQtKHD8QQRQAgkKNgMFQL5JoAQyDdx+oNA9gQQAtkz4w4IQCAgAYRAQFA0g0ABCSAECgifriEQdwIIgbhHmPHFgQBCIA5RZAwQiCgBhEBEA4NbEEgjgBBgOkAAAjkjgBDIGVoMQyA0AgiB0FBiCAIQyCSAEGBOQCD6BBAC0Y8RHkKgaAkgBIo2dDieIAIIgQQFm6FCIN8EEAL5Jk5/EMieAEIge2bcAQEIBCSAEAgIKotmP/zwg02cONE++ugjW7lypbVo0cIOOeQQ23nnndexsnDhQnvzzTfd3+rXr59FD+E1lX9PPvmktW3b1tq3b58y/Morr9hzzz1nf/zxhx1//PH2008/WY0aNezggw+2kpKS8BzYiCX5tXbtWjvmmGPy1mdeBlaOThAC5YDGLRCAQDACCIFgnIK0Wr16tV111VV24403ugVUC2flypXtl19+cbcPGDDAbr/9dqtSpYr7efTo0XbqqaeaFt399tsvSBeht/niiy+sSZMmdsUVV9jQoUPdgjt58mQ74ogjrFKlSk6gXHbZZTZ8+HDbfvvt7dVXX83Jovz222/bzTffbOPGjUvZl1///vuvLVq0yDRPk3whBJIcfcYOgRwTQAiEB/jkk5vTrrwAAAs/SURBVE+2hx9+2D3hX3vttbbLLrs445988oldcMEFNmXKFDvrrLOcGNCCGwUhIJFy2223WdeuXW3fffd1/vbv39/uu+8+mzt3rssU6FKbLbbYwjTGXGQEDjjgAPv888/XWfTVpzIC55xzTk76DC/yubeEEMg9Y3qAQGIJIATCCb3S6EceeaQTAc8880zqqd9bV7agQ4cO9uGHH9q8efOsZcuWkRACpY2+b9++9uCDD5p8zteTeGlCIJzIxMMKQiAecWQUEIgkAYRAOGHR3vlLL72UWuRLs6otgKlTp7qn6p122qlUIaA9ez0JT5o0yb755htnRjUGyiQoXe8vPckr66Asg+7Zcsst7dhjj7Vzzz3XatasmWp3//33u6f75cuXu22Kzp072+DBg50Q0aU+TjzxROeTRMxJJ51k8+fPd79XhkBbA48++qj7fb169Vz63mcEtK2gLYPXXnvN/vzzT9thhx3skksucXZ8G9nRPS+//LL9/PPPrs9dd93VBg0aZJ06dXI/q//nn3/ebafIP90vO+pTGQH1n9mnOKq9+uzXr59r69sok6EMzEMPPWQPPPCATZgwwVasWOFqNDR29ZGLrEY4M6l0KwiBXNLFNgQSTgAhEM4EqF69ulsold4Oushkbg3oCVwp+lmzZtkpp5xijRo1cou8FrTvv//eCY0DDzzQObzbbru5BVt1B9tss41L4z/yyCNuEdUev3zQIn3ppZe6hbZNmzauVmHUqFH2zz//2Mcff2wNGjSw9BoBiQ0twG+88YapkFE+bL311s5O06ZNbbvttkvVCOjvu+++u9vDVzv5oP6V8RgzZoxbmH/88Udr166d/f77726xlkBRIaXGowX+/ffft8aNGztRoC0VLdYSM3vvvbcpK6E+02sENEZlDvQ72ZdvL7zwgr311ltOAI0YMcKNe9q0abb//vs7Ruqve/fu9uuvvzr/fL/NmjULJ/B5soIQyBNouoFAEgkgBMKJujjus88+WRXTZQoBVcn37NnTLbwXXnhhSlDMnj3bLWoDBw509QXvvvuu+1lP2loAvfDQ3v6zzz7rFlgtkq1atXL7+jNmzEi1UVbi6KOPdlkHLeBffvnlesWCpW0NqHAvXQgcdthhLhPwzjvvpOoIJFo6duzoFn7ZvfLKK23YsGGuGFLZBe+nnvB79+5tylbIB/2+tK2BzGLBPffc0+bMmePGr7H5y9dmKOugosvXX3/dCQG10amMzTff3DUdP368nXDCCXbNNdc4wRNUsIUzQypmBSFQMX7cDQEIbIQAQiCc6RGGENATu57QtRWw6aabphzTAqsFvU+fPi7VrSp6PdHqiVwLuk+xZ45EYmHBggV277332uGHH27VqlVbb7ClnRooSwisWrXKateu7QTF2LFj11lQVf2vzMZee+3lnsaVOVAqPv168cUX7dBDD13npEJZQmDZsmXu1MJpp53mxpO+iPsx+L95IXDTTTetI5RKG2s40c+9FYRA7hnTAwQSSwAhEE7oxVELc/rTd1mWSzs1oEVU6e7p06c7UaATB3ofgX6vp2cJAS2CqqS/4447XKpb+/jaMtBirzS4X/C1RaAMg/bSJSy0OKtNr169XCpfV3mEgLYVlPJPP3K4obFKxKh48r333ltnPGqv44r+yGJZQkDbFXrKv/XWW129RObTvISJTjgo++DbahvEZxw2NNayYhSVvyMEohIJ/IBADAkgBMIJqva6tY+vF+/49wRkWtbT8Z133unS03qKzxQCKqxT0aH22Rs2bOiK2/TVrVs3O+igg1xBnxcCsq2nb20naDtA9QK61F5n/bU1oEs21Y+KCtVeRX0SBY8//rgTBeXZGtB2gNL0ZQkB7ekfddRRtnTpUrffL9/00iK9X+Hiiy+2IUOGZC0E7rnnHldvkCkEtt12W5clQQiEM5+xAgEIJIgAQiCcYKvgTS8S0v63nrhL23/Wy4a0b+739lVUl/5CIdUA3H333W7hTq+CV4q9bt266wgBbSP4FxZpBF999ZV7mZFOCPgagzVr1qROFKiNRICezrU/ryf6mTNnlksIfPvtt6aF98wzz0y9E8FTlNiQUFCBogr/VPio4j1tU/hLQkXCJl1IlJUR0JFL+Xz++efbDTfcsA5fv3WirQrVAZARCGdOYwUCEEgIAYRAOIHWQqzitM0228w9kfvjed66Uv0qsNtkk03ss88+s1q1aq2XEVDqWwV4f/31l1WtWjXl2MiRI+2MM85ICQEvILToabH1okNbCEqPSxCoiFBHCpV9UPt0YaK9dhXQqahwyZIl5SoWbN26tf3222/26aefmk5M+EuvA9ZRQGUidFJBf9NWQvr7CPy2RnpGQKcdPvjgA/v6669TbTOLBeW37MhvXwCofiWsLrroIhMnZQt8jQBbA+HMbaxAAAIxJ4AQCC/ATzzxhFt4tdhrQdIxOF068+6P7en9AEr168rcGvBZBZ2B17FALd56glflvY7W6T0C2grQUTgtkhILOjKnYjzt9Wth1VE6VdZrEdZnBOgMvYSBagdkTxmL66+/3v1Orw4uz9aA96tHjx5uK0N2JGy8bb/Aa+tBokDbIVroVWSoNrfccourW9B9V199tfPLv81Q92rbRKIp8/igP22gWgy9Q0F1DqqD0BHJ5s2bu0yEhIc/PogQCG9uYwkCEIgxAYRAuMHVoq/FTOnp9EvH57R4denSJfXrTCGgFLfqAJ5++mlXBKhLe+p64lVRnU4AaOGWAFAKXtX9vjZAbbVwShhoAdbiKntqI3t6d4AubSeo2E4LsGoZylMsmH4MUE/ielmRLtUe6NijfJVtZUmUIdD2gL+0BaAjkOKhPX0t2pqDGo/8Vo2FfxeCXrqU+VkDEgNa+FV3oEsvSdI2irYLfF0EQiDcOY01CEAg5gQQArkJsPbwVRyoan8t0HXq1AnckT92p7fmlfWphErBqx+1VYFhaZc/lqhFU76kH00M7NRGGupkg+oPZFtCI/OSINBXWRzESu005rJ81Jg1Lh21LK3PMMYVJRucGohSNPAFAjEjgBCIWUAZTiwJIARiGVYGBYFoEEAIRCMOeAGBjRFACDA/IACBnBFACOQMLYYhEBoBhEBoKDEEAQhkEkAIMCcgEH0CCIHoxwgPIVC0BBACRRs6HE8QAYRAgoLNUCGQbwIIgXwTpz8IZE8AIZA9M+6AAAQCEkAIBARFMwgUkABCoIDw6RoCcSeAEIh7hBlfHAggBOIQRcYAgYgSQAhENDC4BYE0AggBpgMEIJAzAgiBnKHFMARCI4AQCA0lhiAAgUwCCAHmBASiTwAhEP0Y4SEEipYAQqBoQ4fjCSKAEEhQsBkqBPJNACGQb+L0B4HsCSAEsmfGHRCAQEACCIGAoGgGgQISQAgUED5dQyDuBBACcY8w44sDAYRAHKLIGCAQUQIIgYgGBrcgkEYAIcB0gAAEckYAIZAztBiGQGgEEAKhocQQBCCQSQAhwJyAQPQJIASiHyM8hEDREkAIFG3ocDxBBBACCQo2Q4VAvgkgBPJNnP4gkD0BhED2zLgDAhAISKBBgwa2fPnygK2Lr1n9+vVt2bJlVlJSUnzO4zEE/p8AQoCpAAEIQAACEEgwAYRAgoPP0CEAAQhAAAIIAeYABCAAAQhAIMEEEAIJDj5DhwAEIAABCCAEmAMQgAAEIACBBBNACCQ4+AwdAhCAAAQggBBgDkAAAhCAAAQSTAAhkODgM3QIQAACEIAAQoA5AAEIQAACEEgwAYRAgoPP0CEAAQhAAAIIAeYABCAAAQhAIMEEEAIJDj5DhwAEIAABCCAEmAMQgAAEIACBBBNACCQ4+AwdAhCAAAQg8H/Es0AI3gSF1AAAAABJRU5ErkJggg==)"
   ]
  },
  {
   "cell_type": "markdown",
   "metadata": {
    "id": "86eqr1jCNxok"
   },
   "source": [
    "## Code for Sequential model\n",
    "We use bi-directional LSTM\n"
   ]
  },
  {
   "cell_type": "code",
   "execution_count": 28,
   "metadata": {
    "id": "hMmCMSsy42zX"
   },
   "outputs": [],
   "source": [
    "# 5.0 Our model:\n",
    "\n",
    "model = tf.keras.Sequential()\n",
    "model.add(encoder)\n",
    "model.add(tf.keras.layers.Embedding(\n",
    "                                     input_dim=len(encoder.get_vocabulary()),\n",
    "                                     output_dim=64,    # 64 is the dense vector length of each word\n",
    "                                     # Use masking to handle the variable sequence lengths\n",
    "                                     mask_zero=False\n",
    "                                    )\n",
    "          )\n",
    "\n",
    "model.add(tf.keras.layers.Bidirectional(tf.keras.layers.LSTM(64)))\n",
    "\n",
    "model.add(tf.keras.layers.Dense(64, activation='relu'))\n",
    "model.add(tf.keras.layers.Dense(1))   # Dense model has no activation\n",
    "                                      #  So output will be both +ve and -ve\n"
   ]
  },
  {
   "cell_type": "markdown",
   "metadata": {
    "id": "9FdrJYNtPO7R"
   },
   "source": [
    "A good explnataion of why `from_logitis = True` (default is False) is [here](https://stackoverflow.com/a/71365020) on StackOveflow.\n"
   ]
  },
  {
   "cell_type": "code",
   "execution_count": 29,
   "metadata": {
    "id": "ZxT8TfH45tMn"
   },
   "outputs": [],
   "source": [
    "# 5.1 Compile the model:\n",
    "\n",
    "model.compile(loss=tf.keras.losses.BinaryCrossentropy(from_logits=True),\n",
    "              optimizer=tf.keras.optimizers.Adam(1e-4),  # 1e-4 is learning rate. Default is 1e-2\n",
    "              metrics=['accuracy']\n",
    "              )\n"
   ]
  },
  {
   "cell_type": "markdown",
   "metadata": {
    "id": "1yjoXWs6QCJX"
   },
   "source": [
    "Fit the model"
   ]
  },
  {
   "cell_type": "code",
   "execution_count": null,
   "metadata": {
    "id": "j8F_vwzq6wPH"
   },
   "outputs": [],
   "source": [
    "# 5.2 Fit the model:\n",
    "\n",
    "history = model.fit(train,\n",
    "                    epochs=5,    # Takes time\n",
    "                    validation_data=test\n",
    "                    )"
   ]
  },
  {
   "cell_type": "markdown",
   "metadata": {
    "id": "hgy9d9Nn9E8w"
   },
   "source": [
    "### Understanding map function"
   ]
  },
  {
   "cell_type": "markdown",
   "metadata": {
    "id": "uKU3FcLoBcb3"
   },
   "source": [
    "map() function:<br>\n",
    "See [here](https://www.tensorflow.org/api_docs/python/tf/data/Dataset#map) examples of map() usage<br>\n",
    "`map()` transformation applies `map_func` to each element of this dataset, and returns a new dataset containing the transformed elements, in the same order as they appeared in the input. `map_func` can be used to change both the values **and the structure** of a dataset's elements."
   ]
  },
  {
   "cell_type": "code",
   "execution_count": null,
   "metadata": {
    "id": "9ysd2xObY54P"
   },
   "outputs": [],
   "source": [
    "# Create two tf.data.Datsets\n",
    "\n",
    "d1 = tf.data.Dataset.from_tensor_slices([1,2,3,4])\n",
    "d2 = tf.data.Dataset.from_tensor_slices([6,7,8,9])"
   ]
  },
  {
   "cell_type": "code",
   "execution_count": null,
   "metadata": {
    "id": "x1KShDEYJq20"
   },
   "outputs": [],
   "source": [
    "d1\n",
    "d2"
   ]
  },
  {
   "cell_type": "code",
   "execution_count": null,
   "metadata": {
    "id": "e0xAolnsJtfC"
   },
   "outputs": [],
   "source": [
    "# Print one element at a time:\n",
    "\n",
    "for i in d1.take(2):\n",
    "  print(i)"
   ]
  },
  {
   "cell_type": "code",
   "execution_count": null,
   "metadata": {
    "id": "rq1yI-grJyN5"
   },
   "outputs": [],
   "source": [
    "# Use as_numpy_iterator():\n",
    "#  as_numpy_iterator() returns an iterator through which you can convert\n",
    "#   all elements of the dataset to numpy.\n",
    "\n",
    "list(d1.as_numpy_iterator())\n",
    "print(\"\\n======\\n\")\n",
    "for i in d1.as_numpy_iterator():\n",
    "  print(i)"
   ]
  },
  {
   "cell_type": "code",
   "execution_count": null,
   "metadata": {
    "id": "rM2aqrxzKA-r"
   },
   "outputs": [],
   "source": [
    "# Define a labeler function:\n",
    "#  example is a tf.data.Dataset\n",
    "#    having many examples:\n",
    "#     Label each one with 'index' after\n",
    "#      it is cast to integer (tensorflow):\n",
    "\n",
    "def labeler(example, index):\n",
    "  return example, tf.cast(index, tf.int64)"
   ]
  },
  {
   "cell_type": "code",
   "execution_count": null,
   "metadata": {
    "id": "FAIfb--vKFZh"
   },
   "outputs": [],
   "source": [
    "# Apply labeler function:\n",
    "\n",
    "t = []\n",
    "for i,j in enumerate([d1,d2]):\n",
    "  t.append(j.map(lambda x: labeler(x,i)))"
   ]
  },
  {
   "cell_type": "code",
   "execution_count": null,
   "metadata": {
    "id": "EljUC6vSKJQR"
   },
   "outputs": [],
   "source": [
    "# Examine each labeled Dataset:\n",
    "\n",
    "for x in t:\n",
    "  print(list(x.as_numpy_iterator()))\n",
    "  print(type(x))"
   ]
  },
  {
   "cell_type": "code",
   "execution_count": null,
   "metadata": {
    "id": "An-y963JKNkb"
   },
   "outputs": [],
   "source": [
    "t = []\n",
    "for j in [d1,d2]:\n",
    "  t.append(j.map(lambda x: x+10))"
   ]
  },
  {
   "cell_type": "code",
   "execution_count": null,
   "metadata": {
    "id": "t_9yyd9SKP2h"
   },
   "outputs": [],
   "source": [
    "for j in t[0].as_numpy_iterator():\n",
    "  print(j)"
   ]
  },
  {
   "cell_type": "code",
   "execution_count": null,
   "metadata": {
    "id": "plapw-g_N8vx"
   },
   "outputs": [],
   "source": [
    "###################################### I am done ##################33"
   ]
  }
 ],
 "metadata": {
  "colab": {
   "authorship_tag": "ABX9TyNeMAaL65zDr2MmNUaolPeu",
   "collapsed_sections": [],
   "include_colab_link": true,
   "provenance": []
  },
  "kernelspec": {
   "display_name": "Python 3 (ipykernel)",
   "language": "python",
   "name": "python3"
  },
  "language_info": {
   "codemirror_mode": {
    "name": "ipython",
    "version": 3
   },
   "file_extension": ".py",
   "mimetype": "text/x-python",
   "name": "python",
   "nbconvert_exporter": "python",
   "pygments_lexer": "ipython3",
   "version": "3.9.7"
  }
 },
 "nbformat": 4,
 "nbformat_minor": 1
}
