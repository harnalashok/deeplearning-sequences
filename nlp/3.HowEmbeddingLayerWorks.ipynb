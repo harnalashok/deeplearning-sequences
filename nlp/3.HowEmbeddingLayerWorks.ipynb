{
 "cells": [
  {
   "cell_type": "markdown",
   "metadata": {
    "colab_type": "text",
    "id": "view-in-github"
   },
   "source": [
    "<a href=\"https://colab.research.google.com/github/harnalashok/deeplearning-sequences/blob/main/HowEmbeddingLayerWorks.ipynb\" target=\"_parent\"><img src=\"https://colab.research.google.com/assets/colab-badge.svg\" alt=\"Open In Colab\"/></a>"
   ]
  },
  {
   "cell_type": "code",
   "execution_count": null,
   "metadata": {
    "id": "zew-9zniU8C0"
   },
   "outputs": [],
   "source": [
    "# https://stats.stackexchange.com/a/305032"
   ]
  },
  {
   "cell_type": "code",
   "execution_count": 6,
   "metadata": {
    "id": "eQKyklgHR4f-"
   },
   "outputs": [],
   "source": [
    "import numpy as np\n",
    "import tensorflow as tf\n",
    "from tensorflow.keras.models import Sequential\n",
    "from tensorflow.keras.layers import Embedding"
   ]
  },
  {
   "cell_type": "code",
   "execution_count": 8,
   "metadata": {},
   "outputs": [
    {
     "data": {
      "text/plain": [
       "array([[3, 6, 5, 1, 4],\n",
       "       [2, 5, 1, 5, 0]])"
      ]
     },
     "execution_count": 8,
     "metadata": {},
     "output_type": "execute_result"
    }
   ],
   "source": [
    "# 1.0 Let us mimic two words (say, 'Go Home') in one sentence:\n",
    "input_array = np.random.randint(7, size=(2, 5))\n",
    "input_array"
   ]
  },
  {
   "cell_type": "code",
   "execution_count": 15,
   "metadata": {},
   "outputs": [],
   "source": [
    "# 2.0 Create a simple model:\n",
    "\n",
    "model = Sequential()\n",
    "model.add(\n",
    "            Embedding(\n",
    "                       7,                # Max vocabulary size \n",
    "                       2,                # output word2vec size\n",
    "                       input_length=5    # Length of input sequence\n",
    "                    )\n",
    "         )"
   ]
  },
  {
   "cell_type": "code",
   "execution_count": 22,
   "metadata": {},
   "outputs": [],
   "source": [
    "# 3.0 Compile the model\n",
    "model.compile(loss = 'crossentropy')"
   ]
  },
  {
   "cell_type": "code",
   "execution_count": 23,
   "metadata": {},
   "outputs": [
    {
     "name": "stdout",
     "output_type": "stream",
     "text": [
      "1/1 [==============================] - 0s 37ms/step\n"
     ]
    }
   ],
   "source": [
    "# 4.0 Just predict without any training.\n",
    "#     No training becuase we did not have any target,y\n",
    "#     At this point all weights in the model are random:\n",
    "\n",
    "output_array = model.predict(input_array)"
   ]
  },
  {
   "cell_type": "code",
   "execution_count": 21,
   "metadata": {
    "colab": {
     "base_uri": "https://localhost:8080/"
    },
    "id": "LC5__o__SQmK",
    "outputId": "e68ecf12-c341-4a1a-cf53-647f7cb93b6e"
   },
   "outputs": [
    {
     "data": {
      "text/plain": [
       "array([[[ 0.04100192, -0.04584249],\n",
       "        [-0.03364807,  0.0240793 ],\n",
       "        [ 0.0278599 ,  0.02895496],\n",
       "        [-0.00374868,  0.04614392],\n",
       "        [ 0.02984235,  0.04271169]],\n",
       "\n",
       "       [[ 0.04134507,  0.010267  ],\n",
       "        [ 0.0278599 ,  0.02895496],\n",
       "        [-0.00374868,  0.04614392],\n",
       "        [ 0.0278599 ,  0.02895496],\n",
       "        [ 0.00783496,  0.01239107]]], dtype=float32)"
      ]
     },
     "execution_count": 21,
     "metadata": {},
     "output_type": "execute_result"
    }
   ],
   "source": [
    "output_array"
   ]
  },
  {
   "cell_type": "code",
   "execution_count": null,
   "metadata": {
    "id": "Jgnc1uL7SEmH"
   },
   "outputs": [],
   "source": [
    "############# I am done ##############"
   ]
  }
 ],
 "metadata": {
  "colab": {
   "authorship_tag": "ABX9TyM/wO/ZDdtgPN/R7MrCxmdx",
   "include_colab_link": true,
   "name": "HowEmbeddingLayerWorks.ipynb",
   "provenance": []
  },
  "kernelspec": {
   "display_name": "Python (tf)",
   "language": "python",
   "name": "tf"
  },
  "language_info": {
   "codemirror_mode": {
    "name": "ipython",
    "version": 3
   },
   "file_extension": ".py",
   "mimetype": "text/x-python",
   "name": "python",
   "nbconvert_exporter": "python",
   "pygments_lexer": "ipython3",
   "version": "3.9.12"
  }
 },
 "nbformat": 4,
 "nbformat_minor": 1
}
