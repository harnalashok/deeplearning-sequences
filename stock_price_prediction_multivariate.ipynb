{
  "nbformat": 4,
  "nbformat_minor": 0,
  "metadata": {
    "colab": {
      "provenance": [],
      "collapsed_sections": [
        "OjfMgkcnPLRz",
        "Fk8jkysxPRJi",
        "eM7UW3WdPcdz",
        "FT0eqosSPrr1",
        "dHmsWC3cT10U",
        "335CwQZ9VLjM",
        "Us6CeB1MZWYU",
        "9LK0EJJasTUw"
      ],
      "authorship_tag": "ABX9TyMpqPz4rge2I4WSa7c8eTjx",
      "include_colab_link": true
    },
    "kernelspec": {
      "name": "python3",
      "display_name": "Python 3"
    },
    "language_info": {
      "name": "python"
    }
  },
  "cells": [
    {
      "cell_type": "markdown",
      "metadata": {
        "id": "view-in-github",
        "colab_type": "text"
      },
      "source": [
        "<a href=\"https://colab.research.google.com/github/harnalashok/deeplearning-sequences/blob/main/stock_price_prediction_multivariate.ipynb\" target=\"_parent\"><img src=\"https://colab.research.google.com/assets/colab-badge.svg\" alt=\"Open In Colab\"/></a>"
      ]
    },
    {
      "cell_type": "code",
      "source": [
        "# Last amended: 6th Feb, 2023\n",
        "# Objective: i)   Apply LSTM for multivariate time-series prediction\n",
        "#            ii)  Develop a simple model to predict stock prices\n",
        "#            iii) Use Attention in seq-to-seq\n",
        "\n",
        "# Ref: https://www.simplilearn.com/tutorials/deep-learning-tutorial/rnn\n",
        "# https://www.kaggle.com/datasets/akram24/google-stock-price-test\n"
      ],
      "metadata": {
        "id": "r2vuJoIlbWVH"
      },
      "execution_count": null,
      "outputs": []
    },
    {
      "cell_type": "code",
      "source": [
        "### ToDO\n",
        "# See: https://www.tensorflow.org/api_docs/python/tf/keras/layers/Bidirectional\n",
        "# Use model.add(Bidirectional(LSTM(10)))\n",
        "# model.add(Bidirectional(LSTM(10, return_sequences=True)))\n",
        "# See other options at:\n",
        "#      https://www.tensorflow.org/api_docs/python/tf/keras/layers/Bidirectional\n"
      ],
      "metadata": {
        "id": "MQ5ZmKhQ7E75"
      },
      "execution_count": null,
      "outputs": []
    },
    {
      "cell_type": "markdown",
      "source": [
        "## Call libraries"
      ],
      "metadata": {
        "id": "OjfMgkcnPLRz"
      }
    },
    {
      "cell_type": "code",
      "execution_count": 1,
      "metadata": {
        "id": "6y2JO6HpSz3a"
      },
      "outputs": [],
      "source": [
        "# 1.0 Call libraries\n",
        "import numpy as np\n",
        "import pandas as pd\n",
        "import tensorflow as tf\n",
        "\n",
        "# 1.0.1\n",
        "from sklearn.preprocessing import MinMaxScaler\n",
        "import matplotlib.pyplot as plt\n",
        "import pathlib"
      ]
    },
    {
      "cell_type": "code",
      "source": [
        "# 1.0.2 Display multiple outputs from a cell:\n",
        "\n",
        "from IPython.core.interactiveshell import InteractiveShell\n",
        "InteractiveShell.ast_node_interactivity = \"all\"\n"
      ],
      "metadata": {
        "id": "oNsU3wXX7L1p"
      },
      "execution_count": 2,
      "outputs": []
    },
    {
      "cell_type": "markdown",
      "source": [
        "## Mount gdrive"
      ],
      "metadata": {
        "id": "Fk8jkysxPRJi"
      }
    },
    {
      "cell_type": "code",
      "source": [
        "# 2.0 Mount gdrive\n",
        "\n",
        "from google.colab import drive\n",
        "drive.mount('/gdrive')"
      ],
      "metadata": {
        "colab": {
          "base_uri": "https://localhost:8080/"
        },
        "id": "VrJl4G_BTEBt",
        "outputId": "ddf16976-31d8-4879-eebb-a0feb68cef7a"
      },
      "execution_count": 3,
      "outputs": [
        {
          "output_type": "stream",
          "name": "stdout",
          "text": [
            "Mounted at /gdrive\n"
          ]
        }
      ]
    },
    {
      "cell_type": "code",
      "source": [
        "# 2.1 Path to data folder:\n",
        "\n",
        "path = \"/gdrive/MyDrive/Colab_data_files/stock_price\"\n",
        "\n",
        "# 2.1.1 Transform to pathlib object:\n",
        "data_folder=pathlib.Path(path)"
      ],
      "metadata": {
        "id": "kgxvOjrzTXRm"
      },
      "execution_count": 4,
      "outputs": []
    },
    {
      "cell_type": "markdown",
      "source": [
        "## Read train/test data"
      ],
      "metadata": {
        "id": "eM7UW3WdPcdz"
      }
    },
    {
      "cell_type": "code",
      "source": [
        "# 3.0\n",
        "train = pd.read_csv(data_folder / \"Google_Stock_Price_Train.csv\")\n",
        "test = pd.read_csv(data_folder / \"Google_Stock_Price_Test.csv\")"
      ],
      "metadata": {
        "id": "HEhMs9O8TdjD"
      },
      "execution_count": 7,
      "outputs": []
    },
    {
      "cell_type": "code",
      "source": [
        "# 3.0.1\n",
        "train.head()\n",
        "print(\"\\n============\\n\")\n",
        "train.shape"
      ],
      "metadata": {
        "colab": {
          "base_uri": "https://localhost:8080/",
          "height": 359
        },
        "id": "I3Ec2kdZT8SA",
        "outputId": "1b2c9816-e1c9-491b-fc12-aa8d1fa96600"
      },
      "execution_count": 8,
      "outputs": [
        {
          "output_type": "execute_result",
          "data": {
            "text/plain": [
              "       Date    Open    High     Low   Close      Volume\n",
              "0  1/3/2012  325.25  332.83  324.97  663.59   7,380,500\n",
              "1  1/4/2012  331.27  333.87  329.08  666.45   5,749,400\n",
              "2  1/5/2012  329.83  330.75  326.89  657.21   6,590,300\n",
              "3  1/6/2012  328.34  328.77  323.68  648.24   5,405,900\n",
              "4  1/9/2012  322.04  322.29  309.46  620.76  11,688,800"
            ],
            "text/html": [
              "\n",
              "  <div id=\"df-e3726ce7-d059-4748-94b7-3be774054029\">\n",
              "    <div class=\"colab-df-container\">\n",
              "      <div>\n",
              "<style scoped>\n",
              "    .dataframe tbody tr th:only-of-type {\n",
              "        vertical-align: middle;\n",
              "    }\n",
              "\n",
              "    .dataframe tbody tr th {\n",
              "        vertical-align: top;\n",
              "    }\n",
              "\n",
              "    .dataframe thead th {\n",
              "        text-align: right;\n",
              "    }\n",
              "</style>\n",
              "<table border=\"1\" class=\"dataframe\">\n",
              "  <thead>\n",
              "    <tr style=\"text-align: right;\">\n",
              "      <th></th>\n",
              "      <th>Date</th>\n",
              "      <th>Open</th>\n",
              "      <th>High</th>\n",
              "      <th>Low</th>\n",
              "      <th>Close</th>\n",
              "      <th>Volume</th>\n",
              "    </tr>\n",
              "  </thead>\n",
              "  <tbody>\n",
              "    <tr>\n",
              "      <th>0</th>\n",
              "      <td>1/3/2012</td>\n",
              "      <td>325.25</td>\n",
              "      <td>332.83</td>\n",
              "      <td>324.97</td>\n",
              "      <td>663.59</td>\n",
              "      <td>7,380,500</td>\n",
              "    </tr>\n",
              "    <tr>\n",
              "      <th>1</th>\n",
              "      <td>1/4/2012</td>\n",
              "      <td>331.27</td>\n",
              "      <td>333.87</td>\n",
              "      <td>329.08</td>\n",
              "      <td>666.45</td>\n",
              "      <td>5,749,400</td>\n",
              "    </tr>\n",
              "    <tr>\n",
              "      <th>2</th>\n",
              "      <td>1/5/2012</td>\n",
              "      <td>329.83</td>\n",
              "      <td>330.75</td>\n",
              "      <td>326.89</td>\n",
              "      <td>657.21</td>\n",
              "      <td>6,590,300</td>\n",
              "    </tr>\n",
              "    <tr>\n",
              "      <th>3</th>\n",
              "      <td>1/6/2012</td>\n",
              "      <td>328.34</td>\n",
              "      <td>328.77</td>\n",
              "      <td>323.68</td>\n",
              "      <td>648.24</td>\n",
              "      <td>5,405,900</td>\n",
              "    </tr>\n",
              "    <tr>\n",
              "      <th>4</th>\n",
              "      <td>1/9/2012</td>\n",
              "      <td>322.04</td>\n",
              "      <td>322.29</td>\n",
              "      <td>309.46</td>\n",
              "      <td>620.76</td>\n",
              "      <td>11,688,800</td>\n",
              "    </tr>\n",
              "  </tbody>\n",
              "</table>\n",
              "</div>\n",
              "      <button class=\"colab-df-convert\" onclick=\"convertToInteractive('df-e3726ce7-d059-4748-94b7-3be774054029')\"\n",
              "              title=\"Convert this dataframe to an interactive table.\"\n",
              "              style=\"display:none;\">\n",
              "        \n",
              "  <svg xmlns=\"http://www.w3.org/2000/svg\" height=\"24px\"viewBox=\"0 0 24 24\"\n",
              "       width=\"24px\">\n",
              "    <path d=\"M0 0h24v24H0V0z\" fill=\"none\"/>\n",
              "    <path d=\"M18.56 5.44l.94 2.06.94-2.06 2.06-.94-2.06-.94-.94-2.06-.94 2.06-2.06.94zm-11 1L8.5 8.5l.94-2.06 2.06-.94-2.06-.94L8.5 2.5l-.94 2.06-2.06.94zm10 10l.94 2.06.94-2.06 2.06-.94-2.06-.94-.94-2.06-.94 2.06-2.06.94z\"/><path d=\"M17.41 7.96l-1.37-1.37c-.4-.4-.92-.59-1.43-.59-.52 0-1.04.2-1.43.59L10.3 9.45l-7.72 7.72c-.78.78-.78 2.05 0 2.83L4 21.41c.39.39.9.59 1.41.59.51 0 1.02-.2 1.41-.59l7.78-7.78 2.81-2.81c.8-.78.8-2.07 0-2.86zM5.41 20L4 18.59l7.72-7.72 1.47 1.35L5.41 20z\"/>\n",
              "  </svg>\n",
              "      </button>\n",
              "      \n",
              "  <style>\n",
              "    .colab-df-container {\n",
              "      display:flex;\n",
              "      flex-wrap:wrap;\n",
              "      gap: 12px;\n",
              "    }\n",
              "\n",
              "    .colab-df-convert {\n",
              "      background-color: #E8F0FE;\n",
              "      border: none;\n",
              "      border-radius: 50%;\n",
              "      cursor: pointer;\n",
              "      display: none;\n",
              "      fill: #1967D2;\n",
              "      height: 32px;\n",
              "      padding: 0 0 0 0;\n",
              "      width: 32px;\n",
              "    }\n",
              "\n",
              "    .colab-df-convert:hover {\n",
              "      background-color: #E2EBFA;\n",
              "      box-shadow: 0px 1px 2px rgba(60, 64, 67, 0.3), 0px 1px 3px 1px rgba(60, 64, 67, 0.15);\n",
              "      fill: #174EA6;\n",
              "    }\n",
              "\n",
              "    [theme=dark] .colab-df-convert {\n",
              "      background-color: #3B4455;\n",
              "      fill: #D2E3FC;\n",
              "    }\n",
              "\n",
              "    [theme=dark] .colab-df-convert:hover {\n",
              "      background-color: #434B5C;\n",
              "      box-shadow: 0px 1px 3px 1px rgba(0, 0, 0, 0.15);\n",
              "      filter: drop-shadow(0px 1px 2px rgba(0, 0, 0, 0.3));\n",
              "      fill: #FFFFFF;\n",
              "    }\n",
              "  </style>\n",
              "\n",
              "      <script>\n",
              "        const buttonEl =\n",
              "          document.querySelector('#df-e3726ce7-d059-4748-94b7-3be774054029 button.colab-df-convert');\n",
              "        buttonEl.style.display =\n",
              "          google.colab.kernel.accessAllowed ? 'block' : 'none';\n",
              "\n",
              "        async function convertToInteractive(key) {\n",
              "          const element = document.querySelector('#df-e3726ce7-d059-4748-94b7-3be774054029');\n",
              "          const dataTable =\n",
              "            await google.colab.kernel.invokeFunction('convertToInteractive',\n",
              "                                                     [key], {});\n",
              "          if (!dataTable) return;\n",
              "\n",
              "          const docLinkHtml = 'Like what you see? Visit the ' +\n",
              "            '<a target=\"_blank\" href=https://colab.research.google.com/notebooks/data_table.ipynb>data table notebook</a>'\n",
              "            + ' to learn more about interactive tables.';\n",
              "          element.innerHTML = '';\n",
              "          dataTable['output_type'] = 'display_data';\n",
              "          await google.colab.output.renderOutput(dataTable, element);\n",
              "          const docLink = document.createElement('div');\n",
              "          docLink.innerHTML = docLinkHtml;\n",
              "          element.appendChild(docLink);\n",
              "        }\n",
              "      </script>\n",
              "    </div>\n",
              "  </div>\n",
              "  "
            ]
          },
          "metadata": {},
          "execution_count": 8
        },
        {
          "output_type": "stream",
          "name": "stdout",
          "text": [
            "\n",
            "============\n",
            "\n"
          ]
        },
        {
          "output_type": "execute_result",
          "data": {
            "text/plain": [
              "(1258, 6)"
            ]
          },
          "metadata": {},
          "execution_count": 8
        }
      ]
    },
    {
      "cell_type": "markdown",
      "source": [
        "## Process data\n"
      ],
      "metadata": {
        "id": "FT0eqosSPrr1"
      }
    },
    {
      "cell_type": "markdown",
      "source": [
        "We will use two columns to make predictions. Our columns are`['Open','High']`. Using data on these two columns for the past 60 days, we want to make predictions for the `['Open']` of the next day."
      ],
      "metadata": {
        "id": "M4hea54zk7hu"
      }
    },
    {
      "cell_type": "code",
      "source": [
        "# 4.0 We will only use ['Open','High'] columns for prediction:\n",
        "\n",
        "tr = train.iloc[:,1:3]\n",
        "te = test.iloc[:,1:3]\n",
        "tr.head()\n",
        "print(\"\\n=============\\n\")\n",
        "tr.shape    # (1258, 2)\n",
        "print(\"\\n=============\\n\")\n",
        "te.shape     # (20, 2)"
      ],
      "metadata": {
        "colab": {
          "base_uri": "https://localhost:8080/",
          "height": 330
        },
        "id": "-m5VXb3pTq_b",
        "outputId": "328e5e8f-efa3-4139-ebd4-0aca74f5a4c5"
      },
      "execution_count": 9,
      "outputs": [
        {
          "output_type": "execute_result",
          "data": {
            "text/plain": [
              "     Open    High\n",
              "0  325.25  332.83\n",
              "1  331.27  333.87\n",
              "2  329.83  330.75\n",
              "3  328.34  328.77\n",
              "4  322.04  322.29"
            ],
            "text/html": [
              "\n",
              "  <div id=\"df-ef2ab7ff-649a-4df1-bf12-bc39cc817e7c\">\n",
              "    <div class=\"colab-df-container\">\n",
              "      <div>\n",
              "<style scoped>\n",
              "    .dataframe tbody tr th:only-of-type {\n",
              "        vertical-align: middle;\n",
              "    }\n",
              "\n",
              "    .dataframe tbody tr th {\n",
              "        vertical-align: top;\n",
              "    }\n",
              "\n",
              "    .dataframe thead th {\n",
              "        text-align: right;\n",
              "    }\n",
              "</style>\n",
              "<table border=\"1\" class=\"dataframe\">\n",
              "  <thead>\n",
              "    <tr style=\"text-align: right;\">\n",
              "      <th></th>\n",
              "      <th>Open</th>\n",
              "      <th>High</th>\n",
              "    </tr>\n",
              "  </thead>\n",
              "  <tbody>\n",
              "    <tr>\n",
              "      <th>0</th>\n",
              "      <td>325.25</td>\n",
              "      <td>332.83</td>\n",
              "    </tr>\n",
              "    <tr>\n",
              "      <th>1</th>\n",
              "      <td>331.27</td>\n",
              "      <td>333.87</td>\n",
              "    </tr>\n",
              "    <tr>\n",
              "      <th>2</th>\n",
              "      <td>329.83</td>\n",
              "      <td>330.75</td>\n",
              "    </tr>\n",
              "    <tr>\n",
              "      <th>3</th>\n",
              "      <td>328.34</td>\n",
              "      <td>328.77</td>\n",
              "    </tr>\n",
              "    <tr>\n",
              "      <th>4</th>\n",
              "      <td>322.04</td>\n",
              "      <td>322.29</td>\n",
              "    </tr>\n",
              "  </tbody>\n",
              "</table>\n",
              "</div>\n",
              "      <button class=\"colab-df-convert\" onclick=\"convertToInteractive('df-ef2ab7ff-649a-4df1-bf12-bc39cc817e7c')\"\n",
              "              title=\"Convert this dataframe to an interactive table.\"\n",
              "              style=\"display:none;\">\n",
              "        \n",
              "  <svg xmlns=\"http://www.w3.org/2000/svg\" height=\"24px\"viewBox=\"0 0 24 24\"\n",
              "       width=\"24px\">\n",
              "    <path d=\"M0 0h24v24H0V0z\" fill=\"none\"/>\n",
              "    <path d=\"M18.56 5.44l.94 2.06.94-2.06 2.06-.94-2.06-.94-.94-2.06-.94 2.06-2.06.94zm-11 1L8.5 8.5l.94-2.06 2.06-.94-2.06-.94L8.5 2.5l-.94 2.06-2.06.94zm10 10l.94 2.06.94-2.06 2.06-.94-2.06-.94-.94-2.06-.94 2.06-2.06.94z\"/><path d=\"M17.41 7.96l-1.37-1.37c-.4-.4-.92-.59-1.43-.59-.52 0-1.04.2-1.43.59L10.3 9.45l-7.72 7.72c-.78.78-.78 2.05 0 2.83L4 21.41c.39.39.9.59 1.41.59.51 0 1.02-.2 1.41-.59l7.78-7.78 2.81-2.81c.8-.78.8-2.07 0-2.86zM5.41 20L4 18.59l7.72-7.72 1.47 1.35L5.41 20z\"/>\n",
              "  </svg>\n",
              "      </button>\n",
              "      \n",
              "  <style>\n",
              "    .colab-df-container {\n",
              "      display:flex;\n",
              "      flex-wrap:wrap;\n",
              "      gap: 12px;\n",
              "    }\n",
              "\n",
              "    .colab-df-convert {\n",
              "      background-color: #E8F0FE;\n",
              "      border: none;\n",
              "      border-radius: 50%;\n",
              "      cursor: pointer;\n",
              "      display: none;\n",
              "      fill: #1967D2;\n",
              "      height: 32px;\n",
              "      padding: 0 0 0 0;\n",
              "      width: 32px;\n",
              "    }\n",
              "\n",
              "    .colab-df-convert:hover {\n",
              "      background-color: #E2EBFA;\n",
              "      box-shadow: 0px 1px 2px rgba(60, 64, 67, 0.3), 0px 1px 3px 1px rgba(60, 64, 67, 0.15);\n",
              "      fill: #174EA6;\n",
              "    }\n",
              "\n",
              "    [theme=dark] .colab-df-convert {\n",
              "      background-color: #3B4455;\n",
              "      fill: #D2E3FC;\n",
              "    }\n",
              "\n",
              "    [theme=dark] .colab-df-convert:hover {\n",
              "      background-color: #434B5C;\n",
              "      box-shadow: 0px 1px 3px 1px rgba(0, 0, 0, 0.15);\n",
              "      filter: drop-shadow(0px 1px 2px rgba(0, 0, 0, 0.3));\n",
              "      fill: #FFFFFF;\n",
              "    }\n",
              "  </style>\n",
              "\n",
              "      <script>\n",
              "        const buttonEl =\n",
              "          document.querySelector('#df-ef2ab7ff-649a-4df1-bf12-bc39cc817e7c button.colab-df-convert');\n",
              "        buttonEl.style.display =\n",
              "          google.colab.kernel.accessAllowed ? 'block' : 'none';\n",
              "\n",
              "        async function convertToInteractive(key) {\n",
              "          const element = document.querySelector('#df-ef2ab7ff-649a-4df1-bf12-bc39cc817e7c');\n",
              "          const dataTable =\n",
              "            await google.colab.kernel.invokeFunction('convertToInteractive',\n",
              "                                                     [key], {});\n",
              "          if (!dataTable) return;\n",
              "\n",
              "          const docLinkHtml = 'Like what you see? Visit the ' +\n",
              "            '<a target=\"_blank\" href=https://colab.research.google.com/notebooks/data_table.ipynb>data table notebook</a>'\n",
              "            + ' to learn more about interactive tables.';\n",
              "          element.innerHTML = '';\n",
              "          dataTable['output_type'] = 'display_data';\n",
              "          await google.colab.output.renderOutput(dataTable, element);\n",
              "          const docLink = document.createElement('div');\n",
              "          docLink.innerHTML = docLinkHtml;\n",
              "          element.appendChild(docLink);\n",
              "        }\n",
              "      </script>\n",
              "    </div>\n",
              "  </div>\n",
              "  "
            ]
          },
          "metadata": {},
          "execution_count": 9
        },
        {
          "output_type": "stream",
          "name": "stdout",
          "text": [
            "\n",
            "=============\n",
            "\n"
          ]
        },
        {
          "output_type": "execute_result",
          "data": {
            "text/plain": [
              "(1258, 2)"
            ]
          },
          "metadata": {},
          "execution_count": 9
        },
        {
          "output_type": "stream",
          "name": "stdout",
          "text": [
            "\n",
            "=============\n",
            "\n"
          ]
        },
        {
          "output_type": "execute_result",
          "data": {
            "text/plain": [
              "(20, 2)"
            ]
          },
          "metadata": {},
          "execution_count": 9
        }
      ]
    },
    {
      "cell_type": "code",
      "source": [
        "# 4.1 Normalize data:\n",
        "#     Note that we are normalizing two columns together.\n",
        "#     Later, if we want to un-normalize just one columns,\n",
        "#     we do need to have a dummy column.\n",
        "\n",
        "mm = MinMaxScaler(feature_range = (0,1))\n",
        "\n",
        "# 4.1.0 Transformed output is numpy array\"\n",
        "tr = mm.fit_transform(tr)\n",
        "te = mm.transform(te)\n"
      ],
      "metadata": {
        "id": "XSOj6r7RUHp7"
      },
      "execution_count": 10,
      "outputs": []
    },
    {
      "cell_type": "code",
      "source": [
        "# 4.1.1 Look at data\n",
        "tr[:2, :]\n",
        "print(\"\\n============\\n\")\n",
        "te[:2,:]"
      ],
      "metadata": {
        "id": "VUkxz-j2RHpN",
        "outputId": "3ed96ed5-3079-4311-c5a0-64b59175e3b6",
        "colab": {
          "base_uri": "https://localhost:8080/"
        }
      },
      "execution_count": 11,
      "outputs": [
        {
          "output_type": "execute_result",
          "data": {
            "text/plain": [
              "array([[0.08581368, 0.09640129],\n",
              "       [0.09701243, 0.09834351]])"
            ]
          },
          "metadata": {},
          "execution_count": 11
        },
        {
          "output_type": "stream",
          "name": "stdout",
          "text": [
            "\n",
            "============\n",
            "\n"
          ]
        },
        {
          "output_type": "execute_result",
          "data": {
            "text/plain": [
              "array([[0.92955205, 0.94948363],\n",
              "       [0.94731751, 0.95267709]])"
            ]
          },
          "metadata": {},
          "execution_count": 11
        }
      ]
    },
    {
      "cell_type": "markdown",
      "source": [
        "## Organize and reshape data\n",
        "Prepare data for feeding into LSTM"
      ],
      "metadata": {
        "id": "kUB_q6KqfcsP"
      }
    },
    {
      "cell_type": "markdown",
      "source": [
        "### Experimental code"
      ],
      "metadata": {
        "id": "dHmsWC3cT10U"
      }
    },
    {
      "cell_type": "markdown",
      "source": [
        "Suppose our data is as below and timesteps are 3<br>:\n",
        ">[23,34],<br>\n",
        "[56,11],<br>\n",
        "[12,31],<br>\n",
        "[77,22],<br>\n",
        "[50,60],<br>\n",
        "[10,20],<br>\n",
        "[65,32],<br>\n",
        "[40,31],<br>\n",
        "[32,54]<br>\n",
        "\n",
        "We want to have following peices:\n",
        ">[23,34],<br>\n",
        "[56,11],<br>\n",
        "[12,31],<br>\n",
        "Target: 77 <br>\n",
        "\n",
        ">[56,11],<br>\n",
        "[12,31],<br>\n",
        "[77,22],<br>\n",
        "Target: 50<br>\n",
        "\n",
        ">[12,31],<br>\n",
        "[77,22],<br>\n",
        "[50,60],<br>\n",
        "Target: 10<br>\n",
        "\n",
        ">[77,22],<br>\n",
        "[50,60],<br>\n",
        "[10,20],<br>\n",
        "Target: 65<br>\n",
        "\n",
        ">[50,60],<br>\n",
        "[10,20],<br>\n",
        "[65,32],<br>\n",
        "Target: 40<br>\n",
        "\n",
        ">[10,20],<br>\n",
        "[65,32],<br>\n",
        "[40,31],<br>\n",
        "Target: 32<br>\n",
        "\n",
        "\n",
        "`                      "
      ],
      "metadata": {
        "id": "IlsKE8B0dUHF"
      }
    },
    {
      "cell_type": "code",
      "source": [
        "# 5.0 Demo data:\n",
        "timesteps = 3\n",
        "data = pd.DataFrame(\n",
        "                    [\n",
        "                      [23,34],\n",
        "                      [56,11],\n",
        "                      [12,31],\n",
        "                      [77,22],\n",
        "                      [50,60],\n",
        "                      [10,20],\n",
        "                      [65,32],\n",
        "                      [40,31],\n",
        "                      [32,54]\n",
        "                     ], columns = ['a','b']\n",
        "                    )\n",
        "data"
      ],
      "metadata": {
        "colab": {
          "base_uri": "https://localhost:8080/",
          "height": 395
        },
        "id": "dRyoXxjFairr",
        "outputId": "2d5007e8-4898-49b5-923d-5b6d5005d90f"
      },
      "execution_count": 12,
      "outputs": [
        {
          "output_type": "execute_result",
          "data": {
            "text/plain": [
              "    a   b\n",
              "0  23  34\n",
              "1  56  11\n",
              "2  12  31\n",
              "3  77  22\n",
              "4  50  60\n",
              "5  10  20\n",
              "6  65  32\n",
              "7  40  31\n",
              "8  32  54"
            ],
            "text/html": [
              "\n",
              "  <div id=\"df-26ab4801-6f2c-49b3-afa4-b01864cf7d9c\">\n",
              "    <div class=\"colab-df-container\">\n",
              "      <div>\n",
              "<style scoped>\n",
              "    .dataframe tbody tr th:only-of-type {\n",
              "        vertical-align: middle;\n",
              "    }\n",
              "\n",
              "    .dataframe tbody tr th {\n",
              "        vertical-align: top;\n",
              "    }\n",
              "\n",
              "    .dataframe thead th {\n",
              "        text-align: right;\n",
              "    }\n",
              "</style>\n",
              "<table border=\"1\" class=\"dataframe\">\n",
              "  <thead>\n",
              "    <tr style=\"text-align: right;\">\n",
              "      <th></th>\n",
              "      <th>a</th>\n",
              "      <th>b</th>\n",
              "    </tr>\n",
              "  </thead>\n",
              "  <tbody>\n",
              "    <tr>\n",
              "      <th>0</th>\n",
              "      <td>23</td>\n",
              "      <td>34</td>\n",
              "    </tr>\n",
              "    <tr>\n",
              "      <th>1</th>\n",
              "      <td>56</td>\n",
              "      <td>11</td>\n",
              "    </tr>\n",
              "    <tr>\n",
              "      <th>2</th>\n",
              "      <td>12</td>\n",
              "      <td>31</td>\n",
              "    </tr>\n",
              "    <tr>\n",
              "      <th>3</th>\n",
              "      <td>77</td>\n",
              "      <td>22</td>\n",
              "    </tr>\n",
              "    <tr>\n",
              "      <th>4</th>\n",
              "      <td>50</td>\n",
              "      <td>60</td>\n",
              "    </tr>\n",
              "    <tr>\n",
              "      <th>5</th>\n",
              "      <td>10</td>\n",
              "      <td>20</td>\n",
              "    </tr>\n",
              "    <tr>\n",
              "      <th>6</th>\n",
              "      <td>65</td>\n",
              "      <td>32</td>\n",
              "    </tr>\n",
              "    <tr>\n",
              "      <th>7</th>\n",
              "      <td>40</td>\n",
              "      <td>31</td>\n",
              "    </tr>\n",
              "    <tr>\n",
              "      <th>8</th>\n",
              "      <td>32</td>\n",
              "      <td>54</td>\n",
              "    </tr>\n",
              "  </tbody>\n",
              "</table>\n",
              "</div>\n",
              "      <button class=\"colab-df-convert\" onclick=\"convertToInteractive('df-26ab4801-6f2c-49b3-afa4-b01864cf7d9c')\"\n",
              "              title=\"Convert this dataframe to an interactive table.\"\n",
              "              style=\"display:none;\">\n",
              "        \n",
              "  <svg xmlns=\"http://www.w3.org/2000/svg\" height=\"24px\"viewBox=\"0 0 24 24\"\n",
              "       width=\"24px\">\n",
              "    <path d=\"M0 0h24v24H0V0z\" fill=\"none\"/>\n",
              "    <path d=\"M18.56 5.44l.94 2.06.94-2.06 2.06-.94-2.06-.94-.94-2.06-.94 2.06-2.06.94zm-11 1L8.5 8.5l.94-2.06 2.06-.94-2.06-.94L8.5 2.5l-.94 2.06-2.06.94zm10 10l.94 2.06.94-2.06 2.06-.94-2.06-.94-.94-2.06-.94 2.06-2.06.94z\"/><path d=\"M17.41 7.96l-1.37-1.37c-.4-.4-.92-.59-1.43-.59-.52 0-1.04.2-1.43.59L10.3 9.45l-7.72 7.72c-.78.78-.78 2.05 0 2.83L4 21.41c.39.39.9.59 1.41.59.51 0 1.02-.2 1.41-.59l7.78-7.78 2.81-2.81c.8-.78.8-2.07 0-2.86zM5.41 20L4 18.59l7.72-7.72 1.47 1.35L5.41 20z\"/>\n",
              "  </svg>\n",
              "      </button>\n",
              "      \n",
              "  <style>\n",
              "    .colab-df-container {\n",
              "      display:flex;\n",
              "      flex-wrap:wrap;\n",
              "      gap: 12px;\n",
              "    }\n",
              "\n",
              "    .colab-df-convert {\n",
              "      background-color: #E8F0FE;\n",
              "      border: none;\n",
              "      border-radius: 50%;\n",
              "      cursor: pointer;\n",
              "      display: none;\n",
              "      fill: #1967D2;\n",
              "      height: 32px;\n",
              "      padding: 0 0 0 0;\n",
              "      width: 32px;\n",
              "    }\n",
              "\n",
              "    .colab-df-convert:hover {\n",
              "      background-color: #E2EBFA;\n",
              "      box-shadow: 0px 1px 2px rgba(60, 64, 67, 0.3), 0px 1px 3px 1px rgba(60, 64, 67, 0.15);\n",
              "      fill: #174EA6;\n",
              "    }\n",
              "\n",
              "    [theme=dark] .colab-df-convert {\n",
              "      background-color: #3B4455;\n",
              "      fill: #D2E3FC;\n",
              "    }\n",
              "\n",
              "    [theme=dark] .colab-df-convert:hover {\n",
              "      background-color: #434B5C;\n",
              "      box-shadow: 0px 1px 3px 1px rgba(0, 0, 0, 0.15);\n",
              "      filter: drop-shadow(0px 1px 2px rgba(0, 0, 0, 0.3));\n",
              "      fill: #FFFFFF;\n",
              "    }\n",
              "  </style>\n",
              "\n",
              "      <script>\n",
              "        const buttonEl =\n",
              "          document.querySelector('#df-26ab4801-6f2c-49b3-afa4-b01864cf7d9c button.colab-df-convert');\n",
              "        buttonEl.style.display =\n",
              "          google.colab.kernel.accessAllowed ? 'block' : 'none';\n",
              "\n",
              "        async function convertToInteractive(key) {\n",
              "          const element = document.querySelector('#df-26ab4801-6f2c-49b3-afa4-b01864cf7d9c');\n",
              "          const dataTable =\n",
              "            await google.colab.kernel.invokeFunction('convertToInteractive',\n",
              "                                                     [key], {});\n",
              "          if (!dataTable) return;\n",
              "\n",
              "          const docLinkHtml = 'Like what you see? Visit the ' +\n",
              "            '<a target=\"_blank\" href=https://colab.research.google.com/notebooks/data_table.ipynb>data table notebook</a>'\n",
              "            + ' to learn more about interactive tables.';\n",
              "          element.innerHTML = '';\n",
              "          dataTable['output_type'] = 'display_data';\n",
              "          await google.colab.output.renderOutput(dataTable, element);\n",
              "          const docLink = document.createElement('div');\n",
              "          docLink.innerHTML = docLinkHtml;\n",
              "          element.appendChild(docLink);\n",
              "        }\n",
              "      </script>\n",
              "    </div>\n",
              "  </div>\n",
              "  "
            ]
          },
          "metadata": {},
          "execution_count": 12
        }
      ]
    },
    {
      "cell_type": "code",
      "source": [
        "# 5.1 Organize it : \n",
        "xtr = []\n",
        "ytr = []\n",
        "for i in range(timesteps,len(data)):\n",
        "  xtr.append(data.values[i-timesteps:i, :]) \n",
        "  ytr.append(data.values[i,0])"
      ],
      "metadata": {
        "id": "XLEHkLM2SxcE"
      },
      "execution_count": 13,
      "outputs": []
    },
    {
      "cell_type": "code",
      "source": [
        "# 5.2 Check\n",
        "xtr    # A list of arrays\n",
        "print(\"\\n==========\\n\")\n",
        "xtr[0].shape   # Each element of shape (3,2)\n",
        "print(\"\\n==========\\n\")\n",
        "ytr"
      ],
      "metadata": {
        "colab": {
          "base_uri": "https://localhost:8080/"
        },
        "id": "ZHDgEEevTBWb",
        "outputId": "e921b683-f53e-4736-a889-6b958139777e"
      },
      "execution_count": 14,
      "outputs": [
        {
          "output_type": "execute_result",
          "data": {
            "text/plain": [
              "[array([[23, 34],\n",
              "        [56, 11],\n",
              "        [12, 31]]), array([[56, 11],\n",
              "        [12, 31],\n",
              "        [77, 22]]), array([[12, 31],\n",
              "        [77, 22],\n",
              "        [50, 60]]), array([[77, 22],\n",
              "        [50, 60],\n",
              "        [10, 20]]), array([[50, 60],\n",
              "        [10, 20],\n",
              "        [65, 32]]), array([[10, 20],\n",
              "        [65, 32],\n",
              "        [40, 31]])]"
            ]
          },
          "metadata": {},
          "execution_count": 14
        },
        {
          "output_type": "stream",
          "name": "stdout",
          "text": [
            "\n",
            "==========\n",
            "\n"
          ]
        },
        {
          "output_type": "execute_result",
          "data": {
            "text/plain": [
              "(3, 2)"
            ]
          },
          "metadata": {},
          "execution_count": 14
        },
        {
          "output_type": "stream",
          "name": "stdout",
          "text": [
            "\n",
            "==========\n",
            "\n"
          ]
        },
        {
          "output_type": "execute_result",
          "data": {
            "text/plain": [
              "[77, 50, 10, 65, 40, 32]"
            ]
          },
          "metadata": {},
          "execution_count": 14
        }
      ]
    },
    {
      "cell_type": "markdown",
      "source": [
        "### Real code\n"
      ],
      "metadata": {
        "id": "335CwQZ9VLjM"
      }
    },
    {
      "cell_type": "code",
      "source": [
        "# 6.0\n",
        "timesteps = 60\n",
        "X_train = []\n",
        "y_train = []\n",
        "\n",
        "for i in range(timesteps,len(tr)):\n",
        "  X_train.append(tr[i-60:i,:])\n",
        "  y_train.append(tr[i,0])"
      ],
      "metadata": {
        "id": "-Z4ockeZVZSP"
      },
      "execution_count": 22,
      "outputs": []
    },
    {
      "cell_type": "code",
      "source": [
        "# 6.1 Transform list to arrays\n",
        "X_train = np.array(X_train)\n",
        "y_train = np.array(y_train)\n",
        "X_train.shape\n",
        "y_train.shape\n"
      ],
      "metadata": {
        "id": "pba_EyRlWFQm",
        "outputId": "a91eaea8-fc84-4075-96fa-40c82979a010",
        "colab": {
          "base_uri": "https://localhost:8080/"
        }
      },
      "execution_count": 23,
      "outputs": [
        {
          "output_type": "execute_result",
          "data": {
            "text/plain": [
              "(1198, 60, 2)"
            ]
          },
          "metadata": {},
          "execution_count": 23
        },
        {
          "output_type": "execute_result",
          "data": {
            "text/plain": [
              "(1198,)"
            ]
          },
          "metadata": {},
          "execution_count": 23
        }
      ]
    },
    {
      "cell_type": "code",
      "source": [
        "# 6.2 Shuffle sequence on axis = 0:\n",
        "arr = np.arange(len(X_train))\n",
        "np.random.shuffle(arr)\n",
        "X_train = X_train[arr, :, :]\n",
        "y_train = y_train[arr]"
      ],
      "metadata": {
        "id": "nMsHppzjiPLy"
      },
      "execution_count": 24,
      "outputs": []
    },
    {
      "cell_type": "code",
      "source": [
        "# 6.3 X_train is an array of arrays:\n",
        "type(X_train)\n",
        "print(\"\\n========\\n\")\n",
        "X_train.shape\n",
        "print(\"\\n========\\n\")\n",
        "type(X_train[0][:])\n",
        "print(\"\\n========\\n\")\n",
        "X_train[0][:].shape      # (1198, 60) there are 1198 arrays, each of size 60"
      ],
      "metadata": {
        "colab": {
          "base_uri": "https://localhost:8080/"
        },
        "id": "yQe3_aoJYkMk",
        "outputId": "222c6337-0217-432b-fe71-90c6f2565300"
      },
      "execution_count": 25,
      "outputs": [
        {
          "output_type": "execute_result",
          "data": {
            "text/plain": [
              "numpy.ndarray"
            ]
          },
          "metadata": {},
          "execution_count": 25
        },
        {
          "output_type": "stream",
          "name": "stdout",
          "text": [
            "\n",
            "========\n",
            "\n"
          ]
        },
        {
          "output_type": "execute_result",
          "data": {
            "text/plain": [
              "(1198, 60, 2)"
            ]
          },
          "metadata": {},
          "execution_count": 25
        },
        {
          "output_type": "stream",
          "name": "stdout",
          "text": [
            "\n",
            "========\n",
            "\n"
          ]
        },
        {
          "output_type": "execute_result",
          "data": {
            "text/plain": [
              "numpy.ndarray"
            ]
          },
          "metadata": {},
          "execution_count": 25
        },
        {
          "output_type": "stream",
          "name": "stdout",
          "text": [
            "\n",
            "========\n",
            "\n"
          ]
        },
        {
          "output_type": "execute_result",
          "data": {
            "text/plain": [
              "(60, 2)"
            ]
          },
          "metadata": {},
          "execution_count": 25
        }
      ]
    },
    {
      "cell_type": "code",
      "source": [
        "# 6.4 Reshape, if needed, to : (samples,timesteps,noOfFeatures):\n",
        "#     Not needed\n",
        "\n",
        "X_train= np.reshape(X_train, (X_train.shape[0],X_train.shape[1],2))\n",
        "X_train.shape    # (1198, 60, 2)"
      ],
      "metadata": {
        "id": "-YjZzkwoWCAa",
        "colab": {
          "base_uri": "https://localhost:8080/"
        },
        "outputId": "9f4ce9b7-2f9d-4518-b191-57d364b47ee6"
      },
      "execution_count": null,
      "outputs": [
        {
          "output_type": "execute_result",
          "data": {
            "text/plain": [
              "(1198, 60, 2)"
            ]
          },
          "metadata": {},
          "execution_count": 78
        }
      ]
    },
    {
      "cell_type": "markdown",
      "source": [
        "## Model"
      ],
      "metadata": {
        "id": "Us6CeB1MZWYU"
      }
    },
    {
      "cell_type": "code",
      "source": [
        "# 7.0\n",
        "model = tf.keras.Sequential()"
      ],
      "metadata": {
        "id": "1QxIBiuvXFZq"
      },
      "execution_count": null,
      "outputs": []
    },
    {
      "cell_type": "code",
      "source": [
        "# 7.1 X_train.shape[0] is number of samples:\n",
        "model.add(tf.keras.layers.Input(shape = (X_train.shape[1], X_train.shape[2])))"
      ],
      "metadata": {
        "id": "fZCD-5wlXXym"
      },
      "execution_count": null,
      "outputs": []
    },
    {
      "cell_type": "code",
      "source": [
        "# 7.2\n",
        "model.add(tf.keras.layers.LSTM(\n",
        "                                units = 50,\n",
        "                                return_sequences = True\n",
        "                               )\n",
        "         )"
      ],
      "metadata": {
        "id": "gJHCahLmXHxL"
      },
      "execution_count": null,
      "outputs": []
    },
    {
      "cell_type": "code",
      "source": [
        "# 7.3\n",
        "model.add(tf.keras.layers.Dropout(0.2))"
      ],
      "metadata": {
        "id": "zNCxQbelXhIf"
      },
      "execution_count": null,
      "outputs": []
    },
    {
      "cell_type": "code",
      "source": [
        "# 7.4\n",
        "model.add(tf.keras.layers.LSTM(\n",
        "                               units = 50,\n",
        "                               return_sequences = True)\n",
        "                              )"
      ],
      "metadata": {
        "id": "3lCoHEABX3YP"
      },
      "execution_count": null,
      "outputs": []
    },
    {
      "cell_type": "code",
      "source": [
        "# 7.5\n",
        "model.add(tf.keras.layers.Dropout(0.2))"
      ],
      "metadata": {
        "id": "qSADUoE4X7tr"
      },
      "execution_count": null,
      "outputs": []
    },
    {
      "cell_type": "code",
      "source": [
        "# 7.6\n",
        "model.add(tf.keras.layers.LSTM(units = 50))"
      ],
      "metadata": {
        "id": "GtEzr1ILX-ly"
      },
      "execution_count": null,
      "outputs": []
    },
    {
      "cell_type": "code",
      "source": [
        "# 7.7\n",
        "model.add(tf.keras.layers.Dropout(0.1))"
      ],
      "metadata": {
        "id": "s9GZCiIQYB7T"
      },
      "execution_count": null,
      "outputs": []
    },
    {
      "cell_type": "code",
      "source": [
        "# 7.8\n",
        "model.add(tf.keras.layers.Dense(1))"
      ],
      "metadata": {
        "id": "Y6oVPxkHYKB1"
      },
      "execution_count": null,
      "outputs": []
    },
    {
      "cell_type": "code",
      "source": [
        "# 7.9\n",
        "model.summary()"
      ],
      "metadata": {
        "colab": {
          "base_uri": "https://localhost:8080/"
        },
        "id": "Qwl3rSvxqnF2",
        "outputId": "b1b0cb75-8973-4d1e-ddee-ddf7c8093ecd"
      },
      "execution_count": null,
      "outputs": [
        {
          "output_type": "stream",
          "name": "stdout",
          "text": [
            "Model: \"sequential\"\n",
            "_________________________________________________________________\n",
            " Layer (type)                Output Shape              Param #   \n",
            "=================================================================\n",
            " lstm (LSTM)                 (None, 60, 50)            10600     \n",
            "                                                                 \n",
            " dropout (Dropout)           (None, 60, 50)            0         \n",
            "                                                                 \n",
            " lstm_1 (LSTM)               (None, 60, 50)            20200     \n",
            "                                                                 \n",
            " dropout_1 (Dropout)         (None, 60, 50)            0         \n",
            "                                                                 \n",
            " lstm_2 (LSTM)               (None, 50)                20200     \n",
            "                                                                 \n",
            " dropout_2 (Dropout)         (None, 50)                0         \n",
            "                                                                 \n",
            " dense (Dense)               (None, 1)                 51        \n",
            "                                                                 \n",
            "=================================================================\n",
            "Total params: 51,051\n",
            "Trainable params: 51,051\n",
            "Non-trainable params: 0\n",
            "_________________________________________________________________\n"
          ]
        }
      ]
    },
    {
      "cell_type": "markdown",
      "source": [
        "## Model comilation and fitting"
      ],
      "metadata": {
        "id": "9LK0EJJasTUw"
      }
    },
    {
      "cell_type": "code",
      "source": [
        "# 8.0 Compile:\n",
        "#     https://www.tensorflow.org/api_docs/python/tf/keras/Model#compile\n",
        "#     Try: tf.keras.optimizers.Adam(learning_rate=1e-4) # Default lr is 0.001\n",
        "\n",
        "model.compile(\n",
        "              optimizer = \"adam\",   # Default 'rmsprop'\n",
        "              loss = \"mse\"\n",
        "              )"
      ],
      "metadata": {
        "id": "p5wOnEFXYPwv"
      },
      "execution_count": null,
      "outputs": []
    },
    {
      "cell_type": "code",
      "source": [
        "# 9.0\n",
        "# https://www.tensorflow.org/api_docs/python/tf/keras/Model#fit\n",
        "model.fit(\n",
        "          X_train,y_train,\n",
        "          shuffle = True,    # By default\n",
        "          batch_size = 32,   # Default 32\n",
        "          epochs = 100       # Default 1\n",
        "          )"
      ],
      "metadata": {
        "id": "7A65QexRYXJz"
      },
      "execution_count": null,
      "outputs": []
    },
    {
      "cell_type": "markdown",
      "source": [
        "## Complete model code at one place:"
      ],
      "metadata": {
        "id": "i8w8TMFJhwkV"
      }
    },
    {
      "cell_type": "code",
      "source": [
        "# 9.1 Complete code at one place:\n",
        "#del model\n",
        "model = tf.keras.Sequential() \n",
        "model.add(tf.keras.layers.Input(shape = (X_train.shape[1], X_train.shape[2])))\n",
        "model.add(tf.keras.layers.LSTM(\n",
        "                                units = 50,\n",
        "                                return_sequences = True\n",
        "                               )\n",
        "         )\n",
        "model.add(tf.keras.layers.Dropout(0.2))\n",
        "model.add(tf.keras.layers.LSTM(\n",
        "                               units = 50,\n",
        "                               return_sequences = True)\n",
        "                              )\n",
        "model.add(tf.keras.layers.Dropout(0.2))\n",
        "model.add(tf.keras.layers.LSTM(units = 50))\n",
        "model.add(tf.keras.layers.Dropout(0.1))\n",
        "model.add(tf.keras.layers.Dense(1))\n",
        "model.summary()\n",
        "model.compile(optimizer = \"adam\", loss = \"mse\")\n",
        "model.fit(\n",
        "          X_train,y_train,\n",
        "          batch_size = 32,\n",
        "          shuffle = True,\n",
        "          epochs = 100\n",
        "          )"
      ],
      "metadata": {
        "colab": {
          "base_uri": "https://localhost:8080/"
        },
        "id": "GBvggGfBhze9",
        "outputId": "45b01ba8-90c5-4fee-d515-42784f8b71e0"
      },
      "execution_count": 27,
      "outputs": [
        {
          "output_type": "stream",
          "name": "stdout",
          "text": [
            "Model: \"sequential\"\n",
            "_________________________________________________________________\n",
            " Layer (type)                Output Shape              Param #   \n",
            "=================================================================\n",
            " lstm (LSTM)                 (None, 60, 50)            10600     \n",
            "                                                                 \n",
            " dropout (Dropout)           (None, 60, 50)            0         \n",
            "                                                                 \n",
            " lstm_1 (LSTM)               (None, 60, 50)            20200     \n",
            "                                                                 \n",
            " dropout_1 (Dropout)         (None, 60, 50)            0         \n",
            "                                                                 \n",
            " lstm_2 (LSTM)               (None, 50)                20200     \n",
            "                                                                 \n",
            " dropout_2 (Dropout)         (None, 50)                0         \n",
            "                                                                 \n",
            " dense (Dense)               (None, 1)                 51        \n",
            "                                                                 \n",
            "=================================================================\n",
            "Total params: 51,051\n",
            "Trainable params: 51,051\n",
            "Non-trainable params: 0\n",
            "_________________________________________________________________\n",
            "Epoch 1/100\n",
            "38/38 [==============================] - 11s 155ms/step - loss: 0.0260\n",
            "Epoch 2/100\n",
            "38/38 [==============================] - 4s 99ms/step - loss: 0.0040\n",
            "Epoch 3/100\n",
            "38/38 [==============================] - 5s 144ms/step - loss: 0.0035\n",
            "Epoch 4/100\n",
            "38/38 [==============================] - 7s 186ms/step - loss: 0.0034\n",
            "Epoch 5/100\n",
            "38/38 [==============================] - 5s 130ms/step - loss: 0.0033\n",
            "Epoch 6/100\n",
            "38/38 [==============================] - 7s 175ms/step - loss: 0.0031\n",
            "Epoch 7/100\n",
            "38/38 [==============================] - 5s 124ms/step - loss: 0.0030\n",
            "Epoch 8/100\n",
            "38/38 [==============================] - 3s 84ms/step - loss: 0.0036\n",
            "Epoch 9/100\n",
            "38/38 [==============================] - 3s 83ms/step - loss: 0.0030\n",
            "Epoch 10/100\n",
            "38/38 [==============================] - 5s 134ms/step - loss: 0.0027\n",
            "Epoch 11/100\n",
            "38/38 [==============================] - 3s 87ms/step - loss: 0.0025\n",
            "Epoch 12/100\n",
            "38/38 [==============================] - 3s 87ms/step - loss: 0.0028\n",
            "Epoch 13/100\n",
            "38/38 [==============================] - 3s 86ms/step - loss: 0.0028\n",
            "Epoch 14/100\n",
            "38/38 [==============================] - 5s 136ms/step - loss: 0.0027\n",
            "Epoch 15/100\n",
            "38/38 [==============================] - 3s 85ms/step - loss: 0.0025\n",
            "Epoch 16/100\n",
            "38/38 [==============================] - 3s 86ms/step - loss: 0.0024\n",
            "Epoch 17/100\n",
            "38/38 [==============================] - 3s 91ms/step - loss: 0.0026\n",
            "Epoch 18/100\n",
            "38/38 [==============================] - 5s 129ms/step - loss: 0.0025\n",
            "Epoch 19/100\n",
            "38/38 [==============================] - 3s 87ms/step - loss: 0.0030\n",
            "Epoch 20/100\n",
            "38/38 [==============================] - 3s 85ms/step - loss: 0.0022\n",
            "Epoch 21/100\n",
            "38/38 [==============================] - 4s 98ms/step - loss: 0.0024\n",
            "Epoch 22/100\n",
            "38/38 [==============================] - 5s 121ms/step - loss: 0.0022\n",
            "Epoch 23/100\n",
            "38/38 [==============================] - 3s 84ms/step - loss: 0.0023\n",
            "Epoch 24/100\n",
            "38/38 [==============================] - 3s 85ms/step - loss: 0.0022\n",
            "Epoch 25/100\n",
            "38/38 [==============================] - 4s 102ms/step - loss: 0.0024\n",
            "Epoch 26/100\n",
            "38/38 [==============================] - 4s 115ms/step - loss: 0.0021\n",
            "Epoch 27/100\n",
            "38/38 [==============================] - 4s 98ms/step - loss: 0.0025\n",
            "Epoch 28/100\n",
            "38/38 [==============================] - 4s 95ms/step - loss: 0.0018\n",
            "Epoch 29/100\n",
            "38/38 [==============================] - 5s 127ms/step - loss: 0.0018\n",
            "Epoch 30/100\n",
            "38/38 [==============================] - 4s 104ms/step - loss: 0.0018\n",
            "Epoch 31/100\n",
            "38/38 [==============================] - 4s 110ms/step - loss: 0.0018\n",
            "Epoch 32/100\n",
            "38/38 [==============================] - 6s 154ms/step - loss: 0.0019\n",
            "Epoch 33/100\n",
            "38/38 [==============================] - 4s 108ms/step - loss: 0.0021\n",
            "Epoch 34/100\n",
            "38/38 [==============================] - 3s 86ms/step - loss: 0.0018\n",
            "Epoch 35/100\n",
            "38/38 [==============================] - 3s 87ms/step - loss: 0.0016\n",
            "Epoch 36/100\n",
            "38/38 [==============================] - 4s 118ms/step - loss: 0.0019\n",
            "Epoch 37/100\n",
            "38/38 [==============================] - 4s 102ms/step - loss: 0.0018\n",
            "Epoch 38/100\n",
            "38/38 [==============================] - 5s 132ms/step - loss: 0.0019\n",
            "Epoch 39/100\n",
            "38/38 [==============================] - 4s 97ms/step - loss: 0.0017\n",
            "Epoch 40/100\n",
            "38/38 [==============================] - 5s 122ms/step - loss: 0.0018\n",
            "Epoch 41/100\n",
            "38/38 [==============================] - 3s 85ms/step - loss: 0.0018\n",
            "Epoch 42/100\n",
            "38/38 [==============================] - 3s 85ms/step - loss: 0.0019\n",
            "Epoch 43/100\n",
            "38/38 [==============================] - 4s 104ms/step - loss: 0.0017\n",
            "Epoch 44/100\n",
            "38/38 [==============================] - 5s 119ms/step - loss: 0.0017\n",
            "Epoch 45/100\n",
            "38/38 [==============================] - 4s 95ms/step - loss: 0.0016\n",
            "Epoch 46/100\n",
            "38/38 [==============================] - 3s 88ms/step - loss: 0.0017\n",
            "Epoch 47/100\n",
            "38/38 [==============================] - 5s 129ms/step - loss: 0.0015\n",
            "Epoch 48/100\n",
            "38/38 [==============================] - 4s 94ms/step - loss: 0.0016\n",
            "Epoch 49/100\n",
            "38/38 [==============================] - 3s 86ms/step - loss: 0.0017\n",
            "Epoch 50/100\n",
            "38/38 [==============================] - 3s 87ms/step - loss: 0.0015\n",
            "Epoch 51/100\n",
            "38/38 [==============================] - 5s 131ms/step - loss: 0.0015\n",
            "Epoch 52/100\n",
            "38/38 [==============================] - 3s 86ms/step - loss: 0.0015\n",
            "Epoch 53/100\n",
            "38/38 [==============================] - 3s 85ms/step - loss: 0.0015\n",
            "Epoch 54/100\n",
            "38/38 [==============================] - 3s 86ms/step - loss: 0.0016\n",
            "Epoch 55/100\n",
            "38/38 [==============================] - 5s 135ms/step - loss: 0.0015\n",
            "Epoch 56/100\n",
            "38/38 [==============================] - 3s 87ms/step - loss: 0.0016\n",
            "Epoch 57/100\n",
            "38/38 [==============================] - 3s 86ms/step - loss: 0.0013\n",
            "Epoch 58/100\n",
            "38/38 [==============================] - 3s 85ms/step - loss: 0.0017\n",
            "Epoch 59/100\n",
            "38/38 [==============================] - 5s 134ms/step - loss: 0.0015\n",
            "Epoch 60/100\n",
            "38/38 [==============================] - 3s 87ms/step - loss: 0.0013\n",
            "Epoch 61/100\n",
            "38/38 [==============================] - 3s 84ms/step - loss: 0.0014\n",
            "Epoch 62/100\n",
            "38/38 [==============================] - 3s 89ms/step - loss: 0.0013\n",
            "Epoch 63/100\n",
            "38/38 [==============================] - 5s 129ms/step - loss: 0.0015\n",
            "Epoch 64/100\n",
            "38/38 [==============================] - 3s 87ms/step - loss: 0.0013\n",
            "Epoch 65/100\n",
            "38/38 [==============================] - 3s 85ms/step - loss: 0.0014\n",
            "Epoch 66/100\n",
            "38/38 [==============================] - 4s 96ms/step - loss: 0.0014\n",
            "Epoch 67/100\n",
            "38/38 [==============================] - 5s 127ms/step - loss: 0.0013\n",
            "Epoch 68/100\n",
            "38/38 [==============================] - 3s 85ms/step - loss: 0.0013\n",
            "Epoch 69/100\n",
            "38/38 [==============================] - 3s 83ms/step - loss: 0.0012\n",
            "Epoch 70/100\n",
            "38/38 [==============================] - 4s 101ms/step - loss: 0.0013\n",
            "Epoch 71/100\n",
            "38/38 [==============================] - 5s 120ms/step - loss: 0.0014\n",
            "Epoch 72/100\n",
            "38/38 [==============================] - 3s 84ms/step - loss: 0.0013\n",
            "Epoch 73/100\n",
            "38/38 [==============================] - 3s 83ms/step - loss: 0.0012\n",
            "Epoch 74/100\n",
            "38/38 [==============================] - 4s 103ms/step - loss: 0.0012\n",
            "Epoch 75/100\n",
            "38/38 [==============================] - 4s 118ms/step - loss: 0.0013\n",
            "Epoch 76/100\n",
            "38/38 [==============================] - 3s 87ms/step - loss: 0.0012\n",
            "Epoch 77/100\n",
            "38/38 [==============================] - 3s 88ms/step - loss: 0.0010\n",
            "Epoch 78/100\n",
            "38/38 [==============================] - 4s 110ms/step - loss: 0.0012\n",
            "Epoch 79/100\n",
            "38/38 [==============================] - 4s 108ms/step - loss: 9.8713e-04\n",
            "Epoch 80/100\n",
            "38/38 [==============================] - 3s 85ms/step - loss: 0.0010\n",
            "Epoch 81/100\n",
            "38/38 [==============================] - 3s 85ms/step - loss: 0.0011\n",
            "Epoch 82/100\n",
            "38/38 [==============================] - 4s 118ms/step - loss: 0.0012\n",
            "Epoch 83/100\n",
            "38/38 [==============================] - 4s 101ms/step - loss: 0.0010\n",
            "Epoch 84/100\n",
            "38/38 [==============================] - 3s 85ms/step - loss: 9.8308e-04\n",
            "Epoch 85/100\n",
            "38/38 [==============================] - 3s 85ms/step - loss: 0.0010\n",
            "Epoch 86/100\n",
            "38/38 [==============================] - 5s 119ms/step - loss: 0.0010\n",
            "Epoch 87/100\n",
            "38/38 [==============================] - 4s 99ms/step - loss: 0.0011\n",
            "Epoch 88/100\n",
            "38/38 [==============================] - 3s 85ms/step - loss: 0.0011\n",
            "Epoch 89/100\n",
            "38/38 [==============================] - 3s 85ms/step - loss: 0.0011\n",
            "Epoch 90/100\n",
            "38/38 [==============================] - 5s 125ms/step - loss: 0.0011\n",
            "Epoch 91/100\n",
            "38/38 [==============================] - 4s 95ms/step - loss: 0.0011\n",
            "Epoch 92/100\n",
            "38/38 [==============================] - 3s 83ms/step - loss: 0.0012\n",
            "Epoch 93/100\n",
            "38/38 [==============================] - 3s 84ms/step - loss: 0.0010\n",
            "Epoch 94/100\n",
            "38/38 [==============================] - 5s 126ms/step - loss: 0.0011\n",
            "Epoch 95/100\n",
            "38/38 [==============================] - 4s 92ms/step - loss: 9.6418e-04\n",
            "Epoch 96/100\n",
            "38/38 [==============================] - 3s 84ms/step - loss: 9.2815e-04\n",
            "Epoch 97/100\n",
            "38/38 [==============================] - 3s 85ms/step - loss: 9.4907e-04\n",
            "Epoch 98/100\n",
            "38/38 [==============================] - 5s 133ms/step - loss: 0.0010\n",
            "Epoch 99/100\n",
            "38/38 [==============================] - 3s 85ms/step - loss: 9.9645e-04\n",
            "Epoch 100/100\n",
            "38/38 [==============================] - 3s 86ms/step - loss: 9.4737e-04\n"
          ]
        },
        {
          "output_type": "execute_result",
          "data": {
            "text/plain": [
              "<keras.callbacks.History at 0x7fa71eba3a60>"
            ]
          },
          "metadata": {},
          "execution_count": 27
        }
      ]
    },
    {
      "cell_type": "markdown",
      "source": [
        "## Make predictions"
      ],
      "metadata": {
        "id": "K1hwYslhq1i2"
      }
    },
    {
      "cell_type": "markdown",
      "source": [
        "### Prepare test data"
      ],
      "metadata": {
        "id": "1PwPCkUfi_Hn"
      }
    },
    {
      "cell_type": "code",
      "source": [
        "# 10.0 Our data:\n",
        "te.shape   # (20, 2)\n",
        "tr.shape  # (1258, 2)"
      ],
      "metadata": {
        "colab": {
          "base_uri": "https://localhost:8080/"
        },
        "id": "43VwNvrp6_jx",
        "outputId": "a3186269-79d7-4d76-cedd-49c369556a65"
      },
      "execution_count": 28,
      "outputs": [
        {
          "output_type": "execute_result",
          "data": {
            "text/plain": [
              "(20, 2)"
            ]
          },
          "metadata": {},
          "execution_count": 28
        },
        {
          "output_type": "execute_result",
          "data": {
            "text/plain": [
              "(1258, 2)"
            ]
          },
          "metadata": {},
          "execution_count": 28
        }
      ]
    },
    {
      "cell_type": "code",
      "source": [
        "# 10.1 Concatenate tr/te:\n",
        "\n",
        "combined_df = np.vstack([tr, te])\n",
        "combined_df.shape"
      ],
      "metadata": {
        "id": "v12v6DAtV03F",
        "outputId": "b063a5c3-bd60-4dae-ff06-f123d5ed9b15",
        "colab": {
          "base_uri": "https://localhost:8080/"
        }
      },
      "execution_count": 29,
      "outputs": [
        {
          "output_type": "execute_result",
          "data": {
            "text/plain": [
              "(1278, 2)"
            ]
          },
          "metadata": {},
          "execution_count": 29
        }
      ]
    },
    {
      "cell_type": "code",
      "source": [
        "# 10.2 Data for test predictions:\n",
        "\n",
        "inputs = combined_df[len(combined_df) - len(te) - 60:]\n",
        "inputs.shape   # (80,2)"
      ],
      "metadata": {
        "colab": {
          "base_uri": "https://localhost:8080/"
        },
        "id": "tpaStpeh7fkR",
        "outputId": "e49f9568-4d02-40b9-a5a6-69f613d34f07"
      },
      "execution_count": 30,
      "outputs": [
        {
          "output_type": "execute_result",
          "data": {
            "text/plain": [
              "(80, 2)"
            ]
          },
          "metadata": {},
          "execution_count": 30
        }
      ]
    },
    {
      "cell_type": "code",
      "source": [
        "# 10.3 Reshape, if rquired\n",
        "#      Not required\n",
        "inputs = inputs.reshape(-1,2)\n",
        "inputs.shape   # (80, 2)"
      ],
      "metadata": {
        "colab": {
          "base_uri": "https://localhost:8080/"
        },
        "id": "fT08QyAq7x6h",
        "outputId": "1ecd529e-36c7-4461-e0a4-b7c808cb3aae"
      },
      "execution_count": 31,
      "outputs": [
        {
          "output_type": "execute_result",
          "data": {
            "text/plain": [
              "(80, 2)"
            ]
          },
          "metadata": {},
          "execution_count": 31
        }
      ]
    },
    {
      "cell_type": "code",
      "source": [
        "# 11.1 Prepare 'test' timeseries data from inputs data:\n",
        "\n",
        "X_test = []\n",
        "for i in range(60,80):\n",
        "    X_test.append(inputs[i-60:i,:])\n"
      ],
      "metadata": {
        "id": "ODcolOmza33J"
      },
      "execution_count": 32,
      "outputs": []
    },
    {
      "cell_type": "code",
      "source": [
        "# 11.2 Check: \n",
        "len(X_test)    # 20\n",
        "print(\"\\n===========\\n\")\n",
        "X_test[0].shape\n",
        "print(\"\\n===========\\n\")\n",
        "X_test = np.array(X_test)\n",
        "X_test.shape   # (20, 60)"
      ],
      "metadata": {
        "id": "B0uqcENfW7sI",
        "outputId": "842134f1-aa52-4e63-a62d-a925fc906fa9",
        "colab": {
          "base_uri": "https://localhost:8080/"
        }
      },
      "execution_count": 33,
      "outputs": [
        {
          "output_type": "execute_result",
          "data": {
            "text/plain": [
              "20"
            ]
          },
          "metadata": {},
          "execution_count": 33
        },
        {
          "output_type": "stream",
          "name": "stdout",
          "text": [
            "\n",
            "===========\n",
            "\n"
          ]
        },
        {
          "output_type": "execute_result",
          "data": {
            "text/plain": [
              "(60, 2)"
            ]
          },
          "metadata": {},
          "execution_count": 33
        },
        {
          "output_type": "stream",
          "name": "stdout",
          "text": [
            "\n",
            "===========\n",
            "\n"
          ]
        },
        {
          "output_type": "execute_result",
          "data": {
            "text/plain": [
              "(20, 60, 2)"
            ]
          },
          "metadata": {},
          "execution_count": 33
        }
      ]
    },
    {
      "cell_type": "code",
      "source": [
        "# 11.3 Reshape X_test:\n",
        "#      Not needed. Data already in this shape\n",
        "\n",
        "X_test = np.reshape(X_test, (X_test.shape[0], X_test.shape[1],2))\n",
        "X_test.shape"
      ],
      "metadata": {
        "colab": {
          "base_uri": "https://localhost:8080/"
        },
        "id": "tSy2qxTK8Wms",
        "outputId": "0c6d81ec-78b8-4a1c-d8a4-98195ebc8177"
      },
      "execution_count": 34,
      "outputs": [
        {
          "output_type": "execute_result",
          "data": {
            "text/plain": [
              "(20, 60, 2)"
            ]
          },
          "metadata": {},
          "execution_count": 34
        }
      ]
    },
    {
      "cell_type": "markdown",
      "source": [
        "### Make predictions"
      ],
      "metadata": {
        "id": "E3-EkMjKjEdF"
      }
    },
    {
      "cell_type": "code",
      "source": [
        "# 12 Make predictions\n",
        "\n",
        "pred = model.predict(X_test)\n",
        "\n",
        "print(\"\\n==========\\n\")\n",
        "pred\n",
        "print(\"\\n==========\\n\")\n",
        "pred.shape"
      ],
      "metadata": {
        "id": "20a0-Pf78SKj",
        "colab": {
          "base_uri": "https://localhost:8080/"
        },
        "outputId": "7f6ab287-e96b-4123-ece0-1702c6fdd5c7"
      },
      "execution_count": 35,
      "outputs": [
        {
          "output_type": "stream",
          "name": "stdout",
          "text": [
            "1/1 [==============================] - 1s 1s/step\n",
            "\n",
            "==========\n",
            "\n"
          ]
        },
        {
          "output_type": "execute_result",
          "data": {
            "text/plain": [
              "array([[0.90418273],\n",
              "       [0.90242505],\n",
              "       [0.90695876],\n",
              "       [0.9125431 ],\n",
              "       [0.9239682 ],\n",
              "       [0.93516636],\n",
              "       [0.9398858 ],\n",
              "       [0.9383563 ],\n",
              "       [0.9356274 ],\n",
              "       [0.9362491 ],\n",
              "       [0.9363402 ],\n",
              "       [0.93579847],\n",
              "       [0.93705773],\n",
              "       [0.93786246],\n",
              "       [0.94508386],\n",
              "       [0.9572721 ],\n",
              "       [0.9713346 ],\n",
              "       [0.981385  ],\n",
              "       [0.985608  ],\n",
              "       [0.96812284]], dtype=float32)"
            ]
          },
          "metadata": {},
          "execution_count": 35
        },
        {
          "output_type": "stream",
          "name": "stdout",
          "text": [
            "\n",
            "==========\n",
            "\n"
          ]
        },
        {
          "output_type": "execute_result",
          "data": {
            "text/plain": [
              "(20, 1)"
            ]
          },
          "metadata": {},
          "execution_count": 35
        }
      ]
    },
    {
      "cell_type": "code",
      "source": [
        "# 12.1 Inverse transform:\n",
        "#      Inverse transform requires that we have\n",
        "#      data of shape of (n,2), as transform was carried\n",
        "#      out on data of shape(n,2)\n",
        "#      Add a dummy IInd columns:\n",
        "\n",
        "out = np.hstack([pred,pred])\n",
        "\n",
        "# 11.5 Now inverse transform\n",
        "pred = mm.inverse_transform(out)\n",
        "pred"
      ],
      "metadata": {
        "id": "geBvEekBXWc7",
        "colab": {
          "base_uri": "https://localhost:8080/"
        },
        "outputId": "3e7ee6e0-ce9a-4e77-d342-9bcdad508804"
      },
      "execution_count": 36,
      "outputs": [
        {
          "output_type": "execute_result",
          "data": {
            "text/plain": [
              "array([[765.1725 , 765.37274],\n",
              "       [764.2276 , 764.4316 ],\n",
              "       [766.66473, 766.8592 ],\n",
              "       [769.6667 , 769.8494 ],\n",
              "       [775.8083 , 775.9673 ],\n",
              "       [781.828  , 781.96356],\n",
              "       [784.365  , 784.49066],\n",
              "       [783.5428 , 783.67163],\n",
              "       [782.07587, 782.2104 ],\n",
              "       [782.41003, 782.5433 ],\n",
              "       [782.45905, 782.5921 ],\n",
              "       [782.16785, 782.302  ],\n",
              "       [782.8447 , 782.9763 ],\n",
              "       [783.27734, 783.40717],\n",
              "       [787.15924, 787.27405],\n",
              "       [793.7112 , 793.8005 ],\n",
              "       [801.27057, 801.33057],\n",
              "       [806.6733 , 806.7122 ],\n",
              "       [808.9434 , 808.9735 ],\n",
              "       [799.54407, 799.6108 ]], dtype=float32)"
            ]
          },
          "metadata": {},
          "execution_count": 36
        }
      ]
    },
    {
      "cell_type": "markdown",
      "source": [
        "## Plotting results"
      ],
      "metadata": {
        "id": "qy7uSZcprrnA"
      }
    },
    {
      "cell_type": "code",
      "source": [
        "# 12.2 Plot \n",
        "real_stock_price = test.values[:, 1]\n",
        "plt.plot(real_stock_price, color='red', label = \"Real Google Stock Price\");\n",
        "plt.plot(pred[:,0], color = 'blue', label = \"PRedicted google stock price\") ;\n",
        "plt.title(\"Google stock price prediction\") ;\n",
        "plt.xlabel(\"Time\") ;\n",
        "plt.ylabel(\"Google Stock Price\");\n",
        "plt.show() ;"
      ],
      "metadata": {
        "id": "paqdNK01Ybxz",
        "outputId": "ecb76466-5c9c-40af-9e0d-a9c3e198c8cf",
        "colab": {
          "base_uri": "https://localhost:8080/",
          "height": 295
        }
      },
      "execution_count": 37,
      "outputs": [
        {
          "output_type": "display_data",
          "data": {
            "text/plain": [
              "<Figure size 432x288 with 1 Axes>"
            ],
            "image/png": "[encoded data removed]"
          },
          "metadata": {
            "needs_background": "light"
          }
        }
      ]
    },
    {
      "cell_type": "markdown",
      "source": [
        "## USing Attention"
      ],
      "metadata": {
        "id": "fqztu-521lG-"
      }
    },
    {
      "cell_type": "code",
      "source": [
        "# 13.0 Install attention\n",
        "! pip install attention"
      ],
      "metadata": {
        "id": "dA4mXs5gZo9j"
      },
      "execution_count": null,
      "outputs": []
    },
    {
      "cell_type": "code",
      "source": [
        "# 13.1 Call Attention\n",
        "from attention import Attention"
      ],
      "metadata": {
        "id": "5DiqDvTfqopd"
      },
      "execution_count": null,
      "outputs": []
    },
    {
      "cell_type": "code",
      "source": [
        "\n",
        "# 13.2 Complete code at one place:\n",
        "#       Uses Attention. \n",
        "model1 = tf.keras.Sequential() \n",
        "model1.add(tf.keras.layers.Input(shape = (X_train.shape[1], X_train.shape[2])))\n",
        "model1.add(tf.keras.layers.LSTM(\n",
        "                                units = 50,\n",
        "                                return_sequences = True\n",
        "                               )\n",
        "         )\n",
        "model1.add(tf.keras.layers.Dropout(0.2))\n",
        "model1.add(tf.keras.layers.LSTM(\n",
        "                               units = 50,\n",
        "                               return_sequences = True\n",
        "                              )\n",
        "          )\n",
        "model1.add(tf.keras.layers.Dropout(0.2))\n",
        "model1.add(Attention(units = 50))\n",
        "model1.add(tf.keras.layers.Dropout(0.1))\n",
        "model1.add(tf.keras.layers.Dense(1))\n",
        "model1.summary()\n",
        "model1.compile(optimizer = \"adam\", loss = \"mse\")\n",
        "model1.fit(\n",
        "          X_train,y_train,\n",
        "          batch_size = 32,\n",
        "          epochs = 100\n",
        "          )\n"
      ],
      "metadata": {
        "id": "FCeo7zKpZrUj",
        "colab": {
          "base_uri": "https://localhost:8080/"
        },
        "outputId": "12ce39f2-6f7d-4761-d09b-f5e03c94e0f0"
      },
      "execution_count": null,
      "outputs": [
        {
          "output_type": "stream",
          "name": "stdout",
          "text": [
            "Model: \"sequential_15\"\n",
            "_________________________________________________________________\n",
            " Layer (type)                Output Shape              Param #   \n",
            "=================================================================\n",
            " lstm_22 (LSTM)              (None, 60, 50)            10600     \n",
            "                                                                 \n",
            " dropout_23 (Dropout)        (None, 60, 50)            0         \n",
            "                                                                 \n",
            " lstm_23 (LSTM)              (None, 60, 50)            20200     \n",
            "                                                                 \n",
            " dropout_24 (Dropout)        (None, 60, 50)            0         \n",
            "                                                                 \n",
            " attention_7 (Attention)     (None, 50)                7500      \n",
            "                                                                 \n",
            " dropout_25 (Dropout)        (None, 50)                0         \n",
            "                                                                 \n",
            " dense_6 (Dense)             (None, 1)                 51        \n",
            "                                                                 \n",
            "=================================================================\n",
            "Total params: 38,351\n",
            "Trainable params: 38,351\n",
            "Non-trainable params: 0\n",
            "_________________________________________________________________\n",
            "Epoch 1/100\n",
            "38/38 [==============================] - 16s 174ms/step - loss: 0.0270\n",
            "Epoch 2/100\n",
            "38/38 [==============================] - 6s 171ms/step - loss: 0.0053\n",
            "Epoch 3/100\n",
            "38/38 [==============================] - 7s 175ms/step - loss: 0.0042\n",
            "Epoch 4/100\n",
            "38/38 [==============================] - 6s 149ms/step - loss: 0.0042\n",
            "Epoch 5/100\n",
            "38/38 [==============================] - 4s 111ms/step - loss: 0.0044\n",
            "Epoch 6/100\n",
            "38/38 [==============================] - 3s 67ms/step - loss: 0.0037\n",
            "Epoch 7/100\n",
            "38/38 [==============================] - 2s 66ms/step - loss: 0.0039\n",
            "Epoch 8/100\n",
            "38/38 [==============================] - 3s 66ms/step - loss: 0.0037\n",
            "Epoch 9/100\n",
            "38/38 [==============================] - 3s 67ms/step - loss: 0.0033\n",
            "Epoch 10/100\n",
            "38/38 [==============================] - 2s 66ms/step - loss: 0.0035\n",
            "Epoch 11/100\n",
            "38/38 [==============================] - 2s 65ms/step - loss: 0.0036\n",
            "Epoch 12/100\n",
            "38/38 [==============================] - 2s 65ms/step - loss: 0.0035\n",
            "Epoch 13/100\n",
            "38/38 [==============================] - 2s 65ms/step - loss: 0.0032\n",
            "Epoch 14/100\n",
            "38/38 [==============================] - 3s 67ms/step - loss: 0.0031\n",
            "Epoch 15/100\n",
            "38/38 [==============================] - 3s 66ms/step - loss: 0.0030\n",
            "Epoch 16/100\n",
            "38/38 [==============================] - 3s 66ms/step - loss: 0.0029\n",
            "Epoch 17/100\n",
            "38/38 [==============================] - 3s 67ms/step - loss: 0.0029\n",
            "Epoch 18/100\n",
            "38/38 [==============================] - 3s 67ms/step - loss: 0.0025\n",
            "Epoch 19/100\n",
            "38/38 [==============================] - 3s 68ms/step - loss: 0.0030\n",
            "Epoch 20/100\n",
            "38/38 [==============================] - 3s 68ms/step - loss: 0.0028\n",
            "Epoch 21/100\n",
            "38/38 [==============================] - 3s 67ms/step - loss: 0.0029\n",
            "Epoch 22/100\n",
            "38/38 [==============================] - 3s 68ms/step - loss: 0.0022\n",
            "Epoch 23/100\n",
            "38/38 [==============================] - 3s 67ms/step - loss: 0.0026\n",
            "Epoch 24/100\n",
            "38/38 [==============================] - 3s 67ms/step - loss: 0.0024\n",
            "Epoch 25/100\n",
            "38/38 [==============================] - 3s 66ms/step - loss: 0.0022\n",
            "Epoch 26/100\n",
            "38/38 [==============================] - 3s 67ms/step - loss: 0.0024\n",
            "Epoch 27/100\n",
            "38/38 [==============================] - 3s 67ms/step - loss: 0.0022\n",
            "Epoch 28/100\n",
            "38/38 [==============================] - 3s 66ms/step - loss: 0.0022\n",
            "Epoch 29/100\n",
            "38/38 [==============================] - 3s 67ms/step - loss: 0.0022\n",
            "Epoch 30/100\n",
            "38/38 [==============================] - 3s 68ms/step - loss: 0.0020\n",
            "Epoch 31/100\n",
            "38/38 [==============================] - 3s 67ms/step - loss: 0.0021\n",
            "Epoch 32/100\n",
            "38/38 [==============================] - 3s 67ms/step - loss: 0.0022\n",
            "Epoch 33/100\n",
            "38/38 [==============================] - 3s 68ms/step - loss: 0.0020\n",
            "Epoch 34/100\n",
            "38/38 [==============================] - 3s 68ms/step - loss: 0.0022\n",
            "Epoch 35/100\n",
            "38/38 [==============================] - 3s 66ms/step - loss: 0.0022\n",
            "Epoch 36/100\n",
            "38/38 [==============================] - 3s 67ms/step - loss: 0.0019\n",
            "Epoch 37/100\n",
            "38/38 [==============================] - 3s 67ms/step - loss: 0.0020\n",
            "Epoch 38/100\n",
            "38/38 [==============================] - 3s 68ms/step - loss: 0.0022\n",
            "Epoch 39/100\n",
            "38/38 [==============================] - 3s 67ms/step - loss: 0.0018\n",
            "Epoch 40/100\n",
            "38/38 [==============================] - 3s 67ms/step - loss: 0.0021\n",
            "Epoch 41/100\n",
            "38/38 [==============================] - 3s 68ms/step - loss: 0.0018\n",
            "Epoch 42/100\n",
            "38/38 [==============================] - 3s 67ms/step - loss: 0.0019\n",
            "Epoch 43/100\n",
            "38/38 [==============================] - 4s 107ms/step - loss: 0.0019\n",
            "Epoch 44/100\n",
            "38/38 [==============================] - 3s 78ms/step - loss: 0.0021\n",
            "Epoch 45/100\n",
            "38/38 [==============================] - 3s 66ms/step - loss: 0.0018\n",
            "Epoch 46/100\n",
            "38/38 [==============================] - 3s 67ms/step - loss: 0.0017\n",
            "Epoch 47/100\n",
            "38/38 [==============================] - 3s 67ms/step - loss: 0.0017\n",
            "Epoch 48/100\n",
            "38/38 [==============================] - 3s 67ms/step - loss: 0.0017\n",
            "Epoch 49/100\n",
            "38/38 [==============================] - 3s 66ms/step - loss: 0.0021\n",
            "Epoch 50/100\n",
            "38/38 [==============================] - 3s 68ms/step - loss: 0.0016\n",
            "Epoch 51/100\n",
            "38/38 [==============================] - 2s 65ms/step - loss: 0.0017\n",
            "Epoch 52/100\n",
            "38/38 [==============================] - 3s 66ms/step - loss: 0.0020\n",
            "Epoch 53/100\n",
            "38/38 [==============================] - 3s 65ms/step - loss: 0.0017\n",
            "Epoch 54/100\n",
            "38/38 [==============================] - 3s 66ms/step - loss: 0.0017\n",
            "Epoch 55/100\n",
            "38/38 [==============================] - 3s 67ms/step - loss: 0.0017\n",
            "Epoch 56/100\n",
            "38/38 [==============================] - 3s 80ms/step - loss: 0.0016\n",
            "Epoch 57/100\n",
            "38/38 [==============================] - 3s 67ms/step - loss: 0.0014\n",
            "Epoch 58/100\n",
            "38/38 [==============================] - 3s 66ms/step - loss: 0.0019\n",
            "Epoch 59/100\n",
            "38/38 [==============================] - 3s 67ms/step - loss: 0.0016\n",
            "Epoch 60/100\n",
            "38/38 [==============================] - 3s 67ms/step - loss: 0.0018\n",
            "Epoch 61/100\n",
            "38/38 [==============================] - 3s 67ms/step - loss: 0.0016\n",
            "Epoch 62/100\n",
            "38/38 [==============================] - 3s 68ms/step - loss: 0.0016\n",
            "Epoch 63/100\n",
            "38/38 [==============================] - 3s 68ms/step - loss: 0.0018\n",
            "Epoch 64/100\n",
            "38/38 [==============================] - 3s 67ms/step - loss: 0.0015\n",
            "Epoch 65/100\n",
            "38/38 [==============================] - 3s 66ms/step - loss: 0.0014\n",
            "Epoch 66/100\n",
            "38/38 [==============================] - 3s 69ms/step - loss: 0.0015\n",
            "Epoch 67/100\n",
            "38/38 [==============================] - 3s 67ms/step - loss: 0.0013\n",
            "Epoch 68/100\n",
            "38/38 [==============================] - 3s 68ms/step - loss: 0.0014\n",
            "Epoch 69/100\n",
            "38/38 [==============================] - 3s 67ms/step - loss: 0.0014\n",
            "Epoch 70/100\n",
            "38/38 [==============================] - 3s 67ms/step - loss: 0.0015\n",
            "Epoch 71/100\n",
            "38/38 [==============================] - 3s 67ms/step - loss: 0.0015\n",
            "Epoch 72/100\n",
            "38/38 [==============================] - 3s 67ms/step - loss: 0.0014\n",
            "Epoch 73/100\n",
            "38/38 [==============================] - 3s 66ms/step - loss: 0.0013\n",
            "Epoch 74/100\n",
            "38/38 [==============================] - 3s 66ms/step - loss: 0.0014\n",
            "Epoch 75/100\n",
            "38/38 [==============================] - 3s 68ms/step - loss: 0.0012\n",
            "Epoch 76/100\n",
            "38/38 [==============================] - 3s 67ms/step - loss: 0.0015\n",
            "Epoch 77/100\n",
            "38/38 [==============================] - 3s 66ms/step - loss: 0.0013\n",
            "Epoch 78/100\n",
            "38/38 [==============================] - 3s 67ms/step - loss: 0.0014\n",
            "Epoch 79/100\n",
            "38/38 [==============================] - 3s 66ms/step - loss: 0.0013\n",
            "Epoch 80/100\n",
            "38/38 [==============================] - 4s 93ms/step - loss: 0.0015\n",
            "Epoch 81/100\n",
            "38/38 [==============================] - 3s 90ms/step - loss: 0.0012\n",
            "Epoch 82/100\n",
            "38/38 [==============================] - 3s 67ms/step - loss: 0.0014\n",
            "Epoch 83/100\n",
            "38/38 [==============================] - 3s 68ms/step - loss: 0.0012\n",
            "Epoch 84/100\n",
            "38/38 [==============================] - 3s 66ms/step - loss: 0.0012\n",
            "Epoch 85/100\n",
            "38/38 [==============================] - 3s 67ms/step - loss: 0.0011\n",
            "Epoch 86/100\n",
            "38/38 [==============================] - 3s 69ms/step - loss: 0.0013\n",
            "Epoch 87/100\n",
            "38/38 [==============================] - 3s 67ms/step - loss: 0.0012\n",
            "Epoch 88/100\n",
            "38/38 [==============================] - 3s 67ms/step - loss: 0.0011\n",
            "Epoch 89/100\n",
            "38/38 [==============================] - 3s 70ms/step - loss: 0.0012\n",
            "Epoch 90/100\n",
            "38/38 [==============================] - 3s 91ms/step - loss: 0.0012\n",
            "Epoch 91/100\n",
            "38/38 [==============================] - 6s 149ms/step - loss: 0.0013\n",
            "Epoch 92/100\n",
            "38/38 [==============================] - 6s 158ms/step - loss: 0.0012\n",
            "Epoch 93/100\n",
            "38/38 [==============================] - 6s 164ms/step - loss: 0.0012\n",
            "Epoch 94/100\n",
            "38/38 [==============================] - 4s 104ms/step - loss: 0.0010\n",
            "Epoch 95/100\n",
            "38/38 [==============================] - 5s 140ms/step - loss: 0.0013\n",
            "Epoch 96/100\n",
            "38/38 [==============================] - 3s 91ms/step - loss: 0.0011\n",
            "Epoch 97/100\n",
            "38/38 [==============================] - 4s 105ms/step - loss: 0.0012\n",
            "Epoch 98/100\n",
            "38/38 [==============================] - 3s 67ms/step - loss: 0.0011\n",
            "Epoch 99/100\n",
            "38/38 [==============================] - 3s 83ms/step - loss: 0.0011\n",
            "Epoch 100/100\n",
            "38/38 [==============================] - 3s 88ms/step - loss: 0.0011\n"
          ]
        },
        {
          "output_type": "execute_result",
          "data": {
            "text/plain": [
              "<keras.callbacks.History at 0x7f4f84a4aa30>"
            ]
          },
          "metadata": {},
          "execution_count": 102
        }
      ]
    },
    {
      "cell_type": "code",
      "source": [
        "# 13.3 Predict:\n",
        "pred1 = model1.predict(X_test)\n",
        "out1 = np.hstack([pred1,pred1])\n",
        "pred1 = mm.inverse_transform(out1)"
      ],
      "metadata": {
        "colab": {
          "base_uri": "https://localhost:8080/"
        },
        "id": "YJo4N4mOrEmZ",
        "outputId": "8b4d1b7f-b1b4-462f-9f99-7dd19e7a5e6f"
      },
      "execution_count": null,
      "outputs": [
        {
          "output_type": "stream",
          "name": "stderr",
          "text": [
            "WARNING:tensorflow:6 out of the last 6 calls to <function Model.make_predict_function.<locals>.predict_function at 0x7f4f87b76820> triggered tf.function retracing. Tracing is expensive and the excessive number of tracings could be due to (1) creating @tf.function repeatedly in a loop, (2) passing tensors with different shapes, (3) passing Python objects instead of tensors. For (1), please define your @tf.function outside of the loop. For (2), @tf.function has reduce_retracing=True option that can avoid unnecessary retracing. For (3), please refer to https://www.tensorflow.org/guide/function#controlling_retracing and https://www.tensorflow.org/api_docs/python/tf/function for  more details.\n"
          ]
        },
        {
          "output_type": "stream",
          "name": "stdout",
          "text": [
            "1/1 [==============================] - 1s 978ms/step\n"
          ]
        }
      ]
    },
    {
      "cell_type": "code",
      "source": [
        "# 13.4 Plot \n",
        "fig, (ax1, ax2) = plt.subplots(1, 2)\n",
        "real_stock_price = test.values[:, 1]\n",
        "\n",
        "ax1.plot(real_stock_price, color='red', label = \"Real Google Stock Price\");\n",
        "ax1.plot(pred[:,0], color = 'blue', label = \"PRedicted google stock price\") ;\n",
        "#ax1.title(\"Google stock price prediction\") ;\n",
        "#ax1.xlabel(\"Time\") ;\n",
        "#ax1.ylabel(\"Google Stock Price\");\n",
        "\n",
        "ax2.plot(real_stock_price, color='red', label = \"Real Google Stock Price\");\n",
        "ax2.plot(pred1[:,0], color = 'blue', label = \"PRedicted google stock price with Attention\") ;\n",
        "#ax2.title(\"Google stock price prediction\") ;\n",
        "#ax2.xlabel(\"Time\") ;\n",
        "#ax2.ylabel(\"Google Stock Price\");\n",
        "\n",
        "plt.show() ;"
      ],
      "metadata": {
        "colab": {
          "base_uri": "https://localhost:8080/",
          "height": 267
        },
        "id": "m7QIs8qM8R5T",
        "outputId": "9221f76c-cb2c-43e9-bb27-4fa916c4b80a"
      },
      "execution_count": null,
      "outputs": [
        {
          "output_type": "display_data",
          "data": {
            "text/plain": [
              "<Figure size 432x288 with 2 Axes>"
            ],
            "image/png": "[encoded data removed]"
          },
          "metadata": {
            "needs_background": "light"
          }
        }
      ]
    }
  ]
}