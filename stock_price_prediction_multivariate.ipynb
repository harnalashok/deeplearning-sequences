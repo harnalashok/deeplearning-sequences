{
  "nbformat": 4,
  "nbformat_minor": 0,
  "metadata": {
    "colab": {
      "provenance": [],
      "collapsed_sections": [
        "OjfMgkcnPLRz",
        "Fk8jkysxPRJi",
        "eM7UW3WdPcdz",
        "FT0eqosSPrr1",
        "dHmsWC3cT10U",
        "335CwQZ9VLjM",
        "Us6CeB1MZWYU",
        "9LK0EJJasTUw"
      ],
      "authorship_tag": "ABX9TyMLhnN5MQHi8NEaSbnClrqz",
      "include_colab_link": true
    },
    "kernelspec": {
      "name": "python3",
      "display_name": "Python 3"
    },
    "language_info": {
      "name": "python"
    }
  },
  "cells": [
    {
      "cell_type": "markdown",
      "metadata": {
        "id": "view-in-github",
        "colab_type": "text"
      },
      "source": [
        "<a href=\"https://colab.research.google.com/github/harnalashok/deeplearning-sequences/blob/main/stock_price_prediction_multivariate.ipynb\" target=\"_parent\"><img src=\"https://colab.research.google.com/assets/colab-badge.svg\" alt=\"Open In Colab\"/></a>"
      ]
    },
    {
      "cell_type": "code",
      "source": [
        "# Last amended: 11th Feb, 2023\n",
        "# Objective: i)   Apply LSTM for multivariate time-series prediction\n",
        "#            ii)  Develop a simple model to predict stock prices\n",
        "#            iii) Use Attention in seq-to-seq\n",
        "\n",
        "# Ref: https://www.simplilearn.com/tutorials/deep-learning-tutorial/rnn\n",
        "# https://www.kaggle.com/datasets/akram24/google-stock-price-test\n"
      ],
      "metadata": {
        "id": "r2vuJoIlbWVH"
      },
      "execution_count": null,
      "outputs": []
    },
    {
      "cell_type": "code",
      "source": [
        "### ToDO\n",
        "# See: https://www.tensorflow.org/api_docs/python/tf/keras/layers/Bidirectional\n",
        "# Use model.add(Bidirectional(LSTM(10)))\n",
        "# model.add(Bidirectional(LSTM(10, return_sequences=True)))\n",
        "# See other options at:\n",
        "#      https://www.tensorflow.org/api_docs/python/tf/keras/layers/Bidirectional\n"
      ],
      "metadata": {
        "id": "MQ5ZmKhQ7E75"
      },
      "execution_count": null,
      "outputs": []
    },
    {
      "cell_type": "markdown",
      "source": [
        "## Problem"
      ],
      "metadata": {
        "id": "AmUKbLZ_qKTh"
      }
    },
    {
      "cell_type": "markdown",
      "source": [
        "We are given time series stock price data with six fields: `Date,Open,High,Low,Close,Volume`. Our intention is to predict next day's `Open` price. We will use only three fields: `Date, Open and High` to develop our model."
      ],
      "metadata": {
        "id": "Fy5OxiWyqMnW"
      }
    },
    {
      "cell_type": "markdown",
      "source": [
        "## Call libraries"
      ],
      "metadata": {
        "id": "OjfMgkcnPLRz"
      }
    },
    {
      "cell_type": "code",
      "execution_count": 1,
      "metadata": {
        "id": "6y2JO6HpSz3a"
      },
      "outputs": [],
      "source": [
        "# 1.0 Call libraries\n",
        "import numpy as np\n",
        "import pandas as pd\n",
        "import tensorflow as tf\n",
        "\n",
        "# 1.0.1\n",
        "from sklearn.preprocessing import MinMaxScaler\n",
        "import matplotlib.pyplot as plt\n",
        "import pathlib"
      ]
    },
    {
      "cell_type": "code",
      "source": [
        "# 1.0.2 Display multiple outputs from a cell:\n",
        "\n",
        "from IPython.core.interactiveshell import InteractiveShell\n",
        "InteractiveShell.ast_node_interactivity = \"all\"\n"
      ],
      "metadata": {
        "id": "oNsU3wXX7L1p"
      },
      "execution_count": 2,
      "outputs": []
    },
    {
      "cell_type": "markdown",
      "source": [
        "## Mount gdrive"
      ],
      "metadata": {
        "id": "Fk8jkysxPRJi"
      }
    },
    {
      "cell_type": "code",
      "source": [
        "# 2.0 Mount gdrive\n",
        "\n",
        "from google.colab import drive\n",
        "drive.mount('/gdrive')"
      ],
      "metadata": {
        "colab": {
          "base_uri": "https://localhost:8080/"
        },
        "id": "VrJl4G_BTEBt",
        "outputId": "213adff0-143e-40fa-a921-1787e690a78c"
      },
      "execution_count": 3,
      "outputs": [
        {
          "output_type": "stream",
          "name": "stdout",
          "text": [
            "Mounted at /gdrive\n"
          ]
        }
      ]
    },
    {
      "cell_type": "code",
      "source": [
        "# 2.1 Path to data folder:\n",
        "\n",
        "path = \"/gdrive/MyDrive/Colab_data_files/stock_price\"\n",
        "\n",
        "# 2.1.1 Transform to pathlib object:\n",
        "data_folder=pathlib.Path(path)"
      ],
      "metadata": {
        "id": "kgxvOjrzTXRm"
      },
      "execution_count": 4,
      "outputs": []
    },
    {
      "cell_type": "markdown",
      "source": [
        "## Read train/test data"
      ],
      "metadata": {
        "id": "eM7UW3WdPcdz"
      }
    },
    {
      "cell_type": "code",
      "source": [
        "# 3.0\n",
        "train = pd.read_csv(data_folder / \"Google_Stock_Price_Train.csv\")\n",
        "test = pd.read_csv(data_folder / \"Google_Stock_Price_Test.csv\")"
      ],
      "metadata": {
        "id": "HEhMs9O8TdjD"
      },
      "execution_count": 5,
      "outputs": []
    },
    {
      "cell_type": "code",
      "source": [
        "# 3.0.1\n",
        "train.head()\n",
        "print(\"\\n============\\n\")\n",
        "train.shape"
      ],
      "metadata": {
        "colab": {
          "base_uri": "https://localhost:8080/",
          "height": 0
        },
        "id": "I3Ec2kdZT8SA",
        "outputId": "ea7804a7-7888-4860-b4fa-a47497a6fd4a"
      },
      "execution_count": 6,
      "outputs": [
        {
          "output_type": "execute_result",
          "data": {
            "text/plain": [
              "       Date    Open    High     Low   Close      Volume\n",
              "0  1/3/2012  325.25  332.83  324.97  663.59   7,380,500\n",
              "1  1/4/2012  331.27  333.87  329.08  666.45   5,749,400\n",
              "2  1/5/2012  329.83  330.75  326.89  657.21   6,590,300\n",
              "3  1/6/2012  328.34  328.77  323.68  648.24   5,405,900\n",
              "4  1/9/2012  322.04  322.29  309.46  620.76  11,688,800"
            ],
            "text/html": [
              "\n",
              "  <div id=\"df-00f6d668-6a73-4684-93a9-b9223f5d1ca9\">\n",
              "    <div class=\"colab-df-container\">\n",
              "      <div>\n",
              "<style scoped>\n",
              "    .dataframe tbody tr th:only-of-type {\n",
              "        vertical-align: middle;\n",
              "    }\n",
              "\n",
              "    .dataframe tbody tr th {\n",
              "        vertical-align: top;\n",
              "    }\n",
              "\n",
              "    .dataframe thead th {\n",
              "        text-align: right;\n",
              "    }\n",
              "</style>\n",
              "<table border=\"1\" class=\"dataframe\">\n",
              "  <thead>\n",
              "    <tr style=\"text-align: right;\">\n",
              "      <th></th>\n",
              "      <th>Date</th>\n",
              "      <th>Open</th>\n",
              "      <th>High</th>\n",
              "      <th>Low</th>\n",
              "      <th>Close</th>\n",
              "      <th>Volume</th>\n",
              "    </tr>\n",
              "  </thead>\n",
              "  <tbody>\n",
              "    <tr>\n",
              "      <th>0</th>\n",
              "      <td>1/3/2012</td>\n",
              "      <td>325.25</td>\n",
              "      <td>332.83</td>\n",
              "      <td>324.97</td>\n",
              "      <td>663.59</td>\n",
              "      <td>7,380,500</td>\n",
              "    </tr>\n",
              "    <tr>\n",
              "      <th>1</th>\n",
              "      <td>1/4/2012</td>\n",
              "      <td>331.27</td>\n",
              "      <td>333.87</td>\n",
              "      <td>329.08</td>\n",
              "      <td>666.45</td>\n",
              "      <td>5,749,400</td>\n",
              "    </tr>\n",
              "    <tr>\n",
              "      <th>2</th>\n",
              "      <td>1/5/2012</td>\n",
              "      <td>329.83</td>\n",
              "      <td>330.75</td>\n",
              "      <td>326.89</td>\n",
              "      <td>657.21</td>\n",
              "      <td>6,590,300</td>\n",
              "    </tr>\n",
              "    <tr>\n",
              "      <th>3</th>\n",
              "      <td>1/6/2012</td>\n",
              "      <td>328.34</td>\n",
              "      <td>328.77</td>\n",
              "      <td>323.68</td>\n",
              "      <td>648.24</td>\n",
              "      <td>5,405,900</td>\n",
              "    </tr>\n",
              "    <tr>\n",
              "      <th>4</th>\n",
              "      <td>1/9/2012</td>\n",
              "      <td>322.04</td>\n",
              "      <td>322.29</td>\n",
              "      <td>309.46</td>\n",
              "      <td>620.76</td>\n",
              "      <td>11,688,800</td>\n",
              "    </tr>\n",
              "  </tbody>\n",
              "</table>\n",
              "</div>\n",
              "      <button class=\"colab-df-convert\" onclick=\"convertToInteractive('df-00f6d668-6a73-4684-93a9-b9223f5d1ca9')\"\n",
              "              title=\"Convert this dataframe to an interactive table.\"\n",
              "              style=\"display:none;\">\n",
              "        \n",
              "  <svg xmlns=\"http://www.w3.org/2000/svg\" height=\"24px\"viewBox=\"0 0 24 24\"\n",
              "       width=\"24px\">\n",
              "    <path d=\"M0 0h24v24H0V0z\" fill=\"none\"/>\n",
              "    <path d=\"M18.56 5.44l.94 2.06.94-2.06 2.06-.94-2.06-.94-.94-2.06-.94 2.06-2.06.94zm-11 1L8.5 8.5l.94-2.06 2.06-.94-2.06-.94L8.5 2.5l-.94 2.06-2.06.94zm10 10l.94 2.06.94-2.06 2.06-.94-2.06-.94-.94-2.06-.94 2.06-2.06.94z\"/><path d=\"M17.41 7.96l-1.37-1.37c-.4-.4-.92-.59-1.43-.59-.52 0-1.04.2-1.43.59L10.3 9.45l-7.72 7.72c-.78.78-.78 2.05 0 2.83L4 21.41c.39.39.9.59 1.41.59.51 0 1.02-.2 1.41-.59l7.78-7.78 2.81-2.81c.8-.78.8-2.07 0-2.86zM5.41 20L4 18.59l7.72-7.72 1.47 1.35L5.41 20z\"/>\n",
              "  </svg>\n",
              "      </button>\n",
              "      \n",
              "  <style>\n",
              "    .colab-df-container {\n",
              "      display:flex;\n",
              "      flex-wrap:wrap;\n",
              "      gap: 12px;\n",
              "    }\n",
              "\n",
              "    .colab-df-convert {\n",
              "      background-color: #E8F0FE;\n",
              "      border: none;\n",
              "      border-radius: 50%;\n",
              "      cursor: pointer;\n",
              "      display: none;\n",
              "      fill: #1967D2;\n",
              "      height: 32px;\n",
              "      padding: 0 0 0 0;\n",
              "      width: 32px;\n",
              "    }\n",
              "\n",
              "    .colab-df-convert:hover {\n",
              "      background-color: #E2EBFA;\n",
              "      box-shadow: 0px 1px 2px rgba(60, 64, 67, 0.3), 0px 1px 3px 1px rgba(60, 64, 67, 0.15);\n",
              "      fill: #174EA6;\n",
              "    }\n",
              "\n",
              "    [theme=dark] .colab-df-convert {\n",
              "      background-color: #3B4455;\n",
              "      fill: #D2E3FC;\n",
              "    }\n",
              "\n",
              "    [theme=dark] .colab-df-convert:hover {\n",
              "      background-color: #434B5C;\n",
              "      box-shadow: 0px 1px 3px 1px rgba(0, 0, 0, 0.15);\n",
              "      filter: drop-shadow(0px 1px 2px rgba(0, 0, 0, 0.3));\n",
              "      fill: #FFFFFF;\n",
              "    }\n",
              "  </style>\n",
              "\n",
              "      <script>\n",
              "        const buttonEl =\n",
              "          document.querySelector('#df-00f6d668-6a73-4684-93a9-b9223f5d1ca9 button.colab-df-convert');\n",
              "        buttonEl.style.display =\n",
              "          google.colab.kernel.accessAllowed ? 'block' : 'none';\n",
              "\n",
              "        async function convertToInteractive(key) {\n",
              "          const element = document.querySelector('#df-00f6d668-6a73-4684-93a9-b9223f5d1ca9');\n",
              "          const dataTable =\n",
              "            await google.colab.kernel.invokeFunction('convertToInteractive',\n",
              "                                                     [key], {});\n",
              "          if (!dataTable) return;\n",
              "\n",
              "          const docLinkHtml = 'Like what you see? Visit the ' +\n",
              "            '<a target=\"_blank\" href=https://colab.research.google.com/notebooks/data_table.ipynb>data table notebook</a>'\n",
              "            + ' to learn more about interactive tables.';\n",
              "          element.innerHTML = '';\n",
              "          dataTable['output_type'] = 'display_data';\n",
              "          await google.colab.output.renderOutput(dataTable, element);\n",
              "          const docLink = document.createElement('div');\n",
              "          docLink.innerHTML = docLinkHtml;\n",
              "          element.appendChild(docLink);\n",
              "        }\n",
              "      </script>\n",
              "    </div>\n",
              "  </div>\n",
              "  "
            ]
          },
          "metadata": {},
          "execution_count": 6
        },
        {
          "output_type": "stream",
          "name": "stdout",
          "text": [
            "\n",
            "============\n",
            "\n"
          ]
        },
        {
          "output_type": "execute_result",
          "data": {
            "text/plain": [
              "(1258, 6)"
            ]
          },
          "metadata": {},
          "execution_count": 6
        }
      ]
    },
    {
      "cell_type": "markdown",
      "source": [
        "## Process data\n"
      ],
      "metadata": {
        "id": "FT0eqosSPrr1"
      }
    },
    {
      "cell_type": "markdown",
      "source": [
        "We will use two columns to make predictions. Our columns are`['Open','High']`. Using data on these two columns for the past 60 days, we want to make predictions for the `['Open']` of the next day."
      ],
      "metadata": {
        "id": "M4hea54zk7hu"
      }
    },
    {
      "cell_type": "code",
      "source": [
        "# 4.0 We will only use ['Open','High'] columns for prediction:\n",
        "\n",
        "tr = train.iloc[:,1:3]\n",
        "te = test.iloc[:,1:3]\n",
        "tr.head()\n",
        "print(\"\\n=============\\n\")\n",
        "tr.shape    # (1258, 2)\n",
        "print(\"\\n=============\\n\")\n",
        "te.shape     # (20, 2)"
      ],
      "metadata": {
        "colab": {
          "base_uri": "https://localhost:8080/",
          "height": 328
        },
        "id": "-m5VXb3pTq_b",
        "outputId": "f3935a6a-c3f0-486c-ddf0-61f7ba5a5aeb"
      },
      "execution_count": 7,
      "outputs": [
        {
          "output_type": "execute_result",
          "data": {
            "text/plain": [
              "     Open    High\n",
              "0  325.25  332.83\n",
              "1  331.27  333.87\n",
              "2  329.83  330.75\n",
              "3  328.34  328.77\n",
              "4  322.04  322.29"
            ],
            "text/html": [
              "\n",
              "  <div id=\"df-5b76954b-fd89-402a-8a29-d17e7a15a244\">\n",
              "    <div class=\"colab-df-container\">\n",
              "      <div>\n",
              "<style scoped>\n",
              "    .dataframe tbody tr th:only-of-type {\n",
              "        vertical-align: middle;\n",
              "    }\n",
              "\n",
              "    .dataframe tbody tr th {\n",
              "        vertical-align: top;\n",
              "    }\n",
              "\n",
              "    .dataframe thead th {\n",
              "        text-align: right;\n",
              "    }\n",
              "</style>\n",
              "<table border=\"1\" class=\"dataframe\">\n",
              "  <thead>\n",
              "    <tr style=\"text-align: right;\">\n",
              "      <th></th>\n",
              "      <th>Open</th>\n",
              "      <th>High</th>\n",
              "    </tr>\n",
              "  </thead>\n",
              "  <tbody>\n",
              "    <tr>\n",
              "      <th>0</th>\n",
              "      <td>325.25</td>\n",
              "      <td>332.83</td>\n",
              "    </tr>\n",
              "    <tr>\n",
              "      <th>1</th>\n",
              "      <td>331.27</td>\n",
              "      <td>333.87</td>\n",
              "    </tr>\n",
              "    <tr>\n",
              "      <th>2</th>\n",
              "      <td>329.83</td>\n",
              "      <td>330.75</td>\n",
              "    </tr>\n",
              "    <tr>\n",
              "      <th>3</th>\n",
              "      <td>328.34</td>\n",
              "      <td>328.77</td>\n",
              "    </tr>\n",
              "    <tr>\n",
              "      <th>4</th>\n",
              "      <td>322.04</td>\n",
              "      <td>322.29</td>\n",
              "    </tr>\n",
              "  </tbody>\n",
              "</table>\n",
              "</div>\n",
              "      <button class=\"colab-df-convert\" onclick=\"convertToInteractive('df-5b76954b-fd89-402a-8a29-d17e7a15a244')\"\n",
              "              title=\"Convert this dataframe to an interactive table.\"\n",
              "              style=\"display:none;\">\n",
              "        \n",
              "  <svg xmlns=\"http://www.w3.org/2000/svg\" height=\"24px\"viewBox=\"0 0 24 24\"\n",
              "       width=\"24px\">\n",
              "    <path d=\"M0 0h24v24H0V0z\" fill=\"none\"/>\n",
              "    <path d=\"M18.56 5.44l.94 2.06.94-2.06 2.06-.94-2.06-.94-.94-2.06-.94 2.06-2.06.94zm-11 1L8.5 8.5l.94-2.06 2.06-.94-2.06-.94L8.5 2.5l-.94 2.06-2.06.94zm10 10l.94 2.06.94-2.06 2.06-.94-2.06-.94-.94-2.06-.94 2.06-2.06.94z\"/><path d=\"M17.41 7.96l-1.37-1.37c-.4-.4-.92-.59-1.43-.59-.52 0-1.04.2-1.43.59L10.3 9.45l-7.72 7.72c-.78.78-.78 2.05 0 2.83L4 21.41c.39.39.9.59 1.41.59.51 0 1.02-.2 1.41-.59l7.78-7.78 2.81-2.81c.8-.78.8-2.07 0-2.86zM5.41 20L4 18.59l7.72-7.72 1.47 1.35L5.41 20z\"/>\n",
              "  </svg>\n",
              "      </button>\n",
              "      \n",
              "  <style>\n",
              "    .colab-df-container {\n",
              "      display:flex;\n",
              "      flex-wrap:wrap;\n",
              "      gap: 12px;\n",
              "    }\n",
              "\n",
              "    .colab-df-convert {\n",
              "      background-color: #E8F0FE;\n",
              "      border: none;\n",
              "      border-radius: 50%;\n",
              "      cursor: pointer;\n",
              "      display: none;\n",
              "      fill: #1967D2;\n",
              "      height: 32px;\n",
              "      padding: 0 0 0 0;\n",
              "      width: 32px;\n",
              "    }\n",
              "\n",
              "    .colab-df-convert:hover {\n",
              "      background-color: #E2EBFA;\n",
              "      box-shadow: 0px 1px 2px rgba(60, 64, 67, 0.3), 0px 1px 3px 1px rgba(60, 64, 67, 0.15);\n",
              "      fill: #174EA6;\n",
              "    }\n",
              "\n",
              "    [theme=dark] .colab-df-convert {\n",
              "      background-color: #3B4455;\n",
              "      fill: #D2E3FC;\n",
              "    }\n",
              "\n",
              "    [theme=dark] .colab-df-convert:hover {\n",
              "      background-color: #434B5C;\n",
              "      box-shadow: 0px 1px 3px 1px rgba(0, 0, 0, 0.15);\n",
              "      filter: drop-shadow(0px 1px 2px rgba(0, 0, 0, 0.3));\n",
              "      fill: #FFFFFF;\n",
              "    }\n",
              "  </style>\n",
              "\n",
              "      <script>\n",
              "        const buttonEl =\n",
              "          document.querySelector('#df-5b76954b-fd89-402a-8a29-d17e7a15a244 button.colab-df-convert');\n",
              "        buttonEl.style.display =\n",
              "          google.colab.kernel.accessAllowed ? 'block' : 'none';\n",
              "\n",
              "        async function convertToInteractive(key) {\n",
              "          const element = document.querySelector('#df-5b76954b-fd89-402a-8a29-d17e7a15a244');\n",
              "          const dataTable =\n",
              "            await google.colab.kernel.invokeFunction('convertToInteractive',\n",
              "                                                     [key], {});\n",
              "          if (!dataTable) return;\n",
              "\n",
              "          const docLinkHtml = 'Like what you see? Visit the ' +\n",
              "            '<a target=\"_blank\" href=https://colab.research.google.com/notebooks/data_table.ipynb>data table notebook</a>'\n",
              "            + ' to learn more about interactive tables.';\n",
              "          element.innerHTML = '';\n",
              "          dataTable['output_type'] = 'display_data';\n",
              "          await google.colab.output.renderOutput(dataTable, element);\n",
              "          const docLink = document.createElement('div');\n",
              "          docLink.innerHTML = docLinkHtml;\n",
              "          element.appendChild(docLink);\n",
              "        }\n",
              "      </script>\n",
              "    </div>\n",
              "  </div>\n",
              "  "
            ]
          },
          "metadata": {},
          "execution_count": 7
        },
        {
          "output_type": "stream",
          "name": "stdout",
          "text": [
            "\n",
            "=============\n",
            "\n"
          ]
        },
        {
          "output_type": "execute_result",
          "data": {
            "text/plain": [
              "(1258, 2)"
            ]
          },
          "metadata": {},
          "execution_count": 7
        },
        {
          "output_type": "stream",
          "name": "stdout",
          "text": [
            "\n",
            "=============\n",
            "\n"
          ]
        },
        {
          "output_type": "execute_result",
          "data": {
            "text/plain": [
              "(20, 2)"
            ]
          },
          "metadata": {},
          "execution_count": 7
        }
      ]
    },
    {
      "cell_type": "code",
      "source": [
        "# 4.1 Normalize data:\n",
        "#     Note that we are normalizing two columns together.\n",
        "#     Later, if we want to un-normalize just one columns,\n",
        "#     we do need to have a dummy column.\n",
        "\n",
        "mm = MinMaxScaler(feature_range = (0,1))\n",
        "\n",
        "# 4.1.0 Transformed output is numpy array\"\n",
        "tr = mm.fit_transform(tr)\n",
        "te = mm.transform(te)\n"
      ],
      "metadata": {
        "id": "XSOj6r7RUHp7"
      },
      "execution_count": 8,
      "outputs": []
    },
    {
      "cell_type": "code",
      "source": [
        "# 4.1.1 Look at data\n",
        "tr[:2, :]\n",
        "print(\"\\n============\\n\")\n",
        "te[:2,:]"
      ],
      "metadata": {
        "id": "VUkxz-j2RHpN",
        "outputId": "3ed96ed5-3079-4311-c5a0-64b59175e3b6",
        "colab": {
          "base_uri": "https://localhost:8080/"
        }
      },
      "execution_count": null,
      "outputs": [
        {
          "output_type": "execute_result",
          "data": {
            "text/plain": [
              "array([[0.08581368, 0.09640129],\n",
              "       [0.09701243, 0.09834351]])"
            ]
          },
          "metadata": {},
          "execution_count": 11
        },
        {
          "output_type": "stream",
          "name": "stdout",
          "text": [
            "\n",
            "============\n",
            "\n"
          ]
        },
        {
          "output_type": "execute_result",
          "data": {
            "text/plain": [
              "array([[0.92955205, 0.94948363],\n",
              "       [0.94731751, 0.95267709]])"
            ]
          },
          "metadata": {},
          "execution_count": 11
        }
      ]
    },
    {
      "cell_type": "markdown",
      "source": [
        "## Organize and reshape data\n",
        "Prepare data for feeding into LSTM"
      ],
      "metadata": {
        "id": "kUB_q6KqfcsP"
      }
    },
    {
      "cell_type": "markdown",
      "source": [
        "### Experimental code"
      ],
      "metadata": {
        "id": "dHmsWC3cT10U"
      }
    },
    {
      "cell_type": "markdown",
      "source": [
        "Suppose our data is as below and timesteps are 3<br>:\n",
        ">[23,34],<br>\n",
        "[56,11],<br>\n",
        "[12,31],<br>\n",
        "[77,22],<br>\n",
        "[50,60],<br>\n",
        "[10,20],<br>\n",
        "[65,32],<br>\n",
        "[40,31],<br>\n",
        "[32,54]<br>\n",
        "\n",
        "We want to have following peices:\n",
        ">[23,34],<br>\n",
        "[56,11],<br>\n",
        "[12,31],<br>\n",
        "Target: 77 <br>\n",
        "\n",
        ">[56,11],<br>\n",
        "[12,31],<br>\n",
        "[77,22],<br>\n",
        "Target: 50<br>\n",
        "\n",
        ">[12,31],<br>\n",
        "[77,22],<br>\n",
        "[50,60],<br>\n",
        "Target: 10<br>\n",
        "\n",
        ">[77,22],<br>\n",
        "[50,60],<br>\n",
        "[10,20],<br>\n",
        "Target: 65<br>\n",
        "\n",
        ">[50,60],<br>\n",
        "[10,20],<br>\n",
        "[65,32],<br>\n",
        "Target: 40<br>\n",
        "\n",
        ">[10,20],<br>\n",
        "[65,32],<br>\n",
        "[40,31],<br>\n",
        "Target: 32<br>\n",
        "\n",
        "\n",
        "`                      "
      ],
      "metadata": {
        "id": "IlsKE8B0dUHF"
      }
    },
    {
      "cell_type": "code",
      "source": [
        "# 5.0 Demo data:\n",
        "timesteps = 3    # timesteps are also called lookback\n",
        "lookback = timesteps\n",
        "delay = 1        # Predict or target is 1 day ahead\n",
        "data = pd.DataFrame(\n",
        "                    [\n",
        "                      [23,34],\n",
        "                      [56,11],\n",
        "                      [12,31],\n",
        "                      [77,22],\n",
        "                      [50,60],\n",
        "                      [10,20],\n",
        "                      [65,32],\n",
        "                      [40,31],\n",
        "                      [32,54]\n",
        "                     ], columns = ['a','b']\n",
        "                    )\n",
        "data"
      ],
      "metadata": {
        "colab": {
          "base_uri": "https://localhost:8080/",
          "height": 332
        },
        "id": "dRyoXxjFairr",
        "outputId": "d04996a7-e738-4c8a-d11e-5722b69e6a94"
      },
      "execution_count": 12,
      "outputs": [
        {
          "output_type": "execute_result",
          "data": {
            "text/plain": [
              "    a   b\n",
              "0  23  34\n",
              "1  56  11\n",
              "2  12  31\n",
              "3  77  22\n",
              "4  50  60\n",
              "5  10  20\n",
              "6  65  32\n",
              "7  40  31\n",
              "8  32  54"
            ],
            "text/html": [
              "\n",
              "  <div id=\"df-45e03ec2-d0a5-43be-9d86-e828a887a552\">\n",
              "    <div class=\"colab-df-container\">\n",
              "      <div>\n",
              "<style scoped>\n",
              "    .dataframe tbody tr th:only-of-type {\n",
              "        vertical-align: middle;\n",
              "    }\n",
              "\n",
              "    .dataframe tbody tr th {\n",
              "        vertical-align: top;\n",
              "    }\n",
              "\n",
              "    .dataframe thead th {\n",
              "        text-align: right;\n",
              "    }\n",
              "</style>\n",
              "<table border=\"1\" class=\"dataframe\">\n",
              "  <thead>\n",
              "    <tr style=\"text-align: right;\">\n",
              "      <th></th>\n",
              "      <th>a</th>\n",
              "      <th>b</th>\n",
              "    </tr>\n",
              "  </thead>\n",
              "  <tbody>\n",
              "    <tr>\n",
              "      <th>0</th>\n",
              "      <td>23</td>\n",
              "      <td>34</td>\n",
              "    </tr>\n",
              "    <tr>\n",
              "      <th>1</th>\n",
              "      <td>56</td>\n",
              "      <td>11</td>\n",
              "    </tr>\n",
              "    <tr>\n",
              "      <th>2</th>\n",
              "      <td>12</td>\n",
              "      <td>31</td>\n",
              "    </tr>\n",
              "    <tr>\n",
              "      <th>3</th>\n",
              "      <td>77</td>\n",
              "      <td>22</td>\n",
              "    </tr>\n",
              "    <tr>\n",
              "      <th>4</th>\n",
              "      <td>50</td>\n",
              "      <td>60</td>\n",
              "    </tr>\n",
              "    <tr>\n",
              "      <th>5</th>\n",
              "      <td>10</td>\n",
              "      <td>20</td>\n",
              "    </tr>\n",
              "    <tr>\n",
              "      <th>6</th>\n",
              "      <td>65</td>\n",
              "      <td>32</td>\n",
              "    </tr>\n",
              "    <tr>\n",
              "      <th>7</th>\n",
              "      <td>40</td>\n",
              "      <td>31</td>\n",
              "    </tr>\n",
              "    <tr>\n",
              "      <th>8</th>\n",
              "      <td>32</td>\n",
              "      <td>54</td>\n",
              "    </tr>\n",
              "  </tbody>\n",
              "</table>\n",
              "</div>\n",
              "      <button class=\"colab-df-convert\" onclick=\"convertToInteractive('df-45e03ec2-d0a5-43be-9d86-e828a887a552')\"\n",
              "              title=\"Convert this dataframe to an interactive table.\"\n",
              "              style=\"display:none;\">\n",
              "        \n",
              "  <svg xmlns=\"http://www.w3.org/2000/svg\" height=\"24px\"viewBox=\"0 0 24 24\"\n",
              "       width=\"24px\">\n",
              "    <path d=\"M0 0h24v24H0V0z\" fill=\"none\"/>\n",
              "    <path d=\"M18.56 5.44l.94 2.06.94-2.06 2.06-.94-2.06-.94-.94-2.06-.94 2.06-2.06.94zm-11 1L8.5 8.5l.94-2.06 2.06-.94-2.06-.94L8.5 2.5l-.94 2.06-2.06.94zm10 10l.94 2.06.94-2.06 2.06-.94-2.06-.94-.94-2.06-.94 2.06-2.06.94z\"/><path d=\"M17.41 7.96l-1.37-1.37c-.4-.4-.92-.59-1.43-.59-.52 0-1.04.2-1.43.59L10.3 9.45l-7.72 7.72c-.78.78-.78 2.05 0 2.83L4 21.41c.39.39.9.59 1.41.59.51 0 1.02-.2 1.41-.59l7.78-7.78 2.81-2.81c.8-.78.8-2.07 0-2.86zM5.41 20L4 18.59l7.72-7.72 1.47 1.35L5.41 20z\"/>\n",
              "  </svg>\n",
              "      </button>\n",
              "      \n",
              "  <style>\n",
              "    .colab-df-container {\n",
              "      display:flex;\n",
              "      flex-wrap:wrap;\n",
              "      gap: 12px;\n",
              "    }\n",
              "\n",
              "    .colab-df-convert {\n",
              "      background-color: #E8F0FE;\n",
              "      border: none;\n",
              "      border-radius: 50%;\n",
              "      cursor: pointer;\n",
              "      display: none;\n",
              "      fill: #1967D2;\n",
              "      height: 32px;\n",
              "      padding: 0 0 0 0;\n",
              "      width: 32px;\n",
              "    }\n",
              "\n",
              "    .colab-df-convert:hover {\n",
              "      background-color: #E2EBFA;\n",
              "      box-shadow: 0px 1px 2px rgba(60, 64, 67, 0.3), 0px 1px 3px 1px rgba(60, 64, 67, 0.15);\n",
              "      fill: #174EA6;\n",
              "    }\n",
              "\n",
              "    [theme=dark] .colab-df-convert {\n",
              "      background-color: #3B4455;\n",
              "      fill: #D2E3FC;\n",
              "    }\n",
              "\n",
              "    [theme=dark] .colab-df-convert:hover {\n",
              "      background-color: #434B5C;\n",
              "      box-shadow: 0px 1px 3px 1px rgba(0, 0, 0, 0.15);\n",
              "      filter: drop-shadow(0px 1px 2px rgba(0, 0, 0, 0.3));\n",
              "      fill: #FFFFFF;\n",
              "    }\n",
              "  </style>\n",
              "\n",
              "      <script>\n",
              "        const buttonEl =\n",
              "          document.querySelector('#df-45e03ec2-d0a5-43be-9d86-e828a887a552 button.colab-df-convert');\n",
              "        buttonEl.style.display =\n",
              "          google.colab.kernel.accessAllowed ? 'block' : 'none';\n",
              "\n",
              "        async function convertToInteractive(key) {\n",
              "          const element = document.querySelector('#df-45e03ec2-d0a5-43be-9d86-e828a887a552');\n",
              "          const dataTable =\n",
              "            await google.colab.kernel.invokeFunction('convertToInteractive',\n",
              "                                                     [key], {});\n",
              "          if (!dataTable) return;\n",
              "\n",
              "          const docLinkHtml = 'Like what you see? Visit the ' +\n",
              "            '<a target=\"_blank\" href=https://colab.research.google.com/notebooks/data_table.ipynb>data table notebook</a>'\n",
              "            + ' to learn more about interactive tables.';\n",
              "          element.innerHTML = '';\n",
              "          dataTable['output_type'] = 'display_data';\n",
              "          await google.colab.output.renderOutput(dataTable, element);\n",
              "          const docLink = document.createElement('div');\n",
              "          docLink.innerHTML = docLinkHtml;\n",
              "          element.appendChild(docLink);\n",
              "        }\n",
              "      </script>\n",
              "    </div>\n",
              "  </div>\n",
              "  "
            ]
          },
          "metadata": {},
          "execution_count": 12
        }
      ]
    },
    {
      "cell_type": "code",
      "source": [
        "# 5.1 Organize it : \n",
        "xtr = []\n",
        "ytr = []\n",
        "for i in range(lookback,len(data)):\n",
        "  xtr.append(data.values[i-lookback:i, :]) \n",
        "  ytr.append(data.values[i + delay -1 , 0])"
      ],
      "metadata": {
        "id": "XLEHkLM2SxcE"
      },
      "execution_count": 15,
      "outputs": []
    },
    {
      "cell_type": "code",
      "source": [
        "# 5.2 Check\n",
        "xtr    # A list of arrays\n",
        "print(\"\\n==========\\n\")\n",
        "xtr[0].shape   # Each element of shape (3,2)\n",
        "print(\"\\n==========\\n\")\n",
        "ytr"
      ],
      "metadata": {
        "colab": {
          "base_uri": "https://localhost:8080/"
        },
        "id": "ZHDgEEevTBWb",
        "outputId": "a05dc66b-1a2d-4f0a-faa5-9eb0d90be599"
      },
      "execution_count": 16,
      "outputs": [
        {
          "output_type": "execute_result",
          "data": {
            "text/plain": [
              "[array([[23, 34],\n",
              "        [56, 11],\n",
              "        [12, 31]]), array([[56, 11],\n",
              "        [12, 31],\n",
              "        [77, 22]]), array([[12, 31],\n",
              "        [77, 22],\n",
              "        [50, 60]]), array([[77, 22],\n",
              "        [50, 60],\n",
              "        [10, 20]]), array([[50, 60],\n",
              "        [10, 20],\n",
              "        [65, 32]]), array([[10, 20],\n",
              "        [65, 32],\n",
              "        [40, 31]])]"
            ]
          },
          "metadata": {},
          "execution_count": 16
        },
        {
          "output_type": "stream",
          "name": "stdout",
          "text": [
            "\n",
            "==========\n",
            "\n"
          ]
        },
        {
          "output_type": "execute_result",
          "data": {
            "text/plain": [
              "(3, 2)"
            ]
          },
          "metadata": {},
          "execution_count": 16
        },
        {
          "output_type": "stream",
          "name": "stdout",
          "text": [
            "\n",
            "==========\n",
            "\n"
          ]
        },
        {
          "output_type": "execute_result",
          "data": {
            "text/plain": [
              "[77, 50, 10, 65, 40, 32]"
            ]
          },
          "metadata": {},
          "execution_count": 16
        }
      ]
    },
    {
      "cell_type": "markdown",
      "source": [
        "### Real code\n"
      ],
      "metadata": {
        "id": "335CwQZ9VLjM"
      }
    },
    {
      "cell_type": "code",
      "source": [
        "# 6.0\n",
        "timesteps = 60\n",
        "lookback = timesteps\n",
        "delay = 1\n",
        "X_train = []\n",
        "y_train = []\n",
        "\n",
        "for i in range(lookback,len(tr)):\n",
        "  X_train.append(tr[i-lookback:i,:])\n",
        "  y_train.append(tr[i + delay -1,0])"
      ],
      "metadata": {
        "id": "-Z4ockeZVZSP"
      },
      "execution_count": 17,
      "outputs": []
    },
    {
      "cell_type": "code",
      "source": [
        "# 6.1 Transform list to arrays\n",
        "X_train = np.array(X_train)\n",
        "y_train = np.array(y_train)\n",
        "X_train.shape\n",
        "y_train.shape\n"
      ],
      "metadata": {
        "id": "pba_EyRlWFQm",
        "outputId": "9d76dc38-b431-4712-b37e-b7dd28b08615",
        "colab": {
          "base_uri": "https://localhost:8080/"
        }
      },
      "execution_count": 18,
      "outputs": [
        {
          "output_type": "execute_result",
          "data": {
            "text/plain": [
              "(1198, 60, 2)"
            ]
          },
          "metadata": {},
          "execution_count": 18
        },
        {
          "output_type": "execute_result",
          "data": {
            "text/plain": [
              "(1198,)"
            ]
          },
          "metadata": {},
          "execution_count": 18
        }
      ]
    },
    {
      "cell_type": "code",
      "source": [
        "# 6.2 Shuffle sequence on axis = 0:\n",
        "arr = np.arange(len(X_train))\n",
        "np.random.shuffle(arr)\n",
        "X_train = X_train[arr, :, :]\n",
        "y_train = y_train[arr]"
      ],
      "metadata": {
        "id": "nMsHppzjiPLy"
      },
      "execution_count": 19,
      "outputs": []
    },
    {
      "cell_type": "code",
      "source": [
        "# 6.3 X_train is an array of arrays:\n",
        "type(X_train)\n",
        "print(\"\\n========\\n\")\n",
        "X_train.shape\n",
        "print(\"\\n========\\n\")\n",
        "type(X_train[0][:])\n",
        "print(\"\\n========\\n\")\n",
        "X_train[0][:].shape      # (1198, 60) there are 1198 arrays, each of size 60"
      ],
      "metadata": {
        "colab": {
          "base_uri": "https://localhost:8080/"
        },
        "id": "yQe3_aoJYkMk",
        "outputId": "f259dc74-956a-4a0a-e2ab-b18a081c0f4a"
      },
      "execution_count": 20,
      "outputs": [
        {
          "output_type": "execute_result",
          "data": {
            "text/plain": [
              "numpy.ndarray"
            ]
          },
          "metadata": {},
          "execution_count": 20
        },
        {
          "output_type": "stream",
          "name": "stdout",
          "text": [
            "\n",
            "========\n",
            "\n"
          ]
        },
        {
          "output_type": "execute_result",
          "data": {
            "text/plain": [
              "(1198, 60, 2)"
            ]
          },
          "metadata": {},
          "execution_count": 20
        },
        {
          "output_type": "stream",
          "name": "stdout",
          "text": [
            "\n",
            "========\n",
            "\n"
          ]
        },
        {
          "output_type": "execute_result",
          "data": {
            "text/plain": [
              "numpy.ndarray"
            ]
          },
          "metadata": {},
          "execution_count": 20
        },
        {
          "output_type": "stream",
          "name": "stdout",
          "text": [
            "\n",
            "========\n",
            "\n"
          ]
        },
        {
          "output_type": "execute_result",
          "data": {
            "text/plain": [
              "(60, 2)"
            ]
          },
          "metadata": {},
          "execution_count": 20
        }
      ]
    },
    {
      "cell_type": "code",
      "source": [
        "# 6.4 Reshape, if needed, to : (samples,timesteps,noOfFeatures):\n",
        "#     Not needed\n",
        "\n",
        "X_train= np.reshape(X_train, (X_train.shape[0],X_train.shape[1],2))\n",
        "X_train.shape    # (1198, 60, 2)"
      ],
      "metadata": {
        "id": "-YjZzkwoWCAa",
        "colab": {
          "base_uri": "https://localhost:8080/"
        },
        "outputId": "9f4ce9b7-2f9d-4518-b191-57d364b47ee6"
      },
      "execution_count": null,
      "outputs": [
        {
          "output_type": "execute_result",
          "data": {
            "text/plain": [
              "(1198, 60, 2)"
            ]
          },
          "metadata": {},
          "execution_count": 78
        }
      ]
    },
    {
      "cell_type": "markdown",
      "source": [
        "## Model"
      ],
      "metadata": {
        "id": "Us6CeB1MZWYU"
      }
    },
    {
      "cell_type": "code",
      "source": [
        "# 7.0\n",
        "model = tf.keras.Sequential()"
      ],
      "metadata": {
        "id": "1QxIBiuvXFZq"
      },
      "execution_count": 21,
      "outputs": []
    },
    {
      "cell_type": "code",
      "source": [
        "# 7.1 X_train.shape[0] is number of samples:\n",
        "model.add(tf.keras.layers.Input(shape = (X_train.shape[1], X_train.shape[2])))"
      ],
      "metadata": {
        "id": "fZCD-5wlXXym"
      },
      "execution_count": 22,
      "outputs": []
    },
    {
      "cell_type": "code",
      "source": [
        "# 7.2\n",
        "model.add(tf.keras.layers.LSTM(\n",
        "                                units = 50,\n",
        "                                return_sequences = True\n",
        "                               )\n",
        "         )"
      ],
      "metadata": {
        "id": "gJHCahLmXHxL"
      },
      "execution_count": 23,
      "outputs": []
    },
    {
      "cell_type": "code",
      "source": [
        "# 7.3\n",
        "model.add(tf.keras.layers.Dropout(0.2))"
      ],
      "metadata": {
        "id": "zNCxQbelXhIf"
      },
      "execution_count": 24,
      "outputs": []
    },
    {
      "cell_type": "code",
      "source": [
        "# 7.4\n",
        "model.add(tf.keras.layers.LSTM(\n",
        "                               units = 50,\n",
        "                               return_sequences = True)\n",
        "                              )"
      ],
      "metadata": {
        "id": "3lCoHEABX3YP"
      },
      "execution_count": 25,
      "outputs": []
    },
    {
      "cell_type": "code",
      "source": [
        "# 7.5\n",
        "model.add(tf.keras.layers.Dropout(0.2))"
      ],
      "metadata": {
        "id": "qSADUoE4X7tr"
      },
      "execution_count": 26,
      "outputs": []
    },
    {
      "cell_type": "code",
      "source": [
        "# 7.6\n",
        "model.add(tf.keras.layers.LSTM(units = 50))"
      ],
      "metadata": {
        "id": "GtEzr1ILX-ly"
      },
      "execution_count": 27,
      "outputs": []
    },
    {
      "cell_type": "code",
      "source": [
        "# 7.7\n",
        "model.add(tf.keras.layers.Dropout(0.1))"
      ],
      "metadata": {
        "id": "s9GZCiIQYB7T"
      },
      "execution_count": 28,
      "outputs": []
    },
    {
      "cell_type": "code",
      "source": [
        "# 7.8\n",
        "model.add(tf.keras.layers.Dense(1))"
      ],
      "metadata": {
        "id": "Y6oVPxkHYKB1"
      },
      "execution_count": 29,
      "outputs": []
    },
    {
      "cell_type": "code",
      "source": [
        "# 7.9\n",
        "model.summary()"
      ],
      "metadata": {
        "colab": {
          "base_uri": "https://localhost:8080/"
        },
        "id": "Qwl3rSvxqnF2",
        "outputId": "b1b0cb75-8973-4d1e-ddee-ddf7c8093ecd"
      },
      "execution_count": null,
      "outputs": [
        {
          "output_type": "stream",
          "name": "stdout",
          "text": [
            "Model: \"sequential\"\n",
            "_________________________________________________________________\n",
            " Layer (type)                Output Shape              Param #   \n",
            "=================================================================\n",
            " lstm (LSTM)                 (None, 60, 50)            10600     \n",
            "                                                                 \n",
            " dropout (Dropout)           (None, 60, 50)            0         \n",
            "                                                                 \n",
            " lstm_1 (LSTM)               (None, 60, 50)            20200     \n",
            "                                                                 \n",
            " dropout_1 (Dropout)         (None, 60, 50)            0         \n",
            "                                                                 \n",
            " lstm_2 (LSTM)               (None, 50)                20200     \n",
            "                                                                 \n",
            " dropout_2 (Dropout)         (None, 50)                0         \n",
            "                                                                 \n",
            " dense (Dense)               (None, 1)                 51        \n",
            "                                                                 \n",
            "=================================================================\n",
            "Total params: 51,051\n",
            "Trainable params: 51,051\n",
            "Non-trainable params: 0\n",
            "_________________________________________________________________\n"
          ]
        }
      ]
    },
    {
      "cell_type": "markdown",
      "source": [
        "## Model compilation and fitting"
      ],
      "metadata": {
        "id": "9LK0EJJasTUw"
      }
    },
    {
      "cell_type": "code",
      "source": [
        "# 8.0 Compile:\n",
        "#     https://www.tensorflow.org/api_docs/python/tf/keras/Model#compile\n",
        "#     Try: tf.keras.optimizers.Adam(learning_rate=1e-4) # Default lr is 0.001\n",
        "\n",
        "model.compile(\n",
        "              optimizer = \"adam\",   # Default 'rmsprop'\n",
        "              loss = \"mse\"\n",
        "              )"
      ],
      "metadata": {
        "id": "p5wOnEFXYPwv"
      },
      "execution_count": 30,
      "outputs": []
    },
    {
      "cell_type": "code",
      "source": [
        "# 9.0\n",
        "# https://www.tensorflow.org/api_docs/python/tf/keras/Model#fit\n",
        "model.fit(\n",
        "          X_train,y_train,\n",
        "          shuffle = True,    # By default\n",
        "          batch_size = 32,   # Default 32\n",
        "          epochs = 100       # Default 1\n",
        "          )"
      ],
      "metadata": {
        "id": "7A65QexRYXJz",
        "colab": {
          "base_uri": "https://localhost:8080/"
        },
        "outputId": "e76a3003-3f09-4da8-ea53-822abcf54a72"
      },
      "execution_count": 31,
      "outputs": [
        {
          "output_type": "stream",
          "name": "stdout",
          "text": [
            "Epoch 1/100\n",
            "38/38 [==============================] - 11s 114ms/step - loss: 0.0420\n",
            "Epoch 2/100\n",
            "38/38 [==============================] - 6s 147ms/step - loss: 0.0047\n",
            "Epoch 3/100\n",
            "38/38 [==============================] - 4s 97ms/step - loss: 0.0039\n",
            "Epoch 4/100\n",
            "38/38 [==============================] - 4s 97ms/step - loss: 0.0036\n",
            "Epoch 5/100\n",
            "38/38 [==============================] - 5s 133ms/step - loss: 0.0037\n",
            "Epoch 6/100\n",
            "38/38 [==============================] - 4s 111ms/step - loss: 0.0036\n",
            "Epoch 7/100\n",
            "38/38 [==============================] - 4s 98ms/step - loss: 0.0033\n",
            "Epoch 8/100\n",
            "38/38 [==============================] - 4s 108ms/step - loss: 0.0028\n",
            "Epoch 9/100\n",
            "38/38 [==============================] - 5s 142ms/step - loss: 0.0028\n",
            "Epoch 10/100\n",
            "38/38 [==============================] - 4s 119ms/step - loss: 0.0029\n",
            "Epoch 11/100\n",
            "38/38 [==============================] - 5s 117ms/step - loss: 0.0027\n",
            "Epoch 12/100\n",
            "38/38 [==============================] - 5s 137ms/step - loss: 0.0029\n",
            "Epoch 13/100\n",
            "38/38 [==============================] - 4s 100ms/step - loss: 0.0028\n",
            "Epoch 14/100\n",
            "38/38 [==============================] - 4s 99ms/step - loss: 0.0026\n",
            "Epoch 15/100\n",
            "38/38 [==============================] - 6s 150ms/step - loss: 0.0031\n",
            "Epoch 16/100\n",
            "38/38 [==============================] - 4s 99ms/step - loss: 0.0030\n",
            "Epoch 17/100\n",
            "38/38 [==============================] - 4s 99ms/step - loss: 0.0028\n",
            "Epoch 18/100\n",
            "38/38 [==============================] - 5s 135ms/step - loss: 0.0028\n",
            "Epoch 19/100\n",
            "38/38 [==============================] - 4s 114ms/step - loss: 0.0025\n",
            "Epoch 20/100\n",
            "38/38 [==============================] - 4s 100ms/step - loss: 0.0024\n",
            "Epoch 21/100\n",
            "38/38 [==============================] - 4s 110ms/step - loss: 0.0023\n",
            "Epoch 22/100\n",
            "38/38 [==============================] - 5s 137ms/step - loss: 0.0022\n",
            "Epoch 23/100\n",
            "38/38 [==============================] - 4s 101ms/step - loss: 0.0023\n",
            "Epoch 24/100\n",
            "38/38 [==============================] - 4s 101ms/step - loss: 0.0022\n",
            "Epoch 25/100\n",
            "38/38 [==============================] - 6s 151ms/step - loss: 0.0023\n",
            "Epoch 26/100\n",
            "38/38 [==============================] - 4s 101ms/step - loss: 0.0021\n",
            "Epoch 27/100\n",
            "38/38 [==============================] - 4s 101ms/step - loss: 0.0026\n",
            "Epoch 28/100\n",
            "38/38 [==============================] - 5s 145ms/step - loss: 0.0022\n",
            "Epoch 29/100\n",
            "38/38 [==============================] - 4s 104ms/step - loss: 0.0020\n",
            "Epoch 30/100\n",
            "38/38 [==============================] - 4s 102ms/step - loss: 0.0023\n",
            "Epoch 31/100\n",
            "38/38 [==============================] - 5s 123ms/step - loss: 0.0024\n",
            "Epoch 32/100\n",
            "38/38 [==============================] - 5s 127ms/step - loss: 0.0022\n",
            "Epoch 33/100\n",
            "38/38 [==============================] - 4s 101ms/step - loss: 0.0020\n",
            "Epoch 34/100\n",
            "38/38 [==============================] - 4s 102ms/step - loss: 0.0021\n",
            "Epoch 35/100\n",
            "38/38 [==============================] - 6s 149ms/step - loss: 0.0019\n",
            "Epoch 36/100\n",
            "38/38 [==============================] - 4s 101ms/step - loss: 0.0018\n",
            "Epoch 37/100\n",
            "38/38 [==============================] - 4s 101ms/step - loss: 0.0020\n",
            "Epoch 38/100\n",
            "38/38 [==============================] - 6s 150ms/step - loss: 0.0019\n",
            "Epoch 39/100\n",
            "38/38 [==============================] - 4s 101ms/step - loss: 0.0017\n",
            "Epoch 40/100\n",
            "38/38 [==============================] - 4s 102ms/step - loss: 0.0020\n",
            "Epoch 41/100\n",
            "38/38 [==============================] - 5s 134ms/step - loss: 0.0018\n",
            "Epoch 42/100\n",
            "38/38 [==============================] - 5s 118ms/step - loss: 0.0017\n",
            "Epoch 43/100\n",
            "38/38 [==============================] - 4s 101ms/step - loss: 0.0019\n",
            "Epoch 44/100\n",
            "38/38 [==============================] - 4s 115ms/step - loss: 0.0019\n",
            "Epoch 45/100\n",
            "38/38 [==============================] - 5s 136ms/step - loss: 0.0017\n",
            "Epoch 46/100\n",
            "38/38 [==============================] - 4s 101ms/step - loss: 0.0016\n",
            "Epoch 47/100\n",
            "38/38 [==============================] - 4s 102ms/step - loss: 0.0018\n",
            "Epoch 48/100\n",
            "38/38 [==============================] - 6s 152ms/step - loss: 0.0017\n",
            "Epoch 49/100\n",
            "38/38 [==============================] - 4s 101ms/step - loss: 0.0016\n",
            "Epoch 50/100\n",
            "38/38 [==============================] - 4s 101ms/step - loss: 0.0017\n",
            "Epoch 51/100\n",
            "38/38 [==============================] - 6s 148ms/step - loss: 0.0015\n",
            "Epoch 52/100\n",
            "38/38 [==============================] - 4s 102ms/step - loss: 0.0015\n",
            "Epoch 53/100\n",
            "38/38 [==============================] - 4s 101ms/step - loss: 0.0016\n",
            "Epoch 54/100\n",
            "38/38 [==============================] - 5s 129ms/step - loss: 0.0016\n",
            "Epoch 55/100\n",
            "38/38 [==============================] - 5s 123ms/step - loss: 0.0015\n",
            "Epoch 56/100\n",
            "38/38 [==============================] - 4s 103ms/step - loss: 0.0014\n",
            "Epoch 57/100\n",
            "38/38 [==============================] - 4s 111ms/step - loss: 0.0016\n",
            "Epoch 58/100\n",
            "38/38 [==============================] - 5s 140ms/step - loss: 0.0015\n",
            "Epoch 59/100\n",
            "38/38 [==============================] - 4s 102ms/step - loss: 0.0014\n",
            "Epoch 60/100\n",
            "38/38 [==============================] - 4s 102ms/step - loss: 0.0015\n",
            "Epoch 61/100\n",
            "38/38 [==============================] - 6s 153ms/step - loss: 0.0015\n",
            "Epoch 62/100\n",
            "38/38 [==============================] - 4s 104ms/step - loss: 0.0014\n",
            "Epoch 63/100\n",
            "38/38 [==============================] - 4s 102ms/step - loss: 0.0015\n",
            "Epoch 64/100\n",
            "38/38 [==============================] - 6s 157ms/step - loss: 0.0015\n",
            "Epoch 65/100\n",
            "38/38 [==============================] - 4s 103ms/step - loss: 0.0013\n",
            "Epoch 66/100\n",
            "38/38 [==============================] - 4s 117ms/step - loss: 0.0014\n",
            "Epoch 67/100\n",
            "38/38 [==============================] - 7s 198ms/step - loss: 0.0013\n",
            "Epoch 68/100\n",
            "38/38 [==============================] - 4s 108ms/step - loss: 0.0014\n",
            "Epoch 69/100\n",
            "38/38 [==============================] - 4s 102ms/step - loss: 0.0014\n",
            "Epoch 70/100\n",
            "38/38 [==============================] - 5s 126ms/step - loss: 0.0014\n",
            "Epoch 71/100\n",
            "38/38 [==============================] - 5s 128ms/step - loss: 0.0012\n",
            "Epoch 72/100\n",
            "38/38 [==============================] - 4s 103ms/step - loss: 0.0014\n",
            "Epoch 73/100\n",
            "38/38 [==============================] - 4s 109ms/step - loss: 0.0013\n",
            "Epoch 74/100\n",
            "38/38 [==============================] - 6s 145ms/step - loss: 0.0012\n",
            "Epoch 75/100\n",
            "38/38 [==============================] - 4s 102ms/step - loss: 0.0015\n",
            "Epoch 76/100\n",
            "38/38 [==============================] - 4s 103ms/step - loss: 0.0014\n",
            "Epoch 77/100\n",
            "38/38 [==============================] - 6s 152ms/step - loss: 0.0012\n",
            "Epoch 78/100\n",
            "38/38 [==============================] - 4s 103ms/step - loss: 0.0013\n",
            "Epoch 79/100\n",
            "38/38 [==============================] - 4s 103ms/step - loss: 0.0012\n",
            "Epoch 80/100\n",
            "38/38 [==============================] - 6s 151ms/step - loss: 0.0013\n",
            "Epoch 81/100\n",
            "38/38 [==============================] - 4s 103ms/step - loss: 0.0013\n",
            "Epoch 82/100\n",
            "38/38 [==============================] - 4s 103ms/step - loss: 0.0013\n",
            "Epoch 83/100\n",
            "38/38 [==============================] - 5s 135ms/step - loss: 0.0011\n",
            "Epoch 84/100\n",
            "38/38 [==============================] - 5s 119ms/step - loss: 0.0011\n",
            "Epoch 85/100\n",
            "38/38 [==============================] - 4s 103ms/step - loss: 0.0011\n",
            "Epoch 86/100\n",
            "38/38 [==============================] - 5s 120ms/step - loss: 0.0014\n",
            "Epoch 87/100\n",
            "38/38 [==============================] - 5s 135ms/step - loss: 0.0011\n",
            "Epoch 88/100\n",
            "38/38 [==============================] - 4s 104ms/step - loss: 0.0010\n",
            "Epoch 89/100\n",
            "38/38 [==============================] - 4s 108ms/step - loss: 0.0012\n",
            "Epoch 90/100\n",
            "38/38 [==============================] - 6s 146ms/step - loss: 0.0011\n",
            "Epoch 91/100\n",
            "38/38 [==============================] - 4s 104ms/step - loss: 0.0011\n",
            "Epoch 92/100\n",
            "38/38 [==============================] - 4s 104ms/step - loss: 0.0011\n",
            "Epoch 93/100\n",
            "38/38 [==============================] - 6s 153ms/step - loss: 0.0011\n",
            "Epoch 94/100\n",
            "38/38 [==============================] - 4s 103ms/step - loss: 0.0012\n",
            "Epoch 95/100\n",
            "38/38 [==============================] - 4s 103ms/step - loss: 0.0012\n",
            "Epoch 96/100\n",
            "38/38 [==============================] - 6s 152ms/step - loss: 0.0010\n",
            "Epoch 97/100\n",
            "38/38 [==============================] - 4s 103ms/step - loss: 0.0010\n",
            "Epoch 98/100\n",
            "38/38 [==============================] - 4s 103ms/step - loss: 0.0010\n",
            "Epoch 99/100\n",
            "38/38 [==============================] - 5s 136ms/step - loss: 0.0011\n",
            "Epoch 100/100\n",
            "38/38 [==============================] - 5s 118ms/step - loss: 0.0012\n"
          ]
        },
        {
          "output_type": "execute_result",
          "data": {
            "text/plain": [
              "<keras.callbacks.History at 0x7f2ce83d7bb0>"
            ]
          },
          "metadata": {},
          "execution_count": 31
        }
      ]
    },
    {
      "cell_type": "markdown",
      "source": [
        "## Complete model code at one place:"
      ],
      "metadata": {
        "id": "i8w8TMFJhwkV"
      }
    },
    {
      "cell_type": "code",
      "source": [
        "# 9.1 Complete code at one place:\n",
        "#del model\n",
        "model = tf.keras.Sequential() \n",
        "model.add(tf.keras.layers.Input(shape = (X_train.shape[1], X_train.shape[2])))\n",
        "model.add(tf.keras.layers.LSTM(\n",
        "                                units = 50,\n",
        "                                return_sequences = True\n",
        "                               )\n",
        "         )\n",
        "model.add(tf.keras.layers.Dropout(0.2))\n",
        "model.add(tf.keras.layers.LSTM(\n",
        "                               units = 50,\n",
        "                               return_sequences = True)\n",
        "                              )\n",
        "model.add(tf.keras.layers.Dropout(0.2))\n",
        "model.add(tf.keras.layers.LSTM(units = 50))\n",
        "model.add(tf.keras.layers.Dropout(0.1))\n",
        "model.add(tf.keras.layers.Dense(1))\n",
        "model.summary()\n",
        "model.compile(optimizer = \"adam\", loss = \"mse\")\n",
        "model.fit(\n",
        "          X_train,y_train,\n",
        "          batch_size = 32,\n",
        "          shuffle = True,\n",
        "          epochs = 100\n",
        "          )"
      ],
      "metadata": {
        "colab": {
          "base_uri": "https://localhost:8080/"
        },
        "id": "GBvggGfBhze9",
        "outputId": "45b01ba8-90c5-4fee-d515-42784f8b71e0"
      },
      "execution_count": null,
      "outputs": [
        {
          "output_type": "stream",
          "name": "stdout",
          "text": [
            "Model: \"sequential\"\n",
            "_________________________________________________________________\n",
            " Layer (type)                Output Shape              Param #   \n",
            "=================================================================\n",
            " lstm (LSTM)                 (None, 60, 50)            10600     \n",
            "                                                                 \n",
            " dropout (Dropout)           (None, 60, 50)            0         \n",
            "                                                                 \n",
            " lstm_1 (LSTM)               (None, 60, 50)            20200     \n",
            "                                                                 \n",
            " dropout_1 (Dropout)         (None, 60, 50)            0         \n",
            "                                                                 \n",
            " lstm_2 (LSTM)               (None, 50)                20200     \n",
            "                                                                 \n",
            " dropout_2 (Dropout)         (None, 50)                0         \n",
            "                                                                 \n",
            " dense (Dense)               (None, 1)                 51        \n",
            "                                                                 \n",
            "=================================================================\n",
            "Total params: 51,051\n",
            "Trainable params: 51,051\n",
            "Non-trainable params: 0\n",
            "_________________________________________________________________\n",
            "Epoch 1/100\n",
            "38/38 [==============================] - 11s 155ms/step - loss: 0.0260\n",
            "Epoch 2/100\n",
            "38/38 [==============================] - 4s 99ms/step - loss: 0.0040\n",
            "Epoch 3/100\n",
            "38/38 [==============================] - 5s 144ms/step - loss: 0.0035\n",
            "Epoch 4/100\n",
            "38/38 [==============================] - 7s 186ms/step - loss: 0.0034\n",
            "Epoch 5/100\n",
            "38/38 [==============================] - 5s 130ms/step - loss: 0.0033\n",
            "Epoch 6/100\n",
            "38/38 [==============================] - 7s 175ms/step - loss: 0.0031\n",
            "Epoch 7/100\n",
            "38/38 [==============================] - 5s 124ms/step - loss: 0.0030\n",
            "Epoch 8/100\n",
            "38/38 [==============================] - 3s 84ms/step - loss: 0.0036\n",
            "Epoch 9/100\n",
            "38/38 [==============================] - 3s 83ms/step - loss: 0.0030\n",
            "Epoch 10/100\n",
            "38/38 [==============================] - 5s 134ms/step - loss: 0.0027\n",
            "Epoch 11/100\n",
            "38/38 [==============================] - 3s 87ms/step - loss: 0.0025\n",
            "Epoch 12/100\n",
            "38/38 [==============================] - 3s 87ms/step - loss: 0.0028\n",
            "Epoch 13/100\n",
            "38/38 [==============================] - 3s 86ms/step - loss: 0.0028\n",
            "Epoch 14/100\n",
            "38/38 [==============================] - 5s 136ms/step - loss: 0.0027\n",
            "Epoch 15/100\n",
            "38/38 [==============================] - 3s 85ms/step - loss: 0.0025\n",
            "Epoch 16/100\n",
            "38/38 [==============================] - 3s 86ms/step - loss: 0.0024\n",
            "Epoch 17/100\n",
            "38/38 [==============================] - 3s 91ms/step - loss: 0.0026\n",
            "Epoch 18/100\n",
            "38/38 [==============================] - 5s 129ms/step - loss: 0.0025\n",
            "Epoch 19/100\n",
            "38/38 [==============================] - 3s 87ms/step - loss: 0.0030\n",
            "Epoch 20/100\n",
            "38/38 [==============================] - 3s 85ms/step - loss: 0.0022\n",
            "Epoch 21/100\n",
            "38/38 [==============================] - 4s 98ms/step - loss: 0.0024\n",
            "Epoch 22/100\n",
            "38/38 [==============================] - 5s 121ms/step - loss: 0.0022\n",
            "Epoch 23/100\n",
            "38/38 [==============================] - 3s 84ms/step - loss: 0.0023\n",
            "Epoch 24/100\n",
            "38/38 [==============================] - 3s 85ms/step - loss: 0.0022\n",
            "Epoch 25/100\n",
            "38/38 [==============================] - 4s 102ms/step - loss: 0.0024\n",
            "Epoch 26/100\n",
            "38/38 [==============================] - 4s 115ms/step - loss: 0.0021\n",
            "Epoch 27/100\n",
            "38/38 [==============================] - 4s 98ms/step - loss: 0.0025\n",
            "Epoch 28/100\n",
            "38/38 [==============================] - 4s 95ms/step - loss: 0.0018\n",
            "Epoch 29/100\n",
            "38/38 [==============================] - 5s 127ms/step - loss: 0.0018\n",
            "Epoch 30/100\n",
            "38/38 [==============================] - 4s 104ms/step - loss: 0.0018\n",
            "Epoch 31/100\n",
            "38/38 [==============================] - 4s 110ms/step - loss: 0.0018\n",
            "Epoch 32/100\n",
            "38/38 [==============================] - 6s 154ms/step - loss: 0.0019\n",
            "Epoch 33/100\n",
            "38/38 [==============================] - 4s 108ms/step - loss: 0.0021\n",
            "Epoch 34/100\n",
            "38/38 [==============================] - 3s 86ms/step - loss: 0.0018\n",
            "Epoch 35/100\n",
            "38/38 [==============================] - 3s 87ms/step - loss: 0.0016\n",
            "Epoch 36/100\n",
            "38/38 [==============================] - 4s 118ms/step - loss: 0.0019\n",
            "Epoch 37/100\n",
            "38/38 [==============================] - 4s 102ms/step - loss: 0.0018\n",
            "Epoch 38/100\n",
            "38/38 [==============================] - 5s 132ms/step - loss: 0.0019\n",
            "Epoch 39/100\n",
            "38/38 [==============================] - 4s 97ms/step - loss: 0.0017\n",
            "Epoch 40/100\n",
            "38/38 [==============================] - 5s 122ms/step - loss: 0.0018\n",
            "Epoch 41/100\n",
            "38/38 [==============================] - 3s 85ms/step - loss: 0.0018\n",
            "Epoch 42/100\n",
            "38/38 [==============================] - 3s 85ms/step - loss: 0.0019\n",
            "Epoch 43/100\n",
            "38/38 [==============================] - 4s 104ms/step - loss: 0.0017\n",
            "Epoch 44/100\n",
            "38/38 [==============================] - 5s 119ms/step - loss: 0.0017\n",
            "Epoch 45/100\n",
            "38/38 [==============================] - 4s 95ms/step - loss: 0.0016\n",
            "Epoch 46/100\n",
            "38/38 [==============================] - 3s 88ms/step - loss: 0.0017\n",
            "Epoch 47/100\n",
            "38/38 [==============================] - 5s 129ms/step - loss: 0.0015\n",
            "Epoch 48/100\n",
            "38/38 [==============================] - 4s 94ms/step - loss: 0.0016\n",
            "Epoch 49/100\n",
            "38/38 [==============================] - 3s 86ms/step - loss: 0.0017\n",
            "Epoch 50/100\n",
            "38/38 [==============================] - 3s 87ms/step - loss: 0.0015\n",
            "Epoch 51/100\n",
            "38/38 [==============================] - 5s 131ms/step - loss: 0.0015\n",
            "Epoch 52/100\n",
            "38/38 [==============================] - 3s 86ms/step - loss: 0.0015\n",
            "Epoch 53/100\n",
            "38/38 [==============================] - 3s 85ms/step - loss: 0.0015\n",
            "Epoch 54/100\n",
            "38/38 [==============================] - 3s 86ms/step - loss: 0.0016\n",
            "Epoch 55/100\n",
            "38/38 [==============================] - 5s 135ms/step - loss: 0.0015\n",
            "Epoch 56/100\n",
            "38/38 [==============================] - 3s 87ms/step - loss: 0.0016\n",
            "Epoch 57/100\n",
            "38/38 [==============================] - 3s 86ms/step - loss: 0.0013\n",
            "Epoch 58/100\n",
            "38/38 [==============================] - 3s 85ms/step - loss: 0.0017\n",
            "Epoch 59/100\n",
            "38/38 [==============================] - 5s 134ms/step - loss: 0.0015\n",
            "Epoch 60/100\n",
            "38/38 [==============================] - 3s 87ms/step - loss: 0.0013\n",
            "Epoch 61/100\n",
            "38/38 [==============================] - 3s 84ms/step - loss: 0.0014\n",
            "Epoch 62/100\n",
            "38/38 [==============================] - 3s 89ms/step - loss: 0.0013\n",
            "Epoch 63/100\n",
            "38/38 [==============================] - 5s 129ms/step - loss: 0.0015\n",
            "Epoch 64/100\n",
            "38/38 [==============================] - 3s 87ms/step - loss: 0.0013\n",
            "Epoch 65/100\n",
            "38/38 [==============================] - 3s 85ms/step - loss: 0.0014\n",
            "Epoch 66/100\n",
            "38/38 [==============================] - 4s 96ms/step - loss: 0.0014\n",
            "Epoch 67/100\n",
            "38/38 [==============================] - 5s 127ms/step - loss: 0.0013\n",
            "Epoch 68/100\n",
            "38/38 [==============================] - 3s 85ms/step - loss: 0.0013\n",
            "Epoch 69/100\n",
            "38/38 [==============================] - 3s 83ms/step - loss: 0.0012\n",
            "Epoch 70/100\n",
            "38/38 [==============================] - 4s 101ms/step - loss: 0.0013\n",
            "Epoch 71/100\n",
            "38/38 [==============================] - 5s 120ms/step - loss: 0.0014\n",
            "Epoch 72/100\n",
            "38/38 [==============================] - 3s 84ms/step - loss: 0.0013\n",
            "Epoch 73/100\n",
            "38/38 [==============================] - 3s 83ms/step - loss: 0.0012\n",
            "Epoch 74/100\n",
            "38/38 [==============================] - 4s 103ms/step - loss: 0.0012\n",
            "Epoch 75/100\n",
            "38/38 [==============================] - 4s 118ms/step - loss: 0.0013\n",
            "Epoch 76/100\n",
            "38/38 [==============================] - 3s 87ms/step - loss: 0.0012\n",
            "Epoch 77/100\n",
            "38/38 [==============================] - 3s 88ms/step - loss: 0.0010\n",
            "Epoch 78/100\n",
            "38/38 [==============================] - 4s 110ms/step - loss: 0.0012\n",
            "Epoch 79/100\n",
            "38/38 [==============================] - 4s 108ms/step - loss: 9.8713e-04\n",
            "Epoch 80/100\n",
            "38/38 [==============================] - 3s 85ms/step - loss: 0.0010\n",
            "Epoch 81/100\n",
            "38/38 [==============================] - 3s 85ms/step - loss: 0.0011\n",
            "Epoch 82/100\n",
            "38/38 [==============================] - 4s 118ms/step - loss: 0.0012\n",
            "Epoch 83/100\n",
            "38/38 [==============================] - 4s 101ms/step - loss: 0.0010\n",
            "Epoch 84/100\n",
            "38/38 [==============================] - 3s 85ms/step - loss: 9.8308e-04\n",
            "Epoch 85/100\n",
            "38/38 [==============================] - 3s 85ms/step - loss: 0.0010\n",
            "Epoch 86/100\n",
            "38/38 [==============================] - 5s 119ms/step - loss: 0.0010\n",
            "Epoch 87/100\n",
            "38/38 [==============================] - 4s 99ms/step - loss: 0.0011\n",
            "Epoch 88/100\n",
            "38/38 [==============================] - 3s 85ms/step - loss: 0.0011\n",
            "Epoch 89/100\n",
            "38/38 [==============================] - 3s 85ms/step - loss: 0.0011\n",
            "Epoch 90/100\n",
            "38/38 [==============================] - 5s 125ms/step - loss: 0.0011\n",
            "Epoch 91/100\n",
            "38/38 [==============================] - 4s 95ms/step - loss: 0.0011\n",
            "Epoch 92/100\n",
            "38/38 [==============================] - 3s 83ms/step - loss: 0.0012\n",
            "Epoch 93/100\n",
            "38/38 [==============================] - 3s 84ms/step - loss: 0.0010\n",
            "Epoch 94/100\n",
            "38/38 [==============================] - 5s 126ms/step - loss: 0.0011\n",
            "Epoch 95/100\n",
            "38/38 [==============================] - 4s 92ms/step - loss: 9.6418e-04\n",
            "Epoch 96/100\n",
            "38/38 [==============================] - 3s 84ms/step - loss: 9.2815e-04\n",
            "Epoch 97/100\n",
            "38/38 [==============================] - 3s 85ms/step - loss: 9.4907e-04\n",
            "Epoch 98/100\n",
            "38/38 [==============================] - 5s 133ms/step - loss: 0.0010\n",
            "Epoch 99/100\n",
            "38/38 [==============================] - 3s 85ms/step - loss: 9.9645e-04\n",
            "Epoch 100/100\n",
            "38/38 [==============================] - 3s 86ms/step - loss: 9.4737e-04\n"
          ]
        },
        {
          "output_type": "execute_result",
          "data": {
            "text/plain": [
              "<keras.callbacks.History at 0x7fa71eba3a60>"
            ]
          },
          "metadata": {},
          "execution_count": 27
        }
      ]
    },
    {
      "cell_type": "markdown",
      "source": [
        "## Make predictions"
      ],
      "metadata": {
        "id": "K1hwYslhq1i2"
      }
    },
    {
      "cell_type": "markdown",
      "source": [
        "### Prepare test data"
      ],
      "metadata": {
        "id": "1PwPCkUfi_Hn"
      }
    },
    {
      "cell_type": "code",
      "source": [
        "# 10.0 Our data:\n",
        "te.shape   # (20, 2)\n",
        "tr.shape  # (1258, 2)"
      ],
      "metadata": {
        "colab": {
          "base_uri": "https://localhost:8080/"
        },
        "id": "43VwNvrp6_jx",
        "outputId": "a3186269-79d7-4d76-cedd-49c369556a65"
      },
      "execution_count": null,
      "outputs": [
        {
          "output_type": "execute_result",
          "data": {
            "text/plain": [
              "(20, 2)"
            ]
          },
          "metadata": {},
          "execution_count": 28
        },
        {
          "output_type": "execute_result",
          "data": {
            "text/plain": [
              "(1258, 2)"
            ]
          },
          "metadata": {},
          "execution_count": 28
        }
      ]
    },
    {
      "cell_type": "code",
      "source": [
        "# 10.1 Concatenate tr/te:\n",
        "\n",
        "combined_df = np.vstack([tr, te])\n",
        "combined_df.shape"
      ],
      "metadata": {
        "id": "v12v6DAtV03F",
        "outputId": "2ace78e0-1871-4381-e5de-e39fc9855ef3",
        "colab": {
          "base_uri": "https://localhost:8080/"
        }
      },
      "execution_count": 32,
      "outputs": [
        {
          "output_type": "execute_result",
          "data": {
            "text/plain": [
              "(1278, 2)"
            ]
          },
          "metadata": {},
          "execution_count": 32
        }
      ]
    },
    {
      "cell_type": "code",
      "source": [
        "# 10.2 Data for test predictions:\n",
        "\n",
        "inputs = combined_df[len(combined_df) - len(te) - 60:]\n",
        "inputs.shape   # (80,2)"
      ],
      "metadata": {
        "colab": {
          "base_uri": "https://localhost:8080/"
        },
        "id": "tpaStpeh7fkR",
        "outputId": "25e316cb-fdae-49cf-d550-ccaa114a374c"
      },
      "execution_count": 33,
      "outputs": [
        {
          "output_type": "execute_result",
          "data": {
            "text/plain": [
              "(80, 2)"
            ]
          },
          "metadata": {},
          "execution_count": 33
        }
      ]
    },
    {
      "cell_type": "code",
      "source": [
        "# 10.3 Reshape, if rquired\n",
        "#      Not required\n",
        "inputs = inputs.reshape(-1,2)\n",
        "inputs.shape   # (80, 2)"
      ],
      "metadata": {
        "colab": {
          "base_uri": "https://localhost:8080/"
        },
        "id": "fT08QyAq7x6h",
        "outputId": "9fc22353-4ad5-4551-cad3-de0346ec502e"
      },
      "execution_count": 34,
      "outputs": [
        {
          "output_type": "execute_result",
          "data": {
            "text/plain": [
              "(80, 2)"
            ]
          },
          "metadata": {},
          "execution_count": 34
        }
      ]
    },
    {
      "cell_type": "code",
      "source": [
        "# 11.1 Prepare 'test' timeseries data from inputs data:\n",
        "\n",
        "X_test = []\n",
        "for i in range(60,80):\n",
        "    X_test.append(inputs[i-60:i,:])\n"
      ],
      "metadata": {
        "id": "ODcolOmza33J"
      },
      "execution_count": 35,
      "outputs": []
    },
    {
      "cell_type": "code",
      "source": [
        "# 11.2 Check: \n",
        "len(X_test)    # 20\n",
        "print(\"\\n===========\\n\")\n",
        "X_test[0].shape\n",
        "print(\"\\n===========\\n\")\n",
        "X_test = np.array(X_test)\n",
        "X_test.shape   # (20, 60)"
      ],
      "metadata": {
        "id": "B0uqcENfW7sI",
        "outputId": "a88d468f-0b9b-40b7-d259-02a3f175d3cb",
        "colab": {
          "base_uri": "https://localhost:8080/"
        }
      },
      "execution_count": 36,
      "outputs": [
        {
          "output_type": "execute_result",
          "data": {
            "text/plain": [
              "20"
            ]
          },
          "metadata": {},
          "execution_count": 36
        },
        {
          "output_type": "stream",
          "name": "stdout",
          "text": [
            "\n",
            "===========\n",
            "\n"
          ]
        },
        {
          "output_type": "execute_result",
          "data": {
            "text/plain": [
              "(60, 2)"
            ]
          },
          "metadata": {},
          "execution_count": 36
        },
        {
          "output_type": "stream",
          "name": "stdout",
          "text": [
            "\n",
            "===========\n",
            "\n"
          ]
        },
        {
          "output_type": "execute_result",
          "data": {
            "text/plain": [
              "(20, 60, 2)"
            ]
          },
          "metadata": {},
          "execution_count": 36
        }
      ]
    },
    {
      "cell_type": "code",
      "source": [
        "# 11.3 Reshape X_test:\n",
        "#      Not needed. Data already in this shape\n",
        "\n",
        "X_test = np.reshape(X_test, (X_test.shape[0], X_test.shape[1],2))\n",
        "X_test.shape"
      ],
      "metadata": {
        "colab": {
          "base_uri": "https://localhost:8080/"
        },
        "id": "tSy2qxTK8Wms",
        "outputId": "0c6d81ec-78b8-4a1c-d8a4-98195ebc8177"
      },
      "execution_count": null,
      "outputs": [
        {
          "output_type": "execute_result",
          "data": {
            "text/plain": [
              "(20, 60, 2)"
            ]
          },
          "metadata": {},
          "execution_count": 34
        }
      ]
    },
    {
      "cell_type": "markdown",
      "source": [
        "### Make predictions"
      ],
      "metadata": {
        "id": "E3-EkMjKjEdF"
      }
    },
    {
      "cell_type": "code",
      "source": [
        "# 12 Make predictions\n",
        "\n",
        "pred = model.predict(X_test)\n",
        "\n",
        "print(\"\\n==========\\n\")\n",
        "pred\n",
        "print(\"\\n==========\\n\")\n",
        "pred.shape"
      ],
      "metadata": {
        "id": "20a0-Pf78SKj",
        "colab": {
          "base_uri": "https://localhost:8080/"
        },
        "outputId": "e07c4b89-f2dc-403d-8ae5-57f23720f5e1"
      },
      "execution_count": 37,
      "outputs": [
        {
          "output_type": "stream",
          "name": "stdout",
          "text": [
            "1/1 [==============================] - 2s 2s/step\n",
            "\n",
            "==========\n",
            "\n"
          ]
        },
        {
          "output_type": "execute_result",
          "data": {
            "text/plain": [
              "array([[0.95647395],\n",
              "       [0.9544035 ],\n",
              "       [0.95708025],\n",
              "       [0.96077573],\n",
              "       [0.97027314],\n",
              "       [0.98097384],\n",
              "       [0.98736703],\n",
              "       [0.9885392 ],\n",
              "       [0.9877161 ],\n",
              "       [0.98797035],\n",
              "       [0.98696995],\n",
              "       [0.9855938 ],\n",
              "       [0.985976  ],\n",
              "       [0.98655474],\n",
              "       [0.992422  ],\n",
              "       [1.0031974 ],\n",
              "       [1.0163695 ],\n",
              "       [1.0274467 ],\n",
              "       [1.03384   ],\n",
              "       [1.0219306 ]], dtype=float32)"
            ]
          },
          "metadata": {},
          "execution_count": 37
        },
        {
          "output_type": "stream",
          "name": "stdout",
          "text": [
            "\n",
            "==========\n",
            "\n"
          ]
        },
        {
          "output_type": "execute_result",
          "data": {
            "text/plain": [
              "(20, 1)"
            ]
          },
          "metadata": {},
          "execution_count": 37
        }
      ]
    },
    {
      "cell_type": "code",
      "source": [
        "# 12.1 Inverse transform:\n",
        "#      Inverse transform requires that we have\n",
        "#      data of shape of (n,2), as transform was carried\n",
        "#      out on data of shape(n,2)\n",
        "#      Add a dummy IInd columns:\n",
        "\n",
        "out = np.hstack([pred,pred])\n",
        "\n",
        "# 11.5 Now inverse transform\n",
        "pred = mm.inverse_transform(out)\n",
        "pred"
      ],
      "metadata": {
        "id": "geBvEekBXWc7",
        "colab": {
          "base_uri": "https://localhost:8080/"
        },
        "outputId": "958ba0c7-ad4a-4625-a8db-57c7b3d87f6d"
      },
      "execution_count": 38,
      "outputs": [
        {
          "output_type": "execute_result",
          "data": {
            "text/plain": [
              "array([[793.2821 , 793.3731 ],\n",
              "       [792.1691 , 792.26447],\n",
              "       [793.60803, 793.69775],\n",
              "       [795.5946 , 795.6766 ],\n",
              "       [800.7    , 800.76215],\n",
              "       [806.4523 , 806.49207],\n",
              "       [809.889  , 809.91547],\n",
              "       [810.5191 , 810.5431 ],\n",
              "       [810.07666, 810.10236],\n",
              "       [810.2133 , 810.2385 ],\n",
              "       [809.67554, 809.7028 ],\n",
              "       [808.9358 , 808.96594],\n",
              "       [809.14124, 809.1706 ],\n",
              "       [809.45233, 809.48047],\n",
              "       [812.6063 , 812.6222 ],\n",
              "       [818.3988 , 818.39215],\n",
              "       [825.47955, 825.4454 ],\n",
              "       [831.43427, 831.37695],\n",
              "       [834.871  , 834.8003 ],\n",
              "       [828.469  , 828.42316]], dtype=float32)"
            ]
          },
          "metadata": {},
          "execution_count": 38
        }
      ]
    },
    {
      "cell_type": "markdown",
      "source": [
        "## Plotting results"
      ],
      "metadata": {
        "id": "qy7uSZcprrnA"
      }
    },
    {
      "cell_type": "code",
      "source": [
        "# 12.2 Plot \n",
        "real_stock_price = test.values[:, 1]\n",
        "plt.plot(real_stock_price, color='red', label = \"Real Google Stock Price\");\n",
        "plt.plot(pred[:,0], color = 'blue', label = \"PRedicted google stock price\") ;\n",
        "plt.title(\"Google stock price prediction\") ;\n",
        "plt.xlabel(\"Time\") ;\n",
        "plt.ylabel(\"Google Stock Price\");\n",
        "plt.show() ;"
      ],
      "metadata": {
        "id": "paqdNK01Ybxz",
        "outputId": "3d95523b-fc74-4586-cc88-18ff8360dedf",
        "colab": {
          "base_uri": "https://localhost:8080/",
          "height": 295
        }
      },
      "execution_count": 39,
      "outputs": [
        {
          "output_type": "display_data",
          "data": {
            "text/plain": [
              "<Figure size 432x288 with 1 Axes>"
            ],
            "image/png": "[encoded data removed]"
          },
          "metadata": {
            "needs_background": "light"
          }
        }
      ]
    },
    {
      "cell_type": "markdown",
      "source": [
        "## USing Attention"
      ],
      "metadata": {
        "id": "fqztu-521lG-"
      }
    },
    {
      "cell_type": "code",
      "source": [
        "# 13.0 Install attention\n",
        "! pip install attention"
      ],
      "metadata": {
        "id": "dA4mXs5gZo9j",
        "colab": {
          "base_uri": "https://localhost:8080/"
        },
        "outputId": "01048467-9bd0-484c-f922-be72e115d6c6"
      },
      "execution_count": 40,
      "outputs": [
        {
          "output_type": "stream",
          "name": "stdout",
          "text": [
            "Looking in indexes: https://pypi.org/simple, https://us-python.pkg.dev/colab-wheels/public/simple/\n",
            "Collecting attention\n",
            "  Downloading attention-4.1-py3-none-any.whl (8.6 kB)\n",
            "Requirement already satisfied: tensorflow>=2.1 in /usr/local/lib/python3.8/dist-packages (from attention) (2.11.0)\n",
            "Requirement already satisfied: numpy>=1.18.1 in /usr/local/lib/python3.8/dist-packages (from attention) (1.21.6)\n",
            "Requirement already satisfied: keras<2.12,>=2.11.0 in /usr/local/lib/python3.8/dist-packages (from tensorflow>=2.1->attention) (2.11.0)\n",
            "Requirement already satisfied: h5py>=2.9.0 in /usr/local/lib/python3.8/dist-packages (from tensorflow>=2.1->attention) (3.1.0)\n",
            "Requirement already satisfied: flatbuffers>=2.0 in /usr/local/lib/python3.8/dist-packages (from tensorflow>=2.1->attention) (23.1.21)\n",
            "Requirement already satisfied: gast<=0.4.0,>=0.2.1 in /usr/local/lib/python3.8/dist-packages (from tensorflow>=2.1->attention) (0.4.0)\n",
            "Requirement already satisfied: tensorflow-estimator<2.12,>=2.11.0 in /usr/local/lib/python3.8/dist-packages (from tensorflow>=2.1->attention) (2.11.0)\n",
            "Requirement already satisfied: google-pasta>=0.1.1 in /usr/local/lib/python3.8/dist-packages (from tensorflow>=2.1->attention) (0.2.0)\n",
            "Requirement already satisfied: tensorflow-io-gcs-filesystem>=0.23.1 in /usr/local/lib/python3.8/dist-packages (from tensorflow>=2.1->attention) (0.30.0)\n",
            "Requirement already satisfied: protobuf<3.20,>=3.9.2 in /usr/local/lib/python3.8/dist-packages (from tensorflow>=2.1->attention) (3.19.6)\n",
            "Requirement already satisfied: absl-py>=1.0.0 in /usr/local/lib/python3.8/dist-packages (from tensorflow>=2.1->attention) (1.4.0)\n",
            "Requirement already satisfied: opt-einsum>=2.3.2 in /usr/local/lib/python3.8/dist-packages (from tensorflow>=2.1->attention) (3.3.0)\n",
            "Requirement already satisfied: typing-extensions>=3.6.6 in /usr/local/lib/python3.8/dist-packages (from tensorflow>=2.1->attention) (4.4.0)\n",
            "Requirement already satisfied: libclang>=13.0.0 in /usr/local/lib/python3.8/dist-packages (from tensorflow>=2.1->attention) (15.0.6.1)\n",
            "Requirement already satisfied: wrapt>=1.11.0 in /usr/local/lib/python3.8/dist-packages (from tensorflow>=2.1->attention) (1.14.1)\n",
            "Requirement already satisfied: six>=1.12.0 in /usr/local/lib/python3.8/dist-packages (from tensorflow>=2.1->attention) (1.15.0)\n",
            "Requirement already satisfied: setuptools in /usr/local/lib/python3.8/dist-packages (from tensorflow>=2.1->attention) (57.4.0)\n",
            "Requirement already satisfied: astunparse>=1.6.0 in /usr/local/lib/python3.8/dist-packages (from tensorflow>=2.1->attention) (1.6.3)\n",
            "Requirement already satisfied: packaging in /usr/local/lib/python3.8/dist-packages (from tensorflow>=2.1->attention) (23.0)\n",
            "Requirement already satisfied: grpcio<2.0,>=1.24.3 in /usr/local/lib/python3.8/dist-packages (from tensorflow>=2.1->attention) (1.51.1)\n",
            "Requirement already satisfied: termcolor>=1.1.0 in /usr/local/lib/python3.8/dist-packages (from tensorflow>=2.1->attention) (2.2.0)\n",
            "Requirement already satisfied: tensorboard<2.12,>=2.11 in /usr/local/lib/python3.8/dist-packages (from tensorflow>=2.1->attention) (2.11.2)\n",
            "Requirement already satisfied: wheel<1.0,>=0.23.0 in /usr/local/lib/python3.8/dist-packages (from astunparse>=1.6.0->tensorflow>=2.1->attention) (0.38.4)\n",
            "Requirement already satisfied: werkzeug>=1.0.1 in /usr/local/lib/python3.8/dist-packages (from tensorboard<2.12,>=2.11->tensorflow>=2.1->attention) (1.0.1)\n",
            "Requirement already satisfied: google-auth<3,>=1.6.3 in /usr/local/lib/python3.8/dist-packages (from tensorboard<2.12,>=2.11->tensorflow>=2.1->attention) (2.16.0)\n",
            "Requirement already satisfied: tensorboard-plugin-wit>=1.6.0 in /usr/local/lib/python3.8/dist-packages (from tensorboard<2.12,>=2.11->tensorflow>=2.1->attention) (1.8.1)\n",
            "Requirement already satisfied: tensorboard-data-server<0.7.0,>=0.6.0 in /usr/local/lib/python3.8/dist-packages (from tensorboard<2.12,>=2.11->tensorflow>=2.1->attention) (0.6.1)\n",
            "Requirement already satisfied: google-auth-oauthlib<0.5,>=0.4.1 in /usr/local/lib/python3.8/dist-packages (from tensorboard<2.12,>=2.11->tensorflow>=2.1->attention) (0.4.6)\n",
            "Requirement already satisfied: requests<3,>=2.21.0 in /usr/local/lib/python3.8/dist-packages (from tensorboard<2.12,>=2.11->tensorflow>=2.1->attention) (2.25.1)\n",
            "Requirement already satisfied: markdown>=2.6.8 in /usr/local/lib/python3.8/dist-packages (from tensorboard<2.12,>=2.11->tensorflow>=2.1->attention) (3.4.1)\n",
            "Requirement already satisfied: rsa<5,>=3.1.4 in /usr/local/lib/python3.8/dist-packages (from google-auth<3,>=1.6.3->tensorboard<2.12,>=2.11->tensorflow>=2.1->attention) (4.9)\n",
            "Requirement already satisfied: cachetools<6.0,>=2.0.0 in /usr/local/lib/python3.8/dist-packages (from google-auth<3,>=1.6.3->tensorboard<2.12,>=2.11->tensorflow>=2.1->attention) (5.3.0)\n",
            "Requirement already satisfied: pyasn1-modules>=0.2.1 in /usr/local/lib/python3.8/dist-packages (from google-auth<3,>=1.6.3->tensorboard<2.12,>=2.11->tensorflow>=2.1->attention) (0.2.8)\n",
            "Requirement already satisfied: requests-oauthlib>=0.7.0 in /usr/local/lib/python3.8/dist-packages (from google-auth-oauthlib<0.5,>=0.4.1->tensorboard<2.12,>=2.11->tensorflow>=2.1->attention) (1.3.1)\n",
            "Requirement already satisfied: importlib-metadata>=4.4 in /usr/local/lib/python3.8/dist-packages (from markdown>=2.6.8->tensorboard<2.12,>=2.11->tensorflow>=2.1->attention) (6.0.0)\n",
            "Requirement already satisfied: chardet<5,>=3.0.2 in /usr/local/lib/python3.8/dist-packages (from requests<3,>=2.21.0->tensorboard<2.12,>=2.11->tensorflow>=2.1->attention) (4.0.0)\n",
            "Requirement already satisfied: idna<3,>=2.5 in /usr/local/lib/python3.8/dist-packages (from requests<3,>=2.21.0->tensorboard<2.12,>=2.11->tensorflow>=2.1->attention) (2.10)\n",
            "Requirement already satisfied: urllib3<1.27,>=1.21.1 in /usr/local/lib/python3.8/dist-packages (from requests<3,>=2.21.0->tensorboard<2.12,>=2.11->tensorflow>=2.1->attention) (1.24.3)\n",
            "Requirement already satisfied: certifi>=2017.4.17 in /usr/local/lib/python3.8/dist-packages (from requests<3,>=2.21.0->tensorboard<2.12,>=2.11->tensorflow>=2.1->attention) (2022.12.7)\n",
            "Requirement already satisfied: zipp>=0.5 in /usr/local/lib/python3.8/dist-packages (from importlib-metadata>=4.4->markdown>=2.6.8->tensorboard<2.12,>=2.11->tensorflow>=2.1->attention) (3.12.1)\n",
            "Requirement already satisfied: pyasn1<0.5.0,>=0.4.6 in /usr/local/lib/python3.8/dist-packages (from pyasn1-modules>=0.2.1->google-auth<3,>=1.6.3->tensorboard<2.12,>=2.11->tensorflow>=2.1->attention) (0.4.8)\n",
            "Requirement already satisfied: oauthlib>=3.0.0 in /usr/local/lib/python3.8/dist-packages (from requests-oauthlib>=0.7.0->google-auth-oauthlib<0.5,>=0.4.1->tensorboard<2.12,>=2.11->tensorflow>=2.1->attention) (3.2.2)\n",
            "Installing collected packages: attention\n",
            "Successfully installed attention-4.1\n"
          ]
        }
      ]
    },
    {
      "cell_type": "code",
      "source": [
        "# 13.1 Call Attention\n",
        "from attention import Attention"
      ],
      "metadata": {
        "id": "5DiqDvTfqopd"
      },
      "execution_count": 41,
      "outputs": []
    },
    {
      "cell_type": "code",
      "source": [
        "\n",
        "# 13.2 Complete code at one place:\n",
        "#       Uses Attention. \n",
        "model1 = tf.keras.Sequential() \n",
        "model1.add(tf.keras.layers.Input(shape = (X_train.shape[1], X_train.shape[2])))\n",
        "model1.add(tf.keras.layers.LSTM(\n",
        "                                units = 50,\n",
        "                                return_sequences = True\n",
        "                               )\n",
        "         )\n",
        "model1.add(tf.keras.layers.Dropout(0.2))\n",
        "model1.add(tf.keras.layers.LSTM(\n",
        "                               units = 50,\n",
        "                               return_sequences = True\n",
        "                              )\n",
        "          )\n",
        "model1.add(tf.keras.layers.Dropout(0.2))\n",
        "model1.add(Attention(units = 50))\n",
        "model1.add(tf.keras.layers.Dropout(0.1))\n",
        "model1.add(tf.keras.layers.Dense(1))\n",
        "model1.summary()\n",
        "model1.compile(optimizer = \"adam\", loss = \"mse\")\n",
        "model1.fit(\n",
        "          X_train,y_train,\n",
        "          batch_size = 32,\n",
        "          epochs = 100\n",
        "          )\n"
      ],
      "metadata": {
        "id": "FCeo7zKpZrUj",
        "colab": {
          "base_uri": "https://localhost:8080/"
        },
        "outputId": "81c1abd3-a4cd-40e2-9b8e-cffe5eae4c10"
      },
      "execution_count": 42,
      "outputs": [
        {
          "output_type": "stream",
          "name": "stdout",
          "text": [
            "Model: \"sequential_1\"\n",
            "_________________________________________________________________\n",
            " Layer (type)                Output Shape              Param #   \n",
            "=================================================================\n",
            " lstm_3 (LSTM)               (None, 60, 50)            10600     \n",
            "                                                                 \n",
            " dropout_3 (Dropout)         (None, 60, 50)            0         \n",
            "                                                                 \n",
            " lstm_4 (LSTM)               (None, 60, 50)            20200     \n",
            "                                                                 \n",
            " dropout_4 (Dropout)         (None, 60, 50)            0         \n",
            "                                                                 \n",
            " attention (Attention)       (None, 50)                7500      \n",
            "                                                                 \n",
            " dropout_5 (Dropout)         (None, 50)                0         \n",
            "                                                                 \n",
            " dense_1 (Dense)             (None, 1)                 51        \n",
            "                                                                 \n",
            "=================================================================\n",
            "Total params: 38,351\n",
            "Trainable params: 38,351\n",
            "Non-trainable params: 0\n",
            "_________________________________________________________________\n",
            "Epoch 1/100\n",
            "38/38 [==============================] - 17s 150ms/step - loss: 0.0335\n",
            "Epoch 2/100\n",
            "38/38 [==============================] - 8s 210ms/step - loss: 0.0065\n",
            "Epoch 3/100\n",
            "38/38 [==============================] - 5s 118ms/step - loss: 0.0055\n",
            "Epoch 4/100\n",
            "38/38 [==============================] - 3s 76ms/step - loss: 0.0045\n",
            "Epoch 5/100\n",
            "38/38 [==============================] - 4s 97ms/step - loss: 0.0048\n",
            "Epoch 6/100\n",
            "38/38 [==============================] - 4s 100ms/step - loss: 0.0041\n",
            "Epoch 7/100\n",
            "38/38 [==============================] - 3s 74ms/step - loss: 0.0043\n",
            "Epoch 8/100\n",
            "38/38 [==============================] - 3s 75ms/step - loss: 0.0035\n",
            "Epoch 9/100\n",
            "38/38 [==============================] - 3s 74ms/step - loss: 0.0035\n",
            "Epoch 10/100\n",
            "38/38 [==============================] - 5s 125ms/step - loss: 0.0032\n",
            "Epoch 11/100\n",
            "38/38 [==============================] - 3s 74ms/step - loss: 0.0034\n",
            "Epoch 12/100\n",
            "38/38 [==============================] - 3s 75ms/step - loss: 0.0031\n",
            "Epoch 13/100\n",
            "38/38 [==============================] - 3s 76ms/step - loss: 0.0031\n",
            "Epoch 14/100\n",
            "38/38 [==============================] - 4s 106ms/step - loss: 0.0029\n",
            "Epoch 15/100\n",
            "38/38 [==============================] - 5s 129ms/step - loss: 0.0030\n",
            "Epoch 16/100\n",
            "38/38 [==============================] - 3s 87ms/step - loss: 0.0030\n",
            "Epoch 17/100\n",
            "38/38 [==============================] - 3s 74ms/step - loss: 0.0027\n",
            "Epoch 18/100\n",
            "38/38 [==============================] - 4s 115ms/step - loss: 0.0029\n",
            "Epoch 19/100\n",
            "38/38 [==============================] - 3s 83ms/step - loss: 0.0024\n",
            "Epoch 20/100\n",
            "38/38 [==============================] - 3s 74ms/step - loss: 0.0026\n",
            "Epoch 21/100\n",
            "38/38 [==============================] - 3s 75ms/step - loss: 0.0024\n",
            "Epoch 22/100\n",
            "38/38 [==============================] - 4s 95ms/step - loss: 0.0024\n",
            "Epoch 23/100\n",
            "38/38 [==============================] - 4s 103ms/step - loss: 0.0028\n",
            "Epoch 24/100\n",
            "38/38 [==============================] - 3s 75ms/step - loss: 0.0025\n",
            "Epoch 25/100\n",
            "38/38 [==============================] - 3s 75ms/step - loss: 0.0023\n",
            "Epoch 26/100\n",
            "38/38 [==============================] - 3s 75ms/step - loss: 0.0023\n",
            "Epoch 27/100\n",
            "38/38 [==============================] - 5s 125ms/step - loss: 0.0024\n",
            "Epoch 28/100\n",
            "38/38 [==============================] - 3s 76ms/step - loss: 0.0025\n",
            "Epoch 29/100\n",
            "38/38 [==============================] - 3s 75ms/step - loss: 0.0024\n",
            "Epoch 30/100\n",
            "38/38 [==============================] - 5s 133ms/step - loss: 0.0021\n",
            "Epoch 31/100\n",
            "38/38 [==============================] - 4s 115ms/step - loss: 0.0023\n",
            "Epoch 32/100\n",
            "38/38 [==============================] - 3s 75ms/step - loss: 0.0020\n",
            "Epoch 33/100\n",
            "38/38 [==============================] - 3s 75ms/step - loss: 0.0021\n",
            "Epoch 34/100\n",
            "38/38 [==============================] - 3s 75ms/step - loss: 0.0020\n",
            "Epoch 35/100\n",
            "38/38 [==============================] - 4s 117ms/step - loss: 0.0025\n",
            "Epoch 36/100\n",
            "38/38 [==============================] - 3s 80ms/step - loss: 0.0021\n",
            "Epoch 37/100\n",
            "38/38 [==============================] - 3s 76ms/step - loss: 0.0021\n",
            "Epoch 38/100\n",
            "38/38 [==============================] - 3s 75ms/step - loss: 0.0021\n",
            "Epoch 39/100\n",
            "38/38 [==============================] - 4s 98ms/step - loss: 0.0019\n",
            "Epoch 40/100\n",
            "38/38 [==============================] - 4s 102ms/step - loss: 0.0018\n",
            "Epoch 41/100\n",
            "38/38 [==============================] - 3s 76ms/step - loss: 0.0020\n",
            "Epoch 42/100\n",
            "38/38 [==============================] - 3s 76ms/step - loss: 0.0021\n",
            "Epoch 43/100\n",
            "38/38 [==============================] - 3s 78ms/step - loss: 0.0020\n",
            "Epoch 44/100\n",
            "38/38 [==============================] - 5s 120ms/step - loss: 0.0019\n",
            "Epoch 45/100\n",
            "38/38 [==============================] - 3s 75ms/step - loss: 0.0017\n",
            "Epoch 46/100\n",
            "38/38 [==============================] - 3s 76ms/step - loss: 0.0020\n",
            "Epoch 47/100\n",
            "38/38 [==============================] - 3s 75ms/step - loss: 0.0017\n",
            "Epoch 48/100\n",
            "38/38 [==============================] - 4s 110ms/step - loss: 0.0018\n",
            "Epoch 49/100\n",
            "38/38 [==============================] - 3s 89ms/step - loss: 0.0019\n",
            "Epoch 50/100\n",
            "38/38 [==============================] - 3s 75ms/step - loss: 0.0016\n",
            "Epoch 51/100\n",
            "38/38 [==============================] - 3s 75ms/step - loss: 0.0016\n",
            "Epoch 52/100\n",
            "38/38 [==============================] - 3s 88ms/step - loss: 0.0018\n",
            "Epoch 53/100\n",
            "38/38 [==============================] - 4s 112ms/step - loss: 0.0015\n",
            "Epoch 54/100\n",
            "38/38 [==============================] - 3s 76ms/step - loss: 0.0017\n",
            "Epoch 55/100\n",
            "38/38 [==============================] - 3s 75ms/step - loss: 0.0017\n",
            "Epoch 56/100\n",
            "38/38 [==============================] - 3s 76ms/step - loss: 0.0018\n",
            "Epoch 57/100\n",
            "38/38 [==============================] - 5s 122ms/step - loss: 0.0015\n",
            "Epoch 58/100\n",
            "38/38 [==============================] - 3s 78ms/step - loss: 0.0017\n",
            "Epoch 59/100\n",
            "38/38 [==============================] - 3s 75ms/step - loss: 0.0016\n",
            "Epoch 60/100\n",
            "38/38 [==============================] - 3s 75ms/step - loss: 0.0018\n",
            "Epoch 61/100\n",
            "38/38 [==============================] - 4s 100ms/step - loss: 0.0017\n",
            "Epoch 62/100\n",
            "38/38 [==============================] - 4s 99ms/step - loss: 0.0018\n",
            "Epoch 63/100\n",
            "38/38 [==============================] - 3s 77ms/step - loss: 0.0015\n",
            "Epoch 64/100\n",
            "38/38 [==============================] - 3s 76ms/step - loss: 0.0014\n",
            "Epoch 65/100\n",
            "38/38 [==============================] - 3s 83ms/step - loss: 0.0013\n",
            "Epoch 66/100\n",
            "38/38 [==============================] - 5s 118ms/step - loss: 0.0015\n",
            "Epoch 67/100\n",
            "38/38 [==============================] - 3s 77ms/step - loss: 0.0014\n",
            "Epoch 68/100\n",
            "38/38 [==============================] - 3s 77ms/step - loss: 0.0015\n",
            "Epoch 69/100\n",
            "38/38 [==============================] - 3s 77ms/step - loss: 0.0015\n",
            "Epoch 70/100\n",
            "38/38 [==============================] - 5s 120ms/step - loss: 0.0014\n",
            "Epoch 71/100\n",
            "38/38 [==============================] - 3s 81ms/step - loss: 0.0015\n",
            "Epoch 72/100\n",
            "38/38 [==============================] - 3s 76ms/step - loss: 0.0017\n",
            "Epoch 73/100\n",
            "38/38 [==============================] - 3s 76ms/step - loss: 0.0013\n",
            "Epoch 74/100\n",
            "38/38 [==============================] - 4s 99ms/step - loss: 0.0013\n",
            "Epoch 75/100\n",
            "38/38 [==============================] - 4s 102ms/step - loss: 0.0014\n",
            "Epoch 76/100\n",
            "38/38 [==============================] - 3s 77ms/step - loss: 0.0013\n",
            "Epoch 77/100\n",
            "38/38 [==============================] - 3s 77ms/step - loss: 0.0014\n",
            "Epoch 78/100\n",
            "38/38 [==============================] - 3s 85ms/step - loss: 0.0014\n",
            "Epoch 79/100\n",
            "38/38 [==============================] - 4s 115ms/step - loss: 0.0013\n",
            "Epoch 80/100\n",
            "38/38 [==============================] - 3s 76ms/step - loss: 0.0014\n",
            "Epoch 81/100\n",
            "38/38 [==============================] - 3s 75ms/step - loss: 0.0012\n",
            "Epoch 82/100\n",
            "38/38 [==============================] - 3s 76ms/step - loss: 0.0012\n",
            "Epoch 83/100\n",
            "38/38 [==============================] - 5s 121ms/step - loss: 0.0012\n",
            "Epoch 84/100\n",
            "38/38 [==============================] - 5s 118ms/step - loss: 0.0011\n",
            "Epoch 85/100\n",
            "38/38 [==============================] - 4s 108ms/step - loss: 0.0012\n",
            "Epoch 86/100\n",
            "38/38 [==============================] - 3s 89ms/step - loss: 0.0011\n",
            "Epoch 87/100\n",
            "38/38 [==============================] - 4s 114ms/step - loss: 0.0012\n",
            "Epoch 88/100\n",
            "38/38 [==============================] - 3s 77ms/step - loss: 0.0012\n",
            "Epoch 89/100\n",
            "38/38 [==============================] - 3s 76ms/step - loss: 0.0012\n",
            "Epoch 90/100\n",
            "38/38 [==============================] - 3s 76ms/step - loss: 0.0013\n",
            "Epoch 91/100\n",
            "38/38 [==============================] - 5s 122ms/step - loss: 0.0012\n",
            "Epoch 92/100\n",
            "38/38 [==============================] - 3s 77ms/step - loss: 0.0011\n",
            "Epoch 93/100\n",
            "38/38 [==============================] - 3s 76ms/step - loss: 0.0012\n",
            "Epoch 94/100\n",
            "38/38 [==============================] - 3s 77ms/step - loss: 0.0012\n",
            "Epoch 95/100\n",
            "38/38 [==============================] - 4s 105ms/step - loss: 0.0011\n",
            "Epoch 96/100\n",
            "38/38 [==============================] - 4s 96ms/step - loss: 0.0012\n",
            "Epoch 97/100\n",
            "38/38 [==============================] - 3s 77ms/step - loss: 0.0011\n",
            "Epoch 98/100\n",
            "38/38 [==============================] - 3s 75ms/step - loss: 0.0010\n",
            "Epoch 99/100\n",
            "38/38 [==============================] - 3s 86ms/step - loss: 9.6680e-04\n",
            "Epoch 100/100\n",
            "38/38 [==============================] - 4s 115ms/step - loss: 0.0012\n"
          ]
        },
        {
          "output_type": "execute_result",
          "data": {
            "text/plain": [
              "<keras.callbacks.History at 0x7f2cd78bbd90>"
            ]
          },
          "metadata": {},
          "execution_count": 42
        }
      ]
    },
    {
      "cell_type": "code",
      "source": [
        "# 13.3 Predict:\n",
        "pred1 = model1.predict(X_test)\n",
        "out1 = np.hstack([pred1,pred1])\n",
        "pred1 = mm.inverse_transform(out1)"
      ],
      "metadata": {
        "colab": {
          "base_uri": "https://localhost:8080/"
        },
        "id": "YJo4N4mOrEmZ",
        "outputId": "c7af17a3-76d7-4ab6-c562-e005a878eb69"
      },
      "execution_count": 43,
      "outputs": [
        {
          "output_type": "stream",
          "name": "stdout",
          "text": [
            "1/1 [==============================] - 4s 4s/step\n"
          ]
        }
      ]
    },
    {
      "cell_type": "code",
      "source": [
        "# 13.4 Plot \n",
        "fig, (ax1, ax2) = plt.subplots(1, 2, sharey = True, figsize = (20,8))\n",
        "real_stock_price = test.values[:, 1]\n",
        "\n",
        "ax1.plot(real_stock_price, color='red', label = \"Real Google Stock Price\");\n",
        "ax1.plot(pred[:,0], color = 'blue', label = \"PRedicted google stock price\") ;\n",
        "\n",
        "ax2.plot(real_stock_price, color='red', label = \"Real Google Stock Price\");\n",
        "ax2.plot(pred1[:,0], color = 'blue', label = \"PRedicted google stock price with Attention\") ;\n",
        "\n",
        "\n",
        "ax1.title.set_text('Without attention')\n",
        "ax2.title.set_text('Using attention')\n",
        "ax2.grid()\n",
        "ax1.grid()\n",
        "plt.show() ;"
      ],
      "metadata": {
        "colab": {
          "base_uri": "https://localhost:8080/",
          "height": 499
        },
        "id": "m7QIs8qM8R5T",
        "outputId": "cdb7616a-0721-461f-98d3-8b474de7de2f"
      },
      "execution_count": 59,
      "outputs": [
        {
          "output_type": "display_data",
          "data": {
            "text/plain": [
              "<Figure size 1440x576 with 2 Axes>"
            ],
            "image/png": "[encoded data removed]"
          },
          "metadata": {
            "needs_background": "light"
          }
        }
      ]
    },
    {
      "cell_type": "code",
      "source": [],
      "metadata": {
        "id": "3ZJQ_Bo6yyOR"
      },
      "execution_count": null,
      "outputs": []
    }
  ]
}