{
  "nbformat": 4,
  "nbformat_minor": 0,
  "metadata": {
    "colab": {
      "provenance": [],
      "authorship_tag": "ABX9TyMmC52ySwxjN2JGmDcivcBN",
      "include_colab_link": true
    },
    "kernelspec": {
      "name": "python3",
      "display_name": "Python 3"
    },
    "language_info": {
      "name": "python"
    }
  },
  "cells": [
    {
      "cell_type": "markdown",
      "metadata": {
        "id": "view-in-github",
        "colab_type": "text"
      },
      "source": [
        "<a href=\"https://colab.research.google.com/github/harnalashok/deeplearning-sequences/blob/main/stock_price_prediction_multivariate.ipynb\" target=\"_parent\"><img src=\"https://colab.research.google.com/assets/colab-badge.svg\" alt=\"Open In Colab\"/></a>"
      ]
    },
    {
      "cell_type": "code",
      "source": [
        "# Last amended: 6th Feb, 2023\n",
        "# Objective: Apply LSTM for time-series prediction\n",
        "#            Develop a simple model to predict stock prices\n",
        "\n",
        "# Ref: https://www.simplilearn.com/tutorials/deep-learning-tutorial/rnn\n",
        "# https://www.kaggle.com/datasets/akram24/google-stock-price-test\n"
      ],
      "metadata": {
        "id": "r2vuJoIlbWVH"
      },
      "execution_count": null,
      "outputs": []
    },
    {
      "cell_type": "markdown",
      "source": [
        "## Call libraries"
      ],
      "metadata": {
        "id": "OjfMgkcnPLRz"
      }
    },
    {
      "cell_type": "code",
      "execution_count": 5,
      "metadata": {
        "id": "6y2JO6HpSz3a"
      },
      "outputs": [],
      "source": [
        "# 1.0 Call libraries\n",
        "import numpy as np\n",
        "import pandas as pd\n",
        "import tensorflow as tf\n",
        "\n",
        "# 1.0.1\n",
        "from sklearn.preprocessing import MinMaxScaler\n",
        "import matplotlib.pyplot as plt\n",
        "import pathlib"
      ]
    },
    {
      "cell_type": "code",
      "source": [
        "# 1.0.2 Display multiple outputs from a cell:\n",
        "\n",
        "from IPython.core.interactiveshell import InteractiveShell\n",
        "InteractiveShell.ast_node_interactivity = \"all\"\n"
      ],
      "metadata": {
        "id": "oNsU3wXX7L1p"
      },
      "execution_count": 6,
      "outputs": []
    },
    {
      "cell_type": "markdown",
      "source": [
        "## Mount gdrive"
      ],
      "metadata": {
        "id": "Fk8jkysxPRJi"
      }
    },
    {
      "cell_type": "code",
      "source": [
        "# 2.0 Mount gdrive\n",
        "\n",
        "from google.colab import drive\n",
        "drive.mount('/gdrive')"
      ],
      "metadata": {
        "colab": {
          "base_uri": "https://localhost:8080/"
        },
        "id": "VrJl4G_BTEBt",
        "outputId": "0dbe9b57-5b36-40c8-bf7d-61df68d1db70"
      },
      "execution_count": 7,
      "outputs": [
        {
          "output_type": "stream",
          "name": "stdout",
          "text": [
            "Drive already mounted at /gdrive; to attempt to forcibly remount, call drive.mount(\"/gdrive\", force_remount=True).\n"
          ]
        }
      ]
    },
    {
      "cell_type": "code",
      "source": [
        "# 2.1 Path to data folder:\n",
        "\n",
        "path = \"/gdrive/MyDrive/Colab_data_files/stock_price\"\n",
        "\n",
        "# 2.1.1 Transform to pathlib object:\n",
        "data_folder=pathlib.Path(path)"
      ],
      "metadata": {
        "id": "kgxvOjrzTXRm"
      },
      "execution_count": 8,
      "outputs": []
    },
    {
      "cell_type": "markdown",
      "source": [
        "## Read train/test data"
      ],
      "metadata": {
        "id": "eM7UW3WdPcdz"
      }
    },
    {
      "cell_type": "code",
      "source": [
        "# 3.0\n",
        "train = pd.read_csv(data_folder / \"Google_Stock_Price_Train.csv\")\n",
        "test = pd.read_csv(data_folder / \"Google_Stock_Price_Test.csv\")"
      ],
      "metadata": {
        "id": "HEhMs9O8TdjD"
      },
      "execution_count": 9,
      "outputs": []
    },
    {
      "cell_type": "code",
      "source": [
        "# 3.0.1\n",
        "train.head()\n",
        "print(\"\\n============\\n\")\n",
        "train.shape"
      ],
      "metadata": {
        "colab": {
          "base_uri": "https://localhost:8080/",
          "height": 359
        },
        "id": "I3Ec2kdZT8SA",
        "outputId": "af06c391-c973-424f-aa41-e7f35f9f6f6d"
      },
      "execution_count": 10,
      "outputs": [
        {
          "output_type": "execute_result",
          "data": {
            "text/plain": [
              "       Date    Open    High     Low   Close      Volume\n",
              "0  1/3/2012  325.25  332.83  324.97  663.59   7,380,500\n",
              "1  1/4/2012  331.27  333.87  329.08  666.45   5,749,400\n",
              "2  1/5/2012  329.83  330.75  326.89  657.21   6,590,300\n",
              "3  1/6/2012  328.34  328.77  323.68  648.24   5,405,900\n",
              "4  1/9/2012  322.04  322.29  309.46  620.76  11,688,800"
            ],
            "text/html": [
              "\n",
              "  <div id=\"df-49e69617-06e4-41b7-8d88-759b72e5c5d1\">\n",
              "    <div class=\"colab-df-container\">\n",
              "      <div>\n",
              "<style scoped>\n",
              "    .dataframe tbody tr th:only-of-type {\n",
              "        vertical-align: middle;\n",
              "    }\n",
              "\n",
              "    .dataframe tbody tr th {\n",
              "        vertical-align: top;\n",
              "    }\n",
              "\n",
              "    .dataframe thead th {\n",
              "        text-align: right;\n",
              "    }\n",
              "</style>\n",
              "<table border=\"1\" class=\"dataframe\">\n",
              "  <thead>\n",
              "    <tr style=\"text-align: right;\">\n",
              "      <th></th>\n",
              "      <th>Date</th>\n",
              "      <th>Open</th>\n",
              "      <th>High</th>\n",
              "      <th>Low</th>\n",
              "      <th>Close</th>\n",
              "      <th>Volume</th>\n",
              "    </tr>\n",
              "  </thead>\n",
              "  <tbody>\n",
              "    <tr>\n",
              "      <th>0</th>\n",
              "      <td>1/3/2012</td>\n",
              "      <td>325.25</td>\n",
              "      <td>332.83</td>\n",
              "      <td>324.97</td>\n",
              "      <td>663.59</td>\n",
              "      <td>7,380,500</td>\n",
              "    </tr>\n",
              "    <tr>\n",
              "      <th>1</th>\n",
              "      <td>1/4/2012</td>\n",
              "      <td>331.27</td>\n",
              "      <td>333.87</td>\n",
              "      <td>329.08</td>\n",
              "      <td>666.45</td>\n",
              "      <td>5,749,400</td>\n",
              "    </tr>\n",
              "    <tr>\n",
              "      <th>2</th>\n",
              "      <td>1/5/2012</td>\n",
              "      <td>329.83</td>\n",
              "      <td>330.75</td>\n",
              "      <td>326.89</td>\n",
              "      <td>657.21</td>\n",
              "      <td>6,590,300</td>\n",
              "    </tr>\n",
              "    <tr>\n",
              "      <th>3</th>\n",
              "      <td>1/6/2012</td>\n",
              "      <td>328.34</td>\n",
              "      <td>328.77</td>\n",
              "      <td>323.68</td>\n",
              "      <td>648.24</td>\n",
              "      <td>5,405,900</td>\n",
              "    </tr>\n",
              "    <tr>\n",
              "      <th>4</th>\n",
              "      <td>1/9/2012</td>\n",
              "      <td>322.04</td>\n",
              "      <td>322.29</td>\n",
              "      <td>309.46</td>\n",
              "      <td>620.76</td>\n",
              "      <td>11,688,800</td>\n",
              "    </tr>\n",
              "  </tbody>\n",
              "</table>\n",
              "</div>\n",
              "      <button class=\"colab-df-convert\" onclick=\"convertToInteractive('df-49e69617-06e4-41b7-8d88-759b72e5c5d1')\"\n",
              "              title=\"Convert this dataframe to an interactive table.\"\n",
              "              style=\"display:none;\">\n",
              "        \n",
              "  <svg xmlns=\"http://www.w3.org/2000/svg\" height=\"24px\"viewBox=\"0 0 24 24\"\n",
              "       width=\"24px\">\n",
              "    <path d=\"M0 0h24v24H0V0z\" fill=\"none\"/>\n",
              "    <path d=\"M18.56 5.44l.94 2.06.94-2.06 2.06-.94-2.06-.94-.94-2.06-.94 2.06-2.06.94zm-11 1L8.5 8.5l.94-2.06 2.06-.94-2.06-.94L8.5 2.5l-.94 2.06-2.06.94zm10 10l.94 2.06.94-2.06 2.06-.94-2.06-.94-.94-2.06-.94 2.06-2.06.94z\"/><path d=\"M17.41 7.96l-1.37-1.37c-.4-.4-.92-.59-1.43-.59-.52 0-1.04.2-1.43.59L10.3 9.45l-7.72 7.72c-.78.78-.78 2.05 0 2.83L4 21.41c.39.39.9.59 1.41.59.51 0 1.02-.2 1.41-.59l7.78-7.78 2.81-2.81c.8-.78.8-2.07 0-2.86zM5.41 20L4 18.59l7.72-7.72 1.47 1.35L5.41 20z\"/>\n",
              "  </svg>\n",
              "      </button>\n",
              "      \n",
              "  <style>\n",
              "    .colab-df-container {\n",
              "      display:flex;\n",
              "      flex-wrap:wrap;\n",
              "      gap: 12px;\n",
              "    }\n",
              "\n",
              "    .colab-df-convert {\n",
              "      background-color: #E8F0FE;\n",
              "      border: none;\n",
              "      border-radius: 50%;\n",
              "      cursor: pointer;\n",
              "      display: none;\n",
              "      fill: #1967D2;\n",
              "      height: 32px;\n",
              "      padding: 0 0 0 0;\n",
              "      width: 32px;\n",
              "    }\n",
              "\n",
              "    .colab-df-convert:hover {\n",
              "      background-color: #E2EBFA;\n",
              "      box-shadow: 0px 1px 2px rgba(60, 64, 67, 0.3), 0px 1px 3px 1px rgba(60, 64, 67, 0.15);\n",
              "      fill: #174EA6;\n",
              "    }\n",
              "\n",
              "    [theme=dark] .colab-df-convert {\n",
              "      background-color: #3B4455;\n",
              "      fill: #D2E3FC;\n",
              "    }\n",
              "\n",
              "    [theme=dark] .colab-df-convert:hover {\n",
              "      background-color: #434B5C;\n",
              "      box-shadow: 0px 1px 3px 1px rgba(0, 0, 0, 0.15);\n",
              "      filter: drop-shadow(0px 1px 2px rgba(0, 0, 0, 0.3));\n",
              "      fill: #FFFFFF;\n",
              "    }\n",
              "  </style>\n",
              "\n",
              "      <script>\n",
              "        const buttonEl =\n",
              "          document.querySelector('#df-49e69617-06e4-41b7-8d88-759b72e5c5d1 button.colab-df-convert');\n",
              "        buttonEl.style.display =\n",
              "          google.colab.kernel.accessAllowed ? 'block' : 'none';\n",
              "\n",
              "        async function convertToInteractive(key) {\n",
              "          const element = document.querySelector('#df-49e69617-06e4-41b7-8d88-759b72e5c5d1');\n",
              "          const dataTable =\n",
              "            await google.colab.kernel.invokeFunction('convertToInteractive',\n",
              "                                                     [key], {});\n",
              "          if (!dataTable) return;\n",
              "\n",
              "          const docLinkHtml = 'Like what you see? Visit the ' +\n",
              "            '<a target=\"_blank\" href=https://colab.research.google.com/notebooks/data_table.ipynb>data table notebook</a>'\n",
              "            + ' to learn more about interactive tables.';\n",
              "          element.innerHTML = '';\n",
              "          dataTable['output_type'] = 'display_data';\n",
              "          await google.colab.output.renderOutput(dataTable, element);\n",
              "          const docLink = document.createElement('div');\n",
              "          docLink.innerHTML = docLinkHtml;\n",
              "          element.appendChild(docLink);\n",
              "        }\n",
              "      </script>\n",
              "    </div>\n",
              "  </div>\n",
              "  "
            ]
          },
          "metadata": {},
          "execution_count": 10
        },
        {
          "output_type": "stream",
          "name": "stdout",
          "text": [
            "\n",
            "============\n",
            "\n"
          ]
        },
        {
          "output_type": "execute_result",
          "data": {
            "text/plain": [
              "(1258, 6)"
            ]
          },
          "metadata": {},
          "execution_count": 10
        }
      ]
    },
    {
      "cell_type": "markdown",
      "source": [
        "## Process data\n"
      ],
      "metadata": {
        "id": "FT0eqosSPrr1"
      }
    },
    {
      "cell_type": "markdown",
      "source": [
        "We will use two columns to make predictions. Our columns are`['Open','High']`. Using data on these two columns for the past 60 days, we want to make predictions for the `['Open']` of the next day."
      ],
      "metadata": {
        "id": "M4hea54zk7hu"
      }
    },
    {
      "cell_type": "code",
      "source": [
        "# 4.0 We will only use ['Open','High'] columns for prediction:\n",
        "\n",
        "tr = train.iloc[:,1:3]\n",
        "te = test.iloc[:,1:3]\n",
        "tr.head()\n",
        "print(\"\\n=============\\n\")\n",
        "tr.shape    # (1258, 2)\n",
        "print(\"\\n=============\\n\")\n",
        "te.shape     # (20, 2)"
      ],
      "metadata": {
        "colab": {
          "base_uri": "https://localhost:8080/",
          "height": 330
        },
        "id": "-m5VXb3pTq_b",
        "outputId": "b692cd24-f52b-4d98-a823-be3552d1776d"
      },
      "execution_count": 11,
      "outputs": [
        {
          "output_type": "execute_result",
          "data": {
            "text/plain": [
              "     Open    High\n",
              "0  325.25  332.83\n",
              "1  331.27  333.87\n",
              "2  329.83  330.75\n",
              "3  328.34  328.77\n",
              "4  322.04  322.29"
            ],
            "text/html": [
              "\n",
              "  <div id=\"df-b028dbd5-fb97-42d5-b51b-90881e3698da\">\n",
              "    <div class=\"colab-df-container\">\n",
              "      <div>\n",
              "<style scoped>\n",
              "    .dataframe tbody tr th:only-of-type {\n",
              "        vertical-align: middle;\n",
              "    }\n",
              "\n",
              "    .dataframe tbody tr th {\n",
              "        vertical-align: top;\n",
              "    }\n",
              "\n",
              "    .dataframe thead th {\n",
              "        text-align: right;\n",
              "    }\n",
              "</style>\n",
              "<table border=\"1\" class=\"dataframe\">\n",
              "  <thead>\n",
              "    <tr style=\"text-align: right;\">\n",
              "      <th></th>\n",
              "      <th>Open</th>\n",
              "      <th>High</th>\n",
              "    </tr>\n",
              "  </thead>\n",
              "  <tbody>\n",
              "    <tr>\n",
              "      <th>0</th>\n",
              "      <td>325.25</td>\n",
              "      <td>332.83</td>\n",
              "    </tr>\n",
              "    <tr>\n",
              "      <th>1</th>\n",
              "      <td>331.27</td>\n",
              "      <td>333.87</td>\n",
              "    </tr>\n",
              "    <tr>\n",
              "      <th>2</th>\n",
              "      <td>329.83</td>\n",
              "      <td>330.75</td>\n",
              "    </tr>\n",
              "    <tr>\n",
              "      <th>3</th>\n",
              "      <td>328.34</td>\n",
              "      <td>328.77</td>\n",
              "    </tr>\n",
              "    <tr>\n",
              "      <th>4</th>\n",
              "      <td>322.04</td>\n",
              "      <td>322.29</td>\n",
              "    </tr>\n",
              "  </tbody>\n",
              "</table>\n",
              "</div>\n",
              "      <button class=\"colab-df-convert\" onclick=\"convertToInteractive('df-b028dbd5-fb97-42d5-b51b-90881e3698da')\"\n",
              "              title=\"Convert this dataframe to an interactive table.\"\n",
              "              style=\"display:none;\">\n",
              "        \n",
              "  <svg xmlns=\"http://www.w3.org/2000/svg\" height=\"24px\"viewBox=\"0 0 24 24\"\n",
              "       width=\"24px\">\n",
              "    <path d=\"M0 0h24v24H0V0z\" fill=\"none\"/>\n",
              "    <path d=\"M18.56 5.44l.94 2.06.94-2.06 2.06-.94-2.06-.94-.94-2.06-.94 2.06-2.06.94zm-11 1L8.5 8.5l.94-2.06 2.06-.94-2.06-.94L8.5 2.5l-.94 2.06-2.06.94zm10 10l.94 2.06.94-2.06 2.06-.94-2.06-.94-.94-2.06-.94 2.06-2.06.94z\"/><path d=\"M17.41 7.96l-1.37-1.37c-.4-.4-.92-.59-1.43-.59-.52 0-1.04.2-1.43.59L10.3 9.45l-7.72 7.72c-.78.78-.78 2.05 0 2.83L4 21.41c.39.39.9.59 1.41.59.51 0 1.02-.2 1.41-.59l7.78-7.78 2.81-2.81c.8-.78.8-2.07 0-2.86zM5.41 20L4 18.59l7.72-7.72 1.47 1.35L5.41 20z\"/>\n",
              "  </svg>\n",
              "      </button>\n",
              "      \n",
              "  <style>\n",
              "    .colab-df-container {\n",
              "      display:flex;\n",
              "      flex-wrap:wrap;\n",
              "      gap: 12px;\n",
              "    }\n",
              "\n",
              "    .colab-df-convert {\n",
              "      background-color: #E8F0FE;\n",
              "      border: none;\n",
              "      border-radius: 50%;\n",
              "      cursor: pointer;\n",
              "      display: none;\n",
              "      fill: #1967D2;\n",
              "      height: 32px;\n",
              "      padding: 0 0 0 0;\n",
              "      width: 32px;\n",
              "    }\n",
              "\n",
              "    .colab-df-convert:hover {\n",
              "      background-color: #E2EBFA;\n",
              "      box-shadow: 0px 1px 2px rgba(60, 64, 67, 0.3), 0px 1px 3px 1px rgba(60, 64, 67, 0.15);\n",
              "      fill: #174EA6;\n",
              "    }\n",
              "\n",
              "    [theme=dark] .colab-df-convert {\n",
              "      background-color: #3B4455;\n",
              "      fill: #D2E3FC;\n",
              "    }\n",
              "\n",
              "    [theme=dark] .colab-df-convert:hover {\n",
              "      background-color: #434B5C;\n",
              "      box-shadow: 0px 1px 3px 1px rgba(0, 0, 0, 0.15);\n",
              "      filter: drop-shadow(0px 1px 2px rgba(0, 0, 0, 0.3));\n",
              "      fill: #FFFFFF;\n",
              "    }\n",
              "  </style>\n",
              "\n",
              "      <script>\n",
              "        const buttonEl =\n",
              "          document.querySelector('#df-b028dbd5-fb97-42d5-b51b-90881e3698da button.colab-df-convert');\n",
              "        buttonEl.style.display =\n",
              "          google.colab.kernel.accessAllowed ? 'block' : 'none';\n",
              "\n",
              "        async function convertToInteractive(key) {\n",
              "          const element = document.querySelector('#df-b028dbd5-fb97-42d5-b51b-90881e3698da');\n",
              "          const dataTable =\n",
              "            await google.colab.kernel.invokeFunction('convertToInteractive',\n",
              "                                                     [key], {});\n",
              "          if (!dataTable) return;\n",
              "\n",
              "          const docLinkHtml = 'Like what you see? Visit the ' +\n",
              "            '<a target=\"_blank\" href=https://colab.research.google.com/notebooks/data_table.ipynb>data table notebook</a>'\n",
              "            + ' to learn more about interactive tables.';\n",
              "          element.innerHTML = '';\n",
              "          dataTable['output_type'] = 'display_data';\n",
              "          await google.colab.output.renderOutput(dataTable, element);\n",
              "          const docLink = document.createElement('div');\n",
              "          docLink.innerHTML = docLinkHtml;\n",
              "          element.appendChild(docLink);\n",
              "        }\n",
              "      </script>\n",
              "    </div>\n",
              "  </div>\n",
              "  "
            ]
          },
          "metadata": {},
          "execution_count": 11
        },
        {
          "output_type": "stream",
          "name": "stdout",
          "text": [
            "\n",
            "=============\n",
            "\n"
          ]
        },
        {
          "output_type": "execute_result",
          "data": {
            "text/plain": [
              "(1258, 2)"
            ]
          },
          "metadata": {},
          "execution_count": 11
        },
        {
          "output_type": "stream",
          "name": "stdout",
          "text": [
            "\n",
            "=============\n",
            "\n"
          ]
        },
        {
          "output_type": "execute_result",
          "data": {
            "text/plain": [
              "(20, 2)"
            ]
          },
          "metadata": {},
          "execution_count": 11
        }
      ]
    },
    {
      "cell_type": "code",
      "source": [
        "# 4.1 Normalize data:\n",
        "#     Note that we are normalizing two columns together.\n",
        "#     Later, if we want to un-normalize just one columns,\n",
        "#     we do need to have a dummy column.\n",
        "\n",
        "mm = MinMaxScaler(feature_range = (0,1))\n",
        "\n",
        "# 4.1.0 Transformed output is numpy array\"\n",
        "tr = mm.fit_transform(tr)\n",
        "te = mm.transform(te)\n"
      ],
      "metadata": {
        "id": "XSOj6r7RUHp7"
      },
      "execution_count": 12,
      "outputs": []
    },
    {
      "cell_type": "code",
      "source": [
        "# 4.1.1 Look at data\n",
        "tr[:2, :]\n",
        "print(\"\\n============\\n\")\n",
        "te[:2,:]"
      ],
      "metadata": {
        "id": "VUkxz-j2RHpN",
        "outputId": "a40fc6fe-3907-41d0-9d28-dd3fb776078b",
        "colab": {
          "base_uri": "https://localhost:8080/"
        }
      },
      "execution_count": 16,
      "outputs": [
        {
          "output_type": "execute_result",
          "data": {
            "text/plain": [
              "array([[0.08581368, 0.09640129],\n",
              "       [0.09701243, 0.09834351]])"
            ]
          },
          "metadata": {},
          "execution_count": 16
        },
        {
          "output_type": "stream",
          "name": "stdout",
          "text": [
            "\n",
            "============\n",
            "\n"
          ]
        },
        {
          "output_type": "execute_result",
          "data": {
            "text/plain": [
              "array([[0.92955205, 0.94948363],\n",
              "       [0.94731751, 0.95267709]])"
            ]
          },
          "metadata": {},
          "execution_count": 16
        }
      ]
    },
    {
      "cell_type": "markdown",
      "source": [
        "## Organize and reshape data\n",
        "Prepare data for feeding into LSTM"
      ],
      "metadata": {
        "id": "kUB_q6KqfcsP"
      }
    },
    {
      "cell_type": "markdown",
      "source": [
        "### Experimental code"
      ],
      "metadata": {
        "id": "dHmsWC3cT10U"
      }
    },
    {
      "cell_type": "markdown",
      "source": [
        "Suppose our data is as below and timesteps are 3<br>:\n",
        ">[23,34],<br>\n",
        "[56,11],<br>\n",
        "[12,31],<br>\n",
        "[77,22],<br>\n",
        "[50,60],<br>\n",
        "[10,20],<br>\n",
        "[65,32],<br>\n",
        "[40,31],<br>\n",
        "[32,54]<br>\n",
        "\n",
        "We want to have following peices:\n",
        ">[23,34],<br>\n",
        "[56,11],<br>\n",
        "[12,31],<br>\n",
        "Target: 77 <br>\n",
        "\n",
        ">[56,11],<br>\n",
        "[12,31],<br>\n",
        "[77,22],<br>\n",
        "Target: 50<br>\n",
        "\n",
        ">[12,31],<br>\n",
        "[77,22],<br>\n",
        "[50,60],<br>\n",
        "Target: 10<br>\n",
        "\n",
        ">[77,22],<br>\n",
        "[50,60],<br>\n",
        "[10,20],<br>\n",
        "Target: 65<br>\n",
        "\n",
        ">[50,60],<br>\n",
        "[10,20],<br>\n",
        "[65,32],<br>\n",
        "Target: 40<br>\n",
        "\n",
        ">[10,20],<br>\n",
        "[65,32],<br>\n",
        "[40,31],<br>\n",
        "Target: 32<br>\n",
        "\n",
        "\n",
        "`                      "
      ],
      "metadata": {
        "id": "IlsKE8B0dUHF"
      }
    },
    {
      "cell_type": "code",
      "source": [
        "# 5.0 Demo data:\n",
        "timesteps = 3\n",
        "data = pd.DataFrame(\n",
        "                    [\n",
        "                      [23,34],\n",
        "                      [56,11],\n",
        "                      [12,31],\n",
        "                      [77,22],\n",
        "                      [50,60],\n",
        "                      [10,20],\n",
        "                      [65,32],\n",
        "                      [40,31],\n",
        "                      [32,54]\n",
        "                     ], columns = ['a','b']\n",
        "                    )\n",
        "data"
      ],
      "metadata": {
        "colab": {
          "base_uri": "https://localhost:8080/",
          "height": 331
        },
        "id": "dRyoXxjFairr",
        "outputId": "323779ca-752c-4591-f3a3-be931ef9f9c6"
      },
      "execution_count": 18,
      "outputs": [
        {
          "output_type": "execute_result",
          "data": {
            "text/plain": [
              "    a   b\n",
              "0  23  34\n",
              "1  56  11\n",
              "2  12  31\n",
              "3  77  22\n",
              "4  50  60\n",
              "5  10  20\n",
              "6  65  32\n",
              "7  40  31\n",
              "8  32  54"
            ],
            "text/html": [
              "\n",
              "  <div id=\"df-e2857b63-00f0-434a-8737-6a65c5486add\">\n",
              "    <div class=\"colab-df-container\">\n",
              "      <div>\n",
              "<style scoped>\n",
              "    .dataframe tbody tr th:only-of-type {\n",
              "        vertical-align: middle;\n",
              "    }\n",
              "\n",
              "    .dataframe tbody tr th {\n",
              "        vertical-align: top;\n",
              "    }\n",
              "\n",
              "    .dataframe thead th {\n",
              "        text-align: right;\n",
              "    }\n",
              "</style>\n",
              "<table border=\"1\" class=\"dataframe\">\n",
              "  <thead>\n",
              "    <tr style=\"text-align: right;\">\n",
              "      <th></th>\n",
              "      <th>a</th>\n",
              "      <th>b</th>\n",
              "    </tr>\n",
              "  </thead>\n",
              "  <tbody>\n",
              "    <tr>\n",
              "      <th>0</th>\n",
              "      <td>23</td>\n",
              "      <td>34</td>\n",
              "    </tr>\n",
              "    <tr>\n",
              "      <th>1</th>\n",
              "      <td>56</td>\n",
              "      <td>11</td>\n",
              "    </tr>\n",
              "    <tr>\n",
              "      <th>2</th>\n",
              "      <td>12</td>\n",
              "      <td>31</td>\n",
              "    </tr>\n",
              "    <tr>\n",
              "      <th>3</th>\n",
              "      <td>77</td>\n",
              "      <td>22</td>\n",
              "    </tr>\n",
              "    <tr>\n",
              "      <th>4</th>\n",
              "      <td>50</td>\n",
              "      <td>60</td>\n",
              "    </tr>\n",
              "    <tr>\n",
              "      <th>5</th>\n",
              "      <td>10</td>\n",
              "      <td>20</td>\n",
              "    </tr>\n",
              "    <tr>\n",
              "      <th>6</th>\n",
              "      <td>65</td>\n",
              "      <td>32</td>\n",
              "    </tr>\n",
              "    <tr>\n",
              "      <th>7</th>\n",
              "      <td>40</td>\n",
              "      <td>31</td>\n",
              "    </tr>\n",
              "    <tr>\n",
              "      <th>8</th>\n",
              "      <td>32</td>\n",
              "      <td>54</td>\n",
              "    </tr>\n",
              "  </tbody>\n",
              "</table>\n",
              "</div>\n",
              "      <button class=\"colab-df-convert\" onclick=\"convertToInteractive('df-e2857b63-00f0-434a-8737-6a65c5486add')\"\n",
              "              title=\"Convert this dataframe to an interactive table.\"\n",
              "              style=\"display:none;\">\n",
              "        \n",
              "  <svg xmlns=\"http://www.w3.org/2000/svg\" height=\"24px\"viewBox=\"0 0 24 24\"\n",
              "       width=\"24px\">\n",
              "    <path d=\"M0 0h24v24H0V0z\" fill=\"none\"/>\n",
              "    <path d=\"M18.56 5.44l.94 2.06.94-2.06 2.06-.94-2.06-.94-.94-2.06-.94 2.06-2.06.94zm-11 1L8.5 8.5l.94-2.06 2.06-.94-2.06-.94L8.5 2.5l-.94 2.06-2.06.94zm10 10l.94 2.06.94-2.06 2.06-.94-2.06-.94-.94-2.06-.94 2.06-2.06.94z\"/><path d=\"M17.41 7.96l-1.37-1.37c-.4-.4-.92-.59-1.43-.59-.52 0-1.04.2-1.43.59L10.3 9.45l-7.72 7.72c-.78.78-.78 2.05 0 2.83L4 21.41c.39.39.9.59 1.41.59.51 0 1.02-.2 1.41-.59l7.78-7.78 2.81-2.81c.8-.78.8-2.07 0-2.86zM5.41 20L4 18.59l7.72-7.72 1.47 1.35L5.41 20z\"/>\n",
              "  </svg>\n",
              "      </button>\n",
              "      \n",
              "  <style>\n",
              "    .colab-df-container {\n",
              "      display:flex;\n",
              "      flex-wrap:wrap;\n",
              "      gap: 12px;\n",
              "    }\n",
              "\n",
              "    .colab-df-convert {\n",
              "      background-color: #E8F0FE;\n",
              "      border: none;\n",
              "      border-radius: 50%;\n",
              "      cursor: pointer;\n",
              "      display: none;\n",
              "      fill: #1967D2;\n",
              "      height: 32px;\n",
              "      padding: 0 0 0 0;\n",
              "      width: 32px;\n",
              "    }\n",
              "\n",
              "    .colab-df-convert:hover {\n",
              "      background-color: #E2EBFA;\n",
              "      box-shadow: 0px 1px 2px rgba(60, 64, 67, 0.3), 0px 1px 3px 1px rgba(60, 64, 67, 0.15);\n",
              "      fill: #174EA6;\n",
              "    }\n",
              "\n",
              "    [theme=dark] .colab-df-convert {\n",
              "      background-color: #3B4455;\n",
              "      fill: #D2E3FC;\n",
              "    }\n",
              "\n",
              "    [theme=dark] .colab-df-convert:hover {\n",
              "      background-color: #434B5C;\n",
              "      box-shadow: 0px 1px 3px 1px rgba(0, 0, 0, 0.15);\n",
              "      filter: drop-shadow(0px 1px 2px rgba(0, 0, 0, 0.3));\n",
              "      fill: #FFFFFF;\n",
              "    }\n",
              "  </style>\n",
              "\n",
              "      <script>\n",
              "        const buttonEl =\n",
              "          document.querySelector('#df-e2857b63-00f0-434a-8737-6a65c5486add button.colab-df-convert');\n",
              "        buttonEl.style.display =\n",
              "          google.colab.kernel.accessAllowed ? 'block' : 'none';\n",
              "\n",
              "        async function convertToInteractive(key) {\n",
              "          const element = document.querySelector('#df-e2857b63-00f0-434a-8737-6a65c5486add');\n",
              "          const dataTable =\n",
              "            await google.colab.kernel.invokeFunction('convertToInteractive',\n",
              "                                                     [key], {});\n",
              "          if (!dataTable) return;\n",
              "\n",
              "          const docLinkHtml = 'Like what you see? Visit the ' +\n",
              "            '<a target=\"_blank\" href=https://colab.research.google.com/notebooks/data_table.ipynb>data table notebook</a>'\n",
              "            + ' to learn more about interactive tables.';\n",
              "          element.innerHTML = '';\n",
              "          dataTable['output_type'] = 'display_data';\n",
              "          await google.colab.output.renderOutput(dataTable, element);\n",
              "          const docLink = document.createElement('div');\n",
              "          docLink.innerHTML = docLinkHtml;\n",
              "          element.appendChild(docLink);\n",
              "        }\n",
              "      </script>\n",
              "    </div>\n",
              "  </div>\n",
              "  "
            ]
          },
          "metadata": {},
          "execution_count": 18
        }
      ]
    },
    {
      "cell_type": "code",
      "source": [
        "# 5.1 Organize it : \n",
        "xtr = []\n",
        "ytr = []\n",
        "for i in range(timesteps,len(data)):\n",
        "  xtr.append(data.values[i-timesteps:i, :]) \n",
        "  ytr.append(data.values[i,0])"
      ],
      "metadata": {
        "id": "XLEHkLM2SxcE"
      },
      "execution_count": 20,
      "outputs": []
    },
    {
      "cell_type": "code",
      "source": [
        "# 5.2 Check\n",
        "xtr    # A list of arrays\n",
        "print(\"\\n==========\\n\")\n",
        "xtr[0].shape   # Each element of shape (3,2)\n",
        "print(\"\\n==========\\n\")\n",
        "ytr"
      ],
      "metadata": {
        "colab": {
          "base_uri": "https://localhost:8080/"
        },
        "id": "ZHDgEEevTBWb",
        "outputId": "7dae5909-342c-4d40-abb3-64ab03b78c49"
      },
      "execution_count": 21,
      "outputs": [
        {
          "output_type": "execute_result",
          "data": {
            "text/plain": [
              "[array([[23, 34],\n",
              "        [56, 11],\n",
              "        [12, 31]]), array([[56, 11],\n",
              "        [12, 31],\n",
              "        [77, 22]]), array([[12, 31],\n",
              "        [77, 22],\n",
              "        [50, 60]]), array([[77, 22],\n",
              "        [50, 60],\n",
              "        [10, 20]]), array([[50, 60],\n",
              "        [10, 20],\n",
              "        [65, 32]]), array([[10, 20],\n",
              "        [65, 32],\n",
              "        [40, 31]])]"
            ]
          },
          "metadata": {},
          "execution_count": 21
        },
        {
          "output_type": "stream",
          "name": "stdout",
          "text": [
            "\n",
            "==========\n",
            "\n"
          ]
        },
        {
          "output_type": "execute_result",
          "data": {
            "text/plain": [
              "(3, 2)"
            ]
          },
          "metadata": {},
          "execution_count": 21
        },
        {
          "output_type": "stream",
          "name": "stdout",
          "text": [
            "\n",
            "==========\n",
            "\n"
          ]
        },
        {
          "output_type": "execute_result",
          "data": {
            "text/plain": [
              "[77, 50, 10, 65, 40, 32]"
            ]
          },
          "metadata": {},
          "execution_count": 21
        }
      ]
    },
    {
      "cell_type": "markdown",
      "source": [
        "### Real code\n"
      ],
      "metadata": {
        "id": "335CwQZ9VLjM"
      }
    },
    {
      "cell_type": "code",
      "source": [
        "# 6.0\n",
        "timesteps = 60\n",
        "X_train = []\n",
        "y_train = []\n",
        "\n",
        "for i in range(timesteps,len(tr)):\n",
        "  X_train.append(tr[i-60:i,:])\n",
        "  y_train.append(tr[i,0])"
      ],
      "metadata": {
        "id": "-Z4ockeZVZSP"
      },
      "execution_count": 24,
      "outputs": []
    },
    {
      "cell_type": "code",
      "source": [
        "# 6.1 Transform list to arrays\n",
        "X_train = np.array(X_train)\n",
        "y_train = np.array(y_train)\n"
      ],
      "metadata": {
        "id": "pba_EyRlWFQm"
      },
      "execution_count": 25,
      "outputs": []
    },
    {
      "cell_type": "code",
      "source": [
        "# 6.2 X_train is an array of arrays:\n",
        "type(X_train)\n",
        "print(\"\\n========\\n\")\n",
        "X_train.shape\n",
        "print(\"\\n========\\n\")\n",
        "type(X_train[0][:])\n",
        "print(\"\\n========\\n\")\n",
        "X_train[0][:].shape      # (1198, 60) there are 1198 arrays, each of size 60"
      ],
      "metadata": {
        "colab": {
          "base_uri": "https://localhost:8080/"
        },
        "id": "yQe3_aoJYkMk",
        "outputId": "ec41ba82-ce75-424a-961c-d2560378ca23"
      },
      "execution_count": 26,
      "outputs": [
        {
          "output_type": "execute_result",
          "data": {
            "text/plain": [
              "numpy.ndarray"
            ]
          },
          "metadata": {},
          "execution_count": 26
        },
        {
          "output_type": "stream",
          "name": "stdout",
          "text": [
            "\n",
            "========\n",
            "\n"
          ]
        },
        {
          "output_type": "execute_result",
          "data": {
            "text/plain": [
              "(1198, 60, 2)"
            ]
          },
          "metadata": {},
          "execution_count": 26
        },
        {
          "output_type": "stream",
          "name": "stdout",
          "text": [
            "\n",
            "========\n",
            "\n"
          ]
        },
        {
          "output_type": "execute_result",
          "data": {
            "text/plain": [
              "numpy.ndarray"
            ]
          },
          "metadata": {},
          "execution_count": 26
        },
        {
          "output_type": "stream",
          "name": "stdout",
          "text": [
            "\n",
            "========\n",
            "\n"
          ]
        },
        {
          "output_type": "execute_result",
          "data": {
            "text/plain": [
              "(60, 2)"
            ]
          },
          "metadata": {},
          "execution_count": 26
        }
      ]
    },
    {
      "cell_type": "code",
      "source": [
        "# 6.3 Reshape, if needed, to : (samples,timesteps,noOfFeatures):\n",
        "#     Not needed\n",
        "\n",
        "X_train= np.reshape(X_train, (X_train.shape[0],X_train.shape[1],2))\n",
        "X_train.shape    # (1198, 60, 2)"
      ],
      "metadata": {
        "id": "-YjZzkwoWCAa",
        "colab": {
          "base_uri": "https://localhost:8080/"
        },
        "outputId": "0fff6048-3963-4815-9692-e1aa91bb574c"
      },
      "execution_count": 27,
      "outputs": [
        {
          "output_type": "execute_result",
          "data": {
            "text/plain": [
              "(1198, 60, 2)"
            ]
          },
          "metadata": {},
          "execution_count": 27
        }
      ]
    },
    {
      "cell_type": "markdown",
      "source": [
        "## Model"
      ],
      "metadata": {
        "id": "Us6CeB1MZWYU"
      }
    },
    {
      "cell_type": "code",
      "source": [
        "# 7.0\n",
        "model = tf.keras.Sequential()"
      ],
      "metadata": {
        "id": "1QxIBiuvXFZq"
      },
      "execution_count": null,
      "outputs": []
    },
    {
      "cell_type": "code",
      "source": [
        "# 7.1 X_train.shape[0] is number of samples:\n",
        "model.add(tf.keras.layers.Input(shape = (X_train.shape[1], X_train.shape[2])))"
      ],
      "metadata": {
        "id": "fZCD-5wlXXym"
      },
      "execution_count": null,
      "outputs": []
    },
    {
      "cell_type": "code",
      "source": [
        "# 7.2\n",
        "model.add(tf.keras.layers.LSTM(\n",
        "                                units = 50,\n",
        "                                return_sequences = True\n",
        "                               )\n",
        "         )"
      ],
      "metadata": {
        "id": "gJHCahLmXHxL"
      },
      "execution_count": null,
      "outputs": []
    },
    {
      "cell_type": "code",
      "source": [
        "# 7.3\n",
        "model.add(tf.keras.layers.Dropout(0.2))"
      ],
      "metadata": {
        "id": "zNCxQbelXhIf"
      },
      "execution_count": null,
      "outputs": []
    },
    {
      "cell_type": "code",
      "source": [
        "# 7.4\n",
        "model.add(tf.keras.layers.LSTM(\n",
        "                               units = 50,\n",
        "                               return_sequences = True)\n",
        "                              )"
      ],
      "metadata": {
        "id": "3lCoHEABX3YP"
      },
      "execution_count": null,
      "outputs": []
    },
    {
      "cell_type": "code",
      "source": [
        "# 7.5\n",
        "model.add(tf.keras.layers.Dropout(0.2))"
      ],
      "metadata": {
        "id": "qSADUoE4X7tr"
      },
      "execution_count": null,
      "outputs": []
    },
    {
      "cell_type": "code",
      "source": [
        "# 7.6\n",
        "model.add(tf.keras.layers.LSTM(units = 50))"
      ],
      "metadata": {
        "id": "GtEzr1ILX-ly"
      },
      "execution_count": null,
      "outputs": []
    },
    {
      "cell_type": "code",
      "source": [
        "# 7.7\n",
        "model.add(tf.keras.layers.Dropout(0.1))"
      ],
      "metadata": {
        "id": "s9GZCiIQYB7T"
      },
      "execution_count": null,
      "outputs": []
    },
    {
      "cell_type": "code",
      "source": [
        "# 7.8\n",
        "model.add(tf.keras.layers.Dense(1))"
      ],
      "metadata": {
        "id": "Y6oVPxkHYKB1"
      },
      "execution_count": null,
      "outputs": []
    },
    {
      "cell_type": "code",
      "source": [
        "# 7.9\n",
        "model.summary()"
      ],
      "metadata": {
        "colab": {
          "base_uri": "https://localhost:8080/"
        },
        "id": "Qwl3rSvxqnF2",
        "outputId": "b1b0cb75-8973-4d1e-ddee-ddf7c8093ecd"
      },
      "execution_count": null,
      "outputs": [
        {
          "output_type": "stream",
          "name": "stdout",
          "text": [
            "Model: \"sequential\"\n",
            "_________________________________________________________________\n",
            " Layer (type)                Output Shape              Param #   \n",
            "=================================================================\n",
            " lstm (LSTM)                 (None, 60, 50)            10600     \n",
            "                                                                 \n",
            " dropout (Dropout)           (None, 60, 50)            0         \n",
            "                                                                 \n",
            " lstm_1 (LSTM)               (None, 60, 50)            20200     \n",
            "                                                                 \n",
            " dropout_1 (Dropout)         (None, 60, 50)            0         \n",
            "                                                                 \n",
            " lstm_2 (LSTM)               (None, 50)                20200     \n",
            "                                                                 \n",
            " dropout_2 (Dropout)         (None, 50)                0         \n",
            "                                                                 \n",
            " dense (Dense)               (None, 1)                 51        \n",
            "                                                                 \n",
            "=================================================================\n",
            "Total params: 51,051\n",
            "Trainable params: 51,051\n",
            "Non-trainable params: 0\n",
            "_________________________________________________________________\n"
          ]
        }
      ]
    },
    {
      "cell_type": "markdown",
      "source": [
        "## Model comilation and fitting"
      ],
      "metadata": {
        "id": "9LK0EJJasTUw"
      }
    },
    {
      "cell_type": "code",
      "source": [
        "# 8.0 Compile:\n",
        "model.compile(optimizer = \"adam\", loss = \"mse\")"
      ],
      "metadata": {
        "id": "p5wOnEFXYPwv"
      },
      "execution_count": null,
      "outputs": []
    },
    {
      "cell_type": "code",
      "source": [
        "# 9.0\n",
        "model.fit(\n",
        "          X_train,y_train,\n",
        "          batch_size = 32,\n",
        "          epochs = 100\n",
        "          )"
      ],
      "metadata": {
        "id": "7A65QexRYXJz"
      },
      "execution_count": null,
      "outputs": []
    },
    {
      "cell_type": "markdown",
      "source": [
        "### Complete code at one place:"
      ],
      "metadata": {
        "id": "i8w8TMFJhwkV"
      }
    },
    {
      "cell_type": "code",
      "source": [
        "# 9.1 Complete code at one place:\n",
        "if 'model' in locals():\n",
        "  del model\n",
        "\n",
        "model = tf.keras.Sequential() \n",
        "model.add(tf.keras.layers.Input(shape = (X_train.shape[1], X_train.shape[2])))\n",
        "model.add(tf.keras.layers.LSTM(\n",
        "                                units = 50,\n",
        "                                return_sequences = True\n",
        "                               )\n",
        "         )\n",
        "model.add(tf.keras.layers.Dropout(0.2))\n",
        "model.add(tf.keras.layers.LSTM(\n",
        "                               units = 50,\n",
        "                               return_sequences = True)\n",
        "                              )\n",
        "model.add(tf.keras.layers.Dropout(0.2))\n",
        "model.add(tf.keras.layers.LSTM(units = 50))\n",
        "model.add(tf.keras.layers.Dropout(0.1))\n",
        "model.add(tf.keras.layers.Dense(1))\n",
        "model.summary()\n",
        "model.compile(optimizer = \"adam\", loss = \"mse\")\n",
        "model.fit(\n",
        "          X_train,y_train,\n",
        "          batch_size = 32,\n",
        "          epochs = 100\n",
        "          )"
      ],
      "metadata": {
        "colab": {
          "base_uri": "https://localhost:8080/"
        },
        "id": "GBvggGfBhze9",
        "outputId": "0ec63da8-9006-42c7-d3fe-1a8df3e3b483"
      },
      "execution_count": 33,
      "outputs": [
        {
          "output_type": "stream",
          "name": "stdout",
          "text": [
            "Model: \"sequential\"\n",
            "_________________________________________________________________\n",
            " Layer (type)                Output Shape              Param #   \n",
            "=================================================================\n",
            " lstm (LSTM)                 (None, 60, 50)            10600     \n",
            "                                                                 \n",
            " dropout (Dropout)           (None, 60, 50)            0         \n",
            "                                                                 \n",
            " lstm_1 (LSTM)               (None, 60, 50)            20200     \n",
            "                                                                 \n",
            " dropout_1 (Dropout)         (None, 60, 50)            0         \n",
            "                                                                 \n",
            " lstm_2 (LSTM)               (None, 50)                20200     \n",
            "                                                                 \n",
            " dropout_2 (Dropout)         (None, 50)                0         \n",
            "                                                                 \n",
            " dense (Dense)               (None, 1)                 51        \n",
            "                                                                 \n",
            "=================================================================\n",
            "Total params: 51,051\n",
            "Trainable params: 51,051\n",
            "Non-trainable params: 0\n",
            "_________________________________________________________________\n",
            "Epoch 1/100\n",
            "38/38 [==============================] - 9s 91ms/step - loss: 0.0312\n",
            "Epoch 2/100\n",
            "38/38 [==============================] - 3s 91ms/step - loss: 0.0039\n",
            "Epoch 3/100\n",
            "38/38 [==============================] - 3s 90ms/step - loss: 0.0036\n",
            "Epoch 4/100\n",
            "38/38 [==============================] - 4s 116ms/step - loss: 0.0033\n",
            "Epoch 5/100\n",
            "38/38 [==============================] - 5s 134ms/step - loss: 0.0030\n",
            "Epoch 6/100\n",
            "38/38 [==============================] - 6s 149ms/step - loss: 0.0035\n",
            "Epoch 7/100\n",
            "38/38 [==============================] - 4s 92ms/step - loss: 0.0035\n",
            "Epoch 8/100\n",
            "38/38 [==============================] - 6s 146ms/step - loss: 0.0027\n",
            "Epoch 9/100\n",
            "38/38 [==============================] - 4s 107ms/step - loss: 0.0029\n",
            "Epoch 10/100\n",
            "38/38 [==============================] - 6s 153ms/step - loss: 0.0025\n",
            "Epoch 11/100\n",
            "38/38 [==============================] - 4s 110ms/step - loss: 0.0027\n",
            "Epoch 12/100\n",
            "38/38 [==============================] - 4s 94ms/step - loss: 0.0026\n",
            "Epoch 13/100\n",
            "38/38 [==============================] - 4s 103ms/step - loss: 0.0027\n",
            "Epoch 14/100\n",
            "38/38 [==============================] - 3s 90ms/step - loss: 0.0026\n",
            "Epoch 15/100\n",
            "38/38 [==============================] - 4s 93ms/step - loss: 0.0027\n",
            "Epoch 16/100\n",
            "38/38 [==============================] - 3s 91ms/step - loss: 0.0024\n",
            "Epoch 17/100\n",
            "38/38 [==============================] - 4s 115ms/step - loss: 0.0025\n",
            "Epoch 18/100\n",
            "38/38 [==============================] - 5s 131ms/step - loss: 0.0022\n",
            "Epoch 19/100\n",
            "38/38 [==============================] - 4s 93ms/step - loss: 0.0022\n",
            "Epoch 20/100\n",
            "38/38 [==============================] - 4s 109ms/step - loss: 0.0022\n",
            "Epoch 21/100\n",
            "38/38 [==============================] - 4s 117ms/step - loss: 0.0021\n",
            "Epoch 22/100\n",
            "38/38 [==============================] - 3s 90ms/step - loss: 0.0022\n",
            "Epoch 23/100\n",
            "38/38 [==============================] - 5s 124ms/step - loss: 0.0022\n",
            "Epoch 24/100\n",
            "38/38 [==============================] - 4s 111ms/step - loss: 0.0026\n",
            "Epoch 25/100\n",
            "38/38 [==============================] - 4s 100ms/step - loss: 0.0023\n",
            "Epoch 26/100\n",
            "38/38 [==============================] - 4s 97ms/step - loss: 0.0020\n",
            "Epoch 27/100\n",
            "38/38 [==============================] - 3s 92ms/step - loss: 0.0021\n",
            "Epoch 28/100\n",
            "38/38 [==============================] - 4s 93ms/step - loss: 0.0025\n",
            "Epoch 29/100\n",
            "38/38 [==============================] - 3s 91ms/step - loss: 0.0022\n",
            "Epoch 30/100\n",
            "38/38 [==============================] - 3s 91ms/step - loss: 0.0020\n",
            "Epoch 31/100\n",
            "38/38 [==============================] - 4s 93ms/step - loss: 0.0019\n",
            "Epoch 32/100\n",
            "38/38 [==============================] - 3s 92ms/step - loss: 0.0021\n",
            "Epoch 33/100\n",
            "38/38 [==============================] - 3s 90ms/step - loss: 0.0020\n",
            "Epoch 34/100\n",
            "38/38 [==============================] - 3s 90ms/step - loss: 0.0019\n",
            "Epoch 35/100\n",
            "38/38 [==============================] - 3s 92ms/step - loss: 0.0019\n",
            "Epoch 36/100\n",
            "38/38 [==============================] - 3s 91ms/step - loss: 0.0017\n",
            "Epoch 37/100\n",
            "38/38 [==============================] - 3s 91ms/step - loss: 0.0018\n",
            "Epoch 38/100\n",
            "38/38 [==============================] - 4s 105ms/step - loss: 0.0018\n",
            "Epoch 39/100\n",
            "38/38 [==============================] - 3s 92ms/step - loss: 0.0018\n",
            "Epoch 40/100\n",
            "38/38 [==============================] - 3s 91ms/step - loss: 0.0020\n",
            "Epoch 41/100\n",
            "38/38 [==============================] - 3s 90ms/step - loss: 0.0017\n",
            "Epoch 42/100\n",
            "38/38 [==============================] - 3s 91ms/step - loss: 0.0017\n",
            "Epoch 43/100\n",
            "38/38 [==============================] - 3s 89ms/step - loss: 0.0017\n",
            "Epoch 44/100\n",
            "38/38 [==============================] - 3s 91ms/step - loss: 0.0019\n",
            "Epoch 45/100\n",
            "38/38 [==============================] - 3s 90ms/step - loss: 0.0017\n",
            "Epoch 46/100\n",
            "38/38 [==============================] - 3s 91ms/step - loss: 0.0018\n",
            "Epoch 47/100\n",
            "38/38 [==============================] - 4s 92ms/step - loss: 0.0017\n",
            "Epoch 48/100\n",
            "38/38 [==============================] - 4s 93ms/step - loss: 0.0017\n",
            "Epoch 49/100\n",
            "38/38 [==============================] - 4s 93ms/step - loss: 0.0017\n",
            "Epoch 50/100\n",
            "38/38 [==============================] - 3s 90ms/step - loss: 0.0015\n",
            "Epoch 51/100\n",
            "38/38 [==============================] - 3s 91ms/step - loss: 0.0015\n",
            "Epoch 52/100\n",
            "38/38 [==============================] - 3s 90ms/step - loss: 0.0016\n",
            "Epoch 53/100\n",
            "38/38 [==============================] - 3s 91ms/step - loss: 0.0017\n",
            "Epoch 54/100\n",
            "38/38 [==============================] - 3s 91ms/step - loss: 0.0015\n",
            "Epoch 55/100\n",
            "38/38 [==============================] - 3s 90ms/step - loss: 0.0014\n",
            "Epoch 56/100\n",
            "38/38 [==============================] - 3s 91ms/step - loss: 0.0015\n",
            "Epoch 57/100\n",
            "38/38 [==============================] - 3s 90ms/step - loss: 0.0015\n",
            "Epoch 58/100\n",
            "38/38 [==============================] - 3s 90ms/step - loss: 0.0017\n",
            "Epoch 59/100\n",
            "38/38 [==============================] - 3s 91ms/step - loss: 0.0015\n",
            "Epoch 60/100\n",
            "38/38 [==============================] - 3s 90ms/step - loss: 0.0015\n",
            "Epoch 61/100\n",
            "38/38 [==============================] - 3s 90ms/step - loss: 0.0014\n",
            "Epoch 62/100\n",
            "38/38 [==============================] - 3s 91ms/step - loss: 0.0016\n",
            "Epoch 63/100\n",
            "38/38 [==============================] - 3s 91ms/step - loss: 0.0017\n",
            "Epoch 64/100\n",
            "38/38 [==============================] - 4s 118ms/step - loss: 0.0014\n",
            "Epoch 65/100\n",
            "38/38 [==============================] - 4s 92ms/step - loss: 0.0014\n",
            "Epoch 66/100\n",
            "38/38 [==============================] - 3s 90ms/step - loss: 0.0013\n",
            "Epoch 67/100\n",
            "38/38 [==============================] - 3s 90ms/step - loss: 0.0013\n",
            "Epoch 68/100\n",
            "38/38 [==============================] - 3s 90ms/step - loss: 0.0014\n",
            "Epoch 69/100\n",
            "38/38 [==============================] - 3s 89ms/step - loss: 0.0012\n",
            "Epoch 70/100\n",
            "38/38 [==============================] - 4s 100ms/step - loss: 0.0013\n",
            "Epoch 71/100\n",
            "38/38 [==============================] - 5s 130ms/step - loss: 0.0015\n",
            "Epoch 72/100\n",
            "38/38 [==============================] - 3s 90ms/step - loss: 0.0014\n",
            "Epoch 73/100\n",
            "38/38 [==============================] - 3s 91ms/step - loss: 0.0012\n",
            "Epoch 74/100\n",
            "38/38 [==============================] - 3s 91ms/step - loss: 0.0011\n",
            "Epoch 75/100\n",
            "38/38 [==============================] - 3s 90ms/step - loss: 0.0017\n",
            "Epoch 76/100\n",
            "38/38 [==============================] - 4s 97ms/step - loss: 0.0012\n",
            "Epoch 77/100\n",
            "38/38 [==============================] - 4s 100ms/step - loss: 0.0012\n",
            "Epoch 78/100\n",
            "38/38 [==============================] - 4s 97ms/step - loss: 0.0012\n",
            "Epoch 79/100\n",
            "38/38 [==============================] - 4s 109ms/step - loss: 0.0012\n",
            "Epoch 80/100\n",
            "38/38 [==============================] - 4s 94ms/step - loss: 0.0013\n",
            "Epoch 81/100\n",
            "38/38 [==============================] - 3s 92ms/step - loss: 0.0012\n",
            "Epoch 82/100\n",
            "38/38 [==============================] - 4s 93ms/step - loss: 0.0011\n",
            "Epoch 83/100\n",
            "38/38 [==============================] - 3s 91ms/step - loss: 0.0012\n",
            "Epoch 84/100\n",
            "38/38 [==============================] - 3s 91ms/step - loss: 0.0011\n",
            "Epoch 85/100\n",
            "38/38 [==============================] - 3s 90ms/step - loss: 9.9834e-04\n",
            "Epoch 86/100\n",
            "38/38 [==============================] - 3s 90ms/step - loss: 0.0011\n",
            "Epoch 87/100\n",
            "38/38 [==============================] - 3s 91ms/step - loss: 0.0011\n",
            "Epoch 88/100\n",
            "38/38 [==============================] - 3s 90ms/step - loss: 0.0012\n",
            "Epoch 89/100\n",
            "38/38 [==============================] - 3s 91ms/step - loss: 0.0012\n",
            "Epoch 90/100\n",
            "38/38 [==============================] - 3s 91ms/step - loss: 0.0010\n",
            "Epoch 91/100\n",
            "38/38 [==============================] - 3s 91ms/step - loss: 0.0011\n",
            "Epoch 92/100\n",
            "38/38 [==============================] - 3s 92ms/step - loss: 0.0010\n",
            "Epoch 93/100\n",
            "38/38 [==============================] - 3s 90ms/step - loss: 0.0011\n",
            "Epoch 94/100\n",
            "38/38 [==============================] - 3s 90ms/step - loss: 0.0011\n",
            "Epoch 95/100\n",
            "38/38 [==============================] - 3s 91ms/step - loss: 0.0012\n",
            "Epoch 96/100\n",
            "38/38 [==============================] - 3s 91ms/step - loss: 0.0011\n",
            "Epoch 97/100\n",
            "38/38 [==============================] - 3s 91ms/step - loss: 0.0010\n",
            "Epoch 98/100\n",
            "38/38 [==============================] - 3s 92ms/step - loss: 0.0010\n",
            "Epoch 99/100\n",
            "38/38 [==============================] - 3s 91ms/step - loss: 8.6055e-04\n",
            "Epoch 100/100\n",
            "38/38 [==============================] - 3s 91ms/step - loss: 0.0011\n"
          ]
        },
        {
          "output_type": "execute_result",
          "data": {
            "text/plain": [
              "<keras.callbacks.History at 0x7f4f90bf77f0>"
            ]
          },
          "metadata": {},
          "execution_count": 33
        }
      ]
    },
    {
      "cell_type": "markdown",
      "source": [
        "## Make predictions"
      ],
      "metadata": {
        "id": "K1hwYslhq1i2"
      }
    },
    {
      "cell_type": "markdown",
      "source": [
        "### Prepare test data"
      ],
      "metadata": {
        "id": "1PwPCkUfi_Hn"
      }
    },
    {
      "cell_type": "code",
      "source": [
        "# 10.0 Our data:\n",
        "te.shape   # (20, 2)\n",
        "tr.shape  # (1258, 2)"
      ],
      "metadata": {
        "colab": {
          "base_uri": "https://localhost:8080/"
        },
        "id": "43VwNvrp6_jx",
        "outputId": "25cc93e3-c317-4d86-9517-1ec8551a0f60"
      },
      "execution_count": 34,
      "outputs": [
        {
          "output_type": "execute_result",
          "data": {
            "text/plain": [
              "(20, 2)"
            ]
          },
          "metadata": {},
          "execution_count": 34
        },
        {
          "output_type": "execute_result",
          "data": {
            "text/plain": [
              "(1258, 2)"
            ]
          },
          "metadata": {},
          "execution_count": 34
        }
      ]
    },
    {
      "cell_type": "code",
      "source": [
        "# 10.1 Concatenate tr/te:\n",
        "\n",
        "combined_df = np.vstack([tr, te])\n",
        "combined_df.shape"
      ],
      "metadata": {
        "id": "v12v6DAtV03F",
        "outputId": "a7da88dc-6a08-48ec-87cc-1f9325b1dd42",
        "colab": {
          "base_uri": "https://localhost:8080/"
        }
      },
      "execution_count": 35,
      "outputs": [
        {
          "output_type": "execute_result",
          "data": {
            "text/plain": [
              "(1278, 2)"
            ]
          },
          "metadata": {},
          "execution_count": 35
        }
      ]
    },
    {
      "cell_type": "code",
      "source": [
        "# 10.2 Data for test predictions:\n",
        "\n",
        "inputs = combined_df[len(combined_df) - len(te) - 60:]\n",
        "inputs.shape   # (80,2)"
      ],
      "metadata": {
        "colab": {
          "base_uri": "https://localhost:8080/"
        },
        "id": "tpaStpeh7fkR",
        "outputId": "c2929a5b-aeef-495b-9dfb-6f9af013e6e5"
      },
      "execution_count": 36,
      "outputs": [
        {
          "output_type": "execute_result",
          "data": {
            "text/plain": [
              "(80, 2)"
            ]
          },
          "metadata": {},
          "execution_count": 36
        }
      ]
    },
    {
      "cell_type": "code",
      "source": [
        "# 10.3 Reshape, if rquired\n",
        "#      Not required\n",
        "inputs = inputs.reshape(-1,2)\n",
        "inputs.shape   # (80, 2)"
      ],
      "metadata": {
        "id": "fT08QyAq7x6h"
      },
      "execution_count": null,
      "outputs": []
    },
    {
      "cell_type": "code",
      "source": [
        "# 11.1 Prepare 'test' timeseries data from inputs data:\n",
        "\n",
        "X_test = []\n",
        "for i in range(60,80):\n",
        "    X_test.append(inputs[i-60:i,:])\n"
      ],
      "metadata": {
        "id": "ODcolOmza33J"
      },
      "execution_count": 37,
      "outputs": []
    },
    {
      "cell_type": "code",
      "source": [
        "# 11.2 Check: \n",
        "len(X_test)    # 20\n",
        "print(\"\\n===========\\n\")\n",
        "X_test[0].shape\n",
        "print(\"\\n===========\\n\")\n",
        "X_test = np.array(X_test)\n",
        "X_test.shape   # (20, 60)"
      ],
      "metadata": {
        "id": "B0uqcENfW7sI",
        "outputId": "7db1120e-929f-4f01-fbc6-880525cdcab9",
        "colab": {
          "base_uri": "https://localhost:8080/"
        }
      },
      "execution_count": 38,
      "outputs": [
        {
          "output_type": "execute_result",
          "data": {
            "text/plain": [
              "20"
            ]
          },
          "metadata": {},
          "execution_count": 38
        },
        {
          "output_type": "stream",
          "name": "stdout",
          "text": [
            "\n",
            "===========\n",
            "\n"
          ]
        },
        {
          "output_type": "execute_result",
          "data": {
            "text/plain": [
              "(60, 2)"
            ]
          },
          "metadata": {},
          "execution_count": 38
        },
        {
          "output_type": "stream",
          "name": "stdout",
          "text": [
            "\n",
            "===========\n",
            "\n"
          ]
        },
        {
          "output_type": "execute_result",
          "data": {
            "text/plain": [
              "(20, 60, 2)"
            ]
          },
          "metadata": {},
          "execution_count": 38
        }
      ]
    },
    {
      "cell_type": "code",
      "source": [
        "# 11.3 Reshape X_test:\n",
        "#      Not needed. Data already in this shape\n",
        "\n",
        "X_test = np.reshape(X_test, (X_test.shape[0], X_test.shape[1],2))\n",
        "X_test.shape"
      ],
      "metadata": {
        "colab": {
          "base_uri": "https://localhost:8080/"
        },
        "id": "tSy2qxTK8Wms",
        "outputId": "362b7311-b5fe-4837-fc39-593088912cd7"
      },
      "execution_count": null,
      "outputs": [
        {
          "output_type": "execute_result",
          "data": {
            "text/plain": [
              "(20, 60, 1)"
            ]
          },
          "metadata": {},
          "execution_count": 34
        }
      ]
    },
    {
      "cell_type": "markdown",
      "source": [
        "### Make predictions"
      ],
      "metadata": {
        "id": "E3-EkMjKjEdF"
      }
    },
    {
      "cell_type": "code",
      "source": [
        "# 12 Make predictions\n",
        "\n",
        "pred = model.predict(X_test)\n",
        "\n",
        "print(\"\\n==========\\n\")\n",
        "pred\n",
        "print(\"\\n==========\\n\")\n",
        "pred.shape"
      ],
      "metadata": {
        "id": "20a0-Pf78SKj",
        "colab": {
          "base_uri": "https://localhost:8080/"
        },
        "outputId": "76ca48b1-b453-49a8-cb9b-a456fd9a600a"
      },
      "execution_count": 39,
      "outputs": [
        {
          "output_type": "stream",
          "name": "stdout",
          "text": [
            "1/1 [==============================] - 1s 1s/step\n",
            "\n",
            "==========\n",
            "\n"
          ]
        },
        {
          "output_type": "execute_result",
          "data": {
            "text/plain": [
              "array([[0.94359475],\n",
              "       [0.93993336],\n",
              "       [0.9426388 ],\n",
              "       [0.94706446],\n",
              "       [0.9567988 ],\n",
              "       [0.968518  ],\n",
              "       [0.97566783],\n",
              "       [0.97615224],\n",
              "       [0.97418207],\n",
              "       [0.97365844],\n",
              "       [0.9732412 ],\n",
              "       [0.97287524],\n",
              "       [0.9738355 ],\n",
              "       [0.97516316],\n",
              "       [0.9804561 ],\n",
              "       [0.9917551 ],\n",
              "       [1.005832  ],\n",
              "       [1.0178225 ],\n",
              "       [1.0233822 ],\n",
              "       [1.0097568 ]], dtype=float32)"
            ]
          },
          "metadata": {},
          "execution_count": 39
        },
        {
          "output_type": "stream",
          "name": "stdout",
          "text": [
            "\n",
            "==========\n",
            "\n"
          ]
        },
        {
          "output_type": "execute_result",
          "data": {
            "text/plain": [
              "(20, 1)"
            ]
          },
          "metadata": {},
          "execution_count": 39
        }
      ]
    },
    {
      "cell_type": "code",
      "source": [],
      "metadata": {
        "id": "LSX-NTuYYO28"
      },
      "execution_count": null,
      "outputs": []
    },
    {
      "cell_type": "code",
      "source": [
        "# 11.4 Inverse transform:\n",
        "#      Inverse transform requires that we have\n",
        "#      data of shape of (n,2), as transform was carried\n",
        "#      out on data of shape(n,2)\n",
        "#      Add a dummy IInd columns:\n",
        "\n",
        "out = np.hstack([pred,pred])\n",
        "\n",
        "# 11.5 Now inverse transform\n",
        "pred = mm.inverse_transform(out)\n",
        "pred"
      ],
      "metadata": {
        "id": "geBvEekBXWc7",
        "colab": {
          "base_uri": "https://localhost:8080/"
        },
        "outputId": "6689703c-0968-4781-ec3e-68f3f44d0624"
      },
      "execution_count": 40,
      "outputs": [
        {
          "output_type": "execute_result",
          "data": {
            "text/plain": [
              "array([[786.3588 , 786.4767 ],\n",
              "       [784.39056, 784.5161 ],\n",
              "       [785.8449 , 785.9648 ],\n",
              "       [788.224  , 788.3346 ],\n",
              "       [793.4567 , 793.54706],\n",
              "       [799.75653, 799.8224 ],\n",
              "       [803.6    , 803.6509 ],\n",
              "       [803.8604 , 803.9102 ],\n",
              "       [802.80133, 802.8553 ],\n",
              "       [802.51984, 802.5749 ],\n",
              "       [802.29553, 802.3515 ],\n",
              "       [802.0988 , 802.1555 ],\n",
              "       [802.61505, 802.6697 ],\n",
              "       [803.32874, 803.3806 ],\n",
              "       [806.17395, 806.21484],\n",
              "       [812.24786, 812.26514],\n",
              "       [819.815  , 819.80286],\n",
              "       [826.2606 , 826.22345],\n",
              "       [829.2493 , 829.2005 ],\n",
              "       [821.92487, 821.9045 ]], dtype=float32)"
            ]
          },
          "metadata": {},
          "execution_count": 40
        }
      ]
    },
    {
      "cell_type": "markdown",
      "source": [
        "## Plotting results"
      ],
      "metadata": {
        "id": "qy7uSZcprrnA"
      }
    },
    {
      "cell_type": "code",
      "source": [
        "# 12.0 Plot \n",
        "real_stock_price = test.values[:, 1]\n",
        "plt.plot(real_stock_price, color='red', label = \"Real Google Stock Price\");\n",
        "plt.plot(pred[:,0], color = 'blue', label = \"PRedicted google stock price\") ;\n",
        "plt.title(\"Google stock price prediction\") ;\n",
        "plt.xlabel(\"Time\") ;\n",
        "plt.ylabel(\"Google Stock Price\");\n",
        "plt.show() ;"
      ],
      "metadata": {
        "id": "paqdNK01Ybxz",
        "outputId": "5135c275-72b8-419d-d113-7ce7166cecb5",
        "colab": {
          "base_uri": "https://localhost:8080/",
          "height": 295
        }
      },
      "execution_count": 41,
      "outputs": [
        {
          "output_type": "display_data",
          "data": {
            "text/plain": [
              "<Figure size 432x288 with 1 Axes>"
            ],
            "image/png": "[encoded data removed]"
          },
          "metadata": {
            "needs_background": "light"
          }
        }
      ]
    },
    {
      "cell_type": "code",
      "source": [
        "################## I am done ##################33"
      ],
      "metadata": {
        "id": "SOfv_Dzd-C3x"
      },
      "execution_count": null,
      "outputs": []
    },
    {
      "cell_type": "code",
      "source": [
        "! pip install attention"
      ],
      "metadata": {
        "id": "dA4mXs5gZo9j"
      },
      "execution_count": null,
      "outputs": []
    },
    {
      "cell_type": "code",
      "source": [
        "from attention import Attention"
      ],
      "metadata": {
        "id": "5DiqDvTfqopd"
      },
      "execution_count": 47,
      "outputs": []
    },
    {
      "cell_type": "code",
      "source": [
        "\n",
        "# 9.1 Complete code at one place:\n",
        "model1 = tf.keras.Sequential() \n",
        "model1.add(tf.keras.layers.Input(shape = (X_train.shape[1], X_train.shape[2])))\n",
        "model1.add(tf.keras.layers.LSTM(\n",
        "                                units = 50,\n",
        "                                return_sequences = True\n",
        "                               )\n",
        "         )\n",
        "model1.add(tf.keras.layers.Dropout(0.2))\n",
        "model1.add(tf.keras.layers.LSTM(\n",
        "                               units = 50,\n",
        "                               return_sequences = True\n",
        "                              )\n",
        "          )\n",
        "model1.add(tf.keras.layers.Dropout(0.2))\n",
        "model1.add(Attention(50))\n",
        "model1.add(tf.keras.layers.Dropout(0.1))\n",
        "model1.add(tf.keras.layers.Dense(1))\n",
        "model1.summary()\n",
        "model1.compile(optimizer = \"adam\", loss = \"mse\")\n",
        "model1.fit(\n",
        "          X_train,y_train,\n",
        "          batch_size = 32,\n",
        "          epochs = 100\n",
        "          )\n"
      ],
      "metadata": {
        "id": "FCeo7zKpZrUj",
        "colab": {
          "base_uri": "https://localhost:8080/"
        },
        "outputId": "1b6b5726-94b1-48fe-e70f-9bdbebebdda5"
      },
      "execution_count": 60,
      "outputs": [
        {
          "output_type": "stream",
          "name": "stdout",
          "text": [
            "Model: \"sequential_11\"\n",
            "_________________________________________________________________\n",
            " Layer (type)                Output Shape              Param #   \n",
            "=================================================================\n",
            " lstm_11 (LSTM)              (None, 60, 50)            10600     \n",
            "                                                                 \n",
            " dropout_11 (Dropout)        (None, 60, 50)            0         \n",
            "                                                                 \n",
            " lstm_12 (LSTM)              (None, 60, 50)            20200     \n",
            "                                                                 \n",
            " dropout_12 (Dropout)        (None, 60, 50)            0         \n",
            "                                                                 \n",
            " attention_6 (Attention)     (None, 50)                7500      \n",
            "                                                                 \n",
            " dropout_13 (Dropout)        (None, 50)                0         \n",
            "                                                                 \n",
            " dense_2 (Dense)             (None, 1)                 51        \n",
            "                                                                 \n",
            "=================================================================\n",
            "Total params: 38,351\n",
            "Trainable params: 38,351\n",
            "Non-trainable params: 0\n",
            "_________________________________________________________________\n",
            "Epoch 1/100\n",
            "38/38 [==============================] - 7s 68ms/step - loss: 0.0369\n",
            "Epoch 2/100\n",
            "38/38 [==============================] - 4s 99ms/step - loss: 0.0061\n",
            "Epoch 3/100\n",
            "38/38 [==============================] - 3s 66ms/step - loss: 0.0048\n",
            "Epoch 4/100\n",
            "38/38 [==============================] - 3s 66ms/step - loss: 0.0050\n",
            "Epoch 5/100\n",
            "38/38 [==============================] - 3s 66ms/step - loss: 0.0041\n",
            "Epoch 6/100\n",
            "38/38 [==============================] - 2s 65ms/step - loss: 0.0039\n",
            "Epoch 7/100\n",
            "38/38 [==============================] - 3s 67ms/step - loss: 0.0034\n",
            "Epoch 8/100\n",
            "38/38 [==============================] - 3s 66ms/step - loss: 0.0039\n",
            "Epoch 9/100\n",
            "38/38 [==============================] - 3s 67ms/step - loss: 0.0038\n",
            "Epoch 10/100\n",
            "38/38 [==============================] - 3s 67ms/step - loss: 0.0037\n",
            "Epoch 11/100\n",
            "38/38 [==============================] - 3s 66ms/step - loss: 0.0036\n",
            "Epoch 12/100\n",
            "38/38 [==============================] - 3s 66ms/step - loss: 0.0030\n",
            "Epoch 13/100\n",
            "38/38 [==============================] - 3s 66ms/step - loss: 0.0030\n",
            "Epoch 14/100\n",
            "38/38 [==============================] - 3s 66ms/step - loss: 0.0031\n",
            "Epoch 15/100\n",
            "38/38 [==============================] - 3s 67ms/step - loss: 0.0030\n",
            "Epoch 16/100\n",
            "38/38 [==============================] - 3s 66ms/step - loss: 0.0032\n",
            "Epoch 17/100\n",
            "38/38 [==============================] - 3s 66ms/step - loss: 0.0030\n",
            "Epoch 18/100\n",
            "38/38 [==============================] - 3s 66ms/step - loss: 0.0027\n",
            "Epoch 19/100\n",
            "38/38 [==============================] - 3s 67ms/step - loss: 0.0027\n",
            "Epoch 20/100\n",
            "38/38 [==============================] - 3s 67ms/step - loss: 0.0026\n",
            "Epoch 21/100\n",
            "38/38 [==============================] - 3s 67ms/step - loss: 0.0026\n",
            "Epoch 22/100\n",
            "38/38 [==============================] - 3s 66ms/step - loss: 0.0026\n",
            "Epoch 23/100\n",
            "38/38 [==============================] - 3s 68ms/step - loss: 0.0026\n",
            "Epoch 24/100\n",
            "38/38 [==============================] - 3s 70ms/step - loss: 0.0024\n",
            "Epoch 25/100\n",
            "38/38 [==============================] - 3s 68ms/step - loss: 0.0025\n",
            "Epoch 26/100\n",
            "38/38 [==============================] - 3s 66ms/step - loss: 0.0027\n",
            "Epoch 27/100\n",
            "38/38 [==============================] - 3s 67ms/step - loss: 0.0025\n",
            "Epoch 28/100\n",
            "38/38 [==============================] - 3s 66ms/step - loss: 0.0023\n",
            "Epoch 29/100\n",
            "38/38 [==============================] - 3s 66ms/step - loss: 0.0023\n",
            "Epoch 30/100\n",
            "38/38 [==============================] - 3s 66ms/step - loss: 0.0025\n",
            "Epoch 31/100\n",
            "38/38 [==============================] - 3s 67ms/step - loss: 0.0024\n",
            "Epoch 32/100\n",
            "38/38 [==============================] - 3s 78ms/step - loss: 0.0021\n",
            "Epoch 33/100\n",
            "38/38 [==============================] - 4s 93ms/step - loss: 0.0024\n",
            "Epoch 34/100\n",
            "38/38 [==============================] - 3s 66ms/step - loss: 0.0021\n",
            "Epoch 35/100\n",
            "38/38 [==============================] - 4s 106ms/step - loss: 0.0020\n",
            "Epoch 36/100\n",
            "38/38 [==============================] - 6s 162ms/step - loss: 0.0020\n",
            "Epoch 37/100\n",
            "38/38 [==============================] - 3s 71ms/step - loss: 0.0019\n",
            "Epoch 38/100\n",
            "38/38 [==============================] - 3s 66ms/step - loss: 0.0022\n",
            "Epoch 39/100\n",
            "38/38 [==============================] - 3s 89ms/step - loss: 0.0020\n",
            "Epoch 40/100\n",
            "38/38 [==============================] - 3s 68ms/step - loss: 0.0021\n",
            "Epoch 41/100\n",
            "38/38 [==============================] - 3s 66ms/step - loss: 0.0019\n",
            "Epoch 42/100\n",
            "38/38 [==============================] - 3s 66ms/step - loss: 0.0018\n",
            "Epoch 43/100\n",
            "38/38 [==============================] - 3s 68ms/step - loss: 0.0021\n",
            "Epoch 44/100\n",
            "38/38 [==============================] - 3s 67ms/step - loss: 0.0019\n",
            "Epoch 45/100\n",
            "38/38 [==============================] - 3s 67ms/step - loss: 0.0018\n",
            "Epoch 46/100\n",
            "38/38 [==============================] - 3s 67ms/step - loss: 0.0020\n",
            "Epoch 47/100\n",
            "38/38 [==============================] - 3s 68ms/step - loss: 0.0020\n",
            "Epoch 48/100\n",
            "38/38 [==============================] - 3s 66ms/step - loss: 0.0019\n",
            "Epoch 49/100\n",
            "38/38 [==============================] - 3s 66ms/step - loss: 0.0018\n",
            "Epoch 50/100\n",
            "38/38 [==============================] - 3s 66ms/step - loss: 0.0017\n",
            "Epoch 51/100\n",
            "38/38 [==============================] - 3s 67ms/step - loss: 0.0016\n",
            "Epoch 52/100\n",
            "38/38 [==============================] - 3s 66ms/step - loss: 0.0017\n",
            "Epoch 53/100\n",
            "38/38 [==============================] - 2s 66ms/step - loss: 0.0020\n",
            "Epoch 54/100\n",
            "38/38 [==============================] - 3s 67ms/step - loss: 0.0018\n",
            "Epoch 55/100\n",
            "38/38 [==============================] - 3s 66ms/step - loss: 0.0018\n",
            "Epoch 56/100\n",
            "38/38 [==============================] - 3s 66ms/step - loss: 0.0020\n",
            "Epoch 57/100\n",
            "38/38 [==============================] - 2s 66ms/step - loss: 0.0017\n",
            "Epoch 58/100\n",
            "38/38 [==============================] - 2s 66ms/step - loss: 0.0018\n",
            "Epoch 59/100\n",
            "38/38 [==============================] - 3s 67ms/step - loss: 0.0017\n",
            "Epoch 60/100\n",
            "38/38 [==============================] - 2s 65ms/step - loss: 0.0017\n",
            "Epoch 61/100\n",
            "38/38 [==============================] - 3s 66ms/step - loss: 0.0016\n",
            "Epoch 62/100\n",
            "38/38 [==============================] - 2s 66ms/step - loss: 0.0015\n",
            "Epoch 63/100\n",
            "38/38 [==============================] - 3s 67ms/step - loss: 0.0017\n",
            "Epoch 64/100\n",
            "38/38 [==============================] - 3s 69ms/step - loss: 0.0016\n",
            "Epoch 65/100\n",
            "38/38 [==============================] - 2s 66ms/step - loss: 0.0016\n",
            "Epoch 66/100\n",
            "38/38 [==============================] - 3s 66ms/step - loss: 0.0016\n",
            "Epoch 67/100\n",
            "38/38 [==============================] - 3s 68ms/step - loss: 0.0014\n",
            "Epoch 68/100\n",
            "38/38 [==============================] - 3s 66ms/step - loss: 0.0016\n",
            "Epoch 69/100\n",
            "38/38 [==============================] - 3s 67ms/step - loss: 0.0016\n",
            "Epoch 70/100\n",
            "38/38 [==============================] - 2s 65ms/step - loss: 0.0015\n",
            "Epoch 71/100\n",
            "38/38 [==============================] - 3s 66ms/step - loss: 0.0017\n",
            "Epoch 72/100\n",
            "38/38 [==============================] - 3s 66ms/step - loss: 0.0015\n",
            "Epoch 73/100\n",
            "38/38 [==============================] - 3s 67ms/step - loss: 0.0015\n",
            "Epoch 74/100\n",
            "38/38 [==============================] - 3s 66ms/step - loss: 0.0015\n",
            "Epoch 75/100\n",
            "38/38 [==============================] - 3s 68ms/step - loss: 0.0014\n",
            "Epoch 76/100\n",
            "38/38 [==============================] - 3s 67ms/step - loss: 0.0014\n",
            "Epoch 77/100\n",
            "38/38 [==============================] - 3s 67ms/step - loss: 0.0014\n",
            "Epoch 78/100\n",
            "38/38 [==============================] - 3s 67ms/step - loss: 0.0015\n",
            "Epoch 79/100\n",
            "38/38 [==============================] - 3s 67ms/step - loss: 0.0014\n",
            "Epoch 80/100\n",
            "38/38 [==============================] - 3s 67ms/step - loss: 0.0012\n",
            "Epoch 81/100\n",
            "38/38 [==============================] - 3s 86ms/step - loss: 0.0013\n",
            "Epoch 82/100\n",
            "38/38 [==============================] - 3s 67ms/step - loss: 0.0013\n",
            "Epoch 83/100\n",
            "38/38 [==============================] - 3s 67ms/step - loss: 0.0015\n",
            "Epoch 84/100\n",
            "38/38 [==============================] - 3s 67ms/step - loss: 0.0012\n",
            "Epoch 85/100\n",
            "38/38 [==============================] - 3s 67ms/step - loss: 0.0012\n",
            "Epoch 86/100\n",
            "38/38 [==============================] - 3s 68ms/step - loss: 0.0014\n",
            "Epoch 87/100\n",
            "38/38 [==============================] - 3s 69ms/step - loss: 0.0013\n",
            "Epoch 88/100\n",
            "38/38 [==============================] - 3s 66ms/step - loss: 0.0012\n",
            "Epoch 89/100\n",
            "38/38 [==============================] - 3s 67ms/step - loss: 0.0014\n",
            "Epoch 90/100\n",
            "38/38 [==============================] - 3s 67ms/step - loss: 0.0015\n",
            "Epoch 91/100\n",
            "38/38 [==============================] - 3s 69ms/step - loss: 0.0012\n",
            "Epoch 92/100\n",
            "38/38 [==============================] - 3s 66ms/step - loss: 0.0012\n",
            "Epoch 93/100\n",
            "38/38 [==============================] - 3s 67ms/step - loss: 0.0012\n",
            "Epoch 94/100\n",
            "38/38 [==============================] - 3s 66ms/step - loss: 0.0013\n",
            "Epoch 95/100\n",
            "38/38 [==============================] - 2s 66ms/step - loss: 0.0013\n",
            "Epoch 96/100\n",
            "38/38 [==============================] - 2s 65ms/step - loss: 0.0013\n",
            "Epoch 97/100\n",
            "38/38 [==============================] - 3s 67ms/step - loss: 0.0013\n",
            "Epoch 98/100\n",
            "38/38 [==============================] - 3s 67ms/step - loss: 0.0012\n",
            "Epoch 99/100\n",
            "38/38 [==============================] - 3s 67ms/step - loss: 0.0011\n",
            "Epoch 100/100\n",
            "38/38 [==============================] - 3s 66ms/step - loss: 0.0012\n"
          ]
        },
        {
          "output_type": "execute_result",
          "data": {
            "text/plain": [
              "<keras.callbacks.History at 0x7f4f9be91df0>"
            ]
          },
          "metadata": {},
          "execution_count": 60
        }
      ]
    },
    {
      "cell_type": "code",
      "source": [
        "pred = model1.predict(X_test)\n",
        "out = np.hstack([pred,pred])\n",
        "pred = mm.inverse_transform(out)\n",
        "# 12.0 Plot \n",
        "real_stock_price = test.values[:, 1]\n",
        "plt.plot(real_stock_price, color='red', label = \"Real Google Stock Price\");\n",
        "plt.plot(pred[:,0], color = 'blue', label = \"PRedicted google stock price\") ;\n",
        "plt.title(\"Google stock price prediction\") ;\n",
        "plt.xlabel(\"Time\") ;\n",
        "plt.ylabel(\"Google Stock Price\");\n",
        "plt.show() ;"
      ],
      "metadata": {
        "colab": {
          "base_uri": "https://localhost:8080/",
          "height": 240
        },
        "id": "YJo4N4mOrEmZ",
        "outputId": "06f60513-c295-4908-e08a-736147ae14ec"
      },
      "execution_count": 62,
      "outputs": [
        {
          "output_type": "error",
          "ename": "NameError",
          "evalue": "ignored",
          "traceback": [
            "\u001b[0;31m---------------------------------------------------------------------------\u001b[0m",
            "\u001b[0;31mNameError\u001b[0m                                 Traceback (most recent call last)",
            "\u001b[0;32m<ipython-input-62-b23fd834f1f0>\u001b[0m in \u001b[0;36m<module>\u001b[0;34m\u001b[0m\n\u001b[0;32m----> 1\u001b[0;31m \u001b[0mpred\u001b[0m \u001b[0;34m=\u001b[0m \u001b[0mmodel1\u001b[0m\u001b[0;34m.\u001b[0m\u001b[0mpredict\u001b[0m\u001b[0;34m(\u001b[0m\u001b[0mX_test\u001b[0m\u001b[0;34m)\u001b[0m\u001b[0;34m\u001b[0m\u001b[0;34m\u001b[0m\u001b[0m\n\u001b[0m\u001b[1;32m      2\u001b[0m \u001b[0mout\u001b[0m \u001b[0;34m=\u001b[0m \u001b[0mnp\u001b[0m\u001b[0;34m.\u001b[0m\u001b[0mhstack\u001b[0m\u001b[0;34m(\u001b[0m\u001b[0;34m[\u001b[0m\u001b[0mpred\u001b[0m\u001b[0;34m,\u001b[0m\u001b[0mpred\u001b[0m\u001b[0;34m]\u001b[0m\u001b[0;34m)\u001b[0m\u001b[0;34m\u001b[0m\u001b[0;34m\u001b[0m\u001b[0m\n\u001b[1;32m      3\u001b[0m \u001b[0mpred\u001b[0m \u001b[0;34m=\u001b[0m \u001b[0mmm\u001b[0m\u001b[0;34m.\u001b[0m\u001b[0minverse_transform\u001b[0m\u001b[0;34m(\u001b[0m\u001b[0mout\u001b[0m\u001b[0;34m)\u001b[0m\u001b[0;34m\u001b[0m\u001b[0;34m\u001b[0m\u001b[0m\n\u001b[1;32m      4\u001b[0m \u001b[0;31m# 12.0 Plot\u001b[0m\u001b[0;34m\u001b[0m\u001b[0;34m\u001b[0m\u001b[0;34m\u001b[0m\u001b[0m\n\u001b[1;32m      5\u001b[0m \u001b[0mreal_stock_price\u001b[0m \u001b[0;34m=\u001b[0m \u001b[0mtest\u001b[0m\u001b[0;34m.\u001b[0m\u001b[0mvalues\u001b[0m\u001b[0;34m[\u001b[0m\u001b[0;34m:\u001b[0m\u001b[0;34m,\u001b[0m \u001b[0;36m1\u001b[0m\u001b[0;34m]\u001b[0m\u001b[0;34m\u001b[0m\u001b[0;34m\u001b[0m\u001b[0m\n",
            "\u001b[0;31mNameError\u001b[0m: name 'model1' is not defined"
          ]
        }
      ]
    }
  ]
}