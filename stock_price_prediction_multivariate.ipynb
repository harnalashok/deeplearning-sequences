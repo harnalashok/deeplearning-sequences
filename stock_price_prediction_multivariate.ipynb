{
  "nbformat": 4,
  "nbformat_minor": 0,
  "metadata": {
    "colab": {
      "provenance": [],
      "authorship_tag": "ABX9TyNT4a/AJ/a1xXH5mL3XJxM/",
      "include_colab_link": true
    },
    "kernelspec": {
      "name": "python3",
      "display_name": "Python 3"
    },
    "language_info": {
      "name": "python"
    }
  },
  "cells": [
    {
      "cell_type": "markdown",
      "metadata": {
        "id": "view-in-github",
        "colab_type": "text"
      },
      "source": [
        "<a href=\"https://colab.research.google.com/github/harnalashok/deeplearning-sequences/blob/main/stock_price_prediction_multivariate.ipynb\" target=\"_parent\"><img src=\"https://colab.research.google.com/assets/colab-badge.svg\" alt=\"Open In Colab\"/></a>"
      ]
    },
    {
      "cell_type": "code",
      "source": [
        "# Last amended: 6th Feb, 2023\n",
        "# Objective: Apply LSTM for time-series prediction\n",
        "#            Develop a simple model to predict stock prices\n",
        "\n",
        "# Ref: https://www.simplilearn.com/tutorials/deep-learning-tutorial/rnn\n",
        "# https://www.kaggle.com/datasets/akram24/google-stock-price-test\n"
      ],
      "metadata": {
        "id": "r2vuJoIlbWVH"
      },
      "execution_count": null,
      "outputs": []
    },
    {
      "cell_type": "markdown",
      "source": [
        "## Call libraries"
      ],
      "metadata": {
        "id": "OjfMgkcnPLRz"
      }
    },
    {
      "cell_type": "code",
      "execution_count": null,
      "metadata": {
        "id": "6y2JO6HpSz3a"
      },
      "outputs": [],
      "source": [
        "# 1.0 Call libraries\n",
        "import numpy as np\n",
        "import pandas as pd\n",
        "import tensorflow as tf\n",
        "\n",
        "# 1.0.1\n",
        "from sklearn.preprocessing import MinMaxScaler\n",
        "import matplotlib.pyplot as plt\n",
        "import pathlib"
      ]
    },
    {
      "cell_type": "code",
      "source": [
        "# 1.0.2 Display multiple outputs from a cell:\n",
        "\n",
        "from IPython.core.interactiveshell import InteractiveShell\n",
        "InteractiveShell.ast_node_interactivity = \"all\"\n"
      ],
      "metadata": {
        "id": "oNsU3wXX7L1p"
      },
      "execution_count": null,
      "outputs": []
    },
    {
      "cell_type": "markdown",
      "source": [
        "## Mount gdrive"
      ],
      "metadata": {
        "id": "Fk8jkysxPRJi"
      }
    },
    {
      "cell_type": "code",
      "source": [
        "# 2.0 Mount gdrive\n",
        "\n",
        "from google.colab import drive\n",
        "drive.mount('/gdrive')"
      ],
      "metadata": {
        "colab": {
          "base_uri": "https://localhost:8080/"
        },
        "id": "VrJl4G_BTEBt",
        "outputId": "6f138c80-34cc-4c53-c710-02ace5769d03"
      },
      "execution_count": null,
      "outputs": [
        {
          "output_type": "stream",
          "name": "stdout",
          "text": [
            "Drive already mounted at /gdrive; to attempt to forcibly remount, call drive.mount(\"/gdrive\", force_remount=True).\n"
          ]
        }
      ]
    },
    {
      "cell_type": "code",
      "source": [
        "# 2.1 Path to data folder:\n",
        "\n",
        "path = \"/gdrive/MyDrive/Colab_data_files/stock_price\"\n",
        "\n",
        "# 2.1.1 Transform to pathlib object:\n",
        "data_folder=pathlib.Path(path)"
      ],
      "metadata": {
        "id": "kgxvOjrzTXRm"
      },
      "execution_count": null,
      "outputs": []
    },
    {
      "cell_type": "markdown",
      "source": [
        "## Read train/test data"
      ],
      "metadata": {
        "id": "eM7UW3WdPcdz"
      }
    },
    {
      "cell_type": "code",
      "source": [
        "# 3.0\n",
        "train = pd.read_csv(data_folder / \"Google_Stock_Price_Train.csv\")\n",
        "test = pd.read_csv(data_folder / \"Google_Stock_Price_Test.csv\")"
      ],
      "metadata": {
        "id": "HEhMs9O8TdjD"
      },
      "execution_count": null,
      "outputs": []
    },
    {
      "cell_type": "code",
      "source": [
        "# 3.0.1\n",
        "train.head()\n",
        "print(\"\\n============\\n\")\n",
        "train.shape"
      ],
      "metadata": {
        "colab": {
          "base_uri": "https://localhost:8080/",
          "height": 359
        },
        "id": "I3Ec2kdZT8SA",
        "outputId": "3c8527f5-9ad2-4077-db2d-66c818c79edb"
      },
      "execution_count": null,
      "outputs": [
        {
          "output_type": "execute_result",
          "data": {
            "text/plain": [
              "       Date    Open    High     Low   Close      Volume\n",
              "0  1/3/2012  325.25  332.83  324.97  663.59   7,380,500\n",
              "1  1/4/2012  331.27  333.87  329.08  666.45   5,749,400\n",
              "2  1/5/2012  329.83  330.75  326.89  657.21   6,590,300\n",
              "3  1/6/2012  328.34  328.77  323.68  648.24   5,405,900\n",
              "4  1/9/2012  322.04  322.29  309.46  620.76  11,688,800"
            ],
            "text/html": [
              "\n",
              "  <div id=\"df-5c8d5421-95cc-4a95-8df5-5de819f86838\">\n",
              "    <div class=\"colab-df-container\">\n",
              "      <div>\n",
              "<style scoped>\n",
              "    .dataframe tbody tr th:only-of-type {\n",
              "        vertical-align: middle;\n",
              "    }\n",
              "\n",
              "    .dataframe tbody tr th {\n",
              "        vertical-align: top;\n",
              "    }\n",
              "\n",
              "    .dataframe thead th {\n",
              "        text-align: right;\n",
              "    }\n",
              "</style>\n",
              "<table border=\"1\" class=\"dataframe\">\n",
              "  <thead>\n",
              "    <tr style=\"text-align: right;\">\n",
              "      <th></th>\n",
              "      <th>Date</th>\n",
              "      <th>Open</th>\n",
              "      <th>High</th>\n",
              "      <th>Low</th>\n",
              "      <th>Close</th>\n",
              "      <th>Volume</th>\n",
              "    </tr>\n",
              "  </thead>\n",
              "  <tbody>\n",
              "    <tr>\n",
              "      <th>0</th>\n",
              "      <td>1/3/2012</td>\n",
              "      <td>325.25</td>\n",
              "      <td>332.83</td>\n",
              "      <td>324.97</td>\n",
              "      <td>663.59</td>\n",
              "      <td>7,380,500</td>\n",
              "    </tr>\n",
              "    <tr>\n",
              "      <th>1</th>\n",
              "      <td>1/4/2012</td>\n",
              "      <td>331.27</td>\n",
              "      <td>333.87</td>\n",
              "      <td>329.08</td>\n",
              "      <td>666.45</td>\n",
              "      <td>5,749,400</td>\n",
              "    </tr>\n",
              "    <tr>\n",
              "      <th>2</th>\n",
              "      <td>1/5/2012</td>\n",
              "      <td>329.83</td>\n",
              "      <td>330.75</td>\n",
              "      <td>326.89</td>\n",
              "      <td>657.21</td>\n",
              "      <td>6,590,300</td>\n",
              "    </tr>\n",
              "    <tr>\n",
              "      <th>3</th>\n",
              "      <td>1/6/2012</td>\n",
              "      <td>328.34</td>\n",
              "      <td>328.77</td>\n",
              "      <td>323.68</td>\n",
              "      <td>648.24</td>\n",
              "      <td>5,405,900</td>\n",
              "    </tr>\n",
              "    <tr>\n",
              "      <th>4</th>\n",
              "      <td>1/9/2012</td>\n",
              "      <td>322.04</td>\n",
              "      <td>322.29</td>\n",
              "      <td>309.46</td>\n",
              "      <td>620.76</td>\n",
              "      <td>11,688,800</td>\n",
              "    </tr>\n",
              "  </tbody>\n",
              "</table>\n",
              "</div>\n",
              "      <button class=\"colab-df-convert\" onclick=\"convertToInteractive('df-5c8d5421-95cc-4a95-8df5-5de819f86838')\"\n",
              "              title=\"Convert this dataframe to an interactive table.\"\n",
              "              style=\"display:none;\">\n",
              "        \n",
              "  <svg xmlns=\"http://www.w3.org/2000/svg\" height=\"24px\"viewBox=\"0 0 24 24\"\n",
              "       width=\"24px\">\n",
              "    <path d=\"M0 0h24v24H0V0z\" fill=\"none\"/>\n",
              "    <path d=\"M18.56 5.44l.94 2.06.94-2.06 2.06-.94-2.06-.94-.94-2.06-.94 2.06-2.06.94zm-11 1L8.5 8.5l.94-2.06 2.06-.94-2.06-.94L8.5 2.5l-.94 2.06-2.06.94zm10 10l.94 2.06.94-2.06 2.06-.94-2.06-.94-.94-2.06-.94 2.06-2.06.94z\"/><path d=\"M17.41 7.96l-1.37-1.37c-.4-.4-.92-.59-1.43-.59-.52 0-1.04.2-1.43.59L10.3 9.45l-7.72 7.72c-.78.78-.78 2.05 0 2.83L4 21.41c.39.39.9.59 1.41.59.51 0 1.02-.2 1.41-.59l7.78-7.78 2.81-2.81c.8-.78.8-2.07 0-2.86zM5.41 20L4 18.59l7.72-7.72 1.47 1.35L5.41 20z\"/>\n",
              "  </svg>\n",
              "      </button>\n",
              "      \n",
              "  <style>\n",
              "    .colab-df-container {\n",
              "      display:flex;\n",
              "      flex-wrap:wrap;\n",
              "      gap: 12px;\n",
              "    }\n",
              "\n",
              "    .colab-df-convert {\n",
              "      background-color: #E8F0FE;\n",
              "      border: none;\n",
              "      border-radius: 50%;\n",
              "      cursor: pointer;\n",
              "      display: none;\n",
              "      fill: #1967D2;\n",
              "      height: 32px;\n",
              "      padding: 0 0 0 0;\n",
              "      width: 32px;\n",
              "    }\n",
              "\n",
              "    .colab-df-convert:hover {\n",
              "      background-color: #E2EBFA;\n",
              "      box-shadow: 0px 1px 2px rgba(60, 64, 67, 0.3), 0px 1px 3px 1px rgba(60, 64, 67, 0.15);\n",
              "      fill: #174EA6;\n",
              "    }\n",
              "\n",
              "    [theme=dark] .colab-df-convert {\n",
              "      background-color: #3B4455;\n",
              "      fill: #D2E3FC;\n",
              "    }\n",
              "\n",
              "    [theme=dark] .colab-df-convert:hover {\n",
              "      background-color: #434B5C;\n",
              "      box-shadow: 0px 1px 3px 1px rgba(0, 0, 0, 0.15);\n",
              "      filter: drop-shadow(0px 1px 2px rgba(0, 0, 0, 0.3));\n",
              "      fill: #FFFFFF;\n",
              "    }\n",
              "  </style>\n",
              "\n",
              "      <script>\n",
              "        const buttonEl =\n",
              "          document.querySelector('#df-5c8d5421-95cc-4a95-8df5-5de819f86838 button.colab-df-convert');\n",
              "        buttonEl.style.display =\n",
              "          google.colab.kernel.accessAllowed ? 'block' : 'none';\n",
              "\n",
              "        async function convertToInteractive(key) {\n",
              "          const element = document.querySelector('#df-5c8d5421-95cc-4a95-8df5-5de819f86838');\n",
              "          const dataTable =\n",
              "            await google.colab.kernel.invokeFunction('convertToInteractive',\n",
              "                                                     [key], {});\n",
              "          if (!dataTable) return;\n",
              "\n",
              "          const docLinkHtml = 'Like what you see? Visit the ' +\n",
              "            '<a target=\"_blank\" href=https://colab.research.google.com/notebooks/data_table.ipynb>data table notebook</a>'\n",
              "            + ' to learn more about interactive tables.';\n",
              "          element.innerHTML = '';\n",
              "          dataTable['output_type'] = 'display_data';\n",
              "          await google.colab.output.renderOutput(dataTable, element);\n",
              "          const docLink = document.createElement('div');\n",
              "          docLink.innerHTML = docLinkHtml;\n",
              "          element.appendChild(docLink);\n",
              "        }\n",
              "      </script>\n",
              "    </div>\n",
              "  </div>\n",
              "  "
            ]
          },
          "metadata": {},
          "execution_count": 6
        },
        {
          "output_type": "stream",
          "name": "stdout",
          "text": [
            "\n",
            "============\n",
            "\n"
          ]
        },
        {
          "output_type": "execute_result",
          "data": {
            "text/plain": [
              "(1258, 6)"
            ]
          },
          "metadata": {},
          "execution_count": 6
        }
      ]
    },
    {
      "cell_type": "markdown",
      "source": [
        "## Process data"
      ],
      "metadata": {
        "id": "FT0eqosSPrr1"
      }
    },
    {
      "cell_type": "code",
      "source": [
        "# 4.0 We wil only use 'Open' column for prediction:\n",
        "\n",
        "tr = train.iloc[:,1:3]\n",
        "te = test.iloc[:,1:3]\n",
        "tr.head()\n",
        "print(\"\\n=============\\n\")\n",
        "tr.shape    # (1258, 2)\n",
        "print(\"\\n=============\\n\")\n",
        "te.shape     # (20, 2)"
      ],
      "metadata": {
        "colab": {
          "base_uri": "https://localhost:8080/",
          "height": 330
        },
        "id": "-m5VXb3pTq_b",
        "outputId": "840a263c-e5f6-4706-8ea2-9164aa0eeaa2"
      },
      "execution_count": null,
      "outputs": [
        {
          "output_type": "execute_result",
          "data": {
            "text/plain": [
              "     Open    High\n",
              "0  325.25  332.83\n",
              "1  331.27  333.87\n",
              "2  329.83  330.75\n",
              "3  328.34  328.77\n",
              "4  322.04  322.29"
            ],
            "text/html": [
              "\n",
              "  <div id=\"df-134c5cce-d86d-4744-92a4-b4d95ee09d39\">\n",
              "    <div class=\"colab-df-container\">\n",
              "      <div>\n",
              "<style scoped>\n",
              "    .dataframe tbody tr th:only-of-type {\n",
              "        vertical-align: middle;\n",
              "    }\n",
              "\n",
              "    .dataframe tbody tr th {\n",
              "        vertical-align: top;\n",
              "    }\n",
              "\n",
              "    .dataframe thead th {\n",
              "        text-align: right;\n",
              "    }\n",
              "</style>\n",
              "<table border=\"1\" class=\"dataframe\">\n",
              "  <thead>\n",
              "    <tr style=\"text-align: right;\">\n",
              "      <th></th>\n",
              "      <th>Open</th>\n",
              "      <th>High</th>\n",
              "    </tr>\n",
              "  </thead>\n",
              "  <tbody>\n",
              "    <tr>\n",
              "      <th>0</th>\n",
              "      <td>325.25</td>\n",
              "      <td>332.83</td>\n",
              "    </tr>\n",
              "    <tr>\n",
              "      <th>1</th>\n",
              "      <td>331.27</td>\n",
              "      <td>333.87</td>\n",
              "    </tr>\n",
              "    <tr>\n",
              "      <th>2</th>\n",
              "      <td>329.83</td>\n",
              "      <td>330.75</td>\n",
              "    </tr>\n",
              "    <tr>\n",
              "      <th>3</th>\n",
              "      <td>328.34</td>\n",
              "      <td>328.77</td>\n",
              "    </tr>\n",
              "    <tr>\n",
              "      <th>4</th>\n",
              "      <td>322.04</td>\n",
              "      <td>322.29</td>\n",
              "    </tr>\n",
              "  </tbody>\n",
              "</table>\n",
              "</div>\n",
              "      <button class=\"colab-df-convert\" onclick=\"convertToInteractive('df-134c5cce-d86d-4744-92a4-b4d95ee09d39')\"\n",
              "              title=\"Convert this dataframe to an interactive table.\"\n",
              "              style=\"display:none;\">\n",
              "        \n",
              "  <svg xmlns=\"http://www.w3.org/2000/svg\" height=\"24px\"viewBox=\"0 0 24 24\"\n",
              "       width=\"24px\">\n",
              "    <path d=\"M0 0h24v24H0V0z\" fill=\"none\"/>\n",
              "    <path d=\"M18.56 5.44l.94 2.06.94-2.06 2.06-.94-2.06-.94-.94-2.06-.94 2.06-2.06.94zm-11 1L8.5 8.5l.94-2.06 2.06-.94-2.06-.94L8.5 2.5l-.94 2.06-2.06.94zm10 10l.94 2.06.94-2.06 2.06-.94-2.06-.94-.94-2.06-.94 2.06-2.06.94z\"/><path d=\"M17.41 7.96l-1.37-1.37c-.4-.4-.92-.59-1.43-.59-.52 0-1.04.2-1.43.59L10.3 9.45l-7.72 7.72c-.78.78-.78 2.05 0 2.83L4 21.41c.39.39.9.59 1.41.59.51 0 1.02-.2 1.41-.59l7.78-7.78 2.81-2.81c.8-.78.8-2.07 0-2.86zM5.41 20L4 18.59l7.72-7.72 1.47 1.35L5.41 20z\"/>\n",
              "  </svg>\n",
              "      </button>\n",
              "      \n",
              "  <style>\n",
              "    .colab-df-container {\n",
              "      display:flex;\n",
              "      flex-wrap:wrap;\n",
              "      gap: 12px;\n",
              "    }\n",
              "\n",
              "    .colab-df-convert {\n",
              "      background-color: #E8F0FE;\n",
              "      border: none;\n",
              "      border-radius: 50%;\n",
              "      cursor: pointer;\n",
              "      display: none;\n",
              "      fill: #1967D2;\n",
              "      height: 32px;\n",
              "      padding: 0 0 0 0;\n",
              "      width: 32px;\n",
              "    }\n",
              "\n",
              "    .colab-df-convert:hover {\n",
              "      background-color: #E2EBFA;\n",
              "      box-shadow: 0px 1px 2px rgba(60, 64, 67, 0.3), 0px 1px 3px 1px rgba(60, 64, 67, 0.15);\n",
              "      fill: #174EA6;\n",
              "    }\n",
              "\n",
              "    [theme=dark] .colab-df-convert {\n",
              "      background-color: #3B4455;\n",
              "      fill: #D2E3FC;\n",
              "    }\n",
              "\n",
              "    [theme=dark] .colab-df-convert:hover {\n",
              "      background-color: #434B5C;\n",
              "      box-shadow: 0px 1px 3px 1px rgba(0, 0, 0, 0.15);\n",
              "      filter: drop-shadow(0px 1px 2px rgba(0, 0, 0, 0.3));\n",
              "      fill: #FFFFFF;\n",
              "    }\n",
              "  </style>\n",
              "\n",
              "      <script>\n",
              "        const buttonEl =\n",
              "          document.querySelector('#df-134c5cce-d86d-4744-92a4-b4d95ee09d39 button.colab-df-convert');\n",
              "        buttonEl.style.display =\n",
              "          google.colab.kernel.accessAllowed ? 'block' : 'none';\n",
              "\n",
              "        async function convertToInteractive(key) {\n",
              "          const element = document.querySelector('#df-134c5cce-d86d-4744-92a4-b4d95ee09d39');\n",
              "          const dataTable =\n",
              "            await google.colab.kernel.invokeFunction('convertToInteractive',\n",
              "                                                     [key], {});\n",
              "          if (!dataTable) return;\n",
              "\n",
              "          const docLinkHtml = 'Like what you see? Visit the ' +\n",
              "            '<a target=\"_blank\" href=https://colab.research.google.com/notebooks/data_table.ipynb>data table notebook</a>'\n",
              "            + ' to learn more about interactive tables.';\n",
              "          element.innerHTML = '';\n",
              "          dataTable['output_type'] = 'display_data';\n",
              "          await google.colab.output.renderOutput(dataTable, element);\n",
              "          const docLink = document.createElement('div');\n",
              "          docLink.innerHTML = docLinkHtml;\n",
              "          element.appendChild(docLink);\n",
              "        }\n",
              "      </script>\n",
              "    </div>\n",
              "  </div>\n",
              "  "
            ]
          },
          "metadata": {},
          "execution_count": 7
        },
        {
          "output_type": "stream",
          "name": "stdout",
          "text": [
            "\n",
            "=============\n",
            "\n"
          ]
        },
        {
          "output_type": "execute_result",
          "data": {
            "text/plain": [
              "(1258, 2)"
            ]
          },
          "metadata": {},
          "execution_count": 7
        },
        {
          "output_type": "stream",
          "name": "stdout",
          "text": [
            "\n",
            "=============\n",
            "\n"
          ]
        },
        {
          "output_type": "execute_result",
          "data": {
            "text/plain": [
              "(20, 2)"
            ]
          },
          "metadata": {},
          "execution_count": 7
        }
      ]
    },
    {
      "cell_type": "code",
      "source": [
        "# 4.1 Normalize data:\n",
        "\n",
        "mm = MinMaxScaler(feature_range = (0,1))\n",
        "\n",
        "# 4.1.0 Transformed output is numpy array\"\n",
        "tr = mm.fit_transform(tr)\n",
        "te = mm.transform(te)\n"
      ],
      "metadata": {
        "id": "XSOj6r7RUHp7"
      },
      "execution_count": null,
      "outputs": []
    },
    {
      "cell_type": "code",
      "source": [
        "tr[:2, :]\n",
        "print(\"\\n============\\n\")\n",
        "te[:2,:]"
      ],
      "metadata": {
        "id": "VUkxz-j2RHpN",
        "outputId": "2a0502fc-7e36-490c-a178-2ad3140f69a2",
        "colab": {
          "base_uri": "https://localhost:8080/"
        }
      },
      "execution_count": null,
      "outputs": [
        {
          "output_type": "execute_result",
          "data": {
            "text/plain": [
              "array([[0.08581368, 0.09640129],\n",
              "       [0.09701243, 0.09834351]])"
            ]
          },
          "metadata": {},
          "execution_count": 9
        },
        {
          "output_type": "stream",
          "name": "stdout",
          "text": [
            "\n",
            "============\n",
            "\n"
          ]
        },
        {
          "output_type": "execute_result",
          "data": {
            "text/plain": [
              "array([[0.92955205, 0.94948363],\n",
              "       [0.94731751, 0.95267709]])"
            ]
          },
          "metadata": {},
          "execution_count": 9
        }
      ]
    },
    {
      "cell_type": "code",
      "source": [
        "tr[0,0]"
      ],
      "metadata": {
        "id": "CY0-qhuERjY1",
        "outputId": "be332048-128c-4c69-cbcb-6e2bee60f642",
        "colab": {
          "base_uri": "https://localhost:8080/"
        }
      },
      "execution_count": null,
      "outputs": [
        {
          "output_type": "execute_result",
          "data": {
            "text/plain": [
              "0.08581367661284323"
            ]
          },
          "metadata": {},
          "execution_count": 10
        }
      ]
    },
    {
      "cell_type": "markdown",
      "source": [
        "## Organize and reshape data\n",
        "Suppose our data is:<br>\n",
        "23,34,56,78,93,12,34,67,23\n",
        "Let timesteps be 3: <br>\n",
        "Then, we want to have the follwing pieces of train--target:\n",
        ">`train--target`<br>\n",
        ">`23,34,56--78`<br>\n",
        "`34,56,78--93`<br>\n",
        "`56,78,93--12`<br>\n",
        "`78,93,12--34`<br>\n",
        "`93,12,34--67`<br>\n",
        "`12,34,67--23`<br>"
      ],
      "metadata": {
        "id": "AJBFYcgNQ04O"
      }
    },
    {
      "cell_type": "markdown",
      "source": [
        "### Experimental code"
      ],
      "metadata": {
        "id": "dHmsWC3cT10U"
      }
    },
    {
      "cell_type": "code",
      "source": [
        "# 5.0 Constants\n",
        "timesteps = 3\n",
        "data = np.array([23,34,56,78,93,12,34,67,23])"
      ],
      "metadata": {
        "id": "MiuAeez3SoJG"
      },
      "execution_count": null,
      "outputs": []
    },
    {
      "cell_type": "code",
      "source": [
        "# 5.1 Organize: \n",
        "xtr = []\n",
        "ytr = []\n",
        "for i in range(timesteps,len(data)):\n",
        "  xtr.append(data[i-timesteps:i])\n",
        "  ytr.append(data[i])"
      ],
      "metadata": {
        "id": "XLEHkLM2SxcE"
      },
      "execution_count": null,
      "outputs": []
    },
    {
      "cell_type": "code",
      "source": [
        "# 5.2\n",
        "xtr    # A list of arrays\n",
        "print(\"\\n==========\\n\")\n",
        "ytr"
      ],
      "metadata": {
        "colab": {
          "base_uri": "https://localhost:8080/"
        },
        "id": "ZHDgEEevTBWb",
        "outputId": "06d3459e-e489-4a2f-95e3-ebf8c59afcd3"
      },
      "execution_count": null,
      "outputs": [
        {
          "output_type": "execute_result",
          "data": {
            "text/plain": [
              "[array([23, 34, 56]),\n",
              " array([34, 56, 78]),\n",
              " array([56, 78, 93]),\n",
              " array([78, 93, 12]),\n",
              " array([93, 12, 34]),\n",
              " array([12, 34, 67])]"
            ]
          },
          "metadata": {},
          "execution_count": 11
        },
        {
          "output_type": "stream",
          "name": "stdout",
          "text": [
            "\n",
            "==========\n",
            "\n"
          ]
        },
        {
          "output_type": "execute_result",
          "data": {
            "text/plain": [
              "[78, 93, 12, 34, 67, 23]"
            ]
          },
          "metadata": {},
          "execution_count": 11
        }
      ]
    },
    {
      "cell_type": "markdown",
      "source": [
        "### Real code\n"
      ],
      "metadata": {
        "id": "335CwQZ9VLjM"
      }
    },
    {
      "cell_type": "code",
      "source": [
        "# 6.0\n",
        "timesteps = 60\n",
        "X_train = []\n",
        "y_train = []\n",
        "\n",
        "for i in range(timesteps,len(tr)):\n",
        "  X_train.append(tr[i-60:i,:])\n",
        "  y_train.append(tr[i,0])"
      ],
      "metadata": {
        "id": "-Z4ockeZVZSP"
      },
      "execution_count": null,
      "outputs": []
    },
    {
      "cell_type": "code",
      "source": [
        "# 6.1 Transform to arrays\n",
        "X_train = np.array(X_train)\n",
        "y_train = np.array(y_train)\n"
      ],
      "metadata": {
        "id": "pba_EyRlWFQm"
      },
      "execution_count": null,
      "outputs": []
    },
    {
      "cell_type": "code",
      "source": [
        "# 6.2 X_train is an array of arrays:\n",
        "type(X_train)\n",
        "print(\"\\n========\\n\")\n",
        "X_train.shape\n",
        "print(\"\\n========\\n\")\n",
        "type(X_train[0][:])\n",
        "print(\"\\n========\\n\")\n",
        "X_train[0][:].shape      # (1198, 60) there are 1198 arrays, each of size 60"
      ],
      "metadata": {
        "colab": {
          "base_uri": "https://localhost:8080/"
        },
        "id": "yQe3_aoJYkMk",
        "outputId": "ae622460-7d00-499e-8a71-20af85c9adb7"
      },
      "execution_count": null,
      "outputs": [
        {
          "output_type": "execute_result",
          "data": {
            "text/plain": [
              "numpy.ndarray"
            ]
          },
          "metadata": {},
          "execution_count": 13
        },
        {
          "output_type": "stream",
          "name": "stdout",
          "text": [
            "\n",
            "========\n",
            "\n"
          ]
        },
        {
          "output_type": "execute_result",
          "data": {
            "text/plain": [
              "(1198, 60, 2)"
            ]
          },
          "metadata": {},
          "execution_count": 13
        },
        {
          "output_type": "stream",
          "name": "stdout",
          "text": [
            "\n",
            "========\n",
            "\n"
          ]
        },
        {
          "output_type": "execute_result",
          "data": {
            "text/plain": [
              "numpy.ndarray"
            ]
          },
          "metadata": {},
          "execution_count": 13
        },
        {
          "output_type": "stream",
          "name": "stdout",
          "text": [
            "\n",
            "========\n",
            "\n"
          ]
        },
        {
          "output_type": "execute_result",
          "data": {
            "text/plain": [
              "(60, 2)"
            ]
          },
          "metadata": {},
          "execution_count": 13
        }
      ]
    },
    {
      "cell_type": "code",
      "source": [
        "# 6.3 Reshape to : (samples,timesteps,noOfFeatures):\n",
        "\n",
        "X_train= np.reshape(X_train, (X_train.shape[0],X_train.shape[1],2))\n",
        "X_train.shape    # (1198, 60, 2)"
      ],
      "metadata": {
        "id": "-YjZzkwoWCAa",
        "colab": {
          "base_uri": "https://localhost:8080/"
        },
        "outputId": "e4a05be7-ab96-468a-ae5f-a15b943a9be8"
      },
      "execution_count": null,
      "outputs": [
        {
          "output_type": "execute_result",
          "data": {
            "text/plain": [
              "(1198, 60, 1)"
            ]
          },
          "metadata": {},
          "execution_count": 15
        }
      ]
    },
    {
      "cell_type": "markdown",
      "source": [
        "## Model"
      ],
      "metadata": {
        "id": "Us6CeB1MZWYU"
      }
    },
    {
      "cell_type": "code",
      "source": [
        "# 7.0\n",
        "model = tf.keras.Sequential()"
      ],
      "metadata": {
        "id": "1QxIBiuvXFZq"
      },
      "execution_count": null,
      "outputs": []
    },
    {
      "cell_type": "code",
      "source": [
        "# 7.1\n",
        "model.add(tf.keras.layers.Input(shape = (X_train.shape[1], 2)))"
      ],
      "metadata": {
        "id": "fZCD-5wlXXym"
      },
      "execution_count": null,
      "outputs": []
    },
    {
      "cell_type": "code",
      "source": [
        "# 7.2\n",
        "model.add(tf.keras.layers.LSTM(\n",
        "                                units = 50,\n",
        "                                return_sequences = True\n",
        "                               )\n",
        "         )"
      ],
      "metadata": {
        "id": "gJHCahLmXHxL"
      },
      "execution_count": null,
      "outputs": []
    },
    {
      "cell_type": "code",
      "source": [
        "# 7.3\n",
        "model.add(tf.keras.layers.Dropout(0.2))"
      ],
      "metadata": {
        "id": "zNCxQbelXhIf"
      },
      "execution_count": null,
      "outputs": []
    },
    {
      "cell_type": "code",
      "source": [
        "# 7.4\n",
        "model.add(tf.keras.layers.LSTM(\n",
        "                               units = 50,\n",
        "                               return_sequences = True)\n",
        "                              )"
      ],
      "metadata": {
        "id": "3lCoHEABX3YP"
      },
      "execution_count": null,
      "outputs": []
    },
    {
      "cell_type": "code",
      "source": [
        "# 7.5\n",
        "model.add(tf.keras.layers.Dropout(0.2))"
      ],
      "metadata": {
        "id": "qSADUoE4X7tr"
      },
      "execution_count": null,
      "outputs": []
    },
    {
      "cell_type": "code",
      "source": [
        "# 7.6\n",
        "model.add(tf.keras.layers.LSTM(units = 50))"
      ],
      "metadata": {
        "id": "GtEzr1ILX-ly"
      },
      "execution_count": null,
      "outputs": []
    },
    {
      "cell_type": "code",
      "source": [
        "# 7.7\n",
        "model.add(tf.keras.layers.Dropout(0.1))"
      ],
      "metadata": {
        "id": "s9GZCiIQYB7T"
      },
      "execution_count": null,
      "outputs": []
    },
    {
      "cell_type": "code",
      "source": [
        "# 7.8\n",
        "model.add(tf.keras.layers.Dense(1))"
      ],
      "metadata": {
        "id": "Y6oVPxkHYKB1"
      },
      "execution_count": null,
      "outputs": []
    },
    {
      "cell_type": "code",
      "source": [
        "# 7.9\n",
        "model.summary()"
      ],
      "metadata": {
        "colab": {
          "base_uri": "https://localhost:8080/"
        },
        "id": "Qwl3rSvxqnF2",
        "outputId": "b1b0cb75-8973-4d1e-ddee-ddf7c8093ecd"
      },
      "execution_count": null,
      "outputs": [
        {
          "output_type": "stream",
          "name": "stdout",
          "text": [
            "Model: \"sequential\"\n",
            "_________________________________________________________________\n",
            " Layer (type)                Output Shape              Param #   \n",
            "=================================================================\n",
            " lstm (LSTM)                 (None, 60, 50)            10600     \n",
            "                                                                 \n",
            " dropout (Dropout)           (None, 60, 50)            0         \n",
            "                                                                 \n",
            " lstm_1 (LSTM)               (None, 60, 50)            20200     \n",
            "                                                                 \n",
            " dropout_1 (Dropout)         (None, 60, 50)            0         \n",
            "                                                                 \n",
            " lstm_2 (LSTM)               (None, 50)                20200     \n",
            "                                                                 \n",
            " dropout_2 (Dropout)         (None, 50)                0         \n",
            "                                                                 \n",
            " dense (Dense)               (None, 1)                 51        \n",
            "                                                                 \n",
            "=================================================================\n",
            "Total params: 51,051\n",
            "Trainable params: 51,051\n",
            "Non-trainable params: 0\n",
            "_________________________________________________________________\n"
          ]
        }
      ]
    },
    {
      "cell_type": "markdown",
      "source": [
        "## Model comilation and fitting"
      ],
      "metadata": {
        "id": "9LK0EJJasTUw"
      }
    },
    {
      "cell_type": "code",
      "source": [
        "# 8.0 Compile:\n",
        "model.compile(optimizer = \"adam\", loss = \"mse\")"
      ],
      "metadata": {
        "id": "p5wOnEFXYPwv"
      },
      "execution_count": null,
      "outputs": []
    },
    {
      "cell_type": "code",
      "source": [
        "# 9.0\n",
        "model.fit(\n",
        "          X_train,y_train,\n",
        "          batch_size = 32,\n",
        "          epochs = 100\n",
        "          )"
      ],
      "metadata": {
        "colab": {
          "base_uri": "https://localhost:8080/"
        },
        "id": "7A65QexRYXJz",
        "outputId": "186b32b3-06e0-4856-d153-21ac5517c050"
      },
      "execution_count": null,
      "outputs": [
        {
          "output_type": "stream",
          "name": "stdout",
          "text": [
            "Epoch 1/100\n",
            "38/38 [==============================] - 10s 93ms/step - loss: 0.0447\n",
            "Epoch 2/100\n",
            "38/38 [==============================] - 5s 143ms/step - loss: 0.0042\n",
            "Epoch 3/100\n",
            "38/38 [==============================] - 4s 93ms/step - loss: 0.0035\n",
            "Epoch 4/100\n",
            "38/38 [==============================] - 3s 91ms/step - loss: 0.0033\n",
            "Epoch 5/100\n",
            "38/38 [==============================] - 5s 126ms/step - loss: 0.0034\n",
            "Epoch 6/100\n",
            "38/38 [==============================] - 6s 163ms/step - loss: 0.0031\n",
            "Epoch 7/100\n",
            "38/38 [==============================] - 5s 132ms/step - loss: 0.0029\n",
            "Epoch 8/100\n",
            "38/38 [==============================] - 4s 101ms/step - loss: 0.0029\n",
            "Epoch 9/100\n",
            "38/38 [==============================] - 5s 137ms/step - loss: 0.0026\n",
            "Epoch 10/100\n",
            "38/38 [==============================] - 5s 140ms/step - loss: 0.0027\n",
            "Epoch 11/100\n",
            "38/38 [==============================] - 4s 93ms/step - loss: 0.0026\n",
            "Epoch 12/100\n",
            "38/38 [==============================] - 6s 151ms/step - loss: 0.0025\n",
            "Epoch 13/100\n",
            "38/38 [==============================] - 4s 101ms/step - loss: 0.0025\n",
            "Epoch 14/100\n",
            "38/38 [==============================] - 7s 181ms/step - loss: 0.0027\n",
            "Epoch 15/100\n",
            "38/38 [==============================] - 8s 213ms/step - loss: 0.0025\n",
            "Epoch 16/100\n",
            "38/38 [==============================] - 4s 94ms/step - loss: 0.0024\n",
            "Epoch 17/100\n",
            "38/38 [==============================] - 4s 118ms/step - loss: 0.0025\n",
            "Epoch 18/100\n",
            "38/38 [==============================] - 4s 115ms/step - loss: 0.0022\n",
            "Epoch 19/100\n",
            "38/38 [==============================] - 4s 111ms/step - loss: 0.0024\n",
            "Epoch 20/100\n",
            "38/38 [==============================] - 4s 92ms/step - loss: 0.0024\n",
            "Epoch 21/100\n",
            "38/38 [==============================] - 5s 142ms/step - loss: 0.0022\n",
            "Epoch 22/100\n",
            "38/38 [==============================] - 4s 92ms/step - loss: 0.0021\n",
            "Epoch 23/100\n",
            "38/38 [==============================] - 3s 91ms/step - loss: 0.0021\n",
            "Epoch 24/100\n",
            "38/38 [==============================] - 4s 109ms/step - loss: 0.0022\n",
            "Epoch 25/100\n",
            "38/38 [==============================] - 5s 126ms/step - loss: 0.0024\n",
            "Epoch 26/100\n",
            "38/38 [==============================] - 4s 92ms/step - loss: 0.0024\n",
            "Epoch 27/100\n",
            "38/38 [==============================] - 3s 92ms/step - loss: 0.0020\n",
            "Epoch 28/100\n",
            "38/38 [==============================] - 5s 132ms/step - loss: 0.0019\n",
            "Epoch 29/100\n",
            "38/38 [==============================] - 5s 128ms/step - loss: 0.0020\n",
            "Epoch 30/100\n",
            "38/38 [==============================] - 4s 93ms/step - loss: 0.0021\n",
            "Epoch 31/100\n",
            "38/38 [==============================] - 4s 110ms/step - loss: 0.0023\n",
            "Epoch 32/100\n",
            "38/38 [==============================] - 5s 123ms/step - loss: 0.0017\n",
            "Epoch 33/100\n",
            "38/38 [==============================] - 4s 92ms/step - loss: 0.0019\n",
            "Epoch 34/100\n",
            "38/38 [==============================] - 4s 93ms/step - loss: 0.0018\n",
            "Epoch 35/100\n",
            "38/38 [==============================] - 5s 132ms/step - loss: 0.0018\n",
            "Epoch 36/100\n",
            "38/38 [==============================] - 4s 98ms/step - loss: 0.0020\n",
            "Epoch 37/100\n",
            "38/38 [==============================] - 4s 93ms/step - loss: 0.0017\n",
            "Epoch 38/100\n",
            "38/38 [==============================] - 3s 91ms/step - loss: 0.0016\n",
            "Epoch 39/100\n",
            "38/38 [==============================] - 5s 143ms/step - loss: 0.0017\n",
            "Epoch 40/100\n",
            "38/38 [==============================] - 4s 106ms/step - loss: 0.0017\n",
            "Epoch 41/100\n",
            "38/38 [==============================] - 3s 91ms/step - loss: 0.0017\n",
            "Epoch 42/100\n",
            "38/38 [==============================] - 5s 121ms/step - loss: 0.0018\n",
            "Epoch 43/100\n",
            "38/38 [==============================] - 4s 111ms/step - loss: 0.0016\n",
            "Epoch 44/100\n",
            "38/38 [==============================] - 4s 108ms/step - loss: 0.0017\n",
            "Epoch 45/100\n",
            "38/38 [==============================] - 4s 92ms/step - loss: 0.0019\n",
            "Epoch 46/100\n",
            "38/38 [==============================] - 5s 141ms/step - loss: 0.0019\n",
            "Epoch 47/100\n",
            "38/38 [==============================] - 3s 91ms/step - loss: 0.0016\n",
            "Epoch 48/100\n",
            "38/38 [==============================] - 4s 93ms/step - loss: 0.0018\n",
            "Epoch 49/100\n",
            "38/38 [==============================] - 4s 116ms/step - loss: 0.0016\n",
            "Epoch 50/100\n",
            "38/38 [==============================] - 4s 117ms/step - loss: 0.0014\n",
            "Epoch 51/100\n",
            "38/38 [==============================] - 3s 92ms/step - loss: 0.0017\n",
            "Epoch 52/100\n",
            "38/38 [==============================] - 3s 91ms/step - loss: 0.0017\n",
            "Epoch 53/100\n",
            "38/38 [==============================] - 5s 134ms/step - loss: 0.0016\n",
            "Epoch 54/100\n",
            "38/38 [==============================] - 4s 100ms/step - loss: 0.0018\n",
            "Epoch 55/100\n",
            "38/38 [==============================] - 4s 94ms/step - loss: 0.0016\n",
            "Epoch 56/100\n",
            "38/38 [==============================] - 4s 96ms/step - loss: 0.0015\n",
            "Epoch 57/100\n",
            "38/38 [==============================] - 5s 137ms/step - loss: 0.0015\n",
            "Epoch 58/100\n",
            "38/38 [==============================] - 4s 93ms/step - loss: 0.0013\n",
            "Epoch 59/100\n",
            "38/38 [==============================] - 4s 93ms/step - loss: 0.0013\n",
            "Epoch 60/100\n",
            "38/38 [==============================] - 6s 168ms/step - loss: 0.0014\n",
            "Epoch 61/100\n",
            "38/38 [==============================] - 7s 186ms/step - loss: 0.0013\n",
            "Epoch 62/100\n",
            "38/38 [==============================] - 9s 238ms/step - loss: 0.0016\n",
            "Epoch 63/100\n",
            "38/38 [==============================] - 4s 94ms/step - loss: 0.0013\n",
            "Epoch 64/100\n",
            "38/38 [==============================] - 5s 146ms/step - loss: 0.0015\n",
            "Epoch 65/100\n",
            "38/38 [==============================] - 5s 144ms/step - loss: 0.0014\n",
            "Epoch 66/100\n",
            "38/38 [==============================] - 4s 95ms/step - loss: 0.0015\n",
            "Epoch 67/100\n",
            "38/38 [==============================] - 4s 117ms/step - loss: 0.0013\n",
            "Epoch 68/100\n",
            "38/38 [==============================] - 5s 123ms/step - loss: 0.0014\n",
            "Epoch 69/100\n",
            "38/38 [==============================] - 4s 111ms/step - loss: 0.0013\n",
            "Epoch 70/100\n",
            "38/38 [==============================] - 4s 93ms/step - loss: 0.0012\n",
            "Epoch 71/100\n",
            "38/38 [==============================] - 4s 94ms/step - loss: 0.0012\n",
            "Epoch 72/100\n",
            "38/38 [==============================] - 5s 143ms/step - loss: 0.0012\n",
            "Epoch 73/100\n",
            "38/38 [==============================] - 3s 92ms/step - loss: 0.0012\n",
            "Epoch 74/100\n",
            "38/38 [==============================] - 3s 92ms/step - loss: 0.0013\n",
            "Epoch 75/100\n",
            "38/38 [==============================] - 8s 223ms/step - loss: 0.0012\n",
            "Epoch 76/100\n",
            "38/38 [==============================] - 6s 150ms/step - loss: 0.0012\n",
            "Epoch 77/100\n",
            "38/38 [==============================] - 4s 108ms/step - loss: 0.0013\n",
            "Epoch 78/100\n",
            "38/38 [==============================] - 7s 187ms/step - loss: 0.0012\n",
            "Epoch 79/100\n",
            "38/38 [==============================] - 6s 161ms/step - loss: 0.0013\n",
            "Epoch 80/100\n",
            "38/38 [==============================] - 9s 236ms/step - loss: 0.0012\n",
            "Epoch 81/100\n",
            "38/38 [==============================] - 5s 128ms/step - loss: 0.0012\n",
            "Epoch 82/100\n",
            "38/38 [==============================] - 5s 119ms/step - loss: 0.0011\n",
            "Epoch 83/100\n",
            "38/38 [==============================] - 5s 125ms/step - loss: 0.0012\n",
            "Epoch 84/100\n",
            "38/38 [==============================] - 3s 91ms/step - loss: 0.0013\n",
            "Epoch 85/100\n",
            "38/38 [==============================] - 4s 97ms/step - loss: 0.0012\n",
            "Epoch 86/100\n",
            "38/38 [==============================] - 6s 148ms/step - loss: 0.0011\n",
            "Epoch 87/100\n",
            "38/38 [==============================] - 4s 104ms/step - loss: 0.0013\n",
            "Epoch 88/100\n",
            "38/38 [==============================] - 4s 103ms/step - loss: 0.0013\n",
            "Epoch 89/100\n",
            "38/38 [==============================] - 5s 125ms/step - loss: 0.0013\n",
            "Epoch 90/100\n",
            "38/38 [==============================] - 5s 127ms/step - loss: 0.0011\n",
            "Epoch 91/100\n",
            "38/38 [==============================] - 4s 103ms/step - loss: 0.0011\n",
            "Epoch 92/100\n",
            "38/38 [==============================] - 4s 106ms/step - loss: 0.0011\n",
            "Epoch 93/100\n",
            "38/38 [==============================] - 6s 148ms/step - loss: 0.0010\n",
            "Epoch 94/100\n",
            "38/38 [==============================] - 4s 103ms/step - loss: 0.0010\n",
            "Epoch 95/100\n",
            "38/38 [==============================] - 4s 94ms/step - loss: 0.0012\n",
            "Epoch 96/100\n",
            "38/38 [==============================] - 5s 132ms/step - loss: 0.0010\n",
            "Epoch 97/100\n",
            "38/38 [==============================] - 4s 105ms/step - loss: 9.8513e-04\n",
            "Epoch 98/100\n",
            "38/38 [==============================] - 4s 94ms/step - loss: 9.8397e-04\n",
            "Epoch 99/100\n",
            "38/38 [==============================] - 4s 96ms/step - loss: 0.0010\n",
            "Epoch 100/100\n",
            "38/38 [==============================] - 5s 143ms/step - loss: 0.0011\n"
          ]
        },
        {
          "output_type": "execute_result",
          "data": {
            "text/plain": [
              "<keras.callbacks.History at 0x7f1a7a0f44f0>"
            ]
          },
          "metadata": {},
          "execution_count": 25
        }
      ]
    },
    {
      "cell_type": "markdown",
      "source": [
        "## MAke predictions"
      ],
      "metadata": {
        "id": "K1hwYslhq1i2"
      }
    },
    {
      "cell_type": "code",
      "source": [
        "# 10.0\n",
        "te.shape   # (20, 2)\n",
        "tr.shape  # (1258, 2)"
      ],
      "metadata": {
        "colab": {
          "base_uri": "https://localhost:8080/"
        },
        "id": "43VwNvrp6_jx",
        "outputId": "5e23b24e-f3cd-4526-bba0-302589ff3a53"
      },
      "execution_count": null,
      "outputs": [
        {
          "output_type": "execute_result",
          "data": {
            "text/plain": [
              "(20, 2)"
            ]
          },
          "metadata": {},
          "execution_count": 28
        },
        {
          "output_type": "execute_result",
          "data": {
            "text/plain": [
              "(1258, 2)"
            ]
          },
          "metadata": {},
          "execution_count": 28
        }
      ]
    },
    {
      "cell_type": "code",
      "source": [
        "# 10.1 Combined data:\n",
        "combined_df=pd.concat([train_data['Open'],test_data['Open']],axis = 0)\n",
        "combined_df.shape    # (1278,)"
      ],
      "metadata": {
        "colab": {
          "base_uri": "https://localhost:8080/"
        },
        "id": "sdUBqkGm626-",
        "outputId": "21b06038-0b2a-4f18-9a71-a67bb6dc83f4"
      },
      "execution_count": null,
      "outputs": [
        {
          "output_type": "execute_result",
          "data": {
            "text/plain": [
              "(1278,)"
            ]
          },
          "metadata": {},
          "execution_count": 29
        }
      ]
    },
    {
      "cell_type": "code",
      "source": [
        "combined_df = np.vstack([tr, te])\n",
        "combined_df.shape"
      ],
      "metadata": {
        "id": "v12v6DAtV03F",
        "outputId": "619c329e-8bca-4275-b228-248576be4fab",
        "colab": {
          "base_uri": "https://localhost:8080/"
        }
      },
      "execution_count": null,
      "outputs": [
        {
          "output_type": "execute_result",
          "data": {
            "text/plain": [
              "(1278, 2)"
            ]
          },
          "metadata": {},
          "execution_count": 30
        }
      ]
    },
    {
      "cell_type": "code",
      "source": [
        "# 10.2 Data for test predictions:\n",
        "inputs = combined_df[len(combined_df) - len(te) - 60:]\n",
        "inputs.shape   # (80,2)"
      ],
      "metadata": {
        "colab": {
          "base_uri": "https://localhost:8080/"
        },
        "id": "tpaStpeh7fkR",
        "outputId": "baaf10c7-e962-4133-e577-a349885723ea"
      },
      "execution_count": null,
      "outputs": [
        {
          "output_type": "execute_result",
          "data": {
            "text/plain": [
              "(80, 2)"
            ]
          },
          "metadata": {},
          "execution_count": 31
        }
      ]
    },
    {
      "cell_type": "code",
      "source": [
        "# 10.3\n",
        "inputs = inputs.reshape(-1,1)\n",
        "inputs.shape   # (80, 1)"
      ],
      "metadata": {
        "colab": {
          "base_uri": "https://localhost:8080/"
        },
        "id": "fT08QyAq7x6h",
        "outputId": "858f9416-94b5-4feb-f6ac-88ec3271177c"
      },
      "execution_count": null,
      "outputs": [
        {
          "output_type": "execute_result",
          "data": {
            "text/plain": [
              "(80, 1)"
            ]
          },
          "metadata": {},
          "execution_count": 31
        }
      ]
    },
    {
      "cell_type": "code",
      "source": [
        "# 11.0 Transform inputs:\n",
        "\n",
        "inputs = mm.transform(inputs)\n"
      ],
      "metadata": {
        "colab": {
          "base_uri": "https://localhost:8080/"
        },
        "id": "9XmqoXNV77yi",
        "outputId": "955230b6-d91f-4edc-bc18-9e4ad50fcb9d"
      },
      "execution_count": null,
      "outputs": [
        {
          "output_type": "stream",
          "name": "stderr",
          "text": [
            "/usr/local/lib/python3.8/dist-packages/sklearn/base.py:450: UserWarning: X does not have valid feature names, but MinMaxScaler was fitted with feature names\n",
            "  warnings.warn(\n"
          ]
        }
      ]
    },
    {
      "cell_type": "code",
      "source": [
        "# 11.1 PRepare from inputs data:\n",
        "X_test = []\n",
        "for i in range(60,80):\n",
        "    X_test.append(inputs[i-60:i,:])\n"
      ],
      "metadata": {
        "id": "ODcolOmza33J"
      },
      "execution_count": null,
      "outputs": []
    },
    {
      "cell_type": "code",
      "source": [
        "len(X_test)    # 20\n",
        "print(\"\\n===========\\n\")\n",
        "X_test[0].shape\n",
        "print(\"\\n===========\\n\")\n",
        "X_test = np.array(X_test)\n",
        "X_test.shape   # (20, 60)"
      ],
      "metadata": {
        "id": "B0uqcENfW7sI",
        "outputId": "8b4f7f6b-3080-46ee-8773-157891c7e4a8",
        "colab": {
          "base_uri": "https://localhost:8080/"
        }
      },
      "execution_count": null,
      "outputs": [
        {
          "output_type": "execute_result",
          "data": {
            "text/plain": [
              "20"
            ]
          },
          "metadata": {},
          "execution_count": 36
        },
        {
          "output_type": "stream",
          "name": "stdout",
          "text": [
            "\n",
            "===========\n",
            "\n"
          ]
        },
        {
          "output_type": "execute_result",
          "data": {
            "text/plain": [
              "(60, 2)"
            ]
          },
          "metadata": {},
          "execution_count": 36
        },
        {
          "output_type": "stream",
          "name": "stdout",
          "text": [
            "\n",
            "===========\n",
            "\n"
          ]
        },
        {
          "output_type": "execute_result",
          "data": {
            "text/plain": [
              "(20, 60, 2)"
            ]
          },
          "metadata": {},
          "execution_count": 36
        }
      ]
    },
    {
      "cell_type": "code",
      "source": [
        "# 11.2 Reshape X_test:\n",
        "\n",
        "X_test = np.reshape(X_test, (X_test.shape[0], X_test.shape[1],1))\n",
        "X_test.shape"
      ],
      "metadata": {
        "colab": {
          "base_uri": "https://localhost:8080/"
        },
        "id": "tSy2qxTK8Wms",
        "outputId": "362b7311-b5fe-4837-fc39-593088912cd7"
      },
      "execution_count": null,
      "outputs": [
        {
          "output_type": "execute_result",
          "data": {
            "text/plain": [
              "(20, 60, 1)"
            ]
          },
          "metadata": {},
          "execution_count": 34
        }
      ]
    },
    {
      "cell_type": "code",
      "source": [
        "# 11.3 MAke predictions\n",
        "\n",
        "pred = model.predict(X_test)\n",
        "pred\n",
        "pred.shape\n",
        "\n"
      ],
      "metadata": {
        "id": "20a0-Pf78SKj"
      },
      "execution_count": null,
      "outputs": []
    },
    {
      "cell_type": "code",
      "source": [
        "out = np.hstack([pred,pred])"
      ],
      "metadata": {
        "id": "LSX-NTuYYO28"
      },
      "execution_count": null,
      "outputs": []
    },
    {
      "cell_type": "code",
      "source": [
        "# 11.4 Inverse transform\n",
        "pred = mm.inverse_transform(out)"
      ],
      "metadata": {
        "id": "geBvEekBXWc7"
      },
      "execution_count": null,
      "outputs": []
    },
    {
      "cell_type": "code",
      "source": [
        "pred"
      ],
      "metadata": {
        "id": "KG4ohIdrYWRc",
        "outputId": "899a3bf0-df68-4d69-eff8-27e2d5a97873",
        "colab": {
          "base_uri": "https://localhost:8080/"
        }
      },
      "execution_count": null,
      "outputs": [
        {
          "output_type": "execute_result",
          "data": {
            "text/plain": [
              "array([[785.59235, 785.71326],\n",
              "       [785.17114, 785.2937 ],\n",
              "       [787.8559 , 787.968  ],\n",
              "       [790.69135, 790.7924 ],\n",
              "       [797.1983 , 797.27405],\n",
              "       [803.00714, 803.0603 ],\n",
              "       [804.8778 , 804.9237 ],\n",
              "       [803.62103, 803.6719 ],\n",
              "       [802.1088 , 802.1655 ],\n",
              "       [802.65643, 802.711  ],\n",
              "       [802.5447 , 802.5996 ],\n",
              "       [802.21783, 802.27405],\n",
              "       [803.2098 , 803.2622 ],\n",
              "       [803.7361 , 803.7864 ],\n",
              "       [808.35803, 808.3904 ],\n",
              "       [815.2155 , 815.22125],\n",
              "       [822.68   , 822.6567 ],\n",
              "       [827.50757, 827.4655 ],\n",
              "       [829.42114, 829.3717 ],\n",
              "       [818.91345, 818.9048 ]], dtype=float32)"
            ]
          },
          "metadata": {},
          "execution_count": 43
        }
      ]
    },
    {
      "cell_type": "markdown",
      "source": [
        "## Plotting results"
      ],
      "metadata": {
        "id": "qy7uSZcprrnA"
      }
    },
    {
      "cell_type": "code",
      "source": [
        "# 12.0 Plot \n",
        "real_stock_price = test_data\n",
        "plt.plot(real_stock_price, color='red', label = \"Real Google Stock Price\");\n",
        "plt.plot(pred, color = 'blue', label = \"PRedicted google stock price\") ;\n",
        "plt.title(\"Google stock price prediction\") ;\n",
        "plt.xlabel(\"Time\") ;\n",
        "plt.ylabel(\"Google Stock Price\");\n",
        "plt.show() ;"
      ],
      "metadata": {
        "colab": {
          "base_uri": "https://localhost:8080/",
          "height": 295
        },
        "id": "Rygv4PnL9J42",
        "outputId": "00e9dc2d-1604-4947-ebda-cfe04e3a84f1"
      },
      "execution_count": null,
      "outputs": [
        {
          "output_type": "display_data",
          "data": {
            "text/plain": [
              "<Figure size 432x288 with 1 Axes>"
            ],
            "image/png": "[encoded data removed]"
          },
          "metadata": {
            "needs_background": "light"
          }
        }
      ]
    },
    {
      "cell_type": "code",
      "source": [
        "test.values[:, 1]"
      ],
      "metadata": {
        "id": "sYjTvHwfZWzD",
        "outputId": "2fdb67f4-03b7-4584-d37e-588a62bd97bf",
        "colab": {
          "base_uri": "https://localhost:8080/"
        }
      },
      "execution_count": null,
      "outputs": [
        {
          "output_type": "execute_result",
          "data": {
            "text/plain": [
              "array([778.81, 788.36, 786.08, 795.26, 806.4, 807.86, 805.0, 807.14,\n",
              "       807.48, 807.08, 805.81, 805.12, 806.91, 807.25, 822.3, 829.62,\n",
              "       837.81, 834.71, 814.66, 796.86], dtype=object)"
            ]
          },
          "metadata": {},
          "execution_count": 54
        }
      ]
    },
    {
      "cell_type": "code",
      "source": [
        "te[:,0]"
      ],
      "metadata": {
        "id": "zTzGfiRrYjDj",
        "outputId": "283b095d-295e-4bb4-8eaf-f3f0b917f3cb",
        "colab": {
          "base_uri": "https://localhost:8080/"
        }
      },
      "execution_count": null,
      "outputs": [
        {
          "output_type": "execute_result",
          "data": {
            "text/plain": [
              "array([0.92955205, 0.94731751, 0.94307612, 0.96015329, 0.98087655,\n",
              "       0.98359253, 0.97827219, 0.98225314, 0.98288563, 0.98214153,\n",
              "       0.979779  , 0.97849542, 0.98182528, 0.98245777, 1.01045465,\n",
              "       1.02407173, 1.03930724, 1.03354044, 0.99624228, 0.9631297 ])"
            ]
          },
          "metadata": {},
          "execution_count": 48
        }
      ]
    },
    {
      "cell_type": "code",
      "source": [
        "te[:,0]"
      ],
      "metadata": {
        "id": "vRga6VVyZCR0",
        "outputId": "4418535c-49bc-4a8b-a018-6f6b06374873",
        "colab": {
          "base_uri": "https://localhost:8080/"
        }
      },
      "execution_count": null,
      "outputs": [
        {
          "output_type": "execute_result",
          "data": {
            "text/plain": [
              "array([0.92955205, 0.94731751, 0.94307612, 0.96015329, 0.98087655,\n",
              "       0.98359253, 0.97827219, 0.98225314, 0.98288563, 0.98214153,\n",
              "       0.979779  , 0.97849542, 0.98182528, 0.98245777, 1.01045465,\n",
              "       1.02407173, 1.03930724, 1.03354044, 0.99624228, 0.9631297 ])"
            ]
          },
          "metadata": {},
          "execution_count": 52
        }
      ]
    },
    {
      "cell_type": "code",
      "source": [
        "# 12.0 Plot \n",
        "real_stock_price = test.values[:, 1]\n",
        "plt.plot(real_stock_price, color='red', label = \"Real Google Stock Price\");\n",
        "plt.plot(pred[:,0], color = 'blue', label = \"PRedicted google stock price\") ;\n",
        "plt.title(\"Google stock price prediction\") ;\n",
        "plt.xlabel(\"Time\") ;\n",
        "plt.ylabel(\"Google Stock Price\");\n",
        "plt.show() ;"
      ],
      "metadata": {
        "id": "paqdNK01Ybxz",
        "outputId": "c7375467-4157-4d96-bc0e-8d2c6e375822",
        "colab": {
          "base_uri": "https://localhost:8080/",
          "height": 295
        }
      },
      "execution_count": null,
      "outputs": [
        {
          "output_type": "display_data",
          "data": {
            "text/plain": [
              "<Figure size 432x288 with 1 Axes>"
            ],
            "image/png": "[encoded data removed]"
          },
          "metadata": {
            "needs_background": "light"
          }
        }
      ]
    },
    {
      "cell_type": "code",
      "source": [
        "################## I am done ##################33"
      ],
      "metadata": {
        "id": "SOfv_Dzd-C3x"
      },
      "execution_count": null,
      "outputs": []
    },
    {
      "cell_type": "code",
      "source": [
        "! pip install attention"
      ],
      "metadata": {
        "id": "dA4mXs5gZo9j",
        "outputId": "022b945a-5c86-4ee4-9edd-f01a2092d214",
        "colab": {
          "base_uri": "https://localhost:8080/"
        }
      },
      "execution_count": null,
      "outputs": [
        {
          "output_type": "stream",
          "name": "stdout",
          "text": [
            "Looking in indexes: https://pypi.org/simple, https://us-python.pkg.dev/colab-wheels/public/simple/\n",
            "Collecting attention\n",
            "  Downloading attention-4.1-py3-none-any.whl (8.6 kB)\n",
            "Requirement already satisfied: tensorflow>=2.1 in /usr/local/lib/python3.8/dist-packages (from attention) (2.9.2)\n",
            "Requirement already satisfied: numpy>=1.18.1 in /usr/local/lib/python3.8/dist-packages (from attention) (1.21.6)\n",
            "Requirement already satisfied: libclang>=13.0.0 in /usr/local/lib/python3.8/dist-packages (from tensorflow>=2.1->attention) (15.0.6.1)\n",
            "Requirement already satisfied: gast<=0.4.0,>=0.2.1 in /usr/local/lib/python3.8/dist-packages (from tensorflow>=2.1->attention) (0.4.0)\n",
            "Requirement already satisfied: keras-preprocessing>=1.1.1 in /usr/local/lib/python3.8/dist-packages (from tensorflow>=2.1->attention) (1.1.2)\n",
            "Requirement already satisfied: absl-py>=1.0.0 in /usr/local/lib/python3.8/dist-packages (from tensorflow>=2.1->attention) (1.4.0)\n",
            "Requirement already satisfied: tensorboard<2.10,>=2.9 in /usr/local/lib/python3.8/dist-packages (from tensorflow>=2.1->attention) (2.9.1)\n",
            "Requirement already satisfied: h5py>=2.9.0 in /usr/local/lib/python3.8/dist-packages (from tensorflow>=2.1->attention) (3.1.0)\n",
            "Requirement already satisfied: google-pasta>=0.1.1 in /usr/local/lib/python3.8/dist-packages (from tensorflow>=2.1->attention) (0.2.0)\n",
            "Requirement already satisfied: protobuf<3.20,>=3.9.2 in /usr/local/lib/python3.8/dist-packages (from tensorflow>=2.1->attention) (3.19.6)\n",
            "Requirement already satisfied: typing-extensions>=3.6.6 in /usr/local/lib/python3.8/dist-packages (from tensorflow>=2.1->attention) (4.4.0)\n",
            "Requirement already satisfied: tensorflow-estimator<2.10.0,>=2.9.0rc0 in /usr/local/lib/python3.8/dist-packages (from tensorflow>=2.1->attention) (2.9.0)\n",
            "Requirement already satisfied: grpcio<2.0,>=1.24.3 in /usr/local/lib/python3.8/dist-packages (from tensorflow>=2.1->attention) (1.51.1)\n",
            "Requirement already satisfied: opt-einsum>=2.3.2 in /usr/local/lib/python3.8/dist-packages (from tensorflow>=2.1->attention) (3.3.0)\n",
            "Requirement already satisfied: keras<2.10.0,>=2.9.0rc0 in /usr/local/lib/python3.8/dist-packages (from tensorflow>=2.1->attention) (2.9.0)\n",
            "Requirement already satisfied: setuptools in /usr/local/lib/python3.8/dist-packages (from tensorflow>=2.1->attention) (57.4.0)\n",
            "Requirement already satisfied: astunparse>=1.6.0 in /usr/local/lib/python3.8/dist-packages (from tensorflow>=2.1->attention) (1.6.3)\n",
            "Requirement already satisfied: packaging in /usr/local/lib/python3.8/dist-packages (from tensorflow>=2.1->attention) (23.0)\n",
            "Requirement already satisfied: tensorflow-io-gcs-filesystem>=0.23.1 in /usr/local/lib/python3.8/dist-packages (from tensorflow>=2.1->attention) (0.30.0)\n",
            "Requirement already satisfied: six>=1.12.0 in /usr/local/lib/python3.8/dist-packages (from tensorflow>=2.1->attention) (1.15.0)\n",
            "Requirement already satisfied: flatbuffers<2,>=1.12 in /usr/local/lib/python3.8/dist-packages (from tensorflow>=2.1->attention) (1.12)\n",
            "Requirement already satisfied: wrapt>=1.11.0 in /usr/local/lib/python3.8/dist-packages (from tensorflow>=2.1->attention) (1.14.1)\n",
            "Requirement already satisfied: termcolor>=1.1.0 in /usr/local/lib/python3.8/dist-packages (from tensorflow>=2.1->attention) (2.2.0)\n",
            "Requirement already satisfied: wheel<1.0,>=0.23.0 in /usr/local/lib/python3.8/dist-packages (from astunparse>=1.6.0->tensorflow>=2.1->attention) (0.38.4)\n",
            "Requirement already satisfied: requests<3,>=2.21.0 in /usr/local/lib/python3.8/dist-packages (from tensorboard<2.10,>=2.9->tensorflow>=2.1->attention) (2.25.1)\n",
            "Requirement already satisfied: tensorboard-data-server<0.7.0,>=0.6.0 in /usr/local/lib/python3.8/dist-packages (from tensorboard<2.10,>=2.9->tensorflow>=2.1->attention) (0.6.1)\n",
            "Requirement already satisfied: markdown>=2.6.8 in /usr/local/lib/python3.8/dist-packages (from tensorboard<2.10,>=2.9->tensorflow>=2.1->attention) (3.4.1)\n",
            "Requirement already satisfied: tensorboard-plugin-wit>=1.6.0 in /usr/local/lib/python3.8/dist-packages (from tensorboard<2.10,>=2.9->tensorflow>=2.1->attention) (1.8.1)\n",
            "Requirement already satisfied: werkzeug>=1.0.1 in /usr/local/lib/python3.8/dist-packages (from tensorboard<2.10,>=2.9->tensorflow>=2.1->attention) (1.0.1)\n",
            "Requirement already satisfied: google-auth-oauthlib<0.5,>=0.4.1 in /usr/local/lib/python3.8/dist-packages (from tensorboard<2.10,>=2.9->tensorflow>=2.1->attention) (0.4.6)\n",
            "Requirement already satisfied: google-auth<3,>=1.6.3 in /usr/local/lib/python3.8/dist-packages (from tensorboard<2.10,>=2.9->tensorflow>=2.1->attention) (2.16.0)\n",
            "Requirement already satisfied: rsa<5,>=3.1.4 in /usr/local/lib/python3.8/dist-packages (from google-auth<3,>=1.6.3->tensorboard<2.10,>=2.9->tensorflow>=2.1->attention) (4.9)\n",
            "Requirement already satisfied: cachetools<6.0,>=2.0.0 in /usr/local/lib/python3.8/dist-packages (from google-auth<3,>=1.6.3->tensorboard<2.10,>=2.9->tensorflow>=2.1->attention) (5.3.0)\n",
            "Requirement already satisfied: pyasn1-modules>=0.2.1 in /usr/local/lib/python3.8/dist-packages (from google-auth<3,>=1.6.3->tensorboard<2.10,>=2.9->tensorflow>=2.1->attention) (0.2.8)\n",
            "Requirement already satisfied: requests-oauthlib>=0.7.0 in /usr/local/lib/python3.8/dist-packages (from google-auth-oauthlib<0.5,>=0.4.1->tensorboard<2.10,>=2.9->tensorflow>=2.1->attention) (1.3.1)\n",
            "Requirement already satisfied: importlib-metadata>=4.4 in /usr/local/lib/python3.8/dist-packages (from markdown>=2.6.8->tensorboard<2.10,>=2.9->tensorflow>=2.1->attention) (6.0.0)\n",
            "Requirement already satisfied: urllib3<1.27,>=1.21.1 in /usr/local/lib/python3.8/dist-packages (from requests<3,>=2.21.0->tensorboard<2.10,>=2.9->tensorflow>=2.1->attention) (1.24.3)\n",
            "Requirement already satisfied: chardet<5,>=3.0.2 in /usr/local/lib/python3.8/dist-packages (from requests<3,>=2.21.0->tensorboard<2.10,>=2.9->tensorflow>=2.1->attention) (4.0.0)\n",
            "Requirement already satisfied: idna<3,>=2.5 in /usr/local/lib/python3.8/dist-packages (from requests<3,>=2.21.0->tensorboard<2.10,>=2.9->tensorflow>=2.1->attention) (2.10)\n",
            "Requirement already satisfied: certifi>=2017.4.17 in /usr/local/lib/python3.8/dist-packages (from requests<3,>=2.21.0->tensorboard<2.10,>=2.9->tensorflow>=2.1->attention) (2022.12.7)\n",
            "Requirement already satisfied: zipp>=0.5 in /usr/local/lib/python3.8/dist-packages (from importlib-metadata>=4.4->markdown>=2.6.8->tensorboard<2.10,>=2.9->tensorflow>=2.1->attention) (3.12.0)\n",
            "Requirement already satisfied: pyasn1<0.5.0,>=0.4.6 in /usr/local/lib/python3.8/dist-packages (from pyasn1-modules>=0.2.1->google-auth<3,>=1.6.3->tensorboard<2.10,>=2.9->tensorflow>=2.1->attention) (0.4.8)\n",
            "Requirement already satisfied: oauthlib>=3.0.0 in /usr/local/lib/python3.8/dist-packages (from requests-oauthlib>=0.7.0->google-auth-oauthlib<0.5,>=0.4.1->tensorboard<2.10,>=2.9->tensorflow>=2.1->attention) (3.2.2)\n",
            "Installing collected packages: attention\n",
            "Successfully installed attention-4.1\n"
          ]
        }
      ]
    },
    {
      "cell_type": "code",
      "source": [],
      "metadata": {
        "id": "FCeo7zKpZrUj"
      },
      "execution_count": null,
      "outputs": []
    }
  ]
}