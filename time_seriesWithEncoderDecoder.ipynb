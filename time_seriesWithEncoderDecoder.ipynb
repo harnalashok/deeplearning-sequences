{
  "nbformat": 4,
  "nbformat_minor": 0,
  "metadata": {
    "colab": {
      "name": "time_seriesWithEncoderDecoder.ipynb",
      "provenance": [],
      "collapsed_sections": [],
      "authorship_tag": "ABX9TyN0nbPAuiTFCSSHHtXHQufu",
      "include_colab_link": true
    },
    "kernelspec": {
      "name": "python3",
      "display_name": "Python 3"
    },
    "language_info": {
      "name": "python"
    }
  },
  "cells": [
    {
      "cell_type": "markdown",
      "metadata": {
        "id": "view-in-github",
        "colab_type": "text"
      },
      "source": [
        "<a href=\"https://colab.research.google.com/github/harnalashok/deeplearning-sequences/blob/main/time_seriesWithEncoderDecoder.ipynb\" target=\"_parent\"><img src=\"https://colab.research.google.com/assets/colab-badge.svg\" alt=\"Open In Colab\"/></a>"
      ]
    },
    {
      "cell_type": "code",
      "metadata": {
        "id": "0D7azAxv9v4S"
      },
      "source": [
        "# Last amended: 20th Sep, 2021\n",
        "# Ref: https://www.angioi.com/time-series-encoder-decoder-tensorflow/"
      ],
      "execution_count": null,
      "outputs": []
    },
    {
      "cell_type": "markdown",
      "metadata": {
        "id": "kX0Ljjdr9qhL"
      },
      "source": [
        "# Time Series Forecasting with an LSTM Encoder/Decoder in TensorFlow 2.0"
      ]
    },
    {
      "cell_type": "code",
      "metadata": {
        "colab": {
          "base_uri": "https://localhost:8080/"
        },
        "id": "VlrW3EmhteKv",
        "outputId": "2a08d8bd-75c1-423e-eb14-16652226e06f"
      },
      "source": [
        "! wget https://archive.ics.uci.edu/ml/machine-learning-databases/00275/Bike-Sharing-Dataset.zip\n"
      ],
      "execution_count": 1,
      "outputs": [
        {
          "output_type": "stream",
          "name": "stdout",
          "text": [
            "--2021-09-20 10:18:30--  https://archive.ics.uci.edu/ml/machine-learning-databases/00275/Bike-Sharing-Dataset.zip\n",
            "Resolving archive.ics.uci.edu (archive.ics.uci.edu)... 128.195.10.252\n",
            "Connecting to archive.ics.uci.edu (archive.ics.uci.edu)|128.195.10.252|:443... connected.\n",
            "HTTP request sent, awaiting response... 200 OK\n",
            "Length: 279992 (273K) [application/x-httpd-php]\n",
            "Saving to: ‘Bike-Sharing-Dataset.zip’\n",
            "\n",
            "Bike-Sharing-Datase 100%[===================>] 273.43K   990KB/s    in 0.3s    \n",
            "\n",
            "2021-09-20 10:18:31 (990 KB/s) - ‘Bike-Sharing-Dataset.zip’ saved [279992/279992]\n",
            "\n"
          ]
        }
      ]
    },
    {
      "cell_type": "code",
      "metadata": {
        "id": "ad3zJdI7uhRi"
      },
      "source": [
        "import pandas as pd\n",
        "import numpy as np\n",
        "import tensorflow as tf"
      ],
      "execution_count": 40,
      "outputs": []
    },
    {
      "cell_type": "code",
      "metadata": {
        "id": "NZh5uQbYuMqy"
      },
      "source": [
        "from IPython.core.interactiveshell import InteractiveShell\n",
        "InteractiveShell.ast_node_interactivity = \"all\"\n"
      ],
      "execution_count": 4,
      "outputs": []
    },
    {
      "cell_type": "code",
      "metadata": {
        "colab": {
          "base_uri": "https://localhost:8080/"
        },
        "id": "eL4FUAMNt21V",
        "outputId": "4eb454ac-4852-41da-85d7-e2f44b26b74f"
      },
      "source": [
        "! pwd      # /content\n",
        "! ls -la"
      ],
      "execution_count": 8,
      "outputs": [
        {
          "output_type": "stream",
          "name": "stdout",
          "text": [
            "/content\n",
            "total 296\n",
            "drwxr-xr-x 1 root root   4096 Sep 20 10:21 .\n",
            "drwxr-xr-x 1 root root   4096 Sep 20 10:14 ..\n",
            "drwxr-xr-x 2 root root   4096 Sep 20 10:21 bike_data\n",
            "-rw-r--r-- 1 root root 279992 Dec 20  2013 Bike-Sharing-Dataset.zip\n",
            "drwxr-xr-x 4 root root   4096 Sep 16 13:39 .config\n",
            "drwxr-xr-x 1 root root   4096 Sep 16 13:40 sample_data\n"
          ]
        }
      ]
    },
    {
      "cell_type": "code",
      "metadata": {
        "colab": {
          "base_uri": "https://localhost:8080/"
        },
        "id": "qB6w2QO_toL7",
        "outputId": "55729163-ad78-4d35-e4c9-a644549a2a08"
      },
      "source": [
        "! unzip Bike-Sharing-Dataset.zip -d bike_data"
      ],
      "execution_count": 7,
      "outputs": [
        {
          "output_type": "stream",
          "name": "stdout",
          "text": [
            "Archive:  Bike-Sharing-Dataset.zip\n",
            "  inflating: bike_data/Readme.txt    \n",
            "  inflating: bike_data/day.csv       \n",
            "  inflating: bike_data/hour.csv      \n"
          ]
        }
      ]
    },
    {
      "cell_type": "code",
      "metadata": {
        "id": "f3dhnepVuj-L"
      },
      "source": [
        "\n",
        "df = pd.read_csv('bike_data/hour.csv', index_col='instant')\n"
      ],
      "execution_count": 10,
      "outputs": []
    },
    {
      "cell_type": "code",
      "metadata": {
        "colab": {
          "base_uri": "https://localhost:8080/",
          "height": 312
        },
        "id": "2rUYOw3_umBn",
        "outputId": "82ff6948-0745-4253-838e-877b095d506c"
      },
      "source": [
        "df.head()\n",
        "df.columns"
      ],
      "execution_count": 12,
      "outputs": [
        {
          "output_type": "execute_result",
          "data": {
            "text/html": [
              "<div>\n",
              "<style scoped>\n",
              "    .dataframe tbody tr th:only-of-type {\n",
              "        vertical-align: middle;\n",
              "    }\n",
              "\n",
              "    .dataframe tbody tr th {\n",
              "        vertical-align: top;\n",
              "    }\n",
              "\n",
              "    .dataframe thead th {\n",
              "        text-align: right;\n",
              "    }\n",
              "</style>\n",
              "<table border=\"1\" class=\"dataframe\">\n",
              "  <thead>\n",
              "    <tr style=\"text-align: right;\">\n",
              "      <th></th>\n",
              "      <th>dteday</th>\n",
              "      <th>season</th>\n",
              "      <th>yr</th>\n",
              "      <th>mnth</th>\n",
              "      <th>hr</th>\n",
              "      <th>holiday</th>\n",
              "      <th>weekday</th>\n",
              "      <th>workingday</th>\n",
              "      <th>weathersit</th>\n",
              "      <th>temp</th>\n",
              "      <th>atemp</th>\n",
              "      <th>hum</th>\n",
              "      <th>windspeed</th>\n",
              "      <th>casual</th>\n",
              "      <th>registered</th>\n",
              "      <th>cnt</th>\n",
              "    </tr>\n",
              "    <tr>\n",
              "      <th>instant</th>\n",
              "      <th></th>\n",
              "      <th></th>\n",
              "      <th></th>\n",
              "      <th></th>\n",
              "      <th></th>\n",
              "      <th></th>\n",
              "      <th></th>\n",
              "      <th></th>\n",
              "      <th></th>\n",
              "      <th></th>\n",
              "      <th></th>\n",
              "      <th></th>\n",
              "      <th></th>\n",
              "      <th></th>\n",
              "      <th></th>\n",
              "      <th></th>\n",
              "    </tr>\n",
              "  </thead>\n",
              "  <tbody>\n",
              "    <tr>\n",
              "      <th>1</th>\n",
              "      <td>2011-01-01</td>\n",
              "      <td>1</td>\n",
              "      <td>0</td>\n",
              "      <td>1</td>\n",
              "      <td>0</td>\n",
              "      <td>0</td>\n",
              "      <td>6</td>\n",
              "      <td>0</td>\n",
              "      <td>1</td>\n",
              "      <td>0.24</td>\n",
              "      <td>0.2879</td>\n",
              "      <td>0.81</td>\n",
              "      <td>0.0</td>\n",
              "      <td>3</td>\n",
              "      <td>13</td>\n",
              "      <td>16</td>\n",
              "    </tr>\n",
              "    <tr>\n",
              "      <th>2</th>\n",
              "      <td>2011-01-01</td>\n",
              "      <td>1</td>\n",
              "      <td>0</td>\n",
              "      <td>1</td>\n",
              "      <td>1</td>\n",
              "      <td>0</td>\n",
              "      <td>6</td>\n",
              "      <td>0</td>\n",
              "      <td>1</td>\n",
              "      <td>0.22</td>\n",
              "      <td>0.2727</td>\n",
              "      <td>0.80</td>\n",
              "      <td>0.0</td>\n",
              "      <td>8</td>\n",
              "      <td>32</td>\n",
              "      <td>40</td>\n",
              "    </tr>\n",
              "    <tr>\n",
              "      <th>3</th>\n",
              "      <td>2011-01-01</td>\n",
              "      <td>1</td>\n",
              "      <td>0</td>\n",
              "      <td>1</td>\n",
              "      <td>2</td>\n",
              "      <td>0</td>\n",
              "      <td>6</td>\n",
              "      <td>0</td>\n",
              "      <td>1</td>\n",
              "      <td>0.22</td>\n",
              "      <td>0.2727</td>\n",
              "      <td>0.80</td>\n",
              "      <td>0.0</td>\n",
              "      <td>5</td>\n",
              "      <td>27</td>\n",
              "      <td>32</td>\n",
              "    </tr>\n",
              "    <tr>\n",
              "      <th>4</th>\n",
              "      <td>2011-01-01</td>\n",
              "      <td>1</td>\n",
              "      <td>0</td>\n",
              "      <td>1</td>\n",
              "      <td>3</td>\n",
              "      <td>0</td>\n",
              "      <td>6</td>\n",
              "      <td>0</td>\n",
              "      <td>1</td>\n",
              "      <td>0.24</td>\n",
              "      <td>0.2879</td>\n",
              "      <td>0.75</td>\n",
              "      <td>0.0</td>\n",
              "      <td>3</td>\n",
              "      <td>10</td>\n",
              "      <td>13</td>\n",
              "    </tr>\n",
              "    <tr>\n",
              "      <th>5</th>\n",
              "      <td>2011-01-01</td>\n",
              "      <td>1</td>\n",
              "      <td>0</td>\n",
              "      <td>1</td>\n",
              "      <td>4</td>\n",
              "      <td>0</td>\n",
              "      <td>6</td>\n",
              "      <td>0</td>\n",
              "      <td>1</td>\n",
              "      <td>0.24</td>\n",
              "      <td>0.2879</td>\n",
              "      <td>0.75</td>\n",
              "      <td>0.0</td>\n",
              "      <td>0</td>\n",
              "      <td>1</td>\n",
              "      <td>1</td>\n",
              "    </tr>\n",
              "  </tbody>\n",
              "</table>\n",
              "</div>"
            ],
            "text/plain": [
              "             dteday  season  yr  mnth  ...  windspeed  casual  registered  cnt\n",
              "instant                                ...                                    \n",
              "1        2011-01-01       1   0     1  ...        0.0       3          13   16\n",
              "2        2011-01-01       1   0     1  ...        0.0       8          32   40\n",
              "3        2011-01-01       1   0     1  ...        0.0       5          27   32\n",
              "4        2011-01-01       1   0     1  ...        0.0       3          10   13\n",
              "5        2011-01-01       1   0     1  ...        0.0       0           1    1\n",
              "\n",
              "[5 rows x 16 columns]"
            ]
          },
          "metadata": {},
          "execution_count": 12
        },
        {
          "output_type": "execute_result",
          "data": {
            "text/plain": [
              "Index(['dteday', 'season', 'yr', 'mnth', 'hr', 'holiday', 'weekday',\n",
              "       'workingday', 'weathersit', 'temp', 'atemp', 'hum', 'windspeed',\n",
              "       'casual', 'registered', 'cnt'],\n",
              "      dtype='object')"
            ]
          },
          "metadata": {},
          "execution_count": 12
        }
      ]
    },
    {
      "cell_type": "code",
      "metadata": {
        "id": "rlTDMKjbuShC"
      },
      "source": [
        "# Extracting only a subset of features\n",
        "def select_columns(df):\n",
        "\n",
        "    cols_to_keep = [\n",
        "                     'cnt',\n",
        "                     'temp',\n",
        "                     'hum',\n",
        "                     'windspeed',\n",
        "                     'yr',\n",
        "                     'mnth',\n",
        "                     'hr',\n",
        "                     'holiday',\n",
        "                     'weekday',\n",
        "                     'workingday'\n",
        "                    ]\n",
        "\n",
        "    df_subset = df[cols_to_keep]\n",
        "    return df_subset\n",
        "    \n"
      ],
      "execution_count": 15,
      "outputs": []
    },
    {
      "cell_type": "code",
      "metadata": {
        "id": "If-3PvojuXSc"
      },
      "source": [
        "# Some of the integer features need to be onehot encoded;\n",
        "# but not all of them\n",
        "def onehot_encode_integers(df, excluded_cols):\n",
        "    df = df.copy()\n",
        "\n",
        "    int_cols = [col for col in df.select_dtypes(include=['int']) if col not in excluded_cols]\n",
        "    df.loc[:, int_cols] = df.loc[:, int_cols].astype('str')\n",
        "\n",
        "    df_encoded = pd.get_dummies(df)\n",
        "    return df_encoded"
      ],
      "execution_count": 16,
      "outputs": []
    },
    {
      "cell_type": "code",
      "metadata": {
        "id": "C1WSIJ66v-qu"
      },
      "source": [
        "# cnt will be target of regression, but also a feature:\n",
        "# it needs to be normalized. This is not the correct way to do it,\n",
        "# as it leads to information leakage from test to training set.\n",
        "def normalize_cnt(df):\n",
        "    df = df.copy()\n",
        "    df['cnt'] = df['cnt'] / df['cnt'].max()\n",
        "    return df\n",
        "    "
      ],
      "execution_count": 17,
      "outputs": []
    },
    {
      "cell_type": "code",
      "metadata": {
        "id": "Tp1q0pO3wRQx"
      },
      "source": [
        "# I <3 pandas pipes\n",
        "dataset = (df\n",
        "           .pipe(select_columns)\n",
        "           .pipe(onehot_encode_integers, excluded_cols=['cnt'])\n",
        "           .pipe(normalize_cnt)\n",
        "           )"
      ],
      "execution_count": 18,
      "outputs": []
    },
    {
      "cell_type": "code",
      "metadata": {
        "colab": {
          "base_uri": "https://localhost:8080/",
          "height": 257
        },
        "id": "_A-xU25IwiFq",
        "outputId": "ecd00030-7041-4ff2-fde9-f452168d350f"
      },
      "source": [
        "dataset.head()"
      ],
      "execution_count": 19,
      "outputs": [
        {
          "output_type": "execute_result",
          "data": {
            "text/html": [
              "<div>\n",
              "<style scoped>\n",
              "    .dataframe tbody tr th:only-of-type {\n",
              "        vertical-align: middle;\n",
              "    }\n",
              "\n",
              "    .dataframe tbody tr th {\n",
              "        vertical-align: top;\n",
              "    }\n",
              "\n",
              "    .dataframe thead th {\n",
              "        text-align: right;\n",
              "    }\n",
              "</style>\n",
              "<table border=\"1\" class=\"dataframe\">\n",
              "  <thead>\n",
              "    <tr style=\"text-align: right;\">\n",
              "      <th></th>\n",
              "      <th>cnt</th>\n",
              "      <th>temp</th>\n",
              "      <th>hum</th>\n",
              "      <th>windspeed</th>\n",
              "      <th>yr_0</th>\n",
              "      <th>yr_1</th>\n",
              "      <th>mnth_1</th>\n",
              "      <th>mnth_10</th>\n",
              "      <th>mnth_11</th>\n",
              "      <th>mnth_12</th>\n",
              "      <th>mnth_2</th>\n",
              "      <th>mnth_3</th>\n",
              "      <th>mnth_4</th>\n",
              "      <th>mnth_5</th>\n",
              "      <th>mnth_6</th>\n",
              "      <th>mnth_7</th>\n",
              "      <th>mnth_8</th>\n",
              "      <th>mnth_9</th>\n",
              "      <th>hr_0</th>\n",
              "      <th>hr_1</th>\n",
              "      <th>hr_10</th>\n",
              "      <th>hr_11</th>\n",
              "      <th>hr_12</th>\n",
              "      <th>hr_13</th>\n",
              "      <th>hr_14</th>\n",
              "      <th>hr_15</th>\n",
              "      <th>hr_16</th>\n",
              "      <th>hr_17</th>\n",
              "      <th>hr_18</th>\n",
              "      <th>hr_19</th>\n",
              "      <th>hr_2</th>\n",
              "      <th>hr_20</th>\n",
              "      <th>hr_21</th>\n",
              "      <th>hr_22</th>\n",
              "      <th>hr_23</th>\n",
              "      <th>hr_3</th>\n",
              "      <th>hr_4</th>\n",
              "      <th>hr_5</th>\n",
              "      <th>hr_6</th>\n",
              "      <th>hr_7</th>\n",
              "      <th>hr_8</th>\n",
              "      <th>hr_9</th>\n",
              "      <th>holiday_0</th>\n",
              "      <th>holiday_1</th>\n",
              "      <th>weekday_0</th>\n",
              "      <th>weekday_1</th>\n",
              "      <th>weekday_2</th>\n",
              "      <th>weekday_3</th>\n",
              "      <th>weekday_4</th>\n",
              "      <th>weekday_5</th>\n",
              "      <th>weekday_6</th>\n",
              "      <th>workingday_0</th>\n",
              "      <th>workingday_1</th>\n",
              "    </tr>\n",
              "    <tr>\n",
              "      <th>instant</th>\n",
              "      <th></th>\n",
              "      <th></th>\n",
              "      <th></th>\n",
              "      <th></th>\n",
              "      <th></th>\n",
              "      <th></th>\n",
              "      <th></th>\n",
              "      <th></th>\n",
              "      <th></th>\n",
              "      <th></th>\n",
              "      <th></th>\n",
              "      <th></th>\n",
              "      <th></th>\n",
              "      <th></th>\n",
              "      <th></th>\n",
              "      <th></th>\n",
              "      <th></th>\n",
              "      <th></th>\n",
              "      <th></th>\n",
              "      <th></th>\n",
              "      <th></th>\n",
              "      <th></th>\n",
              "      <th></th>\n",
              "      <th></th>\n",
              "      <th></th>\n",
              "      <th></th>\n",
              "      <th></th>\n",
              "      <th></th>\n",
              "      <th></th>\n",
              "      <th></th>\n",
              "      <th></th>\n",
              "      <th></th>\n",
              "      <th></th>\n",
              "      <th></th>\n",
              "      <th></th>\n",
              "      <th></th>\n",
              "      <th></th>\n",
              "      <th></th>\n",
              "      <th></th>\n",
              "      <th></th>\n",
              "      <th></th>\n",
              "      <th></th>\n",
              "      <th></th>\n",
              "      <th></th>\n",
              "      <th></th>\n",
              "      <th></th>\n",
              "      <th></th>\n",
              "      <th></th>\n",
              "      <th></th>\n",
              "      <th></th>\n",
              "      <th></th>\n",
              "      <th></th>\n",
              "      <th></th>\n",
              "    </tr>\n",
              "  </thead>\n",
              "  <tbody>\n",
              "    <tr>\n",
              "      <th>1</th>\n",
              "      <td>0.016377</td>\n",
              "      <td>0.24</td>\n",
              "      <td>0.81</td>\n",
              "      <td>0.0</td>\n",
              "      <td>1</td>\n",
              "      <td>0</td>\n",
              "      <td>1</td>\n",
              "      <td>0</td>\n",
              "      <td>0</td>\n",
              "      <td>0</td>\n",
              "      <td>0</td>\n",
              "      <td>0</td>\n",
              "      <td>0</td>\n",
              "      <td>0</td>\n",
              "      <td>0</td>\n",
              "      <td>0</td>\n",
              "      <td>0</td>\n",
              "      <td>0</td>\n",
              "      <td>1</td>\n",
              "      <td>0</td>\n",
              "      <td>0</td>\n",
              "      <td>0</td>\n",
              "      <td>0</td>\n",
              "      <td>0</td>\n",
              "      <td>0</td>\n",
              "      <td>0</td>\n",
              "      <td>0</td>\n",
              "      <td>0</td>\n",
              "      <td>0</td>\n",
              "      <td>0</td>\n",
              "      <td>0</td>\n",
              "      <td>0</td>\n",
              "      <td>0</td>\n",
              "      <td>0</td>\n",
              "      <td>0</td>\n",
              "      <td>0</td>\n",
              "      <td>0</td>\n",
              "      <td>0</td>\n",
              "      <td>0</td>\n",
              "      <td>0</td>\n",
              "      <td>0</td>\n",
              "      <td>0</td>\n",
              "      <td>1</td>\n",
              "      <td>0</td>\n",
              "      <td>0</td>\n",
              "      <td>0</td>\n",
              "      <td>0</td>\n",
              "      <td>0</td>\n",
              "      <td>0</td>\n",
              "      <td>0</td>\n",
              "      <td>1</td>\n",
              "      <td>1</td>\n",
              "      <td>0</td>\n",
              "    </tr>\n",
              "    <tr>\n",
              "      <th>2</th>\n",
              "      <td>0.040942</td>\n",
              "      <td>0.22</td>\n",
              "      <td>0.80</td>\n",
              "      <td>0.0</td>\n",
              "      <td>1</td>\n",
              "      <td>0</td>\n",
              "      <td>1</td>\n",
              "      <td>0</td>\n",
              "      <td>0</td>\n",
              "      <td>0</td>\n",
              "      <td>0</td>\n",
              "      <td>0</td>\n",
              "      <td>0</td>\n",
              "      <td>0</td>\n",
              "      <td>0</td>\n",
              "      <td>0</td>\n",
              "      <td>0</td>\n",
              "      <td>0</td>\n",
              "      <td>0</td>\n",
              "      <td>1</td>\n",
              "      <td>0</td>\n",
              "      <td>0</td>\n",
              "      <td>0</td>\n",
              "      <td>0</td>\n",
              "      <td>0</td>\n",
              "      <td>0</td>\n",
              "      <td>0</td>\n",
              "      <td>0</td>\n",
              "      <td>0</td>\n",
              "      <td>0</td>\n",
              "      <td>0</td>\n",
              "      <td>0</td>\n",
              "      <td>0</td>\n",
              "      <td>0</td>\n",
              "      <td>0</td>\n",
              "      <td>0</td>\n",
              "      <td>0</td>\n",
              "      <td>0</td>\n",
              "      <td>0</td>\n",
              "      <td>0</td>\n",
              "      <td>0</td>\n",
              "      <td>0</td>\n",
              "      <td>1</td>\n",
              "      <td>0</td>\n",
              "      <td>0</td>\n",
              "      <td>0</td>\n",
              "      <td>0</td>\n",
              "      <td>0</td>\n",
              "      <td>0</td>\n",
              "      <td>0</td>\n",
              "      <td>1</td>\n",
              "      <td>1</td>\n",
              "      <td>0</td>\n",
              "    </tr>\n",
              "    <tr>\n",
              "      <th>3</th>\n",
              "      <td>0.032753</td>\n",
              "      <td>0.22</td>\n",
              "      <td>0.80</td>\n",
              "      <td>0.0</td>\n",
              "      <td>1</td>\n",
              "      <td>0</td>\n",
              "      <td>1</td>\n",
              "      <td>0</td>\n",
              "      <td>0</td>\n",
              "      <td>0</td>\n",
              "      <td>0</td>\n",
              "      <td>0</td>\n",
              "      <td>0</td>\n",
              "      <td>0</td>\n",
              "      <td>0</td>\n",
              "      <td>0</td>\n",
              "      <td>0</td>\n",
              "      <td>0</td>\n",
              "      <td>0</td>\n",
              "      <td>0</td>\n",
              "      <td>0</td>\n",
              "      <td>0</td>\n",
              "      <td>0</td>\n",
              "      <td>0</td>\n",
              "      <td>0</td>\n",
              "      <td>0</td>\n",
              "      <td>0</td>\n",
              "      <td>0</td>\n",
              "      <td>0</td>\n",
              "      <td>0</td>\n",
              "      <td>1</td>\n",
              "      <td>0</td>\n",
              "      <td>0</td>\n",
              "      <td>0</td>\n",
              "      <td>0</td>\n",
              "      <td>0</td>\n",
              "      <td>0</td>\n",
              "      <td>0</td>\n",
              "      <td>0</td>\n",
              "      <td>0</td>\n",
              "      <td>0</td>\n",
              "      <td>0</td>\n",
              "      <td>1</td>\n",
              "      <td>0</td>\n",
              "      <td>0</td>\n",
              "      <td>0</td>\n",
              "      <td>0</td>\n",
              "      <td>0</td>\n",
              "      <td>0</td>\n",
              "      <td>0</td>\n",
              "      <td>1</td>\n",
              "      <td>1</td>\n",
              "      <td>0</td>\n",
              "    </tr>\n",
              "    <tr>\n",
              "      <th>4</th>\n",
              "      <td>0.013306</td>\n",
              "      <td>0.24</td>\n",
              "      <td>0.75</td>\n",
              "      <td>0.0</td>\n",
              "      <td>1</td>\n",
              "      <td>0</td>\n",
              "      <td>1</td>\n",
              "      <td>0</td>\n",
              "      <td>0</td>\n",
              "      <td>0</td>\n",
              "      <td>0</td>\n",
              "      <td>0</td>\n",
              "      <td>0</td>\n",
              "      <td>0</td>\n",
              "      <td>0</td>\n",
              "      <td>0</td>\n",
              "      <td>0</td>\n",
              "      <td>0</td>\n",
              "      <td>0</td>\n",
              "      <td>0</td>\n",
              "      <td>0</td>\n",
              "      <td>0</td>\n",
              "      <td>0</td>\n",
              "      <td>0</td>\n",
              "      <td>0</td>\n",
              "      <td>0</td>\n",
              "      <td>0</td>\n",
              "      <td>0</td>\n",
              "      <td>0</td>\n",
              "      <td>0</td>\n",
              "      <td>0</td>\n",
              "      <td>0</td>\n",
              "      <td>0</td>\n",
              "      <td>0</td>\n",
              "      <td>0</td>\n",
              "      <td>1</td>\n",
              "      <td>0</td>\n",
              "      <td>0</td>\n",
              "      <td>0</td>\n",
              "      <td>0</td>\n",
              "      <td>0</td>\n",
              "      <td>0</td>\n",
              "      <td>1</td>\n",
              "      <td>0</td>\n",
              "      <td>0</td>\n",
              "      <td>0</td>\n",
              "      <td>0</td>\n",
              "      <td>0</td>\n",
              "      <td>0</td>\n",
              "      <td>0</td>\n",
              "      <td>1</td>\n",
              "      <td>1</td>\n",
              "      <td>0</td>\n",
              "    </tr>\n",
              "    <tr>\n",
              "      <th>5</th>\n",
              "      <td>0.001024</td>\n",
              "      <td>0.24</td>\n",
              "      <td>0.75</td>\n",
              "      <td>0.0</td>\n",
              "      <td>1</td>\n",
              "      <td>0</td>\n",
              "      <td>1</td>\n",
              "      <td>0</td>\n",
              "      <td>0</td>\n",
              "      <td>0</td>\n",
              "      <td>0</td>\n",
              "      <td>0</td>\n",
              "      <td>0</td>\n",
              "      <td>0</td>\n",
              "      <td>0</td>\n",
              "      <td>0</td>\n",
              "      <td>0</td>\n",
              "      <td>0</td>\n",
              "      <td>0</td>\n",
              "      <td>0</td>\n",
              "      <td>0</td>\n",
              "      <td>0</td>\n",
              "      <td>0</td>\n",
              "      <td>0</td>\n",
              "      <td>0</td>\n",
              "      <td>0</td>\n",
              "      <td>0</td>\n",
              "      <td>0</td>\n",
              "      <td>0</td>\n",
              "      <td>0</td>\n",
              "      <td>0</td>\n",
              "      <td>0</td>\n",
              "      <td>0</td>\n",
              "      <td>0</td>\n",
              "      <td>0</td>\n",
              "      <td>0</td>\n",
              "      <td>1</td>\n",
              "      <td>0</td>\n",
              "      <td>0</td>\n",
              "      <td>0</td>\n",
              "      <td>0</td>\n",
              "      <td>0</td>\n",
              "      <td>1</td>\n",
              "      <td>0</td>\n",
              "      <td>0</td>\n",
              "      <td>0</td>\n",
              "      <td>0</td>\n",
              "      <td>0</td>\n",
              "      <td>0</td>\n",
              "      <td>0</td>\n",
              "      <td>1</td>\n",
              "      <td>1</td>\n",
              "      <td>0</td>\n",
              "    </tr>\n",
              "  </tbody>\n",
              "</table>\n",
              "</div>"
            ],
            "text/plain": [
              "              cnt  temp   hum  ...  weekday_6  workingday_0  workingday_1\n",
              "instant                        ...                                       \n",
              "1        0.016377  0.24  0.81  ...          1             1             0\n",
              "2        0.040942  0.22  0.80  ...          1             1             0\n",
              "3        0.032753  0.22  0.80  ...          1             1             0\n",
              "4        0.013306  0.24  0.75  ...          1             1             0\n",
              "5        0.001024  0.24  0.75  ...          1             1             0\n",
              "\n",
              "[5 rows x 53 columns]"
            ]
          },
          "metadata": {},
          "execution_count": 19
        }
      ]
    },
    {
      "cell_type": "code",
      "metadata": {
        "id": "fFlsIXSkwj9A"
      },
      "source": [
        "def create_dataset(df, n_deterministic_features, window_size, forecast_size, batch_size):\n",
        "    # Feel free to play with shuffle buffer size\n",
        "    shuffle_buffer_size = len(df)\n",
        "    # Total size of window is given by the number of steps to be considered\n",
        "    # before prediction time + steps that we want to forecast\n",
        "    total_size = window_size + forecast_size\n",
        "\n",
        "    data = tf.data.Dataset.from_tensor_slices(df.values)\n",
        "\n",
        "    # Selecting windows\n",
        "    data = data.window(total_size, shift=1, drop_remainder=True)\n",
        "    data = data.flat_map(lambda k: k.batch(total_size))\n",
        "\n",
        "    # Shuffling data (seed=Answer to the Ultimate Question of Life, the Universe, and Everything)\n",
        "    data = data.shuffle(shuffle_buffer_size, seed=42)\n",
        "\n",
        "    # Extracting past features + deterministic future + labels\n",
        "    data = data.map(lambda k: ((k[:-forecast_size],\n",
        "                                k[-forecast_size:, -n_deterministic_features:]),\n",
        "                               k[-forecast_size:, 0]))\n",
        "\n",
        "    return data.batch(batch_size).prefetch(tf.data.experimental.AUTOTUNE)"
      ],
      "execution_count": 20,
      "outputs": []
    },
    {
      "cell_type": "markdown",
      "metadata": {
        "id": "Cz6GnVLC1tJb"
      },
      "source": [
        "Returns a dataset of \"windows\".\n",
        "\n",
        "Each \"window\" is a dataset that contains a subset of elements of the input dataset. These are finite datasets of size size (or possibly fewer if there are not enough input elements to fill the window and drop_remainder evaluates to False)."
      ]
    },
    {
      "cell_type": "markdown",
      "metadata": {
        "id": "-ilieFrR1wFK"
      },
      "source": [
        "See [here](https://www.tensorflow.org/api_docs/python/tf/data/Dataset#window)\n",
        "```\n",
        "window(\n",
        "    size, shift=None, stride=1, drop_remainder=False\n",
        ")\n",
        "\n",
        "\n",
        "```"
      ]
    },
    {
      "cell_type": "code",
      "metadata": {
        "id": "RcB1fANNxg-5"
      },
      "source": [
        "dataset = tf.data.Dataset.range(7).window(3)\n"
      ],
      "execution_count": 23,
      "outputs": []
    },
    {
      "cell_type": "code",
      "metadata": {
        "colab": {
          "base_uri": "https://localhost:8080/"
        },
        "id": "nvY812-fz_Q4",
        "outputId": "990cda06-b343-44b9-ccc0-3b4731c45830"
      },
      "source": [
        "for window in dataset:\n",
        "  print(window)"
      ],
      "execution_count": 27,
      "outputs": [
        {
          "output_type": "stream",
          "name": "stdout",
          "text": [
            "<_VariantDataset shapes: (), types: tf.int64>\n",
            "<_VariantDataset shapes: (), types: tf.int64>\n",
            "<_VariantDataset shapes: (), types: tf.int64>\n"
          ]
        }
      ]
    },
    {
      "cell_type": "code",
      "metadata": {
        "colab": {
          "base_uri": "https://localhost:8080/"
        },
        "id": "CvnHZ8KL0KOs",
        "outputId": "74ce074f-1829-4617-bac8-3acf9db2b788"
      },
      "source": [
        "for window in dataset:\n",
        "  print([item.numpy() for item in window])\n",
        "  break;\n"
      ],
      "execution_count": 29,
      "outputs": [
        {
          "output_type": "stream",
          "name": "stdout",
          "text": [
            "[0, 1, 2]\n"
          ]
        }
      ]
    },
    {
      "cell_type": "markdown",
      "metadata": {
        "id": "YH4ocM6P2D_-"
      },
      "source": [
        "Shift<br>\n",
        "The shift argument determines the number of input elements to shift between the start of each window. If windows and elements are both numbered starting at 0, the first element in window k will be element k * shift of the input dataset. In particular, the first element of the first window will always be the first element of the input dataset."
      ]
    },
    {
      "cell_type": "code",
      "metadata": {
        "colab": {
          "base_uri": "https://localhost:8080/"
        },
        "id": "NvbL7GZA1Ckx",
        "outputId": "7cfca441-18e8-4b1e-ca39-ee19ea708b94"
      },
      "source": [
        "dataset = tf.data.Dataset.range(7).window(3, shift=1, drop_remainder=True)\n",
        "for window in dataset:\n",
        "  print(list(window.as_numpy_iterator()))\n",
        "  #break;"
      ],
      "execution_count": 32,
      "outputs": [
        {
          "output_type": "stream",
          "name": "stdout",
          "text": [
            "[0, 1, 2]\n",
            "[1, 2, 3]\n",
            "[2, 3, 4]\n",
            "[3, 4, 5]\n",
            "[4, 5, 6]\n"
          ]
        }
      ]
    },
    {
      "cell_type": "code",
      "metadata": {
        "colab": {
          "base_uri": "https://localhost:8080/",
          "height": 677
        },
        "id": "CY6yTQ0D3ezZ",
        "outputId": "2cbdc71c-d0e7-4ec5-fe20-b17b5869f7f3"
      },
      "source": [
        "dx = pd.DataFrame({'a' : np.random.randint(2,9,20), 'b' : np.random.randint(10,20,20)})\n",
        "dx"
      ],
      "execution_count": 59,
      "outputs": [
        {
          "output_type": "execute_result",
          "data": {
            "text/html": [
              "<div>\n",
              "<style scoped>\n",
              "    .dataframe tbody tr th:only-of-type {\n",
              "        vertical-align: middle;\n",
              "    }\n",
              "\n",
              "    .dataframe tbody tr th {\n",
              "        vertical-align: top;\n",
              "    }\n",
              "\n",
              "    .dataframe thead th {\n",
              "        text-align: right;\n",
              "    }\n",
              "</style>\n",
              "<table border=\"1\" class=\"dataframe\">\n",
              "  <thead>\n",
              "    <tr style=\"text-align: right;\">\n",
              "      <th></th>\n",
              "      <th>a</th>\n",
              "      <th>b</th>\n",
              "    </tr>\n",
              "  </thead>\n",
              "  <tbody>\n",
              "    <tr>\n",
              "      <th>0</th>\n",
              "      <td>3</td>\n",
              "      <td>13</td>\n",
              "    </tr>\n",
              "    <tr>\n",
              "      <th>1</th>\n",
              "      <td>3</td>\n",
              "      <td>14</td>\n",
              "    </tr>\n",
              "    <tr>\n",
              "      <th>2</th>\n",
              "      <td>6</td>\n",
              "      <td>13</td>\n",
              "    </tr>\n",
              "    <tr>\n",
              "      <th>3</th>\n",
              "      <td>3</td>\n",
              "      <td>10</td>\n",
              "    </tr>\n",
              "    <tr>\n",
              "      <th>4</th>\n",
              "      <td>6</td>\n",
              "      <td>14</td>\n",
              "    </tr>\n",
              "    <tr>\n",
              "      <th>5</th>\n",
              "      <td>6</td>\n",
              "      <td>11</td>\n",
              "    </tr>\n",
              "    <tr>\n",
              "      <th>6</th>\n",
              "      <td>5</td>\n",
              "      <td>16</td>\n",
              "    </tr>\n",
              "    <tr>\n",
              "      <th>7</th>\n",
              "      <td>8</td>\n",
              "      <td>19</td>\n",
              "    </tr>\n",
              "    <tr>\n",
              "      <th>8</th>\n",
              "      <td>5</td>\n",
              "      <td>18</td>\n",
              "    </tr>\n",
              "    <tr>\n",
              "      <th>9</th>\n",
              "      <td>6</td>\n",
              "      <td>11</td>\n",
              "    </tr>\n",
              "    <tr>\n",
              "      <th>10</th>\n",
              "      <td>5</td>\n",
              "      <td>12</td>\n",
              "    </tr>\n",
              "    <tr>\n",
              "      <th>11</th>\n",
              "      <td>6</td>\n",
              "      <td>17</td>\n",
              "    </tr>\n",
              "    <tr>\n",
              "      <th>12</th>\n",
              "      <td>3</td>\n",
              "      <td>16</td>\n",
              "    </tr>\n",
              "    <tr>\n",
              "      <th>13</th>\n",
              "      <td>3</td>\n",
              "      <td>12</td>\n",
              "    </tr>\n",
              "    <tr>\n",
              "      <th>14</th>\n",
              "      <td>4</td>\n",
              "      <td>19</td>\n",
              "    </tr>\n",
              "    <tr>\n",
              "      <th>15</th>\n",
              "      <td>6</td>\n",
              "      <td>15</td>\n",
              "    </tr>\n",
              "    <tr>\n",
              "      <th>16</th>\n",
              "      <td>7</td>\n",
              "      <td>11</td>\n",
              "    </tr>\n",
              "    <tr>\n",
              "      <th>17</th>\n",
              "      <td>3</td>\n",
              "      <td>10</td>\n",
              "    </tr>\n",
              "    <tr>\n",
              "      <th>18</th>\n",
              "      <td>5</td>\n",
              "      <td>14</td>\n",
              "    </tr>\n",
              "    <tr>\n",
              "      <th>19</th>\n",
              "      <td>5</td>\n",
              "      <td>11</td>\n",
              "    </tr>\n",
              "  </tbody>\n",
              "</table>\n",
              "</div>"
            ],
            "text/plain": [
              "    a   b\n",
              "0   3  13\n",
              "1   3  14\n",
              "2   6  13\n",
              "3   3  10\n",
              "4   6  14\n",
              "5   6  11\n",
              "6   5  16\n",
              "7   8  19\n",
              "8   5  18\n",
              "9   6  11\n",
              "10  5  12\n",
              "11  6  17\n",
              "12  3  16\n",
              "13  3  12\n",
              "14  4  19\n",
              "15  6  15\n",
              "16  7  11\n",
              "17  3  10\n",
              "18  5  14\n",
              "19  5  11"
            ]
          },
          "metadata": {},
          "execution_count": 59
        }
      ]
    },
    {
      "cell_type": "code",
      "metadata": {
        "id": "Ypyp0IJQ2MXh"
      },
      "source": [
        "data1 = tf.data.Dataset.from_tensor_slices(dx.values)"
      ],
      "execution_count": 61,
      "outputs": []
    },
    {
      "cell_type": "code",
      "metadata": {
        "colab": {
          "base_uri": "https://localhost:8080/"
        },
        "id": "5mjBk3Ls3J32",
        "outputId": "2509de79-07a1-49ed-c2de-e3feb25d66f9"
      },
      "source": [
        "data1"
      ],
      "execution_count": 62,
      "outputs": [
        {
          "output_type": "execute_result",
          "data": {
            "text/plain": [
              "<TensorSliceDataset shapes: (2,), types: tf.int64>"
            ]
          },
          "metadata": {},
          "execution_count": 62
        }
      ]
    },
    {
      "cell_type": "code",
      "metadata": {
        "colab": {
          "base_uri": "https://localhost:8080/"
        },
        "id": "lmvVxeQB3K9y",
        "outputId": "f7aaf16f-d3b4-4f16-936f-f02f881ef05b"
      },
      "source": [
        "list(data1.as_numpy_iterator())"
      ],
      "execution_count": 63,
      "outputs": [
        {
          "output_type": "execute_result",
          "data": {
            "text/plain": [
              "[array([ 3, 13]),\n",
              " array([ 3, 14]),\n",
              " array([ 6, 13]),\n",
              " array([ 3, 10]),\n",
              " array([ 6, 14]),\n",
              " array([ 6, 11]),\n",
              " array([ 5, 16]),\n",
              " array([ 8, 19]),\n",
              " array([ 5, 18]),\n",
              " array([ 6, 11]),\n",
              " array([ 5, 12]),\n",
              " array([ 6, 17]),\n",
              " array([ 3, 16]),\n",
              " array([ 3, 12]),\n",
              " array([ 4, 19]),\n",
              " array([ 6, 15]),\n",
              " array([ 7, 11]),\n",
              " array([ 3, 10]),\n",
              " array([ 5, 14]),\n",
              " array([ 5, 11])]"
            ]
          },
          "metadata": {},
          "execution_count": 63
        }
      ]
    },
    {
      "cell_type": "code",
      "metadata": {
        "id": "TE5MVEWo3OWh"
      },
      "source": [
        "data = data1.window(3, shift=1, drop_remainder= False)"
      ],
      "execution_count": 66,
      "outputs": []
    },
    {
      "cell_type": "code",
      "metadata": {
        "colab": {
          "base_uri": "https://localhost:8080/"
        },
        "id": "ciaeo-TD5tGS",
        "outputId": "bd592f2f-6692-4d44-ff3f-c644c15f079b"
      },
      "source": [
        "for window in data:\n",
        "  print(list(window.as_numpy_iterator()))"
      ],
      "execution_count": 67,
      "outputs": [
        {
          "output_type": "stream",
          "name": "stdout",
          "text": [
            "[array([ 3, 13]), array([ 3, 14]), array([ 6, 13])]\n",
            "[array([ 3, 14]), array([ 6, 13]), array([ 3, 10])]\n",
            "[array([ 6, 13]), array([ 3, 10]), array([ 6, 14])]\n",
            "[array([ 3, 10]), array([ 6, 14]), array([ 6, 11])]\n",
            "[array([ 6, 14]), array([ 6, 11]), array([ 5, 16])]\n",
            "[array([ 6, 11]), array([ 5, 16]), array([ 8, 19])]\n",
            "[array([ 5, 16]), array([ 8, 19]), array([ 5, 18])]\n",
            "[array([ 8, 19]), array([ 5, 18]), array([ 6, 11])]\n",
            "[array([ 5, 18]), array([ 6, 11]), array([ 5, 12])]\n",
            "[array([ 6, 11]), array([ 5, 12]), array([ 6, 17])]\n",
            "[array([ 5, 12]), array([ 6, 17]), array([ 3, 16])]\n",
            "[array([ 6, 17]), array([ 3, 16]), array([ 3, 12])]\n",
            "[array([ 3, 16]), array([ 3, 12]), array([ 4, 19])]\n",
            "[array([ 3, 12]), array([ 4, 19]), array([ 6, 15])]\n",
            "[array([ 4, 19]), array([ 6, 15]), array([ 7, 11])]\n",
            "[array([ 6, 15]), array([ 7, 11]), array([ 3, 10])]\n",
            "[array([ 7, 11]), array([ 3, 10]), array([ 5, 14])]\n",
            "[array([ 3, 10]), array([ 5, 14]), array([ 5, 11])]\n",
            "[array([ 5, 14]), array([ 5, 11])]\n",
            "[array([ 5, 11])]\n"
          ]
        }
      ]
    },
    {
      "cell_type": "markdown",
      "metadata": {
        "id": "PudZVkPT7Vix"
      },
      "source": [
        "if there are not enough input elements to fill the window and drop_remainder evaluates to True, these will be dropped "
      ]
    },
    {
      "cell_type": "code",
      "metadata": {
        "id": "hfzZxZx85wTv"
      },
      "source": [
        "data = data1.window(3, shift=1, drop_remainder= True)"
      ],
      "execution_count": 68,
      "outputs": []
    },
    {
      "cell_type": "code",
      "metadata": {
        "colab": {
          "base_uri": "https://localhost:8080/"
        },
        "id": "q1EY3Ec86Hxx",
        "outputId": "262a7f06-3947-48d8-8c33-cf79a4b99a2f"
      },
      "source": [
        "for window in data:\n",
        "  print(list(window.as_numpy_iterator()))"
      ],
      "execution_count": 69,
      "outputs": [
        {
          "output_type": "stream",
          "name": "stdout",
          "text": [
            "[array([ 3, 13]), array([ 3, 14]), array([ 6, 13])]\n",
            "[array([ 3, 14]), array([ 6, 13]), array([ 3, 10])]\n",
            "[array([ 6, 13]), array([ 3, 10]), array([ 6, 14])]\n",
            "[array([ 3, 10]), array([ 6, 14]), array([ 6, 11])]\n",
            "[array([ 6, 14]), array([ 6, 11]), array([ 5, 16])]\n",
            "[array([ 6, 11]), array([ 5, 16]), array([ 8, 19])]\n",
            "[array([ 5, 16]), array([ 8, 19]), array([ 5, 18])]\n",
            "[array([ 8, 19]), array([ 5, 18]), array([ 6, 11])]\n",
            "[array([ 5, 18]), array([ 6, 11]), array([ 5, 12])]\n",
            "[array([ 6, 11]), array([ 5, 12]), array([ 6, 17])]\n",
            "[array([ 5, 12]), array([ 6, 17]), array([ 3, 16])]\n",
            "[array([ 6, 17]), array([ 3, 16]), array([ 3, 12])]\n",
            "[array([ 3, 16]), array([ 3, 12]), array([ 4, 19])]\n",
            "[array([ 3, 12]), array([ 4, 19]), array([ 6, 15])]\n",
            "[array([ 4, 19]), array([ 6, 15]), array([ 7, 11])]\n",
            "[array([ 6, 15]), array([ 7, 11]), array([ 3, 10])]\n",
            "[array([ 7, 11]), array([ 3, 10]), array([ 5, 14])]\n",
            "[array([ 3, 10]), array([ 5, 14]), array([ 5, 11])]\n"
          ]
        }
      ]
    },
    {
      "cell_type": "code",
      "metadata": {
        "id": "gJ0EbVwT6IRD"
      },
      "source": [
        "data = data1.window(3, shift=None, drop_remainder= False)"
      ],
      "execution_count": 70,
      "outputs": []
    },
    {
      "cell_type": "code",
      "metadata": {
        "colab": {
          "base_uri": "https://localhost:8080/"
        },
        "id": "BxPAJAvA63fv",
        "outputId": "d9bb6225-ee81-4219-819b-2ae962c12a39"
      },
      "source": [
        "for window in data:\n",
        "  print(list(window.as_numpy_iterator()))"
      ],
      "execution_count": 71,
      "outputs": [
        {
          "output_type": "stream",
          "name": "stdout",
          "text": [
            "[array([ 3, 13]), array([ 3, 14]), array([ 6, 13])]\n",
            "[array([ 3, 10]), array([ 6, 14]), array([ 6, 11])]\n",
            "[array([ 5, 16]), array([ 8, 19]), array([ 5, 18])]\n",
            "[array([ 6, 11]), array([ 5, 12]), array([ 6, 17])]\n",
            "[array([ 3, 16]), array([ 3, 12]), array([ 4, 19])]\n",
            "[array([ 6, 15]), array([ 7, 11]), array([ 3, 10])]\n",
            "[array([ 5, 14]), array([ 5, 11])]\n"
          ]
        }
      ]
    },
    {
      "cell_type": "markdown",
      "metadata": {
        "id": "j9Q9OIdK7M4h"
      },
      "source": [
        "if there are not enough input elements to fill the window and drop_remainder evaluates to True, these will be dropped "
      ]
    },
    {
      "cell_type": "code",
      "metadata": {
        "colab": {
          "base_uri": "https://localhost:8080/"
        },
        "id": "mO815YLZ65-N",
        "outputId": "0ab6f815-b17d-490e-fc70-8b2e7d8e82d9"
      },
      "source": [
        "data = data1.window(3, shift=None, drop_remainder= True)\n",
        "for window in data:\n",
        "  print(list(window.as_numpy_iterator()))"
      ],
      "execution_count": 72,
      "outputs": [
        {
          "output_type": "stream",
          "name": "stdout",
          "text": [
            "[array([ 3, 13]), array([ 3, 14]), array([ 6, 13])]\n",
            "[array([ 3, 10]), array([ 6, 14]), array([ 6, 11])]\n",
            "[array([ 5, 16]), array([ 8, 19]), array([ 5, 18])]\n",
            "[array([ 6, 11]), array([ 5, 12]), array([ 6, 17])]\n",
            "[array([ 3, 16]), array([ 3, 12]), array([ 4, 19])]\n",
            "[array([ 6, 15]), array([ 7, 11]), array([ 3, 10])]\n"
          ]
        }
      ]
    },
    {
      "cell_type": "code",
      "metadata": {
        "id": "tcJX4XaB7CAp"
      },
      "source": [
        "data = data.flat_map(lambda k: k.batch(3))"
      ],
      "execution_count": 73,
      "outputs": []
    },
    {
      "cell_type": "code",
      "metadata": {
        "colab": {
          "base_uri": "https://localhost:8080/"
        },
        "id": "wm0j2xAe8Ck1",
        "outputId": "c9abb7a6-e128-442f-e54f-f946dd3cd127"
      },
      "source": [
        "print(list(data.as_numpy_iterator()))"
      ],
      "execution_count": 77,
      "outputs": [
        {
          "output_type": "stream",
          "name": "stdout",
          "text": [
            "[array([[ 3, 13],\n",
            "       [ 3, 14],\n",
            "       [ 6, 13]]), array([[ 3, 10],\n",
            "       [ 6, 14],\n",
            "       [ 6, 11]]), array([[ 5, 16],\n",
            "       [ 8, 19],\n",
            "       [ 5, 18]]), array([[ 6, 11],\n",
            "       [ 5, 12],\n",
            "       [ 6, 17]]), array([[ 3, 16],\n",
            "       [ 3, 12],\n",
            "       [ 4, 19]]), array([[ 6, 15],\n",
            "       [ 7, 11],\n",
            "       [ 3, 10]])]\n"
          ]
        }
      ]
    },
    {
      "cell_type": "code",
      "metadata": {
        "id": "11erZPcU8Dw_"
      },
      "source": [
        "shuffle_buffer_size = len(dx)"
      ],
      "execution_count": 78,
      "outputs": []
    },
    {
      "cell_type": "code",
      "metadata": {
        "id": "zr7B91cG8jIV"
      },
      "source": [
        "data = data.shuffle(shuffle_buffer_size, seed=42)"
      ],
      "execution_count": 79,
      "outputs": []
    },
    {
      "cell_type": "code",
      "metadata": {
        "colab": {
          "base_uri": "https://localhost:8080/"
        },
        "id": "KBPAhMcA8ph0",
        "outputId": "081678dd-0e4b-4153-bb5d-727f8a6754a3"
      },
      "source": [
        "print(list(data.as_numpy_iterator()))"
      ],
      "execution_count": 80,
      "outputs": [
        {
          "output_type": "stream",
          "name": "stdout",
          "text": [
            "[array([[ 6, 11],\n",
            "       [ 5, 12],\n",
            "       [ 6, 17]]), array([[ 5, 16],\n",
            "       [ 8, 19],\n",
            "       [ 5, 18]]), array([[ 3, 10],\n",
            "       [ 6, 14],\n",
            "       [ 6, 11]]), array([[ 3, 16],\n",
            "       [ 3, 12],\n",
            "       [ 4, 19]]), array([[ 6, 15],\n",
            "       [ 7, 11],\n",
            "       [ 3, 10]]), array([[ 3, 13],\n",
            "       [ 3, 14],\n",
            "       [ 6, 13]])]\n"
          ]
        }
      ]
    },
    {
      "cell_type": "code",
      "metadata": {
        "id": "dVfmTj_G8uYh"
      },
      "source": [
        ""
      ],
      "execution_count": null,
      "outputs": []
    }
  ]
}