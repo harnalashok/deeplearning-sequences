{
  "nbformat": 4,
  "nbformat_minor": 0,
  "metadata": {
    "colab": {
      "provenance": [],
      "authorship_tag": "ABX9TyP71ubZkI06IHk8EkWxfFXW",
      "include_colab_link": true
    },
    "kernelspec": {
      "name": "python3",
      "display_name": "Python 3"
    },
    "language_info": {
      "name": "python"
    }
  },
  "cells": [
    {
      "cell_type": "markdown",
      "metadata": {
        "id": "view-in-github",
        "colab_type": "text"
      },
      "source": [
        "<a href=\"https://colab.research.google.com/github/harnalashok/deeplearning-sequences/blob/main/simpleRNN_in_numpy.ipynb\" target=\"_parent\"><img src=\"https://colab.research.google.com/assets/colab-badge.svg\" alt=\"Open In Colab\"/></a>"
      ]
    },
    {
      "cell_type": "code",
      "source": [
        "# Last amended: 4th Feb, 2021\n",
        "# A simple RNN implemented in numpy"
      ],
      "metadata": {
        "id": "oxaTUTjXqXxL"
      },
      "execution_count": null,
      "outputs": []
    },
    {
      "cell_type": "code",
      "source": [
        "# 1.0 Call libraries\n",
        "import numpy as np"
      ],
      "metadata": {
        "id": "Mm867nYzqKiS"
      },
      "execution_count": null,
      "outputs": []
    },
    {
      "cell_type": "code",
      "execution_count": null,
      "metadata": {
        "id": "uWJLxXrMp_fy"
      },
      "outputs": [],
      "source": [
        "# 2.0 Constants:\n",
        "\n",
        "timesteps = 100\n",
        "input_features = 32\n",
        "output_features = 64\n"
      ]
    },
    {
      "cell_type": "code",
      "source": [
        "# 3.0 Our data\n",
        "inputs = np.random.random((timesteps, input_features))\n",
        "inputs"
      ],
      "metadata": {
        "id": "3m2fjgMFqPF7"
      },
      "execution_count": null,
      "outputs": []
    },
    {
      "cell_type": "code",
      "source": [
        "# 4.0 Initial hidden state\n",
        "hidden_state_t = np.zeros((output_features,))"
      ],
      "metadata": {
        "id": "54QX_HekqRgW"
      },
      "execution_count": null,
      "outputs": []
    },
    {
      "cell_type": "code",
      "source": [
        "# Weights\n",
        "\n",
        "W = np.random.random((output_features, input_features))      # Input weights\n",
        "U = np.random.random((output_features, output_features))     # weights for hidden layer\n",
        "b = np.random.random((output_features,))                     # bias"
      ],
      "metadata": {
        "id": "DYvcxM-JqVNz"
      },
      "execution_count": null,
      "outputs": []
    },
    {
      "cell_type": "code",
      "source": [
        "# RNN implentation:\n",
        "\n",
        "successive_outputs = []\n",
        "for input_t in inputs:\n",
        "  output_t = np.tanh(np.dot(W, input_t) + np.dot(U, state_t) + b)\n",
        "  successive_outputs.append(output_t)\n",
        "  state_t = output_t\n",
        "final_output_sequence = np.concatenate(successive_outputs, axis=0)"
      ],
      "metadata": {
        "id": "xwGvYMbdqNRF"
      },
      "execution_count": null,
      "outputs": []
    }
  ]
}