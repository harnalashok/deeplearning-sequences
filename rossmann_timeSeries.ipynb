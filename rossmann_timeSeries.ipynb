{
  "nbformat": 4,
  "nbformat_minor": 0,
  "metadata": {
    "colab": {
      "name": "rossmann_timeSeries.ipynb",
      "provenance": [],
      "collapsed_sections": [
        "C80VfZlh9x6s",
        "IoObqk0T6i8G",
        "vIic22Co6nur",
        "85uMUxTY6vwb",
        "pcXNsc0-wRSo",
        "hipXsYcFftDw",
        "Cx-s7mEKitTv",
        "Usxe6D-Ci6Nv",
        "yXyoHjCnuszF"
      ],
      "toc_visible": true,
      "mount_file_id": "1VOFRG00oKgKhXEr9JCCGuBnayEOYsVXX",
      "authorship_tag": "ABX9TyPw8x2Ds/gkbYHckezyDh5z",
      "include_colab_link": true
    },
    "kernelspec": {
      "name": "python3",
      "display_name": "Python 3"
    }
  },
  "cells": [
    {
      "cell_type": "markdown",
      "metadata": {
        "id": "view-in-github",
        "colab_type": "text"
      },
      "source": [
        "<a href=\"https://colab.research.google.com/github/harnalashok/deeplearning-sequences/blob/main/rossmann_timeSeries.ipynb\" target=\"_parent\"><img src=\"https://colab.research.google.com/assets/colab-badge.svg\" alt=\"Open In Colab\"/></a>"
      ]
    },
    {
      "cell_type": "code",
      "metadata": {
        "id": "BhAmpiM9pIcK"
      },
      "source": [
        "# https://colab.research.google.com/github/duchaba2/fastai_san_ramon_biztech/blob/master/smbt_rossman_data_clean.ipynb#scrollTo=UImWYEGiaFUS\r\n",
        "# fastai.core: https://docs.fast.ai/tabular.core.html\r\n",
        "# https://www.kaggle.com/hortonhearsafoo/fast-ai-lesson-3"
      ],
      "execution_count": null,
      "outputs": []
    },
    {
      "cell_type": "code",
      "metadata": {
        "id": "kvlWK3owjYW0"
      },
      "source": [
        "# Last amended: 17th March, 2021\r\n",
        "# My folder: \r\n",
        "# Objectives:\r\n",
        "#           i) Predicting sales in Rossmann Store Sales\r\n",
        "#          ii) Feature generation in TimeSeries data"
      ],
      "execution_count": null,
      "outputs": []
    },
    {
      "cell_type": "markdown",
      "metadata": {
        "id": "MHddjTn2iQxE"
      },
      "source": [
        "# The problem\r\n",
        "Rossmann operates over 3,000 drug stores in 7 European countries. Currently, Rossmann store managers are tasked with predicting their daily sales for up to six weeks in advance. Store sales are influenced by many factors, including promotions, competition, school and state holidays, seasonality, and locality. With thousands of individual managers predicting sales based on their unique circumstances, the accuracy of results can be quite varied."
      ]
    },
    {
      "cell_type": "markdown",
      "metadata": {
        "id": "mS1TBKgghwx1"
      },
      "source": [
        "### Field descriptions\r\n",
        "\r\n",
        "Most of the fields are self-explanatory. The following are descriptions for those that aren't.\r\n",
        "    \r\n",
        ">  **Id** - an Id that represents a (Store, Date) duple within the test set<br>\r\n",
        ">  **Store** - a unique Id for each store<br>\r\n",
        ">  **Sales** - the turnover for any given day (this is what you are predicting)<br>\r\n",
        ">  **Customers** - the number of customers on a given day<br>\r\n",
        ">  **Open** - an indicator for whether the store was open: 0 = closed, 1 = open<br>\r\n",
        ">  **StateHoliday** - indicates a state holiday. Normally all stores, with few exceptions, are closed on state holidays. Note that all schools are closed on public holidays and weekends. a = public holiday, b = Easter holiday, c = Christmas, 0 = None<br>\r\n",
        ">  **SchoolHoliday** - indicates if the (Store, Date) was affected by the closure of public schools<br>\r\n",
        ">  **StoreType** - differentiates between 4 different store models: a, b, c, d<br>\r\n",
        ">  **Assortment** - describes an assortment level: a = basic, b = extra, c = extended<br>\r\n",
        ">   **CompetitionDistance** - distance in meters to the nearest competitor store<br>\r\n",
        ">  **CompetitionOpenSince**[Month/Year] - gives the approximate year and month of the time the nearest competitor was opened<br>\r\n",
        ">  **Promo** - indicates whether a store is running a promo on that day<br>\r\n",
        "> **Promo2** - Promo2 is a continuing and consecutive promotion for some stores: 0 = store is not participating, 1 = store is participating<br>\r\n",
        "> **Promo2Since**[Year/Week] - describes the year and calendar week when the store started participating in Promo2<br>\r\n",
        ">  **PromoInterval** - describes the consecutive intervals Promo2 is started, naming the months the promotion is started anew. E.g. \"Feb,May,Aug,Nov\" means each round starts in February, May, August, November of any given year for that store\r\n"
      ]
    },
    {
      "cell_type": "markdown",
      "metadata": {
        "id": "C80VfZlh9x6s"
      },
      "source": [
        "### Libraries and data files"
      ]
    },
    {
      "cell_type": "code",
      "metadata": {
        "id": "s18hPeHUpT5S"
      },
      "source": [
        "#import pytorch and AI\r\n",
        "#!pip install --upgrade git+https://github.com/fastai/fastai.git"
      ],
      "execution_count": 28,
      "outputs": []
    },
    {
      "cell_type": "code",
      "metadata": {
        "id": "eNA8RnrCnC3m"
      },
      "source": [
        "#(Optional) double check your import pytorch and fast.ai version\r\n",
        "# fastai related\r\n",
        "import fastai\r\n",
        "import fastai.tabular\r\n",
        "from fastai.basics import *\r\n",
        "import fastai.utils\r\n",
        "#from fastai.data import *"
      ],
      "execution_count": 99,
      "outputs": []
    },
    {
      "cell_type": "code",
      "metadata": {
        "colab": {
          "base_uri": "https://localhost:8080/"
        },
        "id": "CJmtjpK7p84R",
        "outputId": "06d7f3d4-515f-4bea-fa19-ef983ea43293"
      },
      "source": [
        "# 1.0 Connect to your google drive\r\n",
        "#     Transfer rossmann files from \r\n",
        "#     gdrive to colab VM\r\n",
        "\r\n",
        "from google.colab import drive\r\n",
        "drive.mount('/content/drive')"
      ],
      "execution_count": 100,
      "outputs": [
        {
          "output_type": "stream",
          "text": [
            "Drive already mounted at /content/drive; to attempt to forcibly remount, call drive.mount(\"/content/drive\", force_remount=True).\n"
          ],
          "name": "stdout"
        }
      ]
    },
    {
      "cell_type": "code",
      "metadata": {
        "id": "JAKqwnhU_orx",
        "colab": {
          "base_uri": "https://localhost:8080/"
        },
        "outputId": "0a9a32e8-2716-4e7f-97ab-89caf9dffdff"
      },
      "source": [
        "# 1.1 Copy files from source to Colab\r\n",
        "source=\"/content/drive/MyDrive/Colab_data_files/rossmannStoreSales\"\r\n",
        "dest=\"/content\"\r\n",
        "\r\n",
        "# 1.1.1 Remove existing folders\r\n",
        "! rm -rf $dest/rossmannStoreSales\r\n",
        "\r\n",
        "# 1.1.2 Copy files from gdrive to colab VM\r\n",
        "! cp -r $source $dest/rossmannStoreSales\r\n",
        "\r\n",
        "# 1.1.3 Check\r\n",
        "! ls -la $dest/rossmannStoreSales\r\n"
      ],
      "execution_count": 101,
      "outputs": [
        {
          "output_type": "stream",
          "text": [
            "shell-init: error retrieving current directory: getcwd: cannot access parent directories: No such file or directory\n",
            "shell-init: error retrieving current directory: getcwd: cannot access parent directories: No such file or directory\n",
            "total 13512\n",
            "drwx------ 2 root root    4096 Mar 18 00:30 .\n",
            "drwxr-xr-x 1 root root    4096 Mar 18 00:30 ..\n",
            "-rw------- 1 root root 7730448 Mar 18 00:30 rossmann.tgz\n",
            "-rw------- 1 root root    8529 Mar 18 00:30 store.csv.zip\n",
            "-rw------- 1 root root  146686 Mar 18 00:30 test.csv.zip\n",
            "-rw------- 1 root root 5931096 Mar 18 00:30 train.csv.zip\n"
          ],
          "name": "stdout"
        }
      ]
    },
    {
      "cell_type": "code",
      "metadata": {
        "id": "WhLsxIb4AORv"
      },
      "source": [
        "# 1.2 Untar tgz file\r\n",
        "! tar -xvzf $dest/rossmannStoreSales/rossmann.tgz -C $dest/rossmannStoreSales/\r\n",
        "\r\n",
        "# 1.2.1 And check if all files are there\r\n",
        "! ls -la $dest/rossmannStoreSales"
      ],
      "execution_count": null,
      "outputs": []
    },
    {
      "cell_type": "code",
      "metadata": {
        "id": "8NudIzFKA9lh"
      },
      "source": [
        "# 1.3 Call libraries\r\n",
        "import pandas as pd\r\n",
        "import numpy as np\r\n",
        "import os"
      ],
      "execution_count": 103,
      "outputs": []
    },
    {
      "cell_type": "code",
      "metadata": {
        "id": "4qXm_H5cGeYX"
      },
      "source": [
        "# 1.4 Display output of multiple commands from a cell\r\n",
        "from IPython.core.interactiveshell import InteractiveShell\r\n",
        "InteractiveShell.ast_node_interactivity = \"all\""
      ],
      "execution_count": 104,
      "outputs": []
    },
    {
      "cell_type": "code",
      "metadata": {
        "id": "uaBY9CaEFMfA",
        "colab": {
          "base_uri": "https://localhost:8080/"
        },
        "outputId": "1066ea85-0fb9-4a34-8062-f2f82191ea04"
      },
      "source": [
        "# 1.5 Path to our files\r\n",
        "path = \"/content/rossmannStoreSales\"\r\n",
        "os.chdir(path)\r\n",
        "os.listdir()"
      ],
      "execution_count": 105,
      "outputs": [
        {
          "output_type": "execute_result",
          "data": {
            "text/plain": [
              "['test.csv.zip',\n",
              " 'rossmann.tgz',\n",
              " 'weather.csv',\n",
              " 'googletrend.csv',\n",
              " 'store_states.csv',\n",
              " 'state_names.csv',\n",
              " 'train.csv.zip',\n",
              " 'train.csv',\n",
              " 'test.csv',\n",
              " 'store.csv',\n",
              " 'sample_submission.csv',\n",
              " 'store.csv.zip']"
            ]
          },
          "metadata": {
            "tags": []
          },
          "execution_count": 105
        }
      ]
    },
    {
      "cell_type": "markdown",
      "metadata": {
        "id": "FK7iJxk3v84L"
      },
      "source": [
        "### Read all data"
      ]
    },
    {
      "cell_type": "code",
      "metadata": {
        "id": "Q6xaf2UTFaHk",
        "colab": {
          "base_uri": "https://localhost:8080/"
        },
        "outputId": "abace4b9-e3aa-40d9-fbeb-024cd1208f34"
      },
      "source": [
        "# 2.0 Read all seven files using pandas\r\n",
        "train = pd.read_csv(\"train.csv\")\r\n",
        "store = pd.read_csv(\"store.csv\")\r\n",
        "weather = pd.read_csv(\"weather.csv\")\r\n",
        "\r\n",
        "# 2.0.1\r\n",
        "test = pd.read_csv(\"test.csv\")\r\n",
        "\r\n",
        "# 2.0.2\r\n",
        "googletrend = pd.read_csv(\"googletrend.csv\")\r\n",
        "state_names = pd.read_csv(\"state_names.csv\")\r\n",
        "store_states = pd.read_csv(\"store_states.csv\")"
      ],
      "execution_count": 112,
      "outputs": [
        {
          "output_type": "stream",
          "text": [
            "/usr/local/lib/python3.7/dist-packages/IPython/core/interactiveshell.py:2718: DtypeWarning: Columns (7) have mixed types.Specify dtype option on import or set low_memory=False.\n",
            "  interactivity=interactivity, compiler=compiler, result=result)\n"
          ],
          "name": "stderr"
        }
      ]
    },
    {
      "cell_type": "markdown",
      "metadata": {
        "id": "IoObqk0T6i8G"
      },
      "source": [
        "### Explore train data"
      ]
    },
    {
      "cell_type": "code",
      "metadata": {
        "id": "9Lbt4sNLo5fx"
      },
      "source": [
        "# 2.1 Look at train data\r\n",
        "print(\"\\n---train----\\n\")\r\n",
        "train.shape         # (1017209, 9)\r\n",
        "print(\"\\n------train------\\n\")\r\n",
        "train.head()\r\n",
        "print(\"\\n-----Summary------\\n\")\r\n",
        "train.describe()\r\n",
        "print(\"\\n-----dtypes------\\n\")\r\n",
        "train.dtypes"
      ],
      "execution_count": null,
      "outputs": []
    },
    {
      "cell_type": "code",
      "metadata": {
        "id": "JQ6FVrgAsqC1"
      },
      "source": [
        "# 2.2\r\n",
        "train['Store'].nunique()             # 1115\r\n",
        "print()\r\n",
        "train['Promo'].nunique()             # 2\r\n",
        "train['Promo'].unique()              # [1,0] \r\n",
        "print()\r\n",
        "train['Open'].nunique()              # 2\r\n",
        "train['Open'].unique()               # [1,0]\r\n",
        "print()\r\n",
        "train['SchoolHoliday'].nunique()     # 2\r\n",
        "train['SchoolHoliday'].unique()\r\n",
        "print()\r\n",
        "train['StateHoliday'].nunique()      # 5\r\n",
        "train['StateHoliday'].unique()       # ['0', 'a', 'b', 'c', 0]\r\n",
        "print()\r\n",
        "train['Date'].nunique()              # 942"
      ],
      "execution_count": null,
      "outputs": []
    },
    {
      "cell_type": "code",
      "metadata": {
        "id": "cK5YG__qv5hH"
      },
      "source": [
        "# 2.3 About nulls\r\n",
        "#     No nulls here\r\n",
        "train.isnull().sum()"
      ],
      "execution_count": null,
      "outputs": []
    },
    {
      "cell_type": "markdown",
      "metadata": {
        "id": "vIic22Co6nur"
      },
      "source": [
        "### Explore Store data"
      ]
    },
    {
      "cell_type": "code",
      "metadata": {
        "id": "_F8NpnoowijI"
      },
      "source": [
        "# 3.0 Look at store data\r\n",
        "print(\"\\n---shape----\\n\")\r\n",
        "store.shape         # (1115, 10)\r\n",
        "print(\"\\n------data------\\n\")\r\n",
        "store.head()\r\n",
        "print(\"\\n-----Summary------\\n\")\r\n",
        "store.describe()\r\n",
        "print(\"\\n-----dtypes------\\n\")\r\n",
        "store.dtypes"
      ],
      "execution_count": null,
      "outputs": []
    },
    {
      "cell_type": "code",
      "metadata": {
        "id": "Zr0EbNDrxY1w"
      },
      "source": [
        "# 3.1\r\n",
        "store['StoreType'].unique()     # ['c', 'a', 'd', 'b']\r\n",
        "print()\r\n",
        "store['Assortment'].unique()    # ['a', 'c', 'b']\r\n",
        "print()\r\n",
        "store['Promo2'].unique()        # [0,1]\r\n",
        "print()\r\n",
        "np.sort(store['CompetitionOpenSinceYear'].unique()) # Large number of years from 1961, 1990 to 2015\r\n",
        "                                                    #  excluding NaN and 1900"
      ],
      "execution_count": null,
      "outputs": []
    },
    {
      "cell_type": "code",
      "metadata": {
        "id": "KZvZ8M9rybMP"
      },
      "source": [
        "# 3.2 Whenever Promo2 is zero, three other columns carry NaN values\r\n",
        "store.loc[store['Promo2'] == 0, ['Promo2','Promo2SinceWeek','Promo2SinceYear', 'PromoInterval']].head(5)\r\n",
        "print()\r\n",
        "store.isnull().sum()"
      ],
      "execution_count": null,
      "outputs": []
    },
    {
      "cell_type": "code",
      "metadata": {
        "id": "6hTu5sge5lKw"
      },
      "source": [
        "# 3.3 Three cases where CompetitionDistance is NULL\r\n",
        "#     CompetitionOpenSinceMonth and CompetitionOpenSinceYear\r\n",
        "#     are also NULL\r\n",
        "\r\n",
        "store.loc[store['CompetitionDistance'].isnull() , :].head()"
      ],
      "execution_count": null,
      "outputs": []
    },
    {
      "cell_type": "markdown",
      "metadata": {
        "id": "85uMUxTY6vwb"
      },
      "source": [
        "### Explore weather data"
      ]
    },
    {
      "cell_type": "code",
      "metadata": {
        "id": "rnIdLWYg6yrL"
      },
      "source": [
        "# 4.0 Look at weather data\r\n",
        "print(\"\\n---shape----\\n\")\r\n",
        "weather.shape         # (15840, 24)\r\n",
        "print(\"\\n------data------\\n\")\r\n",
        "weather.head()\r\n",
        "print(\"\\n-----Summary------\\n\")\r\n",
        "weather.describe()\r\n",
        "print(\"\\n-----dtypes------\\n\")\r\n",
        "weather.dtypes"
      ],
      "execution_count": null,
      "outputs": []
    },
    {
      "cell_type": "code",
      "metadata": {
        "colab": {
          "base_uri": "https://localhost:8080/"
        },
        "id": "v0-YPX317xIS",
        "outputId": "49036d68-c6e9-4dc6-d99b-3d8fde6fa0c9"
      },
      "source": [
        "# 4.1 Unique values for object features\r\n",
        "weather['file'].nunique()     # 16\r\n",
        "print()\r\n",
        "weather['Date'].nunique()     # 990 Some dates are repeating for some 'file'\r\n",
        "print()\r\n",
        "weather['Events'].nunique()   # 21 unique weather events"
      ],
      "execution_count": 93,
      "outputs": [
        {
          "output_type": "execute_result",
          "data": {
            "text/plain": [
              "16"
            ]
          },
          "metadata": {
            "tags": []
          },
          "execution_count": 93
        },
        {
          "output_type": "stream",
          "text": [
            "\n"
          ],
          "name": "stdout"
        },
        {
          "output_type": "execute_result",
          "data": {
            "text/plain": [
              "990"
            ]
          },
          "metadata": {
            "tags": []
          },
          "execution_count": 93
        },
        {
          "output_type": "stream",
          "text": [
            "\n"
          ],
          "name": "stdout"
        },
        {
          "output_type": "execute_result",
          "data": {
            "text/plain": [
              "21"
            ]
          },
          "metadata": {
            "tags": []
          },
          "execution_count": 93
        }
      ]
    },
    {
      "cell_type": "code",
      "metadata": {
        "id": "IHvKjN2v8qo8"
      },
      "source": [
        "# 4.2 Null values\r\n",
        "#     Some columns have NULL values\r\n",
        "#     Max_Gust_SpeedKm_h has very large number of NULL values\r\n",
        "#     Events: In 3951 cases no Events recorded\r\n",
        "weather.isnull().sum().sort_values(ascending = False).head(10)"
      ],
      "execution_count": null,
      "outputs": []
    },
    {
      "cell_type": "markdown",
      "metadata": {
        "id": "K2sEbDtp9nXJ"
      },
      "source": [
        "### Google trends and other data"
      ]
    },
    {
      "cell_type": "markdown",
      "metadata": {
        "id": "pcXNsc0-wRSo"
      },
      "source": [
        "#### Explore googletrends"
      ]
    },
    {
      "cell_type": "code",
      "metadata": {
        "id": "T77kovy3Z0Z9"
      },
      "source": [
        "# 5.0 Look at googletrend data\r\n",
        "print(\"\\n---google trends----\\n\")\r\n",
        "googletrend.shape         # (1017209, 9)\r\n",
        "print()\r\n",
        "googletrend.head()        # (15840, 24)\r\n",
        "print()\r\n",
        "googletrend.dtypes"
      ],
      "execution_count": null,
      "outputs": []
    },
    {
      "cell_type": "code",
      "metadata": {
        "id": "9tKBTo_yFC63"
      },
      "source": [
        "# 5.1 A little more \r\n",
        "googletrend['week'].nunique()   # 148\r\n",
        "print()\r\n",
        "googletrend['file'].nunique()   # 14"
      ],
      "execution_count": null,
      "outputs": []
    },
    {
      "cell_type": "markdown",
      "metadata": {
        "id": "hipXsYcFftDw"
      },
      "source": [
        "#### Split up '*week*' and '*file*' columns of googletrend\r\n",
        "This will create new columns. In pandas you can add new columns to a dataframe by simply defining it. We'll do this for googletrends by extracting dates and state names from the given data and adding those columns.\r\n",
        "\r\n",
        "We're also going to replace all instances of state name 'NI' to match the usage in the rest of the data: 'HB,NI'. This is a good opportunity to highlight pandas indexing. We can use .loc[rows, cols] to select a list of rows and a list of columns from the dataframe. In this case, we're selecting rows w/ statename 'NI' by using a boolean list googletrend.State=='NI' and selecting \"State\".\r\n",
        "\r\n",
        "\r\n",
        "---\r\n",
        "\r\n"
      ]
    },
    {
      "cell_type": "code",
      "metadata": {
        "colab": {
          "base_uri": "https://localhost:8080/"
        },
        "id": "WabWj66KfO6o",
        "outputId": "0b3db939-ac29-4561-ac47-3e6090409a54"
      },
      "source": [
        "# 6.0\r\n",
        "# Refer\" # https://pandas.pydata.org/pandas-docs/stable/reference/api/pandas.Series.str.split.html\r\n",
        "#  String split with 'expand'\r\n",
        "googletrend.week.str.split(\r\n",
        "                           ' - ',         # split on this '_'\r\n",
        "                           expand = True  # Each split part is a column now\r\n",
        "                           )[0].head(2)   # select the first split part as a column & display\r\n"
      ],
      "execution_count": 113,
      "outputs": [
        {
          "output_type": "execute_result",
          "data": {
            "text/plain": [
              "0    2012-12-02\n",
              "1    2012-12-09\n",
              "Name: 0, dtype: object"
            ]
          },
          "metadata": {
            "tags": []
          },
          "execution_count": 113
        }
      ]
    },
    {
      "cell_type": "code",
      "metadata": {
        "colab": {
          "base_uri": "https://localhost:8080/",
          "height": 225
        },
        "id": "umCXfmU6fSNv",
        "outputId": "12c9a7d7-a5e0-426c-f047-b7c9e3d1550d"
      },
      "source": [
        "# 6.1 Split 'week' field at ' - '\r\n",
        "googletrend['Date'] = googletrend.week.str.split(' - ', expand=True)[0]\r\n",
        "\r\n",
        "# 6.2 Split 'file' field at '_' and capture the 2nd index as new column\r\n",
        "googletrend['State'] = googletrend.file.str.split('_', expand=True)[2]\r\n",
        "\r\n",
        "# 6.3\r\n",
        "googletrend.loc[googletrend.State=='NI', \"State\"] = 'HB,NI'\r\n",
        "googletrend.head()\r\n",
        "\r\n",
        "# 6.4 Also check if any 'NI' remaining\r\n",
        "np.sum(googletrend.State=='NI')  # 0"
      ],
      "execution_count": 114,
      "outputs": [
        {
          "output_type": "execute_result",
          "data": {
            "text/html": [
              "<div>\n",
              "<style scoped>\n",
              "    .dataframe tbody tr th:only-of-type {\n",
              "        vertical-align: middle;\n",
              "    }\n",
              "\n",
              "    .dataframe tbody tr th {\n",
              "        vertical-align: top;\n",
              "    }\n",
              "\n",
              "    .dataframe thead th {\n",
              "        text-align: right;\n",
              "    }\n",
              "</style>\n",
              "<table border=\"1\" class=\"dataframe\">\n",
              "  <thead>\n",
              "    <tr style=\"text-align: right;\">\n",
              "      <th></th>\n",
              "      <th>file</th>\n",
              "      <th>week</th>\n",
              "      <th>trend</th>\n",
              "      <th>Date</th>\n",
              "      <th>State</th>\n",
              "    </tr>\n",
              "  </thead>\n",
              "  <tbody>\n",
              "    <tr>\n",
              "      <th>0</th>\n",
              "      <td>Rossmann_DE_SN</td>\n",
              "      <td>2012-12-02 - 2012-12-08</td>\n",
              "      <td>96</td>\n",
              "      <td>2012-12-02</td>\n",
              "      <td>SN</td>\n",
              "    </tr>\n",
              "    <tr>\n",
              "      <th>1</th>\n",
              "      <td>Rossmann_DE_SN</td>\n",
              "      <td>2012-12-09 - 2012-12-15</td>\n",
              "      <td>95</td>\n",
              "      <td>2012-12-09</td>\n",
              "      <td>SN</td>\n",
              "    </tr>\n",
              "    <tr>\n",
              "      <th>2</th>\n",
              "      <td>Rossmann_DE_SN</td>\n",
              "      <td>2012-12-16 - 2012-12-22</td>\n",
              "      <td>91</td>\n",
              "      <td>2012-12-16</td>\n",
              "      <td>SN</td>\n",
              "    </tr>\n",
              "    <tr>\n",
              "      <th>3</th>\n",
              "      <td>Rossmann_DE_SN</td>\n",
              "      <td>2012-12-23 - 2012-12-29</td>\n",
              "      <td>48</td>\n",
              "      <td>2012-12-23</td>\n",
              "      <td>SN</td>\n",
              "    </tr>\n",
              "    <tr>\n",
              "      <th>4</th>\n",
              "      <td>Rossmann_DE_SN</td>\n",
              "      <td>2012-12-30 - 2013-01-05</td>\n",
              "      <td>67</td>\n",
              "      <td>2012-12-30</td>\n",
              "      <td>SN</td>\n",
              "    </tr>\n",
              "  </tbody>\n",
              "</table>\n",
              "</div>"
            ],
            "text/plain": [
              "             file                     week  trend        Date State\n",
              "0  Rossmann_DE_SN  2012-12-02 - 2012-12-08     96  2012-12-02    SN\n",
              "1  Rossmann_DE_SN  2012-12-09 - 2012-12-15     95  2012-12-09    SN\n",
              "2  Rossmann_DE_SN  2012-12-16 - 2012-12-22     91  2012-12-16    SN\n",
              "3  Rossmann_DE_SN  2012-12-23 - 2012-12-29     48  2012-12-23    SN\n",
              "4  Rossmann_DE_SN  2012-12-30 - 2013-01-05     67  2012-12-30    SN"
            ]
          },
          "metadata": {
            "tags": []
          },
          "execution_count": 114
        },
        {
          "output_type": "execute_result",
          "data": {
            "text/plain": [
              "0"
            ]
          },
          "metadata": {
            "tags": []
          },
          "execution_count": 114
        }
      ]
    },
    {
      "cell_type": "code",
      "metadata": {
        "colab": {
          "base_uri": "https://localhost:8080/",
          "height": 363
        },
        "id": "2uk8Ti5olY5_",
        "outputId": "cfbd8463-4075-4b2a-ff20-abbe97a4be4e"
      },
      "source": [
        "# 6.4.1\r\n",
        "googletrend.head(10)"
      ],
      "execution_count": 115,
      "outputs": [
        {
          "output_type": "execute_result",
          "data": {
            "text/html": [
              "<div>\n",
              "<style scoped>\n",
              "    .dataframe tbody tr th:only-of-type {\n",
              "        vertical-align: middle;\n",
              "    }\n",
              "\n",
              "    .dataframe tbody tr th {\n",
              "        vertical-align: top;\n",
              "    }\n",
              "\n",
              "    .dataframe thead th {\n",
              "        text-align: right;\n",
              "    }\n",
              "</style>\n",
              "<table border=\"1\" class=\"dataframe\">\n",
              "  <thead>\n",
              "    <tr style=\"text-align: right;\">\n",
              "      <th></th>\n",
              "      <th>file</th>\n",
              "      <th>week</th>\n",
              "      <th>trend</th>\n",
              "      <th>Date</th>\n",
              "      <th>State</th>\n",
              "    </tr>\n",
              "  </thead>\n",
              "  <tbody>\n",
              "    <tr>\n",
              "      <th>0</th>\n",
              "      <td>Rossmann_DE_SN</td>\n",
              "      <td>2012-12-02 - 2012-12-08</td>\n",
              "      <td>96</td>\n",
              "      <td>2012-12-02</td>\n",
              "      <td>SN</td>\n",
              "    </tr>\n",
              "    <tr>\n",
              "      <th>1</th>\n",
              "      <td>Rossmann_DE_SN</td>\n",
              "      <td>2012-12-09 - 2012-12-15</td>\n",
              "      <td>95</td>\n",
              "      <td>2012-12-09</td>\n",
              "      <td>SN</td>\n",
              "    </tr>\n",
              "    <tr>\n",
              "      <th>2</th>\n",
              "      <td>Rossmann_DE_SN</td>\n",
              "      <td>2012-12-16 - 2012-12-22</td>\n",
              "      <td>91</td>\n",
              "      <td>2012-12-16</td>\n",
              "      <td>SN</td>\n",
              "    </tr>\n",
              "    <tr>\n",
              "      <th>3</th>\n",
              "      <td>Rossmann_DE_SN</td>\n",
              "      <td>2012-12-23 - 2012-12-29</td>\n",
              "      <td>48</td>\n",
              "      <td>2012-12-23</td>\n",
              "      <td>SN</td>\n",
              "    </tr>\n",
              "    <tr>\n",
              "      <th>4</th>\n",
              "      <td>Rossmann_DE_SN</td>\n",
              "      <td>2012-12-30 - 2013-01-05</td>\n",
              "      <td>67</td>\n",
              "      <td>2012-12-30</td>\n",
              "      <td>SN</td>\n",
              "    </tr>\n",
              "    <tr>\n",
              "      <th>5</th>\n",
              "      <td>Rossmann_DE_SN</td>\n",
              "      <td>2013-01-06 - 2013-01-12</td>\n",
              "      <td>71</td>\n",
              "      <td>2013-01-06</td>\n",
              "      <td>SN</td>\n",
              "    </tr>\n",
              "    <tr>\n",
              "      <th>6</th>\n",
              "      <td>Rossmann_DE_SN</td>\n",
              "      <td>2013-01-13 - 2013-01-19</td>\n",
              "      <td>53</td>\n",
              "      <td>2013-01-13</td>\n",
              "      <td>SN</td>\n",
              "    </tr>\n",
              "    <tr>\n",
              "      <th>7</th>\n",
              "      <td>Rossmann_DE_SN</td>\n",
              "      <td>2013-01-20 - 2013-01-26</td>\n",
              "      <td>58</td>\n",
              "      <td>2013-01-20</td>\n",
              "      <td>SN</td>\n",
              "    </tr>\n",
              "    <tr>\n",
              "      <th>8</th>\n",
              "      <td>Rossmann_DE_SN</td>\n",
              "      <td>2013-01-27 - 2013-02-02</td>\n",
              "      <td>55</td>\n",
              "      <td>2013-01-27</td>\n",
              "      <td>SN</td>\n",
              "    </tr>\n",
              "    <tr>\n",
              "      <th>9</th>\n",
              "      <td>Rossmann_DE_SN</td>\n",
              "      <td>2013-02-03 - 2013-02-09</td>\n",
              "      <td>55</td>\n",
              "      <td>2013-02-03</td>\n",
              "      <td>SN</td>\n",
              "    </tr>\n",
              "  </tbody>\n",
              "</table>\n",
              "</div>"
            ],
            "text/plain": [
              "             file                     week  trend        Date State\n",
              "0  Rossmann_DE_SN  2012-12-02 - 2012-12-08     96  2012-12-02    SN\n",
              "1  Rossmann_DE_SN  2012-12-09 - 2012-12-15     95  2012-12-09    SN\n",
              "2  Rossmann_DE_SN  2012-12-16 - 2012-12-22     91  2012-12-16    SN\n",
              "3  Rossmann_DE_SN  2012-12-23 - 2012-12-29     48  2012-12-23    SN\n",
              "4  Rossmann_DE_SN  2012-12-30 - 2013-01-05     67  2012-12-30    SN\n",
              "5  Rossmann_DE_SN  2013-01-06 - 2013-01-12     71  2013-01-06    SN\n",
              "6  Rossmann_DE_SN  2013-01-13 - 2013-01-19     53  2013-01-13    SN\n",
              "7  Rossmann_DE_SN  2013-01-20 - 2013-01-26     58  2013-01-20    SN\n",
              "8  Rossmann_DE_SN  2013-01-27 - 2013-02-02     55  2013-01-27    SN\n",
              "9  Rossmann_DE_SN  2013-02-03 - 2013-02-09     55  2013-02-03    SN"
            ]
          },
          "metadata": {
            "tags": []
          },
          "execution_count": 115
        }
      ]
    },
    {
      "cell_type": "markdown",
      "metadata": {
        "id": "Cx-s7mEKitTv"
      },
      "source": [
        "### More explorations"
      ]
    },
    {
      "cell_type": "code",
      "metadata": {
        "id": "15Ve-8UaHU78"
      },
      "source": [
        "# 7.0 \r\n",
        "state_names.head()\r\n",
        "print()\r\n",
        "state_names.State.nunique() # 16\r\n",
        "print()\r\n",
        "store_states.head()\r\n",
        "print()\r\n",
        "store_states['Store'].nunique()   # 1115\r\n",
        "print()\r\n",
        "store_states['State'].nunique()   # 12"
      ],
      "execution_count": null,
      "outputs": []
    },
    {
      "cell_type": "code",
      "metadata": {
        "id": "LdjkZS8GHDga"
      },
      "source": [
        "# 7.1 StateHoliday\r\n",
        "train.StateHoliday.dtype\r\n",
        "print()\r\n",
        "train.StateHoliday[:4]"
      ],
      "execution_count": null,
      "outputs": []
    },
    {
      "cell_type": "markdown",
      "metadata": {
        "id": "Usxe6D-Ci6Nv"
      },
      "source": [
        "### Transform *StateHoliday* field\r\n",
        "We turn state Holidays to booleans, to make them more convenient for modeling. We can do calculations on pandas fields using notation very similar (often identical) to numpy."
      ]
    },
    {
      "cell_type": "code",
      "metadata": {
        "id": "qQDa1-4rISf5",
        "colab": {
          "base_uri": "https://localhost:8080/"
        },
        "outputId": "7945433c-6afc-45f0-85f9-9a8d177209d4"
      },
      "source": [
        "# 7.2 StateHoliday replace by True/False\r\n",
        "train.StateHoliday = train.StateHoliday!='0'\r\n",
        "train.StateHoliday[:4]\r\n",
        "print()\r\n",
        "# 7.2.1\r\n",
        "test.StateHoliday = test.StateHoliday!='0'\r\n",
        "test.StateHoliday[:4]"
      ],
      "execution_count": 116,
      "outputs": [
        {
          "output_type": "execute_result",
          "data": {
            "text/plain": [
              "0    False\n",
              "1    False\n",
              "2    False\n",
              "3    False\n",
              "Name: StateHoliday, dtype: bool"
            ]
          },
          "metadata": {
            "tags": []
          },
          "execution_count": 116
        },
        {
          "output_type": "stream",
          "text": [
            "\n"
          ],
          "name": "stdout"
        },
        {
          "output_type": "execute_result",
          "data": {
            "text/plain": [
              "0    False\n",
              "1    False\n",
              "2    False\n",
              "3    False\n",
              "Name: StateHoliday, dtype: bool"
            ]
          },
          "metadata": {
            "tags": []
          },
          "execution_count": 116
        }
      ]
    },
    {
      "cell_type": "markdown",
      "metadata": {
        "id": "yXyoHjCnuszF"
      },
      "source": [
        "### Date components"
      ]
    },
    {
      "cell_type": "markdown",
      "metadata": {
        "id": "BnkIfjppsBv2"
      },
      "source": [
        "#### `add_datepart()` [fastai](https://github.com/fastai/fastai/blob/master/fastai/tabular/core.py#L15) function\r\n",
        "The following extracts particular date fields from a complete datetime for the purpose of constructing categoricals.\r\n",
        "\r\n",
        "You should ***always*** consider this feature extraction step when working with date-time. Without expanding your date-time into these additional fields, you can't capture any trend/cyclical behavior as a function of time at any of these granularities. We'll add to every table with a date field."
      ]
    },
    {
      "cell_type": "code",
      "metadata": {
        "id": "7CyyL6dJsABe"
      },
      "source": [
        "# 8.0\r\n",
        "## add_datepart()\r\n",
        "# Break every date-field is broken into multiple components:\r\n",
        "# ['Year', 'Month', 'Week', 'Day', 'Dayofweek', 'Dayofyear',\r\n",
        "#  'Is_month_end', 'Is_month_start', 'Is_quarter_end', \r\n",
        "#  'Is_quarter_start', 'Is_year_end', 'Is_year_start']\r\n",
        "#\r\n",
        "# Source: https://colab.research.google.com/github/duchaba2/fastai_san_ramon_biztech/blob/master/smbt_rossman_data_clean.ipynb#scrollTo=AgmbiE0MR8LE\r\n",
        "\r\n",
        "import re\r\n",
        "def add_datepart(df, fldname, drop=True, time=False):\r\n",
        "    \"Helper function that adds columns relevant to a date.\"\r\n",
        "\r\n",
        "    fld = df[fldname]\r\n",
        "    fld_dtype = fld.dtype\r\n",
        "\r\n",
        "    # If date-field in not of 'date' type,\r\n",
        "    #  transform it\r\n",
        "    if isinstance(fld_dtype, pd.core.dtypes.dtypes.DatetimeTZDtype):\r\n",
        "        fld_dtype = np.datetime64\r\n",
        "\r\n",
        "    if not np.issubdtype(fld_dtype, np.datetime64):\r\n",
        "        df[fldname] = fld = pd.to_datetime(fld, infer_datetime_format=True)\r\n",
        "\r\n",
        "    targ_pre = re.sub('[Dd]ate$', '', fldname)\r\n",
        "    attr = [\r\n",
        "             'Year', 'Month', 'Week', 'Day', 'Dayofweek', 'Dayofyear',\r\n",
        "             'Is_month_end', 'Is_month_start', 'Is_quarter_end', \r\n",
        "             'Is_quarter_start', 'Is_year_end', 'Is_year_start'\r\n",
        "             ]\r\n",
        "\r\n",
        "    if time:\r\n",
        "       attr = attr + ['Hour', 'Minute', 'Second']\r\n",
        "    \r\n",
        "    # Begin attribute extraction using '.dt. accessor\r\n",
        "    for n in attr: \r\n",
        "      df[targ_pre + n] = getattr(fld.dt, n.lower())\r\n",
        "\r\n",
        "    df[targ_pre + 'Elapsed'] = fld.astype(np.int64) // 10 ** 9\r\n",
        "    \r\n",
        "    # If original date-field is to be dropped, drop it\r\n",
        "    if drop: \r\n",
        "      df.drop(fldname, axis=1, inplace=True)"
      ],
      "execution_count": 117,
      "outputs": []
    },
    {
      "cell_type": "code",
      "metadata": {
        "colab": {
          "base_uri": "https://localhost:8080/"
        },
        "id": "64_YhGwuunCa",
        "outputId": "b834f01e-1799-4521-f84a-a6af480471e6"
      },
      "source": [
        "# 8.1  Using above function, breakup\r\n",
        "#      'dates' in all cases below\r\n",
        "add_datepart(train, \"Date\", drop=False)\r\n",
        "# 8.1.1\r\n",
        "add_datepart(test, \"Date\", drop=False)\r\n",
        "# 8.1.2\r\n",
        "add_datepart(weather, \"Date\", drop=False)\r\n",
        "# 8.1.3\r\n",
        "add_datepart(googletrend, \"Date\", drop=False)\r\n",
        "# 8.1.4\r\n",
        "add_datepart(weather, \"Date\", drop=False)"
      ],
      "execution_count": 118,
      "outputs": [
        {
          "output_type": "stream",
          "text": [
            "/usr/local/lib/python3.7/dist-packages/ipykernel_launcher.py:37: FutureWarning: Series.dt.weekofyear and Series.dt.week have been deprecated.  Please use Series.dt.isocalendar().week instead.\n"
          ],
          "name": "stderr"
        }
      ]
    },
    {
      "cell_type": "code",
      "metadata": {
        "colab": {
          "base_uri": "https://localhost:8080/",
          "height": 300
        },
        "id": "PbwNCiY3v8Cl",
        "outputId": "04de7f84-a229-456a-cf74-394bbd252dda"
      },
      "source": [
        "# 8.2 So what are the revised data shapes\r\n",
        "train.shape    # (1017209, 22)\r\n",
        "print()\r\n",
        "test.shape     # (41088, 21)\r\n",
        "print()\r\n",
        "weather.shape    # (15840, 37)\r\n",
        "print()\r\n",
        "googletrend.shape # (2072, 18)\r\n",
        "print()\r\n",
        "# 8.3 And look at one data\r\n",
        "train.head()"
      ],
      "execution_count": 119,
      "outputs": [
        {
          "output_type": "execute_result",
          "data": {
            "text/plain": [
              "(1017209, 22)"
            ]
          },
          "metadata": {
            "tags": []
          },
          "execution_count": 119
        },
        {
          "output_type": "stream",
          "text": [
            "\n"
          ],
          "name": "stdout"
        },
        {
          "output_type": "execute_result",
          "data": {
            "text/plain": [
              "(41088, 21)"
            ]
          },
          "metadata": {
            "tags": []
          },
          "execution_count": 119
        },
        {
          "output_type": "stream",
          "text": [
            "\n"
          ],
          "name": "stdout"
        },
        {
          "output_type": "execute_result",
          "data": {
            "text/plain": [
              "(15840, 37)"
            ]
          },
          "metadata": {
            "tags": []
          },
          "execution_count": 119
        },
        {
          "output_type": "stream",
          "text": [
            "\n"
          ],
          "name": "stdout"
        },
        {
          "output_type": "execute_result",
          "data": {
            "text/plain": [
              "(2072, 18)"
            ]
          },
          "metadata": {
            "tags": []
          },
          "execution_count": 119
        },
        {
          "output_type": "stream",
          "text": [
            "\n"
          ],
          "name": "stdout"
        },
        {
          "output_type": "execute_result",
          "data": {
            "text/html": [
              "<div>\n",
              "<style scoped>\n",
              "    .dataframe tbody tr th:only-of-type {\n",
              "        vertical-align: middle;\n",
              "    }\n",
              "\n",
              "    .dataframe tbody tr th {\n",
              "        vertical-align: top;\n",
              "    }\n",
              "\n",
              "    .dataframe thead th {\n",
              "        text-align: right;\n",
              "    }\n",
              "</style>\n",
              "<table border=\"1\" class=\"dataframe\">\n",
              "  <thead>\n",
              "    <tr style=\"text-align: right;\">\n",
              "      <th></th>\n",
              "      <th>Store</th>\n",
              "      <th>DayOfWeek</th>\n",
              "      <th>Date</th>\n",
              "      <th>Sales</th>\n",
              "      <th>Customers</th>\n",
              "      <th>Open</th>\n",
              "      <th>Promo</th>\n",
              "      <th>StateHoliday</th>\n",
              "      <th>SchoolHoliday</th>\n",
              "      <th>Year</th>\n",
              "      <th>Month</th>\n",
              "      <th>Week</th>\n",
              "      <th>Day</th>\n",
              "      <th>Dayofweek</th>\n",
              "      <th>Dayofyear</th>\n",
              "      <th>Is_month_end</th>\n",
              "      <th>Is_month_start</th>\n",
              "      <th>Is_quarter_end</th>\n",
              "      <th>Is_quarter_start</th>\n",
              "      <th>Is_year_end</th>\n",
              "      <th>Is_year_start</th>\n",
              "      <th>Elapsed</th>\n",
              "    </tr>\n",
              "  </thead>\n",
              "  <tbody>\n",
              "    <tr>\n",
              "      <th>0</th>\n",
              "      <td>1</td>\n",
              "      <td>5</td>\n",
              "      <td>2015-07-31</td>\n",
              "      <td>5263</td>\n",
              "      <td>555</td>\n",
              "      <td>1</td>\n",
              "      <td>1</td>\n",
              "      <td>False</td>\n",
              "      <td>1</td>\n",
              "      <td>2015</td>\n",
              "      <td>7</td>\n",
              "      <td>31</td>\n",
              "      <td>31</td>\n",
              "      <td>4</td>\n",
              "      <td>212</td>\n",
              "      <td>True</td>\n",
              "      <td>False</td>\n",
              "      <td>False</td>\n",
              "      <td>False</td>\n",
              "      <td>False</td>\n",
              "      <td>False</td>\n",
              "      <td>1438300800</td>\n",
              "    </tr>\n",
              "    <tr>\n",
              "      <th>1</th>\n",
              "      <td>2</td>\n",
              "      <td>5</td>\n",
              "      <td>2015-07-31</td>\n",
              "      <td>6064</td>\n",
              "      <td>625</td>\n",
              "      <td>1</td>\n",
              "      <td>1</td>\n",
              "      <td>False</td>\n",
              "      <td>1</td>\n",
              "      <td>2015</td>\n",
              "      <td>7</td>\n",
              "      <td>31</td>\n",
              "      <td>31</td>\n",
              "      <td>4</td>\n",
              "      <td>212</td>\n",
              "      <td>True</td>\n",
              "      <td>False</td>\n",
              "      <td>False</td>\n",
              "      <td>False</td>\n",
              "      <td>False</td>\n",
              "      <td>False</td>\n",
              "      <td>1438300800</td>\n",
              "    </tr>\n",
              "    <tr>\n",
              "      <th>2</th>\n",
              "      <td>3</td>\n",
              "      <td>5</td>\n",
              "      <td>2015-07-31</td>\n",
              "      <td>8314</td>\n",
              "      <td>821</td>\n",
              "      <td>1</td>\n",
              "      <td>1</td>\n",
              "      <td>False</td>\n",
              "      <td>1</td>\n",
              "      <td>2015</td>\n",
              "      <td>7</td>\n",
              "      <td>31</td>\n",
              "      <td>31</td>\n",
              "      <td>4</td>\n",
              "      <td>212</td>\n",
              "      <td>True</td>\n",
              "      <td>False</td>\n",
              "      <td>False</td>\n",
              "      <td>False</td>\n",
              "      <td>False</td>\n",
              "      <td>False</td>\n",
              "      <td>1438300800</td>\n",
              "    </tr>\n",
              "    <tr>\n",
              "      <th>3</th>\n",
              "      <td>4</td>\n",
              "      <td>5</td>\n",
              "      <td>2015-07-31</td>\n",
              "      <td>13995</td>\n",
              "      <td>1498</td>\n",
              "      <td>1</td>\n",
              "      <td>1</td>\n",
              "      <td>False</td>\n",
              "      <td>1</td>\n",
              "      <td>2015</td>\n",
              "      <td>7</td>\n",
              "      <td>31</td>\n",
              "      <td>31</td>\n",
              "      <td>4</td>\n",
              "      <td>212</td>\n",
              "      <td>True</td>\n",
              "      <td>False</td>\n",
              "      <td>False</td>\n",
              "      <td>False</td>\n",
              "      <td>False</td>\n",
              "      <td>False</td>\n",
              "      <td>1438300800</td>\n",
              "    </tr>\n",
              "    <tr>\n",
              "      <th>4</th>\n",
              "      <td>5</td>\n",
              "      <td>5</td>\n",
              "      <td>2015-07-31</td>\n",
              "      <td>4822</td>\n",
              "      <td>559</td>\n",
              "      <td>1</td>\n",
              "      <td>1</td>\n",
              "      <td>False</td>\n",
              "      <td>1</td>\n",
              "      <td>2015</td>\n",
              "      <td>7</td>\n",
              "      <td>31</td>\n",
              "      <td>31</td>\n",
              "      <td>4</td>\n",
              "      <td>212</td>\n",
              "      <td>True</td>\n",
              "      <td>False</td>\n",
              "      <td>False</td>\n",
              "      <td>False</td>\n",
              "      <td>False</td>\n",
              "      <td>False</td>\n",
              "      <td>1438300800</td>\n",
              "    </tr>\n",
              "  </tbody>\n",
              "</table>\n",
              "</div>"
            ],
            "text/plain": [
              "   Store  DayOfWeek       Date  ...  Is_year_end  Is_year_start     Elapsed\n",
              "0      1          5 2015-07-31  ...        False          False  1438300800\n",
              "1      2          5 2015-07-31  ...        False          False  1438300800\n",
              "2      3          5 2015-07-31  ...        False          False  1438300800\n",
              "3      4          5 2015-07-31  ...        False          False  1438300800\n",
              "4      5          5 2015-07-31  ...        False          False  1438300800\n",
              "\n",
              "[5 rows x 22 columns]"
            ]
          },
          "metadata": {
            "tags": []
          },
          "execution_count": 119
        }
      ]
    },
    {
      "cell_type": "markdown",
      "metadata": {
        "id": "mg6JIjlJwHqE"
      },
      "source": [
        "The Google trends data has a special category for the whole of the Germany - we'll pull that out so we can use it explicitly."
      ]
    },
    {
      "cell_type": "code",
      "metadata": {
        "colab": {
          "base_uri": "https://localhost:8080/",
          "height": 818
        },
        "id": "sG_Tx8LawCM8",
        "outputId": "39afddf5-09ef-444e-faaf-cca870039875"
      },
      "source": [
        "# 8.4\r\n",
        "googletrend.shape  # (2072, 18)\r\n",
        "googletrend.head()\r\n",
        "print()\r\n",
        "trend_de = googletrend[googletrend.file == 'Rossmann_DE']\r\n",
        "trend_de.shape    # (148, 18)\r\n",
        "print()\r\n",
        "trend_de.head()"
      ],
      "execution_count": 120,
      "outputs": [
        {
          "output_type": "execute_result",
          "data": {
            "text/plain": [
              "(2072, 18)"
            ]
          },
          "metadata": {
            "tags": []
          },
          "execution_count": 120
        },
        {
          "output_type": "execute_result",
          "data": {
            "text/html": [
              "<div>\n",
              "<style scoped>\n",
              "    .dataframe tbody tr th:only-of-type {\n",
              "        vertical-align: middle;\n",
              "    }\n",
              "\n",
              "    .dataframe tbody tr th {\n",
              "        vertical-align: top;\n",
              "    }\n",
              "\n",
              "    .dataframe thead th {\n",
              "        text-align: right;\n",
              "    }\n",
              "</style>\n",
              "<table border=\"1\" class=\"dataframe\">\n",
              "  <thead>\n",
              "    <tr style=\"text-align: right;\">\n",
              "      <th></th>\n",
              "      <th>file</th>\n",
              "      <th>week</th>\n",
              "      <th>trend</th>\n",
              "      <th>Date</th>\n",
              "      <th>State</th>\n",
              "      <th>Year</th>\n",
              "      <th>Month</th>\n",
              "      <th>Week</th>\n",
              "      <th>Day</th>\n",
              "      <th>Dayofweek</th>\n",
              "      <th>Dayofyear</th>\n",
              "      <th>Is_month_end</th>\n",
              "      <th>Is_month_start</th>\n",
              "      <th>Is_quarter_end</th>\n",
              "      <th>Is_quarter_start</th>\n",
              "      <th>Is_year_end</th>\n",
              "      <th>Is_year_start</th>\n",
              "      <th>Elapsed</th>\n",
              "    </tr>\n",
              "  </thead>\n",
              "  <tbody>\n",
              "    <tr>\n",
              "      <th>0</th>\n",
              "      <td>Rossmann_DE_SN</td>\n",
              "      <td>2012-12-02 - 2012-12-08</td>\n",
              "      <td>96</td>\n",
              "      <td>2012-12-02</td>\n",
              "      <td>SN</td>\n",
              "      <td>2012</td>\n",
              "      <td>12</td>\n",
              "      <td>48</td>\n",
              "      <td>2</td>\n",
              "      <td>6</td>\n",
              "      <td>337</td>\n",
              "      <td>False</td>\n",
              "      <td>False</td>\n",
              "      <td>False</td>\n",
              "      <td>False</td>\n",
              "      <td>False</td>\n",
              "      <td>False</td>\n",
              "      <td>1354406400</td>\n",
              "    </tr>\n",
              "    <tr>\n",
              "      <th>1</th>\n",
              "      <td>Rossmann_DE_SN</td>\n",
              "      <td>2012-12-09 - 2012-12-15</td>\n",
              "      <td>95</td>\n",
              "      <td>2012-12-09</td>\n",
              "      <td>SN</td>\n",
              "      <td>2012</td>\n",
              "      <td>12</td>\n",
              "      <td>49</td>\n",
              "      <td>9</td>\n",
              "      <td>6</td>\n",
              "      <td>344</td>\n",
              "      <td>False</td>\n",
              "      <td>False</td>\n",
              "      <td>False</td>\n",
              "      <td>False</td>\n",
              "      <td>False</td>\n",
              "      <td>False</td>\n",
              "      <td>1355011200</td>\n",
              "    </tr>\n",
              "    <tr>\n",
              "      <th>2</th>\n",
              "      <td>Rossmann_DE_SN</td>\n",
              "      <td>2012-12-16 - 2012-12-22</td>\n",
              "      <td>91</td>\n",
              "      <td>2012-12-16</td>\n",
              "      <td>SN</td>\n",
              "      <td>2012</td>\n",
              "      <td>12</td>\n",
              "      <td>50</td>\n",
              "      <td>16</td>\n",
              "      <td>6</td>\n",
              "      <td>351</td>\n",
              "      <td>False</td>\n",
              "      <td>False</td>\n",
              "      <td>False</td>\n",
              "      <td>False</td>\n",
              "      <td>False</td>\n",
              "      <td>False</td>\n",
              "      <td>1355616000</td>\n",
              "    </tr>\n",
              "    <tr>\n",
              "      <th>3</th>\n",
              "      <td>Rossmann_DE_SN</td>\n",
              "      <td>2012-12-23 - 2012-12-29</td>\n",
              "      <td>48</td>\n",
              "      <td>2012-12-23</td>\n",
              "      <td>SN</td>\n",
              "      <td>2012</td>\n",
              "      <td>12</td>\n",
              "      <td>51</td>\n",
              "      <td>23</td>\n",
              "      <td>6</td>\n",
              "      <td>358</td>\n",
              "      <td>False</td>\n",
              "      <td>False</td>\n",
              "      <td>False</td>\n",
              "      <td>False</td>\n",
              "      <td>False</td>\n",
              "      <td>False</td>\n",
              "      <td>1356220800</td>\n",
              "    </tr>\n",
              "    <tr>\n",
              "      <th>4</th>\n",
              "      <td>Rossmann_DE_SN</td>\n",
              "      <td>2012-12-30 - 2013-01-05</td>\n",
              "      <td>67</td>\n",
              "      <td>2012-12-30</td>\n",
              "      <td>SN</td>\n",
              "      <td>2012</td>\n",
              "      <td>12</td>\n",
              "      <td>52</td>\n",
              "      <td>30</td>\n",
              "      <td>6</td>\n",
              "      <td>365</td>\n",
              "      <td>False</td>\n",
              "      <td>False</td>\n",
              "      <td>False</td>\n",
              "      <td>False</td>\n",
              "      <td>False</td>\n",
              "      <td>False</td>\n",
              "      <td>1356825600</td>\n",
              "    </tr>\n",
              "  </tbody>\n",
              "</table>\n",
              "</div>"
            ],
            "text/plain": [
              "             file                     week  ...  Is_year_start     Elapsed\n",
              "0  Rossmann_DE_SN  2012-12-02 - 2012-12-08  ...          False  1354406400\n",
              "1  Rossmann_DE_SN  2012-12-09 - 2012-12-15  ...          False  1355011200\n",
              "2  Rossmann_DE_SN  2012-12-16 - 2012-12-22  ...          False  1355616000\n",
              "3  Rossmann_DE_SN  2012-12-23 - 2012-12-29  ...          False  1356220800\n",
              "4  Rossmann_DE_SN  2012-12-30 - 2013-01-05  ...          False  1356825600\n",
              "\n",
              "[5 rows x 18 columns]"
            ]
          },
          "metadata": {
            "tags": []
          },
          "execution_count": 120
        },
        {
          "output_type": "stream",
          "text": [
            "\n"
          ],
          "name": "stdout"
        },
        {
          "output_type": "execute_result",
          "data": {
            "text/plain": [
              "(148, 18)"
            ]
          },
          "metadata": {
            "tags": []
          },
          "execution_count": 120
        },
        {
          "output_type": "stream",
          "text": [
            "\n"
          ],
          "name": "stdout"
        },
        {
          "output_type": "execute_result",
          "data": {
            "text/html": [
              "<div>\n",
              "<style scoped>\n",
              "    .dataframe tbody tr th:only-of-type {\n",
              "        vertical-align: middle;\n",
              "    }\n",
              "\n",
              "    .dataframe tbody tr th {\n",
              "        vertical-align: top;\n",
              "    }\n",
              "\n",
              "    .dataframe thead th {\n",
              "        text-align: right;\n",
              "    }\n",
              "</style>\n",
              "<table border=\"1\" class=\"dataframe\">\n",
              "  <thead>\n",
              "    <tr style=\"text-align: right;\">\n",
              "      <th></th>\n",
              "      <th>file</th>\n",
              "      <th>week</th>\n",
              "      <th>trend</th>\n",
              "      <th>Date</th>\n",
              "      <th>State</th>\n",
              "      <th>Year</th>\n",
              "      <th>Month</th>\n",
              "      <th>Week</th>\n",
              "      <th>Day</th>\n",
              "      <th>Dayofweek</th>\n",
              "      <th>Dayofyear</th>\n",
              "      <th>Is_month_end</th>\n",
              "      <th>Is_month_start</th>\n",
              "      <th>Is_quarter_end</th>\n",
              "      <th>Is_quarter_start</th>\n",
              "      <th>Is_year_end</th>\n",
              "      <th>Is_year_start</th>\n",
              "      <th>Elapsed</th>\n",
              "    </tr>\n",
              "  </thead>\n",
              "  <tbody>\n",
              "    <tr>\n",
              "      <th>148</th>\n",
              "      <td>Rossmann_DE</td>\n",
              "      <td>2012-12-02 - 2012-12-08</td>\n",
              "      <td>77</td>\n",
              "      <td>2012-12-02</td>\n",
              "      <td>None</td>\n",
              "      <td>2012</td>\n",
              "      <td>12</td>\n",
              "      <td>48</td>\n",
              "      <td>2</td>\n",
              "      <td>6</td>\n",
              "      <td>337</td>\n",
              "      <td>False</td>\n",
              "      <td>False</td>\n",
              "      <td>False</td>\n",
              "      <td>False</td>\n",
              "      <td>False</td>\n",
              "      <td>False</td>\n",
              "      <td>1354406400</td>\n",
              "    </tr>\n",
              "    <tr>\n",
              "      <th>149</th>\n",
              "      <td>Rossmann_DE</td>\n",
              "      <td>2012-12-09 - 2012-12-15</td>\n",
              "      <td>76</td>\n",
              "      <td>2012-12-09</td>\n",
              "      <td>None</td>\n",
              "      <td>2012</td>\n",
              "      <td>12</td>\n",
              "      <td>49</td>\n",
              "      <td>9</td>\n",
              "      <td>6</td>\n",
              "      <td>344</td>\n",
              "      <td>False</td>\n",
              "      <td>False</td>\n",
              "      <td>False</td>\n",
              "      <td>False</td>\n",
              "      <td>False</td>\n",
              "      <td>False</td>\n",
              "      <td>1355011200</td>\n",
              "    </tr>\n",
              "    <tr>\n",
              "      <th>150</th>\n",
              "      <td>Rossmann_DE</td>\n",
              "      <td>2012-12-16 - 2012-12-22</td>\n",
              "      <td>85</td>\n",
              "      <td>2012-12-16</td>\n",
              "      <td>None</td>\n",
              "      <td>2012</td>\n",
              "      <td>12</td>\n",
              "      <td>50</td>\n",
              "      <td>16</td>\n",
              "      <td>6</td>\n",
              "      <td>351</td>\n",
              "      <td>False</td>\n",
              "      <td>False</td>\n",
              "      <td>False</td>\n",
              "      <td>False</td>\n",
              "      <td>False</td>\n",
              "      <td>False</td>\n",
              "      <td>1355616000</td>\n",
              "    </tr>\n",
              "    <tr>\n",
              "      <th>151</th>\n",
              "      <td>Rossmann_DE</td>\n",
              "      <td>2012-12-23 - 2012-12-29</td>\n",
              "      <td>59</td>\n",
              "      <td>2012-12-23</td>\n",
              "      <td>None</td>\n",
              "      <td>2012</td>\n",
              "      <td>12</td>\n",
              "      <td>51</td>\n",
              "      <td>23</td>\n",
              "      <td>6</td>\n",
              "      <td>358</td>\n",
              "      <td>False</td>\n",
              "      <td>False</td>\n",
              "      <td>False</td>\n",
              "      <td>False</td>\n",
              "      <td>False</td>\n",
              "      <td>False</td>\n",
              "      <td>1356220800</td>\n",
              "    </tr>\n",
              "    <tr>\n",
              "      <th>152</th>\n",
              "      <td>Rossmann_DE</td>\n",
              "      <td>2012-12-30 - 2013-01-05</td>\n",
              "      <td>61</td>\n",
              "      <td>2012-12-30</td>\n",
              "      <td>None</td>\n",
              "      <td>2012</td>\n",
              "      <td>12</td>\n",
              "      <td>52</td>\n",
              "      <td>30</td>\n",
              "      <td>6</td>\n",
              "      <td>365</td>\n",
              "      <td>False</td>\n",
              "      <td>False</td>\n",
              "      <td>False</td>\n",
              "      <td>False</td>\n",
              "      <td>False</td>\n",
              "      <td>False</td>\n",
              "      <td>1356825600</td>\n",
              "    </tr>\n",
              "  </tbody>\n",
              "</table>\n",
              "</div>"
            ],
            "text/plain": [
              "            file                     week  ...  Is_year_start     Elapsed\n",
              "148  Rossmann_DE  2012-12-02 - 2012-12-08  ...          False  1354406400\n",
              "149  Rossmann_DE  2012-12-09 - 2012-12-15  ...          False  1355011200\n",
              "150  Rossmann_DE  2012-12-16 - 2012-12-22  ...          False  1355616000\n",
              "151  Rossmann_DE  2012-12-23 - 2012-12-29  ...          False  1356220800\n",
              "152  Rossmann_DE  2012-12-30 - 2013-01-05  ...          False  1356825600\n",
              "\n",
              "[5 rows x 18 columns]"
            ]
          },
          "metadata": {
            "tags": []
          },
          "execution_count": 120
        }
      ]
    },
    {
      "cell_type": "markdown",
      "metadata": {
        "id": "OAOTNVdquw_s"
      },
      "source": [
        "### Joining tables"
      ]
    },
    {
      "cell_type": "markdown",
      "metadata": {
        "id": "yrfT86M9uxYE"
      },
      "source": [
        "`join_df` is a function for joining tables on specific fields. By default, we'll be doing a left outer join of right on the left argument using the given fields for each table. Pandas does joins using the merge method. The suffixes argument describes the naming convention for duplicate fields. We've elected to leave the duplicate field names on the left untouched, and append a \"_y\" to those on the right."
      ]
    },
    {
      "cell_type": "code",
      "metadata": {
        "id": "M0db9_h6u4uI"
      },
      "source": [
        "# 9.0 Define a small function for merging tables\r\n",
        "# df.merge(right,\r\n",
        "#          how='inner',\r\n",
        "#          left_on=None,     # Column or index level names to join on in the left DataFrame\r\n",
        "#          right_on=None,    # Column or index level names to join on in the right DataFrame.\r\n",
        "#          suffixes=('_x', '_y')) #  a string indicating the suffix to add to overlapping column name\r\n",
        "\r\n",
        "def join_df(leftTable, rightTable, left_onField, right_onField=None, suffix='_y'):\r\n",
        "\r\n",
        "    # 9.0.1 Both right and left fields would be same\r\n",
        "    if right_onField is None: \r\n",
        "      right_onField = left_onField  # Both sides are same\r\n",
        "\r\n",
        "    # 9.0.2 Return merged table  \r\n",
        "    return leftTable.merge(\r\n",
        "                            rightTable,\r\n",
        "                            how='left',            # It is 'left' join AND NOT 'inner' join\r\n",
        "                                                   # We cannot loose left-side data\r\n",
        "                            left_on=left_onField,     \r\n",
        "                            right_on=right_onField, \r\n",
        "                            suffixes=(\"\", suffix)   # left side: no suffix, \r\n",
        "                                                    # right side default is \"_y\"\r\n",
        "                                                    # unless mentioned in the function\r\n",
        "                                                    # call arguments \r\n",
        "                            )\r\n",
        "    "
      ],
      "execution_count": 121,
      "outputs": []
    },
    {
      "cell_type": "code",
      "metadata": {
        "id": "e9vcO4AoJKrT"
      },
      "source": [
        "# 9.1 Join1: (weather + state_names)\r\n",
        "#     join_df(leftTable, rightTable, left_onField, right_onField=None, suffix='_y')\r\n",
        "\r\n",
        "weather.shape    # (15840, 37)\r\n",
        "\r\n",
        "print()\r\n",
        "\r\n",
        "# 9.2 Suffix is \"_y\":\r\n",
        "weather = join_df(weather,     # Left df\r\n",
        "                  state_names, # right df\r\n",
        "                  \"file\",      # Ist column of 'weather': Contains state names\r\n",
        "                  \"StateName\"  # Ist column of 'state_name'\r\n",
        "                  )\r\n",
        "\r\n",
        "print()\r\n",
        "\r\n",
        "# 9.3\r\n",
        "weather.shape   # (15840, 37+2)"
      ],
      "execution_count": null,
      "outputs": []
    },
    {
      "cell_type": "code",
      "metadata": {
        "colab": {
          "base_uri": "https://localhost:8080/",
          "height": 132
        },
        "id": "1tR5GtfBM2No",
        "outputId": "bcc87991-e023-4d13-b0f2-df2ac5462f94"
      },
      "source": [
        "# 9.4 Columns 'file' and 'StateName' are the same:\r\n",
        "\r\n",
        "weather.head(2) # Both 'file' and 'StateName' columns have same data"
      ],
      "execution_count": 123,
      "outputs": [
        {
          "output_type": "execute_result",
          "data": {
            "text/html": [
              "<div>\n",
              "<style scoped>\n",
              "    .dataframe tbody tr th:only-of-type {\n",
              "        vertical-align: middle;\n",
              "    }\n",
              "\n",
              "    .dataframe tbody tr th {\n",
              "        vertical-align: top;\n",
              "    }\n",
              "\n",
              "    .dataframe thead th {\n",
              "        text-align: right;\n",
              "    }\n",
              "</style>\n",
              "<table border=\"1\" class=\"dataframe\">\n",
              "  <thead>\n",
              "    <tr style=\"text-align: right;\">\n",
              "      <th></th>\n",
              "      <th>file</th>\n",
              "      <th>Date</th>\n",
              "      <th>Max_TemperatureC</th>\n",
              "      <th>Mean_TemperatureC</th>\n",
              "      <th>Min_TemperatureC</th>\n",
              "      <th>Dew_PointC</th>\n",
              "      <th>MeanDew_PointC</th>\n",
              "      <th>Min_DewpointC</th>\n",
              "      <th>Max_Humidity</th>\n",
              "      <th>Mean_Humidity</th>\n",
              "      <th>Min_Humidity</th>\n",
              "      <th>Max_Sea_Level_PressurehPa</th>\n",
              "      <th>Mean_Sea_Level_PressurehPa</th>\n",
              "      <th>Min_Sea_Level_PressurehPa</th>\n",
              "      <th>Max_VisibilityKm</th>\n",
              "      <th>Mean_VisibilityKm</th>\n",
              "      <th>Min_VisibilitykM</th>\n",
              "      <th>Max_Wind_SpeedKm_h</th>\n",
              "      <th>Mean_Wind_SpeedKm_h</th>\n",
              "      <th>Max_Gust_SpeedKm_h</th>\n",
              "      <th>Precipitationmm</th>\n",
              "      <th>CloudCover</th>\n",
              "      <th>Events</th>\n",
              "      <th>WindDirDegrees</th>\n",
              "      <th>Year</th>\n",
              "      <th>Month</th>\n",
              "      <th>Week</th>\n",
              "      <th>Day</th>\n",
              "      <th>Dayofweek</th>\n",
              "      <th>Dayofyear</th>\n",
              "      <th>Is_month_end</th>\n",
              "      <th>Is_month_start</th>\n",
              "      <th>Is_quarter_end</th>\n",
              "      <th>Is_quarter_start</th>\n",
              "      <th>Is_year_end</th>\n",
              "      <th>Is_year_start</th>\n",
              "      <th>Elapsed</th>\n",
              "      <th>StateName</th>\n",
              "      <th>State</th>\n",
              "    </tr>\n",
              "  </thead>\n",
              "  <tbody>\n",
              "    <tr>\n",
              "      <th>0</th>\n",
              "      <td>NordrheinWestfalen</td>\n",
              "      <td>2013-01-01</td>\n",
              "      <td>8</td>\n",
              "      <td>4</td>\n",
              "      <td>2</td>\n",
              "      <td>7</td>\n",
              "      <td>5</td>\n",
              "      <td>1</td>\n",
              "      <td>94</td>\n",
              "      <td>87</td>\n",
              "      <td>65</td>\n",
              "      <td>1013</td>\n",
              "      <td>1005</td>\n",
              "      <td>1001</td>\n",
              "      <td>31.0</td>\n",
              "      <td>12.0</td>\n",
              "      <td>4.0</td>\n",
              "      <td>39</td>\n",
              "      <td>26</td>\n",
              "      <td>58.0</td>\n",
              "      <td>5.08</td>\n",
              "      <td>6.0</td>\n",
              "      <td>Rain</td>\n",
              "      <td>215</td>\n",
              "      <td>2013</td>\n",
              "      <td>1</td>\n",
              "      <td>1</td>\n",
              "      <td>1</td>\n",
              "      <td>1</td>\n",
              "      <td>1</td>\n",
              "      <td>False</td>\n",
              "      <td>True</td>\n",
              "      <td>False</td>\n",
              "      <td>True</td>\n",
              "      <td>False</td>\n",
              "      <td>True</td>\n",
              "      <td>1356998400</td>\n",
              "      <td>NordrheinWestfalen</td>\n",
              "      <td>NW</td>\n",
              "    </tr>\n",
              "    <tr>\n",
              "      <th>1</th>\n",
              "      <td>NordrheinWestfalen</td>\n",
              "      <td>2013-01-02</td>\n",
              "      <td>7</td>\n",
              "      <td>4</td>\n",
              "      <td>1</td>\n",
              "      <td>5</td>\n",
              "      <td>3</td>\n",
              "      <td>2</td>\n",
              "      <td>93</td>\n",
              "      <td>85</td>\n",
              "      <td>78</td>\n",
              "      <td>1028</td>\n",
              "      <td>1022</td>\n",
              "      <td>1014</td>\n",
              "      <td>31.0</td>\n",
              "      <td>14.0</td>\n",
              "      <td>10.0</td>\n",
              "      <td>24</td>\n",
              "      <td>16</td>\n",
              "      <td>NaN</td>\n",
              "      <td>0.00</td>\n",
              "      <td>6.0</td>\n",
              "      <td>Rain</td>\n",
              "      <td>225</td>\n",
              "      <td>2013</td>\n",
              "      <td>1</td>\n",
              "      <td>1</td>\n",
              "      <td>2</td>\n",
              "      <td>2</td>\n",
              "      <td>2</td>\n",
              "      <td>False</td>\n",
              "      <td>False</td>\n",
              "      <td>False</td>\n",
              "      <td>False</td>\n",
              "      <td>False</td>\n",
              "      <td>False</td>\n",
              "      <td>1357084800</td>\n",
              "      <td>NordrheinWestfalen</td>\n",
              "      <td>NW</td>\n",
              "    </tr>\n",
              "  </tbody>\n",
              "</table>\n",
              "</div>"
            ],
            "text/plain": [
              "                 file       Date  ...           StateName  State\n",
              "0  NordrheinWestfalen 2013-01-01  ...  NordrheinWestfalen     NW\n",
              "1  NordrheinWestfalen 2013-01-02  ...  NordrheinWestfalen     NW\n",
              "\n",
              "[2 rows x 39 columns]"
            ]
          },
          "metadata": {
            "tags": []
          },
          "execution_count": 123
        }
      ]
    },
    {
      "cell_type": "code",
      "metadata": {
        "id": "o9yCq235ZV_Z"
      },
      "source": [
        "# 9.5 Join2: (store + stire_states)\r\n",
        "#     join_df(leftTable, rightTable, left_onField, right_onField=None, suffix='_y')\r\n",
        "store.shape    # (1115, 10)\r\n",
        "print()\r\n",
        "store = join_df(store,\r\n",
        "                store_states,\r\n",
        "                \"Store\"\r\n",
        "                )\r\n",
        "print()\r\n",
        "store.shape    # (1115, 11)"
      ],
      "execution_count": null,
      "outputs": []
    },
    {
      "cell_type": "code",
      "metadata": {
        "colab": {
          "base_uri": "https://localhost:8080/"
        },
        "id": "w5U0oQJAz7hB",
        "outputId": "6cabb7f2-8868-47e6-d2e1-0711bc593bff"
      },
      "source": [
        "# 9.5.1 Check point\r\n",
        "weather.shape  # (15840, 39)\r\n",
        "store.shape    # (1115, 11)\r\n",
        "train.shape    # (1017209, 22)\r\n",
        "# Delete any earlier 'joined'\r\n",
        "del joined"
      ],
      "execution_count": 166,
      "outputs": [
        {
          "output_type": "execute_result",
          "data": {
            "text/plain": [
              "(15840, 39)"
            ]
          },
          "metadata": {
            "tags": []
          },
          "execution_count": 166
        },
        {
          "output_type": "execute_result",
          "data": {
            "text/plain": [
              "(1115, 11)"
            ]
          },
          "metadata": {
            "tags": []
          },
          "execution_count": 166
        },
        {
          "output_type": "execute_result",
          "data": {
            "text/plain": [
              "(1017209, 22)"
            ]
          },
          "metadata": {
            "tags": []
          },
          "execution_count": 166
        }
      ]
    },
    {
      "cell_type": "code",
      "metadata": {
        "colab": {
          "base_uri": "https://localhost:8080/"
        },
        "id": "Gy1qGekMZycZ",
        "outputId": "10651d4b-aaa0-4c84-af0f-91cb7f683979"
      },
      "source": [
        "# 9.6 join3: (train+store)\r\n",
        "#     join_df(leftTable, rightTable, left_onField, right_onField=None, suffix='_y')\r\n",
        "\r\n",
        "train.shape    # (1017209, 22)\r\n",
        "print()\r\n",
        "joined = join_df(train,\r\n",
        "                 store,\r\n",
        "                 \"Store\"\r\n",
        "                 )\r\n",
        "\r\n",
        "joined_test = join_df(test, store, \"Store\")\r\n",
        "len(joined[joined.StoreType.isnull()]),len(joined_test[joined_test.StoreType.isnull()])  # (0, 0)\r\n",
        "joined.shape   # (1017209, 32)\r\n",
        "print()\r\n",
        "joined_test.shape # (41088, 31)"
      ],
      "execution_count": 167,
      "outputs": [
        {
          "output_type": "execute_result",
          "data": {
            "text/plain": [
              "(1017209, 22)"
            ]
          },
          "metadata": {
            "tags": []
          },
          "execution_count": 167
        },
        {
          "output_type": "stream",
          "text": [
            "\n"
          ],
          "name": "stdout"
        },
        {
          "output_type": "execute_result",
          "data": {
            "text/plain": [
              "(0, 0)"
            ]
          },
          "metadata": {
            "tags": []
          },
          "execution_count": 167
        },
        {
          "output_type": "execute_result",
          "data": {
            "text/plain": [
              "(1017209, 32)"
            ]
          },
          "metadata": {
            "tags": []
          },
          "execution_count": 167
        },
        {
          "output_type": "stream",
          "text": [
            "\n"
          ],
          "name": "stdout"
        },
        {
          "output_type": "execute_result",
          "data": {
            "text/plain": [
              "(41088, 31)"
            ]
          },
          "metadata": {
            "tags": []
          },
          "execution_count": 167
        }
      ]
    },
    {
      "cell_type": "code",
      "metadata": {
        "colab": {
          "base_uri": "https://localhost:8080/"
        },
        "id": "MHzAinyP1Y-I",
        "outputId": "300f1de5-8ef9-4a57-e53e-63831b69a1fc"
      },
      "source": [
        "# 9.6.1 Check point\r\n",
        "weather.shape  # (15840, 39)\r\n",
        "store.shape    # (1115, 11)\r\n",
        "train.shape    # (1017209, 22)\r\n",
        "joined.shape   # (1017209, 32)"
      ],
      "execution_count": 168,
      "outputs": [
        {
          "output_type": "execute_result",
          "data": {
            "text/plain": [
              "(15840, 39)"
            ]
          },
          "metadata": {
            "tags": []
          },
          "execution_count": 168
        },
        {
          "output_type": "execute_result",
          "data": {
            "text/plain": [
              "(1115, 11)"
            ]
          },
          "metadata": {
            "tags": []
          },
          "execution_count": 168
        },
        {
          "output_type": "execute_result",
          "data": {
            "text/plain": [
              "(1017209, 22)"
            ]
          },
          "metadata": {
            "tags": []
          },
          "execution_count": 168
        },
        {
          "output_type": "execute_result",
          "data": {
            "text/plain": [
              "(1017209, 32)"
            ]
          },
          "metadata": {
            "tags": []
          },
          "execution_count": 168
        }
      ]
    },
    {
      "cell_type": "code",
      "metadata": {
        "colab": {
          "base_uri": "https://localhost:8080/"
        },
        "id": "24iNtznfZ3Cz",
        "outputId": "1c84ab0f-47f6-48a0-fda0-28d6b2b1dad9"
      },
      "source": [
        "# 9.7 join4: (joined+googletrend)\r\n",
        "joined.shape  # (1017209, 32)\r\n",
        "print()\r\n",
        "joined = join_df(\r\n",
        "                 joined,\r\n",
        "                 googletrend,\r\n",
        "                 [\"State\",\"Year\", \"Week\"] # Left fields to be joined on\r\n",
        "                 )\r\n",
        "\r\n",
        "joined_test = join_df(joined_test, googletrend, [\"State\",\"Year\", \"Week\"])\r\n",
        "len(joined[joined.trend.isnull()]),len(joined_test[joined_test.trend.isnull()])\r\n",
        "joined.shape  # (1017209, 47)\r\n",
        "print()\r\n",
        "joined_test.shape  # (41088, 46)"
      ],
      "execution_count": 169,
      "outputs": [
        {
          "output_type": "execute_result",
          "data": {
            "text/plain": [
              "(1017209, 32)"
            ]
          },
          "metadata": {
            "tags": []
          },
          "execution_count": 169
        },
        {
          "output_type": "stream",
          "text": [
            "\n"
          ],
          "name": "stdout"
        },
        {
          "output_type": "execute_result",
          "data": {
            "text/plain": [
              "(0, 0)"
            ]
          },
          "metadata": {
            "tags": []
          },
          "execution_count": 169
        },
        {
          "output_type": "execute_result",
          "data": {
            "text/plain": [
              "(1017209, 47)"
            ]
          },
          "metadata": {
            "tags": []
          },
          "execution_count": 169
        },
        {
          "output_type": "stream",
          "text": [
            "\n"
          ],
          "name": "stdout"
        },
        {
          "output_type": "execute_result",
          "data": {
            "text/plain": [
              "(41088, 46)"
            ]
          },
          "metadata": {
            "tags": []
          },
          "execution_count": 169
        }
      ]
    },
    {
      "cell_type": "code",
      "metadata": {
        "colab": {
          "base_uri": "https://localhost:8080/"
        },
        "id": "XDD6h2GV1miJ",
        "outputId": "56d19668-5d44-4c4e-930b-6738378b1e77"
      },
      "source": [
        "# 9.7.1 Check point\r\n",
        "weather.shape  # (15840, 39)\r\n",
        "store.shape    # (1115, 11)\r\n",
        "train.shape    # (1017209, 22)\r\n",
        "joined.shape   # (1017209, 47)"
      ],
      "execution_count": 170,
      "outputs": [
        {
          "output_type": "execute_result",
          "data": {
            "text/plain": [
              "(15840, 39)"
            ]
          },
          "metadata": {
            "tags": []
          },
          "execution_count": 170
        },
        {
          "output_type": "execute_result",
          "data": {
            "text/plain": [
              "(1115, 11)"
            ]
          },
          "metadata": {
            "tags": []
          },
          "execution_count": 170
        },
        {
          "output_type": "execute_result",
          "data": {
            "text/plain": [
              "(1017209, 22)"
            ]
          },
          "metadata": {
            "tags": []
          },
          "execution_count": 170
        },
        {
          "output_type": "execute_result",
          "data": {
            "text/plain": [
              "(1017209, 47)"
            ]
          },
          "metadata": {
            "tags": []
          },
          "execution_count": 170
        }
      ]
    },
    {
      "cell_type": "code",
      "metadata": {
        "colab": {
          "base_uri": "https://localhost:8080/"
        },
        "id": "GNH6GNFHZ-04",
        "outputId": "d9fcb280-5ab5-4d8f-bc7d-a5c583b345d2"
      },
      "source": [
        "#9.8\r\n",
        "# join5: (joined+trend_de)  Note the suffix here. It is NOT the default '_y'\r\n",
        "#       join_df(leftTable, rightTable, left_onField, right_onField=None, suffix='_y')\r\n",
        "joined.shape   # (1017209, 47)\r\n",
        "\r\n",
        "# Use pandas pd.merge here:\r\n",
        "joined = joined.merge(\r\n",
        "                      trend_de,          # Right table\r\n",
        "                      'left',            # type of join\r\n",
        "                      [\"Year\", \"Week\"],  # On these two fields\r\n",
        "                      suffixes=('', '_DE')\r\n",
        "                      )\r\n",
        "\r\n",
        "joined_test = joined_test.merge(trend_de, 'left', [\"Year\", \"Week\"], suffixes=('', '_DE'))\r\n",
        "len(joined[joined.trend_DE.isnull()]),len(joined_test[joined_test.trend_DE.isnull()])  # \r\n",
        "joined.shape   # (1017209, 63)\r\n",
        "joined_test.shape  # (41088, 62)"
      ],
      "execution_count": 171,
      "outputs": [
        {
          "output_type": "execute_result",
          "data": {
            "text/plain": [
              "(1017209, 47)"
            ]
          },
          "metadata": {
            "tags": []
          },
          "execution_count": 171
        },
        {
          "output_type": "execute_result",
          "data": {
            "text/plain": [
              "(0, 0)"
            ]
          },
          "metadata": {
            "tags": []
          },
          "execution_count": 171
        },
        {
          "output_type": "execute_result",
          "data": {
            "text/plain": [
              "(1017209, 63)"
            ]
          },
          "metadata": {
            "tags": []
          },
          "execution_count": 171
        },
        {
          "output_type": "execute_result",
          "data": {
            "text/plain": [
              "(41088, 62)"
            ]
          },
          "metadata": {
            "tags": []
          },
          "execution_count": 171
        }
      ]
    },
    {
      "cell_type": "code",
      "metadata": {
        "colab": {
          "base_uri": "https://localhost:8080/"
        },
        "id": "y3hVxUnF1w4f",
        "outputId": "18d4310c-359f-4d3a-8298-93cdbde20a1c"
      },
      "source": [
        "# 9.8.1 Check point\r\n",
        "weather.shape  # (15840, 39)\r\n",
        "store.shape    # (1115, 11)\r\n",
        "train.shape    # (1017209, 22)\r\n",
        "joined.shape   # (1017209, 63)"
      ],
      "execution_count": 172,
      "outputs": [
        {
          "output_type": "execute_result",
          "data": {
            "text/plain": [
              "(15840, 39)"
            ]
          },
          "metadata": {
            "tags": []
          },
          "execution_count": 172
        },
        {
          "output_type": "execute_result",
          "data": {
            "text/plain": [
              "(1115, 11)"
            ]
          },
          "metadata": {
            "tags": []
          },
          "execution_count": 172
        },
        {
          "output_type": "execute_result",
          "data": {
            "text/plain": [
              "(1017209, 22)"
            ]
          },
          "metadata": {
            "tags": []
          },
          "execution_count": 172
        },
        {
          "output_type": "execute_result",
          "data": {
            "text/plain": [
              "(1017209, 63)"
            ]
          },
          "metadata": {
            "tags": []
          },
          "execution_count": 172
        }
      ]
    },
    {
      "cell_type": "code",
      "metadata": {
        "colab": {
          "base_uri": "https://localhost:8080/"
        },
        "id": "azVraYb5aDGv",
        "outputId": "bb47c132-b051-4f1b-9a4d-bb783d2cb2ec"
      },
      "source": [
        "#9.9\r\n",
        "#join6: (joined+weather)\r\n",
        "#       join_df(leftTable, rightTable, left_onField, right_onField=None, suffix='_y')\r\n",
        "\r\n",
        "joined.shape       # (1017209, 63)\r\n",
        "joined = join_df(\r\n",
        "                 joined,\r\n",
        "                 weather,\r\n",
        "                 [\"State\",\"Date\"]\r\n",
        "                 )\r\n",
        "\r\n",
        "joined_test = join_df(joined_test, weather, [\"State\",\"Date\"])\r\n",
        "len(joined[joined.Mean_TemperatureC.isnull()]),len(joined_test[joined_test.Mean_TemperatureC.isnull()]) # (0,0)\r\n",
        "joined.shape       # (1017209, 100)\r\n",
        "joined_test.shape  # (41088, 99)"
      ],
      "execution_count": 173,
      "outputs": [
        {
          "output_type": "execute_result",
          "data": {
            "text/plain": [
              "(1017209, 63)"
            ]
          },
          "metadata": {
            "tags": []
          },
          "execution_count": 173
        },
        {
          "output_type": "execute_result",
          "data": {
            "text/plain": [
              "(0, 0)"
            ]
          },
          "metadata": {
            "tags": []
          },
          "execution_count": 173
        },
        {
          "output_type": "execute_result",
          "data": {
            "text/plain": [
              "(1017209, 100)"
            ]
          },
          "metadata": {
            "tags": []
          },
          "execution_count": 173
        },
        {
          "output_type": "execute_result",
          "data": {
            "text/plain": [
              "(41088, 99)"
            ]
          },
          "metadata": {
            "tags": []
          },
          "execution_count": 173
        }
      ]
    },
    {
      "cell_type": "code",
      "metadata": {
        "colab": {
          "base_uri": "https://localhost:8080/"
        },
        "id": "_1x2UXuo2A68",
        "outputId": "42aefcd5-b401-4ec6-8599-f7a17f2713bb"
      },
      "source": [
        "# 9.9.1 Check point\r\n",
        "weather.shape  # (15840, 39)\r\n",
        "store.shape    # (1115, 11)\r\n",
        "train.shape    # (1017209, 22)\r\n",
        "joined.shape   # (1017209, 100)"
      ],
      "execution_count": 174,
      "outputs": [
        {
          "output_type": "execute_result",
          "data": {
            "text/plain": [
              "(15840, 39)"
            ]
          },
          "metadata": {
            "tags": []
          },
          "execution_count": 174
        },
        {
          "output_type": "execute_result",
          "data": {
            "text/plain": [
              "(1115, 11)"
            ]
          },
          "metadata": {
            "tags": []
          },
          "execution_count": 174
        },
        {
          "output_type": "execute_result",
          "data": {
            "text/plain": [
              "(1017209, 22)"
            ]
          },
          "metadata": {
            "tags": []
          },
          "execution_count": 174
        },
        {
          "output_type": "execute_result",
          "data": {
            "text/plain": [
              "(1017209, 100)"
            ]
          },
          "metadata": {
            "tags": []
          },
          "execution_count": 174
        }
      ]
    },
    {
      "cell_type": "code",
      "metadata": {
        "colab": {
          "base_uri": "https://localhost:8080/"
        },
        "id": "XBck_SNIabFp",
        "outputId": "545a3a54-4828-4f19-ca5a-b84a4e2d63a6"
      },
      "source": [
        "# 9.10 Check\r\n",
        "joined.columns\r\n",
        "len(joined.columns)   # 100\r\n",
        "\r\n",
        "# 9.11 Assign value to 'name' attribute of DataFrame\r\n",
        "#      We will use it shortly\r\n",
        "joined.name = \"joined\"\r\n",
        "joined_test.name = \"joined_test\""
      ],
      "execution_count": 175,
      "outputs": [
        {
          "output_type": "execute_result",
          "data": {
            "text/plain": [
              "Index(['Store', 'DayOfWeek', 'Date', 'Sales', 'Customers', 'Open', 'Promo',\n",
              "       'StateHoliday', 'SchoolHoliday', 'Year', 'Month', 'Week', 'Day',\n",
              "       'Dayofweek', 'Dayofyear', 'Is_month_end', 'Is_month_start',\n",
              "       'Is_quarter_end', 'Is_quarter_start', 'Is_year_end', 'Is_year_start',\n",
              "       'Elapsed', 'StoreType', 'Assortment', 'CompetitionDistance',\n",
              "       'CompetitionOpenSinceMonth', 'CompetitionOpenSinceYear', 'Promo2',\n",
              "       'Promo2SinceWeek', 'Promo2SinceYear', 'PromoInterval', 'State', 'file',\n",
              "       'week', 'trend', 'Date_y', 'Month_y', 'Day_y', 'Dayofweek_y',\n",
              "       'Dayofyear_y', 'Is_month_end_y', 'Is_month_start_y', 'Is_quarter_end_y',\n",
              "       'Is_quarter_start_y', 'Is_year_end_y', 'Is_year_start_y', 'Elapsed_y',\n",
              "       'file_DE', 'week_DE', 'trend_DE', 'Date_DE', 'State_DE', 'Month_DE',\n",
              "       'Day_DE', 'Dayofweek_DE', 'Dayofyear_DE', 'Is_month_end_DE',\n",
              "       'Is_month_start_DE', 'Is_quarter_end_DE', 'Is_quarter_start_DE',\n",
              "       'Is_year_end_DE', 'Is_year_start_DE', 'Elapsed_DE', 'file_y',\n",
              "       'Max_TemperatureC', 'Mean_TemperatureC', 'Min_TemperatureC',\n",
              "       'Dew_PointC', 'MeanDew_PointC', 'Min_DewpointC', 'Max_Humidity',\n",
              "       'Mean_Humidity', 'Min_Humidity', 'Max_Sea_Level_PressurehPa',\n",
              "       'Mean_Sea_Level_PressurehPa', 'Min_Sea_Level_PressurehPa',\n",
              "       'Max_VisibilityKm', 'Mean_VisibilityKm', 'Min_VisibilitykM',\n",
              "       'Max_Wind_SpeedKm_h', 'Mean_Wind_SpeedKm_h', 'Max_Gust_SpeedKm_h',\n",
              "       'Precipitationmm', 'CloudCover', 'Events', 'WindDirDegrees', 'Year_y',\n",
              "       'Month_y', 'Week_y', 'Day_y', 'Dayofweek_y', 'Dayofyear_y',\n",
              "       'Is_month_end_y', 'Is_month_start_y', 'Is_quarter_end_y',\n",
              "       'Is_quarter_start_y', 'Is_year_end_y', 'Is_year_start_y', 'Elapsed_y',\n",
              "       'StateName'],\n",
              "      dtype='object')"
            ]
          },
          "metadata": {
            "tags": []
          },
          "execution_count": 175
        },
        {
          "output_type": "execute_result",
          "data": {
            "text/plain": [
              "100"
            ]
          },
          "metadata": {
            "tags": []
          },
          "execution_count": 175
        }
      ]
    },
    {
      "cell_type": "code",
      "metadata": {
        "colab": {
          "base_uri": "https://localhost:8080/"
        },
        "id": "cunA95xwaGg1",
        "outputId": "f4b9fe5b-2aba-4a2e-b0ee-92e291a77d69"
      },
      "source": [
        "# 10.0 Remove columns having suffix of '_y'\r\n",
        "\r\n",
        "for df in (joined, joined_test):\r\n",
        "    for c in df.columns:\r\n",
        "        if c.endswith('_y'):\r\n",
        "            if c in df.columns:\r\n",
        "              print(c,df.name)\r\n",
        "              df.drop(c, inplace=True, axis=1)"
      ],
      "execution_count": 176,
      "outputs": [
        {
          "output_type": "stream",
          "text": [
            "Date_y joined\n",
            "Month_y joined\n",
            "Day_y joined\n",
            "Dayofweek_y joined\n",
            "Dayofyear_y joined\n",
            "Is_month_end_y joined\n",
            "Is_month_start_y joined\n",
            "Is_quarter_end_y joined\n",
            "Is_quarter_start_y joined\n",
            "Is_year_end_y joined\n",
            "Is_year_start_y joined\n",
            "Elapsed_y joined\n",
            "file_y joined\n",
            "Year_y joined\n",
            "Week_y joined\n",
            "Date_y joined_test\n",
            "Month_y joined_test\n",
            "Day_y joined_test\n",
            "Dayofweek_y joined_test\n",
            "Dayofyear_y joined_test\n",
            "Is_month_end_y joined_test\n",
            "Is_month_start_y joined_test\n",
            "Is_quarter_end_y joined_test\n",
            "Is_quarter_start_y joined_test\n",
            "Is_year_end_y joined_test\n",
            "Is_year_start_y joined_test\n",
            "Elapsed_y joined_test\n",
            "file_y joined_test\n",
            "Year_y joined_test\n",
            "Week_y joined_test\n"
          ],
          "name": "stdout"
        }
      ]
    },
    {
      "cell_type": "code",
      "metadata": {
        "colab": {
          "base_uri": "https://localhost:8080/"
        },
        "id": "2ViGDzjGR743",
        "outputId": "41fe09a5-2512-4572-cd3b-d6871a8c8865"
      },
      "source": [
        "# 10.0.1\r\n",
        "# Check point\r\n",
        "weather.shape  # (15840, 39)\r\n",
        "store.shape    # (1115, 11)\r\n",
        "train.shape    # (1017209, 22)\r\n",
        "joined.shape       # (1017209, 74)\r\n",
        "joined_test.shape  # (41088, 73)"
      ],
      "execution_count": 177,
      "outputs": [
        {
          "output_type": "execute_result",
          "data": {
            "text/plain": [
              "(15840, 39)"
            ]
          },
          "metadata": {
            "tags": []
          },
          "execution_count": 177
        },
        {
          "output_type": "execute_result",
          "data": {
            "text/plain": [
              "(1115, 11)"
            ]
          },
          "metadata": {
            "tags": []
          },
          "execution_count": 177
        },
        {
          "output_type": "execute_result",
          "data": {
            "text/plain": [
              "(1017209, 22)"
            ]
          },
          "metadata": {
            "tags": []
          },
          "execution_count": 177
        },
        {
          "output_type": "execute_result",
          "data": {
            "text/plain": [
              "(1017209, 74)"
            ]
          },
          "metadata": {
            "tags": []
          },
          "execution_count": 177
        },
        {
          "output_type": "execute_result",
          "data": {
            "text/plain": [
              "(41088, 73)"
            ]
          },
          "metadata": {
            "tags": []
          },
          "execution_count": 177
        }
      ]
    },
    {
      "cell_type": "markdown",
      "metadata": {
        "id": "x4see04YoA__"
      },
      "source": [
        "### Missing values\r\n",
        "Next we'll fill in missing values to avoid complications with `NA`'s. `NA` (not available) is how Pandas indicates missing values; many models have problems when missing values are present, so it's always important to think about how to deal with them. In these cases, we are picking an arbitrary *signal value* that doesn't otherwise appear in the data."
      ]
    },
    {
      "cell_type": "code",
      "metadata": {
        "id": "vpTxX0JqfLeV"
      },
      "source": [
        "# 11.0 Just explore\r\n",
        "joined[['CompetitionOpenSinceYear', 'CompetitionOpenSinceMonth', 'Promo2SinceYear', 'Promo2SinceWeek']].head(5)\r\n",
        "joined[['CompetitionOpenSinceYear', 'CompetitionOpenSinceMonth', 'Promo2SinceYear', 'Promo2SinceWeek']].describe()"
      ],
      "execution_count": null,
      "outputs": []
    },
    {
      "cell_type": "code",
      "metadata": {
        "id": "mnWM3XEZa6UK"
      },
      "source": [
        "# 11.1\r\n",
        "for df in (joined,joined_test):\r\n",
        "\r\n",
        "    ##AA. 'CompetitionOpenSinceYear' & 'CompetitionOpenSinceMonth'\r\n",
        "    ##     15/01/1900   ==== 354 missing values each\r\n",
        "    # Fill in year as 1900 (354 missing values)\r\n",
        "    df['CompetitionOpenSinceYear'] = df.CompetitionOpenSinceYear.fillna(1900).astype(np.int32)\r\n",
        "    # Fill in month as 1 (354 missing values)\r\n",
        "    df['CompetitionOpenSinceMonth'] = df.CompetitionOpenSinceMonth.fillna(1).astype(np.int32)\r\n",
        "\r\n",
        "    ##BB. 'Promo2SinceYear' and 'Promo2SinceWeek'\r\n",
        "    #      01/01/1900    ==== 544 missing values\r\n",
        "    # Fill in year as 1900. (544 missing values)\r\n",
        "    df['Promo2SinceYear'] = df.Promo2SinceYear.fillna(1900).astype(np.int32)\r\n",
        "    # Fill in week as 1. (544 missing values)\r\n",
        "    df['Promo2SinceWeek'] = df.Promo2SinceWeek.fillna(1).astype(np.int32)"
      ],
      "execution_count": 180,
      "outputs": []
    },
    {
      "cell_type": "code",
      "metadata": {
        "colab": {
          "base_uri": "https://localhost:8080/",
          "height": 206
        },
        "id": "d4IfxP-YlnP-",
        "outputId": "d19b3186-45e4-44fa-9cf2-233cfc2ed116"
      },
      "source": [
        "# 12. We create a new feature from these two features\r\n",
        "joined[['Date','CompetitionOpenSinceYear','CompetitionOpenSinceMonth'] ].head()"
      ],
      "execution_count": 182,
      "outputs": [
        {
          "output_type": "execute_result",
          "data": {
            "text/html": [
              "<div>\n",
              "<style scoped>\n",
              "    .dataframe tbody tr th:only-of-type {\n",
              "        vertical-align: middle;\n",
              "    }\n",
              "\n",
              "    .dataframe tbody tr th {\n",
              "        vertical-align: top;\n",
              "    }\n",
              "\n",
              "    .dataframe thead th {\n",
              "        text-align: right;\n",
              "    }\n",
              "</style>\n",
              "<table border=\"1\" class=\"dataframe\">\n",
              "  <thead>\n",
              "    <tr style=\"text-align: right;\">\n",
              "      <th></th>\n",
              "      <th>Date</th>\n",
              "      <th>CompetitionOpenSinceYear</th>\n",
              "      <th>CompetitionOpenSinceMonth</th>\n",
              "    </tr>\n",
              "  </thead>\n",
              "  <tbody>\n",
              "    <tr>\n",
              "      <th>0</th>\n",
              "      <td>2015-07-31</td>\n",
              "      <td>2008</td>\n",
              "      <td>9</td>\n",
              "    </tr>\n",
              "    <tr>\n",
              "      <th>1</th>\n",
              "      <td>2015-07-31</td>\n",
              "      <td>2007</td>\n",
              "      <td>11</td>\n",
              "    </tr>\n",
              "    <tr>\n",
              "      <th>2</th>\n",
              "      <td>2015-07-31</td>\n",
              "      <td>2006</td>\n",
              "      <td>12</td>\n",
              "    </tr>\n",
              "    <tr>\n",
              "      <th>3</th>\n",
              "      <td>2015-07-31</td>\n",
              "      <td>2009</td>\n",
              "      <td>9</td>\n",
              "    </tr>\n",
              "    <tr>\n",
              "      <th>4</th>\n",
              "      <td>2015-07-31</td>\n",
              "      <td>2015</td>\n",
              "      <td>4</td>\n",
              "    </tr>\n",
              "  </tbody>\n",
              "</table>\n",
              "</div>"
            ],
            "text/plain": [
              "        Date  CompetitionOpenSinceYear  CompetitionOpenSinceMonth\n",
              "0 2015-07-31                      2008                          9\n",
              "1 2015-07-31                      2007                         11\n",
              "2 2015-07-31                      2006                         12\n",
              "3 2015-07-31                      2009                          9\n",
              "4 2015-07-31                      2015                          4"
            ]
          },
          "metadata": {
            "tags": []
          },
          "execution_count": 182
        }
      ]
    },
    {
      "cell_type": "code",
      "metadata": {
        "id": "VMCFbW2WlmTD"
      },
      "source": [
        "# 12.1 Create two features: One new date feature \r\n",
        "#                           and one 'days' elapsed feature:\r\n",
        "\r\n",
        "for df in (joined,joined_test):\r\n",
        "    # 12.1 Create a new feature 'CompetitionOpenSince'\r\n",
        "    #       CompetitionOpenSince whose year is CompetitionOpenSinceYear\r\n",
        "    #        and whose month is CompetitionOpenSinceMonth and the \r\n",
        "    #         day is 15 (selected randomly)\r\n",
        "    df[\"CompetitionOpenSince\"] = pd.to_datetime(\r\n",
        "                                                 dict\r\n",
        "                                                     (\r\n",
        "                                                       year=df.CompetitionOpenSinceYear, \r\n",
        "                                                       month=df.CompetitionOpenSinceMonth,\r\n",
        "                                                       day=15   # This is an arbitrary selection\r\n",
        "                                                     )\r\n",
        "                                                )\r\n",
        "    # 12.2 Another feature. Days elapsed from 'CompetitionOpenSince' to current 'date'\r\n",
        "    df[\"CompetitionDaysOpen\"] = df.Date.subtract(df.CompetitionOpenSince).dt.days"
      ],
      "execution_count": 183,
      "outputs": []
    },
    {
      "cell_type": "code",
      "metadata": {
        "id": "8CmkKGODmryS"
      },
      "source": [
        "# 12.3 Some cleaning of data:\r\n",
        "\r\n",
        "for df in (joined,joined_test):\r\n",
        "    # CompetitionDaysOpen feature was just created (See above)\r\n",
        "    df.loc[df.CompetitionDaysOpen<0, \"CompetitionDaysOpen\"] = 0\r\n",
        "    # Also before 1990 setting CompetitionDaysOpen as 0\r\n",
        "    #  The earliest CompetitionOpenSinceYear  is 1990\r\n",
        "    df.loc[df.CompetitionOpenSinceYear<1990, \"CompetitionDaysOpen\"] = 0"
      ],
      "execution_count": 184,
      "outputs": []
    },
    {
      "cell_type": "code",
      "metadata": {
        "colab": {
          "base_uri": "https://localhost:8080/"
        },
        "id": "-yCHbo1ax6y7",
        "outputId": "4230eb8d-0ea7-4ebe-e3a2-99039c22fb6b"
      },
      "source": [
        "# 12.3.1\r\n",
        "joined.shape   # (1017209, 76)\r\n",
        "print()\r\n",
        "import sys\r\n",
        "np.set_printoptions(threshold=sys.maxsize)\r\n",
        "np.sort(joined.columns.values)"
      ],
      "execution_count": 189,
      "outputs": [
        {
          "output_type": "execute_result",
          "data": {
            "text/plain": [
              "(1017209, 76)"
            ]
          },
          "metadata": {
            "tags": []
          },
          "execution_count": 189
        },
        {
          "output_type": "stream",
          "text": [
            "\n"
          ],
          "name": "stdout"
        },
        {
          "output_type": "execute_result",
          "data": {
            "text/plain": [
              "array(['Assortment', 'CloudCover', 'CompetitionDaysOpen', 'CompetitionDistance', 'CompetitionOpenSince',\n",
              "       'CompetitionOpenSinceMonth', 'CompetitionOpenSinceYear', 'Customers', 'Date', 'Date_DE', 'Day', 'DayOfWeek',\n",
              "       'Day_DE', 'Dayofweek', 'Dayofweek_DE', 'Dayofyear', 'Dayofyear_DE', 'Dew_PointC', 'Elapsed', 'Elapsed_DE',\n",
              "       'Events', 'Is_month_end', 'Is_month_end_DE', 'Is_month_start', 'Is_month_start_DE', 'Is_quarter_end',\n",
              "       'Is_quarter_end_DE', 'Is_quarter_start', 'Is_quarter_start_DE', 'Is_year_end', 'Is_year_end_DE',\n",
              "       'Is_year_start', 'Is_year_start_DE', 'Max_Gust_SpeedKm_h', 'Max_Humidity', 'Max_Sea_Level_PressurehPa',\n",
              "       'Max_TemperatureC', 'Max_VisibilityKm', 'Max_Wind_SpeedKm_h', 'MeanDew_PointC', 'Mean_Humidity',\n",
              "       'Mean_Sea_Level_PressurehPa', 'Mean_TemperatureC', 'Mean_VisibilityKm', 'Mean_Wind_SpeedKm_h', 'Min_DewpointC',\n",
              "       'Min_Humidity', 'Min_Sea_Level_PressurehPa', 'Min_TemperatureC', 'Min_VisibilitykM', 'Month', 'Month_DE',\n",
              "       'Open', 'Precipitationmm', 'Promo', 'Promo2', 'Promo2SinceWeek', 'Promo2SinceYear', 'PromoInterval', 'Sales',\n",
              "       'SchoolHoliday', 'State', 'StateHoliday', 'StateName', 'State_DE', 'Store', 'StoreType', 'Week',\n",
              "       'WindDirDegrees', 'Year', 'file', 'file_DE', 'trend', 'trend_DE', 'week', 'week_DE'], dtype=object)"
            ]
          },
          "metadata": {
            "tags": []
          },
          "execution_count": 189
        }
      ]
    },
    {
      "cell_type": "code",
      "metadata": {
        "id": "RlUH6Jrb7HfR"
      },
      "source": [
        "# Save data to disk\r\n",
        "# StackOverflow: https://stackoverflow.com/a/17098736/3282777\r\n",
        "\r\n",
        "path = \"/content/drive/MyDrive/Colab_data_files/\"\r\n",
        "joined.to_pickle(path +\"joined\")\r\n",
        "joined_test.to_pickle(path +\"joined_test\")"
      ],
      "execution_count": 191,
      "outputs": []
    },
    {
      "cell_type": "code",
      "metadata": {
        "colab": {
          "base_uri": "https://localhost:8080/"
        },
        "id": "5LC_NqgV704G",
        "outputId": "48b0d488-761e-425e-89b7-67bd334dca62"
      },
      "source": [
        "# Check saved files\r\n",
        "!ls -la $path "
      ],
      "execution_count": 194,
      "outputs": [
        {
          "output_type": "stream",
          "text": [
            "total 847763\n",
            "-rw------- 1 root root   2841873 Dec 27 10:04 bioresponse_train.csv.zip\n",
            "-rw------- 1 root root  69468154 Feb 17 00:53 cats_dogs.tar.gz\n",
            "-rw------- 1 root root 467838199 Mar 18 01:27 joined\n",
            "-rw------- 1 root root  18028995 Mar 18 01:27 joined_test\n",
            "-rw------- 1 root root     20995 May  2  2016 LCDataDictionary.xlsx\n",
            "-rw------- 1 root root     76166 Mar 13 12:21 metadata.tsv\n",
            "drwx------ 2 root root      4096 Feb 17 07:15 model\n",
            "-rw------- 1 root root   2038945 Oct 30  2019 pos.zip\n",
            "drwx------ 2 root root      4096 Mar 15 13:04 rossmannStoreSales\n",
            "-rw------- 1 root root 303835737 Feb 21 04:15 talinkigData_out.csv.zip\n",
            "drwx------ 2 root root      4096 Feb 21 04:46 talkingData\n",
            "-rw------- 1 root root   3861202 Mar 13 12:21 vectors.tsv\n",
            "-rw------- 1 root root     84199 Dec 27 06:30 winequality-red.csv\n"
          ],
          "name": "stdout"
        }
      ]
    },
    {
      "cell_type": "code",
      "metadata": {
        "id": "qVYOeIvM8gKu"
      },
      "source": [
        "del joined\r\n",
        "del joined_test"
      ],
      "execution_count": 198,
      "outputs": []
    },
    {
      "cell_type": "code",
      "metadata": {
        "id": "JCXMv5YP8juQ"
      },
      "source": [
        "# Read saved files\r\n",
        "joined = pd.read_pickle(path +\"joined\")\r\n",
        "joined_test =pd.read_pickle(path +\"joined_test\")"
      ],
      "execution_count": 200,
      "outputs": []
    },
    {
      "cell_type": "code",
      "metadata": {
        "colab": {
          "base_uri": "https://localhost:8080/"
        },
        "id": "3L9zL9Y582Ue",
        "outputId": "a767fef9-aea6-4c00-866e-0d514c94ac7e"
      },
      "source": [
        "joined.shape    # (1017209, 76)\r\n",
        "joined_test.shape  # (41088, 75)"
      ],
      "execution_count": 201,
      "outputs": [
        {
          "output_type": "execute_result",
          "data": {
            "text/plain": [
              "(1017209, 76)"
            ]
          },
          "metadata": {
            "tags": []
          },
          "execution_count": 201
        },
        {
          "output_type": "execute_result",
          "data": {
            "text/plain": [
              "(41088, 75)"
            ]
          },
          "metadata": {
            "tags": []
          },
          "execution_count": 201
        }
      ]
    },
    {
      "cell_type": "markdown",
      "metadata": {
        "id": "jNOVkft9YvlH"
      },
      "source": [
        "### Feature creation: Elapsed time\r\n",
        "\r\n",
        "It is common when working with time series data to extract data that explains relationships across rows as opposed to columns, e.g.:\r\n",
        "* Running averages\r\n",
        "* Time until next event\r\n",
        "* Time since last event\r\n",
        "\r\n",
        "This is often difficult to do with most table manipulation frameworks, since they are designed to work with relationships across columns. As such, we've created a class to handle this type of data.\r\n",
        "\r\n",
        "We'll define a function `get_elapsed` for cumulative counting across a sorted dataframe. Given a particular field `fld` to monitor, this function will start tracking time since the last occurrence of that field. When the field is seen again, the counter is set to zero.\r\n",
        "\r\n",
        "Upon initialization, this will result in datetime na's until the field is encountered. This is reset every time a new store is seen. We'll see how to use this shortly.  \r\n",
        "\r\n",
        "Let's walk through an example.\r\n",
        "\r\n",
        "Say we're looking at School Holiday. We'll first sort by Store, then Date, and then call `add_elapsed('SchoolHoliday', 'After')`:\r\n",
        "This will apply to each row with School Holiday:\r\n",
        "* A applied to every row of the dataframe in order of store and date\r\n",
        "* Will add to the dataframe the days since seeing a School Holiday\r\n",
        "* If we sort in the other direction, this will count the days until another holiday.\r\n",
        "\r\n",
        "The following figure is from this [link](https://docs.fast.ai/tabular.core.html#add_elapsed_times):\r\n",
        "\r\n",
        "![image.png](data:image/png;base64,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)\r\n",
        "\r\n",
        "<br>\r\n",
        "The implementiation details written as a pseudo-code are as given below:"
      ]
    },
    {
      "cell_type": "markdown",
      "metadata": {
        "id": "sLv95mc6kFLv"
      },
      "source": [
        "Pseudo-code\r\n",
        "\r\n",
        "```\r\n",
        "Initialize\r\n",
        "last_store_Seen    = 0\r\n",
        "last_date_recorded = np.datetime64() \r\n",
        "\r\n",
        "1. Read current store number: csn\r\n",
        "2. Read current SchoolHoliday value: sh_value\r\n",
        "3. Read current Date: c_date\r\n",
        "Begin  \r\n",
        "Is csn == last_store_seen\r\n",
        "  if NO:   \r\n",
        "          last_store_seen = csn\r\n",
        "          after = 0\r\n",
        "          is sh_value == True\r\n",
        "            if Yes, last_date_recorded = c_date\r\n",
        "            if No---last_date_recorded = np.datetime64() \r\n",
        "   if YES:\r\n",
        "          is sh_value == True\r\n",
        "            if Yes, last_date_recorded = c_date\r\n",
        "            after = 0\r\n",
        "            if False, after = c_date - last_date_recorded\r\n",
        "\r\n",
        "```\r\n",
        "\r\n",
        "\r\n",
        "\r\n"
      ]
    },
    {
      "cell_type": "code",
      "metadata": {
        "id": "z0-9OOHCY4nX"
      },
      "source": [
        "# 13.0 We are NOT using this function. But worth examining.\r\n",
        "#      The source code of the following function is here:\r\n",
        "#      https://github.com/fastai/fastai/blob/master/fastai/tabular/core.py#L54\r\n",
        "#\r\n",
        "#      We are NOT using this function, but it is worth trying.\r\n",
        "#      Other useful functions are at above link.\r\n",
        "\r\n",
        "def add_elapsed_times(df, field_names, date_field, base_field):\r\n",
        "    \"Add in `df` for each event in `field_names` the elapsed time according to `date_field` grouped by `base_field`\"\r\n",
        "    field_names = list(L(field_names))\r\n",
        "    #Make sure date_field is a date and base_field a bool\r\n",
        "    df[field_names] = df[field_names].astype('bool')\r\n",
        "    make_date(df, date_field)\r\n",
        "\r\n",
        "    work_df = df[field_names + [date_field, base_field]]\r\n",
        "    work_df = work_df.sort_values([base_field, date_field])\r\n",
        "    work_df = _get_elapsed(work_df, field_names, date_field, base_field, 'After')\r\n",
        "    work_df = work_df.sort_values([base_field, date_field], ascending=[True, False])\r\n",
        "    work_df = _get_elapsed(work_df, field_names, date_field, base_field, 'Before')\r\n",
        "\r\n",
        "    for a in ['After' + f for f in field_names] + ['Before' + f for f in field_names]:\r\n",
        "        work_df[a] = work_df[a].fillna(0).astype(int)\r\n",
        "\r\n",
        "    for a,s in zip([True, False], ['_bw', '_fw']):\r\n",
        "        work_df = work_df.set_index(date_field)\r\n",
        "        tmp = (work_df[[base_field] + field_names].sort_index(ascending=a)\r\n",
        "                      .groupby(base_field).rolling(7, min_periods=1).sum())\r\n",
        "        tmp.drop(base_field,1,inplace=True)\r\n",
        "        tmp.reset_index(inplace=True)\r\n",
        "        work_df.reset_index(inplace=True)\r\n",
        "        work_df = work_df.merge(tmp, 'left', [date_field, base_field], suffixes=['', s])\r\n",
        "    work_df.drop(field_names,1,inplace=True)\r\n",
        "    return df.merge(work_df, 'left', [date_field, base_field])"
      ],
      "execution_count": null,
      "outputs": []
    },
    {
      "cell_type": "markdown",
      "metadata": {
        "id": "uzHSA4tNizgZ"
      },
      "source": [
        "#### Simple experiments"
      ]
    },
    {
      "cell_type": "code",
      "metadata": {
        "id": "jmVr22oHhT-k"
      },
      "source": [
        "day1 = np.timedelta64(1, 'D')\r\n",
        "day1\r\n",
        "print()\r\n",
        "np.datetime64()"
      ],
      "execution_count": null,
      "outputs": []
    },
    {
      "cell_type": "code",
      "metadata": {
        "colab": {
          "base_uri": "https://localhost:8080/",
          "height": 1000
        },
        "id": "okM8bxVJhYwE",
        "outputId": "82b2876e-e5d5-4da0-b5b8-c257964010ea"
      },
      "source": [
        "xy = pd.DataFrame({\r\n",
        "             \"event\" : [1,0,1,1,0,1, 0,0,0,0,1,1, 0,0,1,0] * 2, \r\n",
        "             \"Date\" : ['01/03/2021', '02/03/2021', '03/03/2021', '04/03/2021', '05/03/2021', '06/03/2021',\r\n",
        "                     '07/03/2021', '08/03/2021', '09/03/2021', '10/03/2021', '11/03/2021', '12/03/2021',\r\n",
        "                     '13/03/2021', '14/03/2021', '15/03/2021', '16/03/2021'] * 2,\r\n",
        "             \"base_field\" : [1,1,1,2,1,2,2,1,2,1,2,2,1,1,1,2]* 2\r\n",
        "})"
      ],
      "execution_count": 70,
      "outputs": [
        {
          "output_type": "execute_result",
          "data": {
            "text/html": [
              "<div>\n",
              "<style scoped>\n",
              "    .dataframe tbody tr th:only-of-type {\n",
              "        vertical-align: middle;\n",
              "    }\n",
              "\n",
              "    .dataframe tbody tr th {\n",
              "        vertical-align: top;\n",
              "    }\n",
              "\n",
              "    .dataframe thead th {\n",
              "        text-align: right;\n",
              "    }\n",
              "</style>\n",
              "<table border=\"1\" class=\"dataframe\">\n",
              "  <thead>\n",
              "    <tr style=\"text-align: right;\">\n",
              "      <th></th>\n",
              "      <th>event</th>\n",
              "      <th>Date</th>\n",
              "      <th>base_field</th>\n",
              "    </tr>\n",
              "  </thead>\n",
              "  <tbody>\n",
              "    <tr>\n",
              "      <th>0</th>\n",
              "      <td>1</td>\n",
              "      <td>01/03/2021</td>\n",
              "      <td>1</td>\n",
              "    </tr>\n",
              "    <tr>\n",
              "      <th>1</th>\n",
              "      <td>0</td>\n",
              "      <td>02/03/2021</td>\n",
              "      <td>1</td>\n",
              "    </tr>\n",
              "    <tr>\n",
              "      <th>2</th>\n",
              "      <td>1</td>\n",
              "      <td>03/03/2021</td>\n",
              "      <td>1</td>\n",
              "    </tr>\n",
              "    <tr>\n",
              "      <th>3</th>\n",
              "      <td>1</td>\n",
              "      <td>04/03/2021</td>\n",
              "      <td>2</td>\n",
              "    </tr>\n",
              "    <tr>\n",
              "      <th>4</th>\n",
              "      <td>0</td>\n",
              "      <td>05/03/2021</td>\n",
              "      <td>1</td>\n",
              "    </tr>\n",
              "    <tr>\n",
              "      <th>5</th>\n",
              "      <td>1</td>\n",
              "      <td>06/03/2021</td>\n",
              "      <td>2</td>\n",
              "    </tr>\n",
              "    <tr>\n",
              "      <th>6</th>\n",
              "      <td>0</td>\n",
              "      <td>07/03/2021</td>\n",
              "      <td>2</td>\n",
              "    </tr>\n",
              "    <tr>\n",
              "      <th>7</th>\n",
              "      <td>0</td>\n",
              "      <td>08/03/2021</td>\n",
              "      <td>1</td>\n",
              "    </tr>\n",
              "    <tr>\n",
              "      <th>8</th>\n",
              "      <td>0</td>\n",
              "      <td>09/03/2021</td>\n",
              "      <td>2</td>\n",
              "    </tr>\n",
              "    <tr>\n",
              "      <th>9</th>\n",
              "      <td>0</td>\n",
              "      <td>10/03/2021</td>\n",
              "      <td>1</td>\n",
              "    </tr>\n",
              "    <tr>\n",
              "      <th>10</th>\n",
              "      <td>1</td>\n",
              "      <td>11/03/2021</td>\n",
              "      <td>2</td>\n",
              "    </tr>\n",
              "    <tr>\n",
              "      <th>11</th>\n",
              "      <td>1</td>\n",
              "      <td>12/03/2021</td>\n",
              "      <td>2</td>\n",
              "    </tr>\n",
              "    <tr>\n",
              "      <th>12</th>\n",
              "      <td>0</td>\n",
              "      <td>13/03/2021</td>\n",
              "      <td>1</td>\n",
              "    </tr>\n",
              "    <tr>\n",
              "      <th>13</th>\n",
              "      <td>0</td>\n",
              "      <td>14/03/2021</td>\n",
              "      <td>1</td>\n",
              "    </tr>\n",
              "    <tr>\n",
              "      <th>14</th>\n",
              "      <td>1</td>\n",
              "      <td>15/03/2021</td>\n",
              "      <td>1</td>\n",
              "    </tr>\n",
              "    <tr>\n",
              "      <th>15</th>\n",
              "      <td>0</td>\n",
              "      <td>16/03/2021</td>\n",
              "      <td>2</td>\n",
              "    </tr>\n",
              "    <tr>\n",
              "      <th>16</th>\n",
              "      <td>1</td>\n",
              "      <td>01/03/2021</td>\n",
              "      <td>1</td>\n",
              "    </tr>\n",
              "    <tr>\n",
              "      <th>17</th>\n",
              "      <td>0</td>\n",
              "      <td>02/03/2021</td>\n",
              "      <td>1</td>\n",
              "    </tr>\n",
              "    <tr>\n",
              "      <th>18</th>\n",
              "      <td>1</td>\n",
              "      <td>03/03/2021</td>\n",
              "      <td>1</td>\n",
              "    </tr>\n",
              "    <tr>\n",
              "      <th>19</th>\n",
              "      <td>1</td>\n",
              "      <td>04/03/2021</td>\n",
              "      <td>2</td>\n",
              "    </tr>\n",
              "    <tr>\n",
              "      <th>20</th>\n",
              "      <td>0</td>\n",
              "      <td>05/03/2021</td>\n",
              "      <td>1</td>\n",
              "    </tr>\n",
              "    <tr>\n",
              "      <th>21</th>\n",
              "      <td>1</td>\n",
              "      <td>06/03/2021</td>\n",
              "      <td>2</td>\n",
              "    </tr>\n",
              "    <tr>\n",
              "      <th>22</th>\n",
              "      <td>0</td>\n",
              "      <td>07/03/2021</td>\n",
              "      <td>2</td>\n",
              "    </tr>\n",
              "    <tr>\n",
              "      <th>23</th>\n",
              "      <td>0</td>\n",
              "      <td>08/03/2021</td>\n",
              "      <td>1</td>\n",
              "    </tr>\n",
              "    <tr>\n",
              "      <th>24</th>\n",
              "      <td>0</td>\n",
              "      <td>09/03/2021</td>\n",
              "      <td>2</td>\n",
              "    </tr>\n",
              "    <tr>\n",
              "      <th>25</th>\n",
              "      <td>0</td>\n",
              "      <td>10/03/2021</td>\n",
              "      <td>1</td>\n",
              "    </tr>\n",
              "    <tr>\n",
              "      <th>26</th>\n",
              "      <td>1</td>\n",
              "      <td>11/03/2021</td>\n",
              "      <td>2</td>\n",
              "    </tr>\n",
              "    <tr>\n",
              "      <th>27</th>\n",
              "      <td>1</td>\n",
              "      <td>12/03/2021</td>\n",
              "      <td>2</td>\n",
              "    </tr>\n",
              "    <tr>\n",
              "      <th>28</th>\n",
              "      <td>0</td>\n",
              "      <td>13/03/2021</td>\n",
              "      <td>1</td>\n",
              "    </tr>\n",
              "    <tr>\n",
              "      <th>29</th>\n",
              "      <td>0</td>\n",
              "      <td>14/03/2021</td>\n",
              "      <td>1</td>\n",
              "    </tr>\n",
              "    <tr>\n",
              "      <th>30</th>\n",
              "      <td>1</td>\n",
              "      <td>15/03/2021</td>\n",
              "      <td>1</td>\n",
              "    </tr>\n",
              "    <tr>\n",
              "      <th>31</th>\n",
              "      <td>0</td>\n",
              "      <td>16/03/2021</td>\n",
              "      <td>2</td>\n",
              "    </tr>\n",
              "  </tbody>\n",
              "</table>\n",
              "</div>"
            ],
            "text/plain": [
              "    event        Date  base_field\n",
              "0       1  01/03/2021           1\n",
              "1       0  02/03/2021           1\n",
              "2       1  03/03/2021           1\n",
              "3       1  04/03/2021           2\n",
              "4       0  05/03/2021           1\n",
              "5       1  06/03/2021           2\n",
              "6       0  07/03/2021           2\n",
              "7       0  08/03/2021           1\n",
              "8       0  09/03/2021           2\n",
              "9       0  10/03/2021           1\n",
              "10      1  11/03/2021           2\n",
              "11      1  12/03/2021           2\n",
              "12      0  13/03/2021           1\n",
              "13      0  14/03/2021           1\n",
              "14      1  15/03/2021           1\n",
              "15      0  16/03/2021           2\n",
              "16      1  01/03/2021           1\n",
              "17      0  02/03/2021           1\n",
              "18      1  03/03/2021           1\n",
              "19      1  04/03/2021           2\n",
              "20      0  05/03/2021           1\n",
              "21      1  06/03/2021           2\n",
              "22      0  07/03/2021           2\n",
              "23      0  08/03/2021           1\n",
              "24      0  09/03/2021           2\n",
              "25      0  10/03/2021           1\n",
              "26      1  11/03/2021           2\n",
              "27      1  12/03/2021           2\n",
              "28      0  13/03/2021           1\n",
              "29      0  14/03/2021           1\n",
              "30      1  15/03/2021           1\n",
              "31      0  16/03/2021           2"
            ]
          },
          "metadata": {
            "tags": []
          },
          "execution_count": 70
        }
      ]
    },
    {
      "cell_type": "markdown",
      "metadata": {
        "id": "c0tzxoTci7Hd"
      },
      "source": [
        "#### Now use the function"
      ]
    },
    {
      "cell_type": "code",
      "metadata": {
        "id": "mVASj9V8espQ"
      },
      "source": [
        "# See StackOverflow\r\n",
        "#     https://stackoverflow.com/a/18215499/3282777\r\n",
        "\r\n",
        "def get_event_elapsed(grfld, event_fld, pre, df):\r\n",
        "  \"\"\"\r\n",
        "  Example:\r\n",
        "   grfld = 'Store'         For every store\r\n",
        "   fld = 'SchoolHoliday'     when this event happens, switch on your stop-watch\r\n",
        "                               The stop-watch adds a day for each passing day, till\r\n",
        "                                next this event happens. At that time reset stop-watch\r\n",
        "                                 This is 'After-field'\r\n",
        "   pre = 'After'\r\n",
        "         Or\r\n",
        "         'Before'          How many days, hence, the next event will happen\r\n",
        "                           To calculate this, put data in descending  order\r\n",
        "                           date-wise and apply the algorithm, as if for 'After-field'\r\n",
        "\r\n",
        "\r\n",
        "   So for a given 'Store', next 'SchoolHoliday'\r\n",
        "   has come After how many days since the last\r\n",
        "  \"\"\"\r\n",
        "  day1 = np.timedelta64(1, 'D')\r\n",
        "  last_store_seen = 0\r\n",
        "  last_date_recorded = np.datetime64()  # Nat: Not a time\r\n",
        "  after = 0\r\n",
        "  res = []\r\n",
        "  for csn,sh_value,c_date in zip(df[grfld].values,df[fld].values,df[pre].values):\r\n",
        "    # Get current store\r\n",
        "    if csn != last_store_seen:\r\n",
        "      after = 0\r\n",
        "      last_store_seen = csn\r\n",
        "      if sh_value:\r\n",
        "        last_date_recorded = c_date\r\n",
        "      else:\r\n",
        "        last_date_recorded = np.datetime64()\r\n",
        "    else:\r\n",
        "      if sh_value:\r\n",
        "        last_date_recorded = c_date\r\n",
        "        after =0\r\n",
        "      else:\r\n",
        "        \"\"\"\r\n",
        "        StackOverFlow: https://stackoverflow.com/a/18215499/3282777\r\n",
        "        In the absence of division by day1\r\n",
        "        we get the following: \r\n",
        "        numpy.timedelta64(1,'D'),\r\n",
        "        numpy.timedelta64(2,'D'),\r\n",
        "        numpy.timedelta64(3,'D'),\r\n",
        "        numpy.timedelta64(4,'D'),\r\n",
        "        \"\"\"\r\n",
        "        after = (c_date - last_date_recorded).astype('timedelta64[D]') /  day1\r\n",
        "    res.append(after)\r\n",
        "  return(res)    \r\n",
        "  \r\n"
      ],
      "execution_count": null,
      "outputs": []
    },
    {
      "cell_type": "code",
      "metadata": {
        "id": "WI1I3-dLt7o3"
      },
      "source": [
        "df = joined.copy()\r\n",
        "df = df.sort_values(['Store', 'Date'])\r\n",
        "out = get_elapsed('Store', 'SchoolHoliday', 'Date', df)\r\n",
        "out1 = get_myelapsed('Store', 'SchoolHoliday', 'Date', df)\r\n",
        "np.nansum(out)   # 23758783.0\r\n",
        "print()\r\n",
        "np.nansum(out1)  # 23758783.0"
      ],
      "execution_count": null,
      "outputs": []
    },
    {
      "cell_type": "code",
      "metadata": {
        "id": "7pcqJGzhFCGZ"
      },
      "source": [
        "out1"
      ],
      "execution_count": null,
      "outputs": []
    },
    {
      "cell_type": "code",
      "metadata": {
        "colab": {
          "base_uri": "https://localhost:8080/"
        },
        "id": "GdUNfbATDbsr",
        "outputId": "0ef87051-54dd-4baf-87e0-0e5c54677a70"
      },
      "source": [
        "df = df.sort_values(['Store', 'Date'], ascending=[True, False])\r\n",
        "out = get_elapsed('Store', 'SchoolHoliday', 'Date', df)\r\n",
        "out1 = get_myelapsed('Store', 'SchoolHoliday', 'Date', df)\r\n",
        "np.nansum(out)   # -23802703.0\r\n",
        "print()\r\n",
        "np.nansum(out1)  # -23802703.0"
      ],
      "execution_count": null,
      "outputs": [
        {
          "output_type": "execute_result",
          "data": {
            "text/plain": [
              "-23802703.0"
            ]
          },
          "metadata": {
            "tags": []
          },
          "execution_count": 147
        },
        {
          "output_type": "execute_result",
          "data": {
            "text/plain": [
              "-23802703.0"
            ]
          },
          "metadata": {
            "tags": []
          },
          "execution_count": 147
        }
      ]
    },
    {
      "cell_type": "code",
      "metadata": {
        "colab": {
          "base_uri": "https://localhost:8080/"
        },
        "id": "YDP0TcuE1RO2",
        "outputId": "24a886df-45ba-4e56-8413-b1adfc965f62"
      },
      "source": [
        "day1 = np.timedelta64(1, 'D')\r\n",
        "day1\r\n",
        "print()\r\n",
        "np.datetime64()"
      ],
      "execution_count": null,
      "outputs": [
        {
          "output_type": "execute_result",
          "data": {
            "text/plain": [
              "numpy.timedelta64(1,'D')"
            ]
          },
          "metadata": {
            "tags": []
          },
          "execution_count": 68
        },
        {
          "output_type": "stream",
          "text": [
            "\n"
          ],
          "name": "stdout"
        },
        {
          "output_type": "execute_result",
          "data": {
            "text/plain": [
              "numpy.datetime64('NaT')"
            ]
          },
          "metadata": {
            "tags": []
          },
          "execution_count": 68
        }
      ]
    },
    {
      "cell_type": "code",
      "metadata": {
        "id": "jRz_KFpalZ6M"
      },
      "source": [
        "pd.DataFrame(event = [1,0,1,1,0,1, 0,0,0,0,1,1, 0,0,1,0], \r\n",
        "             Date = ['01/03/2021', '02/03/2021', '03/03/2021', '04/03/2021', '05/03/2021', '06/03/2021',\r\n",
        "                     '07/03/2021', '08/03/2021', '09/03/2021', '10/03/2021', '11/03/2021', '12/03/2021',\r\n",
        "                     '13/03/2021', '14/03/2021', '15/03/2021', '16/03/2021'],\r\n",
        "             base_field = )"
      ],
      "execution_count": null,
      "outputs": []
    },
    {
      "cell_type": "code",
      "metadata": {
        "id": "7sg_PR-KJx1P"
      },
      "source": [
        "columns = ['SchoolHoliday', 'StateHoliday', 'Promo']"
      ],
      "execution_count": null,
      "outputs": []
    },
    {
      "cell_type": "code",
      "metadata": {
        "id": "coB9XB0MJ3l9"
      },
      "source": [
        "df = df.set_index(\"Date\")"
      ],
      "execution_count": null,
      "outputs": []
    },
    {
      "cell_type": "code",
      "metadata": {
        "colab": {
          "base_uri": "https://localhost:8080/",
          "height": 431
        },
        "id": "74AchM_oJ4oW",
        "outputId": "395316ee-01f6-423a-ce5a-2ab6ac3fc4c5"
      },
      "source": [
        "df.head()"
      ],
      "execution_count": null,
      "outputs": [
        {
          "output_type": "execute_result",
          "data": {
            "text/html": [
              "<div>\n",
              "<style scoped>\n",
              "    .dataframe tbody tr th:only-of-type {\n",
              "        vertical-align: middle;\n",
              "    }\n",
              "\n",
              "    .dataframe tbody tr th {\n",
              "        vertical-align: top;\n",
              "    }\n",
              "\n",
              "    .dataframe thead th {\n",
              "        text-align: right;\n",
              "    }\n",
              "</style>\n",
              "<table border=\"1\" class=\"dataframe\">\n",
              "  <thead>\n",
              "    <tr style=\"text-align: right;\">\n",
              "      <th></th>\n",
              "      <th>Store</th>\n",
              "      <th>DayOfWeek</th>\n",
              "      <th>Sales</th>\n",
              "      <th>Customers</th>\n",
              "      <th>Open</th>\n",
              "      <th>Promo</th>\n",
              "      <th>StateHoliday</th>\n",
              "      <th>SchoolHoliday</th>\n",
              "      <th>Year</th>\n",
              "      <th>Month</th>\n",
              "      <th>Week</th>\n",
              "      <th>Day</th>\n",
              "      <th>Dayofweek</th>\n",
              "      <th>Dayofyear</th>\n",
              "      <th>Is_month_end</th>\n",
              "      <th>Is_month_start</th>\n",
              "      <th>Is_quarter_end</th>\n",
              "      <th>Is_quarter_start</th>\n",
              "      <th>Is_year_end</th>\n",
              "      <th>Is_year_start</th>\n",
              "      <th>Elapsed</th>\n",
              "      <th>StoreType</th>\n",
              "      <th>Assortment</th>\n",
              "      <th>CompetitionDistance</th>\n",
              "      <th>CompetitionOpenSinceMonth</th>\n",
              "      <th>CompetitionOpenSinceYear</th>\n",
              "      <th>Promo2</th>\n",
              "      <th>Promo2SinceWeek</th>\n",
              "      <th>Promo2SinceYear</th>\n",
              "      <th>PromoInterval</th>\n",
              "      <th>State</th>\n",
              "      <th>file</th>\n",
              "      <th>week</th>\n",
              "      <th>trend</th>\n",
              "      <th>file_DE</th>\n",
              "      <th>week_DE</th>\n",
              "      <th>trend_DE</th>\n",
              "      <th>Date_DE</th>\n",
              "      <th>State_DE</th>\n",
              "      <th>Month_DE</th>\n",
              "      <th>Day_DE</th>\n",
              "      <th>Dayofweek_DE</th>\n",
              "      <th>Dayofyear_DE</th>\n",
              "      <th>Is_month_end_DE</th>\n",
              "      <th>Is_month_start_DE</th>\n",
              "      <th>Is_quarter_end_DE</th>\n",
              "      <th>Is_quarter_start_DE</th>\n",
              "      <th>Is_year_end_DE</th>\n",
              "      <th>Is_year_start_DE</th>\n",
              "      <th>Elapsed_DE</th>\n",
              "      <th>Max_TemperatureC</th>\n",
              "      <th>Mean_TemperatureC</th>\n",
              "      <th>Min_TemperatureC</th>\n",
              "      <th>Dew_PointC</th>\n",
              "      <th>MeanDew_PointC</th>\n",
              "      <th>Min_DewpointC</th>\n",
              "      <th>Max_Humidity</th>\n",
              "      <th>Mean_Humidity</th>\n",
              "      <th>Min_Humidity</th>\n",
              "      <th>Max_Sea_Level_PressurehPa</th>\n",
              "      <th>Mean_Sea_Level_PressurehPa</th>\n",
              "      <th>Min_Sea_Level_PressurehPa</th>\n",
              "      <th>Max_VisibilityKm</th>\n",
              "      <th>Mean_VisibilityKm</th>\n",
              "      <th>Min_VisibilitykM</th>\n",
              "      <th>Max_Wind_SpeedKm_h</th>\n",
              "      <th>Mean_Wind_SpeedKm_h</th>\n",
              "      <th>Max_Gust_SpeedKm_h</th>\n",
              "      <th>Precipitationmm</th>\n",
              "      <th>CloudCover</th>\n",
              "      <th>Events</th>\n",
              "      <th>WindDirDegrees</th>\n",
              "      <th>StateName</th>\n",
              "      <th>CompetitionOpenSince</th>\n",
              "      <th>CompetitionDaysOpen</th>\n",
              "      <th>DateSchoolHoliday</th>\n",
              "    </tr>\n",
              "    <tr>\n",
              "      <th>Date</th>\n",
              "      <th></th>\n",
              "      <th></th>\n",
              "      <th></th>\n",
              "      <th></th>\n",
              "      <th></th>\n",
              "      <th></th>\n",
              "      <th></th>\n",
              "      <th></th>\n",
              "      <th></th>\n",
              "      <th></th>\n",
              "      <th></th>\n",
              "      <th></th>\n",
              "      <th></th>\n",
              "      <th></th>\n",
              "      <th></th>\n",
              "      <th></th>\n",
              "      <th></th>\n",
              "      <th></th>\n",
              "      <th></th>\n",
              "      <th></th>\n",
              "      <th></th>\n",
              "      <th></th>\n",
              "      <th></th>\n",
              "      <th></th>\n",
              "      <th></th>\n",
              "      <th></th>\n",
              "      <th></th>\n",
              "      <th></th>\n",
              "      <th></th>\n",
              "      <th></th>\n",
              "      <th></th>\n",
              "      <th></th>\n",
              "      <th></th>\n",
              "      <th></th>\n",
              "      <th></th>\n",
              "      <th></th>\n",
              "      <th></th>\n",
              "      <th></th>\n",
              "      <th></th>\n",
              "      <th></th>\n",
              "      <th></th>\n",
              "      <th></th>\n",
              "      <th></th>\n",
              "      <th></th>\n",
              "      <th></th>\n",
              "      <th></th>\n",
              "      <th></th>\n",
              "      <th></th>\n",
              "      <th></th>\n",
              "      <th></th>\n",
              "      <th></th>\n",
              "      <th></th>\n",
              "      <th></th>\n",
              "      <th></th>\n",
              "      <th></th>\n",
              "      <th></th>\n",
              "      <th></th>\n",
              "      <th></th>\n",
              "      <th></th>\n",
              "      <th></th>\n",
              "      <th></th>\n",
              "      <th></th>\n",
              "      <th></th>\n",
              "      <th></th>\n",
              "      <th></th>\n",
              "      <th></th>\n",
              "      <th></th>\n",
              "      <th></th>\n",
              "      <th></th>\n",
              "      <th></th>\n",
              "      <th></th>\n",
              "      <th></th>\n",
              "      <th></th>\n",
              "      <th></th>\n",
              "      <th></th>\n",
              "      <th></th>\n",
              "    </tr>\n",
              "  </thead>\n",
              "  <tbody>\n",
              "    <tr>\n",
              "      <th>2013-01-01</th>\n",
              "      <td>1</td>\n",
              "      <td>2</td>\n",
              "      <td>0</td>\n",
              "      <td>0</td>\n",
              "      <td>0</td>\n",
              "      <td>0</td>\n",
              "      <td>True</td>\n",
              "      <td>1</td>\n",
              "      <td>2013</td>\n",
              "      <td>1</td>\n",
              "      <td>1</td>\n",
              "      <td>1</td>\n",
              "      <td>1</td>\n",
              "      <td>1</td>\n",
              "      <td>False</td>\n",
              "      <td>True</td>\n",
              "      <td>False</td>\n",
              "      <td>True</td>\n",
              "      <td>False</td>\n",
              "      <td>True</td>\n",
              "      <td>1356998400</td>\n",
              "      <td>c</td>\n",
              "      <td>a</td>\n",
              "      <td>1270.0</td>\n",
              "      <td>9</td>\n",
              "      <td>2008</td>\n",
              "      <td>0</td>\n",
              "      <td>1</td>\n",
              "      <td>1900</td>\n",
              "      <td>NaN</td>\n",
              "      <td>HE</td>\n",
              "      <td>Rossmann_DE_HE</td>\n",
              "      <td>2013-01-06 - 2013-01-12</td>\n",
              "      <td>73</td>\n",
              "      <td>Rossmann_DE</td>\n",
              "      <td>2013-01-06 - 2013-01-12</td>\n",
              "      <td>62</td>\n",
              "      <td>2013-01-06</td>\n",
              "      <td>None</td>\n",
              "      <td>1</td>\n",
              "      <td>6</td>\n",
              "      <td>6</td>\n",
              "      <td>6</td>\n",
              "      <td>False</td>\n",
              "      <td>False</td>\n",
              "      <td>False</td>\n",
              "      <td>False</td>\n",
              "      <td>False</td>\n",
              "      <td>False</td>\n",
              "      <td>1357430400</td>\n",
              "      <td>8</td>\n",
              "      <td>6</td>\n",
              "      <td>3</td>\n",
              "      <td>6</td>\n",
              "      <td>3</td>\n",
              "      <td>1</td>\n",
              "      <td>93</td>\n",
              "      <td>80</td>\n",
              "      <td>59</td>\n",
              "      <td>1015</td>\n",
              "      <td>1008</td>\n",
              "      <td>1006</td>\n",
              "      <td>31.0</td>\n",
              "      <td>12.0</td>\n",
              "      <td>10.0</td>\n",
              "      <td>23</td>\n",
              "      <td>14</td>\n",
              "      <td>39.0</td>\n",
              "      <td>2.03</td>\n",
              "      <td>6.0</td>\n",
              "      <td>Rain</td>\n",
              "      <td>206</td>\n",
              "      <td>Hessen</td>\n",
              "      <td>2008-09-15</td>\n",
              "      <td>1569</td>\n",
              "      <td>0.0</td>\n",
              "    </tr>\n",
              "    <tr>\n",
              "      <th>2013-01-02</th>\n",
              "      <td>1</td>\n",
              "      <td>3</td>\n",
              "      <td>5530</td>\n",
              "      <td>668</td>\n",
              "      <td>1</td>\n",
              "      <td>0</td>\n",
              "      <td>False</td>\n",
              "      <td>1</td>\n",
              "      <td>2013</td>\n",
              "      <td>1</td>\n",
              "      <td>1</td>\n",
              "      <td>2</td>\n",
              "      <td>2</td>\n",
              "      <td>2</td>\n",
              "      <td>False</td>\n",
              "      <td>False</td>\n",
              "      <td>False</td>\n",
              "      <td>False</td>\n",
              "      <td>False</td>\n",
              "      <td>False</td>\n",
              "      <td>1357084800</td>\n",
              "      <td>c</td>\n",
              "      <td>a</td>\n",
              "      <td>1270.0</td>\n",
              "      <td>9</td>\n",
              "      <td>2008</td>\n",
              "      <td>0</td>\n",
              "      <td>1</td>\n",
              "      <td>1900</td>\n",
              "      <td>NaN</td>\n",
              "      <td>HE</td>\n",
              "      <td>Rossmann_DE_HE</td>\n",
              "      <td>2013-01-06 - 2013-01-12</td>\n",
              "      <td>73</td>\n",
              "      <td>Rossmann_DE</td>\n",
              "      <td>2013-01-06 - 2013-01-12</td>\n",
              "      <td>62</td>\n",
              "      <td>2013-01-06</td>\n",
              "      <td>None</td>\n",
              "      <td>1</td>\n",
              "      <td>6</td>\n",
              "      <td>6</td>\n",
              "      <td>6</td>\n",
              "      <td>False</td>\n",
              "      <td>False</td>\n",
              "      <td>False</td>\n",
              "      <td>False</td>\n",
              "      <td>False</td>\n",
              "      <td>False</td>\n",
              "      <td>1357430400</td>\n",
              "      <td>6</td>\n",
              "      <td>3</td>\n",
              "      <td>0</td>\n",
              "      <td>3</td>\n",
              "      <td>1</td>\n",
              "      <td>-1</td>\n",
              "      <td>100</td>\n",
              "      <td>85</td>\n",
              "      <td>67</td>\n",
              "      <td>1031</td>\n",
              "      <td>1024</td>\n",
              "      <td>1015</td>\n",
              "      <td>31.0</td>\n",
              "      <td>13.0</td>\n",
              "      <td>10.0</td>\n",
              "      <td>19</td>\n",
              "      <td>11</td>\n",
              "      <td>37.0</td>\n",
              "      <td>0.00</td>\n",
              "      <td>6.0</td>\n",
              "      <td>NaN</td>\n",
              "      <td>200</td>\n",
              "      <td>Hessen</td>\n",
              "      <td>2008-09-15</td>\n",
              "      <td>1570</td>\n",
              "      <td>0.0</td>\n",
              "    </tr>\n",
              "    <tr>\n",
              "      <th>2013-01-03</th>\n",
              "      <td>1</td>\n",
              "      <td>4</td>\n",
              "      <td>4327</td>\n",
              "      <td>578</td>\n",
              "      <td>1</td>\n",
              "      <td>0</td>\n",
              "      <td>False</td>\n",
              "      <td>1</td>\n",
              "      <td>2013</td>\n",
              "      <td>1</td>\n",
              "      <td>1</td>\n",
              "      <td>3</td>\n",
              "      <td>3</td>\n",
              "      <td>3</td>\n",
              "      <td>False</td>\n",
              "      <td>False</td>\n",
              "      <td>False</td>\n",
              "      <td>False</td>\n",
              "      <td>False</td>\n",
              "      <td>False</td>\n",
              "      <td>1357171200</td>\n",
              "      <td>c</td>\n",
              "      <td>a</td>\n",
              "      <td>1270.0</td>\n",
              "      <td>9</td>\n",
              "      <td>2008</td>\n",
              "      <td>0</td>\n",
              "      <td>1</td>\n",
              "      <td>1900</td>\n",
              "      <td>NaN</td>\n",
              "      <td>HE</td>\n",
              "      <td>Rossmann_DE_HE</td>\n",
              "      <td>2013-01-06 - 2013-01-12</td>\n",
              "      <td>73</td>\n",
              "      <td>Rossmann_DE</td>\n",
              "      <td>2013-01-06 - 2013-01-12</td>\n",
              "      <td>62</td>\n",
              "      <td>2013-01-06</td>\n",
              "      <td>None</td>\n",
              "      <td>1</td>\n",
              "      <td>6</td>\n",
              "      <td>6</td>\n",
              "      <td>6</td>\n",
              "      <td>False</td>\n",
              "      <td>False</td>\n",
              "      <td>False</td>\n",
              "      <td>False</td>\n",
              "      <td>False</td>\n",
              "      <td>False</td>\n",
              "      <td>1357430400</td>\n",
              "      <td>7</td>\n",
              "      <td>4</td>\n",
              "      <td>3</td>\n",
              "      <td>7</td>\n",
              "      <td>3</td>\n",
              "      <td>1</td>\n",
              "      <td>100</td>\n",
              "      <td>90</td>\n",
              "      <td>77</td>\n",
              "      <td>1036</td>\n",
              "      <td>1032</td>\n",
              "      <td>1030</td>\n",
              "      <td>19.0</td>\n",
              "      <td>10.0</td>\n",
              "      <td>6.0</td>\n",
              "      <td>29</td>\n",
              "      <td>19</td>\n",
              "      <td>47.0</td>\n",
              "      <td>0.00</td>\n",
              "      <td>7.0</td>\n",
              "      <td>Rain</td>\n",
              "      <td>191</td>\n",
              "      <td>Hessen</td>\n",
              "      <td>2008-09-15</td>\n",
              "      <td>1571</td>\n",
              "      <td>0.0</td>\n",
              "    </tr>\n",
              "    <tr>\n",
              "      <th>2013-01-04</th>\n",
              "      <td>1</td>\n",
              "      <td>5</td>\n",
              "      <td>4486</td>\n",
              "      <td>619</td>\n",
              "      <td>1</td>\n",
              "      <td>0</td>\n",
              "      <td>False</td>\n",
              "      <td>1</td>\n",
              "      <td>2013</td>\n",
              "      <td>1</td>\n",
              "      <td>1</td>\n",
              "      <td>4</td>\n",
              "      <td>4</td>\n",
              "      <td>4</td>\n",
              "      <td>False</td>\n",
              "      <td>False</td>\n",
              "      <td>False</td>\n",
              "      <td>False</td>\n",
              "      <td>False</td>\n",
              "      <td>False</td>\n",
              "      <td>1357257600</td>\n",
              "      <td>c</td>\n",
              "      <td>a</td>\n",
              "      <td>1270.0</td>\n",
              "      <td>9</td>\n",
              "      <td>2008</td>\n",
              "      <td>0</td>\n",
              "      <td>1</td>\n",
              "      <td>1900</td>\n",
              "      <td>NaN</td>\n",
              "      <td>HE</td>\n",
              "      <td>Rossmann_DE_HE</td>\n",
              "      <td>2013-01-06 - 2013-01-12</td>\n",
              "      <td>73</td>\n",
              "      <td>Rossmann_DE</td>\n",
              "      <td>2013-01-06 - 2013-01-12</td>\n",
              "      <td>62</td>\n",
              "      <td>2013-01-06</td>\n",
              "      <td>None</td>\n",
              "      <td>1</td>\n",
              "      <td>6</td>\n",
              "      <td>6</td>\n",
              "      <td>6</td>\n",
              "      <td>False</td>\n",
              "      <td>False</td>\n",
              "      <td>False</td>\n",
              "      <td>False</td>\n",
              "      <td>False</td>\n",
              "      <td>False</td>\n",
              "      <td>1357430400</td>\n",
              "      <td>11</td>\n",
              "      <td>9</td>\n",
              "      <td>6</td>\n",
              "      <td>9</td>\n",
              "      <td>8</td>\n",
              "      <td>6</td>\n",
              "      <td>100</td>\n",
              "      <td>93</td>\n",
              "      <td>79</td>\n",
              "      <td>1036</td>\n",
              "      <td>1034</td>\n",
              "      <td>1033</td>\n",
              "      <td>31.0</td>\n",
              "      <td>11.0</td>\n",
              "      <td>6.0</td>\n",
              "      <td>21</td>\n",
              "      <td>13</td>\n",
              "      <td>37.0</td>\n",
              "      <td>0.00</td>\n",
              "      <td>6.0</td>\n",
              "      <td>Rain</td>\n",
              "      <td>210</td>\n",
              "      <td>Hessen</td>\n",
              "      <td>2008-09-15</td>\n",
              "      <td>1572</td>\n",
              "      <td>0.0</td>\n",
              "    </tr>\n",
              "    <tr>\n",
              "      <th>2013-01-05</th>\n",
              "      <td>1</td>\n",
              "      <td>6</td>\n",
              "      <td>4997</td>\n",
              "      <td>635</td>\n",
              "      <td>1</td>\n",
              "      <td>0</td>\n",
              "      <td>False</td>\n",
              "      <td>1</td>\n",
              "      <td>2013</td>\n",
              "      <td>1</td>\n",
              "      <td>1</td>\n",
              "      <td>5</td>\n",
              "      <td>5</td>\n",
              "      <td>5</td>\n",
              "      <td>False</td>\n",
              "      <td>False</td>\n",
              "      <td>False</td>\n",
              "      <td>False</td>\n",
              "      <td>False</td>\n",
              "      <td>False</td>\n",
              "      <td>1357344000</td>\n",
              "      <td>c</td>\n",
              "      <td>a</td>\n",
              "      <td>1270.0</td>\n",
              "      <td>9</td>\n",
              "      <td>2008</td>\n",
              "      <td>0</td>\n",
              "      <td>1</td>\n",
              "      <td>1900</td>\n",
              "      <td>NaN</td>\n",
              "      <td>HE</td>\n",
              "      <td>Rossmann_DE_HE</td>\n",
              "      <td>2013-01-06 - 2013-01-12</td>\n",
              "      <td>73</td>\n",
              "      <td>Rossmann_DE</td>\n",
              "      <td>2013-01-06 - 2013-01-12</td>\n",
              "      <td>62</td>\n",
              "      <td>2013-01-06</td>\n",
              "      <td>None</td>\n",
              "      <td>1</td>\n",
              "      <td>6</td>\n",
              "      <td>6</td>\n",
              "      <td>6</td>\n",
              "      <td>False</td>\n",
              "      <td>False</td>\n",
              "      <td>False</td>\n",
              "      <td>False</td>\n",
              "      <td>False</td>\n",
              "      <td>False</td>\n",
              "      <td>1357430400</td>\n",
              "      <td>9</td>\n",
              "      <td>8</td>\n",
              "      <td>7</td>\n",
              "      <td>8</td>\n",
              "      <td>6</td>\n",
              "      <td>5</td>\n",
              "      <td>87</td>\n",
              "      <td>78</td>\n",
              "      <td>67</td>\n",
              "      <td>1033</td>\n",
              "      <td>1032</td>\n",
              "      <td>1032</td>\n",
              "      <td>31.0</td>\n",
              "      <td>12.0</td>\n",
              "      <td>10.0</td>\n",
              "      <td>24</td>\n",
              "      <td>18</td>\n",
              "      <td>NaN</td>\n",
              "      <td>0.00</td>\n",
              "      <td>7.0</td>\n",
              "      <td>Rain</td>\n",
              "      <td>281</td>\n",
              "      <td>Hessen</td>\n",
              "      <td>2008-09-15</td>\n",
              "      <td>1573</td>\n",
              "      <td>0.0</td>\n",
              "    </tr>\n",
              "  </tbody>\n",
              "</table>\n",
              "</div>"
            ],
            "text/plain": [
              "            Store  DayOfWeek  ...  CompetitionDaysOpen  DateSchoolHoliday\n",
              "Date                          ...                                        \n",
              "2013-01-01      1          2  ...                 1569                0.0\n",
              "2013-01-02      1          3  ...                 1570                0.0\n",
              "2013-01-03      1          4  ...                 1571                0.0\n",
              "2013-01-04      1          5  ...                 1572                0.0\n",
              "2013-01-05      1          6  ...                 1573                0.0\n",
              "\n",
              "[5 rows x 76 columns]"
            ]
          },
          "metadata": {
            "tags": []
          },
          "execution_count": 153
        }
      ]
    },
    {
      "cell_type": "code",
      "metadata": {
        "id": "0RpW5pp1J6Qv"
      },
      "source": [
        "bwd = df[['Store']+columns].sort_index().groupby(\"Store\").rolling(7, min_periods=1).sum()"
      ],
      "execution_count": null,
      "outputs": []
    },
    {
      "cell_type": "code",
      "metadata": {
        "colab": {
          "base_uri": "https://localhost:8080/",
          "height": 238
        },
        "id": "9hZ3bQsyKBVn",
        "outputId": "bb99a68c-c76f-4d6e-fb48-65d704acc11c"
      },
      "source": [
        "bwd.head()"
      ],
      "execution_count": null,
      "outputs": [
        {
          "output_type": "execute_result",
          "data": {
            "text/html": [
              "<div>\n",
              "<style scoped>\n",
              "    .dataframe tbody tr th:only-of-type {\n",
              "        vertical-align: middle;\n",
              "    }\n",
              "\n",
              "    .dataframe tbody tr th {\n",
              "        vertical-align: top;\n",
              "    }\n",
              "\n",
              "    .dataframe thead th {\n",
              "        text-align: right;\n",
              "    }\n",
              "</style>\n",
              "<table border=\"1\" class=\"dataframe\">\n",
              "  <thead>\n",
              "    <tr style=\"text-align: right;\">\n",
              "      <th></th>\n",
              "      <th></th>\n",
              "      <th>Store</th>\n",
              "      <th>SchoolHoliday</th>\n",
              "      <th>StateHoliday</th>\n",
              "      <th>Promo</th>\n",
              "    </tr>\n",
              "    <tr>\n",
              "      <th>Store</th>\n",
              "      <th>Date</th>\n",
              "      <th></th>\n",
              "      <th></th>\n",
              "      <th></th>\n",
              "      <th></th>\n",
              "    </tr>\n",
              "  </thead>\n",
              "  <tbody>\n",
              "    <tr>\n",
              "      <th rowspan=\"5\" valign=\"top\">1</th>\n",
              "      <th>2013-01-01</th>\n",
              "      <td>1.0</td>\n",
              "      <td>1.0</td>\n",
              "      <td>1.0</td>\n",
              "      <td>0.0</td>\n",
              "    </tr>\n",
              "    <tr>\n",
              "      <th>2013-01-02</th>\n",
              "      <td>2.0</td>\n",
              "      <td>2.0</td>\n",
              "      <td>1.0</td>\n",
              "      <td>0.0</td>\n",
              "    </tr>\n",
              "    <tr>\n",
              "      <th>2013-01-03</th>\n",
              "      <td>3.0</td>\n",
              "      <td>3.0</td>\n",
              "      <td>1.0</td>\n",
              "      <td>0.0</td>\n",
              "    </tr>\n",
              "    <tr>\n",
              "      <th>2013-01-04</th>\n",
              "      <td>4.0</td>\n",
              "      <td>4.0</td>\n",
              "      <td>1.0</td>\n",
              "      <td>0.0</td>\n",
              "    </tr>\n",
              "    <tr>\n",
              "      <th>2013-01-05</th>\n",
              "      <td>5.0</td>\n",
              "      <td>5.0</td>\n",
              "      <td>1.0</td>\n",
              "      <td>0.0</td>\n",
              "    </tr>\n",
              "  </tbody>\n",
              "</table>\n",
              "</div>"
            ],
            "text/plain": [
              "                  Store  SchoolHoliday  StateHoliday  Promo\n",
              "Store Date                                                 \n",
              "1     2013-01-01    1.0            1.0           1.0    0.0\n",
              "      2013-01-02    2.0            2.0           1.0    0.0\n",
              "      2013-01-03    3.0            3.0           1.0    0.0\n",
              "      2013-01-04    4.0            4.0           1.0    0.0\n",
              "      2013-01-05    5.0            5.0           1.0    0.0"
            ]
          },
          "metadata": {
            "tags": []
          },
          "execution_count": 156
        }
      ]
    },
    {
      "cell_type": "code",
      "metadata": {
        "id": "eMFVlFy6NW8O"
      },
      "source": [
        "fwd = df[['Store']+columns].sort_index(ascending=False\r\n",
        "                                      ).groupby(\"Store\").rolling(7, min_periods=1).sum()"
      ],
      "execution_count": null,
      "outputs": []
    },
    {
      "cell_type": "code",
      "metadata": {
        "colab": {
          "base_uri": "https://localhost:8080/",
          "height": 238
        },
        "id": "fqp_lY6TKDsW",
        "outputId": "5814af28-2ad4-4f97-8ab2-64588b556689"
      },
      "source": [
        "fwd.head()"
      ],
      "execution_count": null,
      "outputs": [
        {
          "output_type": "execute_result",
          "data": {
            "text/html": [
              "<div>\n",
              "<style scoped>\n",
              "    .dataframe tbody tr th:only-of-type {\n",
              "        vertical-align: middle;\n",
              "    }\n",
              "\n",
              "    .dataframe tbody tr th {\n",
              "        vertical-align: top;\n",
              "    }\n",
              "\n",
              "    .dataframe thead th {\n",
              "        text-align: right;\n",
              "    }\n",
              "</style>\n",
              "<table border=\"1\" class=\"dataframe\">\n",
              "  <thead>\n",
              "    <tr style=\"text-align: right;\">\n",
              "      <th></th>\n",
              "      <th></th>\n",
              "      <th>Store</th>\n",
              "      <th>SchoolHoliday</th>\n",
              "      <th>StateHoliday</th>\n",
              "      <th>Promo</th>\n",
              "    </tr>\n",
              "    <tr>\n",
              "      <th>Store</th>\n",
              "      <th>Date</th>\n",
              "      <th></th>\n",
              "      <th></th>\n",
              "      <th></th>\n",
              "      <th></th>\n",
              "    </tr>\n",
              "  </thead>\n",
              "  <tbody>\n",
              "    <tr>\n",
              "      <th rowspan=\"5\" valign=\"top\">1</th>\n",
              "      <th>2015-07-31</th>\n",
              "      <td>1.0</td>\n",
              "      <td>1.0</td>\n",
              "      <td>0.0</td>\n",
              "      <td>1.0</td>\n",
              "    </tr>\n",
              "    <tr>\n",
              "      <th>2015-07-30</th>\n",
              "      <td>2.0</td>\n",
              "      <td>2.0</td>\n",
              "      <td>0.0</td>\n",
              "      <td>2.0</td>\n",
              "    </tr>\n",
              "    <tr>\n",
              "      <th>2015-07-29</th>\n",
              "      <td>3.0</td>\n",
              "      <td>3.0</td>\n",
              "      <td>0.0</td>\n",
              "      <td>3.0</td>\n",
              "    </tr>\n",
              "    <tr>\n",
              "      <th>2015-07-28</th>\n",
              "      <td>4.0</td>\n",
              "      <td>4.0</td>\n",
              "      <td>0.0</td>\n",
              "      <td>4.0</td>\n",
              "    </tr>\n",
              "    <tr>\n",
              "      <th>2015-07-27</th>\n",
              "      <td>5.0</td>\n",
              "      <td>5.0</td>\n",
              "      <td>0.0</td>\n",
              "      <td>5.0</td>\n",
              "    </tr>\n",
              "  </tbody>\n",
              "</table>\n",
              "</div>"
            ],
            "text/plain": [
              "                  Store  SchoolHoliday  StateHoliday  Promo\n",
              "Store Date                                                 \n",
              "1     2015-07-31    1.0            1.0           0.0    1.0\n",
              "      2015-07-30    2.0            2.0           0.0    2.0\n",
              "      2015-07-29    3.0            3.0           0.0    3.0\n",
              "      2015-07-28    4.0            4.0           0.0    4.0\n",
              "      2015-07-27    5.0            5.0           0.0    5.0"
            ]
          },
          "metadata": {
            "tags": []
          },
          "execution_count": 158
        }
      ]
    },
    {
      "cell_type": "code",
      "metadata": {
        "id": "cAmhylWSNaVJ"
      },
      "source": [
        ""
      ],
      "execution_count": null,
      "outputs": []
    }
  ]
}