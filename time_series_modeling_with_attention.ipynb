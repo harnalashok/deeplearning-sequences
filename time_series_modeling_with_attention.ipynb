{
  "nbformat": 4,
  "nbformat_minor": 0,
  "metadata": {
    "colab": {
      "name": "time series modeling with attention.ipynb",
      "provenance": [],
      "collapsed_sections": [],
      "authorship_tag": "ABX9TyN9s2zHcxXMPjtxDkTcuhvd",
      "include_colab_link": true
    },
    "kernelspec": {
      "name": "python3",
      "display_name": "Python 3"
    },
    "language_info": {
      "name": "python"
    }
  },
  "cells": [
    {
      "cell_type": "markdown",
      "metadata": {
        "id": "view-in-github",
        "colab_type": "text"
      },
      "source": [
        "<a href=\"https://colab.research.google.com/github/harnalashok/deeplearning-sequences/blob/main/time_series_modeling_with_attention.ipynb\" target=\"_parent\"><img src=\"https://colab.research.google.com/assets/colab-badge.svg\" alt=\"Open In Colab\"/></a>"
      ]
    },
    {
      "cell_type": "code",
      "metadata": {
        "id": "lEV0_yrIPvMu"
      },
      "source": [
        "# Last amended: 9th July, 2021\n",
        "# Ref: https://github.com/philipperemy/keras-attention-mechanism\n",
        "# Objective:\n",
        "#            i) Use a multivariate time-series data to make prediction\n",
        "#               for future.\n",
        "#           ii) Using lstm and attention in time-series modeling\n",
        "#            "
      ],
      "execution_count": null,
      "outputs": []
    },
    {
      "cell_type": "markdown",
      "metadata": {
        "id": "8Nx5gxR0aQ53"
      },
      "source": [
        "For example, given the stock prices data for last 10 days, as:<br> \n",
        "> PrevClose,Open,High,Low,Last,VWAP,Volume_Turnover,Close <br>\n",
        "Make predictions of Close price for the next day. Here, we use all eight features of the past to make predictions for future."
      ]
    },
    {
      "cell_type": "markdown",
      "metadata": {
        "id": "OtIiFZBwQGHm"
      },
      "source": [
        "## Install library"
      ]
    },
    {
      "cell_type": "code",
      "metadata": {
        "colab": {
          "base_uri": "https://localhost:8080/"
        },
        "id": "wYtsa7XIE9OW",
        "outputId": "ecac0b99-322e-4bbb-e889-7eb296a21769"
      },
      "source": [
        "# 0.0 Install attention\n",
        "! pip install attention"
      ],
      "execution_count": 62,
      "outputs": [
        {
          "output_type": "stream",
          "text": [
            "Requirement already satisfied: attention in /usr/local/lib/python3.7/dist-packages (4.0)\n",
            "Requirement already satisfied: numpy>=1.18.1 in /usr/local/lib/python3.7/dist-packages (from attention) (1.19.5)\n",
            "Requirement already satisfied: tensorflow>=2.1 in /usr/local/lib/python3.7/dist-packages (from attention) (2.5.0)\n",
            "Requirement already satisfied: h5py~=3.1.0 in /usr/local/lib/python3.7/dist-packages (from tensorflow>=2.1->attention) (3.1.0)\n",
            "Requirement already satisfied: keras-preprocessing~=1.1.2 in /usr/local/lib/python3.7/dist-packages (from tensorflow>=2.1->attention) (1.1.2)\n",
            "Requirement already satisfied: astunparse~=1.6.3 in /usr/local/lib/python3.7/dist-packages (from tensorflow>=2.1->attention) (1.6.3)\n",
            "Requirement already satisfied: tensorflow-estimator<2.6.0,>=2.5.0rc0 in /usr/local/lib/python3.7/dist-packages (from tensorflow>=2.1->attention) (2.5.0)\n",
            "Requirement already satisfied: opt-einsum~=3.3.0 in /usr/local/lib/python3.7/dist-packages (from tensorflow>=2.1->attention) (3.3.0)\n",
            "Requirement already satisfied: grpcio~=1.34.0 in /usr/local/lib/python3.7/dist-packages (from tensorflow>=2.1->attention) (1.34.1)\n",
            "Requirement already satisfied: absl-py~=0.10 in /usr/local/lib/python3.7/dist-packages (from tensorflow>=2.1->attention) (0.12.0)\n",
            "Requirement already satisfied: typing-extensions~=3.7.4 in /usr/local/lib/python3.7/dist-packages (from tensorflow>=2.1->attention) (3.7.4.3)\n",
            "Requirement already satisfied: wrapt~=1.12.1 in /usr/local/lib/python3.7/dist-packages (from tensorflow>=2.1->attention) (1.12.1)\n",
            "Requirement already satisfied: tensorboard~=2.5 in /usr/local/lib/python3.7/dist-packages (from tensorflow>=2.1->attention) (2.5.0)\n",
            "Requirement already satisfied: gast==0.4.0 in /usr/local/lib/python3.7/dist-packages (from tensorflow>=2.1->attention) (0.4.0)\n",
            "Requirement already satisfied: six~=1.15.0 in /usr/local/lib/python3.7/dist-packages (from tensorflow>=2.1->attention) (1.15.0)\n",
            "Requirement already satisfied: termcolor~=1.1.0 in /usr/local/lib/python3.7/dist-packages (from tensorflow>=2.1->attention) (1.1.0)\n",
            "Requirement already satisfied: protobuf>=3.9.2 in /usr/local/lib/python3.7/dist-packages (from tensorflow>=2.1->attention) (3.17.3)\n",
            "Requirement already satisfied: flatbuffers~=1.12.0 in /usr/local/lib/python3.7/dist-packages (from tensorflow>=2.1->attention) (1.12)\n",
            "Requirement already satisfied: keras-nightly~=2.5.0.dev in /usr/local/lib/python3.7/dist-packages (from tensorflow>=2.1->attention) (2.5.0.dev2021032900)\n",
            "Requirement already satisfied: google-pasta~=0.2 in /usr/local/lib/python3.7/dist-packages (from tensorflow>=2.1->attention) (0.2.0)\n",
            "Requirement already satisfied: wheel~=0.35 in /usr/local/lib/python3.7/dist-packages (from tensorflow>=2.1->attention) (0.36.2)\n",
            "Requirement already satisfied: cached-property; python_version < \"3.8\" in /usr/local/lib/python3.7/dist-packages (from h5py~=3.1.0->tensorflow>=2.1->attention) (1.5.2)\n",
            "Requirement already satisfied: google-auth-oauthlib<0.5,>=0.4.1 in /usr/local/lib/python3.7/dist-packages (from tensorboard~=2.5->tensorflow>=2.1->attention) (0.4.4)\n",
            "Requirement already satisfied: markdown>=2.6.8 in /usr/local/lib/python3.7/dist-packages (from tensorboard~=2.5->tensorflow>=2.1->attention) (3.3.4)\n",
            "Requirement already satisfied: requests<3,>=2.21.0 in /usr/local/lib/python3.7/dist-packages (from tensorboard~=2.5->tensorflow>=2.1->attention) (2.23.0)\n",
            "Requirement already satisfied: tensorboard-data-server<0.7.0,>=0.6.0 in /usr/local/lib/python3.7/dist-packages (from tensorboard~=2.5->tensorflow>=2.1->attention) (0.6.1)\n",
            "Requirement already satisfied: setuptools>=41.0.0 in /usr/local/lib/python3.7/dist-packages (from tensorboard~=2.5->tensorflow>=2.1->attention) (57.0.0)\n",
            "Requirement already satisfied: google-auth<2,>=1.6.3 in /usr/local/lib/python3.7/dist-packages (from tensorboard~=2.5->tensorflow>=2.1->attention) (1.32.1)\n",
            "Requirement already satisfied: tensorboard-plugin-wit>=1.6.0 in /usr/local/lib/python3.7/dist-packages (from tensorboard~=2.5->tensorflow>=2.1->attention) (1.8.0)\n",
            "Requirement already satisfied: werkzeug>=0.11.15 in /usr/local/lib/python3.7/dist-packages (from tensorboard~=2.5->tensorflow>=2.1->attention) (1.0.1)\n",
            "Requirement already satisfied: requests-oauthlib>=0.7.0 in /usr/local/lib/python3.7/dist-packages (from google-auth-oauthlib<0.5,>=0.4.1->tensorboard~=2.5->tensorflow>=2.1->attention) (1.3.0)\n",
            "Requirement already satisfied: importlib-metadata; python_version < \"3.8\" in /usr/local/lib/python3.7/dist-packages (from markdown>=2.6.8->tensorboard~=2.5->tensorflow>=2.1->attention) (4.6.0)\n",
            "Requirement already satisfied: urllib3!=1.25.0,!=1.25.1,<1.26,>=1.21.1 in /usr/local/lib/python3.7/dist-packages (from requests<3,>=2.21.0->tensorboard~=2.5->tensorflow>=2.1->attention) (1.24.3)\n",
            "Requirement already satisfied: certifi>=2017.4.17 in /usr/local/lib/python3.7/dist-packages (from requests<3,>=2.21.0->tensorboard~=2.5->tensorflow>=2.1->attention) (2021.5.30)\n",
            "Requirement already satisfied: chardet<4,>=3.0.2 in /usr/local/lib/python3.7/dist-packages (from requests<3,>=2.21.0->tensorboard~=2.5->tensorflow>=2.1->attention) (3.0.4)\n",
            "Requirement already satisfied: idna<3,>=2.5 in /usr/local/lib/python3.7/dist-packages (from requests<3,>=2.21.0->tensorboard~=2.5->tensorflow>=2.1->attention) (2.10)\n",
            "Requirement already satisfied: rsa<5,>=3.1.4; python_version >= \"3.6\" in /usr/local/lib/python3.7/dist-packages (from google-auth<2,>=1.6.3->tensorboard~=2.5->tensorflow>=2.1->attention) (4.7.2)\n",
            "Requirement already satisfied: cachetools<5.0,>=2.0.0 in /usr/local/lib/python3.7/dist-packages (from google-auth<2,>=1.6.3->tensorboard~=2.5->tensorflow>=2.1->attention) (4.2.2)\n",
            "Requirement already satisfied: pyasn1-modules>=0.2.1 in /usr/local/lib/python3.7/dist-packages (from google-auth<2,>=1.6.3->tensorboard~=2.5->tensorflow>=2.1->attention) (0.2.8)\n",
            "Requirement already satisfied: oauthlib>=3.0.0 in /usr/local/lib/python3.7/dist-packages (from requests-oauthlib>=0.7.0->google-auth-oauthlib<0.5,>=0.4.1->tensorboard~=2.5->tensorflow>=2.1->attention) (3.1.1)\n",
            "Requirement already satisfied: zipp>=0.5 in /usr/local/lib/python3.7/dist-packages (from importlib-metadata; python_version < \"3.8\"->markdown>=2.6.8->tensorboard~=2.5->tensorflow>=2.1->attention) (3.4.1)\n",
            "Requirement already satisfied: pyasn1>=0.1.3 in /usr/local/lib/python3.7/dist-packages (from rsa<5,>=3.1.4; python_version >= \"3.6\"->google-auth<2,>=1.6.3->tensorboard~=2.5->tensorflow>=2.1->attention) (0.4.8)\n"
          ],
          "name": "stdout"
        }
      ]
    },
    {
      "cell_type": "markdown",
      "metadata": {
        "id": "pGbutE-pQNJu"
      },
      "source": [
        "## Call libraries"
      ]
    },
    {
      "cell_type": "code",
      "metadata": {
        "id": "i17qhM9HFC9E"
      },
      "source": [
        "# 1.0 Usual libraries\n",
        "import numpy as np\n",
        "\n",
        "# 1.1 tensorflow related libraries\n",
        "from tensorflow.keras import Input\n",
        "from tensorflow.keras.layers import Dense, LSTM\n",
        "from tensorflow.keras.models import load_model, Model\n",
        "from attention import Attention"
      ],
      "execution_count": 63,
      "outputs": []
    },
    {
      "cell_type": "code",
      "metadata": {
        "id": "tpZxiYQ5Q9aP"
      },
      "source": [
        "# 1.2 Display multiple command outputs from a cell\n",
        "from IPython.core.interactiveshell import InteractiveShell\n",
        "InteractiveShell.ast_node_interactivity = \"all\""
      ],
      "execution_count": 64,
      "outputs": []
    },
    {
      "cell_type": "markdown",
      "metadata": {
        "id": "QDsllxu7QUNf"
      },
      "source": [
        "### Generate some sample data\n",
        "Data has just one feature time-value"
      ]
    },
    {
      "cell_type": "code",
      "metadata": {
        "id": "1UYHtd4TFPmw"
      },
      "source": [
        "# 2.0 Take past 10 time steps and make prediction for the next\n",
        "#       time step\n",
        "num_samples, time_steps, input_dim, output_dim = 100, 10, 8, 1\n",
        "data_x = np.random.uniform(size=(num_samples, time_steps, input_dim))\n",
        "data_y = np.random.uniform(size=(num_samples, output_dim))"
      ],
      "execution_count": 66,
      "outputs": []
    },
    {
      "cell_type": "code",
      "metadata": {
        "colab": {
          "base_uri": "https://localhost:8080/"
        },
        "id": "RzQ0XDMAFSR0",
        "outputId": "3ebc118c-dbd6-4d24-bb35-c4b8a7dce5c5"
      },
      "source": [
        "# 2.1 Observe data\n",
        "print(data_x.shape)\n",
        "print(data_x[:2])   # Show 2 sets of 10 time-steps each"
      ],
      "execution_count": 67,
      "outputs": [
        {
          "output_type": "stream",
          "text": [
            "(100, 10, 8)\n",
            "[[[0.17675323 0.93801267 0.02409247 0.6477727  0.65776365 0.59317151\n",
            "   0.08562314 0.109912  ]\n",
            "  [0.83054184 0.75506272 0.83984152 0.17851744 0.80153445 0.03904354\n",
            "   0.67577563 0.62588049]\n",
            "  [0.51336595 0.21246101 0.46662786 0.32600182 0.05321681 0.09254027\n",
            "   0.14650615 0.99589022]\n",
            "  [0.47477344 0.33267873 0.16787462 0.71668207 0.9588422  0.29327231\n",
            "   0.43083154 0.71412131]\n",
            "  [0.51889625 0.21943644 0.90111213 0.3590204  0.16148471 0.58737068\n",
            "   0.18956921 0.46883456]\n",
            "  [0.88719905 0.72865888 0.01624707 0.83167424 0.34635637 0.78909589\n",
            "   0.18802614 0.71327504]\n",
            "  [0.96604545 0.25194566 0.47482444 0.21534709 0.15669736 0.53637902\n",
            "   0.45263331 0.26555538]\n",
            "  [0.77219807 0.53777421 0.45891954 0.43563277 0.96274734 0.08044768\n",
            "   0.00638809 0.14604222]\n",
            "  [0.24421238 0.07640809 0.27816959 0.17043745 0.45818475 0.59449068\n",
            "   0.36071397 0.71290895]\n",
            "  [0.46937886 0.11690715 0.14521054 0.54835216 0.55051635 0.76433001\n",
            "   0.89642641 0.96522258]]\n",
            "\n",
            " [[0.31481929 0.98680302 0.98971504 0.6073139  0.13408434 0.09079692\n",
            "   0.5593388  0.0514221 ]\n",
            "  [0.55917821 0.04537787 0.56889196 0.16550514 0.83262008 0.2375141\n",
            "   0.97000902 0.17246292]\n",
            "  [0.51879998 0.33494039 0.08712851 0.60011566 0.85372561 0.26356\n",
            "   0.68158819 0.06078587]\n",
            "  [0.72660789 0.41085488 0.93597543 0.98078564 0.93050136 0.76460093\n",
            "   0.09607412 0.28296926]\n",
            "  [0.12818777 0.59577409 0.13129554 0.91695513 0.89056262 0.8154968\n",
            "   0.42508302 0.31942346]\n",
            "  [0.01409344 0.3723655  0.82267292 0.90361874 0.63080329 0.67518482\n",
            "   0.99224489 0.1121047 ]\n",
            "  [0.74462305 0.62621523 0.45828851 0.65075459 0.67957257 0.7845613\n",
            "   0.97346387 0.65982781]\n",
            "  [0.81478738 0.47024257 0.70486981 0.94407301 0.52148254 0.79692\n",
            "   0.73846516 0.31482619]\n",
            "  [0.52336331 0.93123458 0.09030259 0.35236559 0.82204056 0.4492695\n",
            "   0.53290928 0.30272335]\n",
            "  [0.03504021 0.66472643 0.34314475 0.40873347 0.90760718 0.96808057\n",
            "   0.78301854 0.63699052]]]\n"
          ],
          "name": "stdout"
        }
      ]
    },
    {
      "cell_type": "code",
      "metadata": {
        "colab": {
          "base_uri": "https://localhost:8080/"
        },
        "id": "-VV8nlF4TABG",
        "outputId": "0b2c57d7-4fd6-4d60-8785-5fcdb50377a6"
      },
      "source": [
        "# 2.2 Show next 4-values to be predicted\n",
        "print(data_y[:4])   # Show 4 values"
      ],
      "execution_count": 68,
      "outputs": [
        {
          "output_type": "stream",
          "text": [
            "[[0.56864943]\n",
            " [0.1047481 ]\n",
            " [0.66283023]\n",
            " [0.18586409]]\n"
          ],
          "name": "stdout"
        }
      ]
    },
    {
      "cell_type": "markdown",
      "metadata": {
        "id": "osufMqcWjRFs"
      },
      "source": [
        "### Normalise data"
      ]
    },
    {
      "cell_type": "code",
      "metadata": {
        "id": "xzCINmq4heZQ"
      },
      "source": [
        "# 3.0 Reshape data\n",
        "data_x = data_x.reshape(1000,8)"
      ],
      "execution_count": 69,
      "outputs": []
    },
    {
      "cell_type": "code",
      "metadata": {
        "id": "U1nb1q5YjanL"
      },
      "source": [
        "# 3.1 Global mean of each one of all eight columns\n",
        "mean = data_x.mean(axis = 0)\n",
        "data_x -= mean\n",
        "\n",
        "# Std of each one of eight columns\n",
        "std = data_x.std(axis = 0)\n",
        "data_x /= std\n",
        "data_x = data_x.reshape(100,10,8)"
      ],
      "execution_count": 70,
      "outputs": []
    },
    {
      "cell_type": "markdown",
      "metadata": {
        "id": "U-gHr9LeWqcH"
      },
      "source": [
        "### Our model"
      ]
    },
    {
      "cell_type": "code",
      "metadata": {
        "id": "D1XJGTlJF3tx"
      },
      "source": [
        "# 4.0 Define the model.\n",
        "model_input = Input(shape=(time_steps, input_dim))\n",
        "x = LSTM(64, return_sequences=True)(model_input)\n",
        "x = Attention(32)(x)\n",
        "x = Dense(1)(x)\n",
        "model = Model(model_input, x)"
      ],
      "execution_count": 71,
      "outputs": []
    },
    {
      "cell_type": "code",
      "metadata": {
        "colab": {
          "base_uri": "https://localhost:8080/"
        },
        "id": "dlO25nU6F6dX",
        "outputId": "cc4fc367-3929-494d-b572-6f67a2a3cd86"
      },
      "source": [
        "# 4.1 Compile and print model summary\n",
        "model.compile(loss='mae', optimizer='adam')\n",
        "print(model.summary())"
      ],
      "execution_count": 72,
      "outputs": [
        {
          "output_type": "stream",
          "text": [
            "Model: \"model_3\"\n",
            "__________________________________________________________________________________________________\n",
            "Layer (type)                    Output Shape         Param #     Connected to                     \n",
            "==================================================================================================\n",
            "input_4 (InputLayer)            [(None, 10, 8)]      0                                            \n",
            "__________________________________________________________________________________________________\n",
            "lstm_3 (LSTM)                   (None, 10, 64)       18688       input_4[0][0]                    \n",
            "__________________________________________________________________________________________________\n",
            "last_hidden_state (Lambda)      (None, 64)           0           lstm_3[0][0]                     \n",
            "__________________________________________________________________________________________________\n",
            "attention_score_vec (Dense)     (None, 10, 64)       4096        lstm_3[0][0]                     \n",
            "__________________________________________________________________________________________________\n",
            "attention_score (Dot)           (None, 10)           0           last_hidden_state[0][0]          \n",
            "                                                                 attention_score_vec[0][0]        \n",
            "__________________________________________________________________________________________________\n",
            "attention_weight (Activation)   (None, 10)           0           attention_score[0][0]            \n",
            "__________________________________________________________________________________________________\n",
            "context_vector (Dot)            (None, 64)           0           lstm_3[0][0]                     \n",
            "                                                                 attention_weight[0][0]           \n",
            "__________________________________________________________________________________________________\n",
            "attention_output (Concatenate)  (None, 128)          0           context_vector[0][0]             \n",
            "                                                                 last_hidden_state[0][0]          \n",
            "__________________________________________________________________________________________________\n",
            "attention_vector (Dense)        (None, 128)          16384       attention_output[0][0]           \n",
            "__________________________________________________________________________________________________\n",
            "dense_3 (Dense)                 (None, 1)            129         attention_vector[0][0]           \n",
            "==================================================================================================\n",
            "Total params: 39,297\n",
            "Trainable params: 39,297\n",
            "Non-trainable params: 0\n",
            "__________________________________________________________________________________________________\n",
            "None\n"
          ],
          "name": "stdout"
        }
      ]
    },
    {
      "cell_type": "code",
      "metadata": {
        "colab": {
          "base_uri": "https://localhost:8080/"
        },
        "id": "MjAt8p9-GF2d",
        "outputId": "cd9a3aa0-a4f8-4b17-f2e2-2ce9bdcc2253"
      },
      "source": [
        "# 4.2 Start learning\n",
        "model.fit(data_x, data_y, epochs=10)"
      ],
      "execution_count": 73,
      "outputs": [
        {
          "output_type": "stream",
          "text": [
            "Epoch 1/10\n",
            "4/4 [==============================] - 2s 10ms/step - loss: 0.4917\n",
            "Epoch 2/10\n",
            "4/4 [==============================] - 0s 12ms/step - loss: 0.4126\n",
            "Epoch 3/10\n",
            "4/4 [==============================] - 0s 9ms/step - loss: 0.3552\n",
            "Epoch 4/10\n",
            "4/4 [==============================] - 0s 9ms/step - loss: 0.3024\n",
            "Epoch 5/10\n",
            "4/4 [==============================] - 0s 9ms/step - loss: 0.2563\n",
            "Epoch 6/10\n",
            "4/4 [==============================] - 0s 9ms/step - loss: 0.2468\n",
            "Epoch 7/10\n",
            "4/4 [==============================] - 0s 9ms/step - loss: 0.2453\n",
            "Epoch 8/10\n",
            "4/4 [==============================] - 0s 16ms/step - loss: 0.2388\n",
            "Epoch 9/10\n",
            "4/4 [==============================] - 0s 10ms/step - loss: 0.2284\n",
            "Epoch 10/10\n",
            "4/4 [==============================] - 0s 10ms/step - loss: 0.2227\n"
          ],
          "name": "stdout"
        },
        {
          "output_type": "execute_result",
          "data": {
            "text/plain": [
              "<tensorflow.python.keras.callbacks.History at 0x7f3e29bad210>"
            ]
          },
          "metadata": {
            "tags": []
          },
          "execution_count": 73
        }
      ]
    },
    {
      "cell_type": "code",
      "metadata": {
        "id": "GIIKIYPTFHt4"
      },
      "source": [
        "# 4.3 Make predictions\n",
        "pred1 = model.predict(data_x)"
      ],
      "execution_count": 74,
      "outputs": []
    },
    {
      "cell_type": "markdown",
      "metadata": {
        "id": "HaqmiFz0WxSY"
      },
      "source": [
        "### Save model for future"
      ]
    },
    {
      "cell_type": "code",
      "metadata": {
        "id": "bZEzSG2ATxCi"
      },
      "source": [
        "# 5.0 Save model for future\n",
        "model.save('test_model.h5')"
      ],
      "execution_count": 75,
      "outputs": []
    },
    {
      "cell_type": "code",
      "metadata": {
        "id": "xsC6T5HGTy1d"
      },
      "source": [
        "# 5.1 Delete earlier model\n",
        "del model\n",
        "\n",
        "# 5.2 Load the saved model\n",
        "model_h5 = load_model('test_model.h5')"
      ],
      "execution_count": 76,
      "outputs": []
    },
    {
      "cell_type": "code",
      "metadata": {
        "id": "2l-ndoK3T7lK"
      },
      "source": [
        "# 5.3 Make predictions with the sabed model\n",
        "pred2 = model_h5.predict(data_x)"
      ],
      "execution_count": 77,
      "outputs": []
    },
    {
      "cell_type": "code",
      "metadata": {
        "colab": {
          "base_uri": "https://localhost:8080/"
        },
        "id": "3cHBmcN5T-tV",
        "outputId": "399f49cb-6755-47cb-c8b4-6cbe289eca24"
      },
      "source": [
        "# 5.4 Compare saved model predictions \n",
        "#      with predictions made before saving\n",
        "\n",
        "np.testing.assert_almost_equal(pred1, pred2)\n",
        "print('Success.')"
      ],
      "execution_count": 78,
      "outputs": [
        {
          "output_type": "stream",
          "text": [
            "Success.\n"
          ],
          "name": "stdout"
        }
      ]
    },
    {
      "cell_type": "code",
      "metadata": {
        "id": "wCHsTno9XSDJ"
      },
      "source": [
        "########## I am done ###############"
      ],
      "execution_count": null,
      "outputs": []
    },
    {
      "cell_type": "code",
      "metadata": {
        "id": "ywns37NTGNWG"
      },
      "source": [
        ""
      ],
      "execution_count": null,
      "outputs": []
    }
  ]
}