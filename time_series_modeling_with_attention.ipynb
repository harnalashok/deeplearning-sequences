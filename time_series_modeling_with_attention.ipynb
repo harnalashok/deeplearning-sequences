{
  "nbformat": 4,
  "nbformat_minor": 0,
  "metadata": {
    "colab": {
      "name": "time series modeling with attention.ipynb",
      "provenance": [],
      "collapsed_sections": [],
      "authorship_tag": "ABX9TyMevOU4/A/IOus0BxSqEIbJ",
      "include_colab_link": true
    },
    "kernelspec": {
      "name": "python3",
      "display_name": "Python 3"
    },
    "language_info": {
      "name": "python"
    }
  },
  "cells": [
    {
      "cell_type": "markdown",
      "metadata": {
        "id": "view-in-github",
        "colab_type": "text"
      },
      "source": [
        "<a href=\"https://colab.research.google.com/github/harnalashok/deeplearning-sequences/blob/main/time_series_modeling_with_attention.ipynb\" target=\"_parent\"><img src=\"https://colab.research.google.com/assets/colab-badge.svg\" alt=\"Open In Colab\"/></a>"
      ]
    },
    {
      "cell_type": "code",
      "metadata": {
        "id": "lEV0_yrIPvMu"
      },
      "source": [
        "# Last amended: 9th July, 2021\n",
        "# Ref: https://github.com/philipperemy/keras-attention-mechanism"
      ],
      "execution_count": null,
      "outputs": []
    },
    {
      "cell_type": "markdown",
      "metadata": {
        "id": "OtIiFZBwQGHm"
      },
      "source": [
        "## Install library"
      ]
    },
    {
      "cell_type": "code",
      "metadata": {
        "id": "wYtsa7XIE9OW"
      },
      "source": [
        "# 0.0 Install attention\n",
        "! pip install attention"
      ],
      "execution_count": null,
      "outputs": []
    },
    {
      "cell_type": "markdown",
      "metadata": {
        "id": "pGbutE-pQNJu"
      },
      "source": [
        "## Call libraries"
      ]
    },
    {
      "cell_type": "code",
      "metadata": {
        "id": "i17qhM9HFC9E"
      },
      "source": [
        "# 1.0 Usual libraries\n",
        "import numpy as np\n",
        "\n",
        "# 1.1 tensorflow related libraries\n",
        "from tensorflow.keras import Input\n",
        "from tensorflow.keras.layers import Dense, LSTM\n",
        "from tensorflow.keras.models import load_model, Model\n",
        "from attention import Attention"
      ],
      "execution_count": 2,
      "outputs": []
    },
    {
      "cell_type": "code",
      "metadata": {
        "id": "tpZxiYQ5Q9aP"
      },
      "source": [
        "# 1.2\n",
        "from IPython.core.interactiveshell import InteractiveShell\n",
        "InteractiveShell.ast_node_interactivity = \"all\""
      ],
      "execution_count": 12,
      "outputs": []
    },
    {
      "cell_type": "markdown",
      "metadata": {
        "id": "QDsllxu7QUNf"
      },
      "source": [
        "### Generate some sample data\n",
        "Data has just one feature time-value"
      ]
    },
    {
      "cell_type": "code",
      "metadata": {
        "id": "1UYHtd4TFPmw"
      },
      "source": [
        "# 2.0 Take past 10 time steps and make prediction for the next\n",
        "#       time step\n",
        "num_samples, time_steps, input_dim, output_dim = 100, 10, 1, 1\n",
        "data_x = np.random.uniform(size=(num_samples, time_steps, input_dim))\n",
        "data_y = np.random.uniform(size=(num_samples, output_dim))"
      ],
      "execution_count": 3,
      "outputs": []
    },
    {
      "cell_type": "code",
      "metadata": {
        "colab": {
          "base_uri": "https://localhost:8080/"
        },
        "id": "RzQ0XDMAFSR0",
        "outputId": "9895e882-76f7-432b-82cd-83585cac1576"
      },
      "source": [
        "# 2.1 Observe data\n",
        "print(data_x.shape)\n",
        "print(data_x[:2])   # Show 2 sets of 10 time-steps each\n"
      ],
      "execution_count": 16,
      "outputs": [
        {
          "output_type": "stream",
          "text": [
            "(100, 10, 1)\n",
            "[[[0.74432016]\n",
            "  [0.08340127]\n",
            "  [0.86140793]\n",
            "  [0.20537519]\n",
            "  [0.04363293]\n",
            "  [0.31972668]\n",
            "  [0.5667418 ]\n",
            "  [0.25163508]\n",
            "  [0.21397688]\n",
            "  [0.10505855]]\n",
            "\n",
            " [[0.140055  ]\n",
            "  [0.03418227]\n",
            "  [0.4986226 ]\n",
            "  [0.99729447]\n",
            "  [0.06554542]\n",
            "  [0.42046355]\n",
            "  [0.23819792]\n",
            "  [0.21301984]\n",
            "  [0.4686359 ]\n",
            "  [0.57741368]]]\n"
          ],
          "name": "stdout"
        }
      ]
    },
    {
      "cell_type": "code",
      "metadata": {
        "id": "-VV8nlF4TABG"
      },
      "source": [
        "# 2.2 Show next 4-values to be predicted\n",
        "print(data_y[:4])   # Show 4 values"
      ],
      "execution_count": null,
      "outputs": []
    },
    {
      "cell_type": "markdown",
      "metadata": {
        "id": "U-gHr9LeWqcH"
      },
      "source": [
        "### Our model"
      ]
    },
    {
      "cell_type": "code",
      "metadata": {
        "id": "D1XJGTlJF3tx"
      },
      "source": [
        "# 3.0 Define the model.\n",
        "model_input = Input(shape=(time_steps, input_dim))\n",
        "x = LSTM(64, return_sequences=True)(model_input)\n",
        "x = Attention(32)(x)\n",
        "x = Dense(1)(x)\n",
        "model = Model(model_input, x)"
      ],
      "execution_count": 6,
      "outputs": []
    },
    {
      "cell_type": "code",
      "metadata": {
        "id": "dlO25nU6F6dX"
      },
      "source": [
        "# 3.1 Compile and print model summary\n",
        "model.compile(loss='mae', optimizer='adam')\n",
        "print(model.summary())"
      ],
      "execution_count": null,
      "outputs": []
    },
    {
      "cell_type": "code",
      "metadata": {
        "id": "MjAt8p9-GF2d"
      },
      "source": [
        "# 3.2 Start learning\n",
        "model.fit(data_x, data_y, epochs=10)"
      ],
      "execution_count": null,
      "outputs": []
    },
    {
      "cell_type": "code",
      "metadata": {
        "id": "GIIKIYPTFHt4"
      },
      "source": [
        "# 3.3 Make predictions\n",
        "pred1 = model.predict(data_x)"
      ],
      "execution_count": null,
      "outputs": []
    },
    {
      "cell_type": "markdown",
      "metadata": {
        "id": "HaqmiFz0WxSY"
      },
      "source": [
        "### Save model for future"
      ]
    },
    {
      "cell_type": "code",
      "metadata": {
        "id": "bZEzSG2ATxCi"
      },
      "source": [
        "# 4.0 Save model for future\n",
        "model.save('test_model.h5')"
      ],
      "execution_count": null,
      "outputs": []
    },
    {
      "cell_type": "code",
      "metadata": {
        "id": "xsC6T5HGTy1d"
      },
      "source": [
        "# 4.1 Delete earlier model\n",
        "del model\n",
        "\n",
        "# 4.2 Load the saved model\n",
        "model_h5 = load_model('test_model.h5')"
      ],
      "execution_count": null,
      "outputs": []
    },
    {
      "cell_type": "code",
      "metadata": {
        "id": "2l-ndoK3T7lK"
      },
      "source": [
        "# 4.3 Make predictions with the sabed model\n",
        "pred2 = model_h5.predict(data_x)"
      ],
      "execution_count": null,
      "outputs": []
    },
    {
      "cell_type": "code",
      "metadata": {
        "id": "3cHBmcN5T-tV"
      },
      "source": [
        "# 4.4 Compare saved model predictions \n",
        "#      with predictions made before saving\n",
        "\n",
        "np.testing.assert_almost_equal(pred1, pred2)\n",
        "print('Success.')"
      ],
      "execution_count": null,
      "outputs": []
    },
    {
      "cell_type": "code",
      "metadata": {
        "id": "wCHsTno9XSDJ"
      },
      "source": [
        "########## I am done ###############"
      ],
      "execution_count": null,
      "outputs": []
    },
    {
      "cell_type": "code",
      "metadata": {
        "id": "ywns37NTGNWG"
      },
      "source": [
        ""
      ],
      "execution_count": null,
      "outputs": []
    }
  ]
}