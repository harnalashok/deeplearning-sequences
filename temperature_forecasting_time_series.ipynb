{
  "nbformat": 4,
  "nbformat_minor": 0,
  "metadata": {
    "colab": {
      "provenance": [],
      "include_colab_link": true
    },
    "kernelspec": {
      "name": "python3",
      "display_name": "Python 3"
    },
    "language_info": {
      "name": "python"
    }
  },
  "cells": [
    {
      "cell_type": "markdown",
      "metadata": {
        "id": "view-in-github",
        "colab_type": "text"
      },
      "source": [
        "<a href=\"https://colab.research.google.com/github/harnalashok/deeplearning-sequences/blob/main/temperature_forecasting_time_series.ipynb\" target=\"_parent\"><img src=\"https://colab.research.google.com/assets/colab-badge.svg\" alt=\"Open In Colab\"/></a>"
      ]
    },
    {
      "cell_type": "code",
      "execution_count": null,
      "metadata": {
        "id": "jdneRZu9b6LV"
      },
      "outputs": [],
      "source": [
        "# Last amended: 01st Feb, 2023\n",
        "# My folder: /home/ashok/Documents/14.sensor_data\n",
        "# VM: lubuntu_deeplearning_I.vdi\n",
        "# Ref: Page 207, Chapter 6, Deep Learning with Python by Fracois Chollete\n",
        "# Download dataset from:\n",
        "# 1. Link to my google drive\n",
        "#  https://drive.google.com/file/d/1rnhlFKmmmhXqawaIBgjSTsqGrTLCUldV/view?usp=sharing\n",
        "# 2. Link to original datasource\n",
        "#  https://s3.amazonaws.com/keras-datasets/jena_climate_2009_2016.csv.zip"
      ]
    },
    {
      "cell_type": "code",
      "source": [
        "# Objectives:\n",
        "#             i)  Working with timeseries data\n",
        "#             i)  Working with sensor data\n",
        "#                 (Data comes from many sensors)\n",
        "#             ii) Processing data to make it fit for modeling\n",
        "#            iii) Creating a data generator for training and validation\n",
        "#            iv)  Making predictions using\n",
        "#                   a) Fully connected dense model\n",
        "#                   b) GRU model\n",
        "#                   c) GRU model with dropouts\n",
        "#                   d) Stacked GRU models\n",
        "#                   e) Bidirectional RNN layer\n",
        "#\n",
        "#"
      ],
      "metadata": {
        "id": "huq-vVpRcH4X"
      },
      "execution_count": null,
      "outputs": []
    },
    {
      "cell_type": "markdown",
      "source": [
        "## Task"
      ],
      "metadata": {
        "id": "NJ616xsmcMxP"
      }
    },
    {
      "cell_type": "code",
      "source": [
        "# We will predict temperature\n",
        "# Sensor data is recorded every 10 minutes. So per-day we have:\n",
        "#   no of minutes:              24 * 60     =  1440\n",
        "#   no of 10 minutes interval: (24 * 60)/10 = 144 datapoints/per day\n",
        "#   no of data-points in 10 days: 1440"
      ],
      "metadata": {
        "id": "gdWgLHxRcL6_"
      },
      "execution_count": null,
      "outputs": []
    },
    {
      "cell_type": "markdown",
      "source": [
        "## Call libraries"
      ],
      "metadata": {
        "id": "q5YGPiuocaeX"
      }
    },
    {
      "cell_type": "code",
      "source": [
        "# 1.0 Reset all variables\n",
        "#%reset -f\n",
        "\n",
        "# 1.0 Call libraries\n",
        "import numpy as np\n",
        "import matplotlib.pyplot as plt\n",
        "import os, time, gc, pathlib"
      ],
      "metadata": {
        "id": "GfcUriAvcZnA"
      },
      "execution_count": 1,
      "outputs": []
    },
    {
      "cell_type": "code",
      "source": [
        "# 1.0.1 Display multiple outputs from a cell:\n",
        "\n",
        "from IPython.core.interactiveshell import InteractiveShell\n",
        "InteractiveShell.ast_node_interactivity = \"all\"\n"
      ],
      "metadata": {
        "id": "9e-hx8pfdkcu"
      },
      "execution_count": 2,
      "outputs": []
    },
    {
      "cell_type": "markdown",
      "source": [
        "## Mount gdrive"
      ],
      "metadata": {
        "id": "IJx0do-PTlT8"
      }
    },
    {
      "cell_type": "code",
      "source": [
        "# 1.1\n",
        "from google.colab import drive\n",
        "drive.mount('/gdrive')"
      ],
      "metadata": {
        "colab": {
          "base_uri": "https://localhost:8080/"
        },
        "id": "pr3N9CPyTkkU",
        "outputId": "05cab5f0-1c30-47f2-f229-9bb22f723772"
      },
      "execution_count": 3,
      "outputs": [
        {
          "output_type": "stream",
          "name": "stdout",
          "text": [
            "Mounted at /gdrive\n"
          ]
        }
      ]
    },
    {
      "cell_type": "markdown",
      "source": [
        "## How to read csv data\n",
        "`\n",
        ">open()<br>\n",
        ">f.read()<br>\n",
        ">f.close()<br>\n",
        ">data.split('\\n')<br>\n",
        ">lines.split(',')<br>\n",
        "`"
      ],
      "metadata": {
        "id": "a4csnTjzchOX"
      }
    },
    {
      "cell_type": "code",
      "source": [
        "# 1.1 Where is my data folder?\n",
        "data_dir = '/gdrive/MyDrive/Colab_data_files/jena'\n",
        "\n",
        "# 1.1.0 Make data_dir a pathlib object\n",
        "folderPath = pathlib.Path(data_dir)"
      ],
      "metadata": {
        "id": "Bn10kSZUcndP"
      },
      "execution_count": 6,
      "outputs": []
    },
    {
      "cell_type": "code",
      "source": [
        "# 1.2 Join datapath with filename (intelligently)\n",
        "#     If you are on Windows, assign to fname full\n",
        "#     data path+ filename\n",
        "fname = os.path.join(data_dir, 'jena_climate_2009_2016.csv')\n",
        "fname"
      ],
      "metadata": {
        "id": "krnBJRr2cjV4",
        "colab": {
          "base_uri": "https://localhost:8080/",
          "height": 35
        },
        "outputId": "2d4fc676-622a-4fd5-aa8e-ea4fb8570b5c"
      },
      "execution_count": 7,
      "outputs": [
        {
          "output_type": "execute_result",
          "data": {
            "text/plain": [
              "'/gdrive/MyDrive/Colab_data_files/jena/jena_climate_2009_2016.csv'"
            ],
            "application/vnd.google.colaboratory.intrinsic+json": {
              "type": "string"
            }
          },
          "metadata": {},
          "execution_count": 7
        }
      ]
    },
    {
      "cell_type": "code",
      "source": [
        "# 1.2 Get filename\n",
        "fname = folderPath / 'jena_climate_2009_2016.csv'"
      ],
      "metadata": {
        "id": "JGAKvCFkQem-"
      },
      "execution_count": 8,
      "outputs": []
    },
    {
      "cell_type": "code",
      "source": [
        "# 1.3 Read datafile, line by line\n",
        "# 1.3.1 First get a handle to file\n",
        "f = open(fname)   # open() default mode is text+read\n",
        "# 1.3.2 Use handle to read complete file\n",
        "data = f.read()"
      ],
      "metadata": {
        "id": "t_9bPtUhcu74"
      },
      "execution_count": 9,
      "outputs": []
    },
    {
      "cell_type": "code",
      "source": [
        "# 1.3.3 Close read file\n",
        "f.close()"
      ],
      "metadata": {
        "id": "LosNIABzctNX"
      },
      "execution_count": 10,
      "outputs": []
    },
    {
      "cell_type": "code",
      "source": [
        "type(data)"
      ],
      "metadata": {
        "colab": {
          "base_uri": "https://localhost:8080/"
        },
        "id": "dqFEfgrTUdLj",
        "outputId": "67a85bef-bcd9-476b-f069-555c7323ea2f"
      },
      "execution_count": null,
      "outputs": [
        {
          "output_type": "execute_result",
          "data": {
            "text/plain": [
              "str"
            ]
          },
          "metadata": {},
          "execution_count": 9
        }
      ]
    },
    {
      "cell_type": "markdown",
      "source": [
        "## Observe read file data\n",
        "Basic python operations on file"
      ],
      "metadata": {
        "id": "v6RnleSAc5Fp"
      }
    },
    {
      "cell_type": "code",
      "source": [
        "# 1.3.4 Check data type\n",
        "assert type(data) is str\n",
        "print(\"\\n====\\n\")\n",
        "type(data) #  str"
      ],
      "metadata": {
        "colab": {
          "base_uri": "https://localhost:8080/"
        },
        "id": "GSK9UZtIVLRL",
        "outputId": "019655e8-fd06-4f1e-a501-3995b35a247d"
      },
      "execution_count": null,
      "outputs": [
        {
          "output_type": "stream",
          "name": "stdout",
          "text": [
            "\n",
            "====\n",
            "\n"
          ]
        },
        {
          "output_type": "execute_result",
          "data": {
            "text/plain": [
              "str"
            ]
          },
          "metadata": {},
          "execution_count": 10
        }
      ]
    },
    {
      "cell_type": "code",
      "source": [
        "# 1.3.5 Observe data string\n",
        "\n",
        "data[0:200]      # Whole data is read as one string\n",
        "                 # Read first 200 characters of string\n",
        "                 # Note '\\n' at 196th character\n"
      ],
      "metadata": {
        "id": "wyz-ctvnc7xt",
        "colab": {
          "base_uri": "https://localhost:8080/",
          "height": 53
        },
        "outputId": "946241f2-2c71-46bb-ae43-cc4fdb6b9d59"
      },
      "execution_count": null,
      "outputs": [
        {
          "output_type": "execute_result",
          "data": {
            "text/plain": [
              "'\"Date Time\",\"p (mbar)\",\"T (degC)\",\"Tpot (K)\",\"Tdew (degC)\",\"rh (%)\",\"VPmax (mbar)\",\"VPact (mbar)\",\"VPdef (mbar)\",\"sh (g/kg)\",\"H2OC (mmol/mol)\",\"rho (g/m**3)\",\"wv (m/s)\",\"max. wv (m/s)\",\"wd (deg)\"\\n01.0'"
            ],
            "application/vnd.google.colaboratory.intrinsic+json": {
              "type": "string"
            }
          },
          "metadata": {},
          "execution_count": 35
        }
      ]
    },
    {
      "cell_type": "code",
      "source": [
        "# 1.4 Look at data\n",
        "# 1.4.1 Split data on newline (\\n). So how many records?\n",
        "lines = data.split('\\n')    # Split data 'str' at every 'newline'\n",
        "                            # and collect the str(s) in a list\n",
        "print(\"\\n=====\\n\")\n",
        "type(lines)                 # list =>  All splits are in one list\n",
        "print(\"\\n=====\\n\")\n",
        "len(lines)                  # Total splits/elements are 420552\n",
        "print(\"\\n=====\\n\")\n",
        "lines[3]                    # Just print some element of list\n",
        "\n"
      ],
      "metadata": {
        "id": "Ekk9kqTGdChv",
        "colab": {
          "base_uri": "https://localhost:8080/",
          "height": 195
        },
        "outputId": "3fe9476a-eb70-4116-a6ad-b48de5b22a9f"
      },
      "execution_count": 11,
      "outputs": [
        {
          "output_type": "stream",
          "name": "stdout",
          "text": [
            "\n",
            "=====\n",
            "\n"
          ]
        },
        {
          "output_type": "execute_result",
          "data": {
            "text/plain": [
              "list"
            ]
          },
          "metadata": {},
          "execution_count": 11
        },
        {
          "output_type": "stream",
          "name": "stdout",
          "text": [
            "\n",
            "=====\n",
            "\n"
          ]
        },
        {
          "output_type": "execute_result",
          "data": {
            "text/plain": [
              "420552"
            ]
          },
          "metadata": {},
          "execution_count": 11
        },
        {
          "output_type": "stream",
          "name": "stdout",
          "text": [
            "\n",
            "=====\n",
            "\n"
          ]
        },
        {
          "output_type": "execute_result",
          "data": {
            "text/plain": [
              "'01.01.2009 00:30:00,996.53,-8.51,264.91,-9.31,93.90,3.21,3.01,0.20,1.88,3.02,1310.24,0.19,0.63,171.60'"
            ],
            "application/vnd.google.colaboratory.intrinsic+json": {
              "type": "string"
            }
          },
          "metadata": {},
          "execution_count": 11
        }
      ]
    },
    {
      "cell_type": "code",
      "source": [
        "# 1.4.2 Does any header exist? Check\n",
        "lines[0]                   # yes, it does\n",
        "print(\"\\n=====\\n\")\n",
        "lines[1]"
      ],
      "metadata": {
        "id": "2S5fHG7ldv_o",
        "colab": {
          "base_uri": "https://localhost:8080/",
          "height": 106
        },
        "outputId": "c6a2573f-d869-467a-d5f2-d771ad2a0e44"
      },
      "execution_count": 15,
      "outputs": [
        {
          "output_type": "execute_result",
          "data": {
            "text/plain": [
              "'\"Date Time\",\"p (mbar)\",\"T (degC)\",\"Tpot (K)\",\"Tdew (degC)\",\"rh (%)\",\"VPmax (mbar)\",\"VPact (mbar)\",\"VPdef (mbar)\",\"sh (g/kg)\",\"H2OC (mmol/mol)\",\"rho (g/m**3)\",\"wv (m/s)\",\"max. wv (m/s)\",\"wd (deg)\"'"
            ],
            "application/vnd.google.colaboratory.intrinsic+json": {
              "type": "string"
            }
          },
          "metadata": {},
          "execution_count": 15
        },
        {
          "output_type": "stream",
          "name": "stdout",
          "text": [
            "\n",
            "=====\n",
            "\n"
          ]
        },
        {
          "output_type": "execute_result",
          "data": {
            "text/plain": [
              "'01.01.2009 00:10:00,996.52,-8.02,265.40,-8.90,93.30,3.33,3.11,0.22,1.94,3.12,1307.75,1.03,1.75,152.30'"
            ],
            "application/vnd.google.colaboratory.intrinsic+json": {
              "type": "string"
            }
          },
          "metadata": {},
          "execution_count": 15
        }
      ]
    },
    {
      "cell_type": "code",
      "source": [
        "# 1.4.3.1 Actual data from csv file\n",
        "#         Note each col-header is a string\n",
        "#         but each col value is NOT\n",
        "\"\"\"\n",
        "\"Date Time\",\"p (mbar)\",\"T (degC)\",\"Tpot (K)\",\"Tdew (degC)\",\"rh (%)\",\"VPmax (mbar)\",\"VPact (mbar)\",\"VPdef (mbar)\",\"sh (g/kg)\",\"H2OC (mmol/mol)\",\"rho (g/m**3)\",\"wv (m/s)\",\"max. wv (m/s)\",\"wd (deg)\"\n",
        "01.01.2009 00:10:00,996.52,-8.02,265.40,-8.90,93.30,3.33,3.11,0.22,1.94,3.12,1307.75,1.03,1.75,152.30\n",
        "01.01.2009 00:20:00,996.57,-8.41,265.01,-9.28,93.40,3.23,3.02,0.21,1.89,3.03,1309.80,0.72,1.50,136.10\n",
        "01.01.2009 00:30:00,996.53,-8.51,264.91,-9.31,93.90,3.21,3.01,0.20,1.88,3.02,1310.24,0.19,0.63,171.60\n",
        "\"\"\""
      ],
      "metadata": {
        "id": "mbaGuuZddch7"
      },
      "execution_count": null,
      "outputs": []
    },
    {
      "cell_type": "code",
      "source": [
        "# 1.4.3 Extract header (field-names)\n",
        "header = lines[0].split(',')  # Split at each ','\n",
        "header  # A list of strs AND within each string is a string"
      ],
      "metadata": {
        "id": "_nNljWDtdzWP",
        "colab": {
          "base_uri": "https://localhost:8080/"
        },
        "outputId": "5e4421b0-2a07-4b85-f552-2e42deef728d"
      },
      "execution_count": 16,
      "outputs": [
        {
          "output_type": "execute_result",
          "data": {
            "text/plain": [
              "['\"Date Time\"',\n",
              " '\"p (mbar)\"',\n",
              " '\"T (degC)\"',\n",
              " '\"Tpot (K)\"',\n",
              " '\"Tdew (degC)\"',\n",
              " '\"rh (%)\"',\n",
              " '\"VPmax (mbar)\"',\n",
              " '\"VPact (mbar)\"',\n",
              " '\"VPdef (mbar)\"',\n",
              " '\"sh (g/kg)\"',\n",
              " '\"H2OC (mmol/mol)\"',\n",
              " '\"rho (g/m**3)\"',\n",
              " '\"wv (m/s)\"',\n",
              " '\"max. wv (m/s)\"',\n",
              " '\"wd (deg)\"']"
            ]
          },
          "metadata": {},
          "execution_count": 16
        }
      ]
    },
    {
      "cell_type": "code",
      "source": [
        "# 1.4.4 How many columns/fields?\n",
        "cols = len(header)\n",
        "cols             # 15"
      ],
      "metadata": {
        "id": "-k13-XlDd2Gn",
        "colab": {
          "base_uri": "https://localhost:8080/"
        },
        "outputId": "8c535acb-cdc9-4077-f8e2-8e25b57d8369"
      },
      "execution_count": 17,
      "outputs": [
        {
          "output_type": "execute_result",
          "data": {
            "text/plain": [
              "15"
            ]
          },
          "metadata": {},
          "execution_count": 17
        }
      ]
    },
    {
      "cell_type": "code",
      "source": [
        "# 1.4.5 Print first three rows.\n",
        "#       Note 10-minute gap in the\n",
        "#       observations\n",
        "lines[1:4]     # A list of 3 string elements\n",
        "print(\"\\n======\\n\")\n",
        "len(lines)    # 420552 or header + 420551 data points"
      ],
      "metadata": {
        "id": "znBS9A3Ed3Um",
        "colab": {
          "base_uri": "https://localhost:8080/"
        },
        "outputId": "43f7489e-d039-4a12-a9f4-9237817dbb8d"
      },
      "execution_count": 18,
      "outputs": [
        {
          "output_type": "execute_result",
          "data": {
            "text/plain": [
              "['01.01.2009 00:10:00,996.52,-8.02,265.40,-8.90,93.30,3.33,3.11,0.22,1.94,3.12,1307.75,1.03,1.75,152.30',\n",
              " '01.01.2009 00:20:00,996.57,-8.41,265.01,-9.28,93.40,3.23,3.02,0.21,1.89,3.03,1309.80,0.72,1.50,136.10',\n",
              " '01.01.2009 00:30:00,996.53,-8.51,264.91,-9.31,93.90,3.21,3.01,0.20,1.88,3.02,1310.24,0.19,0.63,171.60']"
            ]
          },
          "metadata": {},
          "execution_count": 18
        },
        {
          "output_type": "stream",
          "name": "stdout",
          "text": [
            "\n",
            "======\n",
            "\n"
          ]
        },
        {
          "output_type": "execute_result",
          "data": {
            "text/plain": [
              "420552"
            ]
          },
          "metadata": {},
          "execution_count": 18
        }
      ]
    },
    {
      "cell_type": "code",
      "source": [
        "# 1.4.6 Total samples?\n",
        "totalsamples = len(lines) - 1    # 420551 (exclude header)\n",
        "totalsamples"
      ],
      "metadata": {
        "id": "YL-5VnyXe57C",
        "colab": {
          "base_uri": "https://localhost:8080/"
        },
        "outputId": "a30f19ed-1221-4fdd-d7c5-a155cd66b9fd"
      },
      "execution_count": 19,
      "outputs": [
        {
          "output_type": "execute_result",
          "data": {
            "text/plain": [
              "420551"
            ]
          },
          "metadata": {},
          "execution_count": 19
        }
      ]
    },
    {
      "cell_type": "markdown",
      "source": [
        "## Populating numpy array with data\n",
        "Transform our `lines` to numpy array<br>\n",
        "`\n",
        ">`create zero-filled array`<br>\n",
        "` for ith line in lines`<br>\n",
        ">>  fill $i^{th}$ np.array() with i.split(',')<br>\n",
        "`"
      ],
      "metadata": {
        "id": "OelYdZt_faYI"
      }
    },
    {
      "cell_type": "code",
      "source": [
        "# 2.0 Convert all 420551 data points into a numpy array\n",
        "#     for processing\n",
        "\n",
        "# 2.1 First create a zero-valued 2D-array\n",
        "#      While creating zero-valued 2D-array, forget\n",
        "#        first column or time col\n",
        "#     So array size will be same as that of data\n",
        "\n",
        "float_data = np.zeros((totalsamples, cols -1 ))  # Exclude 1st date/time col\n",
        "float_data.shape           # (420551,14)"
      ],
      "metadata": {
        "id": "-R-Z8gDAfYaw",
        "colab": {
          "base_uri": "https://localhost:8080/"
        },
        "outputId": "750876c1-3014-443f-ae6a-5ea7796fef94"
      },
      "execution_count": 20,
      "outputs": [
        {
          "output_type": "execute_result",
          "data": {
            "text/plain": [
              "(420551, 14)"
            ]
          },
          "metadata": {},
          "execution_count": 20
        }
      ]
    },
    {
      "cell_type": "code",
      "source": [
        "# 2.2 Fill this 2D-zero-valued array, row-by-row using for-loop\n",
        "# 2.2.1 First get an array of 420551 values\n",
        "#       0 ,1, 2, 3,...420550\n",
        "\n",
        "numbList=np.arange(len(lines) - 1 )\n",
        "numbList"
      ],
      "metadata": {
        "id": "tsERnYczuQbW",
        "colab": {
          "base_uri": "https://localhost:8080/"
        },
        "outputId": "ae574aeb-79aa-4875-96e6-aff1cec714f7"
      },
      "execution_count": 21,
      "outputs": [
        {
          "output_type": "execute_result",
          "data": {
            "text/plain": [
              "array([     0,      1,      2, ..., 420548, 420549, 420550])"
            ]
          },
          "metadata": {},
          "execution_count": 21
        }
      ]
    },
    {
      "cell_type": "code",
      "source": [
        "# 2.2.2 See how a line is split in respective\n",
        "#       field values. We want split values to\n",
        "#       be an array. But after the split,\n",
        "#       they are a list\n",
        "\n",
        "x = lines[1].split(',')\n",
        "type(x)      # list"
      ],
      "metadata": {
        "id": "0qAOPV4DuVPI",
        "colab": {
          "base_uri": "https://localhost:8080/"
        },
        "outputId": "e24d42c3-bbc2-4af7-e0ba-efc0f2220f95"
      },
      "execution_count": null,
      "outputs": [
        {
          "output_type": "execute_result",
          "data": {
            "text/plain": [
              "list"
            ]
          },
          "metadata": {},
          "execution_count": 23
        }
      ]
    },
    {
      "cell_type": "code",
      "source": [
        "# 2.2.3 Transform just one element of 'lines' into numpy array\n",
        "x = np.asarray(x[1:], dtype = 'float32') # Exclude 1st date/time column\n",
        "type(x)\n",
        "print(\"\\n======\\n\")\n",
        "x"
      ],
      "metadata": {
        "id": "1C-ZOWUZuYaZ",
        "colab": {
          "base_uri": "https://localhost:8080/"
        },
        "outputId": "e5185c31-f1c9-49e3-c578-fbf168e63efc"
      },
      "execution_count": null,
      "outputs": [
        {
          "output_type": "execute_result",
          "data": {
            "text/plain": [
              "numpy.ndarray"
            ]
          },
          "metadata": {},
          "execution_count": 25
        },
        {
          "output_type": "stream",
          "name": "stdout",
          "text": [
            "\n",
            "======\n",
            "\n"
          ]
        },
        {
          "output_type": "execute_result",
          "data": {
            "text/plain": [
              "array([-8.02000e+00,  2.65400e+02, -8.90000e+00,  9.33000e+01,\n",
              "        3.33000e+00,  3.11000e+00,  2.20000e-01,  1.94000e+00,\n",
              "        3.12000e+00,  1.30775e+03,  1.03000e+00,  1.75000e+00,\n",
              "        1.52300e+02], dtype=float32)"
            ]
          },
          "metadata": {},
          "execution_count": 25
        }
      ]
    },
    {
      "cell_type": "code",
      "source": [
        "# 2.3  Fill up zero-array,row-by-row, with sensor data\n",
        "for i in numbList:      # ie uptil the last line\n",
        "    # 2.3 Now do this for all lines using for-loop\n",
        "    row = lines[i+1].split(',')     # i starts from 0 but we ignore header\n",
        "    # 2.3.1 'row' is a list. Select all but 1st element\n",
        "    row= row[1:]                    # Ignore the date column\n",
        "    values = np.asarray(row, dtype = 'float32')\n",
        "    float_data[i, :] = values      # Fill zero-array, row-by-row"
      ],
      "metadata": {
        "id": "HBIhlrsWuxSu"
      },
      "execution_count": 22,
      "outputs": []
    },
    {
      "cell_type": "code",
      "source": [
        "# 2.3.2 Check\n",
        "float_data.shape     # (420551,14)\n",
        "print(\"\\n======\\n\")\n",
        "# 2.3.2\n",
        "float_data[0]"
      ],
      "metadata": {
        "id": "iJzNzYHwu4cC",
        "colab": {
          "base_uri": "https://localhost:8080/"
        },
        "outputId": "74ee2333-cda4-4c2a-b3e4-52977d4fbd33"
      },
      "execution_count": null,
      "outputs": [
        {
          "output_type": "execute_result",
          "data": {
            "text/plain": [
              "(420551, 14)"
            ]
          },
          "metadata": {},
          "execution_count": 28
        },
        {
          "output_type": "stream",
          "name": "stdout",
          "text": [
            "\n",
            "======\n",
            "\n"
          ]
        },
        {
          "output_type": "execute_result",
          "data": {
            "text/plain": [
              "array([ 9.96520020e+02, -8.02000046e+00,  2.65399994e+02, -8.89999962e+00,\n",
              "        9.33000031e+01,  3.32999992e+00,  3.10999990e+00,  2.19999999e-01,\n",
              "        1.94000006e+00,  3.11999989e+00,  1.30775000e+03,  1.02999997e+00,\n",
              "        1.75000000e+00,  1.52300003e+02])"
            ]
          },
          "metadata": {},
          "execution_count": 28
        }
      ]
    },
    {
      "cell_type": "markdown",
      "source": [
        "## Plotting temperature"
      ],
      "metadata": {
        "id": "vo-sMzg8u7oB"
      }
    },
    {
      "cell_type": "code",
      "source": [
        "# 3. Let us plot temperature, the IInd column\n",
        "#    Check 'header', if you like\n",
        "# 3.1 Get IInd column with index 1\n",
        "temp = float_data[:, 1]\n",
        "temp"
      ],
      "metadata": {
        "id": "4DOm1N_-u9ho",
        "colab": {
          "base_uri": "https://localhost:8080/"
        },
        "outputId": "e0050fa4-16d6-4d27-da4f-1c8f72506c1c"
      },
      "execution_count": 23,
      "outputs": [
        {
          "output_type": "execute_result",
          "data": {
            "text/plain": [
              "array([-8.02000046, -8.40999985, -8.51000023, ..., -3.16000009,\n",
              "       -4.23000002, -4.82000017])"
            ]
          },
          "metadata": {},
          "execution_count": 23
        }
      ]
    },
    {
      "cell_type": "code",
      "source": [
        "# 3.2 plot it. It is highly periodic\n",
        "plt.plot(range(len(temp)), temp) ;\n",
        "plt.show() ; "
      ],
      "metadata": {
        "id": "db3aC1udvOVC",
        "colab": {
          "base_uri": "https://localhost:8080/",
          "height": 268
        },
        "outputId": "d46006ac-585a-42fe-d20d-5e2a38fb0bca"
      },
      "execution_count": 24,
      "outputs": [
        {
          "output_type": "display_data",
          "data": {
            "text/plain": [
              "<Figure size 432x288 with 1 Axes>"
            ],
            "image/png": "[encoded data removed]"
          },
          "metadata": {
            "needs_background": "light"
          }
        }
      ]
    },
    {
      "cell_type": "code",
      "source": [
        "# 3.3 Let us see 12-hour variation\n",
        "#     How many readings in one-day?  (24 * 60 )/10 = 144\n",
        "#     So half day = 72 points\n",
        "#     It is half of this variation we want to predict\n",
        "\n",
        "plt.plot(range((12*60//10)), temp[:72]) ;\n",
        "plt.show() ; "
      ],
      "metadata": {
        "colab": {
          "base_uri": "https://localhost:8080/",
          "height": 265
        },
        "id": "UnbNSH-8iS4c",
        "outputId": "f4446529-6a13-4b13-d8f2-c4610572b02c"
      },
      "execution_count": 25,
      "outputs": [
        {
          "output_type": "display_data",
          "data": {
            "text/plain": [
              "<Figure size 432x288 with 1 Axes>"
            ],
            "image/png": "[encoded data removed]"
          },
          "metadata": {
            "needs_background": "light"
          }
        }
      ]
    },
    {
      "cell_type": "code",
      "source": [
        "# 3.4 Delete unwanted variable\n",
        "del temp\n",
        "gc.collect()"
      ],
      "metadata": {
        "colab": {
          "base_uri": "https://localhost:8080/"
        },
        "id": "d-bgpYnziTSl",
        "outputId": "8e11419a-bc2a-4145-ec4a-57b707bb1dec"
      },
      "execution_count": 26,
      "outputs": [
        {
          "output_type": "execute_result",
          "data": {
            "text/plain": [
              "4882"
            ]
          },
          "metadata": {},
          "execution_count": 26
        }
      ]
    },
    {
      "cell_type": "markdown",
      "source": [
        "## Standardize data"
      ],
      "metadata": {
        "id": "_2xA237SjIyA"
      }
    },
    {
      "cell_type": "code",
      "source": [
        "### Data pre-processing\n",
        "###---------------\n",
        "# 3.4 For processing we center and scale all data\n",
        "#     Could have used sklearn's StandardScaler()\n",
        "#     We decide upon a max sample size of 2 lakh\n",
        "#     Were we rich in memory, more could have been selected\n",
        "\n",
        "training_data_size = 420551     # select 200000 to save memory"
      ],
      "metadata": {
        "id": "YI708UKCivzv"
      },
      "execution_count": 27,
      "outputs": []
    },
    {
      "cell_type": "code",
      "source": [
        "# 3.4.1 Get column-wise (axis= 0) mean\n",
        "#       We extract mean from training data only but would apply\n",
        "#       to whole of data\n",
        "\n",
        "mean = float_data[:training_data_size].mean(axis = 0)\n",
        "mean[:4]     # Show means of Ist four column means\n"
      ],
      "metadata": {
        "colab": {
          "base_uri": "https://localhost:8080/"
        },
        "id": "cCFs1aC5i-2h",
        "outputId": "1292ac3d-22fc-4587-e0f7-a2954e023dfc"
      },
      "execution_count": 28,
      "outputs": [
        {
          "output_type": "execute_result",
          "data": {
            "text/plain": [
              "array([989.21277606,   9.45014735, 283.49274343,   4.95585384])"
            ]
          },
          "metadata": {},
          "execution_count": 28
        }
      ]
    },
    {
      "cell_type": "code",
      "source": [
        "# 3.4.2 Subtract from each column, its respective mean\n",
        "#       We subtract this from all data.\n",
        "\n",
        "float_data = float_data - mean\n"
      ],
      "metadata": {
        "id": "w0rt9wI3i_Ob"
      },
      "execution_count": 29,
      "outputs": []
    },
    {
      "cell_type": "code",
      "source": [
        "# 3.4.3 Get std deviation of each column but from training data only\n",
        "std = float_data[:training_data_size].std(axis = 0)\n",
        "std[:4]    # First four column std deviation"
      ],
      "metadata": {
        "colab": {
          "base_uri": "https://localhost:8080/"
        },
        "id": "M8WR30HTjkfq",
        "outputId": "a1a9bb6c-d90e-4f1b-fc82-05888f98e404"
      },
      "execution_count": 30,
      "outputs": [
        {
          "output_type": "execute_result",
          "data": {
            "text/plain": [
              "array([8.35847079, 8.4233552 , 8.50446129, 6.73066631])"
            ]
          },
          "metadata": {},
          "execution_count": 30
        }
      ]
    },
    {
      "cell_type": "code",
      "source": [
        "# 3.4.4 Divide each column by its respective std deviation\n",
        "float_data /= std\n",
        "float_data.shape"
      ],
      "metadata": {
        "colab": {
          "base_uri": "https://localhost:8080/"
        },
        "id": "ANKDSQ3ylSfI",
        "outputId": "20fda392-9c52-4308-9066-86fcdd718d2e"
      },
      "execution_count": 31,
      "outputs": [
        {
          "output_type": "execute_result",
          "data": {
            "text/plain": [
              "(420551, 14)"
            ]
          },
          "metadata": {},
          "execution_count": 31
        }
      ]
    },
    {
      "cell_type": "markdown",
      "source": [
        "## Create data generators"
      ],
      "metadata": {
        "id": "fUsWkBcb8Jat"
      }
    },
    {
      "cell_type": "code",
      "source": [
        "################## Learning to create data generators ###############\n",
        "##################### Expt & explanation #############################\n",
        "## 4.0 Problem defined:\n",
        "## --------------------\n",
        "## Starting from any point, say, i, in dataset, our intention is\n",
        "##  to lookback 1440 timesteps (24*60/10=144/day; 10days) behind,  \n",
        "##   and using this data, predict temp one day ahead of i ie 144 \n",
        "##    time steps ahead of i.\n",
        "##    Instead of considering all 1440 lookback points, we will sample\n",
        "##     one point per hour or just 240 datapoints for 10 days (24 * 10)\n",
        "##      at hourly interval. \n",
        "##\n"
      ],
      "metadata": {
        "id": "BG4zV_9Xln6s"
      },
      "execution_count": null,
      "outputs": []
    },
    {
      "cell_type": "code",
      "source": [
        "## Train Data Generator\n",
        "## ---------------------\n",
        "## 4.1 Case 1: How will we generate our training data?\n",
        "##  Pick any random index, i, and then we will generate \n",
        "##    our data. Let us randomly pick i as: 302:\n",
        "##        Batch 1 (240 observations)\n",
        "##                (14 attributes + target)\n",
        "##    obs   pressure     temp    humidity        Target\n",
        "##    302     0.87        0.1     0.23             0.17\n",
        "##    303     0.28        0.91    0.77             0.63\n",
        "##    304     0.56        0.33    0.99             0.45\n",
        "##    305       ..           ..      ..\n",
        "##           ..           ..      ..\n",
        "##    541     0.86        0.09    0.13             0.21\n",
        "##    last point: i + 240 -1\n",
        "\n",
        "##  4.1.1 Per epoch, we will pick 128 random indices (i(s)) & then generate\n",
        "##         128 batches of data (steps_per_epoch = 128). Our data generator\n",
        "##          can generate infinite batches of data, epoch-after-epoch.\n",
        "##"
      ],
      "metadata": {
        "id": "499rejNu8o3B"
      },
      "execution_count": null,
      "outputs": []
    },
    {
      "cell_type": "code",
      "source": [
        "##  4.1.2 We will have heve 128 batches of (each batch: 240 X 14) datasets. \n",
        "##        For training data, all our 128 batches will be picked up randomly\n",
        "##        from first 2 lakh data points. We select some arbitrary points\n",
        "##        (arbitrary Xs) within our data and proceed sequentially to pick up\n",
        "#         240 rows."
      ],
      "metadata": {
        "id": "JIkYpGi6rvQV"
      },
      "execution_count": null,
      "outputs": []
    },
    {
      "cell_type": "code",
      "source": [
        "##  4.1.3 We will make random selection of 128 points many\n",
        "##        times (infinitely) in our training-data-generator (steps_per_epoch).\n",
        "##        This will help in changing the sequence of time steps."
      ],
      "metadata": {
        "id": "DhgrXnftsbQ8"
      },
      "execution_count": null,
      "outputs": []
    },
    {
      "cell_type": "code",
      "source": [
        "##  4.1.4 Here is exactly how a batch is created for training:\n",
        "##        ------------------------------------------------------\n",
        "##        Starting from any point between row 1440 (24 * 6 * 10 days) \n",
        "##        till last row that is 200000th row, we make some random selection\n",
        "##        of 128 numbers. Say, one number is 20451. From this number we look back\n",
        "##        at all the data 1440 timesteps behind that is we start from index of\n",
        "##        20451 - 1440 -1  = 19010. And start picking up, every 6th point. \n",
        "##        This will make us available 1440/6 = 240 observations.\n",
        "##        And we want to predict temperature 'delay' ahead. So our target\n",
        "##        value for this 2D data will be temperature reading, at row: 20451 + delay."
      ],
      "metadata": {
        "id": "vcLTOJ42tiCT"
      },
      "execution_count": null,
      "outputs": []
    },
    {
      "cell_type": "code",
      "source": [
        "## 4.2 Validation data Generator\n",
        "## -----------------------------\n",
        "##  For validation data, we start with min_index = 200001 and keep max_index = 300000.\n",
        "##  This time we will NOT pick up batches randomly but sequentially. We start with \n",
        "##   200001 + lookback = 200001+1440 = 2001441 and get 128 row-numbers \n",
        "##     (including 2001441) sequentially that is: 201441, 201442,...201568 \n",
        "##       ie (200001 + 1440 +128 - 1). We take each of these\n",
        "##      numbers and prepare dataset of 240 points (each point at an interval of 6steps)\n",
        "##       Thus we have a first batch of 128."
      ],
      "metadata": {
        "id": "KU5Alce-2Qrc"
      },
      "execution_count": null,
      "outputs": []
    },
    {
      "cell_type": "code",
      "source": [
        "## 4.3 Test Data generator\n",
        "##  ----------------------------------------------\n",
        "#  Same as for validation but this time min_index = 300001 and max_index = None\n",
        "#   that is upto: len(float_data) - delay - 1"
      ],
      "metadata": {
        "id": "sg1ZvtPWtb_E"
      },
      "execution_count": null,
      "outputs": []
    },
    {
      "cell_type": "markdown",
      "source": [
        "## Constants"
      ],
      "metadata": {
        "id": "CMVjB72b2rHr"
      }
    },
    {
      "cell_type": "code",
      "source": [
        "# 4.4. Define some common constants\n",
        "lookback = 1440  # timesteps. (same as 10 days) In RNN, we will lookback at\n",
        "                 #            1440 timesteps. Each timestep is 10 minutes.\n",
        "# 4.5\n",
        "step = 6         # timesteps.  But we will pick temp values at every\n",
        "                 # hour rather than ever 10 minutes that is pick one point after\n",
        "                 #   every 6th point.\n",
        "                 # So in this per lookback period datapoints will be 1440/6 = 240\n",
        "                 # So during 1440 time-steps dataset size will be 240 X 14.\n",
        "# 4.6\n",
        "delay = 144      # timesteps. (same as 24 hours) We will forecast for a temperatue\n",
        "                 # 144 timesteps ahead\n",
        "# 4.7\n",
        "batch_size = 128 # Analyse 'dataset' in batches of 128 considering memory limitations\n",
        "                 # So we will analyse in memory at a time: 128 (samples) X 240 X 14"
      ],
      "metadata": {
        "id": "z3t-vLTF2qKQ"
      },
      "execution_count": null,
      "outputs": []
    },
    {
      "cell_type": "code",
      "source": [
        "#############################\n",
        "###### Case 1   Training data generator\n",
        "#############################\n",
        "\n",
        "# Define constants specific to this Case that is training data\n",
        "# 5.\n",
        "min_index = 0        # For training, we start from here\n",
        "max_index = 200000   # Our last point for training\n",
        "shuffle = True       # Training batches will be picked up randomly"
      ],
      "metadata": {
        "id": "gtjVG4v23Lhc"
      },
      "execution_count": null,
      "outputs": []
    },
    {
      "cell_type": "markdown",
      "source": [
        "## Experiment"
      ],
      "metadata": {
        "id": "MfMKgGvb3dlz"
      }
    },
    {
      "cell_type": "code",
      "source": [
        "##******************************************************\n",
        "# 6. Begin creating batches of datasets--One batch only\n",
        "##******************************************************\n",
        "\n",
        "# 6.1 Our 'X' should be between min_index and max_index.\n",
        "if max_index is None:    # None means no value is specified. We then calculate\n",
        "                         # None is same as NULL in other languages\n",
        "    max_index = len(float_data) - delay - 1   # 420406. Keep it just less than forecasting duration\n",
        "\n",
        "# 6.1.1\n",
        "max_index"
      ],
      "metadata": {
        "colab": {
          "base_uri": "https://localhost:8080/"
        },
        "id": "eDjMyrx23TJL",
        "outputId": "fac5d532-9e1f-4456-8714-c2837183e09c"
      },
      "execution_count": null,
      "outputs": [
        {
          "output_type": "execute_result",
          "data": {
            "text/plain": [
              "200000"
            ]
          },
          "metadata": {},
          "execution_count": 48
        }
      ]
    },
    {
      "cell_type": "code",
      "source": [
        "# 6.2\n",
        "i = min_index + lookback     # Begin here so that we can pick up earlier points\n",
        "i\n"
      ],
      "metadata": {
        "colab": {
          "base_uri": "https://localhost:8080/"
        },
        "id": "H-di8f_d3bQ-",
        "outputId": "305e3906-af1f-4d78-a9aa-ea2ebc2b240a"
      },
      "execution_count": null,
      "outputs": [
        {
          "output_type": "execute_result",
          "data": {
            "text/plain": [
              "1440"
            ]
          },
          "metadata": {},
          "execution_count": 49
        }
      ]
    },
    {
      "cell_type": "code",
      "source": [
        "# 6.3\n",
        "i      # 1440 timesteps to start with or 10 days lookback\n",
        "       # If this is time, t, RNN gets data for t-1,\n",
        "       #  t-2, right upto first point as lookback is 1440 timesteps\n",
        "       # np.random.randint(low, high, howmany)\n",
        "       # np.random.randint(0,100,10)   Gives 10 random points"
      ],
      "metadata": {
        "id": "23tJ_U8b4DRO"
      },
      "execution_count": null,
      "outputs": []
    },
    {
      "cell_type": "code",
      "source": [
        "# 6.4\n",
        "#--\n",
        "if shuffle:               # shuffle = True for training only\n",
        "    # Generate 128 random points (Xs) for picking training batches\n",
        "    #   Try: np.random.randint(0, 100, size = 12)\n",
        "\n",
        "    #                             1440              200000           128\n",
        "    rows = np.random.randint(min_index + lookback, max_index, size=batch_size)\n",
        "else:                       # for validation and test datasets\n",
        "    if i + batch_size >= max_index:   # Given some 'i', if it exceeds limit\n",
        "        i = min_index + lookback      #  then set it to min possible\n",
        "    # Try np.arange(1, min(1+10,14))\n",
        "    rows = np.arange(i, min(i + batch_size, max_index))  # Get a list of all\n",
        "                                                         #  points from i uptill the limit\n",
        "    i += len(rows)      # Increment i by 128"
      ],
      "metadata": {
        "id": "s6Wt5QDJ4xdO"
      },
      "execution_count": null,
      "outputs": []
    },
    {
      "cell_type": "code",
      "source": [
        "# 6.5 Have a look at rows from where to start picking up 240 lookback points\n",
        "rows\n",
        "print(\"\\n=====\\n\")\n",
        "min(rows)    # min index\n",
        "print(\"\\n=====\\n\")\n",
        "max(rows)    # max index\n",
        "print(\"\\n=====\\n\")\n",
        "len(rows)    # 128 points"
      ],
      "metadata": {
        "id": "Lle2E7594yHb"
      },
      "execution_count": null,
      "outputs": []
    },
    {
      "cell_type": "code",
      "source": [
        "# 6.6 Given row-points, get samples of datasets, each of 240 X 14\n",
        "#     Now get an array of zeros of requistie batch size:\n",
        "# Try np.zeros((2,3,4))\n",
        "\n",
        "#  3D array          128            240         14\n",
        "samples = np.zeros((len(rows),lookback // step, float_data.shape[-1]))\n",
        "samples = np.zeros((128,240,14))    # same as above\n",
        "# 6.7 Check\n",
        "samples.shape   # (128,240,14) (batch size, no_of_points_per_hour, attributes)\n"
      ],
      "metadata": {
        "id": "j7MoPdC-43zo"
      },
      "execution_count": null,
      "outputs": []
    },
    {
      "cell_type": "code",
      "source": [
        "# 6.8 There will be as many targets as there are batches\n",
        "targets = np.zeros((len(rows),))\n",
        "targets = np.zeros((128,))     # same as above\n",
        "targets\n",
        "print(\"\\n==========\\n\")\n",
        "len(targets)    # 128"
      ],
      "metadata": {
        "colab": {
          "base_uri": "https://localhost:8080/"
        },
        "id": "1zFFUM9N5zBz",
        "outputId": "94fe4ab7-8c3c-4a07-e2b8-a8f41e4b4c66"
      },
      "execution_count": null,
      "outputs": [
        {
          "output_type": "execute_result",
          "data": {
            "text/plain": [
              "array([0., 0., 0., 0., 0., 0., 0., 0., 0., 0., 0., 0., 0., 0., 0., 0., 0.,\n",
              "       0., 0., 0., 0., 0., 0., 0., 0., 0., 0., 0., 0., 0., 0., 0., 0., 0.,\n",
              "       0., 0., 0., 0., 0., 0., 0., 0., 0., 0., 0., 0., 0., 0., 0., 0., 0.,\n",
              "       0., 0., 0., 0., 0., 0., 0., 0., 0., 0., 0., 0., 0., 0., 0., 0., 0.,\n",
              "       0., 0., 0., 0., 0., 0., 0., 0., 0., 0., 0., 0., 0., 0., 0., 0., 0.,\n",
              "       0., 0., 0., 0., 0., 0., 0., 0., 0., 0., 0., 0., 0., 0., 0., 0., 0.,\n",
              "       0., 0., 0., 0., 0., 0., 0., 0., 0., 0., 0., 0., 0., 0., 0., 0., 0.,\n",
              "       0., 0., 0., 0., 0., 0., 0., 0., 0.])"
            ]
          },
          "metadata": {},
          "execution_count": 56
        },
        {
          "output_type": "execute_result",
          "data": {
            "text/plain": [
              "128"
            ]
          },
          "metadata": {},
          "execution_count": 56
        }
      ]
    },
    {
      "cell_type": "code",
      "source": [
        "# 7. Prepare to fill in first batch into our 3D zero-array\n",
        "j = 0                 # Later we can loop on this 'j'\n",
        "row = rows[j]         # First random point\n",
        "row"
      ],
      "metadata": {
        "colab": {
          "base_uri": "https://localhost:8080/"
        },
        "id": "tYIUJkWI5zYq",
        "outputId": "cb8db88b-199d-425a-8f91-323a1defb458"
      },
      "execution_count": null,
      "outputs": [
        {
          "output_type": "execute_result",
          "data": {
            "text/plain": [
              "123335"
            ]
          },
          "metadata": {},
          "execution_count": 57
        }
      ]
    },
    {
      "cell_type": "code",
      "source": [
        "# 7.1 Whereever I am standing (say at, 1000), I go behind\n",
        "#     'lookback' timesteps (say 100). From there, I proceed\n",
        "#      forward, every 6-datapoints upto where I am standing\n",
        "#       (ie upto 1000). So I collect 240 datapoints:\n",
        "#        Try: indicies = list(range(1000-100, 1000, 6))"
      ],
      "metadata": {
        "id": "Hw-aiP0U6Ez6"
      },
      "execution_count": null,
      "outputs": []
    },
    {
      "cell_type": "code",
      "source": [
        "#  7.2 Get indices of those 240 datapoints at intervals of 6 (step)\n",
        "#      beginning from  jth index of rows[j]\n",
        "\n",
        "indices = range(rows[j] - lookback, rows[j], step)   # 1440 timesteps values but in steps of 6\n",
        "indices   # range(195492, 196932, 6)\n"
      ],
      "metadata": {
        "id": "EzUGavPw75Xc"
      },
      "execution_count": null,
      "outputs": []
    },
    {
      "cell_type": "code",
      "source": [
        "print(\"\\n=========\\n\")\n",
        "len(indices)      # total: 240 points\n",
        "print(\"\\n=========\\n\")\n",
        "list(indices)     # What are the points. Spaced at interval of 6"
      ],
      "metadata": {
        "id": "GAJb-r619GCh"
      },
      "execution_count": null,
      "outputs": []
    },
    {
      "cell_type": "code",
      "source": [
        "# 8. Finally, fill our zero-sample with data at these indicies\n",
        "samples[j] = float_data[indices]          # 240 points\n",
        "samples[j].shape                          # 240 X 14\n",
        "print(\"\\n========\\n\")\n",
        "# 8.1 Just have a look\n",
        "samples[j]"
      ],
      "metadata": {
        "id": "9ycRruvTHRrP"
      },
      "execution_count": null,
      "outputs": []
    },
    {
      "cell_type": "code",
      "source": [
        "# 8.2 Our prediction datapoint is 'delay' timesteps ahead\n",
        "#     And in the data, temperature is at index 1\n",
        "targets[j] = float_data[rows[j] + delay][1]   # Taregt value is the value in IInd column\n",
        "\n",
        "# 8.3                                         #  at the end of rows[j] + delay\n",
        "targets[j]"
      ],
      "metadata": {
        "id": "mGrba-uSHVOc"
      },
      "execution_count": null,
      "outputs": []
    },
    {
      "cell_type": "code",
      "source": [
        "#############################\n",
        "###### Case 2   Validation data generator\n",
        "#############################"
      ],
      "metadata": {
        "id": "l0p-CByeHg5H"
      },
      "execution_count": null,
      "outputs": []
    },
    {
      "cell_type": "code",
      "source": [
        "# 9. We will have min_index = 200001 and max_index = 300000 and shuffle = False\n",
        "#    Other constants remain same:\n",
        "min_index = 200001\n",
        "max_index = 300000\n",
        "shuffle = False"
      ],
      "metadata": {
        "id": "i-3PvLs8Hh02"
      },
      "execution_count": null,
      "outputs": []
    },
    {
      "cell_type": "code",
      "source": [
        "# 9.1\n",
        "if max_index is None:\n",
        "    max_index = len(float_data) - delay - 1      # 420406"
      ],
      "metadata": {
        "id": "XPlqR4QAHm8d"
      },
      "execution_count": null,
      "outputs": []
    },
    {
      "cell_type": "code",
      "source": [
        "# 9.2\n",
        "i = min_index + lookback\n",
        "i      # 201441"
      ],
      "metadata": {
        "id": "m55cUKDdHsH3"
      },
      "execution_count": null,
      "outputs": []
    },
    {
      "cell_type": "code",
      "source": [
        "# 9.3   We have to get 128 consecutive points from where to pickup\n",
        "#       128 batches of 240 X 14\n",
        "if shuffle:\n",
        "    rows = np.random.randint(min_index + lookback, max_index, size=batch_size)\n",
        "else:\n",
        "    # 9.3.1\n",
        "    if i + batch_size >= max_index:  # If unable to get list of 128 points ahead\n",
        "                                     #   to get 128 batches of (240 X 14)\n",
        "        i = min_index + lookback     #  start afresh. min_index for validation is 200001\n",
        "    # 9.3.2\n",
        "    rows = np.arange(i, min(i + batch_size, max_index))  # Get a list of all\n",
        "                                                         #  points from i uptill the limit\n",
        "   # 9.3.3\n",
        "    i += len(rows)                     # Advance i by 128 steps to get next 128 batches"
      ],
      "metadata": {
        "id": "YHE0N5pQHs-0"
      },
      "execution_count": null,
      "outputs": []
    },
    {
      "cell_type": "code",
      "source": [
        "# 10\n",
        "i              # Next batch begins at: 200001 + 1440 + 128 = 201569\n",
        "print(\"\\n===========\\n\")\n",
        "len(rows)                    # 128\n",
        "print(\"\\n===========\\n\")\n",
        "rows           # Just list them"
      ],
      "metadata": {
        "id": "CTSrc6eWH4GX"
      },
      "execution_count": null,
      "outputs": []
    },
    {
      "cell_type": "code",
      "source": [
        "# 11. Get an array of batch-size of all zeros\n",
        "# Now get\n",
        "#                      128            240         14\n",
        "samples = np.zeros((len(rows), lookback // step, float_data.shape[-1]))\n",
        "samples.shape   # (128,240,14) (batch size, no_of_points_per_hour, attributes)"
      ],
      "metadata": {
        "id": "dRyEZWY5IL78"
      },
      "execution_count": null,
      "outputs": []
    },
    {
      "cell_type": "code",
      "source": [
        "# 11.1 There will be as many targets as there are batches\n",
        "targets = np.zeros((len(rows),))\n",
        "targets\n",
        "len(targets)    # 128"
      ],
      "metadata": {
        "id": "5ovs9STvIRWl"
      },
      "execution_count": null,
      "outputs": []
    },
    {
      "cell_type": "code",
      "source": [
        "# 12. Fill the batch with data\n",
        "row = rows[0]    # First data point to start first batch from\n",
        "j = 0\n",
        "row              # 201441"
      ],
      "metadata": {
        "id": "xpSPJeupIUzd"
      },
      "execution_count": null,
      "outputs": []
    },
    {
      "cell_type": "code",
      "source": [
        "# 12.1 Whereever I am standing, I go loopback back\n",
        "#      From there, I proceed forward, every 6-datapoints\n",
        "#      So I collect 240 datapoints\n",
        "#  Get indices of those 240 datapoints\n",
        "\n",
        "#                    200001          201441   6\n",
        "indices = range(rows[j] - lookback, rows[j], step)   # 1440 timesteps values but in steps of 6\n",
        "print(\"\\n============\\n\")\n",
        "indices   # rrange(200001, 201441, 6)\n",
        "print(\"\\n============\\n\")\n",
        "len(indices)      # total: 240 points"
      ],
      "metadata": {
        "id": "2POyp6WAIbEu"
      },
      "execution_count": null,
      "outputs": []
    },
    {
      "cell_type": "code",
      "source": [
        "# 12.2\n",
        "samples[j] = float_data[indices]          # 240 points\n",
        "samples[j].shape                          # 240 X 14"
      ],
      "metadata": {
        "id": "QHQjSscRIgkE"
      },
      "execution_count": null,
      "outputs": []
    },
    {
      "cell_type": "code",
      "source": [
        "# 12.3\n",
        "samples[j]"
      ],
      "metadata": {
        "id": "e0MaxZWeIrpO"
      },
      "execution_count": null,
      "outputs": []
    },
    {
      "cell_type": "code",
      "source": [
        "# 13. Our prediction datapoint is delay timesteps ahead\n",
        "targets[j] = float_data[rows[j] + delay][1]   # Taregt value is the value in IInd column\n",
        "                                              #  at the end of rows[j] + delay\n",
        "# 13.1\n",
        "targets[0]"
      ],
      "metadata": {
        "id": "tJYxQ6rfIukt"
      },
      "execution_count": null,
      "outputs": []
    },
    {
      "cell_type": "code",
      "source": [
        "# So finally return this sample and target\n",
        "#   yield samples, targets"
      ],
      "metadata": {
        "id": "FMXlhYUwIvym"
      },
      "execution_count": null,
      "outputs": []
    },
    {
      "cell_type": "code",
      "source": [
        "#############################\n",
        "###### Case 3   Test data generator\n",
        "#############################"
      ],
      "metadata": {
        "id": "R15chj7yI1WB"
      },
      "execution_count": null,
      "outputs": []
    },
    {
      "cell_type": "code",
      "source": [
        "# 14. Finally use all above to define a generator to generate data:\n",
        "## Our generator:\n",
        "#    def generator():\n",
        "#        while True:\n",
        "#\n",
        "#          Get 128 points from where to pick up data\n",
        "#\t\t   \t\tFor training data:\n",
        "#\t\t\t\t\tSelect 128 random points between (0+lookback, 200000)\n",
        "#\t\t\t\tFor validation/test data:\n",
        "#\t\t\t\t\tStart counting from i = 200001 (valid) or 300001 (test)\n",
        "#\t\t\t\t\tSelect next 128 consecutive pts from where we finished earlier\n",
        "#\t\t\t\t\ti = i +128\n",
        "#\n",
        "#\t\t \tNow we have 128 points either for training data or for validation/test data\n",
        "#\t\t\t\tcreate zero-array of size 128 X 240 X 14\n",
        "#\t\t   \t\tFill each one of the 128 zero-arrays with, 240 X 14 values\n",
        "#          \t\tGet an array of 128 targets at 'delay' distance\n",
        "#\n",
        "#          \tyield sample, target\n",
        "#\n"
      ],
      "metadata": {
        "id": "ng6NdIj4I6P1"
      },
      "execution_count": null,
      "outputs": []
    },
    {
      "cell_type": "code",
      "source": [
        "def generator(data, lookback, delay, min_index, max_index,shuffle=False, batch_size=128, step=6):\n",
        "\n",
        "    if max_index is None:       # Only for test data we do not set max_index\n",
        "        max_index = len(data) - delay - 1\n",
        "\n",
        "    # 14.1 min_index = (train)0, (valid)200001, (test)300001\n",
        "    i = min_index + lookback\n",
        "\n",
        "    while 1:\n",
        "        if shuffle:         #14.2 True for train data, False for valid & test data\n",
        "            rows = np.random.randint(min_index + lookback,    # lower limit, min_index = 0\n",
        "                                     max_index,               # Upto here, max_index = 200000\n",
        "                                     size=batch_size          # Select any 128 pts\n",
        "                                     )\n",
        "        else:              #14.3 For validation generator rows are between (200001, 207201)\n",
        "            if i + batch_size >= max_index:\n",
        "                i = min_index + lookback\n",
        "            #14.4 Starting i is 'min_index + lookback'\n",
        "            rows = np.arange(i, min(i + batch_size, max_index))   # No random rows picking\n",
        "                                                                  # Normal length of 'rows'\n",
        "\t\t\t\t\t\t\t\t\t\t\t\t\t\t\t\t  #  is batch_size or less\n",
        "\n",
        "            #14.5 Value of this 'i' will be preserved between calls to generator()\n",
        "            i += len(rows)   # Next i for valid and test is 128 distance away\n",
        "\n",
        "        # 14.1 Create empty sample (128 X 240 X 14)\n",
        "        #                      128            240         14\n",
        "        samples = np.zeros((len(rows),lookback // step,data.shape[-1]))\n",
        "        # 14.2 Create 128 empty targets\n",
        "        targets = np.zeros((len(rows),))\n",
        "\n",
        "        # 14.3 For every one of the 128 points...\n",
        "        for j, row in enumerate(rows):\n",
        "            # 14.4 Set read-pointer to 'lookback' behind\n",
        "            #      from this rows[j] and pick next 240 points\n",
        "            #      at intervals of 6 points\n",
        "            indices = range(rows[j] - lookback,  rows[j], step)\n",
        "            # 14.5 Get data into our sample\n",
        "            samples[j] = data[indices]\n",
        "            # 14.6 Get targets (temperature: IINd columns).\n",
        "            #      index [1] => IInd column or temperatue column\n",
        "            targets[j] = data[rows[j] + delay][1]\n",
        "        # 14.7 Return objects per call\n",
        "        yield samples, targets\n"
      ],
      "metadata": {
        "id": "jVybiAf4JAw1"
      },
      "execution_count": null,
      "outputs": []
    },
    {
      "cell_type": "code",
      "source": [
        "# 15. Our common constants\n",
        "lookback = 1440\n",
        "step = 6\n",
        "delay = 144\n",
        "batch_size = 128"
      ],
      "metadata": {
        "id": "8pfHRUEPJHWu"
      },
      "execution_count": null,
      "outputs": []
    },
    {
      "cell_type": "code",
      "source": [
        "# 16. train data generator\n",
        "train_gen = generator(float_data,\n",
        "                       lookback=lookback,\n",
        "                       delay=delay,\n",
        "                       min_index=0,\n",
        "                       max_index=200000,\n",
        "                       shuffle=True,\n",
        "                       step=step,\n",
        "                       batch_size=batch_size)"
      ],
      "metadata": {
        "id": "NO1RSEs3JKbt"
      },
      "execution_count": null,
      "outputs": []
    },
    {
      "cell_type": "code",
      "source": [
        "# 16.1 Have a look. Run for-loop twice to see change.\n",
        "for samples, targets in train_gen:\n",
        "    print(targets[0])\n",
        "    print(samples[0])\n",
        "    print(samples[0].shape)\n",
        "    break"
      ],
      "metadata": {
        "id": "eKke64ODJLRQ"
      },
      "execution_count": null,
      "outputs": []
    },
    {
      "cell_type": "code",
      "source": [
        "# 16.2\n",
        "a = train_gen\n",
        "\n",
        "# 16.2.1 Get first set of dataset\n",
        "s = next(a)\n",
        "type(s)            # Tuple\n",
        "s[0].shape         # (128,240,1)\n",
        "s[1].shape         # (128,)\n",
        "\n",
        "# 16.2.2 Get next set of dataset\n",
        "t = next(a)\n",
        "t[0].shape\n",
        "t[1].shape\n"
      ],
      "metadata": {
        "id": "9xYul9vcJRLl"
      },
      "execution_count": null,
      "outputs": []
    },
    {
      "cell_type": "code",
      "source": [
        "# 17. Validation data generator\n",
        "val_gen = generator(\n",
        "                   float_data,\n",
        "                   lookback=lookback,\n",
        "                   delay=delay,\n",
        "                   min_index=200001,\n",
        "                   max_index= 300000,              # 207201, 300000, 200001 + 1440 *5\n",
        "                   step=step,\n",
        "                   batch_size=batch_size\n",
        "                   )\n"
      ],
      "metadata": {
        "id": "pLchRVc8JR-E"
      },
      "execution_count": null,
      "outputs": []
    },
    {
      "cell_type": "code",
      "source": [
        "# 18. Test data generator\n",
        "test_gen = generator(\n",
        "                     float_data,\n",
        "                     lookback=lookback,\n",
        "                     delay=delay,\n",
        "                     min_index=300001,\n",
        "                     max_index=None,\n",
        "                     step=step,\n",
        "                     batch_size=batch_size)"
      ],
      "metadata": {
        "id": "RnJsZtmyJW4e"
      },
      "execution_count": null,
      "outputs": []
    },
    {
      "cell_type": "code",
      "source": [
        "# 19 How many times to draw from validation generator\n",
        "#    in order to see all validation data\n",
        "val_steps = (300000 - 200001 - lookback)    # Instead of 300000-200001 - lookback to save time\n",
        "val_steps        # 98559\n",
        "# At the end of each epoch, validation follows.\n",
        "# These many validation steps, take a long time\n",
        "# for epoch to complete. As time is important\n",
        "# to us, we will limit val_steps to 400, so:\n",
        "# 19.1\n",
        "val_steps = 400"
      ],
      "metadata": {
        "id": "ovnF5jseJa8_"
      },
      "execution_count": null,
      "outputs": []
    },
    {
      "cell_type": "code",
      "source": [
        "# 20\n",
        "test_steps = (len(float_data) - 300001 - lookback)\n",
        "test_steps\n"
      ],
      "metadata": {
        "id": "ZpfBDSHOJd1m"
      },
      "execution_count": null,
      "outputs": []
    },
    {
      "cell_type": "code",
      "source": [
        "####################################################\n",
        "## 21. We will work with:\n",
        "#              i) Fully connected model\n",
        "#             ii) GRU model\n",
        "#            iii) GRU model with dropouts\n",
        "#             iv) Stacked GRU models"
      ],
      "metadata": {
        "id": "ooQlcOwrJlEV"
      },
      "execution_count": null,
      "outputs": []
    },
    {
      "cell_type": "code",
      "source": [
        "# This is from the book:\n",
        "def generator(data,lookback,delay,min_index,max_index,shuffle=False,batch_size=128,step=6):\n",
        "    if max_index is None:\n",
        "        max_index = len(data) - delay - 1\n",
        "    i = min_index + lookback\n",
        "    while 1:\n",
        "        if shuffle:\n",
        "            rows = np.random.randint(min_index + lookback, max_index, size=batch_size)\n",
        "        else:\n",
        "            if i + batch_size >= max_index:\n",
        "                i = min_index + lookback\n",
        "            rows = np.arange(i, min(i + batch_size, max_index))\n",
        "            i += len(rows)\n",
        "\n",
        "        samples = np.zeros(\n",
        "                            (\n",
        "                              len(rows),\n",
        "                              lookback // step,\n",
        "                              data.shape[-1]\n",
        "                              )\n",
        "                             )\n",
        "        targets = np.zeros((len(rows),))\n",
        "        for j, row in enumerate(rows):\n",
        "            indices = range(rows[j] - lookback, rows[j], step)\n",
        "            samples[j] = data[indices]\n",
        "            targets[j] = data[rows[j] + delay][1]\n",
        "        yield samples, targets"
      ],
      "metadata": {
        "id": "urL7OMzD77Mb"
      },
      "execution_count": null,
      "outputs": []
    }
  ]
}