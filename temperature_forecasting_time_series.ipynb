{
  "nbformat": 4,
  "nbformat_minor": 0,
  "metadata": {
    "colab": {
      "provenance": [],
      "include_colab_link": true
    },
    "kernelspec": {
      "name": "python3",
      "display_name": "Python 3"
    },
    "language_info": {
      "name": "python"
    },
    "gpuClass": "standard"
  },
  "cells": [
    {
      "cell_type": "markdown",
      "metadata": {
        "id": "view-in-github",
        "colab_type": "text"
      },
      "source": [
        "<a href=\"https://colab.research.google.com/github/harnalashok/deeplearning-sequences/blob/main/temperature_forecasting_time_series.ipynb\" target=\"_parent\"><img src=\"https://colab.research.google.com/assets/colab-badge.svg\" alt=\"Open In Colab\"/></a>"
      ]
    },
    {
      "cell_type": "code",
      "execution_count": null,
      "metadata": {
        "id": "jdneRZu9b6LV"
      },
      "outputs": [],
      "source": [
        "# Last amended: 10th Feb, 2023\n",
        "# My folder: /home/ashok/Documents/14.sensor_data\n",
        "# VM: lubuntu_deeplearning_I.vdi\n",
        "# Ref: Page 207, Chapter 6, Deep Learning with Python by Fracois Chollete\n",
        "# Download dataset from:\n",
        "# 1. Link to my google drive\n",
        "#  https://drive.google.com/file/d/1rnhlFKmmmhXqawaIBgjSTsqGrTLCUldV/view?usp=sharing\n",
        "# 2. Link to original datasource\n",
        "#  https://s3.amazonaws.com/keras-datasets/jena_climate_2009_2016.csv.zip"
      ]
    },
    {
      "cell_type": "code",
      "source": [
        "# Objectives:\n",
        "#             i)  Working with timeseries data\n",
        "#             i)  Working with sensor data\n",
        "#                 (Data comes from many sensors)\n",
        "#             ii) Processing data to make it fit for modeling\n",
        "#            iii) Creating data generator(s) for training and validation\n",
        "#            iv)  Making predictions using\n",
        "#                   a) Fully connected dense model\n",
        "#                   b) GRU model\n",
        "#                   c) GRU model with dropouts\n",
        "#                   d) Stacked GRU models\n",
        "#                   e) Bidirectional RNN layer\n",
        "#\n",
        "#"
      ],
      "metadata": {
        "id": "huq-vVpRcH4X"
      },
      "execution_count": null,
      "outputs": []
    },
    {
      "cell_type": "markdown",
      "source": [
        "## Task"
      ],
      "metadata": {
        "id": "NJ616xsmcMxP"
      }
    },
    {
      "cell_type": "code",
      "source": [
        "# We will predict temperature:\n",
        "# Sensor data is recorded every 10 minutes. So per-day we have:\n",
        "#   no of minutes:              24 * 60     =  1440\n",
        "#   no of 10 minutes interval: (24 * 60)/10 = 144 datapoints/per day\n",
        "#   no of data-points in 10 days: 1440"
      ],
      "metadata": {
        "id": "gdWgLHxRcL6_"
      },
      "execution_count": null,
      "outputs": []
    },
    {
      "cell_type": "code",
      "source": [
        "#   Our Data\n",
        "#   This is the data from csv file in notepad++\n",
        "#   Note each col-header is a string\n",
        "#   but each col value is NOT. \n",
        "#   First col is date-time\n",
        "\n",
        "\"\"\"\n",
        "\n",
        "\"Date Time\",\"p (mbar)\",\"T (degC)\",\"Tpot (K)\",\"Tdew (degC)\",\"rh (%)\",\"VPmax (mbar)\",\"VPact (mbar)\",\"VPdef (mbar)\",\"sh (g/kg)\",\"H2OC (mmol/mol)\",\"rho (g/m**3)\",\"wv (m/s)\",\"max. wv (m/s)\",\"wd (deg)\"\n",
        "01.01.2009 00:10:00,996.52,-8.02,265.40,-8.90,93.30,3.33,3.11,0.22,1.94,3.12,1307.75,1.03,1.75,152.30\n",
        "01.01.2009 00:20:00,996.57,-8.41,265.01,-9.28,93.40,3.23,3.02,0.21,1.89,3.03,1309.80,0.72,1.50,136.10\n",
        "01.01.2009 00:30:00,996.53,-8.51,264.91,-9.31,93.90,3.21,3.01,0.20,1.88,3.02,1310.24,0.19,0.63,171.60\n",
        "\n",
        "\"\"\""
      ],
      "metadata": {
        "id": "iBXW2J6koj8P"
      },
      "execution_count": null,
      "outputs": []
    },
    {
      "cell_type": "markdown",
      "source": [
        "## Call libraries"
      ],
      "metadata": {
        "id": "q5YGPiuocaeX"
      }
    },
    {
      "cell_type": "code",
      "source": [
        "# 1.0 Reset all variables\n",
        "#%reset -f\n",
        "\n",
        "# 1.0 Call libraries:\n",
        "\n",
        "import tensorflow as tf\n",
        "from tensorflow.keras.models import Sequential\n",
        "from tensorflow.keras import layers\n",
        "from tensorflow.keras.optimizers import RMSprop\n",
        "\n",
        "import numpy as np\n",
        "import matplotlib.pyplot as plt\n",
        "import os, time, gc, pathlib"
      ],
      "metadata": {
        "id": "GfcUriAvcZnA"
      },
      "execution_count": 1,
      "outputs": []
    },
    {
      "cell_type": "code",
      "source": [
        "# 1.0.1 Display multiple outputs from a cell:\n",
        "\n",
        "from IPython.core.interactiveshell import InteractiveShell\n",
        "InteractiveShell.ast_node_interactivity = \"all\"\n"
      ],
      "metadata": {
        "id": "9e-hx8pfdkcu"
      },
      "execution_count": 2,
      "outputs": []
    },
    {
      "cell_type": "markdown",
      "source": [
        "## Mount gdrive"
      ],
      "metadata": {
        "id": "IJx0do-PTlT8"
      }
    },
    {
      "cell_type": "code",
      "source": [
        "# 1.1 Mount gdrive:\n",
        "\n",
        "from google.colab import drive\n",
        "drive.mount('/gdrive')"
      ],
      "metadata": {
        "colab": {
          "base_uri": "https://localhost:8080/"
        },
        "id": "pr3N9CPyTkkU",
        "outputId": "a01d1669-9ff5-40f6-d6cb-15637d2f5643"
      },
      "execution_count": 3,
      "outputs": [
        {
          "output_type": "stream",
          "name": "stdout",
          "text": [
            "Drive already mounted at /gdrive; to attempt to forcibly remount, call drive.mount(\"/gdrive\", force_remount=True).\n"
          ]
        }
      ]
    },
    {
      "cell_type": "markdown",
      "source": [
        "## How to read csv data without pandas\n",
        "Open & read csv file; split at '\\n', and then at ',' and finally transform to numpy array.<br>\n",
        "`\n",
        ">open(path)<br>\n",
        ">f.read()<br>\n",
        ">f.close()<br>\n",
        ">data.split('\\n')<br>\n",
        ">lines.split(',')<br>\n",
        "`"
      ],
      "metadata": {
        "id": "a4csnTjzchOX"
      }
    },
    {
      "cell_type": "code",
      "source": [
        "# 1.1 Where is my data folder?\n",
        "data_dir = '/gdrive/MyDrive/Colab_data_files/jena'\n",
        "\n",
        "# 1.1.0 Make data_dir a pathlib object:\n",
        "\n",
        "folderPath = pathlib.Path(data_dir)"
      ],
      "metadata": {
        "id": "Bn10kSZUcndP"
      },
      "execution_count": 9,
      "outputs": []
    },
    {
      "cell_type": "code",
      "source": [
        "# 1.2 Join datapath with filename (intelligently)\n",
        "#     If you are on Windows, assign to fname full\n",
        "#     data path+ filename:\n",
        "\n",
        "fname = os.path.join(data_dir, 'jena_climate_2009_2016.csv')\n",
        "fname"
      ],
      "metadata": {
        "id": "krnBJRr2cjV4",
        "colab": {
          "base_uri": "https://localhost:8080/",
          "height": 1000
        },
        "outputId": "19a646d8-fd9a-475b-a8c8-84933041565a"
      },
      "execution_count": 10,
      "outputs": [
        {
          "output_type": "execute_result",
          "data": {
            "text/plain": [
              "'/gdrive/MyDrive/Colab_data_files/jena/jena_climate_2009_2016.csv'"
            ],
            "application/vnd.google.colaboratory.intrinsic+json": {
              "type": "string"
            }
          },
          "metadata": {},
          "execution_count": 10
        }
      ]
    },
    {
      "cell_type": "code",
      "source": [
        "# 1.2 Get filename:\n",
        "\n",
        "fname = folderPath / 'jena_climate_2009_2016.csv'"
      ],
      "metadata": {
        "id": "JGAKvCFkQem-"
      },
      "execution_count": 11,
      "outputs": []
    },
    {
      "cell_type": "code",
      "source": [
        "# 1.3 Read datafile, line by line\n",
        "# 1.3.1 First get a handle to file:\n",
        "\n",
        "f = open(fname)   # open() default mode is text+read\n",
        "\n",
        "# 1.3.2 Use handle to read complete file\n",
        "data = f.read()"
      ],
      "metadata": {
        "id": "t_9bPtUhcu74"
      },
      "execution_count": 12,
      "outputs": []
    },
    {
      "cell_type": "code",
      "source": [
        "# 1.3.3 Close read file:\n",
        "\n",
        "f.close()"
      ],
      "metadata": {
        "id": "LosNIABzctNX"
      },
      "execution_count": 13,
      "outputs": []
    },
    {
      "cell_type": "markdown",
      "source": [
        "## Observe read file data\n",
        "Basic python operations on file"
      ],
      "metadata": {
        "id": "v6RnleSAc5Fp"
      }
    },
    {
      "cell_type": "code",
      "source": [
        "# 1.3.4 Check data type:\n",
        "#       It is one string:\n",
        "\n",
        "assert type(data) is str\n",
        "\n",
        "print(\"\\n====\\n\")\n",
        "\n",
        "type(data) #  str"
      ],
      "metadata": {
        "colab": {
          "base_uri": "https://localhost:8080/"
        },
        "id": "GSK9UZtIVLRL",
        "outputId": "fb6cae14-a1a6-46a0-b454-a78b82a5f902"
      },
      "execution_count": 16,
      "outputs": [
        {
          "output_type": "stream",
          "name": "stdout",
          "text": [
            "\n",
            "====\n",
            "\n"
          ]
        },
        {
          "output_type": "execute_result",
          "data": {
            "text/plain": [
              "str"
            ]
          },
          "metadata": {},
          "execution_count": 16
        }
      ]
    },
    {
      "cell_type": "code",
      "source": [
        "# 1.3.5 Observe Ist 220 chars of data string:\n",
        "#       Also see '\\n' char in between:\n",
        "\n",
        "data[0:220]      # Whole data is read as one string\n",
        "                 # Read first 200 characters of string\n",
        "                 # Note '\\n' at 196th character\n"
      ],
      "metadata": {
        "id": "wyz-ctvnc7xt",
        "colab": {
          "base_uri": "https://localhost:8080/",
          "height": 1000
        },
        "outputId": "77294eaa-1fab-4879-a58c-4a24465106ca"
      },
      "execution_count": 17,
      "outputs": [
        {
          "output_type": "execute_result",
          "data": {
            "text/plain": [
              "'\"Date Time\",\"p (mbar)\",\"T (degC)\",\"Tpot (K)\",\"Tdew (degC)\",\"rh (%)\",\"VPmax (mbar)\",\"VPact (mbar)\",\"VPdef (mbar)\",\"sh (g/kg)\",\"H2OC (mmol/mol)\",\"rho (g/m**3)\",\"wv (m/s)\",\"max. wv (m/s)\",\"wd (deg)\"\\n01.01.2009 00:10:00,996.'"
            ],
            "application/vnd.google.colaboratory.intrinsic+json": {
              "type": "string"
            }
          },
          "metadata": {},
          "execution_count": 17
        }
      ]
    },
    {
      "cell_type": "code",
      "source": [
        "# 1.4 Process string:\n",
        "\n",
        "# 1.4.1 Split data on newline (\\n). So how many records?\n",
        "\n",
        "lines = data.split('\\n')    # Split data 'str' at every 'newline'\n",
        "                            # and collect the str(s) in a list\n",
        "print(\"\\n=====\\n\")\n",
        "\n",
        "type(lines)                 # list =>  All splits are in one list\n",
        "print(\"\\n=====\\n\")\n",
        "len(lines)                  # Total splits/elements are 420552\n",
        "print(\"\\n=====\\n\")\n",
        "lines[3]                    # Just print some element of list\n",
        "\n"
      ],
      "metadata": {
        "id": "Ekk9kqTGdChv",
        "colab": {
          "base_uri": "https://localhost:8080/",
          "height": 1000
        },
        "outputId": "0b1371e5-7925-4e9b-a738-889ef0f6e129"
      },
      "execution_count": 18,
      "outputs": [
        {
          "output_type": "stream",
          "name": "stdout",
          "text": [
            "\n",
            "=====\n",
            "\n"
          ]
        },
        {
          "output_type": "execute_result",
          "data": {
            "text/plain": [
              "list"
            ]
          },
          "metadata": {},
          "execution_count": 18
        },
        {
          "output_type": "stream",
          "name": "stdout",
          "text": [
            "\n",
            "=====\n",
            "\n"
          ]
        },
        {
          "output_type": "execute_result",
          "data": {
            "text/plain": [
              "420552"
            ]
          },
          "metadata": {},
          "execution_count": 18
        },
        {
          "output_type": "stream",
          "name": "stdout",
          "text": [
            "\n",
            "=====\n",
            "\n"
          ]
        },
        {
          "output_type": "execute_result",
          "data": {
            "text/plain": [
              "'01.01.2009 00:30:00,996.53,-8.51,264.91,-9.31,93.90,3.21,3.01,0.20,1.88,3.02,1310.24,0.19,0.63,171.60'"
            ],
            "application/vnd.google.colaboratory.intrinsic+json": {
              "type": "string"
            }
          },
          "metadata": {},
          "execution_count": 18
        }
      ]
    },
    {
      "cell_type": "code",
      "source": [
        "# 1.4.2 Does any header exist? Check:\n",
        "lines[0]                   # yes, it does\n",
        "\n",
        "print(\"\\n=====\\n\")\n",
        "\n",
        "lines[1]                  # Contains data"
      ],
      "metadata": {
        "id": "2S5fHG7ldv_o",
        "colab": {
          "base_uri": "https://localhost:8080/",
          "height": 1000
        },
        "outputId": "163815c4-3f29-478b-d3c2-5dd69d5d04e7"
      },
      "execution_count": 19,
      "outputs": [
        {
          "output_type": "execute_result",
          "data": {
            "text/plain": [
              "'\"Date Time\",\"p (mbar)\",\"T (degC)\",\"Tpot (K)\",\"Tdew (degC)\",\"rh (%)\",\"VPmax (mbar)\",\"VPact (mbar)\",\"VPdef (mbar)\",\"sh (g/kg)\",\"H2OC (mmol/mol)\",\"rho (g/m**3)\",\"wv (m/s)\",\"max. wv (m/s)\",\"wd (deg)\"'"
            ],
            "application/vnd.google.colaboratory.intrinsic+json": {
              "type": "string"
            }
          },
          "metadata": {},
          "execution_count": 19
        },
        {
          "output_type": "stream",
          "name": "stdout",
          "text": [
            "\n",
            "=====\n",
            "\n"
          ]
        },
        {
          "output_type": "execute_result",
          "data": {
            "text/plain": [
              "'01.01.2009 00:10:00,996.52,-8.02,265.40,-8.90,93.30,3.33,3.11,0.22,1.94,3.12,1307.75,1.03,1.75,152.30'"
            ],
            "application/vnd.google.colaboratory.intrinsic+json": {
              "type": "string"
            }
          },
          "metadata": {},
          "execution_count": 19
        }
      ]
    },
    {
      "cell_type": "code",
      "source": [
        "# 1.4.3 Extract header (field-names)\n",
        "header = lines[0].split(',')  # Split at each ','\n",
        "\n",
        "header  # A list of strs AND within each string is a string"
      ],
      "metadata": {
        "id": "_nNljWDtdzWP",
        "colab": {
          "base_uri": "https://localhost:8080/"
        },
        "outputId": "c9d93db4-9408-41d8-e973-bb2675d46a17"
      },
      "execution_count": 20,
      "outputs": [
        {
          "output_type": "execute_result",
          "data": {
            "text/plain": [
              "['\"Date Time\"',\n",
              " '\"p (mbar)\"',\n",
              " '\"T (degC)\"',\n",
              " '\"Tpot (K)\"',\n",
              " '\"Tdew (degC)\"',\n",
              " '\"rh (%)\"',\n",
              " '\"VPmax (mbar)\"',\n",
              " '\"VPact (mbar)\"',\n",
              " '\"VPdef (mbar)\"',\n",
              " '\"sh (g/kg)\"',\n",
              " '\"H2OC (mmol/mol)\"',\n",
              " '\"rho (g/m**3)\"',\n",
              " '\"wv (m/s)\"',\n",
              " '\"max. wv (m/s)\"',\n",
              " '\"wd (deg)\"']"
            ]
          },
          "metadata": {},
          "execution_count": 20
        }
      ]
    },
    {
      "cell_type": "code",
      "source": [
        "# 1.4.4 How many columns/fields?\n",
        "\n",
        "cols = len(header)\n",
        "cols             # 15"
      ],
      "metadata": {
        "id": "-k13-XlDd2Gn",
        "colab": {
          "base_uri": "https://localhost:8080/"
        },
        "outputId": "0eea9564-f4d2-4171-8d5d-279360d44676"
      },
      "execution_count": 21,
      "outputs": [
        {
          "output_type": "execute_result",
          "data": {
            "text/plain": [
              "15"
            ]
          },
          "metadata": {},
          "execution_count": 21
        }
      ]
    },
    {
      "cell_type": "code",
      "source": [
        "# 1.4.5 Print first three rows.\n",
        "#       Note 10-minute gap in the\n",
        "#       observations:\n",
        "\n",
        "lines[1:4]     # A list of 3 string elements\n",
        "\n",
        "print(\"\\n======\\n\")\n",
        "\n",
        "len(lines)    # 420552 or header + 420551 data points"
      ],
      "metadata": {
        "id": "znBS9A3Ed3Um",
        "colab": {
          "base_uri": "https://localhost:8080/"
        },
        "outputId": "121582c2-b732-4afd-c10e-ecbb0eb84b2c"
      },
      "execution_count": 22,
      "outputs": [
        {
          "output_type": "execute_result",
          "data": {
            "text/plain": [
              "['01.01.2009 00:10:00,996.52,-8.02,265.40,-8.90,93.30,3.33,3.11,0.22,1.94,3.12,1307.75,1.03,1.75,152.30',\n",
              " '01.01.2009 00:20:00,996.57,-8.41,265.01,-9.28,93.40,3.23,3.02,0.21,1.89,3.03,1309.80,0.72,1.50,136.10',\n",
              " '01.01.2009 00:30:00,996.53,-8.51,264.91,-9.31,93.90,3.21,3.01,0.20,1.88,3.02,1310.24,0.19,0.63,171.60']"
            ]
          },
          "metadata": {},
          "execution_count": 22
        },
        {
          "output_type": "stream",
          "name": "stdout",
          "text": [
            "\n",
            "======\n",
            "\n"
          ]
        },
        {
          "output_type": "execute_result",
          "data": {
            "text/plain": [
              "420552"
            ]
          },
          "metadata": {},
          "execution_count": 22
        }
      ]
    },
    {
      "cell_type": "code",
      "source": [
        "# 1.4.6 Total samples?\n",
        "\n",
        "totalsamples = len(lines) - 1    # 420551 (exclude header)\n",
        "totalsamples"
      ],
      "metadata": {
        "id": "YL-5VnyXe57C",
        "colab": {
          "base_uri": "https://localhost:8080/"
        },
        "outputId": "86b8b1da-dadc-4604-e8d5-ebe42401d4f6"
      },
      "execution_count": 23,
      "outputs": [
        {
          "output_type": "execute_result",
          "data": {
            "text/plain": [
              "420551"
            ]
          },
          "metadata": {},
          "execution_count": 23
        }
      ]
    },
    {
      "cell_type": "markdown",
      "source": [
        "## Populating numpy array with data\n",
        "Transform our `lines` to numpy array<br>\n",
        "`\n",
        ">`create zero-filled array`<br>\n",
        "` for ith line in lines`<br>\n",
        ">>  fill $i^{th}$ np.array() with i.split(',')<br>\n",
        "`"
      ],
      "metadata": {
        "id": "OelYdZt_faYI"
      }
    },
    {
      "cell_type": "code",
      "source": [
        "# 2.0 Convert all 420551 data points into a numpy array\n",
        "#     for processing\n",
        "\n",
        "# 2.1 First create a zero-valued 2D-array\n",
        "#      While creating zero-valued 2D-array, forget\n",
        "#        first column or time col\n",
        "#     So array size will be same as that of data\n",
        "\n",
        "float_data = np.zeros(\n",
        "                       (totalsamples, cols -1 )   # Exclude 1st date/time col\n",
        "                      )  \n",
        "\n",
        "float_data.shape           # (420551,14)"
      ],
      "metadata": {
        "id": "-R-Z8gDAfYaw",
        "colab": {
          "base_uri": "https://localhost:8080/"
        },
        "outputId": "c8351d16-c191-46b9-b07d-04016fffd988"
      },
      "execution_count": 24,
      "outputs": [
        {
          "output_type": "execute_result",
          "data": {
            "text/plain": [
              "(420551, 14)"
            ]
          },
          "metadata": {},
          "execution_count": 24
        }
      ]
    },
    {
      "cell_type": "code",
      "source": [
        "# 2.2 Fill this 2D-zero-valued array, row-by-row using for-loop\n",
        "# 2.2.1 First get an array of 420551 values\n",
        "#       0 ,1, 2, 3,...420550\n",
        "\n",
        "numbList=np.arange(float_data.shape[0])\n",
        "numbList"
      ],
      "metadata": {
        "id": "tsERnYczuQbW",
        "colab": {
          "base_uri": "https://localhost:8080/"
        },
        "outputId": "a2e121dc-2c09-466a-8cae-08d73db3c334"
      },
      "execution_count": 25,
      "outputs": [
        {
          "output_type": "execute_result",
          "data": {
            "text/plain": [
              "array([     0,      1,      2, ..., 420548, 420549, 420550])"
            ]
          },
          "metadata": {},
          "execution_count": 25
        }
      ]
    },
    {
      "cell_type": "code",
      "source": [
        "# 2.2.2 See how a line is split in respective\n",
        "#       field values. We want split values to\n",
        "#       be an array. But after the split,\n",
        "#       they are a list\n",
        "\n",
        "x = lines[1].split(',')\n",
        "type(x)      # list"
      ],
      "metadata": {
        "id": "0qAOPV4DuVPI",
        "colab": {
          "base_uri": "https://localhost:8080/"
        },
        "outputId": "5d2a00b2-60ac-4f35-ea98-02d236b01e42"
      },
      "execution_count": 26,
      "outputs": [
        {
          "output_type": "execute_result",
          "data": {
            "text/plain": [
              "list"
            ]
          },
          "metadata": {},
          "execution_count": 26
        }
      ]
    },
    {
      "cell_type": "code",
      "source": [
        "# 2.2.3 Transform x, a list, into numpy array:\n",
        "#\n",
        "\n",
        "x = np.asarray(\n",
        "               x[1:],     # list\n",
        "               dtype = 'float32'\n",
        "               ) # Exclude 1st date/time column\n",
        "\n",
        "type(x)\n",
        "print(\"\\n======\\n\")\n",
        "x\n",
        "print(\"\\n======\\n\")\n",
        "x.shape"
      ],
      "metadata": {
        "id": "1C-ZOWUZuYaZ",
        "colab": {
          "base_uri": "https://localhost:8080/"
        },
        "outputId": "5693d7a7-f734-48b8-b9eb-b655c3a71c72"
      },
      "execution_count": 27,
      "outputs": [
        {
          "output_type": "execute_result",
          "data": {
            "text/plain": [
              "numpy.ndarray"
            ]
          },
          "metadata": {},
          "execution_count": 27
        },
        {
          "output_type": "stream",
          "name": "stdout",
          "text": [
            "\n",
            "======\n",
            "\n"
          ]
        },
        {
          "output_type": "execute_result",
          "data": {
            "text/plain": [
              "array([ 9.96520e+02, -8.02000e+00,  2.65400e+02, -8.90000e+00,\n",
              "        9.33000e+01,  3.33000e+00,  3.11000e+00,  2.20000e-01,\n",
              "        1.94000e+00,  3.12000e+00,  1.30775e+03,  1.03000e+00,\n",
              "        1.75000e+00,  1.52300e+02], dtype=float32)"
            ]
          },
          "metadata": {},
          "execution_count": 27
        },
        {
          "output_type": "stream",
          "name": "stdout",
          "text": [
            "\n",
            "======\n",
            "\n"
          ]
        },
        {
          "output_type": "execute_result",
          "data": {
            "text/plain": [
              "(14,)"
            ]
          },
          "metadata": {},
          "execution_count": 27
        }
      ]
    },
    {
      "cell_type": "code",
      "source": [
        "# 2.3  Fill up zero-array,row-by-row, with sensor data\n",
        "for i in numbList:      # ie uptil the last line\n",
        "    \n",
        "    # 2.3.0 Now do this for all lines using for-loop\n",
        "    row_list = lines[i+1].split(',')     # i starts from 0 but we ignore header\n",
        "\n",
        "    # 2.3.1 'row' is a list. Select all but 1st element\n",
        "    row_list= row_list[1:]                    # Ignore the date column\n",
        "    \n",
        "    # 2.3.2\n",
        "    values = np.asarray(row_list, dtype = 'float32')\n",
        "    \n",
        "    # 2.3.3\n",
        "    float_data[i, :] = values       # Fill zero-array, row-by-row"
      ],
      "metadata": {
        "id": "HBIhlrsWuxSu"
      },
      "execution_count": 28,
      "outputs": []
    },
    {
      "cell_type": "code",
      "source": [
        "# 2.3.4 Check\n",
        "float_data.shape     # (420551,14)\n",
        "\n",
        "print(\"\\n======\\n\")\n",
        "\n",
        "# 2.3.5\n",
        "float_data[0]"
      ],
      "metadata": {
        "id": "iJzNzYHwu4cC",
        "colab": {
          "base_uri": "https://localhost:8080/"
        },
        "outputId": "22378c56-3756-4750-c53f-e4a0e5b26d7d"
      },
      "execution_count": 29,
      "outputs": [
        {
          "output_type": "execute_result",
          "data": {
            "text/plain": [
              "(420551, 14)"
            ]
          },
          "metadata": {},
          "execution_count": 29
        },
        {
          "output_type": "stream",
          "name": "stdout",
          "text": [
            "\n",
            "======\n",
            "\n"
          ]
        },
        {
          "output_type": "execute_result",
          "data": {
            "text/plain": [
              "array([ 9.96520020e+02, -8.02000046e+00,  2.65399994e+02, -8.89999962e+00,\n",
              "        9.33000031e+01,  3.32999992e+00,  3.10999990e+00,  2.19999999e-01,\n",
              "        1.94000006e+00,  3.11999989e+00,  1.30775000e+03,  1.02999997e+00,\n",
              "        1.75000000e+00,  1.52300003e+02])"
            ]
          },
          "metadata": {},
          "execution_count": 29
        }
      ]
    },
    {
      "cell_type": "markdown",
      "source": [
        "## Plotting temperature"
      ],
      "metadata": {
        "id": "vo-sMzg8u7oB"
      }
    },
    {
      "cell_type": "code",
      "source": [
        "# 3. Let us plot temperature, the IInd column\n",
        "#    Check 'header', if you like\n",
        "# 3.1 Get IInd column with index 1\n",
        "temp = float_data[:, 1]\n",
        "temp"
      ],
      "metadata": {
        "id": "4DOm1N_-u9ho",
        "colab": {
          "base_uri": "https://localhost:8080/"
        },
        "outputId": "2e06ca79-3114-4e27-a2ad-13183564504a"
      },
      "execution_count": 26,
      "outputs": [
        {
          "output_type": "execute_result",
          "data": {
            "text/plain": [
              "array([-8.02000046, -8.40999985, -8.51000023, ..., -3.16000009,\n",
              "       -4.23000002, -4.82000017])"
            ]
          },
          "metadata": {},
          "execution_count": 26
        }
      ]
    },
    {
      "cell_type": "code",
      "source": [
        "# 3.2 plot it. It is highly periodic\n",
        "plt.plot(range(len(temp)), temp) ;\n",
        "plt.show() ; "
      ],
      "metadata": {
        "id": "db3aC1udvOVC",
        "colab": {
          "base_uri": "https://localhost:8080/",
          "height": 268
        },
        "outputId": "320f7119-d39c-45c2-de92-fce15ad339c6"
      },
      "execution_count": 27,
      "outputs": [
        {
          "output_type": "display_data",
          "data": {
            "text/plain": [
              "<Figure size 432x288 with 1 Axes>"
            ],
            "image/png": "[encoded data removed]"
          },
          "metadata": {
            "needs_background": "light"
          }
        }
      ]
    },
    {
      "cell_type": "code",
      "source": [
        "# 3.3 Let us see 12-hour variation\n",
        "#     How many readings in one-day?  (24 * 60 )/10 = 144\n",
        "#     So half day = 72 points\n",
        "#     It is half of this variation we want to predict\n",
        "\n",
        "plt.plot(range((12*60//10)), temp[:72]) ;\n",
        "plt.show() ; "
      ],
      "metadata": {
        "colab": {
          "base_uri": "https://localhost:8080/",
          "height": 265
        },
        "id": "UnbNSH-8iS4c",
        "outputId": "3332ab8b-0dfe-474a-9533-5709f4454a9e"
      },
      "execution_count": 28,
      "outputs": [
        {
          "output_type": "display_data",
          "data": {
            "text/plain": [
              "<Figure size 432x288 with 1 Axes>"
            ],
            "image/png": "[encoded data removed]"
          },
          "metadata": {
            "needs_background": "light"
          }
        }
      ]
    },
    {
      "cell_type": "code",
      "source": [
        "# 3.4 Delete unwanted variable\n",
        "del temp\n",
        "gc.collect()"
      ],
      "metadata": {
        "colab": {
          "base_uri": "https://localhost:8080/"
        },
        "id": "d-bgpYnziTSl",
        "outputId": "554ce977-e538-49ba-8c33-12bb1d251216"
      },
      "execution_count": 29,
      "outputs": [
        {
          "output_type": "execute_result",
          "data": {
            "text/plain": [
              "4879"
            ]
          },
          "metadata": {},
          "execution_count": 29
        }
      ]
    },
    {
      "cell_type": "markdown",
      "source": [
        "## Standardize data"
      ],
      "metadata": {
        "id": "_2xA237SjIyA"
      }
    },
    {
      "cell_type": "code",
      "source": [
        "### Data pre-processing\n",
        "###---------------\n",
        "# 4.0 For processing we center and scale all data\n",
        "#     Could have used sklearn's StandardScaler()\n",
        "#     We decide upon a max sample size of 2 lakh\n",
        "#     Were we rich in memory, more could have been selected\n",
        "\n",
        "training_data_size = 420551     # select 200000 to save memory"
      ],
      "metadata": {
        "id": "YI708UKCivzv"
      },
      "execution_count": 30,
      "outputs": []
    },
    {
      "cell_type": "code",
      "source": [
        "# 4.1   Get column-wise (axis= 0) mean\n",
        "#       We extract mean from training data only but would apply\n",
        "#       to whole of data\n",
        "\n",
        "mean = float_data[:training_data_size].mean(axis = 0)\n",
        "mean[:4]     # Show means of Ist four column means\n"
      ],
      "metadata": {
        "colab": {
          "base_uri": "https://localhost:8080/"
        },
        "id": "cCFs1aC5i-2h",
        "outputId": "72fa2fc0-9bc0-49e6-bdab-b5c5374332a2"
      },
      "execution_count": 31,
      "outputs": [
        {
          "output_type": "execute_result",
          "data": {
            "text/plain": [
              "array([989.21277606,   9.45014735, 283.49274343,   4.95585384])"
            ]
          },
          "metadata": {},
          "execution_count": 31
        }
      ]
    },
    {
      "cell_type": "code",
      "source": [
        "# 4.2  Subtract from each column, its respective mean\n",
        "#      We subtract this from all data.\n",
        "\n",
        "float_data = float_data - mean\n"
      ],
      "metadata": {
        "id": "w0rt9wI3i_Ob"
      },
      "execution_count": 32,
      "outputs": []
    },
    {
      "cell_type": "code",
      "source": [
        "# 4.3   Get std deviation of each column \n",
        "#       but from training data only:\n",
        "\n",
        "std = float_data[:training_data_size].std(axis = 0)\n",
        "std[:4]    # First four column std deviation"
      ],
      "metadata": {
        "colab": {
          "base_uri": "https://localhost:8080/"
        },
        "id": "M8WR30HTjkfq",
        "outputId": "8e8f9b73-1921-4015-e7da-3d4c54426c6d"
      },
      "execution_count": 33,
      "outputs": [
        {
          "output_type": "execute_result",
          "data": {
            "text/plain": [
              "array([8.35847079, 8.4233552 , 8.50446129, 6.73066631])"
            ]
          },
          "metadata": {},
          "execution_count": 33
        }
      ]
    },
    {
      "cell_type": "code",
      "source": [
        "# 4.4 Divide each column by its respective std deviation:\n",
        "\n",
        "float_data /= std\n",
        "float_data.shape"
      ],
      "metadata": {
        "colab": {
          "base_uri": "https://localhost:8080/"
        },
        "id": "ANKDSQ3ylSfI",
        "outputId": "c624a0eb-69fc-4eeb-84f8-6369da046a1f"
      },
      "execution_count": 34,
      "outputs": [
        {
          "output_type": "execute_result",
          "data": {
            "text/plain": [
              "(420551, 14)"
            ]
          },
          "metadata": {},
          "execution_count": 34
        }
      ]
    },
    {
      "cell_type": "markdown",
      "source": [
        "## Create data generators\n",
        "Explanation"
      ],
      "metadata": {
        "id": "fUsWkBcb8Jat"
      }
    },
    {
      "cell_type": "code",
      "source": [
        "################## Learning to create data generators ###############\n",
        "##################### Expt & explanation #############################\n",
        "## 5.0 Problem defined:\n",
        "## --------------------\n",
        "## Starting from any point, say, i, in dataset, our intention is\n",
        "##  to lookback 1440 timesteps (24*60/10=144/day; 10days) behind,  \n",
        "##   and using this data, predict temp one day ahead of i ie 144 \n",
        "##    time steps ahead of i.\n",
        "##    Instead of considering all 1440 lookback points, we will sample\n",
        "##     one point per hour or just 24 datapoints/day for 10 days ie \n",
        "##      total= (24 * 10) data points of lookback. \n",
        "##\n"
      ],
      "metadata": {
        "id": "BG4zV_9Xln6s"
      },
      "execution_count": null,
      "outputs": []
    },
    {
      "cell_type": "code",
      "source": [
        "## Train Data Generator\n",
        "## ---------------------\n",
        "## 5.1 Case 1: How will we generate our training data?\n",
        "##  Pick any random index, i, and then we will generate \n",
        "##    our data. Let us randomly pick index,i, as: 1742.\n",
        "##     We go back lookback pts ie 1742 - 1440 = 302 and\n",
        "##      pick every index after each 'step' (=6):\n",
        "##        Batch 1 (240 observations)\n",
        "##                (14 attributes + target)\n",
        "##    index   pressure     temp    humidity        Target\n",
        "##    302     0.87        0.1     0.23             0.17\n",
        "##    308     0.28        0.91    0.77             0.63\n",
        "##    314     0.56        0.33    0.99             0.45\n",
        "##    320       ..           ..      ..\n",
        "##              ..           ..      ..\n",
        "##    1742    0.86        0.09    0.13             0.21\n",
        "##    last index: 302 + (step * 240)\n",
        "\n",
        "##  5.1.1 Per epoch, we will pick 128 random indices (i(s)) & then generate\n",
        "##         128 batches of data (steps_per_epoch = 128). Our data generator\n",
        "##          can generate infinite batches of data, epoch-after-epoch. While\n",
        "##           picking 128 random i(s) we will take care that i-1440 > min_index\n",
        "##            And i + delay < max_index\n",
        "##"
      ],
      "metadata": {
        "id": "499rejNu8o3B"
      },
      "execution_count": null,
      "outputs": []
    },
    {
      "cell_type": "code",
      "source": [
        "##  5.1.2 We will have heve 128 batches of (each batch: 240 X 14) datasets. \n",
        "##        For training data, all our 128 batches will be picked up randomly\n",
        "##        from first 2 lakh data points. We select some arbitrary points\n",
        "##        (arbitrary Xs) within our data and proceed sequentially to pick up\n",
        "#         240 rows."
      ],
      "metadata": {
        "id": "JIkYpGi6rvQV"
      },
      "execution_count": null,
      "outputs": []
    },
    {
      "cell_type": "code",
      "source": [
        "##  5.1.3 We will make random selection of 128 points many\n",
        "##        times (infinitely) in our training-data-generator (steps_per_epoch).\n",
        "##        This will help in changing the sequence of time steps."
      ],
      "metadata": {
        "id": "DhgrXnftsbQ8"
      },
      "execution_count": null,
      "outputs": []
    },
    {
      "cell_type": "code",
      "source": [
        "## 5.2 Validation data Generator\n",
        "## -----------------------------\n",
        "##  For validation data, we start with min_index = 200001 and limit max_index = 300000.\n",
        "##  This time we will NOT pick up batches randomly but sequentially. We start with \n",
        "##   200001 + lookback = 200001 + 1440 = 2001441 and get 128 row-numbers \n",
        "##     (including 2001441) sequentially that is: 201441, 201442,...201568 \n",
        "##       ie upto (200001 + 1440 +128 - 1) OR (i + lookback -1 + batch_size ).\n",
        "##        While proceeding throgh these numbers, one by one, we prepare dataset of \n",
        "##         240 points (each point at an interval of 6steps). "
      ],
      "metadata": {
        "id": "KU5Alce-2Qrc"
      },
      "execution_count": null,
      "outputs": []
    },
    {
      "cell_type": "code",
      "source": [
        "## 5.3 Test Data generator\n",
        "##  ----------------------------------------------\n",
        "#  Same as for validation but this time min_index = 300001 \n",
        "#   but max_index = None that is upto: len(float_data) - delay - 1."
      ],
      "metadata": {
        "id": "sg1ZvtPWtb_E"
      },
      "execution_count": null,
      "outputs": []
    },
    {
      "cell_type": "markdown",
      "source": [
        "## Constants"
      ],
      "metadata": {
        "id": "CMVjB72b2rHr"
      }
    },
    {
      "cell_type": "code",
      "source": [
        "# 6.0. Define some common constants:\n",
        "#      timestep : 10 mins\n",
        "\n",
        "lookback = 1440  # timesteps. (same as 10 days) In RNN, we will lookback at\n",
        "                 #            1440 timesteps. Each timestep is 10 minutes.\n",
        "# 6.1\n",
        "step = 6         # Sample after every 'step' timesteps. \n",
        "                 # Per hour we pick one sample\n",
        "                 # And not every 10 minutes that is pick one point after\n",
        "                 #   every 6th point.\n",
        "                 # Per lookback period datapoints will be 1440/6 = 240\n",
        "                 # So our prediction will be based on data of size 240 X 14.\n",
        "# 6.2\n",
        "delay = 144      # timesteps. (same as 24 hours) We will forecast for a temperatue\n",
        "                 # 144 timesteps ahead\n",
        "\n",
        "# 6.3\n",
        "batch_size = 128 # Analyse 'dataset' in batches of 128 considering memory limitations\n",
        "                 # So we will analyse in memory at a time: 128 X 240 X 14"
      ],
      "metadata": {
        "id": "z3t-vLTF2qKQ"
      },
      "execution_count": 35,
      "outputs": []
    },
    {
      "cell_type": "markdown",
      "source": [
        "## Train data generator--demo"
      ],
      "metadata": {
        "id": "_YD3lovgz19w"
      }
    },
    {
      "cell_type": "code",
      "source": [
        "#############################\n",
        "###### Case 1   Constants for training data generator\n",
        "#############################\n",
        "\n",
        "# Define constants specific to this Case that is training data\n",
        "# 7.0.\n",
        "min_index = 0        # For training, we start from here\n",
        "max_index = 200000   # Our last index-point for training (200001st pt)\n",
        "shuffle = True       # Training batches will be picked up randomly"
      ],
      "metadata": {
        "id": "gtjVG4v23Lhc"
      },
      "execution_count": null,
      "outputs": []
    },
    {
      "cell_type": "markdown",
      "source": [
        "### Generate just a batch of pts (128)"
      ],
      "metadata": {
        "id": "MfMKgGvb3dlz"
      }
    },
    {
      "cell_type": "code",
      "source": [
        "##******************************************************\n",
        "#  Begin creating batches of datasets--One batch only\n",
        "##******************************************************\n",
        "#           float_data:10 (index: 9),\n",
        "#                delay:6\n",
        "# Therefore, max_index:3  (=9-6)\n",
        "#        OR, (10 - 1 - 6) \n",
        "\n",
        "\n",
        "# 7.1 Our 'i' should be between min_index and max_index.\n",
        "if max_index is None:    \n",
        "    max_index = len(float_data) - delay - 1   # (200000 - 1) - 144 = 199855\n",
        "\n",
        "# 7.1.1\n",
        "max_index"
      ],
      "metadata": {
        "colab": {
          "base_uri": "https://localhost:8080/"
        },
        "id": "eDjMyrx23TJL",
        "outputId": "d1684925-cef6-4094-d7d1-701d036653a6"
      },
      "execution_count": null,
      "outputs": [
        {
          "output_type": "execute_result",
          "data": {
            "text/plain": [
              "200000"
            ]
          },
          "metadata": {},
          "execution_count": 43
        }
      ]
    },
    {
      "cell_type": "code",
      "source": [
        "# 7.2 And from where to begin creating lookback batches:\n",
        "\n",
        "i = min_index + lookback     # Begin here to pick up earlier points\n",
        "i                            # Start index\n"
      ],
      "metadata": {
        "colab": {
          "base_uri": "https://localhost:8080/"
        },
        "id": "H-di8f_d3bQ-",
        "outputId": "9b1c3e7c-ebb0-488a-efbd-201d7f71dd3c"
      },
      "execution_count": null,
      "outputs": [
        {
          "output_type": "execute_result",
          "data": {
            "text/plain": [
              "1440"
            ]
          },
          "metadata": {},
          "execution_count": 47
        }
      ]
    },
    {
      "cell_type": "code",
      "source": [
        "# 7.3\n",
        "\n",
        "i      # 1440 timesteps to start with or 10 days lookback\n",
        "       # If this is time, t, RNN gets data for t-1,\n",
        "       #  t-2, right upto first point as lookback is 1440 timesteps\n",
        "       # np.random.randint(low, high, howmany)\n",
        "       # np.random.randint(0,100,10)   Gives 10 random points"
      ],
      "metadata": {
        "id": "23tJ_U8b4DRO",
        "colab": {
          "base_uri": "https://localhost:8080/"
        },
        "outputId": "1d14b199-56fc-48bc-b975-c6662623db12"
      },
      "execution_count": null,
      "outputs": [
        {
          "output_type": "execute_result",
          "data": {
            "text/plain": [
              "1440"
            ]
          },
          "metadata": {},
          "execution_count": 48
        }
      ]
    },
    {
      "cell_type": "code",
      "source": [
        "# 7.4  How to get one set of 128 index-pts \n",
        "#        from where to lookback and pick up data of 240 X 14\n",
        "\n",
        "if shuffle:               # For training only\n",
        "    # Generate 128 random points (is) for picking training datasets\n",
        "\n",
        "    #                             1440              199855           128\n",
        "    rows = np.random.randint(min_index + lookback, max_index, size=batch_size) \n",
        "\n",
        "else:                      # for validation/test datasets\n",
        "    # Else, generate 128 sequential points:\n",
        "    if i + batch_size >= max_index:   # Given some 'i', if it exceeds limit\n",
        "        i = min_index + lookback      #  then set it to min possible\n",
        "    \n",
        "    rows = np.arange(i, min(i + batch_size, max_index))  # Get a list of all\n",
        "                                                         #  points from i uptill the limit\n",
        "    i += len(rows)      # Increment i by batch_size (128). \n",
        "                        # Next batch pick-up pt is 128 ahead"
      ],
      "metadata": {
        "id": "s6Wt5QDJ4xdO"
      },
      "execution_count": null,
      "outputs": []
    },
    {
      "cell_type": "code",
      "source": [
        "# 7.5 Have a look at rows from where to \n",
        "#      start picking up 240 lookback points:\n",
        "\n",
        "rows\n",
        "print(\"\\n=====\\n\")\n",
        "\n",
        "min(rows)    # min index\n",
        "print(\"\\n=====\\n\")\n",
        "\n",
        "max(rows)    # max index\n",
        "\n",
        "print(\"\\n=====\\n\")\n",
        "len(rows)    # 128 points"
      ],
      "metadata": {
        "id": "Lle2E7594yHb",
        "colab": {
          "base_uri": "https://localhost:8080/"
        },
        "outputId": "21042a88-149f-43f8-f350-c81922a3a704"
      },
      "execution_count": null,
      "outputs": [
        {
          "output_type": "execute_result",
          "data": {
            "text/plain": [
              "array([ 88072, 140010, 173667, 116106,  75729, 193854, 130499,  36595,\n",
              "        22045,  65868, 121932, 119400, 166410, 109561,  35064, 124112,\n",
              "       192847,  53029, 181101,  52936, 144309,  37406,  79462,  26932,\n",
              "       129915, 167989, 130965,  15477, 198760, 181138, 130700, 174466,\n",
              "       168104,  96491, 197601, 186770,  49296,  45984, 126433,  29255,\n",
              "         4417,  70516, 101500,  31114,  48560, 107692, 143948,  11710,\n",
              "       150921,   4168, 106760,  29251,  40748,  27463, 155521,  28660,\n",
              "         2554, 131727,   6778,  60754, 130035,  74256,  18039, 134718,\n",
              "        69620, 107370, 182866, 161666,  27978,   5274,  99574, 165828,\n",
              "        88852,  32775, 167538, 139846, 181404,  97494, 112207,  50304,\n",
              "       161633,  65252,  88821, 179376, 149797, 151680, 174809, 179378,\n",
              "         1966, 118864,  76460,  89141,  67453, 129138, 182429, 123962,\n",
              "        46540, 184347,  81788, 191249, 122961, 179218,  91861,   8287,\n",
              "        63997, 194274, 148953,  50027, 161734,  49570, 184843,  78034,\n",
              "        92440, 153694,  86387, 176809,  29744, 118005, 166854, 137350,\n",
              "        86828, 150288, 117787,  23960,  22594, 188006,  13100, 172979])"
            ]
          },
          "metadata": {},
          "execution_count": 52
        },
        {
          "output_type": "stream",
          "name": "stdout",
          "text": [
            "\n",
            "=====\n",
            "\n"
          ]
        },
        {
          "output_type": "execute_result",
          "data": {
            "text/plain": [
              "1966"
            ]
          },
          "metadata": {},
          "execution_count": 52
        },
        {
          "output_type": "stream",
          "name": "stdout",
          "text": [
            "\n",
            "=====\n",
            "\n"
          ]
        },
        {
          "output_type": "execute_result",
          "data": {
            "text/plain": [
              "198760"
            ]
          },
          "metadata": {},
          "execution_count": 52
        },
        {
          "output_type": "stream",
          "name": "stdout",
          "text": [
            "\n",
            "=====\n",
            "\n"
          ]
        },
        {
          "output_type": "execute_result",
          "data": {
            "text/plain": [
              "128"
            ]
          },
          "metadata": {},
          "execution_count": 52
        }
      ]
    },
    {
      "cell_type": "code",
      "source": [
        "# 7.6 Given row-points, get samples of datasets, each of 240 X 14\n",
        "#     First, get an array of zeros of requistie batch size:\n",
        "\n",
        "#  3D array          \n",
        "samples = np.zeros(\n",
        "                    (len(rows),             # 128\n",
        "                     lookback // step,      # 240\n",
        "                     float_data.shape[-1])  # 14\n",
        "                    )\n",
        "\n",
        "\n",
        "\n",
        "# 7.7 Check\n",
        "samples.shape   # (128,240,14) (batch size, no_of_points_per_hour, attributes)\n"
      ],
      "metadata": {
        "id": "j7MoPdC-43zo",
        "colab": {
          "base_uri": "https://localhost:8080/"
        },
        "outputId": "7f91c8cb-0847-4f31-941f-557327be0fa7"
      },
      "execution_count": null,
      "outputs": [
        {
          "output_type": "execute_result",
          "data": {
            "text/plain": [
              "(128, 240, 14)"
            ]
          },
          "metadata": {},
          "execution_count": 54
        }
      ]
    },
    {
      "cell_type": "markdown",
      "source": [
        "### Generate a batch of targets for 128 pts"
      ],
      "metadata": {
        "id": "ERH9Bo2ZmH52"
      }
    },
    {
      "cell_type": "code",
      "source": [
        "# 8.0 There will be as many targets as there are batches:\n",
        "targets = np.zeros((len(rows),))\n",
        "targets = np.zeros((128,))     # same as above\n",
        "targets\n",
        "print(\"\\n==========\\n\")\n",
        "len(targets)    # 128"
      ],
      "metadata": {
        "colab": {
          "base_uri": "https://localhost:8080/"
        },
        "id": "1zFFUM9N5zBz",
        "outputId": "54309bd8-d6e2-4b5f-fc51-8cc1ccd94f4f"
      },
      "execution_count": null,
      "outputs": [
        {
          "output_type": "execute_result",
          "data": {
            "text/plain": [
              "array([0., 0., 0., 0., 0., 0., 0., 0., 0., 0., 0., 0., 0., 0., 0., 0., 0.,\n",
              "       0., 0., 0., 0., 0., 0., 0., 0., 0., 0., 0., 0., 0., 0., 0., 0., 0.,\n",
              "       0., 0., 0., 0., 0., 0., 0., 0., 0., 0., 0., 0., 0., 0., 0., 0., 0.,\n",
              "       0., 0., 0., 0., 0., 0., 0., 0., 0., 0., 0., 0., 0., 0., 0., 0., 0.,\n",
              "       0., 0., 0., 0., 0., 0., 0., 0., 0., 0., 0., 0., 0., 0., 0., 0., 0.,\n",
              "       0., 0., 0., 0., 0., 0., 0., 0., 0., 0., 0., 0., 0., 0., 0., 0., 0.,\n",
              "       0., 0., 0., 0., 0., 0., 0., 0., 0., 0., 0., 0., 0., 0., 0., 0., 0.,\n",
              "       0., 0., 0., 0., 0., 0., 0., 0., 0.])"
            ]
          },
          "metadata": {},
          "execution_count": 55
        },
        {
          "output_type": "stream",
          "name": "stdout",
          "text": [
            "\n",
            "==========\n",
            "\n"
          ]
        },
        {
          "output_type": "execute_result",
          "data": {
            "text/plain": [
              "128"
            ]
          },
          "metadata": {},
          "execution_count": 55
        }
      ]
    },
    {
      "cell_type": "code",
      "source": [
        "# 8.1 Prepare to fill in first batch \n",
        "#     into our 3D zero-array\n",
        "\n",
        "j = 0                 # Later we can loop on this 'j'\n",
        "row = rows[j]         # First point of 128 set taken above\n",
        "row"
      ],
      "metadata": {
        "colab": {
          "base_uri": "https://localhost:8080/"
        },
        "id": "tYIUJkWI5zYq",
        "outputId": "ba4c49cd-3f15-4ea3-cc56-0f85528d137a"
      },
      "execution_count": null,
      "outputs": [
        {
          "output_type": "execute_result",
          "data": {
            "text/plain": [
              "88072"
            ]
          },
          "metadata": {},
          "execution_count": 57
        }
      ]
    },
    {
      "cell_type": "code",
      "source": [
        "# 8.2 Our prediction datapoint is 'delay' timesteps ahead\n",
        "#     And in the data, temperature is at index 1\n",
        "\n",
        "targets[j] = float_data[rows[j] + delay][1]   # Taregt value is the value in IInd column\n",
        "\n",
        "# 8.3                                         #  at the end of rows[j] + delay\n",
        "targets[j]"
      ],
      "metadata": {
        "colab": {
          "base_uri": "https://localhost:8080/"
        },
        "id": "WXvakOYFtmVO",
        "outputId": "1baebec5-a6e3-4ac2-e6e6-7337667eabfa"
      },
      "execution_count": null,
      "outputs": [
        {
          "output_type": "execute_result",
          "data": {
            "text/plain": [
              "0.7467158003234955"
            ]
          },
          "metadata": {},
          "execution_count": 58
        }
      ]
    },
    {
      "cell_type": "markdown",
      "source": [
        "### Fill in data for each one of 128 batch-pts\n",
        "Go `lookup` pts behind and move ahead by `step`"
      ],
      "metadata": {
        "id": "NaX54przuIqm"
      }
    },
    {
      "cell_type": "code",
      "source": [
        "# 8.4 Whereever I am standing (say at, 1000), I go behind\n",
        "#     'lookback' timesteps (say 100). From there, I proceed\n",
        "#      forward, every 6-datapoints upto where I am standing\n",
        "#       (ie upto 1000). So I collect 240 datapoints:\n",
        "#        Try: indicies = list(range(1000-100, 1000, 6))"
      ],
      "metadata": {
        "id": "Hw-aiP0U6Ez6"
      },
      "execution_count": null,
      "outputs": []
    },
    {
      "cell_type": "code",
      "source": [
        "#  8.5 Get indices of those 240 datapoints at intervals of 6 (step)\n",
        "#      beginning from  jth index of rows[j]\n",
        "\n",
        "indices = range(rows[j] - lookback, rows[j], step)   # 1440 timesteps values but in steps of 6\n",
        "indices   # range(195492, 196932, 6)\n"
      ],
      "metadata": {
        "id": "EzUGavPw75Xc",
        "colab": {
          "base_uri": "https://localhost:8080/"
        },
        "outputId": "3f97f529-c426-4189-a13b-27dbcd67e707"
      },
      "execution_count": null,
      "outputs": [
        {
          "output_type": "execute_result",
          "data": {
            "text/plain": [
              "range(86632, 88072, 6)"
            ]
          },
          "metadata": {},
          "execution_count": 63
        }
      ]
    },
    {
      "cell_type": "code",
      "source": [
        "# 8.6\n",
        "print(\"\\n=========\\n\")\n",
        "len(indices)      # total: 240 points\n",
        "print(\"\\n=========\\n\")\n",
        "list(indices)     # What are the points. Spaced at interval of 6"
      ],
      "metadata": {
        "id": "GAJb-r619GCh"
      },
      "execution_count": null,
      "outputs": []
    },
    {
      "cell_type": "code",
      "source": [
        "# 8.7 Finally, fill our zero-sample with data at these indicies:\n",
        "\n",
        "samples[j] = float_data[indices]          # 240 points\n",
        "samples[j].shape                          # 240 X 14\n",
        "print(\"\\n========\\n\")\n",
        "\n",
        "# 8.8 Just have a look\n",
        "samples[j]"
      ],
      "metadata": {
        "id": "9ycRruvTHRrP",
        "colab": {
          "base_uri": "https://localhost:8080/"
        },
        "outputId": "333ec6d6-658d-45aa-d62a-9517393fe420"
      },
      "execution_count": null,
      "outputs": [
        {
          "output_type": "execute_result",
          "data": {
            "text/plain": [
              "(240, 14)"
            ]
          },
          "metadata": {},
          "execution_count": 65
        },
        {
          "output_type": "stream",
          "name": "stdout",
          "text": [
            "\n",
            "========\n",
            "\n"
          ]
        },
        {
          "output_type": "execute_result",
          "data": {
            "text/plain": [
              "array([[-9.21552098e-01,  1.41034686e+00,  1.47890189e+00, ...,\n",
              "         1.61624219e-02,  3.33751088e-02,  1.09892149e+00],\n",
              "       [-8.65325222e-01,  1.36285989e+00,  1.42598705e+00, ...,\n",
              "         3.34283990e-02,  4.38073409e-02,  9.67405743e-01],\n",
              "       [-7.77983707e-01,  1.23939354e+00,  1.29664246e+00, ...,\n",
              "         1.78431790e-02,  4.72847561e-02,  1.14160659e+00],\n",
              "       ...,\n",
              "       [ 5.73936768e-01,  6.46993049e-01,  5.95834816e-01, ...,\n",
              "         2.22742731e-02,  3.04772616e-02, -1.28024576e+00],\n",
              "       [ 5.34453817e-01,  7.91828592e-01,  7.42816496e-01, ...,\n",
              "        -4.77066321e-03,  1.49883437e-03, -1.87483570e+00],\n",
              "       [ 5.04544040e-01,  9.37851111e-01,  8.89798175e-01, ...,\n",
              "         2.25796448e-03,  1.30902060e-02, -1.56831156e+00]])"
            ]
          },
          "metadata": {},
          "execution_count": 65
        }
      ]
    },
    {
      "cell_type": "markdown",
      "source": [
        "## Validation data generator--demo"
      ],
      "metadata": {
        "id": "FlmmnDYlz_MN"
      }
    },
    {
      "cell_type": "code",
      "source": [
        "#############################\n",
        "###### Case 2   Validation data generator\n",
        "#############################"
      ],
      "metadata": {
        "id": "l0p-CByeHg5H"
      },
      "execution_count": null,
      "outputs": []
    },
    {
      "cell_type": "code",
      "source": [
        "# 9. We will have min_index = 200001 and max_index = 300000 and shuffle = False\n",
        "#    Other constants remain same:\n",
        "\n",
        "min_index = 200001\n",
        "max_index = 300000\n",
        "shuffle = False"
      ],
      "metadata": {
        "id": "i-3PvLs8Hh02"
      },
      "execution_count": null,
      "outputs": []
    },
    {
      "cell_type": "code",
      "source": [
        "# 9.1   We have to get 128 consecutive points from where to pickup\n",
        "#       128 batches of 240 X 14\n",
        "\n",
        "# 9.1.1 Start here:\n",
        "\n",
        "i = min_index + lookback     # Outside while 1\n",
        "\n",
        "if shuffle:\n",
        "    rows = np.random.randint(min_index + lookback, max_index, size=batch_size)\n",
        "else:\n",
        "    # 9.1.2 Set i\n",
        "    if i + batch_size >= max_index:  # If unable to get list of 128 points ahead\n",
        "                                     #   to get 128 batches of (240 X 14)\n",
        "        i = min_index + lookback     #  start afresh. min_index for validation is 200001\n",
        "    \n",
        "    # 9.1.3\n",
        "    rows = np.arange(i,\n",
        "                     min(i + batch_size, max_index)\n",
        "                     )  # Get a list of all 128 points from i upto limit\n",
        "                                                         \n",
        "   # 9.3.4 Advance i by 128 pts\n",
        "    i += len(rows)                     # Advance i by 128 steps to get next 128 batches"
      ],
      "metadata": {
        "id": "YHE0N5pQHs-0"
      },
      "execution_count": null,
      "outputs": []
    },
    {
      "cell_type": "code",
      "source": [
        "# 10\n",
        "i              # Next batch begins at: 200001 + 1440 + 128 = 201569\n",
        "print(\"\\n===========\\n\")\n",
        "len(rows)                    # 128\n",
        "print(\"\\n===========\\n\")\n",
        "rows           # Just list them"
      ],
      "metadata": {
        "id": "CTSrc6eWH4GX",
        "colab": {
          "base_uri": "https://localhost:8080/"
        },
        "outputId": "908408f9-716b-4745-d4fa-13d97a6ca988"
      },
      "execution_count": null,
      "outputs": [
        {
          "output_type": "execute_result",
          "data": {
            "text/plain": [
              "201569"
            ]
          },
          "metadata": {},
          "execution_count": 86
        },
        {
          "output_type": "stream",
          "name": "stdout",
          "text": [
            "\n",
            "===========\n",
            "\n"
          ]
        },
        {
          "output_type": "execute_result",
          "data": {
            "text/plain": [
              "128"
            ]
          },
          "metadata": {},
          "execution_count": 86
        },
        {
          "output_type": "stream",
          "name": "stdout",
          "text": [
            "\n",
            "===========\n",
            "\n"
          ]
        },
        {
          "output_type": "execute_result",
          "data": {
            "text/plain": [
              "array([201441, 201442, 201443, 201444, 201445, 201446, 201447, 201448,\n",
              "       201449, 201450, 201451, 201452, 201453, 201454, 201455, 201456,\n",
              "       201457, 201458, 201459, 201460, 201461, 201462, 201463, 201464,\n",
              "       201465, 201466, 201467, 201468, 201469, 201470, 201471, 201472,\n",
              "       201473, 201474, 201475, 201476, 201477, 201478, 201479, 201480,\n",
              "       201481, 201482, 201483, 201484, 201485, 201486, 201487, 201488,\n",
              "       201489, 201490, 201491, 201492, 201493, 201494, 201495, 201496,\n",
              "       201497, 201498, 201499, 201500, 201501, 201502, 201503, 201504,\n",
              "       201505, 201506, 201507, 201508, 201509, 201510, 201511, 201512,\n",
              "       201513, 201514, 201515, 201516, 201517, 201518, 201519, 201520,\n",
              "       201521, 201522, 201523, 201524, 201525, 201526, 201527, 201528,\n",
              "       201529, 201530, 201531, 201532, 201533, 201534, 201535, 201536,\n",
              "       201537, 201538, 201539, 201540, 201541, 201542, 201543, 201544,\n",
              "       201545, 201546, 201547, 201548, 201549, 201550, 201551, 201552,\n",
              "       201553, 201554, 201555, 201556, 201557, 201558, 201559, 201560,\n",
              "       201561, 201562, 201563, 201564, 201565, 201566, 201567, 201568])"
            ]
          },
          "metadata": {},
          "execution_count": 86
        }
      ]
    },
    {
      "cell_type": "code",
      "source": [
        "# 11. Get a zero-filled array of 128 X 240 X 14\n",
        "#     Now get\n",
        "#     \n",
        "samples = np.zeros(\n",
        "                    (len(rows),              # 128\n",
        "                     lookback // step,       # 240\n",
        "                     float_data.shape[-1])   # 14\n",
        "                    )\n",
        "\n",
        "\n",
        "# 11.0.1\n",
        "samples.shape   # (128,240,14) (batch size, no_of_points_per_hour, attributes)"
      ],
      "metadata": {
        "id": "dRyEZWY5IL78",
        "colab": {
          "base_uri": "https://localhost:8080/"
        },
        "outputId": "fad4377d-647e-4978-8c82-91c7755c9532"
      },
      "execution_count": null,
      "outputs": [
        {
          "output_type": "execute_result",
          "data": {
            "text/plain": [
              "(128, 240, 14)"
            ]
          },
          "metadata": {},
          "execution_count": 87
        }
      ]
    },
    {
      "cell_type": "code",
      "source": [
        "# 11.1 There will be as many targets as there are batches:\n",
        "\n",
        "targets = np.zeros((len(rows),))\n",
        "targets\n",
        "len(targets)    # 128"
      ],
      "metadata": {
        "id": "5ovs9STvIRWl",
        "colab": {
          "base_uri": "https://localhost:8080/"
        },
        "outputId": "e89a081b-bec7-4ab4-c916-cf66e35b757e"
      },
      "execution_count": null,
      "outputs": [
        {
          "output_type": "execute_result",
          "data": {
            "text/plain": [
              "array([0., 0., 0., 0., 0., 0., 0., 0., 0., 0., 0., 0., 0., 0., 0., 0., 0.,\n",
              "       0., 0., 0., 0., 0., 0., 0., 0., 0., 0., 0., 0., 0., 0., 0., 0., 0.,\n",
              "       0., 0., 0., 0., 0., 0., 0., 0., 0., 0., 0., 0., 0., 0., 0., 0., 0.,\n",
              "       0., 0., 0., 0., 0., 0., 0., 0., 0., 0., 0., 0., 0., 0., 0., 0., 0.,\n",
              "       0., 0., 0., 0., 0., 0., 0., 0., 0., 0., 0., 0., 0., 0., 0., 0., 0.,\n",
              "       0., 0., 0., 0., 0., 0., 0., 0., 0., 0., 0., 0., 0., 0., 0., 0., 0.,\n",
              "       0., 0., 0., 0., 0., 0., 0., 0., 0., 0., 0., 0., 0., 0., 0., 0., 0.,\n",
              "       0., 0., 0., 0., 0., 0., 0., 0., 0.])"
            ]
          },
          "metadata": {},
          "execution_count": 88
        },
        {
          "output_type": "execute_result",
          "data": {
            "text/plain": [
              "128"
            ]
          },
          "metadata": {},
          "execution_count": 88
        }
      ]
    },
    {
      "cell_type": "code",
      "source": [
        "# 12. Fill the batch with data:\n",
        "\n",
        "row = rows[0]    # First data point to start first batch from\n",
        "j = 0\n",
        "row              # 201441"
      ],
      "metadata": {
        "id": "xpSPJeupIUzd",
        "colab": {
          "base_uri": "https://localhost:8080/"
        },
        "outputId": "46173c54-1eec-4c37-eb6b-c82005c39dd6"
      },
      "execution_count": null,
      "outputs": [
        {
          "output_type": "execute_result",
          "data": {
            "text/plain": [
              "201441"
            ]
          },
          "metadata": {},
          "execution_count": 90
        }
      ]
    },
    {
      "cell_type": "code",
      "source": [
        "# 12.1 Whereever I am standing, I go loopback back\n",
        "#      From there, I proceed forward, every 6-datapoints\n",
        "#      So I collect 240 datapoints\n",
        "#  Get indices of those 240 datapoints\n",
        "\n",
        "#                    200001          201441   6\n",
        "indices = range(rows[j] - lookback, rows[j], step)   # 1440 timesteps values but in steps of 6\n",
        "print(\"\\n============\\n\")\n",
        "indices   # rrange(200001, 201441, 6)\n",
        "print(\"\\n============\\n\")\n",
        "len(indices)      # total: 240 points"
      ],
      "metadata": {
        "id": "2POyp6WAIbEu",
        "colab": {
          "base_uri": "https://localhost:8080/"
        },
        "outputId": "5780ac6c-a1e3-4eae-e9fc-a070af3ec65d"
      },
      "execution_count": null,
      "outputs": [
        {
          "output_type": "stream",
          "name": "stdout",
          "text": [
            "\n",
            "============\n",
            "\n"
          ]
        },
        {
          "output_type": "execute_result",
          "data": {
            "text/plain": [
              "range(200001, 201441, 6)"
            ]
          },
          "metadata": {},
          "execution_count": 91
        },
        {
          "output_type": "stream",
          "name": "stdout",
          "text": [
            "\n",
            "============\n",
            "\n"
          ]
        },
        {
          "output_type": "execute_result",
          "data": {
            "text/plain": [
              "240"
            ]
          },
          "metadata": {},
          "execution_count": 91
        }
      ]
    },
    {
      "cell_type": "code",
      "source": [
        "# 12.2\n",
        "samples[j] = float_data[indices]          # 240 points\n",
        "samples[j].shape                          # 240 X 14"
      ],
      "metadata": {
        "id": "QHQjSscRIgkE",
        "colab": {
          "base_uri": "https://localhost:8080/"
        },
        "outputId": "d2672297-515a-4e1a-b371-8788efb9ecd6"
      },
      "execution_count": null,
      "outputs": [
        {
          "output_type": "execute_result",
          "data": {
            "text/plain": [
              "(240, 14)"
            ]
          },
          "metadata": {},
          "execution_count": 92
        }
      ]
    },
    {
      "cell_type": "code",
      "source": [
        "# 12.3\n",
        "samples[j]"
      ],
      "metadata": {
        "id": "e0MaxZWeIrpO",
        "colab": {
          "base_uri": "https://localhost:8080/"
        },
        "outputId": "6c8c261c-1211-40f1-d85b-c5287dc87b39"
      },
      "execution_count": null,
      "outputs": [
        {
          "output_type": "execute_result",
          "data": {
            "text/plain": [
              "array([[ 2.12046670e-02,  5.05719228e-01,  5.00590975e-01, ...,\n",
              "         8.36981378e-03,  4.39667468e-03,  3.74430818e-01],\n",
              "       [ 3.67583354e-02,  4.04809274e-01,  3.98292301e-01, ...,\n",
              "        -3.70108872e-03, -1.06721087e-02,  2.05998388e-01],\n",
              "       [ 5.35022610e-02,  2.02989480e-01,  1.97222369e-01, ...,\n",
              "        -1.50080107e-02, -2.74795981e-02,  3.51357868e-01],\n",
              "       ...,\n",
              "       [-4.82478612e-01, -9.85373071e-01, -9.42179895e-01, ...,\n",
              "        -4.92368885e-04, -8.35383304e-03, -1.06640158e-01],\n",
              "       [-5.49476221e-01, -9.31950173e-01, -8.83387224e-01, ...,\n",
              "         1.38704769e-02,  1.61329417e-02,  2.90214515e-01],\n",
              "       [-5.91346988e-01, -9.55693686e-01, -9.04555313e-01, ...,\n",
              "         2.10519007e-02,  1.43942376e-02,  3.06438254e-02]])"
            ]
          },
          "metadata": {},
          "execution_count": 93
        }
      ]
    },
    {
      "cell_type": "code",
      "source": [
        "# 13. Our prediction datapoint is delay timesteps ahead:\n",
        "\n",
        "targets[j] = float_data[rows[j] + delay][1]   # Taregt value is the value in IInd column\n",
        "                                              #  at the end of rows[j] + delay\n",
        "# 13.1\n",
        "targets[0]"
      ],
      "metadata": {
        "id": "tJYxQ6rfIukt",
        "colab": {
          "base_uri": "https://localhost:8080/"
        },
        "outputId": "e4d30c55-097a-4caa-f2ca-e8f4cd83ad09"
      },
      "execution_count": null,
      "outputs": [
        {
          "output_type": "execute_result",
          "data": {
            "text/plain": [
              "-0.803735225535884"
            ]
          },
          "metadata": {},
          "execution_count": 94
        }
      ]
    },
    {
      "cell_type": "code",
      "source": [
        "# So finally return this sample and target\n",
        "#   yield samples, targets"
      ],
      "metadata": {
        "id": "FMXlhYUwIvym"
      },
      "execution_count": null,
      "outputs": []
    },
    {
      "cell_type": "markdown",
      "source": [
        "## Test data generator--demo"
      ],
      "metadata": {
        "id": "4TClAol_0FaV"
      }
    },
    {
      "cell_type": "code",
      "source": [
        "#############################\n",
        "###### Case 3   Test data generator\n",
        "#############################"
      ],
      "metadata": {
        "id": "R15chj7yI1WB"
      },
      "execution_count": null,
      "outputs": []
    },
    {
      "cell_type": "markdown",
      "source": [
        "## Generator psuedo-code"
      ],
      "metadata": {
        "id": "Wa9N6qfUxEEr"
      }
    },
    {
      "cell_type": "code",
      "source": [
        "# 14. Finally use all above to define a generator to generate data:\n",
        "###\n",
        "#     For training data: max_index: 200000, min_index: 0,     shuffle: True \n",
        "#     For valid    data:          : 300000, min_index: 200001 shuffle: False\n",
        "#     For test     data:          : None,   min_index: 300001 shuffle: False\n",
        "###\n",
        "\n",
        "## Our generator:\n",
        "#    def generator(min_index, max_index, shuffle):\n",
        "#\n",
        "#       If max_index in None, then\n",
        "#           set max_index = (noOfRowsInData - 1) - delay \n",
        "#\n",
        "#       set start pointer,i, to lookback ahead of min_index   \n",
        "#        i = min_index + lookback\n",
        "#   \n",
        "#        while True:\n",
        "#          ToGet 128 points from where to lookback & pick up data\n",
        "#\t\t   \t\t   For training data:\n",
        "#\t\t\t\t\t      Select 128 random points between (0 + lookback, 200000)\n",
        "#\t\t\t\t     For validation/test data:\n",
        "#               Set pointer to i = 200001 (valid) or 300001 (test) + lookback\n",
        "#\t\t\t\t\t         Get next 128 datapoints sequentially\n",
        "#            Advance pointer by 128 ( i = i +128)\n",
        "#\n",
        "#\t\t \t     Now we have 128 points either for training data or for validation/test data\n",
        "#\t\t\t\t     create zero-array of size 128 X 240 X 14\n",
        "#\t\t   \t\t       Fill each one of the 128 zero-arrays with, 240 X 14 values\n",
        "#          \t Get an array of 128 targets at 'delay' distance\n",
        "#          yield sample, target\n",
        "#\n",
        "# SSSSSSSSSSSSSSSS CORRECT upto here SSSSSSSSSSSSsss"
      ],
      "metadata": {
        "id": "ng6NdIj4I6P1"
      },
      "execution_count": null,
      "outputs": []
    },
    {
      "cell_type": "markdown",
      "source": [
        "## Full generator code"
      ],
      "metadata": {
        "id": "VXr8G6sv0JFu"
      }
    },
    {
      "cell_type": "code",
      "source": [
        "def generator(data, lookback, delay, min_index, \n",
        "              max_index,shuffle=False, batch_size=128, step=6):\n",
        "\n",
        "    if max_index is None:       # Only for test data we don't set max_index\n",
        "        max_index = len(data) - delay - 1\n",
        "\n",
        "    # 14.1 min_index = (train)0, (valid)200001, (test)300001\n",
        "    i = min_index + lookback\n",
        "\n",
        "    while 1:\n",
        "        if shuffle:         #14.2 True for train data, False for valid & test data\n",
        "            batch_pts = np.random.randint(min_index + lookback,    # lower limit, min_index = 0\n",
        "                                     max_index,               # Upto here, max_index = 200000\n",
        "                                     size=batch_size          # Select any 128 pts\n",
        "                                     )\n",
        "        else:              #14.3 For validation generator rows are between (200001, 207201)\n",
        "            if i + batch_size >= max_index:\n",
        "                i = min_index + lookback\n",
        "            #14.4 Starting i is 'min_index + lookback'\n",
        "            batch_pts = np.arange(i, min(i + batch_size, max_index))   # No random rows picking\n",
        "                                                                  # Normal length of 'rows'\n",
        "\t\t\t\t\t\t\t\t\t\t\t\t\t\t\t\t                                  #  is batch_size or less\n",
        "\n",
        "            #14.5 Value of this 'i' will be preserved between calls to generator()\n",
        "            i += len(batch_pts)   # Next i for valid and test is 128 distance away\n",
        "\n",
        "        # 14.1 Create empty sample (128 X 240 X 14)\n",
        "        #                      128            240                14\n",
        "        samples = np.zeros((len(batch_pts), lookback // step, data.shape[-1]))\n",
        "        # 14.2 Create 128 empty targets\n",
        "        targets = np.zeros((len(batch_pts),))\n",
        "\n",
        "        # 14.3 For every one of the 128 points...\n",
        "        for j, row in enumerate(batch_pts):\n",
        "            # 14.4 Set read-pointer to 'lookback' behind\n",
        "            #      from this batch_pts[j] and pick next 240 points\n",
        "            #      at intervals of 6 points\n",
        "            indices = range(batch_pts[j] - lookback, batch_pts[j], step)\n",
        "            # 14.5 Get data into our sample\n",
        "            samples[j] = data[indices]\n",
        "            # 14.6 Get targets (temperature: IINd columns).\n",
        "            #      index [1] => IInd column or temperatue column\n",
        "            targets[j] = data[batch_pts[j] + delay][1]\n",
        "        # 14.7 Return objects per call\n",
        "        yield samples, targets\n"
      ],
      "metadata": {
        "id": "jVybiAf4JAw1"
      },
      "execution_count": 36,
      "outputs": []
    },
    {
      "cell_type": "code",
      "source": [
        "# 15. Our common constants\n",
        "lookback = 1440\n",
        "step = 6\n",
        "delay = 144\n",
        "batch_size = 128"
      ],
      "metadata": {
        "id": "8pfHRUEPJHWu"
      },
      "execution_count": 37,
      "outputs": []
    },
    {
      "cell_type": "markdown",
      "source": [
        "## Train generator"
      ],
      "metadata": {
        "id": "MyJChMbu0WDt"
      }
    },
    {
      "cell_type": "code",
      "source": [
        "# 16. train data generator\n",
        "train_gen = generator(float_data,\n",
        "                       lookback=lookback,\n",
        "                       delay=delay,\n",
        "                       min_index=0,\n",
        "                       max_index=200000,\n",
        "                       shuffle=True,\n",
        "                       step=step,\n",
        "                       batch_size=batch_size)"
      ],
      "metadata": {
        "id": "NO1RSEs3JKbt"
      },
      "execution_count": 38,
      "outputs": []
    },
    {
      "cell_type": "markdown",
      "source": [
        "### Some expts with train generator"
      ],
      "metadata": {
        "id": "ea53s5Jp5K3A"
      }
    },
    {
      "cell_type": "code",
      "source": [
        "# 16.1 Have a look. Run for-loop twice to see change.\n",
        "for samples, targets in train_gen:\n",
        "    print(targets[0])\n",
        "    print(samples[0])\n",
        "    print(samples[0].shape)\n",
        "    break"
      ],
      "metadata": {
        "id": "eKke64ODJLRQ",
        "colab": {
          "base_uri": "https://localhost:8080/"
        },
        "outputId": "28eea40f-f7d2-40af-846e-92178485b67a"
      },
      "execution_count": null,
      "outputs": [
        {
          "output_type": "stream",
          "name": "stdout",
          "text": [
            "2.306664191950883\n",
            "[[-0.9945302   1.48039023  1.55415465 ...  0.0208991   0.0391708\n",
            "  -1.81184653]\n",
            " [-0.98256921  1.17528619  1.24960904 ...  0.00332754  0.03743209\n",
            "   1.12084072]\n",
            " [-0.92274966  0.99483548  1.06499919 ...  0.00943939  0.02757942\n",
            "   1.2212082 ]\n",
            " ...\n",
            " [ 0.35379759  1.90777341  1.86458168 ...  0.03480356  0.03685252\n",
            "  -1.45317754]\n",
            " [ 0.32508538  1.95169878  1.91043809 ...  0.04060982  0.0426482\n",
            "  -1.53220238]\n",
            " [ 0.31072927  1.98968835  1.95041668 ...  0.02823332  0.03801165\n",
            "  -1.37219148]]\n",
            "(240, 14)\n"
          ]
        }
      ]
    },
    {
      "cell_type": "code",
      "source": [
        "# 16.2\n",
        "a = train_gen\n",
        "\n",
        "# 16.2.1 Get first set of dataset\n",
        "s = next(a)\n",
        "print(\"\\n==============\\n\")\n",
        "type(s)            # Tuple\n",
        "print(\"\\n==============\\n\")\n",
        "s[0].shape         # (128,240,1)\n",
        "print(\"\\n==============\\n\")\n",
        "s[1].shape         # (128,)\n",
        "\n",
        "# 16.2.2 Get next set of dataset\n",
        "t = next(a)\n",
        "print(\"\\n==============\\n\")\n",
        "t[0].shape\n",
        "print(\"\\n==============\\n\")\n",
        "t[1].shape\n"
      ],
      "metadata": {
        "id": "9xYul9vcJRLl",
        "colab": {
          "base_uri": "https://localhost:8080/"
        },
        "outputId": "0d95ed86-8a7b-4791-f7ed-4b5cce1f1ef8"
      },
      "execution_count": null,
      "outputs": [
        {
          "output_type": "stream",
          "name": "stdout",
          "text": [
            "\n",
            "==============\n",
            "\n"
          ]
        },
        {
          "output_type": "execute_result",
          "data": {
            "text/plain": [
              "tuple"
            ]
          },
          "metadata": {},
          "execution_count": 33
        },
        {
          "output_type": "stream",
          "name": "stdout",
          "text": [
            "\n",
            "==============\n",
            "\n"
          ]
        },
        {
          "output_type": "execute_result",
          "data": {
            "text/plain": [
              "(128, 240, 14)"
            ]
          },
          "metadata": {},
          "execution_count": 33
        },
        {
          "output_type": "stream",
          "name": "stdout",
          "text": [
            "\n",
            "==============\n",
            "\n"
          ]
        },
        {
          "output_type": "execute_result",
          "data": {
            "text/plain": [
              "(128,)"
            ]
          },
          "metadata": {},
          "execution_count": 33
        },
        {
          "output_type": "stream",
          "name": "stdout",
          "text": [
            "\n",
            "==============\n",
            "\n"
          ]
        },
        {
          "output_type": "execute_result",
          "data": {
            "text/plain": [
              "(128, 240, 14)"
            ]
          },
          "metadata": {},
          "execution_count": 33
        },
        {
          "output_type": "stream",
          "name": "stdout",
          "text": [
            "\n",
            "==============\n",
            "\n"
          ]
        },
        {
          "output_type": "execute_result",
          "data": {
            "text/plain": [
              "(128,)"
            ]
          },
          "metadata": {},
          "execution_count": 33
        }
      ]
    },
    {
      "cell_type": "markdown",
      "source": [
        "## Validation generator"
      ],
      "metadata": {
        "id": "MEBEdi9a1T3g"
      }
    },
    {
      "cell_type": "code",
      "source": [
        "# 17. Validation data generator\n",
        "val_gen = generator(\n",
        "                   float_data,\n",
        "                   lookback=lookback,\n",
        "                   delay=delay,\n",
        "                   min_index=200001,\n",
        "                   max_index= 300000,              # 207201, 300000, 200001 + 1440 *5\n",
        "                   step=step,\n",
        "                   batch_size=batch_size\n",
        "                   )\n"
      ],
      "metadata": {
        "id": "pLchRVc8JR-E"
      },
      "execution_count": 40,
      "outputs": []
    },
    {
      "cell_type": "code",
      "source": [
        "# 18 How many times to draw from validation generator\n",
        "#    in order to see all validation data:\n",
        "\n",
        "val_steps = (300000 - 200001 - lookback)    # Instead of 300000-200001 - lookback to save time\n",
        "\n",
        "val_steps        # 98559\n",
        "\n",
        "# At the end of each epoch, validation follows.\n",
        "# These many validation steps, take a long time\n",
        "# for epoch to complete. As time is important\n",
        "# to us, we will limit val_steps to 400, so:\n",
        "\n",
        "# 18.1\n",
        "val_steps = 400"
      ],
      "metadata": {
        "id": "Kkw1xgGLFJs4",
        "colab": {
          "base_uri": "https://localhost:8080/"
        },
        "outputId": "08f51ddd-bf09-49e7-ee3d-4c79c8ecae19"
      },
      "execution_count": 41,
      "outputs": [
        {
          "output_type": "execute_result",
          "data": {
            "text/plain": [
              "98559"
            ]
          },
          "metadata": {},
          "execution_count": 41
        }
      ]
    },
    {
      "cell_type": "markdown",
      "source": [
        "## Test generator"
      ],
      "metadata": {
        "id": "3XM6Hbgt1Wue"
      }
    },
    {
      "cell_type": "code",
      "source": [
        "# 18. Test data generator\n",
        "test_gen = generator(\n",
        "                     float_data,\n",
        "                     lookback=lookback,\n",
        "                     delay=delay,\n",
        "                     min_index=300001,\n",
        "                     max_index=None,\n",
        "                     step=step,\n",
        "                     batch_size=batch_size)"
      ],
      "metadata": {
        "id": "RnJsZtmyJW4e"
      },
      "execution_count": 42,
      "outputs": []
    },
    {
      "cell_type": "code",
      "source": [
        "# 20\n",
        "test_steps = (len(float_data) - 300001 - lookback)\n",
        "test_steps\n"
      ],
      "metadata": {
        "id": "ZpfBDSHOJd1m",
        "colab": {
          "base_uri": "https://localhost:8080/"
        },
        "outputId": "011b8211-3a4d-4d63-faeb-e7f5a6fdc801"
      },
      "execution_count": 43,
      "outputs": [
        {
          "output_type": "execute_result",
          "data": {
            "text/plain": [
              "119110"
            ]
          },
          "metadata": {},
          "execution_count": 43
        }
      ]
    },
    {
      "cell_type": "markdown",
      "source": [
        "## Models"
      ],
      "metadata": {
        "id": "N8EIRRj61eHf"
      }
    },
    {
      "cell_type": "markdown",
      "source": [
        "### Simple Model"
      ],
      "metadata": {
        "id": "8k3dBZqe9jLX"
      }
    },
    {
      "cell_type": "code",
      "source": [
        "####################################################\n",
        "## 21. We will work with:\n",
        "#              i) Fully connected model\n",
        "#             ii) GRU model\n",
        "#            iii) GRU model with dropouts\n",
        "#             iv) Stacked GRU models"
      ],
      "metadata": {
        "id": "ooQlcOwrJlEV"
      },
      "execution_count": null,
      "outputs": []
    },
    {
      "cell_type": "code",
      "source": [
        "###################################\n",
        "### AA. Fully connected model\n",
        "###################################\n",
        "\n"
      ],
      "metadata": {
        "id": "UNp0GfmWKdcZ"
      },
      "execution_count": null,
      "outputs": []
    },
    {
      "cell_type": "code",
      "source": [
        "# 22.1 Model design: Sequential\n",
        "model = tf.keras.Sequential()"
      ],
      "metadata": {
        "id": "G1ClQvJIMbuA"
      },
      "execution_count": 44,
      "outputs": []
    },
    {
      "cell_type": "code",
      "source": [
        "# Input layer                              240                14\n",
        "model.add(tf.keras.Input(shape = (lookback // step, float_data.shape[-1])))"
      ],
      "metadata": {
        "id": "7MhDCegzMyyg"
      },
      "execution_count": 45,
      "outputs": []
    },
    {
      "cell_type": "code",
      "source": [
        "# 22.2 Flatten data of one batch:\n",
        "#                                        \n",
        "model.add(layers.Flatten())\n",
        "model.summary()        # 240 X 14 = 3360\n"
      ],
      "metadata": {
        "id": "OpD2UriOMpzH",
        "outputId": "39b4a7ed-dfd5-40bf-fb98-67bc9b4cead8",
        "colab": {
          "base_uri": "https://localhost:8080/"
        }
      },
      "execution_count": 46,
      "outputs": [
        {
          "output_type": "stream",
          "name": "stdout",
          "text": [
            "Model: \"sequential\"\n",
            "_________________________________________________________________\n",
            " Layer (type)                Output Shape              Param #   \n",
            "=================================================================\n",
            " flatten (Flatten)           (None, 3360)              0         \n",
            "                                                                 \n",
            "=================================================================\n",
            "Total params: 0\n",
            "Trainable params: 0\n",
            "Non-trainable params: 0\n",
            "_________________________________________________________________\n"
          ]
        }
      ]
    },
    {
      "cell_type": "code",
      "source": [
        "# 22.3 Pass it through first hidden layer\n",
        "model.add(tf.keras.layers.Dense(32, activation='relu'))\n",
        "\n",
        "# 22.4 Pass it through output layer\n",
        "model.add(tf.keras.layers.Dense(1))\n",
        "\n",
        "# 22.5 Compile the model\n",
        "model.compile(\n",
        "             optimizer=RMSprop(),\n",
        "             loss='mae'\n",
        "             )"
      ],
      "metadata": {
        "id": "TUL9k5ryMK34"
      },
      "execution_count": 47,
      "outputs": []
    },
    {
      "cell_type": "code",
      "source": [
        "# 22.6\n",
        "model.summary()"
      ],
      "metadata": {
        "id": "wMmQaACaPs-o",
        "colab": {
          "base_uri": "https://localhost:8080/"
        },
        "outputId": "b34d0218-4107-4b46-c39c-88e4dc4389c4"
      },
      "execution_count": 48,
      "outputs": [
        {
          "output_type": "stream",
          "name": "stdout",
          "text": [
            "Model: \"sequential\"\n",
            "_________________________________________________________________\n",
            " Layer (type)                Output Shape              Param #   \n",
            "=================================================================\n",
            " flatten (Flatten)           (None, 3360)              0         \n",
            "                                                                 \n",
            " dense (Dense)               (None, 32)                107552    \n",
            "                                                                 \n",
            " dense_1 (Dense)             (None, 1)                 33        \n",
            "                                                                 \n",
            "=================================================================\n",
            "Total params: 107,585\n",
            "Trainable params: 107,585\n",
            "Non-trainable params: 0\n",
            "_________________________________________________________________\n"
          ]
        }
      ]
    },
    {
      "cell_type": "code",
      "source": [
        "# 22.7 Fit/train the model\n",
        "#      For steps_per_epoch also refer to StackOverflow\n",
        "#      please refer to complete discussion here:\n",
        "#      https://datascience.stackexchange.com/q/47405\n",
        "\n",
        "start = time.time()\n",
        "history = model.fit_generator(train_gen,\n",
        "                              steps_per_epoch=500, # No of times gen called per epoch\n",
        "                                                   #  Each call to gen yields 128 batches\n",
        "                              epochs=20,\n",
        "                              validation_data=val_gen,\n",
        "                              validation_steps=val_steps,\n",
        "                              verbose = 1)\n",
        "end = time.time()\n",
        "print((end-start)/60)    # 4 mins in Colab\n"
      ],
      "metadata": {
        "id": "_NikbTl4OuVg",
        "colab": {
          "base_uri": "https://localhost:8080/"
        },
        "outputId": "846999c2-b1c4-4b16-dfe8-2267cd1c0754"
      },
      "execution_count": 49,
      "outputs": [
        {
          "output_type": "stream",
          "name": "stderr",
          "text": [
            "<ipython-input-49-d9bf262a5dc7>:3: UserWarning: `Model.fit_generator` is deprecated and will be removed in a future version. Please use `Model.fit`, which supports generators.\n",
            "  history = model.fit_generator(train_gen,\n"
          ]
        },
        {
          "output_type": "stream",
          "name": "stdout",
          "text": [
            "Epoch 1/20\n",
            "500/500 [==============================] - 13s 25ms/step - loss: 1.0050 - val_loss: 0.3391\n",
            "Epoch 2/20\n",
            "500/500 [==============================] - 12s 25ms/step - loss: 0.3357 - val_loss: 0.3566\n",
            "Epoch 3/20\n",
            "500/500 [==============================] - 14s 27ms/step - loss: 0.2947 - val_loss: 0.3951\n",
            "Epoch 4/20\n",
            "500/500 [==============================] - 15s 29ms/step - loss: 0.2788 - val_loss: 0.3345\n",
            "Epoch 5/20\n",
            "500/500 [==============================] - 12s 24ms/step - loss: 0.2658 - val_loss: 0.3464\n",
            "Epoch 6/20\n",
            "500/500 [==============================] - 14s 28ms/step - loss: 0.2581 - val_loss: 0.3274\n",
            "Epoch 7/20\n",
            "500/500 [==============================] - 13s 27ms/step - loss: 0.2536 - val_loss: 0.3293\n",
            "Epoch 8/20\n",
            "500/500 [==============================] - 13s 27ms/step - loss: 0.2494 - val_loss: 0.3221\n",
            "Epoch 9/20\n",
            "500/500 [==============================] - 12s 23ms/step - loss: 0.2434 - val_loss: 0.3414\n",
            "Epoch 10/20\n",
            "500/500 [==============================] - 13s 26ms/step - loss: 0.2366 - val_loss: 0.3291\n",
            "Epoch 11/20\n",
            "500/500 [==============================] - 11s 21ms/step - loss: 0.2332 - val_loss: 0.3170\n",
            "Epoch 12/20\n",
            "500/500 [==============================] - 12s 25ms/step - loss: 0.2287 - val_loss: 0.3415\n",
            "Epoch 13/20\n",
            "500/500 [==============================] - 13s 26ms/step - loss: 0.2264 - val_loss: 0.3333\n",
            "Epoch 14/20\n",
            "500/500 [==============================] - 15s 30ms/step - loss: 0.2239 - val_loss: 0.3318\n",
            "Epoch 15/20\n",
            "500/500 [==============================] - 14s 27ms/step - loss: 0.2213 - val_loss: 0.3522\n",
            "Epoch 16/20\n",
            "500/500 [==============================] - 14s 27ms/step - loss: 0.2187 - val_loss: 0.3306\n",
            "Epoch 17/20\n",
            "500/500 [==============================] - 14s 27ms/step - loss: 0.2153 - val_loss: 0.3509\n",
            "Epoch 18/20\n",
            "500/500 [==============================] - 15s 31ms/step - loss: 0.2132 - val_loss: 0.3579\n",
            "Epoch 19/20\n",
            "500/500 [==============================] - 13s 26ms/step - loss: 0.2115 - val_loss: 0.3528\n",
            "Epoch 20/20\n",
            "500/500 [==============================] - 19s 37ms/step - loss: 0.2101 - val_loss: 0.3241\n",
            "5.378063253561655\n"
          ]
        }
      ]
    },
    {
      "cell_type": "code",
      "source": [
        "# 22.9\n",
        "#     Plot learning curve\n",
        "def plot_learning_curve():\n",
        "    val_loss = history.history['val_loss']\n",
        "    tr_loss=history.history['loss']\n",
        "    epochs = range(1, len(val_loss) +1)\n",
        "    plt.plot(epochs,val_loss, 'b', label = \"Validation MAE\")\n",
        "    plt.plot(epochs, tr_loss, 'r', label = \"Training MAE\")\n",
        "    plt.title(\"Training and validation MAE\")\n",
        "    plt.legend()\n",
        "    plt.show()"
      ],
      "metadata": {
        "id": "woAlyREnPXgp"
      },
      "execution_count": 51,
      "outputs": []
    },
    {
      "cell_type": "code",
      "source": [
        "# 22.8 Plot loss history\n",
        "#      This function is defined at the end\n",
        "plot_learning_curve()"
      ],
      "metadata": {
        "id": "tJQL7-VPKUkK",
        "colab": {
          "base_uri": "https://localhost:8080/",
          "height": 281
        },
        "outputId": "b1f0e396-ad28-4053-c9c2-6a8a0f533860"
      },
      "execution_count": 52,
      "outputs": [
        {
          "output_type": "display_data",
          "data": {
            "text/plain": [
              "<Figure size 432x288 with 1 Axes>"
            ],
            "image/png": "[encoded data removed]"
          },
          "metadata": {
            "needs_background": "light"
          }
        }
      ]
    },
    {
      "cell_type": "markdown",
      "source": [
        "### GRU Model"
      ],
      "metadata": {
        "id": "JMZ6fGRDQl0k"
      }
    },
    {
      "cell_type": "code",
      "source": [
        "###################################\n",
        "### BB. GRU model\n",
        "###################################"
      ],
      "metadata": {
        "id": "kw_UmgzqQpj9"
      },
      "execution_count": null,
      "outputs": []
    },
    {
      "cell_type": "code",
      "source": [
        "# 23.1 Design model\n",
        "del model\n",
        "model = Sequential()"
      ],
      "metadata": {
        "id": "r0f-UxcBQnXO"
      },
      "execution_count": 53,
      "outputs": []
    },
    {
      "cell_type": "code",
      "source": [
        "# Input layer                             240                14\n",
        "model.add(tf.keras.Input(shape = (lookback // step, float_data.shape[-1])))"
      ],
      "metadata": {
        "id": "W6CfHm1_Q-V1"
      },
      "execution_count": 54,
      "outputs": []
    },
    {
      "cell_type": "code",
      "source": [
        "# 23.2 Add a Gated Recurrent Unit layer (similar to LSTM)\n",
        "#      Input sequence has 240 values\n",
        "model.add(\n",
        "          tf.keras.layers.GRU(\n",
        "                               32\n",
        "                              )\n",
        "         )"
      ],
      "metadata": {
        "id": "DOIRMEdXRAgn"
      },
      "execution_count": 55,
      "outputs": []
    },
    {
      "cell_type": "code",
      "source": [
        "model.summary()"
      ],
      "metadata": {
        "colab": {
          "base_uri": "https://localhost:8080/"
        },
        "id": "mK9pfRVKQv-b",
        "outputId": "55217fda-1a68-41ba-fb62-9037b5d6ed21"
      },
      "execution_count": 56,
      "outputs": [
        {
          "output_type": "stream",
          "name": "stdout",
          "text": [
            "Model: \"sequential_1\"\n",
            "_________________________________________________________________\n",
            " Layer (type)                Output Shape              Param #   \n",
            "=================================================================\n",
            " gru (GRU)                   (None, 32)                4608      \n",
            "                                                                 \n",
            "=================================================================\n",
            "Total params: 4,608\n",
            "Trainable params: 4,608\n",
            "Non-trainable params: 0\n",
            "_________________________________________________________________\n"
          ]
        }
      ]
    },
    {
      "cell_type": "code",
      "source": [
        "# 23.3 Output layer\n",
        "model.add(layers.Dense(1))\n",
        "\n",
        "# 23.4 How does model look like?\n",
        "model.summary()\n"
      ],
      "metadata": {
        "colab": {
          "base_uri": "https://localhost:8080/"
        },
        "id": "fdS1f4gubSBx",
        "outputId": "47927fb8-4d77-43e1-f320-17938efcbec5"
      },
      "execution_count": 57,
      "outputs": [
        {
          "output_type": "stream",
          "name": "stdout",
          "text": [
            "Model: \"sequential_1\"\n",
            "_________________________________________________________________\n",
            " Layer (type)                Output Shape              Param #   \n",
            "=================================================================\n",
            " gru (GRU)                   (None, 32)                4608      \n",
            "                                                                 \n",
            " dense_2 (Dense)             (None, 1)                 33        \n",
            "                                                                 \n",
            "=================================================================\n",
            "Total params: 4,641\n",
            "Trainable params: 4,641\n",
            "Non-trainable params: 0\n",
            "_________________________________________________________________\n"
          ]
        }
      ]
    },
    {
      "cell_type": "markdown",
      "source": [
        "### Our model"
      ],
      "metadata": {
        "id": "AfQZD9iHaQuT"
      }
    },
    {
      "cell_type": "markdown",
      "source": [
        "![image.png](data:image/png;base64,iVBORw0KGgoAAAANSUhEUgAAAz4AAAECCAYAAAA/7AInAAAgAElEQVR4Xu2dBZxV1dqHX3Lo7hYBBUUUWxFFxQZbDOzuFvNiYYsdiIKFiq2o10QEAz/AwEBFkQ6Rku5vPwv33DPDzHDO7HP2OWef//pdLjKz94pn5X+971q7zHovmIIIiIAIiIAIiIAIiIAIiIAIRJhAGQmfCNeuiiYCIiACIiACIiACIiACIuAISPioIYiACIiACIiACIiACIiACESegIRP5KtYBRQBERABERABERABERABEZDwURsQAREQAREQAREQAREQARGIPAEJn8hXsQooAiIgAiIgAiIgAiIgAiIg4aM2IAIiIAIiIAIiIAIiIAIiEHkCEj6Rr2IVUAREQAREQAREQAREQAREQMJHbUAEREAEREAEREAEREAERCDyBCR8Il/FKqAIiIAIiIAIiIAIiIAIiICEj9qACIiACIiACIiACIiACIhA5AlI+ES+ilVAERABERABERABERABERABCR+1AREQAREQAREQAREQAREQgcgTkPCJfBWrgCIgAiIgAiIgAiIgAiIgAhI+agMiIAIiIAIiIAIiIAIiUAyBuYtXW/3qFcQnAgQkfCJQiSqCCIiACIiACIiACIhA8gmsXrvernr1d7ux52ZWs3L55CegGEMlIOETKm4lJgIiIAIiIAIiIAIikC0E3v9xnj0/eo4dsHVd671Lw2zJtvJZDAEJHzUNERABERABERABERABEShEAGvPJS9NtEXL11iFcmXs/mPbyuqT5a1EwifLK1DZz2wCX375pb388st23333WZkyZQpkdtmyZTZ06FA7/vjjLS8vL7MLotyJgAiIgAiIQI4R8K09frGP6Fzf+KOQvQQkfLK37pTzLCDQo0cP22KLLeyee+5xuUUELVy40M466yxbs2aN7bXXXnbkkUfapZdemgWlURZFQAREQAREIDcIxFp7/BJzxgerD9afVIXvvvvOypUrZx07dkxVEjkdr4RPTle/Cp9qArvvvrsTPbvuuqtL6sYbb7TJkyfb008/7f6Nxeepp56yDz/8MNVZUfwiIAIiIAIiIAJxEihs7fFf45wP530Iq1atsmeeecbeeustmz9/vu2zzz523XXXWaVKldzvf/31V3vwwQftm2++sXr16tk111xju+22W4k52H///a1OnTr24osvbvTc3LlzrVu3bta/f3/bb7/94iyJHoslIOGj9iACKSSw00472ZVXXmlHH320S+XUU0+1Dz74wKZMmWIVKlSwm266yT799FMbMWJECnOhqEVABERABERABOIlUJS1x3831uozevRou/rqq+300093vz777LPthBNOsIEDB7p/n3jiiVa+fHljExSPD+b6n376ydq2bVtsVg499FCrXbt2/gZp7INLliyxe++914455hhr3769W08ggvg7jDBz5kw7/PDD7ZNPPrFq1aqFkWTS05DwSTpSRSgC/yNw8803u0FpwIABNmnSJDcYIoY4+9OsWTP76quv3G7RSSedJGwiIAIiIAIiIAIZQGDmwpU2etI/LifLVq0zrD9YeapULOt+tkvrGtakVp6z+FSsWDE/x9dff709/vjj9vfff2941zvLW6VKFfffq1evdud5+T3u7sUFhE/z5s2tX79+9vHHH1urVq1s++23z3981qxZ1rhxY5s3b57zKHn00Uft/fffdxalWEH1119/2ezZs22bbbbJfxdX+6lTp+b/jHyy+UoeDzrooAJnkRFZpE+eDzjgAFu5cqW98sorbr3y5ptv2mabbZYfD677H330kfHODjvs4H7nh19++cW5/CMSV6xY4SxW6QwSPumkr7QjT4CBjp2gIUOGuMERtzYuM7j99tsNP96DDz5YoifyrUAFFAEREAERyFYCfLz00qET7b5ebTf5EdOuXbtagwYN7NVXX92ouIsXL7YaNWo4y4/vBVIUk969e9uECROsfv36Tiz5VqUbbrjBiINN05EjRxpub+edd54TMogN3OzwIvED72Fp4vdNmzZ1Pz7zzDOdxwnu9Vht+DfvIqKWL19u77zzjnOz++GHHwwB1rJlSydWGjVq5IQYooe1S+fOnW3LLbd0G7ds6vbs2dNZqapXr25ff/213XbbbXbOOee4NHfZZReXPu5+rVu3dtYprGDpChI+6SKvdHOKALsqCB8GPQUREAEREAEREIHsILAp4YP14/XXX3cL+6pVq9qoUaMKWIH8Ut5///127bXXGu5itWrVKrbwuMchTHCLw50NEYVQmjNnjnsPYcWZoj333NOef/55QxD9+eefRcbXokULu/jii+3yyy93FyohmvBAOeSQQ4zfceMsbnMERNvOO+9sd999txNDnTp1cpu1hOHDh7v0/vjjD/e733//3eWDwBlm4sUaROBsEhu8M2bMsCZNmli7du2cJQkPF0TV+vXrN7rlNsyWIOETJm2llXMEMEnjB8suSOHATg4DUeXKlXOOiwosAiIgAiIgAtlAYFPChwX92LFjnTDBYrL33nu7czixn7BAKOCG9tJLL1mvXr1csfnvn3/+2f03Aue4445z/42lBVHhnxNinYA1BUvRgQce6MQDYguh8uyzz9p//vMfd2lSUQFRNGzYMGelwcJDGuQT9zNc4HDHx5UNC8wLL7zghBsWmZo1a9rnn39u2223XYFoOZ+E0OHSBtzt2NTFLY9nY93xyC/5P+qoo5yrHhc7nXLKKRlR3RI+GVENykRUCRx22GHOTM0OUOHDjIsWLXKubg899NBGg0tUeahcIiACIiACIpBNBDYlfGLL8sUXX1iXLl2cdQMXLwLnbLbeemt38QHuYn4YNGiQff/99+6fiBD/ggSED65lWGb8gBB65JFHnOUnVvhwQ6x/W2xRTBFcW221lXHep0+fPrZ06VJ77rnnnDsa+bzgggvyrVOc8+H8DRYaXNLIW+F1Cy5wuM/hiof7Gm5uHTp0cM9yjscP/O6OO+5wlzsQV9++fe3kk0/OiGqX8MmIalAmokqAAWz69Onuz7vvvutMxLEB/1wGIvxkFURABERABERABDKLQEnCZ926dVa27IYLDwicp+FczGeffeYsMgsWLLA99tjD2AS99dZb4yoY3/bjkgD/pjbO5GA1wUrTpk0bd/bHt/gMHjzYCR+eKS5woRLnf9577z230Uq+cI3bfPPNnSjzXdb897mQgYsSEFW+Gxy/o6xYqHCHw5sF133O/9StW9dZd3BvI+DKh/BBDCHoED5YnrjVNhOChE8m1ILyEFkCDDYXXXSRG/zOPfdc56uLlccP3O7CwMXui4IIiIAIiIAIiEBmEShJ+PCNHty8EAjc8IbrmO8mhvvYjjvuaN9++627eY3LAxAPnIeJFRSFS8vvEDZYgPbdd1+75ZZbXJyIKf+CBG5bY33hW5gee+wxJ4p4vnB48skn3SUGWJ3Gjx+f74KHyx0ucFxEgDs+nimc4yGOSy65xK1NyDcijPM7nCvC7Q6hc9VVV7kbahF03GT3wAMPOFFFPhE5WI0490TA7Y0LnfzLDtJduxI+6a4BpR9pAgxM3Ol/2mmnOfMygw+DGv8mcHsLQijWpB1pICqcCIiACIiACGQRgZKEDxYeLgjA9QtRwzkXLjBASPBvvuPHjWlcI82/CR07dizg8lYYBRuiXArAeRouFUDQ3HnnnfkWliuuuMJtqCIuCHfddZe7DAEPkwsvvHAjsqSNSxs3r8UKLkQMggTxhEjjrA5xYwkiIIhIn3PKnM9B5BA4a4SYQkjxuQ4CoofzTZxr4gOtfMS1XLly7neIJNLGtS4TgoRPJtSC8hBZAri2Yd49//zzXRnHjRvn/Hz5m8DAgTmbQU5BBERABERABEQgswgkcsYns3Ku3BRFQMJH7UIEUkiAnZttt902/5CjnxRXQuIby00usf7BKcyKohYBERABERABEUiQgIRPgsAy/HEJnwyvIGUvOgT46jEip0KFCtEplEoiAiIgAiIgAhEmIOETrcqV8IlWfao0GUwAX198ZzPlgF8Go1LWREAEREAERCAjCEj4ZEQ1JC0TEj5JQ6mIRKBkAhwO3HLLLe3qq68WKhEQAREQAREQgSwgIOGTBZWUQBYlfBKApUdFIAgBvpjMh7646lFBBERABERABEQg8wlI+GR+HSWSQwmfRGjpWREIQOCTTz6xWrVquesuFURABERABERABDKfgIRP5tdRIjmU8EmElp4VgQQJcHMbYf369flvcs997L/5RV5enm53S5CtHhcBERABERCBVBOQ8Ek14XDjl/AJl7dSyzECnOcZMmSILV261N3mxgfM+GgYlp9ly5blCyC+iLzrrrvmGB0VVwREQAREQAQym4CET2bXT6K5k/BJlJieF4EECPA1ZT5gypedGzVq5ETPPffc475ojChatWqVi61z585Ws2bNBGLWoyIgAiIgAiIgAqkmIOGTasLhxi/hEy5vpZZjBHr27GlHHXWUnXTSSfklX7t2rXXt2tWGDh1qzZo1yzEiKq4IiIAIiIAIZA8BCZ/sqat4cirhEw8lPSMCpSTQqVMnu/XWW61Hjx4FYuB2t7vuussOOeSQUsas10RABERABERABFJNQMIn1YTDjV/CJ1zeSi3HCCBu+vbta9ddd51zZ1uwYIE999xzNm7cOPvll1+sbt26OUZExRUBERABERCB7CEg4ZM9dRVPTiV84qGkZ0QgAIEHHnjABgwYYDNmzLBKlSoZVqD+/fvb1ltvHSBWvSoCIiACIiACIpBqAhI+qSYcbvwSPuHyVmoiIAIiIAIiIAIiIAJZQkDCJ0sqKs5sSvjECUqPiUBpCHz55Zc2depU940ebnLj+z3c7Ma3fI444ggbPXq0zZw503r16lWa6PWOCIiACIiACIhACglI+KQQbhqilvBJA3QlmTsEzjvvPHvvvfc2KjDf9BkzZozddtttNmrUKPvqq69yB4pKKgIiIAIiEJjAg6+Ptjc//ylwPIqgZAJlvU3LqnWa2NL5M22ddyurQmYQOO/Qne2oPRM/MiDhkxn1p1zkKAGsP1xvnZeXl6MEVGwREAEREIHSELj5uc/suzlmVWrVL83rekcEspbA4rnT7IjO9e3k/TsnXAYJn4SR6QURCE7gkksusRtuuEG3ugVHqRhEQAREICcJSPjkZLWr0B6BQMJn1rzF62fPXyyQIpBzBOrUqGwtGtRKabmnTZtmt9xyi02ePNmlw9kezvl8+umn7nrrnXbayR566KGU5iEZkc9fvNyOvXmorZGZPxk4FUeWEaicV8Hevf1/HyHOsuwruxElIOET0YpVsTZJIJDwOfDqZ9ZXrlJtk4noARGIGoFlS5fYkOuOtjrVK6esaAcffLC73GC//fYrkMYLL7xg3bt3d+IH60+mh9nzl9iZ/YdZzVadMj2ryp8IJJ3AzJ+/suH9T096vIpQBIIQkPAJQk/vZjOBQMKn26VPrm/SYddsLr/yLgKlIrBo8vc28LIe1qhO6oT/9ttvb7fffvtGwgfB8+abb1qLFi1KlfewX5LwCZu40sskAhI+mVQbyotPQMJHbSFXCUj45GrNq9yBCIQhfMaOHWt16tSx1q1bF8jriBEjnLWnRo0agcoQ1ssSPmGRVjqZSEDCJxNrRXmS8FEbyFUCEj65WvMqdyACYQifQBnMoJclfDKoMpSV0AlI+ISOXAnGQUDCJw5IeiSSBCR8IlmtKlSqCUj4xE9Ywid+VnoyegQkfKJXp1EokYRPFGpRZSgNAQmf0lDTOzlPQMIn/iYg4RM/Kz0ZPQISPtGr0yiUSMInCrWoMpSGgIRPaajpnZwnkC7hM3LkSBsyZIhdeeWV1qZNm6yoBwmfrKgmZTJFBCR8UgRW0QYiIOETCJ9ezmICEj5ZXHnKevoIhCl8xo8fb88//7y9/vrr9tdff9nOO+/sxE+DBg3SByCBlCV8EoClRyNHQMInclUaiQJJ+ESiGlWIUhCQ8CkFNL0iAmEInzfeeMMee+wxmzhxorVs2dJ69eplhx12mDVu3DirKkDCJ6uqS5lNMgEJnyQDVXRJISDhkxSMiiQLCUj4ZGGlKcvpJxCG8Nl9993tyy+/tAcffNAuvPDC9Be6lDmQ8CklOL0WCQISPpGoxsgVQsInclWqAsVJQMInTlB6TARiCYQhfCZNmuRc2nBxW7hwoXXp0sV69+5te++9t1WoUCFrKkTCJ2uqShlNAQEJnxRAVZSBCUj4BEaoCLKUgIRPllacsp1eAmEIH7+E69evt48//tid8/noo4+c6Pnss8+sVatW6YUQZ+oSPnGC0mORJCDhE8lqzfpCSfhkfRWqAKUkIOFTSnB6LbcJhCl8CpPm7M9uu+1mDRs2zIpKkPDJimpSJlNEQMInRWAVbSACEj6B8OnlLCYg4ZPFlaesp49AWMJn6tSpNmjQIJs/f75VrlzZDjzwQNtrr73SV/BSpCzhUwpoeiUyBCR8IlOVkSqIhE+kqlOFSYCAhE8CsPSoCPgEwhA+3377rTvPw/d6EEDVqlWzFStW2Kmnnmq33npr1lSGhE/WVJUymgICEj4pgKooAxOQ8AmMUBFkKQEJnyytOGU7vQTCED4HH3ywbbnllnbvvffaVVddZdtvv711797ddtxxR3vnnXesffv26YUQZ+oSPnGC0mORJCDhE8lqzfpCSfhkfRWqAKUkIOFTSnB6LbcJhCF8uMXtkUcesU6dOrnrrDt27GhnnXWWHXPMMe7PUUcdlRWVIOGTFdWkTKaIgIRPisAq2kAEJHwC4dPLWUxAwieLK09ZTx+BMIQPbm5XX3217bfffnbBBRc4i88ee+zhzvhwu5ssPumrf6UsAvESkPCJl5SeC5OAhE+YtJVWJhGQ8Mmk2lBesoZAGMLnxhtvtDJlyljfvn2tT58+NmDAAMvLy7OLL77Yrr322oxi9cmEBbZ67Trbp30dq1CuTIG8yeKTUVWlzIRMQMKneOCvfzPX6lWrYF3b1Qq5VpSchI/aQK4SkPDJ1ZpXuQMRiBU+y1attSnzVpQYX4VyZa1Ng8oJpblu3Tp3mUGVKlVs2bJlNm7cOPftnubNmycUTxgPs4DhT/3qFeyYHRrYrpvXzE9WwieMGlAamUqgOOGzaPkam7lwZYnZrlKxnLWsWylTixY4X0+MnGkjf1voythrxwa2TbNqgeNUBPERkPCJj5Oeih4BCZ/o1alKFAKBWOEzYdZS6/fulKSk2r5x1QLxrF653CaM/sgWzJlmtRo0s8223sk6d2i9kVWlcOIt6lSyqnllS8wTiw0WVskIvvDx4yLu3rs0NMoj4ZMMwoojWwkUJ3xY8LPwDxqwsLZpUGWT0bRvvOln2JwpbLEtHDFpbeqZTWbm3wd84eM/z3jBuBFlsRcvm1Q/J+GTasKKP1MJSPhkas0oXxlNIF5Xt7mLV9vfS1aVWJaFy9bYrEUbPzN90q9247lH2do1q612g6a2ZMkS++fvWbb/qVfbLj1O2ShOXM1+/2t5Urk1qZVnNSuXLzFOrDyUEwFYOLCQObB9des76AOr2apTUvOmyEQgGwiUxtUtnnFjwzOrS0SwwapU8vgTj8U6Uc7xbKo0qVXRjVdFWct3aFXdTti5kbMgK6SGgIRPargq1swnIOGT+XWkHGYggXiFT5Cs87HSmjVr2tNPP22VKm1wd/n000/t6KOPtjFjxthmm21WquiLEiiFI2JBsnrt+hLjnzp/hS1duc49g8sOi6yiwub1Ktl3346z6s23KlV+9ZIIZDOB0gifTCsvY8Hvfy3bZLYmzNr0M7FjS0njBuLn/G7NkmZd2mTmc+wBCZ8cq3AVN5+AhI8agwiUgkAYwmeHHXZwFxpwm1ts4La3iy66yA477LBS5Dw1rxR2WSEVzvkcsk1dyyuzxs7sP0wWn9SgV6wZTiAKwidViO//eJqNnby4QPRcdMC4gbVZIXUEJHxSx1YxZzYBCZ/Mrh/lLkMJhCF8+E5P06ZN7YEHHsinMGnSJOP7Plh+tthii4yh4wsffP83LFzq5bup6IxPxlSTMpIGAhI+xUPnbCQWaM4aMm706FR3k661aajCSCYp4RPJalWh4iAg4RMHJD0iAoUJhCF8fvvtN3v22WeNa63Ll99wzgbBM2fOHDv22GMzqlKeHz3HW7yU9a6zrr3RwkXCJ6OqSpkJmYCET/HAH/l0hjWuWdEO2LpO0i5aCbl6szY5CZ+srTplPCABCZ+AAPV6bhIIQ/gUR3bw4MFO+FSunNj12OmqKQmfdJFXuplAQMInE2pBeShMQMJHbSJXCUj45GrNq9yBCIQhfPh2DyLnzz//LJDXxx57zA4//HDbaaed3FmfTA8SPpleQ8pfKglI+CSX7uLFi50FPFs2fpJb+uTFJuGTPJaKKbsISPhkV30ptxlCIAzhc+qpp9pbb71l2223XYFS8yHTLbfc0jp37myPPvpohhApPhsSPhlfRcpgCglI+CQP7owZM+zggw+2N998033Mee3atbZw4UKrW7euS+T222+3xo0b2ymnnJK8RCMak4RPwYrNK1/WuWnPXbzKirrPlG/j4c49w7vBdPGKtVYtr5zVqlLe1q9fb+u8F8qUKWNly2yIc553zfzy1eusXrXytmzVOvenqFC3agVb7b38TzE3ovJOeS9S/7tWk70Ppa8lsSICLqOkU/h21db1N3ybi2vjV3h5UjCT8FErEIFSEAhD+LRv397uuOMOO/TQQwvksGPHjk4QtW7duhQ5D/8VCZ/wmSvFzCEg4ZO8unj44YftjTfesE8++cRF+scff9h5551nH3zwgfs3f1922WX23XffWYUK+gZQSeQlfArS2c27hfSMPZrY+UN+daLFD5XKl7GL9m1uCIiVa9ZZ5Qrl7L6PplrT2nl23E4NPeFjTlggR9a4T0Cst4EjZ9m0BSvt9iNa2z+eSLrujUkbiZttmlW1y/drYXwW4oY3C3p1+Glv27yandalsRM/1SqVd5+N6P/hNPvLE2exYU/vYpAzuzaxb6Ystv4fTXO/qlGpnF3qxV/fE1/r13uizPue+X3e75L9rb/k9e7wYpLwCY+1UooQgTCEz2uvvWYdOnQwBFBswP3tkEMOsfr162cFUQmfrKgmZTJFBCR8kgf2+uuvt6VLl9p9993nIuWWS673nzx5cn4iWMPfe++9rNkYSh6dxGKS8CnIa4+2tezsPZvYWc/+UsBC02vHBravd2lPn9c2iJdtmlXzLD5rbIonWGp4YgSpc1n35s4KNHDkTM/yY87q0r5xFSdsynqi5eUxf9mw7/8ukOB1B7c0rEi8d8UrvxdZeXu2q+m9X9a+nrTI6njWoX6Ht3bXvz80fHr+81ie+PkqT3TxMfR+727oC5d4Yq2ZJ876vv2nrfIEm/t3nTy79KWJzkKVy0HCJ5drX2UvNYEwhA+ZW7Nmjb3yyiv2008/WcOGDY2PmrZp06bU+U7HixI+iVFn97CG53Ix33OXKGp+4vsmuFzMXrTKlqxc6/4bFw1cLtbbBl8L9h9xvVjgTYS4NzBpLlu1tlhXB95f573PJFxcYEJvXruSc+dglzLXJ894a1XCJ15Sm37u8ccfd+6948ePdw8/9dRTdsYZZzgXtzPPPNPef/99O//8850QqlWr1qYjzOEnJHwKVn6XNjWd1eTc538tIHwu3KeZtapbyS5/uWhxQiw3HNLKiZ0HP/mfIMFac5YX31jPCtPJE0uXeILDH89xXetzQAv77LeF7nt3/C6ecK0nlqp6V79jQfLD+d2auo+N/+3NF6T5n7f+tEoVytrAk7e0Rz+dbl/98Y97tG2Dyta352Z21at/OMtRLgcJn5Bqv6qnylHmc/4paKL0k6dRVvB8TPHDXOotZmp7vqNuMeM9gE8ni46y/J8XZnkLntVr11mD6hW8zlb8YqZB9YreQmetM7VuKjStVdEzn652HUhh0wTCED7sZnbr1s245KBZs2a2ZMkSw8cdd4/TTjtt05nMkCckfBKrCL5Yf95ezezil34rIEQqeuPDuXs1sa2aVLWVq9dbXoUydv/H0z1Xhgp20m6NnMtFuX+dzP0xY/Dns+zXOcvsrqPa2BJvHLj+zT/cmBEb2Jm86oCWznf9Bm9CLWoE6OClecYejb0JdcM4xsSJ20Rx41liJY720xI+yavf+fPnOys442HLli3dWR+u/L/55pud2xtnfrj+v2/fvslLNKIxSfgUrNjihM9WTarYNQe1cm5kL4/9y6Z7LmyFQ98eCJ+13ni8wc2MgAi5yBNNNw/70245bHO78/0p9uOMpe5353dr5v3/eme9Odkbu88b8ltcrWzAiVvY//35jz3ljeuEzT33u/94aZ/z3K926Hb1rUNj799vTXaWnjuO3Nz6eiLoj7nL3bOcJ3rguLZ2l5eP8dM35CNXg4RPSDXfw/sS9YEd69r5L/zmFih+QOBc5plD61Qt7/xDK3u7t7e+M8V2aV3D9tuqjluEVPIWPGvWrfP+bHjrrvenOp/Saw5sabM9IYX6x5QZG/baopbzV/1u2hK754OpxZZys3qVPB/SJsbf17z+h02bn9s7AfE2hzCEz5FHHmnrvHp/8cUXrVKlSi5rw4YNMy49+OGHH9wh3mwIEj6J1RJ9/4K9m3m+5r8VOKh66LZ17bDtGtjVr/3hWXJWW8em1ZwV54+5K9xGCePK+d2auHFiwGcbXC5wfcA3/ZqDWjpLzavj5tqb384tkKEr929u7RpVde4bV3i7mkVZcvi4JGPTFxM3uFzcdOhm3uS5xIkfhZIJSPgkt4VMnDjRrr32WpsyZYpdfPHFdsIJJ9iiRYtsxIgRziq+yy67JDfBiMYm4VOwYosTPjzVuUV1O3HXRu6j3Fhpnv5iVoFN4uKEz+X7t7BTBk2wSz1XOM7p3PHfKe57VY/1budESWPPen/iLg3twhcneptWG/LjTfneGL7x9tNB3vrx+J0b2qVDJ3oXMKx2zyJuvvx9kb3tuahxwvYAACAASURBVNEhoFp767i+b09267lbDmvtnR2aZH/+vcI9yxzx0PHt7OHh02z0pMURbdXxFUvCJz5OgZ86dNt6drD3Nfuzn/ulgPBhgUMj5XAbB+e2a1HNubDQsKvklXXP3uwtMn7wdgpe8XYbsPlgwenSpoadurt36M3rLY9/NsM+9xYkfmDBc/sRmzuLEcLoJs/Hs6iAr+oZ3sG5n70vZ+/u+bde7wkoLE4KmyYQhvDZeeedDdeOwre67bvvvm7C79Gjx6YzmgFPSPgkVgk7b+YJH2+nEOETe9vPOXs1tS0aVnETX3Hh6gNbOF9vDsD6YeumVT0LUlMb4+0uMoFf5FmS/M0XbgLCTYPJnMO9xB2PC9uV3oTOIgC3CYWSCUj4qIVkIgEJn4K1UpLw4UnWVZwDwn0N97FHPDcyP5QkfE4bPMHaeeM2m0+nev+91xa1rWenep7Y+c323rK2HbV9fe8Mzz+2vWfpJ3D5QKzLHD/bolEVN04/4Z0hGumN1YTuHep4G2H17MpX/nBuzoiiVt5ast+7U6xRjYp2q3fup4Dw8TbXHzqundsIZ0M8l4OET0i137NTXTvIEz74j8ZafG7yfC65zvDWdyYXm5P+x7SxcZ6ZdcjXc/KfocMc4sU5cc5yZ9aM9fn0dye+mbrYtvQ6TOzvYhNh0eN2Frz/3XdsW/echE98DSIM4bPHHnvY6aefvtHVrO3atbOBAwfannvuGV9m0/yUhE9iFVCc8GnfuKpxIJaxYKh3WLYoP+1rDmrh7URaASsvrnFXeELl5mGT7caerTxRNNW+/9fVAatwjcrl7LNfFzr/9vO88Ske4fPICe3sp5lLPR/yGYkVLgeflvBJXqXjzjZq1Khir6v+4osv3FX//vXWyUs5ejFJ+BQtfM72LjdYsaZ4l/8jOtc3/pz01M/5Y2VJwsffwHqs9xb24U/zbcfNqjvhxGUH+3aobUd4LmpcQMC5TsJSz/I++58NFh3CZvUqu81v3OxiL0jAja6T506HCzPHINgox6rE+cvHRsz03Js3LyByOKeEGOIiBTbXczlI+IRU+8UJn103r+H8Pb/wzJVveC4oRTVIhM+3U5fYc6NnFxA+h3udj0UMJs1YNzU64YRZy9z5gD09lzdcY0oK+IniuiLhE39jCEP4cKtb7969rU+fPrbjjjsa/u0DBgxwbh1jx461vLy8+DOcxiclfBKDX5zwIZbtW3ouF55rRD3v/N4IT6w882VBl4vihA+7jac9/Yud691aVM275pRdQc4MPe5Nxviec24H4XOBd5WruxqB3RlvMi3qmxFsunDFqg7JxlevEj7xcYrnKc7znHzyyXbEEUfYq6++6i7wiA2XX365O+vD2R+FkglI+BTk41tzznveu9XNO0NJYBzcvU0t5xXDt3lobVd6lxLU885V9vGs3b484tIArPOxrr+c8WHD6ULveAOXzPiCiTPcXJTAxTRYbVjHseFUVGjqucKxWfXZb4vseW/957d20uW6asSSf/a7p+dV1Lx2RXvgkxneOfCVdrd3rnPuklV25383HHVgndnGO0t+2cveJQs5fpRbwiek0bE44UPyuJgct1MDq+35zn/w43x7/uvZBRpmccLnOM+0eeYzv9ht3l3x+HFylWIjz4pzz9FtnJtMty1reWeFajpzZ+yh58IXGHAGgB0FCZ/4G0MYwofcDB061N1YxKUG5cqVs913391dbpAt53sog4RP/O2KJ0sSPvyeG9v29NwlsNZ87R10fSjmJqGShA9jRQtv1w+XCUQQ6TCGMOl2aVvTeu/SyHOZXWg7tqrhMszH8gqf4cGV4lZvo+XZr2a73UuFTROQ8Nk0o3ifwNL9wgsvWOXKld2HSz/99NMCG0CMk7vttpt9++23VqdOnXijzcnnJHwKVjvjITe4IVIQPIhqzkOyPtrVO3fJ5S/V8spbnvddn3u9s41/eC5pfsCSssh77+6Y89R43ly2X3O7wBM+nLXENfi+Xm3dsQSOJxD2985xH71DAzvDG5uLChft09R22qymSxtrDiKH2zfv9M4KcRlVbDjFO/rQtn4lu+7fbwLhXneVJ9I4NrFu/Tov/TyXv4neZTe5HiR8QmoBJQkfskCj7ubtpHJA7X3ET4x1pzjhg08nHYaPV7EDe7J3iO4k7wAeqp4rDbl/fjuv8+ESw8/YnvjW8+0c7B3Miw0SPok3grCET+I5y7w3JHwSqxNf+Jzr3dTDrmBx4RDvwpRjvQ/o4Tfub2aUJHzwKV+wdI3hpvbJhAW2jXf25yfPMszZQcYQRNCNnssFZwMJ7EzG3mDE7mM/b5PlvR/mue9SKMRHQMInPk7xPPXII4/Yhx9+6D7gfNBBB7lrq7GM+986+/PPP22bbbaxCRMmuJvfFIonIOFTkA1XQDf3jg1wu65vWeHWSq6J5owN39zhMpnvvTVU4XEZdzSs47iZ+QErOtdW/zJ7Wb7lnKMH3MrL1deE2t65G27f/dV7pqjARnZ1Lx7y9O+FnW5TfKInugpfaMXRhcrexQmT/r3Fjfi4iIYPpRLwGvLTzfV+IeETUgvwhQ/XDpYUODiH3yYWGz+UJHzO9PxRK3gXHHDN4dAxc4ybP17wzgKN9g7LHbNDfevcsobbta3sdWq+8rFk5Tpnso0N/g0gutUt/sYQhvD5+eef7a+//nIfMOMPO1Dly5e35cuX20477WRVqlSJP8NpfFLCJzH4O3u7ixd6l55wxSnuE0zCeCbwvYdfPZeL+d7uIYHdwM3rV7FLvAsJfNeFa/894xO788gZH1zdLvEuNfh7yRrDJeIYb5eRy1RwuWA3klvb2Egp7owPk/ONnlV47OR/bNC/V6kmVqrcfVrCJ3l1j/DBje2jjz5ykZ599tk2aNAg69mzp7Vt29ZZg/iwM67Ahd3gkpeLaMQk4RONelQpEicg4ZM4s1K9seFWN+86a28x86/7vDNb7u59NIvDyihxfO5xOeOqWt8vk8Tu69XGvuGMj+de4od9vC8Js1BBSLHbi8UH3/u/Fq9yt3yw+4DFp7N3JgBf1JKCf8aHW91wb1HYNIEwhA8XG7zzzjsuM0ziq1atsgULFljnzp3tjTfesBYtWmw6oxnwhIRPYpVAn+VL4POXrvb6Md/vMntn/Dy3e7ibdyZwqnflfFU+WupdT3rfR9O983z/+ybDjd75vlVe37/NO8PjB6697uPd9naxZ/GZ51l8/O85jPFEzAPed4AIjB1c13r60xOKvNzgXO9WOMYqLEC4zZInxrH+3qZKrn8Mb1O1K+GzKULx//7BBx90Fp7PPvss/yWu+L/rrrts6tSp7mKDxx57zFq3bh1/pDn6pIRPjla8im0SPiE1Anw5WVjgarJhJWs2xHNn43KDDk2qeX6Yq9xhtRXeoTo+MBXrv/nw8W29ndYl9rR3kNkPHIrr7R1yxtUN4eO7q73+zVzjD+F479zQ9p6/fnFfHObDhad5fqEVPWsQi6F53kJrsfcRLg47l/QF95CQZXQyYQif1atX25o1G9qLL3z69evnDu8OGTJElxtkdAspfeZwuUDk5OFy8a/PBZee4HbBzW6t6ubZ8tXrinRdaO35eK9fX8Y78/c//3NcLjb3XF35eJ5/WUEHr+9zcxDiioDLBa5s/gf2CuceNwpc4NicyXe58B7CRWOFlxeF4glI+CSvdcycOdNZwbfddtvkRZqjMUn45GjFq9gSPmG1gSreDm3DGnnewuF/t9CwU4rAwO+zSa2K7su/fBSw8OUDLFq4sjD2K+ksQhp6d7VzUM2/oAM/VK6j9hci9aqVd4fxirPisCBqXifP7fCu8q5vJG/s4vKl36JucwqLVTakE4bwKY4Dt7lhCerevXs2oNLlBllRS8pkqghI+KSGLLdccsYHC7hC4gQkfBJnpjeiQUAWn2jUo0oRMoF0CR/c3fBz79WrlzVp0iTkUpcuObm6lY6b3ooGAQmf1NTje++9Z7fddpt9/vnnqUkg4rFK+ES8glW8YglI+KhxiEApCKRL+JQiq2l/RcIn7VWgDKSRgIRPauC///777mzP8OHDU5NAxGOV8Il4Bat4Ej5qAyKQTAISPvHTlPCJn5WejB4BCZ/U1CnXWt999935N7ylJpXoxirhE926VclKJiCLj1qICJSCgIRP/NAkfOJnpSejR0DCJzV1unTpUps3b17W3G6ZGgqlj1XCp/Ts9GZ2E5Dwye76U+7TREDCJ37wEj7xs9KT0SMg4ZO8Op0xY4b99NNP7rtmnHckVKhQwcqV825EXfG/TzG0atXKOnTokLyEIxiThE8EK1VFiouAhE9cmPSQCBQkIOETf4uQ8ImflZ6MHgEJn+TVKRcZHHbYYc7S07RpU3fN//TpG75Ftfnmm7uPO6/3riblG2i33HJL8hKOYEwSPhGsVBUpLgISPnFh0kMiIOFT2jYg4VNacnovCgQkfJJXi7Nnz7ZDDz3Une3p0qWLi/iHH36ws846y5599llr06aNEz5YhPijUDwBCR+1jlwlIOGTqzWvcgciIItP/PgkfOJnpSejR0DCJ3l1ihVn0qRJNnjw4AKR8vNZs2bZo48+mrzEIh6ThE/EK1jFK5aAhI8ahwiUgoCET/zQJHziZ6Uno0dAwid5dfrAAw/YoEGDbMyYMVaxYsX8iI888kirWbOm+51CfAQkfOLjpKeiR0DCJ3p1qhKFQEDCJ37IEj7xs9KT0SMg4ZO8Ol20aJF17drV5s6da3vssYe72GDcuHHunM+XX35pHTt2TF5iEY9JwifiFaziyeKjNiACySQg4RM/TQmf+FnpyegRkPBJbp1ygcGTTz5pI0aMsJUrV9q2225rZ5xxhnGTm0L8BCR84melJ6NFQBafaNWnShMSAQmf+EFL+MTPSk9Gj4CET/TqNAolkvCJQi2qDKUhIOFTGmp6J+cJSPjE3wQkfOJnpSejR0DCJ3l1ijvbvffeW2SE3OzGt3tOOOEEe/nll61Ro0bJSziCMUn4RLBSVaS4CEj4xIVJD4lAQQISPvG3CAmf+FnpyegRkPBJXp2OHTvWHn/8cff9nthQvnx5O/HEE52727nnnmtPPPGENWzYMHkJRzAmCZ8IVqqKFBcBCZ+4MOkhEZDwKakNDPv+b1u0fK316FTXalYuX+BRCR/1nlwmIOFTfO0/P3qOValY1g7Yuo73d7lAzWTNmjWGAFKIj4CET3yc9FT0CEj4RK9OVaIQCMRafOYuXm2jJi4skGq9ahWsfvUKJeakQrmy1qZB5RBym/okXv9mrvGHxQuLmNiFjIRP6vkrhcwlUJzwmTJvhY2bsrhAxhvXrGi1qpS8eKePtaxbKXMLnEDOnhg500b+ttBtlrBpsk/7OlahXEFrTlHRLV682H2olMCHSq+77jqrVq2aXXPNNValShV9vDSOOpDwiQOSHokkAQmfSFarCpVqArHChwUMO5eECbOWJj3pJrXyNrKiFE6kal5Za1Fn04shnuHZkgKLENJMJPjCx38ndiEzb9FSO7P/MKvZqlMiUepZEYgEgeKEz/jpS2zY9/Ns9dp19vtfy5NeVsTRpqwoiCzE1qYCGzSbEiT1qlXc5GZP4XR84eP/nM2iw7erb13b1SoyS3PmzLFevXrZ+PHj88UNbm///POPc3+rXr26DR8+XNdab6pCvd9L+MQBSY9EkoCETySrVYVKNYEgZ3xY5LDYKSkgppatKvmZqfNX2NKVJT8zc+FKzwVtTUpwbFgMbRBRfy9ZZVi+CgcWMnu3q2FPvDZcwicltaBIM51Aslzd4tlU2TC2bLCEFBfSPW60b1w1P2vFjU+INgTQDq2qFyjGnXfeaQMHDnTXWcd+wLR///7O0nPOOee46635b4WSCUj4qIXkKgEJn1yteZU7EIEgwidQwil4GcGCcCkpLFy2xmYtKv4ZXHYQa4UDO87bt6hq7336lVVvvlUKcq8oRSCzCSRL+GRaKePZVNkwtmy8IeKXpaRxo7DLLO8MGDDAfvzxR3vooYcK4Ljpppucq9vll1+eaZgyNj8SPhlbNcpYiglI+KQYsKKPJoEoCZ9k1FBhlxVc3Vi47NO+tv2zZLlc3ZIBWXFkJYGoCp9kVMZd7081XP78gIV4/60YN4o+67Nu3Trn1larVkFXuGXLlrkoZOmJv1YkfOJnpSejRUDCJ1r1qdKEREDCpyBoX/j4Pvq7bl4z/0yALjcIqVEqmYwkIOFTfLX0e3eKOxeJaxuCp7izPRlZsVmeKQmfLK9AZb/UBCR8So1OL+YyAQmfgrX//o/zjMPNhX3yeUrCJ5d7isou4VN8G+BSFC5cKWrcUMtJLQEJn9TyVeyZS0DCJ3PrRjnLYAISPvFXjoRP/Kz0ZPQISPiEU6erVq0qcOFBOKlmbyoSPtlbd8p5MAISPsH46e0cJSDhE3/FS/jEz0pPRo+AhE/q6nT27Nn2yiuvuJveTjjhBOvTp0/qEotYzBI+EatQFSduAhI+caPSgyLwPwISPvG3Bgmf+FnpyegRkPBJbp0uWeJ9/2jYMBs8eLCNGTPG6tWrZ4ceeqhdcMEF1qpVq+QmFuHYJHwiXLkqWokEJHzUQESgFAQkfOKHJuETPys9GT0CEj7Jq9NPPvnEevfubQ0bNrSDDz7YjjzySOvcuXPyEsihmCR8cqiyVdQCBCR81CBEoBQEJHzihybhEz8rPRk9AhI+yavTt99+24444gjba6+97MILL7T99tvPKleunLwEcigmCZ8cqmwVVcJHbUAEghKQ8ImfoIRP/Kz0ZPQISPgkt06nT59uzz//vL388ss2a9Ys23bbbd35nh49eljNmjWTm1iEY5PwiXDlqmglEpDFRw1EBEpBQMInfmgSPvGz0pPRIyDhk7o6/e677+zZZ5+1oUOH2iWXXGJXXnll6hKLWMwSPhGrUBUnbgISPnGj0oMi8D8CEj7xtwYJn/hZ6cnoEZDwCadOFyxYYLVr1w4nsQikIuETgUpUEUpFQMKnVNj0Uq4TkPCJvwVI+MTPSk9Gj4CET3Lr9KeffnKWnd9++80qVapkzZo1szvvvNM6deqU3IQiHpuET8QrWMUrloCEjxqHCJSCgIRP/NAkfOJnpSejR0DCJ3l1ypmejh072iGHHOKusf7444+te/fu9swzz9iIESOsQ4cOyUss4jFJ+ES8glU8CR+1ARFIJgEJn/hpSvjEz0pPRo+AhE/y6rR///720Ucf2X//+18bO3as3Xvvvfbiiy/a9ddfb7i6PfLII8lLLOIxSfhEvIJVPAkftQERSCYBCZ/4aUr4xM9KT0aPgIRP8uoUgbN+/Xrr16+fE0ADBw50t7sNGjTI+MbPkCFDkpdYxGOS8Il4Bat4Ej5qAyKQTAISPvHTlPCJn5WejB4BCZ/k1emAAQNs2LBh9s4779jw4cPt5ptvdud9zjrrLGf9OfbYY5OXWMRjkvCJeAWreBI+agMikEwCEj7x05TwiZ+VnoweAQmf5NUpZ3wQOHfffbdNmjTJdt99d8vLy7Nzzz3Xrr766uQllAMxSfjkQCWriEUS0OUGahgiUAoCEj7xQ5PwiZ+VnoweAQmf1NUpbm9lypRJXQIRjlnCJ8KVq6KVSEDCRw1EBEpBQMInfmgSPvGz0pPRIyDhk9w6nTZtmru+esyYMVaxYkXbYYcd7LLLLrPmzZsnN6GIxybhE/EKVvGKJSDho8YhAqUgIOETPzQJn/hZ6cnoEZDwSV6dzpkzx7bbbjtr3Lix7b///lauXDn7/PPP7ddff7WvvvrKWrZsmbzEIh7TrUM+s68nzLKKeRUjXlIVTwQKElixYoUd03VLO3n/zgmjKdPt0ifXN+mwa8Iv6gURyHYCEj7x16CET/ys9GT0CEj4JK9O77nnHnv11Vdt9OjRBSI9/vjjrUGDBnb//fcnL7GIxzR/8XKbOmdhxEup4olA0QTaNK1r1SonLvolfNSicpaAhE/8VS/hEz8rPRk9AhI+yavTvn372uzZs43b3WID3/fB9Y1v+iiIgAiIQKoISPikiqzizXgCEj7xVxHC55Q7X7O8Wo3if0lPikBECCyeO92G9z89IqVJbzH4aOnhhx9uX375Zf6ZnqVLl1qXLl3smmuusWOOOSa9GVTqNnTMX3bA1nWsZuXyKacx+ItZ1nuXRlahXOovuHj9m7l2ROf6KS8TCTwxcqad1bVJytNatHyNvf/jfOu1Y4OUpxVmAlPmrbAJs5Z67bBu0pN1wqd27dpJj1gRikCmE1j8zyJ79pqjrVGdapme1YzI36uf/WhLV6zKiLwoEyIQJoGGtavbATu1DTPJSKc1atQoa926tTVt2tSVc9myZYYg6tq1a6TLnQ2FYyF9yUsTbZ/2dTxB0jClWWZxe90bk1w6qVjgxmbeT+uSfZvbDq2qp7RcYycvtvs/nmZhpPX86Dn2yYT5dv+xbUMRqikFFxM5/CbOWe7KlWxRXGbi9L/XL1ke32Lm/V+W2QFbVkl5udeuM3vjxyV21DapX5D+tWSt/TR7lXVrUznl5SKtaQtX2/bNKqU8rYlzV7s02tavkPK0wkxg5KTltkOzPKtSsWzgZCtWKGcdWkZrlyQwlAQjWL12vd330TS76oAWCb6Z+ONMXKMmLkr5ZEzOUrnbVLjkTJKEVE/GpBFmWonXcOnfCHPXuPS51JslEXj00Ufdr8877zyBSiMBFtLv/zjPLTZTvZhmccuYhGUpFQvcWIx+Wi3rVrJ+h7dOKWHEHHNIqtPyRSrzMMIx1UI1pdBiIvdFKj9KhSgu492hvz6ewoSpYOl0dL4w1DKd4ftpS1LewWGcSgVbuA7peIRUd/B42k6ynglzJypZeY56POqrwWs4zL4aZlrBycQXQ5i7xvHlSE+VRADrzuWXX24jR440/xs+ZcuWtSlTphh/c6X1yy+/bO3btxfIkAnELqRJOpWL6djFbaoWuD6+wmmlcm3pr5X9tFOZli9SSSsMoRpWc/RFKumlQhTHLXzCUrAoV8ysdMBUq+XYzpDKDk7lpVrBxjbI2I6Xyk4XVifw0wlzJyrssmVjeuqrwWstzL4aZlrBycQfQ5i7xvHnSk8WR+Cxxx6z6667zrjkIC8vL/8xxE6lSpWsZ8+edvTRR1vdusn37VetlEwgdiGdqkVn4fnc/3cqFrh+3LELaX6WyrWlv1b2005VWoVFKumleh0bRv8pLFJJM9lWn7iET5gK1t9B9gGncuEe2xlSrZZTrWBjG2Rsx0tVpwujA8SmEeZOVNhly9b01FeD11yYfTXMtIKTiS+GMHeN48uRntoUgbvuust+/vlne/rppws82qdPH6tRo4YTRQrhEyhqIZ2KRSdxhplWUQtp8pCKtWXhtXIq17GFRSpppXodG0arLCxSSTPZojgu4ROWgo3dQfYBp2rhXlRnSJVaDkPB+ryK6nip6OBhdIDYNAp38ih08LAZJjM99dXgNMPsq2GmFZxM/DEUniSTPUHGnxM9GS+BxYsX2/z58zf6UOncuXNt9erV1qRJ6m/CijevufRcUQvpVCw6iTPMtIpaSJOHVKwtC6+VU7WOLU44kl6q1rFh9IXiRCppJ9Pqs0nhE6aCLbyDnEq1XFRnSNViOgwF67MqquOlooOH0Qn8NIrr5NncwcPkl4q01FeDUw2zr4aZVnAy8cVQ3CSZzAkyvpzoqUQJLFq0yG644QZ3pTVht912s5tuusl0w2yiJJPzfEkL6WQvOsNMq6SFNOVK5qZwcWvlVKxjixOOpJWqdWxyWlrJsRQnUnkrmZtamxQ+YSnYonaQfUTJXriX1BmSvZgOS8HCqqSOl8wOHkYHiE2juE6ezR08bIbJTE99NTjNMPtqmGkFJxN/DMVNksmcIOPPjZ6Ml8CCBQtsu+22cyLngAMOsAoVKtjHH39s06Z5N3x5V1o3bJjaK5TjzWcuP9f7yZ/dN2i6tquVcgykdd3BLa1946opTWvu4tV26dCJoaTF92f6vTvF7uvV1upXT+3NuiN/W2hvfDvXpRWlwHeQqDPaRrJDicKHRTuLTsKyVWvdAf02DSp7inLDVcLsrCFKkhHGT19iw76fF0paw77/28ZPX+rS+nvJKlu4bI1Xrg3XdLOYvrR786TdGx6b1syFK41Fo8+sVpXydn63Dd8xSEagrqgjAmkRmtTacHiUNLPxqkP/umT+JjCgUCb/w2p7tK0ZyuCcjPqJShzqq8FrMsy+GpsW4wNjXLaPC+waPzx8Rn5FMC4wxlWpWM79rEenurZNs9R/DiF4S8i9GB555BEbPHiwEzmxoUePHrbNNttYv379cg9KhpVYwidYhUj4BOPH22kTPrFZD7Miw0yLL/mOmrgwFLWcyoos3MxIixDGl4ODN/H4YwhzQI4/V7n7pPpq8LoPs6+yC8kOZBTHhTB2jYPXtmK45pprbM2aNXb33XcXgDFw4EBn+Rk6dKggpZlAmPOsLD7BKlsWn8T5bdLVzY8yzAVOmGlJ+CTeaNL5RpgDcjrLmS1pq68GrykJn+AMw1o8Bc+pYuDaasTP+PHjrWrV/7k3devWzXbZZRe7/fbbBSnNBMKcZ8Pqu3J1S3OjSjD5VBoKJHxk8UmwOab38TAH5PSWNDtSl/AJXk8SPsEZhrV4Cp5TxbBu3TrDrW3cuHHWtWtXK1eunP3f//2frV271r7++mud8cmAJhLmPBtW35XwyYCGlUAWJHwSgJXoo7L4JEosvc+HOSCnt6TZkbqET/B6kvAJzjCsxVPwnCoGn8CgQYPsgw8+sJUrV1rnzp3t/PPP10dLM6R5hDnPhtV3JXwypHHFmQ0JnzhBleYxCZ/SUEvfO2EOyOkrZfakLOETvK4kfIIzDGvxFDynikEEMp9AmPNsWH1Xwifz211sDiV8UlhfEj4phJuCqMMckFOQ/chFKeETvEolfIIzDGvxFDyniuGbb76xJ598sgCIKlWquGut9957b+ve5i+hAwAAIABJREFUvbsgpZlAmPNsWH1XwifNjSrB5CV8EgSWyOMSPonQSv+zYQ7I6S9t5udAwid4HUn4BGcY1uIpeE4Vw6hRo+zOO+/MB1GmTBkbMWKEVaxY0d566y3r0qWLIKWZQJjzbFh9V8InzY0qweQlfBIElsjjEj6J0Er/s2EOyOkvbebnQMIneB1J+ARnGNbiKXhOFUNRBPioKRceXHTRRXbMMccIUpoJhDnPhtV3JXzS3KgSTF7CJ0FgiTwu4ZMIrfQ/G+aAnP7SZn4OJHyC15GET3CGYS2egudUMRRH4PTTT7clS5boOz4Z0ETCnGfD6rsSPhnQsBLIgoRPArASfVTCJ1Fi6X0+zAE5vSXNjtQlfILXk4RPcIZhLZ6C51QxFEfg119/tWrVqlnTpk0FKc0Ewpxnw+q7Ej5pblQJJi/hkyCwRB6X8EmEVvqfDXNATn9pMz8HEj7B60jCJzjDsBZPwXOqGEQg8wmEOc+G1XclfDK/3cXmUMInhfUl4ZNCuCmIOswBOQXZj1yUEj7Bq1TCJzjDsBZPwXOqGEQg8wmEOc+G1XclfDK/3Un4vDvF7uvV1upXr5DS2pLwSSnepEce5oCc9MxHMEIJn+CVKuETnGFYi6fgOVUMIpD5BMKcZ8PquxI+md/uJHwkfAK10jAXU4EymuDLYQ7ICWYtJx+X8Ale7WH21X7euMpm0lldmwTPeAbFENbiKYOKrKyIQMoIhDnPhtV3JXxS1lxSErFc3VKCdUOksvikEG4Kog5zQE5B9iMXpYRP8CqV8AnOMKzFU/CcKgYRyHwCYc6zYfVdCZ/Mb3ey+MjiE6iVhrmYCpTRBF8Oc0BOMGs5+biET/BqD7OvyuITvL4UgwhEnUCY86yET7DWNPK3hfbGt3Pd0ZAoBVl8UlibsvikEG4Kog5zQE5B9iMXpYRP8CqV8AnOMKzFU/CcKgYRyHwCYc6zYfVdWXwyv93J4iOLT6BWGuZiKlBGE3w5zAE5wazl5OMSPsGrPcy+KotP8PpSDCIQdQJhzrMSPsFakyw+ifMrs94L8bwW5gInzLRk8Ymn9jPnmTAH5MwpdebmRH01eN1I+ARnGNbiKXhOFYMIZD6BMOfZsPquLD6Z3+5k8ZHFJ1ArDXMxFSijCb4c5oCcYNZy8nEJn+DVHmZflcUneH0pBhGIOoEw51kJn2CtSRafxPnJ4vPNXBs1cWEoB8NSeVircNWHuZhKvNmV/o0wB+TS5zJ33pTwCV7XYfZVCZ/g9aUYRCDqBMKcZyV8grUmCZ/E+Un4SPgk3mrS+EaYA3Iai5k1SUv4BK8qCZ/gDMNaPAXPqWIQgcwnEOY8G1bflatb5re72Bym0lAg4SPhk1W9IcwBOavApCmzEj7BwUv4BGcY1uIpeE4VgwhkPoEw59mw+q6ET+a3OwkfnfEJ1ErDXEwFymiCL4c5ICeYtZx8XMIneLWH2Vfl6ha8vhSDCESdQJjzrIRPsNYkV7fE+cniI4tP4q0mjW+EOSCnsZhZk7SET/CqkvAJzjCsxVPwnCoGEch8AmHOs2H1XVl8Mr/dyeIji0+gVhrmYipQRhN8OcwBOcGs5eTjEj7Bqz3MviqLT/D6UgwiEHUCYc6zEj7BWpMsPonzk8VHFp/EW00a3whzQE5jMbMmaQmf4FUl4ROcYViLp+A5VQwikPkEwpxnw+q7svhkfruTxUcWn0CtNMzFVKCMJvhymANyglnLycclfIJXe5h9VRaf4PWlGEQg6gTCnGclfIK1Jll8Eucni48sPom3mjS+EeaAnMZiZk3SEj7Bq0rCJzjDsBZPwXOqGEQg8wmEOc+G1Xdl8cn8dieLjyw+gVppmIupQBlN8OUwB+QEs5aTj0v4BK/2MPuqLD7B60sxiEDUCYQ5z0r4BGtNsvgkzk8WH1l8Em81aXwjzAE5jcXMmqQlfIJXlYRPcIZhLZ6C51QxiEDmEwhzng2r78rik/ntThYfWXwCtdIwF1OBMprgy2EOyAlmLScfl/AJXu1h9lVZfILXl2IQgagTCHOelfAJ1ppk8Umcnyw+svgk3mrS+EaYA3Iai5k1SUv4BK8qCZ/gDMNaPAXPqWIQgcwnEOY8G1bflcUn89udLD6y+ARqpWEupgJlNMGXwxyQE8xaTj4u4RO82sPsq7L4BK8vxSACUScQ5jwr4ROsNcnikzg/WXxk8Um81aTxjTAH5DQWM2uSlvAJXlUSPsEZhrV4Cp5TxSACmU8gzHk2rL4ri0/mtztZfGTxCdRKw1xMBcpogi+HOSAnmLWcfFzCJ3i1h9lXZfEJXl+KQQSiTiDMeVbCJ1hrksUncX6y+Mjik3irSeMbYQ7IaSxm1iQt4RO8qiR8gjMMa/EUPKeKQQQyn0CY82xYfVcWn8xvd7L4yOITqJWGuZgKlNEEXw5zQE4wazn5uIRP8GoPs6/K4hO8vhSDCESdQJjzrIRPsNYki0/i/GTxkcUn8VaTxjfCHJDTWMysSVrCJ3hVSfgEZxjW4il4ThWDCGQ+gTDn2bD6riw+md/uZPGRxSdQKw1zMRUoowm+HOaAnGDWcvJxCZ/g1R5mX5XFJ3h9KQYRiDqBMOdZCZ9grUkWn8T5yeIji0/irSaNb4Q5IKexmFmTtIRP8KqS8AnOMKzFU/CcKgYRyHwCYc6zYfVdWXwyv93J4iOLT6BWGuZiKlBGE3w5zAE5wazl5OMSPsGrPcy+KotP8PpSDCIQdQJhzrMSPsFakyw+ifOTxUcWn8RbTRrfCHNATmMxsyZpCZ/gVSXhE5xhWIun4DlVDCKQ+QTYIOnRqa5t06xayjNLWr13aWgt61ZKaVqLlq+xh4fPCCWtKfNW2POj59gFeze1mpXLp7Rc46cvsVETF9n53ZqmNJ2wIx/2/d+2aPlaV1/JDhI+Ej7JblMpjU/CJ6V4E45cwidhZBu9IOETnKGET3CGikEEREAEcoFA3MIH/8hRExfaAVvXsSoVy6WUTZhpsXBDnR+wdd2UlonIx05ebMtWrbWu7WqFkhaJ7NCqesrTCjOB1z2hun3L6infHQqzTNmclvpq8NpjXAirr+IWwfgdxXFhj7a1rH71CsErRDGIgAiIgAhElkDcwieyBFQwERABERABERABERABERCByBOQ8Il8FauAIiACIiACIiACIiACIiACEj5qAyIgAiIgAiIgAiIgAiIgApEnIOET+SpWAUVABERABERABERABERABCR81AZEQAREQAREQAREQAREQAQiT0DCJ/JVrAKKgAiIgAiIgAiIgAiIgAhI+KgNiIAIiIAIiIAIiIAIiIAIRJ6AhE/kq1gFFAEREAEREAEREAEREAERkPBRGxABERABERABERABERCBOAmMGDHCypUrZ7vvvruVLVs2zrf0WCYQkPDJhFpQHkRABERABERABERABFJK4MUXX7S//vrLLr744iLTQdB89NFHdsYZZ9hmm21W5DO9e/e2r776ytq0aWNPP/20NW7cOKV5VuTJJSDhk1yerjNMnDjR9t13X2vSpEmSY1d0IiAC2Ujgm2++sR9++MG6du1a7GSajeVSnkVABEQgGwiwLrvyyivt448/tgYNGtikSZM2yvaCBQtsu+22sylTptjQoUPtmGOO2eiZuXPnWtOmTe2nn36ytm3b2rp160pt8Rk4cKD9/vvvduedd2YDwsjkUcLn36r88ssv7dlnn7U+ffoUuTBhh+Caa66xLl262KmnnlpkA3j++eftvPPOs7322stOPPFEO/rooyPTUFQQEchFAt99950NGDDAzj//fNt66603QrB48WK7/PLLrWPHjnbhhRcWiejdd9+1Y4891rp162aHH354seNHLvJVmUVABEQgDAJ33323VahQwSpVqmT9+/e33377baNkWdtVrVrVvv32W7vgggvsuOOOK/DMqlWrbOTIkXbYYYfZZ599Zq1bt7batWu7Z+bMmWN//PGHtWjRwpo1a1bgPYTUzJkz3c+bN2/ufrdw4UK3XkRAvfPOO1azZk2rUaOGs0bxN/kk/PPPP7ZmzRqrU6eOkf7SpUtdmt9//72Lr27duu45BBnijvj9NPxMUJ61a9fatttua+XLlw8Dd0ankfPCh4XLtddea//9739do/3888+dz2bhcPLJJzthdMABB7hniwqIInZ0b7vttkCVTgdhofTee+9ZtWrVAsWll0VABBInsGLFCrvpppvstddec5PJW2+9ZT179twoItwlHnzwQdt5551t9OjRRSbEJMmkNWjQoMQzEvMGE+DBBx/sdiJlTQ6EUi+LgAjkKAE2su666y633osN//d//2dHHXWUTZgwwXbbbTe7+uqrNxI+WO2PP/54+/nnn22rrbayHj16WL9+/eyRRx6xhx9+2Fq1auUsOOeee65ddtlltn79ejvrrLOMDTSEDe/x8yuuuMLuuecelw/mmi233NLOOeccO+2006x9+/ZuDckmGeGiiy6yGTNmuLkI0XXddddZu3bt3DqU+YfNesp03333uU17ynX66ae7nxP3KaecYtOmTXNCinTIa66HnBc+qGYEzaWXXupMnG+88Yaz6sQGBMgtt9zi3NfGjBlj77///kbt5tdff3Wd4KCDDnKNjsaLsl6yZIl9+umnrtHxfpkyZfLfpTHjAsPv2A3medQ86t8XPjRkGiu7AMuXL7eWLVu691euXOlMtVtssYUzs9LYN998cxcfjZ2OS1i2bJkNHz7cKlas6NKPPYRHJyYO8kpHUhABEdhAgP50//33u8lvp512skcffdQOPfTQAngQOkxW9NW3337bsBoXDsSDuwSTJJYh+nJeXp7bucPlgvGAfslOpB/YORw7dqw7OLvnnnta5cqVXZ9mHGF8QfgQH3/mz5/vdg7ZeSSwM4hQw/ecOOnfTMa//PKL2xHcY4893BiwevVqlz4T8z777OPy5AfGMp4nDtJQEAEREIGoEGAsx+KDQIkNO+ywgxMsrN9YV914440bCR/c2rCe4NXDGM36bPz48W6cxnLDWDt58mTr0KGD+z3jPetFf4xlLXnkkUe69RzrvksuucR+/PFHJ2JYo7EGZFOL/DGvEMjP9OnT7YMPPnBzDBvzZ555pt1xxx3uHeYY1nuIK1zveJb1HPkhL2y8LVq0yMXFv1lDxq5Do1KviZQj54WPDwvBwQE1Gmas8ME8iDBgt3bcuHFugfPJJ59sxBgT6csvv2z16tVzneb11193CxAaL+9jWUK48D7PPPfcc86vkwULFh4CAgUxxI4CoqRTp06u4wwZMsSpdzqSnzZ5QSzRkNlNpjPQ6b744gv3Nwf0EHW9evVy+aF85IH0GzZsaPfee68rEx2U9BF/CCcFERCBggTor0899dRGwqdz5872n//8x4kSdu/on4UDu3XPPPOMc59gUkK0sBnCbh79FAHEJEi/xD2Bv7FAMy78/fffbsJiXECoMIExueFyx4TLJg0TJC62bHgQmAQZN5iMiaN79+7OFYING9wjmDiZGEmf9Bjf6P9YtMjPk08+6cqC6x7PPf744y4+BREQARGIAoGihA/j3iuvvOLEBYENH4QFm9mFAxtDO+64o/E3a0bmgBdeeMEeeOABt9GMoEHcYAHC2kNgjEeI8A6baWwsNWrUyFl/WKfFrikRJrjl+eeLiIN1IS7TuNeRp9mzZ1uVKlVc3FicOCuEJcdPn3XfQw895DbKWEPitsdcxNpPwUzC599WwKE2Jn4aV6zwwdIzatQo+/DDD61v375OWLBTWlTYfvvtnamUs0C+YELR48dJ2G+//dwuKh0PlU8jrF+/vvsdHQjXGho55tBdd93VmVx9lxY6CDsN7PoSWMggfPAdZWGDwidN8sfBPXZyWbywM4A1i3DIIYe4Q3mYRXGhY7HDTgTWI971O5I6hgiIwAYCCBP6DBNjrMUHQcDGAe4RTDjc7EOfLCrQx7bZZhvnikBg0sRljR1FAhsdWGrYOGFCrF69ukuTwKYFNwjdcMMNbvJjEwVLExsWBCZnbili8iSw2YJQYeOEjQzGEcQQ+cT3HGsPu4PsUN5+++3uHTZtsBohpJiM2RQ54YQTXJ4QdXK3VW8QARGICoHCwof1D2sxNoMYm7Hq3Hrrrbb//vs71zPGytjA+myXXXZxQobNIy5MYHP6wAMPdGMmgY0uxAbjNRtZ3BLnW+g5TsH5ItZ+rA/ZpGJzyw+M02xosZYksH5kncfalA1tfj516tT89Rqub2zMMafEpo83AvMO8xLPsOZEdCGAcj1I+PzbAooSPlhTaPwsGvDPZJGB4i7ujE+s8MGMSqO/+eab3bu4rbCjgLuJv0hh55eGzM8QWByORqT4wodFkH9NIj6hCB9/Z4DdZRZUuLIgfBBt7DzQUQl0FHaY+RkWIdJnYUOHIX4sUSyO8CUt7MKT651C5RcBn0BRwofdOyZDXBjYnUMAsePGjY5FBVzZ2IRA+NDXeYf+TN/G5YBJkTEGP2wCadLP2dXD+kL/pJ/6wufrr792YwsBH/GXXnop3+LDuIPLLmMMFh8mPoQVEx4B1zgmViY/Jm3SZwxiXJs1a5a7xIHxDVHErqGCCIiACESJwODBg9345l9uwHjLOonxFhFEQGSwuYR44IxMbCgsfFjjYclHCBUOWOJZF2JVZ7xn/GVc9i0+rPn4b+YAP/Acwse/WAHLD5YcjkAwVmNNYn3nb0jhOYTwKeqyhtj8sGGPBwBrwMKXH0SpfuMpi4TPv5SKEj5YX3A9oXHSIWh0LE7wA+VQWaxfPNHQwGmUKHxEBQsQ/DOxpGCBwVefnQIWMm+++aZzX2P3lRs82LXFosTCA2WO6xodzN/55XwAOwN+B2Fhw+KL3VyED52J97mEgYC1iEUPnZYOQvqYYDmvcMQRRzgLD4sqBgF2eem4MoPG02X0TC4RKEr4sHuGGwFiAosIooW+yc4c4wIWm9jABgXChzNDTFi4HrDxgOsZu4uMI4wV/AyLLvGw88iGxauvvuqstvRtxh52DRFY/tkbJj0sRbi+EoiftHCJY0zgFh9umGT8IDABsyHCOIULn58+YwVWHgJlwyrMeEX6/rnCXKp3lVUERCBaBBAGbAxxSQDrHTaMWPMw1hYObA4xXrNWKhxY2zFe+udl/DM9WH7YLOJIA15CWNI5r4nVnvUeFnjc0kgXkUXaCBzGdoQWnjrMDVieyCsbaqw5EWVYczg+gXjhgi3Wq/48g0sy77GZxRjOnET6rF/9z6swB2FVYm2KVwBzSy4HCZ9/ax9hwEKEnU/fp53zPjQgzsbgIkIjYlcUMYHrSUnCh+e4ahCLTFELB37GIgkXNgIH6+g0dB6EDy4qNGisRQR2iMkLu70EdpsRUKRDI2aRQ578q7bZWcZNjl2ITV1cgLUIdxrMuwoiIAIFCTAhsTHB5EFAnLABwS1rWEzYhGDXjk0HJqmShA9jCS4O9OWiJlzGHiY2/7sOWIsQL2xSIHyY4PxDtOQFX3CsTf5uH5ZgNlP4N/2ad5kMGVcI7BySPr7shS9xYQyMPfTKGSY2c4hfQQREQASymQBWEVyWuUCAPwgELnvBal44MJbzZ++9997od1hM2KBm05jNIwLux9dff70TPcTNOUzGbDaP2EQibdZynLnhnA8CiA1rXIz5UOqff/7pNqewziOK2Ozibza3sTwx9iOQ2GDjb+Yj/7pr0mfcR9Rwlpv08QjgjBFryauuuio/Xxyn4ObhXA85L3x833YWMfhb+t/kYEe0sG87DQ4XFHw0iwqc38E8idsagZ1WxBIuLjR6/puFCO5zND4sQYgVzuVg/UH94+rGoWZ2A1hEYaHBdxRBxk0idCIEF6ZarD0IHzof4gd3GEyzfsDahMpn54Lf0zlJH1FFJ0E44RNKZ8PvVa4tuT4cqPw+AQQCrqlMjvQpds/oN1xpXXi37LHHHnOTTFGuDsSHwMGi88QTT7joGWew0nA2CBGCDzYbIewucoGB7+KGayvPMjbQt5nUsM6SF873MY5gFfaFEdZh3HERYuxsssPIJQhshjCW+IGJkAsX6POMM0ya7HByBpC0iJcb4U466STnG+6fUVTrEAEREAERKJ5A4c2jTGGVqflKF5+cFz5YVVjY4PLBTi2LC6w77Ayw0xsbWKywk4qyLyqwSECo+GdmcCfzL0dAhbNoYeeV3QB2DViA4PPJrgILDVQ6OwIEbmpipxWTKq4nBP7N7WsscDBrDhs2zLnbIKpYIGEijT2IR5lYMLFDzRmf2PQpAwsuOgQfWvVvH0lXQ1S6IpBJBObNm+d24hA+uKIihOjPiBXERGzA+sr3FYr7fhe7e/hUIyT8gKWG9+iXiB+sv4wdnB9ijGBDA6HF7/jjb0rgMsHtQVhzEFKMG+z+Ib7YAMGCjKUa91x8xbloBbdZRE1sYJMF9wrS5z3S51tElAH3CsYFxiL/YpRMqhvlRQREQAREQARKSyDnhU9pwek9ERABERABERABERABERCB7CEg4ZM9daWcioAIiIAIiIAIiIAIiIAIlJKAhE8pwek1ERABERABERABERABERCB7CEg4ZM9daWcioAIiIAIiIAIiIAIiIAIlJKAhE8pwek1ERABERABERABERABERCB7CEg4ZM9daWcioAIiIAIiIAIiIAIiIAIlJKAhE8pwek1ERABERABERABERABERCB7CEg4ZM9daWcioAIiIAIiIAIiIAIiIAIlJKAhE8pwek1ERABERABERABERABERCB7CEg4ZM9daWcioAIiIAIiIAIiIAIiIAIlJKAhE8pwek1ERABERABERABERABERCB7CEg4ZM9daWcioAIiIAIiIAIiIAIiIAIlJKAhE8pwek1ERABERABERABERABERCB7CEg4ZM9daWcioAIiIAIiIAIiIAIiIAIlJKAhE8pwek1ERABERABERABERABERCB7CEg4ZM9daWcioAIiIAIiIAIiIAIiIAIlJKAhE8pwek1ERABERABERABERABERCB7CEg4ZM9daWcioAIiIAIiIAIiIAIiIAIlJKAhE8pwek1ERABERABERABERABERCB7CEg4ZM9daWcioAIiIAIiIAIiIAIiIAIlJJAzguff/75x0499VRbvHixVahQwapVq2aLFi2ydevW2ZZbbmkPPvigvf7663bVVVfZ2LFjrVatWqVEndhra9assXLlylmZMmUSezHOp6dMmWI33XSTde3a1U455ZQ439JjIpA7BC6//HL74YcfXB+k3y9ZssTol5UqVXJ954gjjrDnnnvOdt9991CgrF271uWlbNmyKUnviy++cOPdb7/9Zs2aNXNl7Ny5c0rSUqQiIAIikGwCl112mf34449ujKxZs2b+mF25cmW78cYb3Zj9/PPP22677ZbspIuML9Vj9ueff24PPfSQ/frrr9a8eXO7+eabbbvtttsoL9dee60b1wcOHGi1a9d2v2ft26dPH/v222/dupc17n777RcKl3QnkvPCZ8WKFfbss8/a6tWr7eeff7ZHH33Ubr/9dqtatao1bNjQjjnmGJswYYK9//77du6557pFTxhh5513dg16p512SnpyDz/8sD3xxBM2ceJEJ3oee+yxpKehCEUg2wm89tprNnPmTFu+fLmbIM4++2zr2LGj25Do2bOnvfjii258YMIJI/Tu3du23357u/TSS5OeHILuyCOPtPbt27uJEwHEAoIxokGDBklPTxGKgAiIQLIJFB6zzznnHNt6662tfPnybsx+4YUXrFevXm5jJ4xwwgkn2I477miXXHJJ0pNjzcqYvdVWW9m2225rDzzwgFvDInBix+xhw4a5eYrNfMb0tm3buv9G/FWvXt0Jnq+//tpuuOEGGzduXE5sduW88Iltjd99953ttddetnDhwgKNFHE0e/Zsa9Wqla1fv96+//5719C+/PJLw3Jy4IEHuh1hGt0333xjXbp0cc/GBhoWv2/durXtueee+b8i7jfeeMM1RNR2vXr17NNPP3Vx/uc//7E99tjDiR9fcH388cc2bdo0l76v7P0Gvc0227gGTMPnvdg80EmwaPE3uwKnnXaasTtCeuwCKIiACBRPgF2yDz/80E1iBMaByZMnO9HDpPrTTz/ZZpttZnPmzDEsJ2xcMMH8/fffbtNkiy22yH/XT2XSpEk2cuRIN3YcdthhBRL/73//6+LaZZddnOWZsYnJC+F1wQUXuL/puwR+x64dk3n37t3z4yFP5IGxa8SIEU7U+PnnoVirMmMIZULUERB8TZs2dXnff//91TREQAREIKsIMGazXmKzqKQxm/GRtRxjbZs2bUocs//44w8bNWqUs5oceuihBXi899579tdff+WP2YzJjNmdOnWy888/v8gxm/lj3333LTBmt2vXzo2/n332mXXo0MF22GGH/N+XNGbPmDHDzQHMU/48sHLlSrdWZOOODf133nnHzQlw6dGjh/NuqlixoosfIbT55ps7L4aoBwmfmBpmEUJjYEHjmwP59VtvveUsIwsWLDBMl+wgsIig0bCwYdFw4okn2ptvvukaEQ2ezoEQISAwPvjgA9chvvrqK+de9vjjj9u8efPskEMOscaNG1teXp41atTI7rrrLmeO5XnSoCEPHjzY6tat6zrRrFmz3ELok08+cZ0JtY6bHp2bBk7HY/GCACIO3HB++eUXlzb/ZkHmB4QW4gjrj4IIiEDRBHAJaNGihbGbuM8++7iH/I2Q0aNHu35HP161apVzRWOyYXOEDQY2NeiPTGJPPvmknXTSSe593C2uu+4669atm02dOtWJEMROlSpV3FjDBOsLp5dfftltgtBPEUn8HDc0+jZpMFGx0YEAYtLEEkU+mPwYj5YtW2a4ejBm3H333XbRRRe59NiEufjiiw2XvsKBzRPE2v/93/9tJNjUTkRABEQgkwmwNmvZsqUbfxljCaydGPNYG7E2O/jgg904SGADevz48RuN2U9ieX5SAAALRUlEQVQ99ZRb2xHwDMIqQnxseLMW9Mfsk08+2f78808nHFjXDR061I3ZbCr7YzZjNeKCsZvxnzGbtSLrvCFDhrgxGxHEJvfSpUvzx+x77rnHLrzwQrdpTf5ZTxZl9cfdjbUhRzJ8sXf11Ve7fJEea0lc45g/mHsQSGPGjMmvRtzhEEZwiHqQ8Imp4ZKEz5lnnulEBQERgtWGsz8Edl7r16/vRA2NHJGBOGKhg7LGHElH9AP+lCwoWPAcd9xxTlARcKlhgULAzY4FzN577+3+jXva/fffb7///rv7N7vF7Poi0urUqeP8WRFtmHLpQIgkFk+YLtk9oLPccsstrtH7gZ1cBgcJn6h3c5UvCIHihA99iYmEHT0stEw89GvGA3YDmRSZZLHMXnPNNU44ISjYLGGCRIj4u3nEgeA577zz3MQ3d+5cFw+bKvzBqoQ1monztttuc8Vh0sS6TP+m//tjERsljAU8j0BjE4bxacCAAc5aNH/+fOfKy5hGPnEBKRxw62PsokykrSACIiAC2UKgOOHDZg4WedZOrH9YTzFms6ZjzEQMMGb7VhI2vdk4ZsxGdGA59889Ip5OP/105wLNug3Bw1oMQYT1nHGTdSIC59Zbb3Xo8Aji34iwGjVquJ+RNqIKIcamOOtMf8zmGAKbU4zZbIoxZuMdQF4Lh7POOsuGDx/u8kvaCJ5dd93VbcKxsU7ZfeHDsQ08kNiQ8wPrS45XsG6MepDwianh4oTP22+/bTQqFhEsQrDQvPTSS/k7CewA0GivuOIKFxtqHHe0V1991an+p59+2il2dhXYgUVZDxo0yC04WPCw+MEU6Vtj2DlGndMZDjjgABcn4oldhqOPPtrtLJMPDuux48x7dDgWWn4cKHdEFZ3IF1OFG7OET9S7t8qXDALFCR8mEsYM+nBhUUK/Z+cN9wcCYwjjA8LHd2Vl99AXNYwHTKjsFLLZgbstvz/88MPzi8CkyER25513up8xSbGLiNXXH1uYYK+88ko37jAWMMawu0dATOG+xqQaa/ktzAhBxs4jC4BUnDFMRp0oDhEQAREojkBxwgfrCuMfwofxlD++KLn++uud1Zy1EwHRw7oMIcGYiFWfZ2LHbNZubDYzZjNPMGbHui0jcticws2MwDmcfv36uTE6dswmHeJmvGXMZ6OMwPqNMRuxVtJYzCYVFn4sOOQJ4UU8ePWwmYbVn802LuthQ42zT5QLIecH8sbZTgmfHOtX8QqfJk2aGCZQxA6BxkUHouESOMiGomcRw6IEVxWUOmZVGiQihUaJfyfP0REQSQiV++67zwmbwsIHhY/PPwsZ4sGqwwE2DjwjpugcdFT/hik6KmmwG4yFqagg4ZNjDVzFLRWBeIQPmx+4F+CWQMCdAQswZ2QIuMEymXFRChsUuLMy2fm3NnLIlDGESYv+379/fzfGcG4ISxG/ZxLF4uMLH9zWSM93XWNswUWXCZpJrrDwQUz553aIq6jAjiQTLGnjvqEgAiIgAtlGIB7hgzWGsY5xlNC3b18nHPzNKtzkWNNxVvLdd991m86M2X5gTCYOxn3G7HvvvdeNm4y9jNmsuxA9jLW+8GHsZo3HRri/Hiw8ZiOcfOGDNxBjNpYo4ioq4NXDWI+l33fLQ+BgkWLDnrPd3EjKOpQ1IRth5A+PJbwG/EDZsBjFur9lW73Hm19ZfGJIlVb4oLTpAL7wwTSJdQjhg/mQho61pqTAgoiDbAgVLEp0BjoeO8kELiPANQ5lXzjgD8o7qHX/amrygqucr97ZXSh8Ix0LJMy3vKcgAiJQNIHSCB/fGusLH/oyll76OT7UuFJwFohJqaSAi8Izzzxjxx57rBM9jAe+qxv9m90831W2cDw8jzse7xNwa+B9NlDYNPHT96/HxhrF7zlnyIaKggiIgAhkI4HSCJ/CVnqEARYchA+WIAQOY+amXH8Zszl3yXEDxmCsQb5VibM8iB5c14oKWPTxJMBLiIBFhk01LD+4Kxc1ZrP2RHQdf/zx+VFi3SctOOB6xzlwzhuxmYVHEkck2PjGEkR+CRzPYDPf31jLxnqPN88SPjGkfBcP31fT/xXWGBqV72KGgEDU+G4o7BrgGuIvSM444wwnYNg5YFGC8ubcD3HQ0NgJZpeB32N25V0UPZcP0MFwTeOKQi4ewMWNdGjIdDwEEAes6QiYKu+44w7XsNkZZscX0YXvKL78nDHieXw5uc0JNc/OAAfdyB+dBf9SvmNEnPpmR7zdRs/lEgEmD87uYanxXU/9W8/8g6T0HfqWfzU8ll78qbktiMB44W+I8G8mmOnTpxuHT5l4ECX4i+PHzVk831qLWCIeJiV8ydl5ZGfSvzmSMYGLF7Aoc/iV8QSXOsaDgw46yLniMQbwHHniZ+wM8izvcbEBz7N5gpWZixiY7BF7jCeki3VKQQREQASyhQDWbTaPWVP536bxbz3Dqs25SzafECZ8woTAOMjRAcZbAscZOBvNWE/gHCceOozZeNkgSljrsR7Ea4dxkjEdiwquaazhGJfZ/PJv6GXMZSxmbce7jMOM0bi+MWYzv5A+YzbWf/KEtw+WJJ7FS4hxnHxhxWHMZvOMjW5/zMaNL9ZFmrwzvsODIxicH2cjnDnLd3vD/ZrNOa675pKtqAcJn5gaxjpCJ0Cdx56LoTGgnjFXshhgMcKOKA2bgG8kKt1fFGFSpBHSsAl0ODoGnYJFDqreV90IF6xDNEAWHP4V1BxIYwFEPrjYgMPLmC8RTHRqzKikxy1RiCl2domLhRaNmx1if9eWjktnpHNghmXhhGjCVIu/Kp2CjqZra6Pe3VW+0hBgl43+g9sAt6YRmHSw6tCPcUXAasqk5E84+Imzq8YGBIENDdzdeIfAJgo7a7gVsINIvEx+CB/GH3YZmVx5Hxc4AgdscYHAYsN4wgTHziHPc0iXCZBJFYHF5QWII/4wdvg+4owBWHjYLGHnEasvYogxhDLyN+ML4xyBtP0ylIad3hEBERCBsAmwsGc84yyLf6ETVg9ckNnswUMGbxwud/LHbL53g1cNt+UScAPjbCbrpaLGbNZ8jNms0VirscFceMxmw5r1ImM2G+NsJLGxzpjNepPnESD+mM1RBSw4rO9Yy7GZRjlix2yEECKMdRu/41Ks2DGb9/0y+NzZvCNNRBOWIwJ5Yz5inkIMMTfgAZQLQcInArVMB+DcEbvBxfmBRqCYKoIIiEACBLDyYlnyxVYCr+pRERABERCBkAlg5eEcNxYihdQRkPBJHdvQYmaXlt3mV155Jf/669ASV0IiIAIZSQD3Wtw8uPlNQQREQAREILMJYOHBmqPNqtTWk4RPavmGEjtuKRxMRvzgKqMgAiIgAnzHAZcJ37VBRERABERABDKXgMbscOpGwicczkpFBERABERABERABERABEQgjQQkfNIIX0mLgAiIgAiIgAiIgAiIgAiEQ0DCJxzOSkUEREAEREAEREAEREAERCCNBCR80ghfSYuACIiACIiACIiACIiACIRDQMInHM5KRQREQAREQAREQAREQAREII0EJHzSCF9Ji4AIiIAIiIAIiIAIiIAIhENAwicczkpFBERABERABERABERABEQgjQQkfNIIX0mLgAiIgAiIgAiIgAiIgAiEQ0DCJxzOSkUEREAEREAEREAEREAERCCNBCR80ghfSYuACIiACIiACIiACIiACIRDQMInHM5KRQREQAREQAREQAREQAREII0EJHzSCF9Ji4AIiIAIiIAIiIAIiIAIhENAwicczkpFBERABERABERABERABEQgjQQkfNIIX0mLgAiIgAiIgAiIgAiIgAiEQ0DCJxzOSkUEREAEREAEREAEREAERCCNBP4f9YEMu07+O/EAAAAASUVORK5CYII=)"
      ],
      "metadata": {
        "id": "T2vweKrHayiw"
      }
    },
    {
      "cell_type": "code",
      "source": [
        "# 23.5 Compile the model\n",
        "model.compile(optimizer=RMSprop(), loss='mae')"
      ],
      "metadata": {
        "id": "FKxq2m3Ka8Jy"
      },
      "execution_count": 58,
      "outputs": []
    },
    {
      "cell_type": "code",
      "source": [
        "# 23.6 Train the model\n",
        "# Refer: https://stackoverflow.com/a/44277785\n",
        "# For better comparision, keep steps_per_epoch to 500\n",
        "\n",
        "start = time.time()    # Takes 10 minutes\n",
        "history = model.fit_generator(train_gen,    # Each time train_gen is called, it\n",
        "                                            #  returns a sample of shape (128,240,14)\n",
        "                                            #   So 240 GRU units, each receiving\n",
        "                                            #    input vector of 14 features (Xt)\n",
        "                                            #     Size of each timeseries: 240. Total batches: 128\n",
        "                              steps_per_epoch=50,  # Total number of times generator called\n",
        "                                                   #   & samples yielded from generator\n",
        "                                                   #     Here each step brings a batch of 128\n",
        "                              epochs=20,    # What is an epoch? An epoch finishes\n",
        "                                           #  when all the steps_per_epoch batches have\n",
        "                                           #    been seen by the model.\n",
        "                              validation_data=val_gen,\n",
        "                              validation_steps=val_steps,\n",
        "                              verbose =1)\n",
        "\n",
        "end = time.time()\n",
        "print((end-start)/60)   # 2 mins on colab"
      ],
      "metadata": {
        "colab": {
          "base_uri": "https://localhost:8080/"
        },
        "id": "83BDlLMjbCrH",
        "outputId": "12f5293b-fb27-48ed-cce4-e768c62b8f59"
      },
      "execution_count": 59,
      "outputs": [
        {
          "output_type": "stream",
          "name": "stdout",
          "text": [
            "Epoch 1/20\n"
          ]
        },
        {
          "output_type": "stream",
          "name": "stderr",
          "text": [
            "<ipython-input-59-eef637b9b8e0>:4: UserWarning: `Model.fit_generator` is deprecated and will be removed in a future version. Please use `Model.fit`, which supports generators.\n",
            "  history = model.fit_generator(train_gen,    # Each time train_gen is called, it\n"
          ]
        },
        {
          "output_type": "stream",
          "name": "stdout",
          "text": [
            "50/50 [==============================] - 32s 576ms/step - loss: 0.3481 - val_loss: 0.3121\n",
            "Epoch 2/20\n",
            "50/50 [==============================] - 24s 494ms/step - loss: 0.3255 - val_loss: 0.2861\n",
            "Epoch 3/20\n",
            "50/50 [==============================] - 28s 572ms/step - loss: 0.3174 - val_loss: 0.3049\n",
            "Epoch 4/20\n",
            "50/50 [==============================] - 28s 567ms/step - loss: 0.3167 - val_loss: 0.2946\n",
            "Epoch 5/20\n",
            "50/50 [==============================] - 33s 676ms/step - loss: 0.3143 - val_loss: 0.3035\n",
            "Epoch 6/20\n",
            "50/50 [==============================] - 27s 551ms/step - loss: 0.3086 - val_loss: 0.2911\n",
            "Epoch 7/20\n",
            "50/50 [==============================] - 31s 630ms/step - loss: 0.3113 - val_loss: 0.2957\n",
            "Epoch 8/20\n",
            "50/50 [==============================] - 29s 583ms/step - loss: 0.3078 - val_loss: 0.2850\n",
            "Epoch 9/20\n",
            "50/50 [==============================] - 32s 642ms/step - loss: 0.3095 - val_loss: 0.2848\n",
            "Epoch 10/20\n",
            "50/50 [==============================] - 33s 671ms/step - loss: 0.3040 - val_loss: 0.2845\n",
            "Epoch 11/20\n",
            "50/50 [==============================] - 30s 603ms/step - loss: 0.3005 - val_loss: 0.2889\n",
            "Epoch 12/20\n",
            "50/50 [==============================] - 39s 800ms/step - loss: 0.3028 - val_loss: 0.2868\n",
            "Epoch 13/20\n",
            "50/50 [==============================] - 32s 644ms/step - loss: 0.2974 - val_loss: 0.2783\n",
            "Epoch 14/20\n",
            "50/50 [==============================] - 30s 607ms/step - loss: 0.3011 - val_loss: 0.2895\n",
            "Epoch 15/20\n",
            "50/50 [==============================] - 28s 571ms/step - loss: 0.3023 - val_loss: 0.2761\n",
            "Epoch 16/20\n",
            "50/50 [==============================] - 29s 590ms/step - loss: 0.3006 - val_loss: 0.2951\n",
            "Epoch 17/20\n",
            "50/50 [==============================] - 27s 556ms/step - loss: 0.2996 - val_loss: 0.2824\n",
            "Epoch 18/20\n",
            "50/50 [==============================] - 28s 578ms/step - loss: 0.3008 - val_loss: 0.2951\n",
            "Epoch 19/20\n",
            "50/50 [==============================] - 25s 512ms/step - loss: 0.3008 - val_loss: 0.2768\n",
            "Epoch 20/20\n",
            "50/50 [==============================] - 28s 570ms/step - loss: 0.3006 - val_loss: 0.2897\n",
            "9.914072926839193\n"
          ]
        }
      ]
    },
    {
      "cell_type": "code",
      "source": [
        "# 23.7 Plot loss history\n",
        "#      This function is defined at the end\n",
        "plot_learning_curve()"
      ],
      "metadata": {
        "colab": {
          "base_uri": "https://localhost:8080/",
          "height": 281
        },
        "id": "gpyowwCBbATH",
        "outputId": "73846c8b-7aeb-4596-e56c-7f1326a31ce1"
      },
      "execution_count": 60,
      "outputs": [
        {
          "output_type": "display_data",
          "data": {
            "text/plain": [
              "<Figure size 432x288 with 1 Axes>"
            ],
            "image/png": "[encoded data removed]"
          },
          "metadata": {
            "needs_background": "light"
          }
        }
      ]
    },
    {
      "cell_type": "markdown",
      "source": [
        "## GRU model with dropouts"
      ],
      "metadata": {
        "id": "NONte5dJczT_"
      }
    },
    {
      "cell_type": "code",
      "source": [
        "###################################\n",
        "### CC. GRU model with dropouts\n",
        "###################################"
      ],
      "metadata": {
        "id": "YHy_yz9scyXi"
      },
      "execution_count": null,
      "outputs": []
    },
    {
      "cell_type": "code",
      "source": [
        "# Models with dropouts take longer time than without dropouts. Why? See:\n",
        "#   https://stats.stackexchange.com/a/377126\n",
        "\n",
        "\n",
        "# 24.1 Design model\n",
        "del model\n",
        "model = Sequential()\n",
        "\n",
        "# 24.2 GRU layer with dropouts\n",
        "#      What is Recurrent layer dropout?\n",
        "#      See: https://stackoverflow.com/questions/44924690/keras-the-difference-between-lstm-dropout-and-lstm-recurrent-dropout\n",
        "model.add(tf.keras.layers.GRU(32,\n",
        "                     dropout=0.2,             # Dropout of input layer\n",
        "                     recurrent_dropout=0.2,   # Dropout of recurrent layer\n",
        "                     input_shape=(None, float_data.shape[-1]) # float_data.shape[-1] = 14\n",
        "                     )\n",
        "        )"
      ],
      "metadata": {
        "id": "Nb7-36k1cvGR",
        "outputId": "617a7f23-53b3-4d92-f5ef-f4ef84a5178f",
        "colab": {
          "base_uri": "https://localhost:8080/"
        }
      },
      "execution_count": null,
      "outputs": [
        {
          "output_type": "stream",
          "name": "stderr",
          "text": [
            "WARNING:tensorflow:Layer gru_3 will not use cuDNN kernels since it doesn't meet the criteria. It will use a generic GPU kernel as fallback when running on GPU.\n"
          ]
        }
      ]
    },
    {
      "cell_type": "code",
      "source": [
        "# 24.3 Output layer\n",
        "model.add(tf.keras.layers.Dense(1))\n",
        "\n",
        "# 24.4 Compile te model\n",
        "model.compile(optimizer=RMSprop(), loss='mae')"
      ],
      "metadata": {
        "id": "qsebiLVtc7NA"
      },
      "execution_count": null,
      "outputs": []
    },
    {
      "cell_type": "code",
      "source": [
        "# 24.5 Model summary\n",
        "model.summary()"
      ],
      "metadata": {
        "id": "SHot8Dq8dDTk",
        "outputId": "47f47fed-374e-4f71-8a75-e9b31bfa84e7",
        "colab": {
          "base_uri": "https://localhost:8080/"
        }
      },
      "execution_count": null,
      "outputs": [
        {
          "output_type": "stream",
          "name": "stdout",
          "text": [
            "Model: \"sequential_7\"\n",
            "_________________________________________________________________\n",
            " Layer (type)                Output Shape              Param #   \n",
            "=================================================================\n",
            " gru_3 (GRU)                 (None, 32)                4608      \n",
            "                                                                 \n",
            " dense_3 (Dense)             (None, 1)                 33        \n",
            "                                                                 \n",
            "=================================================================\n",
            "Total params: 4,641\n",
            "Trainable params: 4,641\n",
            "Non-trainable params: 0\n",
            "_________________________________________________________________\n"
          ]
        }
      ]
    },
    {
      "cell_type": "code",
      "source": [
        "# 24.6 Train the model\n",
        "# For better comparision, keep steps_per_epoch to 500\n",
        "\n",
        "start = time.time()     # Around 32 minutes\n",
        "history = model.fit_generator(train_gen,\n",
        "                              steps_per_epoch=500,\n",
        "                              epochs=20,\n",
        "                              validation_data=val_gen,\n",
        "                              validation_steps=val_steps,\n",
        "                              verbose =1)\n",
        "end = time.time()\n",
        "print((end-start)/60)"
      ],
      "metadata": {
        "id": "UGuR33LZc9NB"
      },
      "execution_count": null,
      "outputs": []
    },
    {
      "cell_type": "code",
      "source": [
        "# 24.7 Plot loss history\n",
        "#      This function is defined at the end\n",
        "plot_learning_curve()"
      ],
      "metadata": {
        "id": "E1aVG4XCdAcI"
      },
      "execution_count": null,
      "outputs": []
    },
    {
      "cell_type": "markdown",
      "source": [
        "## Stacked GRU Model"
      ],
      "metadata": {
        "id": "YuU9qlKzdjTo"
      }
    },
    {
      "cell_type": "code",
      "source": [
        "###################################\n",
        "### DD. Stacked GRU models\n",
        "###     Takes long time\n",
        "###################################"
      ],
      "metadata": {
        "id": "Ke4fNX4TdmhO"
      },
      "execution_count": null,
      "outputs": []
    },
    {
      "cell_type": "code",
      "source": [
        "# 25.1 Design model\n",
        "model = Sequential()\n",
        "# 25.2 First GRU layer\n",
        "model.add(tf.keras.layers.GRU(32,\n",
        "                     dropout=0.1,\n",
        "                     recurrent_dropout=0.5,    # Dropouts between two stacked GRU layers\n",
        "                     return_sequences=True,    # Must for stacking another layer on top\n",
        "                     input_shape=(None, float_data.shape[-1])))"
      ],
      "metadata": {
        "id": "3rrKPRNAd61I"
      },
      "execution_count": null,
      "outputs": []
    },
    {
      "cell_type": "code",
      "source": [
        "# 25.3 IInd GRU layer\n",
        "model.add(tf.keras.layers.GRU(64, activation='relu',\n",
        "                     dropout=0.1,\n",
        "                     recurrent_dropout=0.5)\n",
        "          )"
      ],
      "metadata": {
        "id": "0UD-GYCKdgX5"
      },
      "execution_count": null,
      "outputs": []
    },
    {
      "cell_type": "code",
      "source": [
        "# 25.4 Final output layer\n",
        "model.add(tf.keras.layers.Dense(1))\n",
        "# 25.6 Compile the model\n",
        "model.compile(optimizer=RMSprop(), loss='mae')"
      ],
      "metadata": {
        "id": "FYYxCP5Zd-fH"
      },
      "execution_count": null,
      "outputs": []
    },
    {
      "cell_type": "code",
      "source": [
        "# 25.5 Model summary\n",
        "model.summary()"
      ],
      "metadata": {
        "id": "zdS17Ft6eX18"
      },
      "execution_count": null,
      "outputs": []
    },
    {
      "cell_type": "code",
      "source": [
        "# 25.7 Train the model\n",
        "# For better comparision, keep steps_per_epoch to 500\n",
        "\n",
        "start = time.time()    # Takes 82 minutes\n",
        "history = model.fit_generator(train_gen,\n",
        "                              steps_per_epoch=50,\n",
        "                              epochs=5,\n",
        "                              validation_data=val_gen,\n",
        "                              validation_steps=val_steps,\n",
        "                              verbose =1\n",
        "                              )\n",
        "end = time.time()\n",
        "print((end-start)/60)\n"
      ],
      "metadata": {
        "id": "dMlvtC7SeP4G"
      },
      "execution_count": null,
      "outputs": []
    },
    {
      "cell_type": "code",
      "source": [
        "# 25.8 Plot loss history now, epoch-wise\n",
        "#      This function is defined at the end\n",
        "plot_learning_curve()"
      ],
      "metadata": {
        "id": "Yi0cBT9IeePe"
      },
      "execution_count": null,
      "outputs": []
    },
    {
      "cell_type": "markdown",
      "source": [
        "## BiDirectional RNN"
      ],
      "metadata": {
        "id": "GoqkOUnqeurC"
      }
    },
    {
      "cell_type": "code",
      "source": [
        "###################################\n",
        "### EE. Bidirectional RNN\n",
        "###     Takes long time\n",
        "###################################"
      ],
      "metadata": {
        "id": "02UiNq8oeopU"
      },
      "execution_count": null,
      "outputs": []
    },
    {
      "cell_type": "code",
      "source": [
        "\"\"\"\n",
        "What is bidirectional RNN?\n",
        "    Ref: Page: 220, Book on Deep Learning by Chollet\n",
        "    A bidirectional RNN is two RNNs running in parallel\n",
        "    and their outputs get concatenated to be fed to\n",
        "    classifier. One RNN considers input sequence as it\n",
        "    comes (this is a cow). The other RNN reverses the\n",
        "    sequence (cow a is this). It looks at the sequence\n",
        "    from different perspective with the hope that this\n",
        "    new angle may further assist in creating new features.\n",
        "    As Bidirectional RNN uses two RNNs they can be GRU\n",
        "    or LSTM or even SimpleRNN.\n",
        "\"\"\""
      ],
      "metadata": {
        "id": "0yAui8jAezVu"
      },
      "execution_count": null,
      "outputs": []
    },
    {
      "cell_type": "code",
      "source": [
        "# 26.1 Develop deeplearning model using bidirectioal RNN\n",
        "model = Sequential()\n",
        "model.add(layers.Bidirectional(\n",
        "                               layers.GRU(32),      # Can use LSTMs also\n",
        "                               input_shape=(None,float_data.shape[-1])\n",
        "                               )\n",
        "         )"
      ],
      "metadata": {
        "id": "BbX9yt01e20R"
      },
      "execution_count": null,
      "outputs": []
    },
    {
      "cell_type": "code",
      "source": [
        "model.add(layers.Dense(1))\n",
        "model.compile(\n",
        "              optimizer = RMSprop(),\n",
        "              loss = 'mae'\n",
        "              )"
      ],
      "metadata": {
        "id": "VEPhgqlXe5Kj"
      },
      "execution_count": null,
      "outputs": []
    },
    {
      "cell_type": "code",
      "source": [
        "start = time.time()\n",
        "history = model.fit_generator(train_gen,\n",
        "                              steps_per_epoch = 500,\n",
        "                              epochs = 10,\n",
        "                              validation_data = val_gen,\n",
        "                              validation_steps=val_steps\n",
        "                              )\n",
        "end = time.time()\n",
        "(end-start)/60\n"
      ],
      "metadata": {
        "id": "yeBmpLS-emu-"
      },
      "execution_count": null,
      "outputs": []
    },
    {
      "cell_type": "code",
      "source": [
        "\n",
        "# 26.2 Plot loss history now, epoch-wise\n",
        "#      This function is defined at the end\n",
        "plot_learning_curve()"
      ],
      "metadata": {
        "id": "nEr6JWECe7cP"
      },
      "execution_count": null,
      "outputs": []
    },
    {
      "cell_type": "code",
      "source": [
        "\"\"\"\n",
        "How to improve further?\n",
        "Suggestions to further improve model:\n",
        "    i)  Adjust the number of units in each recurrent layer in Stacked setup\n",
        "        Current choice is arbitrary.\n",
        "    ii) Adjust the learning rate used by RMSprop layer.\n",
        "        Syntax: RMSprop(lr=0.001, rho=0.9, epsilon=None, decay=0.0)\n",
        "    iii)Try using LSTM layers instead of GRU layers. LSTM layers\n",
        "        are computaionally intensive but retain more memory.\n",
        "    iv) Try using a bigger densely connected regressor instead\n",
        "        of simple one as used here.\n",
        "    v)  Run the best performing model as per the history instead of\n",
        "        the model that is returned at the end of all epochs.\n",
        "    vi) Maybe add a convolution layer before recurrent layer\n",
        "\"\"\"'"
      ],
      "metadata": {
        "id": "HUoPb1a4e-V3"
      },
      "execution_count": null,
      "outputs": []
    }
  ]
}