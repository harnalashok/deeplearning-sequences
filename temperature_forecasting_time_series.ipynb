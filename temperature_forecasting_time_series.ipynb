{
  "nbformat": 4,
  "nbformat_minor": 0,
  "metadata": {
    "colab": {
      "provenance": [],
      "include_colab_link": true
    },
    "kernelspec": {
      "name": "python3",
      "display_name": "Python 3"
    },
    "language_info": {
      "name": "python"
    }
  },
  "cells": [
    {
      "cell_type": "markdown",
      "metadata": {
        "id": "view-in-github",
        "colab_type": "text"
      },
      "source": [
        "<a href=\"https://colab.research.google.com/github/harnalashok/deeplearning-sequences/blob/main/temperature_forecasting_time_series.ipynb\" target=\"_parent\"><img src=\"https://colab.research.google.com/assets/colab-badge.svg\" alt=\"Open In Colab\"/></a>"
      ]
    },
    {
      "cell_type": "code",
      "execution_count": null,
      "metadata": {
        "id": "jdneRZu9b6LV"
      },
      "outputs": [],
      "source": [
        "# Last amended: 01st Feb, 2023\n",
        "# My folder: /home/ashok/Documents/14.sensor_data\n",
        "# VM: lubuntu_deeplearning_I.vdi\n",
        "# Ref: Page 207, Chapter 6, Deep Learning with Python by Fracois Chollete\n",
        "# Download dataset from:\n",
        "# 1. Link to my google drive\n",
        "#  https://drive.google.com/file/d/1rnhlFKmmmhXqawaIBgjSTsqGrTLCUldV/view?usp=sharing\n",
        "# 2. Link to original datasource\n",
        "#  https://s3.amazonaws.com/keras-datasets/jena_climate_2009_2016.csv.zip"
      ]
    },
    {
      "cell_type": "code",
      "source": [
        "# Objectives:\n",
        "#             i)  Working with timeseries data\n",
        "#             i)  Working with sensor data\n",
        "#                 (Data comes from many sensors)\n",
        "#             ii) Processing data to make it fit for modeling\n",
        "#            iii) Creating a data generator for training and validation\n",
        "#            iv)  Making predictions using\n",
        "#                   a) Fully connected dense model\n",
        "#                   b) GRU model\n",
        "#                   c) GRU model with dropouts\n",
        "#                   d) Stacked GRU models\n",
        "#                   e) Bidirectional RNN layer\n",
        "#\n",
        "#"
      ],
      "metadata": {
        "id": "huq-vVpRcH4X"
      },
      "execution_count": null,
      "outputs": []
    },
    {
      "cell_type": "markdown",
      "source": [
        "## Task"
      ],
      "metadata": {
        "id": "NJ616xsmcMxP"
      }
    },
    {
      "cell_type": "code",
      "source": [
        "# We will predict temperature\n",
        "# Sensor data is recorded every 10 minutes. So per-day we have:\n",
        "#   no of minutes:              24 * 60     =  1440\n",
        "#   no of 10 minutes interval: (24 * 60)/10 = 144 datapoints/per day\n",
        "#   no of data-points in 10 days: 1440"
      ],
      "metadata": {
        "id": "gdWgLHxRcL6_"
      },
      "execution_count": null,
      "outputs": []
    },
    {
      "cell_type": "markdown",
      "source": [
        "## Call libraries"
      ],
      "metadata": {
        "id": "q5YGPiuocaeX"
      }
    },
    {
      "cell_type": "code",
      "source": [
        "# 1.0 Reset all variables\n",
        "#%reset -f\n",
        "\n",
        "# 1.0 Call libraries\n",
        "import numpy as np\n",
        "import matplotlib.pyplot as plt\n",
        "import os, time, gc, pathlib"
      ],
      "metadata": {
        "id": "GfcUriAvcZnA"
      },
      "execution_count": 1,
      "outputs": []
    },
    {
      "cell_type": "code",
      "source": [
        "# 1.0.1\n",
        "from IPython.core.interactiveshell import InteractiveShell\n",
        "InteractiveShell.ast_node_interactivity = \"all\"\n"
      ],
      "metadata": {
        "id": "9e-hx8pfdkcu"
      },
      "execution_count": 2,
      "outputs": []
    },
    {
      "cell_type": "markdown",
      "source": [
        "## Mount gdrive"
      ],
      "metadata": {
        "id": "IJx0do-PTlT8"
      }
    },
    {
      "cell_type": "code",
      "source": [
        "# 1.1\n",
        "from google.colab import drive\n",
        "drive.mount('/gdrive')"
      ],
      "metadata": {
        "colab": {
          "base_uri": "https://localhost:8080/"
        },
        "id": "pr3N9CPyTkkU",
        "outputId": "bf41baed-846b-428d-a4d2-c73fc8805a02"
      },
      "execution_count": 3,
      "outputs": [
        {
          "output_type": "stream",
          "name": "stdout",
          "text": [
            "Drive already mounted at /gdrive; to attempt to forcibly remount, call drive.mount(\"/gdrive\", force_remount=True).\n"
          ]
        }
      ]
    },
    {
      "cell_type": "markdown",
      "source": [
        "## How to read csv data in numpy"
      ],
      "metadata": {
        "id": "a4csnTjzchOX"
      }
    },
    {
      "cell_type": "code",
      "source": [
        "# 1.1 Where is my data foler?\n",
        "data_dir = '/gdrive/MyDrive/Colab_data_files/jena'\n",
        "\n",
        "# 1.1.0 Make data_dir a pathlib object\n",
        "folderPath = pathlib.Path(data_dir)"
      ],
      "metadata": {
        "id": "Bn10kSZUcndP"
      },
      "execution_count": 5,
      "outputs": []
    },
    {
      "cell_type": "code",
      "source": [
        "# 1.2 Join datapath with filename (intelligently)\n",
        "#     If you are on Windows, assign to fname full\n",
        "#     data path+ filename\n",
        "fname = os.path.join(data_dir, 'jena_climate_2009_2016.csv')\n",
        "fname"
      ],
      "metadata": {
        "id": "krnBJRr2cjV4",
        "colab": {
          "base_uri": "https://localhost:8080/",
          "height": 35
        },
        "outputId": "35706f2b-2c2a-4b45-b921-79986dee63fe"
      },
      "execution_count": 50,
      "outputs": [
        {
          "output_type": "execute_result",
          "data": {
            "text/plain": [
              "'/gdrive/MyDrive/Colab_data_files/jena/jena_climate_2009_2016.csv'"
            ],
            "application/vnd.google.colaboratory.intrinsic+json": {
              "type": "string"
            }
          },
          "metadata": {},
          "execution_count": 50
        }
      ]
    },
    {
      "cell_type": "code",
      "source": [
        "# 1.2 Get filename\n",
        "fname = folderPath / 'jena_climate_2009_2016.csv'"
      ],
      "metadata": {
        "id": "JGAKvCFkQem-"
      },
      "execution_count": 6,
      "outputs": []
    },
    {
      "cell_type": "code",
      "source": [
        "# 1.3 Read datafile, line by line\n",
        "# 1.3.1 First get a handle to file\n",
        "f = open(fname)   # open() default mode is text+read\n",
        "# 1.3.2 Use handle to read complete file\n",
        "data = f.read()"
      ],
      "metadata": {
        "id": "t_9bPtUhcu74"
      },
      "execution_count": 7,
      "outputs": []
    },
    {
      "cell_type": "code",
      "source": [
        "# 1.3.3 Close read file\n",
        "f.close()"
      ],
      "metadata": {
        "id": "LosNIABzctNX"
      },
      "execution_count": 8,
      "outputs": []
    },
    {
      "cell_type": "code",
      "source": [
        "type(data)"
      ],
      "metadata": {
        "colab": {
          "base_uri": "https://localhost:8080/"
        },
        "id": "dqFEfgrTUdLj",
        "outputId": "67a85bef-bcd9-476b-f069-555c7323ea2f"
      },
      "execution_count": 9,
      "outputs": [
        {
          "output_type": "execute_result",
          "data": {
            "text/plain": [
              "str"
            ]
          },
          "metadata": {},
          "execution_count": 9
        }
      ]
    },
    {
      "cell_type": "markdown",
      "source": [
        "## Observe read file data\n",
        "Basic python operations on file"
      ],
      "metadata": {
        "id": "v6RnleSAc5Fp"
      }
    },
    {
      "cell_type": "code",
      "source": [
        "# 1.3.4 Check data type\n",
        "assert type(data) is str\n",
        "print(\"\\n====\\n\")\n",
        "type(data) #  str"
      ],
      "metadata": {
        "colab": {
          "base_uri": "https://localhost:8080/"
        },
        "id": "GSK9UZtIVLRL",
        "outputId": "019655e8-fd06-4f1e-a501-3995b35a247d"
      },
      "execution_count": 10,
      "outputs": [
        {
          "output_type": "stream",
          "name": "stdout",
          "text": [
            "\n",
            "====\n",
            "\n"
          ]
        },
        {
          "output_type": "execute_result",
          "data": {
            "text/plain": [
              "str"
            ]
          },
          "metadata": {},
          "execution_count": 10
        }
      ]
    },
    {
      "cell_type": "code",
      "source": [
        "# 1.3.5 Observe data string\n",
        "\n",
        "data[0:200]      # Whole data is read as one string\n",
        "                 # Read first 200 characters of string\n",
        "                 # Note '\\n' at 196th character\n"
      ],
      "metadata": {
        "id": "wyz-ctvnc7xt",
        "colab": {
          "base_uri": "https://localhost:8080/",
          "height": 53
        },
        "outputId": "946241f2-2c71-46bb-ae43-cc4fdb6b9d59"
      },
      "execution_count": 35,
      "outputs": [
        {
          "output_type": "execute_result",
          "data": {
            "text/plain": [
              "'\"Date Time\",\"p (mbar)\",\"T (degC)\",\"Tpot (K)\",\"Tdew (degC)\",\"rh (%)\",\"VPmax (mbar)\",\"VPact (mbar)\",\"VPdef (mbar)\",\"sh (g/kg)\",\"H2OC (mmol/mol)\",\"rho (g/m**3)\",\"wv (m/s)\",\"max. wv (m/s)\",\"wd (deg)\"\\n01.0'"
            ],
            "application/vnd.google.colaboratory.intrinsic+json": {
              "type": "string"
            }
          },
          "metadata": {},
          "execution_count": 35
        }
      ]
    },
    {
      "cell_type": "code",
      "source": [
        "# 1.4 Look at data\n",
        "# 1.4.1 Split data on newline (\\n). So how many records?\n",
        "lines = data.split('\\n')    # Split data 'str' at every 'newline'\n",
        "                            # and collect the str(s) in a list\n",
        "print(\"\\n=====\\n\")\n",
        "type(lines)                 # list =>  All splits are in one list\n",
        "print(\"\\n=====\\n\")\n",
        "len(lines)                  # Total splits/elements are 420552\n",
        "print(\"\\n=====\\n\")\n",
        "lines[3]                    # Just print some element of list\n",
        "\n"
      ],
      "metadata": {
        "id": "Ekk9kqTGdChv",
        "colab": {
          "base_uri": "https://localhost:8080/",
          "height": 195
        },
        "outputId": "fdf88ad4-0968-4331-ef5e-cd6688ee0c13"
      },
      "execution_count": 11,
      "outputs": [
        {
          "output_type": "stream",
          "name": "stdout",
          "text": [
            "\n",
            "=====\n",
            "\n"
          ]
        },
        {
          "output_type": "execute_result",
          "data": {
            "text/plain": [
              "list"
            ]
          },
          "metadata": {},
          "execution_count": 11
        },
        {
          "output_type": "stream",
          "name": "stdout",
          "text": [
            "\n",
            "=====\n",
            "\n"
          ]
        },
        {
          "output_type": "execute_result",
          "data": {
            "text/plain": [
              "420552"
            ]
          },
          "metadata": {},
          "execution_count": 11
        },
        {
          "output_type": "stream",
          "name": "stdout",
          "text": [
            "\n",
            "=====\n",
            "\n"
          ]
        },
        {
          "output_type": "execute_result",
          "data": {
            "text/plain": [
              "'01.01.2009 00:30:00,996.53,-8.51,264.91,-9.31,93.90,3.21,3.01,0.20,1.88,3.02,1310.24,0.19,0.63,171.60'"
            ],
            "application/vnd.google.colaboratory.intrinsic+json": {
              "type": "string"
            }
          },
          "metadata": {},
          "execution_count": 11
        }
      ]
    },
    {
      "cell_type": "code",
      "source": [
        "# 1.4.2 Does any header exist? Check\n",
        "lines[0]                   # yes, it does\n",
        "print(\"\\n=====\\n\")\n",
        "lines[1]"
      ],
      "metadata": {
        "id": "2S5fHG7ldv_o",
        "colab": {
          "base_uri": "https://localhost:8080/",
          "height": 106
        },
        "outputId": "f77a16a6-0078-46f7-a8d1-7a4f3c6738af"
      },
      "execution_count": 13,
      "outputs": [
        {
          "output_type": "execute_result",
          "data": {
            "text/plain": [
              "'\"Date Time\",\"p (mbar)\",\"T (degC)\",\"Tpot (K)\",\"Tdew (degC)\",\"rh (%)\",\"VPmax (mbar)\",\"VPact (mbar)\",\"VPdef (mbar)\",\"sh (g/kg)\",\"H2OC (mmol/mol)\",\"rho (g/m**3)\",\"wv (m/s)\",\"max. wv (m/s)\",\"wd (deg)\"'"
            ],
            "application/vnd.google.colaboratory.intrinsic+json": {
              "type": "string"
            }
          },
          "metadata": {},
          "execution_count": 13
        },
        {
          "output_type": "stream",
          "name": "stdout",
          "text": [
            "\n",
            "=====\n",
            "\n"
          ]
        },
        {
          "output_type": "execute_result",
          "data": {
            "text/plain": [
              "'01.01.2009 00:10:00,996.52,-8.02,265.40,-8.90,93.30,3.33,3.11,0.22,1.94,3.12,1307.75,1.03,1.75,152.30'"
            ],
            "application/vnd.google.colaboratory.intrinsic+json": {
              "type": "string"
            }
          },
          "metadata": {},
          "execution_count": 13
        }
      ]
    },
    {
      "cell_type": "code",
      "source": [
        "# 1.4.3.1 Actual data from csv file\n",
        "#         Note each col-header is a string\n",
        "#         but each col value is NOT\n",
        "\"\"\"\n",
        "\"Date Time\",\"p (mbar)\",\"T (degC)\",\"Tpot (K)\",\"Tdew (degC)\",\"rh (%)\",\"VPmax (mbar)\",\"VPact (mbar)\",\"VPdef (mbar)\",\"sh (g/kg)\",\"H2OC (mmol/mol)\",\"rho (g/m**3)\",\"wv (m/s)\",\"max. wv (m/s)\",\"wd (deg)\"\n",
        "01.01.2009 00:10:00,996.52,-8.02,265.40,-8.90,93.30,3.33,3.11,0.22,1.94,3.12,1307.75,1.03,1.75,152.30\n",
        "01.01.2009 00:20:00,996.57,-8.41,265.01,-9.28,93.40,3.23,3.02,0.21,1.89,3.03,1309.80,0.72,1.50,136.10\n",
        "01.01.2009 00:30:00,996.53,-8.51,264.91,-9.31,93.90,3.21,3.01,0.20,1.88,3.02,1310.24,0.19,0.63,171.60\n",
        "\"\"\""
      ],
      "metadata": {
        "id": "mbaGuuZddch7"
      },
      "execution_count": null,
      "outputs": []
    },
    {
      "cell_type": "code",
      "source": [
        "# 1.4.3 Extract header (field-names)\n",
        "header = lines[0].split(',')  # Split at each ','\n",
        "header  # A list of strs AND within each string is a string"
      ],
      "metadata": {
        "id": "_nNljWDtdzWP",
        "colab": {
          "base_uri": "https://localhost:8080/"
        },
        "outputId": "03076cfe-3b2a-49d0-c5ef-f668b81e13d3"
      },
      "execution_count": 15,
      "outputs": [
        {
          "output_type": "execute_result",
          "data": {
            "text/plain": [
              "['\"Date Time\"',\n",
              " '\"p (mbar)\"',\n",
              " '\"T (degC)\"',\n",
              " '\"Tpot (K)\"',\n",
              " '\"Tdew (degC)\"',\n",
              " '\"rh (%)\"',\n",
              " '\"VPmax (mbar)\"',\n",
              " '\"VPact (mbar)\"',\n",
              " '\"VPdef (mbar)\"',\n",
              " '\"sh (g/kg)\"',\n",
              " '\"H2OC (mmol/mol)\"',\n",
              " '\"rho (g/m**3)\"',\n",
              " '\"wv (m/s)\"',\n",
              " '\"max. wv (m/s)\"',\n",
              " '\"wd (deg)\"']"
            ]
          },
          "metadata": {},
          "execution_count": 15
        }
      ]
    },
    {
      "cell_type": "code",
      "source": [
        "# 1.4.4 How many columns/fields?\n",
        "cols = len(header)\n",
        "cols             # 15"
      ],
      "metadata": {
        "id": "-k13-XlDd2Gn",
        "colab": {
          "base_uri": "https://localhost:8080/"
        },
        "outputId": "f6b13adc-2687-49f5-b11f-6e9b98eea752"
      },
      "execution_count": 16,
      "outputs": [
        {
          "output_type": "execute_result",
          "data": {
            "text/plain": [
              "15"
            ]
          },
          "metadata": {},
          "execution_count": 16
        }
      ]
    },
    {
      "cell_type": "code",
      "source": [
        "# 1.4.5 Print first three rows.\n",
        "#       Note 10-minute gap in the\n",
        "#       observations\n",
        "lines[1:4]     # A list of 3 string elements\n",
        "print(\"\\n======\\n\")\n",
        "len(lines)    # 420552 or header + 420551 data points"
      ],
      "metadata": {
        "id": "znBS9A3Ed3Um",
        "colab": {
          "base_uri": "https://localhost:8080/"
        },
        "outputId": "aa05d1ed-d759-4694-cd6d-4ba8ceee96ce"
      },
      "execution_count": 18,
      "outputs": [
        {
          "output_type": "execute_result",
          "data": {
            "text/plain": [
              "['01.01.2009 00:10:00,996.52,-8.02,265.40,-8.90,93.30,3.33,3.11,0.22,1.94,3.12,1307.75,1.03,1.75,152.30',\n",
              " '01.01.2009 00:20:00,996.57,-8.41,265.01,-9.28,93.40,3.23,3.02,0.21,1.89,3.03,1309.80,0.72,1.50,136.10',\n",
              " '01.01.2009 00:30:00,996.53,-8.51,264.91,-9.31,93.90,3.21,3.01,0.20,1.88,3.02,1310.24,0.19,0.63,171.60']"
            ]
          },
          "metadata": {},
          "execution_count": 18
        },
        {
          "output_type": "stream",
          "name": "stdout",
          "text": [
            "\n",
            "======\n",
            "\n"
          ]
        },
        {
          "output_type": "execute_result",
          "data": {
            "text/plain": [
              "420552"
            ]
          },
          "metadata": {},
          "execution_count": 18
        }
      ]
    },
    {
      "cell_type": "code",
      "source": [
        "# 1.4.6 Total samples?\n",
        "totalsamples = len(lines) - 1    # 420551 (exclude header)\n",
        "totalsamples"
      ],
      "metadata": {
        "id": "YL-5VnyXe57C",
        "colab": {
          "base_uri": "https://localhost:8080/"
        },
        "outputId": "91ef85e8-24f0-423a-c15f-b0b90d4b0bd5"
      },
      "execution_count": 19,
      "outputs": [
        {
          "output_type": "execute_result",
          "data": {
            "text/plain": [
              "420551"
            ]
          },
          "metadata": {},
          "execution_count": 19
        }
      ]
    },
    {
      "cell_type": "markdown",
      "source": [
        "## Data conversion to numpy\n",
        "Transform our `lines` to numpy array"
      ],
      "metadata": {
        "id": "OelYdZt_faYI"
      }
    },
    {
      "cell_type": "code",
      "source": [
        "# 2.0 Convert all 420551 data points into a numpy array\n",
        "#     for processing\n",
        "\n",
        "# 2.1 First create a zero-valued 2D-array\n",
        "#      While creating zero-valued 2D-array, forget\n",
        "#        first column or time col\n",
        "#     So array size will be same as that of data\n",
        "\n",
        "float_data = np.zeros((totalsamples, cols -1 ))  # Exclude 1st date/time col\n",
        "float_data.shape           # (420551,14)"
      ],
      "metadata": {
        "id": "-R-Z8gDAfYaw",
        "colab": {
          "base_uri": "https://localhost:8080/"
        },
        "outputId": "6cb93444-fe81-45e0-fa63-5d6565dc0a5e"
      },
      "execution_count": 21,
      "outputs": [
        {
          "output_type": "execute_result",
          "data": {
            "text/plain": [
              "(420551, 14)"
            ]
          },
          "metadata": {},
          "execution_count": 21
        }
      ]
    },
    {
      "cell_type": "code",
      "source": [
        "# 2.2 Fill this 2D-zero-valued array, row-by-row using for-loop\n",
        "# 2.2.1 First get an array of 420551 values\n",
        "#       0 ,1, 2, 3,...420550\n",
        "\n",
        "numbList=np.arange(len(lines) - 1 )\n",
        "numbList"
      ],
      "metadata": {
        "id": "tsERnYczuQbW",
        "colab": {
          "base_uri": "https://localhost:8080/"
        },
        "outputId": "62b22294-d625-4393-b127-b733b8a4a82d"
      },
      "execution_count": 22,
      "outputs": [
        {
          "output_type": "execute_result",
          "data": {
            "text/plain": [
              "array([     0,      1,      2, ..., 420548, 420549, 420550])"
            ]
          },
          "metadata": {},
          "execution_count": 22
        }
      ]
    },
    {
      "cell_type": "code",
      "source": [
        "# 2.2.2 See how a line is split in respective\n",
        "#       field values. We want split values to\n",
        "#       be an array. But after the split,\n",
        "#       they are a list\n",
        "\n",
        "x = lines[1].split(',')\n",
        "type(x)      # list"
      ],
      "metadata": {
        "id": "0qAOPV4DuVPI",
        "colab": {
          "base_uri": "https://localhost:8080/"
        },
        "outputId": "e24d42c3-bbc2-4af7-e0ba-efc0f2220f95"
      },
      "execution_count": 23,
      "outputs": [
        {
          "output_type": "execute_result",
          "data": {
            "text/plain": [
              "list"
            ]
          },
          "metadata": {},
          "execution_count": 23
        }
      ]
    },
    {
      "cell_type": "code",
      "source": [
        "# 2.2.3 Transform just one element of 'lines' into numpy array\n",
        "x = np.asarray(x[1:], dtype = 'float32') # Exclude 1st date/time column\n",
        "type(x)\n",
        "print(\"\\n======\\n\")\n",
        "x"
      ],
      "metadata": {
        "id": "1C-ZOWUZuYaZ",
        "colab": {
          "base_uri": "https://localhost:8080/"
        },
        "outputId": "e5185c31-f1c9-49e3-c578-fbf168e63efc"
      },
      "execution_count": 25,
      "outputs": [
        {
          "output_type": "execute_result",
          "data": {
            "text/plain": [
              "numpy.ndarray"
            ]
          },
          "metadata": {},
          "execution_count": 25
        },
        {
          "output_type": "stream",
          "name": "stdout",
          "text": [
            "\n",
            "======\n",
            "\n"
          ]
        },
        {
          "output_type": "execute_result",
          "data": {
            "text/plain": [
              "array([-8.02000e+00,  2.65400e+02, -8.90000e+00,  9.33000e+01,\n",
              "        3.33000e+00,  3.11000e+00,  2.20000e-01,  1.94000e+00,\n",
              "        3.12000e+00,  1.30775e+03,  1.03000e+00,  1.75000e+00,\n",
              "        1.52300e+02], dtype=float32)"
            ]
          },
          "metadata": {},
          "execution_count": 25
        }
      ]
    },
    {
      "cell_type": "code",
      "source": [
        "# 2.3  Fill up zero-array,row-by-row, with sensor data\n",
        "for i in numbList:      # ie uptil the last line\n",
        "    # 2.3 Now do this for all lines using for-loop\n",
        "    row = lines[i+1].split(',')     # i starts from 0 but we ignore header\n",
        "    # 2.3.1 'row' is a list. Select all but 1st element\n",
        "    row= row[1:]                    # Ignore the date column\n",
        "    values = np.asarray(row, dtype = 'float32')\n",
        "    float_data[i, :] = values      # Fill zero-array, row-by-row"
      ],
      "metadata": {
        "id": "HBIhlrsWuxSu"
      },
      "execution_count": 26,
      "outputs": []
    },
    {
      "cell_type": "code",
      "source": [
        "# 2.3.2 Check\n",
        "float_data.shape     # (420551,14)\n",
        "print(\"\\n======\\n\")\n",
        "# 2.3.2\n",
        "float_data[0]"
      ],
      "metadata": {
        "id": "iJzNzYHwu4cC",
        "colab": {
          "base_uri": "https://localhost:8080/"
        },
        "outputId": "74ee2333-cda4-4c2a-b3e4-52977d4fbd33"
      },
      "execution_count": 28,
      "outputs": [
        {
          "output_type": "execute_result",
          "data": {
            "text/plain": [
              "(420551, 14)"
            ]
          },
          "metadata": {},
          "execution_count": 28
        },
        {
          "output_type": "stream",
          "name": "stdout",
          "text": [
            "\n",
            "======\n",
            "\n"
          ]
        },
        {
          "output_type": "execute_result",
          "data": {
            "text/plain": [
              "array([ 9.96520020e+02, -8.02000046e+00,  2.65399994e+02, -8.89999962e+00,\n",
              "        9.33000031e+01,  3.32999992e+00,  3.10999990e+00,  2.19999999e-01,\n",
              "        1.94000006e+00,  3.11999989e+00,  1.30775000e+03,  1.02999997e+00,\n",
              "        1.75000000e+00,  1.52300003e+02])"
            ]
          },
          "metadata": {},
          "execution_count": 28
        }
      ]
    },
    {
      "cell_type": "markdown",
      "source": [
        "## Plotting temperature"
      ],
      "metadata": {
        "id": "vo-sMzg8u7oB"
      }
    },
    {
      "cell_type": "code",
      "source": [
        "# 3. Let us plot temperature, the IInd column\n",
        "#    Check 'header', if you like\n",
        "# 3.1 Get IInd column with index 1\n",
        "temp = float_data[:, 1]\n",
        "temp"
      ],
      "metadata": {
        "id": "4DOm1N_-u9ho",
        "colab": {
          "base_uri": "https://localhost:8080/"
        },
        "outputId": "1ab20880-1539-4535-f9a5-853060438624"
      },
      "execution_count": 29,
      "outputs": [
        {
          "output_type": "execute_result",
          "data": {
            "text/plain": [
              "array([-8.02000046, -8.40999985, -8.51000023, ..., -3.16000009,\n",
              "       -4.23000002, -4.82000017])"
            ]
          },
          "metadata": {},
          "execution_count": 29
        }
      ]
    },
    {
      "cell_type": "code",
      "source": [
        "# 3.2 plot it. It is highly periodic\n",
        "plt.plot(range(len(temp)), temp) ;\n",
        "plt.show() ; "
      ],
      "metadata": {
        "id": "db3aC1udvOVC",
        "colab": {
          "base_uri": "https://localhost:8080/",
          "height": 268
        },
        "outputId": "d06b5e7b-b2ef-43ef-85fb-fee02f090f9b"
      },
      "execution_count": 31,
      "outputs": [
        {
          "output_type": "display_data",
          "data": {
            "text/plain": [
              "<Figure size 432x288 with 1 Axes>"
            ],
            "image/png": "[encoded data removed]"
          },
          "metadata": {
            "needs_background": "light"
          }
        }
      ]
    }
  ]
}