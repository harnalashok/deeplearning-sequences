{
  "nbformat": 4,
  "nbformat_minor": 0,
  "metadata": {
    "colab": {
      "provenance": [],
      "authorship_tag": "ABX9TyP8XVg1S7zm+X9EJu0po7p+",
      "include_colab_link": true
    },
    "kernelspec": {
      "name": "python3",
      "display_name": "Python 3"
    },
    "language_info": {
      "name": "python"
    }
  },
  "cells": [
    {
      "cell_type": "markdown",
      "metadata": {
        "id": "view-in-github",
        "colab_type": "text"
      },
      "source": [
        "<a href=\"https://colab.research.google.com/github/harnalashok/deeplearning-sequences/blob/main/stock_price_prediction.ipynb\" target=\"_parent\"><img src=\"https://colab.research.google.com/assets/colab-badge.svg\" alt=\"Open In Colab\"/></a>"
      ]
    },
    {
      "cell_type": "code",
      "source": [
        "# Last amended: 4th Feb, 2023\n",
        "# Objective: Apply LSTM for time-series prediction\n",
        "#            Develop a simple model to predict stock prices\n",
        "\n",
        "# Ref: https://www.simplilearn.com/tutorials/deep-learning-tutorial/rnn\n",
        "# https://www.kaggle.com/datasets/akram24/google-stock-price-test\n"
      ],
      "metadata": {
        "id": "r2vuJoIlbWVH"
      },
      "execution_count": null,
      "outputs": []
    },
    {
      "cell_type": "markdown",
      "source": [
        "## Call libraries"
      ],
      "metadata": {
        "id": "OjfMgkcnPLRz"
      }
    },
    {
      "cell_type": "code",
      "execution_count": 1,
      "metadata": {
        "id": "6y2JO6HpSz3a"
      },
      "outputs": [],
      "source": [
        "# 1.0 Call libraries\n",
        "import numpy as np\n",
        "import pandas as pd\n",
        "import tensorflow as tf\n",
        "\n",
        "# 1.0.1\n",
        "from sklearn.preprocessing import MinMaxScaler\n",
        "import matplotlib.pyplot as plt\n",
        "import pathlib"
      ]
    },
    {
      "cell_type": "code",
      "source": [
        "# 1.0.2 Display multiple outputs from a cell:\n",
        "\n",
        "from IPython.core.interactiveshell import InteractiveShell\n",
        "InteractiveShell.ast_node_interactivity = \"all\"\n"
      ],
      "metadata": {
        "id": "oNsU3wXX7L1p"
      },
      "execution_count": 2,
      "outputs": []
    },
    {
      "cell_type": "markdown",
      "source": [
        "## Mount gdrive"
      ],
      "metadata": {
        "id": "Fk8jkysxPRJi"
      }
    },
    {
      "cell_type": "code",
      "source": [
        "# 2.0 Mount gdrive\n",
        "\n",
        "from google.colab import drive\n",
        "drive.mount('/gdrive')"
      ],
      "metadata": {
        "colab": {
          "base_uri": "https://localhost:8080/"
        },
        "id": "VrJl4G_BTEBt",
        "outputId": "9700e189-fb89-49c9-f332-8c2299db5340"
      },
      "execution_count": 3,
      "outputs": [
        {
          "output_type": "stream",
          "name": "stdout",
          "text": [
            "Drive already mounted at /gdrive; to attempt to forcibly remount, call drive.mount(\"/gdrive\", force_remount=True).\n"
          ]
        }
      ]
    },
    {
      "cell_type": "code",
      "source": [
        "# 2.1 Path to data folder:\n",
        "\n",
        "path = \"/gdrive/MyDrive/Colab_data_files/stock_price\"\n",
        "\n",
        "# 2.1.1 Transform to pathlib object:\n",
        "data_folder=pathlib.Path(path)"
      ],
      "metadata": {
        "id": "kgxvOjrzTXRm"
      },
      "execution_count": 4,
      "outputs": []
    },
    {
      "cell_type": "markdown",
      "source": [
        "## Read train/test data"
      ],
      "metadata": {
        "id": "eM7UW3WdPcdz"
      }
    },
    {
      "cell_type": "code",
      "source": [
        "# 3.0\n",
        "dataset_train = pd.read_csv(data_folder / \"Google_Stock_Price_Train.csv\")\n",
        "dataset_test = pd.read_csv(data_folder / \"Google_Stock_Price_Test.csv\")"
      ],
      "metadata": {
        "id": "HEhMs9O8TdjD"
      },
      "execution_count": 5,
      "outputs": []
    },
    {
      "cell_type": "code",
      "source": [
        "# 3.0.1\n",
        "dataset_train.head()\n",
        "print(\"\\n============\\n\")\n",
        "dataset_train.shape"
      ],
      "metadata": {
        "colab": {
          "base_uri": "https://localhost:8080/",
          "height": 359
        },
        "id": "I3Ec2kdZT8SA",
        "outputId": "962f462a-9f20-44d0-b22e-7eed0b7daa73"
      },
      "execution_count": 6,
      "outputs": [
        {
          "output_type": "execute_result",
          "data": {
            "text/plain": [
              "       Date    Open    High     Low   Close      Volume\n",
              "0  1/3/2012  325.25  332.83  324.97  663.59   7,380,500\n",
              "1  1/4/2012  331.27  333.87  329.08  666.45   5,749,400\n",
              "2  1/5/2012  329.83  330.75  326.89  657.21   6,590,300\n",
              "3  1/6/2012  328.34  328.77  323.68  648.24   5,405,900\n",
              "4  1/9/2012  322.04  322.29  309.46  620.76  11,688,800"
            ],
            "text/html": [
              "\n",
              "  <div id=\"df-49ea097a-d1b3-41db-ba1d-be3c085e5aa9\">\n",
              "    <div class=\"colab-df-container\">\n",
              "      <div>\n",
              "<style scoped>\n",
              "    .dataframe tbody tr th:only-of-type {\n",
              "        vertical-align: middle;\n",
              "    }\n",
              "\n",
              "    .dataframe tbody tr th {\n",
              "        vertical-align: top;\n",
              "    }\n",
              "\n",
              "    .dataframe thead th {\n",
              "        text-align: right;\n",
              "    }\n",
              "</style>\n",
              "<table border=\"1\" class=\"dataframe\">\n",
              "  <thead>\n",
              "    <tr style=\"text-align: right;\">\n",
              "      <th></th>\n",
              "      <th>Date</th>\n",
              "      <th>Open</th>\n",
              "      <th>High</th>\n",
              "      <th>Low</th>\n",
              "      <th>Close</th>\n",
              "      <th>Volume</th>\n",
              "    </tr>\n",
              "  </thead>\n",
              "  <tbody>\n",
              "    <tr>\n",
              "      <th>0</th>\n",
              "      <td>1/3/2012</td>\n",
              "      <td>325.25</td>\n",
              "      <td>332.83</td>\n",
              "      <td>324.97</td>\n",
              "      <td>663.59</td>\n",
              "      <td>7,380,500</td>\n",
              "    </tr>\n",
              "    <tr>\n",
              "      <th>1</th>\n",
              "      <td>1/4/2012</td>\n",
              "      <td>331.27</td>\n",
              "      <td>333.87</td>\n",
              "      <td>329.08</td>\n",
              "      <td>666.45</td>\n",
              "      <td>5,749,400</td>\n",
              "    </tr>\n",
              "    <tr>\n",
              "      <th>2</th>\n",
              "      <td>1/5/2012</td>\n",
              "      <td>329.83</td>\n",
              "      <td>330.75</td>\n",
              "      <td>326.89</td>\n",
              "      <td>657.21</td>\n",
              "      <td>6,590,300</td>\n",
              "    </tr>\n",
              "    <tr>\n",
              "      <th>3</th>\n",
              "      <td>1/6/2012</td>\n",
              "      <td>328.34</td>\n",
              "      <td>328.77</td>\n",
              "      <td>323.68</td>\n",
              "      <td>648.24</td>\n",
              "      <td>5,405,900</td>\n",
              "    </tr>\n",
              "    <tr>\n",
              "      <th>4</th>\n",
              "      <td>1/9/2012</td>\n",
              "      <td>322.04</td>\n",
              "      <td>322.29</td>\n",
              "      <td>309.46</td>\n",
              "      <td>620.76</td>\n",
              "      <td>11,688,800</td>\n",
              "    </tr>\n",
              "  </tbody>\n",
              "</table>\n",
              "</div>\n",
              "      <button class=\"colab-df-convert\" onclick=\"convertToInteractive('df-49ea097a-d1b3-41db-ba1d-be3c085e5aa9')\"\n",
              "              title=\"Convert this dataframe to an interactive table.\"\n",
              "              style=\"display:none;\">\n",
              "        \n",
              "  <svg xmlns=\"http://www.w3.org/2000/svg\" height=\"24px\"viewBox=\"0 0 24 24\"\n",
              "       width=\"24px\">\n",
              "    <path d=\"M0 0h24v24H0V0z\" fill=\"none\"/>\n",
              "    <path d=\"M18.56 5.44l.94 2.06.94-2.06 2.06-.94-2.06-.94-.94-2.06-.94 2.06-2.06.94zm-11 1L8.5 8.5l.94-2.06 2.06-.94-2.06-.94L8.5 2.5l-.94 2.06-2.06.94zm10 10l.94 2.06.94-2.06 2.06-.94-2.06-.94-.94-2.06-.94 2.06-2.06.94z\"/><path d=\"M17.41 7.96l-1.37-1.37c-.4-.4-.92-.59-1.43-.59-.52 0-1.04.2-1.43.59L10.3 9.45l-7.72 7.72c-.78.78-.78 2.05 0 2.83L4 21.41c.39.39.9.59 1.41.59.51 0 1.02-.2 1.41-.59l7.78-7.78 2.81-2.81c.8-.78.8-2.07 0-2.86zM5.41 20L4 18.59l7.72-7.72 1.47 1.35L5.41 20z\"/>\n",
              "  </svg>\n",
              "      </button>\n",
              "      \n",
              "  <style>\n",
              "    .colab-df-container {\n",
              "      display:flex;\n",
              "      flex-wrap:wrap;\n",
              "      gap: 12px;\n",
              "    }\n",
              "\n",
              "    .colab-df-convert {\n",
              "      background-color: #E8F0FE;\n",
              "      border: none;\n",
              "      border-radius: 50%;\n",
              "      cursor: pointer;\n",
              "      display: none;\n",
              "      fill: #1967D2;\n",
              "      height: 32px;\n",
              "      padding: 0 0 0 0;\n",
              "      width: 32px;\n",
              "    }\n",
              "\n",
              "    .colab-df-convert:hover {\n",
              "      background-color: #E2EBFA;\n",
              "      box-shadow: 0px 1px 2px rgba(60, 64, 67, 0.3), 0px 1px 3px 1px rgba(60, 64, 67, 0.15);\n",
              "      fill: #174EA6;\n",
              "    }\n",
              "\n",
              "    [theme=dark] .colab-df-convert {\n",
              "      background-color: #3B4455;\n",
              "      fill: #D2E3FC;\n",
              "    }\n",
              "\n",
              "    [theme=dark] .colab-df-convert:hover {\n",
              "      background-color: #434B5C;\n",
              "      box-shadow: 0px 1px 3px 1px rgba(0, 0, 0, 0.15);\n",
              "      filter: drop-shadow(0px 1px 2px rgba(0, 0, 0, 0.3));\n",
              "      fill: #FFFFFF;\n",
              "    }\n",
              "  </style>\n",
              "\n",
              "      <script>\n",
              "        const buttonEl =\n",
              "          document.querySelector('#df-49ea097a-d1b3-41db-ba1d-be3c085e5aa9 button.colab-df-convert');\n",
              "        buttonEl.style.display =\n",
              "          google.colab.kernel.accessAllowed ? 'block' : 'none';\n",
              "\n",
              "        async function convertToInteractive(key) {\n",
              "          const element = document.querySelector('#df-49ea097a-d1b3-41db-ba1d-be3c085e5aa9');\n",
              "          const dataTable =\n",
              "            await google.colab.kernel.invokeFunction('convertToInteractive',\n",
              "                                                     [key], {});\n",
              "          if (!dataTable) return;\n",
              "\n",
              "          const docLinkHtml = 'Like what you see? Visit the ' +\n",
              "            '<a target=\"_blank\" href=https://colab.research.google.com/notebooks/data_table.ipynb>data table notebook</a>'\n",
              "            + ' to learn more about interactive tables.';\n",
              "          element.innerHTML = '';\n",
              "          dataTable['output_type'] = 'display_data';\n",
              "          await google.colab.output.renderOutput(dataTable, element);\n",
              "          const docLink = document.createElement('div');\n",
              "          docLink.innerHTML = docLinkHtml;\n",
              "          element.appendChild(docLink);\n",
              "        }\n",
              "      </script>\n",
              "    </div>\n",
              "  </div>\n",
              "  "
            ]
          },
          "metadata": {},
          "execution_count": 6
        },
        {
          "output_type": "stream",
          "name": "stdout",
          "text": [
            "\n",
            "============\n",
            "\n"
          ]
        },
        {
          "output_type": "execute_result",
          "data": {
            "text/plain": [
              "(1258, 6)"
            ]
          },
          "metadata": {},
          "execution_count": 6
        }
      ]
    },
    {
      "cell_type": "markdown",
      "source": [
        "## Process data"
      ],
      "metadata": {
        "id": "FT0eqosSPrr1"
      }
    },
    {
      "cell_type": "code",
      "source": [
        "# 4.0 We wil only use 'Open' column for prediction:\n",
        "\n",
        "train_data = dataset_train.iloc[:,1:2]\n",
        "test_data = dataset_test.iloc[:,1:2]\n",
        "train_data.head()\n",
        "print(\"\\n=============\\n\")\n",
        "train_data.shape    # (1258, 1)\n",
        "print(\"\\n=============\\n\")\n",
        "test_data.shape     # (20, 1)"
      ],
      "metadata": {
        "colab": {
          "base_uri": "https://localhost:8080/",
          "height": 430
        },
        "id": "-m5VXb3pTq_b",
        "outputId": "bcb675fd-6904-4562-8911-3bd776315f67"
      },
      "execution_count": 7,
      "outputs": [
        {
          "output_type": "execute_result",
          "data": {
            "text/plain": [
              "     Open\n",
              "0  325.25\n",
              "1  331.27\n",
              "2  329.83\n",
              "3  328.34\n",
              "4  322.04"
            ],
            "text/html": [
              "\n",
              "  <div id=\"df-6be110e9-8c38-44c2-b65f-0c4bbad7b66d\">\n",
              "    <div class=\"colab-df-container\">\n",
              "      <div>\n",
              "<style scoped>\n",
              "    .dataframe tbody tr th:only-of-type {\n",
              "        vertical-align: middle;\n",
              "    }\n",
              "\n",
              "    .dataframe tbody tr th {\n",
              "        vertical-align: top;\n",
              "    }\n",
              "\n",
              "    .dataframe thead th {\n",
              "        text-align: right;\n",
              "    }\n",
              "</style>\n",
              "<table border=\"1\" class=\"dataframe\">\n",
              "  <thead>\n",
              "    <tr style=\"text-align: right;\">\n",
              "      <th></th>\n",
              "      <th>Open</th>\n",
              "    </tr>\n",
              "  </thead>\n",
              "  <tbody>\n",
              "    <tr>\n",
              "      <th>0</th>\n",
              "      <td>325.25</td>\n",
              "    </tr>\n",
              "    <tr>\n",
              "      <th>1</th>\n",
              "      <td>331.27</td>\n",
              "    </tr>\n",
              "    <tr>\n",
              "      <th>2</th>\n",
              "      <td>329.83</td>\n",
              "    </tr>\n",
              "    <tr>\n",
              "      <th>3</th>\n",
              "      <td>328.34</td>\n",
              "    </tr>\n",
              "    <tr>\n",
              "      <th>4</th>\n",
              "      <td>322.04</td>\n",
              "    </tr>\n",
              "  </tbody>\n",
              "</table>\n",
              "</div>\n",
              "      <button class=\"colab-df-convert\" onclick=\"convertToInteractive('df-6be110e9-8c38-44c2-b65f-0c4bbad7b66d')\"\n",
              "              title=\"Convert this dataframe to an interactive table.\"\n",
              "              style=\"display:none;\">\n",
              "        \n",
              "  <svg xmlns=\"http://www.w3.org/2000/svg\" height=\"24px\"viewBox=\"0 0 24 24\"\n",
              "       width=\"24px\">\n",
              "    <path d=\"M0 0h24v24H0V0z\" fill=\"none\"/>\n",
              "    <path d=\"M18.56 5.44l.94 2.06.94-2.06 2.06-.94-2.06-.94-.94-2.06-.94 2.06-2.06.94zm-11 1L8.5 8.5l.94-2.06 2.06-.94-2.06-.94L8.5 2.5l-.94 2.06-2.06.94zm10 10l.94 2.06.94-2.06 2.06-.94-2.06-.94-.94-2.06-.94 2.06-2.06.94z\"/><path d=\"M17.41 7.96l-1.37-1.37c-.4-.4-.92-.59-1.43-.59-.52 0-1.04.2-1.43.59L10.3 9.45l-7.72 7.72c-.78.78-.78 2.05 0 2.83L4 21.41c.39.39.9.59 1.41.59.51 0 1.02-.2 1.41-.59l7.78-7.78 2.81-2.81c.8-.78.8-2.07 0-2.86zM5.41 20L4 18.59l7.72-7.72 1.47 1.35L5.41 20z\"/>\n",
              "  </svg>\n",
              "      </button>\n",
              "      \n",
              "  <style>\n",
              "    .colab-df-container {\n",
              "      display:flex;\n",
              "      flex-wrap:wrap;\n",
              "      gap: 12px;\n",
              "    }\n",
              "\n",
              "    .colab-df-convert {\n",
              "      background-color: #E8F0FE;\n",
              "      border: none;\n",
              "      border-radius: 50%;\n",
              "      cursor: pointer;\n",
              "      display: none;\n",
              "      fill: #1967D2;\n",
              "      height: 32px;\n",
              "      padding: 0 0 0 0;\n",
              "      width: 32px;\n",
              "    }\n",
              "\n",
              "    .colab-df-convert:hover {\n",
              "      background-color: #E2EBFA;\n",
              "      box-shadow: 0px 1px 2px rgba(60, 64, 67, 0.3), 0px 1px 3px 1px rgba(60, 64, 67, 0.15);\n",
              "      fill: #174EA6;\n",
              "    }\n",
              "\n",
              "    [theme=dark] .colab-df-convert {\n",
              "      background-color: #3B4455;\n",
              "      fill: #D2E3FC;\n",
              "    }\n",
              "\n",
              "    [theme=dark] .colab-df-convert:hover {\n",
              "      background-color: #434B5C;\n",
              "      box-shadow: 0px 1px 3px 1px rgba(0, 0, 0, 0.15);\n",
              "      filter: drop-shadow(0px 1px 2px rgba(0, 0, 0, 0.3));\n",
              "      fill: #FFFFFF;\n",
              "    }\n",
              "  </style>\n",
              "\n",
              "      <script>\n",
              "        const buttonEl =\n",
              "          document.querySelector('#df-6be110e9-8c38-44c2-b65f-0c4bbad7b66d button.colab-df-convert');\n",
              "        buttonEl.style.display =\n",
              "          google.colab.kernel.accessAllowed ? 'block' : 'none';\n",
              "\n",
              "        async function convertToInteractive(key) {\n",
              "          const element = document.querySelector('#df-6be110e9-8c38-44c2-b65f-0c4bbad7b66d');\n",
              "          const dataTable =\n",
              "            await google.colab.kernel.invokeFunction('convertToInteractive',\n",
              "                                                     [key], {});\n",
              "          if (!dataTable) return;\n",
              "\n",
              "          const docLinkHtml = 'Like what you see? Visit the ' +\n",
              "            '<a target=\"_blank\" href=https://colab.research.google.com/notebooks/data_table.ipynb>data table notebook</a>'\n",
              "            + ' to learn more about interactive tables.';\n",
              "          element.innerHTML = '';\n",
              "          dataTable['output_type'] = 'display_data';\n",
              "          await google.colab.output.renderOutput(dataTable, element);\n",
              "          const docLink = document.createElement('div');\n",
              "          docLink.innerHTML = docLinkHtml;\n",
              "          element.appendChild(docLink);\n",
              "        }\n",
              "      </script>\n",
              "    </div>\n",
              "  </div>\n",
              "  "
            ]
          },
          "metadata": {},
          "execution_count": 7
        },
        {
          "output_type": "stream",
          "name": "stdout",
          "text": [
            "\n",
            "=============\n",
            "\n"
          ]
        },
        {
          "output_type": "execute_result",
          "data": {
            "text/plain": [
              "(1258, 1)"
            ]
          },
          "metadata": {},
          "execution_count": 7
        },
        {
          "output_type": "stream",
          "name": "stdout",
          "text": [
            "\n",
            "=============\n",
            "\n"
          ]
        },
        {
          "output_type": "execute_result",
          "data": {
            "text/plain": [
              "(20, 1)"
            ]
          },
          "metadata": {},
          "execution_count": 7
        }
      ]
    },
    {
      "cell_type": "code",
      "source": [
        "# 4.1 Normalize data:\n",
        "\n",
        "mm = MinMaxScaler(feature_range = (0,1))\n",
        "\n",
        "# 4.1.0 Transformed output is numpy array\"\n",
        "training_set_scaled = mm.fit_transform(train_data)\n",
        "test_set_scaled = mm.transform(test_data)\n"
      ],
      "metadata": {
        "id": "XSOj6r7RUHp7"
      },
      "execution_count": 8,
      "outputs": []
    },
    {
      "cell_type": "markdown",
      "source": [
        "## Organize and reshape data\n",
        "Suppose our data is:<br>\n",
        "23,34,56,78,93,12,34,67,23\n",
        "Let timesteps be 3: <br>\n",
        "Then, we want to have the follwing pieces of train--target:\n",
        ">`train--target`<br>\n",
        ">`23,34,56--78`<br>\n",
        "`34,56,78--93`<br>\n",
        "`56,78,93--12`<br>\n",
        "`78,93,12--34`<br>\n",
        "`93,12,34--67`<br>\n",
        "`12,34,67--23`<br>"
      ],
      "metadata": {
        "id": "AJBFYcgNQ04O"
      }
    },
    {
      "cell_type": "markdown",
      "source": [
        "### Experimental code"
      ],
      "metadata": {
        "id": "dHmsWC3cT10U"
      }
    },
    {
      "cell_type": "code",
      "source": [
        "# 5.0 Constants\n",
        "timesteps = 3\n",
        "data = np.array([23,34,56,78,93,12,34,67,23])"
      ],
      "metadata": {
        "id": "MiuAeez3SoJG"
      },
      "execution_count": 9,
      "outputs": []
    },
    {
      "cell_type": "code",
      "source": [
        "# 5.1 Organize: \n",
        "xtr = []\n",
        "ytr = []\n",
        "for i in range(timesteps,len(data)):\n",
        "  xtr.append(data[i-timesteps:i])\n",
        "  ytr.append(data[i])"
      ],
      "metadata": {
        "id": "XLEHkLM2SxcE"
      },
      "execution_count": 10,
      "outputs": []
    },
    {
      "cell_type": "code",
      "source": [
        "# 5.2\n",
        "xtr    # A list of arrays\n",
        "print(\"\\n==========\\n\")\n",
        "ytr"
      ],
      "metadata": {
        "colab": {
          "base_uri": "https://localhost:8080/"
        },
        "id": "ZHDgEEevTBWb",
        "outputId": "06d3459e-e489-4a2f-95e3-ebf8c59afcd3"
      },
      "execution_count": 11,
      "outputs": [
        {
          "output_type": "execute_result",
          "data": {
            "text/plain": [
              "[array([23, 34, 56]),\n",
              " array([34, 56, 78]),\n",
              " array([56, 78, 93]),\n",
              " array([78, 93, 12]),\n",
              " array([93, 12, 34]),\n",
              " array([12, 34, 67])]"
            ]
          },
          "metadata": {},
          "execution_count": 11
        },
        {
          "output_type": "stream",
          "name": "stdout",
          "text": [
            "\n",
            "==========\n",
            "\n"
          ]
        },
        {
          "output_type": "execute_result",
          "data": {
            "text/plain": [
              "[78, 93, 12, 34, 67, 23]"
            ]
          },
          "metadata": {},
          "execution_count": 11
        }
      ]
    },
    {
      "cell_type": "markdown",
      "source": [
        "### Real code\n"
      ],
      "metadata": {
        "id": "335CwQZ9VLjM"
      }
    },
    {
      "cell_type": "code",
      "source": [
        "# 6.0\n",
        "timesteps = 60\n",
        "X_train = []\n",
        "y_train = []\n",
        "\n",
        "for i in range(timesteps,len(train_data)):\n",
        "  X_train.append(training_set_scaled[i-60:i,0])\n",
        "  y_train.append(training_set_scaled[i,0])"
      ],
      "metadata": {
        "id": "-Z4ockeZVZSP"
      },
      "execution_count": 12,
      "outputs": []
    },
    {
      "cell_type": "code",
      "source": [
        "# 6.1 Transform to arrays\n",
        "X_train , y_train = np.array(X_train), np.array(y_train)\n"
      ],
      "metadata": {
        "id": "pba_EyRlWFQm"
      },
      "execution_count": 13,
      "outputs": []
    },
    {
      "cell_type": "code",
      "source": [
        "# 6.2 X_train is an array of arrays:\n",
        "\n",
        "type(X_train)\n",
        "print(\"\\n========\\n\")\n",
        "type(X_train[0])\n",
        "print(\"\\n========\\n\")\n",
        "X_train.shape      # (1198, 60) there are 1198 arrays, each of size 60"
      ],
      "metadata": {
        "colab": {
          "base_uri": "https://localhost:8080/"
        },
        "id": "yQe3_aoJYkMk",
        "outputId": "f0090a2f-4e73-47be-9fe3-b7ccee74ca6c"
      },
      "execution_count": 14,
      "outputs": [
        {
          "output_type": "execute_result",
          "data": {
            "text/plain": [
              "numpy.ndarray"
            ]
          },
          "metadata": {},
          "execution_count": 14
        },
        {
          "output_type": "stream",
          "name": "stdout",
          "text": [
            "\n",
            "========\n",
            "\n"
          ]
        },
        {
          "output_type": "execute_result",
          "data": {
            "text/plain": [
              "numpy.ndarray"
            ]
          },
          "metadata": {},
          "execution_count": 14
        },
        {
          "output_type": "stream",
          "name": "stdout",
          "text": [
            "\n",
            "========\n",
            "\n"
          ]
        },
        {
          "output_type": "execute_result",
          "data": {
            "text/plain": [
              "(1198, 60)"
            ]
          },
          "metadata": {},
          "execution_count": 14
        }
      ]
    },
    {
      "cell_type": "code",
      "source": [
        "# 6.3 Reshape to : (samples,timesteps,noOfFeatures):\n",
        "\n",
        "X_train= np.reshape(X_train, (X_train.shape[0],X_train.shape[1],1))\n",
        "X_train.shape    # (1198, 60, 1)"
      ],
      "metadata": {
        "id": "-YjZzkwoWCAa",
        "colab": {
          "base_uri": "https://localhost:8080/"
        },
        "outputId": "e4a05be7-ab96-468a-ae5f-a15b943a9be8"
      },
      "execution_count": 15,
      "outputs": [
        {
          "output_type": "execute_result",
          "data": {
            "text/plain": [
              "(1198, 60, 1)"
            ]
          },
          "metadata": {},
          "execution_count": 15
        }
      ]
    },
    {
      "cell_type": "markdown",
      "source": [
        "## Model"
      ],
      "metadata": {
        "id": "Us6CeB1MZWYU"
      }
    },
    {
      "cell_type": "code",
      "source": [
        "# 7.0\n",
        "model = tf.keras.Sequential()"
      ],
      "metadata": {
        "id": "1QxIBiuvXFZq"
      },
      "execution_count": 16,
      "outputs": []
    },
    {
      "cell_type": "code",
      "source": [
        "# 7.1\n",
        "model.add(tf.keras.layers.Input(shape = (X_train.shape[1], 1)))"
      ],
      "metadata": {
        "id": "fZCD-5wlXXym"
      },
      "execution_count": 17,
      "outputs": []
    },
    {
      "cell_type": "code",
      "source": [
        "# 7.2\n",
        "model.add(tf.keras.layers.LSTM(\n",
        "                                units = 50,\n",
        "                                return_sequences = True\n",
        "                               )\n",
        "         )"
      ],
      "metadata": {
        "id": "gJHCahLmXHxL"
      },
      "execution_count": 18,
      "outputs": []
    },
    {
      "cell_type": "code",
      "source": [
        "# 7.3\n",
        "model.add(tf.keras.layers.Dropout(0.2))"
      ],
      "metadata": {
        "id": "zNCxQbelXhIf"
      },
      "execution_count": 19,
      "outputs": []
    },
    {
      "cell_type": "code",
      "source": [
        "# 7.4\n",
        "model.add(tf.keras.layers.LSTM(\n",
        "                               units = 50,\n",
        "                               return_sequences = True)\n",
        "                              )"
      ],
      "metadata": {
        "id": "3lCoHEABX3YP"
      },
      "execution_count": 20,
      "outputs": []
    },
    {
      "cell_type": "code",
      "source": [
        "# 7.5\n",
        "model.add(tf.keras.layers.Dropout(0.2))"
      ],
      "metadata": {
        "id": "qSADUoE4X7tr"
      },
      "execution_count": 21,
      "outputs": []
    },
    {
      "cell_type": "code",
      "source": [
        "# 7.6\n",
        "model.add(tf.keras.layers.LSTM(units = 50))"
      ],
      "metadata": {
        "id": "GtEzr1ILX-ly"
      },
      "execution_count": 22,
      "outputs": []
    },
    {
      "cell_type": "code",
      "source": [
        "# 7.7\n",
        "model.add(tf.keras.layers.Dropout(0.1))"
      ],
      "metadata": {
        "id": "s9GZCiIQYB7T"
      },
      "execution_count": 23,
      "outputs": []
    },
    {
      "cell_type": "code",
      "source": [
        "# 7.8\n",
        "model.add(tf.keras.layers.Dense(1))"
      ],
      "metadata": {
        "id": "Y6oVPxkHYKB1"
      },
      "execution_count": 24,
      "outputs": []
    },
    {
      "cell_type": "code",
      "source": [
        "# 7.9\n",
        "model.summary()"
      ],
      "metadata": {
        "colab": {
          "base_uri": "https://localhost:8080/"
        },
        "id": "Qwl3rSvxqnF2",
        "outputId": "85686613-0864-470a-9439-a16c5a9bcd92"
      },
      "execution_count": 25,
      "outputs": [
        {
          "output_type": "stream",
          "name": "stdout",
          "text": [
            "Model: \"sequential\"\n",
            "_________________________________________________________________\n",
            " Layer (type)                Output Shape              Param #   \n",
            "=================================================================\n",
            " lstm (LSTM)                 (None, 60, 50)            10400     \n",
            "                                                                 \n",
            " dropout (Dropout)           (None, 60, 50)            0         \n",
            "                                                                 \n",
            " lstm_1 (LSTM)               (None, 60, 50)            20200     \n",
            "                                                                 \n",
            " dropout_1 (Dropout)         (None, 60, 50)            0         \n",
            "                                                                 \n",
            " lstm_2 (LSTM)               (None, 50)                20200     \n",
            "                                                                 \n",
            " dropout_2 (Dropout)         (None, 50)                0         \n",
            "                                                                 \n",
            " dense (Dense)               (None, 1)                 51        \n",
            "                                                                 \n",
            "=================================================================\n",
            "Total params: 50,851\n",
            "Trainable params: 50,851\n",
            "Non-trainable params: 0\n",
            "_________________________________________________________________\n"
          ]
        }
      ]
    },
    {
      "cell_type": "markdown",
      "source": [
        "## Model comilation and fitting"
      ],
      "metadata": {
        "id": "9LK0EJJasTUw"
      }
    },
    {
      "cell_type": "code",
      "source": [
        "# 8.0 Compile:\n",
        "model.compile(optimizer = \"adam\", loss = \"mse\")"
      ],
      "metadata": {
        "id": "p5wOnEFXYPwv"
      },
      "execution_count": 26,
      "outputs": []
    },
    {
      "cell_type": "code",
      "source": [
        "# 9.0\n",
        "model.fit(\n",
        "          X_train,y_train,\n",
        "          batch_size = 32,\n",
        "          epochs = 100\n",
        "          )"
      ],
      "metadata": {
        "colab": {
          "base_uri": "https://localhost:8080/"
        },
        "id": "7A65QexRYXJz",
        "outputId": "0906a28f-4f3b-4270-eead-a9d8194a900e"
      },
      "execution_count": 27,
      "outputs": [
        {
          "output_type": "stream",
          "name": "stdout",
          "text": [
            "Epoch 1/100\n",
            "38/38 [==============================] - 7s 59ms/step - loss: 0.0361\n",
            "Epoch 2/100\n",
            "38/38 [==============================] - 2s 58ms/step - loss: 0.0042\n",
            "Epoch 3/100\n",
            "38/38 [==============================] - 2s 57ms/step - loss: 0.0041\n",
            "Epoch 4/100\n",
            "38/38 [==============================] - 2s 58ms/step - loss: 0.0036\n",
            "Epoch 5/100\n",
            "38/38 [==============================] - 2s 66ms/step - loss: 0.0035\n",
            "Epoch 6/100\n",
            "38/38 [==============================] - 3s 81ms/step - loss: 0.0034\n",
            "Epoch 7/100\n",
            "38/38 [==============================] - 2s 59ms/step - loss: 0.0032\n",
            "Epoch 8/100\n",
            "38/38 [==============================] - 2s 57ms/step - loss: 0.0031\n",
            "Epoch 9/100\n",
            "38/38 [==============================] - 2s 58ms/step - loss: 0.0031\n",
            "Epoch 10/100\n",
            "38/38 [==============================] - 2s 59ms/step - loss: 0.0031\n",
            "Epoch 11/100\n",
            "38/38 [==============================] - 3s 75ms/step - loss: 0.0032\n",
            "Epoch 12/100\n",
            "38/38 [==============================] - 2s 58ms/step - loss: 0.0031\n",
            "Epoch 13/100\n",
            "38/38 [==============================] - 2s 57ms/step - loss: 0.0026\n",
            "Epoch 14/100\n",
            "38/38 [==============================] - 2s 58ms/step - loss: 0.0029\n",
            "Epoch 15/100\n",
            "38/38 [==============================] - 2s 57ms/step - loss: 0.0026\n",
            "Epoch 16/100\n",
            "38/38 [==============================] - 3s 71ms/step - loss: 0.0027\n",
            "Epoch 17/100\n",
            "38/38 [==============================] - 2s 63ms/step - loss: 0.0028\n",
            "Epoch 18/100\n",
            "38/38 [==============================] - 2s 56ms/step - loss: 0.0022\n",
            "Epoch 19/100\n",
            "38/38 [==============================] - 2s 58ms/step - loss: 0.0026\n",
            "Epoch 20/100\n",
            "38/38 [==============================] - 2s 57ms/step - loss: 0.0022\n",
            "Epoch 21/100\n",
            "38/38 [==============================] - 2s 59ms/step - loss: 0.0024\n",
            "Epoch 22/100\n",
            "38/38 [==============================] - 3s 75ms/step - loss: 0.0023\n",
            "Epoch 23/100\n",
            "38/38 [==============================] - 2s 59ms/step - loss: 0.0027\n",
            "Epoch 24/100\n",
            "38/38 [==============================] - 2s 57ms/step - loss: 0.0021\n",
            "Epoch 25/100\n",
            "38/38 [==============================] - 3s 75ms/step - loss: 0.0024\n",
            "Epoch 26/100\n",
            "38/38 [==============================] - 2s 61ms/step - loss: 0.0023\n",
            "Epoch 27/100\n",
            "38/38 [==============================] - 3s 77ms/step - loss: 0.0023\n",
            "Epoch 28/100\n",
            "38/38 [==============================] - 2s 57ms/step - loss: 0.0021\n",
            "Epoch 29/100\n",
            "38/38 [==============================] - 2s 57ms/step - loss: 0.0020\n",
            "Epoch 30/100\n",
            "38/38 [==============================] - 2s 58ms/step - loss: 0.0020\n",
            "Epoch 31/100\n",
            "38/38 [==============================] - 2s 59ms/step - loss: 0.0021\n",
            "Epoch 32/100\n",
            "38/38 [==============================] - 3s 68ms/step - loss: 0.0019\n",
            "Epoch 33/100\n",
            "38/38 [==============================] - 3s 67ms/step - loss: 0.0020\n",
            "Epoch 34/100\n",
            "38/38 [==============================] - 2s 57ms/step - loss: 0.0019\n",
            "Epoch 35/100\n",
            "38/38 [==============================] - 2s 58ms/step - loss: 0.0017\n",
            "Epoch 36/100\n",
            "38/38 [==============================] - 2s 59ms/step - loss: 0.0022\n",
            "Epoch 37/100\n",
            "38/38 [==============================] - 2s 57ms/step - loss: 0.0022\n",
            "Epoch 38/100\n",
            "38/38 [==============================] - 3s 78ms/step - loss: 0.0018\n",
            "Epoch 39/100\n",
            "38/38 [==============================] - 2s 58ms/step - loss: 0.0019\n",
            "Epoch 40/100\n",
            "38/38 [==============================] - 2s 58ms/step - loss: 0.0017\n",
            "Epoch 41/100\n",
            "38/38 [==============================] - 2s 57ms/step - loss: 0.0017\n",
            "Epoch 42/100\n",
            "38/38 [==============================] - 2s 57ms/step - loss: 0.0017\n",
            "Epoch 43/100\n",
            "38/38 [==============================] - 3s 68ms/step - loss: 0.0018\n",
            "Epoch 44/100\n",
            "38/38 [==============================] - 3s 67ms/step - loss: 0.0015\n",
            "Epoch 45/100\n",
            "38/38 [==============================] - 2s 59ms/step - loss: 0.0017\n",
            "Epoch 46/100\n",
            "38/38 [==============================] - 2s 57ms/step - loss: 0.0017\n",
            "Epoch 47/100\n",
            "38/38 [==============================] - 2s 57ms/step - loss: 0.0020\n",
            "Epoch 48/100\n",
            "38/38 [==============================] - 2s 57ms/step - loss: 0.0019\n",
            "Epoch 49/100\n",
            "38/38 [==============================] - 3s 78ms/step - loss: 0.0016\n",
            "Epoch 50/100\n",
            "38/38 [==============================] - 2s 58ms/step - loss: 0.0016\n",
            "Epoch 51/100\n",
            "38/38 [==============================] - 2s 57ms/step - loss: 0.0016\n",
            "Epoch 52/100\n",
            "38/38 [==============================] - 2s 57ms/step - loss: 0.0016\n",
            "Epoch 53/100\n",
            "38/38 [==============================] - 2s 57ms/step - loss: 0.0016\n",
            "Epoch 54/100\n",
            "38/38 [==============================] - 3s 69ms/step - loss: 0.0016\n",
            "Epoch 55/100\n",
            "38/38 [==============================] - 3s 67ms/step - loss: 0.0017\n",
            "Epoch 56/100\n",
            "38/38 [==============================] - 2s 58ms/step - loss: 0.0017\n",
            "Epoch 57/100\n",
            "38/38 [==============================] - 2s 58ms/step - loss: 0.0015\n",
            "Epoch 58/100\n",
            "38/38 [==============================] - 3s 76ms/step - loss: 0.0014\n",
            "Epoch 59/100\n",
            "38/38 [==============================] - 3s 70ms/step - loss: 0.0014\n",
            "Epoch 60/100\n",
            "38/38 [==============================] - 3s 69ms/step - loss: 0.0014\n",
            "Epoch 61/100\n",
            "38/38 [==============================] - 2s 58ms/step - loss: 0.0013\n",
            "Epoch 62/100\n",
            "38/38 [==============================] - 2s 58ms/step - loss: 0.0014\n",
            "Epoch 63/100\n",
            "38/38 [==============================] - 2s 58ms/step - loss: 0.0014\n",
            "Epoch 64/100\n",
            "38/38 [==============================] - 2s 58ms/step - loss: 0.0013\n",
            "Epoch 65/100\n",
            "38/38 [==============================] - 3s 78ms/step - loss: 0.0014\n",
            "Epoch 66/100\n",
            "38/38 [==============================] - 2s 57ms/step - loss: 0.0014\n",
            "Epoch 67/100\n",
            "38/38 [==============================] - 2s 57ms/step - loss: 0.0014\n",
            "Epoch 68/100\n",
            "38/38 [==============================] - 2s 57ms/step - loss: 0.0013\n",
            "Epoch 69/100\n",
            "38/38 [==============================] - 2s 58ms/step - loss: 0.0015\n",
            "Epoch 70/100\n",
            "38/38 [==============================] - 3s 68ms/step - loss: 0.0015\n",
            "Epoch 71/100\n",
            "38/38 [==============================] - 3s 68ms/step - loss: 0.0013\n",
            "Epoch 72/100\n",
            "38/38 [==============================] - 2s 57ms/step - loss: 0.0015\n",
            "Epoch 73/100\n",
            "38/38 [==============================] - 2s 57ms/step - loss: 0.0013\n",
            "Epoch 74/100\n",
            "38/38 [==============================] - 2s 57ms/step - loss: 0.0013\n",
            "Epoch 75/100\n",
            "38/38 [==============================] - 2s 58ms/step - loss: 0.0013\n",
            "Epoch 76/100\n",
            "38/38 [==============================] - 3s 78ms/step - loss: 0.0012\n",
            "Epoch 77/100\n",
            "38/38 [==============================] - 2s 58ms/step - loss: 0.0012\n",
            "Epoch 78/100\n",
            "38/38 [==============================] - 2s 57ms/step - loss: 0.0014\n",
            "Epoch 79/100\n",
            "38/38 [==============================] - 2s 58ms/step - loss: 0.0014\n",
            "Epoch 80/100\n",
            "38/38 [==============================] - 2s 57ms/step - loss: 0.0011\n",
            "Epoch 81/100\n",
            "38/38 [==============================] - 3s 68ms/step - loss: 0.0012\n",
            "Epoch 82/100\n",
            "38/38 [==============================] - 3s 69ms/step - loss: 0.0012\n",
            "Epoch 83/100\n",
            "38/38 [==============================] - 2s 58ms/step - loss: 0.0011\n",
            "Epoch 84/100\n",
            "38/38 [==============================] - 2s 58ms/step - loss: 0.0011\n",
            "Epoch 85/100\n",
            "38/38 [==============================] - 2s 57ms/step - loss: 0.0011\n",
            "Epoch 86/100\n",
            "38/38 [==============================] - 2s 59ms/step - loss: 0.0012\n",
            "Epoch 87/100\n",
            "38/38 [==============================] - 3s 77ms/step - loss: 0.0011\n",
            "Epoch 88/100\n",
            "38/38 [==============================] - 2s 59ms/step - loss: 0.0013\n",
            "Epoch 89/100\n",
            "38/38 [==============================] - 2s 60ms/step - loss: 0.0012\n",
            "Epoch 90/100\n",
            "38/38 [==============================] - 2s 59ms/step - loss: 0.0011\n",
            "Epoch 91/100\n",
            "38/38 [==============================] - 2s 59ms/step - loss: 0.0011\n",
            "Epoch 92/100\n",
            "38/38 [==============================] - 3s 74ms/step - loss: 0.0011\n",
            "Epoch 93/100\n",
            "38/38 [==============================] - 2s 64ms/step - loss: 0.0012\n",
            "Epoch 94/100\n",
            "38/38 [==============================] - 2s 58ms/step - loss: 0.0011\n",
            "Epoch 95/100\n",
            "38/38 [==============================] - 2s 60ms/step - loss: 0.0011\n",
            "Epoch 96/100\n",
            "38/38 [==============================] - 2s 59ms/step - loss: 0.0011\n",
            "Epoch 97/100\n",
            "38/38 [==============================] - 2s 66ms/step - loss: 0.0011\n",
            "Epoch 98/100\n",
            "38/38 [==============================] - 3s 71ms/step - loss: 0.0011\n",
            "Epoch 99/100\n",
            "38/38 [==============================] - 2s 60ms/step - loss: 9.9350e-04\n",
            "Epoch 100/100\n",
            "38/38 [==============================] - 2s 58ms/step - loss: 9.6711e-04\n"
          ]
        },
        {
          "output_type": "execute_result",
          "data": {
            "text/plain": [
              "<keras.callbacks.History at 0x7f7d4635e7f0>"
            ]
          },
          "metadata": {},
          "execution_count": 27
        }
      ]
    },
    {
      "cell_type": "markdown",
      "source": [
        "## MAke predictions"
      ],
      "metadata": {
        "id": "K1hwYslhq1i2"
      }
    },
    {
      "cell_type": "code",
      "source": [
        "# 10.0\n",
        "test_data.shape   # (20, 1)\n",
        "train_data.shape  # (1258, 1)"
      ],
      "metadata": {
        "colab": {
          "base_uri": "https://localhost:8080/"
        },
        "id": "43VwNvrp6_jx",
        "outputId": "21810133-3abd-4d3f-cbc7-2ad13e13721a"
      },
      "execution_count": 28,
      "outputs": [
        {
          "output_type": "execute_result",
          "data": {
            "text/plain": [
              "(20, 1)"
            ]
          },
          "metadata": {},
          "execution_count": 28
        },
        {
          "output_type": "execute_result",
          "data": {
            "text/plain": [
              "(1258, 1)"
            ]
          },
          "metadata": {},
          "execution_count": 28
        }
      ]
    },
    {
      "cell_type": "code",
      "source": [
        "# 10.1 Combined data:\n",
        "dataset_total=pd.concat([train_data['Open'],test_data['Open']],axis = 0)\n",
        "dataset_total.shape    # (1278,)"
      ],
      "metadata": {
        "colab": {
          "base_uri": "https://localhost:8080/"
        },
        "id": "sdUBqkGm626-",
        "outputId": "21b06038-0b2a-4f18-9a71-a67bb6dc83f4"
      },
      "execution_count": 29,
      "outputs": [
        {
          "output_type": "execute_result",
          "data": {
            "text/plain": [
              "(1278,)"
            ]
          },
          "metadata": {},
          "execution_count": 29
        }
      ]
    },
    {
      "cell_type": "code",
      "source": [
        "# 10.2 Data for test predictions:\n",
        "inputs = dataset_total[len(dataset_total) - len(dataset_test) - 60:].values\n",
        "inputs.shape   # 80"
      ],
      "metadata": {
        "colab": {
          "base_uri": "https://localhost:8080/"
        },
        "id": "tpaStpeh7fkR",
        "outputId": "0fa14d35-1df5-4d46-ea05-f2a5d167667d"
      },
      "execution_count": 30,
      "outputs": [
        {
          "output_type": "execute_result",
          "data": {
            "text/plain": [
              "(80,)"
            ]
          },
          "metadata": {},
          "execution_count": 30
        }
      ]
    },
    {
      "cell_type": "code",
      "source": [
        "# 10.3\n",
        "inputs = inputs.reshape(-1,1)\n",
        "inputs.shape   # (80, 1)"
      ],
      "metadata": {
        "colab": {
          "base_uri": "https://localhost:8080/"
        },
        "id": "fT08QyAq7x6h",
        "outputId": "858f9416-94b5-4feb-f6ac-88ec3271177c"
      },
      "execution_count": 31,
      "outputs": [
        {
          "output_type": "execute_result",
          "data": {
            "text/plain": [
              "(80, 1)"
            ]
          },
          "metadata": {},
          "execution_count": 31
        }
      ]
    },
    {
      "cell_type": "code",
      "source": [
        "# 11.0 Transform inputs:\n",
        "\n",
        "inputs = mm.transform(inputs)\n"
      ],
      "metadata": {
        "colab": {
          "base_uri": "https://localhost:8080/"
        },
        "id": "9XmqoXNV77yi",
        "outputId": "955230b6-d91f-4edc-bc18-9e4ad50fcb9d"
      },
      "execution_count": 32,
      "outputs": [
        {
          "output_type": "stream",
          "name": "stderr",
          "text": [
            "/usr/local/lib/python3.8/dist-packages/sklearn/base.py:450: UserWarning: X does not have valid feature names, but MinMaxScaler was fitted with feature names\n",
            "  warnings.warn(\n"
          ]
        }
      ]
    },
    {
      "cell_type": "code",
      "source": [
        "# 11.1 PRepare from inputs data:\n",
        "X_test = []\n",
        "for i in range(60,80):\n",
        "    X_test.append(inputs[i-60:i,0])\n",
        "\n",
        "len(X_test)    # 20\n",
        "print(\"\\n===========\\n\")\n",
        "X_test[0]\n",
        "print(\"\\n===========\\n\")\n",
        "X_test = np.array(X_test)\n",
        "X_test.shape   # (20, 60)"
      ],
      "metadata": {
        "colab": {
          "base_uri": "https://localhost:8080/"
        },
        "id": "ODcolOmza33J",
        "outputId": "3b2f564e-ffdb-44b8-8aec-32ed828f5b23"
      },
      "execution_count": 33,
      "outputs": [
        {
          "output_type": "execute_result",
          "data": {
            "text/plain": [
              "20"
            ]
          },
          "metadata": {},
          "execution_count": 33
        },
        {
          "output_type": "stream",
          "name": "stdout",
          "text": [
            "\n",
            "===========\n",
            "\n"
          ]
        },
        {
          "output_type": "execute_result",
          "data": {
            "text/plain": [
              "array([0.9299055 , 0.93113327, 0.92750577, 0.94415507, 0.93876032,\n",
              "       0.93403527, 0.93483518, 0.9313937 , 0.94636878, 0.96569685,\n",
              "       0.97510976, 0.95966962, 0.97808617, 1.        , 0.98076494,\n",
              "       0.97083116, 0.98450406, 0.96054394, 0.9371419 , 0.92841729,\n",
              "       0.90804747, 0.8771858 , 0.92153434, 0.93809063, 0.93165414,\n",
              "       0.95254483, 0.88812412, 0.88637547, 0.87032145, 0.88563137,\n",
              "       0.90743359, 0.91571173, 0.89941588, 0.91805566, 0.9089404 ,\n",
              "       0.9024853 , 0.89456061, 0.91600938, 0.9132934 , 0.88979835,\n",
              "       0.86589404, 0.89030062, 0.90335962, 0.89642086, 0.91777662,\n",
              "       0.93176576, 0.94114145, 0.95762334, 0.96413424, 0.96402262,\n",
              "       0.96971501, 0.95077759, 0.96294367, 0.96123223, 0.95475854,\n",
              "       0.95204256, 0.95163331, 0.95725128, 0.93796041, 0.93688146])"
            ]
          },
          "metadata": {},
          "execution_count": 33
        },
        {
          "output_type": "stream",
          "name": "stdout",
          "text": [
            "\n",
            "===========\n",
            "\n"
          ]
        },
        {
          "output_type": "execute_result",
          "data": {
            "text/plain": [
              "(20, 60)"
            ]
          },
          "metadata": {},
          "execution_count": 33
        }
      ]
    },
    {
      "cell_type": "code",
      "source": [
        "# 11.2 Reshape X_test:\n",
        "\n",
        "X_test = np.reshape(X_test, (X_test.shape[0], X_test.shape[1],1))\n",
        "X_test.shape"
      ],
      "metadata": {
        "colab": {
          "base_uri": "https://localhost:8080/"
        },
        "id": "tSy2qxTK8Wms",
        "outputId": "362b7311-b5fe-4837-fc39-593088912cd7"
      },
      "execution_count": 34,
      "outputs": [
        {
          "output_type": "execute_result",
          "data": {
            "text/plain": [
              "(20, 60, 1)"
            ]
          },
          "metadata": {},
          "execution_count": 34
        }
      ]
    },
    {
      "cell_type": "code",
      "source": [
        "# 11.3 MAke predictions\n",
        "\n",
        "pred = model.predict(X_test)\n",
        "\n",
        "# 11.4 Inverse transform\n",
        "pred = mm.inverse_transform(pred)"
      ],
      "metadata": {
        "colab": {
          "base_uri": "https://localhost:8080/"
        },
        "id": "20a0-Pf78SKj",
        "outputId": "adee7872-b878-4765-9d3b-a4fb3a84c6d3"
      },
      "execution_count": 35,
      "outputs": [
        {
          "output_type": "stream",
          "name": "stdout",
          "text": [
            "1/1 [==============================] - 1s 828ms/step\n"
          ]
        }
      ]
    },
    {
      "cell_type": "markdown",
      "source": [
        "## Plotting results"
      ],
      "metadata": {
        "id": "qy7uSZcprrnA"
      }
    },
    {
      "cell_type": "code",
      "source": [
        "# 12.0 Plot \n",
        "real_stock_price = test_data\n",
        "plt.plot(real_stock_price, color='red', label = \"Real Google Stock Price\");\n",
        "plt.plot(pred, color = 'blue', label = \"PRedicted google stock price\") ;\n",
        "plt.title(\"Google stock price prediction\") ;\n",
        "plt.xlabel(\"Time\") ;\n",
        "plt.ylabel(\"Google Stock Price\");\n",
        "plt.show() ;"
      ],
      "metadata": {
        "colab": {
          "base_uri": "https://localhost:8080/",
          "height": 295
        },
        "id": "Rygv4PnL9J42",
        "outputId": "00e9dc2d-1604-4947-ebda-cfe04e3a84f1"
      },
      "execution_count": 36,
      "outputs": [
        {
          "output_type": "display_data",
          "data": {
            "text/plain": [
              "<Figure size 432x288 with 1 Axes>"
            ],
            "image/png": "[encoded data removed]"
          },
          "metadata": {
            "needs_background": "light"
          }
        }
      ]
    },
    {
      "cell_type": "code",
      "source": [
        "################## I am done ##################33"
      ],
      "metadata": {
        "id": "SOfv_Dzd-C3x"
      },
      "execution_count": null,
      "outputs": []
    }
  ]
}