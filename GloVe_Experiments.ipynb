{
  "cells": [
    {
      "cell_type": "markdown",
      "metadata": {
        "id": "view-in-github",
        "colab_type": "text"
      },
      "source": [
        "<a href=\"https://colab.research.google.com/github/harnalashok/deeplearning-sequences/blob/main/GloVe_Experiments.ipynb\" target=\"_parent\"><img src=\"https://colab.research.google.com/assets/colab-badge.svg\" alt=\"Open In Colab\"/></a>"
      ]
    },
    {
      "cell_type": "code",
      "source": [
        "# Last amended: 01 Jan, 2022\n",
        "# Objective: Experimenting with GloVe"
      ],
      "metadata": {
        "id": "1CqTn-fuHWgv"
      },
      "execution_count": null,
      "outputs": []
    },
    {
      "cell_type": "markdown",
      "source": [
        "# A Closer Look at Word Embeddings\n"
      ],
      "metadata": {
        "id": "7NU9dQvyLSey"
      }
    },
    {
      "cell_type": "markdown",
      "source": [
        "To understand theory behind GloVe, see [this link](https://github.com/harnalashok/deeplearning-sequences/blob/main/GloVe%20in%20pictures.ipynb) in my github repo."
      ],
      "metadata": {
        "id": "HODtTtKGLafR"
      }
    },
    {
      "cell_type": "markdown",
      "metadata": {
        "id": "8BBpozZ8nNV-"
      },
      "source": [
        "We have very briefly covered how word embeddings (also known as word vectors) are used in the tutorials. In this appendix we'll have a closer look at these embeddings and find some (hopefully) interesting results.\n",
        "\n",
        "Embeddings transform a one-hot encoded vector (a vector that is 0 in elements except one, which is 1) into a much smaller dimension vector of real numbers. The one-hot encoded vector is also known as a *sparse vector*, whilst the real valued vector is known as a *dense vector*. \n",
        "\n",
        "The key concept in these word embeddings is that words that appear in similar _contexts_ appear nearby in the vector space, i.e. the Euclidean distance between these two word vectors is small. By context here, we mean the surrounding words. For example in the sentences \"I purchased some items at the shop\" and \"I purchased some items at the store\" the words 'shop' and 'store' appear in the same context and thus should be close together in vector space.\n",
        "\n",
        "You may have also heard about *word2vec*. *word2vec* is an algorithm (actually a bunch of algorithms) that calculates word vectors from a corpus. In this appendix we use *GloVe* vectors, *GloVe* being another algorithm to calculate word vectors. If you want to know how *word2vec* works, check out a two part series [here](http://mccormickml.com/2016/04/19/word2vec-tutorial-the-skip-gram-model/) and [here](http://mccormickml.com/2017/01/11/word2vec-tutorial-part-2-negative-sampling/), and if you want to find out more about *GloVe*, check the website [here](https://nlp.stanford.edu/projects/glove/).\n",
        "\n",
        "In PyTorch, we use word vectors with the `nn.Embedding` layer, which takes a _**[sentence length, batch size]**_ tensor and transforms it into a _**[sentence length, batch size, embedding dimensions]**_ tensor.\n",
        "\n",
        "In tutorial 2 onwards, we also used pre-trained word embeddings (specifically the GloVe vectors) provided by TorchText. These embeddings have been trained on a gigantic corpus. We can use these pre-trained vectors within any of our models, with the idea that as they have already learned the context of each word they will give us a better starting point for our word vectors. This usually leads to faster training time and/or improved accuracy.\n",
        "\n",
        "In this appendix we won't be training any models, instead we'll be looking at the word embeddings and finding a few interesting things about them.\n",
        "\n",
        "A lot of the code from the first half of this appendix is taken from [here](https://github.com/spro/practical-pytorch/blob/master/glove-word-vectors/glove-word-vectors.ipynb). For more information about word embeddings, go [here](https://monkeylearn.com/blog/word-embeddings-transform-text-numbers/). \n",
        "\n",
        "## Loading the GloVe vectors\n",
        "\n",
        "First, we'll load the GloVe vectors. The `name` field specifies what the vectors have been trained on, here the `6B` means a corpus of 6 billion words. The `dim` argument specifies the dimensionality of the word vectors. GloVe vectors are available in 50, 100, 200 and 300 dimensions. There is also a `42B` and `840B` glove vectors, however they are only available at 300 dimensions."
      ]
    },
    {
      "cell_type": "code",
      "execution_count": null,
      "metadata": {
        "id": "CDhokMFonNWE"
      },
      "outputs": [],
      "source": [
        "# 1.0 Import libraries\n",
        "import torch\n",
        "import torchtext.vocab\n"
      ]
    },
    {
      "cell_type": "code",
      "source": [
        "# 1.1 Get a 'glove' object\n",
        "glove = torchtext.vocab.GloVe(\n",
        "                              name = '6B',\n",
        "                              dim = 100\n",
        "                              )"
      ],
      "metadata": {
        "id": "IVFBiKXyDiLD"
      },
      "execution_count": null,
      "outputs": []
    },
    {
      "cell_type": "markdown",
      "source": [
        "## Word vectors\n",
        "Examine 'glove' object"
      ],
      "metadata": {
        "id": "cUBwsbIO0I7W"
      }
    },
    {
      "cell_type": "markdown",
      "source": [
        "There are 400,000 unique words in the GloVe vocabulary. These are the most common words found in the corpus the vectors were trained on. **In these set of GloVe vectors, every single word is lower-case only.**\n",
        "\n",
        "`glove.vectors` is the actual tensor containing the values of the embeddings."
      ],
      "metadata": {
        "id": "bwEgsgdHvFuF"
      }
    },
    {
      "cell_type": "code",
      "source": [
        "# 2.0 One attribute of 'glove' object is 'vectors'\n",
        "#      that gives us the word-embedding matrix:\n",
        "glove.vectors.shape  # 4 lakh tokens"
      ],
      "metadata": {
        "colab": {
          "base_uri": "https://localhost:8080/"
        },
        "id": "wE-Xy75MtO18",
        "outputId": "42887382-93ed-4527-e3f4-c8a5a5b34a12"
      },
      "execution_count": null,
      "outputs": [
        {
          "output_type": "execute_result",
          "data": {
            "text/plain": [
              "torch.Size([400000, 100])"
            ]
          },
          "metadata": {},
          "execution_count": 3
        }
      ]
    },
    {
      "cell_type": "code",
      "source": [
        "# 2.1 Get the word-vec of first two words:\n",
        "\n",
        "glove.vectors[:2,:]"
      ],
      "metadata": {
        "id": "S-wvG-wnttRy"
      },
      "execution_count": null,
      "outputs": []
    },
    {
      "cell_type": "markdown",
      "source": [
        "We can see what word is associated with each row of vectors by checking the `itos` (int to string) list. \n",
        "\n",
        "Below implies that row 0 is the vector associated with the word 'the', row 1 for ',' (comma), row 2 for '.' (period), etc."
      ],
      "metadata": {
        "id": "JQ8eg6cQva4n"
      }
    },
    {
      "cell_type": "code",
      "source": [
        "# 2.2 But what are first two words:\n",
        "#     itos: Integer-to-string\n",
        "\n",
        "glove.itos[:2]"
      ],
      "metadata": {
        "id": "yQ82Oyw_t7ht"
      },
      "execution_count": null,
      "outputs": []
    },
    {
      "cell_type": "code",
      "source": [
        "# 2.3 And how many words are there in glove vocab?\n",
        "#     It is also clear from vector shape (above)\n",
        "\n",
        "print(f'There are {len(glove.itos)} words in the vocabulary')"
      ],
      "metadata": {
        "id": "hNcGug1atldf"
      },
      "execution_count": null,
      "outputs": []
    },
    {
      "cell_type": "markdown",
      "source": [
        "## Word index"
      ],
      "metadata": {
        "id": "vv6NePAc03kr"
      }
    },
    {
      "cell_type": "markdown",
      "metadata": {
        "id": "jG_SzgsRnNWI"
      },
      "source": [
        "We can also use the `stoi` (string to int) dictionary, in which we input a word and receive the associated integer/index. If you try get the index of a word that is not in the vocabulary, you receive an error."
      ]
    },
    {
      "cell_type": "code",
      "source": [
        "# 3.0 Dictionary of word:index\n",
        "#     stoi: String-to-index\n",
        "\n",
        "glove.stoi"
      ],
      "metadata": {
        "id": "ixLukrLYzuQC"
      },
      "execution_count": null,
      "outputs": []
    },
    {
      "cell_type": "code",
      "execution_count": null,
      "metadata": {
        "id": "-ZtAGKFVnNWI"
      },
      "outputs": [],
      "source": [
        "# 3.1 And get the word-index for 'the':\n",
        "#     It is the first word in the dictionary:\n",
        "\n",
        "glove.stoi['the']"
      ]
    },
    {
      "cell_type": "markdown",
      "metadata": {
        "id": "669ATb37nNWJ"
      },
      "source": [
        "We can get the vector of a word by first getting the integer associated with it and then indexing into the word embedding tensor with that index."
      ]
    },
    {
      "cell_type": "code",
      "execution_count": null,
      "metadata": {
        "id": "g1CJw-I-nNWK"
      },
      "outputs": [],
      "source": [
        "# 3.2 Get vector for 'the':\n",
        "\n",
        "glove.vectors[glove.stoi['the'],:]"
      ]
    },
    {
      "cell_type": "markdown",
      "metadata": {
        "id": "eebsKb2RnNWK"
      },
      "source": [
        "We'll be doing this a lot, so we'll create a function that takes in word embeddings and a word then returns the associated vector. It'll also throw an error if the word doesn't exist in the vocabulary."
      ]
    },
    {
      "cell_type": "markdown",
      "source": [
        "### Learning 'assert'"
      ],
      "metadata": {
        "id": "MUaUpph90_r6"
      }
    },
    {
      "cell_type": "markdown",
      "source": [
        "Python has built-in *assert* statement to use *assertion condition* in the program. *assert* statement has a *condition* or expression which is supposed to be **always true**. If the condition is false, assert halts the program and gives an *AssertionError*."
      ],
      "metadata": {
        "id": "LRkh7NOb1LG6"
      }
    },
    {
      "cell_type": "code",
      "source": [
        "# 4.0 Does 'it' exists in glove?\n",
        "#     Check the dictionary:\n",
        "#     Syntax: assert <condition>,<error message>\n",
        "\n",
        "assert 'it' in glove.stoi"
      ],
      "metadata": {
        "id": "v4D9zZFkygV1"
      },
      "execution_count": null,
      "outputs": []
    },
    {
      "cell_type": "code",
      "source": [
        "# 4.1 This will give an error:\n",
        "#     Word 'txte' is not in dict:\n",
        "\n",
        "assert 'txte' in glove.stoi"
      ],
      "metadata": {
        "id": "LFGiQlBwyqws"
      },
      "execution_count": null,
      "outputs": []
    },
    {
      "cell_type": "code",
      "source": [
        "# 4.2 You can print your own message, if error:\n",
        "\n",
        "assert 'txte' in glove.itos, f' txte is not in vocab ' "
      ],
      "metadata": {
        "id": "uyO8xMkGzJyZ"
      },
      "execution_count": null,
      "outputs": []
    },
    {
      "cell_type": "markdown",
      "source": [
        "We'll be doing word to vector conversion a lot, so we'll create a function that takes in word embeddings object (*'glove'*) and a *word* then returns the associated vector. It'll also throw an error if the word doesn't exist in the vocabulary."
      ],
      "metadata": {
        "id": "W4iT7YyO3P3m"
      }
    },
    {
      "cell_type": "code",
      "execution_count": null,
      "metadata": {
        "id": "pFZOM_kUnNWK"
      },
      "outputs": [],
      "source": [
        "# 5.0 Define a function to return vector given a word:\n",
        "\n",
        "def get_vector(embeddings, word):\n",
        "    assert word in embeddings.stoi, f'*{word}* is not in the vocab!'\n",
        "    return embeddings.vectors[embeddings.stoi[word], :]"
      ]
    },
    {
      "cell_type": "markdown",
      "metadata": {
        "id": "Rx3K1uAznNWL"
      },
      "source": [
        "As before, we use a word to get the associated vector."
      ]
    },
    {
      "cell_type": "code",
      "execution_count": null,
      "metadata": {
        "id": "FWAusFJQnNWL"
      },
      "outputs": [],
      "source": [
        "# 5.1 This returns a vector\n",
        "get_vector(glove, 'the')"
      ]
    },
    {
      "cell_type": "code",
      "source": [
        "# 5.2 This gives an assertion error:\n",
        "\n",
        "get_vector(glove, 'theee')"
      ],
      "metadata": {
        "id": "WZqrxQeG3woW"
      },
      "execution_count": null,
      "outputs": []
    },
    {
      "cell_type": "markdown",
      "metadata": {
        "id": "vukyxV6xnNWM"
      },
      "source": [
        "## Similar Contexts\n",
        "\n",
        "Now to start looking at the context of different words. \n",
        "\n",
        "If we want to find the words similar to a certain input word, we first find the vector of this input word, then we scan through our vocabulary calculating the distance between the vector of each word and our input word vector. We then sort these from closest to furthest away.\n",
        "\n",
        "The function below returns the closest 10 words to an input word vector:"
      ]
    },
    {
      "cell_type": "markdown",
      "source": [
        "### distance function in pytorch"
      ],
      "metadata": {
        "id": "AXrTZf045rEI"
      }
    },
    {
      "cell_type": "code",
      "source": [
        "# 6.0 Get distance between two vectors using torch.dist():\n",
        "#     Ouput is a tensor\n",
        "\n",
        "torch.dist(\n",
        "            get_vector(glove, 'apple'),  # [0.325, 0.467]\n",
        "            get_vector(glove, 'mango')   # [0.456, 0.774]\n",
        "          )"
      ],
      "metadata": {
        "id": "RcOnPRjq4hst"
      },
      "execution_count": null,
      "outputs": []
    },
    {
      "cell_type": "code",
      "source": [
        "# 6.1 This outputs a scalar value:\n",
        "# Ref: https://pytorch.org/docs/stable/generated/torch.Tensor.item.html\n",
        "\n",
        "torch.dist(\n",
        "            get_vector(glove, 'apple'),\n",
        "            get_vector(glove, 'mango')\n",
        "           ).item()"
      ],
      "metadata": {
        "id": "RurA1-Ft5jSy"
      },
      "execution_count": null,
      "outputs": []
    },
    {
      "cell_type": "code",
      "execution_count": null,
      "metadata": {
        "id": "Plvykks1nNWM"
      },
      "outputs": [],
      "source": [
        "# 6.2\n",
        "def closest_words(embeddings, vector, n = 10):\n",
        "    \n",
        "    # 6.2.1 Given a word, finds its distance from \n",
        "    #       every other word. Get all tuples of (word, distance):\n",
        "\n",
        "    distances = [\n",
        "                  (word, torch.dist(\n",
        "                                     vector,\n",
        "                                     get_vector(embeddings, word)\n",
        "                                     ).item()\n",
        "                  )\n",
        "                 for word in embeddings.itos\n",
        "                ]\n",
        "    \n",
        "    # 6.2.2 Sort by IInd element and return all the tuples\n",
        "    #         Sorting is in ascending order:\n",
        "    \n",
        "    return sorted(distances, key = lambda w: w[1])[:n]"
      ]
    },
    {
      "cell_type": "markdown",
      "metadata": {
        "id": "CcLKzQAtnNWM"
      },
      "source": [
        "Let's try it out with 'korea'. The closest word is the word 'korea' itself (not very interesting), however all of the words are related in some way. Pyongyang is the capital of North Korea, DPRK is the official name of North Korea, etc.\n",
        "\n",
        "Interestingly, we also get 'Japan' and 'China',  implies that Korea, Japan and China are frequently talked about together in similar contexts. This makes sense as they are geographically situated near each other. "
      ]
    },
    {
      "cell_type": "code",
      "execution_count": null,
      "metadata": {
        "id": "6Va60wn1nNWM"
      },
      "outputs": [],
      "source": [
        "# 6.3\n",
        "word_vector = get_vector(glove, 'korea')\n",
        "\n",
        "closest_words(glove, word_vector)"
      ]
    },
    {
      "cell_type": "markdown",
      "metadata": {
        "id": "2lKk9aTGnNWN"
      },
      "source": [
        "Looking at another country, India, we also get nearby countries: Thailand, Malaysia and Sri Lanka (as two separate words). Australia is relatively close to India (geographically), but Thailand and Malaysia are closer. So why is Australia closer to India in vector space? This is most probably due to India and Australia appearing in the context of [cricket](https://en.wikipedia.org/wiki/Cricket) matches together."
      ]
    },
    {
      "cell_type": "code",
      "execution_count": null,
      "metadata": {
        "id": "m392zXTqnNWN"
      },
      "outputs": [],
      "source": [
        "# 6.4\n",
        "word_vector = get_vector(glove, 'india')\n",
        "\n",
        "closest_words(glove, word_vector)"
      ]
    },
    {
      "cell_type": "markdown",
      "metadata": {
        "id": "AbvV5JFHnNWN"
      },
      "source": [
        "We'll also create another function that will nicely print out the tuples returned by our `closest_words` function."
      ]
    },
    {
      "cell_type": "code",
      "execution_count": null,
      "metadata": {
        "id": "uBnUinptnNWO"
      },
      "outputs": [],
      "source": [
        "# 6.5\n",
        "def print_tuples(tuples):\n",
        "    for w, d in tuples:\n",
        "        print(f'({d:02.04f}) {w}') "
      ]
    },
    {
      "cell_type": "markdown",
      "metadata": {
        "id": "_VIzckYEnNWO"
      },
      "source": [
        "A final word to look at, 'sports'. As we can see, the closest words are most of the sports themselves. "
      ]
    },
    {
      "cell_type": "code",
      "execution_count": null,
      "metadata": {
        "id": "cm5So4FUnNWO"
      },
      "outputs": [],
      "source": [
        "# 6.6\n",
        "word_vector = get_vector(glove, 'sports')\n",
        "\n",
        "print_tuples(closest_words(glove, word_vector))"
      ]
    },
    {
      "cell_type": "markdown",
      "metadata": {
        "id": "3kqgczzqnNWO"
      },
      "source": [
        "## Analogies\n",
        "\n",
        "Another property of word embeddings is that they can be operated on just as any standard vector and give interesting results.\n",
        "\n",
        "We'll show an example of this first, and then explain it:"
      ]
    },
    {
      "cell_type": "markdown",
      "source": [
        "![image.png](data:image/png;base64,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)"
      ],
      "metadata": {
        "id": "k_PG0YHjmCX2"
      }
    },
    {
      "cell_type": "code",
      "source": [
        "# 7.0 Vectors for 'king', 'man' and 'woman'\n",
        "king =  get_vector(glove, 'king')\n",
        "man  =  get_vector(glove, 'man')\n",
        "woman = get_vector(glove, 'woman')\n",
        "\n",
        "# 7.1 Perform vector maths:\n",
        "nc = king- man + woman"
      ],
      "metadata": {
        "id": "T14_anyd92LL"
      },
      "execution_count": null,
      "outputs": []
    },
    {
      "cell_type": "code",
      "source": [
        "# 7.2 Word closest to 'nc'\n",
        "cl_words = closest_words(glove,nc,5)\n",
        "\n",
        "# 7.3 Frpm 'woords', \n",
        "#      filter out words already\n",
        "#        in the list ['king','man','woman']\n",
        "\n",
        "[(word, dist) for (word, dist) in cl_words if word not in ['king','man','woman']]"
      ],
      "metadata": {
        "id": "JwfdlFZA-2G0"
      },
      "execution_count": null,
      "outputs": []
    },
    {
      "cell_type": "markdown",
      "source": [
        "![image.png](data:image/png;base64,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)"
      ],
      "metadata": {
        "id": "HvHQgdaxw5mC"
      }
    },
    {
      "cell_type": "code",
      "execution_count": null,
      "metadata": {
        "id": "lPeM5zWknNWP"
      },
      "outputs": [],
      "source": [
        "# 8.0 We now define a formal function:\n",
        "def analogy(embeddings, word1, word2, word3, n=5):\n",
        "    \n",
        "    # 8.0.1 get vectors for each word\n",
        "    word1_vector = get_vector(embeddings, word1)\n",
        "    word2_vector = get_vector(embeddings, word2)\n",
        "    word3_vector = get_vector(embeddings, word3)\n",
        "    \n",
        "    # 8.0.2 calculate analogy vector\n",
        "    analogy_vector = word2_vector - word1_vector + word3_vector\n",
        "    \n",
        "    # 8.0.3 find closest words to analogy vector\n",
        "    candidate_words = closest_words(embeddings, analogy_vector, n+3)\n",
        "    \n",
        "    # 8.0.4 filter out words already in analogy\n",
        "    candidate_words = [(word, dist) for (word, dist) in candidate_words \n",
        "                       if word not in [word1, word2, word3]][:n]\n",
        "    \n",
        "    print(f'{word1} is to {word2} as {word3} is to...')\n",
        "    \n",
        "    return candidate_words"
      ]
    },
    {
      "cell_type": "code",
      "execution_count": null,
      "metadata": {
        "id": "z2DLB5BEnNWP"
      },
      "outputs": [],
      "source": [
        "# 8.1 king - man + woman = Royality(woman)\n",
        "#     Rolyality = king - man\n",
        "print_tuples(analogy(glove, 'man', 'king', 'woman'))"
      ]
    },
    {
      "cell_type": "markdown",
      "metadata": {
        "id": "Y04x8jCrnNWP"
      },
      "source": [
        "This is the canonical example which shows off this property of word embeddings. So why does it work? Why does the vector of 'woman' added to the vector of 'king' minus the vector of 'man' give us 'queen'?\n",
        "\n",
        "If we think about it, the vector calculated from 'king' minus 'man' gives us a \"royalty vector\". This is the vector associated with traveling from a man to his royal counterpart, a king. If we add this \"royality vector\" to 'woman', this should travel to her royal equivalent, which is a queen!\n",
        "\n",
        "We can do this with other analogies too. For example, this gets an \"acting career vector\":"
      ]
    },
    {
      "cell_type": "code",
      "execution_count": null,
      "metadata": {
        "id": "DpzBrSCHnNWP"
      },
      "outputs": [],
      "source": [
        "# 8.2  actor - man + woman = KnowsActing(woman)\n",
        "#      KnowsActing = actor -man\n",
        "\n",
        "print_tuples(analogy(glove, 'man', 'actor', 'woman'))"
      ]
    },
    {
      "cell_type": "markdown",
      "metadata": {
        "id": "d_tUCTkJnNWQ"
      },
      "source": [
        "For a \"baby animal vector\":"
      ]
    },
    {
      "cell_type": "code",
      "execution_count": null,
      "metadata": {
        "id": "CCSpRUHjnNWQ"
      },
      "outputs": [],
      "source": [
        "# 8.3 kitten - cat + dog = child(dog)\n",
        "#     child = kitten - cat\n",
        "\n",
        "print_tuples(analogy(glove, 'cat', 'kitten', 'dog'))"
      ]
    },
    {
      "cell_type": "markdown",
      "metadata": {
        "id": "2gyAseNrnNWQ"
      },
      "source": [
        "A \"capital city vector\":"
      ]
    },
    {
      "cell_type": "code",
      "execution_count": null,
      "metadata": {
        "id": "ZIlHPwe3nNWQ"
      },
      "outputs": [],
      "source": [
        "# 8.4 paris - france + england = capital(england)\n",
        "#     capital = paris - france\n",
        "\n",
        "print_tuples(analogy(glove, 'france', 'paris', 'england'))"
      ]
    },
    {
      "cell_type": "markdown",
      "metadata": {
        "id": "wedojHhjnNWQ"
      },
      "source": [
        "A \"musician's genre vector\":"
      ]
    },
    {
      "cell_type": "code",
      "execution_count": null,
      "metadata": {
        "id": "xVovpcc2nNWQ"
      },
      "outputs": [],
      "source": [
        "# 8.5\n",
        "print_tuples(analogy(glove, 'elvis', 'rock', 'eminem'))"
      ]
    },
    {
      "cell_type": "markdown",
      "metadata": {
        "id": "v4NHaSebnNWR"
      },
      "source": [
        "And an \"ingredient vector\":"
      ]
    },
    {
      "cell_type": "code",
      "execution_count": null,
      "metadata": {
        "id": "GUscAw9ynNWR"
      },
      "outputs": [],
      "source": [
        "# 8.6 barley - beer + wine\n",
        "print_tuples(analogy(glove, 'beer', 'barley', 'wine'))"
      ]
    },
    {
      "cell_type": "code",
      "source": [
        "########## I am done ###########3\n",
        "# All the code below works"
      ],
      "metadata": {
        "id": "0mzU2HfqHN7u"
      },
      "execution_count": null,
      "outputs": []
    },
    {
      "cell_type": "markdown",
      "metadata": {
        "id": "TK-2w2G2nNWR"
      },
      "source": [
        "## Correcting Spelling Mistakes\n",
        "\n",
        "Another interesting property of word embeddings is that they can actually be used to correct spelling mistakes! \n",
        "\n",
        "We'll put their findings into code and briefly explain them, but to read more about this, check out the [original thread](http://forums.fast.ai/t/nlp-any-libraries-dictionaries-out-there-for-fixing-common-spelling-errors/16411) and the associated [write-up](https://blog.usejournal.com/a-simple-spell-checker-built-from-word-vectors-9f28452b6f26).\n",
        "\n",
        "First, we need to load up the much larger vocabulary GloVe vectors, this is due to the spelling mistakes not appearing in the smaller vocabulary. \n",
        "\n",
        "**Note**: these vectors are very large (~2GB), so watch out if you have a limited internet connection."
      ]
    },
    {
      "cell_type": "code",
      "execution_count": null,
      "metadata": {
        "id": "57Z-79uNnNWR"
      },
      "outputs": [],
      "source": [
        "glove = torchtext.vocab.GloVe(name = '840B', dim = 300)"
      ]
    },
    {
      "cell_type": "markdown",
      "metadata": {
        "id": "iK9qMTYenNWS"
      },
      "source": [
        "Checking the vocabulary size of these embeddings, we can see we now have over 2 million unique words in our vocabulary!"
      ]
    },
    {
      "cell_type": "code",
      "execution_count": null,
      "metadata": {
        "id": "l-0UQDrlnNWS"
      },
      "outputs": [],
      "source": [
        "glove.vectors.shape"
      ]
    },
    {
      "cell_type": "markdown",
      "metadata": {
        "id": "7vA6x3-SnNWT"
      },
      "source": [
        "As the vectors were trained with a much larger vocabulary on a larger corpus of text, the words that appear are a little different. Notice how the words 'north', 'south', 'pyongyang' and 'dprk' no longer appear in the most closest words to 'korea'."
      ]
    },
    {
      "cell_type": "code",
      "execution_count": null,
      "metadata": {
        "id": "vrc2HdnBnNWT"
      },
      "outputs": [],
      "source": [
        "word_vector = get_vector(glove, 'korea')\n",
        "\n",
        "print_tuples(closest_words(glove, word_vector))"
      ]
    },
    {
      "cell_type": "markdown",
      "metadata": {
        "id": "_hScmYNJnNWT"
      },
      "source": [
        "Our first step to correcting spelling mistakes is looking at the vector for a misspelling of the word 'reliable'."
      ]
    },
    {
      "cell_type": "code",
      "execution_count": null,
      "metadata": {
        "id": "VdHc0XdVnNWT"
      },
      "outputs": [],
      "source": [
        "word_vector = get_vector(glove, 'relieable')\n",
        "\n",
        "print_tuples(closest_words(glove, word_vector))"
      ]
    },
    {
      "cell_type": "markdown",
      "metadata": {
        "id": "hKqMujX9nNWT"
      },
      "source": [
        "Notice how the correct spelling, \"reliable\", does not appear in the top 10 closest words. Surely the misspellings of a word should appear next to the correct spelling of the word as they appear in the same context, right? \n",
        "\n",
        "The hypothesis is that misspellings of words are all equally shifted away from their correct spelling. This is because articles of text that contain spelling mistakes are usually written in an informal manner where correct spelling doesn't matter as much (such as tweets/blog posts), thus spelling errors will appear together as they appear in context of informal articles.\n",
        "\n",
        "Similar to how we created analogies before, we can create a \"correct spelling\" vector. This time, instead of using a single example to create our vector, we'll use the average of multiple examples. This will hopefully give better accuracy!\n",
        "\n",
        "We first create a vector for the correct spelling, 'reliable', then calculate the difference between the \"reliable vector\" and each of the 8 misspellings of 'reliable'. As we are going to concatenate these 8 misspelling tensors together we need to unsqueeze a \"batch\" dimension to them."
      ]
    },
    {
      "cell_type": "code",
      "execution_count": null,
      "metadata": {
        "id": "cPhF7l7unNWU"
      },
      "outputs": [],
      "source": [
        "reliable_vector = get_vector(glove, 'reliable')\n",
        "\n",
        "reliable_misspellings = ['relieable', 'relyable', 'realible', 'realiable', \n",
        "                         'relable', 'relaible', 'reliabe', 'relaiable']\n",
        "\n",
        "diff_reliable = [(reliable_vector - get_vector(glove, s)).unsqueeze(0) \n",
        "                 for s in reliable_misspellings]"
      ]
    },
    {
      "cell_type": "markdown",
      "metadata": {
        "id": "VjJblXw1nNWU"
      },
      "source": [
        "We take the average of these 8 'difference from reliable' vectors to get our \"misspelling vector\"."
      ]
    },
    {
      "cell_type": "code",
      "execution_count": null,
      "metadata": {
        "id": "Pb-obZ7nnNWU"
      },
      "outputs": [],
      "source": [
        "misspelling_vector = torch.cat(diff_reliable, dim = 0).mean(dim = 0)"
      ]
    },
    {
      "cell_type": "markdown",
      "metadata": {
        "id": "RIIUHdb8nNWU"
      },
      "source": [
        "We can now correct other spelling mistakes using this \"misspelling vector\" by finding the closest words to the sum of the vector of a misspelled word and the \"misspelling vector\".\n",
        "\n",
        "For a misspelling of \"because\":"
      ]
    },
    {
      "cell_type": "code",
      "execution_count": null,
      "metadata": {
        "id": "vqxcEwpHnNWU"
      },
      "outputs": [],
      "source": [
        "word_vector = get_vector(glove, 'becuase')\n",
        "\n",
        "print_tuples(closest_words(glove, word_vector + misspelling_vector))"
      ]
    },
    {
      "cell_type": "markdown",
      "metadata": {
        "id": "1rS6DYxenNWU"
      },
      "source": [
        "For a misspelling of \"definitely\":"
      ]
    },
    {
      "cell_type": "code",
      "execution_count": null,
      "metadata": {
        "id": "YUKuSNcxnNWV"
      },
      "outputs": [],
      "source": [
        "word_vector = get_vector(glove, 'defintiely')\n",
        "\n",
        "print_tuples(closest_words(glove, word_vector + misspelling_vector))"
      ]
    },
    {
      "cell_type": "markdown",
      "metadata": {
        "id": "V8IkL5hOnNWV"
      },
      "source": [
        "For a misspelling of \"consistent\":"
      ]
    },
    {
      "cell_type": "code",
      "execution_count": null,
      "metadata": {
        "id": "pOJ9BrlMnNWV"
      },
      "outputs": [],
      "source": [
        "word_vector = get_vector(glove, 'consistant')\n",
        "\n",
        "print_tuples(closest_words(glove, word_vector + misspelling_vector))"
      ]
    },
    {
      "cell_type": "markdown",
      "metadata": {
        "id": "S3ghN6vgnNWV"
      },
      "source": [
        "For a misspelling of \"package\":"
      ]
    },
    {
      "cell_type": "code",
      "execution_count": null,
      "metadata": {
        "id": "oHD1J4jynNWW"
      },
      "outputs": [],
      "source": [
        "word_vector = get_vector(glove, 'pakage')\n",
        "\n",
        "print_tuples(closest_words(glove, word_vector + misspelling_vector))"
      ]
    },
    {
      "cell_type": "markdown",
      "metadata": {
        "id": "JETSIh7UnNWW"
      },
      "source": [
        "For a more in-depth look at this, check out the [write-up](https://blog.usejournal.com/a-simple-spell-checker-built-from-word-vectors-9f28452b6f26)."
      ]
    }
  ],
  "metadata": {
    "kernelspec": {
      "display_name": "Python 3",
      "language": "python",
      "name": "python3"
    },
    "language_info": {
      "codemirror_mode": {
        "name": "ipython",
        "version": 3
      },
      "file_extension": ".py",
      "mimetype": "text/x-python",
      "name": "python",
      "nbconvert_exporter": "python",
      "pygments_lexer": "ipython3",
      "version": "3.7.0"
    },
    "colab": {
      "name": "GloVe: Experiments.ipynb",
      "provenance": [],
      "collapsed_sections": [],
      "include_colab_link": true
    }
  },
  "nbformat": 4,
  "nbformat_minor": 0
}