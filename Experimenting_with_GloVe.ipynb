{
  "cells": [
    {
      "cell_type": "markdown",
      "metadata": {
        "id": "view-in-github",
        "colab_type": "text"
      },
      "source": [
        "<a href=\"https://colab.research.google.com/github/harnalashok/deeplearning-sequences/blob/main/Experimenting_with_GloVe.ipynb\" target=\"_parent\"><img src=\"https://colab.research.google.com/assets/colab-badge.svg\" alt=\"Open In Colab\"/></a>"
      ]
    },
    {
      "cell_type": "code",
      "source": [
        "# Last amended: 28th Dec, 2021"
      ],
      "metadata": {
        "id": "1CqTn-fuHWgv"
      },
      "execution_count": 57,
      "outputs": []
    },
    {
      "cell_type": "markdown",
      "metadata": {
        "id": "8BBpozZ8nNV-"
      },
      "source": [
        "# A Closer Look at Word Embeddings\n",
        "\n",
        "We have very briefly covered how word embeddings (also known as word vectors) are used in the tutorials. In this appendix we'll have a closer look at these embeddings and find some (hopefully) interesting results.\n",
        "\n",
        "Embeddings transform a one-hot encoded vector (a vector that is 0 in elements except one, which is 1) into a much smaller dimension vector of real numbers. The one-hot encoded vector is also known as a *sparse vector*, whilst the real valued vector is known as a *dense vector*. \n",
        "\n",
        "The key concept in these word embeddings is that words that appear in similar _contexts_ appear nearby in the vector space, i.e. the Euclidean distance between these two word vectors is small. By context here, we mean the surrounding words. For example in the sentences \"I purchased some items at the shop\" and \"I purchased some items at the store\" the words 'shop' and 'store' appear in the same context and thus should be close together in vector space.\n",
        "\n",
        "You may have also heard about *word2vec*. *word2vec* is an algorithm (actually a bunch of algorithms) that calculates word vectors from a corpus. In this appendix we use *GloVe* vectors, *GloVe* being another algorithm to calculate word vectors. If you want to know how *word2vec* works, check out a two part series [here](http://mccormickml.com/2016/04/19/word2vec-tutorial-the-skip-gram-model/) and [here](http://mccormickml.com/2017/01/11/word2vec-tutorial-part-2-negative-sampling/), and if you want to find out more about *GloVe*, check the website [here](https://nlp.stanford.edu/projects/glove/).\n",
        "\n",
        "In PyTorch, we use word vectors with the `nn.Embedding` layer, which takes a _**[sentence length, batch size]**_ tensor and transforms it into a _**[sentence length, batch size, embedding dimensions]**_ tensor.\n",
        "\n",
        "In tutorial 2 onwards, we also used pre-trained word embeddings (specifically the GloVe vectors) provided by TorchText. These embeddings have been trained on a gigantic corpus. We can use these pre-trained vectors within any of our models, with the idea that as they have already learned the context of each word they will give us a better starting point for our word vectors. This usually leads to faster training time and/or improved accuracy.\n",
        "\n",
        "In this appendix we won't be training any models, instead we'll be looking at the word embeddings and finding a few interesting things about them.\n",
        "\n",
        "A lot of the code from the first half of this appendix is taken from [here](https://github.com/spro/practical-pytorch/blob/master/glove-word-vectors/glove-word-vectors.ipynb). For more information about word embeddings, go [here](https://monkeylearn.com/blog/word-embeddings-transform-text-numbers/). \n",
        "\n",
        "## Loading the GloVe vectors\n",
        "\n",
        "First, we'll load the GloVe vectors. The `name` field specifies what the vectors have been trained on, here the `6B` means a corpus of 6 billion words. The `dim` argument specifies the dimensionality of the word vectors. GloVe vectors are available in 50, 100, 200 and 300 dimensions. There is also a `42B` and `840B` glove vectors, however they are only available at 300 dimensions."
      ]
    },
    {
      "cell_type": "code",
      "execution_count": 34,
      "metadata": {
        "id": "CDhokMFonNWE"
      },
      "outputs": [],
      "source": [
        "# 1.0 Import libraries\n",
        "import torch\n",
        "import torchtext.vocab\n"
      ]
    },
    {
      "cell_type": "code",
      "source": [
        "# 1.1 Get a 'glove' object\n",
        "glove = torchtext.vocab.GloVe(name = '6B', dim = 100)"
      ],
      "metadata": {
        "id": "IVFBiKXyDiLD"
      },
      "execution_count": null,
      "outputs": []
    },
    {
      "cell_type": "markdown",
      "source": [
        "## Word vectors\n",
        "Examine 'glove' object"
      ],
      "metadata": {
        "id": "cUBwsbIO0I7W"
      }
    },
    {
      "cell_type": "markdown",
      "source": [
        "There are 400,000 unique words in the GloVe vocabulary. These are the most common words found in the corpus the vectors were trained on. **In these set of GloVe vectors, every single word is lower-case only.**\n",
        "\n",
        "`glove.vectors` is the actual tensor containing the values of the embeddings."
      ],
      "metadata": {
        "id": "bwEgsgdHvFuF"
      }
    },
    {
      "cell_type": "code",
      "source": [
        "# 2.0 One attribute of 'glove' object is 'vectors'\n",
        "#      that gives us the word-embedding matrix:\n",
        "glove.vectors.shape"
      ],
      "metadata": {
        "colab": {
          "base_uri": "https://localhost:8080/"
        },
        "id": "wE-Xy75MtO18",
        "outputId": "8b8624b8-481c-4e80-a46c-1b6817db48c5"
      },
      "execution_count": 8,
      "outputs": [
        {
          "output_type": "execute_result",
          "data": {
            "text/plain": [
              "torch.Size([400000, 100])"
            ]
          },
          "metadata": {},
          "execution_count": 8
        }
      ]
    },
    {
      "cell_type": "code",
      "source": [
        "# 2.1 Get the word-vec of first two words:\n",
        "\n",
        "glove.vectors[:2,:]"
      ],
      "metadata": {
        "id": "S-wvG-wnttRy"
      },
      "execution_count": null,
      "outputs": []
    },
    {
      "cell_type": "markdown",
      "source": [
        "We can see what word is associated with each row of vectors by checking the `itos` (int to string) list. \n",
        "\n",
        "Below implies that row 0 is the vector associated with the word 'the', row 1 for ',' (comma), row 2 for '.' (period), etc."
      ],
      "metadata": {
        "id": "JQ8eg6cQva4n"
      }
    },
    {
      "cell_type": "code",
      "source": [
        "# 2.2 But what are first two words:\n",
        "\n",
        "glove.itos[:2]"
      ],
      "metadata": {
        "colab": {
          "base_uri": "https://localhost:8080/"
        },
        "id": "yQ82Oyw_t7ht",
        "outputId": "33ce0d45-651d-4b8c-80b7-a6a87e79d6a3"
      },
      "execution_count": 10,
      "outputs": [
        {
          "output_type": "execute_result",
          "data": {
            "text/plain": [
              "['the', ',']"
            ]
          },
          "metadata": {},
          "execution_count": 10
        }
      ]
    },
    {
      "cell_type": "code",
      "source": [
        "# 2.3 And how many words are there in glove vocab?\n",
        "\n",
        "print(f'There are {len(glove.itos)} words in the vocabulary')"
      ],
      "metadata": {
        "colab": {
          "base_uri": "https://localhost:8080/"
        },
        "id": "hNcGug1atldf",
        "outputId": "f76126d0-b26d-4f85-884f-ea7cf418fefc"
      },
      "execution_count": 12,
      "outputs": [
        {
          "output_type": "stream",
          "name": "stdout",
          "text": [
            "There are 400000 words in the vocabulary\n"
          ]
        }
      ]
    },
    {
      "cell_type": "markdown",
      "source": [
        "## Word index"
      ],
      "metadata": {
        "id": "vv6NePAc03kr"
      }
    },
    {
      "cell_type": "markdown",
      "metadata": {
        "id": "jG_SzgsRnNWI"
      },
      "source": [
        "We can also use the `stoi` (string to int) dictionary, in which we input a word and receive the associated integer/index. If you try get the index of a word that is not in the vocabulary, you receive an error."
      ]
    },
    {
      "cell_type": "code",
      "source": [
        "# 3.0 Dictionary of word:index\n",
        "glove.stoi"
      ],
      "metadata": {
        "id": "ixLukrLYzuQC"
      },
      "execution_count": null,
      "outputs": []
    },
    {
      "cell_type": "code",
      "execution_count": 28,
      "metadata": {
        "id": "-ZtAGKFVnNWI",
        "outputId": "51a585c0-0654-4ebe-bb61-fb28a7e7da78",
        "colab": {
          "base_uri": "https://localhost:8080/"
        }
      },
      "outputs": [
        {
          "output_type": "execute_result",
          "data": {
            "text/plain": [
              "0"
            ]
          },
          "metadata": {},
          "execution_count": 28
        }
      ],
      "source": [
        "# 3.1 And get the index for 'the'\n",
        "glove.stoi['the']"
      ]
    },
    {
      "cell_type": "markdown",
      "metadata": {
        "id": "669ATb37nNWJ"
      },
      "source": [
        "We can get the vector of a word by first getting the integer associated with it and then indexing into the word embedding tensor with that index."
      ]
    },
    {
      "cell_type": "code",
      "execution_count": null,
      "metadata": {
        "id": "g1CJw-I-nNWK"
      },
      "outputs": [],
      "source": [
        "# 3.2 Get vector for 'the':\n",
        "\n",
        "glove.vectors[glove.stoi['the'],:]"
      ]
    },
    {
      "cell_type": "markdown",
      "metadata": {
        "id": "eebsKb2RnNWK"
      },
      "source": [
        "We'll be doing this a lot, so we'll create a function that takes in word embeddings and a word then returns the associated vector. It'll also throw an error if the word doesn't exist in the vocabulary."
      ]
    },
    {
      "cell_type": "markdown",
      "source": [
        "### Learning 'assert'"
      ],
      "metadata": {
        "id": "MUaUpph90_r6"
      }
    },
    {
      "cell_type": "markdown",
      "source": [
        "Python has built-in *assert* statement to use *assertion condition* in the program. *assert* statement has a *condition* or expression which is supposed to be **always true**. If the condition is false, assert halts the program and gives an *AssertionError*."
      ],
      "metadata": {
        "id": "LRkh7NOb1LG6"
      }
    },
    {
      "cell_type": "code",
      "source": [
        "# 4.0 Does 'it' exists in glove?\n",
        "#     Check the dictionary:\n",
        "#     Syntax: assert <condition>,<error message>\n",
        "\n",
        "assert 'it' in glove.stoi"
      ],
      "metadata": {
        "id": "v4D9zZFkygV1"
      },
      "execution_count": 23,
      "outputs": []
    },
    {
      "cell_type": "code",
      "source": [
        "# 4.1 This will give an error:\n",
        "\n",
        "assert 'txte' in glove.stoi"
      ],
      "metadata": {
        "colab": {
          "base_uri": "https://localhost:8080/",
          "height": 168
        },
        "id": "LFGiQlBwyqws",
        "outputId": "d29cb1f2-4dfe-4470-b5c1-1b31e8dc2c35"
      },
      "execution_count": 24,
      "outputs": [
        {
          "output_type": "error",
          "ename": "AssertionError",
          "evalue": "ignored",
          "traceback": [
            "\u001b[0;31m---------------------------------------------------------------------------\u001b[0m",
            "\u001b[0;31mAssertionError\u001b[0m                            Traceback (most recent call last)",
            "\u001b[0;32m<ipython-input-24-445e65ad4768>\u001b[0m in \u001b[0;36m<module>\u001b[0;34m()\u001b[0m\n\u001b[0;32m----> 1\u001b[0;31m \u001b[0;32massert\u001b[0m \u001b[0;34m'txte'\u001b[0m \u001b[0;32min\u001b[0m \u001b[0mglove\u001b[0m\u001b[0;34m.\u001b[0m\u001b[0mstoi\u001b[0m\u001b[0;34m\u001b[0m\u001b[0;34m\u001b[0m\u001b[0m\n\u001b[0m",
            "\u001b[0;31mAssertionError\u001b[0m: "
          ]
        }
      ]
    },
    {
      "cell_type": "code",
      "source": [
        "# 4.2 You can print your message, if error:\n",
        "\n",
        "assert 'txte' in glove.itos, f' txte is not in vocab ' "
      ],
      "metadata": {
        "colab": {
          "base_uri": "https://localhost:8080/",
          "height": 168
        },
        "id": "uyO8xMkGzJyZ",
        "outputId": "46cb09c7-0a3f-496f-f63e-a1b524edba7d"
      },
      "execution_count": 20,
      "outputs": [
        {
          "output_type": "error",
          "ename": "AssertionError",
          "evalue": "ignored",
          "traceback": [
            "\u001b[0;31m---------------------------------------------------------------------------\u001b[0m",
            "\u001b[0;31mAssertionError\u001b[0m                            Traceback (most recent call last)",
            "\u001b[0;32m<ipython-input-20-7b877878e81a>\u001b[0m in \u001b[0;36m<module>\u001b[0;34m()\u001b[0m\n\u001b[0;32m----> 1\u001b[0;31m \u001b[0;32massert\u001b[0m \u001b[0;34m'txte'\u001b[0m \u001b[0;32min\u001b[0m \u001b[0mglove\u001b[0m\u001b[0;34m.\u001b[0m\u001b[0mitos\u001b[0m\u001b[0;34m,\u001b[0m \u001b[0;34mf' txte is not in vocab '\u001b[0m\u001b[0;34m\u001b[0m\u001b[0;34m\u001b[0m\u001b[0m\n\u001b[0m",
            "\u001b[0;31mAssertionError\u001b[0m:  txte is not in vocab "
          ]
        }
      ]
    },
    {
      "cell_type": "markdown",
      "source": [
        "We'll be doing word to vector conversion a lot, so we'll create a function that takes in word embeddings object (*'glove'*) and a *word* then returns the associated vector. It'll also throw an error if the word doesn't exist in the vocabulary."
      ],
      "metadata": {
        "id": "W4iT7YyO3P3m"
      }
    },
    {
      "cell_type": "code",
      "execution_count": 29,
      "metadata": {
        "id": "pFZOM_kUnNWK"
      },
      "outputs": [],
      "source": [
        "# 5.0\n",
        "def get_vector(embeddings, word):\n",
        "    assert word in embeddings.stoi, f'*{word}* is not in the vocab!'\n",
        "    return embeddings.vectors[embeddings.stoi[word], :]"
      ]
    },
    {
      "cell_type": "markdown",
      "metadata": {
        "id": "Rx3K1uAznNWL"
      },
      "source": [
        "As before, we use a word to get the associated vector."
      ]
    },
    {
      "cell_type": "code",
      "execution_count": null,
      "metadata": {
        "id": "FWAusFJQnNWL"
      },
      "outputs": [],
      "source": [
        "# 5.1 This returns a vector\n",
        "get_vector(glove, 'the')"
      ]
    },
    {
      "cell_type": "code",
      "source": [
        "# 5.2 This gives an assertion error\n",
        "get_vector(glove, 'theee')"
      ],
      "metadata": {
        "id": "WZqrxQeG3woW"
      },
      "execution_count": null,
      "outputs": []
    },
    {
      "cell_type": "markdown",
      "metadata": {
        "id": "vukyxV6xnNWM"
      },
      "source": [
        "## Similar Contexts\n",
        "\n",
        "Now to start looking at the context of different words. \n",
        "\n",
        "If we want to find the words similar to a certain input word, we first find the vector of this input word, then we scan through our vocabulary calculating the distance between the vector of each word and our input word vector. We then sort these from closest to furthest away.\n",
        "\n",
        "The function below returns the closest 10 words to an input word vector:"
      ]
    },
    {
      "cell_type": "markdown",
      "source": [
        "### distance function in pytorch"
      ],
      "metadata": {
        "id": "AXrTZf045rEI"
      }
    },
    {
      "cell_type": "code",
      "source": [
        "# 6.0 Get distance between two vectors using torch.dist():\n",
        "#     Ouput is a tensor\n",
        "\n",
        "torch.dist(get_vector(glove, 'apple'), get_vector(glove, 'mango'))"
      ],
      "metadata": {
        "colab": {
          "base_uri": "https://localhost:8080/"
        },
        "id": "RcOnPRjq4hst",
        "outputId": "9b0d3830-7f32-4a47-af7a-62fd1b2434be"
      },
      "execution_count": 35,
      "outputs": [
        {
          "output_type": "execute_result",
          "data": {
            "text/plain": [
              "tensor(5.2438)"
            ]
          },
          "metadata": {},
          "execution_count": 35
        }
      ]
    },
    {
      "cell_type": "code",
      "source": [
        "# 6.1 This outputs a scalar value:\n",
        "# Ref: https://pytorch.org/docs/stable/generated/torch.Tensor.item.html\n",
        "\n",
        "torch.dist(get_vector(glove, 'apple'), get_vector(glove, 'mango')).item()"
      ],
      "metadata": {
        "colab": {
          "base_uri": "https://localhost:8080/"
        },
        "id": "RurA1-Ft5jSy",
        "outputId": "a45215b6-0e72-40a1-9e4c-c1ace5c46b2c"
      },
      "execution_count": 38,
      "outputs": [
        {
          "output_type": "execute_result",
          "data": {
            "text/plain": [
              "5.243776321411133"
            ]
          },
          "metadata": {},
          "execution_count": 38
        }
      ]
    },
    {
      "cell_type": "code",
      "execution_count": 39,
      "metadata": {
        "id": "Plvykks1nNWM"
      },
      "outputs": [],
      "source": [
        "# 6.2\n",
        "def closest_words(embeddings, vector, n = 10):\n",
        "    \n",
        "    # 6.2.1 Get all tuples of (word, distance)\n",
        "    distances = [(word, torch.dist(vector, get_vector(embeddings, word)).item())\n",
        "                 for word in embeddings.itos]\n",
        "    # 6.2.2 Sort by IInd element and return all the tuples\n",
        "    #         Sorting is in ascending order:\n",
        "    return sorted(distances, key = lambda w: w[1])[:n]"
      ]
    },
    {
      "cell_type": "markdown",
      "metadata": {
        "id": "CcLKzQAtnNWM"
      },
      "source": [
        "Let's try it out with 'korea'. The closest word is the word 'korea' itself (not very interesting), however all of the words are related in some way. Pyongyang is the capital of North Korea, DPRK is the official name of North Korea, etc.\n",
        "\n",
        "Interestingly, we also get 'Japan' and 'China',  implies that Korea, Japan and China are frequently talked about together in similar contexts. This makes sense as they are geographically situated near each other. "
      ]
    },
    {
      "cell_type": "code",
      "execution_count": 40,
      "metadata": {
        "id": "6Va60wn1nNWM",
        "outputId": "82cd8b92-c5ca-44ef-9846-d1d28c30ee94",
        "colab": {
          "base_uri": "https://localhost:8080/"
        }
      },
      "outputs": [
        {
          "output_type": "execute_result",
          "data": {
            "text/plain": [
              "[('korea', 0.0),\n",
              " ('pyongyang', 3.9039554595947266),\n",
              " ('korean', 4.068886756896973),\n",
              " ('dprk', 4.2631049156188965),\n",
              " ('seoul', 4.340494155883789),\n",
              " ('japan', 4.551243782043457),\n",
              " ('koreans', 4.6156086921691895),\n",
              " ('south', 4.65822696685791),\n",
              " ('china', 4.839518070220947),\n",
              " ('north', 4.986356735229492)]"
            ]
          },
          "metadata": {},
          "execution_count": 40
        }
      ],
      "source": [
        "# 6.3\n",
        "word_vector = get_vector(glove, 'korea')\n",
        "\n",
        "closest_words(glove, word_vector)"
      ]
    },
    {
      "cell_type": "markdown",
      "metadata": {
        "id": "2lKk9aTGnNWN"
      },
      "source": [
        "Looking at another country, India, we also get nearby countries: Thailand, Malaysia and Sri Lanka (as two separate words). Australia is relatively close to India (geographically), but Thailand and Malaysia are closer. So why is Australia closer to India in vector space? This is most probably due to India and Australia appearing in the context of [cricket](https://en.wikipedia.org/wiki/Cricket) matches together."
      ]
    },
    {
      "cell_type": "code",
      "execution_count": 41,
      "metadata": {
        "id": "m392zXTqnNWN",
        "outputId": "f4e2fc05-6e73-41e2-fafa-1d78e0c2e8fc",
        "colab": {
          "base_uri": "https://localhost:8080/"
        }
      },
      "outputs": [
        {
          "output_type": "execute_result",
          "data": {
            "text/plain": [
              "[('india', 0.0),\n",
              " ('pakistan', 3.6954822540283203),\n",
              " ('indian', 4.114313125610352),\n",
              " ('delhi', 4.155975818634033),\n",
              " ('bangladesh', 4.261017799377441),\n",
              " ('lanka', 4.435846328735352),\n",
              " ('sri', 4.515717029571533),\n",
              " ('australia', 4.806082725524902),\n",
              " ('thailand', 4.994781494140625),\n",
              " ('malaysia', 5.009334087371826)]"
            ]
          },
          "metadata": {},
          "execution_count": 41
        }
      ],
      "source": [
        "# 6.4\n",
        "word_vector = get_vector(glove, 'india')\n",
        "\n",
        "closest_words(glove, word_vector)"
      ]
    },
    {
      "cell_type": "markdown",
      "metadata": {
        "id": "AbvV5JFHnNWN"
      },
      "source": [
        "We'll also create another function that will nicely print out the tuples returned by our `closest_words` function."
      ]
    },
    {
      "cell_type": "code",
      "execution_count": 42,
      "metadata": {
        "id": "uBnUinptnNWO"
      },
      "outputs": [],
      "source": [
        "# 6.5\n",
        "def print_tuples(tuples):\n",
        "    for w, d in tuples:\n",
        "        print(f'({d:02.04f}) {w}') "
      ]
    },
    {
      "cell_type": "markdown",
      "metadata": {
        "id": "_VIzckYEnNWO"
      },
      "source": [
        "A final word to look at, 'sports'. As we can see, the closest words are most of the sports themselves. "
      ]
    },
    {
      "cell_type": "code",
      "execution_count": 43,
      "metadata": {
        "id": "cm5So4FUnNWO",
        "outputId": "c50c8d69-2ec1-4536-9e5a-6dc2bc944c95",
        "colab": {
          "base_uri": "https://localhost:8080/"
        }
      },
      "outputs": [
        {
          "output_type": "stream",
          "name": "stdout",
          "text": [
            "(0.0000) sports\n",
            "(3.5875) sport\n",
            "(4.4590) soccer\n",
            "(4.6508) basketball\n",
            "(4.6561) baseball\n",
            "(4.8028) sporting\n",
            "(4.8763) football\n",
            "(4.9624) professional\n",
            "(4.9824) entertainment\n",
            "(5.0975) media\n"
          ]
        }
      ],
      "source": [
        "# 6.6\n",
        "word_vector = get_vector(glove, 'sports')\n",
        "\n",
        "print_tuples(closest_words(glove, word_vector))"
      ]
    },
    {
      "cell_type": "markdown",
      "metadata": {
        "id": "3kqgczzqnNWO"
      },
      "source": [
        "## Analogies\n",
        "\n",
        "Another property of word embeddings is that they can be operated on just as any standard vector and give interesting results.\n",
        "\n",
        "We'll show an example of this first, and then explain it:"
      ]
    },
    {
      "cell_type": "code",
      "source": [
        "# 7.0 Vectors for 'king', 'man' and 'woman'\n",
        "king = get_vector(glove, 'king')\n",
        "man  = get_vector(glove, 'man')\n",
        "woman = get_vector(glove, 'woman')\n",
        "\n",
        "# 7.1 Perform vector maths:\n",
        "nc = king- man + woman"
      ],
      "metadata": {
        "id": "T14_anyd92LL"
      },
      "execution_count": 50,
      "outputs": []
    },
    {
      "cell_type": "code",
      "source": [
        "# 7.2 Word closest to 'nc'\n",
        "cl_words = closest_words(glove,nc,5)\n",
        "\n",
        "# 7.3 Frpm 'woords', \n",
        "#      filter out words already\n",
        "#        in the list ['king','man','woman']\n",
        "\n",
        "[(word, dist) for (word, dist) in cl_words if word not in ['king','man','woman']]"
      ],
      "metadata": {
        "colab": {
          "base_uri": "https://localhost:8080/"
        },
        "id": "JwfdlFZA-2G0",
        "outputId": "67cda75b-90ed-4bfd-8506-13e316a6f28b"
      },
      "execution_count": 53,
      "outputs": [
        {
          "output_type": "execute_result",
          "data": {
            "text/plain": [
              "[('queen', 4.08107852935791),\n",
              " ('monarch', 4.642907619476318),\n",
              " ('throne', 4.905500888824463),\n",
              " ('elizabeth', 4.921558380126953)]"
            ]
          },
          "metadata": {},
          "execution_count": 53
        }
      ]
    },
    {
      "cell_type": "code",
      "execution_count": 55,
      "metadata": {
        "id": "lPeM5zWknNWP"
      },
      "outputs": [],
      "source": [
        "# 8.0 We now define a formal function:\n",
        "def analogy(embeddings, word1, word2, word3, n=5):\n",
        "    \n",
        "    # 8.0.1 get vectors for each word\n",
        "    word1_vector = get_vector(embeddings, word1)\n",
        "    word2_vector = get_vector(embeddings, word2)\n",
        "    word3_vector = get_vector(embeddings, word3)\n",
        "    \n",
        "    # 8.0.2 calculate analogy vector\n",
        "    analogy_vector = word2_vector - word1_vector + word3_vector\n",
        "    \n",
        "    # 8.0.3 find closest words to analogy vector\n",
        "    candidate_words = closest_words(embeddings, analogy_vector, n+3)\n",
        "    \n",
        "    # 8.0.4 filter out words already in analogy\n",
        "    candidate_words = [(word, dist) for (word, dist) in candidate_words \n",
        "                       if word not in [word1, word2, word3]][:n]\n",
        "    \n",
        "    print(f'{word1} is to {word2} as {word3} is to...')\n",
        "    \n",
        "    return candidate_words"
      ]
    },
    {
      "cell_type": "code",
      "execution_count": 45,
      "metadata": {
        "id": "z2DLB5BEnNWP",
        "outputId": "a2c930f8-a5ba-4ee0-c823-92871fcee02c",
        "colab": {
          "base_uri": "https://localhost:8080/"
        }
      },
      "outputs": [
        {
          "output_type": "stream",
          "name": "stdout",
          "text": [
            "man is to king as woman is to...\n",
            "(4.0811) queen\n",
            "(4.6429) monarch\n",
            "(4.9055) throne\n",
            "(4.9216) elizabeth\n",
            "(4.9811) prince\n"
          ]
        }
      ],
      "source": [
        "# 8.1 king - man + woman = Royality(woman)\n",
        "#     Rolyality = king - man\n",
        "print_tuples(analogy(glove, 'man', 'king', 'woman'))"
      ]
    },
    {
      "cell_type": "markdown",
      "metadata": {
        "id": "Y04x8jCrnNWP"
      },
      "source": [
        "This is the canonical example which shows off this property of word embeddings. So why does it work? Why does the vector of 'woman' added to the vector of 'king' minus the vector of 'man' give us 'queen'?\n",
        "\n",
        "If we think about it, the vector calculated from 'king' minus 'man' gives us a \"royalty vector\". This is the vector associated with traveling from a man to his royal counterpart, a king. If we add this \"royality vector\" to 'woman', this should travel to her royal equivalent, which is a queen!\n",
        "\n",
        "We can do this with other analogies too. For example, this gets an \"acting career vector\":"
      ]
    },
    {
      "cell_type": "code",
      "execution_count": 46,
      "metadata": {
        "id": "DpzBrSCHnNWP",
        "outputId": "6f0060d4-9030-4e11-d62e-59fe977a8cbf",
        "colab": {
          "base_uri": "https://localhost:8080/"
        }
      },
      "outputs": [
        {
          "output_type": "stream",
          "name": "stdout",
          "text": [
            "man is to actor as woman is to...\n",
            "(2.8133) actress\n",
            "(5.0039) comedian\n",
            "(5.1399) actresses\n",
            "(5.2773) starred\n",
            "(5.3085) screenwriter\n"
          ]
        }
      ],
      "source": [
        "# 8.2  actor - man + woman = KnowsActing(woman)\n",
        "#      KnowsActing = actor -man\n",
        "print_tuples(analogy(glove, 'man', 'actor', 'woman'))"
      ]
    },
    {
      "cell_type": "markdown",
      "metadata": {
        "id": "d_tUCTkJnNWQ"
      },
      "source": [
        "For a \"baby animal vector\":"
      ]
    },
    {
      "cell_type": "code",
      "execution_count": 47,
      "metadata": {
        "id": "CCSpRUHjnNWQ",
        "outputId": "d289312c-52fd-4a35-a7e0-4b0f880d97dd",
        "colab": {
          "base_uri": "https://localhost:8080/"
        }
      },
      "outputs": [
        {
          "output_type": "stream",
          "name": "stdout",
          "text": [
            "cat is to kitten as dog is to...\n",
            "(3.8146) puppy\n",
            "(4.2944) rottweiler\n",
            "(4.5888) puppies\n",
            "(4.6086) pooch\n",
            "(4.6520) pug\n"
          ]
        }
      ],
      "source": [
        "# 8.3 kitten - cat + dog = child(dog)\n",
        "#     child = kitten - cat\n",
        "print_tuples(analogy(glove, 'cat', 'kitten', 'dog'))"
      ]
    },
    {
      "cell_type": "markdown",
      "metadata": {
        "id": "2gyAseNrnNWQ"
      },
      "source": [
        "A \"capital city vector\":"
      ]
    },
    {
      "cell_type": "code",
      "execution_count": 48,
      "metadata": {
        "id": "ZIlHPwe3nNWQ",
        "outputId": "73d686e9-8e60-4426-d06d-0d84cbf47bd5",
        "colab": {
          "base_uri": "https://localhost:8080/"
        }
      },
      "outputs": [
        {
          "output_type": "stream",
          "name": "stdout",
          "text": [
            "france is to paris as england is to...\n",
            "(4.1426) london\n",
            "(4.4938) melbourne\n",
            "(4.7087) sydney\n",
            "(4.7630) perth\n",
            "(4.7952) birmingham\n"
          ]
        }
      ],
      "source": [
        "# 8.4 paris - france + england = capital(england)\n",
        "#     capital = paris - france\n",
        "print_tuples(analogy(glove, 'france', 'paris', 'england'))"
      ]
    },
    {
      "cell_type": "markdown",
      "metadata": {
        "id": "wedojHhjnNWQ"
      },
      "source": [
        "A \"musician's genre vector\":"
      ]
    },
    {
      "cell_type": "code",
      "execution_count": null,
      "metadata": {
        "id": "xVovpcc2nNWQ",
        "outputId": "67f166d0-1a00-4e28-b3be-dd759d482c19"
      },
      "outputs": [
        {
          "name": "stdout",
          "output_type": "stream",
          "text": [
            "elvis is to rock as eminem is to...\n",
            "(5.6597) rap\n",
            "(6.2057) rappers\n",
            "(6.2161) rapper\n",
            "(6.2444) punk\n",
            "(6.2690) hop\n"
          ]
        }
      ],
      "source": [
        "# 8.5\n",
        "print_tuples(analogy(glove, 'elvis', 'rock', 'eminem'))"
      ]
    },
    {
      "cell_type": "markdown",
      "metadata": {
        "id": "v4NHaSebnNWR"
      },
      "source": [
        "And an \"ingredient vector\":"
      ]
    },
    {
      "cell_type": "code",
      "execution_count": null,
      "metadata": {
        "id": "GUscAw9ynNWR",
        "outputId": "ab30b1d3-f864-4c85-fca0-2ed524b50113"
      },
      "outputs": [
        {
          "name": "stdout",
          "output_type": "stream",
          "text": [
            "beer is to barley as wine is to...\n",
            "(5.6021) grape\n",
            "(5.6760) beans\n",
            "(5.8174) grapes\n",
            "(5.9035) lentils\n",
            "(5.9454) figs\n"
          ]
        }
      ],
      "source": [
        "# 8.6 barley - beer + wine\n",
        "print_tuples(analogy(glove, 'beer', 'barley', 'wine'))"
      ]
    },
    {
      "cell_type": "code",
      "source": [
        "########## I am done ###########3\n",
        "# All the code below works"
      ],
      "metadata": {
        "id": "0mzU2HfqHN7u"
      },
      "execution_count": 56,
      "outputs": []
    },
    {
      "cell_type": "markdown",
      "metadata": {
        "id": "TK-2w2G2nNWR"
      },
      "source": [
        "## Correcting Spelling Mistakes\n",
        "\n",
        "Another interesting property of word embeddings is that they can actually be used to correct spelling mistakes! \n",
        "\n",
        "We'll put their findings into code and briefly explain them, but to read more about this, check out the [original thread](http://forums.fast.ai/t/nlp-any-libraries-dictionaries-out-there-for-fixing-common-spelling-errors/16411) and the associated [write-up](https://blog.usejournal.com/a-simple-spell-checker-built-from-word-vectors-9f28452b6f26).\n",
        "\n",
        "First, we need to load up the much larger vocabulary GloVe vectors, this is due to the spelling mistakes not appearing in the smaller vocabulary. \n",
        "\n",
        "**Note**: these vectors are very large (~2GB), so watch out if you have a limited internet connection."
      ]
    },
    {
      "cell_type": "code",
      "execution_count": null,
      "metadata": {
        "id": "57Z-79uNnNWR"
      },
      "outputs": [],
      "source": [
        "glove = torchtext.vocab.GloVe(name = '840B', dim = 300)"
      ]
    },
    {
      "cell_type": "markdown",
      "metadata": {
        "id": "iK9qMTYenNWS"
      },
      "source": [
        "Checking the vocabulary size of these embeddings, we can see we now have over 2 million unique words in our vocabulary!"
      ]
    },
    {
      "cell_type": "code",
      "execution_count": null,
      "metadata": {
        "id": "l-0UQDrlnNWS",
        "outputId": "ae5d6894-feae-4146-bf97-ba6d4cf18e14"
      },
      "outputs": [
        {
          "data": {
            "text/plain": [
              "torch.Size([2196017, 300])"
            ]
          },
          "execution_count": 21,
          "metadata": {},
          "output_type": "execute_result"
        }
      ],
      "source": [
        "glove.vectors.shape"
      ]
    },
    {
      "cell_type": "markdown",
      "metadata": {
        "id": "7vA6x3-SnNWT"
      },
      "source": [
        "As the vectors were trained with a much larger vocabulary on a larger corpus of text, the words that appear are a little different. Notice how the words 'north', 'south', 'pyongyang' and 'dprk' no longer appear in the most closest words to 'korea'."
      ]
    },
    {
      "cell_type": "code",
      "execution_count": null,
      "metadata": {
        "id": "vrc2HdnBnNWT",
        "outputId": "cd1c5556-5c6d-48e9-a382-26cc8695bda7"
      },
      "outputs": [
        {
          "name": "stdout",
          "output_type": "stream",
          "text": [
            "(0.0000) korea\n",
            "(3.9857) taiwan\n",
            "(4.4022) korean\n",
            "(4.9016) asia\n",
            "(4.9593) japan\n",
            "(5.0721) seoul\n",
            "(5.4058) thailand\n",
            "(5.6025) singapore\n",
            "(5.7010) russia\n",
            "(5.7240) hong\n"
          ]
        }
      ],
      "source": [
        "word_vector = get_vector(glove, 'korea')\n",
        "\n",
        "print_tuples(closest_words(glove, word_vector))"
      ]
    },
    {
      "cell_type": "markdown",
      "metadata": {
        "id": "_hScmYNJnNWT"
      },
      "source": [
        "Our first step to correcting spelling mistakes is looking at the vector for a misspelling of the word 'reliable'."
      ]
    },
    {
      "cell_type": "code",
      "execution_count": null,
      "metadata": {
        "id": "VdHc0XdVnNWT",
        "outputId": "ff66a60b-8761-4593-a015-c5e721063214"
      },
      "outputs": [
        {
          "name": "stdout",
          "output_type": "stream",
          "text": [
            "(0.0000) relieable\n",
            "(5.0366) relyable\n",
            "(5.2610) realible\n",
            "(5.4719) realiable\n",
            "(5.5402) relable\n",
            "(5.5917) relaible\n",
            "(5.6412) reliabe\n",
            "(5.8802) relaiable\n",
            "(5.9593) stabel\n",
            "(5.9981) consitant\n"
          ]
        }
      ],
      "source": [
        "word_vector = get_vector(glove, 'relieable')\n",
        "\n",
        "print_tuples(closest_words(glove, word_vector))"
      ]
    },
    {
      "cell_type": "markdown",
      "metadata": {
        "id": "hKqMujX9nNWT"
      },
      "source": [
        "Notice how the correct spelling, \"reliable\", does not appear in the top 10 closest words. Surely the misspellings of a word should appear next to the correct spelling of the word as they appear in the same context, right? \n",
        "\n",
        "The hypothesis is that misspellings of words are all equally shifted away from their correct spelling. This is because articles of text that contain spelling mistakes are usually written in an informal manner where correct spelling doesn't matter as much (such as tweets/blog posts), thus spelling errors will appear together as they appear in context of informal articles.\n",
        "\n",
        "Similar to how we created analogies before, we can create a \"correct spelling\" vector. This time, instead of using a single example to create our vector, we'll use the average of multiple examples. This will hopefully give better accuracy!\n",
        "\n",
        "We first create a vector for the correct spelling, 'reliable', then calculate the difference between the \"reliable vector\" and each of the 8 misspellings of 'reliable'. As we are going to concatenate these 8 misspelling tensors together we need to unsqueeze a \"batch\" dimension to them."
      ]
    },
    {
      "cell_type": "code",
      "execution_count": null,
      "metadata": {
        "id": "cPhF7l7unNWU"
      },
      "outputs": [],
      "source": [
        "reliable_vector = get_vector(glove, 'reliable')\n",
        "\n",
        "reliable_misspellings = ['relieable', 'relyable', 'realible', 'realiable', \n",
        "                         'relable', 'relaible', 'reliabe', 'relaiable']\n",
        "\n",
        "diff_reliable = [(reliable_vector - get_vector(glove, s)).unsqueeze(0) \n",
        "                 for s in reliable_misspellings]"
      ]
    },
    {
      "cell_type": "markdown",
      "metadata": {
        "id": "VjJblXw1nNWU"
      },
      "source": [
        "We take the average of these 8 'difference from reliable' vectors to get our \"misspelling vector\"."
      ]
    },
    {
      "cell_type": "code",
      "execution_count": null,
      "metadata": {
        "id": "Pb-obZ7nnNWU"
      },
      "outputs": [],
      "source": [
        "misspelling_vector = torch.cat(diff_reliable, dim = 0).mean(dim = 0)"
      ]
    },
    {
      "cell_type": "markdown",
      "metadata": {
        "id": "RIIUHdb8nNWU"
      },
      "source": [
        "We can now correct other spelling mistakes using this \"misspelling vector\" by finding the closest words to the sum of the vector of a misspelled word and the \"misspelling vector\".\n",
        "\n",
        "For a misspelling of \"because\":"
      ]
    },
    {
      "cell_type": "code",
      "execution_count": null,
      "metadata": {
        "id": "vqxcEwpHnNWU",
        "outputId": "54760d46-413e-478c-e2e4-f32bf9d11601"
      },
      "outputs": [
        {
          "name": "stdout",
          "output_type": "stream",
          "text": [
            "(6.1090) because\n",
            "(6.4250) even\n",
            "(6.4358) fact\n",
            "(6.4914) sure\n",
            "(6.5094) though\n",
            "(6.5601) obviously\n",
            "(6.5682) reason\n",
            "(6.5856) if\n",
            "(6.6099) but\n",
            "(6.6415) why\n"
          ]
        }
      ],
      "source": [
        "word_vector = get_vector(glove, 'becuase')\n",
        "\n",
        "print_tuples(closest_words(glove, word_vector + misspelling_vector))"
      ]
    },
    {
      "cell_type": "markdown",
      "metadata": {
        "id": "1rS6DYxenNWU"
      },
      "source": [
        "For a misspelling of \"definitely\":"
      ]
    },
    {
      "cell_type": "code",
      "execution_count": null,
      "metadata": {
        "id": "YUKuSNcxnNWV",
        "outputId": "3221fb1b-5be6-4c80-a1bd-2c9e509eff29"
      },
      "outputs": [
        {
          "name": "stdout",
          "output_type": "stream",
          "text": [
            "(5.4070) definitely\n",
            "(5.5643) certainly\n",
            "(5.7192) sure\n",
            "(5.8152) well\n",
            "(5.8588) always\n",
            "(5.8812) also\n",
            "(5.9557) simply\n",
            "(5.9667) consider\n",
            "(5.9821) probably\n",
            "(5.9948) definately\n"
          ]
        }
      ],
      "source": [
        "word_vector = get_vector(glove, 'defintiely')\n",
        "\n",
        "print_tuples(closest_words(glove, word_vector + misspelling_vector))"
      ]
    },
    {
      "cell_type": "markdown",
      "metadata": {
        "id": "V8IkL5hOnNWV"
      },
      "source": [
        "For a misspelling of \"consistent\":"
      ]
    },
    {
      "cell_type": "code",
      "execution_count": null,
      "metadata": {
        "id": "pOJ9BrlMnNWV",
        "outputId": "7439599a-afa5-48bb-bb4c-a3c42a95bd40"
      },
      "outputs": [
        {
          "name": "stdout",
          "output_type": "stream",
          "text": [
            "(5.9641) consistent\n",
            "(6.3674) reliable\n",
            "(7.0195) consistant\n",
            "(7.0299) consistently\n",
            "(7.1605) accurate\n",
            "(7.2737) fairly\n",
            "(7.3037) good\n",
            "(7.3520) reasonable\n",
            "(7.3801) dependable\n",
            "(7.4027) ensure\n"
          ]
        }
      ],
      "source": [
        "word_vector = get_vector(glove, 'consistant')\n",
        "\n",
        "print_tuples(closest_words(glove, word_vector + misspelling_vector))"
      ]
    },
    {
      "cell_type": "markdown",
      "metadata": {
        "id": "S3ghN6vgnNWV"
      },
      "source": [
        "For a misspelling of \"package\":"
      ]
    },
    {
      "cell_type": "code",
      "execution_count": null,
      "metadata": {
        "id": "oHD1J4jynNWW",
        "outputId": "e14818ba-324a-4bc1-9557-60903a8ad27f"
      },
      "outputs": [
        {
          "name": "stdout",
          "output_type": "stream",
          "text": [
            "(6.6117) package\n",
            "(6.9315) packages\n",
            "(7.0195) pakage\n",
            "(7.0911) comes\n",
            "(7.1241) provide\n",
            "(7.1469) offer\n",
            "(7.1861) reliable\n",
            "(7.2431) well\n",
            "(7.2434) choice\n",
            "(7.2453) offering\n"
          ]
        }
      ],
      "source": [
        "word_vector = get_vector(glove, 'pakage')\n",
        "\n",
        "print_tuples(closest_words(glove, word_vector + misspelling_vector))"
      ]
    },
    {
      "cell_type": "markdown",
      "metadata": {
        "id": "JETSIh7UnNWW"
      },
      "source": [
        "For a more in-depth look at this, check out the [write-up](https://blog.usejournal.com/a-simple-spell-checker-built-from-word-vectors-9f28452b6f26)."
      ]
    }
  ],
  "metadata": {
    "kernelspec": {
      "display_name": "Python 3",
      "language": "python",
      "name": "python3"
    },
    "language_info": {
      "codemirror_mode": {
        "name": "ipython",
        "version": 3
      },
      "file_extension": ".py",
      "mimetype": "text/x-python",
      "name": "python",
      "nbconvert_exporter": "python",
      "pygments_lexer": "ipython3",
      "version": "3.7.0"
    },
    "colab": {
      "name": "Experimenting with GloVe.ipynb",
      "provenance": [],
      "collapsed_sections": [],
      "include_colab_link": true
    }
  },
  "nbformat": 4,
  "nbformat_minor": 0
}